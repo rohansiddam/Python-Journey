{
  "nbformat": 4,
  "nbformat_minor": 0,
  "metadata": {
    "colab": {
      "provenance": [],
      "include_colab_link": true
    },
    "kernelspec": {
      "name": "python3",
      "display_name": "Python 3"
    },
    "language_info": {
      "name": "python"
    }
  },
  "cells": [
    {
      "cell_type": "markdown",
      "metadata": {
        "id": "view-in-github",
        "colab_type": "text"
      },
      "source": [
        "<a href=\"https://colab.research.google.com/github/rohansiddam/Python-Journey/blob/main/090%20-%20Lesson%2090%20(Support%20Vector%20Machines%20-%20Regression).ipynb\" target=\"_parent\"><img src=\"https://colab.research.google.com/assets/colab-badge.svg\" alt=\"Open In Colab\"/></a>"
      ]
    },
    {
      "cell_type": "markdown",
      "metadata": {
        "id": "q3pyBW5-NjiW"
      },
      "source": [
        "# Lesson 90: Support Vector Machines - Regression"
      ]
    },
    {
      "cell_type": "markdown",
      "metadata": {
        "id": "nMyG6o7bOtXX"
      },
      "source": [
        "### Teacher-Student Activities\n",
        "\n",
        "In the previous classes, you learnt the undersampling technique to resample the data. In this class, you will create some SVC models with different kernels from the resampled data and observe the difference in the efficacy of the model.\n",
        "\n",
        "Also in this class, you will learn to create a regression model using Support Vector Machine.\n",
        "\n",
        "\n",
        "Let's quickly go through the activities covered in the previous class and start this lesson from **Activity 1: Model Building After Undersampling** section.\n",
        "\n",
        "**Data Description**\n",
        "\n",
        "There are 1559 columns in the data. Each row in the data represents one image that is tagged as `ad.` or `nonad.` in the last column. Here's the description of each column:\n",
        "\n",
        "- **`Unnamed: 0`**: Unique ID of each image\n",
        "- **`0`**: Height of an image\n",
        "- **`1`**: Width of an image\n",
        "- **`2`**: Aspect ratio (ratio of width to the height) of an image\n",
        "- Columns **`3`** to **`1557`**: Pixel values of an image\n",
        "- **`1558`**: Whether the image belongs to an advertisement or not\n",
        "\n",
        "**Dataset credits:** *https://archive.ics.uci.edu/ml/datasets/internet+advertisements*\n",
        "\n",
        "**Citation:**\n",
        "\n",
        "Dua, D., & Graff, C.. (2017). UCI Machine Learning Repository.\n",
        "\n",
        "\n",
        "\n",
        "\n"
      ]
    },
    {
      "cell_type": "markdown",
      "metadata": {
        "id": "iJDraPLEOscc"
      },
      "source": [
        "---"
      ]
    },
    {
      "cell_type": "markdown",
      "metadata": {
        "id": "7r_orH8cQgRL"
      },
      "source": [
        "#### Loading Dataset\n",
        "\n",
        "Import all the required Python modules and load the dataset. Here's the link to the dataset:\n",
        "\n",
        "https://s3-student-datasets-bucket.whjr.online/whitehat-ds-datasets/ad-or-nonad.csv"
      ]
    },
    {
      "cell_type": "markdown",
      "metadata": {
        "id": "gyX8-6BB9XNu"
      },
      "source": []
    },
    {
      "cell_type": "code",
      "metadata": {
        "id": "QukLlDZ7trlw",
        "colab": {
          "base_uri": "https://localhost:8080/"
        },
        "outputId": "b224203e-017a-49c8-8f39-d21672cdba9a"
      },
      "source": [
        "# Import all the required Python modules and load the dataset.\n",
        "import numpy as np\n",
        "import pandas as pd\n",
        "import matplotlib.pyplot as plt\n",
        "import seaborn as sns\n",
        "\n",
        "df = pd.read_csv(\"https://s3-student-datasets-bucket.whjr.online/whitehat-ds-datasets/ad-or-nonad.csv\")\n",
        "\n",
        "# Drop the 'Unnamed: 0' column from the DataFrame.\n",
        "df.drop(columns = \"Unnamed: 0\", inplace = True)\n",
        "\n",
        "# Get information about the dataset.\n",
        "df.info()"
      ],
      "execution_count": null,
      "outputs": [
        {
          "output_type": "stream",
          "name": "stderr",
          "text": [
            "<ipython-input-29-9297c36120f7>:7: DtypeWarning: Columns (4) have mixed types. Specify dtype option on import or set low_memory=False.\n",
            "  df = pd.read_csv(\"https://s3-student-datasets-bucket.whjr.online/whitehat-ds-datasets/ad-or-nonad.csv\")\n"
          ]
        },
        {
          "output_type": "stream",
          "name": "stdout",
          "text": [
            "<class 'pandas.core.frame.DataFrame'>\n",
            "RangeIndex: 3279 entries, 0 to 3278\n",
            "Columns: 1559 entries, 0 to 1558\n",
            "dtypes: int64(1554), object(5)\n",
            "memory usage: 39.0+ MB\n"
          ]
        }
      ]
    },
    {
      "cell_type": "code",
      "metadata": {
        "id": "3jt9JQtQx5ik",
        "colab": {
          "base_uri": "https://localhost:8080/"
        },
        "outputId": "b476f04b-851b-4adb-8fcb-466cace4bcf3"
      },
      "source": [
        "# Rename the columns '0, 1, 2' and '1558' of the DataFrame with their correct names as stated  654 above.\n",
        "df = df.rename(columns = {\"0\": \"height\", \"1\": \"width\", \"2\": \"aspect ratio\", \"1558\": \"target\"})\n",
        "\n",
        "# Calculate the total sum of the missing (or null) values in all the columns in the DataFrame.\n",
        "df.isnull().sum().sum()"
      ],
      "execution_count": null,
      "outputs": [
        {
          "output_type": "execute_result",
          "data": {
            "text/plain": [
              "0"
            ]
          },
          "metadata": {},
          "execution_count": 30
        }
      ]
    },
    {
      "cell_type": "markdown",
      "metadata": {
        "id": "ICwlwePUHlhU"
      },
      "source": [
        "---"
      ]
    },
    {
      "cell_type": "markdown",
      "metadata": {
        "id": "9JKz7YqJF6g3"
      },
      "source": [
        "#### Removing Rows from Pandas DataFrame\n",
        "\n",
        "To **remove** all the rows containing question marks in both `height` and `width` columns:\n",
        "\n",
        "1. Retrieve all the rows containing question marks in both `height` and `width` columns.\n",
        "\n",
        "2. Use the tilde (`~`) symbol to reverse (or conjugate or negate) the conditional statement used to retrieve all the rows containing question marks in both `height` and `width` columns."
      ]
    },
    {
      "cell_type": "code",
      "metadata": {
        "id": "v73gxtdnAdjk",
        "colab": {
          "base_uri": "https://localhost:8080/",
          "height": 423
        },
        "outputId": "cdb65d08-1889-41b2-bd35-cb671522edc9"
      },
      "source": [
        "# Remove all the rows containing question marks in both height and width columns\n",
        "df = df[~((df[\"height\"] == \"   ?\") & (df[\"width\"] == \"   ?\"))]\n",
        "\n",
        "# Remove the above 9 rows containing unwanted values in both 'height' and 'aspect ratio' columns.\n",
        "df = df[df[\"height\"] != \"   ?\"]\n",
        "\n",
        "# Remove the above 7 rows containing unwanted values in both 'height' and 'aspect ratio' columns.\n",
        "df = df[df[\"width\"] != \"   ?\"]\n",
        "\n",
        "# Remove the rows containing unwanted values in the column titled '3'.\n",
        "df = df[df[\"3\"] != \"?\"]\n",
        "\n",
        "# Convert the numeric values reported as the non-numeric values to numeric values in all the columns except in the target column.\n",
        "df[df.columns[:-1]] = df[df.columns[:-1]].apply(pd.to_numeric)\n",
        "df"
      ],
      "execution_count": null,
      "outputs": [
        {
          "output_type": "execute_result",
          "data": {
            "text/plain": [
              "      height  width  aspect ratio  3  4  5  6  7  8  9  ...  1549  1550  1551  \\\n",
              "0        125    125        1.0000  1  0  0  0  0  0  0  ...     0     0     0   \n",
              "1         57    468        8.2105  1  0  0  0  0  0  0  ...     0     0     0   \n",
              "2         33    230        6.9696  1  0  0  0  0  0  0  ...     0     0     0   \n",
              "3         60    468        7.8000  1  0  0  0  0  0  0  ...     0     0     0   \n",
              "4         60    468        7.8000  1  0  0  0  0  0  0  ...     0     0     0   \n",
              "...      ...    ...           ... .. .. .. .. .. .. ..  ...   ...   ...   ...   \n",
              "3273      30     30        1.0000  0  0  0  0  0  0  0  ...     0     0     0   \n",
              "3274     170     94        0.5529  0  0  0  0  0  0  0  ...     0     0     0   \n",
              "3275     101    140        1.3861  1  0  0  0  0  0  0  ...     0     0     0   \n",
              "3276      23    120        5.2173  1  0  0  0  0  0  0  ...     0     0     0   \n",
              "3278      40     40        1.0000  1  0  0  0  0  0  0  ...     0     0     0   \n",
              "\n",
              "      1552  1553  1554  1555  1556  1557  target  \n",
              "0        0     0     0     0     0     0     ad.  \n",
              "1        0     0     0     0     0     0     ad.  \n",
              "2        0     0     0     0     0     0     ad.  \n",
              "3        0     0     0     0     0     0     ad.  \n",
              "4        0     0     0     0     0     0     ad.  \n",
              "...    ...   ...   ...   ...   ...   ...     ...  \n",
              "3273     0     0     0     0     0     0  nonad.  \n",
              "3274     0     0     0     0     0     0  nonad.  \n",
              "3275     0     0     0     0     0     0  nonad.  \n",
              "3276     0     0     0     0     0     0  nonad.  \n",
              "3278     0     0     0     0     0     0  nonad.  \n",
              "\n",
              "[2359 rows x 1559 columns]"
            ],
            "text/html": [
              "\n",
              "  <div id=\"df-2fe96193-6df7-4ad7-9716-7043585dfd98\">\n",
              "    <div class=\"colab-df-container\">\n",
              "      <div>\n",
              "<style scoped>\n",
              "    .dataframe tbody tr th:only-of-type {\n",
              "        vertical-align: middle;\n",
              "    }\n",
              "\n",
              "    .dataframe tbody tr th {\n",
              "        vertical-align: top;\n",
              "    }\n",
              "\n",
              "    .dataframe thead th {\n",
              "        text-align: right;\n",
              "    }\n",
              "</style>\n",
              "<table border=\"1\" class=\"dataframe\">\n",
              "  <thead>\n",
              "    <tr style=\"text-align: right;\">\n",
              "      <th></th>\n",
              "      <th>height</th>\n",
              "      <th>width</th>\n",
              "      <th>aspect ratio</th>\n",
              "      <th>3</th>\n",
              "      <th>4</th>\n",
              "      <th>5</th>\n",
              "      <th>6</th>\n",
              "      <th>7</th>\n",
              "      <th>8</th>\n",
              "      <th>9</th>\n",
              "      <th>...</th>\n",
              "      <th>1549</th>\n",
              "      <th>1550</th>\n",
              "      <th>1551</th>\n",
              "      <th>1552</th>\n",
              "      <th>1553</th>\n",
              "      <th>1554</th>\n",
              "      <th>1555</th>\n",
              "      <th>1556</th>\n",
              "      <th>1557</th>\n",
              "      <th>target</th>\n",
              "    </tr>\n",
              "  </thead>\n",
              "  <tbody>\n",
              "    <tr>\n",
              "      <th>0</th>\n",
              "      <td>125</td>\n",
              "      <td>125</td>\n",
              "      <td>1.0000</td>\n",
              "      <td>1</td>\n",
              "      <td>0</td>\n",
              "      <td>0</td>\n",
              "      <td>0</td>\n",
              "      <td>0</td>\n",
              "      <td>0</td>\n",
              "      <td>0</td>\n",
              "      <td>...</td>\n",
              "      <td>0</td>\n",
              "      <td>0</td>\n",
              "      <td>0</td>\n",
              "      <td>0</td>\n",
              "      <td>0</td>\n",
              "      <td>0</td>\n",
              "      <td>0</td>\n",
              "      <td>0</td>\n",
              "      <td>0</td>\n",
              "      <td>ad.</td>\n",
              "    </tr>\n",
              "    <tr>\n",
              "      <th>1</th>\n",
              "      <td>57</td>\n",
              "      <td>468</td>\n",
              "      <td>8.2105</td>\n",
              "      <td>1</td>\n",
              "      <td>0</td>\n",
              "      <td>0</td>\n",
              "      <td>0</td>\n",
              "      <td>0</td>\n",
              "      <td>0</td>\n",
              "      <td>0</td>\n",
              "      <td>...</td>\n",
              "      <td>0</td>\n",
              "      <td>0</td>\n",
              "      <td>0</td>\n",
              "      <td>0</td>\n",
              "      <td>0</td>\n",
              "      <td>0</td>\n",
              "      <td>0</td>\n",
              "      <td>0</td>\n",
              "      <td>0</td>\n",
              "      <td>ad.</td>\n",
              "    </tr>\n",
              "    <tr>\n",
              "      <th>2</th>\n",
              "      <td>33</td>\n",
              "      <td>230</td>\n",
              "      <td>6.9696</td>\n",
              "      <td>1</td>\n",
              "      <td>0</td>\n",
              "      <td>0</td>\n",
              "      <td>0</td>\n",
              "      <td>0</td>\n",
              "      <td>0</td>\n",
              "      <td>0</td>\n",
              "      <td>...</td>\n",
              "      <td>0</td>\n",
              "      <td>0</td>\n",
              "      <td>0</td>\n",
              "      <td>0</td>\n",
              "      <td>0</td>\n",
              "      <td>0</td>\n",
              "      <td>0</td>\n",
              "      <td>0</td>\n",
              "      <td>0</td>\n",
              "      <td>ad.</td>\n",
              "    </tr>\n",
              "    <tr>\n",
              "      <th>3</th>\n",
              "      <td>60</td>\n",
              "      <td>468</td>\n",
              "      <td>7.8000</td>\n",
              "      <td>1</td>\n",
              "      <td>0</td>\n",
              "      <td>0</td>\n",
              "      <td>0</td>\n",
              "      <td>0</td>\n",
              "      <td>0</td>\n",
              "      <td>0</td>\n",
              "      <td>...</td>\n",
              "      <td>0</td>\n",
              "      <td>0</td>\n",
              "      <td>0</td>\n",
              "      <td>0</td>\n",
              "      <td>0</td>\n",
              "      <td>0</td>\n",
              "      <td>0</td>\n",
              "      <td>0</td>\n",
              "      <td>0</td>\n",
              "      <td>ad.</td>\n",
              "    </tr>\n",
              "    <tr>\n",
              "      <th>4</th>\n",
              "      <td>60</td>\n",
              "      <td>468</td>\n",
              "      <td>7.8000</td>\n",
              "      <td>1</td>\n",
              "      <td>0</td>\n",
              "      <td>0</td>\n",
              "      <td>0</td>\n",
              "      <td>0</td>\n",
              "      <td>0</td>\n",
              "      <td>0</td>\n",
              "      <td>...</td>\n",
              "      <td>0</td>\n",
              "      <td>0</td>\n",
              "      <td>0</td>\n",
              "      <td>0</td>\n",
              "      <td>0</td>\n",
              "      <td>0</td>\n",
              "      <td>0</td>\n",
              "      <td>0</td>\n",
              "      <td>0</td>\n",
              "      <td>ad.</td>\n",
              "    </tr>\n",
              "    <tr>\n",
              "      <th>...</th>\n",
              "      <td>...</td>\n",
              "      <td>...</td>\n",
              "      <td>...</td>\n",
              "      <td>...</td>\n",
              "      <td>...</td>\n",
              "      <td>...</td>\n",
              "      <td>...</td>\n",
              "      <td>...</td>\n",
              "      <td>...</td>\n",
              "      <td>...</td>\n",
              "      <td>...</td>\n",
              "      <td>...</td>\n",
              "      <td>...</td>\n",
              "      <td>...</td>\n",
              "      <td>...</td>\n",
              "      <td>...</td>\n",
              "      <td>...</td>\n",
              "      <td>...</td>\n",
              "      <td>...</td>\n",
              "      <td>...</td>\n",
              "      <td>...</td>\n",
              "    </tr>\n",
              "    <tr>\n",
              "      <th>3273</th>\n",
              "      <td>30</td>\n",
              "      <td>30</td>\n",
              "      <td>1.0000</td>\n",
              "      <td>0</td>\n",
              "      <td>0</td>\n",
              "      <td>0</td>\n",
              "      <td>0</td>\n",
              "      <td>0</td>\n",
              "      <td>0</td>\n",
              "      <td>0</td>\n",
              "      <td>...</td>\n",
              "      <td>0</td>\n",
              "      <td>0</td>\n",
              "      <td>0</td>\n",
              "      <td>0</td>\n",
              "      <td>0</td>\n",
              "      <td>0</td>\n",
              "      <td>0</td>\n",
              "      <td>0</td>\n",
              "      <td>0</td>\n",
              "      <td>nonad.</td>\n",
              "    </tr>\n",
              "    <tr>\n",
              "      <th>3274</th>\n",
              "      <td>170</td>\n",
              "      <td>94</td>\n",
              "      <td>0.5529</td>\n",
              "      <td>0</td>\n",
              "      <td>0</td>\n",
              "      <td>0</td>\n",
              "      <td>0</td>\n",
              "      <td>0</td>\n",
              "      <td>0</td>\n",
              "      <td>0</td>\n",
              "      <td>...</td>\n",
              "      <td>0</td>\n",
              "      <td>0</td>\n",
              "      <td>0</td>\n",
              "      <td>0</td>\n",
              "      <td>0</td>\n",
              "      <td>0</td>\n",
              "      <td>0</td>\n",
              "      <td>0</td>\n",
              "      <td>0</td>\n",
              "      <td>nonad.</td>\n",
              "    </tr>\n",
              "    <tr>\n",
              "      <th>3275</th>\n",
              "      <td>101</td>\n",
              "      <td>140</td>\n",
              "      <td>1.3861</td>\n",
              "      <td>1</td>\n",
              "      <td>0</td>\n",
              "      <td>0</td>\n",
              "      <td>0</td>\n",
              "      <td>0</td>\n",
              "      <td>0</td>\n",
              "      <td>0</td>\n",
              "      <td>...</td>\n",
              "      <td>0</td>\n",
              "      <td>0</td>\n",
              "      <td>0</td>\n",
              "      <td>0</td>\n",
              "      <td>0</td>\n",
              "      <td>0</td>\n",
              "      <td>0</td>\n",
              "      <td>0</td>\n",
              "      <td>0</td>\n",
              "      <td>nonad.</td>\n",
              "    </tr>\n",
              "    <tr>\n",
              "      <th>3276</th>\n",
              "      <td>23</td>\n",
              "      <td>120</td>\n",
              "      <td>5.2173</td>\n",
              "      <td>1</td>\n",
              "      <td>0</td>\n",
              "      <td>0</td>\n",
              "      <td>0</td>\n",
              "      <td>0</td>\n",
              "      <td>0</td>\n",
              "      <td>0</td>\n",
              "      <td>...</td>\n",
              "      <td>0</td>\n",
              "      <td>0</td>\n",
              "      <td>0</td>\n",
              "      <td>0</td>\n",
              "      <td>0</td>\n",
              "      <td>0</td>\n",
              "      <td>0</td>\n",
              "      <td>0</td>\n",
              "      <td>0</td>\n",
              "      <td>nonad.</td>\n",
              "    </tr>\n",
              "    <tr>\n",
              "      <th>3278</th>\n",
              "      <td>40</td>\n",
              "      <td>40</td>\n",
              "      <td>1.0000</td>\n",
              "      <td>1</td>\n",
              "      <td>0</td>\n",
              "      <td>0</td>\n",
              "      <td>0</td>\n",
              "      <td>0</td>\n",
              "      <td>0</td>\n",
              "      <td>0</td>\n",
              "      <td>...</td>\n",
              "      <td>0</td>\n",
              "      <td>0</td>\n",
              "      <td>0</td>\n",
              "      <td>0</td>\n",
              "      <td>0</td>\n",
              "      <td>0</td>\n",
              "      <td>0</td>\n",
              "      <td>0</td>\n",
              "      <td>0</td>\n",
              "      <td>nonad.</td>\n",
              "    </tr>\n",
              "  </tbody>\n",
              "</table>\n",
              "<p>2359 rows × 1559 columns</p>\n",
              "</div>\n",
              "      <button class=\"colab-df-convert\" onclick=\"convertToInteractive('df-2fe96193-6df7-4ad7-9716-7043585dfd98')\"\n",
              "              title=\"Convert this dataframe to an interactive table.\"\n",
              "              style=\"display:none;\">\n",
              "        \n",
              "  <svg xmlns=\"http://www.w3.org/2000/svg\" height=\"24px\"viewBox=\"0 0 24 24\"\n",
              "       width=\"24px\">\n",
              "    <path d=\"M0 0h24v24H0V0z\" fill=\"none\"/>\n",
              "    <path d=\"M18.56 5.44l.94 2.06.94-2.06 2.06-.94-2.06-.94-.94-2.06-.94 2.06-2.06.94zm-11 1L8.5 8.5l.94-2.06 2.06-.94-2.06-.94L8.5 2.5l-.94 2.06-2.06.94zm10 10l.94 2.06.94-2.06 2.06-.94-2.06-.94-.94-2.06-.94 2.06-2.06.94z\"/><path d=\"M17.41 7.96l-1.37-1.37c-.4-.4-.92-.59-1.43-.59-.52 0-1.04.2-1.43.59L10.3 9.45l-7.72 7.72c-.78.78-.78 2.05 0 2.83L4 21.41c.39.39.9.59 1.41.59.51 0 1.02-.2 1.41-.59l7.78-7.78 2.81-2.81c.8-.78.8-2.07 0-2.86zM5.41 20L4 18.59l7.72-7.72 1.47 1.35L5.41 20z\"/>\n",
              "  </svg>\n",
              "      </button>\n",
              "      \n",
              "  <style>\n",
              "    .colab-df-container {\n",
              "      display:flex;\n",
              "      flex-wrap:wrap;\n",
              "      gap: 12px;\n",
              "    }\n",
              "\n",
              "    .colab-df-convert {\n",
              "      background-color: #E8F0FE;\n",
              "      border: none;\n",
              "      border-radius: 50%;\n",
              "      cursor: pointer;\n",
              "      display: none;\n",
              "      fill: #1967D2;\n",
              "      height: 32px;\n",
              "      padding: 0 0 0 0;\n",
              "      width: 32px;\n",
              "    }\n",
              "\n",
              "    .colab-df-convert:hover {\n",
              "      background-color: #E2EBFA;\n",
              "      box-shadow: 0px 1px 2px rgba(60, 64, 67, 0.3), 0px 1px 3px 1px rgba(60, 64, 67, 0.15);\n",
              "      fill: #174EA6;\n",
              "    }\n",
              "\n",
              "    [theme=dark] .colab-df-convert {\n",
              "      background-color: #3B4455;\n",
              "      fill: #D2E3FC;\n",
              "    }\n",
              "\n",
              "    [theme=dark] .colab-df-convert:hover {\n",
              "      background-color: #434B5C;\n",
              "      box-shadow: 0px 1px 3px 1px rgba(0, 0, 0, 0.15);\n",
              "      filter: drop-shadow(0px 1px 2px rgba(0, 0, 0, 0.3));\n",
              "      fill: #FFFFFF;\n",
              "    }\n",
              "  </style>\n",
              "\n",
              "      <script>\n",
              "        const buttonEl =\n",
              "          document.querySelector('#df-2fe96193-6df7-4ad7-9716-7043585dfd98 button.colab-df-convert');\n",
              "        buttonEl.style.display =\n",
              "          google.colab.kernel.accessAllowed ? 'block' : 'none';\n",
              "\n",
              "        async function convertToInteractive(key) {\n",
              "          const element = document.querySelector('#df-2fe96193-6df7-4ad7-9716-7043585dfd98');\n",
              "          const dataTable =\n",
              "            await google.colab.kernel.invokeFunction('convertToInteractive',\n",
              "                                                     [key], {});\n",
              "          if (!dataTable) return;\n",
              "\n",
              "          const docLinkHtml = 'Like what you see? Visit the ' +\n",
              "            '<a target=\"_blank\" href=https://colab.research.google.com/notebooks/data_table.ipynb>data table notebook</a>'\n",
              "            + ' to learn more about interactive tables.';\n",
              "          element.innerHTML = '';\n",
              "          dataTable['output_type'] = 'display_data';\n",
              "          await google.colab.output.renderOutput(dataTable, element);\n",
              "          const docLink = document.createElement('div');\n",
              "          docLink.innerHTML = docLinkHtml;\n",
              "          element.appendChild(docLink);\n",
              "        }\n",
              "      </script>\n",
              "    </div>\n",
              "  </div>\n",
              "  "
            ]
          },
          "metadata": {},
          "execution_count": 31
        }
      ]
    },
    {
      "cell_type": "markdown",
      "metadata": {
        "id": "SlVlsifjVkKw"
      },
      "source": [
        "---"
      ]
    },
    {
      "cell_type": "markdown",
      "metadata": {
        "id": "K5-A3uAqIPV1"
      },
      "source": [
        "#### Mapping Non-Numeric Categorical Values to Numeric\n",
        "\n",
        "The labels or classes in the `target` column are `nonad.` and `ad.` that are non-numeric values. To be able to build a classification model, first, we have to map them to numeric values. For this, you can use the `map()` function of the Pandas module. It takes a Python dictionary as input containing the old values and new values as key-value pairs.\n",
        "\n",
        "**Syntax:** `pandas_series.map({old_value1 : new_value1, old_value2: new_value2, ... old_valueN : new_valueN})`\n",
        "\n",
        "Where,\n",
        "\n",
        "- `pandas_series` is a series that contains the values to be mapped.\n",
        "\n",
        "- `map()` function maps the old values to new values.\n",
        "\n",
        "- `{old_value1 : new_value1, old_value2: new_value2, ... old_valueN : new_valueN}` is a dictionary containing the old values and new values as key-value pairs."
      ]
    },
    {
      "cell_type": "code",
      "metadata": {
        "id": "e_x_Y3Y_In0p",
        "colab": {
          "base_uri": "https://localhost:8080/"
        },
        "outputId": "64f3b858-d02b-4619-e38f-eae8b9288b5e"
      },
      "source": [
        "# Map the 'nonad.' and 'ad.' values to 0 and 1.\n",
        "df[\"target\"] = df[\"target\"].map({\"nonad.\": 0, \"ad.\": 1})\n",
        "\n",
        "# Get the count of the values stored in the target column.\n",
        "df[\"target\"].value_counts()"
      ],
      "execution_count": null,
      "outputs": [
        {
          "output_type": "execute_result",
          "data": {
            "text/plain": [
              "0    1978\n",
              "1     381\n",
              "Name: target, dtype: int64"
            ]
          },
          "metadata": {},
          "execution_count": 32
        }
      ]
    },
    {
      "cell_type": "markdown",
      "metadata": {
        "id": "qIqf6d4op8Oq"
      },
      "source": [
        "---"
      ]
    },
    {
      "cell_type": "markdown",
      "metadata": {
        "id": "gMPniZr_p2Ni"
      },
      "source": [
        "#### Data Visualisation\n",
        "\n",
        "Create a scatter plot between the columns `height` and `weight` of all images to find out whether they follow distinguishing patterns for the advertisement and non-advertisement images:"
      ]
    },
    {
      "cell_type": "code",
      "metadata": {
        "id": "II7L1qKcI1Vh",
        "colab": {
          "base_uri": "https://localhost:8080/",
          "height": 372
        },
        "outputId": "acd588ad-cce2-4484-c774-a4a1bb022897"
      },
      "source": [
        "# Create a scatter plot between the columns height and weight of all images.\n",
        "plt.figure(figsize = (6, 4), dpi = 96)\n",
        "sns.scatterplot(x = \"height\", y = \"width\", data = df, hue = \"target\")\n",
        "plt.show()"
      ],
      "execution_count": null,
      "outputs": [
        {
          "output_type": "display_data",
          "data": {
            "text/plain": [
              "<Figure size 576x384 with 1 Axes>"
            ],
            "image/png": "[encoded data removed]"
          },
          "metadata": {}
        }
      ]
    },
    {
      "cell_type": "markdown",
      "metadata": {
        "id": "FaLl16dhUQUE"
      },
      "source": [
        "From the scatter plot, we can see that for the advertisement images, the width values are usually higher for a particular height. Let's confirm this observation by plotting two different box plots:\n",
        "- For the width of all the advertisement.\n",
        "- For the width of all the non-advertisement images."
      ]
    },
    {
      "cell_type": "code",
      "metadata": {
        "id": "_OgwGCjysIcq",
        "colab": {
          "base_uri": "https://localhost:8080/",
          "height": 234
        },
        "outputId": "0969d47d-dbb4-4689-e8c1-ae58df8cf804"
      },
      "source": [
        "# Create a boxplot to compare the width values for both advertisement and non-advertisement images.\n",
        "plt.figure(figsize = (10, 2), dpi = 100)\n",
        "sns.boxplot(x = \"width\", y = \"target\", data = df, orient = \"h\")\n",
        "plt.yticks(ticks = [0, 1], labels = [\"nonad\", \"ad\"])\n",
        "plt.show()"
      ],
      "execution_count": null,
      "outputs": [
        {
          "output_type": "display_data",
          "data": {
            "text/plain": [
              "<Figure size 1000x200 with 1 Axes>"
            ],
            "image/png": "[encoded data removed]"
          },
          "metadata": {}
        }
      ]
    },
    {
      "cell_type": "markdown",
      "metadata": {
        "id": "rQmMTy4Kj19e"
      },
      "source": [
        "For the advertisement images:\n",
        "\n",
        "- The width values are very spread apart from each other.\n",
        "- Additionally, the median width value is very close to the third quartile value.\n",
        "\n",
        "So the above box plot confirms the clear distinction between the width of advertisement and non-advertisement images. When we build a classification model using SVM, it should be able to detect this distinction.\n",
        "\n",
        "Similarly, let's check the trend for the height and aspect ratio values as well for both the types of images:"
      ]
    },
    {
      "cell_type": "code",
      "metadata": {
        "id": "oKuaUah7j-ma",
        "colab": {
          "base_uri": "https://localhost:8080/",
          "height": 234
        },
        "outputId": "32913c2d-79d8-4c0c-bc38-b0148afb5093"
      },
      "source": [
        "# Create a boxplot to compare the width values for both advertisement and non-advertisement images.\n",
        "plt.figure(figsize = (10, 2), dpi = 100)\n",
        "sns.boxplot(x = \"height\", y = \"target\", data = df, orient = \"h\")\n",
        "plt.yticks(ticks = [0, 1], labels = [\"nonad\", \"ad\"])\n",
        "plt.show()"
      ],
      "execution_count": null,
      "outputs": [
        {
          "output_type": "display_data",
          "data": {
            "text/plain": [
              "<Figure size 1000x200 with 1 Axes>"
            ],
            "image/png": "[encoded data removed]"
          },
          "metadata": {}
        }
      ]
    },
    {
      "cell_type": "markdown",
      "metadata": {
        "id": "zLOsJN_ckDGx"
      },
      "source": [
        "From the above graph, it appears that the first quartile, median, and third quartile height values are coinciding with each other for the advertisement images. Let's calculate these values to verify our observation:"
      ]
    },
    {
      "cell_type": "code",
      "metadata": {
        "id": "Zo0d8JMGkcIV",
        "colab": {
          "base_uri": "https://localhost:8080/"
        },
        "outputId": "7852558b-0d07-4085-c998-4800fad46539"
      },
      "source": [
        "# Calculate 1st, 2nd, and 3rd quartile height values are for the advertisement images.\n",
        "df[df[\"target\"] == 1][\"height\"].describe()"
      ],
      "execution_count": null,
      "outputs": [
        {
          "output_type": "execute_result",
          "data": {
            "text/plain": [
              "count    381.000000\n",
              "mean      67.307087\n",
              "std       39.296011\n",
              "min        2.000000\n",
              "25%       60.000000\n",
              "50%       60.000000\n",
              "75%       60.000000\n",
              "max      477.000000\n",
              "Name: height, dtype: float64"
            ]
          },
          "metadata": {},
          "execution_count": 36
        }
      ]
    },
    {
      "cell_type": "markdown",
      "metadata": {
        "id": "O15DV45alDA3"
      },
      "source": [
        "So our supposition was correct. The three quartile height values for the advertisement images do coincide:\n"
      ]
    },
    {
      "cell_type": "code",
      "metadata": {
        "id": "Qg93GlImtD9f",
        "colab": {
          "base_uri": "https://localhost:8080/",
          "height": 234
        },
        "outputId": "f2cfe2f4-834d-4454-93ab-e9795fc02dd9"
      },
      "source": [
        "# Create a boxplot to compare the aspect ratio values for both advertisement and non-advertisement images.\n",
        "plt.figure(figsize = (10, 2), dpi = 100)\n",
        "sns.boxplot(x = \"aspect ratio\", y = \"target\", data = df, orient = \"h\")\n",
        "plt.yticks(ticks = [0, 1], labels = [\"nonad\", \"ad\"])\n",
        "plt.show()"
      ],
      "execution_count": null,
      "outputs": [
        {
          "output_type": "display_data",
          "data": {
            "text/plain": [
              "<Figure size 1000x200 with 1 Axes>"
            ],
            "image/png": "[encoded data removed]"
          },
          "metadata": {}
        }
      ]
    },
    {
      "cell_type": "markdown",
      "metadata": {
        "id": "zU1OQseyuyre"
      },
      "source": [
        "In this case, too, the aspect ratio values of the advertisement images are generally larger. You can see the median aspect ratio for the `nonad` images is lower than the first quartile aspect ratio for the `ad` images."
      ]
    },
    {
      "cell_type": "markdown",
      "metadata": {
        "id": "PTrsY7USKJhl"
      },
      "source": [
        "---"
      ]
    },
    {
      "cell_type": "markdown",
      "metadata": {
        "id": "jUcmzQ8PJLST"
      },
      "source": [
        "#### Feature Scaling\n",
        "\n",
        "To normalise the values in an array or DataFrame using the standard scaler method, you can:\n",
        "\n",
        "1. Import the `StandardScaler` class from the `sklearn.preprocessing` module.\n",
        "\n",
        "2. Either create an object of the `StandardScaler` class to call the `fit_transform()` function or you can directly call this function on the `StandardScaler()` constructor.\n",
        "   \n",
        "   Inside the `fit_transform()` function, you can provide either both the features and target arrays or only one of the arrays to normalise the values using the standard scaler technique. The syntax is provided below:\n",
        "\n",
        "   **Syntax:** `StandardScaler().fit_transform(feature_dataset)`\n",
        "\n",
        "   The `fit_transform()` function returns a NumPy array of the scaled feature values where the mean of the distribution is `0` and the standard deviation is `1`.\n",
        "\n"
      ]
    },
    {
      "cell_type": "code",
      "metadata": {
        "id": "nwJjuCb-JKmY",
        "colab": {
          "base_uri": "https://localhost:8080/",
          "height": 505
        },
        "outputId": "9b132294-38ce-4524-d8b3-cf576f59f95d"
      },
      "source": [
        "# Normalise the feature column values using the 'StandarScaler' method.\n",
        "# Import the module\n",
        "from sklearn.preprocessing import StandardScaler\n",
        "\n",
        "# Create a DataFrame for the independent features columns\n",
        "features = df[df.columns[:-1]]\n",
        "\n",
        "# Scale the feature DataFrame\n",
        "scaled_features = StandardScaler().fit_transform(features)\n",
        "\n",
        "# Create a Pandas DataFrame for the scaled features having the same column names as the non-scaled features DataFrame.\n",
        "scaled_features_df = pd.DataFrame(data = scaled_features, columns = [df.columns[:-1]])\n",
        "scaled_features_df"
      ],
      "execution_count": null,
      "outputs": [
        {
          "output_type": "execute_result",
          "data": {
            "text/plain": [
              "        height     width aspect ratio         3         4    5         6  \\\n",
              "0     1.113328 -0.235247    -0.481808  0.562500 -0.046087  0.0 -0.079996   \n",
              "1    -0.125976  2.398954     0.710811  0.562500 -0.046087  0.0 -0.079996   \n",
              "2    -0.563378  0.571141     0.505566  0.562500 -0.046087  0.0 -0.079996   \n",
              "3    -0.071301  2.398954     0.642914  0.562500 -0.046087  0.0 -0.079996   \n",
              "4    -0.071301  2.398954     0.642914  0.562500 -0.046087  0.0 -0.079996   \n",
              "...        ...       ...          ...       ...       ...  ...       ...   \n",
              "2354 -0.618053 -0.964837    -0.481808 -1.777778 -0.046087  0.0 -0.079996   \n",
              "2355  1.933456 -0.473324    -0.555759 -1.777778 -0.046087  0.0 -0.079996   \n",
              "2356  0.675927 -0.120049    -0.417947  0.562500 -0.046087  0.0 -0.079996   \n",
              "2357 -0.745628 -0.273647     0.215735  0.562500 -0.046087  0.0 -0.079996   \n",
              "2358 -0.435802 -0.888038    -0.481808  0.562500 -0.046087  0.0 -0.079996   \n",
              "\n",
              "             7         8        9  ...       1548      1549      1550  \\\n",
              "0    -0.068446 -0.068446 -0.12272  ...  -0.041213 -0.061885 -0.035684   \n",
              "1    -0.068446 -0.068446 -0.12272  ...  -0.041213 -0.061885 -0.035684   \n",
              "2    -0.068446 -0.068446 -0.12272  ...  -0.041213 -0.061885 -0.035684   \n",
              "3    -0.068446 -0.068446 -0.12272  ...  -0.041213 -0.061885 -0.035684   \n",
              "4    -0.068446 -0.068446 -0.12272  ...  -0.041213 -0.061885 -0.035684   \n",
              "...        ...       ...      ...  ...        ...       ...       ...   \n",
              "2354 -0.068446 -0.068446 -0.12272  ...  24.264171 -0.061885 -0.035684   \n",
              "2355 -0.068446 -0.068446 -0.12272  ...  -0.041213 -0.061885 -0.035684   \n",
              "2356 -0.068446 -0.068446 -0.12272  ...  -0.041213 -0.061885 -0.035684   \n",
              "2357 -0.068446 -0.068446 -0.12272  ...  -0.041213 -0.061885 -0.035684   \n",
              "2358 -0.068446 -0.068446 -0.12272  ...  -0.041213 -0.061885 -0.035684   \n",
              "\n",
              "          1551      1552     1553      1554     1555      1556     1557  \n",
              "0    -0.046087 -0.050497 -0.09247 -0.119111 -0.12272 -0.099226 -0.02913  \n",
              "1    -0.046087 -0.050497 -0.09247 -0.119111 -0.12272 -0.099226 -0.02913  \n",
              "2    -0.046087 -0.050497 -0.09247 -0.119111 -0.12272 -0.099226 -0.02913  \n",
              "3    -0.046087 -0.050497 -0.09247 -0.119111 -0.12272 -0.099226 -0.02913  \n",
              "4    -0.046087 -0.050497 -0.09247 -0.119111 -0.12272 -0.099226 -0.02913  \n",
              "...        ...       ...      ...       ...      ...       ...      ...  \n",
              "2354 -0.046087 -0.050497 -0.09247 -0.119111 -0.12272 -0.099226 -0.02913  \n",
              "2355 -0.046087 -0.050497 -0.09247 -0.119111 -0.12272 -0.099226 -0.02913  \n",
              "2356 -0.046087 -0.050497 -0.09247 -0.119111 -0.12272 -0.099226 -0.02913  \n",
              "2357 -0.046087 -0.050497 -0.09247 -0.119111 -0.12272 -0.099226 -0.02913  \n",
              "2358 -0.046087 -0.050497 -0.09247 -0.119111 -0.12272 -0.099226 -0.02913  \n",
              "\n",
              "[2359 rows x 1558 columns]"
            ],
            "text/html": [
              "\n",
              "  <div id=\"df-492b813c-b424-440d-bd94-6524d0819c10\">\n",
              "    <div class=\"colab-df-container\">\n",
              "      <div>\n",
              "<style scoped>\n",
              "    .dataframe tbody tr th:only-of-type {\n",
              "        vertical-align: middle;\n",
              "    }\n",
              "\n",
              "    .dataframe tbody tr th {\n",
              "        vertical-align: top;\n",
              "    }\n",
              "\n",
              "    .dataframe thead tr th {\n",
              "        text-align: left;\n",
              "    }\n",
              "</style>\n",
              "<table border=\"1\" class=\"dataframe\">\n",
              "  <thead>\n",
              "    <tr>\n",
              "      <th></th>\n",
              "      <th>height</th>\n",
              "      <th>width</th>\n",
              "      <th>aspect ratio</th>\n",
              "      <th>3</th>\n",
              "      <th>4</th>\n",
              "      <th>5</th>\n",
              "      <th>6</th>\n",
              "      <th>7</th>\n",
              "      <th>8</th>\n",
              "      <th>9</th>\n",
              "      <th>...</th>\n",
              "      <th>1548</th>\n",
              "      <th>1549</th>\n",
              "      <th>1550</th>\n",
              "      <th>1551</th>\n",
              "      <th>1552</th>\n",
              "      <th>1553</th>\n",
              "      <th>1554</th>\n",
              "      <th>1555</th>\n",
              "      <th>1556</th>\n",
              "      <th>1557</th>\n",
              "    </tr>\n",
              "  </thead>\n",
              "  <tbody>\n",
              "    <tr>\n",
              "      <th>0</th>\n",
              "      <td>1.113328</td>\n",
              "      <td>-0.235247</td>\n",
              "      <td>-0.481808</td>\n",
              "      <td>0.562500</td>\n",
              "      <td>-0.046087</td>\n",
              "      <td>0.0</td>\n",
              "      <td>-0.079996</td>\n",
              "      <td>-0.068446</td>\n",
              "      <td>-0.068446</td>\n",
              "      <td>-0.12272</td>\n",
              "      <td>...</td>\n",
              "      <td>-0.041213</td>\n",
              "      <td>-0.061885</td>\n",
              "      <td>-0.035684</td>\n",
              "      <td>-0.046087</td>\n",
              "      <td>-0.050497</td>\n",
              "      <td>-0.09247</td>\n",
              "      <td>-0.119111</td>\n",
              "      <td>-0.12272</td>\n",
              "      <td>-0.099226</td>\n",
              "      <td>-0.02913</td>\n",
              "    </tr>\n",
              "    <tr>\n",
              "      <th>1</th>\n",
              "      <td>-0.125976</td>\n",
              "      <td>2.398954</td>\n",
              "      <td>0.710811</td>\n",
              "      <td>0.562500</td>\n",
              "      <td>-0.046087</td>\n",
              "      <td>0.0</td>\n",
              "      <td>-0.079996</td>\n",
              "      <td>-0.068446</td>\n",
              "      <td>-0.068446</td>\n",
              "      <td>-0.12272</td>\n",
              "      <td>...</td>\n",
              "      <td>-0.041213</td>\n",
              "      <td>-0.061885</td>\n",
              "      <td>-0.035684</td>\n",
              "      <td>-0.046087</td>\n",
              "      <td>-0.050497</td>\n",
              "      <td>-0.09247</td>\n",
              "      <td>-0.119111</td>\n",
              "      <td>-0.12272</td>\n",
              "      <td>-0.099226</td>\n",
              "      <td>-0.02913</td>\n",
              "    </tr>\n",
              "    <tr>\n",
              "      <th>2</th>\n",
              "      <td>-0.563378</td>\n",
              "      <td>0.571141</td>\n",
              "      <td>0.505566</td>\n",
              "      <td>0.562500</td>\n",
              "      <td>-0.046087</td>\n",
              "      <td>0.0</td>\n",
              "      <td>-0.079996</td>\n",
              "      <td>-0.068446</td>\n",
              "      <td>-0.068446</td>\n",
              "      <td>-0.12272</td>\n",
              "      <td>...</td>\n",
              "      <td>-0.041213</td>\n",
              "      <td>-0.061885</td>\n",
              "      <td>-0.035684</td>\n",
              "      <td>-0.046087</td>\n",
              "      <td>-0.050497</td>\n",
              "      <td>-0.09247</td>\n",
              "      <td>-0.119111</td>\n",
              "      <td>-0.12272</td>\n",
              "      <td>-0.099226</td>\n",
              "      <td>-0.02913</td>\n",
              "    </tr>\n",
              "    <tr>\n",
              "      <th>3</th>\n",
              "      <td>-0.071301</td>\n",
              "      <td>2.398954</td>\n",
              "      <td>0.642914</td>\n",
              "      <td>0.562500</td>\n",
              "      <td>-0.046087</td>\n",
              "      <td>0.0</td>\n",
              "      <td>-0.079996</td>\n",
              "      <td>-0.068446</td>\n",
              "      <td>-0.068446</td>\n",
              "      <td>-0.12272</td>\n",
              "      <td>...</td>\n",
              "      <td>-0.041213</td>\n",
              "      <td>-0.061885</td>\n",
              "      <td>-0.035684</td>\n",
              "      <td>-0.046087</td>\n",
              "      <td>-0.050497</td>\n",
              "      <td>-0.09247</td>\n",
              "      <td>-0.119111</td>\n",
              "      <td>-0.12272</td>\n",
              "      <td>-0.099226</td>\n",
              "      <td>-0.02913</td>\n",
              "    </tr>\n",
              "    <tr>\n",
              "      <th>4</th>\n",
              "      <td>-0.071301</td>\n",
              "      <td>2.398954</td>\n",
              "      <td>0.642914</td>\n",
              "      <td>0.562500</td>\n",
              "      <td>-0.046087</td>\n",
              "      <td>0.0</td>\n",
              "      <td>-0.079996</td>\n",
              "      <td>-0.068446</td>\n",
              "      <td>-0.068446</td>\n",
              "      <td>-0.12272</td>\n",
              "      <td>...</td>\n",
              "      <td>-0.041213</td>\n",
              "      <td>-0.061885</td>\n",
              "      <td>-0.035684</td>\n",
              "      <td>-0.046087</td>\n",
              "      <td>-0.050497</td>\n",
              "      <td>-0.09247</td>\n",
              "      <td>-0.119111</td>\n",
              "      <td>-0.12272</td>\n",
              "      <td>-0.099226</td>\n",
              "      <td>-0.02913</td>\n",
              "    </tr>\n",
              "    <tr>\n",
              "      <th>...</th>\n",
              "      <td>...</td>\n",
              "      <td>...</td>\n",
              "      <td>...</td>\n",
              "      <td>...</td>\n",
              "      <td>...</td>\n",
              "      <td>...</td>\n",
              "      <td>...</td>\n",
              "      <td>...</td>\n",
              "      <td>...</td>\n",
              "      <td>...</td>\n",
              "      <td>...</td>\n",
              "      <td>...</td>\n",
              "      <td>...</td>\n",
              "      <td>...</td>\n",
              "      <td>...</td>\n",
              "      <td>...</td>\n",
              "      <td>...</td>\n",
              "      <td>...</td>\n",
              "      <td>...</td>\n",
              "      <td>...</td>\n",
              "      <td>...</td>\n",
              "    </tr>\n",
              "    <tr>\n",
              "      <th>2354</th>\n",
              "      <td>-0.618053</td>\n",
              "      <td>-0.964837</td>\n",
              "      <td>-0.481808</td>\n",
              "      <td>-1.777778</td>\n",
              "      <td>-0.046087</td>\n",
              "      <td>0.0</td>\n",
              "      <td>-0.079996</td>\n",
              "      <td>-0.068446</td>\n",
              "      <td>-0.068446</td>\n",
              "      <td>-0.12272</td>\n",
              "      <td>...</td>\n",
              "      <td>24.264171</td>\n",
              "      <td>-0.061885</td>\n",
              "      <td>-0.035684</td>\n",
              "      <td>-0.046087</td>\n",
              "      <td>-0.050497</td>\n",
              "      <td>-0.09247</td>\n",
              "      <td>-0.119111</td>\n",
              "      <td>-0.12272</td>\n",
              "      <td>-0.099226</td>\n",
              "      <td>-0.02913</td>\n",
              "    </tr>\n",
              "    <tr>\n",
              "      <th>2355</th>\n",
              "      <td>1.933456</td>\n",
              "      <td>-0.473324</td>\n",
              "      <td>-0.555759</td>\n",
              "      <td>-1.777778</td>\n",
              "      <td>-0.046087</td>\n",
              "      <td>0.0</td>\n",
              "      <td>-0.079996</td>\n",
              "      <td>-0.068446</td>\n",
              "      <td>-0.068446</td>\n",
              "      <td>-0.12272</td>\n",
              "      <td>...</td>\n",
              "      <td>-0.041213</td>\n",
              "      <td>-0.061885</td>\n",
              "      <td>-0.035684</td>\n",
              "      <td>-0.046087</td>\n",
              "      <td>-0.050497</td>\n",
              "      <td>-0.09247</td>\n",
              "      <td>-0.119111</td>\n",
              "      <td>-0.12272</td>\n",
              "      <td>-0.099226</td>\n",
              "      <td>-0.02913</td>\n",
              "    </tr>\n",
              "    <tr>\n",
              "      <th>2356</th>\n",
              "      <td>0.675927</td>\n",
              "      <td>-0.120049</td>\n",
              "      <td>-0.417947</td>\n",
              "      <td>0.562500</td>\n",
              "      <td>-0.046087</td>\n",
              "      <td>0.0</td>\n",
              "      <td>-0.079996</td>\n",
              "      <td>-0.068446</td>\n",
              "      <td>-0.068446</td>\n",
              "      <td>-0.12272</td>\n",
              "      <td>...</td>\n",
              "      <td>-0.041213</td>\n",
              "      <td>-0.061885</td>\n",
              "      <td>-0.035684</td>\n",
              "      <td>-0.046087</td>\n",
              "      <td>-0.050497</td>\n",
              "      <td>-0.09247</td>\n",
              "      <td>-0.119111</td>\n",
              "      <td>-0.12272</td>\n",
              "      <td>-0.099226</td>\n",
              "      <td>-0.02913</td>\n",
              "    </tr>\n",
              "    <tr>\n",
              "      <th>2357</th>\n",
              "      <td>-0.745628</td>\n",
              "      <td>-0.273647</td>\n",
              "      <td>0.215735</td>\n",
              "      <td>0.562500</td>\n",
              "      <td>-0.046087</td>\n",
              "      <td>0.0</td>\n",
              "      <td>-0.079996</td>\n",
              "      <td>-0.068446</td>\n",
              "      <td>-0.068446</td>\n",
              "      <td>-0.12272</td>\n",
              "      <td>...</td>\n",
              "      <td>-0.041213</td>\n",
              "      <td>-0.061885</td>\n",
              "      <td>-0.035684</td>\n",
              "      <td>-0.046087</td>\n",
              "      <td>-0.050497</td>\n",
              "      <td>-0.09247</td>\n",
              "      <td>-0.119111</td>\n",
              "      <td>-0.12272</td>\n",
              "      <td>-0.099226</td>\n",
              "      <td>-0.02913</td>\n",
              "    </tr>\n",
              "    <tr>\n",
              "      <th>2358</th>\n",
              "      <td>-0.435802</td>\n",
              "      <td>-0.888038</td>\n",
              "      <td>-0.481808</td>\n",
              "      <td>0.562500</td>\n",
              "      <td>-0.046087</td>\n",
              "      <td>0.0</td>\n",
              "      <td>-0.079996</td>\n",
              "      <td>-0.068446</td>\n",
              "      <td>-0.068446</td>\n",
              "      <td>-0.12272</td>\n",
              "      <td>...</td>\n",
              "      <td>-0.041213</td>\n",
              "      <td>-0.061885</td>\n",
              "      <td>-0.035684</td>\n",
              "      <td>-0.046087</td>\n",
              "      <td>-0.050497</td>\n",
              "      <td>-0.09247</td>\n",
              "      <td>-0.119111</td>\n",
              "      <td>-0.12272</td>\n",
              "      <td>-0.099226</td>\n",
              "      <td>-0.02913</td>\n",
              "    </tr>\n",
              "  </tbody>\n",
              "</table>\n",
              "<p>2359 rows × 1558 columns</p>\n",
              "</div>\n",
              "      <button class=\"colab-df-convert\" onclick=\"convertToInteractive('df-492b813c-b424-440d-bd94-6524d0819c10')\"\n",
              "              title=\"Convert this dataframe to an interactive table.\"\n",
              "              style=\"display:none;\">\n",
              "        \n",
              "  <svg xmlns=\"http://www.w3.org/2000/svg\" height=\"24px\"viewBox=\"0 0 24 24\"\n",
              "       width=\"24px\">\n",
              "    <path d=\"M0 0h24v24H0V0z\" fill=\"none\"/>\n",
              "    <path d=\"M18.56 5.44l.94 2.06.94-2.06 2.06-.94-2.06-.94-.94-2.06-.94 2.06-2.06.94zm-11 1L8.5 8.5l.94-2.06 2.06-.94-2.06-.94L8.5 2.5l-.94 2.06-2.06.94zm10 10l.94 2.06.94-2.06 2.06-.94-2.06-.94-.94-2.06-.94 2.06-2.06.94z\"/><path d=\"M17.41 7.96l-1.37-1.37c-.4-.4-.92-.59-1.43-.59-.52 0-1.04.2-1.43.59L10.3 9.45l-7.72 7.72c-.78.78-.78 2.05 0 2.83L4 21.41c.39.39.9.59 1.41.59.51 0 1.02-.2 1.41-.59l7.78-7.78 2.81-2.81c.8-.78.8-2.07 0-2.86zM5.41 20L4 18.59l7.72-7.72 1.47 1.35L5.41 20z\"/>\n",
              "  </svg>\n",
              "      </button>\n",
              "      \n",
              "  <style>\n",
              "    .colab-df-container {\n",
              "      display:flex;\n",
              "      flex-wrap:wrap;\n",
              "      gap: 12px;\n",
              "    }\n",
              "\n",
              "    .colab-df-convert {\n",
              "      background-color: #E8F0FE;\n",
              "      border: none;\n",
              "      border-radius: 50%;\n",
              "      cursor: pointer;\n",
              "      display: none;\n",
              "      fill: #1967D2;\n",
              "      height: 32px;\n",
              "      padding: 0 0 0 0;\n",
              "      width: 32px;\n",
              "    }\n",
              "\n",
              "    .colab-df-convert:hover {\n",
              "      background-color: #E2EBFA;\n",
              "      box-shadow: 0px 1px 2px rgba(60, 64, 67, 0.3), 0px 1px 3px 1px rgba(60, 64, 67, 0.15);\n",
              "      fill: #174EA6;\n",
              "    }\n",
              "\n",
              "    [theme=dark] .colab-df-convert {\n",
              "      background-color: #3B4455;\n",
              "      fill: #D2E3FC;\n",
              "    }\n",
              "\n",
              "    [theme=dark] .colab-df-convert:hover {\n",
              "      background-color: #434B5C;\n",
              "      box-shadow: 0px 1px 3px 1px rgba(0, 0, 0, 0.15);\n",
              "      filter: drop-shadow(0px 1px 2px rgba(0, 0, 0, 0.3));\n",
              "      fill: #FFFFFF;\n",
              "    }\n",
              "  </style>\n",
              "\n",
              "      <script>\n",
              "        const buttonEl =\n",
              "          document.querySelector('#df-492b813c-b424-440d-bd94-6524d0819c10 button.colab-df-convert');\n",
              "        buttonEl.style.display =\n",
              "          google.colab.kernel.accessAllowed ? 'block' : 'none';\n",
              "\n",
              "        async function convertToInteractive(key) {\n",
              "          const element = document.querySelector('#df-492b813c-b424-440d-bd94-6524d0819c10');\n",
              "          const dataTable =\n",
              "            await google.colab.kernel.invokeFunction('convertToInteractive',\n",
              "                                                     [key], {});\n",
              "          if (!dataTable) return;\n",
              "\n",
              "          const docLinkHtml = 'Like what you see? Visit the ' +\n",
              "            '<a target=\"_blank\" href=https://colab.research.google.com/notebooks/data_table.ipynb>data table notebook</a>'\n",
              "            + ' to learn more about interactive tables.';\n",
              "          element.innerHTML = '';\n",
              "          dataTable['output_type'] = 'display_data';\n",
              "          await google.colab.output.renderOutput(dataTable, element);\n",
              "          const docLink = document.createElement('div');\n",
              "          docLink.innerHTML = docLinkHtml;\n",
              "          element.appendChild(docLink);\n",
              "        }\n",
              "      </script>\n",
              "    </div>\n",
              "  </div>\n",
              "  "
            ]
          },
          "metadata": {},
          "execution_count": 38
        }
      ]
    },
    {
      "cell_type": "markdown",
      "metadata": {
        "id": "sDe1rsn2pinF"
      },
      "source": [
        "The DataFrame `scaled_features_df` create above have the normalised feature values.\n",
        "\n",
        "Let's calculate the sum of the mean and standard deviation values of all the features in `scaled_features_df` DataFrame. They should be 0 and 1558 (because there are 1558 columns in the scaled features DataFrame) respectively:"
      ]
    },
    {
      "cell_type": "code",
      "metadata": {
        "id": "g8talXcOJT0B",
        "colab": {
          "base_uri": "https://localhost:8080/"
        },
        "outputId": "8363aadb-2e83-4e1e-ba81-6017d334e191"
      },
      "source": [
        "# Verify the sum of the mean of the columns in 'scaled_features_df' DataFrame.\n",
        "print(scaled_features_df.mean().sum())\n",
        "print(scaled_features_df.std().sum())"
      ],
      "execution_count": null,
      "outputs": [
        {
          "output_type": "stream",
          "name": "stdout",
          "text": [
            "8.377642228379605e-15\n",
            "1430.3031909288811\n"
          ]
        }
      ]
    },
    {
      "cell_type": "markdown",
      "metadata": {
        "id": "84YLiCc1q6dS"
      },
      "source": [
        "As you can see, the sum of the means is very very close to zero because they are of the order $10^{-14}$.\n",
        "\n",
        "The sum of the standard deviations is less than 1558. This is because their $1558 - 1430 = 128$ columns having all the values as 0. Hence, their standard deviation after standard scaling is also 0.\n",
        "\n",
        "Let's create an SVC model with a linear kernel for classification and train the model with scaled features and the target variable."
      ]
    },
    {
      "cell_type": "markdown",
      "metadata": {
        "id": "d_RAtT4nyFaC"
      },
      "source": [
        "---"
      ]
    },
    {
      "cell_type": "markdown",
      "metadata": {
        "id": "rswsc1EHyGDp"
      },
      "source": [
        "#### Building SVC Model\n",
        "\n",
        "First, build an SVC model without balancing it and once again after balancing it to see any kind of performance improvement:"
      ]
    },
    {
      "cell_type": "code",
      "metadata": {
        "id": "gSeKzTdiJVPS",
        "colab": {
          "base_uri": "https://localhost:8080/"
        },
        "outputId": "0246cc85-88a7-4d36-938f-926c8bcf0fcd"
      },
      "source": [
        "# Create an SVC model linear using the linear kernel.\n",
        "# Import the modules\n",
        "from sklearn.model_selection import train_test_split\n",
        "from sklearn.svm import SVC\n",
        "\n",
        "# Split the training and testing data\n",
        "features_train, features_test, target_train, target_test = train_test_split(scaled_features, df[\"target\"], test_size = 0.3, random_state = 12)\n",
        "\n",
        "# Create and train the SVC linear model.\n",
        "svc_clf_lin = SVC(kernel = \"linear\")\n",
        "svc_clf_lin.fit(features_train, target_train)\n",
        "svc_clf_lin.score(features_train, target_train) # The 'score()' function returns the accuracy score of a model."
      ],
      "execution_count": null,
      "outputs": [
        {
          "output_type": "execute_result",
          "data": {
            "text/plain": [
              "0.9969715324046032"
            ]
          },
          "metadata": {},
          "execution_count": 40
        }
      ]
    },
    {
      "cell_type": "markdown",
      "metadata": {
        "id": "adyfQ5HZswJs"
      },
      "source": [
        "The accuracy score of the model on the training set is about 99.69%.\n",
        "\n",
        "Now that we have built a classification model using support vector machines, let's get the predicted target values for the training set and then compare them with the actual values by creating a confusion matrix:"
      ]
    },
    {
      "cell_type": "code",
      "metadata": {
        "id": "cf2a-DbMJWxj",
        "colab": {
          "base_uri": "https://localhost:8080/",
          "height": 264
        },
        "outputId": "afa82d32-4964-4331-9532-5b83d47b67a1"
      },
      "source": [
        "# Predict the target values for the 'features_train' dataset.\n",
        "# Import the modules\n",
        "from sklearn.metrics import confusion_matrix, classification_report\n",
        "\n",
        "# Make predictions for the training features dataset.\n",
        "target_train_pred = svc_clf_lin.predict(features_train)\n",
        "\n",
        "# Create a confusion matrix DataFrame between the actual and predicted values for the training set.\n",
        "cm_train_df = pd.DataFrame(confusion_matrix(target_train, target_train_pred), index = ['nonad', 'ad'], columns = ['nonad', 'ad'])\n",
        "\n",
        "# Create a heat map to visualise the confusion matrix DataFrame for the training set.\n",
        "plt.figure(figsize = (5, 3), dpi = 90)\n",
        "sns.heatmap(cm_train_df, cmap = \"YlGnBu\", annot = True, fmt = 'g') # The fmt = 'g' parameter represents the numeric values as string values.\n",
        "plt.show()"
      ],
      "execution_count": null,
      "outputs": [
        {
          "output_type": "display_data",
          "data": {
            "text/plain": [
              "<Figure size 450x270 with 2 Axes>"
            ],
            "image/png": "[encoded data removed]"
          },
          "metadata": {}
        }
      ]
    },
    {
      "cell_type": "markdown",
      "metadata": {
        "id": "DSWVw5-RwXYZ"
      },
      "source": [
        "The above heat map shows that,\n",
        "\n",
        "1. For class **`0` (`nonad`)** values:\n",
        "  \n",
        "   i. The number of **correctly** classified (truly predicted) values are 1396\n",
        "\n",
        "   ii. The number of **incorrectly** classified (falsely predicted) values is 1\n",
        "\n",
        "2. For class **`1` (`ad`)** values:\n",
        "  \n",
        "   i. The number of **correctly** classified (truly predicted) values are 250\n",
        "\n",
        "   ii. The number of **incorrectly** classified (falsely predicted) values are 4   \n",
        "\n",
        "The total number of misclassified values are $1 + 4 = 5$\n",
        "\n",
        "Now, let's calculate the recall, precision, and f1-score values to further evaluate the efficacy of the model.\n"
      ]
    },
    {
      "cell_type": "code",
      "metadata": {
        "id": "oM9vC3J3JYdr",
        "colab": {
          "base_uri": "https://localhost:8080/"
        },
        "outputId": "41577e28-56fb-45b0-9199-a7a07a4e59a7"
      },
      "source": [
        "# Calculate the recall, precision, and f1-score values to further evaluate the efficacy of the model.\n",
        "print(classification_report(target_train, target_train_pred))"
      ],
      "execution_count": null,
      "outputs": [
        {
          "output_type": "stream",
          "name": "stdout",
          "text": [
            "              precision    recall  f1-score   support\n",
            "\n",
            "           0       1.00      1.00      1.00      1397\n",
            "           1       1.00      0.98      0.99       254\n",
            "\n",
            "    accuracy                           1.00      1651\n",
            "   macro avg       1.00      0.99      0.99      1651\n",
            "weighted avg       1.00      1.00      1.00      1651\n",
            "\n"
          ]
        }
      ]
    },
    {
      "cell_type": "markdown",
      "metadata": {
        "id": "p4XQ4Cemy7Fo"
      },
      "source": [
        "The f1-scores are excellent for both the classes (or labels). This means the SVC model that we built works extremely well on the training set. Let's see how it performs on the test set.\n",
        "\n",
        "Now, let's repeat the above steps on the `features_test` dataset for the created model:"
      ]
    },
    {
      "cell_type": "code",
      "metadata": {
        "id": "yPFdNyj_JZ_n",
        "colab": {
          "base_uri": "https://localhost:8080/",
          "height": 264
        },
        "outputId": "b80040c9-bd7d-445a-c7b9-a159ce4d06a0"
      },
      "source": [
        "# Predict the classes of the 'features_test' dataset.\n",
        "# Make predictions for the testing dataset.\n",
        "target_test_pred = svc_clf_lin.predict(features_test)\n",
        "\n",
        "# Create a confusion matrix DataFrame between the actual and predicted values for the test set.\n",
        "cm_test_df = pd.DataFrame(confusion_matrix(target_test, target_test_pred), index = ['nonad', 'ad'], columns = ['nonad', 'ad'])\n",
        "\n",
        "# Create a heat map to visualise the confusion matrix DataFrame for the test set.\n",
        "plt.figure(figsize = (5, 3), dpi = 90)\n",
        "sns.heatmap(cm_test_df, cmap = \"YlGnBu\", annot = True, fmt = 'g')\n",
        "plt.show()"
      ],
      "execution_count": null,
      "outputs": [
        {
          "output_type": "display_data",
          "data": {
            "text/plain": [
              "<Figure size 450x270 with 2 Axes>"
            ],
            "image/png": "[encoded data removed]"
          },
          "metadata": {}
        }
      ]
    },
    {
      "cell_type": "markdown",
      "metadata": {
        "id": "wMCMpKBYzfDW"
      },
      "source": [
        "The total number of misclassified values for the test set are $15 + 23 = 38$ which is greater than the number of misclassified values for the training set. This means that the SVC model that we built doesn't work equally well on the test set.\n",
        "\n",
        "\n",
        "Nevertheless, let's calculate the recall, precision, and f1-score values to further evaluate the efficacy of the model."
      ]
    },
    {
      "cell_type": "code",
      "metadata": {
        "id": "VRZBkre4Jb52",
        "colab": {
          "base_uri": "https://localhost:8080/"
        },
        "outputId": "635354c5-5fff-4475-e3f8-3d346c374581"
      },
      "source": [
        "# Calculate the recall, precision, and f1-score values to further evaluate the efficacy of the model on the test set.\n",
        "print(classification_report(target_test, target_test_pred))"
      ],
      "execution_count": null,
      "outputs": [
        {
          "output_type": "stream",
          "name": "stdout",
          "text": [
            "              precision    recall  f1-score   support\n",
            "\n",
            "           0       0.96      0.97      0.97       581\n",
            "           1       0.87      0.82      0.85       127\n",
            "\n",
            "    accuracy                           0.95       708\n",
            "   macro avg       0.92      0.90      0.91       708\n",
            "weighted avg       0.95      0.95      0.95       708\n",
            "\n"
          ]
        }
      ]
    },
    {
      "cell_type": "markdown",
      "metadata": {
        "id": "6-cPqi7e6tx_"
      },
      "source": [
        "The f1-score for the `ad` values is 0.85 which is slightly lower. The reason for this could be that the number of `ad` samples in the dataset is much lower than `nonad` samples. This is a case of a huge imbalance in the dataset. Let's try to balance the dataset and build an SVC model again."
      ]
    },
    {
      "cell_type": "markdown",
      "metadata": {
        "id": "CBZWPUmwlKDQ"
      },
      "source": [
        "---"
      ]
    },
    {
      "cell_type": "markdown",
      "metadata": {
        "id": "kbw51NemlKo2"
      },
      "source": [
        "#### Resampling - Undersampling\n",
        "\n",
        "The support vector machine algorithm is very sensitive to numbers i.e.\n",
        "\n",
        "- It doesn't perform well if feature and target variables contain large values.\n",
        "\n",
        "- It takes a lot of time to train a model on a training set as compared to other classification algorithms. And if a dataset is too large, it is even slower.\n",
        "\n",
        "Thus, if you are using an SVM model for classification on an imbalanced dataset, then first, reduce the number of the majority class samples using the undersampling technique.\n",
        "\n",
        "To do undersampling:\n",
        "\n",
        "1. Import the `RandomUnderSampler` class from the `imblearn.under_sampling` module.\n",
        "\n",
        "2. Create an object of the `RandomUnderSampler` class. Inside its constructor pass:\n",
        "   \n",
        "   - `ratio = 'not minority'` parameter so that only the majority class samples are reduced.\n",
        "\n",
        "   - `random_state = 42` parameter to ensure that the same samples are created every time you run the code. The value of the `random_state` parameter has to just some integer. It may or may not be 42.\n",
        "\n",
        "3. Call the `fit_sample()` function on the object of the `RandomUnderSampler` class to complete the resampling process. The `fit_sample()` function takes both feature and target arrays and returns corresponding resampled NumPy arrays.\n",
        "\n",
        "\n"
      ]
    },
    {
      "cell_type": "code",
      "metadata": {
        "id": "mtZtA-w3LDs1",
        "colab": {
          "base_uri": "https://localhost:8080/"
        },
        "outputId": "6deead5d-595e-491d-991a-1094ba7a6cb2"
      },
      "source": [
        "# Reduce the number of majority class samples so that both the majority and minority classes have an equal number of records.\n",
        "from imblearn.under_sampling import RandomUnderSampler\n",
        "\n",
        "rus = RandomUnderSampler(sampling_strategy = 'not minority', random_state = 42)\n",
        "features_rus, target_rus = rus.fit_resample(scaled_features, df[\"target\"])\n",
        "\n",
        "# Print the object type of the values returned by the 'fit_sample()' function.\n",
        "print(type(features_rus))\n",
        "print(type(target_rus))"
      ],
      "execution_count": null,
      "outputs": [
        {
          "output_type": "stream",
          "name": "stdout",
          "text": [
            "<class 'numpy.ndarray'>\n",
            "<class 'pandas.core.series.Series'>\n"
          ]
        }
      ]
    },
    {
      "cell_type": "markdown",
      "metadata": {
        "id": "LbqeXT5CRQuC"
      },
      "source": [
        "As you can see, the resampling of the majority class is complete and the `fit_sample()` function returns NumPy arrays.\n",
        "\n",
        "Let's print the shape of the resampled arrays and counts of the `nonad` and `ad` samples:"
      ]
    },
    {
      "cell_type": "code",
      "metadata": {
        "id": "v9HriAvlMXvX",
        "colab": {
          "base_uri": "https://localhost:8080/"
        },
        "outputId": "9827844c-d92d-479b-c878-4980e3651d3a"
      },
      "source": [
        "# Print the shape of the resampled arrays and counts of the nonad and ad samples.\n",
        "print('Resampled features array shape:', features_rus.shape)\n",
        "print('Resampled target array shape:', target_rus.shape, \"\\n\")\n",
        "\n",
        "print(\"'nonad' samples count =\", np.sum(target_rus == 0))\n",
        "print(\"'ad' samples count =\", np.sum(target_rus == 1))"
      ],
      "execution_count": null,
      "outputs": [
        {
          "output_type": "stream",
          "name": "stdout",
          "text": [
            "Resampled features array shape: (762, 1558)\n",
            "Resampled target array shape: (762,) \n",
            "\n",
            "'nonad' samples count = 381\n",
            "'ad' samples count = 381\n"
          ]
        }
      ]
    },
    {
      "cell_type": "markdown",
      "metadata": {
        "id": "jD-rPCL8NRjZ"
      },
      "source": [
        "---"
      ]
    },
    {
      "cell_type": "markdown",
      "metadata": {
        "id": "vMiyk_rgNSar"
      },
      "source": [
        "#### Activity 1: Model Building After Undersampling\n",
        "\n",
        "Now that we have resampled the data using the Random Undersampling technique, let's build an SVC model:"
      ]
    },
    {
      "cell_type": "code",
      "metadata": {
        "id": "5CRRKiyzNPrx",
        "colab": {
          "base_uri": "https://localhost:8080/"
        },
        "outputId": "a07a2979-9571-4931-8dc8-5ca091ee0dea"
      },
      "source": [
        "# S1.1: Build an SVC model using the linear kernel on the resampled dataset.\n",
        "from sklearn.model_selection import train_test_split\n",
        "X_train,X_test,y_train,y_test=train_test_split(features_rus,target_rus,test_size=0.30,random_state=42)\n",
        "svm_model=SVC(kernel=\"linear\")\n",
        "svm_model.fit(X_train,y_train)\n",
        "svm_model.score(X_train,y_train)"
      ],
      "execution_count": null,
      "outputs": [
        {
          "output_type": "execute_result",
          "data": {
            "text/plain": [
              "0.9962476547842402"
            ]
          },
          "metadata": {},
          "execution_count": 47
        }
      ]
    },
    {
      "cell_type": "markdown",
      "metadata": {
        "id": "cDG_uPh6b1HN"
      },
      "source": [
        "The model is 99.81% accurate.\n",
        "\n",
        "Now that we have built a classification model using support vector machines on resampled trained data, let's get the predicted target values for the training set and then compare them with the actual values by creating a confusion matrix:"
      ]
    },
    {
      "cell_type": "code",
      "metadata": {
        "id": "eI1OvbVZNnAQ",
        "colab": {
          "base_uri": "https://localhost:8080/"
        },
        "outputId": "930048f0-909a-4275-cae7-87d9e80d0531"
      },
      "source": [
        "# S1.2: Predict the target values for the training set. Also, create a confusion matrix between the actual and predicted target values.\n",
        "from sklearn.metrics import confusion_matrix,classification_report\n",
        "y_train_predict=svm_model.predict(X_train)\n",
        "\n",
        "print(confusion_matrix(y_train,y_train_predict))"
      ],
      "execution_count": null,
      "outputs": [
        {
          "output_type": "stream",
          "name": "stdout",
          "text": [
            "[[256   1]\n",
            " [  1 275]]\n"
          ]
        }
      ]
    },
    {
      "cell_type": "markdown",
      "metadata": {
        "id": "wgpYvmsqcuvR"
      },
      "source": [
        "The number of the misclassified values are the least for the training set.\n",
        "\n",
        "Let's calculate the precision, recall, f1-score values for the training set to further evaluate the efficacy of the model:"
      ]
    },
    {
      "cell_type": "code",
      "metadata": {
        "id": "QzeXE0McN4VT",
        "colab": {
          "base_uri": "https://localhost:8080/"
        },
        "outputId": "d17789df-5972-4df2-dd3c-75a82a84c234"
      },
      "source": [
        "# S1.3: Calculate the precision, recall, f1-score values for the training set to further evaluate the efficacy of the model.\n",
        "print(classification_report(y_train,y_train_predict))"
      ],
      "execution_count": null,
      "outputs": [
        {
          "output_type": "stream",
          "name": "stdout",
          "text": [
            "              precision    recall  f1-score   support\n",
            "\n",
            "           0       1.00      1.00      1.00       257\n",
            "           1       1.00      1.00      1.00       276\n",
            "\n",
            "    accuracy                           1.00       533\n",
            "   macro avg       1.00      1.00      1.00       533\n",
            "weighted avg       1.00      1.00      1.00       533\n",
            "\n"
          ]
        }
      ]
    },
    {
      "cell_type": "markdown",
      "metadata": {
        "id": "AzXojENOc9mz"
      },
      "source": [
        "We have got perfect f1-scores on the training set. Let's find out how well the SVC model built on the resampled training set performs on the test set:"
      ]
    },
    {
      "cell_type": "code",
      "metadata": {
        "id": "Q_Q3eV8ROAvE",
        "colab": {
          "base_uri": "https://localhost:8080/"
        },
        "outputId": "044a9c90-6637-4246-ea4e-ab943404da36"
      },
      "source": [
        "# S1.4: Predict the taraget values for the test set. Also, create a confusion matrix between the actual and predicted target values.\n",
        "y_test_predict=svm_model.predict(X_test)\n",
        "\n",
        "print(confusion_matrix(y_test,y_test_predict))"
      ],
      "execution_count": null,
      "outputs": [
        {
          "output_type": "stream",
          "name": "stdout",
          "text": [
            "[[116   8]\n",
            " [ 12  93]]\n"
          ]
        }
      ]
    },
    {
      "cell_type": "markdown",
      "metadata": {
        "id": "WnDkaSA6f2c7"
      },
      "source": [
        "The number of misclassified values for the test set is lesser this time. It was 38 when we built an SVC model without resampling the majority class samples.\n",
        "\n",
        "Let's calculate the precision, recall, f1-score values for the test set to further evaluate the efficacy of the model."
      ]
    },
    {
      "cell_type": "code",
      "metadata": {
        "id": "WCJmAin_OU21",
        "colab": {
          "base_uri": "https://localhost:8080/"
        },
        "outputId": "a69b9bd2-3d0e-4df7-d822-f9e1e1fd4a88"
      },
      "source": [
        "# S1.5: Calculate the precision, recall, f1-score values for the test set to further evaluate the efficacy of the model.\n",
        "print(classification_report(y_test,y_test_predict))"
      ],
      "execution_count": null,
      "outputs": [
        {
          "output_type": "stream",
          "name": "stdout",
          "text": [
            "              precision    recall  f1-score   support\n",
            "\n",
            "           0       0.91      0.94      0.92       124\n",
            "           1       0.92      0.89      0.90       105\n",
            "\n",
            "    accuracy                           0.91       229\n",
            "   macro avg       0.91      0.91      0.91       229\n",
            "weighted avg       0.91      0.91      0.91       229\n",
            "\n"
          ]
        }
      ]
    },
    {
      "cell_type": "markdown",
      "metadata": {
        "id": "ERCbudMpgf-K"
      },
      "source": [
        "The f1-scores for both the classes (or labels) are almost the same and are very close to 1.\n",
        "\n",
        "**RBF Kernel**\n",
        "\n",
        "Let's build an SVC model again using the RBF kernel and find out can we further reduce the misclassified labels on the test set:"
      ]
    },
    {
      "cell_type": "code",
      "metadata": {
        "id": "v22MqPJJPKam",
        "colab": {
          "base_uri": "https://localhost:8080/"
        },
        "outputId": "98fc5f9f-3cea-4ac0-ba0a-73dd4797ee30"
      },
      "source": [
        "# S1.6: Build an SVC model again using the RBF kernel and find out can we further reduce the misclassified labels on the test set.\n",
        "svm_model2 =SVC(kernel=\"rbf\")\n",
        "svm_model2.fit(X_train,y_train)\n",
        "svm_model2.score(X_train,y_train)"
      ],
      "execution_count": null,
      "outputs": [
        {
          "output_type": "execute_result",
          "data": {
            "text/plain": [
              "0.949343339587242"
            ]
          },
          "metadata": {},
          "execution_count": 58
        }
      ]
    },
    {
      "cell_type": "markdown",
      "metadata": {
        "id": "66c9iBk8jkdD"
      },
      "source": [
        "The accuracy of the model has reduced slightly compared to a model built using the linear kernel. Let's predict the target values on the test set features and find out the number of misclassified labels:"
      ]
    },
    {
      "cell_type": "code",
      "metadata": {
        "id": "540V6pChPosP",
        "colab": {
          "base_uri": "https://localhost:8080/"
        },
        "outputId": "6880b42c-e700-454f-c396-feaca67875a9"
      },
      "source": [
        "# S1.7: Predict the target values on the test set features and find out the number of misclassified labels.\n",
        "y_test_predict2 =svm_model2.predict(X_test)\n",
        "\n",
        "print(confusion_matrix(y_test,y_test_predict2))"
      ],
      "execution_count": null,
      "outputs": [
        {
          "output_type": "stream",
          "name": "stdout",
          "text": [
            "[[121   3]\n",
            " [ 17  88]]\n"
          ]
        }
      ]
    },
    {
      "cell_type": "markdown",
      "metadata": {
        "id": "J49M9a9MkkpY"
      },
      "source": [
        "As you can see, the number of misclassified labels have further reduced from 21 to 19. This suggests that an SVC model built using the RBF kernel after reducing the majority class samples performs best on the test set. Hence, this is by far the most accurate SVC model.\n",
        "\n",
        "The f1-scores for this case should be greater than 0.90. Let's find this out:"
      ]
    },
    {
      "cell_type": "code",
      "metadata": {
        "id": "XGvJObFaP2Xk",
        "colab": {
          "base_uri": "https://localhost:8080/"
        },
        "outputId": "8621635f-2ce8-4519-b5f5-66caeecae595"
      },
      "source": [
        "# S1.8: Calculate the precision, recall and f1-scores for the test set for the model built using the 'rbf' kernel.\n",
        "print(classification_report(y_test,y_test_predict2))"
      ],
      "execution_count": null,
      "outputs": [
        {
          "output_type": "stream",
          "name": "stdout",
          "text": [
            "              precision    recall  f1-score   support\n",
            "\n",
            "           0       0.88      0.98      0.92       124\n",
            "           1       0.97      0.84      0.90       105\n",
            "\n",
            "    accuracy                           0.91       229\n",
            "   macro avg       0.92      0.91      0.91       229\n",
            "weighted avg       0.92      0.91      0.91       229\n",
            "\n"
          ]
        }
      ]
    },
    {
      "cell_type": "markdown",
      "metadata": {
        "id": "VXnDMp0MlgIk"
      },
      "source": [
        "As expected, the f1-scores are greater than 0.90. We can consider this as our final SVM based classification model."
      ]
    },
    {
      "cell_type": "markdown",
      "metadata": {
        "id": "vm-IJp11l0Mp"
      },
      "source": [
        "---"
      ]
    },
    {
      "cell_type": "markdown",
      "metadata": {
        "id": "pDz8Sevel0xm"
      },
      "source": [
        "#### Activity 2: Support Vector Regression (SVR)\n",
        "\n",
        "Support Vector Machines (SVM), other than classification, are used to solve regression problems as well by building models called **Support Vector Regressor (SVR)**. You already know that in regression we try to predict continuous numeric values.\n",
        "\n",
        "In SVR, the idea is to enclose the errors between the actual and predicted values within a certain range of values called margins whereas in Linear Regression the idea is to minimise the sum of squared errors through the Ordinary Least Square (OLS) method.\n",
        "\n",
        "Hence, in SVR we can define how much error is acceptable using the width of the margins.\n",
        "\n",
        "SVR is used for both linear and non-linear regression.\n",
        "\n",
        "Let's now learn to solve a regression problem through an SVR model. For that, let's, first create a dummy DataFrame.\n",
        "\n",
        "To create a dummy DataFrame for regression:\n",
        "\n",
        "- Create two arrays using the `make_regression()` function of the `sklearn.datasets` module. The syntax for the `make_regression()` function is as follows:\n",
        "\n",
        "   **Syntax:** `make_regression(n_samples, n_features,  n_informative, n_targets,  random_state)`\n",
        "\n",
        "   where,\n",
        "\n",
        "   - `n_samples`- Determines the number of records to be generated in a dataset\n",
        "\n",
        "   - `n_features` - Determines the number of features (or independent variables) to be generated in the dataset\n",
        "\n",
        "- `n_informative` - Determines the number of features contributing to the prediction of the target variable required to build a regression model\n",
        "\n",
        "- `n_targets` - Determines the number of target (or dependent) variables\n",
        "\n",
        "- `random_state`- Determines whether the same set of random values to be generated over and over instead of new ones. An integer value of the `random_state` parameter will produce the same results across different function calls. Popular integer random seeds are 0 and 42\n",
        "\n",
        "The function will return two arrays. You can store these two arrays in two variables, say `reg_feat` and `reg_target`, where the former contains features (or independent variables) and the latter contains the target or (dependent variable).\n",
        "\n",
        "Let's create dummy data using the `make_regression()` function and print the number of rows and columns in the arrays created as the output of the function.\n"
      ]
    },
    {
      "cell_type": "code",
      "metadata": {
        "id": "nfM-x_D-maJS",
        "colab": {
          "base_uri": "https://localhost:8080/"
        },
        "outputId": "a36eb32f-a112-4b64-c8d0-eb055320baf2"
      },
      "source": [
        "# S2.1: Create two arrays using the 'make_regression()' function and store them in the 'reg_feat' and 'reg_target' variables.\n",
        "from sklearn.datasets import make_regression\n",
        "feature_array, target_array = make_regression(n_samples = 30, n_features = 5, n_targets = 1, n_informative = 2, random_state = 42)\n",
        "print(feature_array)\n",
        "print(target_array)"
      ],
      "execution_count": null,
      "outputs": [
        {
          "output_type": "stream",
          "name": "stdout",
          "text": [
            "[[-0.03582604  1.53803657 -2.6197451   1.56464366  0.36139561]\n",
            " [ 0.06023021 -0.02651388 -0.19236096  2.46324211 -1.91877122]\n",
            " [-1.10633497 -0.18565898  0.81252582 -1.19620662 -0.47917424]\n",
            " [-0.01349722  1.85227818  0.82254491 -1.05771093 -0.60170661]\n",
            " [-0.30921238 -0.83921752  0.97554513  0.33126343  0.93128012]\n",
            " [ 0.0675282  -0.2257763  -0.54438272 -1.42474819  1.46564877]\n",
            " [-1.06230371  0.06856297 -0.91942423  0.47359243 -1.55066343]\n",
            " [ 1.05712223 -0.46063877 -1.76304016  0.34361829 -0.71984421]\n",
            " [-0.32206152 -0.78325329 -1.23086432  0.81351722  1.54993441]\n",
            " [ 0.64768854 -0.1382643  -0.23415337  1.52302986  0.49671415]\n",
            " [ 1.40279431 -0.90938745  0.58685709 -1.40185106  0.79103195]\n",
            " [-0.11564828  0.17136828 -1.47852199 -0.3011037   0.73846658]\n",
            " [-0.70205309  0.96864499 -0.39210815 -0.32766215  0.09707755]\n",
            " [-1.32045661 -1.23695071  0.29698467  0.52194157  0.78182287]\n",
            " [ 0.17457781  1.8861859  -0.07444592  0.25755039  0.40405086]\n",
            " [ 0.76743473  1.57921282  0.54256004 -0.46947439 -0.23413696]\n",
            " [ 1.0035329  -0.07201012 -0.64511975  0.36163603  1.35624003]\n",
            " [ 0.32875111  0.91540212  0.51326743 -0.5297602  -0.50175704]\n",
            " [-0.34271452 -0.42064532 -0.16128571 -0.80227727 -1.41537074]\n",
            " [-0.29900735  0.08704707 -1.98756891  0.09176078  0.8219025 ]\n",
            " [ 0.24196227 -0.46572975 -1.72491783 -1.91328024 -0.46341769]\n",
            " [-1.60748323  1.30714275  0.25988279  0.18463386  0.22745993]\n",
            " [-0.56629773 -0.99053633 -0.50347565  0.09965137  2.19045563]\n",
            " [ 0.37569802 -1.15099358 -0.29169375 -0.60063869  0.11092259]\n",
            " [ 0.31424733 -1.01283112 -1.4123037  -0.90802408 -0.56228753]\n",
            " [-1.95967012  0.2088636   0.19686124 -1.32818605 -1.22084365]\n",
            " [ 1.47789404  0.35711257 -0.8084936  -0.51827022 -0.21967189]\n",
            " [-0.676922   -0.38508228  1.03099952  0.61167629  0.32408397]\n",
            " [ 0.26105527  0.29612028 -0.23458713  0.00511346 -1.46351495]\n",
            " [-1.16867804 -0.03471177  0.75193303  1.14282281  0.30154734]]\n",
            "[ 152.00662423 -172.27934195  -56.9859857    91.07806931   17.16407268\n",
            "  112.40797101 -132.21018909  -99.78049378   76.40856803   33.27994345\n",
            "   -0.74953363   78.87296097   84.15387169  -27.11231551  182.94182891\n",
            "  102.38897406  114.69431845   26.87978646 -158.36071713   79.69844336\n",
            "  -77.43027898  122.11852891  117.06283914  -79.9233821  -128.86798566\n",
            "  -92.01062179    8.36354121   -1.28257641 -106.73272795   24.04276933]\n"
          ]
        }
      ]
    },
    {
      "cell_type": "markdown",
      "metadata": {
        "id": "OMigZuU3re2l"
      },
      "source": [
        "**Note:** The `make_regression()` function can take in more parameters that can be passed to create more customised data. You may refer to the following document:\n",
        "\n",
        "https://scikit-learn.org/stable/modules/generated/sklearn.datasets.make_regression.html\n",
        "\n"
      ]
    },
    {
      "cell_type": "markdown",
      "metadata": {
        "id": "K3zhoogUyysw"
      },
      "source": [
        "Now that you have created two arrays, as the next step to create a dummy DataFrame, create a Python dictionary from the two arrays.\n",
        "\n",
        "**Steps:**\n",
        "\n",
        "1. Create an empty dictionary `data_dict`.\n",
        "\n",
        "2. Create a `for` loop to iterate the number of columns (features). Inside the `for` loop,\n",
        "\n",
        "   - Add $i^\\text{th}$ feature to the dictionary using the index `i` and string `\"feature \" + str(i +1)` such that the keys are `feature 1`, `feature 2` ... `feature 5` (since there are 5 columns).\n",
        "\n",
        "   - Add data of the column `i` from `reg_feat` array as values to the $i^\\text{th}$ key in the dictionary.\n",
        "    ```\n",
        "    data_dict[\"feature \" + str(i + 1)] = reg_feat[:, i]\n",
        "    ```\n",
        "\n",
        "3. Add the last key in the dictionary as `\"target\"` and value as `reg_target` array.\n",
        "\n"
      ]
    },
    {
      "cell_type": "code",
      "metadata": {
        "id": "tmFnCnr-nB9s"
      },
      "source": [
        "# S2.2: Create a Pandas DataFrame containing the items from the 'reg_feat' and 'reg_target' arrays.\n",
        "data_dict = {}\n",
        "for i in range(1,6):\n",
        "  data_dict[\"feature \" + str(i)] = feature_array[:, i - 1]\n",
        "data_dict[\"target \"] = target_array"
      ],
      "execution_count": null,
      "outputs": []
    },
    {
      "cell_type": "code",
      "source": [
        "data_dict"
      ],
      "metadata": {
        "id": "fXRM1N29UEYj",
        "outputId": "2e40a2d9-5e1c-4eb2-de60-ca8d019aabbd",
        "colab": {
          "base_uri": "https://localhost:8080/"
        }
      },
      "execution_count": null,
      "outputs": [
        {
          "output_type": "execute_result",
          "data": {
            "text/plain": [
              "{'feature 1': array([-0.03582604,  0.06023021, -1.10633497, -0.01349722, -0.30921238,\n",
              "         0.0675282 , -1.06230371,  1.05712223, -0.32206152,  0.64768854,\n",
              "         1.40279431, -0.11564828, -0.70205309, -1.32045661,  0.17457781,\n",
              "         0.76743473,  1.0035329 ,  0.32875111, -0.34271452, -0.29900735,\n",
              "         0.24196227, -1.60748323, -0.56629773,  0.37569802,  0.31424733,\n",
              "        -1.95967012,  1.47789404, -0.676922  ,  0.26105527, -1.16867804]),\n",
              " 'feature 2': array([ 1.53803657, -0.02651388, -0.18565898,  1.85227818, -0.83921752,\n",
              "        -0.2257763 ,  0.06856297, -0.46063877, -0.78325329, -0.1382643 ,\n",
              "        -0.90938745,  0.17136828,  0.96864499, -1.23695071,  1.8861859 ,\n",
              "         1.57921282, -0.07201012,  0.91540212, -0.42064532,  0.08704707,\n",
              "        -0.46572975,  1.30714275, -0.99053633, -1.15099358, -1.01283112,\n",
              "         0.2088636 ,  0.35711257, -0.38508228,  0.29612028, -0.03471177]),\n",
              " 'feature 3': array([-2.6197451 , -0.19236096,  0.81252582,  0.82254491,  0.97554513,\n",
              "        -0.54438272, -0.91942423, -1.76304016, -1.23086432, -0.23415337,\n",
              "         0.58685709, -1.47852199, -0.39210815,  0.29698467, -0.07444592,\n",
              "         0.54256004, -0.64511975,  0.51326743, -0.16128571, -1.98756891,\n",
              "        -1.72491783,  0.25988279, -0.50347565, -0.29169375, -1.4123037 ,\n",
              "         0.19686124, -0.8084936 ,  1.03099952, -0.23458713,  0.75193303]),\n",
              " 'feature 4': array([ 1.56464366,  2.46324211, -1.19620662, -1.05771093,  0.33126343,\n",
              "        -1.42474819,  0.47359243,  0.34361829,  0.81351722,  1.52302986,\n",
              "        -1.40185106, -0.3011037 , -0.32766215,  0.52194157,  0.25755039,\n",
              "        -0.46947439,  0.36163603, -0.5297602 , -0.80227727,  0.09176078,\n",
              "        -1.91328024,  0.18463386,  0.09965137, -0.60063869, -0.90802408,\n",
              "        -1.32818605, -0.51827022,  0.61167629,  0.00511346,  1.14282281]),\n",
              " 'feature 5': array([ 0.36139561, -1.91877122, -0.47917424, -0.60170661,  0.93128012,\n",
              "         1.46564877, -1.55066343, -0.71984421,  1.54993441,  0.49671415,\n",
              "         0.79103195,  0.73846658,  0.09707755,  0.78182287,  0.40405086,\n",
              "        -0.23413696,  1.35624003, -0.50175704, -1.41537074,  0.8219025 ,\n",
              "        -0.46341769,  0.22745993,  2.19045563,  0.11092259, -0.56228753,\n",
              "        -1.22084365, -0.21967189,  0.32408397, -1.46351495,  0.30154734]),\n",
              " 'target ': array([ 152.00662423, -172.27934195,  -56.9859857 ,   91.07806931,\n",
              "          17.16407268,  112.40797101, -132.21018909,  -99.78049378,\n",
              "          76.40856803,   33.27994345,   -0.74953363,   78.87296097,\n",
              "          84.15387169,  -27.11231551,  182.94182891,  102.38897406,\n",
              "         114.69431845,   26.87978646, -158.36071713,   79.69844336,\n",
              "         -77.43027898,  122.11852891,  117.06283914,  -79.9233821 ,\n",
              "        -128.86798566,  -92.01062179,    8.36354121,   -1.28257641,\n",
              "        -106.73272795,   24.04276933])}"
            ]
          },
          "metadata": {},
          "execution_count": 69
        }
      ]
    },
    {
      "cell_type": "markdown",
      "metadata": {
        "id": "OUfEbEGLzaR1"
      },
      "source": [
        "In the above code,\n",
        "\n",
        "- We created an empty dictionary\n",
        "\n",
        "- Then added for loop, where we iterate through the number of features to add the data into the dictionary.\n",
        "\n",
        "- After, we added the target array data to the dictionary.\n",
        "  \n",
        "\n",
        "After creating the dictionary, create a Pandas DataFrame from the dictionary using the `from_dict()` function of the `pandas` module:\n",
        "\n",
        "**Syntax:** `pd.DataFrame.from_dict(some_dictionary)`"
      ]
    },
    {
      "cell_type": "code",
      "metadata": {
        "id": "0hoKp56TnNRQ",
        "colab": {
          "base_uri": "https://localhost:8080/",
          "height": 990
        },
        "outputId": "20d7773e-2aed-427f-b483-f06cafb5dd36"
      },
      "source": [
        "# S2.3: Create DataFrame from the dictionary\n",
        "data_dict_df = pd.DataFrame.from_dict(data_dict)\n",
        "data_dict_df"
      ],
      "execution_count": null,
      "outputs": [
        {
          "output_type": "execute_result",
          "data": {
            "text/plain": [
              "    feature 1  feature 2  feature 3  feature 4  feature 5     target \n",
              "0   -0.035826   1.538037  -2.619745   1.564644   0.361396  152.006624\n",
              "1    0.060230  -0.026514  -0.192361   2.463242  -1.918771 -172.279342\n",
              "2   -1.106335  -0.185659   0.812526  -1.196207  -0.479174  -56.985986\n",
              "3   -0.013497   1.852278   0.822545  -1.057711  -0.601707   91.078069\n",
              "4   -0.309212  -0.839218   0.975545   0.331263   0.931280   17.164073\n",
              "5    0.067528  -0.225776  -0.544383  -1.424748   1.465649  112.407971\n",
              "6   -1.062304   0.068563  -0.919424   0.473592  -1.550663 -132.210189\n",
              "7    1.057122  -0.460639  -1.763040   0.343618  -0.719844  -99.780494\n",
              "8   -0.322062  -0.783253  -1.230864   0.813517   1.549934   76.408568\n",
              "9    0.647689  -0.138264  -0.234153   1.523030   0.496714   33.279943\n",
              "10   1.402794  -0.909387   0.586857  -1.401851   0.791032   -0.749534\n",
              "11  -0.115648   0.171368  -1.478522  -0.301104   0.738467   78.872961\n",
              "12  -0.702053   0.968645  -0.392108  -0.327662   0.097078   84.153872\n",
              "13  -1.320457  -1.236951   0.296985   0.521942   0.781823  -27.112316\n",
              "14   0.174578   1.886186  -0.074446   0.257550   0.404051  182.941829\n",
              "15   0.767435   1.579213   0.542560  -0.469474  -0.234137  102.388974\n",
              "16   1.003533  -0.072010  -0.645120   0.361636   1.356240  114.694318\n",
              "17   0.328751   0.915402   0.513267  -0.529760  -0.501757   26.879786\n",
              "18  -0.342715  -0.420645  -0.161286  -0.802277  -1.415371 -158.360717\n",
              "19  -0.299007   0.087047  -1.987569   0.091761   0.821903   79.698443\n",
              "20   0.241962  -0.465730  -1.724918  -1.913280  -0.463418  -77.430279\n",
              "21  -1.607483   1.307143   0.259883   0.184634   0.227460  122.118529\n",
              "22  -0.566298  -0.990536  -0.503476   0.099651   2.190456  117.062839\n",
              "23   0.375698  -1.150994  -0.291694  -0.600639   0.110923  -79.923382\n",
              "24   0.314247  -1.012831  -1.412304  -0.908024  -0.562288 -128.867986\n",
              "25  -1.959670   0.208864   0.196861  -1.328186  -1.220844  -92.010622\n",
              "26   1.477894   0.357113  -0.808494  -0.518270  -0.219672    8.363541\n",
              "27  -0.676922  -0.385082   1.031000   0.611676   0.324084   -1.282576\n",
              "28   0.261055   0.296120  -0.234587   0.005113  -1.463515 -106.732728\n",
              "29  -1.168678  -0.034712   0.751933   1.142823   0.301547   24.042769"
            ],
            "text/html": [
              "\n",
              "  <div id=\"df-947b6ee9-c40e-46c6-a4f2-6461542a3b2c\">\n",
              "    <div class=\"colab-df-container\">\n",
              "      <div>\n",
              "<style scoped>\n",
              "    .dataframe tbody tr th:only-of-type {\n",
              "        vertical-align: middle;\n",
              "    }\n",
              "\n",
              "    .dataframe tbody tr th {\n",
              "        vertical-align: top;\n",
              "    }\n",
              "\n",
              "    .dataframe thead th {\n",
              "        text-align: right;\n",
              "    }\n",
              "</style>\n",
              "<table border=\"1\" class=\"dataframe\">\n",
              "  <thead>\n",
              "    <tr style=\"text-align: right;\">\n",
              "      <th></th>\n",
              "      <th>feature 1</th>\n",
              "      <th>feature 2</th>\n",
              "      <th>feature 3</th>\n",
              "      <th>feature 4</th>\n",
              "      <th>feature 5</th>\n",
              "      <th>target</th>\n",
              "    </tr>\n",
              "  </thead>\n",
              "  <tbody>\n",
              "    <tr>\n",
              "      <th>0</th>\n",
              "      <td>-0.035826</td>\n",
              "      <td>1.538037</td>\n",
              "      <td>-2.619745</td>\n",
              "      <td>1.564644</td>\n",
              "      <td>0.361396</td>\n",
              "      <td>152.006624</td>\n",
              "    </tr>\n",
              "    <tr>\n",
              "      <th>1</th>\n",
              "      <td>0.060230</td>\n",
              "      <td>-0.026514</td>\n",
              "      <td>-0.192361</td>\n",
              "      <td>2.463242</td>\n",
              "      <td>-1.918771</td>\n",
              "      <td>-172.279342</td>\n",
              "    </tr>\n",
              "    <tr>\n",
              "      <th>2</th>\n",
              "      <td>-1.106335</td>\n",
              "      <td>-0.185659</td>\n",
              "      <td>0.812526</td>\n",
              "      <td>-1.196207</td>\n",
              "      <td>-0.479174</td>\n",
              "      <td>-56.985986</td>\n",
              "    </tr>\n",
              "    <tr>\n",
              "      <th>3</th>\n",
              "      <td>-0.013497</td>\n",
              "      <td>1.852278</td>\n",
              "      <td>0.822545</td>\n",
              "      <td>-1.057711</td>\n",
              "      <td>-0.601707</td>\n",
              "      <td>91.078069</td>\n",
              "    </tr>\n",
              "    <tr>\n",
              "      <th>4</th>\n",
              "      <td>-0.309212</td>\n",
              "      <td>-0.839218</td>\n",
              "      <td>0.975545</td>\n",
              "      <td>0.331263</td>\n",
              "      <td>0.931280</td>\n",
              "      <td>17.164073</td>\n",
              "    </tr>\n",
              "    <tr>\n",
              "      <th>5</th>\n",
              "      <td>0.067528</td>\n",
              "      <td>-0.225776</td>\n",
              "      <td>-0.544383</td>\n",
              "      <td>-1.424748</td>\n",
              "      <td>1.465649</td>\n",
              "      <td>112.407971</td>\n",
              "    </tr>\n",
              "    <tr>\n",
              "      <th>6</th>\n",
              "      <td>-1.062304</td>\n",
              "      <td>0.068563</td>\n",
              "      <td>-0.919424</td>\n",
              "      <td>0.473592</td>\n",
              "      <td>-1.550663</td>\n",
              "      <td>-132.210189</td>\n",
              "    </tr>\n",
              "    <tr>\n",
              "      <th>7</th>\n",
              "      <td>1.057122</td>\n",
              "      <td>-0.460639</td>\n",
              "      <td>-1.763040</td>\n",
              "      <td>0.343618</td>\n",
              "      <td>-0.719844</td>\n",
              "      <td>-99.780494</td>\n",
              "    </tr>\n",
              "    <tr>\n",
              "      <th>8</th>\n",
              "      <td>-0.322062</td>\n",
              "      <td>-0.783253</td>\n",
              "      <td>-1.230864</td>\n",
              "      <td>0.813517</td>\n",
              "      <td>1.549934</td>\n",
              "      <td>76.408568</td>\n",
              "    </tr>\n",
              "    <tr>\n",
              "      <th>9</th>\n",
              "      <td>0.647689</td>\n",
              "      <td>-0.138264</td>\n",
              "      <td>-0.234153</td>\n",
              "      <td>1.523030</td>\n",
              "      <td>0.496714</td>\n",
              "      <td>33.279943</td>\n",
              "    </tr>\n",
              "    <tr>\n",
              "      <th>10</th>\n",
              "      <td>1.402794</td>\n",
              "      <td>-0.909387</td>\n",
              "      <td>0.586857</td>\n",
              "      <td>-1.401851</td>\n",
              "      <td>0.791032</td>\n",
              "      <td>-0.749534</td>\n",
              "    </tr>\n",
              "    <tr>\n",
              "      <th>11</th>\n",
              "      <td>-0.115648</td>\n",
              "      <td>0.171368</td>\n",
              "      <td>-1.478522</td>\n",
              "      <td>-0.301104</td>\n",
              "      <td>0.738467</td>\n",
              "      <td>78.872961</td>\n",
              "    </tr>\n",
              "    <tr>\n",
              "      <th>12</th>\n",
              "      <td>-0.702053</td>\n",
              "      <td>0.968645</td>\n",
              "      <td>-0.392108</td>\n",
              "      <td>-0.327662</td>\n",
              "      <td>0.097078</td>\n",
              "      <td>84.153872</td>\n",
              "    </tr>\n",
              "    <tr>\n",
              "      <th>13</th>\n",
              "      <td>-1.320457</td>\n",
              "      <td>-1.236951</td>\n",
              "      <td>0.296985</td>\n",
              "      <td>0.521942</td>\n",
              "      <td>0.781823</td>\n",
              "      <td>-27.112316</td>\n",
              "    </tr>\n",
              "    <tr>\n",
              "      <th>14</th>\n",
              "      <td>0.174578</td>\n",
              "      <td>1.886186</td>\n",
              "      <td>-0.074446</td>\n",
              "      <td>0.257550</td>\n",
              "      <td>0.404051</td>\n",
              "      <td>182.941829</td>\n",
              "    </tr>\n",
              "    <tr>\n",
              "      <th>15</th>\n",
              "      <td>0.767435</td>\n",
              "      <td>1.579213</td>\n",
              "      <td>0.542560</td>\n",
              "      <td>-0.469474</td>\n",
              "      <td>-0.234137</td>\n",
              "      <td>102.388974</td>\n",
              "    </tr>\n",
              "    <tr>\n",
              "      <th>16</th>\n",
              "      <td>1.003533</td>\n",
              "      <td>-0.072010</td>\n",
              "      <td>-0.645120</td>\n",
              "      <td>0.361636</td>\n",
              "      <td>1.356240</td>\n",
              "      <td>114.694318</td>\n",
              "    </tr>\n",
              "    <tr>\n",
              "      <th>17</th>\n",
              "      <td>0.328751</td>\n",
              "      <td>0.915402</td>\n",
              "      <td>0.513267</td>\n",
              "      <td>-0.529760</td>\n",
              "      <td>-0.501757</td>\n",
              "      <td>26.879786</td>\n",
              "    </tr>\n",
              "    <tr>\n",
              "      <th>18</th>\n",
              "      <td>-0.342715</td>\n",
              "      <td>-0.420645</td>\n",
              "      <td>-0.161286</td>\n",
              "      <td>-0.802277</td>\n",
              "      <td>-1.415371</td>\n",
              "      <td>-158.360717</td>\n",
              "    </tr>\n",
              "    <tr>\n",
              "      <th>19</th>\n",
              "      <td>-0.299007</td>\n",
              "      <td>0.087047</td>\n",
              "      <td>-1.987569</td>\n",
              "      <td>0.091761</td>\n",
              "      <td>0.821903</td>\n",
              "      <td>79.698443</td>\n",
              "    </tr>\n",
              "    <tr>\n",
              "      <th>20</th>\n",
              "      <td>0.241962</td>\n",
              "      <td>-0.465730</td>\n",
              "      <td>-1.724918</td>\n",
              "      <td>-1.913280</td>\n",
              "      <td>-0.463418</td>\n",
              "      <td>-77.430279</td>\n",
              "    </tr>\n",
              "    <tr>\n",
              "      <th>21</th>\n",
              "      <td>-1.607483</td>\n",
              "      <td>1.307143</td>\n",
              "      <td>0.259883</td>\n",
              "      <td>0.184634</td>\n",
              "      <td>0.227460</td>\n",
              "      <td>122.118529</td>\n",
              "    </tr>\n",
              "    <tr>\n",
              "      <th>22</th>\n",
              "      <td>-0.566298</td>\n",
              "      <td>-0.990536</td>\n",
              "      <td>-0.503476</td>\n",
              "      <td>0.099651</td>\n",
              "      <td>2.190456</td>\n",
              "      <td>117.062839</td>\n",
              "    </tr>\n",
              "    <tr>\n",
              "      <th>23</th>\n",
              "      <td>0.375698</td>\n",
              "      <td>-1.150994</td>\n",
              "      <td>-0.291694</td>\n",
              "      <td>-0.600639</td>\n",
              "      <td>0.110923</td>\n",
              "      <td>-79.923382</td>\n",
              "    </tr>\n",
              "    <tr>\n",
              "      <th>24</th>\n",
              "      <td>0.314247</td>\n",
              "      <td>-1.012831</td>\n",
              "      <td>-1.412304</td>\n",
              "      <td>-0.908024</td>\n",
              "      <td>-0.562288</td>\n",
              "      <td>-128.867986</td>\n",
              "    </tr>\n",
              "    <tr>\n",
              "      <th>25</th>\n",
              "      <td>-1.959670</td>\n",
              "      <td>0.208864</td>\n",
              "      <td>0.196861</td>\n",
              "      <td>-1.328186</td>\n",
              "      <td>-1.220844</td>\n",
              "      <td>-92.010622</td>\n",
              "    </tr>\n",
              "    <tr>\n",
              "      <th>26</th>\n",
              "      <td>1.477894</td>\n",
              "      <td>0.357113</td>\n",
              "      <td>-0.808494</td>\n",
              "      <td>-0.518270</td>\n",
              "      <td>-0.219672</td>\n",
              "      <td>8.363541</td>\n",
              "    </tr>\n",
              "    <tr>\n",
              "      <th>27</th>\n",
              "      <td>-0.676922</td>\n",
              "      <td>-0.385082</td>\n",
              "      <td>1.031000</td>\n",
              "      <td>0.611676</td>\n",
              "      <td>0.324084</td>\n",
              "      <td>-1.282576</td>\n",
              "    </tr>\n",
              "    <tr>\n",
              "      <th>28</th>\n",
              "      <td>0.261055</td>\n",
              "      <td>0.296120</td>\n",
              "      <td>-0.234587</td>\n",
              "      <td>0.005113</td>\n",
              "      <td>-1.463515</td>\n",
              "      <td>-106.732728</td>\n",
              "    </tr>\n",
              "    <tr>\n",
              "      <th>29</th>\n",
              "      <td>-1.168678</td>\n",
              "      <td>-0.034712</td>\n",
              "      <td>0.751933</td>\n",
              "      <td>1.142823</td>\n",
              "      <td>0.301547</td>\n",
              "      <td>24.042769</td>\n",
              "    </tr>\n",
              "  </tbody>\n",
              "</table>\n",
              "</div>\n",
              "      <button class=\"colab-df-convert\" onclick=\"convertToInteractive('df-947b6ee9-c40e-46c6-a4f2-6461542a3b2c')\"\n",
              "              title=\"Convert this dataframe to an interactive table.\"\n",
              "              style=\"display:none;\">\n",
              "        \n",
              "  <svg xmlns=\"http://www.w3.org/2000/svg\" height=\"24px\"viewBox=\"0 0 24 24\"\n",
              "       width=\"24px\">\n",
              "    <path d=\"M0 0h24v24H0V0z\" fill=\"none\"/>\n",
              "    <path d=\"M18.56 5.44l.94 2.06.94-2.06 2.06-.94-2.06-.94-.94-2.06-.94 2.06-2.06.94zm-11 1L8.5 8.5l.94-2.06 2.06-.94-2.06-.94L8.5 2.5l-.94 2.06-2.06.94zm10 10l.94 2.06.94-2.06 2.06-.94-2.06-.94-.94-2.06-.94 2.06-2.06.94z\"/><path d=\"M17.41 7.96l-1.37-1.37c-.4-.4-.92-.59-1.43-.59-.52 0-1.04.2-1.43.59L10.3 9.45l-7.72 7.72c-.78.78-.78 2.05 0 2.83L4 21.41c.39.39.9.59 1.41.59.51 0 1.02-.2 1.41-.59l7.78-7.78 2.81-2.81c.8-.78.8-2.07 0-2.86zM5.41 20L4 18.59l7.72-7.72 1.47 1.35L5.41 20z\"/>\n",
              "  </svg>\n",
              "      </button>\n",
              "      \n",
              "  <style>\n",
              "    .colab-df-container {\n",
              "      display:flex;\n",
              "      flex-wrap:wrap;\n",
              "      gap: 12px;\n",
              "    }\n",
              "\n",
              "    .colab-df-convert {\n",
              "      background-color: #E8F0FE;\n",
              "      border: none;\n",
              "      border-radius: 50%;\n",
              "      cursor: pointer;\n",
              "      display: none;\n",
              "      fill: #1967D2;\n",
              "      height: 32px;\n",
              "      padding: 0 0 0 0;\n",
              "      width: 32px;\n",
              "    }\n",
              "\n",
              "    .colab-df-convert:hover {\n",
              "      background-color: #E2EBFA;\n",
              "      box-shadow: 0px 1px 2px rgba(60, 64, 67, 0.3), 0px 1px 3px 1px rgba(60, 64, 67, 0.15);\n",
              "      fill: #174EA6;\n",
              "    }\n",
              "\n",
              "    [theme=dark] .colab-df-convert {\n",
              "      background-color: #3B4455;\n",
              "      fill: #D2E3FC;\n",
              "    }\n",
              "\n",
              "    [theme=dark] .colab-df-convert:hover {\n",
              "      background-color: #434B5C;\n",
              "      box-shadow: 0px 1px 3px 1px rgba(0, 0, 0, 0.15);\n",
              "      filter: drop-shadow(0px 1px 2px rgba(0, 0, 0, 0.3));\n",
              "      fill: #FFFFFF;\n",
              "    }\n",
              "  </style>\n",
              "\n",
              "      <script>\n",
              "        const buttonEl =\n",
              "          document.querySelector('#df-947b6ee9-c40e-46c6-a4f2-6461542a3b2c button.colab-df-convert');\n",
              "        buttonEl.style.display =\n",
              "          google.colab.kernel.accessAllowed ? 'block' : 'none';\n",
              "\n",
              "        async function convertToInteractive(key) {\n",
              "          const element = document.querySelector('#df-947b6ee9-c40e-46c6-a4f2-6461542a3b2c');\n",
              "          const dataTable =\n",
              "            await google.colab.kernel.invokeFunction('convertToInteractive',\n",
              "                                                     [key], {});\n",
              "          if (!dataTable) return;\n",
              "\n",
              "          const docLinkHtml = 'Like what you see? Visit the ' +\n",
              "            '<a target=\"_blank\" href=https://colab.research.google.com/notebooks/data_table.ipynb>data table notebook</a>'\n",
              "            + ' to learn more about interactive tables.';\n",
              "          element.innerHTML = '';\n",
              "          dataTable['output_type'] = 'display_data';\n",
              "          await google.colab.output.renderOutput(dataTable, element);\n",
              "          const docLink = document.createElement('div');\n",
              "          docLink.innerHTML = docLinkHtml;\n",
              "          element.appendChild(docLink);\n",
              "        }\n",
              "      </script>\n",
              "    </div>\n",
              "  </div>\n",
              "  "
            ]
          },
          "metadata": {},
          "execution_count": 70
        }
      ]
    },
    {
      "cell_type": "markdown",
      "metadata": {
        "id": "XKKcJjE2BrJY"
      },
      "source": [
        "Now we have a `pandas` DataFrame having 30 records, 6 columns out of which 5 columns represent independent variables and 1 represent the target.\n",
        "\n",
        "\n",
        "Let's print the descriptive statistics of the DataFrame."
      ]
    },
    {
      "cell_type": "code",
      "metadata": {
        "id": "N4Cs13cDnSSs",
        "colab": {
          "base_uri": "https://localhost:8080/",
          "height": 300
        },
        "outputId": "6aa2ca7a-236a-4091-c9c7-9dd4b9a84cec"
      },
      "source": [
        "# S2.4: Print the descriptive statistics of the dummy DataFrame\n",
        "data_dict_df.describe()"
      ],
      "execution_count": null,
      "outputs": [
        {
          "output_type": "execute_result",
          "data": {
            "text/plain": [
              "       feature 1  feature 2  feature 3  feature 4  feature 5     target \n",
              "count  30.000000  30.000000  30.000000  30.000000  30.000000   30.000000\n",
              "mean   -0.114255   0.063259  -0.347618  -0.066317   0.053296    9.661232\n",
              "std     0.850675   0.898004   0.962459   0.996296   0.999228  100.043352\n",
              "min    -1.959670  -1.236951  -2.619745  -1.913280  -1.918771 -172.279342\n",
              "25%    -0.649266  -0.464457  -0.891692  -0.751868  -0.547155  -79.300106\n",
              "50%    -0.024662  -0.053361  -0.234370   0.048437   0.169191   20.603421\n",
              "75%     0.325125   0.341864   0.459197   0.445603   0.770984   89.347020\n",
              "max     1.477894   1.886186   1.031000   2.463242   2.190456  182.941829"
            ],
            "text/html": [
              "\n",
              "  <div id=\"df-b218f329-c70e-416d-818d-bc4d972fa6e5\">\n",
              "    <div class=\"colab-df-container\">\n",
              "      <div>\n",
              "<style scoped>\n",
              "    .dataframe tbody tr th:only-of-type {\n",
              "        vertical-align: middle;\n",
              "    }\n",
              "\n",
              "    .dataframe tbody tr th {\n",
              "        vertical-align: top;\n",
              "    }\n",
              "\n",
              "    .dataframe thead th {\n",
              "        text-align: right;\n",
              "    }\n",
              "</style>\n",
              "<table border=\"1\" class=\"dataframe\">\n",
              "  <thead>\n",
              "    <tr style=\"text-align: right;\">\n",
              "      <th></th>\n",
              "      <th>feature 1</th>\n",
              "      <th>feature 2</th>\n",
              "      <th>feature 3</th>\n",
              "      <th>feature 4</th>\n",
              "      <th>feature 5</th>\n",
              "      <th>target</th>\n",
              "    </tr>\n",
              "  </thead>\n",
              "  <tbody>\n",
              "    <tr>\n",
              "      <th>count</th>\n",
              "      <td>30.000000</td>\n",
              "      <td>30.000000</td>\n",
              "      <td>30.000000</td>\n",
              "      <td>30.000000</td>\n",
              "      <td>30.000000</td>\n",
              "      <td>30.000000</td>\n",
              "    </tr>\n",
              "    <tr>\n",
              "      <th>mean</th>\n",
              "      <td>-0.114255</td>\n",
              "      <td>0.063259</td>\n",
              "      <td>-0.347618</td>\n",
              "      <td>-0.066317</td>\n",
              "      <td>0.053296</td>\n",
              "      <td>9.661232</td>\n",
              "    </tr>\n",
              "    <tr>\n",
              "      <th>std</th>\n",
              "      <td>0.850675</td>\n",
              "      <td>0.898004</td>\n",
              "      <td>0.962459</td>\n",
              "      <td>0.996296</td>\n",
              "      <td>0.999228</td>\n",
              "      <td>100.043352</td>\n",
              "    </tr>\n",
              "    <tr>\n",
              "      <th>min</th>\n",
              "      <td>-1.959670</td>\n",
              "      <td>-1.236951</td>\n",
              "      <td>-2.619745</td>\n",
              "      <td>-1.913280</td>\n",
              "      <td>-1.918771</td>\n",
              "      <td>-172.279342</td>\n",
              "    </tr>\n",
              "    <tr>\n",
              "      <th>25%</th>\n",
              "      <td>-0.649266</td>\n",
              "      <td>-0.464457</td>\n",
              "      <td>-0.891692</td>\n",
              "      <td>-0.751868</td>\n",
              "      <td>-0.547155</td>\n",
              "      <td>-79.300106</td>\n",
              "    </tr>\n",
              "    <tr>\n",
              "      <th>50%</th>\n",
              "      <td>-0.024662</td>\n",
              "      <td>-0.053361</td>\n",
              "      <td>-0.234370</td>\n",
              "      <td>0.048437</td>\n",
              "      <td>0.169191</td>\n",
              "      <td>20.603421</td>\n",
              "    </tr>\n",
              "    <tr>\n",
              "      <th>75%</th>\n",
              "      <td>0.325125</td>\n",
              "      <td>0.341864</td>\n",
              "      <td>0.459197</td>\n",
              "      <td>0.445603</td>\n",
              "      <td>0.770984</td>\n",
              "      <td>89.347020</td>\n",
              "    </tr>\n",
              "    <tr>\n",
              "      <th>max</th>\n",
              "      <td>1.477894</td>\n",
              "      <td>1.886186</td>\n",
              "      <td>1.031000</td>\n",
              "      <td>2.463242</td>\n",
              "      <td>2.190456</td>\n",
              "      <td>182.941829</td>\n",
              "    </tr>\n",
              "  </tbody>\n",
              "</table>\n",
              "</div>\n",
              "      <button class=\"colab-df-convert\" onclick=\"convertToInteractive('df-b218f329-c70e-416d-818d-bc4d972fa6e5')\"\n",
              "              title=\"Convert this dataframe to an interactive table.\"\n",
              "              style=\"display:none;\">\n",
              "        \n",
              "  <svg xmlns=\"http://www.w3.org/2000/svg\" height=\"24px\"viewBox=\"0 0 24 24\"\n",
              "       width=\"24px\">\n",
              "    <path d=\"M0 0h24v24H0V0z\" fill=\"none\"/>\n",
              "    <path d=\"M18.56 5.44l.94 2.06.94-2.06 2.06-.94-2.06-.94-.94-2.06-.94 2.06-2.06.94zm-11 1L8.5 8.5l.94-2.06 2.06-.94-2.06-.94L8.5 2.5l-.94 2.06-2.06.94zm10 10l.94 2.06.94-2.06 2.06-.94-2.06-.94-.94-2.06-.94 2.06-2.06.94z\"/><path d=\"M17.41 7.96l-1.37-1.37c-.4-.4-.92-.59-1.43-.59-.52 0-1.04.2-1.43.59L10.3 9.45l-7.72 7.72c-.78.78-.78 2.05 0 2.83L4 21.41c.39.39.9.59 1.41.59.51 0 1.02-.2 1.41-.59l7.78-7.78 2.81-2.81c.8-.78.8-2.07 0-2.86zM5.41 20L4 18.59l7.72-7.72 1.47 1.35L5.41 20z\"/>\n",
              "  </svg>\n",
              "      </button>\n",
              "      \n",
              "  <style>\n",
              "    .colab-df-container {\n",
              "      display:flex;\n",
              "      flex-wrap:wrap;\n",
              "      gap: 12px;\n",
              "    }\n",
              "\n",
              "    .colab-df-convert {\n",
              "      background-color: #E8F0FE;\n",
              "      border: none;\n",
              "      border-radius: 50%;\n",
              "      cursor: pointer;\n",
              "      display: none;\n",
              "      fill: #1967D2;\n",
              "      height: 32px;\n",
              "      padding: 0 0 0 0;\n",
              "      width: 32px;\n",
              "    }\n",
              "\n",
              "    .colab-df-convert:hover {\n",
              "      background-color: #E2EBFA;\n",
              "      box-shadow: 0px 1px 2px rgba(60, 64, 67, 0.3), 0px 1px 3px 1px rgba(60, 64, 67, 0.15);\n",
              "      fill: #174EA6;\n",
              "    }\n",
              "\n",
              "    [theme=dark] .colab-df-convert {\n",
              "      background-color: #3B4455;\n",
              "      fill: #D2E3FC;\n",
              "    }\n",
              "\n",
              "    [theme=dark] .colab-df-convert:hover {\n",
              "      background-color: #434B5C;\n",
              "      box-shadow: 0px 1px 3px 1px rgba(0, 0, 0, 0.15);\n",
              "      filter: drop-shadow(0px 1px 2px rgba(0, 0, 0, 0.3));\n",
              "      fill: #FFFFFF;\n",
              "    }\n",
              "  </style>\n",
              "\n",
              "      <script>\n",
              "        const buttonEl =\n",
              "          document.querySelector('#df-b218f329-c70e-416d-818d-bc4d972fa6e5 button.colab-df-convert');\n",
              "        buttonEl.style.display =\n",
              "          google.colab.kernel.accessAllowed ? 'block' : 'none';\n",
              "\n",
              "        async function convertToInteractive(key) {\n",
              "          const element = document.querySelector('#df-b218f329-c70e-416d-818d-bc4d972fa6e5');\n",
              "          const dataTable =\n",
              "            await google.colab.kernel.invokeFunction('convertToInteractive',\n",
              "                                                     [key], {});\n",
              "          if (!dataTable) return;\n",
              "\n",
              "          const docLinkHtml = 'Like what you see? Visit the ' +\n",
              "            '<a target=\"_blank\" href=https://colab.research.google.com/notebooks/data_table.ipynb>data table notebook</a>'\n",
              "            + ' to learn more about interactive tables.';\n",
              "          element.innerHTML = '';\n",
              "          dataTable['output_type'] = 'display_data';\n",
              "          await google.colab.output.renderOutput(dataTable, element);\n",
              "          const docLink = document.createElement('div');\n",
              "          docLink.innerHTML = docLinkHtml;\n",
              "          element.appendChild(docLink);\n",
              "        }\n",
              "      </script>\n",
              "    </div>\n",
              "  </div>\n",
              "  "
            ]
          },
          "metadata": {},
          "execution_count": 71
        }
      ]
    },
    {
      "cell_type": "markdown",
      "metadata": {
        "id": "I6tG-qsE1ugU"
      },
      "source": [
        "As it can be observed, the feature columns have almost the same range going from negative values to positive values.\n",
        "\n",
        "Let's check whether the values in each column follow a normal distribution."
      ]
    },
    {
      "cell_type": "code",
      "metadata": {
        "id": "eHS2vHGV6z2N",
        "colab": {
          "base_uri": "https://localhost:8080/",
          "height": 1000
        },
        "outputId": "7f869956-0e55-4113-e06a-c560b4e8dd0d"
      },
      "source": [
        "# S2.5: Create histogram for all the columns in the above data frame to check whether the values in each column follow a normal distribution.\n",
        "for i in data_dict_df.columns:\n",
        "  plt.figure(figsize = (8,4))\n",
        "  sns.distplot(x = data_dict_df[i])\n",
        "  plt.show()"
      ],
      "execution_count": null,
      "outputs": [
        {
          "output_type": "stream",
          "name": "stderr",
          "text": [
            "<ipython-input-75-9bb2af79af6d>:4: UserWarning: \n",
            "\n",
            "`distplot` is a deprecated function and will be removed in seaborn v0.14.0.\n",
            "\n",
            "Please adapt your code to use either `displot` (a figure-level function with\n",
            "similar flexibility) or `histplot` (an axes-level function for histograms).\n",
            "\n",
            "For a guide to updating your code to use the new functions, please see\n",
            "https://gist.github.com/mwaskom/de44147ed2974457ad6372750bbe5751\n",
            "\n",
            "  sns.distplot(x = data_dict_df[i])\n"
          ]
        },
        {
          "output_type": "display_data",
          "data": {
            "text/plain": [
              "<Figure size 800x400 with 1 Axes>"
            ],
            "image/png": "[encoded data removed]"
          },
          "metadata": {}
        },
        {
          "output_type": "stream",
          "name": "stderr",
          "text": [
            "<ipython-input-75-9bb2af79af6d>:4: UserWarning: \n",
            "\n",
            "`distplot` is a deprecated function and will be removed in seaborn v0.14.0.\n",
            "\n",
            "Please adapt your code to use either `displot` (a figure-level function with\n",
            "similar flexibility) or `histplot` (an axes-level function for histograms).\n",
            "\n",
            "For a guide to updating your code to use the new functions, please see\n",
            "https://gist.github.com/mwaskom/de44147ed2974457ad6372750bbe5751\n",
            "\n",
            "  sns.distplot(x = data_dict_df[i])\n"
          ]
        },
        {
          "output_type": "display_data",
          "data": {
            "text/plain": [
              "<Figure size 800x400 with 1 Axes>"
            ],
            "image/png": "[encoded data removed]"
          },
          "metadata": {}
        },
        {
          "output_type": "stream",
          "name": "stderr",
          "text": [
            "<ipython-input-75-9bb2af79af6d>:4: UserWarning: \n",
            "\n",
            "`distplot` is a deprecated function and will be removed in seaborn v0.14.0.\n",
            "\n",
            "Please adapt your code to use either `displot` (a figure-level function with\n",
            "similar flexibility) or `histplot` (an axes-level function for histograms).\n",
            "\n",
            "For a guide to updating your code to use the new functions, please see\n",
            "https://gist.github.com/mwaskom/de44147ed2974457ad6372750bbe5751\n",
            "\n",
            "  sns.distplot(x = data_dict_df[i])\n"
          ]
        },
        {
          "output_type": "display_data",
          "data": {
            "text/plain": [
              "<Figure size 800x400 with 1 Axes>"
            ],
            "image/png": "[encoded data removed]"
          },
          "metadata": {}
        },
        {
          "output_type": "stream",
          "name": "stderr",
          "text": [
            "<ipython-input-75-9bb2af79af6d>:4: UserWarning: \n",
            "\n",
            "`distplot` is a deprecated function and will be removed in seaborn v0.14.0.\n",
            "\n",
            "Please adapt your code to use either `displot` (a figure-level function with\n",
            "similar flexibility) or `histplot` (an axes-level function for histograms).\n",
            "\n",
            "For a guide to updating your code to use the new functions, please see\n",
            "https://gist.github.com/mwaskom/de44147ed2974457ad6372750bbe5751\n",
            "\n",
            "  sns.distplot(x = data_dict_df[i])\n"
          ]
        },
        {
          "output_type": "display_data",
          "data": {
            "text/plain": [
              "<Figure size 800x400 with 1 Axes>"
            ],
            "image/png": "[encoded data removed]"
          },
          "metadata": {}
        },
        {
          "output_type": "stream",
          "name": "stderr",
          "text": [
            "<ipython-input-75-9bb2af79af6d>:4: UserWarning: \n",
            "\n",
            "`distplot` is a deprecated function and will be removed in seaborn v0.14.0.\n",
            "\n",
            "Please adapt your code to use either `displot` (a figure-level function with\n",
            "similar flexibility) or `histplot` (an axes-level function for histograms).\n",
            "\n",
            "For a guide to updating your code to use the new functions, please see\n",
            "https://gist.github.com/mwaskom/de44147ed2974457ad6372750bbe5751\n",
            "\n",
            "  sns.distplot(x = data_dict_df[i])\n"
          ]
        },
        {
          "output_type": "display_data",
          "data": {
            "text/plain": [
              "<Figure size 800x400 with 1 Axes>"
            ],
            "image/png": "[encoded data removed]"
          },
          "metadata": {}
        },
        {
          "output_type": "stream",
          "name": "stderr",
          "text": [
            "<ipython-input-75-9bb2af79af6d>:4: UserWarning: \n",
            "\n",
            "`distplot` is a deprecated function and will be removed in seaborn v0.14.0.\n",
            "\n",
            "Please adapt your code to use either `displot` (a figure-level function with\n",
            "similar flexibility) or `histplot` (an axes-level function for histograms).\n",
            "\n",
            "For a guide to updating your code to use the new functions, please see\n",
            "https://gist.github.com/mwaskom/de44147ed2974457ad6372750bbe5751\n",
            "\n",
            "  sns.distplot(x = data_dict_df[i])\n"
          ]
        },
        {
          "output_type": "display_data",
          "data": {
            "text/plain": [
              "<Figure size 800x400 with 1 Axes>"
            ],
            "image/png": "[encoded data removed]"
          },
          "metadata": {}
        }
      ]
    },
    {
      "cell_type": "markdown",
      "metadata": {
        "id": "jOXcA4en6pWS"
      },
      "source": [
        "We can see that all the values in each column somewhat follow a normal distribution. This will become more apparent if we increase the number of samples in the data frame.\n",
        "\n",
        "Now, let's move ahead and check the correlation between the feature and target columns.\n",
        "\n",
        "Let's plot check the collinearity of the `target` column with independent features."
      ]
    },
    {
      "cell_type": "code",
      "metadata": {
        "id": "AraBztf127xA",
        "colab": {
          "base_uri": "https://localhost:8080/",
          "height": 374
        },
        "outputId": "c90c5910-997a-4862-c4ac-1153e9434bbe"
      },
      "source": [
        "# S2.6: Create a heatmap for the correlation coefficient DataFrame.\n",
        "plt.figure(figsize = (8,4))\n",
        "sns.heatmap(data_dict_df.corr(), annot = True)\n",
        "plt.show()"
      ],
      "execution_count": null,
      "outputs": [
        {
          "output_type": "display_data",
          "data": {
            "text/plain": [
              "<Figure size 800x400 with 2 Axes>"
            ],
            "image/png": "[encoded data removed]"
          },
          "metadata": {}
        }
      ]
    },
    {
      "cell_type": "markdown",
      "metadata": {
        "id": "uPSpjQtf3RDu"
      },
      "source": [
        "In the above graph, we can see that only `feature 1` and `feature 3` have a strong correlation with `target` columns with the correlation coefficient values `0.92` and `0.74` respectively. That means possibly only these two features will be useful to build a good regression model to predict the `target` values. Also, note that `feature 1` and `feature 3` are also correlated with each other. This is means there is a scope of multicollinearity.\n",
        "\n",
        "**Note:** The reason for only two columns having strong collinearity with the target column is `n_informative = 2` parameter while creating dummy data.\n",
        "\n",
        "\n",
        "Let's observe the independent features `feature 1` and `feature 3` individually with the `target` column.\n",
        "\n",
        "\n",
        "Let's create the regplot between `feature 1` and the `target` column to observe the relationships and best-fit regression line:"
      ]
    },
    {
      "cell_type": "code",
      "metadata": {
        "id": "Lv5LI7hr47WX",
        "colab": {
          "base_uri": "https://localhost:8080/",
          "height": 393
        },
        "outputId": "aaa2732b-38cd-455b-c2e8-155138e69bf4"
      },
      "source": [
        "# S2.7: Create a regplot between 'feature' and 'target' columns.\n",
        "plt.figure(figsize = (8,4))\n",
        "sns.regplot(x = 'feature 2', y = 'target ', data = data_dict_df)\n",
        "plt.show()"
      ],
      "execution_count": null,
      "outputs": [
        {
          "output_type": "display_data",
          "data": {
            "text/plain": [
              "<Figure size 800x400 with 1 Axes>"
            ],
            "image/png": "[encoded data removed]"
          },
          "metadata": {}
        }
      ]
    },
    {
      "cell_type": "code",
      "source": [
        "data_dict_df.columns"
      ],
      "metadata": {
        "id": "yqzTf_qWWOvg",
        "outputId": "1713c369-48ad-4a56-d9c5-bc252cbef17b",
        "colab": {
          "base_uri": "https://localhost:8080/"
        }
      },
      "execution_count": null,
      "outputs": [
        {
          "output_type": "execute_result",
          "data": {
            "text/plain": [
              "Index(['feature 1', 'feature 2', 'feature 3', 'feature 4', 'feature 5',\n",
              "       'target '],\n",
              "      dtype='object')"
            ]
          },
          "metadata": {},
          "execution_count": 84
        }
      ]
    },
    {
      "cell_type": "markdown",
      "metadata": {
        "id": "QKh2tbTc5Mc4"
      },
      "source": [
        "As it can be observed, a positive correlation because $R=0.92$.\n",
        "\n",
        "\n",
        "Let's create the regplot between `feature 3` and the `target` column to observe the relationships and best-fit regression line:\n",
        "\n"
      ]
    },
    {
      "cell_type": "code",
      "metadata": {
        "id": "pipidlDT5zbf",
        "colab": {
          "base_uri": "https://localhost:8080/",
          "height": 393
        },
        "outputId": "4b074899-6f86-425d-9568-2a944cf2bdc9"
      },
      "source": [
        "# S2.8: Create a regplot between 'feature 3' and 'target' columns.\n",
        "plt.figure(figsize = (8,4))\n",
        "sns.regplot(x = 'feature 3', y = 'target ', data = data_dict_df)\n",
        "plt.show()"
      ],
      "execution_count": null,
      "outputs": [
        {
          "output_type": "display_data",
          "data": {
            "text/plain": [
              "<Figure size 800x400 with 1 Axes>"
            ],
            "image/png": "[encoded data removed]"
          },
          "metadata": {}
        }
      ]
    },
    {
      "cell_type": "markdown",
      "metadata": {
        "id": "aLkDWMxe5zOD"
      },
      "source": [
        "As it can be observed, the correlation is positive but the points are more scattered than the `feature 1` graph as the $R=0.74$ which is less than the $R$ value for `feature 1`.\n",
        "\n",
        "**Note:**\n",
        "\n",
        "- `ci` stands for **confidence interval** that tells the number of values it can predict with confidence. The values outside CI are predicted by chance.\n",
        "\n",
        "- A 95% confidence interval (CI) suggests that 95% of the target values are predicted by regression and the remaining 5% by chance (or fluke).\n",
        "\n",
        "- The other way to look at CI is to calculate the **p-value**. When we say the p-value is less than 0.05, it means that less than 5% of the target values are predicted by chance (or fluke).\n",
        "\n",
        "Let's stop here. In the next class, you will learn to create a SVR model and find the right parameters and their corresponding best values to enable a model to make the most accurate predictions."
      ]
    },
    {
      "cell_type": "markdown",
      "metadata": {
        "id": "9tBfQH6B7hpM"
      },
      "source": [
        "---"
      ]
    },
    {
      "cell_type": "markdown",
      "metadata": {
        "id": "SGiG6NG1Zhzf"
      },
      "source": [
        "### **Project**\n",
        "You can now attempt the **Capstone Project 18 - Olivetti Faces Case-Study** on your own.\n",
        "\n",
        "**Capstone Project 18 - Olivetti Faces Case-Study**: https://colab.research.google.com/drive/1nzcoemVcvafgfnSGbMjLx9oAjFKBBv6h"
      ]
    },
    {
      "cell_type": "markdown",
      "metadata": {
        "id": "yNkJz3ZFZrzy"
      },
      "source": [
        "---"
      ]
    }
  ]
}