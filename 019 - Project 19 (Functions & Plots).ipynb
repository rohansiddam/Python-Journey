{
  "nbformat": 4,
  "nbformat_minor": 0,
  "metadata": {
    "colab": {
      "provenance": [],
      "include_colab_link": true
    },
    "kernelspec": {
      "name": "python3",
      "display_name": "Python 3"
    }
  },
  "cells": [
    {
      "cell_type": "markdown",
      "metadata": {
        "id": "view-in-github",
        "colab_type": "text"
      },
      "source": [
        "<a href=\"https://colab.research.google.com/github/rohansiddam/Python-Journey/blob/main/019%20-%20Project%2019%20(Functions%20%26%20Plots).ipynb\" target=\"_parent\"><img src=\"https://colab.research.google.com/assets/colab-badge.svg\" alt=\"Open In Colab\"/></a>"
      ]
    },
    {
      "cell_type": "markdown",
      "metadata": {
        "id": "YZnBY81YDCCr"
      },
      "source": [
        "### Instructions"
      ]
    },
    {
      "cell_type": "markdown",
      "metadata": {
        "id": "bEyBzxYRhrLG"
      },
      "source": [
        "#### Goal of the Project\n",
        "\n",
        "This project is designed for you to practice and solve the activities that are based on the concepts covered in the following lessons:\n",
        "\n",
        "  1.  Improving The Algorithm (Functions)\n",
        "  2.  Scatter and Line Plots\n",
        "  "
      ]
    },
    {
      "cell_type": "markdown",
      "metadata": {
        "id": "DPOFIO3EHncO"
      },
      "source": [
        "---"
      ]
    },
    {
      "cell_type": "markdown",
      "metadata": {
        "id": "iBV2nbRDnse_"
      },
      "source": [
        "#### Getting Started:\n",
        "\n",
        "1. Click on this link to open the Colab file for this project.\n",
        "\n",
        "      https://colab.research.google.com/drive/1j5LlOgNVO1cNVO4vkXhphL7ewUFQiMhH?usp=sharing\n",
        "\n",
        "2. Create a duplicate copy of the Colab file as described below.\n",
        "\n",
        "  - Click on the **File menu**. A new drop-down list will appear.\n",
        "\n",
        "   <img src='https://student-datasets-bucket.s3.ap-south-1.amazonaws.com/images/lesson-0/0_file_menu.png' width=500>\n",
        "\n",
        "  - Click on the **Save a copy in Drive** option. A duplicate copy will get created. It will open up in the new tab on your web browser.\n",
        "\n",
        "  <img src='https://student-datasets-bucket.s3.ap-south-1.amazonaws.com/images/lesson-0/1_create_colab_duplicate_copy.png' width=500>\n",
        "\n",
        "3. After creating the duplicate copy of the notebook, please rename it in the **YYYY-MM-DD_StudentName_Project19** format.\n",
        "\n",
        "4. Now, write your code in the prescribed code cells.\n"
      ]
    },
    {
      "cell_type": "markdown",
      "metadata": {
        "id": "TOh3L7cPn4n7"
      },
      "source": [
        "---"
      ]
    },
    {
      "cell_type": "markdown",
      "metadata": {
        "id": "8f6-uc0r9Q4h"
      },
      "source": [
        "### Activities"
      ]
    },
    {
      "cell_type": "markdown",
      "metadata": {
        "id": "q4fH06mIjuK3"
      },
      "source": [
        "#### Activity 1: Creating Scatter plot\n",
        "\n",
        "Consider the following dataset which depicts the relationship between **Unemployment Rate** and **Stock Price**:\n",
        "\n",
        "\n",
        "|Unemployment Rate|Stock Price|\n",
        "|-|-|\n",
        "|6.2|1600|\n",
        "|||\n",
        "|5.8|1500|\n",
        "|||\n",
        "|5.7|1530|\n",
        "|||\n",
        "|5.5|1540|\n",
        "|||\n",
        "|5.3|1620|\n",
        "|||\n",
        "|5.2|1534|\n",
        "|||\n",
        "|5.9|1565|\n",
        "\n",
        "Create **Scatter plot** for the above dataset with Unemployment Rate on X-axis and Stock Price on Y-axis.\n",
        "\n"
      ]
    },
    {
      "cell_type": "code",
      "metadata": {
        "id": "Oag8PLVXgo6c",
        "colab": {
          "base_uri": "https://localhost:8080/",
          "height": 265
        },
        "outputId": "c2ea77e2-412d-4e07-d12e-d18fcc652f93"
      },
      "source": [
        "# Create Scatter plot with Unemployment Rate on X-axis and Stock Price on Y-axis\n",
        "\n",
        "# import modules\n",
        "import numpy as np\n",
        "import pandas as pd\n",
        "import matplotlib.pyplot as plt\n",
        "\n",
        "# Create two lists, one for Unemployment Rate and one for Stock Price\n",
        "ump_list = [6.2,5.8,5.7,5.5,5.3,5.2,5.9]\n",
        "stk_list = [1600,1500,1530,1540,1620,1534,1565]\n",
        "# Create Scatter plot\n",
        "plt.figure(figsize = (8,4))\n",
        "plt.scatter(ump_list, stk_list)\n",
        "plt.show()"
      ],
      "execution_count": null,
      "outputs": [
        {
          "output_type": "display_data",
          "data": {
            "text/plain": [
              "<Figure size 576x288 with 1 Axes>"
            ],
            "image/png": "[encoded data removed]"
          },
          "metadata": {
            "needs_background": "light"
          }
        }
      ]
    },
    {
      "cell_type": "markdown",
      "metadata": {
        "id": "xJlPs9X9oeRw"
      },
      "source": [
        "---"
      ]
    },
    {
      "cell_type": "markdown",
      "metadata": {
        "id": "oxQdooOzjQ13"
      },
      "source": [
        "#### Activity 2: Creating Line Plot\n",
        "\n",
        "Consider the following dataset which depicts the **Unemployment Rate** across time.\n",
        "\n",
        "\n",
        "|Year| Rate|\n",
        "|-|-|\n",
        "|1920|<t>9.8|\n",
        "|||\n",
        "|1930|12|\n",
        "|||\n",
        "|1940|8|\n",
        "|||\n",
        "|1950|7.2|\n",
        "|||\n",
        "|1960|6.9|\n",
        "|||\n",
        "|1970|7|\n",
        "|||\n",
        "|1980|6.5|\n",
        "|||\n",
        "|1990|6.2|\n",
        "|||\n",
        "|2000|5.5|\n",
        "|||\n",
        "|2010|6.3|\n",
        "\n",
        "Create a **Line Plot** to depict the above dataset with Year on X-axis and Unemployment Rate on Y-axis.\n",
        "\n",
        "\n"
      ]
    },
    {
      "cell_type": "code",
      "metadata": {
        "id": "3dB7XTzxlaH8",
        "colab": {
          "base_uri": "https://localhost:8080/",
          "height": 265
        },
        "outputId": "9b4ab678-2c08-43ec-b9f8-c37d592f3ca8"
      },
      "source": [
        "# Create Line plot with Year on X-axis and Unemployment Rate on Y-axis\n",
        "\n",
        "# Create two lists, one for Year and one for Unemployment Rate\n",
        "year = [1920,1930,1940,1950,1960,1970,1980,1990,2000,2010]\n",
        "rate = [9.8,12,8,7.2,6.9,7,6.5,6.2,5.5,6.3]\n",
        "# Create the line plot\n",
        "plt.figure(figsize = (8,4))\n",
        "plt.plot(year, rate)\n",
        "plt.show()"
      ],
      "execution_count": null,
      "outputs": [
        {
          "output_type": "display_data",
          "data": {
            "text/plain": [
              "<Figure size 576x288 with 1 Axes>"
            ],
            "image/png": "[encoded data removed]"
          },
          "metadata": {
            "needs_background": "light"
          }
        }
      ]
    },
    {
      "cell_type": "markdown",
      "metadata": {
        "id": "b4aeCDi0pkJz"
      },
      "source": [
        "#### Activity 3: Tower of Hanoi\n",
        "\n",
        "Tower of Hanoi is a  puzzle where we have three towers and n disks. The objective of the puzzle is to move the entire stack to another tower, obeying the following simple rules:\n",
        "\n",
        "1. Only one disk can be moved at a time.\n",
        "2. Each move consists of taking the upper disk from one of the stacks and placing it on top of another stack i.e. a disk can only be moved if it is the uppermost disk on a stack.\n",
        "3. No disk may be placed on top of a smaller disk.\n",
        "\n",
        "![animation](https://i.imgur.com/Vz98flW.gif)\n",
        "\n",
        "\n",
        "Create a function to calculate minimum number of steps required to move the all the disks from first tower to third tower.\n",
        "\n",
        "**Hint:** The minimum number of steps required to move the disks is equal to $2^n - 1$ where $n$ is the number of disks and $2$ is the number of towers the disks needs to be shifted.\n",
        "\n",
        "\n",
        "\n",
        "**Example:** Minimum number of steps required to shift 5 disks is 31\n",
        "\n",
        "Follow the steps given below to achieve the desired result:\n",
        "\n",
        "  - **Step 1**: Create a function (let's say `tower_hanoi()`) that takes an integer `disks` as a parameter and returns the minimum amount of steps needed to complete the game.\n",
        "\n",
        "  - **Step 2**: Use $2^n - 1$ to return the result\n",
        "\n",
        "  - **Step 3**: Call the function and check the result\n"
      ]
    },
    {
      "cell_type": "code",
      "metadata": {
        "id": "d5ufKLNYzsIl"
      },
      "source": [
        "# Write your code here\n",
        "def tower_hanoi(disks):\n",
        "  steps = ((2 ** disks)-1)\n",
        "  print(steps)"
      ],
      "execution_count": null,
      "outputs": []
    },
    {
      "cell_type": "code",
      "source": [
        "tower_hanoi(5)"
      ],
      "metadata": {
        "id": "JysYLY9JQ3DI",
        "outputId": "27cf9737-1cfe-4c6d-e68d-48d643ce70c0",
        "colab": {
          "base_uri": "https://localhost:8080/"
        }
      },
      "execution_count": null,
      "outputs": [
        {
          "output_type": "stream",
          "name": "stdout",
          "text": [
            "31\n"
          ]
        }
      ]
    },
    {
      "cell_type": "markdown",
      "metadata": {
        "id": "HSz7jRSlGxIO"
      },
      "source": [
        "---"
      ]
    },
    {
      "cell_type": "markdown",
      "metadata": {
        "id": "7FLCEErBoQ47"
      },
      "source": [
        "### How To Submit The Project\n",
        "\n",
        "Follow the steps described below to submit the project.\n",
        "1. After finishing the project, click on the **Share** button on the top right corner of the notebook. A new dialog box will appear.\n",
        "  <img src='https://student-datasets-bucket.s3.ap-south-1.amazonaws.com/images/project-share-images/2_share_button.png' width=500>\n",
        "2. In the dialog box, click on the **Copy link** button. Make sure that '**Anyone on the Internet with this link can view**' option is selected and then click on the **Copy link** button.\n",
        "\n",
        "   <img src='https://student-datasets-bucket.s3.ap-south-1.amazonaws.com/images/project-share-images/3_copy_link.png' width=500>\n",
        "3. The link of the duplicate copy (named as **YYYY-MM-DD_StudentName_Project19**) of the notebook will get copied\n",
        "   <img src='https://student-datasets-bucket.s3.ap-south-1.amazonaws.com/images/project-share-images/4_copy_link_confirmation.png' width=500>\n",
        "4. Go to your dashboard and click on the **My Projects** option.\n",
        "   <img src='https://student-datasets-bucket.s3.ap-south-1.amazonaws.com/images/project-share-images/5_student_dashboard.png' width=800>\n",
        "   <img src='https://student-datasets-bucket.s3.ap-south-1.amazonaws.com/images/project-share-images/6_my_projects.png' width=800>\n",
        "5. Click on the **View Project** button for the project you want to submit.\n",
        "   <img src='https://student-datasets-bucket.s3.ap-south-1.amazonaws.com/images/project-share-images/7_view_project.png' width=800>\n",
        "6. Click on the **Submit Project Here** button.\n",
        "   <img src='https://student-datasets-bucket.s3.ap-south-1.amazonaws.com/images/project-share-images/8_submit_project.png' width=800>\n",
        "7. Past the link to the project named as **YYYY-MM-DD_StudentName_Project19** in the URL box and then click on the **Submit** button.\n",
        "   <img src='https://student-datasets-bucket.s3.ap-south-1.amazonaws.com/images/project-share-images/9_enter_project_url.png' width=800>\n"
      ]
    }
  ]
}