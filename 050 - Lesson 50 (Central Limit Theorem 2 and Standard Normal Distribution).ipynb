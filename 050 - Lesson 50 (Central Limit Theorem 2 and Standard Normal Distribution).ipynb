{
  "nbformat": 4,
  "nbformat_minor": 0,
  "metadata": {
    "colab": {
      "provenance": [],
      "include_colab_link": true
    },
    "kernelspec": {
      "name": "python3",
      "display_name": "Python 3"
    }
  },
  "cells": [
    {
      "cell_type": "markdown",
      "metadata": {
        "id": "view-in-github",
        "colab_type": "text"
      },
      "source": [
        "<a href=\"https://colab.research.google.com/github/rohansiddam/Python-Journey/blob/main/050%20-%20Lesson%2050%20(Central%20Limit%20Theorem%202%20and%20Standard%20Normal%20Distribution).ipynb\" target=\"_parent\"><img src=\"https://colab.research.google.com/assets/colab-badge.svg\" alt=\"Open In Colab\"/></a>"
      ]
    },
    {
      "cell_type": "markdown",
      "metadata": {
        "id": "Q7hw3pDcIn2J"
      },
      "source": [
        "# Lesson 50: CLT II And Standard Normal Distribution"
      ]
    },
    {
      "cell_type": "markdown",
      "metadata": {
        "id": "3U_BAlxOnVuh"
      },
      "source": [
        "### Teacher-Student Activities\n",
        "\n",
        "In this class, we will learn the following concepts:\n",
        "\n",
        "- How to calculate the population mean with 95% probability, using the sample mean and sample standard deviation.\n",
        "\n",
        "- Normalise an array/series of numeric values using the standard normalisation technique and plot a standard normal distribution curve.\n",
        "\n",
        "Let's quickly go through the activities covered in the previous class and begin this class from **Activity 1: Sampling Distribution And Standard Error**.\n"
      ]
    },
    {
      "cell_type": "markdown",
      "metadata": {
        "id": "Gn0HLG8mtLo-"
      },
      "source": [
        "---"
      ]
    },
    {
      "cell_type": "markdown",
      "metadata": {
        "id": "ze9uSJt-I-0E"
      },
      "source": [
        "**Data Description**\n",
        "\n",
        "The heart Disease UCI dataset contains data collected on 14 different attributes by examining 303 patients. The dataset focuses only on differentiating patients having heart disease; labelled as value 1 and those not having heart disease; labelled as value 0. The 14 attributes (or columns) are as follows:\n",
        "\n",
        "|Columns|Description|\n",
        "|-|-|\n",
        "|age|age in years|\n",
        "|sex|sex (1 = male; 0 = female)|\n",
        "|cp|chest pain type (4 values)|\n",
        "|trestbps|resting blood pressure (in mm Hg on admission to the hospital)|\n",
        "|chol|serum cholesterol in $\\frac{mg}{dl}$|\n",
        "|fbs|fasting blood sugar > 120 $\\frac{mg}{dl}$|\n",
        "|restecg|resting electrocardiographic results (values 0, 1, 2)|\n",
        "|thalach|maximum heart rate achieved|\n",
        "|exang|exercise induced angina (1 = yes; 0 = no)|\n",
        "|oldpeak|ST depression induced by exercise relative to rest|\n",
        "|slope|the slope of the peak exercise ST segment|\n",
        "|ca|number of major vessels (0-3) colored by fluoroscopy|\n",
        "|thal|A blood disorder called thalassemia|\n",
        "|target|1 = presence of heart disease; 0 = absence of heart disease|\n",
        "\n",
        "**Source:** https://archive.ics.uci.edu/ml/datasets/Heart+Disease\n",
        "\n",
        "\n"
      ]
    },
    {
      "cell_type": "markdown",
      "metadata": {
        "id": "BpKI2pWEtREK"
      },
      "source": [
        "---"
      ]
    },
    {
      "cell_type": "markdown",
      "metadata": {
        "id": "zvlK3lxPrnjT"
      },
      "source": [
        "#### Loading Data"
      ]
    },
    {
      "cell_type": "code",
      "metadata": {
        "id": "tmRB05lddS--",
        "colab": {
          "base_uri": "https://localhost:8080/",
          "height": 206
        },
        "outputId": "74192978-aaee-4c5b-81bb-b46a45a3ddc8"
      },
      "source": [
        "# Import the required modules and load the heart disease dataset. Also, display the first five rows.\n",
        "import numpy as np\n",
        "import pandas as pd\n",
        "import matplotlib.pyplot as plt\n",
        "import seaborn as sns\n",
        "\n",
        "csv_file = 'https://student-datasets-bucket.s3.ap-south-1.amazonaws.com/whitehat-ds-datasets/uci-heart-disease/heart.csv'\n",
        "df = pd.read_csv(csv_file)\n",
        "df.head()"
      ],
      "execution_count": null,
      "outputs": [
        {
          "output_type": "execute_result",
          "data": {
            "text/plain": [
              "   age  sex  cp  trestbps  chol  fbs  restecg  thalach  exang  oldpeak  slope  \\\n",
              "0   63    1   3       145   233    1        0      150      0      2.3      0   \n",
              "1   37    1   2       130   250    0        1      187      0      3.5      0   \n",
              "2   41    0   1       130   204    0        0      172      0      1.4      2   \n",
              "3   56    1   1       120   236    0        1      178      0      0.8      2   \n",
              "4   57    0   0       120   354    0        1      163      1      0.6      2   \n",
              "\n",
              "   ca  thal  target  \n",
              "0   0     1       1  \n",
              "1   0     2       1  \n",
              "2   0     2       1  \n",
              "3   0     2       1  \n",
              "4   0     2       1  "
            ],
            "text/html": [
              "\n",
              "  <div id=\"df-03f2b0ea-0af5-4edd-8625-afd475e05db7\">\n",
              "    <div class=\"colab-df-container\">\n",
              "      <div>\n",
              "<style scoped>\n",
              "    .dataframe tbody tr th:only-of-type {\n",
              "        vertical-align: middle;\n",
              "    }\n",
              "\n",
              "    .dataframe tbody tr th {\n",
              "        vertical-align: top;\n",
              "    }\n",
              "\n",
              "    .dataframe thead th {\n",
              "        text-align: right;\n",
              "    }\n",
              "</style>\n",
              "<table border=\"1\" class=\"dataframe\">\n",
              "  <thead>\n",
              "    <tr style=\"text-align: right;\">\n",
              "      <th></th>\n",
              "      <th>age</th>\n",
              "      <th>sex</th>\n",
              "      <th>cp</th>\n",
              "      <th>trestbps</th>\n",
              "      <th>chol</th>\n",
              "      <th>fbs</th>\n",
              "      <th>restecg</th>\n",
              "      <th>thalach</th>\n",
              "      <th>exang</th>\n",
              "      <th>oldpeak</th>\n",
              "      <th>slope</th>\n",
              "      <th>ca</th>\n",
              "      <th>thal</th>\n",
              "      <th>target</th>\n",
              "    </tr>\n",
              "  </thead>\n",
              "  <tbody>\n",
              "    <tr>\n",
              "      <th>0</th>\n",
              "      <td>63</td>\n",
              "      <td>1</td>\n",
              "      <td>3</td>\n",
              "      <td>145</td>\n",
              "      <td>233</td>\n",
              "      <td>1</td>\n",
              "      <td>0</td>\n",
              "      <td>150</td>\n",
              "      <td>0</td>\n",
              "      <td>2.3</td>\n",
              "      <td>0</td>\n",
              "      <td>0</td>\n",
              "      <td>1</td>\n",
              "      <td>1</td>\n",
              "    </tr>\n",
              "    <tr>\n",
              "      <th>1</th>\n",
              "      <td>37</td>\n",
              "      <td>1</td>\n",
              "      <td>2</td>\n",
              "      <td>130</td>\n",
              "      <td>250</td>\n",
              "      <td>0</td>\n",
              "      <td>1</td>\n",
              "      <td>187</td>\n",
              "      <td>0</td>\n",
              "      <td>3.5</td>\n",
              "      <td>0</td>\n",
              "      <td>0</td>\n",
              "      <td>2</td>\n",
              "      <td>1</td>\n",
              "    </tr>\n",
              "    <tr>\n",
              "      <th>2</th>\n",
              "      <td>41</td>\n",
              "      <td>0</td>\n",
              "      <td>1</td>\n",
              "      <td>130</td>\n",
              "      <td>204</td>\n",
              "      <td>0</td>\n",
              "      <td>0</td>\n",
              "      <td>172</td>\n",
              "      <td>0</td>\n",
              "      <td>1.4</td>\n",
              "      <td>2</td>\n",
              "      <td>0</td>\n",
              "      <td>2</td>\n",
              "      <td>1</td>\n",
              "    </tr>\n",
              "    <tr>\n",
              "      <th>3</th>\n",
              "      <td>56</td>\n",
              "      <td>1</td>\n",
              "      <td>1</td>\n",
              "      <td>120</td>\n",
              "      <td>236</td>\n",
              "      <td>0</td>\n",
              "      <td>1</td>\n",
              "      <td>178</td>\n",
              "      <td>0</td>\n",
              "      <td>0.8</td>\n",
              "      <td>2</td>\n",
              "      <td>0</td>\n",
              "      <td>2</td>\n",
              "      <td>1</td>\n",
              "    </tr>\n",
              "    <tr>\n",
              "      <th>4</th>\n",
              "      <td>57</td>\n",
              "      <td>0</td>\n",
              "      <td>0</td>\n",
              "      <td>120</td>\n",
              "      <td>354</td>\n",
              "      <td>0</td>\n",
              "      <td>1</td>\n",
              "      <td>163</td>\n",
              "      <td>1</td>\n",
              "      <td>0.6</td>\n",
              "      <td>2</td>\n",
              "      <td>0</td>\n",
              "      <td>2</td>\n",
              "      <td>1</td>\n",
              "    </tr>\n",
              "  </tbody>\n",
              "</table>\n",
              "</div>\n",
              "      <button class=\"colab-df-convert\" onclick=\"convertToInteractive('df-03f2b0ea-0af5-4edd-8625-afd475e05db7')\"\n",
              "              title=\"Convert this dataframe to an interactive table.\"\n",
              "              style=\"display:none;\">\n",
              "        \n",
              "  <svg xmlns=\"http://www.w3.org/2000/svg\" height=\"24px\"viewBox=\"0 0 24 24\"\n",
              "       width=\"24px\">\n",
              "    <path d=\"M0 0h24v24H0V0z\" fill=\"none\"/>\n",
              "    <path d=\"M18.56 5.44l.94 2.06.94-2.06 2.06-.94-2.06-.94-.94-2.06-.94 2.06-2.06.94zm-11 1L8.5 8.5l.94-2.06 2.06-.94-2.06-.94L8.5 2.5l-.94 2.06-2.06.94zm10 10l.94 2.06.94-2.06 2.06-.94-2.06-.94-.94-2.06-.94 2.06-2.06.94z\"/><path d=\"M17.41 7.96l-1.37-1.37c-.4-.4-.92-.59-1.43-.59-.52 0-1.04.2-1.43.59L10.3 9.45l-7.72 7.72c-.78.78-.78 2.05 0 2.83L4 21.41c.39.39.9.59 1.41.59.51 0 1.02-.2 1.41-.59l7.78-7.78 2.81-2.81c.8-.78.8-2.07 0-2.86zM5.41 20L4 18.59l7.72-7.72 1.47 1.35L5.41 20z\"/>\n",
              "  </svg>\n",
              "      </button>\n",
              "      \n",
              "  <style>\n",
              "    .colab-df-container {\n",
              "      display:flex;\n",
              "      flex-wrap:wrap;\n",
              "      gap: 12px;\n",
              "    }\n",
              "\n",
              "    .colab-df-convert {\n",
              "      background-color: #E8F0FE;\n",
              "      border: none;\n",
              "      border-radius: 50%;\n",
              "      cursor: pointer;\n",
              "      display: none;\n",
              "      fill: #1967D2;\n",
              "      height: 32px;\n",
              "      padding: 0 0 0 0;\n",
              "      width: 32px;\n",
              "    }\n",
              "\n",
              "    .colab-df-convert:hover {\n",
              "      background-color: #E2EBFA;\n",
              "      box-shadow: 0px 1px 2px rgba(60, 64, 67, 0.3), 0px 1px 3px 1px rgba(60, 64, 67, 0.15);\n",
              "      fill: #174EA6;\n",
              "    }\n",
              "\n",
              "    [theme=dark] .colab-df-convert {\n",
              "      background-color: #3B4455;\n",
              "      fill: #D2E3FC;\n",
              "    }\n",
              "\n",
              "    [theme=dark] .colab-df-convert:hover {\n",
              "      background-color: #434B5C;\n",
              "      box-shadow: 0px 1px 3px 1px rgba(0, 0, 0, 0.15);\n",
              "      filter: drop-shadow(0px 1px 2px rgba(0, 0, 0, 0.3));\n",
              "      fill: #FFFFFF;\n",
              "    }\n",
              "  </style>\n",
              "\n",
              "      <script>\n",
              "        const buttonEl =\n",
              "          document.querySelector('#df-03f2b0ea-0af5-4edd-8625-afd475e05db7 button.colab-df-convert');\n",
              "        buttonEl.style.display =\n",
              "          google.colab.kernel.accessAllowed ? 'block' : 'none';\n",
              "\n",
              "        async function convertToInteractive(key) {\n",
              "          const element = document.querySelector('#df-03f2b0ea-0af5-4edd-8625-afd475e05db7');\n",
              "          const dataTable =\n",
              "            await google.colab.kernel.invokeFunction('convertToInteractive',\n",
              "                                                     [key], {});\n",
              "          if (!dataTable) return;\n",
              "\n",
              "          const docLinkHtml = 'Like what you see? Visit the ' +\n",
              "            '<a target=\"_blank\" href=https://colab.research.google.com/notebooks/data_table.ipynb>data table notebook</a>'\n",
              "            + ' to learn more about interactive tables.';\n",
              "          element.innerHTML = '';\n",
              "          dataTable['output_type'] = 'display_data';\n",
              "          await google.colab.output.renderOutput(dataTable, element);\n",
              "          const docLink = document.createElement('div');\n",
              "          docLink.innerHTML = docLinkHtml;\n",
              "          element.appendChild(docLink);\n",
              "        }\n",
              "      </script>\n",
              "    </div>\n",
              "  </div>\n",
              "  "
            ]
          },
          "metadata": {},
          "execution_count": 53
        }
      ]
    },
    {
      "cell_type": "markdown",
      "metadata": {
        "id": "h1a-clG-jqPr"
      },
      "source": [
        "Let's first look at the complete information on the `df` DataFrame."
      ]
    },
    {
      "cell_type": "code",
      "metadata": {
        "id": "M2x3F5XtkAGd",
        "colab": {
          "base_uri": "https://localhost:8080/"
        },
        "outputId": "8616b9ef-49b2-4649-82e0-9f5729aa1a1c"
      },
      "source": [
        "# DataFrame information.\n",
        "df.info()"
      ],
      "execution_count": null,
      "outputs": [
        {
          "output_type": "stream",
          "name": "stdout",
          "text": [
            "<class 'pandas.core.frame.DataFrame'>\n",
            "RangeIndex: 303 entries, 0 to 302\n",
            "Data columns (total 14 columns):\n",
            " #   Column    Non-Null Count  Dtype  \n",
            "---  ------    --------------  -----  \n",
            " 0   age       303 non-null    int64  \n",
            " 1   sex       303 non-null    int64  \n",
            " 2   cp        303 non-null    int64  \n",
            " 3   trestbps  303 non-null    int64  \n",
            " 4   chol      303 non-null    int64  \n",
            " 5   fbs       303 non-null    int64  \n",
            " 6   restecg   303 non-null    int64  \n",
            " 7   thalach   303 non-null    int64  \n",
            " 8   exang     303 non-null    int64  \n",
            " 9   oldpeak   303 non-null    float64\n",
            " 10  slope     303 non-null    int64  \n",
            " 11  ca        303 non-null    int64  \n",
            " 12  thal      303 non-null    int64  \n",
            " 13  target    303 non-null    int64  \n",
            "dtypes: float64(1), int64(13)\n",
            "memory usage: 33.3 KB\n"
          ]
        }
      ]
    },
    {
      "cell_type": "markdown",
      "metadata": {
        "id": "f6cHtaNIxePz"
      },
      "source": [
        "---"
      ]
    },
    {
      "cell_type": "markdown",
      "metadata": {
        "id": "KY8RUpcogKCP"
      },
      "source": [
        "#### Activity 1: Sampling Distribution And Standard Error\n",
        "\n",
        "*If we take several samples of a dataset (or population) such that each sample contains sufficient number of observations, then the mean of all the sample means will be very close or nearly equal to the population mean*\n",
        "\n",
        "This is called **Central Limit Theorem (CLT)**.\n",
        "The distribution of sample means of a population is called a **sampling distribution.**\n",
        "\n",
        "\n",
        "The sampling distribution has the following three properties:\n",
        "\n",
        "1. The mean of a sampling distribution (denoted by $\\mu_\\bar{X}$) is equal to the population mean (denoted by $\\mu$). Hence,\n",
        "$$\\mu_\\bar{X} = \\mu$$\n",
        "2. The standard deviation (or **standard error**) in the sampling distribution (denotes as $\\text{SE}$) is the ratio of the sample standard deviation ($s$) to the square root of sample size. It is given as $\\text{SE} = \\frac{s}{\\sqrt{n}}$, where $n$ is the sample size.\n",
        "3. For $n \\ge 30$, the sampling distribution follows the normal distribution (bell curve).\n",
        "\n",
        "\n",
        "\n"
      ]
    },
    {
      "cell_type": "markdown",
      "metadata": {
        "id": "8ecokmLLoVNX"
      },
      "source": [
        "---"
      ]
    },
    {
      "cell_type": "markdown",
      "metadata": {
        "id": "CJmv539kn9nq"
      },
      "source": [
        "#### Activity 2: Population Mean Estimation Using CLT^\n",
        "\n",
        "Now using CLT, let's learn to compute the population mean using the sample mean and sample standard deviation.\n",
        "\n",
        "This concept will be helpful when we don't know the population mean. In this case, we can easily calculate the population mean and population standard deviation because we have the dataset for the population. But many times in the real world, we have the dataset for a small sample and using the sample mean and sample standard deviation we will have to find the population mean.\n",
        "\n",
        "To learn this concept, let's consider the population of the patients having heart disease.\n"
      ]
    },
    {
      "cell_type": "code",
      "metadata": {
        "id": "4NDc3zxyhB-z",
        "colab": {
          "base_uri": "https://localhost:8080/"
        },
        "outputId": "371618f4-5ee5-45e7-f708-9a39ff252673"
      },
      "source": [
        "# S2.1: Create a Pandas series containing cholesterol values for the patients having heart disease.\n",
        "chol_disease = df.loc[df['target'] == 1, 'chol']\n",
        "chol_disease"
      ],
      "execution_count": null,
      "outputs": [
        {
          "output_type": "execute_result",
          "data": {
            "text/plain": [
              "0      233\n",
              "1      250\n",
              "2      204\n",
              "3      236\n",
              "4      354\n",
              "      ... \n",
              "160    240\n",
              "161    342\n",
              "162    157\n",
              "163    175\n",
              "164    175\n",
              "Name: chol, Length: 165, dtype: int64"
            ]
          },
          "metadata": {},
          "execution_count": 55
        }
      ]
    },
    {
      "cell_type": "markdown",
      "metadata": {
        "id": "wAnkyR_2yGl6"
      },
      "source": [
        "So there are 165 patients who have heart disease. Hence, in this case, our population dataset consists of 165 observations. Now, let's calculate the population mean and population standard deviation for this dataset."
      ]
    },
    {
      "cell_type": "code",
      "metadata": {
        "id": "-LwHx7dr6AcA",
        "colab": {
          "base_uri": "https://localhost:8080/"
        },
        "outputId": "131a0864-fcb0-45cd-88a1-3106ab76c154"
      },
      "source": [
        "# S2.2: Calculate population mean and population standard deviation for the patients having heart disease.\n",
        "print(chol_disease.mean())\n",
        "print(chol_disease.std())"
      ],
      "execution_count": null,
      "outputs": [
        {
          "output_type": "stream",
          "name": "stdout",
          "text": [
            "242.23030303030302\n",
            "53.55287155453833\n"
          ]
        }
      ]
    },
    {
      "cell_type": "markdown",
      "metadata": {
        "id": "X-z5U3eW_A8A"
      },
      "source": [
        "Now let's take a sample of (say 50) patients out of 165 patients having heart disease and compute the mean cholesterol level along with the standard deviation.\n",
        "\n",
        "**Note:** Choose a sample size of at least 30 so that the sampling distribution follows the normal distribution."
      ]
    },
    {
      "cell_type": "code",
      "metadata": {
        "id": "LBFi6lMh2uke"
      },
      "source": [
        "# S2.3: Create a sample of 50 patients out of 165 patients having heart disease.\n",
        "sample_disease = chol_disease.sample(n = 50)"
      ],
      "execution_count": null,
      "outputs": []
    },
    {
      "cell_type": "markdown",
      "metadata": {
        "id": "VqAXBnuf2oNw"
      },
      "source": [
        "Let's compute mean cholesterol level along with standard deviation for the sample of patients having heart disease."
      ]
    },
    {
      "cell_type": "code",
      "metadata": {
        "id": "pYkn8F1Kxz69"
      },
      "source": [
        "# S2.4: Compute mean cholesterol level along with standard deviation for the patients having heart disease.\n",
        "sample_mean = sample_disease.mean()\n",
        "sample_std = sample_disease.std()"
      ],
      "execution_count": null,
      "outputs": []
    },
    {
      "cell_type": "markdown",
      "metadata": {
        "id": "Yk9NsLVxyRv6"
      },
      "source": [
        "Now, using CLT, with 95% probability (or confidence), you can say that the population mean $\\mu$ of cholesterol level for the patients having heart disease will lie between $\\left(\\text{sample mean} - 2 \\times \\frac{\\text{sample standard deviation}}{\\sqrt{\\text{sample size}}}\\right)$ and $\\left(\\text{sample mean} + 2 \\times \\frac{\\text{sample standard deviation}}{\\sqrt{\\text{sample size}}}\\right)$\n",
        "\n",
        "**Recall Normal Distribution**\n",
        "\n",
        "1. Approx. 68% of the values lie within one-sigma interval around the mean.\n",
        "\n",
        "2. Approx. 95% of the values lie within a two-sigma interval around the mean.\n",
        "\n",
        "3. Approx. 99.7% of the values lie within a three-sigma interval around the mean.\n",
        "\n",
        "<img src = 'https://student-datasets-bucket.s3.ap-south-1.amazonaws.com/images/vecstock-norm-dist.jpg' width = 700>\n",
        "\n",
        "\n",
        "Now, with 95% probability (or confidence), calculate the population mean of cholesterol level for the patients having heart disease using the sample mean and sample standard deviation."
      ]
    },
    {
      "cell_type": "code",
      "source": [
        "sample_disease.size"
      ],
      "metadata": {
        "colab": {
          "base_uri": "https://localhost:8080/"
        },
        "id": "P8sziOE6828L",
        "outputId": "f6a003b8-840a-4849-f51d-ef3b838ccf34"
      },
      "execution_count": null,
      "outputs": [
        {
          "output_type": "execute_result",
          "data": {
            "text/plain": [
              "50"
            ]
          },
          "metadata": {},
          "execution_count": 59
        }
      ]
    },
    {
      "cell_type": "code",
      "source": [
        "sample_std"
      ],
      "metadata": {
        "colab": {
          "base_uri": "https://localhost:8080/"
        },
        "id": "3GwCiT_i9A1K",
        "outputId": "4197c5da-4120-4f1f-ba5c-0ab710adeb5e"
      },
      "execution_count": null,
      "outputs": [
        {
          "output_type": "execute_result",
          "data": {
            "text/plain": [
              "43.916265407556445"
            ]
          },
          "metadata": {},
          "execution_count": 60
        }
      ]
    },
    {
      "cell_type": "code",
      "metadata": {
        "id": "teGIVfaOjb7A",
        "colab": {
          "base_uri": "https://localhost:8080/"
        },
        "outputId": "84c538dc-bedc-439b-b67d-521ead0d703b"
      },
      "source": [
        "# S2.5: With 95% probability, calculate the population mean of cholesterol level using the sample mean and sample standard deviation.\n",
        "std_error = sample_std / np.sqrt(sample_disease.size)\n",
        "sample_mean - 2 * std_error, sample_mean + 2 * std_error"
      ],
      "execution_count": null,
      "outputs": [
        {
          "output_type": "execute_result",
          "data": {
            "text/plain": [
              "(229.69860437037147, 254.54139562962854)"
            ]
          },
          "metadata": {},
          "execution_count": 61
        }
      ]
    },
    {
      "cell_type": "markdown",
      "metadata": {
        "id": "tKX_a6-B9WOP"
      },
      "source": [
        "So, with 95% probability (or confidence), the population mean $\\mu$ of cholesterol level for the patients having heart disease will fall in the above interval. In fact, the population mean is 242.23 which falls in the above interval.\n",
        "\n",
        "Similarly, using CLT, with 68% probability (or confidence), you can say that the population mean $\\mu$ of cholesterol level for the patients having heart disease will lie between $\\left(\\text{sample mean} - \\frac{\\text{sample standard deviation}}{\\sqrt{\\text{sample size}}}\\right)$ and $\\left(\\text{sample mean} + \\frac{\\text{sample standard deviation}}{\\sqrt{\\text{sample size}}}\\right)$\n",
        "\n",
        "\n",
        "Now, with 68% probability (or confidence), calculate the population mean of cholesterol level for the patients having heart disease using the sample mean and sample standard deviation."
      ]
    },
    {
      "cell_type": "code",
      "metadata": {
        "id": "oLUKWJc97MZf",
        "colab": {
          "base_uri": "https://localhost:8080/"
        },
        "outputId": "8d513099-c071-42ed-834f-ab162bdc4db2"
      },
      "source": [
        "# S2.6: Calculate the 68% confidence interval for the population mean of cholesterol level using the sample mean and standard error.\n",
        "sample_mean - std_error, sample_mean + std_error"
      ],
      "execution_count": null,
      "outputs": [
        {
          "output_type": "execute_result",
          "data": {
            "text/plain": [
              "(235.90930218518574, 248.33069781481427)"
            ]
          },
          "metadata": {},
          "execution_count": 62
        }
      ]
    },
    {
      "cell_type": "markdown",
      "metadata": {
        "id": "sfJVkSIJ7j7i"
      },
      "source": [
        "So, with 68% probability (or confidence), the population mean $\\mu$ of cholesterol level for the patients having heart disease will fall in the above interval. Since the probability is slightly lower, the population mean (which is 242.23 in this case) may or may not fall in the above interval.\n",
        "\n",
        "Now lastly, let's calculate the mean of cholesterol level for the patients not having heart disease to compare it with the average cholesterol level for the patients having heart disease."
      ]
    },
    {
      "cell_type": "code",
      "metadata": {
        "id": "2N7fhAGDLwRE"
      },
      "source": [
        "# S2.7: Calculate the population mean of the cholesterol level for the patients not having heart disease.\n",
        "chol_no_disease = df.loc[df['target'] == 0, 'chol']"
      ],
      "execution_count": null,
      "outputs": []
    },
    {
      "cell_type": "markdown",
      "metadata": {
        "id": "LmZkSIW4lbV1"
      },
      "source": [
        "So on comparing only the means of cholesterol values, it is quite clear that on an average people having lower cholesterol levels are likely to have heart disease.\n",
        "\n",
        "You can also create a box plot to visualise the spread of the `chol` values in the case of patients having heart disease and not having heart disease."
      ]
    },
    {
      "cell_type": "code",
      "metadata": {
        "id": "dxBgJme_NEgw",
        "colab": {
          "base_uri": "https://localhost:8080/",
          "height": 334
        },
        "outputId": "8e1120ae-6897-4890-f10a-ff84e189fcab"
      },
      "source": [
        "# S2.8: Create a box plot to compare the spread of means in the case of patients having heart disease and not having it.\n",
        "plt.figure(figsize = (12,4))\n",
        "sns.boxplot(df['chol'], df['target'], orient = 'h')\n",
        "plt.show()"
      ],
      "execution_count": null,
      "outputs": [
        {
          "output_type": "stream",
          "name": "stderr",
          "text": [
            "/usr/local/lib/python3.7/dist-packages/seaborn/_decorators.py:43: FutureWarning: Pass the following variables as keyword args: x, y. From version 0.12, the only valid positional argument will be `data`, and passing other arguments without an explicit keyword will result in an error or misinterpretation.\n",
            "  FutureWarning\n"
          ]
        },
        {
          "output_type": "display_data",
          "data": {
            "text/plain": [
              "<Figure size 864x288 with 1 Axes>"
            ],
            "image/png": "[encoded data removed]"
          },
          "metadata": {
            "needs_background": "light"
          }
        }
      ]
    },
    {
      "cell_type": "markdown",
      "metadata": {
        "id": "nkVP2G1jPwdA"
      },
      "source": [
        "From the box plot, you can see that the first, second (or median) and third quartiles of the cholesterol values for the patients having heart disease (shown with the orange colour) are lower as compared to the ones for the patients not having it (shown with the blue colour). Hence, we can confidently say that people having lower cholesterol levels are more likely to have heart disease."
      ]
    },
    {
      "cell_type": "markdown",
      "metadata": {
        "id": "I0XiVy43oHJy"
      },
      "source": [
        "---"
      ]
    },
    {
      "cell_type": "markdown",
      "metadata": {
        "id": "AXBc5OBVZc_E"
      },
      "source": [
        "#### Activity 3: Standard Normalisation (or Scaling)^^\n",
        "\n",
        "Now let's learn the concept of standard normalisation which is another normalisation technique to reduce the size of the numeric values. When you normalise an array/series of values using the standard normalisation technique, the mean of all the normalised values will be 0 and the standard deviation will be 1.\n",
        "\n",
        "Let's normalise all the `chol` values to understand this concept. To do this, you need to calculate  $Z$-score for each value. It is given by the following expression:\n",
        "\n",
        "$$Z = \\frac{X - \\mu}{\\sigma}$$\n",
        "\n",
        "where\n",
        "\n",
        "- $X$ is an observation\n",
        "\n",
        "- $\\mu$ is the population mean\n",
        "\n",
        "- $\\sigma$ is the population standard deviation\n"
      ]
    },
    {
      "cell_type": "code",
      "metadata": {
        "id": "rsl2hOUXcusP",
        "colab": {
          "base_uri": "https://localhost:8080/"
        },
        "outputId": "76fe1acc-d698-4ead-ab3f-6b559e59ab9e"
      },
      "source": [
        "# S3.1 Calculate the z-score for the first observation in the 'chol_having_disease' Pandas series.\n",
        "z_score = (chol_disease[0] - df.mean()) / df.std()\n",
        "print(z_score)"
      ],
      "execution_count": null,
      "outputs": [
        {
          "output_type": "stream",
          "name": "stdout",
          "text": [
            "age          19.668760\n",
            "sex         498.522395\n",
            "cp          224.826746\n",
            "trestbps      5.780329\n",
            "chol         -0.255910\n",
            "fbs         653.713853\n",
            "restecg     442.079880\n",
            "thalach       3.639055\n",
            "exang       495.266090\n",
            "oldpeak     199.780713\n",
            "slope       375.837121\n",
            "ca          227.135910\n",
            "thal        376.768447\n",
            "target      465.996865\n",
            "dtype: float64\n"
          ]
        }
      ]
    },
    {
      "cell_type": "markdown",
      "metadata": {
        "id": "wvDSIzFWd68a"
      },
      "source": [
        "Let's create a function to calculate the $Z$-score for each value in the `chol_having_disease` series."
      ]
    },
    {
      "cell_type": "code",
      "metadata": {
        "id": "99yEHaEUh7eq"
      },
      "source": [
        "# S3.2: Calculate the Z-score for all the values in the 'chol_having_disease' Pandas series.\n",
        "def z_score(array):\n",
        "  normalize = ((array - np.mean(array)) / np.std(array))\n",
        "  return normalize"
      ],
      "execution_count": null,
      "outputs": []
    },
    {
      "cell_type": "code",
      "source": [
        "z_val = z_score(chol_disease)"
      ],
      "metadata": {
        "id": "QJMBnAtB_slT"
      },
      "execution_count": null,
      "outputs": []
    },
    {
      "cell_type": "markdown",
      "metadata": {
        "id": "J3y8bE4FenwB"
      },
      "source": [
        "Now let's calculate the mean and standard deviation of all the $Z$-scores. The mean value should be 0 and the standard deviation should be 1."
      ]
    },
    {
      "cell_type": "code",
      "metadata": {
        "id": "mcG_inwFaFKJ",
        "colab": {
          "base_uri": "https://localhost:8080/"
        },
        "outputId": "f5429506-e860-43b7-bb7a-2012ea3bc405"
      },
      "source": [
        "# S3.3: Calculate the mean and standard deviation of all the Z-scores.\n",
        "print(z_val.mean())\n",
        "print(z_val.std())"
      ],
      "execution_count": null,
      "outputs": [
        {
          "output_type": "stream",
          "name": "stdout",
          "text": [
            "1.9782155711502788e-16\n",
            "1.0030441470721065\n"
          ]
        }
      ]
    },
    {
      "cell_type": "markdown",
      "metadata": {
        "id": "FLSUsxtEfa0E"
      },
      "source": [
        "The process of calculating the $Z$-score for all the observations in an array/series is called **standard normalisation** or **standard scaling**.\n",
        "\n",
        "*Remember that the mean and standard deviation of the standard normalised values will be always 0 and 1 respectively.*"
      ]
    },
    {
      "cell_type": "markdown",
      "metadata": {
        "id": "mwlmPZa0ZcGQ"
      },
      "source": [
        "---"
      ]
    },
    {
      "cell_type": "markdown",
      "metadata": {
        "id": "ktMqpzEWkMKO"
      },
      "source": [
        "#### Activity 4: Standard Normal Distribution^^^\n",
        "\n",
        "After normalising the values in an array/sereies (that follows normal distribution), if you plot it again, you will get a normal distribution as shown in the image below.\n",
        "\n",
        "<img src='https://student-datasets-bucket.s3.ap-south-1.amazonaws.com/images/standard-normal-distribution.png' width = 800>\n",
        "\n",
        "The values on the $x$-axis can be represented with their corresponding $Z$-scores.\n",
        "\n",
        "In the case of standard normal distribution,\n",
        "\n",
        "- $\\mu = 0$ therefore, $Z = 0$ and\n",
        "\n",
        "- $\\sigma = 1$ therefore, $Z = 1$\n",
        "\n",
        "So\n",
        "\n",
        "- $\\mu - \\sigma = -1 \\Rightarrow Z = -1$\n",
        "\n",
        "- $\\mu - 2\\sigma = -2 \\Rightarrow Z = -2$\n",
        "\n",
        "- $\\mu - 3\\sigma = -3 \\Rightarrow Z = -3$\n",
        "\n",
        "- $\\mu + \\sigma = 1 \\Rightarrow Z = 1$\n",
        "\n",
        "- $\\mu + 2\\sigma = 2 \\Rightarrow Z = 2$\n",
        "\n",
        "- $\\mu + 3\\sigma = 3 \\Rightarrow Z = 3$\n",
        "\n",
        "\n",
        "\n",
        "\n",
        "Let's, calculate the $Z$-score for all the values in the `chol_not_having_disease` Pandas series and then plot its probability distribution without histogram."
      ]
    },
    {
      "cell_type": "code",
      "metadata": {
        "id": "FxoHjz6KsHNb",
        "colab": {
          "base_uri": "https://localhost:8080/",
          "height": 334
        },
        "outputId": "85c169ca-ce68-4318-b905-4535c3023788"
      },
      "source": [
        "# S4.1: Calculate the Z-score for all the values in the 'chol_not_having_disease' Pandas series and plot its probability distribution.\n",
        "z_val_2 = z_score(chol_no_disease)\n",
        "\n",
        "plt.figure(figsize = (12,4))\n",
        "sns.distplot(z_val_2, hist = False)\n",
        "plt.axvline(x = z_val_2.mean())\n",
        "plt.show()"
      ],
      "execution_count": null,
      "outputs": [
        {
          "output_type": "stream",
          "name": "stderr",
          "text": [
            "/usr/local/lib/python3.7/dist-packages/seaborn/distributions.py:2619: FutureWarning: `distplot` is a deprecated function and will be removed in a future version. Please adapt your code to use either `displot` (a figure-level function with similar flexibility) or `kdeplot` (an axes-level function for kernel density plots).\n",
            "  warnings.warn(msg, FutureWarning)\n"
          ]
        },
        {
          "output_type": "display_data",
          "data": {
            "text/plain": [
              "<Figure size 864x288 with 1 Axes>"
            ],
            "image/png": "[encoded data removed]"
          },
          "metadata": {
            "needs_background": "light"
          }
        }
      ]
    },
    {
      "cell_type": "markdown",
      "metadata": {
        "id": "HtgyLs0SYdKi"
      },
      "source": [
        "Since the `chol_not_having_disease` follows normal distribution, its normalised version, i.e., `chol_no_disease_zscores` also follows normal distribution.\n",
        "\n",
        "Let's stop here. In the next class, we will learn to calculate probability of a continuous random variable using $Z$-score and cumulative distribution function."
      ]
    },
    {
      "cell_type": "markdown",
      "metadata": {
        "id": "BY4GdquPkK5h"
      },
      "source": [
        "---"
      ]
    }
  ]
}