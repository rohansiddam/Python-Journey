{
  "nbformat": 4,
  "nbformat_minor": 0,
  "metadata": {
    "colab": {
      "provenance": [],
      "include_colab_link": true
    },
    "kernelspec": {
      "name": "python3",
      "display_name": "Python 3"
    },
    "language_info": {
      "name": "python"
    }
  },
  "cells": [
    {
      "cell_type": "markdown",
      "metadata": {
        "id": "view-in-github",
        "colab_type": "text"
      },
      "source": [
        "<a href=\"https://colab.research.google.com/github/rohansiddam/Python-Journey/blob/main/124%20-%20Lesson%20124%20(kNN%20Regression%20II%20-%20Imputing%20Missing%20Values).ipynb\" target=\"_parent\"><img src=\"https://colab.research.google.com/assets/colab-badge.svg\" alt=\"Open In Colab\"/></a>"
      ]
    },
    {
      "cell_type": "markdown",
      "metadata": {
        "id": "98EVEazf_LLM"
      },
      "source": [
        "# Lesson 124: kNN Regression II - Imputing Missing Values"
      ]
    },
    {
      "cell_type": "markdown",
      "metadata": {
        "id": "iSxtp-QD_a-F"
      },
      "source": [
        "---"
      ]
    },
    {
      "cell_type": "markdown",
      "metadata": {
        "id": "6ZUjQYr0_gu0"
      },
      "source": [
        "### Teacher-Student Activities\n",
        "\n",
        "In the previous class, we implemented three  classification algorithms for water quality prediction dataset and compared the performance of these algorithms with kNN classifier. We also understood how kNN can be used to solve a regression problem statement.\n",
        "\n",
        "In today's class, we will implement kNN regression using `sklearn` module. In this process, we will also address a new problem statement. Let us first recall the concepts covered in previous class and then look at the regression problem statement.\n",
        "\n",
        "\n",
        "\n",
        "\n",
        "\n"
      ]
    },
    {
      "cell_type": "markdown",
      "metadata": {
        "id": "IHVLPGyJ_Zns"
      },
      "source": [
        "---"
      ]
    },
    {
      "cell_type": "markdown",
      "metadata": {
        "id": "R6ddMxCoh69o"
      },
      "source": [
        "#### Recap\n",
        "\n",
        "#### Applying kNN for Regression\n",
        "\n",
        "\n",
        "Suppose we have age, height, and weight for 10 people and we need to predict the weight of a new person using the age and height information that we have.\n",
        "\n",
        "The data including age, height, and weight information is shown below:\n",
        "\n",
        "<center><img src=\"https://s3-whjr-v2-prod-bucket.whjr.online/whjr-v2-prod-bucket/86c216dc-5981-4381-9c59-40c2cd70fa53.PNG\"/></center>\n",
        "\n",
        "Let us create a pandas DataFrame containing the above columns by using the following dictionary:\n",
        "\n",
        "```python\n",
        "data_dict = {'ID':[1, 2, 3, 4, 5, 6, 7, 8, 9, 10],\n",
        "\t\t'age': [45, 32, 26, 23, 28, 30, 34, 19, 36, 40],\n",
        "\t\t'height':[5, 5.6, 5.11, 5.5, 5.8, 5.6, 5.9, 5.3, 5.8, 4.8],\n",
        "\t  'weight' : [77, 58, 47, 45, 60, 55, 59, 40, 60, 72]}\n",
        "```"
      ]
    },
    {
      "cell_type": "code",
      "metadata": {
        "id": "KMz4eo4RpPKd",
        "colab": {
          "base_uri": "https://localhost:8080/",
          "height": 363
        },
        "outputId": "15ae95cd-1aa1-43a6-b978-ba27041b7054"
      },
      "source": [
        "# Import basic libraries\n",
        "import pandas as pd\n",
        "import numpy as np\n",
        "\n",
        "# Create a dataset for age, height and weight of people\n",
        "data_dict = {'ID':[1, 2, 3, 4, 5, 6, 7, 8, 9, 10],\n",
        "\t\t'age': [45, 32, 26, 23, 28, 30, 34, 19, 36, 40],\n",
        "\t\t'height':[5, 5.6, 5.11, 5.5, 5.8, 5.6, 5.9, 5.3, 5.8, 4.8],\n",
        "\t  'weight' : [77, 58, 47, 45, 60, 55, 59, 40, 60, 72]}\n",
        "\n",
        "# Create a DataFrame from the dictionary\n",
        "data_df = pd.DataFrame(data_dict)\n",
        "data_df"
      ],
      "execution_count": null,
      "outputs": [
        {
          "output_type": "execute_result",
          "data": {
            "text/plain": [
              "   ID  age  height  weight\n",
              "0   1   45    5.00      77\n",
              "1   2   32    5.60      58\n",
              "2   3   26    5.11      47\n",
              "3   4   23    5.50      45\n",
              "4   5   28    5.80      60\n",
              "5   6   30    5.60      55\n",
              "6   7   34    5.90      59\n",
              "7   8   19    5.30      40\n",
              "8   9   36    5.80      60\n",
              "9  10   40    4.80      72"
            ],
            "text/html": [
              "\n",
              "  <div id=\"df-afd92149-89fb-413a-bf9c-e376a04f0181\" class=\"colab-df-container\">\n",
              "    <div>\n",
              "<style scoped>\n",
              "    .dataframe tbody tr th:only-of-type {\n",
              "        vertical-align: middle;\n",
              "    }\n",
              "\n",
              "    .dataframe tbody tr th {\n",
              "        vertical-align: top;\n",
              "    }\n",
              "\n",
              "    .dataframe thead th {\n",
              "        text-align: right;\n",
              "    }\n",
              "</style>\n",
              "<table border=\"1\" class=\"dataframe\">\n",
              "  <thead>\n",
              "    <tr style=\"text-align: right;\">\n",
              "      <th></th>\n",
              "      <th>ID</th>\n",
              "      <th>age</th>\n",
              "      <th>height</th>\n",
              "      <th>weight</th>\n",
              "    </tr>\n",
              "  </thead>\n",
              "  <tbody>\n",
              "    <tr>\n",
              "      <th>0</th>\n",
              "      <td>1</td>\n",
              "      <td>45</td>\n",
              "      <td>5.00</td>\n",
              "      <td>77</td>\n",
              "    </tr>\n",
              "    <tr>\n",
              "      <th>1</th>\n",
              "      <td>2</td>\n",
              "      <td>32</td>\n",
              "      <td>5.60</td>\n",
              "      <td>58</td>\n",
              "    </tr>\n",
              "    <tr>\n",
              "      <th>2</th>\n",
              "      <td>3</td>\n",
              "      <td>26</td>\n",
              "      <td>5.11</td>\n",
              "      <td>47</td>\n",
              "    </tr>\n",
              "    <tr>\n",
              "      <th>3</th>\n",
              "      <td>4</td>\n",
              "      <td>23</td>\n",
              "      <td>5.50</td>\n",
              "      <td>45</td>\n",
              "    </tr>\n",
              "    <tr>\n",
              "      <th>4</th>\n",
              "      <td>5</td>\n",
              "      <td>28</td>\n",
              "      <td>5.80</td>\n",
              "      <td>60</td>\n",
              "    </tr>\n",
              "    <tr>\n",
              "      <th>5</th>\n",
              "      <td>6</td>\n",
              "      <td>30</td>\n",
              "      <td>5.60</td>\n",
              "      <td>55</td>\n",
              "    </tr>\n",
              "    <tr>\n",
              "      <th>6</th>\n",
              "      <td>7</td>\n",
              "      <td>34</td>\n",
              "      <td>5.90</td>\n",
              "      <td>59</td>\n",
              "    </tr>\n",
              "    <tr>\n",
              "      <th>7</th>\n",
              "      <td>8</td>\n",
              "      <td>19</td>\n",
              "      <td>5.30</td>\n",
              "      <td>40</td>\n",
              "    </tr>\n",
              "    <tr>\n",
              "      <th>8</th>\n",
              "      <td>9</td>\n",
              "      <td>36</td>\n",
              "      <td>5.80</td>\n",
              "      <td>60</td>\n",
              "    </tr>\n",
              "    <tr>\n",
              "      <th>9</th>\n",
              "      <td>10</td>\n",
              "      <td>40</td>\n",
              "      <td>4.80</td>\n",
              "      <td>72</td>\n",
              "    </tr>\n",
              "  </tbody>\n",
              "</table>\n",
              "</div>\n",
              "    <div class=\"colab-df-buttons\">\n",
              "\n",
              "  <div class=\"colab-df-container\">\n",
              "    <button class=\"colab-df-convert\" onclick=\"convertToInteractive('df-afd92149-89fb-413a-bf9c-e376a04f0181')\"\n",
              "            title=\"Convert this dataframe to an interactive table.\"\n",
              "            style=\"display:none;\">\n",
              "\n",
              "  <svg xmlns=\"http://www.w3.org/2000/svg\" height=\"24px\" viewBox=\"0 -960 960 960\">\n",
              "    <path d=\"M120-120v-720h720v720H120Zm60-500h600v-160H180v160Zm220 220h160v-160H400v160Zm0 220h160v-160H400v160ZM180-400h160v-160H180v160Zm440 0h160v-160H620v160ZM180-180h160v-160H180v160Zm440 0h160v-160H620v160Z\"/>\n",
              "  </svg>\n",
              "    </button>\n",
              "\n",
              "  <style>\n",
              "    .colab-df-container {\n",
              "      display:flex;\n",
              "      gap: 12px;\n",
              "    }\n",
              "\n",
              "    .colab-df-convert {\n",
              "      background-color: #E8F0FE;\n",
              "      border: none;\n",
              "      border-radius: 50%;\n",
              "      cursor: pointer;\n",
              "      display: none;\n",
              "      fill: #1967D2;\n",
              "      height: 32px;\n",
              "      padding: 0 0 0 0;\n",
              "      width: 32px;\n",
              "    }\n",
              "\n",
              "    .colab-df-convert:hover {\n",
              "      background-color: #E2EBFA;\n",
              "      box-shadow: 0px 1px 2px rgba(60, 64, 67, 0.3), 0px 1px 3px 1px rgba(60, 64, 67, 0.15);\n",
              "      fill: #174EA6;\n",
              "    }\n",
              "\n",
              "    .colab-df-buttons div {\n",
              "      margin-bottom: 4px;\n",
              "    }\n",
              "\n",
              "    [theme=dark] .colab-df-convert {\n",
              "      background-color: #3B4455;\n",
              "      fill: #D2E3FC;\n",
              "    }\n",
              "\n",
              "    [theme=dark] .colab-df-convert:hover {\n",
              "      background-color: #434B5C;\n",
              "      box-shadow: 0px 1px 3px 1px rgba(0, 0, 0, 0.15);\n",
              "      filter: drop-shadow(0px 1px 2px rgba(0, 0, 0, 0.3));\n",
              "      fill: #FFFFFF;\n",
              "    }\n",
              "  </style>\n",
              "\n",
              "    <script>\n",
              "      const buttonEl =\n",
              "        document.querySelector('#df-afd92149-89fb-413a-bf9c-e376a04f0181 button.colab-df-convert');\n",
              "      buttonEl.style.display =\n",
              "        google.colab.kernel.accessAllowed ? 'block' : 'none';\n",
              "\n",
              "      async function convertToInteractive(key) {\n",
              "        const element = document.querySelector('#df-afd92149-89fb-413a-bf9c-e376a04f0181');\n",
              "        const dataTable =\n",
              "          await google.colab.kernel.invokeFunction('convertToInteractive',\n",
              "                                                    [key], {});\n",
              "        if (!dataTable) return;\n",
              "\n",
              "        const docLinkHtml = 'Like what you see? Visit the ' +\n",
              "          '<a target=\"_blank\" href=https://colab.research.google.com/notebooks/data_table.ipynb>data table notebook</a>'\n",
              "          + ' to learn more about interactive tables.';\n",
              "        element.innerHTML = '';\n",
              "        dataTable['output_type'] = 'display_data';\n",
              "        await google.colab.output.renderOutput(dataTable, element);\n",
              "        const docLink = document.createElement('div');\n",
              "        docLink.innerHTML = docLinkHtml;\n",
              "        element.appendChild(docLink);\n",
              "      }\n",
              "    </script>\n",
              "  </div>\n",
              "\n",
              "\n",
              "<div id=\"df-4ff28264-577c-43bb-9451-83cb13fd7fa0\">\n",
              "  <button class=\"colab-df-quickchart\" onclick=\"quickchart('df-4ff28264-577c-43bb-9451-83cb13fd7fa0')\"\n",
              "            title=\"Suggest charts.\"\n",
              "            style=\"display:none;\">\n",
              "\n",
              "<svg xmlns=\"http://www.w3.org/2000/svg\" height=\"24px\"viewBox=\"0 0 24 24\"\n",
              "     width=\"24px\">\n",
              "    <g>\n",
              "        <path d=\"M19 3H5c-1.1 0-2 .9-2 2v14c0 1.1.9 2 2 2h14c1.1 0 2-.9 2-2V5c0-1.1-.9-2-2-2zM9 17H7v-7h2v7zm4 0h-2V7h2v10zm4 0h-2v-4h2v4z\"/>\n",
              "    </g>\n",
              "</svg>\n",
              "  </button>\n",
              "\n",
              "<style>\n",
              "  .colab-df-quickchart {\n",
              "    background-color: #E8F0FE;\n",
              "    border: none;\n",
              "    border-radius: 50%;\n",
              "    cursor: pointer;\n",
              "    display: none;\n",
              "    fill: #1967D2;\n",
              "    height: 32px;\n",
              "    padding: 0 0 0 0;\n",
              "    width: 32px;\n",
              "  }\n",
              "\n",
              "  .colab-df-quickchart:hover {\n",
              "    background-color: #E2EBFA;\n",
              "    box-shadow: 0px 1px 2px rgba(60, 64, 67, 0.3), 0px 1px 3px 1px rgba(60, 64, 67, 0.15);\n",
              "    fill: #174EA6;\n",
              "  }\n",
              "\n",
              "  [theme=dark] .colab-df-quickchart {\n",
              "    background-color: #3B4455;\n",
              "    fill: #D2E3FC;\n",
              "  }\n",
              "\n",
              "  [theme=dark] .colab-df-quickchart:hover {\n",
              "    background-color: #434B5C;\n",
              "    box-shadow: 0px 1px 3px 1px rgba(0, 0, 0, 0.15);\n",
              "    filter: drop-shadow(0px 1px 2px rgba(0, 0, 0, 0.3));\n",
              "    fill: #FFFFFF;\n",
              "  }\n",
              "</style>\n",
              "\n",
              "  <script>\n",
              "    async function quickchart(key) {\n",
              "      const charts = await google.colab.kernel.invokeFunction(\n",
              "          'suggestCharts', [key], {});\n",
              "    }\n",
              "    (() => {\n",
              "      let quickchartButtonEl =\n",
              "        document.querySelector('#df-4ff28264-577c-43bb-9451-83cb13fd7fa0 button');\n",
              "      quickchartButtonEl.style.display =\n",
              "        google.colab.kernel.accessAllowed ? 'block' : 'none';\n",
              "    })();\n",
              "  </script>\n",
              "</div>\n",
              "    </div>\n",
              "  </div>\n"
            ]
          },
          "metadata": {},
          "execution_count": 1
        }
      ]
    },
    {
      "cell_type": "markdown",
      "metadata": {
        "id": "dsuBVeW-rnEN"
      },
      "source": [
        "Let's plot the `age` and `height` of persons on a  scatter plot. Also annotate each data point with their ID number. For example, first data point must be labelled as `1`, second data point must be labelled as `2` and so on. For this purpose, use `annotate()` function of `matplotlib.pyplot` module.\n",
        "\n",
        "You can use `help()` function to understand the syntax of `annotate()` function in detail."
      ]
    },
    {
      "cell_type": "code",
      "metadata": {
        "id": "GIhqaxMfr_yP",
        "colab": {
          "base_uri": "https://localhost:8080/",
          "height": 564
        },
        "outputId": "fc2fe2ce-e261-4d76-e74b-40a4c4bd82b5"
      },
      "source": [
        "# Create a scatter plot showing person's age and height with each data point numbered using their ID.\n",
        "import matplotlib.pyplot as plt\n",
        "\n",
        "plt.figure(figsize=(7, 6))\n",
        "plt.title('age vs height')\n",
        "plt.xlabel('age')\n",
        "plt.ylabel('height')\n",
        "\n",
        "# Plot a scatter plot and using a loop annotate the points\n",
        "plt.scatter(data_df['age'], data_df['height'])\n",
        "for label, x, y in zip(data_df['ID'], data_df['age'], data_df['height']):\n",
        "    plt.annotate(label, xy=(x, y), xytext=(1, 4), textcoords='offset points')\n",
        "plt.show()"
      ],
      "execution_count": null,
      "outputs": [
        {
          "output_type": "display_data",
          "data": {
            "text/plain": [
              "<Figure size 700x600 with 1 Axes>"
            ],
            "image/png": "[encoded data removed]"
          },
          "metadata": {}
        }
      ]
    },
    {
      "cell_type": "markdown",
      "metadata": {
        "id": "V0eQraAStuSN"
      },
      "source": [
        "In the above graph, the $x$-axis represents the age of a person (in years) and the $y$-axis represents the height (in feet). The points are numbered according to the ID values.\n",
        "\n",
        "Suppose there is a new person having ID as `11` whose age is `38` and height is `5.5`. We need to predict the weight of this person based on his age and height.\n",
        "\n",
        "\n",
        "<img src=\"https://s3-whjr-v2-prod-bucket.whjr.online/whjr-v2-prod-bucket/5c2d5530-37a0-4533-9490-d5eebcb141f9.png\"/>\n",
        "\n",
        "In the above graph, the person with ID11 is our test point. If we try to identify the weight of ID11 based on the plot, we would say that since ID11 is closer to points `2` and `9`, so it must have a weight similar to these IDs. Let us find out how kNN algorithm  predicts the weight of ID11.\n",
        "\n",
        "**How kNN regression work?**\n",
        "\n",
        "In kNN, a new data point is assigned a value based on how closely it resembles the points in the training set. From our example, we know that ID11 has height and age similar to ID2 and ID9, so the weight would also approximately be the same.\n",
        "\n",
        "If we use kNN classifier in this case, it would assign the new data point ID11 to the class to which the majority of its nearest points belong. So the weight of ID11 would be equal to weight of either ID2 or ID9 (if $k = 2$).\n",
        "\n",
        "However, in kNN regression, the average of the values is taken to be the final prediction. Thus, the weight of ID11 would be the mean of weights of ID2 and ID9 (if $k = 2$) for kNN regression.\n",
        "\n",
        "Thus, kNN regression has the following basic steps:\n",
        "\n",
        "<center><img src= \"https://s3-whjr-v2-prod-bucket.whjr.online/whjr-v2-prod-bucket/11ad6a31-50bd-4ec4-aea0-e947a832e296.png\"/></center>\n",
        "\n",
        "Let us first calculate the distance between the new data point and each training point. The most commonly used distance metric is Euclidean distance.\n",
        "\n",
        "First, create a separate DataFrame containing only the feature variables i.e. `age` and `height`.\n",
        "\n"
      ]
    },
    {
      "cell_type": "code",
      "metadata": {
        "id": "Tbi5CA1j2T-R",
        "colab": {
          "base_uri": "https://localhost:8080/",
          "height": 363
        },
        "outputId": "d4efcf5c-e4f2-41b9-a735-5649b233f6c9"
      },
      "source": [
        "# Create a separate DataFrame containing the feature variables.\n",
        "feature_df = data_df[['age', 'height']]\n",
        "feature_df"
      ],
      "execution_count": null,
      "outputs": [
        {
          "output_type": "execute_result",
          "data": {
            "text/plain": [
              "   age  height\n",
              "0   45    5.00\n",
              "1   32    5.60\n",
              "2   26    5.11\n",
              "3   23    5.50\n",
              "4   28    5.80\n",
              "5   30    5.60\n",
              "6   34    5.90\n",
              "7   19    5.30\n",
              "8   36    5.80\n",
              "9   40    4.80"
            ],
            "text/html": [
              "\n",
              "  <div id=\"df-70c08e05-1ad6-4356-87a5-ca564c179af0\" class=\"colab-df-container\">\n",
              "    <div>\n",
              "<style scoped>\n",
              "    .dataframe tbody tr th:only-of-type {\n",
              "        vertical-align: middle;\n",
              "    }\n",
              "\n",
              "    .dataframe tbody tr th {\n",
              "        vertical-align: top;\n",
              "    }\n",
              "\n",
              "    .dataframe thead th {\n",
              "        text-align: right;\n",
              "    }\n",
              "</style>\n",
              "<table border=\"1\" class=\"dataframe\">\n",
              "  <thead>\n",
              "    <tr style=\"text-align: right;\">\n",
              "      <th></th>\n",
              "      <th>age</th>\n",
              "      <th>height</th>\n",
              "    </tr>\n",
              "  </thead>\n",
              "  <tbody>\n",
              "    <tr>\n",
              "      <th>0</th>\n",
              "      <td>45</td>\n",
              "      <td>5.00</td>\n",
              "    </tr>\n",
              "    <tr>\n",
              "      <th>1</th>\n",
              "      <td>32</td>\n",
              "      <td>5.60</td>\n",
              "    </tr>\n",
              "    <tr>\n",
              "      <th>2</th>\n",
              "      <td>26</td>\n",
              "      <td>5.11</td>\n",
              "    </tr>\n",
              "    <tr>\n",
              "      <th>3</th>\n",
              "      <td>23</td>\n",
              "      <td>5.50</td>\n",
              "    </tr>\n",
              "    <tr>\n",
              "      <th>4</th>\n",
              "      <td>28</td>\n",
              "      <td>5.80</td>\n",
              "    </tr>\n",
              "    <tr>\n",
              "      <th>5</th>\n",
              "      <td>30</td>\n",
              "      <td>5.60</td>\n",
              "    </tr>\n",
              "    <tr>\n",
              "      <th>6</th>\n",
              "      <td>34</td>\n",
              "      <td>5.90</td>\n",
              "    </tr>\n",
              "    <tr>\n",
              "      <th>7</th>\n",
              "      <td>19</td>\n",
              "      <td>5.30</td>\n",
              "    </tr>\n",
              "    <tr>\n",
              "      <th>8</th>\n",
              "      <td>36</td>\n",
              "      <td>5.80</td>\n",
              "    </tr>\n",
              "    <tr>\n",
              "      <th>9</th>\n",
              "      <td>40</td>\n",
              "      <td>4.80</td>\n",
              "    </tr>\n",
              "  </tbody>\n",
              "</table>\n",
              "</div>\n",
              "    <div class=\"colab-df-buttons\">\n",
              "\n",
              "  <div class=\"colab-df-container\">\n",
              "    <button class=\"colab-df-convert\" onclick=\"convertToInteractive('df-70c08e05-1ad6-4356-87a5-ca564c179af0')\"\n",
              "            title=\"Convert this dataframe to an interactive table.\"\n",
              "            style=\"display:none;\">\n",
              "\n",
              "  <svg xmlns=\"http://www.w3.org/2000/svg\" height=\"24px\" viewBox=\"0 -960 960 960\">\n",
              "    <path d=\"M120-120v-720h720v720H120Zm60-500h600v-160H180v160Zm220 220h160v-160H400v160Zm0 220h160v-160H400v160ZM180-400h160v-160H180v160Zm440 0h160v-160H620v160ZM180-180h160v-160H180v160Zm440 0h160v-160H620v160Z\"/>\n",
              "  </svg>\n",
              "    </button>\n",
              "\n",
              "  <style>\n",
              "    .colab-df-container {\n",
              "      display:flex;\n",
              "      gap: 12px;\n",
              "    }\n",
              "\n",
              "    .colab-df-convert {\n",
              "      background-color: #E8F0FE;\n",
              "      border: none;\n",
              "      border-radius: 50%;\n",
              "      cursor: pointer;\n",
              "      display: none;\n",
              "      fill: #1967D2;\n",
              "      height: 32px;\n",
              "      padding: 0 0 0 0;\n",
              "      width: 32px;\n",
              "    }\n",
              "\n",
              "    .colab-df-convert:hover {\n",
              "      background-color: #E2EBFA;\n",
              "      box-shadow: 0px 1px 2px rgba(60, 64, 67, 0.3), 0px 1px 3px 1px rgba(60, 64, 67, 0.15);\n",
              "      fill: #174EA6;\n",
              "    }\n",
              "\n",
              "    .colab-df-buttons div {\n",
              "      margin-bottom: 4px;\n",
              "    }\n",
              "\n",
              "    [theme=dark] .colab-df-convert {\n",
              "      background-color: #3B4455;\n",
              "      fill: #D2E3FC;\n",
              "    }\n",
              "\n",
              "    [theme=dark] .colab-df-convert:hover {\n",
              "      background-color: #434B5C;\n",
              "      box-shadow: 0px 1px 3px 1px rgba(0, 0, 0, 0.15);\n",
              "      filter: drop-shadow(0px 1px 2px rgba(0, 0, 0, 0.3));\n",
              "      fill: #FFFFFF;\n",
              "    }\n",
              "  </style>\n",
              "\n",
              "    <script>\n",
              "      const buttonEl =\n",
              "        document.querySelector('#df-70c08e05-1ad6-4356-87a5-ca564c179af0 button.colab-df-convert');\n",
              "      buttonEl.style.display =\n",
              "        google.colab.kernel.accessAllowed ? 'block' : 'none';\n",
              "\n",
              "      async function convertToInteractive(key) {\n",
              "        const element = document.querySelector('#df-70c08e05-1ad6-4356-87a5-ca564c179af0');\n",
              "        const dataTable =\n",
              "          await google.colab.kernel.invokeFunction('convertToInteractive',\n",
              "                                                    [key], {});\n",
              "        if (!dataTable) return;\n",
              "\n",
              "        const docLinkHtml = 'Like what you see? Visit the ' +\n",
              "          '<a target=\"_blank\" href=https://colab.research.google.com/notebooks/data_table.ipynb>data table notebook</a>'\n",
              "          + ' to learn more about interactive tables.';\n",
              "        element.innerHTML = '';\n",
              "        dataTable['output_type'] = 'display_data';\n",
              "        await google.colab.output.renderOutput(dataTable, element);\n",
              "        const docLink = document.createElement('div');\n",
              "        docLink.innerHTML = docLinkHtml;\n",
              "        element.appendChild(docLink);\n",
              "      }\n",
              "    </script>\n",
              "  </div>\n",
              "\n",
              "\n",
              "<div id=\"df-afc68942-96c8-4bee-9357-4e8db42d2eb6\">\n",
              "  <button class=\"colab-df-quickchart\" onclick=\"quickchart('df-afc68942-96c8-4bee-9357-4e8db42d2eb6')\"\n",
              "            title=\"Suggest charts.\"\n",
              "            style=\"display:none;\">\n",
              "\n",
              "<svg xmlns=\"http://www.w3.org/2000/svg\" height=\"24px\"viewBox=\"0 0 24 24\"\n",
              "     width=\"24px\">\n",
              "    <g>\n",
              "        <path d=\"M19 3H5c-1.1 0-2 .9-2 2v14c0 1.1.9 2 2 2h14c1.1 0 2-.9 2-2V5c0-1.1-.9-2-2-2zM9 17H7v-7h2v7zm4 0h-2V7h2v10zm4 0h-2v-4h2v4z\"/>\n",
              "    </g>\n",
              "</svg>\n",
              "  </button>\n",
              "\n",
              "<style>\n",
              "  .colab-df-quickchart {\n",
              "    background-color: #E8F0FE;\n",
              "    border: none;\n",
              "    border-radius: 50%;\n",
              "    cursor: pointer;\n",
              "    display: none;\n",
              "    fill: #1967D2;\n",
              "    height: 32px;\n",
              "    padding: 0 0 0 0;\n",
              "    width: 32px;\n",
              "  }\n",
              "\n",
              "  .colab-df-quickchart:hover {\n",
              "    background-color: #E2EBFA;\n",
              "    box-shadow: 0px 1px 2px rgba(60, 64, 67, 0.3), 0px 1px 3px 1px rgba(60, 64, 67, 0.15);\n",
              "    fill: #174EA6;\n",
              "  }\n",
              "\n",
              "  [theme=dark] .colab-df-quickchart {\n",
              "    background-color: #3B4455;\n",
              "    fill: #D2E3FC;\n",
              "  }\n",
              "\n",
              "  [theme=dark] .colab-df-quickchart:hover {\n",
              "    background-color: #434B5C;\n",
              "    box-shadow: 0px 1px 3px 1px rgba(0, 0, 0, 0.15);\n",
              "    filter: drop-shadow(0px 1px 2px rgba(0, 0, 0, 0.3));\n",
              "    fill: #FFFFFF;\n",
              "  }\n",
              "</style>\n",
              "\n",
              "  <script>\n",
              "    async function quickchart(key) {\n",
              "      const charts = await google.colab.kernel.invokeFunction(\n",
              "          'suggestCharts', [key], {});\n",
              "    }\n",
              "    (() => {\n",
              "      let quickchartButtonEl =\n",
              "        document.querySelector('#df-afc68942-96c8-4bee-9357-4e8db42d2eb6 button');\n",
              "      quickchartButtonEl.style.display =\n",
              "        google.colab.kernel.accessAllowed ? 'block' : 'none';\n",
              "    })();\n",
              "  </script>\n",
              "</div>\n",
              "    </div>\n",
              "  </div>\n"
            ]
          },
          "metadata": {},
          "execution_count": 3
        }
      ]
    },
    {
      "cell_type": "markdown",
      "metadata": {
        "id": "J0WijqLAC2p4"
      },
      "source": [
        "We can calculate the Euclidean distance between each data point of `feature_df` and the new data point ID11(`38`, `5.5`) using `linalg.norm()` function of `numpy` module.\n",
        "\n",
        "**Syntax of `linalg.norm()` function:** `np.linalg.norm(data_1 - data_2, axis = 1)`\n",
        "\n",
        "Where,\n",
        "- `data_1` and `data_2` are the two data points whose Euclidean distance is to be calculated.\n",
        "- `axis = 1` indicates that each row of DataFrame has to be normalised separately.\n",
        "\n",
        "**Note:** Use `to_numpy()` function to convert each row of DataFrame to a NumPy array.\n",
        "\n"
      ]
    },
    {
      "cell_type": "code",
      "metadata": {
        "id": "vhFap09y2tTS",
        "colab": {
          "base_uri": "https://localhost:8080/"
        },
        "outputId": "5488b12b-ee83-4595-f6aa-22243383a813"
      },
      "source": [
        "# Compute Euclidean distance between training data and ID11\n",
        "id11 = [38, 5.5]\n",
        "dist_from_id11 = np.linalg.norm(feature_df.to_numpy() - id11, axis = 1)\n",
        "dist_from_id11"
      ],
      "execution_count": null,
      "outputs": [
        {
          "output_type": "execute_result",
          "data": {
            "text/plain": [
              "array([ 7.01783442,  6.00083328, 12.00633583, 15.        , 10.00449899,\n",
              "        8.00062498,  4.01995025, 19.0010526 ,  2.02237484,  2.11896201])"
            ]
          },
          "metadata": {},
          "execution_count": 4
        }
      ]
    },
    {
      "cell_type": "markdown",
      "metadata": {
        "id": "NXaWz95CGgVg"
      },
      "source": [
        "Hence, we have obtained a NumPy array containing the  distances of all the 10 training points from the new data point ID11. Let us add this array as a new column to the original DataFrame `data_df`."
      ]
    },
    {
      "cell_type": "code",
      "metadata": {
        "id": "qBmjvmc14aVZ",
        "colab": {
          "base_uri": "https://localhost:8080/",
          "height": 363
        },
        "outputId": "ef177030-f789-4a3e-c182-42bbe3c93a63"
      },
      "source": [
        "# Add the distance array as a new column to the original dataset.\n",
        "data_df['Distance from ID11 (38, 5.5)'] = dist_from_id11\n",
        "data_df"
      ],
      "execution_count": null,
      "outputs": [
        {
          "output_type": "execute_result",
          "data": {
            "text/plain": [
              "   ID  age  height  weight  Distance from ID11 (38, 5.5)\n",
              "0   1   45    5.00      77                      7.017834\n",
              "1   2   32    5.60      58                      6.000833\n",
              "2   3   26    5.11      47                     12.006336\n",
              "3   4   23    5.50      45                     15.000000\n",
              "4   5   28    5.80      60                     10.004499\n",
              "5   6   30    5.60      55                      8.000625\n",
              "6   7   34    5.90      59                      4.019950\n",
              "7   8   19    5.30      40                     19.001053\n",
              "8   9   36    5.80      60                      2.022375\n",
              "9  10   40    4.80      72                      2.118962"
            ],
            "text/html": [
              "\n",
              "  <div id=\"df-e6947f98-159c-4bc8-9485-f4625e9db387\" class=\"colab-df-container\">\n",
              "    <div>\n",
              "<style scoped>\n",
              "    .dataframe tbody tr th:only-of-type {\n",
              "        vertical-align: middle;\n",
              "    }\n",
              "\n",
              "    .dataframe tbody tr th {\n",
              "        vertical-align: top;\n",
              "    }\n",
              "\n",
              "    .dataframe thead th {\n",
              "        text-align: right;\n",
              "    }\n",
              "</style>\n",
              "<table border=\"1\" class=\"dataframe\">\n",
              "  <thead>\n",
              "    <tr style=\"text-align: right;\">\n",
              "      <th></th>\n",
              "      <th>ID</th>\n",
              "      <th>age</th>\n",
              "      <th>height</th>\n",
              "      <th>weight</th>\n",
              "      <th>Distance from ID11 (38, 5.5)</th>\n",
              "    </tr>\n",
              "  </thead>\n",
              "  <tbody>\n",
              "    <tr>\n",
              "      <th>0</th>\n",
              "      <td>1</td>\n",
              "      <td>45</td>\n",
              "      <td>5.00</td>\n",
              "      <td>77</td>\n",
              "      <td>7.017834</td>\n",
              "    </tr>\n",
              "    <tr>\n",
              "      <th>1</th>\n",
              "      <td>2</td>\n",
              "      <td>32</td>\n",
              "      <td>5.60</td>\n",
              "      <td>58</td>\n",
              "      <td>6.000833</td>\n",
              "    </tr>\n",
              "    <tr>\n",
              "      <th>2</th>\n",
              "      <td>3</td>\n",
              "      <td>26</td>\n",
              "      <td>5.11</td>\n",
              "      <td>47</td>\n",
              "      <td>12.006336</td>\n",
              "    </tr>\n",
              "    <tr>\n",
              "      <th>3</th>\n",
              "      <td>4</td>\n",
              "      <td>23</td>\n",
              "      <td>5.50</td>\n",
              "      <td>45</td>\n",
              "      <td>15.000000</td>\n",
              "    </tr>\n",
              "    <tr>\n",
              "      <th>4</th>\n",
              "      <td>5</td>\n",
              "      <td>28</td>\n",
              "      <td>5.80</td>\n",
              "      <td>60</td>\n",
              "      <td>10.004499</td>\n",
              "    </tr>\n",
              "    <tr>\n",
              "      <th>5</th>\n",
              "      <td>6</td>\n",
              "      <td>30</td>\n",
              "      <td>5.60</td>\n",
              "      <td>55</td>\n",
              "      <td>8.000625</td>\n",
              "    </tr>\n",
              "    <tr>\n",
              "      <th>6</th>\n",
              "      <td>7</td>\n",
              "      <td>34</td>\n",
              "      <td>5.90</td>\n",
              "      <td>59</td>\n",
              "      <td>4.019950</td>\n",
              "    </tr>\n",
              "    <tr>\n",
              "      <th>7</th>\n",
              "      <td>8</td>\n",
              "      <td>19</td>\n",
              "      <td>5.30</td>\n",
              "      <td>40</td>\n",
              "      <td>19.001053</td>\n",
              "    </tr>\n",
              "    <tr>\n",
              "      <th>8</th>\n",
              "      <td>9</td>\n",
              "      <td>36</td>\n",
              "      <td>5.80</td>\n",
              "      <td>60</td>\n",
              "      <td>2.022375</td>\n",
              "    </tr>\n",
              "    <tr>\n",
              "      <th>9</th>\n",
              "      <td>10</td>\n",
              "      <td>40</td>\n",
              "      <td>4.80</td>\n",
              "      <td>72</td>\n",
              "      <td>2.118962</td>\n",
              "    </tr>\n",
              "  </tbody>\n",
              "</table>\n",
              "</div>\n",
              "    <div class=\"colab-df-buttons\">\n",
              "\n",
              "  <div class=\"colab-df-container\">\n",
              "    <button class=\"colab-df-convert\" onclick=\"convertToInteractive('df-e6947f98-159c-4bc8-9485-f4625e9db387')\"\n",
              "            title=\"Convert this dataframe to an interactive table.\"\n",
              "            style=\"display:none;\">\n",
              "\n",
              "  <svg xmlns=\"http://www.w3.org/2000/svg\" height=\"24px\" viewBox=\"0 -960 960 960\">\n",
              "    <path d=\"M120-120v-720h720v720H120Zm60-500h600v-160H180v160Zm220 220h160v-160H400v160Zm0 220h160v-160H400v160ZM180-400h160v-160H180v160Zm440 0h160v-160H620v160ZM180-180h160v-160H180v160Zm440 0h160v-160H620v160Z\"/>\n",
              "  </svg>\n",
              "    </button>\n",
              "\n",
              "  <style>\n",
              "    .colab-df-container {\n",
              "      display:flex;\n",
              "      gap: 12px;\n",
              "    }\n",
              "\n",
              "    .colab-df-convert {\n",
              "      background-color: #E8F0FE;\n",
              "      border: none;\n",
              "      border-radius: 50%;\n",
              "      cursor: pointer;\n",
              "      display: none;\n",
              "      fill: #1967D2;\n",
              "      height: 32px;\n",
              "      padding: 0 0 0 0;\n",
              "      width: 32px;\n",
              "    }\n",
              "\n",
              "    .colab-df-convert:hover {\n",
              "      background-color: #E2EBFA;\n",
              "      box-shadow: 0px 1px 2px rgba(60, 64, 67, 0.3), 0px 1px 3px 1px rgba(60, 64, 67, 0.15);\n",
              "      fill: #174EA6;\n",
              "    }\n",
              "\n",
              "    .colab-df-buttons div {\n",
              "      margin-bottom: 4px;\n",
              "    }\n",
              "\n",
              "    [theme=dark] .colab-df-convert {\n",
              "      background-color: #3B4455;\n",
              "      fill: #D2E3FC;\n",
              "    }\n",
              "\n",
              "    [theme=dark] .colab-df-convert:hover {\n",
              "      background-color: #434B5C;\n",
              "      box-shadow: 0px 1px 3px 1px rgba(0, 0, 0, 0.15);\n",
              "      filter: drop-shadow(0px 1px 2px rgba(0, 0, 0, 0.3));\n",
              "      fill: #FFFFFF;\n",
              "    }\n",
              "  </style>\n",
              "\n",
              "    <script>\n",
              "      const buttonEl =\n",
              "        document.querySelector('#df-e6947f98-159c-4bc8-9485-f4625e9db387 button.colab-df-convert');\n",
              "      buttonEl.style.display =\n",
              "        google.colab.kernel.accessAllowed ? 'block' : 'none';\n",
              "\n",
              "      async function convertToInteractive(key) {\n",
              "        const element = document.querySelector('#df-e6947f98-159c-4bc8-9485-f4625e9db387');\n",
              "        const dataTable =\n",
              "          await google.colab.kernel.invokeFunction('convertToInteractive',\n",
              "                                                    [key], {});\n",
              "        if (!dataTable) return;\n",
              "\n",
              "        const docLinkHtml = 'Like what you see? Visit the ' +\n",
              "          '<a target=\"_blank\" href=https://colab.research.google.com/notebooks/data_table.ipynb>data table notebook</a>'\n",
              "          + ' to learn more about interactive tables.';\n",
              "        element.innerHTML = '';\n",
              "        dataTable['output_type'] = 'display_data';\n",
              "        await google.colab.output.renderOutput(dataTable, element);\n",
              "        const docLink = document.createElement('div');\n",
              "        docLink.innerHTML = docLinkHtml;\n",
              "        element.appendChild(docLink);\n",
              "      }\n",
              "    </script>\n",
              "  </div>\n",
              "\n",
              "\n",
              "<div id=\"df-9de6297f-a1a1-46fd-9227-d2744afe52f3\">\n",
              "  <button class=\"colab-df-quickchart\" onclick=\"quickchart('df-9de6297f-a1a1-46fd-9227-d2744afe52f3')\"\n",
              "            title=\"Suggest charts.\"\n",
              "            style=\"display:none;\">\n",
              "\n",
              "<svg xmlns=\"http://www.w3.org/2000/svg\" height=\"24px\"viewBox=\"0 0 24 24\"\n",
              "     width=\"24px\">\n",
              "    <g>\n",
              "        <path d=\"M19 3H5c-1.1 0-2 .9-2 2v14c0 1.1.9 2 2 2h14c1.1 0 2-.9 2-2V5c0-1.1-.9-2-2-2zM9 17H7v-7h2v7zm4 0h-2V7h2v10zm4 0h-2v-4h2v4z\"/>\n",
              "    </g>\n",
              "</svg>\n",
              "  </button>\n",
              "\n",
              "<style>\n",
              "  .colab-df-quickchart {\n",
              "    background-color: #E8F0FE;\n",
              "    border: none;\n",
              "    border-radius: 50%;\n",
              "    cursor: pointer;\n",
              "    display: none;\n",
              "    fill: #1967D2;\n",
              "    height: 32px;\n",
              "    padding: 0 0 0 0;\n",
              "    width: 32px;\n",
              "  }\n",
              "\n",
              "  .colab-df-quickchart:hover {\n",
              "    background-color: #E2EBFA;\n",
              "    box-shadow: 0px 1px 2px rgba(60, 64, 67, 0.3), 0px 1px 3px 1px rgba(60, 64, 67, 0.15);\n",
              "    fill: #174EA6;\n",
              "  }\n",
              "\n",
              "  [theme=dark] .colab-df-quickchart {\n",
              "    background-color: #3B4455;\n",
              "    fill: #D2E3FC;\n",
              "  }\n",
              "\n",
              "  [theme=dark] .colab-df-quickchart:hover {\n",
              "    background-color: #434B5C;\n",
              "    box-shadow: 0px 1px 3px 1px rgba(0, 0, 0, 0.15);\n",
              "    filter: drop-shadow(0px 1px 2px rgba(0, 0, 0, 0.3));\n",
              "    fill: #FFFFFF;\n",
              "  }\n",
              "</style>\n",
              "\n",
              "  <script>\n",
              "    async function quickchart(key) {\n",
              "      const charts = await google.colab.kernel.invokeFunction(\n",
              "          'suggestCharts', [key], {});\n",
              "    }\n",
              "    (() => {\n",
              "      let quickchartButtonEl =\n",
              "        document.querySelector('#df-9de6297f-a1a1-46fd-9227-d2744afe52f3 button');\n",
              "      quickchartButtonEl.style.display =\n",
              "        google.colab.kernel.accessAllowed ? 'block' : 'none';\n",
              "    })();\n",
              "  </script>\n",
              "</div>\n",
              "    </div>\n",
              "  </div>\n"
            ]
          },
          "metadata": {},
          "execution_count": 5
        }
      ]
    },
    {
      "cell_type": "markdown",
      "metadata": {
        "id": "PkhO2-DE4Zq4"
      },
      "source": [
        "Hence, we have obtained the Euclidean distance between each training point and the new data point ID11(age = 38, height = 5.5).\n",
        "\n",
        "- If $k = 1$, then the nearest neighbour would be **ID9** as the distance between ID9 and ID11 is the least as seen in the image below:\n",
        "\n",
        "  <center>\n",
        "<img src=\"https://s3-whjr-v2-prod-bucket.whjr.online/whjr-v2-prod-bucket/f02c09a7-7575-4762-bdbc-aeba744fff5c.PNG\"/>\n",
        "\n",
        "  `Fig 4.1: When k = 1`\n",
        "  </center>\n",
        "\n",
        "  In this case, the predicted weight of ID11 would be `60`, which is same as the weight of ID9.\n",
        "\n",
        "\n",
        "- If $k = 3$, then prediction of ID11 will be the average of weights of top 3 closest neighbours.\n",
        "\n",
        "  <center>\n",
        "<img src=\"https://s3-whjr-v2-prod-bucket.whjr.online/whjr-v2-prod-bucket/568bf765-09aa-440e-84ce-2713e64876d4.png\"/>\n",
        "\n",
        "  `Fig 4.2: When k = 3`\n",
        "  </center>\n",
        "\n",
        "  In this case, the predicted weight of ID11 would be:\n",
        "  \n",
        "  $$\\text{Weight of ID11} = \\frac{(60 + 72 + 59)}{3} = 63.67 kg$$\n",
        "\n",
        "\n",
        "\n",
        "Thus, in kNN regression, the predicted value is the average of the values of $k$ nearest neighbours.\n",
        "\n",
        "\n"
      ]
    },
    {
      "cell_type": "markdown",
      "metadata": {
        "id": "SoJILSBhMuFe"
      },
      "source": [
        "Let us now look at the problem statement and build a kNN regression model after performing data analysis."
      ]
    },
    {
      "cell_type": "markdown",
      "metadata": {
        "id": "d2KYruXRXn4a"
      },
      "source": [
        "---"
      ]
    },
    {
      "cell_type": "markdown",
      "metadata": {
        "id": "kxbhtj--_axi"
      },
      "source": [
        "#### Problem Statement\n",
        "\n",
        "A medical insurance company has provided a dataset that contains various demographic features of their customers along with their existing  medical expenses. Your job is to look into different features of these customers to observe their relationship and build a regression model that can predict the future medical expenses of these customers. This will eventually help medical insurance firms to decide on charging the premium.\n",
        "\n",
        "The dataset contains 1338 observations (rows) and 7 attributes (columns) which are as follows:\n",
        "\n",
        "- `age`: Age of primary beneficiary.\n",
        "\n",
        "- `sex:` Insurance contractor gender, female, male.\n",
        "\n",
        "- `bmi`: Body mass index, providing an understanding of body, weights that are relatively high or low relative to height, objective index of body weight $(kg / m^2)$ using the ratio of height to weight, ideally 18.5 to 24.9.\n",
        "\n",
        "- `children`: Number of children covered by health insurance / Number of dependents.\n",
        "\n",
        "- `smoker`: Is the person smoking?\n",
        "\n",
        "- `region`: The beneficiary's residential area in the US, northeast, southeast, southwest, northwest.\n",
        "\n",
        "- `expenses`: Individual medical costs billed by health insurance.\n",
        "\n",
        "\n",
        "\n",
        "**Dataset Credits:** https://www.kaggle.com/mirichoi0218/insurance\n",
        "\n",
        "**Dataset Link:**  https://s3-whjr-curriculum-uploads.whjr.online/85c3a69e-24e2-4010-aac6-4ea44f8ba93f.csv\n"
      ]
    },
    {
      "cell_type": "markdown",
      "metadata": {
        "id": "t-B5zzxX-GRs"
      },
      "source": [
        "---"
      ]
    },
    {
      "cell_type": "markdown",
      "metadata": {
        "id": "2BsFylxe-HWr"
      },
      "source": [
        "#### Activity 1: Import Modules and Read Data\n",
        "\n",
        "Let's import the necessary Python modules and read the data from the csv file to create a Pandas DataFrame."
      ]
    },
    {
      "cell_type": "code",
      "metadata": {
        "id": "uJQrhAirce86",
        "colab": {
          "base_uri": "https://localhost:8080/",
          "height": 206
        },
        "outputId": "a29c993e-38ab-403f-ca1d-08505143053f"
      },
      "source": [
        "# S1.1: Import the Python modules and the data.\n",
        "med_df = pd.read_csv('https://s3-whjr-curriculum-uploads.whjr.online/85c3a69e-24e2-4010-aac6-4ea44f8ba93f.csv')\n",
        "med_df.head()"
      ],
      "execution_count": null,
      "outputs": [
        {
          "output_type": "execute_result",
          "data": {
            "text/plain": [
              "   age     sex   bmi  children smoker     region  expenses\n",
              "0   19  female  27.9         0    yes  southwest  16884.92\n",
              "1   18    male  33.8         1     no  southeast   1725.55\n",
              "2   28    male  33.0         3     no  southeast   4449.46\n",
              "3   33    male  22.7         0     no  northwest  21984.47\n",
              "4   32    male  28.9         0     no  northwest   3866.86"
            ],
            "text/html": [
              "\n",
              "  <div id=\"df-64d7ab01-602f-4abe-a3a3-264bf270067f\" class=\"colab-df-container\">\n",
              "    <div>\n",
              "<style scoped>\n",
              "    .dataframe tbody tr th:only-of-type {\n",
              "        vertical-align: middle;\n",
              "    }\n",
              "\n",
              "    .dataframe tbody tr th {\n",
              "        vertical-align: top;\n",
              "    }\n",
              "\n",
              "    .dataframe thead th {\n",
              "        text-align: right;\n",
              "    }\n",
              "</style>\n",
              "<table border=\"1\" class=\"dataframe\">\n",
              "  <thead>\n",
              "    <tr style=\"text-align: right;\">\n",
              "      <th></th>\n",
              "      <th>age</th>\n",
              "      <th>sex</th>\n",
              "      <th>bmi</th>\n",
              "      <th>children</th>\n",
              "      <th>smoker</th>\n",
              "      <th>region</th>\n",
              "      <th>expenses</th>\n",
              "    </tr>\n",
              "  </thead>\n",
              "  <tbody>\n",
              "    <tr>\n",
              "      <th>0</th>\n",
              "      <td>19</td>\n",
              "      <td>female</td>\n",
              "      <td>27.9</td>\n",
              "      <td>0</td>\n",
              "      <td>yes</td>\n",
              "      <td>southwest</td>\n",
              "      <td>16884.92</td>\n",
              "    </tr>\n",
              "    <tr>\n",
              "      <th>1</th>\n",
              "      <td>18</td>\n",
              "      <td>male</td>\n",
              "      <td>33.8</td>\n",
              "      <td>1</td>\n",
              "      <td>no</td>\n",
              "      <td>southeast</td>\n",
              "      <td>1725.55</td>\n",
              "    </tr>\n",
              "    <tr>\n",
              "      <th>2</th>\n",
              "      <td>28</td>\n",
              "      <td>male</td>\n",
              "      <td>33.0</td>\n",
              "      <td>3</td>\n",
              "      <td>no</td>\n",
              "      <td>southeast</td>\n",
              "      <td>4449.46</td>\n",
              "    </tr>\n",
              "    <tr>\n",
              "      <th>3</th>\n",
              "      <td>33</td>\n",
              "      <td>male</td>\n",
              "      <td>22.7</td>\n",
              "      <td>0</td>\n",
              "      <td>no</td>\n",
              "      <td>northwest</td>\n",
              "      <td>21984.47</td>\n",
              "    </tr>\n",
              "    <tr>\n",
              "      <th>4</th>\n",
              "      <td>32</td>\n",
              "      <td>male</td>\n",
              "      <td>28.9</td>\n",
              "      <td>0</td>\n",
              "      <td>no</td>\n",
              "      <td>northwest</td>\n",
              "      <td>3866.86</td>\n",
              "    </tr>\n",
              "  </tbody>\n",
              "</table>\n",
              "</div>\n",
              "    <div class=\"colab-df-buttons\">\n",
              "\n",
              "  <div class=\"colab-df-container\">\n",
              "    <button class=\"colab-df-convert\" onclick=\"convertToInteractive('df-64d7ab01-602f-4abe-a3a3-264bf270067f')\"\n",
              "            title=\"Convert this dataframe to an interactive table.\"\n",
              "            style=\"display:none;\">\n",
              "\n",
              "  <svg xmlns=\"http://www.w3.org/2000/svg\" height=\"24px\" viewBox=\"0 -960 960 960\">\n",
              "    <path d=\"M120-120v-720h720v720H120Zm60-500h600v-160H180v160Zm220 220h160v-160H400v160Zm0 220h160v-160H400v160ZM180-400h160v-160H180v160Zm440 0h160v-160H620v160ZM180-180h160v-160H180v160Zm440 0h160v-160H620v160Z\"/>\n",
              "  </svg>\n",
              "    </button>\n",
              "\n",
              "  <style>\n",
              "    .colab-df-container {\n",
              "      display:flex;\n",
              "      gap: 12px;\n",
              "    }\n",
              "\n",
              "    .colab-df-convert {\n",
              "      background-color: #E8F0FE;\n",
              "      border: none;\n",
              "      border-radius: 50%;\n",
              "      cursor: pointer;\n",
              "      display: none;\n",
              "      fill: #1967D2;\n",
              "      height: 32px;\n",
              "      padding: 0 0 0 0;\n",
              "      width: 32px;\n",
              "    }\n",
              "\n",
              "    .colab-df-convert:hover {\n",
              "      background-color: #E2EBFA;\n",
              "      box-shadow: 0px 1px 2px rgba(60, 64, 67, 0.3), 0px 1px 3px 1px rgba(60, 64, 67, 0.15);\n",
              "      fill: #174EA6;\n",
              "    }\n",
              "\n",
              "    .colab-df-buttons div {\n",
              "      margin-bottom: 4px;\n",
              "    }\n",
              "\n",
              "    [theme=dark] .colab-df-convert {\n",
              "      background-color: #3B4455;\n",
              "      fill: #D2E3FC;\n",
              "    }\n",
              "\n",
              "    [theme=dark] .colab-df-convert:hover {\n",
              "      background-color: #434B5C;\n",
              "      box-shadow: 0px 1px 3px 1px rgba(0, 0, 0, 0.15);\n",
              "      filter: drop-shadow(0px 1px 2px rgba(0, 0, 0, 0.3));\n",
              "      fill: #FFFFFF;\n",
              "    }\n",
              "  </style>\n",
              "\n",
              "    <script>\n",
              "      const buttonEl =\n",
              "        document.querySelector('#df-64d7ab01-602f-4abe-a3a3-264bf270067f button.colab-df-convert');\n",
              "      buttonEl.style.display =\n",
              "        google.colab.kernel.accessAllowed ? 'block' : 'none';\n",
              "\n",
              "      async function convertToInteractive(key) {\n",
              "        const element = document.querySelector('#df-64d7ab01-602f-4abe-a3a3-264bf270067f');\n",
              "        const dataTable =\n",
              "          await google.colab.kernel.invokeFunction('convertToInteractive',\n",
              "                                                    [key], {});\n",
              "        if (!dataTable) return;\n",
              "\n",
              "        const docLinkHtml = 'Like what you see? Visit the ' +\n",
              "          '<a target=\"_blank\" href=https://colab.research.google.com/notebooks/data_table.ipynb>data table notebook</a>'\n",
              "          + ' to learn more about interactive tables.';\n",
              "        element.innerHTML = '';\n",
              "        dataTable['output_type'] = 'display_data';\n",
              "        await google.colab.output.renderOutput(dataTable, element);\n",
              "        const docLink = document.createElement('div');\n",
              "        docLink.innerHTML = docLinkHtml;\n",
              "        element.appendChild(docLink);\n",
              "      }\n",
              "    </script>\n",
              "  </div>\n",
              "\n",
              "\n",
              "<div id=\"df-b7038918-6eb2-4252-8050-9899c8114f0f\">\n",
              "  <button class=\"colab-df-quickchart\" onclick=\"quickchart('df-b7038918-6eb2-4252-8050-9899c8114f0f')\"\n",
              "            title=\"Suggest charts.\"\n",
              "            style=\"display:none;\">\n",
              "\n",
              "<svg xmlns=\"http://www.w3.org/2000/svg\" height=\"24px\"viewBox=\"0 0 24 24\"\n",
              "     width=\"24px\">\n",
              "    <g>\n",
              "        <path d=\"M19 3H5c-1.1 0-2 .9-2 2v14c0 1.1.9 2 2 2h14c1.1 0 2-.9 2-2V5c0-1.1-.9-2-2-2zM9 17H7v-7h2v7zm4 0h-2V7h2v10zm4 0h-2v-4h2v4z\"/>\n",
              "    </g>\n",
              "</svg>\n",
              "  </button>\n",
              "\n",
              "<style>\n",
              "  .colab-df-quickchart {\n",
              "    background-color: #E8F0FE;\n",
              "    border: none;\n",
              "    border-radius: 50%;\n",
              "    cursor: pointer;\n",
              "    display: none;\n",
              "    fill: #1967D2;\n",
              "    height: 32px;\n",
              "    padding: 0 0 0 0;\n",
              "    width: 32px;\n",
              "  }\n",
              "\n",
              "  .colab-df-quickchart:hover {\n",
              "    background-color: #E2EBFA;\n",
              "    box-shadow: 0px 1px 2px rgba(60, 64, 67, 0.3), 0px 1px 3px 1px rgba(60, 64, 67, 0.15);\n",
              "    fill: #174EA6;\n",
              "  }\n",
              "\n",
              "  [theme=dark] .colab-df-quickchart {\n",
              "    background-color: #3B4455;\n",
              "    fill: #D2E3FC;\n",
              "  }\n",
              "\n",
              "  [theme=dark] .colab-df-quickchart:hover {\n",
              "    background-color: #434B5C;\n",
              "    box-shadow: 0px 1px 3px 1px rgba(0, 0, 0, 0.15);\n",
              "    filter: drop-shadow(0px 1px 2px rgba(0, 0, 0, 0.3));\n",
              "    fill: #FFFFFF;\n",
              "  }\n",
              "</style>\n",
              "\n",
              "  <script>\n",
              "    async function quickchart(key) {\n",
              "      const charts = await google.colab.kernel.invokeFunction(\n",
              "          'suggestCharts', [key], {});\n",
              "    }\n",
              "    (() => {\n",
              "      let quickchartButtonEl =\n",
              "        document.querySelector('#df-b7038918-6eb2-4252-8050-9899c8114f0f button');\n",
              "      quickchartButtonEl.style.display =\n",
              "        google.colab.kernel.accessAllowed ? 'block' : 'none';\n",
              "    })();\n",
              "  </script>\n",
              "</div>\n",
              "    </div>\n",
              "  </div>\n"
            ]
          },
          "metadata": {},
          "execution_count": 28
        }
      ]
    },
    {
      "cell_type": "markdown",
      "metadata": {
        "id": "bYdHVXeSlloO"
      },
      "source": [
        "Now, let's find out the total number of rows and columns, data types of columns and missing values (if there exist) in the dataset.\n"
      ]
    },
    {
      "cell_type": "code",
      "metadata": {
        "id": "eklSHu1mmdNx",
        "colab": {
          "base_uri": "https://localhost:8080/"
        },
        "outputId": "c3d5ff7b-140b-423b-bd11-ba5eb4570822"
      },
      "source": [
        "# S1.2: Get the total number of rows and columns, data types of columns and missing values (if exist) in the dataset.\n",
        "med_df.shape"
      ],
      "execution_count": null,
      "outputs": [
        {
          "output_type": "execute_result",
          "data": {
            "text/plain": [
              "(1338, 7)"
            ]
          },
          "metadata": {},
          "execution_count": 29
        }
      ]
    },
    {
      "cell_type": "markdown",
      "metadata": {
        "id": "3jIMnm20_R0P"
      },
      "source": [
        "There are **1338 rows and 7 columns** and no missing values in the dataset. Out of the 7 columns, 4 are numerical and 3 are categorical columns. The target variable whose values needs to be predicted is  `expenses` column and the 6 columns other than `expenses` are the feature variables.\n",
        "\n",
        "Now that our DataFrame does not contain any missing values, let us perform exploratory data analysis and analyse the patterns in the dataset."
      ]
    },
    {
      "cell_type": "markdown",
      "metadata": {
        "id": "uIAPevFI_iw6"
      },
      "source": [
        "---"
      ]
    },
    {
      "cell_type": "markdown",
      "metadata": {
        "id": "13YnhGYI_j--"
      },
      "source": [
        "#### Activity 2: Feature Encoding and EDA\n",
        "\n",
        "Let us convert the categorical columns into numeric ones so that they can be used for kNN processing. There are various ways of transforming text labels into numerical values out of which we will use **Label Encoding**. Let us understand this in detail.\n",
        "\n",
        "**Label Encoding:**\n",
        "\n",
        "- It is a simple and straight forward approach.\n",
        "- This approach converts each categorical column value into a numerical value.\n",
        "- It assigns a unique integer to each label based on alphabetical order.\n",
        "\n",
        "In Python, label encoding is done using `LabelEncoder` class of `sklearn.preprocessing` module. Let us first determine the unique values of `region` column using `unique()` function."
      ]
    },
    {
      "cell_type": "code",
      "metadata": {
        "id": "FsXKsv9oGWNL",
        "colab": {
          "base_uri": "https://localhost:8080/"
        },
        "outputId": "a579cc2e-a5d5-4b04-8ce0-8a3150c378eb"
      },
      "source": [
        "# S2.1: Get unique values present in 'region' column.\n",
        "from sklearn.preprocessing import LabelEncoder\n",
        "\n",
        "med_df['region'].unique()"
      ],
      "execution_count": null,
      "outputs": [
        {
          "output_type": "execute_result",
          "data": {
            "text/plain": [
              "array(['southwest', 'southeast', 'northwest', 'northeast'], dtype=object)"
            ]
          },
          "metadata": {},
          "execution_count": 30
        }
      ]
    },
    {
      "cell_type": "markdown",
      "metadata": {
        "id": "1oz3lHX_IBHw"
      },
      "source": [
        "You may observe that there are 4 unique values on the `region` column.\n",
        "\n",
        "When label encoding is applied to this column, the four labels would be arranged in alphabetical order and a unique index is assigned to each label starting from `0`. Thus, `northeast` label would be encoded as `0`, `northwest` would be `1` and so on.\n",
        "\n",
        "Let us first copy the original DataFrame to  a new DataFrame before performing label encoding."
      ]
    },
    {
      "cell_type": "code",
      "metadata": {
        "id": "BMWw8fOzNGAO"
      },
      "source": [
        "# S2.2: Copy the original DataFrame in a new DataFrame\n",
        "med_df_copy = med_df.copy()"
      ],
      "execution_count": null,
      "outputs": []
    },
    {
      "cell_type": "markdown",
      "metadata": {
        "id": "9LfcW4PUNNVu"
      },
      "source": [
        "\n",
        "Let us perform label encoding on the `region` column of the `copy_df` DataFrame using the steps given below:     \n",
        "1. Import `LabelEncoder` class from `sklearn.preprocessing` module.\n",
        "2. Create an object of `LabelEncoder` class and call the `fit_transform()` function using this object. Pass the `region` column whose encoding is to be done."
      ]
    },
    {
      "cell_type": "code",
      "metadata": {
        "id": "AajMSHPhHDc0",
        "colab": {
          "base_uri": "https://localhost:8080/",
          "height": 206
        },
        "outputId": "f89b6409-70fd-40b2-b63d-1ea2a8841968"
      },
      "source": [
        "# S2.2: Convert categorical column 'region' into numerical one.\n",
        "le = LabelEncoder()\n",
        "med_df_copy['region'] = le.fit_transform(med_df_copy['region'])\n",
        "med_df_copy.head()"
      ],
      "execution_count": null,
      "outputs": [
        {
          "output_type": "execute_result",
          "data": {
            "text/plain": [
              "   age     sex   bmi  children smoker  region  expenses\n",
              "0   19  female  27.9         0    yes       3  16884.92\n",
              "1   18    male  33.8         1     no       2   1725.55\n",
              "2   28    male  33.0         3     no       2   4449.46\n",
              "3   33    male  22.7         0     no       1  21984.47\n",
              "4   32    male  28.9         0     no       1   3866.86"
            ],
            "text/html": [
              "\n",
              "  <div id=\"df-c0032005-32a0-4e29-96bc-4d49d13db071\" class=\"colab-df-container\">\n",
              "    <div>\n",
              "<style scoped>\n",
              "    .dataframe tbody tr th:only-of-type {\n",
              "        vertical-align: middle;\n",
              "    }\n",
              "\n",
              "    .dataframe tbody tr th {\n",
              "        vertical-align: top;\n",
              "    }\n",
              "\n",
              "    .dataframe thead th {\n",
              "        text-align: right;\n",
              "    }\n",
              "</style>\n",
              "<table border=\"1\" class=\"dataframe\">\n",
              "  <thead>\n",
              "    <tr style=\"text-align: right;\">\n",
              "      <th></th>\n",
              "      <th>age</th>\n",
              "      <th>sex</th>\n",
              "      <th>bmi</th>\n",
              "      <th>children</th>\n",
              "      <th>smoker</th>\n",
              "      <th>region</th>\n",
              "      <th>expenses</th>\n",
              "    </tr>\n",
              "  </thead>\n",
              "  <tbody>\n",
              "    <tr>\n",
              "      <th>0</th>\n",
              "      <td>19</td>\n",
              "      <td>female</td>\n",
              "      <td>27.9</td>\n",
              "      <td>0</td>\n",
              "      <td>yes</td>\n",
              "      <td>3</td>\n",
              "      <td>16884.92</td>\n",
              "    </tr>\n",
              "    <tr>\n",
              "      <th>1</th>\n",
              "      <td>18</td>\n",
              "      <td>male</td>\n",
              "      <td>33.8</td>\n",
              "      <td>1</td>\n",
              "      <td>no</td>\n",
              "      <td>2</td>\n",
              "      <td>1725.55</td>\n",
              "    </tr>\n",
              "    <tr>\n",
              "      <th>2</th>\n",
              "      <td>28</td>\n",
              "      <td>male</td>\n",
              "      <td>33.0</td>\n",
              "      <td>3</td>\n",
              "      <td>no</td>\n",
              "      <td>2</td>\n",
              "      <td>4449.46</td>\n",
              "    </tr>\n",
              "    <tr>\n",
              "      <th>3</th>\n",
              "      <td>33</td>\n",
              "      <td>male</td>\n",
              "      <td>22.7</td>\n",
              "      <td>0</td>\n",
              "      <td>no</td>\n",
              "      <td>1</td>\n",
              "      <td>21984.47</td>\n",
              "    </tr>\n",
              "    <tr>\n",
              "      <th>4</th>\n",
              "      <td>32</td>\n",
              "      <td>male</td>\n",
              "      <td>28.9</td>\n",
              "      <td>0</td>\n",
              "      <td>no</td>\n",
              "      <td>1</td>\n",
              "      <td>3866.86</td>\n",
              "    </tr>\n",
              "  </tbody>\n",
              "</table>\n",
              "</div>\n",
              "    <div class=\"colab-df-buttons\">\n",
              "\n",
              "  <div class=\"colab-df-container\">\n",
              "    <button class=\"colab-df-convert\" onclick=\"convertToInteractive('df-c0032005-32a0-4e29-96bc-4d49d13db071')\"\n",
              "            title=\"Convert this dataframe to an interactive table.\"\n",
              "            style=\"display:none;\">\n",
              "\n",
              "  <svg xmlns=\"http://www.w3.org/2000/svg\" height=\"24px\" viewBox=\"0 -960 960 960\">\n",
              "    <path d=\"M120-120v-720h720v720H120Zm60-500h600v-160H180v160Zm220 220h160v-160H400v160Zm0 220h160v-160H400v160ZM180-400h160v-160H180v160Zm440 0h160v-160H620v160ZM180-180h160v-160H180v160Zm440 0h160v-160H620v160Z\"/>\n",
              "  </svg>\n",
              "    </button>\n",
              "\n",
              "  <style>\n",
              "    .colab-df-container {\n",
              "      display:flex;\n",
              "      gap: 12px;\n",
              "    }\n",
              "\n",
              "    .colab-df-convert {\n",
              "      background-color: #E8F0FE;\n",
              "      border: none;\n",
              "      border-radius: 50%;\n",
              "      cursor: pointer;\n",
              "      display: none;\n",
              "      fill: #1967D2;\n",
              "      height: 32px;\n",
              "      padding: 0 0 0 0;\n",
              "      width: 32px;\n",
              "    }\n",
              "\n",
              "    .colab-df-convert:hover {\n",
              "      background-color: #E2EBFA;\n",
              "      box-shadow: 0px 1px 2px rgba(60, 64, 67, 0.3), 0px 1px 3px 1px rgba(60, 64, 67, 0.15);\n",
              "      fill: #174EA6;\n",
              "    }\n",
              "\n",
              "    .colab-df-buttons div {\n",
              "      margin-bottom: 4px;\n",
              "    }\n",
              "\n",
              "    [theme=dark] .colab-df-convert {\n",
              "      background-color: #3B4455;\n",
              "      fill: #D2E3FC;\n",
              "    }\n",
              "\n",
              "    [theme=dark] .colab-df-convert:hover {\n",
              "      background-color: #434B5C;\n",
              "      box-shadow: 0px 1px 3px 1px rgba(0, 0, 0, 0.15);\n",
              "      filter: drop-shadow(0px 1px 2px rgba(0, 0, 0, 0.3));\n",
              "      fill: #FFFFFF;\n",
              "    }\n",
              "  </style>\n",
              "\n",
              "    <script>\n",
              "      const buttonEl =\n",
              "        document.querySelector('#df-c0032005-32a0-4e29-96bc-4d49d13db071 button.colab-df-convert');\n",
              "      buttonEl.style.display =\n",
              "        google.colab.kernel.accessAllowed ? 'block' : 'none';\n",
              "\n",
              "      async function convertToInteractive(key) {\n",
              "        const element = document.querySelector('#df-c0032005-32a0-4e29-96bc-4d49d13db071');\n",
              "        const dataTable =\n",
              "          await google.colab.kernel.invokeFunction('convertToInteractive',\n",
              "                                                    [key], {});\n",
              "        if (!dataTable) return;\n",
              "\n",
              "        const docLinkHtml = 'Like what you see? Visit the ' +\n",
              "          '<a target=\"_blank\" href=https://colab.research.google.com/notebooks/data_table.ipynb>data table notebook</a>'\n",
              "          + ' to learn more about interactive tables.';\n",
              "        element.innerHTML = '';\n",
              "        dataTable['output_type'] = 'display_data';\n",
              "        await google.colab.output.renderOutput(dataTable, element);\n",
              "        const docLink = document.createElement('div');\n",
              "        docLink.innerHTML = docLinkHtml;\n",
              "        element.appendChild(docLink);\n",
              "      }\n",
              "    </script>\n",
              "  </div>\n",
              "\n",
              "\n",
              "<div id=\"df-32fb761d-b1cc-4189-b82a-a1c969e8f898\">\n",
              "  <button class=\"colab-df-quickchart\" onclick=\"quickchart('df-32fb761d-b1cc-4189-b82a-a1c969e8f898')\"\n",
              "            title=\"Suggest charts.\"\n",
              "            style=\"display:none;\">\n",
              "\n",
              "<svg xmlns=\"http://www.w3.org/2000/svg\" height=\"24px\"viewBox=\"0 0 24 24\"\n",
              "     width=\"24px\">\n",
              "    <g>\n",
              "        <path d=\"M19 3H5c-1.1 0-2 .9-2 2v14c0 1.1.9 2 2 2h14c1.1 0 2-.9 2-2V5c0-1.1-.9-2-2-2zM9 17H7v-7h2v7zm4 0h-2V7h2v10zm4 0h-2v-4h2v4z\"/>\n",
              "    </g>\n",
              "</svg>\n",
              "  </button>\n",
              "\n",
              "<style>\n",
              "  .colab-df-quickchart {\n",
              "    background-color: #E8F0FE;\n",
              "    border: none;\n",
              "    border-radius: 50%;\n",
              "    cursor: pointer;\n",
              "    display: none;\n",
              "    fill: #1967D2;\n",
              "    height: 32px;\n",
              "    padding: 0 0 0 0;\n",
              "    width: 32px;\n",
              "  }\n",
              "\n",
              "  .colab-df-quickchart:hover {\n",
              "    background-color: #E2EBFA;\n",
              "    box-shadow: 0px 1px 2px rgba(60, 64, 67, 0.3), 0px 1px 3px 1px rgba(60, 64, 67, 0.15);\n",
              "    fill: #174EA6;\n",
              "  }\n",
              "\n",
              "  [theme=dark] .colab-df-quickchart {\n",
              "    background-color: #3B4455;\n",
              "    fill: #D2E3FC;\n",
              "  }\n",
              "\n",
              "  [theme=dark] .colab-df-quickchart:hover {\n",
              "    background-color: #434B5C;\n",
              "    box-shadow: 0px 1px 3px 1px rgba(0, 0, 0, 0.15);\n",
              "    filter: drop-shadow(0px 1px 2px rgba(0, 0, 0, 0.3));\n",
              "    fill: #FFFFFF;\n",
              "  }\n",
              "</style>\n",
              "\n",
              "  <script>\n",
              "    async function quickchart(key) {\n",
              "      const charts = await google.colab.kernel.invokeFunction(\n",
              "          'suggestCharts', [key], {});\n",
              "    }\n",
              "    (() => {\n",
              "      let quickchartButtonEl =\n",
              "        document.querySelector('#df-32fb761d-b1cc-4189-b82a-a1c969e8f898 button');\n",
              "      quickchartButtonEl.style.display =\n",
              "        google.colab.kernel.accessAllowed ? 'block' : 'none';\n",
              "    })();\n",
              "  </script>\n",
              "</div>\n",
              "    </div>\n",
              "  </div>\n"
            ]
          },
          "metadata": {},
          "execution_count": 34
        }
      ]
    },
    {
      "cell_type": "markdown",
      "metadata": {
        "id": "AyN6Dm8VJ_Rf"
      },
      "source": [
        "Hence, you may observe that the categorical column `region` is now a numerical column. `northeast` = `0`, `northwest` = `1`, `southeast` = `2`, `southwest` = `3`.\n",
        "\n",
        "Similarly, apply label encoding to other categorical columns namely `sex` and `smoker`."
      ]
    },
    {
      "cell_type": "code",
      "metadata": {
        "id": "3QfboNo_prXd"
      },
      "source": [
        "# S2.3: Convert categorical column 'sex' and 'smoker' into numerical columns.\n",
        "med_df_copy['sex'] = le.fit_transform(med_df_copy['sex'])\n",
        "med_df_copy['smoker'] = le.fit_transform(med_df_copy['smoker'])"
      ],
      "execution_count": null,
      "outputs": []
    },
    {
      "cell_type": "markdown",
      "metadata": {
        "id": "u8SFPcnIKox_"
      },
      "source": [
        "Now that all the columns are numerical columns,  we will try to understand the correlation between variables. For this, compute the correlation matrix among all the variables and plot a heat map."
      ]
    },
    {
      "cell_type": "code",
      "metadata": {
        "id": "uakJ2H4sLv1-",
        "colab": {
          "base_uri": "https://localhost:8080/",
          "height": 682
        },
        "outputId": "5573b88e-4fb7-4a6c-ea85-c9980544672c"
      },
      "source": [
        "# S2.4: Create a correlation heatmap.\n",
        "import seaborn as sns\n",
        "\n",
        "plt.figure(figsize = (10,8))\n",
        "sns.heatmap(med_df_copy.corr(), annot = True)\n",
        "plt.show()"
      ],
      "execution_count": null,
      "outputs": [
        {
          "output_type": "display_data",
          "data": {
            "text/plain": [
              "<Figure size 1000x800 with 2 Axes>"
            ],
            "image/png": "[encoded data removed]"
          },
          "metadata": {}
        }
      ]
    },
    {
      "cell_type": "markdown",
      "metadata": {
        "id": "x4caUD1LL4Mg"
      },
      "source": [
        "From the above correlation heatmap, we can observe that the `smoker` attribute is highly correlated with `expenses`, which means that smokers have more medical expenses as compared to non-smokers.\n",
        "\n",
        "Let us verify this by creating a boxplot with `'smoker'` column values on $x$-axis and `'expenses'` column values on $y$-axis."
      ]
    },
    {
      "cell_type": "code",
      "metadata": {
        "id": "-TPhvSlJMf6F",
        "colab": {
          "base_uri": "https://localhost:8080/",
          "height": 696
        },
        "outputId": "32cfac60-3cde-4256-f267-a398f4d74e74"
      },
      "source": [
        "# S2.5: Check the distribution of expenses among smokers and non-smokers using boxplot.\n",
        "plt.figure(figsize = (10,8))\n",
        "sns.boxplot(x = med_df_copy['smoker'], y = med_df_copy['expenses'])\n",
        "plt.show()"
      ],
      "execution_count": null,
      "outputs": [
        {
          "output_type": "display_data",
          "data": {
            "text/plain": [
              "<Figure size 1000x800 with 1 Axes>"
            ],
            "image/png": "[encoded data removed]"
          },
          "metadata": {}
        }
      ]
    },
    {
      "cell_type": "markdown",
      "metadata": {
        "id": "ZUUCOmpdO7PG"
      },
      "source": [
        "From the above boxplot, it can be clearly observed that smokers have more medical expenses as compared to non-smokers.\n",
        "\n",
        "Similarly, create boxplots for `'sex'` vs `'expenses'` and `'region'` vs `'expenses'` to understand the distribution of medical expenses among genders and regions."
      ]
    },
    {
      "cell_type": "code",
      "metadata": {
        "id": "FDJNwMjDPnx-",
        "colab": {
          "base_uri": "https://localhost:8080/",
          "height": 696
        },
        "outputId": "543678dd-6f0c-4acf-ddd9-8d7f62fe733e"
      },
      "source": [
        "# S2.6: Check the distribution of expenses among male and female using boxplot.\n",
        "plt.figure(figsize = (10,8))\n",
        "sns.boxplot(x = med_df_copy['sex'], y = med_df_copy['expenses'])\n",
        "plt.show()"
      ],
      "execution_count": null,
      "outputs": [
        {
          "output_type": "display_data",
          "data": {
            "text/plain": [
              "<Figure size 1000x800 with 1 Axes>"
            ],
            "image/png": "[encoded data removed]"
          },
          "metadata": {}
        }
      ]
    },
    {
      "cell_type": "code",
      "source": [
        "plt.figure(figsize = (10,8))\n",
        "sns.boxplot(x = med_df_copy['region'], y = med_df_copy['expenses'])\n",
        "plt.show()"
      ],
      "metadata": {
        "colab": {
          "base_uri": "https://localhost:8080/",
          "height": 696
        },
        "id": "Ek_a6MLx-_sO",
        "outputId": "ce9e8574-ef02-425a-ba6e-9b98d1595198"
      },
      "execution_count": null,
      "outputs": [
        {
          "output_type": "display_data",
          "data": {
            "text/plain": [
              "<Figure size 1000x800 with 1 Axes>"
            ],
            "image/png": "[encoded data removed]"
          },
          "metadata": {}
        }
      ]
    },
    {
      "cell_type": "markdown",
      "source": [
        "From the above boxplot, it can be clearly observed that men have more medical expenses than women."
      ],
      "metadata": {
        "id": "hVu8eXtGmnzg"
      }
    },
    {
      "cell_type": "markdown",
      "metadata": {
        "id": "k-mzaFpBQFVG"
      },
      "source": [
        "Hence, you may observe that people belonging to southeast region have more medical expenses as compared to other regions. Also, men have more medical expenses as compared to women. The reason behind this could be excessive smoking found in men. Let us confirm this by counting the number of men and women who are smokers and non-smokers in our dataset."
      ]
    },
    {
      "cell_type": "code",
      "metadata": {
        "id": "A1YyTqWURcsw",
        "colab": {
          "base_uri": "https://localhost:8080/"
        },
        "outputId": "395bdf3c-12b6-4409-f8e7-23232fb763d0"
      },
      "source": [
        "# S2.8: Plot the count of number of male and female smokers and non-smokers.\n",
        "med_df_copy['sex'].value_counts()"
      ],
      "execution_count": null,
      "outputs": [
        {
          "output_type": "execute_result",
          "data": {
            "text/plain": [
              "1    676\n",
              "0    662\n",
              "Name: sex, dtype: int64"
            ]
          },
          "metadata": {},
          "execution_count": 41
        }
      ]
    },
    {
      "cell_type": "markdown",
      "metadata": {
        "id": "hGuTAtlnSAqO"
      },
      "source": [
        "You can observe that smokers are not in the majority in this data set. Also, there are more male smokers than women smokers. Hence, it can be assumed that the total cost of treatment in men will be more than in women, given the impact of smoking.\n",
        "\n",
        "Let us understand the distribution of medical expenses by creating a distribution plot using `distplot()` function of `seaborn` module.\n",
        "\n"
      ]
    },
    {
      "cell_type": "code",
      "metadata": {
        "id": "SU_yoccSTsst",
        "colab": {
          "base_uri": "https://localhost:8080/",
          "height": 902
        },
        "outputId": "46ece176-46a2-4e83-ec79-b9c3cf65d146"
      },
      "source": [
        "# S2.9: Create a distplot for target variable 'expenses'.\n",
        "plt.figure(figsize = (10,8))\n",
        "sns.distplot(med_df_copy['expenses'])\n",
        "plt.show()"
      ],
      "execution_count": null,
      "outputs": [
        {
          "output_type": "stream",
          "name": "stderr",
          "text": [
            "<ipython-input-42-1c00829fbdcb>:3: UserWarning: \n",
            "\n",
            "`distplot` is a deprecated function and will be removed in seaborn v0.14.0.\n",
            "\n",
            "Please adapt your code to use either `displot` (a figure-level function with\n",
            "similar flexibility) or `histplot` (an axes-level function for histograms).\n",
            "\n",
            "For a guide to updating your code to use the new functions, please see\n",
            "https://gist.github.com/mwaskom/de44147ed2974457ad6372750bbe5751\n",
            "\n",
            "  sns.distplot(med_df_copy['expenses'])\n"
          ]
        },
        {
          "output_type": "display_data",
          "data": {
            "text/plain": [
              "<Figure size 1000x800 with 1 Axes>"
            ],
            "image/png": "[encoded data removed]"
          },
          "metadata": {}
        }
      ]
    },
    {
      "cell_type": "markdown",
      "metadata": {
        "id": "-ntc0h2oWoI2"
      },
      "source": [
        "From the above graph, we can observe that medical expenses do not follow normal distribution. Now that the detailed analysis of the dataset has been done, we can proceed with applying kNN regression on this dataset."
      ]
    },
    {
      "cell_type": "markdown",
      "metadata": {
        "id": "czRRfvMUXhfq"
      },
      "source": [
        "---"
      ]
    },
    {
      "cell_type": "markdown",
      "metadata": {
        "id": "QNF2KAg1XivD"
      },
      "source": [
        "#### Activity 3: Data Preparation\n",
        "\n",
        "Before we proceed further, first we will create separate DataFrames for features and the target column.\n",
        "\n",
        "\n"
      ]
    },
    {
      "cell_type": "code",
      "source": [
        "med_df_copy.head()"
      ],
      "metadata": {
        "colab": {
          "base_uri": "https://localhost:8080/",
          "height": 206
        },
        "id": "0oPIeVms_XTj",
        "outputId": "0a64726d-a5df-443f-e8f2-383812e66df9"
      },
      "execution_count": null,
      "outputs": [
        {
          "output_type": "execute_result",
          "data": {
            "text/plain": [
              "   age  sex   bmi  children  smoker  region  expenses\n",
              "0   19    0  27.9         0       1       3  16884.92\n",
              "1   18    1  33.8         1       0       2   1725.55\n",
              "2   28    1  33.0         3       0       2   4449.46\n",
              "3   33    1  22.7         0       0       1  21984.47\n",
              "4   32    1  28.9         0       0       1   3866.86"
            ],
            "text/html": [
              "\n",
              "  <div id=\"df-387e15bd-3470-48b2-ae9e-055ea34b539a\" class=\"colab-df-container\">\n",
              "    <div>\n",
              "<style scoped>\n",
              "    .dataframe tbody tr th:only-of-type {\n",
              "        vertical-align: middle;\n",
              "    }\n",
              "\n",
              "    .dataframe tbody tr th {\n",
              "        vertical-align: top;\n",
              "    }\n",
              "\n",
              "    .dataframe thead th {\n",
              "        text-align: right;\n",
              "    }\n",
              "</style>\n",
              "<table border=\"1\" class=\"dataframe\">\n",
              "  <thead>\n",
              "    <tr style=\"text-align: right;\">\n",
              "      <th></th>\n",
              "      <th>age</th>\n",
              "      <th>sex</th>\n",
              "      <th>bmi</th>\n",
              "      <th>children</th>\n",
              "      <th>smoker</th>\n",
              "      <th>region</th>\n",
              "      <th>expenses</th>\n",
              "    </tr>\n",
              "  </thead>\n",
              "  <tbody>\n",
              "    <tr>\n",
              "      <th>0</th>\n",
              "      <td>19</td>\n",
              "      <td>0</td>\n",
              "      <td>27.9</td>\n",
              "      <td>0</td>\n",
              "      <td>1</td>\n",
              "      <td>3</td>\n",
              "      <td>16884.92</td>\n",
              "    </tr>\n",
              "    <tr>\n",
              "      <th>1</th>\n",
              "      <td>18</td>\n",
              "      <td>1</td>\n",
              "      <td>33.8</td>\n",
              "      <td>1</td>\n",
              "      <td>0</td>\n",
              "      <td>2</td>\n",
              "      <td>1725.55</td>\n",
              "    </tr>\n",
              "    <tr>\n",
              "      <th>2</th>\n",
              "      <td>28</td>\n",
              "      <td>1</td>\n",
              "      <td>33.0</td>\n",
              "      <td>3</td>\n",
              "      <td>0</td>\n",
              "      <td>2</td>\n",
              "      <td>4449.46</td>\n",
              "    </tr>\n",
              "    <tr>\n",
              "      <th>3</th>\n",
              "      <td>33</td>\n",
              "      <td>1</td>\n",
              "      <td>22.7</td>\n",
              "      <td>0</td>\n",
              "      <td>0</td>\n",
              "      <td>1</td>\n",
              "      <td>21984.47</td>\n",
              "    </tr>\n",
              "    <tr>\n",
              "      <th>4</th>\n",
              "      <td>32</td>\n",
              "      <td>1</td>\n",
              "      <td>28.9</td>\n",
              "      <td>0</td>\n",
              "      <td>0</td>\n",
              "      <td>1</td>\n",
              "      <td>3866.86</td>\n",
              "    </tr>\n",
              "  </tbody>\n",
              "</table>\n",
              "</div>\n",
              "    <div class=\"colab-df-buttons\">\n",
              "\n",
              "  <div class=\"colab-df-container\">\n",
              "    <button class=\"colab-df-convert\" onclick=\"convertToInteractive('df-387e15bd-3470-48b2-ae9e-055ea34b539a')\"\n",
              "            title=\"Convert this dataframe to an interactive table.\"\n",
              "            style=\"display:none;\">\n",
              "\n",
              "  <svg xmlns=\"http://www.w3.org/2000/svg\" height=\"24px\" viewBox=\"0 -960 960 960\">\n",
              "    <path d=\"M120-120v-720h720v720H120Zm60-500h600v-160H180v160Zm220 220h160v-160H400v160Zm0 220h160v-160H400v160ZM180-400h160v-160H180v160Zm440 0h160v-160H620v160ZM180-180h160v-160H180v160Zm440 0h160v-160H620v160Z\"/>\n",
              "  </svg>\n",
              "    </button>\n",
              "\n",
              "  <style>\n",
              "    .colab-df-container {\n",
              "      display:flex;\n",
              "      gap: 12px;\n",
              "    }\n",
              "\n",
              "    .colab-df-convert {\n",
              "      background-color: #E8F0FE;\n",
              "      border: none;\n",
              "      border-radius: 50%;\n",
              "      cursor: pointer;\n",
              "      display: none;\n",
              "      fill: #1967D2;\n",
              "      height: 32px;\n",
              "      padding: 0 0 0 0;\n",
              "      width: 32px;\n",
              "    }\n",
              "\n",
              "    .colab-df-convert:hover {\n",
              "      background-color: #E2EBFA;\n",
              "      box-shadow: 0px 1px 2px rgba(60, 64, 67, 0.3), 0px 1px 3px 1px rgba(60, 64, 67, 0.15);\n",
              "      fill: #174EA6;\n",
              "    }\n",
              "\n",
              "    .colab-df-buttons div {\n",
              "      margin-bottom: 4px;\n",
              "    }\n",
              "\n",
              "    [theme=dark] .colab-df-convert {\n",
              "      background-color: #3B4455;\n",
              "      fill: #D2E3FC;\n",
              "    }\n",
              "\n",
              "    [theme=dark] .colab-df-convert:hover {\n",
              "      background-color: #434B5C;\n",
              "      box-shadow: 0px 1px 3px 1px rgba(0, 0, 0, 0.15);\n",
              "      filter: drop-shadow(0px 1px 2px rgba(0, 0, 0, 0.3));\n",
              "      fill: #FFFFFF;\n",
              "    }\n",
              "  </style>\n",
              "\n",
              "    <script>\n",
              "      const buttonEl =\n",
              "        document.querySelector('#df-387e15bd-3470-48b2-ae9e-055ea34b539a button.colab-df-convert');\n",
              "      buttonEl.style.display =\n",
              "        google.colab.kernel.accessAllowed ? 'block' : 'none';\n",
              "\n",
              "      async function convertToInteractive(key) {\n",
              "        const element = document.querySelector('#df-387e15bd-3470-48b2-ae9e-055ea34b539a');\n",
              "        const dataTable =\n",
              "          await google.colab.kernel.invokeFunction('convertToInteractive',\n",
              "                                                    [key], {});\n",
              "        if (!dataTable) return;\n",
              "\n",
              "        const docLinkHtml = 'Like what you see? Visit the ' +\n",
              "          '<a target=\"_blank\" href=https://colab.research.google.com/notebooks/data_table.ipynb>data table notebook</a>'\n",
              "          + ' to learn more about interactive tables.';\n",
              "        element.innerHTML = '';\n",
              "        dataTable['output_type'] = 'display_data';\n",
              "        await google.colab.output.renderOutput(dataTable, element);\n",
              "        const docLink = document.createElement('div');\n",
              "        docLink.innerHTML = docLinkHtml;\n",
              "        element.appendChild(docLink);\n",
              "      }\n",
              "    </script>\n",
              "  </div>\n",
              "\n",
              "\n",
              "<div id=\"df-cc044899-7a11-4aea-a1a0-ec116140d3cc\">\n",
              "  <button class=\"colab-df-quickchart\" onclick=\"quickchart('df-cc044899-7a11-4aea-a1a0-ec116140d3cc')\"\n",
              "            title=\"Suggest charts.\"\n",
              "            style=\"display:none;\">\n",
              "\n",
              "<svg xmlns=\"http://www.w3.org/2000/svg\" height=\"24px\"viewBox=\"0 0 24 24\"\n",
              "     width=\"24px\">\n",
              "    <g>\n",
              "        <path d=\"M19 3H5c-1.1 0-2 .9-2 2v14c0 1.1.9 2 2 2h14c1.1 0 2-.9 2-2V5c0-1.1-.9-2-2-2zM9 17H7v-7h2v7zm4 0h-2V7h2v10zm4 0h-2v-4h2v4z\"/>\n",
              "    </g>\n",
              "</svg>\n",
              "  </button>\n",
              "\n",
              "<style>\n",
              "  .colab-df-quickchart {\n",
              "    background-color: #E8F0FE;\n",
              "    border: none;\n",
              "    border-radius: 50%;\n",
              "    cursor: pointer;\n",
              "    display: none;\n",
              "    fill: #1967D2;\n",
              "    height: 32px;\n",
              "    padding: 0 0 0 0;\n",
              "    width: 32px;\n",
              "  }\n",
              "\n",
              "  .colab-df-quickchart:hover {\n",
              "    background-color: #E2EBFA;\n",
              "    box-shadow: 0px 1px 2px rgba(60, 64, 67, 0.3), 0px 1px 3px 1px rgba(60, 64, 67, 0.15);\n",
              "    fill: #174EA6;\n",
              "  }\n",
              "\n",
              "  [theme=dark] .colab-df-quickchart {\n",
              "    background-color: #3B4455;\n",
              "    fill: #D2E3FC;\n",
              "  }\n",
              "\n",
              "  [theme=dark] .colab-df-quickchart:hover {\n",
              "    background-color: #434B5C;\n",
              "    box-shadow: 0px 1px 3px 1px rgba(0, 0, 0, 0.15);\n",
              "    filter: drop-shadow(0px 1px 2px rgba(0, 0, 0, 0.3));\n",
              "    fill: #FFFFFF;\n",
              "  }\n",
              "</style>\n",
              "\n",
              "  <script>\n",
              "    async function quickchart(key) {\n",
              "      const charts = await google.colab.kernel.invokeFunction(\n",
              "          'suggestCharts', [key], {});\n",
              "    }\n",
              "    (() => {\n",
              "      let quickchartButtonEl =\n",
              "        document.querySelector('#df-cc044899-7a11-4aea-a1a0-ec116140d3cc button');\n",
              "      quickchartButtonEl.style.display =\n",
              "        google.colab.kernel.accessAllowed ? 'block' : 'none';\n",
              "    })();\n",
              "  </script>\n",
              "</div>\n",
              "    </div>\n",
              "  </div>\n"
            ]
          },
          "metadata": {},
          "execution_count": 46
        }
      ]
    },
    {
      "cell_type": "code",
      "metadata": {
        "id": "N7VrGXTLYx2c"
      },
      "source": [
        "# S3.1: Split the data into dependent and independent features\n",
        "features_df = med_df_copy.drop(['expenses'], axis = 1)\n",
        "target_df = med_df_copy['expenses']"
      ],
      "execution_count": null,
      "outputs": []
    },
    {
      "cell_type": "markdown",
      "metadata": {
        "id": "w3PuZWsBY38y"
      },
      "source": [
        "Thus, for our dataset, the `features_df` DataFrame contains feature variables and `target_df` DataFrame contains the target variable `expenses`.\n",
        "\n",
        "Let's normalise all the feature variables using `StandardScaler` technique so that all the features have mean `0` and same variance before applying kNN.\n"
      ]
    },
    {
      "cell_type": "code",
      "metadata": {
        "id": "JSiX20sqq2nH",
        "colab": {
          "base_uri": "https://localhost:8080/",
          "height": 206
        },
        "outputId": "e45beb33-b485-44e6-e020-c546f1d30a78"
      },
      "source": [
        "# S3.2: Normalise the column values.\n",
        "from sklearn.preprocessing import StandardScaler\n",
        "\n",
        "ss = StandardScaler()\n",
        "ss_fit_transform = ss.fit_transform(features_df)\n",
        "ss_fit_df = pd.DataFrame(ss_fit_transform)\n",
        "ss_fit_df.columns = features_df.columns\n",
        "ss_fit_df.head()\n"
      ],
      "execution_count": null,
      "outputs": [
        {
          "output_type": "execute_result",
          "data": {
            "text/plain": [
              "        age       sex       bmi  children    smoker    region\n",
              "0 -1.438764 -1.010519 -0.453646 -0.908614  1.970587  1.343905\n",
              "1 -1.509965  0.989591  0.514186 -0.078767 -0.507463  0.438495\n",
              "2 -0.797954  0.989591  0.382954  1.580926 -0.507463  0.438495\n",
              "3 -0.441948  0.989591 -1.306650 -0.908614 -0.507463 -0.466915\n",
              "4 -0.513149  0.989591 -0.289606 -0.908614 -0.507463 -0.466915"
            ],
            "text/html": [
              "\n",
              "  <div id=\"df-3d17ed16-451d-4ccc-b53a-538373effd8d\" class=\"colab-df-container\">\n",
              "    <div>\n",
              "<style scoped>\n",
              "    .dataframe tbody tr th:only-of-type {\n",
              "        vertical-align: middle;\n",
              "    }\n",
              "\n",
              "    .dataframe tbody tr th {\n",
              "        vertical-align: top;\n",
              "    }\n",
              "\n",
              "    .dataframe thead th {\n",
              "        text-align: right;\n",
              "    }\n",
              "</style>\n",
              "<table border=\"1\" class=\"dataframe\">\n",
              "  <thead>\n",
              "    <tr style=\"text-align: right;\">\n",
              "      <th></th>\n",
              "      <th>age</th>\n",
              "      <th>sex</th>\n",
              "      <th>bmi</th>\n",
              "      <th>children</th>\n",
              "      <th>smoker</th>\n",
              "      <th>region</th>\n",
              "    </tr>\n",
              "  </thead>\n",
              "  <tbody>\n",
              "    <tr>\n",
              "      <th>0</th>\n",
              "      <td>-1.438764</td>\n",
              "      <td>-1.010519</td>\n",
              "      <td>-0.453646</td>\n",
              "      <td>-0.908614</td>\n",
              "      <td>1.970587</td>\n",
              "      <td>1.343905</td>\n",
              "    </tr>\n",
              "    <tr>\n",
              "      <th>1</th>\n",
              "      <td>-1.509965</td>\n",
              "      <td>0.989591</td>\n",
              "      <td>0.514186</td>\n",
              "      <td>-0.078767</td>\n",
              "      <td>-0.507463</td>\n",
              "      <td>0.438495</td>\n",
              "    </tr>\n",
              "    <tr>\n",
              "      <th>2</th>\n",
              "      <td>-0.797954</td>\n",
              "      <td>0.989591</td>\n",
              "      <td>0.382954</td>\n",
              "      <td>1.580926</td>\n",
              "      <td>-0.507463</td>\n",
              "      <td>0.438495</td>\n",
              "    </tr>\n",
              "    <tr>\n",
              "      <th>3</th>\n",
              "      <td>-0.441948</td>\n",
              "      <td>0.989591</td>\n",
              "      <td>-1.306650</td>\n",
              "      <td>-0.908614</td>\n",
              "      <td>-0.507463</td>\n",
              "      <td>-0.466915</td>\n",
              "    </tr>\n",
              "    <tr>\n",
              "      <th>4</th>\n",
              "      <td>-0.513149</td>\n",
              "      <td>0.989591</td>\n",
              "      <td>-0.289606</td>\n",
              "      <td>-0.908614</td>\n",
              "      <td>-0.507463</td>\n",
              "      <td>-0.466915</td>\n",
              "    </tr>\n",
              "  </tbody>\n",
              "</table>\n",
              "</div>\n",
              "    <div class=\"colab-df-buttons\">\n",
              "\n",
              "  <div class=\"colab-df-container\">\n",
              "    <button class=\"colab-df-convert\" onclick=\"convertToInteractive('df-3d17ed16-451d-4ccc-b53a-538373effd8d')\"\n",
              "            title=\"Convert this dataframe to an interactive table.\"\n",
              "            style=\"display:none;\">\n",
              "\n",
              "  <svg xmlns=\"http://www.w3.org/2000/svg\" height=\"24px\" viewBox=\"0 -960 960 960\">\n",
              "    <path d=\"M120-120v-720h720v720H120Zm60-500h600v-160H180v160Zm220 220h160v-160H400v160Zm0 220h160v-160H400v160ZM180-400h160v-160H180v160Zm440 0h160v-160H620v160ZM180-180h160v-160H180v160Zm440 0h160v-160H620v160Z\"/>\n",
              "  </svg>\n",
              "    </button>\n",
              "\n",
              "  <style>\n",
              "    .colab-df-container {\n",
              "      display:flex;\n",
              "      gap: 12px;\n",
              "    }\n",
              "\n",
              "    .colab-df-convert {\n",
              "      background-color: #E8F0FE;\n",
              "      border: none;\n",
              "      border-radius: 50%;\n",
              "      cursor: pointer;\n",
              "      display: none;\n",
              "      fill: #1967D2;\n",
              "      height: 32px;\n",
              "      padding: 0 0 0 0;\n",
              "      width: 32px;\n",
              "    }\n",
              "\n",
              "    .colab-df-convert:hover {\n",
              "      background-color: #E2EBFA;\n",
              "      box-shadow: 0px 1px 2px rgba(60, 64, 67, 0.3), 0px 1px 3px 1px rgba(60, 64, 67, 0.15);\n",
              "      fill: #174EA6;\n",
              "    }\n",
              "\n",
              "    .colab-df-buttons div {\n",
              "      margin-bottom: 4px;\n",
              "    }\n",
              "\n",
              "    [theme=dark] .colab-df-convert {\n",
              "      background-color: #3B4455;\n",
              "      fill: #D2E3FC;\n",
              "    }\n",
              "\n",
              "    [theme=dark] .colab-df-convert:hover {\n",
              "      background-color: #434B5C;\n",
              "      box-shadow: 0px 1px 3px 1px rgba(0, 0, 0, 0.15);\n",
              "      filter: drop-shadow(0px 1px 2px rgba(0, 0, 0, 0.3));\n",
              "      fill: #FFFFFF;\n",
              "    }\n",
              "  </style>\n",
              "\n",
              "    <script>\n",
              "      const buttonEl =\n",
              "        document.querySelector('#df-3d17ed16-451d-4ccc-b53a-538373effd8d button.colab-df-convert');\n",
              "      buttonEl.style.display =\n",
              "        google.colab.kernel.accessAllowed ? 'block' : 'none';\n",
              "\n",
              "      async function convertToInteractive(key) {\n",
              "        const element = document.querySelector('#df-3d17ed16-451d-4ccc-b53a-538373effd8d');\n",
              "        const dataTable =\n",
              "          await google.colab.kernel.invokeFunction('convertToInteractive',\n",
              "                                                    [key], {});\n",
              "        if (!dataTable) return;\n",
              "\n",
              "        const docLinkHtml = 'Like what you see? Visit the ' +\n",
              "          '<a target=\"_blank\" href=https://colab.research.google.com/notebooks/data_table.ipynb>data table notebook</a>'\n",
              "          + ' to learn more about interactive tables.';\n",
              "        element.innerHTML = '';\n",
              "        dataTable['output_type'] = 'display_data';\n",
              "        await google.colab.output.renderOutput(dataTable, element);\n",
              "        const docLink = document.createElement('div');\n",
              "        docLink.innerHTML = docLinkHtml;\n",
              "        element.appendChild(docLink);\n",
              "      }\n",
              "    </script>\n",
              "  </div>\n",
              "\n",
              "\n",
              "<div id=\"df-33cdbb14-78c2-4782-a64f-d9fabef1198f\">\n",
              "  <button class=\"colab-df-quickchart\" onclick=\"quickchart('df-33cdbb14-78c2-4782-a64f-d9fabef1198f')\"\n",
              "            title=\"Suggest charts.\"\n",
              "            style=\"display:none;\">\n",
              "\n",
              "<svg xmlns=\"http://www.w3.org/2000/svg\" height=\"24px\"viewBox=\"0 0 24 24\"\n",
              "     width=\"24px\">\n",
              "    <g>\n",
              "        <path d=\"M19 3H5c-1.1 0-2 .9-2 2v14c0 1.1.9 2 2 2h14c1.1 0 2-.9 2-2V5c0-1.1-.9-2-2-2zM9 17H7v-7h2v7zm4 0h-2V7h2v10zm4 0h-2v-4h2v4z\"/>\n",
              "    </g>\n",
              "</svg>\n",
              "  </button>\n",
              "\n",
              "<style>\n",
              "  .colab-df-quickchart {\n",
              "    background-color: #E8F0FE;\n",
              "    border: none;\n",
              "    border-radius: 50%;\n",
              "    cursor: pointer;\n",
              "    display: none;\n",
              "    fill: #1967D2;\n",
              "    height: 32px;\n",
              "    padding: 0 0 0 0;\n",
              "    width: 32px;\n",
              "  }\n",
              "\n",
              "  .colab-df-quickchart:hover {\n",
              "    background-color: #E2EBFA;\n",
              "    box-shadow: 0px 1px 2px rgba(60, 64, 67, 0.3), 0px 1px 3px 1px rgba(60, 64, 67, 0.15);\n",
              "    fill: #174EA6;\n",
              "  }\n",
              "\n",
              "  [theme=dark] .colab-df-quickchart {\n",
              "    background-color: #3B4455;\n",
              "    fill: #D2E3FC;\n",
              "  }\n",
              "\n",
              "  [theme=dark] .colab-df-quickchart:hover {\n",
              "    background-color: #434B5C;\n",
              "    box-shadow: 0px 1px 3px 1px rgba(0, 0, 0, 0.15);\n",
              "    filter: drop-shadow(0px 1px 2px rgba(0, 0, 0, 0.3));\n",
              "    fill: #FFFFFF;\n",
              "  }\n",
              "</style>\n",
              "\n",
              "  <script>\n",
              "    async function quickchart(key) {\n",
              "      const charts = await google.colab.kernel.invokeFunction(\n",
              "          'suggestCharts', [key], {});\n",
              "    }\n",
              "    (() => {\n",
              "      let quickchartButtonEl =\n",
              "        document.querySelector('#df-33cdbb14-78c2-4782-a64f-d9fabef1198f button');\n",
              "      quickchartButtonEl.style.display =\n",
              "        google.colab.kernel.accessAllowed ? 'block' : 'none';\n",
              "    })();\n",
              "  </script>\n",
              "</div>\n",
              "    </div>\n",
              "  </div>\n"
            ]
          },
          "metadata": {},
          "execution_count": 52
        }
      ]
    },
    {
      "cell_type": "markdown",
      "metadata": {
        "id": "RalULB9BZngN"
      },
      "source": [
        "Let us now split the features and target DataFrames into train and test sets for building a regression model using `train_test_split()` function."
      ]
    },
    {
      "cell_type": "code",
      "metadata": {
        "id": "ROLO7flLwIXZ"
      },
      "source": [
        "# S3.3: Perform train-test split\n",
        "from sklearn.model_selection import train_test_split\n",
        "# Print the shape of train and test sets.\n",
        "X = features_df\n",
        "y = target_df\n",
        "\n",
        "x_train, x_test, y_train, y_test = train_test_split(X, y, test_size = 0.33, random_state = 42)"
      ],
      "execution_count": null,
      "outputs": []
    },
    {
      "cell_type": "markdown",
      "metadata": {
        "id": "2z4vmO3UaP-F"
      },
      "source": [
        "Now that the train and test sets are ready, we can perform kNN regression. Before that, we need to determine the optimal value of $k$ i.e number of neighbours as done for kNN classification."
      ]
    },
    {
      "cell_type": "markdown",
      "metadata": {
        "id": "FKpJU4rbapAb"
      },
      "source": [
        "---"
      ]
    },
    {
      "cell_type": "markdown",
      "metadata": {
        "id": "IUCQwQZ6aqE7"
      },
      "source": [
        "#### Activity 4: Applying kNN Regression\n",
        "\n",
        "For kNN regression, the `KNeighborsRegressor` class from `sklearn.neighbors` module is used. The syntax for using this class is:\n",
        "\n",
        "**Syntax:** `KNeighborsRegressor(n_neighbors, metric)`\n",
        "\n",
        "Where,\n",
        "  - `n_neighbors` is basically the value for the $k$.  \n",
        "\n",
        "  - `metric` is the distance metric. By default, it is `euclidean`. You may also use other distance metrics like `manhattan` distance.\n",
        "\n",
        "Let us first find the optimal value of $k$ i.e. number of neighbours which can give good train and test set accuracy scores.\n",
        "\n",
        "For this, we can determine the accuracy scores for neighbours from `1` to `20` and plot these scores using the steps given below:\n",
        "\n",
        "1. Import `KNeighborsRegressor` class from `sklearn.neighbors` module.\n",
        "\n",
        "\n",
        "2. Create two lists `acc_train` and `acc_test` to store the accuracy scores of train set and test set for various $k$ values.\n",
        "\n",
        "2. Initiate a `for` loop that ranges from `1` to `20` with current iterator stored in variable `k`. Inside this `for` loop:\n",
        "  - Create an object of `KNeighborsRegressor` class with `n_neighbors = k` as input.\n",
        "  - Call the `fit()` function using the object of  `KNeighborsRegressor` class and pass train set as inputs to this function.\n",
        "  - Determine the train set and test set  accuracy scores for current `k` value by using `score()` function. Append these scores to the `acc_train` and `acc_test` lists respectively.\n",
        "\n",
        "3. Visualise the  values of `acc_train` and `acc_test` lists using line plots.\n"
      ]
    },
    {
      "cell_type": "code",
      "metadata": {
        "id": "NPQ9rJvrxIax"
      },
      "source": [
        "# S4.1: Plot accuracy scores of train and test sets for 1 to 20 neighbours.\n",
        "# Import KNeighborsRegressor from sklearn\n",
        "from sklearn.neighbors import KNeighborsRegressor\n",
        "\n",
        "acc_train = []\n",
        "acc_test = []\n",
        "\n",
        "for i in range(1,20):\n",
        "  knr = KNeighborsRegressor(n_neighbors = i)\n",
        "  knr.fit(x_train, y_train)\n",
        "  acc_train.append(knr.score(x_train, y_train))\n",
        "  acc_test.append(knr.score(x_test, y_test))\n",
        "# Make lists to store train and test accuracy scores\n",
        "\n",
        "\n",
        "# Loop over for a range of 20 to get the accuracy scores\n",
        "\n",
        "\n",
        "# plot Train and Test accuracy scores\n"
      ],
      "execution_count": null,
      "outputs": []
    },
    {
      "cell_type": "code",
      "source": [
        "plt.figure(figsize = (10,8))\n",
        "plt.plot(acc_train)\n",
        "plt.plot(acc_test)\n",
        "plt.show()"
      ],
      "metadata": {
        "colab": {
          "base_uri": "https://localhost:8080/",
          "height": 676
        },
        "id": "Qjf-Vtm9Bk31",
        "outputId": "cbcb6db9-285e-4d31-dce2-9919f3dea735"
      },
      "execution_count": null,
      "outputs": [
        {
          "output_type": "display_data",
          "data": {
            "text/plain": [
              "<Figure size 1000x800 with 1 Axes>"
            ],
            "image/png": "[encoded data removed]"
          },
          "metadata": {}
        }
      ]
    },
    {
      "cell_type": "markdown",
      "metadata": {
        "id": "crugpOpuq84V"
      },
      "source": [
        "You may observe that with an increase in the number of neighbours, the accuracy score of train set decreases whereas test set accuracy score increases. As test set accuracy score is a better estimate than train set accuracy for unseen data, we can say that **6** is an optimal value for $k$.\n",
        "\n",
        "Let us now deploy the kNN regressor model for $k = 6$ using the steps given below:          \n",
        "1. Import the `KNeighborsRegressor` class from the `sklearn.neighbors` module (if not imported yet).\n",
        "\n",
        "2. Create an object of `KNeighborsRegressor` and pass `n_neighbors = 6` as input to its constructor.\n",
        "\n",
        "3. Call the `fit()` function using the regressor object and pass the train set as inputs to this function.\n",
        "\n",
        "4. Perform prediction for train and test sets using the `predict()` function.\n",
        "\n",
        "5. Also, determine the accuracy scores of the train and test sets using the `score()` function."
      ]
    },
    {
      "cell_type": "code",
      "metadata": {
        "id": "ZSF-bpo1sHRk",
        "colab": {
          "base_uri": "https://localhost:8080/"
        },
        "outputId": "452b9a03-bf6b-4fe5-a6c3-5f22e627f988"
      },
      "source": [
        "# S4.2: Train kNN regressor model for 'k = 6'.\n",
        "knr2 = KNeighborsRegressor(n_neighbors = 6)\n",
        "knr2.fit(x_train, y_train)\n",
        "knr2_pred = knr2.predict(x_train)\n",
        "knr2_pred2 = knr2.predict(x_test)\n",
        "knr2.score(x_train, y_train)\n",
        "# Perform prediction using 'predict()' function.\n",
        "\n",
        "\n",
        "# Call the 'score()' function to check the accuracy score of the train set and test set.\n"
      ],
      "execution_count": null,
      "outputs": [
        {
          "output_type": "execute_result",
          "data": {
            "text/plain": [
              "0.34014339104516766"
            ]
          },
          "metadata": {},
          "execution_count": 59
        }
      ]
    },
    {
      "cell_type": "code",
      "source": [],
      "metadata": {
        "id": "YEawddv_CLyK"
      },
      "execution_count": null,
      "outputs": []
    },
    {
      "cell_type": "markdown",
      "metadata": {
        "id": "XNZG7RvwtuZN"
      },
      "source": [
        "Hence, we obtained good accuracy scores for both train and test sets with $k = 6$, which is 85% that is considered as a good accuracy score and indicates that the model is performing well in only on training dataset. Let us also inspect Root Mean Squared Error (RMSE), Mean Absolute Error (MAE) and Mean Squared Log Error (MSLE) values for both train and test sets."
      ]
    },
    {
      "cell_type": "code",
      "metadata": {
        "id": "Xvr3soGuuvHc",
        "colab": {
          "base_uri": "https://localhost:8080/"
        },
        "outputId": "3f93a620-00f6-4935-f396-47b670e41d20"
      },
      "source": [
        "# S4.3: Evaluate kNN regressor using RMSE, MAE and MSLE values.\n",
        "from sklearn.metrics import mean_squared_error, mean_absolute_error, mean_squared_log_error, r2_score\n",
        "\n",
        "print(mean_squared_error(y_train, knr2_pred))\n",
        "print(mean_absolute_error(y_train, knr2_pred))\n",
        "print(mean_squared_log_error(y_train, knr2_pred))\n",
        "print(r2_score(y_train, knr2_pred))\n"
      ],
      "execution_count": null,
      "outputs": [
        {
          "output_type": "stream",
          "name": "stdout",
          "text": [
            "96672749.32426682\n",
            "6932.079587053572\n",
            "0.5316279641371829\n",
            "0.34014339104516766\n"
          ]
        }
      ]
    },
    {
      "cell_type": "markdown",
      "metadata": {
        "id": "OgSJF-8VvZEb"
      },
      "source": [
        "Although RMSE and MAE values are high, the MSLE is low which is good for our model. Thus, we have created a kNN regression model capable of predicting medical expenses of an individual, given other features.\n",
        "\n",
        "<br>\n",
        "\n",
        "The kNN algorithm can also be used for imputing missing values in a dataset. Let us learn  how."
      ]
    },
    {
      "cell_type": "markdown",
      "metadata": {
        "id": "2E7XyAF4xe5D"
      },
      "source": [
        "---"
      ]
    },
    {
      "cell_type": "markdown",
      "metadata": {
        "id": "94_h5wGV439y"
      },
      "source": [
        "#### Activity 5: Using kNN as an Imputer\n",
        "\n",
        "In many of the previous classes, we often replaced missing values  of a numerical column with either its mean or median.  Another useful technique to fill out missing values in a dataset is using **kNNImputer**.\n",
        "\n",
        "kNNimputer is an `sklearn` class that uses the basic approach of the kNN algorithm to impute missing values of a column. Let us understand how kNNimputer operates using a simple example.\n",
        "\n",
        "Suppose we have age, height, and weight of 4 people and the age of third person is missing or reported as `NaN` as seen in the table below:\n",
        "\n",
        "<center>\n",
        "<img src=\"https://s3-whjr-v2-prod-bucket.whjr.online/whjr-v2-prod-bucket/c2e94267-ac62-42a2-8cbc-211505e1d820.PNG\"/></center>\n",
        "\n",
        "We will use kNNimputer to replace this `NaN` value. Before that, let us first create a DataFrame containing the above columns by using the following dictionary:\n",
        "```python\n",
        "data_dict = {'Age':[45, 32, np.nan, 23],\n",
        "        'Height': [5.00, 5.60, 5.11, 5.50],\n",
        "        'Weight':[77, 58, 47, 45]}\n",
        "\n",
        "```"
      ]
    },
    {
      "cell_type": "code",
      "metadata": {
        "id": "_NdbzaaX7_NR"
      },
      "source": [
        "# S5.1: Create a dataset for age, height and weight of people\n",
        "data_dict = {'Age':[45, 32, np.nan, 23],\n",
        "        'Height': [5.00, 5.60, 5.11, 5.50],\n",
        "        'Weight':[77, 58, 47, 45]}\n",
        "\n",
        "# Create a DataFrame from the dictionary\n",
        "nan_df = pd.DataFrame(data_dict)"
      ],
      "execution_count": null,
      "outputs": []
    },
    {
      "cell_type": "markdown",
      "metadata": {
        "id": "GpWkdlOF-p1h"
      },
      "source": [
        "KNNImputer works by first calculating the Euclidean distance between each data point. However, in the presence of missing coordinates, the Euclidean distance is calculated by ignoring the missing values and scaling up the weight of the non-missing coordinates.\n",
        "\n",
        "Thus, the Euclidean distance between two data points $x$ and $y$ are calculated as:    \n",
        "\n",
        "\\begin{align}\n",
        "d(x, y) = \\sqrt{\\text{weight} \\times \\text{squared distance between present coordinates}}\n",
        "\\end{align}\n",
        "\n",
        "Where,\n",
        "\\begin{align}\n",
        "\\text{weight} = \\frac{\\text{Total number of coordinates}}{\\text{Number of present coordinates}}\n",
        "\\end{align}\n",
        "\n",
        "Thus, referring the above DataFrame, the Euclidean distance between data point $0$ **(45.0, 5.00, 77)** and data point $2$ **(NaN, 5.11, 47)** would be:    \n",
        "\n",
        "\\begin{align}\n",
        "\\sqrt{\\frac{3}{2} \\times \\bigg[(5.00 - 5.11)^2 +  (77 - 47)^2   \\bigg]} = \\sqrt{\\frac{3}{2} \\times 900.0121} = 36.742593\n",
        "\\end{align}\n",
        "\n",
        "Similarly, the Euclidean distance between each pair of data points is calculated. In Python, we can calculate the Euclidean distances in the presence of missing values by using `nan_euclidean_distances()` function of `sklearn.metrics.pairwise` module.\n",
        "\n",
        "**Syntax for Euclidean Distance:** `nan_euclidean_distances(x, y)`\n",
        "\n",
        "Where, `x` and `y` are the two data points of a dataset or two DataFrames between which the Euclidean distance is to be calculated.\n",
        "\n",
        "Let us use this function to calculate Euclidean distance between each pair of data points of `nan_df` DataFrame."
      ]
    },
    {
      "cell_type": "code",
      "metadata": {
        "id": "HisfETEZEFkf",
        "colab": {
          "base_uri": "https://localhost:8080/"
        },
        "outputId": "6779d119-87fe-4fb5-b4a2-4b461e4a7146"
      },
      "source": [
        "# T5.1: Calculate Euclidean distance between each data point.\n",
        "from sklearn.metrics.pairwise import nan_euclidean_distances\n",
        "nan_euclidean_distances(nan_df)"
      ],
      "execution_count": null,
      "outputs": [
        {
          "output_type": "execute_result",
          "data": {
            "text/plain": [
              "array([[ 0.        , 23.02954624, 36.74259313, 38.83619446],\n",
              "       [23.02954624,  0.        , 13.48555338, 15.81170453],\n",
              "       [36.74259313, 13.48555338,  0.        ,  2.49562617],\n",
              "       [38.83619446, 15.81170453,  2.49562617,  0.        ]])"
            ]
          },
          "metadata": {},
          "execution_count": 68
        }
      ]
    },
    {
      "cell_type": "markdown",
      "metadata": {
        "id": "3jy-Eat5Ex1H"
      },
      "source": [
        "As there are 4 rows in the dataset, the above distance matrix is a $4 \\times 4$ matrix which represents the Euclidean distance between pairs of observations. Further, the diagonal elements of the resultant matrix are $0$ as it represents the distance between individual observations with themselves.\n",
        "\n",
        "Observe the distance between the data point $2$ which has `NaN` age value and the other data points.\n",
        "\n",
        "<center>\n",
        "<img src = \"https://s3-whjr-v2-prod-bucket.whjr.online/whjr-v2-prod-bucket/8787d1da-af03-4598-88a0-ef636fbd7264.PNG\"/></center>\n",
        "\n",
        "Hence, we can observe that closest neighbour to data point $2$ is data point $3$ and data point $1$.\n",
        "\n",
        "<center>\n",
        "<img src=\"https://s3-whjr-v2-prod-bucket.whjr.online/whjr-v2-prod-bucket/3cc69e32-f330-48ed-98e0-4c69ddadbc13.PNG\"/></center>\n",
        "\n",
        "Thus, if $k = 1$, then `NaN` of data point $2$ will be replaced by age of data point $3$ i.e. `23.0` and if $k = 2$, then `NaN` of data point $2$ will be replaced by average age of two closest neighbours i.e average of age of data point $3$ and $1$.\n",
        "\n",
        "Hence,\n",
        "- If $k = 1$, `NaN` will be replaced by `23.0`.\n",
        "- If $k = 2$, `NaN` will be replaced by mean of `23.0` and `32.0` i.e. `27.5`.\n",
        "\n",
        "This is the core idea behind KNNImputer.\n",
        "Let us now use `KNNImputer` class of `sklearn.impute` module to replace missing age value in the given dataset using the steps given below:            \n",
        "1. Import `KNNImputer` class from `sklearn.impute` module.\n",
        "2. Create an object of `KNNImputer` class and pass the number of neighbours as input.\n",
        "3. Call the `fit_transform()` function using the object of `KNNImputer` class and pass the DataFrame having null values as input.\n",
        "\n",
        "  This function will return an array containing the actual and the transformed values.\n",
        "\n",
        "\n",
        "\n"
      ]
    },
    {
      "cell_type": "code",
      "metadata": {
        "id": "-3tGYJY3KOh2",
        "colab": {
          "base_uri": "https://localhost:8080/"
        },
        "outputId": "80242e01-b69a-481e-fd76-8798be083184"
      },
      "source": [
        "# S5.2: Use KNNImputer for 'k = 1'\n",
        "from sklearn.impute import KNNImputer\n",
        "knni = KNNImputer(n_neighbors = 1)\n",
        "knni.fit_transform(nan_df)"
      ],
      "execution_count": null,
      "outputs": [
        {
          "output_type": "execute_result",
          "data": {
            "text/plain": [
              "array([[45.  ,  5.  , 77.  ],\n",
              "       [32.  ,  5.6 , 58.  ],\n",
              "       [23.  ,  5.11, 47.  ],\n",
              "       [23.  ,  5.5 , 45.  ]])"
            ]
          },
          "metadata": {},
          "execution_count": 70
        }
      ]
    },
    {
      "cell_type": "markdown",
      "metadata": {
        "id": "hQ6oiaPeKhJ2"
      },
      "source": [
        "From the above array, you may observe that `NaN` value is replaced by `23` when $k = 1$.\n",
        "\n",
        "Let us perform KNN imputation for $k = 2$."
      ]
    },
    {
      "cell_type": "code",
      "metadata": {
        "id": "5qVRbTxqKz6O",
        "colab": {
          "base_uri": "https://localhost:8080/"
        },
        "outputId": "e731259f-e6d5-4b07-d4ba-b24ebc1a80bd"
      },
      "source": [
        "# S5.3: Use KNNImputer for 'k = 2'\n",
        "knni2 = KNNImputer(n_neighbors = 2)\n",
        "knni2.fit_transform(nan_df)"
      ],
      "execution_count": null,
      "outputs": [
        {
          "output_type": "execute_result",
          "data": {
            "text/plain": [
              "array([[45.  ,  5.  , 77.  ],\n",
              "       [32.  ,  5.6 , 58.  ],\n",
              "       [27.5 ,  5.11, 47.  ],\n",
              "       [23.  ,  5.5 , 45.  ]])"
            ]
          },
          "metadata": {},
          "execution_count": 72
        }
      ]
    },
    {
      "cell_type": "markdown",
      "metadata": {
        "id": "s5Xc4R44LBAt"
      },
      "source": [
        "From the above array, you may observe that `NaN` value is replaced by `27.5` when $k = 2$.\n",
        "\n",
        "Thus, we have discussed how KNNImputer treats missing values in a dataset.\n",
        "\n",
        "**Note:** KNNImputer works only for numeric variables. For imputing missing values in categorical variables, we have to encode the categorical values into numeric values.\n",
        "\n",
        "We will stop here. In the next class, we will start working on a new classification algorithm and address a different problem statement."
      ]
    },
    {
      "cell_type": "markdown",
      "metadata": {
        "id": "yWSZZyk8AGRb"
      },
      "source": [
        "---"
      ]
    },
    {
      "cell_type": "markdown",
      "metadata": {
        "id": "4EmVpDdxeAaT"
      },
      "source": [
        "### **Project**\n",
        "You can now attempt the **Applied Tech Project 124 - kNN Regression II - Imputing Missing Values** on your own.\n",
        "\n",
        "**Applied Tech Project 124 - kNN Regression II - Imputing Missing Values**:\n",
        "\n",
        "https://colab.research.google.com/drive/1VErh9rG-Yg-OMem2I9xRHqbbr1iXbt8k"
      ]
    },
    {
      "cell_type": "markdown",
      "metadata": {
        "id": "gNqZDwxHehE5"
      },
      "source": [
        "---"
      ]
    }
  ]
}