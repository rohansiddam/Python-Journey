{
  "nbformat": 4,
  "nbformat_minor": 0,
  "metadata": {
    "colab": {
      "provenance": [],
      "include_colab_link": true
    },
    "kernelspec": {
      "name": "python3",
      "display_name": "Python 3"
    }
  },
  "cells": [
    {
      "cell_type": "markdown",
      "metadata": {
        "id": "view-in-github",
        "colab_type": "text"
      },
      "source": [
        "<a href=\"https://colab.research.google.com/github/rohansiddam/Python-Journey/blob/main/032%20-%20Lesson%2032%20(Python%20Dictionary%20Operations%202).ipynb\" target=\"_parent\"><img src=\"https://colab.research.google.com/assets/colab-badge.svg\" alt=\"Open In Colab\"/></a>"
      ]
    },
    {
      "cell_type": "markdown",
      "metadata": {
        "id": "reRBe_cVB1Kq"
      },
      "source": [
        "# Lesson 32: Python Dictionary Operations II"
      ]
    },
    {
      "cell_type": "markdown",
      "metadata": {
        "id": "EB1Cu4jn2NoS"
      },
      "source": [
        "### Teacher-Student Activities\n",
        "\n",
        "Let's continue the discussion on Python dictionaries. In this class, we will learn how to:\n",
        "\n",
        "- Add a new item to a dictionary\n",
        "\n",
        "- Create a Python dictionary from two Python list\n",
        "\n",
        "- Remove an item from a dictionary\n",
        "\n",
        "- Update an existing item in a dictionary\n",
        "\n",
        "- How to check whether an item exists in a dictionary\n",
        "\n",
        "- And few important points about a Python dictionary\n",
        "\n",
        "Let's quickly create the `my_dict` dictionary again and continue this class from the **Activity 1: Adding New Item** section."
      ]
    },
    {
      "cell_type": "markdown",
      "metadata": {
        "id": "DuEpC8s_2Mpj"
      },
      "source": [
        "---"
      ]
    },
    {
      "cell_type": "markdown",
      "metadata": {
        "id": "MjEaQMNF6sv6"
      },
      "source": [
        "#### Recap\n",
        "\n",
        "**A python dictionary is a collection of key-value pairs.**\n",
        "\n",
        "|Key         |Value                  |\n",
        "|------------|-----------------------|\n",
        "|Front Camera|16 MP                  |\n",
        "|Battery     |3300 mAh               |\n",
        "|Processor   |Qualcomm Snapdragon 845|\n",
        "|Display     |6.28 inches            |\n",
        "|RAM         |6 GB                   |\n",
        "|Rear Camera |16 MP + 20 MP          |\n",
        "|Price (INR) |28990                  |\n",
        "|Fast Charge |True                   |\n",
        "\n",
        "Collectively, both a key and its corresponding value constitute an item stored in a dictionary.\n",
        "\n",
        "A dictionary is created using curly brackets (`{}`). A key and its corresponding value are mapped using the colon (`:`) sign and each key-value pair is separated by a comma."
      ]
    },
    {
      "cell_type": "code",
      "metadata": {
        "id": "uWigmBpR8VBW",
        "colab": {
          "base_uri": "https://localhost:8080/"
        },
        "outputId": "cc1e564f-e79d-40c4-ed12-29b3a6731f7c"
      },
      "source": [
        "# Create a dictionary as a collection of key-value pairs containing the items shown in the table above.\n",
        "my_dict = {'Front Camera' : '16 MP', # First key-value pair\n",
        "           'Battery' : '3300 mAh', # Second key-value pair\n",
        "           'Processor' : 'Qualcomm Snapdragon 845', # Third key-value pair\n",
        "           'Display' : '6.28 inches', # Fourth key-value pair\n",
        "           'RAM' : '6 GB', # Fifth key-value pair\n",
        "           'Rear Camera' : '16 MP + 20 MP', # Sixth key-value pair\n",
        "           'Price' : 28990, # Seventh key-value pair\n",
        "           'Fast Charge' : True} # Eighth key-value pair\n",
        "\n",
        "my_dict"
      ],
      "execution_count": null,
      "outputs": [
        {
          "output_type": "execute_result",
          "data": {
            "text/plain": [
              "{'Battery': '3300 mAh',\n",
              " 'Display': '6.28 inches',\n",
              " 'Fast Charge': True,\n",
              " 'Front Camera': '16 MP',\n",
              " 'Price': 28990,\n",
              " 'Processor': 'Qualcomm Snapdragon 845',\n",
              " 'RAM': '6 GB',\n",
              " 'Rear Camera': '16 MP + 20 MP'}"
            ]
          },
          "metadata": {},
          "execution_count": 29
        }
      ]
    },
    {
      "cell_type": "markdown",
      "metadata": {
        "id": "V7ySO9Mw8eeO"
      },
      "source": [
        "**Note** that the output will not always display the key-value pairs in the same order in which you entered the pairs in the dictionary."
      ]
    },
    {
      "cell_type": "markdown",
      "metadata": {
        "id": "DQCN05Iu6sKi"
      },
      "source": [
        "---"
      ]
    },
    {
      "cell_type": "markdown",
      "metadata": {
        "id": "gLsIDUXaxQtu"
      },
      "source": [
        "#### Activity 1: Adding New Item\n",
        "\n",
        "Let's also add the storage capacity of the smartphone to the `my_dict` dictionary. So the new item is `Memory` and the corresponding value is `'128 GB'`.\n",
        "\n",
        "To add a new item to a dictionary, you simply have to use the square brackets as shown in the syntax below.\n",
        "\n",
        "**Syntax:** `dictionary_name[key] = value`\n",
        "\n",
        "where `dictionary_name` is some variable storing a dictionary."
      ]
    },
    {
      "cell_type": "code",
      "metadata": {
        "id": "CMM1DD7Vu9MB"
      },
      "source": [
        "# Student Action: Add 'Memory' and '128 GB' as keys and values respectively to the 'my_dict' dictionary.\n",
        "my_dict['Memory'] = '128 GB'"
      ],
      "execution_count": null,
      "outputs": []
    },
    {
      "cell_type": "code",
      "source": [
        "my_dict"
      ],
      "metadata": {
        "colab": {
          "base_uri": "https://localhost:8080/"
        },
        "id": "zCeh2AMAbCye",
        "outputId": "c2038070-dda7-493a-9c0d-b82bbece2b6f"
      },
      "execution_count": null,
      "outputs": [
        {
          "output_type": "execute_result",
          "data": {
            "text/plain": [
              "{'Battery': '3300 mAh',\n",
              " 'Display': '6.28 inches',\n",
              " 'Fast Charge': True,\n",
              " 'Front Camera': '16 MP',\n",
              " 'Memory': '128 GB',\n",
              " 'Price': 28990,\n",
              " 'Processor': 'Qualcomm Snapdragon 845',\n",
              " 'RAM': '6 GB',\n",
              " 'Rear Camera': '16 MP + 20 MP'}"
            ]
          },
          "metadata": {},
          "execution_count": 3
        }
      ]
    },
    {
      "cell_type": "markdown",
      "metadata": {
        "id": "wqpzOZkXyNLC"
      },
      "source": [
        "As you can see, a new key-value pair, `'Memory' : '128 GB'` has been added to the `my_dict` dictionary."
      ]
    },
    {
      "cell_type": "markdown",
      "metadata": {
        "id": "WYvjalPzou0g"
      },
      "source": [
        "---"
      ]
    },
    {
      "cell_type": "markdown",
      "metadata": {
        "id": "fpiX_GCR2c4x"
      },
      "source": [
        "#### Activity 2: The `zip()` Function\n",
        "\n",
        "Sometimes you may require to create a dictionary from two Python lists. Consider the two lists shown below.\n",
        "\n",
        "```\n",
        "car_companies = ['Maruti Suzuki', 'Honda', 'Hyundai', 'Ford', 'Volkswagen']\n",
        "car_models = [\n",
        "                ['Baleno', 'Vitara Brezza', 'Ciaz'],\n",
        "                'City',\n",
        "                ['Verna', 'Creta'],\n",
        "                ['Figo', 'EcoSport', 'Aspire'],\n",
        "                ['Polo', 'Tiguan', 'Vento']\n",
        "              ]\n",
        "```\n",
        "\n",
        "The `car_companies` list contains the name of the car manufacturers. The `car_models` list contains the models of cars manufactured by them.\n",
        "\n",
        "Let's create a dictionary which maps every car model to its corresponding manufacturer. Let's store it in the `cars_dict`.\n",
        "\n",
        "To create a dictionary from two lists, use the `zip()` and `dict()` function using the following syntax.\n",
        "\n",
        "**Syntax:** `dictionary_name = dict(zip(list1, list2))`\n",
        "\n",
        "where the `zip()` function joins the lists `list1` and `list2` but the `dict()` function converts the resulting object into a dictionary."
      ]
    },
    {
      "cell_type": "code",
      "metadata": {
        "id": "9b2Kpf8532G1"
      },
      "source": [
        "# Student Action: Create a new dictionary by joining the 'car_companies' & 'car_models' lists. Store it in the 'cars_dict' variable.\n",
        "car_companies = ['Maruti Suzuki', 'Honda', 'Hyundai', 'Ford', 'Volkswagen']\n",
        "car_models = [\n",
        "                ['Baleno', 'Vitara Brezza', 'Ciaz'],\n",
        "                'City',\n",
        "                ['Verna', 'Creta'],\n",
        "                ['Figo', 'EcoSport', 'Aspire'],\n",
        "                ['Polo', 'Tiguan', 'Vento']\n",
        "              ]"
      ],
      "execution_count": null,
      "outputs": []
    },
    {
      "cell_type": "code",
      "source": [
        "print(len(car_companies))\n",
        "print(len(car_models))"
      ],
      "metadata": {
        "colab": {
          "base_uri": "https://localhost:8080/"
        },
        "id": "xYsSS8qcbf5F",
        "outputId": "1bd42d88-ec38-4159-8a79-ef7d5e6a80a8"
      },
      "execution_count": null,
      "outputs": [
        {
          "output_type": "stream",
          "name": "stdout",
          "text": [
            "5\n",
            "5\n"
          ]
        }
      ]
    },
    {
      "cell_type": "code",
      "source": [
        "cars_dict = dict(zip(car_companies,car_models))"
      ],
      "metadata": {
        "id": "8rjF1BY_brRY"
      },
      "execution_count": null,
      "outputs": []
    },
    {
      "cell_type": "code",
      "source": [
        "type(cars_dict)"
      ],
      "metadata": {
        "colab": {
          "base_uri": "https://localhost:8080/"
        },
        "id": "6pfM1rf_cC7g",
        "outputId": "a5572f7f-abc7-426e-ec05-3579cfd37eca"
      },
      "execution_count": null,
      "outputs": [
        {
          "output_type": "execute_result",
          "data": {
            "text/plain": [
              "dict"
            ]
          },
          "metadata": {},
          "execution_count": 9
        }
      ]
    },
    {
      "cell_type": "markdown",
      "metadata": {
        "id": "Cd62Z0sZ4O8m"
      },
      "source": [
        "As you can see, a new dictionary called `cars_dict` has been created using the `zip()` and `dict()` functions.\n",
        "\n",
        "The `zip()` function maps items of the first list with the items of the second list such that former become **keys** and latter become the corresponding **values** of the keys.\n",
        "\n",
        "**Note** that the first item contained in the first list becomes **key** for the first item in the second list and the second item in the first list becomes **key** for the second item in the second list and so on.\n",
        "\n",
        "Instead of using the `dict()` function, if you use the `list()` function on top of the `zip()` function, you will get a Python list containing the items of the two lists as a collection of key-value pairs in tuples.\n"
      ]
    },
    {
      "cell_type": "code",
      "metadata": {
        "id": "7WtNy6Tg4MLp"
      },
      "source": [
        "# Student Action: Create a new list by joining the 'car_companies' & 'car_models' lists. Store it in the 'cars_list' variable.\n",
        "cars_list = list(zip(car_companies,car_models))"
      ],
      "execution_count": null,
      "outputs": []
    },
    {
      "cell_type": "code",
      "source": [
        "print(type(cars_list))\n",
        "cars_list"
      ],
      "metadata": {
        "colab": {
          "base_uri": "https://localhost:8080/"
        },
        "id": "CBWT2lN9cOfD",
        "outputId": "0c26dd36-ad97-465b-f863-244e4c1d89ec"
      },
      "execution_count": null,
      "outputs": [
        {
          "output_type": "stream",
          "name": "stdout",
          "text": [
            "<class 'list'>\n"
          ]
        },
        {
          "output_type": "execute_result",
          "data": {
            "text/plain": [
              "[('Maruti Suzuki', ['Baleno', 'Vitara Brezza', 'Ciaz']),\n",
              " ('Honda', 'City'),\n",
              " ('Hyundai', ['Verna', 'Creta']),\n",
              " ('Ford', ['Figo', 'EcoSport', 'Aspire']),\n",
              " ('Volkswagen', ['Polo', 'Tiguan', 'Vento'])]"
            ]
          },
          "metadata": {},
          "execution_count": 12
        }
      ]
    },
    {
      "cell_type": "markdown",
      "metadata": {
        "id": "cUNElrS-5igB"
      },
      "source": [
        "As you can see, the `zip()` function has clubbed the items of the `car_companies` and `car_models` as a key-value pair in a tuple and the `list()` function has created a list containing tuples."
      ]
    },
    {
      "cell_type": "markdown",
      "metadata": {
        "id": "AGegRjBNCzL8"
      },
      "source": [
        "---"
      ]
    },
    {
      "cell_type": "markdown",
      "metadata": {
        "id": "fzB2DstZCzzJ"
      },
      "source": [
        "#### Activity 3: List Comprehension For Dictionaries^^\n",
        "\n",
        "You can also use the list comprehension method to create a Python dictionary.\n",
        "\n",
        "Let's again map all the `car_models` items to the `car_companies` items by creating a new dictionary using the `zip()` function and the list comprehension method."
      ]
    },
    {
      "cell_type": "code",
      "metadata": {
        "id": "j0R8zYnHDN4Y",
        "colab": {
          "base_uri": "https://localhost:8080/"
        },
        "outputId": "35767237-e70d-4cf4-a3ab-a1c5cefd4d3b"
      },
      "source": [
        "# Teacher Action: Create a new dictionary using the list comprehension method to map all the 'car_models' items to the car_companies items.\n",
        "car_model_dict = {x : y for x,y in zip(car_companies,car_models)}\n",
        "car_model_dict"
      ],
      "execution_count": null,
      "outputs": [
        {
          "output_type": "execute_result",
          "data": {
            "text/plain": [
              "{'Ford': ['Figo', 'EcoSport', 'Aspire'],\n",
              " 'Honda': 'City',\n",
              " 'Hyundai': ['Verna', 'Creta'],\n",
              " 'Maruti Suzuki': ['Baleno', 'Vitara Brezza', 'Ciaz'],\n",
              " 'Volkswagen': ['Polo', 'Tiguan', 'Vento']}"
            ]
          },
          "metadata": {},
          "execution_count": 17
        }
      ]
    },
    {
      "cell_type": "markdown",
      "metadata": {
        "id": "zNrhvG8vDlsE"
      },
      "source": [
        "The above list comprehension should be read as \"*For every key & value in the object returned by the `zip()` function, add them to the dictionary*\". To add the key-value pair, you simply need to write `key` followed by the colon (`:`) sign, followed by `value`.\n",
        "\n",
        "**Syntax:** `{key : value for key, value in zip(list1, list2)}`\n",
        "\n",
        "The variables `key` and `value` are dummy variables. You can use any variable in their places.\n",
        "\n",
        "E.g., `{x : y for x, y in zip(list1, list2)}, {p : q for p, q in zip(list1, list2)}` etc."
      ]
    },
    {
      "cell_type": "code",
      "metadata": {
        "id": "R5v29Mc9EtD3",
        "colab": {
          "base_uri": "https://localhost:8080/"
        },
        "outputId": "2d90a038-b3c1-4ff4-a39c-4db8f2106634"
      },
      "source": [
        "# Student Action: Run the code below.\n",
        "new_cars_dict1 = {x : y for x, y in zip(car_companies, car_models)}\n",
        "new_cars_dict1"
      ],
      "execution_count": null,
      "outputs": [
        {
          "output_type": "execute_result",
          "data": {
            "text/plain": [
              "{'Ford': ['Figo', 'EcoSport', 'Aspire'],\n",
              " 'Honda': 'City',\n",
              " 'Hyundai': ['Verna', 'Creta'],\n",
              " 'Maruti Suzuki': ['Baleno', 'Vitara Brezza', 'Ciaz'],\n",
              " 'Volkswagen': ['Polo', 'Tiguan', 'Vento']}"
            ]
          },
          "metadata": {},
          "execution_count": 18
        }
      ]
    },
    {
      "cell_type": "code",
      "metadata": {
        "id": "jaqMMf79E6Gt",
        "colab": {
          "base_uri": "https://localhost:8080/"
        },
        "outputId": "dd04f787-4c03-47ff-e17e-a935b41d2c51"
      },
      "source": [
        "# Student Action: Run the code below.\n",
        "new_cars_dict2 = {p : q for p, q in zip(car_companies, car_models)}\n",
        "new_cars_dict2"
      ],
      "execution_count": null,
      "outputs": [
        {
          "output_type": "execute_result",
          "data": {
            "text/plain": [
              "{'Ford': ['Figo', 'EcoSport', 'Aspire'],\n",
              " 'Honda': 'City',\n",
              " 'Hyundai': ['Verna', 'Creta'],\n",
              " 'Maruti Suzuki': ['Baleno', 'Vitara Brezza', 'Ciaz'],\n",
              " 'Volkswagen': ['Polo', 'Tiguan', 'Vento']}"
            ]
          },
          "metadata": {},
          "execution_count": 19
        }
      ]
    },
    {
      "cell_type": "markdown",
      "metadata": {
        "id": "Dgc-gAEr0YwE"
      },
      "source": [
        "---"
      ]
    },
    {
      "cell_type": "markdown",
      "metadata": {
        "id": "Gha1iu2O6LBD"
      },
      "source": [
        "#### Activity 4: Removing Item From Dictionary\n",
        "\n",
        "To remove an item from a dictionary, you can use the `pop()` function. Inside the `pop()` function, you have to provide the key for which the key-value pair must be removed from the dictionary.\n",
        "\n",
        "Let's remove the item `'Battery' : '3300 mAh'` from the `my_dict` dictionary, using the `pop()` function."
      ]
    },
    {
      "cell_type": "code",
      "metadata": {
        "id": "ypB9Evth5HKH",
        "colab": {
          "base_uri": "https://localhost:8080/",
          "height": 36
        },
        "outputId": "086953ef-e5eb-4042-c899-b422847df064"
      },
      "source": [
        "# Student Action: Remove the item 'Battery' : '3300 mAh' from the 'my_dict' dictionary.\n",
        "my_dict.pop('Battery')"
      ],
      "execution_count": null,
      "outputs": [
        {
          "output_type": "execute_result",
          "data": {
            "text/plain": [
              "'3300 mAh'"
            ],
            "application/vnd.google.colaboratory.intrinsic+json": {
              "type": "string"
            }
          },
          "metadata": {},
          "execution_count": 20
        }
      ]
    },
    {
      "cell_type": "code",
      "source": [
        "my_dict"
      ],
      "metadata": {
        "colab": {
          "base_uri": "https://localhost:8080/"
        },
        "id": "WeWC1uCQdoL8",
        "outputId": "ffc57f7e-76d3-401b-fd42-f80608fee10b"
      },
      "execution_count": null,
      "outputs": [
        {
          "output_type": "execute_result",
          "data": {
            "text/plain": [
              "{'Display': '6.28 inches',\n",
              " 'Fast Charge': True,\n",
              " 'Front Camera': '16 MP',\n",
              " 'Memory': '128 GB',\n",
              " 'Price': 28990,\n",
              " 'Processor': 'Qualcomm Snapdragon 845',\n",
              " 'RAM': '6 GB',\n",
              " 'Rear Camera': '16 MP + 20 MP'}"
            ]
          },
          "metadata": {},
          "execution_count": 21
        }
      ]
    },
    {
      "cell_type": "markdown",
      "metadata": {
        "id": "BwhK5JtH66Va"
      },
      "source": [
        "As you can see, the `pop()` function has removed `'Battery' : '3300 mAh'` item from the `my_dict` dictionary.\n",
        "\n",
        "**Note:** The `pop()` function for a Python dictionary is different from the `pop()` function in Python list. In the case of dictionary, it takes the key of a key-value pair to remove the pair.\n",
        "\n",
        "**Syntax:** `python_dictionary.pop(key)`\n",
        "\n",
        "There is another function called the `popitem()` to remove an item from a dictionary. However, it removes only the last item from a dictionary."
      ]
    },
    {
      "cell_type": "code",
      "metadata": {
        "id": "gehoqS90rPEU",
        "colab": {
          "base_uri": "https://localhost:8080/"
        },
        "outputId": "982c5ffd-ef6d-4dc9-e7a7-39966bf75cd6"
      },
      "source": [
        "# Student Action: Remove the last item from the dictionary.\n",
        "my_dict.popitem()"
      ],
      "execution_count": null,
      "outputs": [
        {
          "output_type": "execute_result",
          "data": {
            "text/plain": [
              "('Rear Camera', '16 MP + 20 MP')"
            ]
          },
          "metadata": {},
          "execution_count": 27
        }
      ]
    },
    {
      "cell_type": "code",
      "source": [
        "my_dict"
      ],
      "metadata": {
        "colab": {
          "base_uri": "https://localhost:8080/"
        },
        "id": "fxBy3aLCd1b9",
        "outputId": "daf68653-e091-4210-e24b-28bb192e73bc"
      },
      "execution_count": null,
      "outputs": [
        {
          "output_type": "execute_result",
          "data": {
            "text/plain": [
              "{'Display': '6.28 inches',\n",
              " 'Front Camera': '16 MP',\n",
              " 'Processor': 'Qualcomm Snapdragon 845',\n",
              " 'RAM': '6 GB'}"
            ]
          },
          "metadata": {},
          "execution_count": 28
        }
      ]
    },
    {
      "cell_type": "markdown",
      "metadata": {
        "id": "mDF3mNigra84"
      },
      "source": [
        "The item removed is returned as a key-value pair in a tuple."
      ]
    },
    {
      "cell_type": "markdown",
      "metadata": {
        "id": "GQ_1YaWR7Y96"
      },
      "source": [
        "---"
      ]
    },
    {
      "cell_type": "markdown",
      "metadata": {
        "id": "PJaqkLfk7cSX"
      },
      "source": [
        "#### Activity 5: Update Dictionary Item\n",
        "\n",
        "Let's say the price of the smartphone, whose specifications are listed in the `my_dict` dictionary, changes to INR 25000. So, the `'Price': 28990` item in the `my_dict` dictionary must be updated.\n",
        "\n",
        "To update an item in a dictionary, you need to enclose the key for that item in square brackets followed by the equals to sign, followed by the updated value as shown in the following syntax.\n",
        "\n",
        "**Syntax:** `dictionary_name[key] = new_value`"
      ]
    },
    {
      "cell_type": "code",
      "metadata": {
        "id": "cXk13ZOR64Li"
      },
      "source": [
        "# Student Action: Update the price of the smartphone in the 'my_dict' dictionary.\n",
        "my_dict['Price'] = '25000 INR'"
      ],
      "execution_count": null,
      "outputs": []
    },
    {
      "cell_type": "code",
      "source": [
        "my_dict"
      ],
      "metadata": {
        "colab": {
          "base_uri": "https://localhost:8080/"
        },
        "id": "ppnXVwA2eT1n",
        "outputId": "d6bdaff8-2ef4-41fc-bc20-46affb2d90f8"
      },
      "execution_count": null,
      "outputs": [
        {
          "output_type": "execute_result",
          "data": {
            "text/plain": [
              "{'Battery': '3300 mAh',\n",
              " 'Display': '6.28 inches',\n",
              " 'Fast Charge': True,\n",
              " 'Front Camera': '16 MP',\n",
              " 'Price': '25000 INR',\n",
              " 'Processor': 'Qualcomm Snapdragon 845',\n",
              " 'RAM': '6 GB',\n",
              " 'Rear Camera': '16 MP + 20 MP'}"
            ]
          },
          "metadata": {},
          "execution_count": 34
        }
      ]
    },
    {
      "cell_type": "markdown",
      "metadata": {
        "id": "uLtC_rI08Dff"
      },
      "source": [
        "As you can see, the value corresponding to the `'Price'` is changed to `25000`."
      ]
    },
    {
      "cell_type": "markdown",
      "metadata": {
        "id": "f_0ozJJZ8iFC"
      },
      "source": [
        "---"
      ]
    },
    {
      "cell_type": "markdown",
      "metadata": {
        "id": "cI72YLG98teC"
      },
      "source": [
        "#### Activity 6: The `in` & `not in` Keywords^^^\n",
        "\n",
        "To check whether a key exists in a dictionary or not, you can use the `in` keyword. If a key exists in the dictionary, then the `in` keyword will return `True`, else it will return `False`. Similarly, if a key exists in the dictionary, then the `not in` keyword will return `False`, else it will return `True`.\n",
        "\n",
        "You have already used them in `for` loops many times.\n",
        "\n",
        "**Syntax:** `key in dictionary_name`\n",
        "\n",
        "**Syntax:** `key not in dictionary_name`\n",
        "\n",
        "Let's find out whether the keys, `'Honda'` and `'Audi'` exist in the `cars_dict` or not."
      ]
    },
    {
      "cell_type": "code",
      "metadata": {
        "id": "fncaZ5cJ8Bna",
        "colab": {
          "base_uri": "https://localhost:8080/"
        },
        "outputId": "e35e4fb6-6063-4285-ee36-af4bf10fa9a7"
      },
      "source": [
        "# Student Action: Check whether the item 'Honda' exists in the 'cars_dict' dictionary using the 'in' keyword.\n",
        "'Honda' not in cars_dict"
      ],
      "execution_count": null,
      "outputs": [
        {
          "output_type": "execute_result",
          "data": {
            "text/plain": [
              "False"
            ]
          },
          "metadata": {},
          "execution_count": 38
        }
      ]
    },
    {
      "cell_type": "code",
      "metadata": {
        "id": "n_eQpnNK9Ypt",
        "colab": {
          "base_uri": "https://localhost:8080/"
        },
        "outputId": "68008bfb-00a1-48dc-9787-94b9220747bb"
      },
      "source": [
        "# Student Action: Check whether the item 'Audi' exists in the 'cars_dict' dictionary using the 'in' keyword.\n",
        "'Audi' in cars_dict"
      ],
      "execution_count": null,
      "outputs": [
        {
          "output_type": "execute_result",
          "data": {
            "text/plain": [
              "False"
            ]
          },
          "metadata": {},
          "execution_count": 37
        }
      ]
    },
    {
      "cell_type": "markdown",
      "metadata": {
        "id": "rsyTUAR0uu6Z"
      },
      "source": [
        "---"
      ]
    },
    {
      "cell_type": "markdown",
      "metadata": {
        "id": "oRmXPohPuwBa"
      },
      "source": [
        "#### Activity 7: The `update()` Function\n",
        "\n",
        "\n",
        "The `update()` function is applied on a dictionary and it's input is another dictionary wherein both the dictionary may or may not contain the same keys. The `update()` function performs two operations:\n",
        "\n",
        "1. It updates the existing key-value pair in a dictionary if a key exists.\n",
        "\n",
        "2. It adds the key-value pairs which do not exist in a dictionary.\n",
        "\n",
        "Consider the two dictionaries:\n",
        "\n",
        "```\n",
        "cars_dict = {'Ford': ['Figo', 'EcoSport', 'Aspire'],\n",
        "              'Honda': 'City',\n",
        "              'Hyundai': ['Verna', 'Creta'],\n",
        "              'Maruti Suzuki': ['Baleno', 'Vitara Brezza', 'Ciaz'],\n",
        "              'Volkswagen': ['Polo', 'Tiguan', 'Vento']}\n",
        "\n",
        "supercars = {\"Ford\": \"Mustang GT\",\n",
        "             \"Lamborghini\": [\"Huracan\", \"Aventador\", \"Elemento\"],\n",
        "             \"Koenigsegg\": [\"Agera\", \"Gemera\", \"Regera\"],\n",
        "             \"Bugatti\": \"Veyron\"}\n",
        "```\n",
        "\n",
        "When the `update()` function is applied on the `cars_dict` dictionary with the `supercars` dictionary as input, it updates the value of the `Ford` key and adds the other key-value pairs of the `supercars` dictionary to the `car_dict` dictionary."
      ]
    },
    {
      "cell_type": "code",
      "metadata": {
        "id": "c3rR1OrvvS5n"
      },
      "source": [
        "# Student Action: Create the 'supercars' dictionary and update the 'cars_dict' dictionary with the key-value pairs of the 'supercars' dictionary.\n",
        "supercars = {\"Ford\": \"Mustang GT\",\n",
        "             \"Lamborghini\": [\"Huracan\", \"Aventador\", \"Elemento\"],\n",
        "             \"Koenigsegg\": [\"Agera\", \"Gemera\", \"Regera\"],\n",
        "             \"Bugatti\": \"Veyron\"}"
      ],
      "execution_count": null,
      "outputs": []
    },
    {
      "cell_type": "code",
      "source": [
        "cars_dict.update(supercars)"
      ],
      "metadata": {
        "id": "N_B_U-73fHRE"
      },
      "execution_count": null,
      "outputs": []
    },
    {
      "cell_type": "code",
      "source": [
        "cars_dict"
      ],
      "metadata": {
        "colab": {
          "base_uri": "https://localhost:8080/"
        },
        "id": "O_z6ywrHfLja",
        "outputId": "a6288123-5f47-4d00-ba48-803a25317e5a"
      },
      "execution_count": null,
      "outputs": [
        {
          "output_type": "execute_result",
          "data": {
            "text/plain": [
              "{'Bugatti': 'Veyron',\n",
              " 'Ford': 'Mustang GT',\n",
              " 'Honda': 'City',\n",
              " 'Hyundai': ['Verna', 'Creta'],\n",
              " 'Koenigsegg': ['Agera', 'Gemera', 'Regera'],\n",
              " 'Lamborghini': ['Huracan', 'Aventador', 'Elemento'],\n",
              " 'Maruti Suzuki': ['Baleno', 'Vitara Brezza', 'Ciaz'],\n",
              " 'Volkswagen': ['Polo', 'Tiguan', 'Vento']}"
            ]
          },
          "metadata": {},
          "execution_count": 41
        }
      ]
    },
    {
      "cell_type": "markdown",
      "metadata": {
        "id": "OCdx0pE0Czy6"
      },
      "source": [
        "---"
      ]
    },
    {
      "cell_type": "markdown",
      "metadata": {
        "id": "0mocRavJC0lU"
      },
      "source": [
        "#### Activity 8: The `JSON` Objects^\n",
        "\n",
        "JSON stands for **J**ava**S**cript **O**bject **N**otation. It is a way of storing data and exchanging it on the web across multiple servers. In fact, the information stored using JSON on a webpage of a website.\n",
        "\n",
        "- Go to any website. E.g., [IMDb](https://www.imdb.com/?ref_=nv_home)\n",
        "\n",
        "- Right-click on an empty space. A list of action items will appear\n",
        "\n",
        "- Click on the **View Page Source** option. The webpage will open in a new tab in HTML view.\n",
        "\n",
        "- Hit *Commad + F* keys (on Mac) or *Ctrl + F* keys (on other) computers to initiate a search. Then in the search box type **json** and hit the return or enter key. You should be able to see **json** at least once in the searches.\n",
        "\n",
        "A **JSON** object is much alike to a Python dictionary. The only difference being:\n",
        "\n",
        "1. The boolean values in a JSON object are stored as `true` or `false`\n",
        "\n",
        "2. The unavailable/missing values are stored as `null` whereas in Python (excluding Pandas or NumPy) they are stored as `None`.\n",
        "\n",
        "Consider a sample `JSON` object below that is stored in a `movies_info` variable.\n",
        "\n",
        "```\n",
        "movies_info = \"\"\"\n",
        "{\"hollywood\":[\n",
        "    {\"year\": 2014,\n",
        "      \"title\": \"X-Men: Days of Future Past\",\n",
        "      \"info\": {\n",
        "        \"directors\": [\"Bryan Singer\"],\n",
        "        \"release_date\": \"2014-05-21T00:00:00Z\",\n",
        "        \"genres\": [\"Action\", \"Adventure\", \"Fantasy\", \"Sci-Fi\"],\n",
        "        \"rank\": 9,\n",
        "        \"actors\": [\"Jennifer Lawrence\", \"Hugh Jackman\", \"Michael Fassbender\"],\n",
        "        \"english\": true\n",
        "        }\n",
        "    },\n",
        "    {\"year\": 2014,\n",
        "      \"title\": \"Transformers: Age of Extinction\",\n",
        "      \"info\": {\n",
        "        \"directors\": [\"Michael Bay\"],\n",
        "        \"release_date\": \"2014-06-25T00:00:00Z\",\n",
        "        \"genres\": [\"Action\", \"Adventure\", \"Sci-Fi\"],\n",
        "        \"rank\": 10,\n",
        "        \"actors\": [\"Mark Wahlberg\", \"Nicola Peltz\", \"Jack Reynor\"],\n",
        "        \"english\": true\n",
        "        }\n",
        "    }\n",
        "  ],\n",
        " \"bollywood\":[\n",
        "    {\"year\": 2020,\n",
        "      \"title\": \"Angrezi Medium\",\n",
        "      \"info\": {\n",
        "        \"directors\": [\"Homi Adajania\"],\n",
        "        \"release_date\": \"2030-03-13\",\n",
        "        \"genres\": [\"Comdey\", \"Drama\"],\n",
        "        \"rank\": null,\n",
        "        \"actors\": [\"Irrfan Khan\", \"Radhika Madan\", \"Kareena Kapoor\"],\n",
        "        \"english\": false\n",
        "        }\n",
        "    }\n",
        "  ]\n",
        "}\n",
        "\"\"\"\n",
        "```\n",
        "\n",
        "The above `JSON` object is essentially a Python dictionary having two key-value pairs wherein each key is a string containing a list as a value. The list further contains dictionaries whose keys are `year, title` and `info`. The `info` key further contains a dictionary having 6 key-value pairs.\n",
        "\n",
        "Notice the values of the `english` keys. They are boolean values reported as `true` or `false`. The `rank` key holds numeric values for the first two occurrences and a `null` value for the last occurrence.\n",
        "\n",
        "To load a `JSON` object as a Python dictionary you have to import the `json` module. Then use the `json.loads()` function whose input is a `json` object stored in a variable.\n",
        "\n",
        "**Note:** The above `json` object is stored as a string enclosed between three double quotes, i.e., (`\"\"\" \"\"\"`). This is called a multiline string which you will learn in the upcoming classes.\n",
        "\n",
        "At the moment, let's convert the above `JSON` object into a Python dictionary and check whether the boolean values are converted into Python booleans and the `null` value is converted into `None`."
      ]
    },
    {
      "cell_type": "code",
      "metadata": {
        "id": "dxcvMZY4C3Va"
      },
      "source": [
        "# Student Aciton: Convert the above JSON object into a Python dictionary.\n",
        "movies_info = \"\"\"\n",
        "{\"hollywood\":[\n",
        "    {\"year\": 2014,\n",
        "      \"title\": \"X-Men: Days of Future Past\",\n",
        "      \"info\": {\n",
        "        \"directors\": [\"Bryan Singer\"],\n",
        "        \"release_date\": \"2014-05-21T00:00:00Z\",\n",
        "        \"genres\": [\"Action\", \"Adventure\", \"Fantasy\", \"Sci-Fi\"],\n",
        "        \"rank\": 9,\n",
        "        \"actors\": [\"Jennifer Lawrence\", \"Hugh Jackman\", \"Michael Fassbender\"],\n",
        "        \"english\": true\n",
        "        }\n",
        "    },\n",
        "    {\"year\": 2014,\n",
        "      \"title\": \"Transformers: Age of Extinction\",\n",
        "      \"info\": {\n",
        "        \"directors\": [\"Michael Bay\"],\n",
        "        \"release_date\": \"2014-06-25T00:00:00Z\",\n",
        "        \"genres\": [\"Action\", \"Adventure\", \"Sci-Fi\"],\n",
        "        \"rank\": 10,\n",
        "        \"actors\": [\"Mark Wahlberg\", \"Nicola Peltz\", \"Jack Reynor\"],\n",
        "        \"english\": true\n",
        "        }\n",
        "    }\n",
        "  ],\n",
        " \"bollywood\":[\n",
        "    {\"year\": 2020,\n",
        "      \"title\": \"Angrezi Medium\",\n",
        "      \"info\": {\n",
        "        \"directors\": [\"Homi Adajania\"],\n",
        "        \"release_date\": \"2030-03-13\",\n",
        "        \"genres\": [\"Comdey\", \"Drama\"],\n",
        "        \"rank\": null,\n",
        "        \"actors\": [\"Irrfan Khan\", \"Radhika Madan\", \"Kareena Kapoor\"],\n",
        "        \"english\": false\n",
        "        }\n",
        "    }\n",
        "  ]\n",
        "}\n",
        "\"\"\""
      ],
      "execution_count": null,
      "outputs": []
    },
    {
      "cell_type": "code",
      "source": [
        "import json\n",
        "movies_dict = json.loads(movies_info)\n",
        "movies_dict"
      ],
      "metadata": {
        "colab": {
          "base_uri": "https://localhost:8080/"
        },
        "id": "fKXjCnt2gq4I",
        "outputId": "e3ba87d1-abd5-4877-9bc6-226944c560e5"
      },
      "execution_count": null,
      "outputs": [
        {
          "output_type": "execute_result",
          "data": {
            "text/plain": [
              "{'bollywood': [{'info': {'actors': ['Irrfan Khan',\n",
              "     'Radhika Madan',\n",
              "     'Kareena Kapoor'],\n",
              "    'directors': ['Homi Adajania'],\n",
              "    'english': False,\n",
              "    'genres': ['Comdey', 'Drama'],\n",
              "    'rank': None,\n",
              "    'release_date': '2030-03-13'},\n",
              "   'title': 'Angrezi Medium',\n",
              "   'year': 2020}],\n",
              " 'hollywood': [{'info': {'actors': ['Jennifer Lawrence',\n",
              "     'Hugh Jackman',\n",
              "     'Michael Fassbender'],\n",
              "    'directors': ['Bryan Singer'],\n",
              "    'english': True,\n",
              "    'genres': ['Action', 'Adventure', 'Fantasy', 'Sci-Fi'],\n",
              "    'rank': 9,\n",
              "    'release_date': '2014-05-21T00:00:00Z'},\n",
              "   'title': 'X-Men: Days of Future Past',\n",
              "   'year': 2014},\n",
              "  {'info': {'actors': ['Mark Wahlberg', 'Nicola Peltz', 'Jack Reynor'],\n",
              "    'directors': ['Michael Bay'],\n",
              "    'english': True,\n",
              "    'genres': ['Action', 'Adventure', 'Sci-Fi'],\n",
              "    'rank': 10,\n",
              "    'release_date': '2014-06-25T00:00:00Z'},\n",
              "   'title': 'Transformers: Age of Extinction',\n",
              "   'year': 2014}]}"
            ]
          },
          "metadata": {},
          "execution_count": 45
        }
      ]
    },
    {
      "cell_type": "code",
      "metadata": {
        "id": "KGdlQzelC_4V",
        "colab": {
          "base_uri": "https://localhost:8080/"
        },
        "outputId": "246d36d6-4b59-4ffe-b3c5-e337e54c418b"
      },
      "source": [
        "# Student Action: Verify whether the JSON object is converted into a Python dictionary or not.\n",
        "type(movies_info)"
      ],
      "execution_count": null,
      "outputs": [
        {
          "output_type": "execute_result",
          "data": {
            "text/plain": [
              "str"
            ]
          },
          "metadata": {},
          "execution_count": 47
        }
      ]
    },
    {
      "cell_type": "markdown",
      "metadata": {
        "id": "fkumamoCDoiS"
      },
      "source": [
        "---"
      ]
    },
    {
      "cell_type": "markdown",
      "metadata": {
        "id": "ilEjCZOMDpUi"
      },
      "source": [
        "#### Activity 9: The `clear()` Function\n",
        "\n",
        "The `clear()` function simply clears or deletes all the key-values pairs from a dictionary."
      ]
    },
    {
      "cell_type": "code",
      "metadata": {
        "id": "RmSAKeJuDxs8"
      },
      "source": [
        "# Student Action: Clear the contents of the 'movies_dict' dictionary.\n",
        "movies_dict.clear()"
      ],
      "execution_count": null,
      "outputs": []
    },
    {
      "cell_type": "code",
      "source": [
        "movies_dict"
      ],
      "metadata": {
        "colab": {
          "base_uri": "https://localhost:8080/"
        },
        "id": "W37L4dBehHcH",
        "outputId": "8fdce019-32bd-4585-f4f0-0ca2bc03935c"
      },
      "execution_count": null,
      "outputs": [
        {
          "output_type": "execute_result",
          "data": {
            "text/plain": [
              "{}"
            ]
          },
          "metadata": {},
          "execution_count": 49
        }
      ]
    },
    {
      "cell_type": "markdown",
      "metadata": {
        "id": "dVwld6tXCGq6"
      },
      "source": [
        "That's it! We have covered everything we need to about Python dictionaries. In the next class, we will learn about Python tuples.\n",
        "\n",
        "**Note:** You can now attempt **Project 9**."
      ]
    },
    {
      "cell_type": "markdown",
      "metadata": {
        "id": "FY_w7kVMmL0u"
      },
      "source": [
        "---"
      ]
    }
  ]
}