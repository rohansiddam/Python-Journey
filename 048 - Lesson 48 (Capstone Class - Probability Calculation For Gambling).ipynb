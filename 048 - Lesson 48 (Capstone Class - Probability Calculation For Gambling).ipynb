{
  "nbformat": 4,
  "nbformat_minor": 0,
  "metadata": {
    "colab": {
      "provenance": [],
      "include_colab_link": true
    },
    "kernelspec": {
      "name": "python3",
      "display_name": "Python 3"
    }
  },
  "cells": [
    {
      "cell_type": "markdown",
      "metadata": {
        "id": "view-in-github",
        "colab_type": "text"
      },
      "source": [
        "<a href=\"https://colab.research.google.com/github/rohansiddam/Python-Journey/blob/main/048%20-%20Lesson%2048%20(Capstone%20Class%20-%20Probability%20Calculation%20For%20Gambling).ipynb\" target=\"_parent\"><img src=\"https://colab.research.google.com/assets/colab-badge.svg\" alt=\"Open In Colab\"/></a>"
      ]
    },
    {
      "cell_type": "markdown",
      "metadata": {
        "id": "Vcvmc_dgH1Ry"
      },
      "source": [
        "# Lesson 48: Capstone Class - Probability Calculation For Gambling"
      ]
    },
    {
      "cell_type": "markdown",
      "metadata": {
        "id": "Y36SOhIIIcfJ"
      },
      "source": [
        "### Teacher-Student Activities\n",
        "\n",
        "\n",
        "Welcome to the Capstone Class. We hope that you are ready to step into the ring and face the next challenge! We have been always told to avoid gambling. Today, you will learn why you should never gamble and in the process, you will learn how to calculate the expected value."
      ]
    },
    {
      "cell_type": "markdown",
      "metadata": {
        "id": "aI_I1LXxI5Lg"
      },
      "source": [
        "---"
      ]
    },
    {
      "cell_type": "markdown",
      "metadata": {
        "id": "R5R3b_48nKTP"
      },
      "source": [
        "#### Recap\n",
        "\n",
        "In the MCQ test illustration, The probabilities of the random variables $X = 0, 1, 2, 3, 4$ are\n",
        "\n",
        "- $P(X = 0) = {}^4C_0 \\times \\left(\\frac{1}{4}\\right)^0 \\times \\left(\\frac{3}{4}\\right)^4$\n",
        "\n",
        "- $P(X = 1) = {}^4C_1 \\times \\frac{1}{4} \\times \\left(\\frac{3}{4}\\right)^3$\n",
        "\n",
        "- $P(X = 2) = {}^4C_2 \\times \\left(\\frac{1}{4}\\right)^2 \\times \\left(\\frac{3}{4}\\right)^2$\n",
        "\n",
        "- $P(X = 3) = {}^4C_3 \\times \\left(\\frac{1}{4}\\right)^3 \\times \\frac{3}{4}$\n",
        "\n",
        "- $P(X = 4) = {}^4C_4 \\times \\left(\\frac{1}{4}\\right)^4 \\times \\left(\\frac{3}{4}\\right)^0$\n",
        "\n",
        "In general, in any experiment having total $n$ possible trials, the probability of success in $r$ trials out of $n$ trials is given by\n",
        "\n",
        "$$P(X = r) = {}^nC_r \\times s^r \\times f^{n - r}$$\n",
        "\n",
        "where\n",
        "\n",
        "- ${}^nC_{r} = \\frac{n!}{(n-r)! \\times r!} = {}^nC_{n - r}$\n",
        "\n",
        "- $n$ is a natural number and $r$ is a whole number but $r \\le n$\n",
        "\n",
        "- $s$ denotes the probability of **success**\n",
        "\n",
        "- $f$ denotes the probability of **failure** and $s + f = 1$\n",
        "\n",
        "In the context of the MCQ test illustration,\n",
        "\n",
        "- $n$ is the total number of questions in an MCQ test\n",
        "\n",
        "- $r$ is the number of questions to be solved correctly by fluke out of $n$ questions\n",
        "\n",
        "- ${}^nC_r$ is the number of ways in which $r$ questions can be solved out of $n$ questions correctly by fluke\n",
        "\n",
        "- **success** is choosing the one correct option out of four options and the **failure** is choosing an incorrect option.\n",
        "\n",
        "\n",
        "This is called **binomial distribution**. In other words, the distribution of two terms.\n",
        "\n",
        "Also, the sum of all the probabilities will be equal to one, i.e.,\n",
        "\n",
        "$P(X = 0) + P(X = 1) + P(X = 2) + \\dots + P(X = n - 1) + P(X = n) = 1$\n"
      ]
    },
    {
      "cell_type": "markdown",
      "metadata": {
        "id": "nTZhaOceF0x9"
      },
      "source": [
        "We can also create functions to calculate the factorial value of a number $n$ and to get the probability of a random variable $X = r$."
      ]
    },
    {
      "cell_type": "code",
      "metadata": {
        "id": "CBXukb_QpBnS",
        "colab": {
          "base_uri": "https://localhost:8080/"
        },
        "outputId": "b310d5fe-5f53-4576-8ffd-4142fe97f16e"
      },
      "source": [
        "# Run the code below.\n",
        "# Functions to calculate the factorial value of a number 'n'.\n",
        "def factorial(num):\n",
        "  factorial = 1\n",
        "  if num < 0:\n",
        "    return \"Undefined.\"\n",
        "  else:\n",
        "    while num > 0:\n",
        "      factorial *= num\n",
        "      num -= 1\n",
        "    return factorial\n",
        "\n",
        "# Function to calculate the probability of a random variable X = r.\n",
        "def prob_random_var(num_trials, random_var, prob_success):\n",
        "  num_trials_choose_random_var = factorial(num_trials) / ((factorial(num_trials - random_var)) * (factorial(random_var))) # nCr\n",
        "  prob_random_var = num_trials_choose_random_var * (prob_success ** random_var) * ((1 - prob_success) ** (num_trials - random_var))\n",
        "  return prob_random_var\n",
        "\n",
        "prob_random_var(4, 4, 0.25)"
      ],
      "execution_count": null,
      "outputs": [
        {
          "output_type": "execute_result",
          "data": {
            "text/plain": [
              "0.00390625"
            ]
          },
          "metadata": {},
          "execution_count": 1
        }
      ]
    },
    {
      "cell_type": "code",
      "metadata": {
        "id": "E3fvlDF48Z1-",
        "colab": {
          "base_uri": "https://localhost:8080/"
        },
        "outputId": "23e294e5-4e5b-4852-d0e7-91af5b31fe22"
      },
      "source": [
        "# Run the code below.\n",
        "# The probability of solving say 50 questions correctly by fluke in an MCQ test having 100 questions\n",
        "prob_random_var(100, 50, 0.25)"
      ],
      "execution_count": null,
      "outputs": [
        {
          "output_type": "execute_result",
          "data": {
            "text/plain": [
              "4.5073108750863835e-08"
            ]
          },
          "metadata": {},
          "execution_count": 2
        }
      ]
    },
    {
      "cell_type": "markdown",
      "metadata": {
        "id": "gguw7YCDz3gz"
      },
      "source": [
        "---"
      ]
    },
    {
      "cell_type": "markdown",
      "metadata": {
        "id": "iQEsRHRn95Kc"
      },
      "source": [
        "#### Activity 1: Expected Value\n",
        "\n",
        "Let's find out the average number of questions that can be solved correctly by fluke.\n",
        "\n",
        "For this, we need to use the concept of expected value. The expected value is the sum of the product of the random variables with their corresponding probabilities.\n",
        "\n",
        "Let $X$ be a random variable denoting $N$ events $x_1, x_2, x_3 \\dots x_N$ and let $p(x_1), p(x_2), p(x_3) \\dots p(x_N)$ be their corresponding probabilities, then the expected value $E(X)$ is given by\n",
        "\n",
        "$$E(X) = x_1 p(x_1) + x_2 p(x_2) + x_3 p(x_3) + \\dots + x_N p(x_N)$$\n",
        "\n",
        "With this idea in mind, let's now try to find out the average number of questions that can be solved correctly by fluke in an MCQ test having 100 questions.\n"
      ]
    },
    {
      "cell_type": "code",
      "metadata": {
        "id": "OhZvFKmdz4Xw",
        "colab": {
          "base_uri": "https://localhost:8080/"
        },
        "outputId": "6f65fe5c-89f5-42db-d12a-c935556eaa11"
      },
      "source": [
        "# S1.1: Find the average number of questions that can be solved correctly by fluke in an MCQ test having 100 questions.\n",
        "import numpy as np\n",
        "\n",
        "random_var = np.arange(101)\n",
        "prob_random_var_list = [prob_random_var(100, i, 0.25) for i in range(101)]\n",
        "print(prob_random_var_list)\n",
        "\n",
        "array1 = np.array(prob_random_var_list)\n",
        "expected_val = np.sum(random_var * array1)\n",
        "print(expected_val)"
      ],
      "execution_count": null,
      "outputs": [
        {
          "output_type": "stream",
          "name": "stdout",
          "text": [
            "[3.207202185381504e-13, 1.0690673951271679e-11, 1.763961201959827e-10, 1.920757753245145e-09, 1.5526125172064923e-08, 9.936720110121551e-08, 5.244380058119708e-07, 2.347484406967869e-06, 9.096502077000493e-06, 3.0995488558668345e-05, 9.401964862796064e-05, 0.0002564172235308018, 0.000633920358173371, 0.0014303843979296576, 0.0029629391099971476, 0.005662505854661217, 0.010027354117629238, 0.016515642076095214, 0.025385153561405607, 0.036518992842723856, 0.049300640337677205, 0.06260398773038375, 0.07493507622273206, 0.08470921659961016, 0.0905918010856942, 0.09179969176683679, 0.08826893439118921, 0.08064075487590126, 0.07008065602310466, 0.05799778429498317, 0.04575380761048673, 0.03443834981434484, 0.024752563929060358, 0.017001761082586914, 0.011167823456209052, 0.007019774743902833, 0.004224864429200778, 0.002435957869088737, 0.001346187243443776, 0.0007133641802864452, 0.00036262679164560964, 0.00017689111787590718, 8.2829967894274e-05, 3.724138091370458e-05, 1.6081505394554254e-05, 6.6708466821854675e-06, 2.65867077913189e-06, 1.0182143409441279e-06, 3.7475944493082483e-07, 1.325679669143054e-07, 4.5073108750863835e-08, 1.4729774101589488e-08, 4.626659813960801e-09, 1.396727491007034e-09, 4.052234078847568e-10, 1.1297137431938674e-10, 3.0260189549835735e-11, 7.786247603466504e-12, 1.9241876261440214e-12, 4.565868943392594e-13, 1.040003481550535e-13, 2.2732316536623717e-14, 4.766453467356586e-15, 9.5833455957434e-16, 1.8467905575130513e-16, 3.409459490793325e-17, 6.026822332210423e-18, 1.0194624840554945e-18, 1.6491304889132999e-19, 2.5493804659529272e-20, 3.76337116402575e-21, 5.30052276623345e-22, 7.116442602813429e-23, 9.098648076656439e-24, 1.1065923336474048e-24, 1.2787289188814456e-25, 1.4021150426331638e-26, 1.4567429014370533e-27, 1.4318413133783002e-28, 1.3291353963849202e-29, 1.162993471836805e-30, 9.571962731167119e-32, 7.392979345210377e-33, 5.344322418224369e-34, 3.605296869437075e-35, 2.2621470553330664e-36, 1.3152017763564338e-37, 7.054722172026849e-39, 3.473916221073827e-40, 1.561310661156776e-41, 6.360895286194273e-43, 2.3299982733312356e-44, 7.597820456514899e-46, 2.1785865108286448e-47, 5.407838856666849e-49, 1.1384923908772313e-50, 1.9765492897174155e-52, 2.716906240161396e-54, 2.7723533062871386e-56, 1.8669045833583425e-58, 6.223015277861142e-61]\n",
            "25.0\n"
          ]
        }
      ]
    },
    {
      "cell_type": "markdown",
      "metadata": {
        "id": "I88z7qE1aF7C"
      },
      "source": [
        "So on an average, you are expected to solve 25 questions correctly by fluke in an MCQ test.\n",
        "\n",
        "In the above code:\n",
        "\n",
        "1. A NumPy array is created containing the values of all the random variables, i.e., $X = 0, 1, 2, \\dots 100$ where\n",
        "\n",
        "  - 0 denotes solving 0 questions correctly by fluke,\n",
        "  \n",
        "  - 1 denotes solving 1 question correctly by fluke,\n",
        "\n",
        "  - 2 denotes solving 2 questions correctly by fluke,\n",
        "  \n",
        "    ...\n",
        "    \n",
        "  - 100 denotes solving 100 questions correctly by fluke\n",
        "\n",
        "2. A Python list is created containing the probabilities of all the above 101 events.\n",
        "\n",
        "3. The above list is then converted to a NumPy array. Then each value of the random variable is multiplied with its corresponding probability. Then all the products are added to get the expected value or theoretical average.\n",
        "\n",
        "**Note:** The expected value gives a theoretical average. The actual average may differ from the theoretical average by some margin. E.g., in an MCQ test having 100 questions, the expected value tells us that on an average, we can expect to solve 25 questions correctly by fluke.\n",
        "\n",
        "Interestingly, in the case of a binomial distribution, the expected value is the highly likely event. Let's verify this fact by finding out the most likely event in the case of solving questions correctly by fluke in an MCQ test containing 100 questions.\n"
      ]
    },
    {
      "cell_type": "code",
      "metadata": {
        "id": "vmv85wf-1WgS",
        "colab": {
          "base_uri": "https://localhost:8080/"
        },
        "outputId": "5b54c66b-ca37-41a4-c4a7-6f74ba6e6cdf"
      },
      "source": [
        "# S1.2: Find the most likely event and its probability.\n",
        "max = np.max(array1)\n",
        "print(max)\n",
        "\n",
        "max2 = prob_random_var_list.index(max)\n",
        "print(max2)"
      ],
      "execution_count": null,
      "outputs": [
        {
          "output_type": "stream",
          "name": "stdout",
          "text": [
            "0.09179969176683679\n",
            "25\n"
          ]
        }
      ]
    },
    {
      "cell_type": "markdown",
      "metadata": {
        "id": "A7BdV-Hs5iCW"
      },
      "source": [
        "So in case of the binomial distribution, the most likely event is the same as the expected value.\n",
        "\n",
        "We can also create a line plot to visualise the events (denoted by random variables) and their corresponding probabilities, to spot the event having the highest probability."
      ]
    },
    {
      "cell_type": "code",
      "metadata": {
        "id": "4fu6_G9z0Wiu",
        "colab": {
          "base_uri": "https://localhost:8080/",
          "height": 265
        },
        "outputId": "f16954b4-1259-402a-8406-00186f76a139"
      },
      "source": [
        "# S1.3: Create a line plot of random variables and their corresponding probabilities in the case of an MCQ test having 100 questions.\n",
        "import matplotlib.pyplot as plt\n",
        "import seaborn as sns\n",
        "\n",
        "plt.figure(figsize = (8,4))\n",
        "plt.scatter(random_var, prob_random_var_list)\n",
        "plt.axvline(max2)\n",
        "plt.axhline(max)\n",
        "plt.show()"
      ],
      "execution_count": null,
      "outputs": [
        {
          "output_type": "display_data",
          "data": {
            "text/plain": [
              "<Figure size 576x288 with 1 Axes>"
            ],
            "image/png": "[encoded data removed]"
          },
          "metadata": {
            "needs_background": "light"
          }
        }
      ]
    },
    {
      "cell_type": "markdown",
      "metadata": {
        "id": "-cZnSdHq9-03"
      },
      "source": [
        "---"
      ]
    },
    {
      "cell_type": "markdown",
      "metadata": {
        "id": "LMN_q3mq9_w2"
      },
      "source": [
        "#### Activity 2: Why Should You Never Gamble?\n",
        "\n",
        "Suppose that you play a game in which you roll two standard 6-sided dice. You win INR 1500 if the sum of the numbers on the dice is 2 and lose INR 50 otherwise. How much do you expect to win on average per trial?\n",
        "\n",
        "There are 36 possible outcomes of rolling two standard 6-sided dice. They are illustrated in the image shown below.\n",
        "\n",
        "<img src='https://student-datasets-bucket.s3.ap-south-1.amazonaws.com/images/two_dice_outcomes.png' width=600>\n",
        "\n",
        "The sum of the numbers on the dice will be 2 if and only if the outcome is two $1s$, i.e., $\\{1, 1\\}$\n",
        "\n",
        "So, let us define a random variable $X = x$ where $x$ some event. Let $x_1$ denotes that you win INR 1500 after rolling two dice. This is possible only if the outcome of rolling two dice is two $1s$, i.e., $\\{1, 1\\}$.\n",
        "\n",
        "Similarly, let $x_2$ denotes that you lose INR 50 after rolling two dice. This is possible when the outcome is not two $1s$, i.e., $x_2 = \\{1', 1'\\}$\n",
        "\n",
        "So, the probability of winning INR 1500 is  $P(X = x_1) = \\frac{1}{36}$ because there is only one outcome out of 36 possible outcomes.\n",
        "\n",
        "Hence, the probability of losing INR 50 is  $P(X = x_2) = \\frac{35}{36}$ because there are 35 outcomes out of 36 possible outcomes in which the sum of the numbers on two dice is not 2.\n",
        "\n",
        "So, your expected winnings after playing one game of rolling two dice are\n",
        "\n",
        "$E(X) = x_1 p(x_1) + x_2 p(x_2) = 1500 \\times \\frac{1}{36} + (-50) \\times \\frac{35}{36}$\n",
        "\n",
        "\n"
      ]
    },
    {
      "cell_type": "code",
      "metadata": {
        "id": "6589lwa2klft",
        "colab": {
          "base_uri": "https://localhost:8080/"
        },
        "outputId": "7597313a-6bbc-4881-c443-b0725ae91cab"
      },
      "source": [
        "# S2.1: Calculate your expected winnings after rolling two dice in the above problem.\n",
        "expected_amount = 1500 * (1/36) + (-50 * (35/36))\n",
        "print(expected_amount)"
      ],
      "execution_count": null,
      "outputs": [
        {
          "output_type": "stream",
          "name": "stdout",
          "text": [
            "-6.944444444444443\n"
          ]
        }
      ]
    },
    {
      "cell_type": "markdown",
      "metadata": {
        "id": "42RiH0yElFpy"
      },
      "source": [
        "So on an average per trial, you are likely to lose INR $6.945$ in this game. The negative sign denotes that you are likely to lose money. If you play this game say 100 times, then you are likely to lose INR $6.945 \\times 100 = 694.5$ after 100 trials.\n",
        "\n",
        "In general, for a game, if the probability of the favourable outcome(s) is very low, then you should **NOT** gamble on that game because it has been designed in such a way that on an average a player is likely to lose their money. The lotteries are specifically designed for people to lose their money on an average. Very rarely there is a jackpot winner."
      ]
    },
    {
      "cell_type": "markdown",
      "metadata": {
        "id": "vqpQXzLLmb-n"
      },
      "source": [
        "---"
      ]
    },
    {
      "cell_type": "markdown",
      "metadata": {
        "id": "DsYdc6jOjcmL"
      },
      "source": [
        "#### Activity 3: Continuous Random Variable\n",
        "\n",
        "Now let's learn the concept of a continuous random variable. But first, recall the bell curve example. The heights of people follow the **normal distribution**. If you create a histogram to plot the heights of 10,000 individuals, the arrangement of the bars in the histogram will appear to form a **bell shape**.\n"
      ]
    },
    {
      "cell_type": "code",
      "metadata": {
        "id": "RCq4dtszjfel",
        "colab": {
          "base_uri": "https://localhost:8080/"
        },
        "outputId": "e15854cf-f387-411a-d8ed-54e4abe0a072"
      },
      "source": [
        "# Run the code below.\n",
        "# NumPy array containing 10,000 random normally distributed numbers having a mean of 165 cm and a standard deviation.\n",
        "import numpy as np\n",
        "import matplotlib.pyplot as plt\n",
        "import seaborn as sns\n",
        "\n",
        "height_mean = 165\n",
        "height_std = 15\n",
        "heights = np.random.normal(height_mean, height_std, size=10000)\n",
        "heights[:10]"
      ],
      "execution_count": null,
      "outputs": [
        {
          "output_type": "execute_result",
          "data": {
            "text/plain": [
              "array([148.98754758, 183.15388822, 153.73321028, 168.43452021,\n",
              "       164.41223487, 169.58329464, 158.05623611, 178.07125964,\n",
              "       170.42033315, 177.71117218])"
            ]
          },
          "metadata": {},
          "execution_count": 7
        }
      ]
    },
    {
      "cell_type": "markdown",
      "metadata": {
        "id": "F4nR3pOfjgGE"
      },
      "source": [
        "The `np.random.normal()` function takes mean, standard deviation and size (number of numbers to be generated) as inputs and returns a numpy array containing normally distributed random numbers whose mean and standard deviation is very close to the provided mean and standard deviation values."
      ]
    },
    {
      "cell_type": "code",
      "metadata": {
        "id": "kjmh3p5DjlAQ",
        "colab": {
          "base_uri": "https://localhost:8080/",
          "height": 350
        },
        "outputId": "75dd5924-8221-4c26-a042-346b7769ea8f"
      },
      "source": [
        "# Run the code below.\n",
        "# Histogram for the heights.\n",
        "plt.figure(figsize=(20, 5))\n",
        "plt.title('Histogram for Heights (in cm)')\n",
        "plt.hist(heights, bins='sturges', edgecolor='black') # 'sturges' is one of the ways to compute the number of bins in a histogram.\n",
        "plt.axvline(np.mean(heights), color='red', label=f'Mean height = {np.mean(heights):.2f} cm', linewidth=2) # Creates a vertical line\n",
        "plt.xlabel('Height (in cm)')\n",
        "plt.ylabel(\"Number of observations\")\n",
        "plt.legend()\n",
        "plt.show()"
      ],
      "execution_count": null,
      "outputs": [
        {
          "output_type": "display_data",
          "data": {
            "text/plain": [
              "<Figure size 1440x360 with 1 Axes>"
            ],
            "image/png": "[encoded data removed]"
          },
          "metadata": {
            "needs_background": "light"
          }
        }
      ]
    },
    {
      "cell_type": "code",
      "metadata": {
        "id": "1MKqLi9xjo6N",
        "colab": {
          "base_uri": "https://localhost:8080/",
          "height": 423
        },
        "outputId": "f4427519-17d7-47ad-c04f-44a1f4e71413"
      },
      "source": [
        "# Run the code below.\n",
        "# Bell curve using the 'distplot()' function.\n",
        "plt.figure(figsize=(12, 4), dpi=96)\n",
        "plt.title(\"Bell Curve for Heights (in cm)\")\n",
        "sns.distplot(heights, hist=False, bins='sturges') # 'sturges' is one of the ways to compute the number of bins in a histogram.\n",
        "plt.axvline(np.mean(heights), color='red', label=f'Mean height = {np.mean(heights):.2f} cm', linewidth=2)\n",
        "plt.ylabel(\"Probability density\") # The 'y-axis' on the bell curve represent the probability density.\n",
        "plt.legend()\n",
        "plt.grid(which='major', axis='y', color='lightgrey')\n",
        "plt.show()"
      ],
      "execution_count": null,
      "outputs": [
        {
          "output_type": "stream",
          "name": "stderr",
          "text": [
            "/usr/local/lib/python3.7/dist-packages/seaborn/distributions.py:2619: FutureWarning: `distplot` is a deprecated function and will be removed in a future version. Please adapt your code to use either `displot` (a figure-level function with similar flexibility) or `kdeplot` (an axes-level function for kernel density plots).\n",
            "  warnings.warn(msg, FutureWarning)\n"
          ]
        },
        {
          "output_type": "display_data",
          "data": {
            "text/plain": [
              "<Figure size 1152x384 with 1 Axes>"
            ],
            "image/png": "[encoded data removed]"
          },
          "metadata": {
            "needs_background": "light"
          }
        }
      ]
    },
    {
      "cell_type": "markdown",
      "metadata": {
        "id": "kN4SmQjwjnmv"
      },
      "source": [
        "Recall that\n",
        "\n",
        "- Approx. $68 \\text{%}$ of the values lie between $\\mu - \\sigma$ and $\\mu + \\sigma$. In other words, approx. $68 \\text{%}$ of the values lie within **one-sigma** around the mean.\n",
        "\n",
        "- Approx. $95 \\text{%}$ of the values lie between $\\mu - 2 \\sigma$ and $\\mu + 2 \\sigma$. In other words, approx. $95 \\text{%}$ of the values lie within **two-sigma** around the mean.\n",
        "\n",
        "- Approx. $99.7 \\text{%}$ of the values lie between $\\mu - 3 \\sigma$ and $\\mu + 3 \\sigma$. In other words, approx. $99.7 \\text{%}$ of the values lie within **three-sigma** around the mean.\n",
        "\n",
        "where $\\mu$ and $\\sigma$ are mean and standard deviation respectively.\n",
        "\n",
        "In the bell curve above, you can see the probability density values on the $y-$axis. We will now learn how to calculate these probability density values for which we need to understand a very simple concept called a **continuous random variable**.\n",
        "\n",
        "Suppose you want to know what is the probability that a person's height would be anything between 150 cm and 180 cm. You might think that the possible heights in this range are $150, 151, 152, \\dots 180$. But a person's height could also be a fractional (or decimal) value, say 157.768 cm. It could be any number either an integer or a decimal number. Hence, there are infinite (or uncountable) numbers between 150 and 180. In fact, there are infinite numbers between any two numbers; even two consecutive integers. Eg, there are infinite numbers between 150 and 151. Such values which need **NOT** be integers are called continuous values. In probability, to represent continuous values, we need to define a **continuous random variable**.\n",
        "\n",
        "So, in the case of finding the probability that a person's height would be between 150 cm and 180 cm, you need to define a random variable $X$ where $150 \\le X \\le 180$. Hence, we need to find the probability of the random variable $150 \\le X \\le 180$.\n",
        "\n"
      ]
    },
    {
      "cell_type": "markdown",
      "metadata": {
        "id": "vePowveJlIEt"
      },
      "source": [
        "---"
      ]
    },
    {
      "cell_type": "markdown",
      "metadata": {
        "id": "Dy6PgobxlI0n"
      },
      "source": [
        "#### Activity 4: Probability Density Function\n",
        "\n",
        "To calculate the probability of a continuous random variable, we have to use the **Probability Density Function (PDF)**, i.e.,\n",
        "\n",
        "\n",
        "$$\\rho(x) = \\frac{1}{\\sigma \\sqrt{2 \\pi}}e^{-\\frac{1}{2\\sigma^2}(x - \\mu)^2}$$\n",
        "\n",
        "where,\n",
        "\n",
        "- $\\rho (x)$ which is read as **Rho** is dependent on the value of $x$ which is some arbitrary value of the random variable $X$\n",
        "\n",
        "- $\\sigma$ is the standard deviation of the sample. In this case, $\\sigma$ is the standard deviation of the height values\n",
        "\n",
        "- $\\mu$ is the mean value of the sample. In this case, $\\mu$ is the mean height\n",
        "\n",
        "- $e = 2.71$ and $\\pi = 3.14$\n",
        "\n",
        "Let's create a Python function to calculate the individual probabilities of all the heights and store them in an array."
      ]
    },
    {
      "cell_type": "code",
      "metadata": {
        "id": "xwSkuuW3lUia"
      },
      "source": [
        "# S3.1: Create a Python function to calculate the individual probabilities of all the heights.\n",
        "def prob_dens_func(array, mean, std):\n",
        "  coefficient = 1 / (std * np.sqrt(2 * np.pi))\n",
        "  exp = np.exp(-(array - mean) ** 2 / ((2 * std) ** 2))\n",
        "  prob = coefficient * exp\n",
        "  return prob"
      ],
      "execution_count": null,
      "outputs": []
    },
    {
      "cell_type": "markdown",
      "metadata": {
        "id": "OYVUnpknUnds"
      },
      "source": [
        "Now, sorted the values in the `heights` array using the `sort()` function in the NumPy module.\n",
        "\n",
        "**Syntax:** `numpy.sort(numpy_array)`\n",
        "\n",
        "Then calculate the individual probability values for all the heights using the probability density function that you created above."
      ]
    },
    {
      "cell_type": "code",
      "metadata": {
        "id": "J3gCx-FclWz0"
      },
      "source": [
        "# S3.2: Sort the 'heights' array and then calculate the individual probabilities of all the heights.\n",
        "sorted_heights = np.sort(heights)\n",
        "heights_prob = prob_dens_func(sorted_heights, np.mean(sorted_heights), np.std(sorted_heights))"
      ],
      "execution_count": null,
      "outputs": []
    },
    {
      "cell_type": "markdown",
      "metadata": {
        "id": "3SWUXBB_VCUD"
      },
      "source": [
        "Now, let's plot the `sorted_heights` and `prob_array` values to see if we can get a bell curve."
      ]
    },
    {
      "cell_type": "code",
      "metadata": {
        "id": "qqx5PEC5lY1o",
        "colab": {
          "base_uri": "https://localhost:8080/",
          "height": 265
        },
        "outputId": "f90742a7-0caa-4432-e906-636e22f08437"
      },
      "source": [
        "# S3.3: Create a line plot for the sorted heights and the corresponding probability values.\n",
        "plt.figure(figsize = (8,4))\n",
        "plt.plot(sorted_heights, heights_prob)\n",
        "plt.show()"
      ],
      "execution_count": null,
      "outputs": [
        {
          "output_type": "display_data",
          "data": {
            "text/plain": [
              "<Figure size 576x288 with 1 Axes>"
            ],
            "image/png": "[encoded data removed]"
          },
          "metadata": {
            "needs_background": "light"
          }
        }
      ]
    },
    {
      "cell_type": "markdown",
      "metadata": {
        "id": "S1IZsslYldC9"
      },
      "source": [
        "The above curve looks almost exactly like the bell curve we created using the `distplot()` function of the `seaborn` module. It is called a probability density curve or normal distribution or bell curve. Every point on the above curve can be represented using the probability density function, i.e., $\\rho(x) = \\frac{1}{\\sigma \\sqrt{2 \\pi}}e^{-\\frac{1}{2\\sigma^2}(x - \\mu)^2}$\n",
        "\n",
        "To calculate probabilities of a continuous random variable, we have to calculate the area of the region that lies below the curve. Hence, to find the probability of the random variable $150 \\le X \\le 180$, we need to calculate the area of the shaded region as shown in the image below.\n",
        "\n",
        "<img src = \"https://student-datasets-bucket.s3.ap-south-1.amazonaws.com/images/bell_curve.png\" width=800>\n",
        "\n",
        "The region in the above curve is enclosed between $X = 150, X = 180$ and $\\rho(x) = \\frac{1}{\\sigma \\sqrt{2 \\pi}}e^{-\\frac{1}{2\\sigma^2}(x - \\mu)^2}$\n",
        "\n",
        "To find the area of a region, we use integration. In this case, we need to find the area of the shaded region enclosed between $X = 150, X = 180$ and $\\rho(x) = \\frac{1}{\\sigma \\sqrt{2 \\pi}}e^{-\\frac{1}{2\\sigma^2}(x - \\mu)^2}$.\n",
        "\n",
        "Therefore, the expression to calculate the area of a region is given as\n",
        "\n",
        "$$A = \\int_{X = 150}^{X = 180} \\rho(x) $$\n",
        "\n",
        "In this case, the area represents the probability, so the above expression becomes\n",
        "\n",
        "$$P(150 \\le X \\le 180) = \\int_{150}^{180} \\rho (x) dx$$\n",
        "\n",
        "After substituting the values of $\\mu$ and $\\sigma$ in the PDF, we get\n",
        "\n",
        "$$\\Rightarrow \\rho (x) = \\frac{1}{15 \\sqrt{2 \\pi}}e^{-\\frac{1}{450} (x - 165)^2}$$\n",
        "\n",
        "Therefore\n",
        "\n",
        "$$\\Rightarrow P(150 \\le X \\le 180) = \\int_{150}^{180} \\frac{1}{15 \\sqrt{2 \\pi}}e^{-\\frac{1}{450} (x - 165)^2} dx$$\n",
        "\n",
        "If we can solve the above integration, we will get the probability of a person having a height between 150 cm and 180 cm.\n",
        "\n",
        "To solve the above integration, we have to import the `integrate` module from the `scipy` package. Then we need to use the `quad()` function. It takes the following input:\n",
        "\n",
        "1. The function which needs to be integrated. In this case, the PDF, i.e., `prob_density_func` function needs to be integrated,\n",
        "\n",
        "2. The lower and upper limits of the random variable. In this case, $X = 150$ and $X = 180$ are lower and upper limits respectively.\n",
        "\n",
        "3. The parameters of the above probability density function which needs to be integrated. In this case, the parameters of the `prob_density_func` are the mean height = 165 cm and the standard deviation height = 180 cm.\n",
        "\n",
        "The `quad()` function returns a tuple in which the first item is the required area of the region (or probability value).\n"
      ]
    },
    {
      "cell_type": "code",
      "metadata": {
        "id": "0SOxCLCVlgGa"
      },
      "source": [
        "# T3.1: Find the probability of the random variable 150 <= X <= 180.\n"
      ],
      "execution_count": null,
      "outputs": []
    },
    {
      "cell_type": "markdown",
      "metadata": {
        "id": "QM_926i6liUy"
      },
      "source": [
        "The area of the curve enclosed between $X = 150, X = 180$ and $\\rho(x) = \\frac{1}{\\sigma \\sqrt{2 \\pi}}e^{-\\frac{1}{2\\sigma^2}(x - \\mu)^2}$ is $0.68$ which is also the probability of a person having a height between 150 cm and 180 cm. In terms of percentage, the probability of a person having a height between 150 cm and 180 cm is $68 \\%$ approx.\n",
        "\n",
        "We already learnt that $68 \\%$ values between **one-sigma** about mean in a normal distribution. In this class, we have kind of verified this fact using the concept of continuous random variable and probability density function.\n",
        "\n",
        "Similarly, you can verify the probability values for the **two-sigma** and **three-sigma** cases."
      ]
    },
    {
      "cell_type": "code",
      "metadata": {
        "id": "qnQPjDfdlokR"
      },
      "source": [
        "# S3.4: Find the probability of the random variable 135 <= X <= 195.\n"
      ],
      "execution_count": null,
      "outputs": []
    },
    {
      "cell_type": "code",
      "metadata": {
        "id": "d1GRabk-lq5A"
      },
      "source": [
        "# S3.5: Find the probability of the random variable 120 <= X <= 210.\n"
      ],
      "execution_count": null,
      "outputs": []
    },
    {
      "cell_type": "code",
      "metadata": {
        "id": "iKKfJB6Rls4u"
      },
      "source": [
        "# S3.6: Find the probability of the random variable 121 <= X <= 147.\n"
      ],
      "execution_count": null,
      "outputs": []
    },
    {
      "cell_type": "markdown",
      "metadata": {
        "id": "_LuEG2lFGT-i"
      },
      "source": [
        "---"
      ]
    },
    {
      "cell_type": "markdown",
      "metadata": {
        "id": "JdQnRq5elzy9"
      },
      "source": [
        "#### Activity 6: Fill Area Using the `fill_between()` Function\n",
        "\n",
        "Let's create the following bell curve using the `matplotlib.pyplot` module.\n",
        "\n",
        "<img src = \"https://student-datasets-bucket.s3.ap-south-1.amazonaws.com/images/bell_curve.png\" width=800>\n",
        "\n",
        "To create the above curve, you need to follow the steps described below.\n",
        "\n",
        "1. Slice the `heights` array such that the resulting array containing heights between 150 cm and 180 cm.\n",
        "\n",
        "2. Create the line plot between `sorted_heights` and `prob_array` arrays using the `plot()` function. The curve should look like a bell-shaped curve.\n",
        "\n",
        "3. Use the `fill_between()` function to fill the area below the PDF, $X = 150$ and $X = 180$. It takes the following values as inputs:\n",
        "\n",
        "  - `x` which should be an array containing the values for the horizontal axis. In this case, the sorted `numpy` array containing heights values between $X = 150$ and $X = 180$.\n",
        "\n",
        "  - `y1` is an array containing the values corresponding to the values in `x` array. In this case the probability density values for the heights between 150 cm and 180 cm.\n",
        "\n",
        "  - `alpha` (optional) to provide translucency to the shaded region. Its value ranges between 0 and 1.\n",
        "\n",
        "4. Use the `axvline()` function to draw vertical lines at $X = 150$ and $X = 180$."
      ]
    },
    {
      "cell_type": "code",
      "metadata": {
        "id": "wP8XaTXImHp9"
      },
      "source": [
        "# S6.1: Create the above bell curve.\n",
        "# Uncomment the line below.\n",
        "# plt.title(label = r\"Bell Curve $\\rho(x) = \\frac{1}{\\sigma \\sqrt{2 \\pi}}e^{-\\frac{1}{2\\sigma^2}(x - \\mu)^2}$\", fontsize=20) # MathJaX equation\n"
      ],
      "execution_count": null,
      "outputs": []
    },
    {
      "cell_type": "markdown",
      "metadata": {
        "id": "AH-TE52klwyr"
      },
      "source": [
        "---"
      ]
    },
    {
      "cell_type": "markdown",
      "metadata": {
        "id": "HyfqgJnnm8Dl"
      },
      "source": [
        "Congratulations! A new milestone; a new challenge!\n",
        "\n",
        "You have to apply the programming constructs learned during the past few classes to analyse a fictional lottery company, WHJR Lottery. You will find out why one should never gamble and how a house always wins!! You may start working on **Capstone Project 13.**"
      ]
    },
    {
      "cell_type": "markdown",
      "metadata": {
        "id": "K9i8ELLMm9f0"
      },
      "source": [
        "---"
      ]
    }
  ]
}