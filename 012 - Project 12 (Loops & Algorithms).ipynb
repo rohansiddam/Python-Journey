{
  "nbformat": 4,
  "nbformat_minor": 0,
  "metadata": {
    "colab": {
      "provenance": [],
      "include_colab_link": true
    },
    "kernelspec": {
      "name": "python3",
      "display_name": "Python 3"
    }
  },
  "cells": [
    {
      "cell_type": "markdown",
      "metadata": {
        "id": "view-in-github",
        "colab_type": "text"
      },
      "source": [
        "<a href=\"https://colab.research.google.com/github/rohansiddam/Python-Journey/blob/main/012%20-%20Project%2012%20(Loops%20%26%20Algorithms).ipynb\" target=\"_parent\"><img src=\"https://colab.research.google.com/assets/colab-badge.svg\" alt=\"Open In Colab\"/></a>"
      ]
    },
    {
      "cell_type": "markdown",
      "metadata": {
        "id": "YZnBY81YDCCr"
      },
      "source": [
        "### Instructions"
      ]
    },
    {
      "cell_type": "markdown",
      "metadata": {
        "id": "fIKnY8occu37"
      },
      "source": [
        "#### Goal of the Project\n",
        "\n",
        "This project is designed for you to practice and solve the activities that are based on the concepts covered in the following lessons:\n",
        "\n",
        "1. While Loop, Data-Type Conversion and Conditional Statements.\n",
        "\n",
        "2. Improving the Algorithm (Functions).\n"
      ]
    },
    {
      "cell_type": "markdown",
      "metadata": {
        "id": "BBqkpH4_Doqe"
      },
      "source": [
        "---"
      ]
    },
    {
      "cell_type": "markdown",
      "metadata": {
        "id": "wMvH2vCryA_P"
      },
      "source": [
        "#### Getting Started\n",
        "\n",
        "Follow the steps described below to solve the project:\n",
        "\n",
        "1. Click on the link provided below to open the Colab file for this project.\n",
        "   \n",
        "   https://colab.research.google.com/drive/1py225qDjnGFokkG1PitXA7i4lchXnc-Z\n",
        "   \n",
        "2. Create the duplicate copy of the Colab file. Here are the steps to create the duplicate copy:\n",
        "\n",
        "    - Click on the **File** menu. A new drop-down list will appear.\n",
        "\n",
        "      <img src='https://student-datasets-bucket.s3.ap-south-1.amazonaws.com/images/project-share-images/0_file_menu.png' width=500>\n",
        "\n",
        "    - Click on the **Save a copy in Drive** option. A duplicate copy will get created. It will open up in the new tab on your web browser.\n",
        "\n",
        "      <img src='https://student-datasets-bucket.s3.ap-south-1.amazonaws.com/images/project-share-images/1_create_colab_duplicate_copy.png' width=500>\n",
        "\n",
        "     - After creating the duplicate copy of the notebook, please rename it in the **YYYY-MM-DD_StudentName_Project12** format.\n",
        "\n",
        "3. Now, write your code in the prescribed code cells."
      ]
    },
    {
      "cell_type": "markdown",
      "metadata": {
        "id": "Wbqs3uc4x_3L"
      },
      "source": [
        "---"
      ]
    },
    {
      "cell_type": "markdown",
      "metadata": {
        "id": "H0P9F3DUf8x2"
      },
      "source": [
        "### Activities\n",
        "\n",
        "\n",
        "  "
      ]
    },
    {
      "cell_type": "markdown",
      "metadata": {
        "id": "qA-b1CdeofKc"
      },
      "source": [
        "#### Activity 1: Guess the Number\n",
        "\n",
        "Create a function which takes a random number $n$ between `10` and `20` (including both) and checks whether the player has guessed the number correctly or not.\n",
        "\n",
        "**For example:**\n",
        "\n",
        "- For random number $n = 10$,\n",
        "    \n",
        "    - If the player guesses a number less than `n`, Print `You guessed small!, The number is 10`.\n",
        "\n",
        "    - If the player guesses a number greater `n`, Print `You guessed high!, The number is 10`.\n",
        "\n",
        "    - If the player guesses a number equal to `n`, Print `Correct Guess!, The number is 10`.\n",
        "\n",
        "\n",
        "Follow the steps given below to achieve the desired result:\n",
        "\n",
        "- **Step 1**: Create a function, let's say `num_guess()` and pass $n$ as a parameter in this function, where $n$ is a random number between `10` and `20`.\n",
        "\n",
        "- **Step 2**: Inside the function,\n",
        "\n",
        "    - Ask the user to enter a number between `10` and `20`. Convert the data type of user input to integer and then store it in a variable `user_guess`.\n",
        "\n",
        "    - If `user_guess` is greater than $n$, return `You guessed high!, The number is 'n'`.\n",
        "\n",
        "    - Elif `user_guess` is less than $n$, return `You guessed small!, The number is 'n'`.\n",
        "\n",
        "    - Elif `user_guess` is equal to $n$, return `Correct Guess!, The number is 'n'`.  \n",
        "\n",
        "- **Step 4**: Generate a random integer between `10` and `20` using the `randint()` function of the `random` module and store this in a variable `rand_num`.\n",
        "\n",
        "-  **Step 5**: Call the function `num_guess()` and pass `rand_num` as a parameter inside this function."
      ]
    },
    {
      "cell_type": "code",
      "metadata": {
        "id": "AtvPTG3kpBoS",
        "colab": {
          "base_uri": "https://localhost:8080/"
        },
        "outputId": "21ca5f63-5039-45bc-bea9-20217efd43c7"
      },
      "source": [
        "# Import random module\n",
        "import random as rd\n",
        "# Create the 'num_guess()' function and pass  𝑛  as a parameter\n",
        "def num_guess(n):\n",
        "  # Ask the user to enter a number between 10 and 20 and store it in a variable 'user_guess'.\n",
        "  user_guess = int(input(\"Enter a number between 10 and 20:\"))\n",
        "  # If 'user_guess' is greater than  𝑛 , return 'You guessed high!' and 'n'.\n",
        "  if user_guess > n:\n",
        "   print(\"You guessed high!\")\n",
        "   print(\"n is \", n)\n",
        "\n",
        "  # If 'user_guess' is lower than  𝑛 , return 'You guessed small!' and 'n'.\n",
        "  elif user_guess < n:\n",
        "   print(\"You guessed small!\")\n",
        "   print(\"n is \", n)\n",
        "\n",
        "  # If 'user_guess' is equal to  𝑛 , return 'Correct Guess!' and 'n'.\n",
        "\n",
        "  elif user_guess < n:\n",
        "   print(\"Correct guess!\")\n",
        "   print(\"n is \", n)\n",
        "\n",
        "# Generate a random integer between 10 and 20 using randint() function and store it in a variable 'rand_num'\n",
        "rand_num = rd.randint(10,20)\n",
        "# Call the function num_guess() and pass 'rand_num' as a parameter inside this function\n",
        "num_guess(rand_num)"
      ],
      "execution_count": null,
      "outputs": [
        {
          "output_type": "stream",
          "name": "stdout",
          "text": [
            "Enter a number between 10 and 20:15\n",
            "You guessed small!\n",
            "n is  19\n"
          ]
        }
      ]
    },
    {
      "cell_type": "markdown",
      "metadata": {
        "id": "KOVBiUSMzut1"
      },
      "source": [
        "---"
      ]
    },
    {
      "cell_type": "markdown",
      "metadata": {
        "id": "-CJUWg6xGhSI"
      },
      "source": [
        "#### Activity 2: Calculator\n",
        "\n",
        "Create a function which lets user to input the choice of arithmetic operation they want to perform on a pair of numerical values and returns the appropriate result.\n",
        "\n",
        "Follow the steps given below to achieve the desired result:\n",
        "\n",
        "  - **Step 1**: Create a function `calculator()` which takes two inputs `num1` and `num2`.\n",
        "\n",
        "  - **Step 2**: Ask the user to input the operation that the user wants to perform by printing the following choices:\n",
        "```\n",
        "  Enter 1 for Addition.\n",
        "  Enter 2 for Subtraction.\n",
        "  Enter 3 for Multiplication.\n",
        "  Enter 4 for Division.\n",
        "```\n",
        "\n",
        "  - **Step 3**: Store the number entered by user in a variable `choice`.\n",
        "  \n",
        "  - **Step 4**: Use `if-else` statements to check user input. If `choice == \"1\"`, then perform addition and print the result using `print(num1 + num2)`.\n",
        "  \n",
        "   Else if `choice == \"2\"`, perform subtraction and print the result using `print(num1 - num2)`. Perform similar activity for multiplication and division.\n",
        "\n",
        "  - **Step 5:** Call the `calculator()` function by passing two integers.\n"
      ]
    },
    {
      "cell_type": "code",
      "metadata": {
        "id": "TxPTttbejfMm",
        "colab": {
          "base_uri": "https://localhost:8080/"
        },
        "outputId": "17e3895a-3eff-4dc2-b580-2a153e9d84ad"
      },
      "source": [
        "# Step 1: Define function 'calculator()'\n",
        "def calculator(num1,num2):\n",
        "  # Step 2: Ask user input\n",
        "  choice = input(\"Enter 1 for Addition. Enter 2 for Subtraction. Enter 3 for Multiplication. Enter 4 for Division. \")\n",
        "    # Step 3: Store user input in a variable 'choice'\n",
        "\n",
        "    # Step 4: Use if-else statement to check the value of 'choice' variable\n",
        "  if choice == \"1\":\n",
        "    print(num1+num2)\n",
        "  elif choice == \"2\":\n",
        "    print(num1-num2)\n",
        "  elif choice == \"3\":\n",
        "    print(num1*num2)\n",
        "  elif choice == \"4\":\n",
        "    print(num1/num2)\n",
        "# Call the function by passing two integers. for e.g: calculator(4,5)\n",
        "calculator(4,5)"
      ],
      "execution_count": null,
      "outputs": [
        {
          "output_type": "stream",
          "name": "stdout",
          "text": [
            "Enter 1 for Addition. Enter 2 for Subtraction. Enter 3 for Multiplication. Enter 4 for Division. 3\n",
            "20\n"
          ]
        }
      ]
    },
    {
      "cell_type": "markdown",
      "metadata": {
        "id": "gdRuWpBDGghH"
      },
      "source": [
        "---"
      ]
    },
    {
      "cell_type": "markdown",
      "metadata": {
        "id": "rCoCA99by9ST"
      },
      "source": [
        "### Submitting the Project\n",
        "\n",
        "Follow the steps described below to submit the project.\n",
        "\n",
        "1. After finishing the project, click on the **Share** button on the top right corner of the notebook. A new dialog box will appear.\n",
        "\n",
        "  <img src='https://student-datasets-bucket.s3.ap-south-1.amazonaws.com/images/project-share-images/2_share_button.png' width=500>\n",
        "\n",
        "2. In the dialog box, click on the **Copy link** button.\n",
        "\n",
        "   <img src='https://student-datasets-bucket.s3.ap-south-1.amazonaws.com/images/project-share-images/3_copy_link.png' width=500>\n",
        "\n",
        "\n",
        "3. The link of the duplicate copy (named as **YYYY-MM-DD_StudentName_Project12**) of the notebook will get copied\n",
        "\n",
        "   <img src='https://student-datasets-bucket.s3.ap-south-1.amazonaws.com/images/project-share-images/4_copy_link_confirmation.png' width=500>\n",
        "\n",
        "4. Go to your dashboard and click on the **My Projects** option.\n",
        "\n",
        "   <img src='https://student-datasets-bucket.s3.ap-south-1.amazonaws.com/images/project-share-images/5_student_dashboard.png' width=800>\n",
        "\n",
        "   <img src='https://student-datasets-bucket.s3.ap-south-1.amazonaws.com/images/project-share-images/6_my_projects.png' width=800>\n",
        "\n",
        "5. Click on the **View Project** button for the project you want to submit.\n",
        "\n",
        "   <img src='https://student-datasets-bucket.s3.ap-south-1.amazonaws.com/images/project-share-images/7_view_project.png' width=800>\n",
        "\n",
        "6. Click on the **Submit Project Here** button.\n",
        "\n",
        "   <img src='https://student-datasets-bucket.s3.ap-south-1.amazonaws.com/images/project-share-images/8_submit_project.png' width=800>\n",
        "\n",
        "7. Paste the link to the project file named as **YYYY-MM-DD_StudentName_Project12** in the URL box and then click on the **Submit** button.\n",
        "\n",
        "   <img src='https://student-datasets-bucket.s3.ap-south-1.amazonaws.com/images/project-share-images/9_enter_project_url.png' width=800>\n"
      ]
    },
    {
      "cell_type": "markdown",
      "metadata": {
        "id": "Qg81Qbt0y7IM"
      },
      "source": [
        "---"
      ]
    }
  ]
}