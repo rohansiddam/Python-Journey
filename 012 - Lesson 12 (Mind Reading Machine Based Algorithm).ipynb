{
  "nbformat": 4,
  "nbformat_minor": 0,
  "metadata": {
    "colab": {
      "provenance": [],
      "include_colab_link": true
    },
    "kernelspec": {
      "name": "python3",
      "display_name": "Python 3"
    }
  },
  "cells": [
    {
      "cell_type": "markdown",
      "metadata": {
        "id": "view-in-github",
        "colab_type": "text"
      },
      "source": [
        "<a href=\"https://colab.research.google.com/github/rohansiddam/Python-Journey/blob/main/012%20-%20Lesson%2012%20(Mind%20Reading%20Machine%20Based%20Algorithm).ipynb\" target=\"_parent\"><img src=\"https://colab.research.google.com/assets/colab-badge.svg\" alt=\"Open In Colab\"/></a>"
      ]
    },
    {
      "cell_type": "markdown",
      "metadata": {
        "id": "gGOahF4k7-t2"
      },
      "source": [
        "# Lesson 12: Mind Reading Machine Based Algorithm"
      ]
    },
    {
      "cell_type": "markdown",
      "metadata": {
        "id": "FeyN19o4gC_P"
      },
      "source": [
        "### Teacher-Student Activities\n",
        "\n",
        "\n",
        "In the previous class, we completed half of Claude Shannon's \"A Mind Reading Machine\" based algorithm.\n",
        "\n",
        "\n",
        "As a quick recap, in this algorithm:\n",
        "\n",
        "1. The computer looks for certain patterns in the player inputs (`Heads` or `Tails`) and tries to remember them. Furthermore, it assumes that the player will follow these patterns the next time if the same situation arises.\n",
        "\n",
        "2. If an assumed pattern is not repeated at least twice by the player, the machine predicts `Heads` or `Tails` randomly.\n",
        "\n",
        "The types of patterns remembered, involve the outcome of two successive plays, i.e., whether or not the player won on those plays and whether the player changed their choice between the plays and after the plays.\n",
        "\n",
        "There are 8 possible situations and, for each situation, a player can do two things. These 8 situations are:\n",
        "\n",
        "1. The player **wins**, plays the **same** and **wins** again. The player then plays the same or plays differently.\n",
        "\n",
        "2. The player **wins**, plays the **same** and **loses**. The player then plays the same or plays differently.\n",
        "\n",
        "3. The player **wins**, plays **differently** and **wins** again. The player then plays the same or plays differently.\n",
        "\n",
        "4. The player **wins**, plays **differently** and **loses**. The player then plays the same or plays differently.\n",
        "\n",
        "5. The player **loses**, plays the **same** and **wins**. The player then plays the same or plays differently.\n",
        "\n",
        "6. The player **loses**, plays the **same** and **loses** again. The player then plays the same or plays differently.\n",
        "\n",
        "7. The player **loses**, plays **differently** and **wins**. The player then plays the same or plays differently.\n",
        "\n",
        "8. The player **loses**, plays **differently** and **loses** again. The player then plays the same or plays differently.\n",
        "\n",
        "Each situation corresponds to a different cell in the memory of a machine. Within a cell, two events are registered:\n",
        "\n",
        "1. Whether the last time this situation arose, the player played the same or different.\n",
        "\n",
        "2. Whether or not the behaviour indicated in the first point, was a repeat of the same behaviour in the preceding situation.\n",
        "\n",
        "We created a three-dimensional NumPy array having 2 blocks, 2 rows and 2 columns to keep track of the last two player inputs and the current player input.\n",
        "\n",
        "```\n",
        "[[[0, 0],\n",
        "  [0, 0]],\n",
        "\n",
        " [[0, 0],\n",
        "  [0, 0]]]\n",
        "```\n",
        "\n",
        "So, for a combination of the last two player inputs and the current player input, if a situation is repeated then we will store `1` in the second column of the array otherwise, we will store `0`.\n",
        "\n",
        "Let's quickly run the codes for the activities that were covered in the last class and begin this class from **Activity 1: The `update_scores()` Function**"
      ]
    },
    {
      "cell_type": "markdown",
      "metadata": {
        "id": "l_ahJm30UqfP"
      },
      "source": [
        "---"
      ]
    },
    {
      "cell_type": "markdown",
      "metadata": {
        "id": "6D8fIaMVC6dM"
      },
      "source": [
        "#### Last Two Players Inputs\n",
        "\n",
        "The `last_1` and `last_2` variables keep track of the last two inputs of a player."
      ]
    },
    {
      "cell_type": "code",
      "metadata": {
        "id": "HoQ6NypDBUaO"
      },
      "source": [
        "# Create two variables; 'last_1' and 'last_2' with 0 as their initial values.\n",
        "last_1 = 0\n",
        "last_2 = 0"
      ],
      "execution_count": null,
      "outputs": []
    },
    {
      "cell_type": "markdown",
      "metadata": {
        "id": "M6zlCpmnxc8L"
      },
      "source": [
        "\n",
        "- `last_1` stores the last player input.\n",
        "\n",
        "- `last_2` stores the second-last player input.\n"
      ]
    },
    {
      "cell_type": "markdown",
      "metadata": {
        "id": "nYg8ypDcMCnt"
      },
      "source": [
        "\n",
        "\n",
        "---"
      ]
    },
    {
      "cell_type": "markdown",
      "metadata": {
        "id": "N3o05TxC_u4b"
      },
      "source": [
        "#### The `inputs` Array"
      ]
    },
    {
      "cell_type": "code",
      "metadata": {
        "id": "rRxf3tCIAMUZ",
        "colab": {
          "base_uri": "https://localhost:8080/"
        },
        "outputId": "a46f5476-d1cd-450f-8e5c-ef9bfa9627a0"
      },
      "source": [
        "# Create a 3D NumPy array of size (2, 2, 2) whose all the elements are 0.\n",
        "import numpy as np\n",
        "\n",
        "inputs = np.zeros(shape=(2, 2, 2), dtype=int)\n",
        "inputs"
      ],
      "execution_count": null,
      "outputs": [
        {
          "output_type": "execute_result",
          "data": {
            "text/plain": [
              "array([[[0, 0],\n",
              "        [0, 0]],\n",
              "\n",
              "       [[0, 0],\n",
              "        [0, 0]]])"
            ]
          },
          "metadata": {},
          "execution_count": 2
        }
      ]
    },
    {
      "cell_type": "markdown",
      "metadata": {
        "id": "UdJPOfrTaLvx"
      },
      "source": [
        "The `inputs` array acts as a memory for the Mind Reader game.\n",
        "\n",
        "- The first column (`column_index = 0`) of the `inputs` array will store the current player input.\n",
        "\n",
        "- The second column (`column_index = 1`) will store whether a situation (out of the 8 possible situations) is repeated or not. The 8 possible situations are:\n",
        "\n",
        "|Situation|Second-Last Play|Last Play|Current Player Input|\n",
        "|-|-|-|-|\n",
        "|1.|`0`|`0`|`0`|\n",
        "|2.|`0`|`0`|`1`|\n",
        "|3.|`0`|`1`|`0`|\n",
        "|4.|`0`|`1`|`1`|\n",
        "|5.|`1`|`0`|`0`|\n",
        "|6.|`1`|`0`|`1`|\n",
        "|7.|`1`|`1`|`0`|\n",
        "|8.|`1`|`1`|`1`|\n",
        "\n",
        "where `0` denotes `Heads` and `1` denotes `Tails`.\n",
        "\n",
        "The blocks in the `inputs` array denote the second-last play.\n",
        "\n",
        "- If `last_2 = 0`, then the `last_1` value will go to the first/second row of the **first** block.\n",
        "\n",
        "- If `last_2 = 1`, then the `last_1` value will go to the first/second row of the **second** block.\n",
        "\n",
        "<img src = 'https://student-datasets-bucket.s3.ap-south-1.amazonaws.com/images/inputs_array.png' width=600>\n",
        "\n",
        "At a time, the **current player input** will either go to the first block or second block because the second-last play would either be `0` or `1`.\n",
        "\n",
        "Here are the possible ways in which the current player inputs will be recorded in the first block.\n",
        "\n",
        "1. All the items in the first column are `0`.\n",
        "\n",
        "  ```\n",
        "  [[0, is_a_repeat],\n",
        "    [0, is_a_repeat]]\n",
        "  ```\n",
        "\n",
        "2. The item in the first row and first column is `0` but the item in the second row and the first column is `1`.\n",
        "\n",
        "  ```\n",
        "  [[0, is_a_repeat],\n",
        "    [1, is_a_repeat]]\n",
        "  ```\n",
        "\n",
        "3. The item in the first row and first column is `1` but the item in the second row and the first column is `0`.\n",
        "\n",
        "  ```\n",
        "  [[1, is_a_repeat],\n",
        "    [0, is_a_repeat]]\n",
        "  ```\n",
        "\n",
        "4. All the items in the first column are `1`.\n",
        "\n",
        "  ```\n",
        "  [[1, is_a_repeat],\n",
        "    [1, is_a_repeat]]\n",
        "  ```\n",
        "\n",
        "The value of `is_a_repeat` is either `0` or `1`.\n",
        "\n",
        "  - The value `0` or `1` in the first column represents whether the player played `Heads` or `Tails`, respectively, in the last attempt.\n",
        "  \n",
        "  - The value `0` or `1` in the second column represents whether a situation (a combination of `last_2, last_1` and current player input) is repeated or not. The value `0` means the situation is NOT repeated and `1` means the situation is repeated.\n",
        "\n",
        "The second block will also have the exact same possibilities."
      ]
    },
    {
      "cell_type": "markdown",
      "metadata": {
        "id": "uwQW2KgKcu6B"
      },
      "source": [
        "---"
      ]
    },
    {
      "cell_type": "markdown",
      "metadata": {
        "id": "Vfeuw23lVCxW"
      },
      "source": [
        "#### The `update_inputs()` Function\n",
        "\n",
        "Update the entries of the `inputs` array by creating the `update_inputs()` function. It should take `current` player input as an input and should not return anything. It should just update the player inputs in the `inputs` array.\n",
        "\n",
        "For a row in a block, if an item in the $1^{st}$ column is the same as the `current` player input, then set the value in the $2^{nd}$ column equal to `1`, and set the value in the $1^{st}$ column equal to the `current` player input.\n",
        "\n",
        "```\n",
        "if inputs[last_2][last_1][0] == current:\n",
        "    inputs[last_2][last_1][1] = 1\n",
        "    inputs[last_2][last_1][0] = current\n",
        "```\n",
        "\n",
        "Otherwise, set the value in the $2^{nd}$ column equal to `0` and set the value in the $1^{st}$ column equal to the `current` value.\n",
        "\n",
        "```\n",
        "inputs[last_2][last_1][1] = 0\n",
        "    inputs[last_2][last_1][0] = current\n",
        "```\n",
        "\n",
        "Then, the `current` value should become the `last_1` value and the `last_1` value should become the `last_2` value.\n",
        "\n",
        "```\n",
        "  last_2 = last_1\n",
        "  last_1 = current\n",
        "```"
      ]
    },
    {
      "cell_type": "code",
      "metadata": {
        "id": "Dms5n1NhMZAi"
      },
      "source": [
        "# Create the 'update_inputs()' function.\n",
        "def update_inputs(current):\n",
        "  global last_2,last_1\n",
        "  if inputs[last_2][last_1][0] == current:\n",
        "    inputs[last_2][last_1][1] = 1\n",
        "    inputs[last_2][last_1][0] = current\n",
        "  else:\n",
        "    inputs[last_2][last_1][1] = 0\n",
        "    inputs[last_2][last_1][0] = current\n",
        "\n",
        "  last_2 = last_1\n",
        "  last_1 = current"
      ],
      "execution_count": null,
      "outputs": []
    },
    {
      "cell_type": "markdown",
      "metadata": {
        "id": "KwG1KuUsc2iP"
      },
      "source": [
        "---"
      ]
    },
    {
      "cell_type": "markdown",
      "metadata": {
        "id": "cTIIPwaQYse1"
      },
      "source": [
        "#### The `prediction()` Function\n",
        "\n",
        "Create the `prediction()` function to allow a computer to make predictions based on the player inputs in the last two plays.\n",
        "\n",
        "For a row in a block, if the value in the $2^{nd}$ column is `1`, then the `prediction()` function should return the item stored in the $1^{st}$ column as the predicted value.\n",
        "\n",
        "```\n",
        "if inputs[last_2][last_1][1] == 1:\n",
        "    predict = inputs[last_2][last_1][0]\n",
        "```\n",
        "\n",
        "Else, either return `0` or `1` randomly as the predicted value.\n",
        "\n",
        "```\n",
        "else:\n",
        "    predict = random.randint(0, 1)\n",
        "```\n",
        "\n",
        "Essentially, if the item in the second column is `1`, then return the item stored in the first column as the predicted value. Else, predict `0` or `1` randomly."
      ]
    },
    {
      "cell_type": "code",
      "metadata": {
        "id": "vDJJRnrjKaEC"
      },
      "source": [
        "# Create the 'prediction()' function which returns the predicted value.\n",
        "import random\n",
        "def prediction():\n",
        "  if inputs[last_2][last_1][1] == 1:\n",
        "    predict = inputs[last_2][last_1][0]\n",
        "  else:\n",
        "    predict = random.randint(0, 1)\n",
        "  return predict"
      ],
      "execution_count": null,
      "outputs": []
    },
    {
      "cell_type": "markdown",
      "metadata": {
        "id": "ipMiJfsTc4h4"
      },
      "source": [
        "---"
      ]
    },
    {
      "cell_type": "markdown",
      "metadata": {
        "id": "ETmWmRMHhrvc"
      },
      "source": [
        "#### Activity 1: The `update_scores()` Function\n",
        "\n",
        "Next, we need to create the `update_scores()` function that we created in the first few classes. It should take the `predicted` and the current `player_input` values as an input and then update the scores for both the computer and the player at every player input. It should also print the current scores at every player input.\n",
        "\n",
        "To keep the scores, instead of creating two separate variables for the computer and the player, we will create a list. *The first item in the list will represent the computer score and the second item will represent the player score.*\n",
        "\n",
        "Initially, both the items in the `scores` list will be zero. At every player input, the scores should get updated."
      ]
    },
    {
      "cell_type": "code",
      "metadata": {
        "id": "Wlomn5gAhrgG"
      },
      "source": [
        "# Student Action: Create the 'update_scores()' function to keep the scores for both the computer and the player. It should not return anything.\n",
        "scores = [0,0] # First number is for the computer score, the second number is for the player score.\n",
        "def update_scores (predicted, player_input):\n",
        "  if predicted == player_input:\n",
        "    scores[0] = scores[0] + 1\n",
        "  else:\n",
        "    scores[1] = scores[1] + 1\n",
        "  print(\"Computer score is equal to \",scores[0],\" and the player score is equal to \", scores[1])"
      ],
      "execution_count": null,
      "outputs": []
    },
    {
      "cell_type": "markdown",
      "metadata": {
        "id": "IYuskDGYjiSp"
      },
      "source": [
        "---"
      ]
    },
    {
      "cell_type": "markdown",
      "metadata": {
        "id": "iGRn-kJmDqZe"
      },
      "source": [
        "#### Activity 2: The `reset()` Function^^\n",
        "\n",
        "Now let's create a function which resets the `inputs` array items and `scores` list to `0`. The `inputs` array values and the `scores` list values must be reset to `0` before a player plays the game again. Otherwise, it will not be a fair game to the player.\n",
        "\n",
        "Moreover, if a player stops playing the game before finishing it, then also the `inputs` array and the `scores` list will have some values stored in it. So, before restarting the game, the `inputs` array values and the `scores` values must be reset to zero."
      ]
    },
    {
      "cell_type": "code",
      "metadata": {
        "id": "33rHBuc1L7Ww"
      },
      "source": [
        "# Student Action: Create the 'reset()' function which resets the values of the 'inputs' items to 0.\n",
        "def reset():\n",
        "  for i in range(len(scores)):\n",
        "    scores[i] = 0\n",
        "  last_1 = 0\n",
        "  last_2 = 0\n",
        "  for i in range(2):\n",
        "    for j in range(2):\n",
        "      for k in range(2):\n",
        "        inputs[i][j][k] = 0"
      ],
      "execution_count": null,
      "outputs": []
    },
    {
      "cell_type": "markdown",
      "metadata": {
        "id": "ICN5SalGIKoI"
      },
      "source": [
        "---"
      ]
    },
    {
      "cell_type": "markdown",
      "metadata": {
        "id": "JuHGxZn9aXJI"
      },
      "source": [
        "#### Activity 3: Putting Everything Together^\n",
        "\n",
        "Now put all the components of the Mind Reader game algorithm in one place."
      ]
    },
    {
      "cell_type": "code",
      "metadata": {
        "id": "1k22BieyBUCl"
      },
      "source": [
        "# Student Action: Put all the functions and variables of the Mind Reader game algorithm here.\n",
        "import numpy as np\n",
        "import random\n",
        "last_1 = 0\n",
        "last_2 = 0\n",
        "scores = [0,0] # First number is for the computer score, the second number is for the player score.\n",
        "inputs = np.zeros(shape=(2, 2, 2), dtype=int)\n",
        "inputs\n",
        "def reset():\n",
        "  for i in range(len(scores)):\n",
        "    scores[i] = 0\n",
        "  last_1 = 0\n",
        "  last_2 = 0\n",
        "  for i in range(2):\n",
        "    for j in range(2):\n",
        "      for k in range(2):\n",
        "        inputs[i][j][k] = 0\n",
        "def update_scores (predicted, player_input):\n",
        "  if predicted == player_input:\n",
        "    scores[0] = scores[0] + 1\n",
        "  else:\n",
        "    scores[1] = scores[1] + 1\n",
        "  print(\"Computer score is equal to \",scores[0],\" and the player score is equal to \", scores[1])\n",
        "def prediction():\n",
        "  if inputs[last_2][last_1][1] == 1:\n",
        "    predict = inputs[last_2][last_1][0]\n",
        "  else:\n",
        "    predict = random.randint(0, 1)\n",
        "  return predict\n",
        "def update_inputs(current):\n",
        "  global last_2,last_1\n",
        "  if inputs[last_2][last_1][0] == current:\n",
        "    inputs[last_2][last_1][1] = 1\n",
        "    inputs[last_2][last_1][0] = current\n",
        "  else:\n",
        "    inputs[last_2][last_1][1] = 0\n",
        "    inputs[last_2][last_1][0] = current\n",
        "\n",
        "  last_2 = last_1\n",
        "  last_1 = current"
      ],
      "execution_count": null,
      "outputs": []
    },
    {
      "cell_type": "code",
      "source": [
        "len(inputs)"
      ],
      "metadata": {
        "colab": {
          "base_uri": "https://localhost:8080/"
        },
        "id": "BcgKXCnaT4Tj",
        "outputId": "c5615620-8c61-42ba-ee2e-9298b271d38c"
      },
      "execution_count": null,
      "outputs": [
        {
          "output_type": "execute_result",
          "data": {
            "text/plain": [
              "2"
            ]
          },
          "metadata": {},
          "execution_count": 25
        }
      ]
    },
    {
      "cell_type": "code",
      "source": [
        "a = 1\n",
        "a = a + 1\n",
        "a += 1"
      ],
      "metadata": {
        "id": "sc5UssqsUHsG"
      },
      "execution_count": null,
      "outputs": []
    },
    {
      "cell_type": "code",
      "source": [
        "my_list = [1,2,3,4,5,6,7,8,9]\n",
        "len(my_list)"
      ],
      "metadata": {
        "colab": {
          "base_uri": "https://localhost:8080/"
        },
        "id": "L3l4Qhy3Tp65",
        "outputId": "fc96653d-b73c-4246-9aa1-93abf95fb242"
      },
      "execution_count": null,
      "outputs": [
        {
          "output_type": "execute_result",
          "data": {
            "text/plain": [
              "9"
            ]
          },
          "metadata": {},
          "execution_count": 24
        }
      ]
    },
    {
      "cell_type": "markdown",
      "metadata": {
        "id": "rmiJ2qcpvHJa"
      },
      "source": [
        "---"
      ]
    },
    {
      "cell_type": "markdown",
      "metadata": {
        "id": "KOeUgF8kvH4q"
      },
      "source": [
        "#### Activity 4: The `gameplay()` Function^^^\n",
        "\n",
        "Now, let's create the `gameplay()` function to run the Mind Reader game. We have used this function many times in earlier classes. There is no major change in it. However, it should first execute the `reset()` function so that whenever a player plays this game again, it should reset the `inputs` values and the `scores` values.\n",
        "\n",
        "\n",
        "For the testing purpose, let's run the Mind Reader game till either the player or the computer has reached a score of 20 points. If we run this game till 50 points, then the testing will take a very long time. Later you can change the scoring to 50 points."
      ]
    },
    {
      "cell_type": "code",
      "metadata": {
        "id": "AdiwBplXCXfK"
      },
      "source": [
        "# Student Action: Create the 'gameplay()' function.\n",
        "def gameplay():\n",
        "  reset()\n",
        "  print(inputs)\n",
        "  print(scores)\n",
        "  valid_entries = ['0','1']\n",
        "  while True:\n",
        "    predicted = prediction()\n",
        "    player_input = input(\"Enter 0 or 1: \")\n",
        "    while player_input not in valid_entries:\n",
        "      print(\"Invalid Input\")\n",
        "      player_input = input(\"Please enter 0 or 1: \")\n",
        "    player_input = int(player_input)\n",
        "    update_inputs(player_input)\n",
        "    update_scores(predicted,player_input)\n",
        "    if scores[0] == 20:\n",
        "      print(\"Bad luck, computer wins!\")\n",
        "      break\n",
        "    elif scores[1] == 20:\n",
        "      print(\"Congrats, you won!\")\n",
        "      break\n"
      ],
      "execution_count": null,
      "outputs": []
    },
    {
      "cell_type": "markdown",
      "metadata": {
        "id": "b7HKTfwQwWnf"
      },
      "source": [
        "Now, run the game by executing the `gameplay()` function."
      ]
    },
    {
      "cell_type": "code",
      "metadata": {
        "id": "PDSE2tF_C129",
        "colab": {
          "base_uri": "https://localhost:8080/"
        },
        "outputId": "ddd80bc1-4262-433a-b091-c8eff1a3bd6e"
      },
      "source": [
        "# Student Action: Run the game by executing the 'gameplay()' function.\n",
        "gameplay()"
      ],
      "execution_count": null,
      "outputs": [
        {
          "output_type": "stream",
          "name": "stdout",
          "text": [
            "[[[0 0]\n",
            "  [0 0]]\n",
            "\n",
            " [[0 0]\n",
            "  [0 0]]]\n",
            "[0, 0]\n",
            "Enter 0 or 1: 5\n",
            "Invalid Input\n",
            "Please enter 0 or 1: 6\n",
            "Invalid Input\n",
            "Please enter 0 or 1: foe\n",
            "Invalid Input\n",
            "Please enter 0 or 1: 1\n",
            "Computer score is equal to  1  and the player score is equal to  0\n",
            "Enter 0 or 1: 1\n",
            "Computer score is equal to  1  and the player score is equal to  1\n",
            "Enter 0 or 1: 1\n",
            "Computer score is equal to  2  and the player score is equal to  1\n",
            "Enter 0 or 1: 0\n",
            "Computer score is equal to  2  and the player score is equal to  2\n",
            "Enter 0 or 1: 0\n",
            "Computer score is equal to  3  and the player score is equal to  2\n",
            "Enter 0 or 1: 0\n",
            "Computer score is equal to  3  and the player score is equal to  3\n",
            "Enter 0 or 1: 2\n",
            "Invalid Input\n",
            "Please enter 0 or 1: 1\n",
            "Computer score is equal to  3  and the player score is equal to  4\n",
            "Enter 0 or 1: 1\n",
            "Computer score is equal to  4  and the player score is equal to  4\n",
            "Enter 0 or 1: 1\n",
            "Computer score is equal to  4  and the player score is equal to  5\n",
            "Enter 0 or 1: 1\n",
            "Computer score is equal to  4  and the player score is equal to  6\n",
            "Enter 0 or 1: 0\n",
            "Computer score is equal to  4  and the player score is equal to  7\n",
            "Enter 0 or 1: 0\n",
            "Computer score is equal to  5  and the player score is equal to  7\n",
            "Enter 0 or 1: 0\n",
            "Computer score is equal to  5  and the player score is equal to  8\n",
            "Enter 0 or 1: 0\n",
            "Computer score is equal to  6  and the player score is equal to  8\n",
            "Enter 0 or 1: 0\n",
            "Computer score is equal to  7  and the player score is equal to  8\n",
            "Enter 0 or 1: 0\n",
            "Computer score is equal to  8  and the player score is equal to  8\n",
            "Enter 0 or 1: 0\n",
            "Computer score is equal to  9  and the player score is equal to  8\n",
            "Enter 0 or 1: 1\n",
            "Computer score is equal to  9  and the player score is equal to  9\n",
            "Enter 0 or 1: 1\n",
            "Computer score is equal to  10  and the player score is equal to  9\n",
            "Enter 0 or 1: 0\n",
            "Computer score is equal to  11  and the player score is equal to  9\n",
            "Enter 0 or 1: 1\n",
            "Computer score is equal to  11  and the player score is equal to  10\n",
            "Enter 0 or 1: 0\n",
            "Computer score is equal to  11  and the player score is equal to  11\n",
            "Enter 0 or 1: 0\n",
            "Computer score is equal to  11  and the player score is equal to  12\n",
            "Enter 0 or 1: 1\n",
            "Computer score is equal to  11  and the player score is equal to  13\n",
            "Enter 0 or 1: 1\n",
            "Computer score is equal to  11  and the player score is equal to  14\n",
            "Enter 0 or 1: 0\n",
            "Computer score is equal to  12  and the player score is equal to  14\n",
            "Enter 0 or 1: 0\n",
            "Computer score is equal to  13  and the player score is equal to  14\n",
            "Enter 0 or 1: 0\n",
            "Computer score is equal to  13  and the player score is equal to  15\n",
            "Enter 0 or 1: 0\n",
            "Computer score is equal to  14  and the player score is equal to  15\n",
            "Enter 0 or 1: 1\n",
            "Computer score is equal to  14  and the player score is equal to  16\n",
            "Enter 0 or 1: 1\n",
            "Computer score is equal to  14  and the player score is equal to  17\n",
            "Enter 0 or 1: 1\n",
            "Computer score is equal to  14  and the player score is equal to  18\n",
            "Enter 0 or 1: 1\n",
            "Computer score is equal to  15  and the player score is equal to  18\n",
            "Enter 0 or 1: 1\n",
            "Computer score is equal to  16  and the player score is equal to  18\n",
            "Enter 0 or 1: 0\n",
            "Computer score is equal to  16  and the player score is equal to  19\n",
            "Enter 0 or 1: 0\n",
            "Computer score is equal to  17  and the player score is equal to  19\n",
            "Enter 0 or 1: 0\n",
            "Computer score is equal to  18  and the player score is equal to  19\n",
            "Enter 0 or 1: 0\n",
            "Computer score is equal to  18  and the player score is equal to  20\n",
            "Congrats, you won!\n"
          ]
        }
      ]
    },
    {
      "cell_type": "markdown",
      "metadata": {
        "id": "HMGBOxI_FAmk"
      },
      "source": [
        "Finally, we have implemented the algorithm for the Mind Reader game which you played in the trial class to allow a computer to predict a player's next move accurately."
      ]
    },
    {
      "cell_type": "markdown",
      "metadata": {
        "id": "YigbTCM4QXVr"
      },
      "source": [
        "---"
      ]
    },
    {
      "cell_type": "markdown",
      "metadata": {
        "id": "3NnMqPnHNIAg"
      },
      "source": [
        "### **Project**\n",
        "\n",
        "You can now attempt the **Project 12 - Claude Shannon Algorithm II** on your own.\n",
        "\n",
        "\n",
        "**Project 12 - Claude Shannon Algorithm II**: https://colab.research.google.com/drive/1py225qDjnGFokkG1PitXA7i4lchXnc-Z"
      ]
    },
    {
      "cell_type": "code",
      "source": [
        "*\n",
        "* *\n",
        "* * *\n",
        "* * * *\n",
        "* * * * *"
      ],
      "metadata": {
        "id": "Z9ZOG_8hHLQE"
      },
      "execution_count": null,
      "outputs": []
    },
    {
      "cell_type": "code",
      "source": [
        "i = 0\n",
        "while i <= 5:\n",
        "  print(\"* \" * i)\n",
        "  i += 1"
      ],
      "metadata": {
        "id": "nBxU6GS4HO18",
        "colab": {
          "base_uri": "https://localhost:8080/"
        },
        "outputId": "fde3f468-90b2-4767-f9ab-8a58a15a8f89"
      },
      "execution_count": null,
      "outputs": [
        {
          "output_type": "stream",
          "name": "stdout",
          "text": [
            "\n",
            "* \n",
            "* * \n",
            "* * * \n",
            "* * * * \n",
            "* * * * * \n"
          ]
        }
      ]
    },
    {
      "cell_type": "code",
      "source": [
        "print(\"*\" * 5)"
      ],
      "metadata": {
        "colab": {
          "base_uri": "https://localhost:8080/"
        },
        "id": "xJLKyuMcWPMU",
        "outputId": "4032bf0d-9643-43d7-aa11-b30c4ffdd606"
      },
      "execution_count": null,
      "outputs": [
        {
          "output_type": "stream",
          "name": "stdout",
          "text": [
            "*****\n"
          ]
        }
      ]
    },
    {
      "cell_type": "code",
      "source": [
        "        *\n",
        "      * *\n",
        "    * * *\n",
        "  * * * *\n",
        "* * * * *"
      ],
      "metadata": {
        "id": "x026IbGgHZOJ"
      },
      "execution_count": null,
      "outputs": []
    },
    {
      "cell_type": "code",
      "source": [
        "j = 0\n",
        "k = 5\n",
        "while j <= 5:\n",
        "  print(\" \" * k, \"*\" * j)\n",
        "  j += 1\n",
        "  k -= 1"
      ],
      "metadata": {
        "id": "wWHPncm4Hqod",
        "colab": {
          "base_uri": "https://localhost:8080/"
        },
        "outputId": "20e27bc3-7691-44ac-812d-14f4c85b24fd"
      },
      "execution_count": null,
      "outputs": [
        {
          "output_type": "stream",
          "name": "stdout",
          "text": [
            "      \n",
            "     *\n",
            "    **\n",
            "   ***\n",
            "  ****\n",
            " *****\n"
          ]
        }
      ]
    },
    {
      "cell_type": "markdown",
      "metadata": {
        "id": "jIslTGoeNFZG"
      },
      "source": [
        "---\n"
      ]
    }
  ]
}