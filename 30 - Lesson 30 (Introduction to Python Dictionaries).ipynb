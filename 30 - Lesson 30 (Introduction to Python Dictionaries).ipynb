{
  "nbformat": 4,
  "nbformat_minor": 0,
  "metadata": {
    "colab": {
      "provenance": [],
      "include_colab_link": true
    },
    "kernelspec": {
      "name": "python3",
      "display_name": "Python 3"
    }
  },
  "cells": [
    {
      "cell_type": "markdown",
      "metadata": {
        "id": "view-in-github",
        "colab_type": "text"
      },
      "source": [
        "<a href=\"https://colab.research.google.com/github/rohansiddam/Python-Journey/blob/main/30%20-%20Lesson%2030%20(Introduction%20to%20Python%20Dictionaries).ipynb\" target=\"_parent\"><img src=\"https://colab.research.google.com/assets/colab-badge.svg\" alt=\"Open In Colab\"/></a>"
      ]
    },
    {
      "cell_type": "markdown",
      "metadata": {
        "id": "reRBe_cVB1Kq"
      },
      "source": [
        "# Lesson 30: Introduction to Python Dictionaries\n",
        "\n"
      ]
    },
    {
      "cell_type": "markdown",
      "metadata": {
        "id": "NAvjWIuwe-A9"
      },
      "source": [
        "### Teacher-Student Activities\n",
        "\n",
        "In the previous classes, you have used a CSV file to explore data, clean it and analyse it for the respective problem statements. Today, you will learn how you can create a CSV using Pandas DataFrame. Later you use the same CSV file to do your work either in Google Sheets or Microsoft Excel or in some other spreadsheet processing software. In the process, we will also learn another data-structure called Python dictionaries which becomes an integral data-structure in the domain of data engineering (to acquire the raw data in real-time or non-real-time and make it usable by structuring and organising it) and data analysis.\n",
        "\n",
        "So far, you learnt about Python lists in detail and Python tuples very briefly. From this class onwards, you will learn about a Python dictionary and its usefulness in terms of data storage."
      ]
    },
    {
      "cell_type": "markdown",
      "metadata": {
        "id": "MxZGned78BUo"
      },
      "source": [
        "---"
      ]
    },
    {
      "cell_type": "markdown",
      "metadata": {
        "id": "a56GqbMXlwRU"
      },
      "source": [
        "#### Activity 1: Python Dictionary\n",
        "\n",
        "Let's quickly create a CSV file from a Python dictionary. Then, we will learn it in detail. The CSV file should contain five columns namely `\"linear\", \"squared\", \"cubed\"` and `\"power_of_two\"`. Each of these columns should contain the corresponding values between 1 to 100 such that\n",
        "\n",
        "- The `\"linear\"` column contains the first 100 natural numbers.\n",
        "\n",
        "- The `\"squared\"` column contains the squares of the first 100 natural numbers.\n",
        "\n",
        "- The `\"cubed\"` column contains the cubes of the first 100 natural numbers.\n",
        "\n",
        "- The `\"power_of_two\"` column contains the values which are two raised to the power of the first 100 natural numbers."
      ]
    },
    {
      "cell_type": "code",
      "metadata": {
        "id": "znDLWJ3UmQCe"
      },
      "source": [
        "# Student Action: Write the codes as directed below.\n",
        "new_dict = {\n",
        "    \"linear\" :[i for i in range(101)] , # Create a Python list containing the first 100 natural numbers.\n",
        "    \"squared\" :[i**2 for i in range(101)] , # Create a Python list containing the squares of the first 100 natural numbers.\n",
        "    \"cubed\" : [i**3 for i in range(101)], # Create a Python list containing the cubes of the first 100 natural numbers\n",
        "    \"power_of_two\" : [2**i for i in range(101)] # Create a Python list containing the powers of the two of the first 100 natural numbers\n",
        "}"
      ],
      "execution_count": null,
      "outputs": []
    },
    {
      "cell_type": "code",
      "source": [
        "new_dict"
      ],
      "metadata": {
        "colab": {
          "base_uri": "https://localhost:8080/"
        },
        "id": "3HiD7U_Kga01",
        "outputId": "f395e4c9-fc80-4171-db3d-4a2a913f52fb"
      },
      "execution_count": null,
      "outputs": [
        {
          "output_type": "execute_result",
          "data": {
            "text/plain": [
              "{'cubed': [0,\n",
              "  1,\n",
              "  8,\n",
              "  27,\n",
              "  64,\n",
              "  125,\n",
              "  216,\n",
              "  343,\n",
              "  512,\n",
              "  729,\n",
              "  1000,\n",
              "  1331,\n",
              "  1728,\n",
              "  2197,\n",
              "  2744,\n",
              "  3375,\n",
              "  4096,\n",
              "  4913,\n",
              "  5832,\n",
              "  6859,\n",
              "  8000,\n",
              "  9261,\n",
              "  10648,\n",
              "  12167,\n",
              "  13824,\n",
              "  15625,\n",
              "  17576,\n",
              "  19683,\n",
              "  21952,\n",
              "  24389,\n",
              "  27000,\n",
              "  29791,\n",
              "  32768,\n",
              "  35937,\n",
              "  39304,\n",
              "  42875,\n",
              "  46656,\n",
              "  50653,\n",
              "  54872,\n",
              "  59319,\n",
              "  64000,\n",
              "  68921,\n",
              "  74088,\n",
              "  79507,\n",
              "  85184,\n",
              "  91125,\n",
              "  97336,\n",
              "  103823,\n",
              "  110592,\n",
              "  117649,\n",
              "  125000,\n",
              "  132651,\n",
              "  140608,\n",
              "  148877,\n",
              "  157464,\n",
              "  166375,\n",
              "  175616,\n",
              "  185193,\n",
              "  195112,\n",
              "  205379,\n",
              "  216000,\n",
              "  226981,\n",
              "  238328,\n",
              "  250047,\n",
              "  262144,\n",
              "  274625,\n",
              "  287496,\n",
              "  300763,\n",
              "  314432,\n",
              "  328509,\n",
              "  343000,\n",
              "  357911,\n",
              "  373248,\n",
              "  389017,\n",
              "  405224,\n",
              "  421875,\n",
              "  438976,\n",
              "  456533,\n",
              "  474552,\n",
              "  493039,\n",
              "  512000,\n",
              "  531441,\n",
              "  551368,\n",
              "  571787,\n",
              "  592704,\n",
              "  614125,\n",
              "  636056,\n",
              "  658503,\n",
              "  681472,\n",
              "  704969,\n",
              "  729000,\n",
              "  753571,\n",
              "  778688,\n",
              "  804357,\n",
              "  830584,\n",
              "  857375,\n",
              "  884736,\n",
              "  912673,\n",
              "  941192,\n",
              "  970299,\n",
              "  1000000],\n",
              " 'linear': [0,\n",
              "  1,\n",
              "  2,\n",
              "  3,\n",
              "  4,\n",
              "  5,\n",
              "  6,\n",
              "  7,\n",
              "  8,\n",
              "  9,\n",
              "  10,\n",
              "  11,\n",
              "  12,\n",
              "  13,\n",
              "  14,\n",
              "  15,\n",
              "  16,\n",
              "  17,\n",
              "  18,\n",
              "  19,\n",
              "  20,\n",
              "  21,\n",
              "  22,\n",
              "  23,\n",
              "  24,\n",
              "  25,\n",
              "  26,\n",
              "  27,\n",
              "  28,\n",
              "  29,\n",
              "  30,\n",
              "  31,\n",
              "  32,\n",
              "  33,\n",
              "  34,\n",
              "  35,\n",
              "  36,\n",
              "  37,\n",
              "  38,\n",
              "  39,\n",
              "  40,\n",
              "  41,\n",
              "  42,\n",
              "  43,\n",
              "  44,\n",
              "  45,\n",
              "  46,\n",
              "  47,\n",
              "  48,\n",
              "  49,\n",
              "  50,\n",
              "  51,\n",
              "  52,\n",
              "  53,\n",
              "  54,\n",
              "  55,\n",
              "  56,\n",
              "  57,\n",
              "  58,\n",
              "  59,\n",
              "  60,\n",
              "  61,\n",
              "  62,\n",
              "  63,\n",
              "  64,\n",
              "  65,\n",
              "  66,\n",
              "  67,\n",
              "  68,\n",
              "  69,\n",
              "  70,\n",
              "  71,\n",
              "  72,\n",
              "  73,\n",
              "  74,\n",
              "  75,\n",
              "  76,\n",
              "  77,\n",
              "  78,\n",
              "  79,\n",
              "  80,\n",
              "  81,\n",
              "  82,\n",
              "  83,\n",
              "  84,\n",
              "  85,\n",
              "  86,\n",
              "  87,\n",
              "  88,\n",
              "  89,\n",
              "  90,\n",
              "  91,\n",
              "  92,\n",
              "  93,\n",
              "  94,\n",
              "  95,\n",
              "  96,\n",
              "  97,\n",
              "  98,\n",
              "  99,\n",
              "  100],\n",
              " 'power_of_two': [1,\n",
              "  2,\n",
              "  4,\n",
              "  8,\n",
              "  16,\n",
              "  32,\n",
              "  64,\n",
              "  128,\n",
              "  256,\n",
              "  512,\n",
              "  1024,\n",
              "  2048,\n",
              "  4096,\n",
              "  8192,\n",
              "  16384,\n",
              "  32768,\n",
              "  65536,\n",
              "  131072,\n",
              "  262144,\n",
              "  524288,\n",
              "  1048576,\n",
              "  2097152,\n",
              "  4194304,\n",
              "  8388608,\n",
              "  16777216,\n",
              "  33554432,\n",
              "  67108864,\n",
              "  134217728,\n",
              "  268435456,\n",
              "  536870912,\n",
              "  1073741824,\n",
              "  2147483648,\n",
              "  4294967296,\n",
              "  8589934592,\n",
              "  17179869184,\n",
              "  34359738368,\n",
              "  68719476736,\n",
              "  137438953472,\n",
              "  274877906944,\n",
              "  549755813888,\n",
              "  1099511627776,\n",
              "  2199023255552,\n",
              "  4398046511104,\n",
              "  8796093022208,\n",
              "  17592186044416,\n",
              "  35184372088832,\n",
              "  70368744177664,\n",
              "  140737488355328,\n",
              "  281474976710656,\n",
              "  562949953421312,\n",
              "  1125899906842624,\n",
              "  2251799813685248,\n",
              "  4503599627370496,\n",
              "  9007199254740992,\n",
              "  18014398509481984,\n",
              "  36028797018963968,\n",
              "  72057594037927936,\n",
              "  144115188075855872,\n",
              "  288230376151711744,\n",
              "  576460752303423488,\n",
              "  1152921504606846976,\n",
              "  2305843009213693952,\n",
              "  4611686018427387904,\n",
              "  9223372036854775808,\n",
              "  18446744073709551616,\n",
              "  36893488147419103232,\n",
              "  73786976294838206464,\n",
              "  147573952589676412928,\n",
              "  295147905179352825856,\n",
              "  590295810358705651712,\n",
              "  1180591620717411303424,\n",
              "  2361183241434822606848,\n",
              "  4722366482869645213696,\n",
              "  9444732965739290427392,\n",
              "  18889465931478580854784,\n",
              "  37778931862957161709568,\n",
              "  75557863725914323419136,\n",
              "  151115727451828646838272,\n",
              "  302231454903657293676544,\n",
              "  604462909807314587353088,\n",
              "  1208925819614629174706176,\n",
              "  2417851639229258349412352,\n",
              "  4835703278458516698824704,\n",
              "  9671406556917033397649408,\n",
              "  19342813113834066795298816,\n",
              "  38685626227668133590597632,\n",
              "  77371252455336267181195264,\n",
              "  154742504910672534362390528,\n",
              "  309485009821345068724781056,\n",
              "  618970019642690137449562112,\n",
              "  1237940039285380274899124224,\n",
              "  2475880078570760549798248448,\n",
              "  4951760157141521099596496896,\n",
              "  9903520314283042199192993792,\n",
              "  19807040628566084398385987584,\n",
              "  39614081257132168796771975168,\n",
              "  79228162514264337593543950336,\n",
              "  158456325028528675187087900672,\n",
              "  316912650057057350374175801344,\n",
              "  633825300114114700748351602688,\n",
              "  1267650600228229401496703205376],\n",
              " 'squared': [0,\n",
              "  1,\n",
              "  4,\n",
              "  9,\n",
              "  16,\n",
              "  25,\n",
              "  36,\n",
              "  49,\n",
              "  64,\n",
              "  81,\n",
              "  100,\n",
              "  121,\n",
              "  144,\n",
              "  169,\n",
              "  196,\n",
              "  225,\n",
              "  256,\n",
              "  289,\n",
              "  324,\n",
              "  361,\n",
              "  400,\n",
              "  441,\n",
              "  484,\n",
              "  529,\n",
              "  576,\n",
              "  625,\n",
              "  676,\n",
              "  729,\n",
              "  784,\n",
              "  841,\n",
              "  900,\n",
              "  961,\n",
              "  1024,\n",
              "  1089,\n",
              "  1156,\n",
              "  1225,\n",
              "  1296,\n",
              "  1369,\n",
              "  1444,\n",
              "  1521,\n",
              "  1600,\n",
              "  1681,\n",
              "  1764,\n",
              "  1849,\n",
              "  1936,\n",
              "  2025,\n",
              "  2116,\n",
              "  2209,\n",
              "  2304,\n",
              "  2401,\n",
              "  2500,\n",
              "  2601,\n",
              "  2704,\n",
              "  2809,\n",
              "  2916,\n",
              "  3025,\n",
              "  3136,\n",
              "  3249,\n",
              "  3364,\n",
              "  3481,\n",
              "  3600,\n",
              "  3721,\n",
              "  3844,\n",
              "  3969,\n",
              "  4096,\n",
              "  4225,\n",
              "  4356,\n",
              "  4489,\n",
              "  4624,\n",
              "  4761,\n",
              "  4900,\n",
              "  5041,\n",
              "  5184,\n",
              "  5329,\n",
              "  5476,\n",
              "  5625,\n",
              "  5776,\n",
              "  5929,\n",
              "  6084,\n",
              "  6241,\n",
              "  6400,\n",
              "  6561,\n",
              "  6724,\n",
              "  6889,\n",
              "  7056,\n",
              "  7225,\n",
              "  7396,\n",
              "  7569,\n",
              "  7744,\n",
              "  7921,\n",
              "  8100,\n",
              "  8281,\n",
              "  8464,\n",
              "  8649,\n",
              "  8836,\n",
              "  9025,\n",
              "  9216,\n",
              "  9409,\n",
              "  9604,\n",
              "  9801,\n",
              "  10000]}"
            ]
          },
          "metadata": {},
          "execution_count": 2
        }
      ]
    },
    {
      "cell_type": "markdown",
      "metadata": {
        "id": "we219QOyDBU5"
      },
      "source": [
        "---"
      ]
    },
    {
      "cell_type": "markdown",
      "metadata": {
        "id": "kNj4Z0ppDCHW"
      },
      "source": [
        "#### Activity 2: The `from_dict()` Function\n",
        "\n",
        "Now, let's convert the above dictionary into a Pandas DataFrame using the `from_dict()` function. To apply this function, you have to use the following syntax.\n",
        "\n",
        "**Syntax:** `pd.DataFrame.from_dict(some_dictionary)`"
      ]
    },
    {
      "cell_type": "code",
      "metadata": {
        "id": "t0mLxCI9mZjv",
        "colab": {
          "base_uri": "https://localhost:8080/",
          "height": 424
        },
        "outputId": "f1f1d0c3-63c0-485a-eea6-9f35541c2151"
      },
      "source": [
        "# Student Action: Create a Pandas DataFrame using the 'new_dict' dictionary by applying the 'from_dict()' function.\n",
        "import pandas as pd\n",
        "new_df = pd.DataFrame.from_dict(new_dict)\n",
        "new_df"
      ],
      "execution_count": null,
      "outputs": [
        {
          "output_type": "execute_result",
          "data": {
            "text/plain": [
              "     linear  squared    cubed                     power_of_two\n",
              "0         0        0        0                                1\n",
              "1         1        1        1                                2\n",
              "2         2        4        8                                4\n",
              "3         3        9       27                                8\n",
              "4         4       16       64                               16\n",
              "..      ...      ...      ...                              ...\n",
              "96       96     9216   884736    79228162514264337593543950336\n",
              "97       97     9409   912673   158456325028528675187087900672\n",
              "98       98     9604   941192   316912650057057350374175801344\n",
              "99       99     9801   970299   633825300114114700748351602688\n",
              "100     100    10000  1000000  1267650600228229401496703205376\n",
              "\n",
              "[101 rows x 4 columns]"
            ],
            "text/html": [
              "\n",
              "  <div id=\"df-9f21797a-326d-4957-a4f1-cfe38d336bc3\">\n",
              "    <div class=\"colab-df-container\">\n",
              "      <div>\n",
              "<style scoped>\n",
              "    .dataframe tbody tr th:only-of-type {\n",
              "        vertical-align: middle;\n",
              "    }\n",
              "\n",
              "    .dataframe tbody tr th {\n",
              "        vertical-align: top;\n",
              "    }\n",
              "\n",
              "    .dataframe thead th {\n",
              "        text-align: right;\n",
              "    }\n",
              "</style>\n",
              "<table border=\"1\" class=\"dataframe\">\n",
              "  <thead>\n",
              "    <tr style=\"text-align: right;\">\n",
              "      <th></th>\n",
              "      <th>linear</th>\n",
              "      <th>squared</th>\n",
              "      <th>cubed</th>\n",
              "      <th>power_of_two</th>\n",
              "    </tr>\n",
              "  </thead>\n",
              "  <tbody>\n",
              "    <tr>\n",
              "      <th>0</th>\n",
              "      <td>0</td>\n",
              "      <td>0</td>\n",
              "      <td>0</td>\n",
              "      <td>1</td>\n",
              "    </tr>\n",
              "    <tr>\n",
              "      <th>1</th>\n",
              "      <td>1</td>\n",
              "      <td>1</td>\n",
              "      <td>1</td>\n",
              "      <td>2</td>\n",
              "    </tr>\n",
              "    <tr>\n",
              "      <th>2</th>\n",
              "      <td>2</td>\n",
              "      <td>4</td>\n",
              "      <td>8</td>\n",
              "      <td>4</td>\n",
              "    </tr>\n",
              "    <tr>\n",
              "      <th>3</th>\n",
              "      <td>3</td>\n",
              "      <td>9</td>\n",
              "      <td>27</td>\n",
              "      <td>8</td>\n",
              "    </tr>\n",
              "    <tr>\n",
              "      <th>4</th>\n",
              "      <td>4</td>\n",
              "      <td>16</td>\n",
              "      <td>64</td>\n",
              "      <td>16</td>\n",
              "    </tr>\n",
              "    <tr>\n",
              "      <th>...</th>\n",
              "      <td>...</td>\n",
              "      <td>...</td>\n",
              "      <td>...</td>\n",
              "      <td>...</td>\n",
              "    </tr>\n",
              "    <tr>\n",
              "      <th>96</th>\n",
              "      <td>96</td>\n",
              "      <td>9216</td>\n",
              "      <td>884736</td>\n",
              "      <td>79228162514264337593543950336</td>\n",
              "    </tr>\n",
              "    <tr>\n",
              "      <th>97</th>\n",
              "      <td>97</td>\n",
              "      <td>9409</td>\n",
              "      <td>912673</td>\n",
              "      <td>158456325028528675187087900672</td>\n",
              "    </tr>\n",
              "    <tr>\n",
              "      <th>98</th>\n",
              "      <td>98</td>\n",
              "      <td>9604</td>\n",
              "      <td>941192</td>\n",
              "      <td>316912650057057350374175801344</td>\n",
              "    </tr>\n",
              "    <tr>\n",
              "      <th>99</th>\n",
              "      <td>99</td>\n",
              "      <td>9801</td>\n",
              "      <td>970299</td>\n",
              "      <td>633825300114114700748351602688</td>\n",
              "    </tr>\n",
              "    <tr>\n",
              "      <th>100</th>\n",
              "      <td>100</td>\n",
              "      <td>10000</td>\n",
              "      <td>1000000</td>\n",
              "      <td>1267650600228229401496703205376</td>\n",
              "    </tr>\n",
              "  </tbody>\n",
              "</table>\n",
              "<p>101 rows × 4 columns</p>\n",
              "</div>\n",
              "      <button class=\"colab-df-convert\" onclick=\"convertToInteractive('df-9f21797a-326d-4957-a4f1-cfe38d336bc3')\"\n",
              "              title=\"Convert this dataframe to an interactive table.\"\n",
              "              style=\"display:none;\">\n",
              "        \n",
              "  <svg xmlns=\"http://www.w3.org/2000/svg\" height=\"24px\"viewBox=\"0 0 24 24\"\n",
              "       width=\"24px\">\n",
              "    <path d=\"M0 0h24v24H0V0z\" fill=\"none\"/>\n",
              "    <path d=\"M18.56 5.44l.94 2.06.94-2.06 2.06-.94-2.06-.94-.94-2.06-.94 2.06-2.06.94zm-11 1L8.5 8.5l.94-2.06 2.06-.94-2.06-.94L8.5 2.5l-.94 2.06-2.06.94zm10 10l.94 2.06.94-2.06 2.06-.94-2.06-.94-.94-2.06-.94 2.06-2.06.94z\"/><path d=\"M17.41 7.96l-1.37-1.37c-.4-.4-.92-.59-1.43-.59-.52 0-1.04.2-1.43.59L10.3 9.45l-7.72 7.72c-.78.78-.78 2.05 0 2.83L4 21.41c.39.39.9.59 1.41.59.51 0 1.02-.2 1.41-.59l7.78-7.78 2.81-2.81c.8-.78.8-2.07 0-2.86zM5.41 20L4 18.59l7.72-7.72 1.47 1.35L5.41 20z\"/>\n",
              "  </svg>\n",
              "      </button>\n",
              "      \n",
              "  <style>\n",
              "    .colab-df-container {\n",
              "      display:flex;\n",
              "      flex-wrap:wrap;\n",
              "      gap: 12px;\n",
              "    }\n",
              "\n",
              "    .colab-df-convert {\n",
              "      background-color: #E8F0FE;\n",
              "      border: none;\n",
              "      border-radius: 50%;\n",
              "      cursor: pointer;\n",
              "      display: none;\n",
              "      fill: #1967D2;\n",
              "      height: 32px;\n",
              "      padding: 0 0 0 0;\n",
              "      width: 32px;\n",
              "    }\n",
              "\n",
              "    .colab-df-convert:hover {\n",
              "      background-color: #E2EBFA;\n",
              "      box-shadow: 0px 1px 2px rgba(60, 64, 67, 0.3), 0px 1px 3px 1px rgba(60, 64, 67, 0.15);\n",
              "      fill: #174EA6;\n",
              "    }\n",
              "\n",
              "    [theme=dark] .colab-df-convert {\n",
              "      background-color: #3B4455;\n",
              "      fill: #D2E3FC;\n",
              "    }\n",
              "\n",
              "    [theme=dark] .colab-df-convert:hover {\n",
              "      background-color: #434B5C;\n",
              "      box-shadow: 0px 1px 3px 1px rgba(0, 0, 0, 0.15);\n",
              "      filter: drop-shadow(0px 1px 2px rgba(0, 0, 0, 0.3));\n",
              "      fill: #FFFFFF;\n",
              "    }\n",
              "  </style>\n",
              "\n",
              "      <script>\n",
              "        const buttonEl =\n",
              "          document.querySelector('#df-9f21797a-326d-4957-a4f1-cfe38d336bc3 button.colab-df-convert');\n",
              "        buttonEl.style.display =\n",
              "          google.colab.kernel.accessAllowed ? 'block' : 'none';\n",
              "\n",
              "        async function convertToInteractive(key) {\n",
              "          const element = document.querySelector('#df-9f21797a-326d-4957-a4f1-cfe38d336bc3');\n",
              "          const dataTable =\n",
              "            await google.colab.kernel.invokeFunction('convertToInteractive',\n",
              "                                                     [key], {});\n",
              "          if (!dataTable) return;\n",
              "\n",
              "          const docLinkHtml = 'Like what you see? Visit the ' +\n",
              "            '<a target=\"_blank\" href=https://colab.research.google.com/notebooks/data_table.ipynb>data table notebook</a>'\n",
              "            + ' to learn more about interactive tables.';\n",
              "          element.innerHTML = '';\n",
              "          dataTable['output_type'] = 'display_data';\n",
              "          await google.colab.output.renderOutput(dataTable, element);\n",
              "          const docLink = document.createElement('div');\n",
              "          docLink.innerHTML = docLinkHtml;\n",
              "          element.appendChild(docLink);\n",
              "        }\n",
              "      </script>\n",
              "    </div>\n",
              "  </div>\n",
              "  "
            ]
          },
          "metadata": {},
          "execution_count": 8
        }
      ]
    },
    {
      "cell_type": "markdown",
      "metadata": {
        "id": "XL938TlADqwZ"
      },
      "source": [
        "As you can see, a new DataFrame is created. It is stored in the `new_df` variable. It has 100 rows having indices `0` to `99`. It also has the four required columns.\n",
        "\n",
        "**Note:** Unlike a Python list, the dictionary does not store values in the ordered form. It means that you can't retreive an item from a dictionary using indices."
      ]
    },
    {
      "cell_type": "markdown",
      "metadata": {
        "id": "zwGWK1Z2Etx9"
      },
      "source": [
        "---"
      ]
    },
    {
      "cell_type": "markdown",
      "metadata": {
        "id": "y_jkf2SjEukY"
      },
      "source": [
        "#### Activity 3: The `orient` Parameter\n",
        "\n",
        "In the above DataFrame created from a Python dictionary, you can label `\"linear\", \"squared\", \"cubed\"` and `\"power_of_two\"` as row indices. Consequently, the values `0` to `99` will become columns. This can be done by passing `'index'` as the value to the `orient` parameter inside the `from_dict()` function. Here's the syntax.\n",
        "\n",
        "**Syntax:** `pd.DataFrame.from_dict(some_dictionary, orient='index')`"
      ]
    },
    {
      "cell_type": "code",
      "metadata": {
        "id": "63TkzljRmetB",
        "colab": {
          "base_uri": "https://localhost:8080/",
          "height": 268
        },
        "outputId": "f9a2aa59-9bcc-464c-fea9-6834b9b8b5b2"
      },
      "source": [
        "# Student Action: Create another Pandas DataFrom using the 'new_dict' having \"linear\", \"squared\", \"cubed\" and \"power_of_two\" as row indices.\n",
        "new_df_2 = pd.DataFrame.from_dict(new_dict, orient = 'index')\n",
        "new_df_2"
      ],
      "execution_count": null,
      "outputs": [
        {
          "output_type": "execute_result",
          "data": {
            "text/plain": [
              "              0    1    2    3    4    5    6    7    8    9    ...  \\\n",
              "linear          0    1    2    3    4    5    6    7    8    9  ...   \n",
              "squared         0    1    4    9   16   25   36   49   64   81  ...   \n",
              "cubed           0    1    8   27   64  125  216  343  512  729  ...   \n",
              "power_of_two    1    2    4    8   16   32   64  128  256  512  ...   \n",
              "\n",
              "                                       91                            92   \\\n",
              "linear                                  91                            92   \n",
              "squared                               8281                          8464   \n",
              "cubed                               753571                        778688   \n",
              "power_of_two  2475880078570760549798248448  4951760157141521099596496896   \n",
              "\n",
              "                                       93                             94   \\\n",
              "linear                                  93                             94   \n",
              "squared                               8649                           8836   \n",
              "cubed                               804357                         830584   \n",
              "power_of_two  9903520314283042199192993792  19807040628566084398385987584   \n",
              "\n",
              "                                        95                             96   \\\n",
              "linear                                   95                             96   \n",
              "squared                                9025                           9216   \n",
              "cubed                                857375                         884736   \n",
              "power_of_two  39614081257132168796771975168  79228162514264337593543950336   \n",
              "\n",
              "                                         97                              98   \\\n",
              "linear                                    97                              98   \n",
              "squared                                 9409                            9604   \n",
              "cubed                                 912673                          941192   \n",
              "power_of_two  158456325028528675187087900672  316912650057057350374175801344   \n",
              "\n",
              "                                         99                               100  \n",
              "linear                                    99                              100  \n",
              "squared                                 9801                            10000  \n",
              "cubed                                 970299                          1000000  \n",
              "power_of_two  633825300114114700748351602688  1267650600228229401496703205376  \n",
              "\n",
              "[4 rows x 101 columns]"
            ],
            "text/html": [
              "\n",
              "  <div id=\"df-b3b942bf-1786-4871-b56b-1c207ca5b93b\">\n",
              "    <div class=\"colab-df-container\">\n",
              "      <div>\n",
              "<style scoped>\n",
              "    .dataframe tbody tr th:only-of-type {\n",
              "        vertical-align: middle;\n",
              "    }\n",
              "\n",
              "    .dataframe tbody tr th {\n",
              "        vertical-align: top;\n",
              "    }\n",
              "\n",
              "    .dataframe thead th {\n",
              "        text-align: right;\n",
              "    }\n",
              "</style>\n",
              "<table border=\"1\" class=\"dataframe\">\n",
              "  <thead>\n",
              "    <tr style=\"text-align: right;\">\n",
              "      <th></th>\n",
              "      <th>0</th>\n",
              "      <th>1</th>\n",
              "      <th>2</th>\n",
              "      <th>3</th>\n",
              "      <th>4</th>\n",
              "      <th>5</th>\n",
              "      <th>6</th>\n",
              "      <th>7</th>\n",
              "      <th>8</th>\n",
              "      <th>9</th>\n",
              "      <th>...</th>\n",
              "      <th>91</th>\n",
              "      <th>92</th>\n",
              "      <th>93</th>\n",
              "      <th>94</th>\n",
              "      <th>95</th>\n",
              "      <th>96</th>\n",
              "      <th>97</th>\n",
              "      <th>98</th>\n",
              "      <th>99</th>\n",
              "      <th>100</th>\n",
              "    </tr>\n",
              "  </thead>\n",
              "  <tbody>\n",
              "    <tr>\n",
              "      <th>linear</th>\n",
              "      <td>0</td>\n",
              "      <td>1</td>\n",
              "      <td>2</td>\n",
              "      <td>3</td>\n",
              "      <td>4</td>\n",
              "      <td>5</td>\n",
              "      <td>6</td>\n",
              "      <td>7</td>\n",
              "      <td>8</td>\n",
              "      <td>9</td>\n",
              "      <td>...</td>\n",
              "      <td>91</td>\n",
              "      <td>92</td>\n",
              "      <td>93</td>\n",
              "      <td>94</td>\n",
              "      <td>95</td>\n",
              "      <td>96</td>\n",
              "      <td>97</td>\n",
              "      <td>98</td>\n",
              "      <td>99</td>\n",
              "      <td>100</td>\n",
              "    </tr>\n",
              "    <tr>\n",
              "      <th>squared</th>\n",
              "      <td>0</td>\n",
              "      <td>1</td>\n",
              "      <td>4</td>\n",
              "      <td>9</td>\n",
              "      <td>16</td>\n",
              "      <td>25</td>\n",
              "      <td>36</td>\n",
              "      <td>49</td>\n",
              "      <td>64</td>\n",
              "      <td>81</td>\n",
              "      <td>...</td>\n",
              "      <td>8281</td>\n",
              "      <td>8464</td>\n",
              "      <td>8649</td>\n",
              "      <td>8836</td>\n",
              "      <td>9025</td>\n",
              "      <td>9216</td>\n",
              "      <td>9409</td>\n",
              "      <td>9604</td>\n",
              "      <td>9801</td>\n",
              "      <td>10000</td>\n",
              "    </tr>\n",
              "    <tr>\n",
              "      <th>cubed</th>\n",
              "      <td>0</td>\n",
              "      <td>1</td>\n",
              "      <td>8</td>\n",
              "      <td>27</td>\n",
              "      <td>64</td>\n",
              "      <td>125</td>\n",
              "      <td>216</td>\n",
              "      <td>343</td>\n",
              "      <td>512</td>\n",
              "      <td>729</td>\n",
              "      <td>...</td>\n",
              "      <td>753571</td>\n",
              "      <td>778688</td>\n",
              "      <td>804357</td>\n",
              "      <td>830584</td>\n",
              "      <td>857375</td>\n",
              "      <td>884736</td>\n",
              "      <td>912673</td>\n",
              "      <td>941192</td>\n",
              "      <td>970299</td>\n",
              "      <td>1000000</td>\n",
              "    </tr>\n",
              "    <tr>\n",
              "      <th>power_of_two</th>\n",
              "      <td>1</td>\n",
              "      <td>2</td>\n",
              "      <td>4</td>\n",
              "      <td>8</td>\n",
              "      <td>16</td>\n",
              "      <td>32</td>\n",
              "      <td>64</td>\n",
              "      <td>128</td>\n",
              "      <td>256</td>\n",
              "      <td>512</td>\n",
              "      <td>...</td>\n",
              "      <td>2475880078570760549798248448</td>\n",
              "      <td>4951760157141521099596496896</td>\n",
              "      <td>9903520314283042199192993792</td>\n",
              "      <td>19807040628566084398385987584</td>\n",
              "      <td>39614081257132168796771975168</td>\n",
              "      <td>79228162514264337593543950336</td>\n",
              "      <td>158456325028528675187087900672</td>\n",
              "      <td>316912650057057350374175801344</td>\n",
              "      <td>633825300114114700748351602688</td>\n",
              "      <td>1267650600228229401496703205376</td>\n",
              "    </tr>\n",
              "  </tbody>\n",
              "</table>\n",
              "<p>4 rows × 101 columns</p>\n",
              "</div>\n",
              "      <button class=\"colab-df-convert\" onclick=\"convertToInteractive('df-b3b942bf-1786-4871-b56b-1c207ca5b93b')\"\n",
              "              title=\"Convert this dataframe to an interactive table.\"\n",
              "              style=\"display:none;\">\n",
              "        \n",
              "  <svg xmlns=\"http://www.w3.org/2000/svg\" height=\"24px\"viewBox=\"0 0 24 24\"\n",
              "       width=\"24px\">\n",
              "    <path d=\"M0 0h24v24H0V0z\" fill=\"none\"/>\n",
              "    <path d=\"M18.56 5.44l.94 2.06.94-2.06 2.06-.94-2.06-.94-.94-2.06-.94 2.06-2.06.94zm-11 1L8.5 8.5l.94-2.06 2.06-.94-2.06-.94L8.5 2.5l-.94 2.06-2.06.94zm10 10l.94 2.06.94-2.06 2.06-.94-2.06-.94-.94-2.06-.94 2.06-2.06.94z\"/><path d=\"M17.41 7.96l-1.37-1.37c-.4-.4-.92-.59-1.43-.59-.52 0-1.04.2-1.43.59L10.3 9.45l-7.72 7.72c-.78.78-.78 2.05 0 2.83L4 21.41c.39.39.9.59 1.41.59.51 0 1.02-.2 1.41-.59l7.78-7.78 2.81-2.81c.8-.78.8-2.07 0-2.86zM5.41 20L4 18.59l7.72-7.72 1.47 1.35L5.41 20z\"/>\n",
              "  </svg>\n",
              "      </button>\n",
              "      \n",
              "  <style>\n",
              "    .colab-df-container {\n",
              "      display:flex;\n",
              "      flex-wrap:wrap;\n",
              "      gap: 12px;\n",
              "    }\n",
              "\n",
              "    .colab-df-convert {\n",
              "      background-color: #E8F0FE;\n",
              "      border: none;\n",
              "      border-radius: 50%;\n",
              "      cursor: pointer;\n",
              "      display: none;\n",
              "      fill: #1967D2;\n",
              "      height: 32px;\n",
              "      padding: 0 0 0 0;\n",
              "      width: 32px;\n",
              "    }\n",
              "\n",
              "    .colab-df-convert:hover {\n",
              "      background-color: #E2EBFA;\n",
              "      box-shadow: 0px 1px 2px rgba(60, 64, 67, 0.3), 0px 1px 3px 1px rgba(60, 64, 67, 0.15);\n",
              "      fill: #174EA6;\n",
              "    }\n",
              "\n",
              "    [theme=dark] .colab-df-convert {\n",
              "      background-color: #3B4455;\n",
              "      fill: #D2E3FC;\n",
              "    }\n",
              "\n",
              "    [theme=dark] .colab-df-convert:hover {\n",
              "      background-color: #434B5C;\n",
              "      box-shadow: 0px 1px 3px 1px rgba(0, 0, 0, 0.15);\n",
              "      filter: drop-shadow(0px 1px 2px rgba(0, 0, 0, 0.3));\n",
              "      fill: #FFFFFF;\n",
              "    }\n",
              "  </style>\n",
              "\n",
              "      <script>\n",
              "        const buttonEl =\n",
              "          document.querySelector('#df-b3b942bf-1786-4871-b56b-1c207ca5b93b button.colab-df-convert');\n",
              "        buttonEl.style.display =\n",
              "          google.colab.kernel.accessAllowed ? 'block' : 'none';\n",
              "\n",
              "        async function convertToInteractive(key) {\n",
              "          const element = document.querySelector('#df-b3b942bf-1786-4871-b56b-1c207ca5b93b');\n",
              "          const dataTable =\n",
              "            await google.colab.kernel.invokeFunction('convertToInteractive',\n",
              "                                                     [key], {});\n",
              "          if (!dataTable) return;\n",
              "\n",
              "          const docLinkHtml = 'Like what you see? Visit the ' +\n",
              "            '<a target=\"_blank\" href=https://colab.research.google.com/notebooks/data_table.ipynb>data table notebook</a>'\n",
              "            + ' to learn more about interactive tables.';\n",
              "          element.innerHTML = '';\n",
              "          dataTable['output_type'] = 'display_data';\n",
              "          await google.colab.output.renderOutput(dataTable, element);\n",
              "          const docLink = document.createElement('div');\n",
              "          docLink.innerHTML = docLinkHtml;\n",
              "          element.appendChild(docLink);\n",
              "        }\n",
              "      </script>\n",
              "    </div>\n",
              "  </div>\n",
              "  "
            ]
          },
          "metadata": {},
          "execution_count": 7
        }
      ]
    },
    {
      "cell_type": "markdown",
      "metadata": {
        "id": "ZuGYRpp4GQco"
      },
      "source": [
        "As you can see, a new DataFrame is created. It is stored in the `another_df` variable. It has 4 rows having indices `\"linear\", \"squared\", \"cubed\"` and `\"power_of_two\"` as desired. It has 100 columns as well."
      ]
    },
    {
      "cell_type": "markdown",
      "metadata": {
        "id": "UGMsfDIBGCEs"
      },
      "source": [
        "---"
      ]
    },
    {
      "cell_type": "markdown",
      "metadata": {
        "id": "QN1vXnRMGC1w"
      },
      "source": [
        "#### Activity 4: Creating A CSV File From A Python Dictionary^\n",
        "\n",
        "To create a `CSV` file from a Python dictionary, we need to use the following code:\n",
        "\n",
        "```\n",
        "from google.colab import files\n",
        "csv_file = data_frame.to_csv(index=True)\n",
        "\n",
        "with open('filename.csv', 'w') as f:\n",
        "  f.write(csv_file)\n",
        "\n",
        "files.download('filename.csv')\n",
        "```\n",
        "\n",
        "where\n",
        "\n",
        "- `data_frame` is a variable storing a Pandas DataFrame from which a `CSV` file needs to be created.\n",
        "\n",
        "- `filename.csv` is the name of the required CSV file that needs to be downloaded once created.\n",
        "\n",
        "Let's create a CSV file from the `new_df` DataFrame and name the file as `data.csv`.\n",
        "\n",
        "**Note:** After running the code below, a new dialogue box will appear prompting you to save the file in your computer.\n"
      ]
    },
    {
      "cell_type": "code",
      "metadata": {
        "id": "JotEz08gmqNE",
        "colab": {
          "base_uri": "https://localhost:8080/",
          "height": 17
        },
        "outputId": "0fdce33a-cf98-4f44-824c-ffee9be50dfc"
      },
      "source": [
        "# Student Action: Run the code below.\n",
        "from google.colab import files\n",
        "csv_file = new_df.to_csv(index=True) # 'new_df' is the source DataFrame from which the required CSV file is to be created.\n",
        "\n",
        "with open('orient_data.csv', 'w') as f: # 'data.csv' is the name of the required CSV file.\n",
        "  f.write(csv_file)\n",
        "\n",
        "files.download('orient_data.csv')"
      ],
      "execution_count": null,
      "outputs": [
        {
          "output_type": "display_data",
          "data": {
            "text/plain": [
              "<IPython.core.display.Javascript object>"
            ],
            "application/javascript": [
              "\n",
              "    async function download(id, filename, size) {\n",
              "      if (!google.colab.kernel.accessAllowed) {\n",
              "        return;\n",
              "      }\n",
              "      const div = document.createElement('div');\n",
              "      const label = document.createElement('label');\n",
              "      label.textContent = `Downloading \"${filename}\": `;\n",
              "      div.appendChild(label);\n",
              "      const progress = document.createElement('progress');\n",
              "      progress.max = size;\n",
              "      div.appendChild(progress);\n",
              "      document.body.appendChild(div);\n",
              "\n",
              "      const buffers = [];\n",
              "      let downloaded = 0;\n",
              "\n",
              "      const channel = await google.colab.kernel.comms.open(id);\n",
              "      // Send a message to notify the kernel that we're ready.\n",
              "      channel.send({})\n",
              "\n",
              "      for await (const message of channel.messages) {\n",
              "        // Send a message to notify the kernel that we're ready.\n",
              "        channel.send({})\n",
              "        if (message.buffers) {\n",
              "          for (const buffer of message.buffers) {\n",
              "            buffers.push(buffer);\n",
              "            downloaded += buffer.byteLength;\n",
              "            progress.value = downloaded;\n",
              "          }\n",
              "        }\n",
              "      }\n",
              "      const blob = new Blob(buffers, {type: 'application/binary'});\n",
              "      const a = document.createElement('a');\n",
              "      a.href = window.URL.createObjectURL(blob);\n",
              "      a.download = filename;\n",
              "      div.appendChild(a);\n",
              "      a.click();\n",
              "      div.remove();\n",
              "    }\n",
              "  "
            ]
          },
          "metadata": {}
        },
        {
          "output_type": "display_data",
          "data": {
            "text/plain": [
              "<IPython.core.display.Javascript object>"
            ],
            "application/javascript": [
              "download(\"download_c7e048d4-982b-4752-ac2b-d32144f0400c\", \"orient_data.csv\", 3376)"
            ]
          },
          "metadata": {}
        }
      ]
    },
    {
      "cell_type": "markdown",
      "metadata": {
        "id": "zkXJysGYfabI"
      },
      "source": [
        "So, as you can see we have created a CSV file using a Python dictionary. Now, let's learn it in detail."
      ]
    },
    {
      "cell_type": "markdown",
      "metadata": {
        "id": "C0hqaR3bMAB-"
      },
      "source": [
        "---"
      ]
    },
    {
      "cell_type": "markdown",
      "metadata": {
        "id": "s2pZAC4BWtxM"
      },
      "source": [
        "#### Activity 5: Python Dictionary^^^\n",
        "\n",
        "Similar to a Python list, a Python dictionary is also a data structure, i.e., it stores multiple values in it. **A python dictionary is a collection of key-value pairs** where each key-value pair collectively constitutes an item stored in it.\n",
        "\n",
        "An example of a key-value pair would be a specification of a smart-phone, as shown in the table below.\n",
        "\n",
        "|Key         |Value                  |\n",
        "|------------|-----------------------|\n",
        "|Front Camera|16 MP                  |\n",
        "|Battery     |3300 mAh               |\n",
        "|Processor   |Qualcomm Snapdragon 845|\n",
        "|Display     |6.28 inches            |\n",
        "|RAM         |6 GB                   |\n",
        "|Rear Camera |16 MP + 20 MP          |\n",
        "|Price (INR) |28990                  |\n",
        "|Fast Charge |True                   |\n",
        "\n",
        "Using the example shown in the table here, let's create a dictionary as a collection of key-value pairs.\n",
        "\n",
        "A dictionary is created using curly brackets (`{}`). A key and its corresponding value are mapped using the colon (`:`) sign and each key-value pair is separated by a comma."
      ]
    },
    {
      "cell_type": "code",
      "metadata": {
        "id": "evWpWkrlo7v4"
      },
      "source": [
        "# Teacher Action: Create a dictionary as a collection of key-value pairs containing the items shown in the table above.\n",
        "my_dict = {'front_camera': \"16 MP\", 'battery': \"3300 mAh\", 'processor': \"Qualcomm Snapdragon 845\", 'display': \"6.28 inches\", 'RAM': \"6 GB\", 'rear_camera': \"16 MP + 20 MP\", 'price(inr)': 28990, 'fast_charge': True}"
      ],
      "execution_count": null,
      "outputs": []
    },
    {
      "cell_type": "code",
      "source": [
        "my_dict"
      ],
      "metadata": {
        "colab": {
          "base_uri": "https://localhost:8080/"
        },
        "id": "4eaYfBTwi-2X",
        "outputId": "b37f4dda-1d5e-4f46-e5fe-7c94f4ad7ea1"
      },
      "execution_count": null,
      "outputs": [
        {
          "output_type": "execute_result",
          "data": {
            "text/plain": [
              "{'RAM': '6 GB',\n",
              " 'battery': '3300 mAh',\n",
              " 'display': '6.28 inches',\n",
              " 'fast_charge': True,\n",
              " 'front_camera': '16 MP',\n",
              " 'price(inr)': 28990,\n",
              " 'processor': 'Qualcomm Snapdragon 845',\n",
              " 'rear_camera': '16 MP + 20 MP'}"
            ]
          },
          "metadata": {},
          "execution_count": 11
        }
      ]
    },
    {
      "cell_type": "markdown",
      "metadata": {
        "id": "uDPbMO0Sq1FG"
      },
      "source": [
        "In the above code, we have created a Python dictionary and stored it in `my_dict` variable. The dictionary contains 8 key-value pairs separated by a comma. The keys are of `string` data-type and the values are a mix of `string`, `int` and `bool` data types.\n",
        "\n",
        "**Note:** Even though you store an item (a key-value pair) in a specific order, a Python dictionary disregards the order. Hence, unlike a Python list, a Python dictionary is a data structure containing an **unordered** collection of items.\n",
        "\n",
        "If you print the dictionary, again and again, you will notice that the orders of the items keep on changing."
      ]
    },
    {
      "cell_type": "markdown",
      "metadata": {
        "id": "5o7rWylMhnpL"
      },
      "source": [
        "---"
      ]
    },
    {
      "cell_type": "markdown",
      "metadata": {
        "id": "mmOu2XWWhoZN"
      },
      "source": [
        "#### Activity 6: Empty Python Dictionary\n",
        "\n",
        "You can also create an empty dictionary$—$a dictionary which does not have any key-value pair$—$by simply writing curly brackets `{}` only."
      ]
    },
    {
      "cell_type": "code",
      "metadata": {
        "id": "uU_TcNO7TxQy"
      },
      "source": [
        "# Student Action: Create an empty dictionary.\n",
        "empty_dict = {}"
      ],
      "execution_count": null,
      "outputs": []
    },
    {
      "cell_type": "markdown",
      "metadata": {
        "id": "mlP16hWpXgd3"
      },
      "source": [
        "In the above code, we have created an empty Python dictionary and stored it in the `empty_dict` variable.\n",
        "\n",
        "To verify whether a data structure is a Python dictionary  or not, you can use the `type()` function."
      ]
    },
    {
      "cell_type": "code",
      "metadata": {
        "id": "uYRMrXEaXe51",
        "colab": {
          "base_uri": "https://localhost:8080/"
        },
        "outputId": "d8e7884c-0ae1-4c7f-8e24-0d40e214e93e"
      },
      "source": [
        "# Student Action: Verify that the data structure stored in the 'empty_dict' variable is a Python dictionary.\n",
        "print(type(empty_dict))\n",
        "print(type(my_dict))"
      ],
      "execution_count": null,
      "outputs": [
        {
          "output_type": "stream",
          "name": "stdout",
          "text": [
            "<class 'dict'>\n",
            "<class 'dict'>\n"
          ]
        }
      ]
    },
    {
      "cell_type": "markdown",
      "metadata": {
        "id": "YiIAzbVIY0Hq"
      },
      "source": [
        "The `type()` function returns `dict` as an output which verifies that the value stored in the `empty_dict` variable is indeed a dictionary.\n",
        "\n",
        "Let's pause here. In the next class, we will learn more about Python dictionaries."
      ]
    },
    {
      "cell_type": "markdown",
      "metadata": {
        "id": "XV9GyuzxaRxk"
      },
      "source": [
        "---"
      ]
    },
    {
      "cell_type": "markdown",
      "metadata": {
        "id": "PQv2JQVpRzkn"
      },
      "source": [
        "#### Activity 7: Important Points About Python Dictionary^^\n",
        "\n",
        "Here are some of the important points about a Python dictionary:\n",
        "\n",
        "1. A key in a Python dictionary can be a `str` (string), `int` (integer), `float` (a floating-point number) and a `bool` (boolean) data-type. Additionally, it can also be a tuple. In general, any immutable Python object can be a key in a Python dictionary. The term **immutable** means **unchangeable**.\n",
        "\n",
        "2. Any Python object (whether mutable or immutable) or a data-type can be a value in a Python dictionary.\n",
        "\n",
        "Let's go through a few examples for keys and values in a Python dictionary.\n",
        "\n",
        "**Booleans as keys**"
      ]
    },
    {
      "cell_type": "code",
      "metadata": {
        "id": "FHy3bdNgRxxx"
      },
      "source": [
        "# Student Action: Create a Python dictionary whose keys are 'True' and 'False'. You can assign them any values.\n",
        "bool_df = {True:'Yes', False: 'No'}"
      ],
      "execution_count": null,
      "outputs": []
    },
    {
      "cell_type": "code",
      "source": [
        "bool_df"
      ],
      "metadata": {
        "colab": {
          "base_uri": "https://localhost:8080/"
        },
        "id": "lfPgs2Swjnzl",
        "outputId": "9523d777-3243-487c-f3ed-5c64884988ad"
      },
      "execution_count": null,
      "outputs": [
        {
          "output_type": "execute_result",
          "data": {
            "text/plain": [
              "{False: 'No', True: 'Yes'}"
            ]
          },
          "metadata": {},
          "execution_count": 16
        }
      ]
    },
    {
      "cell_type": "markdown",
      "metadata": {
        "id": "aeCRqqBHSLId"
      },
      "source": [
        "**Float-point numbers as keys**"
      ]
    },
    {
      "cell_type": "code",
      "metadata": {
        "id": "Reyft-FASNn1"
      },
      "source": [
        "# Student Action: Create a Python dictionary whose keys are some floating-point numbers. You can assign them any values.\n",
        "float_df = {3.14: 'Pi', 2.71: 'Exponent'}"
      ],
      "execution_count": null,
      "outputs": []
    },
    {
      "cell_type": "code",
      "source": [
        "float_df"
      ],
      "metadata": {
        "colab": {
          "base_uri": "https://localhost:8080/"
        },
        "id": "JH7n63FZjxEo",
        "outputId": "e268af86-ed9d-4a15-ace1-ac03a132ac10"
      },
      "execution_count": null,
      "outputs": [
        {
          "output_type": "execute_result",
          "data": {
            "text/plain": [
              "{2.71: 'Exponent', 3.14: 'Pi'}"
            ]
          },
          "metadata": {},
          "execution_count": 18
        }
      ]
    },
    {
      "cell_type": "markdown",
      "metadata": {
        "id": "yALtF_lZSQFG"
      },
      "source": [
        "**Integers as keys**"
      ]
    },
    {
      "cell_type": "code",
      "metadata": {
        "id": "pqAgUTl1SQsT"
      },
      "source": [
        "# Student Action: Create a Python dictionary whose keys are integer values. You can assign them any values.\n",
        "int_df = {3: 'Number 1', 6: 'Number 1 times 2'}"
      ],
      "execution_count": null,
      "outputs": []
    },
    {
      "cell_type": "code",
      "source": [
        "int_df"
      ],
      "metadata": {
        "colab": {
          "base_uri": "https://localhost:8080/"
        },
        "id": "RPpVRl8Wj40G",
        "outputId": "81ab2e6f-7982-459f-9866-8244b8fa6c40"
      },
      "execution_count": null,
      "outputs": [
        {
          "output_type": "execute_result",
          "data": {
            "text/plain": [
              "{3: 'Number 1', 6: 'Number 1 times 2'}"
            ]
          },
          "metadata": {},
          "execution_count": 20
        }
      ]
    },
    {
      "cell_type": "markdown",
      "metadata": {
        "id": "ZsYDO1_dSTIV"
      },
      "source": [
        "**Tuples as keys**"
      ]
    },
    {
      "cell_type": "code",
      "metadata": {
        "id": "yMpHH3J6SaDs"
      },
      "source": [
        "# Student Action: Create a Python dictionary whose keys are some tuples. You can assign them any values.\n",
        "tuple_df = {(1,2,3): 'Prime Numbers', (2,4,6): 'Even Numbers'}"
      ],
      "execution_count": null,
      "outputs": []
    },
    {
      "cell_type": "code",
      "source": [
        "tuple_df"
      ],
      "metadata": {
        "colab": {
          "base_uri": "https://localhost:8080/"
        },
        "id": "6xx9HFqMkEot",
        "outputId": "06a80193-bf5d-4d30-8244-2b47907e2fae"
      },
      "execution_count": null,
      "outputs": [
        {
          "output_type": "execute_result",
          "data": {
            "text/plain": [
              "{(1, 2, 3): 'Prime Numbers', (2, 4, 6): 'Even Numbers'}"
            ]
          },
          "metadata": {},
          "execution_count": 22
        }
      ]
    },
    {
      "cell_type": "markdown",
      "metadata": {
        "id": "QjOmAnDrSduo"
      },
      "source": [
        "**Lists as values**"
      ]
    },
    {
      "cell_type": "code",
      "metadata": {
        "id": "V3WiewNqSfq-"
      },
      "source": [
        "# Student Action: Create a Python dictionary whose values are some lists.\n",
        "list_df = {'First Five Prime Numbers': [1,2,3,5,7]}"
      ],
      "execution_count": null,
      "outputs": []
    },
    {
      "cell_type": "code",
      "source": [
        "list_df"
      ],
      "metadata": {
        "colab": {
          "base_uri": "https://localhost:8080/"
        },
        "id": "aU-p3_WVkYk9",
        "outputId": "09041476-9e26-4e5a-94db-749046f594c5"
      },
      "execution_count": null,
      "outputs": [
        {
          "output_type": "execute_result",
          "data": {
            "text/plain": [
              "{'First Five Prime Numbers': [1, 2, 3, 5, 7]}"
            ]
          },
          "metadata": {},
          "execution_count": 25
        }
      ]
    },
    {
      "cell_type": "markdown",
      "metadata": {
        "id": "Cy7JzYl3SiKI"
      },
      "source": [
        "**Dictionaries as values**"
      ]
    },
    {
      "cell_type": "code",
      "metadata": {
        "id": "VX6xgHNNSi6I"
      },
      "source": [
        "# Student Action: Create a Python dictionary whose values are some other dictionaries.\n",
        "dict_df = {'empty_dict': empty_dict, 'my_dict': my_dict}"
      ],
      "execution_count": null,
      "outputs": []
    },
    {
      "cell_type": "code",
      "source": [
        "dict_df"
      ],
      "metadata": {
        "colab": {
          "base_uri": "https://localhost:8080/"
        },
        "id": "S1Cx_3xukryQ",
        "outputId": "dc9ff699-d54f-4f2a-ddda-f5f479821a30"
      },
      "execution_count": null,
      "outputs": [
        {
          "output_type": "execute_result",
          "data": {
            "text/plain": [
              "{'empty_dict': {},\n",
              " 'my_dict': {'RAM': '6 GB',\n",
              "  'battery': '3300 mAh',\n",
              "  'display': '6.28 inches',\n",
              "  'fast_charge': True,\n",
              "  'front_camera': '16 MP',\n",
              "  'price(inr)': 28990,\n",
              "  'processor': 'Qualcomm Snapdragon 845',\n",
              "  'rear_camera': '16 MP + 20 MP'}}"
            ]
          },
          "metadata": {},
          "execution_count": 28
        }
      ]
    },
    {
      "cell_type": "markdown",
      "metadata": {
        "id": "CODeMsMwSmr3"
      },
      "source": [
        "**Tuples as values**\n",
        "\n",
        "You will learn about tuples in detail in the upcoming classes."
      ]
    },
    {
      "cell_type": "code",
      "metadata": {
        "id": "qCmtqEZdSnkP"
      },
      "source": [
        "# Student Action: Create a Python dictionary whose values are tuples.\n",
        "tuple_df_2 = {'First Five Numbers': (1,2,3,4,5)}"
      ],
      "execution_count": null,
      "outputs": []
    },
    {
      "cell_type": "code",
      "source": [
        "tuple_df_2"
      ],
      "metadata": {
        "colab": {
          "base_uri": "https://localhost:8080/"
        },
        "id": "mpvow31mk1Xm",
        "outputId": "9eca61a7-6edc-43aa-e5b1-19394d2af283"
      },
      "execution_count": null,
      "outputs": [
        {
          "output_type": "execute_result",
          "data": {
            "text/plain": [
              "{'First Five Numbers': (1, 2, 3, 4, 5)}"
            ]
          },
          "metadata": {},
          "execution_count": 30
        }
      ]
    },
    {
      "cell_type": "markdown",
      "metadata": {
        "id": "2ez2tZH6Spt2"
      },
      "source": [
        "**Note:** a key in a dictionary must be unique. In other words, two items in a dictionary cannot have the same key. If a dictionary contains two items having the same key, then the item at the higher index will be accepted by the dictionary and the item at the lower index will be discarded.\n"
      ]
    },
    {
      "cell_type": "code",
      "metadata": {
        "id": "V3U3PruXSsYs"
      },
      "source": [
        "# Student Action: Create a dictionary having two identical keys but different values.\n",
        "key_df = {'Key': 5, 'Key': 4}"
      ],
      "execution_count": null,
      "outputs": []
    },
    {
      "cell_type": "code",
      "source": [
        "key_df"
      ],
      "metadata": {
        "colab": {
          "base_uri": "https://localhost:8080/"
        },
        "id": "p673M33dk9mP",
        "outputId": "f459267c-8c80-4e42-8210-6f3cf79d3251"
      },
      "execution_count": null,
      "outputs": [
        {
          "output_type": "execute_result",
          "data": {
            "text/plain": [
              "{'Key': 4}"
            ]
          },
          "metadata": {},
          "execution_count": 32
        }
      ]
    },
    {
      "cell_type": "markdown",
      "metadata": {
        "id": "DVuxsE4lSwJ7"
      },
      "source": [
        "As you can see, the latest value for a key overrides its previous value.\n",
        "\n",
        "**Note:** Two different keys in a dictionary can have the same value."
      ]
    },
    {
      "cell_type": "code",
      "metadata": {
        "id": "lARnBVCQS08D"
      },
      "source": [
        "# Student Action: Create a dictionary having two identical values but different keys.\n",
        "key_df_2 = {'key1': 5, 'key2': 5}"
      ],
      "execution_count": null,
      "outputs": []
    },
    {
      "cell_type": "code",
      "source": [
        "key_df_2"
      ],
      "metadata": {
        "colab": {
          "base_uri": "https://localhost:8080/"
        },
        "id": "1YFuMehjlQIt",
        "outputId": "37c5399c-0179-4b40-ca74-1929d74cde77"
      },
      "execution_count": null,
      "outputs": [
        {
          "output_type": "execute_result",
          "data": {
            "text/plain": [
              "{'key1': 5, 'key2': 5}"
            ]
          },
          "metadata": {},
          "execution_count": 34
        }
      ]
    },
    {
      "cell_type": "markdown",
      "metadata": {
        "id": "5NJ_cB0aS3Li"
      },
      "source": [
        "Lastly, to convert the lists returned by the `keys(), values()` & `items()` function to conventional Python lists, you can apply the `list()` function on top of them."
      ]
    },
    {
      "cell_type": "code",
      "metadata": {
        "id": "4REkDQohS4LH",
        "colab": {
          "base_uri": "https://localhost:8080/"
        },
        "outputId": "8c589825-0dfb-4d57-b153-a29c31e98484"
      },
      "source": [
        "# Student Action: Apply the 'list()' functions on top of the lists returned by the 'keys()', 'values()' & 'items()'. Print them as well.\n",
        "print(my_dict.keys())"
      ],
      "execution_count": null,
      "outputs": [
        {
          "output_type": "stream",
          "name": "stdout",
          "text": [
            "dict_keys(['front_camera', 'battery', 'processor', 'display', 'RAM', 'rear_camera', 'price(inr)', 'fast_charge'])\n"
          ]
        }
      ]
    },
    {
      "cell_type": "code",
      "source": [
        "print(my_dict.values())"
      ],
      "metadata": {
        "colab": {
          "base_uri": "https://localhost:8080/"
        },
        "id": "bkM4leimld81",
        "outputId": "01cebf82-59fa-4f95-cafc-fe6f31aec9f6"
      },
      "execution_count": null,
      "outputs": [
        {
          "output_type": "stream",
          "name": "stdout",
          "text": [
            "dict_values(['16 MP', '3300 mAh', 'Qualcomm Snapdragon 845', '6.28 inches', '6 GB', '16 MP + 20 MP', 28990, True])\n"
          ]
        }
      ]
    },
    {
      "cell_type": "code",
      "source": [
        "print(my_dict.items())"
      ],
      "metadata": {
        "colab": {
          "base_uri": "https://localhost:8080/"
        },
        "id": "xtbais1elg_1",
        "outputId": "0c34ba86-0fc9-494c-b939-8292b6adf5ed"
      },
      "execution_count": null,
      "outputs": [
        {
          "output_type": "stream",
          "name": "stdout",
          "text": [
            "dict_items([('front_camera', '16 MP'), ('battery', '3300 mAh'), ('processor', 'Qualcomm Snapdragon 845'), ('display', '6.28 inches'), ('RAM', '6 GB'), ('rear_camera', '16 MP + 20 MP'), ('price(inr)', 28990), ('fast_charge', True)])\n"
          ]
        }
      ]
    },
    {
      "cell_type": "markdown",
      "metadata": {
        "id": "IxwClVvpRyme"
      },
      "source": [
        "---"
      ]
    }
  ]
}