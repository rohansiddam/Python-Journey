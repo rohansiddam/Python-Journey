{
  "nbformat": 4,
  "nbformat_minor": 0,
  "metadata": {
    "colab": {
      "provenance": [],
      "include_colab_link": true
    },
    "kernelspec": {
      "name": "python3",
      "display_name": "Python 3"
    },
    "language_info": {
      "name": "python"
    }
  },
  "cells": [
    {
      "cell_type": "markdown",
      "metadata": {
        "id": "view-in-github",
        "colab_type": "text"
      },
      "source": [
        "<a href=\"https://colab.research.google.com/github/rohansiddam/Python-Journey/blob/main/094%20-%20Lesson%2094%20(Streamlit%20Widgets%201).ipynb\" target=\"_parent\"><img src=\"https://colab.research.google.com/assets/colab-badge.svg\" alt=\"Open In Colab\"/></a>"
      ]
    },
    {
      "cell_type": "markdown",
      "metadata": {
        "id": "2zKfD5teVlHx"
      },
      "source": [
        "# Lesson 94 -  Streamlit Widgets I"
      ]
    },
    {
      "cell_type": "markdown",
      "metadata": {
        "id": "wdwT65byXA4A"
      },
      "source": [
        "### Teacher-Student Activities\n",
        "\n",
        "In the previous class, we built a machine learning web app capable of predicting species of Iris flower using Streamlit. We also explored few Streamlit widgets like sliders and select box that makes our application more interactive. Today, we will learn more such Streamlit widgets by implementing a multiclass classification model in the form of a web app. Before that, we will learn how to host web apps using Streamlit sharing.\n",
        "\n",
        "Let's quickly go through the activities covered in the previous class and begin this class from **Activity 1: Hosting using Streamlit Sharing** section.\n",
        "\n",
        "\n",
        "\n",
        "\n"
      ]
    },
    {
      "cell_type": "markdown",
      "metadata": {
        "id": "N2y29RJxvwn5"
      },
      "source": [
        "---"
      ]
    },
    {
      "cell_type": "markdown",
      "metadata": {
        "id": "um_T7yYZUQWT"
      },
      "source": [
        "#### Activity 1: Hosting Using Streamlit 'Sharing'\n",
        "\n",
        "Now that you've created your app, you're ready to share it! We have already used Heroku server to host our Streamlit app. Let us explore  an even more easier way of hosting your web apps using the **Streamlit Sharing** service. Just quickly skim through its website (https://streamlit.io/sharing) to get yourself acquainted with it.\n",
        "\n",
        "In one of the previous classes, we had requested an invite from Streamlit community by visiting the [Streamlit sharing link](https://streamlit.io/sharing-sign-up) and filled-up the following sign-up form:\n",
        "\n",
        "<center><img src=\"https://i.imgur.com/ivcXEmq.png\" width=600></center>\n",
        "\n",
        "By now, you may have received an invite email like this:\n",
        "\n",
        "<center><img src=\"https://s3-whjr-v2-prod-bucket.whjr.online/3200fc8c-5d47-4304-938e-79e799e6c685.PNG\"></center>\n",
        "\n",
        "Now you're ready to deploy your Streamlit apps using Streamlit 'Sharing' service. You'll need a GitHub account that uses the same email id of your's as your Streamlit account.\n",
        "\n",
        "**Note:** In case, you have still not created a GitHub account, refer to the video provided below until the **timestamp 2:57**.\n",
        "\n",
        "https://www.youtube.com/watch?v=EO8o6avuULE\n",
        "\n",
        "**Step 1: Push your app on GitHub**\n",
        "\n",
        "- To get started, log into [GitHub](https://github.com/) account and create a new repository. Name your repository as `\"improved-iris-streamlit-sharing\"` or you may provide any name of your choice.\n",
        "\n",
        "  Make sure that your repository is **Public** as Streamlit Sharing only hosts public GitHub repositories.\n",
        "\n",
        "  <center><img src=\"https://s3-whjr-v2-prod-bucket.whjr.online/dbbb5064-f0b5-47e1-b39a-77d13b3bc8ca.PNG\"></center>\n",
        "\n",
        "- Upload the following three files on your public GitHub repository:\n",
        "    - **improved_iris_app.py:** This is the Python file containing the Iris flower species classification that you had created in the previous activities.\n",
        "    - **requirements.txt:** This file specifies which Python packages are required to run the project. We need not learn more about this file as it is beyond the scope of this course.\n",
        "    - **iris-species.csv:** This is our dataset file.\n",
        "  \n",
        "  You can download these files from the link given below:\n",
        "\n",
        "  https://drive.google.com/drive/folders/1fxfzQaGKW7k3-RVq4iS1vVBiA6pZKYA2\n",
        "\n",
        "**Step 2: Sign in into Streamlit Sharing**\n",
        "  \n",
        "  - Visit https://share.streamlit.io/ and sign in with a Github account that Streamlit Sharing has granted access to use it.\n",
        "\n",
        "  - After sign-in, click on the **New app** button.\n",
        "\n",
        "  <center><img src=\"https://s3-whjr-v2-prod-bucket.whjr.online/78206c92-1487-42dc-b420-839f6b55d87c.PNG\"></center>\n",
        "\n",
        "\n",
        "**Step 3: Deploy your app**\n",
        "\n",
        "  - Select the values of the required fields on the Deploy page. When you will click on the first field, it will give you auto-suggestion of all the public repositories hosted on your Github account. You need to select the one which you created in **Step 1** (`\"improved-iris-streamlit-sharing\"`) and then pass the name of your branch you want to deploy.\n",
        "\n",
        "  - Pass the name of the Branch (in our case, it is **main**) and file path (name of your `.py` file). You will get auto-suggestions for branch name and file path once you have chosen your desired repository.\n",
        "  \n",
        "**Note:** Sometimes auto-suggestion does not work for the third field i.e. `Main file path` . In that case, you may need to manually enter the name of your python (`.py`) file uploaded on the GitHub repository.\n",
        "  <center><img src=\"https://s3-whjr-v2-prod-bucket.whjr.online/8f5d57c4-21cf-4038-aaed-acc6f1ad2c00.PNG\"></center>\n",
        "\n",
        "That's it—you're done! Your app can be found at:\n",
        "\n",
        "```\n",
        "https://share.streamlit.io/[user name]/[repo name]/[branch name]/[app path]\n",
        "```\n",
        "\n",
        "For Example:\n",
        "\n",
        "https://share.streamlit.io/whitehatjr-test/improved-iris-streamlit-sharing/main/improved_iris_app.py\n",
        "\n",
        "\n",
        "As with all hosted Streamlit apps, you can continuously update your app by editing the `.py file` on GitHub.\n",
        "\n",
        "**Notes:**\n",
        "\n",
        "  1. It may take about 15 to 20 minutes for the deployment of your streamlit webapp.\n",
        "\n",
        "  2. You can also refer to the video link given below to understand the complete process of hosting Streamlit apps using the Streamlit Sharing service.\n",
        "\n",
        " https://youtu.be/bjt6bpoNM4I\n",
        "\n"
      ]
    },
    {
      "cell_type": "markdown",
      "metadata": {
        "id": "8qcdwOOdXTF0"
      },
      "source": [
        "---"
      ]
    },
    {
      "cell_type": "markdown",
      "metadata": {
        "id": "427AbCTyvxSD"
      },
      "source": [
        "#### Problem statement\n",
        "\n",
        "Recall the glass-type classification that you had performed in one of your previous classes wherein you classified different types of glasses based on their chemical and physical composition.\n",
        "\n",
        "**Dataset Description:**\n",
        "\n",
        "The dataset used in this problem statement involves the classification of samples of different glasses based on their physical and chemical properties. They are as follows:\n",
        "\n",
        "1. **RI:** Refractive Index\n",
        "\n",
        "2. **Na:** Sodium\n",
        "\n",
        "3. **Mg:** Magnesium\n",
        "\n",
        "4. **Al:** Aluminum\n",
        "\n",
        "5. **Si:** Silicon\n",
        "\n",
        "6. **K:** Potassium\n",
        "\n",
        "7. **Ca:** Calcium\n",
        "\n",
        "8. **Ba:** Barium\n",
        "\n",
        "9. **Fe:** Iron\n",
        "\n",
        "There are seven types (classes or labels) of glass listed; they are:\n",
        "\n",
        "* **Class 1:** used for making building windows (float processed)\n",
        "\n",
        "* **Class 2:** used for making building windows (non-float processed)\n",
        "\n",
        "* **Class 3:** used for making vehicle windows (float processed)\n",
        "\n",
        "* **Class 4:** used for making vehicle windows (non-float processed)\n",
        "\n",
        "* **Class 5:** used for making containers\n",
        "\n",
        "* **Class 6:** used for making tableware\n",
        "\n",
        "* **Class 7:** used for making headlamps\n",
        "\n",
        "**Dataset Credits:** https://archive.ics.uci.edu/ml/datasets/Glass+Identification\n",
        "\n",
        "**Citation:** Dua, D., & Graff, C.. (2017). UCI Machine Learning Repository"
      ]
    },
    {
      "cell_type": "markdown",
      "metadata": {
        "id": "r3UbNRvy6li7"
      },
      "source": [
        "---"
      ]
    },
    {
      "cell_type": "markdown",
      "metadata": {
        "id": "JCdhA1isIN4N"
      },
      "source": [
        "#### Activity 2: Importing Modules and Loading Data\n",
        "\n",
        "First create a Python file `glass_type_app.py` in Sublime editor and save it in `Python_scripts` folder created earlier. Copy the code given below in `glass_type_app.py` file.\n",
        "\n",
        "The code given below performs the following tasks: *(learnt in **Logistic Regression - Multiclass Classification I**)*\n",
        "\n",
        "1. Imports the necessary Python modules including `streamlit`.\n",
        "\n",
        "2. Drops the unnecessary columns and provides suitable column headers to the independent variables.\n",
        "\n",
        "3. Creates feature and target variables.\n",
        "\n",
        "4. Splits the dataset into train and test sets using the `train_test_split()` function.\n",
        "\n",
        "**Note:** Do not run the code shown below. It will thrown an error."
      ]
    },
    {
      "cell_type": "code",
      "metadata": {
        "id": "wN4XC8-QKLzR"
      },
      "source": [
        "# S2.1: Open Sublime text editor, create a new Python file, copy the following code in it and save it as 'glass_type_app.py'.\n",
        "# You have already created this ML model in ones of the previous classes.\n",
        "\n",
        "# Importing the necessary Python modules.\n",
        "import numpy as np\n",
        "import pandas as pd\n",
        "#import streamlit as st\n",
        "import seaborn as sns\n",
        "import matplotlib.pyplot as plt\n",
        "\n",
        "from sklearn.model_selection import train_test_split, GridSearchCV\n",
        "#from sklearn.metrics import plot_confusion_matrix, plot_roc_curve, plot_precision_recall_curve\n",
        "from sklearn.metrics import precision_score, recall_score\n",
        "\n",
        "# ML classifier Python modules\n",
        "from sklearn.svm import SVC\n",
        "from sklearn.ensemble import RandomForestClassifier\n",
        "from sklearn.linear_model import LogisticRegression\n",
        "\n",
        "# Loading the dataset.\n",
        "#@st.cache()\n",
        "def load_data():\n",
        "    file_path = \"https://s3-student-datasets-bucket.whjr.online/whitehat-ds-datasets/glass-types.csv\"\n",
        "    df = pd.read_csv(file_path, header = None)\n",
        "    # Dropping the 0th column as it contains only the serial numbers.\n",
        "    df.drop(columns = 0, inplace = True)\n",
        "    column_headers = ['RI', 'Na', 'Mg', 'Al', 'Si', 'K', 'Ca', 'Ba', 'Fe', 'GlassType']\n",
        "    columns_dict = {}\n",
        "    # Renaming columns with suitable column headers.\n",
        "    for i in df.columns:\n",
        "        columns_dict[i] = column_headers[i - 1]\n",
        "        # Rename the columns.\n",
        "        df.rename(columns_dict, axis = 1, inplace = True)\n",
        "    return df\n",
        "\n",
        "glass_df = load_data()\n",
        "\n",
        "# Creating the features data-frame holding all the columns except the last column.\n",
        "X = glass_df.iloc[:, :-1]\n",
        "\n",
        "# Creating the target series that holds last column.\n",
        "y = glass_df['GlassType']\n",
        "\n",
        "# Spliting the data into training and testing sets.\n",
        "X_train, X_test, y_train, y_test = train_test_split(X, y, test_size = 0.3, random_state = 42)"
      ],
      "execution_count": null,
      "outputs": []
    },
    {
      "cell_type": "code",
      "source": [
        "glass_df.head()"
      ],
      "metadata": {
        "colab": {
          "base_uri": "https://localhost:8080/",
          "height": 206
        },
        "id": "BGHxapc0KWoh",
        "outputId": "25b921e2-2436-4ed2-a8b2-80cfab62c86b"
      },
      "execution_count": null,
      "outputs": [
        {
          "output_type": "execute_result",
          "data": {
            "text/plain": [
              "        RI     Na    Mg    Al     Si     K    Ca   Ba   Fe  GlassType\n",
              "0  1.52101  13.64  4.49  1.10  71.78  0.06  8.75  0.0  0.0          1\n",
              "1  1.51761  13.89  3.60  1.36  72.73  0.48  7.83  0.0  0.0          1\n",
              "2  1.51618  13.53  3.55  1.54  72.99  0.39  7.78  0.0  0.0          1\n",
              "3  1.51766  13.21  3.69  1.29  72.61  0.57  8.22  0.0  0.0          1\n",
              "4  1.51742  13.27  3.62  1.24  73.08  0.55  8.07  0.0  0.0          1"
            ],
            "text/html": [
              "\n",
              "  <div id=\"df-1d2ce950-451d-4f7d-8718-abbdb60bcf3b\">\n",
              "    <div class=\"colab-df-container\">\n",
              "      <div>\n",
              "<style scoped>\n",
              "    .dataframe tbody tr th:only-of-type {\n",
              "        vertical-align: middle;\n",
              "    }\n",
              "\n",
              "    .dataframe tbody tr th {\n",
              "        vertical-align: top;\n",
              "    }\n",
              "\n",
              "    .dataframe thead th {\n",
              "        text-align: right;\n",
              "    }\n",
              "</style>\n",
              "<table border=\"1\" class=\"dataframe\">\n",
              "  <thead>\n",
              "    <tr style=\"text-align: right;\">\n",
              "      <th></th>\n",
              "      <th>RI</th>\n",
              "      <th>Na</th>\n",
              "      <th>Mg</th>\n",
              "      <th>Al</th>\n",
              "      <th>Si</th>\n",
              "      <th>K</th>\n",
              "      <th>Ca</th>\n",
              "      <th>Ba</th>\n",
              "      <th>Fe</th>\n",
              "      <th>GlassType</th>\n",
              "    </tr>\n",
              "  </thead>\n",
              "  <tbody>\n",
              "    <tr>\n",
              "      <th>0</th>\n",
              "      <td>1.52101</td>\n",
              "      <td>13.64</td>\n",
              "      <td>4.49</td>\n",
              "      <td>1.10</td>\n",
              "      <td>71.78</td>\n",
              "      <td>0.06</td>\n",
              "      <td>8.75</td>\n",
              "      <td>0.0</td>\n",
              "      <td>0.0</td>\n",
              "      <td>1</td>\n",
              "    </tr>\n",
              "    <tr>\n",
              "      <th>1</th>\n",
              "      <td>1.51761</td>\n",
              "      <td>13.89</td>\n",
              "      <td>3.60</td>\n",
              "      <td>1.36</td>\n",
              "      <td>72.73</td>\n",
              "      <td>0.48</td>\n",
              "      <td>7.83</td>\n",
              "      <td>0.0</td>\n",
              "      <td>0.0</td>\n",
              "      <td>1</td>\n",
              "    </tr>\n",
              "    <tr>\n",
              "      <th>2</th>\n",
              "      <td>1.51618</td>\n",
              "      <td>13.53</td>\n",
              "      <td>3.55</td>\n",
              "      <td>1.54</td>\n",
              "      <td>72.99</td>\n",
              "      <td>0.39</td>\n",
              "      <td>7.78</td>\n",
              "      <td>0.0</td>\n",
              "      <td>0.0</td>\n",
              "      <td>1</td>\n",
              "    </tr>\n",
              "    <tr>\n",
              "      <th>3</th>\n",
              "      <td>1.51766</td>\n",
              "      <td>13.21</td>\n",
              "      <td>3.69</td>\n",
              "      <td>1.29</td>\n",
              "      <td>72.61</td>\n",
              "      <td>0.57</td>\n",
              "      <td>8.22</td>\n",
              "      <td>0.0</td>\n",
              "      <td>0.0</td>\n",
              "      <td>1</td>\n",
              "    </tr>\n",
              "    <tr>\n",
              "      <th>4</th>\n",
              "      <td>1.51742</td>\n",
              "      <td>13.27</td>\n",
              "      <td>3.62</td>\n",
              "      <td>1.24</td>\n",
              "      <td>73.08</td>\n",
              "      <td>0.55</td>\n",
              "      <td>8.07</td>\n",
              "      <td>0.0</td>\n",
              "      <td>0.0</td>\n",
              "      <td>1</td>\n",
              "    </tr>\n",
              "  </tbody>\n",
              "</table>\n",
              "</div>\n",
              "      <button class=\"colab-df-convert\" onclick=\"convertToInteractive('df-1d2ce950-451d-4f7d-8718-abbdb60bcf3b')\"\n",
              "              title=\"Convert this dataframe to an interactive table.\"\n",
              "              style=\"display:none;\">\n",
              "        \n",
              "  <svg xmlns=\"http://www.w3.org/2000/svg\" height=\"24px\"viewBox=\"0 0 24 24\"\n",
              "       width=\"24px\">\n",
              "    <path d=\"M0 0h24v24H0V0z\" fill=\"none\"/>\n",
              "    <path d=\"M18.56 5.44l.94 2.06.94-2.06 2.06-.94-2.06-.94-.94-2.06-.94 2.06-2.06.94zm-11 1L8.5 8.5l.94-2.06 2.06-.94-2.06-.94L8.5 2.5l-.94 2.06-2.06.94zm10 10l.94 2.06.94-2.06 2.06-.94-2.06-.94-.94-2.06-.94 2.06-2.06.94z\"/><path d=\"M17.41 7.96l-1.37-1.37c-.4-.4-.92-.59-1.43-.59-.52 0-1.04.2-1.43.59L10.3 9.45l-7.72 7.72c-.78.78-.78 2.05 0 2.83L4 21.41c.39.39.9.59 1.41.59.51 0 1.02-.2 1.41-.59l7.78-7.78 2.81-2.81c.8-.78.8-2.07 0-2.86zM5.41 20L4 18.59l7.72-7.72 1.47 1.35L5.41 20z\"/>\n",
              "  </svg>\n",
              "      </button>\n",
              "      \n",
              "  <style>\n",
              "    .colab-df-container {\n",
              "      display:flex;\n",
              "      flex-wrap:wrap;\n",
              "      gap: 12px;\n",
              "    }\n",
              "\n",
              "    .colab-df-convert {\n",
              "      background-color: #E8F0FE;\n",
              "      border: none;\n",
              "      border-radius: 50%;\n",
              "      cursor: pointer;\n",
              "      display: none;\n",
              "      fill: #1967D2;\n",
              "      height: 32px;\n",
              "      padding: 0 0 0 0;\n",
              "      width: 32px;\n",
              "    }\n",
              "\n",
              "    .colab-df-convert:hover {\n",
              "      background-color: #E2EBFA;\n",
              "      box-shadow: 0px 1px 2px rgba(60, 64, 67, 0.3), 0px 1px 3px 1px rgba(60, 64, 67, 0.15);\n",
              "      fill: #174EA6;\n",
              "    }\n",
              "\n",
              "    [theme=dark] .colab-df-convert {\n",
              "      background-color: #3B4455;\n",
              "      fill: #D2E3FC;\n",
              "    }\n",
              "\n",
              "    [theme=dark] .colab-df-convert:hover {\n",
              "      background-color: #434B5C;\n",
              "      box-shadow: 0px 1px 3px 1px rgba(0, 0, 0, 0.15);\n",
              "      filter: drop-shadow(0px 1px 2px rgba(0, 0, 0, 0.3));\n",
              "      fill: #FFFFFF;\n",
              "    }\n",
              "  </style>\n",
              "\n",
              "      <script>\n",
              "        const buttonEl =\n",
              "          document.querySelector('#df-1d2ce950-451d-4f7d-8718-abbdb60bcf3b button.colab-df-convert');\n",
              "        buttonEl.style.display =\n",
              "          google.colab.kernel.accessAllowed ? 'block' : 'none';\n",
              "\n",
              "        async function convertToInteractive(key) {\n",
              "          const element = document.querySelector('#df-1d2ce950-451d-4f7d-8718-abbdb60bcf3b');\n",
              "          const dataTable =\n",
              "            await google.colab.kernel.invokeFunction('convertToInteractive',\n",
              "                                                     [key], {});\n",
              "          if (!dataTable) return;\n",
              "\n",
              "          const docLinkHtml = 'Like what you see? Visit the ' +\n",
              "            '<a target=\"_blank\" href=https://colab.research.google.com/notebooks/data_table.ipynb>data table notebook</a>'\n",
              "            + ' to learn more about interactive tables.';\n",
              "          element.innerHTML = '';\n",
              "          dataTable['output_type'] = 'display_data';\n",
              "          await google.colab.output.renderOutput(dataTable, element);\n",
              "          const docLink = document.createElement('div');\n",
              "          docLink.innerHTML = docLinkHtml;\n",
              "          element.appendChild(docLink);\n",
              "        }\n",
              "      </script>\n",
              "    </div>\n",
              "  </div>\n",
              "  "
            ]
          },
          "metadata": {},
          "execution_count": 6
        }
      ]
    },
    {
      "cell_type": "markdown",
      "metadata": {
        "id": "ejsTwxVzRuFV"
      },
      "source": [
        "**Note:** You have to store the `glass-types.csv` file in your computer in the same folder that contains the above Python script. You can download the `glass-types.csv` file from the link provided below.\n",
        "\n",
        "https://s3-student-datasets-bucket.whjr.online/whitehat-ds-datasets/glass-types.csv\n",
        "\n",
        "In the above code, we encapsulated some part of the code inside a function `load_data()` and added `st.cache()` decorator at the start of this function. Let us understand why?\n",
        "\n",
        "**The `st.cache()` decorator:**\n",
        "\n",
        "- Each time when you rerun your Streamlit app or change any widget value, the whole app runs from start to end.\n",
        "- This is not feasible when we create complicated machine learning apps as it will consume lot of time in rerunning the entire app.\n",
        "- Streamlit provides a functionality called **caching**, where data is not loaded each time when the app is loaded. Instead the data is loaded from the local cache (a temporary storage location on your machine). This saves cpu cycles and memory time, thereby improving the performance of your web app.\n",
        "\n",
        "\n",
        "In our case, we added `@st.cache()` decorator at the start of `load_data()` function as this part of code will not change more often."
      ]
    },
    {
      "cell_type": "markdown",
      "metadata": {
        "id": "HBTjlfDWjysD"
      },
      "source": [
        "---"
      ]
    },
    {
      "cell_type": "markdown",
      "metadata": {
        "id": "eq_EY2YbkNJU"
      },
      "source": [
        "#### Activity 3: Adding `prediction()` Function\n",
        "\n",
        "As done in the previous class, let us add a function, say `prediction()`, that will predict the type of glass for every unique combination of `RI`, `Na`, `Mg`, `Al`, `Si`, `K`, `Ca`, `Ba` and `Fe` values. Follow the steps given below to create this function:\n",
        "\n",
        "1. The `prediction()` function takes 10 inputs:\n",
        "\n",
        "  - `model` (It holds the algorithm chosen by user)\n",
        "  - `RI`\n",
        "  - `Na`\n",
        "  - `Mg`\n",
        "  - `Al`\n",
        "  - `Si`\n",
        "  - `K`\n",
        "  - `Ca`\n",
        "  - `Ba`\n",
        "  - `Fe`\n",
        "\n",
        "2. Inside the `prediction()` function:\n",
        "\n",
        "  - Call the `predict()` function on the `model` object.\n",
        "   \n",
        "  - The `predict()` function returns an array containing a single-digit integer value that would be either 1, 2, 3, 5, 6 or 7 where\n",
        "    \n",
        "    - `1` denotes the glass used for making building windows (float processed) i.e `building windows float processed`\n",
        "    \n",
        "    - `2` denotes the glass used for making building windows (non-float processed) i.e. `building windows non float processed`\n",
        "    \n",
        "    - `3` denotes the glass used for making vehicle windows (float processed) i.e. `vehicle windows float processed`\n",
        "    \n",
        "    - `4` denotes the glass used for making vehicle windows (non-float processed) i.e. `vehicle windows non float processed`\n",
        "    \n",
        "    - `5` denotes the glass used for making containers i.e. `containers`\n",
        "    \n",
        "    - `6` denotes the glass used for making tableware i.e. `tableware`\n",
        "    \n",
        "    - `7` denotes the glass used for making headlamps i.e. `headlamps`\n",
        "\n",
        "    **Note:** There are no records for the glass-type `6` in the dataset. Nevertheless, we are still accounting for it in our code.\n",
        "   \n",
        "  - Extract the integer value using the indexing method i.e. `array_name[0]` and store it in the `glass_type` variable.\n",
        "\n",
        "  - Return the type of glass by checking the value of `type` variable i.e.,\n",
        "  \n",
        "    - If `glass_type == 1`, then return `\"building windows float processed\"`\n",
        "  \n",
        "    - Else if `glass_type == 2`, then return `\"building windows non float processed\"`\n",
        "\n",
        "    - Else if `glass_type == 3`, then return `\"vehicle windows float processed\"`\n",
        "\n",
        "    - Else if `glass_type == 4`, then return `\"vehicle windows non float processed\"`\n",
        "\n",
        "    - Else if `glass_type == 5`, then return `\"containers\"`\n",
        "\n",
        "    - Else if `glass_type == 6`, then return `\"tableware\"`\n",
        "  \n",
        "    - Else return `\"headlamp\"`\n",
        "\n",
        "3. Also mark the `prediction()` function with Streamlit decorator `@st.cache()`.\n",
        "\n",
        "**Note:** Do not run the code shown below. It will thrown an error."
      ]
    },
    {
      "cell_type": "code",
      "metadata": {
        "id": "Ud0iX5U_nJrJ"
      },
      "source": [
        "# S2.1: Open Sublime text editor, create a new Python file, copy the following code in it and save it as 'glass_type_app.py'.\n",
        "# You have already created this ML model in ones of the previous classes.\n",
        "\n",
        "# Importing the necessary Python modules.\n",
        "import numpy as np\n",
        "import pandas as pd\n",
        "import streamlit as st\n",
        "import seaborn as sns\n",
        "import matplotlib.pyplot as plt\n",
        "\n",
        "from sklearn.model_selection import train_test_split, GridSearchCV\n",
        "from sklearn.metrics import plot_confusion_matrix, plot_roc_curve, plot_precision_recall_curve\n",
        "from sklearn.metrics import precision_score, recall_score\n",
        "\n",
        "# ML classifier Python modules\n",
        "from sklearn.svm import SVC\n",
        "from sklearn.ensemble import RandomForestClassifier\n",
        "from sklearn.linear_model import LogisticRegression\n",
        "\n",
        "# Loading the dataset.\n",
        "@st.cache()\n",
        "def load_data():\n",
        "    file_path = \"glass-types.csv\"\n",
        "    df = pd.read_csv(file_path, header = None)\n",
        "    # Dropping the 0th column as it contains only the serial numbers.\n",
        "    df.drop(columns = 0, inplace = True)\n",
        "    column_headers = ['RI', 'Na', 'Mg', 'Al', 'Si', 'K', 'Ca', 'Ba', 'Fe', 'GlassType']\n",
        "    columns_dict = {}\n",
        "    # Renaming columns with suitable column headers.\n",
        "    for i in df.columns:\n",
        "        columns_dict[i] = column_headers[i - 1]\n",
        "        # Rename the columns.\n",
        "        df.rename(columns_dict, axis = 1, inplace = True)\n",
        "    return df\n",
        "\n",
        "glass_df = load_data()\n",
        "\n",
        "# Creating the features data-frame holding all the columns except the last column.\n",
        "X = glass_df.iloc[:, :-1]\n",
        "\n",
        "# Creating the target series that holds last column.\n",
        "y = glass_df['GlassType']\n",
        "\n",
        "# Spliting the data into training and testing sets.\n",
        "X_train, X_test, y_train, y_test = train_test_split(X, y, test_size = 0.3, random_state = 42)"
      ],
      "execution_count": null,
      "outputs": []
    },
    {
      "cell_type": "markdown",
      "metadata": {
        "id": "mT1_cN88pke-"
      },
      "source": [
        "Next step is to add some Streamlit code for creating our front-end."
      ]
    },
    {
      "cell_type": "markdown",
      "metadata": {
        "id": "9fXicaY6tpXL"
      },
      "source": [
        "---"
      ]
    },
    {
      "cell_type": "markdown",
      "metadata": {
        "id": "eF8WNL5ZycxB"
      },
      "source": [
        "#### Activity 4: Displaying Title and Sidebar Title\n",
        "\n",
        "Now it is time to add Streamlit widgets one by one. Let us add a title and the sidebar title for our Streamlit dashboard. This can be done using the `st.title()` and `st.sidebar.title()` functions.\n",
        "\n",
        "**Syntax:** `st.title(some_title)`"
      ]
    },
    {
      "cell_type": "code",
      "metadata": {
        "id": "MgFTf_-icgdv"
      },
      "source": [
        "# S3.1: Create a function that accepts an ML model object say 'model' and the nine features as inputs\n",
        "# and returns the glass type.\n",
        "@st.cache()\n",
        "def prediction(model, ri, na, mg, al, si, k, ca, ba, fe):\n",
        "    glass_type = model.predict([[ri, na, mg, al, si, k, ca, ba, fe]])\n",
        "    glass_type = glass_type[0]\n",
        "    if glass_type == 1:\n",
        "        return \"building windows float processed\".upper()\n",
        "    elif glass_type == 2:\n",
        "        return \"building windows non float processed\".upper()\n",
        "    elif glass_type == 3:\n",
        "        return \"vehicle windows float processed\".upper()\n",
        "    elif glass_type == 4:\n",
        "        return \"vehicle windows non float processed\".upper()\n",
        "    elif glass_type == 5:\n",
        "        return \"containers\".upper()\n",
        "    elif glass_type == 6:\n",
        "        return \"tableware\".upper()\n",
        "    else:\n",
        "        return \"headlamps\".upper()"
      ],
      "execution_count": null,
      "outputs": []
    },
    {
      "cell_type": "markdown",
      "metadata": {
        "id": "pW2dMLIFg5S5"
      },
      "source": [
        "After adding the above code, run your web app using the following command:\n",
        "\n",
        "`streamlit run glass_type_app.py`\n",
        "\n",
        "You will see the following output:\n",
        "\n",
        "<center><img src=\"https://s3-whjr-v2-prod-bucket.whjr.online/67c23ee6-6e4e-499c-924b-15a498bafec6.PNG\"></center>\n",
        "\n",
        "If you notice in the image above, anything we call with the sidebar object will appear in the left-hand side of the web page.\n",
        "\n",
        "**Important points about `st.sidebar`:**\n",
        "\n",
        "- It is used to give a cleaner look to your app by moving your widgets into the left-hand side of your screen. This keeps your app at the centre, while the widgets are pinned to the left.\n",
        "\n",
        "- The syntax for adding any widget to the sidebar is `st.sidebar.[widget]()`\n",
        "   \n",
        "  For example: `st.sidebar.title()`, `st.sidebar.checkbox()`, `st.sidebar.slider()` etc.\n",
        "\n",
        "**Note:** For the upcoming activities, keep appending the code in the `glass_type_app.py` file using the Sublime editor and then rerun your app on your local machine.\n",
        "  "
      ]
    },
    {
      "cell_type": "markdown",
      "metadata": {
        "id": "NXloIT4Ityzq"
      },
      "source": [
        "---"
      ]
    },
    {
      "cell_type": "markdown",
      "metadata": {
        "id": "fjTtE0VLt0Tb"
      },
      "source": [
        "#### Activity 5: Displaying Raw Data\n",
        "\n",
        "You can display the dataset in raw form using `st.dataframe()` function.\n",
        "\n",
        "**Syntax:** `st.dataframe(data)` where `data` is the pandas DataFrame object.\n",
        "\n",
        "You can even display your dataset using `st.write()` function as follows:\n",
        "    \n",
        "> `st.write(data)`\n",
        "\n",
        "Let us also add a checkbox widget in the sidebar to display the glass-type `glass_df` DataFrame only when this checkbox is clicked. It should look like this:\n",
        "\n",
        "<center><img src=\"https://s3-whjr-v2-prod-bucket.whjr.online/b428f116-91be-4db4-a03b-755eed5e3bcc.PNG\"></center>\n",
        "\n",
        "**Syntax:** `st.checkbox(label)`\n",
        "\n",
        "To add the checkbox in the sidebar, simply use `st.sidebar.checkbox()` instead of `st.checkbox()`.\n",
        "\n",
        "When the user clicks on the checkbox labeled **`Show raw data`**,  \n",
        "- Display a subheader on the main page with a label `\"Glass Type Data set\"` using `st.subheader()` function.\n",
        "\n",
        "  **Syntax: `st.subheader(some_text)`**\n",
        "- Below the subheader, display raw data using `st.dataframe()` function.\n",
        "\n",
        "**Note:** Don't run the code shown below. It will throw an error."
      ]
    },
    {
      "cell_type": "code",
      "metadata": {
        "id": "O8Phav8OBtl_"
      },
      "source": [
        "# S4.1: Add title on the main page and in the sidebar.\n",
        "st.title(\"Glass Type Predictor\")\n",
        "st.sidebar.title(\"Exploratory Data Analysis\")"
      ],
      "execution_count": null,
      "outputs": []
    },
    {
      "cell_type": "markdown",
      "metadata": {
        "id": "DFAE-TJRLJI6"
      },
      "source": [
        "After running the app, it can be visualised as below:\n",
        "\n",
        "<center><img src=\"https://s3-whjr-v2-prod-bucket.whjr.online/0360d045-be96-4dd4-942d-1c8bd86c62bd.PNG\"></center>\n",
        "\n",
        "After displaying the raw data, let us visualise the dataset by displaying various charts and plots."
      ]
    },
    {
      "cell_type": "markdown",
      "metadata": {
        "id": "0K3okYvnpuFv"
      },
      "source": [
        "---"
      ]
    },
    {
      "cell_type": "markdown",
      "metadata": {
        "id": "arpcUDdpECdR"
      },
      "source": [
        "#### Activity 6: Creating Plots\n",
        "\n",
        "You can display any `matplotlib` or `seaborn` plots as Streamlit supports many visualisation frameworks. For our web app, we will create the following plots:\n",
        "\n",
        "1. Scatter plot\n",
        "2. Histogram\n",
        "3. Box plot\n",
        "4. Count plot\n",
        "5. Pie chart\n",
        "6. Correlation heatmap\n",
        "7. Pair plot\n",
        "\n",
        "Let's first try to create scatter plots between all the features and the target variable.\n",
        "\n",
        "Let us add a drop-down list that allows a user to select multiple options. This will allow a user to select the values to be plotted on the $x$-axis of a scatter plot as we are fixing the `GlassType` column as the values to be plotted on the $y$-axis.\n",
        "\n",
        "<center><img src=\"https://s3-whjr-v2-prod-bucket.whjr.online/e05308c2-dc7a-4126-a968-56d81b911c86.gif\"></center>\n",
        "\n",
        "To select multiple values from a drop-down list, we use **multiselect** widget of Streamlit. It returns a list of selected options.\n",
        "\n",
        "**Syntax:** `st.multiselect(label, (options))`\n",
        "\n",
        "Here,\n",
        "  - `label`: A short label explaining to the user what this widget is for.\n",
        "  - `(options)`: Options that will go into the drop-down. These options are provided either in the form of a `list` or in the form of a `tuple`.\n",
        "\n",
        "Let us now add a multiselect widget in the sidebar that will allow us to choose multiple $x$-axis values for the scatter plots.\n",
        "\n",
        "**Note:** Don't run the code shown below. It will throw an error.\n"
      ]
    },
    {
      "cell_type": "code",
      "metadata": {
        "id": "zxI_nfdnMO8J"
      },
      "source": [
        "# S6.1: Scatter Plot between the features and the target variable.\n",
        "# Add a subheader in the sidebar with label \"Scatter Plot\".\n",
        "st.sidebar.subheader(\"Scatter Plot\")\n",
        "\n",
        "# Choosing x-axis values for the scatter plot.\n",
        "# Add a multiselect in the sidebar with the 'Select the x-axis values:' label\n",
        "# and pass all the 9 features as a tuple i.e. ('RI', 'Na', 'Mg', 'Al', 'Si', 'K', 'Ca', 'Ba', 'Fe') as options.\n",
        "# Store the current value of this widget in the 'features_list' variable.\n",
        "features_list = st.sidebar.multiselect(\"Select the x-axis values:\",\n",
        "                                            ('RI', 'Na', 'Mg', 'Al', 'Si', 'K', 'Ca', 'Ba', 'Fe'))"
      ],
      "execution_count": null,
      "outputs": []
    },
    {
      "cell_type": "markdown",
      "metadata": {
        "id": "vce3YmnwOmUs"
      },
      "source": [
        "In the above code, the `features_list` holds multiple features selected by the user. The scatter plot will be plotted with each selected feature on the $x$-axis and `GlassType` column on $y$-axis.\n",
        "\n",
        "**Displaying Scatter plot:**\n",
        "\n",
        "You can display any `matplotlib` and `seaborn` plots using `st.pyplot()` function. You can think of `st.pyplot()` as an equivalent to `plt.show()`.\n",
        "\n",
        "Now we will create the scatter plot for each of the selected features by iterating through each feature contained in the `features_list` and using the `scatterplot()` function of the `seaborn` module. You may use the `scatter()` function of the `matplotlib.pyplot` module as well for the same task.\n",
        "\n",
        "\n",
        "**Note:**\n",
        "- While using `st.pyplot()`, you will see a find \"Deprecation warning\" on your webpage. To remove that warning, add the following line before using `st.pyplot()`:\n",
        "\n",
        "  `st.set_option('deprecation.showPyplotGlobalUse', False)`\n",
        "\n",
        "- Don't run the code shown below. It will throw an error."
      ]
    },
    {
      "cell_type": "code",
      "metadata": {
        "id": "HeA85ZCHOaAi"
      },
      "source": [
        "# S6.2: Create scatter plots between the features and the target variable.\n",
        "# Remove deprecation warning.\n"
      ],
      "execution_count": null,
      "outputs": []
    },
    {
      "cell_type": "markdown",
      "metadata": {
        "id": "w08DCVjbUeEp"
      },
      "source": [
        "In the above code, observe that `st.pyplot()` is used for plotting each scatter plot. If it is not specified after creating a plot, then that plot object will reside in memory but it won't be rendered on the screen.\n",
        "\n",
        "In the same way, you can display histograms for all the desired features using **multiselect** widget and `hist()` function of the `matplotlib.pyplot` module.\n",
        "\n",
        "**Note:** Don't run the code shown below. It will throw an error."
      ]
    },
    {
      "cell_type": "code",
      "metadata": {
        "id": "4Bxb53OGUf-e"
      },
      "source": [
        "# S6.3: Create histograms for all the features.\n",
        "# Sidebar for histograms.\n",
        "\n",
        "# Choosing features for histograms.\n",
        "\n",
        "# Create histograms.\n"
      ],
      "execution_count": null,
      "outputs": []
    },
    {
      "cell_type": "markdown",
      "metadata": {
        "id": "z_IPrno6c2r0"
      },
      "source": [
        "In the above code, the `hist_features` variable holds the columns selected by the user for which the histogram is to be plotted.\n",
        "\n",
        "Similarly,  you can create box plots for all the selected features using **multiselect** widget and `boxplot()` function of the `seaborn` module.\n",
        "\n",
        "**Note:** Don't run the code shown below. It will throw an error."
      ]
    },
    {
      "cell_type": "code",
      "metadata": {
        "id": "Zxgafh2Ic635"
      },
      "source": [
        "# S6.4: Create box plots for all the columns.\n",
        "# Sidebar for box plots.\n",
        "\n",
        "# Choosing columns for box plots.\n",
        "\n",
        "# Create box plots.\n"
      ],
      "execution_count": null,
      "outputs": []
    },
    {
      "cell_type": "markdown",
      "metadata": {
        "id": "z337yHqlX6Ef"
      },
      "source": [
        "In the above code, the `box_plot_cols` variable holds the columns selected by the user for which the box plot is to be plotted.\n",
        "\n",
        "After adding the code for all the three plots, the app can be visualised as follows:\n",
        "\n",
        "<center><img src=\"https://s3-whjr-v2-prod-bucket.whjr.online/b4885645-8ef9-4e39-ad1c-699c7d1efa02.gif\"/></center>\n",
        "\n",
        "You can get the code file i.e. `glass_type_app.py` from the following link:\n",
        "\n",
        "https://drive.google.com/drive/folders/1FMiUPAo6WeRlHduJ309AcvMq_t7dBDX1"
      ]
    },
    {
      "cell_type": "markdown",
      "metadata": {
        "id": "Q3dfbgEYRC3t"
      },
      "source": [
        "---"
      ]
    },
    {
      "cell_type": "markdown",
      "metadata": {
        "id": "XMHqNlvKiyx0"
      },
      "source": [
        "### **Project**\n",
        "You can now attempt the **Applied Tech Project 94 - Streamlit Widgets I** on your own.\n",
        "\n",
        "**Applied Tech Project 94 - Streamlit Widgets I**: https://colab.research.google.com/drive/14AXadNtfaPV0uCK7d89HHIFaEWXXvC1S"
      ]
    },
    {
      "cell_type": "markdown",
      "metadata": {
        "id": "AAQYZ4AWi9Hh"
      },
      "source": [
        "---"
      ]
    }
  ]
}