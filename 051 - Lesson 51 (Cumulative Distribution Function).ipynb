{
  "nbformat": 4,
  "nbformat_minor": 0,
  "metadata": {
    "colab": {
      "provenance": [],
      "include_colab_link": true
    },
    "kernelspec": {
      "name": "python3",
      "display_name": "Python 3"
    }
  },
  "cells": [
    {
      "cell_type": "markdown",
      "metadata": {
        "id": "view-in-github",
        "colab_type": "text"
      },
      "source": [
        "<a href=\"https://colab.research.google.com/github/rohansiddam/Python-Journey/blob/main/051%20-%20Lesson%2051%20(Cumulative%20Distribution%20Function).ipynb\" target=\"_parent\"><img src=\"https://colab.research.google.com/assets/colab-badge.svg\" alt=\"Open In Colab\"/></a>"
      ]
    },
    {
      "cell_type": "markdown",
      "metadata": {
        "id": "Q7hw3pDcIn2J"
      },
      "source": [
        "# Lesson 51: Cumulative Distribution Function\n"
      ]
    },
    {
      "cell_type": "markdown",
      "metadata": {
        "id": "3U_BAlxOnVuh"
      },
      "source": [
        "### Teacher-Student Activities\n",
        "\n",
        "In the previous class, we calculated the $Z$-scores for cholesterol values of patients not having heart disease and also plotted its probability distribution. This distribution is also known as **Standard Normal Distribution**, where the mean and standard deviation will be always 0 and 1 respectively.\n",
        "\n",
        "In this class, we will find out:\n",
        "\n",
        "- How many patients who are not suffering from heart disease have cholesterol values between 150 and 200.\n",
        "- How many patients who are not suffering from heart disease have cholesterol value above 200.\n",
        "\n",
        "For this, we are going to use the concept of $Z$-scores.\n",
        "\n",
        "Let's quickly go through the activities covered in the previous class and begin this class from **Activity 1**.\n"
      ]
    },
    {
      "cell_type": "markdown",
      "metadata": {
        "id": "Gn0HLG8mtLo-"
      },
      "source": [
        "---"
      ]
    },
    {
      "cell_type": "markdown",
      "metadata": {
        "id": "ze9uSJt-I-0E"
      },
      "source": [
        "**Data Description**\n",
        "\n",
        "The heart Disease UCI dataset contains data collected on 14 different attributes by examining 303 patients. The dataset focuses only on differentiating patients having heart disease; labelled as value 1 and those not having heart disease; labelled as value 0. The 14 attributes (or columns) are as follows:\n",
        "\n",
        "|Columns|Description|\n",
        "|-|-|\n",
        "|age|age in years|\n",
        "|sex|sex (1 = male; 0 = female)|\n",
        "|cp|chest pain type (4 values)|\n",
        "|trestbps|resting blood pressure (in mm Hg on admission to the hospital)|\n",
        "|chol|serum cholesterol in $\\frac{mg}{dl}$|\n",
        "|fbs|fasting blood sugar > 120 $\\frac{mg}{dl}$|\n",
        "|restecg|resting electrocardiographic results (values 0, 1, 2)|\n",
        "|thalach|maximum heart rate achieved|\n",
        "|exang|exercise induced angina (1 = yes; 0 = no)|\n",
        "|oldpeak|ST depression induced by exercise relative to rest|\n",
        "|slope|the slope of the peak exercise ST segment|\n",
        "|ca|number of major vessels (0-3) colored by fluoroscopy|\n",
        "|thal|A blood disorder called thalassemia|\n",
        "|target|1 = presence of heart disease; 0 = absence of heart disease|\n",
        "\n",
        "**Source:** https://archive.ics.uci.edu/ml/datasets/Heart+Disease\n",
        "\n",
        "\n"
      ]
    },
    {
      "cell_type": "markdown",
      "metadata": {
        "id": "BpKI2pWEtREK"
      },
      "source": [
        "---"
      ]
    },
    {
      "cell_type": "markdown",
      "metadata": {
        "id": "zvlK3lxPrnjT"
      },
      "source": [
        "#### Loading The Dataset\n",
        "\n",
        "Dataset Link (do not click on it):\n",
        "\n",
        "https://student-datasets-bucket.s3.ap-south-1.amazonaws.com/whitehat-ds-datasets/uci-heart-disease/heart.csv"
      ]
    },
    {
      "cell_type": "code",
      "metadata": {
        "id": "tmRB05lddS--",
        "colab": {
          "base_uri": "https://localhost:8080/",
          "height": 206
        },
        "outputId": "a9c877f4-4c85-475a-e5e9-82dd16fa42c0"
      },
      "source": [
        "# Import the required modules and load the heart disease dataset. Also, display the first five rows.\n",
        "import numpy as np\n",
        "import pandas as pd\n",
        "import matplotlib.pyplot as plt\n",
        "import seaborn as sns\n",
        "\n",
        "csv_file = 'https://student-datasets-bucket.s3.ap-south-1.amazonaws.com/whitehat-ds-datasets/uci-heart-disease/heart.csv'\n",
        "df = pd.read_csv(csv_file)\n",
        "df.head()"
      ],
      "execution_count": null,
      "outputs": [
        {
          "output_type": "execute_result",
          "data": {
            "text/plain": [
              "   age  sex  cp  trestbps  chol  fbs  restecg  thalach  exang  oldpeak  slope  \\\n",
              "0   63    1   3       145   233    1        0      150      0      2.3      0   \n",
              "1   37    1   2       130   250    0        1      187      0      3.5      0   \n",
              "2   41    0   1       130   204    0        0      172      0      1.4      2   \n",
              "3   56    1   1       120   236    0        1      178      0      0.8      2   \n",
              "4   57    0   0       120   354    0        1      163      1      0.6      2   \n",
              "\n",
              "   ca  thal  target  \n",
              "0   0     1       1  \n",
              "1   0     2       1  \n",
              "2   0     2       1  \n",
              "3   0     2       1  \n",
              "4   0     2       1  "
            ],
            "text/html": [
              "\n",
              "  <div id=\"df-297e2243-e2e1-4cf3-a07c-e535aff2f769\">\n",
              "    <div class=\"colab-df-container\">\n",
              "      <div>\n",
              "<style scoped>\n",
              "    .dataframe tbody tr th:only-of-type {\n",
              "        vertical-align: middle;\n",
              "    }\n",
              "\n",
              "    .dataframe tbody tr th {\n",
              "        vertical-align: top;\n",
              "    }\n",
              "\n",
              "    .dataframe thead th {\n",
              "        text-align: right;\n",
              "    }\n",
              "</style>\n",
              "<table border=\"1\" class=\"dataframe\">\n",
              "  <thead>\n",
              "    <tr style=\"text-align: right;\">\n",
              "      <th></th>\n",
              "      <th>age</th>\n",
              "      <th>sex</th>\n",
              "      <th>cp</th>\n",
              "      <th>trestbps</th>\n",
              "      <th>chol</th>\n",
              "      <th>fbs</th>\n",
              "      <th>restecg</th>\n",
              "      <th>thalach</th>\n",
              "      <th>exang</th>\n",
              "      <th>oldpeak</th>\n",
              "      <th>slope</th>\n",
              "      <th>ca</th>\n",
              "      <th>thal</th>\n",
              "      <th>target</th>\n",
              "    </tr>\n",
              "  </thead>\n",
              "  <tbody>\n",
              "    <tr>\n",
              "      <th>0</th>\n",
              "      <td>63</td>\n",
              "      <td>1</td>\n",
              "      <td>3</td>\n",
              "      <td>145</td>\n",
              "      <td>233</td>\n",
              "      <td>1</td>\n",
              "      <td>0</td>\n",
              "      <td>150</td>\n",
              "      <td>0</td>\n",
              "      <td>2.3</td>\n",
              "      <td>0</td>\n",
              "      <td>0</td>\n",
              "      <td>1</td>\n",
              "      <td>1</td>\n",
              "    </tr>\n",
              "    <tr>\n",
              "      <th>1</th>\n",
              "      <td>37</td>\n",
              "      <td>1</td>\n",
              "      <td>2</td>\n",
              "      <td>130</td>\n",
              "      <td>250</td>\n",
              "      <td>0</td>\n",
              "      <td>1</td>\n",
              "      <td>187</td>\n",
              "      <td>0</td>\n",
              "      <td>3.5</td>\n",
              "      <td>0</td>\n",
              "      <td>0</td>\n",
              "      <td>2</td>\n",
              "      <td>1</td>\n",
              "    </tr>\n",
              "    <tr>\n",
              "      <th>2</th>\n",
              "      <td>41</td>\n",
              "      <td>0</td>\n",
              "      <td>1</td>\n",
              "      <td>130</td>\n",
              "      <td>204</td>\n",
              "      <td>0</td>\n",
              "      <td>0</td>\n",
              "      <td>172</td>\n",
              "      <td>0</td>\n",
              "      <td>1.4</td>\n",
              "      <td>2</td>\n",
              "      <td>0</td>\n",
              "      <td>2</td>\n",
              "      <td>1</td>\n",
              "    </tr>\n",
              "    <tr>\n",
              "      <th>3</th>\n",
              "      <td>56</td>\n",
              "      <td>1</td>\n",
              "      <td>1</td>\n",
              "      <td>120</td>\n",
              "      <td>236</td>\n",
              "      <td>0</td>\n",
              "      <td>1</td>\n",
              "      <td>178</td>\n",
              "      <td>0</td>\n",
              "      <td>0.8</td>\n",
              "      <td>2</td>\n",
              "      <td>0</td>\n",
              "      <td>2</td>\n",
              "      <td>1</td>\n",
              "    </tr>\n",
              "    <tr>\n",
              "      <th>4</th>\n",
              "      <td>57</td>\n",
              "      <td>0</td>\n",
              "      <td>0</td>\n",
              "      <td>120</td>\n",
              "      <td>354</td>\n",
              "      <td>0</td>\n",
              "      <td>1</td>\n",
              "      <td>163</td>\n",
              "      <td>1</td>\n",
              "      <td>0.6</td>\n",
              "      <td>2</td>\n",
              "      <td>0</td>\n",
              "      <td>2</td>\n",
              "      <td>1</td>\n",
              "    </tr>\n",
              "  </tbody>\n",
              "</table>\n",
              "</div>\n",
              "      <button class=\"colab-df-convert\" onclick=\"convertToInteractive('df-297e2243-e2e1-4cf3-a07c-e535aff2f769')\"\n",
              "              title=\"Convert this dataframe to an interactive table.\"\n",
              "              style=\"display:none;\">\n",
              "        \n",
              "  <svg xmlns=\"http://www.w3.org/2000/svg\" height=\"24px\"viewBox=\"0 0 24 24\"\n",
              "       width=\"24px\">\n",
              "    <path d=\"M0 0h24v24H0V0z\" fill=\"none\"/>\n",
              "    <path d=\"M18.56 5.44l.94 2.06.94-2.06 2.06-.94-2.06-.94-.94-2.06-.94 2.06-2.06.94zm-11 1L8.5 8.5l.94-2.06 2.06-.94-2.06-.94L8.5 2.5l-.94 2.06-2.06.94zm10 10l.94 2.06.94-2.06 2.06-.94-2.06-.94-.94-2.06-.94 2.06-2.06.94z\"/><path d=\"M17.41 7.96l-1.37-1.37c-.4-.4-.92-.59-1.43-.59-.52 0-1.04.2-1.43.59L10.3 9.45l-7.72 7.72c-.78.78-.78 2.05 0 2.83L4 21.41c.39.39.9.59 1.41.59.51 0 1.02-.2 1.41-.59l7.78-7.78 2.81-2.81c.8-.78.8-2.07 0-2.86zM5.41 20L4 18.59l7.72-7.72 1.47 1.35L5.41 20z\"/>\n",
              "  </svg>\n",
              "      </button>\n",
              "      \n",
              "  <style>\n",
              "    .colab-df-container {\n",
              "      display:flex;\n",
              "      flex-wrap:wrap;\n",
              "      gap: 12px;\n",
              "    }\n",
              "\n",
              "    .colab-df-convert {\n",
              "      background-color: #E8F0FE;\n",
              "      border: none;\n",
              "      border-radius: 50%;\n",
              "      cursor: pointer;\n",
              "      display: none;\n",
              "      fill: #1967D2;\n",
              "      height: 32px;\n",
              "      padding: 0 0 0 0;\n",
              "      width: 32px;\n",
              "    }\n",
              "\n",
              "    .colab-df-convert:hover {\n",
              "      background-color: #E2EBFA;\n",
              "      box-shadow: 0px 1px 2px rgba(60, 64, 67, 0.3), 0px 1px 3px 1px rgba(60, 64, 67, 0.15);\n",
              "      fill: #174EA6;\n",
              "    }\n",
              "\n",
              "    [theme=dark] .colab-df-convert {\n",
              "      background-color: #3B4455;\n",
              "      fill: #D2E3FC;\n",
              "    }\n",
              "\n",
              "    [theme=dark] .colab-df-convert:hover {\n",
              "      background-color: #434B5C;\n",
              "      box-shadow: 0px 1px 3px 1px rgba(0, 0, 0, 0.15);\n",
              "      filter: drop-shadow(0px 1px 2px rgba(0, 0, 0, 0.3));\n",
              "      fill: #FFFFFF;\n",
              "    }\n",
              "  </style>\n",
              "\n",
              "      <script>\n",
              "        const buttonEl =\n",
              "          document.querySelector('#df-297e2243-e2e1-4cf3-a07c-e535aff2f769 button.colab-df-convert');\n",
              "        buttonEl.style.display =\n",
              "          google.colab.kernel.accessAllowed ? 'block' : 'none';\n",
              "\n",
              "        async function convertToInteractive(key) {\n",
              "          const element = document.querySelector('#df-297e2243-e2e1-4cf3-a07c-e535aff2f769');\n",
              "          const dataTable =\n",
              "            await google.colab.kernel.invokeFunction('convertToInteractive',\n",
              "                                                     [key], {});\n",
              "          if (!dataTable) return;\n",
              "\n",
              "          const docLinkHtml = 'Like what you see? Visit the ' +\n",
              "            '<a target=\"_blank\" href=https://colab.research.google.com/notebooks/data_table.ipynb>data table notebook</a>'\n",
              "            + ' to learn more about interactive tables.';\n",
              "          element.innerHTML = '';\n",
              "          dataTable['output_type'] = 'display_data';\n",
              "          await google.colab.output.renderOutput(dataTable, element);\n",
              "          const docLink = document.createElement('div');\n",
              "          docLink.innerHTML = docLinkHtml;\n",
              "          element.appendChild(docLink);\n",
              "        }\n",
              "      </script>\n",
              "    </div>\n",
              "  </div>\n",
              "  "
            ]
          },
          "metadata": {},
          "execution_count": 20
        }
      ]
    },
    {
      "cell_type": "markdown",
      "metadata": {
        "id": "sGpxIyIekrMc"
      },
      "source": [
        "Let's first look at the complete information on the `df` DataFrame."
      ]
    },
    {
      "cell_type": "code",
      "metadata": {
        "id": "uMF64i2_ks5S",
        "colab": {
          "base_uri": "https://localhost:8080/"
        },
        "outputId": "290bb758-9bd8-4850-d6d1-f28852555169"
      },
      "source": [
        "# DataFrame information.\n",
        "df.info()"
      ],
      "execution_count": null,
      "outputs": [
        {
          "output_type": "stream",
          "name": "stdout",
          "text": [
            "<class 'pandas.core.frame.DataFrame'>\n",
            "RangeIndex: 303 entries, 0 to 302\n",
            "Data columns (total 14 columns):\n",
            " #   Column    Non-Null Count  Dtype  \n",
            "---  ------    --------------  -----  \n",
            " 0   age       303 non-null    int64  \n",
            " 1   sex       303 non-null    int64  \n",
            " 2   cp        303 non-null    int64  \n",
            " 3   trestbps  303 non-null    int64  \n",
            " 4   chol      303 non-null    int64  \n",
            " 5   fbs       303 non-null    int64  \n",
            " 6   restecg   303 non-null    int64  \n",
            " 7   thalach   303 non-null    int64  \n",
            " 8   exang     303 non-null    int64  \n",
            " 9   oldpeak   303 non-null    float64\n",
            " 10  slope     303 non-null    int64  \n",
            " 11  ca        303 non-null    int64  \n",
            " 12  thal      303 non-null    int64  \n",
            " 13  target    303 non-null    int64  \n",
            "dtypes: float64(1), int64(13)\n",
            "memory usage: 33.3 KB\n"
          ]
        }
      ]
    },
    {
      "cell_type": "markdown",
      "metadata": {
        "id": "HmVF8din7MaK"
      },
      "source": [
        "\n",
        "Let's consider the population of patients NOT having heart disease."
      ]
    },
    {
      "cell_type": "code",
      "metadata": {
        "id": "t5rB_VTu7OAL",
        "colab": {
          "base_uri": "https://localhost:8080/"
        },
        "outputId": "37400fd0-9825-4d25-dfb2-7f6c870621b6"
      },
      "source": [
        "# Pandas series containing the cholesterol levels for the patients not having heart disease\n",
        "chol_not_having_disease = df.loc[df['target'] == 0, 'chol']\n",
        "chol_not_having_disease"
      ],
      "execution_count": null,
      "outputs": [
        {
          "output_type": "execute_result",
          "data": {
            "text/plain": [
              "165    286\n",
              "166    229\n",
              "167    268\n",
              "168    254\n",
              "169    203\n",
              "      ... \n",
              "298    241\n",
              "299    264\n",
              "300    193\n",
              "301    131\n",
              "302    236\n",
              "Name: chol, Length: 138, dtype: int64"
            ]
          },
          "metadata": {},
          "execution_count": 22
        }
      ]
    },
    {
      "cell_type": "markdown",
      "metadata": {
        "id": "f6cHtaNIxePz"
      },
      "source": [
        "---"
      ]
    },
    {
      "cell_type": "markdown",
      "metadata": {
        "id": "J0lmPf8p77nc"
      },
      "source": [
        "#### Activity 1: Calculating Probabilities Using $Z$-Score^\n",
        "\n",
        "In the previous class, we had also calculated the $Z$-scores for all the values in the `chol_not_having_disease` Pandas series by creating a function `get_zscore()`."
      ]
    },
    {
      "cell_type": "code",
      "metadata": {
        "id": "7WoO50_c8vAG"
      },
      "source": [
        "# S1.1: Create a Function to calculate Z-scores of all cholesterol values\n",
        "def get_zscore(array):\n",
        "  z_score = ((array - np.mean(array)) / np.std(array))\n",
        "  return z_score\n",
        "# Obtain Z-scores for all patients not having heart disease\n",
        "no_disease = get_zscore(chol_not_having_disease)"
      ],
      "execution_count": null,
      "outputs": []
    },
    {
      "cell_type": "markdown",
      "metadata": {
        "id": "wX7MnOk-alxO"
      },
      "source": [
        "$Z$-scores allows us to calculate the probability of a continuous random variable or percentage of area under the standard normal distribution curve.\n",
        "\n",
        "Recall that in one of our previous class, to calculate the probability of a continuous random variable, we used the **Probability Density Function (PDF)**, i.e.,\n",
        "\n",
        "\n",
        "$$\\rho(x) = \\frac{1}{\\sigma \\sqrt{2 \\pi}}e^{-\\frac{1}{2\\sigma^2}(x - \\mu)^2}$$\n",
        "\n",
        "where,\n",
        "\n",
        "- $\\rho (x)$ read as **Rho**, is dependent on $x$ which is some arbitrary value of the random variable $X$.\n",
        "\n",
        "- $\\sigma$ is the standard deviation of the sample.\n",
        "\n",
        "- $\\mu$ is the mean value of the sample.\n",
        "\n",
        "- $e = 2.71$ and $\\pi = 3.14$\n",
        "\n",
        "We had also created a function `prob_density_func()` to calculate the **Probability Density Function (PDF)** of a continuous random variable.\n"
      ]
    },
    {
      "cell_type": "code",
      "metadata": {
        "id": "q2cBbFXHDCNh"
      },
      "source": [
        "# S1.2: Create a function to calculate the individual probabilities of cholesterol values.\n",
        "def prob_density_func(array, mean, std):\n",
        "  base = 1 / (std * np.sqrt(2 * np.pi))\n",
        "  exp = np.exp(-((array - mean) ** 2) / (2 * std ** 2) )\n",
        "  prob_dens = base * exp\n",
        "  return prob_dens"
      ],
      "execution_count": null,
      "outputs": []
    },
    {
      "cell_type": "markdown",
      "metadata": {
        "id": "egfuAr7bC_07"
      },
      "source": [
        "If you rearrange the terms in the power of $e$, you will get an expression for $Z$-score\n",
        "\n",
        "$$\\rho(x) = \\frac{1}{\\sigma \\sqrt{2 \\pi}}e^{-\\frac{1}{2}\\left(\\frac{x - \\mu}{\\sigma}\\right)^2}$$\n",
        "\n",
        "$$\\Rightarrow \\rho(x) = \\frac{1}{\\sigma \\sqrt{2 \\pi}}e^{-\\frac{1}{2}Z^2}$$\n",
        "\n",
        "where $Z = \\frac{x - \\mu}{\\sigma}$\n",
        "\n",
        "To find the probability of a patient not suffering from heart disease and have a cholesterol value (denoted by random variable $X$) between 150 and 200, i.e., $150 \\le X \\le 200$, we need to calculate area under the curve enclosed between $X = 150$ and $X = 200$.\n",
        "\n",
        "Let us first plot the individual probabilities of cholesterol values of patients not having heart disease and shade the area between $X = 150$ and $X = 200$ i.e. $P(150 \\le X \\le 200)$\n"
      ]
    },
    {
      "cell_type": "code",
      "metadata": {
        "id": "i2m2Q4iEl6hY",
        "colab": {
          "base_uri": "https://localhost:8080/",
          "height": 265
        },
        "outputId": "17725877-0d85-439e-a0e0-1c5ac757691f"
      },
      "source": [
        "from matplotlib.image import pil_to_array\n",
        "# T1.1: Plot normal distribution of cholesterol values for the patients not having heart disease.\n",
        "# Also, fill the area between X = 150 and X = 200.\n",
        "prob = prob_density_func(chol_not_having_disease.sort_values(), chol_not_having_disease.mean(), chol_not_having_disease.std())\n",
        "region_to_fill = prob_density_func(np.arange(150,201), chol_not_having_disease.mean(), chol_not_having_disease.std())\n",
        "plt.figure(figsize = (10,4))\n",
        "plt.plot(chol_not_having_disease.sort_values(), prob)\n",
        "plt.fill_between(np.arange(150,201), region_to_fill, facecolor = 'blue')\n",
        "plt.axvline(x = 150)\n",
        "plt.axvline(x = 200)\n",
        "plt.show()"
      ],
      "execution_count": null,
      "outputs": [
        {
          "output_type": "display_data",
          "data": {
            "text/plain": [
              "<Figure size 720x288 with 1 Axes>"
            ],
            "image/png": "[encoded data removed]"
          },
          "metadata": {
            "needs_background": "light"
          }
        }
      ]
    },
    {
      "cell_type": "markdown",
      "metadata": {
        "id": "fuBgGKafnno7"
      },
      "source": [
        "In the above code, we performed following tasks:\n",
        "- First, we calculated the probabilities of values between 150 and 200 by passing following three parameters to the `prob_density_func()` function:\n",
        "    1. An array of values from 150 to 200.\n",
        "    2. Mean cholesterol value.\n",
        "    3. Standard deviation of cholesterol values.\n",
        "\n",
        "- Then, we calculated the probabilities of all cholesterol values of patients not having heart disease by passing the following three parameters to the function `prob_density_func()`:\n",
        "    1. A sorted DataFrame consisting of the population of patients not having heart disease.\n",
        "    2. Mean cholesterol value.\n",
        "    3. Standard deviation of cholesterol values.\n",
        "\n",
        "- Next, we plotted our normal distribution with $x$-axis having sorted cholesterol values and $y$-axis representing probability densities of cholesterol values.\n",
        "\n",
        "- To fill the area between the PDF, $X = 150$ and $X = 180$, we used `fill_between()` function. It requires the two following parameters:\n",
        "    - `x`=  An array of values from 150 to 200.\n",
        "    - `y1`= Probability density values for cholesterol level between 150 and 200.\n",
        "\n",
        "Now, to find the area of the shaded region, we will evaluate the following expression:\n",
        "\n",
        "$$P(150 \\le X \\le 200) = \\int_{150}^{200} \\rho (x) dx$$\n",
        "\n",
        "In one of our previous class, we had calculated $P(150 \\le X \\le 200)$ using `quad()` function of the `integrate` module. But here, we can do this by using the concept of $Z$-scores as follows:\n",
        "\n",
        "$$P(150 \\le X \\le 200)$$\n",
        "\n",
        "$$= P\\left(\\frac {150-\\mu}{\\sigma} \\le \\frac {X-\\mu}{\\sigma} \\le \\frac {200-\\mu}{\\sigma}\\right)$$\n",
        "\n",
        "$$= P\\left(\\frac {150-\\mu}{\\sigma} \\le Z \\le \\frac {200-\\mu}{\\sigma}\\right)$$\n",
        "\n",
        "$$= P(z_{1} \\le Z \\le z_{2})$$\n",
        "\n",
        "$$= P(Z \\le z_{2}) - P(Z \\le z_{1})$$\n",
        "\n",
        "where,\n",
        "\n",
        "- $z_{1}$ is the $Z$-score of cholesterol level $150$\n",
        "\n",
        "- $z_{2}$ is the $Z$-score of cholesterol level $200$\n",
        "\n",
        "- $\\mu$ is the mean cholesterol level for the patients not having heart disease\n",
        "\n",
        "- $\\sigma$ is the standard deviation in the cholesterol level for the patients not having heart disease\n",
        "\n"
      ]
    },
    {
      "cell_type": "markdown",
      "metadata": {
        "id": "HcP5cDNqakOH"
      },
      "source": [
        "---"
      ]
    },
    {
      "cell_type": "markdown",
      "metadata": {
        "id": "IY_ZBLpz9nH-"
      },
      "source": [
        "#### Activity 2: Probability Calculation Using `cdf()` Function^^\n",
        "\n",
        "Now let's find out the probability of patients not suffering from heart disease and having cholesterol levels less than 200. To do this, perform the following tasks:\n",
        "- First compute the $Z$-score for 200 using the following expression $$Z = \\frac{X - \\mu}{\\sigma}$$\n",
        "  \n",
        "  where $X = 200$\n",
        "\n",
        "- Then apply the `cdf()` function of the `scipy` module."
      ]
    },
    {
      "cell_type": "code",
      "metadata": {
        "id": "-fhFN7NfvgmJ",
        "colab": {
          "base_uri": "https://localhost:8080/"
        },
        "outputId": "fde5a0e9-1c17-4725-d36c-089625cc4798"
      },
      "source": [
        "# T2.1: Calculate the z-score for the cholesterol level of 200.\n",
        "get_zscore_200 = (200 - chol_not_having_disease.mean()) / chol_not_having_disease.std()\n",
        "print(get_zscore_200)"
      ],
      "execution_count": null,
      "outputs": [
        {
          "output_type": "stream",
          "name": "stdout",
          "text": [
            "-1.0330068885126855\n"
          ]
        }
      ]
    },
    {
      "cell_type": "markdown",
      "metadata": {
        "id": "YCtOty7EGuFR"
      },
      "source": [
        "Now calculate probability of patients not having heart disease having cholesterol less than 200, i.e., $P(Z \\le -1.033)$ and plot these individual probabilities."
      ]
    },
    {
      "cell_type": "code",
      "metadata": {
        "id": "QX4KIoJehGsL",
        "colab": {
          "base_uri": "https://localhost:8080/",
          "height": 265
        },
        "outputId": "3407821e-0f61-4d4a-9cf1-ae22743fbc53"
      },
      "source": [
        "# T2.2: Create normal distribution of cholesterol values less than 200. Also, fill the area for X < 200.\n",
        "prob = prob_density_func(chol_not_having_disease.sort_values(), chol_not_having_disease.mean(), chol_not_having_disease.std())\n",
        "region_to_fill = prob_density_func(np.arange(chol_not_having_disease.min(), 200), chol_not_having_disease.mean(), chol_not_having_disease.std())\n",
        "plt.figure(figsize = (10,4))\n",
        "plt.plot(chol_not_having_disease.sort_values(), prob)\n",
        "plt.fill_between(np.arange(chol_not_having_disease.min(), 200), region_to_fill, facecolor = 'green')\n",
        "plt.axvline(x = chol_not_having_disease.min())\n",
        "plt.axvline(x = 200)\n",
        "plt.show()"
      ],
      "execution_count": null,
      "outputs": [
        {
          "output_type": "display_data",
          "data": {
            "text/plain": [
              "<Figure size 720x288 with 1 Axes>"
            ],
            "image/png": "[encoded data removed]"
          },
          "metadata": {
            "needs_background": "light"
          }
        }
      ]
    },
    {
      "cell_type": "markdown",
      "metadata": {
        "id": "2VagwyTkWbMi"
      },
      "source": [
        "Now, calculate the probability of above shaded area i.e. $P(X \\le 200)$.  This filled area represents the cumulative distribution function of values less than 200.\n",
        "\n",
        "**Q: What is the cumulative distribution function (CDF)?**\n",
        "\n",
        "**A:** A cumulative distribution function (CDF) of a random variable $X$ is the probability that $X$ will take a value less than or equal to a specific value ($x$) i.e.\n",
        "$$\\text{CDF}(X) = P(X \\le x)$$\n",
        "\n",
        "Here, we will use in-built function `norm.cdf()` of the `scipy.stats` module to calculate $P(X \\le 200)$ i.e. $P(Z \\le -1.033)$. This function takes an argument of a $Z$-score for an observation and returns the proportion of values less than that observation.\n",
        "\n",
        "**Syntax:** `scipy.stats.norm.cdf(zscore)`\n"
      ]
    },
    {
      "cell_type": "code",
      "metadata": {
        "id": "i07wrkc6GlPP",
        "colab": {
          "base_uri": "https://localhost:8080/"
        },
        "outputId": "b7edc863-f809-471e-d9ec-cda224b37920"
      },
      "source": [
        "# T2.3: Calculate the probability of patients not having heart disease having cholesterol less than 200.\n",
        "from scipy.stats import norm\n",
        "\n",
        "norm_200 = norm.cdf(get_zscore_200)\n",
        "print(norm_200)"
      ],
      "execution_count": null,
      "outputs": [
        {
          "output_type": "stream",
          "name": "stdout",
          "text": [
            "0.15080033750158178\n"
          ]
        }
      ]
    },
    {
      "cell_type": "markdown",
      "metadata": {
        "id": "Cok5TULxGBbp"
      },
      "source": [
        "\n",
        "Thus, the probability of patients not having heart disease having cholesterol level less than 200 is 15.08% or you can say that approx 15% of the patients not having heart disease have the cholesterol level less than 200.\n",
        "\n",
        "Similarly, compute the $Z$-score for cholesterol level of 150."
      ]
    },
    {
      "cell_type": "code",
      "metadata": {
        "id": "kZH5JYdDTC8l",
        "colab": {
          "base_uri": "https://localhost:8080/"
        },
        "outputId": "2ef522bc-6141-44d4-df68-b3cc8f863b16"
      },
      "source": [
        "# S2.1: Find the z-score for cholesterol level of 150.\n",
        "get_zscore_150 = (150 - chol_not_having_disease.mean()) / chol_not_having_disease.std()\n",
        "print(get_zscore_150)"
      ],
      "execution_count": null,
      "outputs": [
        {
          "output_type": "stream",
          "name": "stdout",
          "text": [
            "-2.0440349070570165\n"
          ]
        }
      ]
    },
    {
      "cell_type": "markdown",
      "metadata": {
        "id": "iRxHNlN00uwi"
      },
      "source": [
        "Now, calculate probability of patients not having heart disease having cholesterol less than 150, i.e., $P(Z \\le -2.044)$ and plot these individual probabilities."
      ]
    },
    {
      "cell_type": "code",
      "metadata": {
        "id": "0yhNEPwTiRm8",
        "colab": {
          "base_uri": "https://localhost:8080/",
          "height": 265
        },
        "outputId": "45df92f9-5f39-41ef-d72b-56885bea00ac"
      },
      "source": [
        "# S2.2: Create a normal distribution of cholesterol values less than 150. Also, fill the area for X < 150.\n",
        "prob = prob_density_func(chol_not_having_disease.sort_values(), chol_not_having_disease.mean(), chol_not_having_disease.std())\n",
        "region_to_fill = prob_density_func(np.arange(chol_not_having_disease.min(), 150), chol_not_having_disease.mean(), chol_not_having_disease.std())\n",
        "plt.figure(figsize = (10,4))\n",
        "plt.plot(chol_not_having_disease.sort_values(), prob)\n",
        "plt.fill_between(np.arange(chol_not_having_disease.min(), 150), region_to_fill, facecolor = 'brown')\n",
        "plt.axvline(x = chol_not_having_disease.min())\n",
        "plt.axvline(x = 150)\n",
        "plt.show()"
      ],
      "execution_count": null,
      "outputs": [
        {
          "output_type": "display_data",
          "data": {
            "text/plain": [
              "<Figure size 720x288 with 1 Axes>"
            ],
            "image/png": "[encoded data removed]"
          },
          "metadata": {
            "needs_background": "light"
          }
        }
      ]
    },
    {
      "cell_type": "markdown",
      "metadata": {
        "id": "qde-dqvogtP5"
      },
      "source": [
        "Now, calculate the probability of the above shaded area, i.e., $P(X \\le 150)$ by applying `norm.cdf()` function."
      ]
    },
    {
      "cell_type": "code",
      "metadata": {
        "id": "B_vFtFh001kp",
        "colab": {
          "base_uri": "https://localhost:8080/"
        },
        "outputId": "ca01c24b-2207-4429-cff2-6bb8cc7fad46"
      },
      "source": [
        "# S2.3: Calculate the probability of patients not having heart disease having cholesterol level less than 150.\n",
        "norm_150 = norm.cdf(get_zscore_150)\n",
        "print(norm_150)"
      ],
      "execution_count": null,
      "outputs": [
        {
          "output_type": "stream",
          "name": "stdout",
          "text": [
            "0.020475049402598002\n"
          ]
        }
      ]
    },
    {
      "cell_type": "markdown",
      "metadata": {
        "id": "bQRJLmY41Ct6"
      },
      "source": [
        "Thus, the probability of patients not having heart disease having cholesterol level less than 150 is 2.047% or you could say that approx 2% of the patients not having heart disease have the cholesterol level less than 150.\n",
        "\n",
        "So, the probability of patients not having heart disease and having cholesterol levels between 150 and 200 can be obtained by subtracting the probability of higher value (i.e. 200) from the lower value (i.e. 150).\n",
        "\n",
        " i.e. $$P(150 \\le X \\le 200)=P(-2.044 \\le Z \\le -1.033) = P(Z \\le -1.033) - P(Z \\le -2.044)$$"
      ]
    },
    {
      "cell_type": "code",
      "metadata": {
        "id": "3mn_w1NI1_sq",
        "colab": {
          "base_uri": "https://localhost:8080/"
        },
        "outputId": "a23990e4-8c93-4d8c-ad88-1309e8b62233"
      },
      "source": [
        "# S2.4: Find out the probability of patients not having heart disease having cholesterol level between 150 and 200.\n",
        "req_prob = norm_200 - norm_150\n",
        "print(req_prob)"
      ],
      "execution_count": null,
      "outputs": [
        {
          "output_type": "stream",
          "name": "stdout",
          "text": [
            "0.13032528809898378\n"
          ]
        }
      ]
    },
    {
      "cell_type": "markdown",
      "metadata": {
        "id": "OATz3fMi2OsG"
      },
      "source": [
        "The probability of patients not having heart disease having cholesterol level between 150 and 200 is 13.032% or you could say that approx 13% patients not having heart disease have cholesterol level between 150 and 200."
      ]
    },
    {
      "cell_type": "markdown",
      "metadata": {
        "id": "cGjeFJJkXS-Y"
      },
      "source": [
        "---"
      ]
    },
    {
      "cell_type": "markdown",
      "metadata": {
        "id": "t_PscUgQbsaa"
      },
      "source": [
        "#### Activity 3: Probability of Continuous Random Variable Above a $Z$-Score^^^\n",
        "\n",
        "Let's compute the probability of patients not having heart disease having cholesterol level more than 200. For this, you have to subtract the probability of patients not having heart disease having cholesterol level less than 200 from the total probability, i.e.,\n",
        "\n",
        "$$P(Z > -2.044) = 1 - P(Z \\le -2.044)$$\n",
        "\n",
        "Before that, plot the probability distribution of cholesterol values above 200."
      ]
    },
    {
      "cell_type": "code",
      "metadata": {
        "id": "zBigByc0ieTS",
        "colab": {
          "base_uri": "https://localhost:8080/",
          "height": 265
        },
        "outputId": "5f69fd87-8789-4209-f9e4-2a9539380c60"
      },
      "source": [
        "# S3.1: Create normal distribution of cholesterol values above 200. Also, fill the area for X > 200.\n",
        "prob = prob_density_func(chol_not_having_disease.sort_values(), chol_not_having_disease.mean(), chol_not_having_disease.std())\n",
        "region_to_fill = prob_density_func(np.arange(200, chol_not_having_disease.max()), chol_not_having_disease.mean(), chol_not_having_disease.std())\n",
        "plt.figure(figsize = (10,4))\n",
        "plt.plot(chol_not_having_disease.sort_values(), prob)\n",
        "plt.fill_between(np.arange(200, chol_not_having_disease.max()), region_to_fill, facecolor = 'cyan')\n",
        "plt.axvline(x = 200)\n",
        "plt.axvline(x = chol_not_having_disease.max())\n",
        "plt.show()"
      ],
      "execution_count": null,
      "outputs": [
        {
          "output_type": "display_data",
          "data": {
            "text/plain": [
              "<Figure size 720x288 with 1 Axes>"
            ],
            "image/png": "[encoded data removed]"
          },
          "metadata": {
            "needs_background": "light"
          }
        }
      ]
    },
    {
      "cell_type": "markdown",
      "metadata": {
        "id": "AaHSyPaOnYJE"
      },
      "source": [
        "Now calculate the probability of patients not having heart disease having cholesterol level above 200. This probability can be obtained by subtracting the probability of patients having cholesterol value less than $200$ from the total probability i.e $1$ .\n",
        "\n",
        ""
      ]
    },
    {
      "cell_type": "code",
      "metadata": {
        "id": "8Gx5j4MBc2cS",
        "colab": {
          "base_uri": "https://localhost:8080/"
        },
        "outputId": "e15806fe-17cd-4bab-cc30-57f4224cdbbd"
      },
      "source": [
        "# S3.2: Calculate the probability of patients not having heart disease having cholesterol level more than 200.\n",
        "req_prob_2 = 1 - norm_200\n",
        "print(req_prob_2)"
      ],
      "execution_count": null,
      "outputs": [
        {
          "output_type": "stream",
          "name": "stdout",
          "text": [
            "0.8491996624984182\n"
          ]
        }
      ]
    },
    {
      "cell_type": "markdown",
      "metadata": {
        "id": "maVnYS33bPgL"
      },
      "source": [
        "This means that nearly $85 \\%$ of the patients not having heart disease have cholesterol value above 200."
      ]
    },
    {
      "cell_type": "markdown",
      "metadata": {
        "id": "Ys9RPbUnboRy"
      },
      "source": [
        "---"
      ]
    }
  ]
}