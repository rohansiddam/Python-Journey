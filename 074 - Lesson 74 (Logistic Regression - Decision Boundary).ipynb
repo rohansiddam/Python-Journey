{
  "nbformat": 4,
  "nbformat_minor": 0,
  "metadata": {
    "colab": {
      "provenance": [],
      "include_colab_link": true
    },
    "kernelspec": {
      "name": "python3",
      "display_name": "Python 3"
    }
  },
  "cells": [
    {
      "cell_type": "markdown",
      "metadata": {
        "id": "view-in-github",
        "colab_type": "text"
      },
      "source": [
        "<a href=\"https://colab.research.google.com/github/rohansiddam/Python-Journey/blob/main/074%20-%20Lesson%2074%20(Logistic%20Regression%20-%20Decision%20Boundary).ipynb\" target=\"_parent\"><img src=\"https://colab.research.google.com/assets/colab-badge.svg\" alt=\"Open In Colab\"/></a>"
      ]
    },
    {
      "cell_type": "markdown",
      "metadata": {
        "id": "nreGKcypHo1M"
      },
      "source": [
        "# Lesson 74: Logistic Regression - Decision Boundary"
      ]
    },
    {
      "cell_type": "markdown",
      "metadata": {
        "id": "ze9uSJt-I-0E"
      },
      "source": [
        "### Teacher-Student Activities\n",
        "\n",
        "In the previous class, you learnt to build a logistic regression model purely using the sigmoid function and predicted the outcomes i.e. the patients having and not having heart disease by choosing different threshold values.\n",
        "\n",
        "In this class, you will create a linear function using the features in the dataset and pass it as an input to the sigmoid function. However, we will take a small detour from the heart disease prediction dataset and choose the ideal data to understand the rationale behind building a linear function."
      ]
    },
    {
      "cell_type": "markdown",
      "metadata": {
        "id": "bSyqQS5T8Y1D"
      },
      "source": [
        "---"
      ]
    },
    {
      "cell_type": "markdown",
      "metadata": {
        "id": "0vmj2glW8aKa"
      },
      "source": [
        "#### Activity 1: Create Dummy Dataset^\n",
        "\n",
        "Let's create a dummy dataset having two columns representing two independent variables, another column representing the target and a total of 1000 records (or rows).\n",
        "\n",
        "You will shortly get to know the reason behind the creation of a dummy data-frame.\n",
        "\n",
        "To create a dummy data-frame, firstly, create two arrays using the `make_blob()` function of the `sklearn.datasets` module. The syntax for the `make_blob()` function is as follows:\n",
        "\n",
        "**Syntax:** `make_blobs(n_samples, centers, n_features, random_state, cluster_std)`\n",
        "\n",
        "where\n",
        "\n",
        "- `n_samples` determines the number of records to be generated in a dataset\n",
        "\n",
        "- `centers` determines the number of classes to be generated (or labels) for the target column\n",
        "\n",
        "- `n_features` determines the number of features (or independent variables) to be generated in the dataset\n",
        "\n",
        "- `random_state` determines the random number generation for dataset creation. An integer value of the `random_state` parameter will produce the same results across different function calls. Popular integer random seeds are 0 and 42.\n",
        "\n",
        "- `cluster_std` determines the standard deviation of the clusters.\n",
        "\n",
        "The function will return two arrays. You can store these two arrays in two variables, say `features_array` and `target_array`, where the former contains features (or independent variables) and the latter contains the target or (dependent variable)."
      ]
    },
    {
      "cell_type": "code",
      "metadata": {
        "id": "NIBpSYJB8hsx",
        "colab": {
          "base_uri": "https://localhost:8080/"
        },
        "outputId": "6432765a-71a7-48f6-e4fc-c0e60bbaefa4"
      },
      "source": [
        "# T1.1: Create two arrays using the 'make_blobs()' function and store them in the 'features_array' and 'target_array' variables\n",
        "\n",
        "from sklearn.datasets import make_blobs\n",
        "\n",
        "feature_array, target_array = make_blobs(n_samples = 1000, centers = 2, n_features = 42, cluster_std = 1.25)\n",
        "\n",
        "print(feature_array)\n",
        "print(feature_array.shape)\n",
        "print(type(feature_array))\n",
        "print(target_array)\n",
        "print(target_array.shape)\n",
        "print(type(target_array))"
      ],
      "execution_count": null,
      "outputs": [
        {
          "output_type": "stream",
          "name": "stdout",
          "text": [
            "[[-1.49779908 10.03519649  0.84019976 ...  1.67288952 -0.18851765\n",
            "   6.13956518]\n",
            " [-6.99833628  4.37708685 -6.48471017 ...  0.72939121  3.30701473\n",
            "  -9.64473009]\n",
            " [-1.05827307 10.76990889  0.88939988 ...  0.28502407 -1.71368639\n",
            "   9.27189787]\n",
            " ...\n",
            " [-0.20906292  7.88591349 -0.83258117 ...  1.13664216 -1.63792818\n",
            "   8.16514359]\n",
            " [-7.91118957  4.31559415 -8.28529189 ...  1.07624576  6.24688275\n",
            "  -9.09020866]\n",
            " [-0.30570905 10.08412119 -0.28377919 ...  3.25238958 -0.78873145\n",
            "   7.2348478 ]]\n",
            "(1000, 42)\n",
            "<class 'numpy.ndarray'>\n",
            "[1 0 1 0 1 0 1 1 1 1 0 1 0 0 0 1 0 0 1 1 1 1 0 1 1 1 1 0 0 1 1 0 1 1 0 0 0\n",
            " 0 1 1 0 1 0 0 1 0 1 1 1 1 0 0 1 1 1 0 1 1 0 1 0 0 1 0 1 1 0 0 0 1 0 1 0 1\n",
            " 1 1 1 1 1 1 1 1 0 1 0 0 0 0 0 1 0 1 0 1 0 1 0 0 1 1 0 0 0 0 1 1 1 0 1 1 1\n",
            " 0 0 0 1 0 0 1 1 0 0 1 1 1 0 0 0 0 1 1 1 1 0 0 1 1 1 0 0 1 1 1 0 1 1 0 0 1\n",
            " 1 0 1 0 0 1 1 1 1 1 0 1 0 0 1 1 1 0 0 1 1 0 1 1 0 0 0 1 0 1 0 0 1 1 1 1 1\n",
            " 0 1 0 0 1 0 1 1 1 0 0 1 0 0 0 1 0 1 0 1 1 1 1 0 0 1 0 0 0 1 0 1 1 1 0 1 1\n",
            " 1 1 0 0 1 1 1 1 1 0 0 0 0 0 0 0 1 0 1 0 0 1 0 1 0 0 1 1 0 0 0 0 0 0 1 1 1\n",
            " 1 1 1 0 1 0 0 0 1 1 1 1 0 1 0 1 1 1 1 1 1 1 0 1 0 0 0 0 0 0 0 1 1 1 1 1 1\n",
            " 0 1 1 1 1 0 0 1 1 0 1 1 0 1 1 1 0 1 0 1 0 0 1 1 1 1 0 0 1 0 1 0 0 1 1 1 0\n",
            " 0 0 0 1 1 1 1 0 0 1 0 0 1 0 0 0 1 0 0 1 1 1 0 0 0 1 0 0 0 0 1 0 0 0 0 0 1\n",
            " 1 0 0 1 1 0 1 1 0 1 1 1 0 1 1 1 1 0 0 1 0 1 0 1 1 1 1 0 1 1 1 1 0 0 1 1 1\n",
            " 0 0 1 0 1 1 1 0 0 1 1 0 0 0 1 0 0 1 1 1 1 0 0 0 1 1 0 1 1 1 1 1 1 0 0 0 0\n",
            " 1 1 1 1 1 0 1 1 1 0 0 1 1 0 0 0 0 0 1 0 1 1 1 1 0 0 1 1 0 0 1 1 0 0 0 1 1\n",
            " 1 0 0 1 1 0 0 0 0 0 0 1 1 0 0 0 1 0 1 0 1 1 0 0 0 1 1 0 0 0 1 1 0 1 0 0 0\n",
            " 1 0 0 1 1 0 1 1 1 0 1 0 1 0 0 0 1 1 0 0 0 0 1 0 1 0 0 1 0 0 0 1 1 1 0 1 0\n",
            " 0 1 0 0 1 1 0 0 0 0 0 0 0 0 0 0 0 0 1 1 0 0 0 0 1 0 1 0 0 0 1 0 0 0 1 0 0\n",
            " 1 1 1 1 1 0 0 0 1 1 1 0 1 0 0 0 1 0 0 0 0 1 0 1 0 1 0 1 1 0 0 1 0 1 0 0 0\n",
            " 1 1 0 0 1 1 1 0 0 1 0 0 1 1 1 1 0 0 1 0 1 0 0 0 0 0 1 1 1 0 0 0 1 0 0 0 1\n",
            " 1 0 0 1 1 0 1 0 0 0 0 1 0 0 1 0 1 0 0 1 0 1 0 1 0 0 1 0 1 0 0 1 0 1 0 0 0\n",
            " 1 0 0 1 1 1 0 0 1 0 0 0 1 0 1 0 0 1 1 1 1 1 0 1 0 1 0 1 1 1 1 0 0 1 0 0 1\n",
            " 1 1 0 0 0 0 1 1 1 0 1 0 1 1 1 1 1 1 0 0 1 0 1 0 1 0 0 1 0 0 1 0 1 1 0 1 0\n",
            " 1 1 1 0 0 0 1 1 0 1 0 0 0 0 1 0 1 0 0 1 0 1 1 0 1 1 1 1 1 1 1 1 1 1 1 1 0\n",
            " 0 1 0 0 0 1 1 0 0 1 0 0 1 0 0 0 0 1 0 0 0 1 1 0 1 1 0 0 1 0 0 0 1 0 0 0 0\n",
            " 1 1 1 1 0 1 1 0 1 0 0 0 1 1 1 0 1 0 1 1 0 1 1 0 0 1 0 0 1 0 1 1 0 1 1 0 1\n",
            " 1 1 0 1 0 1 0 0 1 0 0 0 0 1 0 0 0 1 1 0 0 0 1 1 1 1 1 0 0 0 0 0 1 1 0 1 1\n",
            " 0 1 1 1 0 1 1 0 0 0 0 0 0 1 1 0 1 1 0 1 0 1 1 0 1 1 0 0 0 1 1 1 1 1 1 0 0\n",
            " 1 0 0 0 1 0 0 0 0 0 1 0 1 0 0 0 0 1 1 0 0 0 0 1 1 1 0 1 1 1 1 0 0 1 1 1 0\n",
            " 1]\n",
            "(1000,)\n",
            "<class 'numpy.ndarray'>\n"
          ]
        }
      ]
    },
    {
      "cell_type": "markdown",
      "metadata": {
        "id": "6iJ3A_FGB5zk"
      },
      "source": [
        "**Note:** The `make_blobs()` function can take in more parameters that can be passed to create more customised data. You may refer to the following document:\n",
        "\n",
        "https://scikit-learn.org/stable/modules/generated/sklearn.datasets.make_blobs.html\n",
        "\n",
        "You can find out the object-type of the arrays created by the `make_blob()` function and the number of rows and columns in them."
      ]
    },
    {
      "cell_type": "code",
      "metadata": {
        "id": "U6M4iKHo8kQ1"
      },
      "source": [
        "# S1.1: Find out the object-type of the arrays created by the 'make_blob()' function and the number of rows and columns in them.\n",
        "import pandas as pd\n",
        "\n",
        "dummy_dict = {'col1' : [feature_array[i][0] for i in range(feature_array.shape[0])], 'col2' : [feature_array[i][1] for i in range(feature_array.shape[0])],\n",
        "              'target' : target_array}\n"
      ],
      "execution_count": null,
      "outputs": []
    },
    {
      "cell_type": "code",
      "source": [
        "dummy_df = pd.DataFrame.from_dict(dummy_dict)\n",
        "dummy_df"
      ],
      "metadata": {
        "colab": {
          "base_uri": "https://localhost:8080/",
          "height": 423
        },
        "id": "8Wp0o0KMNpjg",
        "outputId": "cd228dea-97da-48a5-9e7d-8e545e16ddd5"
      },
      "execution_count": null,
      "outputs": [
        {
          "output_type": "execute_result",
          "data": {
            "text/plain": [
              "         col1       col2  target\n",
              "0   -1.497799  10.035196       1\n",
              "1   -6.998336   4.377087       0\n",
              "2   -1.058273  10.769909       1\n",
              "3   -6.867707   3.583060       0\n",
              "4   -2.095896   7.963930       1\n",
              "..        ...        ...     ...\n",
              "995 -1.106986   8.282446       1\n",
              "996  0.397230   8.221633       1\n",
              "997 -0.209063   7.885913       1\n",
              "998 -7.911190   4.315594       0\n",
              "999 -0.305709  10.084121       1\n",
              "\n",
              "[1000 rows x 3 columns]"
            ],
            "text/html": [
              "\n",
              "  <div id=\"df-da565e24-0915-492b-9263-3b4ce8974c88\">\n",
              "    <div class=\"colab-df-container\">\n",
              "      <div>\n",
              "<style scoped>\n",
              "    .dataframe tbody tr th:only-of-type {\n",
              "        vertical-align: middle;\n",
              "    }\n",
              "\n",
              "    .dataframe tbody tr th {\n",
              "        vertical-align: top;\n",
              "    }\n",
              "\n",
              "    .dataframe thead th {\n",
              "        text-align: right;\n",
              "    }\n",
              "</style>\n",
              "<table border=\"1\" class=\"dataframe\">\n",
              "  <thead>\n",
              "    <tr style=\"text-align: right;\">\n",
              "      <th></th>\n",
              "      <th>col1</th>\n",
              "      <th>col2</th>\n",
              "      <th>target</th>\n",
              "    </tr>\n",
              "  </thead>\n",
              "  <tbody>\n",
              "    <tr>\n",
              "      <th>0</th>\n",
              "      <td>-1.497799</td>\n",
              "      <td>10.035196</td>\n",
              "      <td>1</td>\n",
              "    </tr>\n",
              "    <tr>\n",
              "      <th>1</th>\n",
              "      <td>-6.998336</td>\n",
              "      <td>4.377087</td>\n",
              "      <td>0</td>\n",
              "    </tr>\n",
              "    <tr>\n",
              "      <th>2</th>\n",
              "      <td>-1.058273</td>\n",
              "      <td>10.769909</td>\n",
              "      <td>1</td>\n",
              "    </tr>\n",
              "    <tr>\n",
              "      <th>3</th>\n",
              "      <td>-6.867707</td>\n",
              "      <td>3.583060</td>\n",
              "      <td>0</td>\n",
              "    </tr>\n",
              "    <tr>\n",
              "      <th>4</th>\n",
              "      <td>-2.095896</td>\n",
              "      <td>7.963930</td>\n",
              "      <td>1</td>\n",
              "    </tr>\n",
              "    <tr>\n",
              "      <th>...</th>\n",
              "      <td>...</td>\n",
              "      <td>...</td>\n",
              "      <td>...</td>\n",
              "    </tr>\n",
              "    <tr>\n",
              "      <th>995</th>\n",
              "      <td>-1.106986</td>\n",
              "      <td>8.282446</td>\n",
              "      <td>1</td>\n",
              "    </tr>\n",
              "    <tr>\n",
              "      <th>996</th>\n",
              "      <td>0.397230</td>\n",
              "      <td>8.221633</td>\n",
              "      <td>1</td>\n",
              "    </tr>\n",
              "    <tr>\n",
              "      <th>997</th>\n",
              "      <td>-0.209063</td>\n",
              "      <td>7.885913</td>\n",
              "      <td>1</td>\n",
              "    </tr>\n",
              "    <tr>\n",
              "      <th>998</th>\n",
              "      <td>-7.911190</td>\n",
              "      <td>4.315594</td>\n",
              "      <td>0</td>\n",
              "    </tr>\n",
              "    <tr>\n",
              "      <th>999</th>\n",
              "      <td>-0.305709</td>\n",
              "      <td>10.084121</td>\n",
              "      <td>1</td>\n",
              "    </tr>\n",
              "  </tbody>\n",
              "</table>\n",
              "<p>1000 rows × 3 columns</p>\n",
              "</div>\n",
              "      <button class=\"colab-df-convert\" onclick=\"convertToInteractive('df-da565e24-0915-492b-9263-3b4ce8974c88')\"\n",
              "              title=\"Convert this dataframe to an interactive table.\"\n",
              "              style=\"display:none;\">\n",
              "        \n",
              "  <svg xmlns=\"http://www.w3.org/2000/svg\" height=\"24px\"viewBox=\"0 0 24 24\"\n",
              "       width=\"24px\">\n",
              "    <path d=\"M0 0h24v24H0V0z\" fill=\"none\"/>\n",
              "    <path d=\"M18.56 5.44l.94 2.06.94-2.06 2.06-.94-2.06-.94-.94-2.06-.94 2.06-2.06.94zm-11 1L8.5 8.5l.94-2.06 2.06-.94-2.06-.94L8.5 2.5l-.94 2.06-2.06.94zm10 10l.94 2.06.94-2.06 2.06-.94-2.06-.94-.94-2.06-.94 2.06-2.06.94z\"/><path d=\"M17.41 7.96l-1.37-1.37c-.4-.4-.92-.59-1.43-.59-.52 0-1.04.2-1.43.59L10.3 9.45l-7.72 7.72c-.78.78-.78 2.05 0 2.83L4 21.41c.39.39.9.59 1.41.59.51 0 1.02-.2 1.41-.59l7.78-7.78 2.81-2.81c.8-.78.8-2.07 0-2.86zM5.41 20L4 18.59l7.72-7.72 1.47 1.35L5.41 20z\"/>\n",
              "  </svg>\n",
              "      </button>\n",
              "      \n",
              "  <style>\n",
              "    .colab-df-container {\n",
              "      display:flex;\n",
              "      flex-wrap:wrap;\n",
              "      gap: 12px;\n",
              "    }\n",
              "\n",
              "    .colab-df-convert {\n",
              "      background-color: #E8F0FE;\n",
              "      border: none;\n",
              "      border-radius: 50%;\n",
              "      cursor: pointer;\n",
              "      display: none;\n",
              "      fill: #1967D2;\n",
              "      height: 32px;\n",
              "      padding: 0 0 0 0;\n",
              "      width: 32px;\n",
              "    }\n",
              "\n",
              "    .colab-df-convert:hover {\n",
              "      background-color: #E2EBFA;\n",
              "      box-shadow: 0px 1px 2px rgba(60, 64, 67, 0.3), 0px 1px 3px 1px rgba(60, 64, 67, 0.15);\n",
              "      fill: #174EA6;\n",
              "    }\n",
              "\n",
              "    [theme=dark] .colab-df-convert {\n",
              "      background-color: #3B4455;\n",
              "      fill: #D2E3FC;\n",
              "    }\n",
              "\n",
              "    [theme=dark] .colab-df-convert:hover {\n",
              "      background-color: #434B5C;\n",
              "      box-shadow: 0px 1px 3px 1px rgba(0, 0, 0, 0.15);\n",
              "      filter: drop-shadow(0px 1px 2px rgba(0, 0, 0, 0.3));\n",
              "      fill: #FFFFFF;\n",
              "    }\n",
              "  </style>\n",
              "\n",
              "      <script>\n",
              "        const buttonEl =\n",
              "          document.querySelector('#df-da565e24-0915-492b-9263-3b4ce8974c88 button.colab-df-convert');\n",
              "        buttonEl.style.display =\n",
              "          google.colab.kernel.accessAllowed ? 'block' : 'none';\n",
              "\n",
              "        async function convertToInteractive(key) {\n",
              "          const element = document.querySelector('#df-da565e24-0915-492b-9263-3b4ce8974c88');\n",
              "          const dataTable =\n",
              "            await google.colab.kernel.invokeFunction('convertToInteractive',\n",
              "                                                     [key], {});\n",
              "          if (!dataTable) return;\n",
              "\n",
              "          const docLinkHtml = 'Like what you see? Visit the ' +\n",
              "            '<a target=\"_blank\" href=https://colab.research.google.com/notebooks/data_table.ipynb>data table notebook</a>'\n",
              "            + ' to learn more about interactive tables.';\n",
              "          element.innerHTML = '';\n",
              "          dataTable['output_type'] = 'display_data';\n",
              "          await google.colab.output.renderOutput(dataTable, element);\n",
              "          const docLink = document.createElement('div');\n",
              "          docLink.innerHTML = docLinkHtml;\n",
              "          element.appendChild(docLink);\n",
              "        }\n",
              "      </script>\n",
              "    </div>\n",
              "  </div>\n",
              "  "
            ]
          },
          "metadata": {},
          "execution_count": 49
        }
      ]
    },
    {
      "cell_type": "markdown",
      "metadata": {
        "id": "OmNp-fZQC-qX"
      },
      "source": [
        "Now that you have created two arrays, as the next step to create a dummy data-frame, create a Python dictionary from the two arrays and then a Pandas DataFrame from the dictionary using the `from_dict()` function of the `pandas` module.\n",
        "\n",
        "**Syntax:** `pd.DataFrame.from_dict(some_dictionary)`"
      ]
    },
    {
      "cell_type": "code",
      "metadata": {
        "id": "M30S7jCeDGEn",
        "colab": {
          "base_uri": "https://localhost:8080/"
        },
        "outputId": "0166c952-2da5-4a8d-e6c5-8eac18814ee4"
      },
      "source": [
        "# S1.2: Create a Pandas DataFrame containing the items from the 'features_array' and 'target_array' arrays.\n",
        "dummy_df['target'].value_counts()"
      ],
      "execution_count": null,
      "outputs": [
        {
          "output_type": "execute_result",
          "data": {
            "text/plain": [
              "1    500\n",
              "0    500\n",
              "Name: target, dtype: int64"
            ]
          },
          "metadata": {},
          "execution_count": 50
        }
      ]
    },
    {
      "cell_type": "markdown",
      "metadata": {
        "id": "P-o7flxsERh-"
      },
      "source": [
        "Now we have a `pandas` DataFrame having 1000 records, 3 columns out of which 2 columns represent independent variables and 1 represent target.\n",
        "\n",
        "Let's count the number of 0s and 1s in the `target` column of the `dummy_df` DataFrame.\n"
      ]
    },
    {
      "cell_type": "code",
      "metadata": {
        "id": "GPLsuU56EzRn"
      },
      "source": [
        "# S1.3: Display the number of occurrences of each label in the 'target' column.\n"
      ],
      "execution_count": null,
      "outputs": []
    },
    {
      "cell_type": "markdown",
      "metadata": {
        "id": "ub8VFodBX-3G"
      },
      "source": [
        "As you can see, both the labels (0s and 1s) are equal in number in the `target` column.\n"
      ]
    },
    {
      "cell_type": "markdown",
      "metadata": {
        "id": "16VQyfuGX-X4"
      },
      "source": [
        "---"
      ]
    },
    {
      "cell_type": "markdown",
      "metadata": {
        "id": "_U-OZvfIE7W_"
      },
      "source": [
        "#### Activity 2: Cluster Visualisation^^\n",
        "\n",
        "If you create a scatter plot between the columns `col 1` and `col 2` for the labels 0 and 1, then you will see two clusters of dots (or points)."
      ]
    },
    {
      "cell_type": "code",
      "metadata": {
        "id": "jzn4GxEBFnMg",
        "colab": {
          "base_uri": "https://localhost:8080/",
          "height": 265
        },
        "outputId": "1f869e09-4dcc-4f09-aa8d-3b49f4ecf27f"
      },
      "source": [
        "# S2.1: Create a scatter plot between 'col 1' and 'col 2' columns separately for both the classes in the same plot.\n",
        "import matplotlib.pyplot as plt\n",
        "\n",
        "plt.figure(figsize = (8,4))\n",
        "plt.scatter(x = dummy_df.loc[dummy_df['target'] == 0, 'col1'], y = dummy_df.loc[dummy_df['target'] == 0, 'col2'], color = 'green', label = '0')\n",
        "plt.scatter(x = dummy_df.loc[dummy_df['target'] == 1, 'col1'], y = dummy_df.loc[dummy_df['target'] == 1, 'col2'], color = 'blue', label = '1')\n",
        "plt.legend()\n",
        "plt.show()\n"
      ],
      "execution_count": null,
      "outputs": [
        {
          "output_type": "display_data",
          "data": {
            "text/plain": [
              "<Figure size 576x288 with 1 Axes>"
            ],
            "image/png": "[encoded data removed]"
          },
          "metadata": {
            "needs_background": "light"
          }
        }
      ]
    },
    {
      "cell_type": "markdown",
      "metadata": {
        "id": "hRnZaJhhIquq"
      },
      "source": [
        "This is the reason behind creating a dummy data-frame. Here, you can clearly see that two different coloured clusters are formed for the two different labels (or classes). You can draw an imaginary straight line to separate the two clusters from each other.\n",
        "\n",
        "For the sake of better understanding, let's assume that the equation of the straight line separating the two clusters is $x = 1$ (*even if the equation is incorrect*)."
      ]
    },
    {
      "cell_type": "code",
      "metadata": {
        "id": "E6iHY9Iui8c_",
        "colab": {
          "base_uri": "https://localhost:8080/",
          "height": 265
        },
        "outputId": "cd4e9566-69da-4e9b-e758-0f1a74a2771d"
      },
      "source": [
        "# S2.2: Plot the line x = 1 in the above scatter plot.\n",
        "plt.figure(figsize = (8,4))\n",
        "plt.scatter(x = dummy_df.loc[dummy_df['target'] == 0, 'col1'], y = dummy_df.loc[dummy_df['target'] == 0, 'col2'], color = 'green', label = '0')\n",
        "plt.scatter(x = dummy_df.loc[dummy_df['target'] == 1, 'col1'], y = dummy_df.loc[dummy_df['target'] == 1, 'col2'], color = 'blue', label = '1')\n",
        "plt.axhline(y = 1)\n",
        "plt.legend()\n",
        "plt.show()"
      ],
      "execution_count": null,
      "outputs": [
        {
          "output_type": "display_data",
          "data": {
            "text/plain": [
              "<Figure size 576x288 with 1 Axes>"
            ],
            "image/png": "[encoded data removed]"
          },
          "metadata": {
            "needs_background": "light"
          }
        }
      ]
    },
    {
      "cell_type": "markdown",
      "metadata": {
        "id": "bCCiXrYSix3-"
      },
      "source": [
        "So any point on the left-hand side of the line can be classified as 0 and any point on the right-hand side of the line can be classified as 1. This imaginary straight line separating the two clusters and classifying the points as 0 and 1 is called the **decision boundary**.\n",
        "\n",
        "Keeping the same idea in mind, you can conclude that you need more and more features in a dataset so that different clusters could be formed for different classes and these clusters can be separated by a decision boundary.\n",
        "\n",
        "To keep things simple, for this dummy dataset, we will consider only two features (or independent variables) to have a two-dimensional decision boundary. If we consider more than two features, then we will have to deal with a higher-dimensional decision boundary which is difficult to visualise on a two-dimensional plane.\n",
        "\n",
        "Your next task is to find out the equation of this decision boundary. The required equation will be the input to the sigmoid function to get the probabilities. Then w.r.t. a threshold value, you can classify the outcomes as 0 and 1."
      ]
    },
    {
      "cell_type": "markdown",
      "metadata": {
        "id": "3TQbOSKLukhl"
      },
      "source": [
        "**Equation of a Straight Line in General Form**\n",
        "\n",
        "Before continuing ahead with the decision boundary, let's learn the equation of a straight line in the general form.\n",
        "\n",
        "You already know that the equation of a straight line is given as\n",
        "\n",
        "$$y = mx + c$$\n",
        "\n",
        "where\n",
        "\n",
        "- $m$ is the slope of a line and\n",
        "\n",
        "- $c$ is the intercept made by the line on the $y$-axis\n",
        "\n",
        "The equation of a straight line in the **general form** is given as\n",
        "\n",
        "$$ax + by + c = 0$$\n",
        "\n",
        "where\n",
        "\n",
        "- $a$ is the coefficient of $x$,\n",
        "\n",
        "- $b$ is the coefficient of $y$, and\n",
        "\n",
        "- $c$ is some arbitrary constant\n",
        "\n",
        "If you rewrite the above general equation as follows\n",
        "\n",
        "$$by = -ax - c$$\n",
        "$$\\Rightarrow y = - \\left(\\frac{a}{b}\\right) x - \\frac{c}{b}$$\n",
        "\n",
        "then you get the equation of the straight line back in the **slope-intercept** form where\n",
        "\n",
        "- the slope is $-\\frac{a}{b}$; more precisely $-\\frac{\\text{coefficient of } x}{\\text{coefficient of }y}$ and\n",
        "\n",
        "- the intercept-made by the line on the $y$-axis is $-\\frac{c}{b}$; more precisely $-\\frac{\\text{arbitrary constant}}{\\text{coefficient of }y}$\n",
        "\n",
        "**Note:** The $c$ in $y = mx + c$ is **not** the same as the $c$ in $ax + by + c = 0$\n",
        "\n",
        "With the knowledge of the general form of the equation of a straight line, you can assume that the equation of the decision boundary is\n",
        "\n",
        "$$\\beta_0 + \\beta_1 x_1 + \\beta_2 x_2 = 0$$\n",
        "\n",
        "or\n",
        "\n",
        "$$\\beta_1 x_1 + \\beta_2 x_2 + \\beta_0 = 0$$\n",
        "\n",
        "If you compare it with the equation of a straight line in the general form,\n",
        "\n",
        "$$ax + by + c = 0$$\n",
        "\n",
        "then\n",
        "\n",
        "$$\\beta_1 = a, x_1 = x, \\beta_2 = b, x_2 = y \\space{} \\text{and} \\space{} \\beta_0 = c$$\n",
        "\n",
        "In this case, $x_1$ and $x_2$ represent the `col 1` and `col 2` columns respectively.\n",
        "\n",
        "To find this decision boundary (the straight line given by $\\beta_0 + \\beta_1 x_1 + \\beta_2 x_2 = 0$), you need to build a logistic regression model between $x_1$ and $x_2$. From this model, you will get the coefficients i.e., $\\beta_0, \\beta_1$ and $\\beta_2$.\n",
        "\n",
        "So now, calculate the coefficients."
      ]
    },
    {
      "cell_type": "code",
      "metadata": {
        "id": "etrA_2UW4DCj"
      },
      "source": [
        "# S2.3: Calculate the coefficients by building a logistic regression model using the 'sklearn' model.\n",
        "from sklearn.linear_model import LogisticRegression\n",
        "\n",
        "x = dummy_df[dummy_df.columns[:-1]]\n",
        "y = dummy_df['target']\n",
        "\n",
        "def decision_boundary(x,y):\n",
        "  log_reg = LogisticRegression(random_state = 0).fit(x,y)\n",
        "  coef_list = list(log_reg.intercept_) + list(log_reg.coef_[0])\n",
        "  return coef_list\n"
      ],
      "execution_count": null,
      "outputs": []
    },
    {
      "cell_type": "markdown",
      "metadata": {
        "id": "7NquAyyRp8qn"
      },
      "source": [
        "Now that you have the required coefficients, you can get the equation of the decision boundary (in this case; a straight line).\n",
        "\n",
        "Next, let's plot the decision boundary (or straight line) in the above scatter plot. To plot the line, you can\n",
        "\n",
        "- plot the `col 1` values on the $x$-axis\n",
        "\n",
        "- calculate the `col 2` values from the $\\beta_0, \\beta_1, \\beta_2$ and the `col 1` values using the expression\n",
        "  $$x_2 = - \\left( \\frac{\\beta_1}{\\beta_2} \\right) x_1 - \\frac{\\beta_0}{\\beta_2}$$\n",
        "  or\n",
        "  $$x_2 = - \\left( \\frac{\\beta_1 x_1 + \\beta_0}{\\beta_2} \\right)$$\n",
        "  or\n",
        "  $$x_2 =  \\left( \\frac{- \\beta_0-\\beta_1 x_1}{\\beta_2} \\right)$$"
      ]
    },
    {
      "cell_type": "code",
      "metadata": {
        "id": "7xD2tqBK8K_i",
        "colab": {
          "base_uri": "https://localhost:8080/"
        },
        "outputId": "da3791bf-e9e5-4cd9-c43b-08abe0dfcd6a"
      },
      "source": [
        "# S2.4: Plot the calculated regression line in above scatter plot.\n",
        "beta_vals = decision_boundary(x,y)\n",
        "beta_vals"
      ],
      "execution_count": null,
      "outputs": [
        {
          "output_type": "execute_result",
          "data": {
            "text/plain": [
              "[-1.302997517490581, 2.128239973750217, 1.4126820764571486]"
            ]
          },
          "metadata": {},
          "execution_count": 55
        }
      ]
    },
    {
      "cell_type": "markdown",
      "metadata": {
        "id": "x4H4f1aMfNz1"
      },
      "source": [
        "As you can see, the decision boundary clearly separates the two clusters for the two classes."
      ]
    },
    {
      "cell_type": "markdown",
      "metadata": {
        "id": "MX8Ug8Wuryxu"
      },
      "source": [
        "---"
      ]
    },
    {
      "cell_type": "markdown",
      "metadata": {
        "id": "Cyj3OiTtQG5u"
      },
      "source": [
        "#### Activity 3: Predictions^^^\n",
        "\n",
        "Now, your next task is to predict the `target` values based on the `col 1` and `col 2` values using the sigmoid function and some threshold value, say 0.5.\n",
        "\n",
        "Let's rewrite the sigmoid function as\n",
        "$$p =  \\frac{1}{1 + e^{-h}}$$\n",
        "\n",
        "where\n",
        "- $p$ is the probability value between 0 and 1\n",
        "- $h$ is some relationship between $x_1, x_2, x_3, \\dots, x_n$\n",
        "- $x_1, x_2, x_3, \\dots, x_n$ are $n \\in N$ feature(s) in a dataset\n",
        "\n",
        "In this case of dummy dataset, $h = \\beta_0 + \\beta_1 x_1 + \\beta_2 x_2$\n",
        "\n",
        "You can also read $h$ as a **hypothesis**. In a broader sense, to predict the labels 0 and 1 through logistic regression for the dummy dataset, you need to pass a hypothesis as an input to the sigmoid function. In this case, the hypothesis is that the `col 1` and `col 2` values have a linear relationship ($h = \\beta_0 + \\beta_1 x_1 + \\beta_2 x_2$) that predicts the labels 0 and 1.\n",
        "\n",
        "$$\\therefore p =\\frac{1}{1 + e^{-(\\beta_0 + \\beta_1 x_1 + \\beta_2 x_2)}}$$\n",
        "\n",
        "where $\\beta_0, \\beta_1, \\beta_2$ are coefficients and $x_1, x_2$ are the independent variables.\n",
        "\n",
        "The above expression can also be written as\n",
        "\n",
        "$$p =\\frac{1}{1 + e^{-BX^T}}$$\n",
        "\n",
        "where\n",
        "\n",
        "- $X$ denotes the feature matrix i.e.\n",
        "\n",
        "  $$X = \\begin{bmatrix} 1 & x_{1,1} & x_{2,1} \\\\ 1 & x_{1,2} & x_{2,2}\\\\ 1 & x_{1,3} & x_{2,3} \\\\ \\vdots & \\vdots & \\vdots \\\\ 1 & x_{1,1000} & x_{2,1000} \\end{bmatrix}$$\n",
        "\n",
        "  Each item in the above matrix can be represented by $x_{i,j}$ where $x_{i,j}$ denotes the $j^{\\text{th}}$ item in the $i^{\\text{th}}$ column. Also the values of $i$ goes from $1$ to $2$ and the values of $j$ goes from $1$ to $1000$.\n",
        "\n",
        "- $B$ denotes the regression coefficients matrix i.e.\n",
        "\n",
        "  $$B = \\begin{bmatrix} \\beta_0 & \\beta_1 & \\beta_2\\end{bmatrix}$$\n",
        "\n",
        "Essentially, $$h = BX^T$$\n",
        "\n",
        "\n",
        "The above product after taking the transpose of the features matrix becomes\n",
        "\n",
        "$$h = \\begin{bmatrix} \\beta_0 & \\beta_1 & \\beta_2\\end{bmatrix} \\begin{bmatrix} 1 & 1 & 1 & \\dots & 1 \\\\ x_{1,1} & x_{1,2} & x_{1,3} & \\dots & x_{1,1000} \\\\ x_{2,1} & x_{2,2} & x_{2,3} & \\dots & x_{2,1000} \\end{bmatrix}$$\n",
        "\n",
        "So let's create the `sigmoid()` function in Python that takes the arrays containing the features and the regression coefficients as inputs and returns the probability values as output. But first, you need to add a column containing 1s to the features array."
      ]
    },
    {
      "cell_type": "code",
      "metadata": {
        "id": "2A5Oi179RG58",
        "colab": {
          "base_uri": "https://localhost:8080/",
          "height": 265
        },
        "outputId": "df8a95df-f44d-40a9-b64c-b54e1fd2bc61"
      },
      "source": [
        "# S3.1: Add a column containing 1s to the features array.\n",
        "pred_vals = (beta_vals[0] + beta_vals[1] * dummy_df['col1']) / beta_vals[2]\n",
        "\n",
        "plt.figure(figsize = (8,4))\n",
        "plt.scatter(x = dummy_df.loc[dummy_df['target'] == 0, 'col1'], y = dummy_df.loc[dummy_df['target'] == 0, 'col2'], color = 'green', label = '0')\n",
        "plt.scatter(x = dummy_df.loc[dummy_df['target'] == 1, 'col1'], y = dummy_df.loc[dummy_df['target'] == 1, 'col2'], color = 'blue', label = '1')\n",
        "plt.plot(dummy_df['col1'], pred_vals)\n",
        "plt.legend()\n",
        "plt.show()"
      ],
      "execution_count": null,
      "outputs": [
        {
          "output_type": "display_data",
          "data": {
            "text/plain": [
              "<Figure size 576x288 with 1 Axes>"
            ],
            "image/png": "[encoded data removed]"
          },
          "metadata": {
            "needs_background": "light"
          }
        }
      ]
    },
    {
      "cell_type": "markdown",
      "metadata": {
        "id": "aldZlz0YI90T"
      },
      "source": [
        "In the above code:\n",
        "\n",
        "1. `np.ones(shape = (features_array.shape[0], 1)` generates a NumPy array containing 1s and has 1000 rows and 1 column.\n",
        "\n",
        "2. `np.append()` function adds the `features_array` to the array created in the first step column-wise (denoted by `axis = 1`). The general syntax is\n",
        "   `np.append(parent_matrix, matrix_to_be_added_to_the_parent_matrix)`\n"
      ]
    },
    {
      "cell_type": "code",
      "metadata": {
        "id": "OT4Z_4sGQPxF"
      },
      "source": [
        "# S3.2 Create the 'sigmoid()' function.\n",
        "import numpy as np\n",
        "\n",
        "def sigmoid(feature_matrix, coef_matrix):\n",
        "  sigmoid = 1 / (1 + np.exp(-1 * np.matmul(coef_matrix, np.transpose(feature_matrix))))\n",
        "  return pd.Array(sigmoid)\n"
      ],
      "execution_count": null,
      "outputs": []
    },
    {
      "cell_type": "code",
      "source": [
        "new_feature_array = np.append(np.ones(shape = (feature_array.shape[0], 1)), feature_array, axis = 1)\n",
        "print(new_feature_array)\n",
        "print(new_feature_array.shape)"
      ],
      "metadata": {
        "colab": {
          "base_uri": "https://localhost:8080/"
        },
        "id": "l2Zkty16SkDb",
        "outputId": "f3d55649-fbf2-422f-8e2d-fcee72f45b1d"
      },
      "execution_count": null,
      "outputs": [
        {
          "output_type": "stream",
          "name": "stdout",
          "text": [
            "[[ 1.         -1.49779908 10.03519649 ...  1.67288952 -0.18851765\n",
            "   6.13956518]\n",
            " [ 1.         -6.99833628  4.37708685 ...  0.72939121  3.30701473\n",
            "  -9.64473009]\n",
            " [ 1.         -1.05827307 10.76990889 ...  0.28502407 -1.71368639\n",
            "   9.27189787]\n",
            " ...\n",
            " [ 1.         -0.20906292  7.88591349 ...  1.13664216 -1.63792818\n",
            "   8.16514359]\n",
            " [ 1.         -7.91118957  4.31559415 ...  1.07624576  6.24688275\n",
            "  -9.09020866]\n",
            " [ 1.         -0.30570905 10.08412119 ...  3.25238958 -0.78873145\n",
            "   7.2348478 ]]\n",
            "(1000, 43)\n"
          ]
        }
      ]
    },
    {
      "cell_type": "markdown",
      "metadata": {
        "id": "pfgd4g-7KSLv"
      },
      "source": [
        "**Note:** The matrix multiplication rules are applicable to the NumPy arrays as well.\n",
        "\n",
        "Now, let's create a scatter plot between the $h = \\beta_0 + \\beta_1 x_1 + \\beta_2 x_2$ values and their corresponding sigmoid outputs."
      ]
    },
    {
      "cell_type": "code",
      "source": [
        "def sigmoid(features_matrix, coef_matrix):\n",
        "    sigmoid_output_matrix = 1/(1 + np.exp(-1 * np.matmul(coef_matrix, np.transpose(features_matrix))))\n",
        "    return np.array(sigmoid_output_matrix)\n",
        "\n",
        "new_feature_df = pd.DataFrame(new_feature_array)\n",
        "new_feature_df"
      ],
      "metadata": {
        "id": "POUGfrrvG8a1",
        "colab": {
          "base_uri": "https://localhost:8080/",
          "height": 487
        },
        "outputId": "58174156-3143-4761-c49c-09c5f38dd026"
      },
      "execution_count": null,
      "outputs": [
        {
          "output_type": "execute_result",
          "data": {
            "text/plain": [
              "      0         1          2         3         4         5          6   \\\n",
              "0    1.0 -1.497799  10.035196  0.840200 -5.707698  8.167617  -9.323466   \n",
              "1    1.0 -6.998336   4.377087 -6.484710  2.779298 -7.934115 -10.083728   \n",
              "2    1.0 -1.058273  10.769909  0.889400 -4.850116  8.886271  -8.179478   \n",
              "3    1.0 -6.867707   3.583060 -8.427721  1.487085 -8.807198  -8.665976   \n",
              "4    1.0 -2.095896   7.963930 -0.902509 -5.654748  7.873805 -11.295901   \n",
              "..   ...       ...        ...       ...       ...       ...        ...   \n",
              "995  1.0 -1.106986   8.282446 -0.057261 -6.116476  6.911354 -10.068813   \n",
              "996  1.0  0.397230   8.221633 -0.405807 -6.061672  9.010422  -9.003665   \n",
              "997  1.0 -0.209063   7.885913 -0.832581 -3.604548  6.250600  -8.479566   \n",
              "998  1.0 -7.911190   4.315594 -8.285292  2.626463 -8.667918  -9.731549   \n",
              "999  1.0 -0.305709  10.084121 -0.283779 -5.586140  8.670465  -9.299468   \n",
              "\n",
              "           7         8          9   ...        33        34        35  \\\n",
              "0   -3.551138  6.058898  -8.232926  ... -4.477734  1.583983 -6.055876   \n",
              "1   -2.113597 -1.220110   2.956639  ...  6.658427 -1.633684 -7.705663   \n",
              "2   -3.715794  5.979643  -7.445813  ... -5.586367  1.151419 -8.145260   \n",
              "3   -1.336047  1.941540  -0.175262  ...  8.377716 -1.451239 -4.422577   \n",
              "4   -4.269109  6.312600  -7.702338  ... -4.817290  1.668884 -6.832961   \n",
              "..        ...       ...        ...  ...       ...       ...       ...   \n",
              "995 -3.728276  8.141376  -8.906317  ... -5.964503  1.251278 -7.992002   \n",
              "996 -4.968680  3.682789  -8.528947  ... -6.799213 -0.125058 -7.804038   \n",
              "997 -3.818853  6.423736 -10.164703  ... -3.844384  0.728842 -5.884556   \n",
              "998 -2.196998  0.032406   4.300867  ...  7.389844  0.544534 -8.915351   \n",
              "999 -2.972744  3.812210  -8.913587  ... -4.536909  0.318356 -9.978892   \n",
              "\n",
              "            36         37        38        39        40        41        42  \n",
              "0    -9.365848  -7.358874 -8.233509 -5.245205  1.672890 -0.188518  6.139565  \n",
              "1    -6.468424  10.318392  3.384956 -7.154858  0.729391  3.307015 -9.644730  \n",
              "2    -8.217145  -6.033866 -4.271116 -4.268057  0.285024 -1.713686  9.271898  \n",
              "3    -5.241272   8.676884  4.057305 -5.101096  4.023815  3.975721 -8.361521  \n",
              "4   -10.118096  -7.057126 -6.049081 -7.382427 -0.602322  0.488618  6.419303  \n",
              "..         ...        ...       ...       ...       ...       ...       ...  \n",
              "995  -7.283662  -8.705102 -5.465174 -6.161965  1.315934 -0.751699  7.218415  \n",
              "996  -8.456088  -6.736317 -6.832784 -5.073031  0.833106  0.641389  4.754590  \n",
              "997  -7.001874  -6.646043 -6.852759 -3.688048  1.136642 -1.637928  8.165144  \n",
              "998  -4.340385   7.940020  3.961646 -5.271253  1.076246  6.246883 -9.090209  \n",
              "999  -8.519785  -7.231942 -5.041103 -4.783570  3.252390 -0.788731  7.234848  \n",
              "\n",
              "[1000 rows x 43 columns]"
            ],
            "text/html": [
              "\n",
              "  <div id=\"df-316705e1-fb66-461e-b7bf-2ead0815c493\">\n",
              "    <div class=\"colab-df-container\">\n",
              "      <div>\n",
              "<style scoped>\n",
              "    .dataframe tbody tr th:only-of-type {\n",
              "        vertical-align: middle;\n",
              "    }\n",
              "\n",
              "    .dataframe tbody tr th {\n",
              "        vertical-align: top;\n",
              "    }\n",
              "\n",
              "    .dataframe thead th {\n",
              "        text-align: right;\n",
              "    }\n",
              "</style>\n",
              "<table border=\"1\" class=\"dataframe\">\n",
              "  <thead>\n",
              "    <tr style=\"text-align: right;\">\n",
              "      <th></th>\n",
              "      <th>0</th>\n",
              "      <th>1</th>\n",
              "      <th>2</th>\n",
              "      <th>3</th>\n",
              "      <th>4</th>\n",
              "      <th>5</th>\n",
              "      <th>6</th>\n",
              "      <th>7</th>\n",
              "      <th>8</th>\n",
              "      <th>9</th>\n",
              "      <th>...</th>\n",
              "      <th>33</th>\n",
              "      <th>34</th>\n",
              "      <th>35</th>\n",
              "      <th>36</th>\n",
              "      <th>37</th>\n",
              "      <th>38</th>\n",
              "      <th>39</th>\n",
              "      <th>40</th>\n",
              "      <th>41</th>\n",
              "      <th>42</th>\n",
              "    </tr>\n",
              "  </thead>\n",
              "  <tbody>\n",
              "    <tr>\n",
              "      <th>0</th>\n",
              "      <td>1.0</td>\n",
              "      <td>-1.497799</td>\n",
              "      <td>10.035196</td>\n",
              "      <td>0.840200</td>\n",
              "      <td>-5.707698</td>\n",
              "      <td>8.167617</td>\n",
              "      <td>-9.323466</td>\n",
              "      <td>-3.551138</td>\n",
              "      <td>6.058898</td>\n",
              "      <td>-8.232926</td>\n",
              "      <td>...</td>\n",
              "      <td>-4.477734</td>\n",
              "      <td>1.583983</td>\n",
              "      <td>-6.055876</td>\n",
              "      <td>-9.365848</td>\n",
              "      <td>-7.358874</td>\n",
              "      <td>-8.233509</td>\n",
              "      <td>-5.245205</td>\n",
              "      <td>1.672890</td>\n",
              "      <td>-0.188518</td>\n",
              "      <td>6.139565</td>\n",
              "    </tr>\n",
              "    <tr>\n",
              "      <th>1</th>\n",
              "      <td>1.0</td>\n",
              "      <td>-6.998336</td>\n",
              "      <td>4.377087</td>\n",
              "      <td>-6.484710</td>\n",
              "      <td>2.779298</td>\n",
              "      <td>-7.934115</td>\n",
              "      <td>-10.083728</td>\n",
              "      <td>-2.113597</td>\n",
              "      <td>-1.220110</td>\n",
              "      <td>2.956639</td>\n",
              "      <td>...</td>\n",
              "      <td>6.658427</td>\n",
              "      <td>-1.633684</td>\n",
              "      <td>-7.705663</td>\n",
              "      <td>-6.468424</td>\n",
              "      <td>10.318392</td>\n",
              "      <td>3.384956</td>\n",
              "      <td>-7.154858</td>\n",
              "      <td>0.729391</td>\n",
              "      <td>3.307015</td>\n",
              "      <td>-9.644730</td>\n",
              "    </tr>\n",
              "    <tr>\n",
              "      <th>2</th>\n",
              "      <td>1.0</td>\n",
              "      <td>-1.058273</td>\n",
              "      <td>10.769909</td>\n",
              "      <td>0.889400</td>\n",
              "      <td>-4.850116</td>\n",
              "      <td>8.886271</td>\n",
              "      <td>-8.179478</td>\n",
              "      <td>-3.715794</td>\n",
              "      <td>5.979643</td>\n",
              "      <td>-7.445813</td>\n",
              "      <td>...</td>\n",
              "      <td>-5.586367</td>\n",
              "      <td>1.151419</td>\n",
              "      <td>-8.145260</td>\n",
              "      <td>-8.217145</td>\n",
              "      <td>-6.033866</td>\n",
              "      <td>-4.271116</td>\n",
              "      <td>-4.268057</td>\n",
              "      <td>0.285024</td>\n",
              "      <td>-1.713686</td>\n",
              "      <td>9.271898</td>\n",
              "    </tr>\n",
              "    <tr>\n",
              "      <th>3</th>\n",
              "      <td>1.0</td>\n",
              "      <td>-6.867707</td>\n",
              "      <td>3.583060</td>\n",
              "      <td>-8.427721</td>\n",
              "      <td>1.487085</td>\n",
              "      <td>-8.807198</td>\n",
              "      <td>-8.665976</td>\n",
              "      <td>-1.336047</td>\n",
              "      <td>1.941540</td>\n",
              "      <td>-0.175262</td>\n",
              "      <td>...</td>\n",
              "      <td>8.377716</td>\n",
              "      <td>-1.451239</td>\n",
              "      <td>-4.422577</td>\n",
              "      <td>-5.241272</td>\n",
              "      <td>8.676884</td>\n",
              "      <td>4.057305</td>\n",
              "      <td>-5.101096</td>\n",
              "      <td>4.023815</td>\n",
              "      <td>3.975721</td>\n",
              "      <td>-8.361521</td>\n",
              "    </tr>\n",
              "    <tr>\n",
              "      <th>4</th>\n",
              "      <td>1.0</td>\n",
              "      <td>-2.095896</td>\n",
              "      <td>7.963930</td>\n",
              "      <td>-0.902509</td>\n",
              "      <td>-5.654748</td>\n",
              "      <td>7.873805</td>\n",
              "      <td>-11.295901</td>\n",
              "      <td>-4.269109</td>\n",
              "      <td>6.312600</td>\n",
              "      <td>-7.702338</td>\n",
              "      <td>...</td>\n",
              "      <td>-4.817290</td>\n",
              "      <td>1.668884</td>\n",
              "      <td>-6.832961</td>\n",
              "      <td>-10.118096</td>\n",
              "      <td>-7.057126</td>\n",
              "      <td>-6.049081</td>\n",
              "      <td>-7.382427</td>\n",
              "      <td>-0.602322</td>\n",
              "      <td>0.488618</td>\n",
              "      <td>6.419303</td>\n",
              "    </tr>\n",
              "    <tr>\n",
              "      <th>...</th>\n",
              "      <td>...</td>\n",
              "      <td>...</td>\n",
              "      <td>...</td>\n",
              "      <td>...</td>\n",
              "      <td>...</td>\n",
              "      <td>...</td>\n",
              "      <td>...</td>\n",
              "      <td>...</td>\n",
              "      <td>...</td>\n",
              "      <td>...</td>\n",
              "      <td>...</td>\n",
              "      <td>...</td>\n",
              "      <td>...</td>\n",
              "      <td>...</td>\n",
              "      <td>...</td>\n",
              "      <td>...</td>\n",
              "      <td>...</td>\n",
              "      <td>...</td>\n",
              "      <td>...</td>\n",
              "      <td>...</td>\n",
              "      <td>...</td>\n",
              "    </tr>\n",
              "    <tr>\n",
              "      <th>995</th>\n",
              "      <td>1.0</td>\n",
              "      <td>-1.106986</td>\n",
              "      <td>8.282446</td>\n",
              "      <td>-0.057261</td>\n",
              "      <td>-6.116476</td>\n",
              "      <td>6.911354</td>\n",
              "      <td>-10.068813</td>\n",
              "      <td>-3.728276</td>\n",
              "      <td>8.141376</td>\n",
              "      <td>-8.906317</td>\n",
              "      <td>...</td>\n",
              "      <td>-5.964503</td>\n",
              "      <td>1.251278</td>\n",
              "      <td>-7.992002</td>\n",
              "      <td>-7.283662</td>\n",
              "      <td>-8.705102</td>\n",
              "      <td>-5.465174</td>\n",
              "      <td>-6.161965</td>\n",
              "      <td>1.315934</td>\n",
              "      <td>-0.751699</td>\n",
              "      <td>7.218415</td>\n",
              "    </tr>\n",
              "    <tr>\n",
              "      <th>996</th>\n",
              "      <td>1.0</td>\n",
              "      <td>0.397230</td>\n",
              "      <td>8.221633</td>\n",
              "      <td>-0.405807</td>\n",
              "      <td>-6.061672</td>\n",
              "      <td>9.010422</td>\n",
              "      <td>-9.003665</td>\n",
              "      <td>-4.968680</td>\n",
              "      <td>3.682789</td>\n",
              "      <td>-8.528947</td>\n",
              "      <td>...</td>\n",
              "      <td>-6.799213</td>\n",
              "      <td>-0.125058</td>\n",
              "      <td>-7.804038</td>\n",
              "      <td>-8.456088</td>\n",
              "      <td>-6.736317</td>\n",
              "      <td>-6.832784</td>\n",
              "      <td>-5.073031</td>\n",
              "      <td>0.833106</td>\n",
              "      <td>0.641389</td>\n",
              "      <td>4.754590</td>\n",
              "    </tr>\n",
              "    <tr>\n",
              "      <th>997</th>\n",
              "      <td>1.0</td>\n",
              "      <td>-0.209063</td>\n",
              "      <td>7.885913</td>\n",
              "      <td>-0.832581</td>\n",
              "      <td>-3.604548</td>\n",
              "      <td>6.250600</td>\n",
              "      <td>-8.479566</td>\n",
              "      <td>-3.818853</td>\n",
              "      <td>6.423736</td>\n",
              "      <td>-10.164703</td>\n",
              "      <td>...</td>\n",
              "      <td>-3.844384</td>\n",
              "      <td>0.728842</td>\n",
              "      <td>-5.884556</td>\n",
              "      <td>-7.001874</td>\n",
              "      <td>-6.646043</td>\n",
              "      <td>-6.852759</td>\n",
              "      <td>-3.688048</td>\n",
              "      <td>1.136642</td>\n",
              "      <td>-1.637928</td>\n",
              "      <td>8.165144</td>\n",
              "    </tr>\n",
              "    <tr>\n",
              "      <th>998</th>\n",
              "      <td>1.0</td>\n",
              "      <td>-7.911190</td>\n",
              "      <td>4.315594</td>\n",
              "      <td>-8.285292</td>\n",
              "      <td>2.626463</td>\n",
              "      <td>-8.667918</td>\n",
              "      <td>-9.731549</td>\n",
              "      <td>-2.196998</td>\n",
              "      <td>0.032406</td>\n",
              "      <td>4.300867</td>\n",
              "      <td>...</td>\n",
              "      <td>7.389844</td>\n",
              "      <td>0.544534</td>\n",
              "      <td>-8.915351</td>\n",
              "      <td>-4.340385</td>\n",
              "      <td>7.940020</td>\n",
              "      <td>3.961646</td>\n",
              "      <td>-5.271253</td>\n",
              "      <td>1.076246</td>\n",
              "      <td>6.246883</td>\n",
              "      <td>-9.090209</td>\n",
              "    </tr>\n",
              "    <tr>\n",
              "      <th>999</th>\n",
              "      <td>1.0</td>\n",
              "      <td>-0.305709</td>\n",
              "      <td>10.084121</td>\n",
              "      <td>-0.283779</td>\n",
              "      <td>-5.586140</td>\n",
              "      <td>8.670465</td>\n",
              "      <td>-9.299468</td>\n",
              "      <td>-2.972744</td>\n",
              "      <td>3.812210</td>\n",
              "      <td>-8.913587</td>\n",
              "      <td>...</td>\n",
              "      <td>-4.536909</td>\n",
              "      <td>0.318356</td>\n",
              "      <td>-9.978892</td>\n",
              "      <td>-8.519785</td>\n",
              "      <td>-7.231942</td>\n",
              "      <td>-5.041103</td>\n",
              "      <td>-4.783570</td>\n",
              "      <td>3.252390</td>\n",
              "      <td>-0.788731</td>\n",
              "      <td>7.234848</td>\n",
              "    </tr>\n",
              "  </tbody>\n",
              "</table>\n",
              "<p>1000 rows × 43 columns</p>\n",
              "</div>\n",
              "      <button class=\"colab-df-convert\" onclick=\"convertToInteractive('df-316705e1-fb66-461e-b7bf-2ead0815c493')\"\n",
              "              title=\"Convert this dataframe to an interactive table.\"\n",
              "              style=\"display:none;\">\n",
              "        \n",
              "  <svg xmlns=\"http://www.w3.org/2000/svg\" height=\"24px\"viewBox=\"0 0 24 24\"\n",
              "       width=\"24px\">\n",
              "    <path d=\"M0 0h24v24H0V0z\" fill=\"none\"/>\n",
              "    <path d=\"M18.56 5.44l.94 2.06.94-2.06 2.06-.94-2.06-.94-.94-2.06-.94 2.06-2.06.94zm-11 1L8.5 8.5l.94-2.06 2.06-.94-2.06-.94L8.5 2.5l-.94 2.06-2.06.94zm10 10l.94 2.06.94-2.06 2.06-.94-2.06-.94-.94-2.06-.94 2.06-2.06.94z\"/><path d=\"M17.41 7.96l-1.37-1.37c-.4-.4-.92-.59-1.43-.59-.52 0-1.04.2-1.43.59L10.3 9.45l-7.72 7.72c-.78.78-.78 2.05 0 2.83L4 21.41c.39.39.9.59 1.41.59.51 0 1.02-.2 1.41-.59l7.78-7.78 2.81-2.81c.8-.78.8-2.07 0-2.86zM5.41 20L4 18.59l7.72-7.72 1.47 1.35L5.41 20z\"/>\n",
              "  </svg>\n",
              "      </button>\n",
              "      \n",
              "  <style>\n",
              "    .colab-df-container {\n",
              "      display:flex;\n",
              "      flex-wrap:wrap;\n",
              "      gap: 12px;\n",
              "    }\n",
              "\n",
              "    .colab-df-convert {\n",
              "      background-color: #E8F0FE;\n",
              "      border: none;\n",
              "      border-radius: 50%;\n",
              "      cursor: pointer;\n",
              "      display: none;\n",
              "      fill: #1967D2;\n",
              "      height: 32px;\n",
              "      padding: 0 0 0 0;\n",
              "      width: 32px;\n",
              "    }\n",
              "\n",
              "    .colab-df-convert:hover {\n",
              "      background-color: #E2EBFA;\n",
              "      box-shadow: 0px 1px 2px rgba(60, 64, 67, 0.3), 0px 1px 3px 1px rgba(60, 64, 67, 0.15);\n",
              "      fill: #174EA6;\n",
              "    }\n",
              "\n",
              "    [theme=dark] .colab-df-convert {\n",
              "      background-color: #3B4455;\n",
              "      fill: #D2E3FC;\n",
              "    }\n",
              "\n",
              "    [theme=dark] .colab-df-convert:hover {\n",
              "      background-color: #434B5C;\n",
              "      box-shadow: 0px 1px 3px 1px rgba(0, 0, 0, 0.15);\n",
              "      filter: drop-shadow(0px 1px 2px rgba(0, 0, 0, 0.3));\n",
              "      fill: #FFFFFF;\n",
              "    }\n",
              "  </style>\n",
              "\n",
              "      <script>\n",
              "        const buttonEl =\n",
              "          document.querySelector('#df-316705e1-fb66-461e-b7bf-2ead0815c493 button.colab-df-convert');\n",
              "        buttonEl.style.display =\n",
              "          google.colab.kernel.accessAllowed ? 'block' : 'none';\n",
              "\n",
              "        async function convertToInteractive(key) {\n",
              "          const element = document.querySelector('#df-316705e1-fb66-461e-b7bf-2ead0815c493');\n",
              "          const dataTable =\n",
              "            await google.colab.kernel.invokeFunction('convertToInteractive',\n",
              "                                                     [key], {});\n",
              "          if (!dataTable) return;\n",
              "\n",
              "          const docLinkHtml = 'Like what you see? Visit the ' +\n",
              "            '<a target=\"_blank\" href=https://colab.research.google.com/notebooks/data_table.ipynb>data table notebook</a>'\n",
              "            + ' to learn more about interactive tables.';\n",
              "          element.innerHTML = '';\n",
              "          dataTable['output_type'] = 'display_data';\n",
              "          await google.colab.output.renderOutput(dataTable, element);\n",
              "          const docLink = document.createElement('div');\n",
              "          docLink.innerHTML = docLinkHtml;\n",
              "          element.appendChild(docLink);\n",
              "        }\n",
              "      </script>\n",
              "    </div>\n",
              "  </div>\n",
              "  "
            ]
          },
          "metadata": {},
          "execution_count": 65
        }
      ]
    },
    {
      "cell_type": "code",
      "metadata": {
        "id": "4qBGQtKEULhd",
        "colab": {
          "base_uri": "https://localhost:8080/",
          "height": 432
        },
        "outputId": "a5bf2fb1-6f28-4a87-e770-f21ef2107a1c"
      },
      "source": [
        "# S3.3: Create a scatter plot between the 'h' values and their corresponding sigmoid outputs.\n",
        "sigmoid(new_feature_array, beta_vals)"
      ],
      "execution_count": null,
      "outputs": [
        {
          "output_type": "error",
          "ename": "ValueError",
          "evalue": "ignored",
          "traceback": [
            "\u001b[0;31m---------------------------------------------------------------------------\u001b[0m",
            "\u001b[0;31mValueError\u001b[0m                                Traceback (most recent call last)",
            "\u001b[0;32m/usr/local/lib/python3.8/dist-packages/pandas/core/frame.py\u001b[0m in \u001b[0;36m__rmatmul__\u001b[0;34m(self, other)\u001b[0m\n\u001b[1;32m   1498\u001b[0m         \u001b[0;32mtry\u001b[0m\u001b[0;34m:\u001b[0m\u001b[0;34m\u001b[0m\u001b[0;34m\u001b[0m\u001b[0m\n\u001b[0;32m-> 1499\u001b[0;31m             \u001b[0;32mreturn\u001b[0m \u001b[0mself\u001b[0m\u001b[0;34m.\u001b[0m\u001b[0mT\u001b[0m\u001b[0;34m.\u001b[0m\u001b[0mdot\u001b[0m\u001b[0;34m(\u001b[0m\u001b[0mnp\u001b[0m\u001b[0;34m.\u001b[0m\u001b[0mtranspose\u001b[0m\u001b[0;34m(\u001b[0m\u001b[0mother\u001b[0m\u001b[0;34m)\u001b[0m\u001b[0;34m)\u001b[0m\u001b[0;34m.\u001b[0m\u001b[0mT\u001b[0m\u001b[0;34m\u001b[0m\u001b[0;34m\u001b[0m\u001b[0m\n\u001b[0m\u001b[1;32m   1500\u001b[0m         \u001b[0;32mexcept\u001b[0m \u001b[0mValueError\u001b[0m \u001b[0;32mas\u001b[0m \u001b[0merr\u001b[0m\u001b[0;34m:\u001b[0m\u001b[0;34m\u001b[0m\u001b[0;34m\u001b[0m\u001b[0m\n",
            "\u001b[0;32m/usr/local/lib/python3.8/dist-packages/pandas/core/frame.py\u001b[0m in \u001b[0;36mdot\u001b[0;34m(self, other)\u001b[0m\n\u001b[1;32m   1456\u001b[0m             \u001b[0;32mif\u001b[0m \u001b[0mlvals\u001b[0m\u001b[0;34m.\u001b[0m\u001b[0mshape\u001b[0m\u001b[0;34m[\u001b[0m\u001b[0;36m1\u001b[0m\u001b[0;34m]\u001b[0m \u001b[0;34m!=\u001b[0m \u001b[0mrvals\u001b[0m\u001b[0;34m.\u001b[0m\u001b[0mshape\u001b[0m\u001b[0;34m[\u001b[0m\u001b[0;36m0\u001b[0m\u001b[0;34m]\u001b[0m\u001b[0;34m:\u001b[0m\u001b[0;34m\u001b[0m\u001b[0;34m\u001b[0m\u001b[0m\n\u001b[0;32m-> 1457\u001b[0;31m                 raise ValueError(\n\u001b[0m\u001b[1;32m   1458\u001b[0m                     \u001b[0;34mf\"Dot product shape mismatch, {lvals.shape} vs {rvals.shape}\"\u001b[0m\u001b[0;34m\u001b[0m\u001b[0;34m\u001b[0m\u001b[0m\n",
            "\u001b[0;31mValueError\u001b[0m: Dot product shape mismatch, (1000, 43) vs (3,)",
            "\nThe above exception was the direct cause of the following exception:\n",
            "\u001b[0;31mValueError\u001b[0m                                Traceback (most recent call last)",
            "\u001b[0;32m<ipython-input-66-acbabfd08f13>\u001b[0m in \u001b[0;36m<module>\u001b[0;34m\u001b[0m\n\u001b[1;32m      1\u001b[0m \u001b[0;31m# S3.3: Create a scatter plot between the 'h' values and their corresponding sigmoid outputs.\u001b[0m\u001b[0;34m\u001b[0m\u001b[0;34m\u001b[0m\u001b[0;34m\u001b[0m\u001b[0m\n\u001b[0;32m----> 2\u001b[0;31m \u001b[0msigmoid\u001b[0m\u001b[0;34m(\u001b[0m\u001b[0mnew_feature_df\u001b[0m\u001b[0;34m,\u001b[0m \u001b[0mbeta_vals\u001b[0m\u001b[0;34m)\u001b[0m\u001b[0;34m\u001b[0m\u001b[0;34m\u001b[0m\u001b[0m\n\u001b[0m",
            "\u001b[0;32m<ipython-input-65-adf9d83a82fa>\u001b[0m in \u001b[0;36msigmoid\u001b[0;34m(features_matrix, coef_matrix)\u001b[0m\n\u001b[1;32m      1\u001b[0m \u001b[0;32mdef\u001b[0m \u001b[0msigmoid\u001b[0m\u001b[0;34m(\u001b[0m\u001b[0mfeatures_matrix\u001b[0m\u001b[0;34m,\u001b[0m \u001b[0mcoef_matrix\u001b[0m\u001b[0;34m)\u001b[0m\u001b[0;34m:\u001b[0m\u001b[0;34m\u001b[0m\u001b[0;34m\u001b[0m\u001b[0m\n\u001b[0;32m----> 2\u001b[0;31m     \u001b[0msigmoid_output_matrix\u001b[0m \u001b[0;34m=\u001b[0m \u001b[0;36m1\u001b[0m\u001b[0;34m/\u001b[0m\u001b[0;34m(\u001b[0m\u001b[0;36m1\u001b[0m \u001b[0;34m+\u001b[0m \u001b[0mnp\u001b[0m\u001b[0;34m.\u001b[0m\u001b[0mexp\u001b[0m\u001b[0;34m(\u001b[0m\u001b[0;34m-\u001b[0m\u001b[0;36m1\u001b[0m \u001b[0;34m*\u001b[0m \u001b[0mnp\u001b[0m\u001b[0;34m.\u001b[0m\u001b[0mmatmul\u001b[0m\u001b[0;34m(\u001b[0m\u001b[0mcoef_matrix\u001b[0m\u001b[0;34m,\u001b[0m \u001b[0mnp\u001b[0m\u001b[0;34m.\u001b[0m\u001b[0mtranspose\u001b[0m\u001b[0;34m(\u001b[0m\u001b[0mfeatures_matrix\u001b[0m\u001b[0;34m)\u001b[0m\u001b[0;34m)\u001b[0m\u001b[0;34m)\u001b[0m\u001b[0;34m)\u001b[0m\u001b[0;34m\u001b[0m\u001b[0;34m\u001b[0m\u001b[0m\n\u001b[0m\u001b[1;32m      3\u001b[0m     \u001b[0;32mreturn\u001b[0m \u001b[0mnp\u001b[0m\u001b[0;34m.\u001b[0m\u001b[0marray\u001b[0m\u001b[0;34m(\u001b[0m\u001b[0msigmoid_output_matrix\u001b[0m\u001b[0;34m)\u001b[0m\u001b[0;34m\u001b[0m\u001b[0;34m\u001b[0m\u001b[0m\n\u001b[1;32m      4\u001b[0m \u001b[0;34m\u001b[0m\u001b[0m\n\u001b[1;32m      5\u001b[0m \u001b[0mnew_feature_df\u001b[0m \u001b[0;34m=\u001b[0m \u001b[0mpd\u001b[0m\u001b[0;34m.\u001b[0m\u001b[0mDataFrame\u001b[0m\u001b[0;34m(\u001b[0m\u001b[0mnew_feature_array\u001b[0m\u001b[0;34m)\u001b[0m\u001b[0;34m\u001b[0m\u001b[0;34m\u001b[0m\u001b[0m\n",
            "\u001b[0;32m/usr/local/lib/python3.8/dist-packages/pandas/core/generic.py\u001b[0m in \u001b[0;36m__array_ufunc__\u001b[0;34m(self, ufunc, method, *inputs, **kwargs)\u001b[0m\n\u001b[1;32m   2030\u001b[0m         \u001b[0mself\u001b[0m\u001b[0;34m,\u001b[0m \u001b[0mufunc\u001b[0m\u001b[0;34m:\u001b[0m \u001b[0mnp\u001b[0m\u001b[0;34m.\u001b[0m\u001b[0mufunc\u001b[0m\u001b[0;34m,\u001b[0m \u001b[0mmethod\u001b[0m\u001b[0;34m:\u001b[0m \u001b[0mstr\u001b[0m\u001b[0;34m,\u001b[0m \u001b[0;34m*\u001b[0m\u001b[0minputs\u001b[0m\u001b[0;34m:\u001b[0m \u001b[0mAny\u001b[0m\u001b[0;34m,\u001b[0m \u001b[0;34m**\u001b[0m\u001b[0mkwargs\u001b[0m\u001b[0;34m:\u001b[0m \u001b[0mAny\u001b[0m\u001b[0;34m\u001b[0m\u001b[0;34m\u001b[0m\u001b[0m\n\u001b[1;32m   2031\u001b[0m     ):\n\u001b[0;32m-> 2032\u001b[0;31m         \u001b[0;32mreturn\u001b[0m \u001b[0marraylike\u001b[0m\u001b[0;34m.\u001b[0m\u001b[0marray_ufunc\u001b[0m\u001b[0;34m(\u001b[0m\u001b[0mself\u001b[0m\u001b[0;34m,\u001b[0m \u001b[0mufunc\u001b[0m\u001b[0;34m,\u001b[0m \u001b[0mmethod\u001b[0m\u001b[0;34m,\u001b[0m \u001b[0;34m*\u001b[0m\u001b[0minputs\u001b[0m\u001b[0;34m,\u001b[0m \u001b[0;34m**\u001b[0m\u001b[0mkwargs\u001b[0m\u001b[0;34m)\u001b[0m\u001b[0;34m\u001b[0m\u001b[0;34m\u001b[0m\u001b[0m\n\u001b[0m\u001b[1;32m   2033\u001b[0m \u001b[0;34m\u001b[0m\u001b[0m\n\u001b[1;32m   2034\u001b[0m     \u001b[0;31m# ideally we would define this to avoid the getattr checks, but\u001b[0m\u001b[0;34m\u001b[0m\u001b[0;34m\u001b[0m\u001b[0;34m\u001b[0m\u001b[0m\n",
            "\u001b[0;32m/usr/local/lib/python3.8/dist-packages/pandas/core/arraylike.py\u001b[0m in \u001b[0;36marray_ufunc\u001b[0;34m(self, ufunc, method, *inputs, **kwargs)\u001b[0m\n\u001b[1;32m    251\u001b[0m \u001b[0;34m\u001b[0m\u001b[0m\n\u001b[1;32m    252\u001b[0m     \u001b[0;31m# for binary ops, use our custom dunder methods\u001b[0m\u001b[0;34m\u001b[0m\u001b[0;34m\u001b[0m\u001b[0;34m\u001b[0m\u001b[0m\n\u001b[0;32m--> 253\u001b[0;31m     \u001b[0mresult\u001b[0m \u001b[0;34m=\u001b[0m \u001b[0mmaybe_dispatch_ufunc_to_dunder_op\u001b[0m\u001b[0;34m(\u001b[0m\u001b[0mself\u001b[0m\u001b[0;34m,\u001b[0m \u001b[0mufunc\u001b[0m\u001b[0;34m,\u001b[0m \u001b[0mmethod\u001b[0m\u001b[0;34m,\u001b[0m \u001b[0;34m*\u001b[0m\u001b[0minputs\u001b[0m\u001b[0;34m,\u001b[0m \u001b[0;34m**\u001b[0m\u001b[0mkwargs\u001b[0m\u001b[0;34m)\u001b[0m\u001b[0;34m\u001b[0m\u001b[0;34m\u001b[0m\u001b[0m\n\u001b[0m\u001b[1;32m    254\u001b[0m     \u001b[0;32mif\u001b[0m \u001b[0mresult\u001b[0m \u001b[0;32mis\u001b[0m \u001b[0;32mnot\u001b[0m \u001b[0mNotImplemented\u001b[0m\u001b[0;34m:\u001b[0m\u001b[0;34m\u001b[0m\u001b[0;34m\u001b[0m\u001b[0m\n\u001b[1;32m    255\u001b[0m         \u001b[0;32mreturn\u001b[0m \u001b[0mresult\u001b[0m\u001b[0;34m\u001b[0m\u001b[0;34m\u001b[0m\u001b[0m\n",
            "\u001b[0;32m/usr/local/lib/python3.8/dist-packages/pandas/_libs/ops_dispatch.pyx\u001b[0m in \u001b[0;36mpandas._libs.ops_dispatch.maybe_dispatch_ufunc_to_dunder_op\u001b[0;34m()\u001b[0m\n",
            "\u001b[0;32m/usr/local/lib/python3.8/dist-packages/pandas/core/frame.py\u001b[0m in \u001b[0;36m__rmatmul__\u001b[0;34m(self, other)\u001b[0m\n\u001b[1;32m   1503\u001b[0m             \u001b[0;31m# GH#21581 give exception message for original shapes\u001b[0m\u001b[0;34m\u001b[0m\u001b[0;34m\u001b[0m\u001b[0;34m\u001b[0m\u001b[0m\n\u001b[1;32m   1504\u001b[0m             \u001b[0mmsg\u001b[0m \u001b[0;34m=\u001b[0m \u001b[0;34mf\"shapes {np.shape(other)} and {self.shape} not aligned\"\u001b[0m\u001b[0;34m\u001b[0m\u001b[0;34m\u001b[0m\u001b[0m\n\u001b[0;32m-> 1505\u001b[0;31m             \u001b[0;32mraise\u001b[0m \u001b[0mValueError\u001b[0m\u001b[0;34m(\u001b[0m\u001b[0mmsg\u001b[0m\u001b[0;34m)\u001b[0m \u001b[0;32mfrom\u001b[0m \u001b[0merr\u001b[0m\u001b[0;34m\u001b[0m\u001b[0;34m\u001b[0m\u001b[0m\n\u001b[0m\u001b[1;32m   1506\u001b[0m \u001b[0;34m\u001b[0m\u001b[0m\n\u001b[1;32m   1507\u001b[0m     \u001b[0;31m# ----------------------------------------------------------------------\u001b[0m\u001b[0;34m\u001b[0m\u001b[0;34m\u001b[0m\u001b[0;34m\u001b[0m\u001b[0m\n",
            "\u001b[0;31mValueError\u001b[0m: shapes (3,) and (43, 1000) not aligned"
          ]
        }
      ]
    },
    {
      "cell_type": "code",
      "source": [
        "feature_array.shape[0]"
      ],
      "metadata": {
        "id": "0E-atCtoUgjK"
      },
      "execution_count": null,
      "outputs": []
    },
    {
      "cell_type": "markdown",
      "metadata": {
        "id": "dZkBAV5pNqif"
      },
      "source": [
        "As you can see, the above plot follows the sigmoid curve.\n",
        "\n",
        "Now, let's predict the target values w.r.t. the threshold value of 0.5"
      ]
    },
    {
      "cell_type": "code",
      "metadata": {
        "id": "MJJiMlKv4TVJ"
      },
      "source": [
        "# S3.4: Predict the target values w.r.t. the threshold value of 0.5\n"
      ],
      "execution_count": null,
      "outputs": []
    },
    {
      "cell_type": "markdown",
      "metadata": {
        "id": "PXDnm2HvN6se"
      },
      "source": [
        "Finally, let's calculate the accuracy of the logistic regression model built through a confusion matrix, precision value, recall value and f1-score."
      ]
    },
    {
      "cell_type": "code",
      "metadata": {
        "id": "jZL2nJvX4n4f"
      },
      "source": [
        "# S3.5: Evaluate the accuracy of the logistic regression model built through a confusion matrix, precision value, recall value and f1-score.\n"
      ],
      "execution_count": null,
      "outputs": []
    },
    {
      "cell_type": "markdown",
      "metadata": {
        "id": "9O5XDqkTOV22"
      },
      "source": [
        "As you can see,\n",
        "- The FP and FN values in the confusion matrix are 0\n",
        "- The precision and recall values are 1\n",
        "- The f1-score is also 1\n",
        "\n",
        "This clearly shows that the decision boundary accurately separates the labels (or classes) with 100% accuracy.\n",
        "\n",
        "Let's stop here. In the next class, we will study more concepts on logistic regression."
      ]
    },
    {
      "cell_type": "markdown",
      "metadata": {
        "id": "Kx3sCQvxEZPH"
      },
      "source": [
        "---"
      ]
    }
  ]
}