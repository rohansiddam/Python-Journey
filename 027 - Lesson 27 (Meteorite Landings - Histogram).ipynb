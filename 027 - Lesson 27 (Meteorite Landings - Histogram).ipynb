{
  "nbformat": 4,
  "nbformat_minor": 0,
  "metadata": {
    "colab": {
      "provenance": [],
      "include_colab_link": true
    },
    "kernelspec": {
      "name": "python3",
      "display_name": "Python 3"
    }
  },
  "cells": [
    {
      "cell_type": "markdown",
      "metadata": {
        "id": "view-in-github",
        "colab_type": "text"
      },
      "source": [
        "<a href=\"https://colab.research.google.com/github/rohansiddam/Python-Journey/blob/main/027%20-%20Lesson%2027%20(Meteorite%20Landings%20-%20Histogram).ipynb\" target=\"_parent\"><img src=\"https://colab.research.google.com/assets/colab-badge.svg\" alt=\"Open In Colab\"/></a>"
      ]
    },
    {
      "cell_type": "markdown",
      "metadata": {
        "id": "aMbswDYFUt_1"
      },
      "source": [
        "# Lesson 27: Meteorite Landings - Histogram"
      ]
    },
    {
      "cell_type": "markdown",
      "metadata": {
        "id": "dmruqgPqb9BH"
      },
      "source": [
        "### Teacher-Student Activities\n",
        "\n",
        "In the previous classes, we learnt how to create a count plot. In this class, we will learn another type of graph called a histogram.\n",
        "\n",
        "A histogram is very similar to a count plot. It also shows the count of values. However, unlike the discrete counts in a count plot, a histogram shows the continuous counts of values. You will get a better understanding once we start creating a histogram.\n",
        "\n",
        "Let's quickly rush through the activities we covered in the previous class and begin this class from **Activity 1: Count Plot** section.\n",
        "\n"
      ]
    },
    {
      "cell_type": "markdown",
      "metadata": {
        "id": "0btx_ehOLDK5"
      },
      "source": [
        "---"
      ]
    },
    {
      "cell_type": "markdown",
      "metadata": {
        "id": "DoShzic97iBl"
      },
      "source": [
        "#### Recap\n",
        "\n",
        "Dataset Link (don't click on it):\n",
        "\n",
        "https://student-datasets-bucket.s3.ap-south-1.amazonaws.com/whitehat-ds-datasets/meteorite-landings/meteorite-landings.csv\n"
      ]
    },
    {
      "cell_type": "code",
      "metadata": {
        "id": "ThLLbqIzUd9f",
        "colab": {
          "base_uri": "https://localhost:8080/"
        },
        "outputId": "8299864c-c780-4bc1-a68e-a0f0ca1b8656"
      },
      "source": [
        "# Below are the activities that have been covered in the previous class.\n",
        "# 1. Import the necessary libraries for this class and create a DataFrame.\n",
        "import numpy as np\n",
        "import pandas as pd\n",
        "import matplotlib.pyplot as plt\n",
        "\n",
        "met_df = pd.read_csv('https://student-datasets-bucket.s3.ap-south-1.amazonaws.com/whitehat-ds-datasets/meteorite-landings/meteorite-landings.csv')\n",
        "\n",
        "# 2. Find the number of rows and columns in the DataFrame.\n",
        "print(met_df.shape)\n",
        "\n",
        "# 3. Rows containing the year values less than 860 and greater than 2016.\n",
        "correct_years_df = met_df[(met_df['year'] >= 860) & (met_df['year'] <= 2016)]\n",
        "\n",
        "# 4. Rows having the 'reclong' values greater than or equal to -180 degrees and less than or equal to 180 degrees.\n",
        "correct_long_df = correct_years_df[(correct_years_df['reclong'] >= -180) & (correct_years_df['reclong'] <= 180)]\n",
        "\n",
        "# 5. Rows containing the '0 reclat' and '0 reclong' values from the 'correct_long_df'.\n",
        "correct_lat_long_df = correct_long_df[~((correct_long_df['reclat'] == 0 ) & (correct_long_df['reclong'] == 0))]\n",
        "\n",
        "# 6. Indices of the rows having missing mass values.\n",
        "row_indices = correct_lat_long_df[correct_lat_long_df['mass'].isnull() == True].index\n",
        "\n",
        "# 7. Missing values in the 'mass' column in the 'correct_lat_long_df' DataFrame with median of mass.\n",
        "median_mass = correct_lat_long_df['mass'].median()\n",
        "correct_lat_long_df.loc[row_indices, 'mass'] = median_mass\n",
        "\n",
        "# 8. Convert the 'year' values into an integer type values.\n",
        "correct_lat_long_df.loc[:, 'year'] = correct_lat_long_df.loc[:, 'year'].astype('int')"
      ],
      "execution_count": null,
      "outputs": [
        {
          "output_type": "stream",
          "name": "stdout",
          "text": [
            "(45716, 10)\n"
          ]
        },
        {
          "output_type": "stream",
          "name": "stderr",
          "text": [
            "/usr/local/lib/python3.7/dist-packages/pandas/core/indexing.py:1817: SettingWithCopyWarning: \n",
            "A value is trying to be set on a copy of a slice from a DataFrame.\n",
            "Try using .loc[row_indexer,col_indexer] = value instead\n",
            "\n",
            "See the caveats in the documentation: https://pandas.pydata.org/pandas-docs/stable/user_guide/indexing.html#returning-a-view-versus-a-copy\n",
            "  self._setitem_single_column(loc, value, pi)\n",
            "/usr/local/lib/python3.7/dist-packages/pandas/core/indexing.py:1773: SettingWithCopyWarning: \n",
            "A value is trying to be set on a copy of a slice from a DataFrame.\n",
            "Try using .loc[row_indexer,col_indexer] = value instead\n",
            "\n",
            "See the caveats in the documentation: https://pandas.pydata.org/pandas-docs/stable/user_guide/indexing.html#returning-a-view-versus-a-copy\n",
            "  self._setitem_single_column(ilocs[0], value, pi)\n"
          ]
        }
      ]
    },
    {
      "cell_type": "markdown",
      "metadata": {
        "id": "mAHPBr8hmtGf"
      },
      "source": [
        "---"
      ]
    },
    {
      "cell_type": "markdown",
      "metadata": {
        "id": "P-XzsmGGL25Z"
      },
      "source": [
        "#### Activity 1: Count Plot\n",
        "\n",
        "Recall that in the previous class we couldn't draw count plots for all the meteorites found in a year. We had to divide the years in the 20 to 30 years period and then draw the count plot. The count plot really works well when you want to look at the variation in the count of a feature across a category. E.g., we observed that the count of `Valid` meteorites was more than the count of the `Relict` meteorites for a year. So, this is where the count plots are really helpful.\n",
        "\n",
        "However, if you want to observe the count trend in one single graph, then, in that case, it is better to create a histogram.\n",
        "\n",
        "*A histogram is a type of bar graph which plots the data falling in the same interval together.* Let's understand a histogram through an example.\n",
        "\n",
        "Consider the count of the meteorites between the years `1970` & `2000`. Let's create a count plot for this period."
      ]
    },
    {
      "cell_type": "code",
      "metadata": {
        "id": "n5mVgyomUZQY",
        "colab": {
          "base_uri": "https://localhost:8080/",
          "height": 279
        },
        "outputId": "c500a4a5-6c57-496c-8a77-830d2255bd96"
      },
      "source": [
        "# Student Action: Create a count plot for the count of the meteorites between the years 1970 & 2000.\n",
        "import seaborn as sns\n",
        "met_1970_2000 = correct_lat_long_df.loc[(correct_lat_long_df['year'] >= 1970) & (correct_lat_long_df['year'] <= 2000)]\n",
        "plt.figure(figsize = (20,4))\n",
        "sns.countplot(x = 'year', data = met_1970_2000)\n",
        "plt.show()\n",
        "# Create a DataFrame for the meteorites fallen between 1970 and 2000 including both.\n",
        "\n",
        "# Create a count plot for the meteorites fallen between 1970 and 2000 including both.\n"
      ],
      "execution_count": null,
      "outputs": [
        {
          "output_type": "display_data",
          "data": {
            "text/plain": [
              "<Figure size 1440x288 with 1 Axes>"
            ],
            "image/png": "[encoded data removed]"
          },
          "metadata": {
            "needs_background": "light"
          }
        }
      ]
    },
    {
      "cell_type": "markdown",
      "metadata": {
        "id": "0swSLoOCUqcX"
      },
      "source": [
        "Now, suppose we want to plot a bar graph for the count of the number of meteorites fallen in the interval of 5 years between 1970 and 2000. In this case, we will have 6 intervals. They are:\n",
        "\n",
        "1. 1970 to 1975 (excluding 1975)\n",
        "\n",
        "2. 1975 to 1980 (excluding 1980)\n",
        "\n",
        "3. 1980 to 1985 (excluding 1985)\n",
        "\n",
        "4. 1985 to 1990 (excluding 1990)\n",
        "\n",
        "5. 1990 to 1995 (excluding 1995)\n",
        "\n",
        "6. 1995 to 2000 (**including** 2000)\n",
        "\n"
      ]
    },
    {
      "cell_type": "markdown",
      "metadata": {
        "id": "tXO47iQ3Fo-8"
      },
      "source": [
        "---"
      ]
    },
    {
      "cell_type": "markdown",
      "metadata": {
        "id": "x1sGC6kWFpqI"
      },
      "source": [
        "#### Activity 2: Histogram Using The `hist()` Function\n",
        "\n",
        "To create such bar graphs, we use a histogram. The bars in the count plot merge together to form one bar in the histogram. So, for the interval:\n",
        "\n",
        "1. 1970 to 1975 (excluding 1975), the bars in a count plot for the years 1970, 1971, 1972, 1973 and 1974 will merge together to form one bar in a histogram.\n",
        "\n",
        "2. 1975 to 1980 (excluding 1980), the bars in a count plot for the years 1975, 1976, 1977, 1978 and 1979 will merge together to form one bar in a histogram.\n",
        "\n",
        "3. 1980 to 1985 (excluding 1985), the bars in a count plot for the years 1980, 1981, 1982, 1983 and 1984 will merge together to form one bar in a histogram.\n",
        "\n",
        "4. 1985 to 1980 (excluding 1990), the bars in a count plot for the years 1985, 1986, 1987, 1988 and 1989 will merge together to form one bar in a histogram.\n",
        "\n",
        "5. 1990 to 1995 (excluding 1995), the bars in a count plot for the years 1990, 1991, 1992, 1993 and 1994 will merge together to form one bar in a histogram.\n",
        "\n",
        "6. 1995 to 2000 (**including** 2000), the bars in a count plot for the years 1995, 1996, 1997, 1998 and 2000 will merge together to form one bar in a histogram.\n",
        "\n",
        "To create a histogram, you can use the `hist()` function which exists in the `matplotlib.pyplot` library. The `hist()` function requires a one dimensional array/list/series as an input to create a histogram. Let's create a histogram for the Pandas series which contains the year values between 1970 and 2000 including both of them, i.e.,\n",
        "\n",
        "`correct_lat_long_df.loc[(correct_lat_long_df['year'] >= 1970) & (correct_lat_long_df['year'] < 2001)]`\n"
      ]
    },
    {
      "cell_type": "code",
      "metadata": {
        "id": "9e2cUJqriWk6",
        "colab": {
          "base_uri": "https://localhost:8080/"
        },
        "outputId": "fb1ee64c-f762-4afe-c871-df19391ee4f7"
      },
      "source": [
        "# Teacher Action: Create a Pandas series containing the year values between 1970 and 2000 including both of them.\n",
        "met_1970_2000 = correct_lat_long_df.loc[(correct_lat_long_df['year'] >= 1970) & (correct_lat_long_df['year'] <= 2000), 'year']\n",
        "met_1970_2000"
      ],
      "execution_count": null,
      "outputs": [
        {
          "output_type": "execute_result",
          "data": {
            "text/plain": [
              "3        1976\n",
              "10       1974\n",
              "16       1981\n",
              "31       1977\n",
              "41       1971\n",
              "         ... \n",
              "45709    1981\n",
              "45710    1990\n",
              "45711    1990\n",
              "45712    1999\n",
              "45715    1976\n",
              "Name: year, Length: 22368, dtype: int64"
            ]
          },
          "metadata": {},
          "execution_count": 22
        }
      ]
    },
    {
      "cell_type": "markdown",
      "metadata": {
        "id": "BDoQkLKdQqjf"
      },
      "source": [
        "So, we have sliced the `correct_lat_long_df` DataFrame to obtain a Pandas series countaining the year values between the years 1970 and 2000. **Since for every meteorite, we have recorded its fall year. Hence, the number of year values is equal to the number of meteorites fallen on Earth.**\n",
        "\n",
        "Now let's create a histogram for the meteorites fallen between 1970 and 2000 using the `hist()` function. We will provide two inputs to the function. They are:\n",
        "\n",
        "1. The Pandas series `met_bet_1970_and_2000_series` for which the histogram needs to be created.\n",
        "\n",
        "2. The `bins` value to define the number of bars to be created in the histogram. Here, we are going to create 6 bars, hence we will pass `bins=6` as the second input to the `hist()` function.\n",
        "\n"
      ]
    },
    {
      "cell_type": "code",
      "metadata": {
        "id": "cRWZrocPR4Lg",
        "colab": {
          "base_uri": "https://localhost:8080/",
          "height": 265
        },
        "outputId": "58d0989d-f670-43d3-ccdc-f411cfcb2555"
      },
      "source": [
        "# Teacher Action: Create a histogram for the Pandas series containing the year values between 1970 and 2000 including both of them.\n",
        "plt.figure(figsize = (20,4))\n",
        "plt.hist(met_1970_2000, bins = 6)\n",
        "plt.grid()\n",
        "plt.show()"
      ],
      "execution_count": null,
      "outputs": [
        {
          "output_type": "display_data",
          "data": {
            "text/plain": [
              "<Figure size 1440x288 with 1 Axes>"
            ],
            "image/png": "[encoded data removed]"
          },
          "metadata": {
            "needs_background": "light"
          }
        }
      ]
    },
    {
      "cell_type": "code",
      "source": [
        "plt.figure(figsize = (20,4))\n",
        "plt.hist(met_1970_2000, bins = 5)\n",
        "plt.show()"
      ],
      "metadata": {
        "colab": {
          "base_uri": "https://localhost:8080/",
          "height": 265
        },
        "id": "Wu0VmSm9iLjb",
        "outputId": "b5322063-fccc-4f18-cc84-90bf2c0f3ae2"
      },
      "execution_count": null,
      "outputs": [
        {
          "output_type": "display_data",
          "data": {
            "text/plain": [
              "<Figure size 1440x288 with 1 Axes>"
            ],
            "image/png": "[encoded data removed]"
          },
          "metadata": {
            "needs_background": "light"
          }
        }
      ]
    },
    {
      "cell_type": "code",
      "source": [
        "plt.figure(figsize = (20,4))\n",
        "plt.hist(met_1970_2000, bins = 4)\n",
        "plt.show()"
      ],
      "metadata": {
        "colab": {
          "base_uri": "https://localhost:8080/",
          "height": 265
        },
        "id": "XaJ-MSxSiRMg",
        "outputId": "6bab4799-fc0d-41ed-9dfa-bd4a40349819"
      },
      "execution_count": null,
      "outputs": [
        {
          "output_type": "display_data",
          "data": {
            "text/plain": [
              "<Figure size 1440x288 with 1 Axes>"
            ],
            "image/png": "[encoded data removed]"
          },
          "metadata": {
            "needs_background": "light"
          }
        }
      ]
    },
    {
      "cell_type": "markdown",
      "metadata": {
        "id": "TyPWmfrYqJ3O"
      },
      "source": [
        "In the histogram above, on the horizontal axis, we have the year values and on the vertical axis, we have the count of the meteorites fallen to Earth including both `Fell` & `Found` meteorites. So from the histogram, we can say that\n",
        "\n",
        "1. just below 1000 meteorites fell on Earth from 1970 to 1975 (excluding 1975)\n",
        "\n",
        "2. just over 4000 meteorites fell on Earth from 1975 to 1980 (excluding 1980)\n",
        "\n",
        "3. just below 2000 meteorites fell on Earth from 1980 to 1985 (excluding 1985)\n",
        "\n",
        "4. just over 5000 meteorites fell on Earth from 1985 to 1990 (excluding 1990)\n",
        "\n",
        "5. just below 4500 meteorites fell on Earth from 1990 to 1995 (excluding 1995)\n",
        "\n",
        "6. just over 6000 meteorites fell on Earth from 1995 to 2000 (**including** 2000)\n"
      ]
    },
    {
      "cell_type": "markdown",
      "metadata": {
        "id": "nbghBY4-GAJN"
      },
      "source": [
        "---"
      ]
    },
    {
      "cell_type": "markdown",
      "metadata": {
        "id": "ANCPiCzvGAwB"
      },
      "source": [
        "#### Activity 3: The `sum()` Function^^\n",
        "\n",
        "We can find the actual number of meteorites fell on Earth in each of the six intervals using the `sum()` function which exists in the Pandas module.\n",
        "\n",
        "**Note:** Number of meteorites fell on Earth is equal to the number of year values.\n",
        "\n",
        "To do this exercise, first, obtain a Pandas series containing the year values for each interval of 5 years using the `loc[]` function. E.g.,\n",
        "\n",
        "```\n",
        "correct_lat_long_df.loc[(correct_lat_long_df['year'] >= 1970) & (correct_lat_long_df['year'] < 1975), 'year']\n",
        "```\n",
        "\n",
        "Then apply the `value_counts()` function followed by the `sum()` function. The `value_counts()` function will return another Pandas series containing the count of year values in the 5 year interval. The `sum()` function will return the sum of the all counts. E.g.,\n",
        "\n",
        "```\n",
        "correct_lat_long_df.loc[(correct_lat_long_df['year'] >= 1970) & (correct_lat_long_df['year'] < 1975), 'year'].value_counts().sum()\n",
        "```"
      ]
    },
    {
      "cell_type": "code",
      "metadata": {
        "id": "37_USqMKi1dn",
        "colab": {
          "base_uri": "https://localhost:8080/"
        },
        "outputId": "dd7eaba3-a286-47d4-93b4-bb29d2a32312"
      },
      "source": [
        "# Student Action: Find the actual number of meteorites fell on Earth in each of the six intervals.\n",
        "print(correct_lat_long_df.loc[(correct_lat_long_df['year'] >= 1970) & (correct_lat_long_df['year'] < 1975), 'year'].value_counts().sum())\n",
        "print(correct_lat_long_df.loc[(correct_lat_long_df['year'] >= 1975) & (correct_lat_long_df['year'] < 1980), 'year'].value_counts().sum())\n",
        "print(correct_lat_long_df.loc[(correct_lat_long_df['year'] >= 1980) & (correct_lat_long_df['year'] < 1985), 'year'].value_counts().sum())\n"
      ],
      "execution_count": null,
      "outputs": [
        {
          "output_type": "stream",
          "name": "stdout",
          "text": [
            "846\n",
            "4116\n",
            "1708\n"
          ]
        }
      ]
    },
    {
      "cell_type": "code",
      "source": [
        "plt.figure(figsize = (20,4))\n",
        "plt.hist(met_1970_2000, bins = 6)\n",
        "plt.grid()\n",
        "plt.show()"
      ],
      "metadata": {
        "colab": {
          "base_uri": "https://localhost:8080/",
          "height": 265
        },
        "id": "UtKDC2xrjax5",
        "outputId": "b9bdf6b6-cbb0-40bb-83bf-68c796cbc771"
      },
      "execution_count": null,
      "outputs": [
        {
          "output_type": "display_data",
          "data": {
            "text/plain": [
              "<Figure size 1440x288 with 1 Axes>"
            ],
            "image/png": "[encoded data removed]"
          },
          "metadata": {
            "needs_background": "light"
          }
        }
      ]
    },
    {
      "cell_type": "markdown",
      "metadata": {
        "id": "A4n2s76eqi-d"
      },
      "source": [
        "Therefore,\n",
        "\n",
        "- 846 meteorites fell on Earth from 1970 to 1975 (excluding 1975)\n",
        "\n",
        "- 4116 meteorites fell on Earth from 1975 to 1980 (excluding 1980)\n",
        "\n",
        "- 1708 meteorites fell on Earth from 1980 to 1985 (excluding 1985)\n",
        "\n",
        "- 5098 meteorites fell on Earth from 1985 to 1990 (excluding 1990)\n",
        "\n",
        "- 4448 meteorites fell on Earth from 1990 to 1995 (excluding 1995)\n",
        "\n",
        "- 6152 meteorites fell on Earth from 1995 to 2000 (**including** 2000)\n",
        "\n",
        "\n",
        "There's an alternate way to do the above exercise. Create a `while` loop to iterete through each interval of 5 years to count the number of years in each interval.\n"
      ]
    },
    {
      "cell_type": "code",
      "metadata": {
        "id": "OYvwnzyTZxjG",
        "colab": {
          "base_uri": "https://localhost:8080/"
        },
        "outputId": "0ef11676-6b60-49a0-fa18-e5e332d65a13"
      },
      "source": [
        "# Teacher Action: Create a 'while' loop to iterete through first 5 intervals to obtain the count of the meteorites fallen.\n",
        "year = 1970\n",
        "while year != 1995:\n",
        "  print(correct_lat_long_df.loc[(correct_lat_long_df['year'] >= year) & (correct_lat_long_df['year'] < (year + 5)), 'year'].value_counts().sum())\n",
        "  year += 5\n",
        "print(correct_lat_long_df.loc[(correct_lat_long_df['year'] >= 1995) & (correct_lat_long_df['year'] <= 2000), 'year'].value_counts().sum())\n"
      ],
      "execution_count": null,
      "outputs": [
        {
          "output_type": "stream",
          "name": "stdout",
          "text": [
            "846\n",
            "4116\n",
            "1708\n",
            "5098\n",
            "4448\n",
            "6152\n"
          ]
        }
      ]
    },
    {
      "cell_type": "markdown",
      "metadata": {
        "id": "S_Zjx-qtF1fy"
      },
      "source": [
        "---"
      ]
    },
    {
      "cell_type": "markdown",
      "metadata": {
        "id": "mqfVR2K9F2SG"
      },
      "source": [
        "#### Activity 4: Histogram Using The `distplot()` Function^\n",
        "\n",
        "We can also create a histogram using the `distplot()` function from the `seaborn` module. The term `distplot` stands for distribution plot. It also takes a Pandas series / NumPy array / Python list as an input. The other inputs that you can provide are `bins` and `kde` values. The `kde` parameter takes a boolean value, i.e., either `True` or `False`. Let's set the `bins` parameter equal to `6` and the `kde` parameter equal to `False` in the `distplot()` function. We will learn about the `kde` parameter later."
      ]
    },
    {
      "cell_type": "code",
      "metadata": {
        "id": "Fzjd6fRYmkS-",
        "colab": {
          "base_uri": "https://localhost:8080/",
          "height": 390
        },
        "outputId": "195e29f8-f826-4475-dfeb-4192a2b5a68c"
      },
      "source": [
        "# Teacher Action: Create a histogram using the 'distplot()' function from the seaborn library.\n",
        "plt.figure(figsize = (20,5))\n",
        "sns.distplot(met_1970_2000, bins = 6, kde = False)\n",
        "plt.show()"
      ],
      "execution_count": null,
      "outputs": [
        {
          "output_type": "stream",
          "name": "stderr",
          "text": [
            "/usr/local/lib/python3.7/dist-packages/seaborn/distributions.py:2619: FutureWarning: `distplot` is a deprecated function and will be removed in a future version. Please adapt your code to use either `displot` (a figure-level function with similar flexibility) or `histplot` (an axes-level function for histograms).\n",
            "  warnings.warn(msg, FutureWarning)\n"
          ]
        },
        {
          "output_type": "display_data",
          "data": {
            "text/plain": [
              "<Figure size 1440x360 with 1 Axes>"
            ],
            "image/png": "[encoded data removed]"
          },
          "metadata": {
            "needs_background": "light"
          }
        }
      ]
    },
    {
      "cell_type": "markdown",
      "metadata": {
        "id": "Dmf4kU7S-ABq"
      },
      "source": [
        "As you can see, we have created the same histogram using the `distplot()` function. **The `distplot()` function is smarter in terms of choosing the appropriate default number of bins**. Hence, it is best to create a histogram using the `distplot()` function over the `hist()` function.\n",
        "\n",
        "Now, let's create a histogram to see the distribution of the fall of meteorites over the years starting from the year `860`."
      ]
    },
    {
      "cell_type": "code",
      "metadata": {
        "id": "GCc4tY0NioCQ",
        "colab": {
          "base_uri": "https://localhost:8080/",
          "height": 390
        },
        "outputId": "e1c05654-034d-4a64-d359-1166962958ef"
      },
      "source": [
        "# Student Action: Create a histogram for the 'year' column in the 'correct_lat_long_df' DataFrame using the 'distplot()' function.\n",
        "plt.figure(figsize = (10,5))\n",
        "sns.distplot(correct_lat_long_df['year'], bins = 6, kde = False)\n",
        "plt.show()"
      ],
      "execution_count": null,
      "outputs": [
        {
          "output_type": "stream",
          "name": "stderr",
          "text": [
            "/usr/local/lib/python3.7/dist-packages/seaborn/distributions.py:2619: FutureWarning: `distplot` is a deprecated function and will be removed in a future version. Please adapt your code to use either `displot` (a figure-level function with similar flexibility) or `histplot` (an axes-level function for histograms).\n",
            "  warnings.warn(msg, FutureWarning)\n"
          ]
        },
        {
          "output_type": "display_data",
          "data": {
            "text/plain": [
              "<Figure size 720x360 with 1 Axes>"
            ],
            "image/png": "[encoded data removed]"
          },
          "metadata": {
            "needs_background": "light"
          }
        }
      ]
    },
    {
      "cell_type": "markdown",
      "metadata": {
        "id": "rj1yzh66jF4w"
      },
      "source": [
        "If you look at the graph, the number of meteorites fallen to Earth is almost 0 till the year 1800. After that, there is some increase but it is very little. After 1900, the is a rapid increase in the number of meteorites fallen to Earth.\n",
        "\n",
        "Let's closely observe the period after 1900 to see the variation in the number of meteorites falling to Earth by creating another histogram."
      ]
    },
    {
      "cell_type": "code",
      "metadata": {
        "id": "_0HqVknjL2Dz",
        "colab": {
          "base_uri": "https://localhost:8080/",
          "height": 390
        },
        "outputId": "666c0966-8dc4-449f-f812-b2d24f66c6c4"
      },
      "source": [
        "# Student Action: Create a histogram to visualise the number of meteorites fallen after the year 1900 using the 'distplot()' function.\n",
        "plt.figure(figsize = (10,5))\n",
        "sns.distplot(correct_lat_long_df.loc[correct_lat_long_df['year'] > 1900, 'year'], kde = False)\n",
        "plt.show()"
      ],
      "execution_count": null,
      "outputs": [
        {
          "output_type": "stream",
          "name": "stderr",
          "text": [
            "/usr/local/lib/python3.7/dist-packages/seaborn/distributions.py:2619: FutureWarning: `distplot` is a deprecated function and will be removed in a future version. Please adapt your code to use either `displot` (a figure-level function with similar flexibility) or `histplot` (an axes-level function for histograms).\n",
            "  warnings.warn(msg, FutureWarning)\n"
          ]
        },
        {
          "output_type": "display_data",
          "data": {
            "text/plain": [
              "<Figure size 720x360 with 1 Axes>"
            ],
            "image/png": "[encoded data removed]"
          },
          "metadata": {
            "needs_background": "light"
          }
        }
      ]
    },
    {
      "cell_type": "markdown",
      "metadata": {
        "id": "ota6cXm6t78C"
      },
      "source": [
        "If you increase the size of the bins, the width of the bars will decrease whereas if you decrease the size of the bins, the width of the bars will increase.\n"
      ]
    },
    {
      "cell_type": "code",
      "metadata": {
        "id": "WdFD32CbmWop",
        "colab": {
          "base_uri": "https://localhost:8080/",
          "height": 390
        },
        "outputId": "9842192d-2afa-4350-9655-86b3d13d9afd"
      },
      "source": [
        "# Student Action: Set the bins size equal to 25 in the previous histogram.\n",
        "plt.figure(figsize = (10,5))\n",
        "sns.distplot(correct_lat_long_df.loc[correct_lat_long_df['year'] > 1900, 'year'], kde = False, bins = 25)\n",
        "plt.show()"
      ],
      "execution_count": null,
      "outputs": [
        {
          "output_type": "stream",
          "name": "stderr",
          "text": [
            "/usr/local/lib/python3.7/dist-packages/seaborn/distributions.py:2619: FutureWarning: `distplot` is a deprecated function and will be removed in a future version. Please adapt your code to use either `displot` (a figure-level function with similar flexibility) or `histplot` (an axes-level function for histograms).\n",
            "  warnings.warn(msg, FutureWarning)\n"
          ]
        },
        {
          "output_type": "display_data",
          "data": {
            "text/plain": [
              "<Figure size 720x360 with 1 Axes>"
            ],
            "image/png": "[encoded data removed]"
          },
          "metadata": {
            "needs_background": "light"
          }
        }
      ]
    },
    {
      "cell_type": "code",
      "metadata": {
        "id": "6ZtBae1tu4DV",
        "colab": {
          "base_uri": "https://localhost:8080/",
          "height": 390
        },
        "outputId": "2e6ae278-6420-448a-b049-003eaa59a72b"
      },
      "source": [
        "# Student Action: Set the bins size equal to 100 in the previous histogram.\n",
        "plt.figure(figsize = (10,5))\n",
        "sns.distplot(correct_lat_long_df.loc[correct_lat_long_df['year'] > 1900, 'year'], kde = False, bins = 100)\n",
        "plt.show()"
      ],
      "execution_count": null,
      "outputs": [
        {
          "output_type": "stream",
          "name": "stderr",
          "text": [
            "/usr/local/lib/python3.7/dist-packages/seaborn/distributions.py:2619: FutureWarning: `distplot` is a deprecated function and will be removed in a future version. Please adapt your code to use either `displot` (a figure-level function with similar flexibility) or `histplot` (an axes-level function for histograms).\n",
            "  warnings.warn(msg, FutureWarning)\n"
          ]
        },
        {
          "output_type": "display_data",
          "data": {
            "text/plain": [
              "<Figure size 720x360 with 1 Axes>"
            ],
            "image/png": "[encoded data removed]"
          },
          "metadata": {
            "needs_background": "light"
          }
        }
      ]
    },
    {
      "cell_type": "markdown",
      "metadata": {
        "id": "icaFkNH-SciQ"
      },
      "source": [
        "---"
      ]
    },
    {
      "cell_type": "markdown",
      "metadata": {
        "id": "E1dRYFoRzSp_"
      },
      "source": [
        "#### Activity 5: Meteorite Class-wise Histograms^^^\n",
        "\n",
        "Let's create a meteorite class-wise histogram to observe the trend of the fall of meteorites belonging to a class. But first let's find out the number of unqiue class of meteorites present in the dataset and the count of their falls."
      ]
    },
    {
      "cell_type": "code",
      "metadata": {
        "id": "9U3xbkhsd5rw",
        "colab": {
          "base_uri": "https://localhost:8080/",
          "height": 206
        },
        "outputId": "349f0bce-fe9e-4566-ef8b-c514a886d909"
      },
      "source": [
        "# Student Action: Calcuate the number of unique class of meteorites.\n",
        "correct_lat_long_df.head()"
      ],
      "execution_count": null,
      "outputs": [
        {
          "output_type": "execute_result",
          "data": {
            "text/plain": [
              "       name   id nametype     recclass      mass  fall  year    reclat  \\\n",
              "0    Aachen    1    Valid           L5      21.0  Fell  1880  50.77500   \n",
              "1    Aarhus    2    Valid           H6     720.0  Fell  1951  56.18333   \n",
              "2      Abee    6    Valid          EH4  107000.0  Fell  1952  54.21667   \n",
              "3  Acapulco   10    Valid  Acapulcoite    1914.0  Fell  1976  16.88333   \n",
              "4   Achiras  370    Valid           L6     780.0  Fell  1902 -33.16667   \n",
              "\n",
              "     reclong               GeoLocation  \n",
              "0    6.08333     (50.775000, 6.083330)  \n",
              "1   10.23333    (56.183330, 10.233330)  \n",
              "2 -113.00000  (54.216670, -113.000000)  \n",
              "3  -99.90000   (16.883330, -99.900000)  \n",
              "4  -64.95000  (-33.166670, -64.950000)  "
            ],
            "text/html": [
              "\n",
              "  <div id=\"df-d6654f63-51ce-4bbd-8d09-5dd1503fbefb\">\n",
              "    <div class=\"colab-df-container\">\n",
              "      <div>\n",
              "<style scoped>\n",
              "    .dataframe tbody tr th:only-of-type {\n",
              "        vertical-align: middle;\n",
              "    }\n",
              "\n",
              "    .dataframe tbody tr th {\n",
              "        vertical-align: top;\n",
              "    }\n",
              "\n",
              "    .dataframe thead th {\n",
              "        text-align: right;\n",
              "    }\n",
              "</style>\n",
              "<table border=\"1\" class=\"dataframe\">\n",
              "  <thead>\n",
              "    <tr style=\"text-align: right;\">\n",
              "      <th></th>\n",
              "      <th>name</th>\n",
              "      <th>id</th>\n",
              "      <th>nametype</th>\n",
              "      <th>recclass</th>\n",
              "      <th>mass</th>\n",
              "      <th>fall</th>\n",
              "      <th>year</th>\n",
              "      <th>reclat</th>\n",
              "      <th>reclong</th>\n",
              "      <th>GeoLocation</th>\n",
              "    </tr>\n",
              "  </thead>\n",
              "  <tbody>\n",
              "    <tr>\n",
              "      <th>0</th>\n",
              "      <td>Aachen</td>\n",
              "      <td>1</td>\n",
              "      <td>Valid</td>\n",
              "      <td>L5</td>\n",
              "      <td>21.0</td>\n",
              "      <td>Fell</td>\n",
              "      <td>1880</td>\n",
              "      <td>50.77500</td>\n",
              "      <td>6.08333</td>\n",
              "      <td>(50.775000, 6.083330)</td>\n",
              "    </tr>\n",
              "    <tr>\n",
              "      <th>1</th>\n",
              "      <td>Aarhus</td>\n",
              "      <td>2</td>\n",
              "      <td>Valid</td>\n",
              "      <td>H6</td>\n",
              "      <td>720.0</td>\n",
              "      <td>Fell</td>\n",
              "      <td>1951</td>\n",
              "      <td>56.18333</td>\n",
              "      <td>10.23333</td>\n",
              "      <td>(56.183330, 10.233330)</td>\n",
              "    </tr>\n",
              "    <tr>\n",
              "      <th>2</th>\n",
              "      <td>Abee</td>\n",
              "      <td>6</td>\n",
              "      <td>Valid</td>\n",
              "      <td>EH4</td>\n",
              "      <td>107000.0</td>\n",
              "      <td>Fell</td>\n",
              "      <td>1952</td>\n",
              "      <td>54.21667</td>\n",
              "      <td>-113.00000</td>\n",
              "      <td>(54.216670, -113.000000)</td>\n",
              "    </tr>\n",
              "    <tr>\n",
              "      <th>3</th>\n",
              "      <td>Acapulco</td>\n",
              "      <td>10</td>\n",
              "      <td>Valid</td>\n",
              "      <td>Acapulcoite</td>\n",
              "      <td>1914.0</td>\n",
              "      <td>Fell</td>\n",
              "      <td>1976</td>\n",
              "      <td>16.88333</td>\n",
              "      <td>-99.90000</td>\n",
              "      <td>(16.883330, -99.900000)</td>\n",
              "    </tr>\n",
              "    <tr>\n",
              "      <th>4</th>\n",
              "      <td>Achiras</td>\n",
              "      <td>370</td>\n",
              "      <td>Valid</td>\n",
              "      <td>L6</td>\n",
              "      <td>780.0</td>\n",
              "      <td>Fell</td>\n",
              "      <td>1902</td>\n",
              "      <td>-33.16667</td>\n",
              "      <td>-64.95000</td>\n",
              "      <td>(-33.166670, -64.950000)</td>\n",
              "    </tr>\n",
              "  </tbody>\n",
              "</table>\n",
              "</div>\n",
              "      <button class=\"colab-df-convert\" onclick=\"convertToInteractive('df-d6654f63-51ce-4bbd-8d09-5dd1503fbefb')\"\n",
              "              title=\"Convert this dataframe to an interactive table.\"\n",
              "              style=\"display:none;\">\n",
              "        \n",
              "  <svg xmlns=\"http://www.w3.org/2000/svg\" height=\"24px\"viewBox=\"0 0 24 24\"\n",
              "       width=\"24px\">\n",
              "    <path d=\"M0 0h24v24H0V0z\" fill=\"none\"/>\n",
              "    <path d=\"M18.56 5.44l.94 2.06.94-2.06 2.06-.94-2.06-.94-.94-2.06-.94 2.06-2.06.94zm-11 1L8.5 8.5l.94-2.06 2.06-.94-2.06-.94L8.5 2.5l-.94 2.06-2.06.94zm10 10l.94 2.06.94-2.06 2.06-.94-2.06-.94-.94-2.06-.94 2.06-2.06.94z\"/><path d=\"M17.41 7.96l-1.37-1.37c-.4-.4-.92-.59-1.43-.59-.52 0-1.04.2-1.43.59L10.3 9.45l-7.72 7.72c-.78.78-.78 2.05 0 2.83L4 21.41c.39.39.9.59 1.41.59.51 0 1.02-.2 1.41-.59l7.78-7.78 2.81-2.81c.8-.78.8-2.07 0-2.86zM5.41 20L4 18.59l7.72-7.72 1.47 1.35L5.41 20z\"/>\n",
              "  </svg>\n",
              "      </button>\n",
              "      \n",
              "  <style>\n",
              "    .colab-df-container {\n",
              "      display:flex;\n",
              "      flex-wrap:wrap;\n",
              "      gap: 12px;\n",
              "    }\n",
              "\n",
              "    .colab-df-convert {\n",
              "      background-color: #E8F0FE;\n",
              "      border: none;\n",
              "      border-radius: 50%;\n",
              "      cursor: pointer;\n",
              "      display: none;\n",
              "      fill: #1967D2;\n",
              "      height: 32px;\n",
              "      padding: 0 0 0 0;\n",
              "      width: 32px;\n",
              "    }\n",
              "\n",
              "    .colab-df-convert:hover {\n",
              "      background-color: #E2EBFA;\n",
              "      box-shadow: 0px 1px 2px rgba(60, 64, 67, 0.3), 0px 1px 3px 1px rgba(60, 64, 67, 0.15);\n",
              "      fill: #174EA6;\n",
              "    }\n",
              "\n",
              "    [theme=dark] .colab-df-convert {\n",
              "      background-color: #3B4455;\n",
              "      fill: #D2E3FC;\n",
              "    }\n",
              "\n",
              "    [theme=dark] .colab-df-convert:hover {\n",
              "      background-color: #434B5C;\n",
              "      box-shadow: 0px 1px 3px 1px rgba(0, 0, 0, 0.15);\n",
              "      filter: drop-shadow(0px 1px 2px rgba(0, 0, 0, 0.3));\n",
              "      fill: #FFFFFF;\n",
              "    }\n",
              "  </style>\n",
              "\n",
              "      <script>\n",
              "        const buttonEl =\n",
              "          document.querySelector('#df-d6654f63-51ce-4bbd-8d09-5dd1503fbefb button.colab-df-convert');\n",
              "        buttonEl.style.display =\n",
              "          google.colab.kernel.accessAllowed ? 'block' : 'none';\n",
              "\n",
              "        async function convertToInteractive(key) {\n",
              "          const element = document.querySelector('#df-d6654f63-51ce-4bbd-8d09-5dd1503fbefb');\n",
              "          const dataTable =\n",
              "            await google.colab.kernel.invokeFunction('convertToInteractive',\n",
              "                                                     [key], {});\n",
              "          if (!dataTable) return;\n",
              "\n",
              "          const docLinkHtml = 'Like what you see? Visit the ' +\n",
              "            '<a target=\"_blank\" href=https://colab.research.google.com/notebooks/data_table.ipynb>data table notebook</a>'\n",
              "            + ' to learn more about interactive tables.';\n",
              "          element.innerHTML = '';\n",
              "          dataTable['output_type'] = 'display_data';\n",
              "          await google.colab.output.renderOutput(dataTable, element);\n",
              "          const docLink = document.createElement('div');\n",
              "          docLink.innerHTML = docLinkHtml;\n",
              "          element.appendChild(docLink);\n",
              "        }\n",
              "      </script>\n",
              "    </div>\n",
              "  </div>\n",
              "  "
            ]
          },
          "metadata": {},
          "execution_count": 47
        }
      ]
    },
    {
      "cell_type": "code",
      "source": [
        "len(correct_lat_long_df['recclass'].unique())"
      ],
      "metadata": {
        "colab": {
          "base_uri": "https://localhost:8080/"
        },
        "id": "X9uk-sbZmEKk",
        "outputId": "7df3f5ba-3e45-44a5-aeb5-48d97086811b"
      },
      "execution_count": null,
      "outputs": [
        {
          "output_type": "execute_result",
          "data": {
            "text/plain": [
              "394"
            ]
          },
          "metadata": {},
          "execution_count": 51
        }
      ]
    },
    {
      "cell_type": "markdown",
      "metadata": {
        "id": "VnX6b45R0fqe"
      },
      "source": [
        "So there are 394 different class of meteorites. Let's compute the counts for each class of meteorite using the `value_counts()` function."
      ]
    },
    {
      "cell_type": "code",
      "metadata": {
        "id": "zT4HRB2ld9kI",
        "colab": {
          "base_uri": "https://localhost:8080/"
        },
        "outputId": "e185ee58-3492-4f87-d51b-fe0ab1f0f399"
      },
      "source": [
        "# Student Action: Count of the fall of the different class of meteorites.\n",
        "correct_lat_long_df['recclass'].value_counts()"
      ],
      "execution_count": null,
      "outputs": [
        {
          "output_type": "execute_result",
          "data": {
            "text/plain": [
              "L6                6529\n",
              "H5                5590\n",
              "H4                3324\n",
              "H6                3231\n",
              "L5                2725\n",
              "                  ... \n",
              "LL7(?)               1\n",
              "LL6(?)               1\n",
              "H3.5-4               1\n",
              "L3.9-6               1\n",
              "Mesosiderite-C       1\n",
              "Name: recclass, Length: 394, dtype: int64"
            ]
          },
          "metadata": {},
          "execution_count": 53
        }
      ]
    },
    {
      "cell_type": "markdown",
      "metadata": {
        "id": "LWw5dZk4GnG9"
      },
      "source": [
        "The `value_counts()` function returns a Pandas series. Let's store the series in a variable to do the further analysis."
      ]
    },
    {
      "cell_type": "code",
      "metadata": {
        "id": "MxveeXXCeThX"
      },
      "source": [
        "# Student Action: Store the 'correct_lat_long_df['recclass'].value_counts()' Pandas series in a new variable.\n",
        "recclass_count = correct_lat_long_df['recclass'].value_counts()"
      ],
      "execution_count": null,
      "outputs": []
    },
    {
      "cell_type": "markdown",
      "metadata": {
        "id": "SLI4XWSk0qm4"
      },
      "source": [
        "Since there are 394 unique meteorite classes, it's not really too useful to create a histogram for every single one of them. Let's create a histogram for the top ten class of meteorites to see if there is any kind of similarity in the pattern of their falls."
      ]
    },
    {
      "cell_type": "code",
      "metadata": {
        "id": "dt8j4JGNese-",
        "colab": {
          "base_uri": "https://localhost:8080/"
        },
        "outputId": "0fb11c7b-0703-473d-dd8a-183ec50fa38a"
      },
      "source": [
        "# Student Action: Display the top 10 most number of class of meteorites fallen on Earth.\n",
        "recclass_count.head(10).index"
      ],
      "execution_count": null,
      "outputs": [
        {
          "output_type": "execute_result",
          "data": {
            "text/plain": [
              "Index(['L6', 'H5', 'H4', 'H6', 'L5', 'LL5', 'LL6', 'L4', 'H4/5', 'CM2'], dtype='object')"
            ]
          },
          "metadata": {},
          "execution_count": 55
        }
      ]
    },
    {
      "cell_type": "markdown",
      "metadata": {
        "id": "5yBhlS4dHC8s"
      },
      "source": [
        "Let's plot the histograms for the top 10 most number of fallen meteorite classes using the `hist()` function. Make sure that each histogram has exactly 50 bins."
      ]
    },
    {
      "cell_type": "code",
      "metadata": {
        "id": "AO_UfL7gfE5w",
        "colab": {
          "base_uri": "https://localhost:8080/",
          "height": 1000
        },
        "outputId": "d1f223eb-0757-4e7c-b04b-a5c585f6a6f6"
      },
      "source": [
        "# Teacher Action: Plot the histograms for the top 10 most number of fallen meteorite classes using the 'hist()' function.\n",
        "for i in recclass_count[:10].index:\n",
        "  plt.figure(figsize = (20,5))\n",
        "  plt.title(i)\n",
        "  plt.hist(correct_lat_long_df.loc[(correct_lat_long_df['recclass'] == i) & (correct_lat_long_df['year'] > 1900), 'year'])\n",
        "  plt.show()"
      ],
      "execution_count": null,
      "outputs": [
        {
          "output_type": "display_data",
          "data": {
            "text/plain": [
              "<Figure size 1440x360 with 1 Axes>"
            ],
            "image/png": "[encoded data removed]"
          },
          "metadata": {
            "needs_background": "light"
          }
        },
        {
          "output_type": "display_data",
          "data": {
            "text/plain": [
              "<Figure size 1440x360 with 1 Axes>"
            ],
            "image/png": "[encoded data removed]"
          },
          "metadata": {
            "needs_background": "light"
          }
        },
        {
          "output_type": "display_data",
          "data": {
            "text/plain": [
              "<Figure size 1440x360 with 1 Axes>"
            ],
            "image/png": "[encoded data removed]"
          },
          "metadata": {
            "needs_background": "light"
          }
        },
        {
          "output_type": "display_data",
          "data": {
            "text/plain": [
              "<Figure size 1440x360 with 1 Axes>"
            ],
            "image/png": "[encoded data removed]"
          },
          "metadata": {
            "needs_background": "light"
          }
        },
        {
          "output_type": "display_data",
          "data": {
            "text/plain": [
              "<Figure size 1440x360 with 1 Axes>"
            ],
            "image/png": "[encoded data removed]"
          },
          "metadata": {
            "needs_background": "light"
          }
        },
        {
          "output_type": "display_data",
          "data": {
            "text/plain": [
              "<Figure size 1440x360 with 1 Axes>"
            ],
            "image/png": "[encoded data removed]"
          },
          "metadata": {
            "needs_background": "light"
          }
        },
        {
          "output_type": "display_data",
          "data": {
            "text/plain": [
              "<Figure size 1440x360 with 1 Axes>"
            ],
            "image/png": "[encoded data removed]"
          },
          "metadata": {
            "needs_background": "light"
          }
        },
        {
          "output_type": "display_data",
          "data": {
            "text/plain": [
              "<Figure size 1440x360 with 1 Axes>"
            ],
            "image/png": "[encoded data removed]"
          },
          "metadata": {
            "needs_background": "light"
          }
        },
        {
          "output_type": "display_data",
          "data": {
            "text/plain": [
              "<Figure size 1440x360 with 1 Axes>"
            ],
            "image/png": "[encoded data removed]"
          },
          "metadata": {
            "needs_background": "light"
          }
        },
        {
          "output_type": "display_data",
          "data": {
            "text/plain": [
              "<Figure size 1440x360 with 1 Axes>"
            ],
            "image/png": "[encoded data removed]"
          },
          "metadata": {
            "needs_background": "light"
          }
        }
      ]
    },
    {
      "cell_type": "markdown",
      "metadata": {
        "id": "77Ob_q--3MSB"
      },
      "source": [
        "There is no definite recognisable pattern in the fall of the meteorites over the years for a class of a meteorite.\n",
        "\n",
        "The only concrete observation that we can make from the histograms is that the most number of `LL5` class meteorites fell between the years 1995 and 2005 and the most number of the `H4/5` class meteorites fell between the years 1975 and 1980.\n",
        "\n",
        "That's it for now. In the next class, we will learn how to add additional information such as the counts of the meteorites in the histograms and count plots."
      ]
    },
    {
      "cell_type": "markdown",
      "metadata": {
        "id": "jFTqSsa6UuZA"
      },
      "source": [
        "---"
      ]
    }
  ]
}