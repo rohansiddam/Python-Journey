{
  "nbformat": 4,
  "nbformat_minor": 0,
  "metadata": {
    "colab": {
      "provenance": [],
      "include_colab_link": true
    },
    "kernelspec": {
      "name": "python3",
      "display_name": "Python 3"
    },
    "language_info": {
      "name": "python"
    }
  },
  "cells": [
    {
      "cell_type": "markdown",
      "metadata": {
        "id": "view-in-github",
        "colab_type": "text"
      },
      "source": [
        "<a href=\"https://colab.research.google.com/github/rohansiddam/Python-Journey/blob/main/112%20-%20Lesson%20112%20(Hierarchical%20Clustering%20-%20Dendrogram).ipynb\" target=\"_parent\"><img src=\"https://colab.research.google.com/assets/colab-badge.svg\" alt=\"Open In Colab\"/></a>"
      ]
    },
    {
      "cell_type": "markdown",
      "metadata": {
        "id": "98EVEazf_LLM"
      },
      "source": [
        "#Lesson 112: Hierarchical Clustering - Dendrogram"
      ]
    },
    {
      "cell_type": "markdown",
      "metadata": {
        "id": "aMa2XShG_Uv8"
      },
      "source": [
        "**WARNING:** The reference notebook is meant **ONLY** for a teacher. Please **DO NOT** share it with any student.\n",
        "\n",
        "The contents of the reference notebook are meant only to prepare a teacher for a class. To conduct the class, use the class copy of the reference notebook. The link and the instructions for the same are provided in the **Notes To The Teacher** section.\n",
        "\n",
        "\n",
        "|Particulars|Description|\n",
        "|-|-|\n",
        "|**Topic**|Hierarchical Clustering - Dendrogram|\n",
        "|||\n",
        "|**Class Description**|In this class, a student will learn to cluster a two-dimensional dataset using agglomerative hierarchical clustering.|\n",
        "|||\n",
        "|**Class**|C112|\n",
        "|||\n",
        "|**Class Time**|45 minutes|\n",
        "|||\n",
        "|**Goal**|Understand the concept of hierarchical clustering.|\n",
        "||Implementing dendrogram using Python.|\n",
        "||Implementing hierarchical clustering using scikit-learn.|\n",
        "|||\n",
        "|**Teacher Resources**|Google Account|\n",
        "||Laptop with internet connectivity|\n",
        "||Earphones with mic|\n",
        "|||\n",
        "|**Student Resources**|Google Account|\n",
        "||Laptop with internet connectivity|\n",
        "||Earphones with mic|"
      ]
    },
    {
      "cell_type": "markdown",
      "metadata": {
        "id": "iSxtp-QD_a-F"
      },
      "source": [
        "---"
      ]
    },
    {
      "cell_type": "markdown",
      "metadata": {
        "id": "VTibxzz9_bmz"
      },
      "source": [
        "### Warm-up Quiz\n",
        "\n",
        "```\n",
        "TEACHER\n",
        "I have an exciting quiz question for you! Are you ready to answer this question?\n",
        "\n",
        "EXPECTED STUDENT RESPONSE\n",
        "Yes.\n",
        "```\n",
        "\n",
        "**Instructions for the Teacher:**\n",
        "- Please click on the \"Quiz Time\" button on the bottom right corner of your screen to start the In-Class Quiz. <img src='https://student-datasets-bucket.s3.ap-south-1.amazonaws.com/images/quiz-time.png' width = 150>\n",
        "\n",
        "- A quiz will be visible to both you and the student. Encourage the student to answer the quiz question.\n",
        "\n",
        "- The student may choose the wrong option, help the student to think correctly about the question and then answer again.\n",
        "\n",
        "- After the student selects the correct option, the \"End Quiz\" button will start appearing on your screen. <img src='https://student-datasets-bucket.s3.ap-south-1.amazonaws.com/images/end-quiz.png' width = 150>  \n",
        "\n",
        "- Click the \"End quiz\" button to close the quiz pop-up and continue the class.\n",
        "  \n",
        "- Do not spend more than 2 minutes on this quiz."
      ]
    },
    {
      "cell_type": "markdown",
      "metadata": {
        "id": "fHJU6Eus_cyj"
      },
      "source": [
        "---"
      ]
    },
    {
      "cell_type": "markdown",
      "metadata": {
        "id": "6ZUjQYr0_gu0"
      },
      "source": [
        "### Teacher-Student Activities\n",
        "\n",
        "In the previous classes, we implemented one of the most basic clustering algorithms called K-Means clustering on customer segmentation problem statement.\n",
        "\n",
        "In this lesson, we will use a different approach to clustering to solve a new problem statement. Let us look at the problem statement first.\n",
        "\n",
        "An international charitable NGO  raised around $\\$$10 million after a few funding programmes. The CEO of the NGO needs to decide which countries are in immediate need of this fund so that these funds are utilised optimally and effectively.\n",
        "\n",
        "Our job is to cluster the countries using some socio-economic and health factors that determine the overall development of the country and provide suggestion of the countries to the CEO.\n",
        "\n",
        "We will be using  a dataset of 167 countries consisting of following attributes:\n",
        "\n",
        "|Attribute|Description|\n",
        "|-|-|\n",
        "|`country`|Name of the country.|\n",
        "|`child_mort` | Death of children under 5 years of age per 1000 live births.|\n",
        "|`exports`| Exports of goods and services per capita. Given as percentage of the GDP per capita.|\n",
        "|`health`| Total health spending per capita. Given as percentage of GDP per capita.|\n",
        "|`imports` | Imports of goods and services per capita. Given as percentage of the GDP per capita.|\n",
        "|`income` | Net income per person.|\n",
        "|`inflation` | The measurement of the annual growth rate of the Total GDP.|\n",
        "|`life_expec` | The average number of years a new born child would live if the current mortality patterns are to remain the same.|\n",
        "|`total_fer` |The number of children that would be born to each woman if the current age-fertility rates remain the same.|\n",
        "|`gdpp` | The GDP per capita. Calculated as the Total GDP divided by the total population.|\n",
        "\n",
        "\n",
        "\n",
        "\n",
        "\n",
        "\n",
        "\n",
        "\n",
        "\n",
        "**Link to the dataset:** https://raw.githubusercontent.com/whitehatjr-test/heightweight/master/Country-data.csv\n",
        "\n",
        "**Dataset Credits:** https://www.kaggle.com/gauravduttakiit/help-international\n",
        "\n",
        "\n",
        "\n"
      ]
    },
    {
      "cell_type": "code",
      "metadata": {
        "colab": {
          "base_uri": "https://localhost:8080/",
          "height": 206
        },
        "id": "3vy-bqnghne9",
        "outputId": "df97db9e-6923-4310-a0b8-8e02a01e78d4"
      },
      "source": [
        "# Import the Python modules and the data.\n",
        "import numpy as np\n",
        "import pandas as pd\n",
        "import matplotlib.pyplot as plt\n",
        "import seaborn as sns\n",
        "\n",
        "ngo_df = pd.read_csv(\"https://raw.githubusercontent.com/whitehatjr-test/heightweight/master/Country-data.csv\")\n",
        "ngo_df.head()"
      ],
      "execution_count": null,
      "outputs": [
        {
          "output_type": "execute_result",
          "data": {
            "text/plain": [
              "               country  child_mort  exports  health  imports  income  \\\n",
              "0          Afghanistan        90.2     10.0    7.58     44.9    1610   \n",
              "1              Albania        16.6     28.0    6.55     48.6    9930   \n",
              "2              Algeria        27.3     38.4    4.17     31.4   12900   \n",
              "3               Angola       119.0     62.3    2.85     42.9    5900   \n",
              "4  Antigua and Barbuda        10.3     45.5    6.03     58.9   19100   \n",
              "\n",
              "   inflation  life_expec  total_fer   gdpp  \n",
              "0       9.44        56.2       5.82    553  \n",
              "1       4.49        76.3       1.65   4090  \n",
              "2      16.10        76.5       2.89   4460  \n",
              "3      22.40        60.1       6.16   3530  \n",
              "4       1.44        76.8       2.13  12200  "
            ],
            "text/html": [
              "\n",
              "  <div id=\"df-98d488e2-6c6f-4b37-8bee-aa904b280dff\">\n",
              "    <div class=\"colab-df-container\">\n",
              "      <div>\n",
              "<style scoped>\n",
              "    .dataframe tbody tr th:only-of-type {\n",
              "        vertical-align: middle;\n",
              "    }\n",
              "\n",
              "    .dataframe tbody tr th {\n",
              "        vertical-align: top;\n",
              "    }\n",
              "\n",
              "    .dataframe thead th {\n",
              "        text-align: right;\n",
              "    }\n",
              "</style>\n",
              "<table border=\"1\" class=\"dataframe\">\n",
              "  <thead>\n",
              "    <tr style=\"text-align: right;\">\n",
              "      <th></th>\n",
              "      <th>country</th>\n",
              "      <th>child_mort</th>\n",
              "      <th>exports</th>\n",
              "      <th>health</th>\n",
              "      <th>imports</th>\n",
              "      <th>income</th>\n",
              "      <th>inflation</th>\n",
              "      <th>life_expec</th>\n",
              "      <th>total_fer</th>\n",
              "      <th>gdpp</th>\n",
              "    </tr>\n",
              "  </thead>\n",
              "  <tbody>\n",
              "    <tr>\n",
              "      <th>0</th>\n",
              "      <td>Afghanistan</td>\n",
              "      <td>90.2</td>\n",
              "      <td>10.0</td>\n",
              "      <td>7.58</td>\n",
              "      <td>44.9</td>\n",
              "      <td>1610</td>\n",
              "      <td>9.44</td>\n",
              "      <td>56.2</td>\n",
              "      <td>5.82</td>\n",
              "      <td>553</td>\n",
              "    </tr>\n",
              "    <tr>\n",
              "      <th>1</th>\n",
              "      <td>Albania</td>\n",
              "      <td>16.6</td>\n",
              "      <td>28.0</td>\n",
              "      <td>6.55</td>\n",
              "      <td>48.6</td>\n",
              "      <td>9930</td>\n",
              "      <td>4.49</td>\n",
              "      <td>76.3</td>\n",
              "      <td>1.65</td>\n",
              "      <td>4090</td>\n",
              "    </tr>\n",
              "    <tr>\n",
              "      <th>2</th>\n",
              "      <td>Algeria</td>\n",
              "      <td>27.3</td>\n",
              "      <td>38.4</td>\n",
              "      <td>4.17</td>\n",
              "      <td>31.4</td>\n",
              "      <td>12900</td>\n",
              "      <td>16.10</td>\n",
              "      <td>76.5</td>\n",
              "      <td>2.89</td>\n",
              "      <td>4460</td>\n",
              "    </tr>\n",
              "    <tr>\n",
              "      <th>3</th>\n",
              "      <td>Angola</td>\n",
              "      <td>119.0</td>\n",
              "      <td>62.3</td>\n",
              "      <td>2.85</td>\n",
              "      <td>42.9</td>\n",
              "      <td>5900</td>\n",
              "      <td>22.40</td>\n",
              "      <td>60.1</td>\n",
              "      <td>6.16</td>\n",
              "      <td>3530</td>\n",
              "    </tr>\n",
              "    <tr>\n",
              "      <th>4</th>\n",
              "      <td>Antigua and Barbuda</td>\n",
              "      <td>10.3</td>\n",
              "      <td>45.5</td>\n",
              "      <td>6.03</td>\n",
              "      <td>58.9</td>\n",
              "      <td>19100</td>\n",
              "      <td>1.44</td>\n",
              "      <td>76.8</td>\n",
              "      <td>2.13</td>\n",
              "      <td>12200</td>\n",
              "    </tr>\n",
              "  </tbody>\n",
              "</table>\n",
              "</div>\n",
              "      <button class=\"colab-df-convert\" onclick=\"convertToInteractive('df-98d488e2-6c6f-4b37-8bee-aa904b280dff')\"\n",
              "              title=\"Convert this dataframe to an interactive table.\"\n",
              "              style=\"display:none;\">\n",
              "        \n",
              "  <svg xmlns=\"http://www.w3.org/2000/svg\" height=\"24px\"viewBox=\"0 0 24 24\"\n",
              "       width=\"24px\">\n",
              "    <path d=\"M0 0h24v24H0V0z\" fill=\"none\"/>\n",
              "    <path d=\"M18.56 5.44l.94 2.06.94-2.06 2.06-.94-2.06-.94-.94-2.06-.94 2.06-2.06.94zm-11 1L8.5 8.5l.94-2.06 2.06-.94-2.06-.94L8.5 2.5l-.94 2.06-2.06.94zm10 10l.94 2.06.94-2.06 2.06-.94-2.06-.94-.94-2.06-.94 2.06-2.06.94z\"/><path d=\"M17.41 7.96l-1.37-1.37c-.4-.4-.92-.59-1.43-.59-.52 0-1.04.2-1.43.59L10.3 9.45l-7.72 7.72c-.78.78-.78 2.05 0 2.83L4 21.41c.39.39.9.59 1.41.59.51 0 1.02-.2 1.41-.59l7.78-7.78 2.81-2.81c.8-.78.8-2.07 0-2.86zM5.41 20L4 18.59l7.72-7.72 1.47 1.35L5.41 20z\"/>\n",
              "  </svg>\n",
              "      </button>\n",
              "      \n",
              "  <style>\n",
              "    .colab-df-container {\n",
              "      display:flex;\n",
              "      flex-wrap:wrap;\n",
              "      gap: 12px;\n",
              "    }\n",
              "\n",
              "    .colab-df-convert {\n",
              "      background-color: #E8F0FE;\n",
              "      border: none;\n",
              "      border-radius: 50%;\n",
              "      cursor: pointer;\n",
              "      display: none;\n",
              "      fill: #1967D2;\n",
              "      height: 32px;\n",
              "      padding: 0 0 0 0;\n",
              "      width: 32px;\n",
              "    }\n",
              "\n",
              "    .colab-df-convert:hover {\n",
              "      background-color: #E2EBFA;\n",
              "      box-shadow: 0px 1px 2px rgba(60, 64, 67, 0.3), 0px 1px 3px 1px rgba(60, 64, 67, 0.15);\n",
              "      fill: #174EA6;\n",
              "    }\n",
              "\n",
              "    [theme=dark] .colab-df-convert {\n",
              "      background-color: #3B4455;\n",
              "      fill: #D2E3FC;\n",
              "    }\n",
              "\n",
              "    [theme=dark] .colab-df-convert:hover {\n",
              "      background-color: #434B5C;\n",
              "      box-shadow: 0px 1px 3px 1px rgba(0, 0, 0, 0.15);\n",
              "      filter: drop-shadow(0px 1px 2px rgba(0, 0, 0, 0.3));\n",
              "      fill: #FFFFFF;\n",
              "    }\n",
              "  </style>\n",
              "\n",
              "      <script>\n",
              "        const buttonEl =\n",
              "          document.querySelector('#df-98d488e2-6c6f-4b37-8bee-aa904b280dff button.colab-df-convert');\n",
              "        buttonEl.style.display =\n",
              "          google.colab.kernel.accessAllowed ? 'block' : 'none';\n",
              "\n",
              "        async function convertToInteractive(key) {\n",
              "          const element = document.querySelector('#df-98d488e2-6c6f-4b37-8bee-aa904b280dff');\n",
              "          const dataTable =\n",
              "            await google.colab.kernel.invokeFunction('convertToInteractive',\n",
              "                                                     [key], {});\n",
              "          if (!dataTable) return;\n",
              "\n",
              "          const docLinkHtml = 'Like what you see? Visit the ' +\n",
              "            '<a target=\"_blank\" href=https://colab.research.google.com/notebooks/data_table.ipynb>data table notebook</a>'\n",
              "            + ' to learn more about interactive tables.';\n",
              "          element.innerHTML = '';\n",
              "          dataTable['output_type'] = 'display_data';\n",
              "          await google.colab.output.renderOutput(dataTable, element);\n",
              "          const docLink = document.createElement('div');\n",
              "          docLink.innerHTML = docLinkHtml;\n",
              "          element.appendChild(docLink);\n",
              "        }\n",
              "      </script>\n",
              "    </div>\n",
              "  </div>\n",
              "  "
            ]
          },
          "metadata": {},
          "execution_count": 1
        }
      ]
    },
    {
      "cell_type": "markdown",
      "metadata": {
        "id": "I-6FtDZtiIoB"
      },
      "source": [
        "We can see that, the countries are not categorised in any way. We need to create an unsupervised model to make sure that the NGO helps the right country who actually needs help. For this purpose, we will use another clustering algorithm called **Hierarchical Clustering**.\n",
        "\n",
        "\n",
        "Let's first understand hierarchical clustering using a simple dataset. Thereafter, we will come back to solve the above problem statement.\n"
      ]
    },
    {
      "cell_type": "markdown",
      "metadata": {
        "id": "EAjJnrbklm62"
      },
      "source": [
        "---"
      ]
    },
    {
      "cell_type": "markdown",
      "metadata": {
        "id": "b2ip4t9Oln_s"
      },
      "source": [
        "#### Activity 1: Understanding Hierarchical Clustering\n",
        "\n",
        "Hierarchical clustering, as the name suggests builds a hierarchy of clusters.\n",
        "\n",
        "Like K-means, hierarchical clustering also groups data points having similar characteristics together. However, unlike K-Means, this algorithm does not require us to specify the number of clusters (`K`) beforehand. The algorithm on itself deduces the optimum number of cluster and displays it in the form of a tree like structure.\n",
        "\n",
        "Let us understand this concept using a simple example.\n",
        "\n",
        "Imagine that we were simply presented with two features\n",
        "of animals:\n",
        "- `height` (measured from the tip of the nose to the end of the tail).\n",
        "- `weight`\n",
        "\n",
        "|height|weight|\n",
        "|-|-|\n",
        "|22|40|\n",
        "|25|43|\n",
        "|17|37|\n",
        "|35|60|\n",
        "|37|53|\n",
        "|41|62|\n",
        "\n",
        "Since we are given only animal's  heights and weights, we won't be able to speculate the exact name of each species. However, by creating clusters of these animals on the basis of the features provided, we can derive different categories of animal species that exist in this dataset.\n",
        "\n",
        "Let us create a two-dimensional numpy array containing the above heights and weights of animals."
      ]
    },
    {
      "cell_type": "code",
      "metadata": {
        "colab": {
          "base_uri": "https://localhost:8080/"
        },
        "id": "r7BPAOus8h4K",
        "outputId": "d48bc9c7-f2f4-4753-f9e6-170490d3a6da"
      },
      "source": [
        "# S1.1: Create numpy array of animal heights and weights.\n",
        "import numpy as np\n",
        "animals_arr = np.array([[22, 40], [24, 43], [17, 37], [35, 60], [37, 53], [41, 62]])\n",
        "animals_arr"
      ],
      "execution_count": null,
      "outputs": [
        {
          "output_type": "execute_result",
          "data": {
            "text/plain": [
              "array([[22, 40],\n",
              "       [24, 43],\n",
              "       [17, 37],\n",
              "       [35, 60],\n",
              "       [37, 53],\n",
              "       [41, 62]])"
            ]
          },
          "metadata": {},
          "execution_count": 2
        }
      ]
    },
    {
      "cell_type": "markdown",
      "metadata": {
        "id": "NUE-SRI3HwD6"
      },
      "source": [
        "Let's plot the above data points using scatter plot. Also annotate each data point with a number. For example, first data point must be labelled as `1`, second data point must be labelled as `2` and so on. For this purpose, use `annotate()` function of `matplotlib.pyplot` module.\n",
        "\n",
        "You can use `help()` function to understand the syntax of `annotate()` function in detail."
      ]
    },
    {
      "cell_type": "code",
      "metadata": {
        "id": "0VpdyklyI0pD",
        "colab": {
          "base_uri": "https://localhost:8080/"
        },
        "outputId": "d1ded8b3-e5e4-4bad-c72c-ebfdded3df92"
      },
      "source": [
        "# Use help() function to learn more about 'annotate()' function.\n",
        "help(plt.annotate)"
      ],
      "execution_count": null,
      "outputs": [
        {
          "output_type": "stream",
          "name": "stdout",
          "text": [
            "Help on function annotate in module matplotlib.pyplot:\n",
            "\n",
            "annotate(text, xy, xytext=None, xycoords='data', textcoords=None, arrowprops=None, annotation_clip=None, **kwargs)\n",
            "    Annotate the point *xy* with text *text*.\n",
            "    \n",
            "    In the simplest form, the text is placed at *xy*.\n",
            "    \n",
            "    Optionally, the text can be displayed in another position *xytext*.\n",
            "    An arrow pointing from the text to the annotated point *xy* can then\n",
            "    be added by defining *arrowprops*.\n",
            "    \n",
            "    Parameters\n",
            "    ----------\n",
            "    text : str\n",
            "        The text of the annotation.\n",
            "    \n",
            "    xy : (float, float)\n",
            "        The point *(x, y)* to annotate. The coordinate system is determined\n",
            "        by *xycoords*.\n",
            "    \n",
            "    xytext : (float, float), default: *xy*\n",
            "        The position *(x, y)* to place the text at. The coordinate system\n",
            "        is determined by *textcoords*.\n",
            "    \n",
            "    xycoords : single or two-tuple of str or `.Artist` or `.Transform` or callable, default: 'data'\n",
            "    \n",
            "        The coordinate system that *xy* is given in. The following types\n",
            "        of values are supported:\n",
            "    \n",
            "        - One of the following strings:\n",
            "    \n",
            "          ==================== ============================================\n",
            "          Value                Description\n",
            "          ==================== ============================================\n",
            "          'figure points'      Points from the lower left of the figure\n",
            "          'figure pixels'      Pixels from the lower left of the figure\n",
            "          'figure fraction'    Fraction of figure from lower left\n",
            "          'subfigure points'   Points from the lower left of the subfigure\n",
            "          'subfigure pixels'   Pixels from the lower left of the subfigure\n",
            "          'subfigure fraction' Fraction of subfigure from lower left\n",
            "          'axes points'        Points from lower left corner of axes\n",
            "          'axes pixels'        Pixels from lower left corner of axes\n",
            "          'axes fraction'      Fraction of axes from lower left\n",
            "          'data'               Use the coordinate system of the object\n",
            "                               being annotated (default)\n",
            "          'polar'              *(theta, r)* if not native 'data'\n",
            "                               coordinates\n",
            "          ==================== ============================================\n",
            "    \n",
            "          Note that 'subfigure pixels' and 'figure pixels' are the same\n",
            "          for the parent figure, so users who want code that is usable in\n",
            "          a subfigure can use 'subfigure pixels'.\n",
            "    \n",
            "        - An `.Artist`: *xy* is interpreted as a fraction of the artist's\n",
            "          `~matplotlib.transforms.Bbox`. E.g. *(0, 0)* would be the lower\n",
            "          left corner of the bounding box and *(0.5, 1)* would be the\n",
            "          center top of the bounding box.\n",
            "    \n",
            "        - A `.Transform` to transform *xy* to screen coordinates.\n",
            "    \n",
            "        - A function with one of the following signatures::\n",
            "    \n",
            "            def transform(renderer) -> Bbox\n",
            "            def transform(renderer) -> Transform\n",
            "    \n",
            "          where *renderer* is a `.RendererBase` subclass.\n",
            "    \n",
            "          The result of the function is interpreted like the `.Artist` and\n",
            "          `.Transform` cases above.\n",
            "    \n",
            "        - A tuple *(xcoords, ycoords)* specifying separate coordinate\n",
            "          systems for *x* and *y*. *xcoords* and *ycoords* must each be\n",
            "          of one of the above described types.\n",
            "    \n",
            "        See :ref:`plotting-guide-annotation` for more details.\n",
            "    \n",
            "    textcoords : single or two-tuple of str or `.Artist` or `.Transform` or callable, default: value of *xycoords*\n",
            "        The coordinate system that *xytext* is given in.\n",
            "    \n",
            "        All *xycoords* values are valid as well as the following\n",
            "        strings:\n",
            "    \n",
            "        =================   =========================================\n",
            "        Value               Description\n",
            "        =================   =========================================\n",
            "        'offset points'     Offset (in points) from the *xy* value\n",
            "        'offset pixels'     Offset (in pixels) from the *xy* value\n",
            "        =================   =========================================\n",
            "    \n",
            "    arrowprops : dict, optional\n",
            "        The properties used to draw a `.FancyArrowPatch` arrow between the\n",
            "        positions *xy* and *xytext*.  Defaults to None, i.e. no arrow is\n",
            "        drawn.\n",
            "    \n",
            "        For historical reasons there are two different ways to specify\n",
            "        arrows, \"simple\" and \"fancy\":\n",
            "    \n",
            "        **Simple arrow:**\n",
            "    \n",
            "        If *arrowprops* does not contain the key 'arrowstyle' the\n",
            "        allowed keys are:\n",
            "    \n",
            "        ==========   ======================================================\n",
            "        Key          Description\n",
            "        ==========   ======================================================\n",
            "        width        The width of the arrow in points\n",
            "        headwidth    The width of the base of the arrow head in points\n",
            "        headlength   The length of the arrow head in points\n",
            "        shrink       Fraction of total length to shrink from both ends\n",
            "        ?            Any key to :class:`matplotlib.patches.FancyArrowPatch`\n",
            "        ==========   ======================================================\n",
            "    \n",
            "        The arrow is attached to the edge of the text box, the exact\n",
            "        position (corners or centers) depending on where it's pointing to.\n",
            "    \n",
            "        **Fancy arrow:**\n",
            "    \n",
            "        This is used if 'arrowstyle' is provided in the *arrowprops*.\n",
            "    \n",
            "        Valid keys are the following `~matplotlib.patches.FancyArrowPatch`\n",
            "        parameters:\n",
            "    \n",
            "        ===============  ==================================================\n",
            "        Key              Description\n",
            "        ===============  ==================================================\n",
            "        arrowstyle       the arrow style\n",
            "        connectionstyle  the connection style\n",
            "        relpos           see below; default is (0.5, 0.5)\n",
            "        patchA           default is bounding box of the text\n",
            "        patchB           default is None\n",
            "        shrinkA          default is 2 points\n",
            "        shrinkB          default is 2 points\n",
            "        mutation_scale   default is text size (in points)\n",
            "        mutation_aspect  default is 1.\n",
            "        ?                any key for :class:`matplotlib.patches.PathPatch`\n",
            "        ===============  ==================================================\n",
            "    \n",
            "        The exact starting point position of the arrow is defined by\n",
            "        *relpos*. It's a tuple of relative coordinates of the text box,\n",
            "        where (0, 0) is the lower left corner and (1, 1) is the upper\n",
            "        right corner. Values <0 and >1 are supported and specify points\n",
            "        outside the text box. By default (0.5, 0.5), so the starting point\n",
            "        is centered in the text box.\n",
            "    \n",
            "    annotation_clip : bool or None, default: None\n",
            "        Whether to clip (i.e. not draw) the annotation when the annotation\n",
            "        point *xy* is outside the axes area.\n",
            "    \n",
            "        - If *True*, the annotation will be clipped when *xy* is outside\n",
            "          the axes.\n",
            "        - If *False*, the annotation will always be drawn.\n",
            "        - If *None*, the annotation will be clipped when *xy* is outside\n",
            "          the axes and *xycoords* is 'data'.\n",
            "    \n",
            "    **kwargs\n",
            "        Additional kwargs are passed to `~matplotlib.text.Text`.\n",
            "    \n",
            "    Returns\n",
            "    -------\n",
            "    `.Annotation`\n",
            "    \n",
            "    See Also\n",
            "    --------\n",
            "    :ref:`plotting-guide-annotation`\n",
            "\n"
          ]
        }
      ]
    },
    {
      "cell_type": "code",
      "metadata": {
        "colab": {
          "base_uri": "https://localhost:8080/",
          "height": 564
        },
        "id": "zgaCx7c18_7T",
        "outputId": "9e34563e-d9a6-44b2-e716-0bcc3d80321f"
      },
      "source": [
        "# S1.2: Create a scatter plot showing animal height and weight with each animal numbered from 1 to 6.\n",
        "import matplotlib.pyplot as plt\n",
        "\n",
        "animal_lbl = range(1, 7)\n",
        "plt.figure(figsize=(7, 6))\n",
        "plt.title('height vs weight')\n",
        "plt.xlabel('height')\n",
        "plt.ylabel('weight')\n",
        "\n",
        "plt.scatter(animals_arr[:,0], animals_arr[:,1])\n",
        "\n",
        "for label, x, y in zip(animal_lbl, animals_arr[:, 0], animals_arr[:, 1]):\n",
        "    plt.annotate(label, xy=(x, y), xytext=(1, 4), textcoords='offset points')\n",
        "plt.show()"
      ],
      "execution_count": null,
      "outputs": [
        {
          "output_type": "display_data",
          "data": {
            "text/plain": [
              "<Figure size 700x600 with 1 Axes>"
            ],
            "image/png": "[encoded data removed]"
          },
          "metadata": {}
        }
      ]
    },
    {
      "cell_type": "markdown",
      "metadata": {
        "id": "B5UYVjyBO4PC"
      },
      "source": [
        "Thus, we have a sample of 6 data points having following $x$-coordinate and  $y$-coordinate values:\n",
        "\n",
        "|Cluster|$x$-cord|$y$-cord|\n",
        "|-|-|-|\n",
        "|1|22|40|\n",
        "|2|24|43|\n",
        "|3|17|37|\n",
        "|4|35|60|\n",
        "|5|37|53|\n",
        "|6|41|62|\n",
        "\n",
        "One approach of hierarchical clustering is by starting with each data point in its own cluster and recursively joining the similar points together to form clusters. This approach is known as **agglomerative hierarchical clustering**.\n",
        "\n",
        "**Agglomerative clustering:**\n",
        "- This algorithm begins with each data point as a single cluster and then combines the closest pair of clusters together.\n",
        "- It does this until all the clusters are merged into a single cluster that contains all the data points.\n",
        "\n",
        "Let us learn how Agglomerative Hierarchical clustering work on the above dataset.\n",
        "\n",
        "**Step 1:** The clustering begins with each data point in its own cluster. As there are 6 data points in the `animals_arr` dataset, so the number of clusters will be `6`.\n",
        "\n",
        "\n",
        "<img src=\"https://s3-whjr-v2-prod-bucket.whjr.online/52fc46ca-d035-4f9d-8c45-9d7bf42eb398.png\"/></center>\n",
        "\n",
        "**Step 2:** Take two closest data points or clusters and merge them to form one cluster. For this, the euclidean distance between each  data point is calculated.\n",
        "\n",
        "From the above scatter plot, it is clearly visible that data points $1$ and $2$ are closest to each other. Let us verify this by computing the euclidean distance between each of these data points using `distance_matrix()` function of `scipy.spatial` module. This function returns a proximity matrix which will tell us the distance between each of these points.\n",
        "\n",
        "Use `help()` function to learn more about the `distance_matrix()` function.\n"
      ]
    },
    {
      "cell_type": "code",
      "metadata": {
        "id": "RZFEi69jO3wD",
        "colab": {
          "base_uri": "https://localhost:8080/"
        },
        "outputId": "0f817805-405e-4832-ef10-9dae383e11ca"
      },
      "source": [
        "# Use 'help()' function to learn more about 'distance_matrix()' function.\n",
        "from scipy.spatial import distance_matrix\n",
        "help(distance_matrix)"
      ],
      "execution_count": null,
      "outputs": [
        {
          "output_type": "stream",
          "name": "stdout",
          "text": [
            "Help on function distance_matrix in module scipy.spatial._kdtree:\n",
            "\n",
            "distance_matrix(x, y, p=2, threshold=1000000)\n",
            "    Compute the distance matrix.\n",
            "    \n",
            "    Returns the matrix of all pair-wise distances.\n",
            "    \n",
            "    Parameters\n",
            "    ----------\n",
            "    x : (M, K) array_like\n",
            "        Matrix of M vectors in K dimensions.\n",
            "    y : (N, K) array_like\n",
            "        Matrix of N vectors in K dimensions.\n",
            "    p : float, 1 <= p <= infinity\n",
            "        Which Minkowski p-norm to use.\n",
            "    threshold : positive int\n",
            "        If ``M * N * K`` > `threshold`, algorithm uses a Python loop instead\n",
            "        of large temporary arrays.\n",
            "    \n",
            "    Returns\n",
            "    -------\n",
            "    result : (M, N) ndarray\n",
            "        Matrix containing the distance from every vector in `x` to every vector\n",
            "        in `y`.\n",
            "    \n",
            "    Examples\n",
            "    --------\n",
            "    >>> from scipy.spatial import distance_matrix\n",
            "    >>> distance_matrix([[0,0],[0,1]], [[1,0],[1,1]])\n",
            "    array([[ 1.        ,  1.41421356],\n",
            "           [ 1.41421356,  1.        ]])\n",
            "\n"
          ]
        }
      ]
    },
    {
      "cell_type": "code",
      "metadata": {
        "colab": {
          "base_uri": "https://localhost:8080/",
          "height": 238
        },
        "id": "vi0JhKY3X5V3",
        "outputId": "8185011e-7a77-4b02-be13-171465309031"
      },
      "source": [
        "# S1.3: Use 'distance_matrix()' function to compute the euclidean distance between each of the data points.\n",
        "from scipy.spatial import distance_matrix\n",
        "pd.DataFrame(distance_matrix(animals_arr, animals_arr), index=animal_lbl, columns=animal_lbl)"
      ],
      "execution_count": null,
      "outputs": [
        {
          "output_type": "execute_result",
          "data": {
            "text/plain": [
              "           1          2          3          4          5          6\n",
              "1   0.000000   3.605551   5.830952  23.853721  19.849433  29.068884\n",
              "2   3.605551   0.000000   9.219544  20.248457  16.401219  25.495098\n",
              "3   5.830952   9.219544   0.000000  29.206164  25.612497  34.655447\n",
              "4  23.853721  20.248457  29.206164   0.000000   7.280110   6.324555\n",
              "5  19.849433  16.401219  25.612497   7.280110   0.000000   9.848858\n",
              "6  29.068884  25.495098  34.655447   6.324555   9.848858   0.000000"
            ],
            "text/html": [
              "\n",
              "  <div id=\"df-34b991a7-9b54-4922-9d07-325957a51bd5\">\n",
              "    <div class=\"colab-df-container\">\n",
              "      <div>\n",
              "<style scoped>\n",
              "    .dataframe tbody tr th:only-of-type {\n",
              "        vertical-align: middle;\n",
              "    }\n",
              "\n",
              "    .dataframe tbody tr th {\n",
              "        vertical-align: top;\n",
              "    }\n",
              "\n",
              "    .dataframe thead th {\n",
              "        text-align: right;\n",
              "    }\n",
              "</style>\n",
              "<table border=\"1\" class=\"dataframe\">\n",
              "  <thead>\n",
              "    <tr style=\"text-align: right;\">\n",
              "      <th></th>\n",
              "      <th>1</th>\n",
              "      <th>2</th>\n",
              "      <th>3</th>\n",
              "      <th>4</th>\n",
              "      <th>5</th>\n",
              "      <th>6</th>\n",
              "    </tr>\n",
              "  </thead>\n",
              "  <tbody>\n",
              "    <tr>\n",
              "      <th>1</th>\n",
              "      <td>0.000000</td>\n",
              "      <td>3.605551</td>\n",
              "      <td>5.830952</td>\n",
              "      <td>23.853721</td>\n",
              "      <td>19.849433</td>\n",
              "      <td>29.068884</td>\n",
              "    </tr>\n",
              "    <tr>\n",
              "      <th>2</th>\n",
              "      <td>3.605551</td>\n",
              "      <td>0.000000</td>\n",
              "      <td>9.219544</td>\n",
              "      <td>20.248457</td>\n",
              "      <td>16.401219</td>\n",
              "      <td>25.495098</td>\n",
              "    </tr>\n",
              "    <tr>\n",
              "      <th>3</th>\n",
              "      <td>5.830952</td>\n",
              "      <td>9.219544</td>\n",
              "      <td>0.000000</td>\n",
              "      <td>29.206164</td>\n",
              "      <td>25.612497</td>\n",
              "      <td>34.655447</td>\n",
              "    </tr>\n",
              "    <tr>\n",
              "      <th>4</th>\n",
              "      <td>23.853721</td>\n",
              "      <td>20.248457</td>\n",
              "      <td>29.206164</td>\n",
              "      <td>0.000000</td>\n",
              "      <td>7.280110</td>\n",
              "      <td>6.324555</td>\n",
              "    </tr>\n",
              "    <tr>\n",
              "      <th>5</th>\n",
              "      <td>19.849433</td>\n",
              "      <td>16.401219</td>\n",
              "      <td>25.612497</td>\n",
              "      <td>7.280110</td>\n",
              "      <td>0.000000</td>\n",
              "      <td>9.848858</td>\n",
              "    </tr>\n",
              "    <tr>\n",
              "      <th>6</th>\n",
              "      <td>29.068884</td>\n",
              "      <td>25.495098</td>\n",
              "      <td>34.655447</td>\n",
              "      <td>6.324555</td>\n",
              "      <td>9.848858</td>\n",
              "      <td>0.000000</td>\n",
              "    </tr>\n",
              "  </tbody>\n",
              "</table>\n",
              "</div>\n",
              "      <button class=\"colab-df-convert\" onclick=\"convertToInteractive('df-34b991a7-9b54-4922-9d07-325957a51bd5')\"\n",
              "              title=\"Convert this dataframe to an interactive table.\"\n",
              "              style=\"display:none;\">\n",
              "        \n",
              "  <svg xmlns=\"http://www.w3.org/2000/svg\" height=\"24px\"viewBox=\"0 0 24 24\"\n",
              "       width=\"24px\">\n",
              "    <path d=\"M0 0h24v24H0V0z\" fill=\"none\"/>\n",
              "    <path d=\"M18.56 5.44l.94 2.06.94-2.06 2.06-.94-2.06-.94-.94-2.06-.94 2.06-2.06.94zm-11 1L8.5 8.5l.94-2.06 2.06-.94-2.06-.94L8.5 2.5l-.94 2.06-2.06.94zm10 10l.94 2.06.94-2.06 2.06-.94-2.06-.94-.94-2.06-.94 2.06-2.06.94z\"/><path d=\"M17.41 7.96l-1.37-1.37c-.4-.4-.92-.59-1.43-.59-.52 0-1.04.2-1.43.59L10.3 9.45l-7.72 7.72c-.78.78-.78 2.05 0 2.83L4 21.41c.39.39.9.59 1.41.59.51 0 1.02-.2 1.41-.59l7.78-7.78 2.81-2.81c.8-.78.8-2.07 0-2.86zM5.41 20L4 18.59l7.72-7.72 1.47 1.35L5.41 20z\"/>\n",
              "  </svg>\n",
              "      </button>\n",
              "      \n",
              "  <style>\n",
              "    .colab-df-container {\n",
              "      display:flex;\n",
              "      flex-wrap:wrap;\n",
              "      gap: 12px;\n",
              "    }\n",
              "\n",
              "    .colab-df-convert {\n",
              "      background-color: #E8F0FE;\n",
              "      border: none;\n",
              "      border-radius: 50%;\n",
              "      cursor: pointer;\n",
              "      display: none;\n",
              "      fill: #1967D2;\n",
              "      height: 32px;\n",
              "      padding: 0 0 0 0;\n",
              "      width: 32px;\n",
              "    }\n",
              "\n",
              "    .colab-df-convert:hover {\n",
              "      background-color: #E2EBFA;\n",
              "      box-shadow: 0px 1px 2px rgba(60, 64, 67, 0.3), 0px 1px 3px 1px rgba(60, 64, 67, 0.15);\n",
              "      fill: #174EA6;\n",
              "    }\n",
              "\n",
              "    [theme=dark] .colab-df-convert {\n",
              "      background-color: #3B4455;\n",
              "      fill: #D2E3FC;\n",
              "    }\n",
              "\n",
              "    [theme=dark] .colab-df-convert:hover {\n",
              "      background-color: #434B5C;\n",
              "      box-shadow: 0px 1px 3px 1px rgba(0, 0, 0, 0.15);\n",
              "      filter: drop-shadow(0px 1px 2px rgba(0, 0, 0, 0.3));\n",
              "      fill: #FFFFFF;\n",
              "    }\n",
              "  </style>\n",
              "\n",
              "      <script>\n",
              "        const buttonEl =\n",
              "          document.querySelector('#df-34b991a7-9b54-4922-9d07-325957a51bd5 button.colab-df-convert');\n",
              "        buttonEl.style.display =\n",
              "          google.colab.kernel.accessAllowed ? 'block' : 'none';\n",
              "\n",
              "        async function convertToInteractive(key) {\n",
              "          const element = document.querySelector('#df-34b991a7-9b54-4922-9d07-325957a51bd5');\n",
              "          const dataTable =\n",
              "            await google.colab.kernel.invokeFunction('convertToInteractive',\n",
              "                                                     [key], {});\n",
              "          if (!dataTable) return;\n",
              "\n",
              "          const docLinkHtml = 'Like what you see? Visit the ' +\n",
              "            '<a target=\"_blank\" href=https://colab.research.google.com/notebooks/data_table.ipynb>data table notebook</a>'\n",
              "            + ' to learn more about interactive tables.';\n",
              "          element.innerHTML = '';\n",
              "          dataTable['output_type'] = 'display_data';\n",
              "          await google.colab.output.renderOutput(dataTable, element);\n",
              "          const docLink = document.createElement('div');\n",
              "          docLink.innerHTML = docLinkHtml;\n",
              "          element.appendChild(docLink);\n",
              "        }\n",
              "      </script>\n",
              "    </div>\n",
              "  </div>\n",
              "  "
            ]
          },
          "metadata": {},
          "execution_count": 6
        }
      ]
    },
    {
      "cell_type": "markdown",
      "metadata": {
        "id": "_n2ebY55YvqL"
      },
      "source": [
        "**Note:** The diagonal elements of this proximity matrix will always be 0 as the distance of a point with itself is always 0.\n",
        "\n",
        "\n",
        "From the above distance matrix, we can observe that distance between data point $1$ (`[22, 40]`) and data point $2$ (`[24, 43]`) is the least. Hence, the data points $1$ and $2$ join into a single cluster. Now, there will be 5 clusters.\n",
        "\n",
        "\n",
        "<img src=\"https://s3-whjr-v2-prod-bucket.whjr.online/0e58c966-13e3-47f0-894a-d8c0f3697491.png\"/>\n",
        "\n",
        "The updated clusters after merging data points $1$ and $2$ are:\n",
        "\n",
        "|Cluster|$x$-cord|$y$-cord|\n",
        "|-|-|-|\n",
        "|1, 2|22|40|\n",
        "|3|17|37|\n",
        "|4|35|60|\n",
        "|5|37|53|\n",
        "|6|41|62|\n",
        "\n",
        "Here, we have taken the minimum of the data point $1$ and data point $2$ i.e. `min([22, 40], [24, 43])` to replace the distance for the merged cluster $\\{1, 2\\}$. Instead of the minimum, we can also take the maximum value or the average values as well. These measures are called **Linkage methods**. We will learn them in more detail in the upcoming section.\n",
        "\n",
        "Now, the proximity matrix for these new clusters is again calculated:\n",
        "\n",
        "||1, 2|\t3|\t4|\t5|\t6|\n",
        "|-|-|-|-|-|-|\n",
        "|1, 2|\t0.000000|\t5.830952|\t23.853721\t|19.849433|\t29.068884|\n",
        "|3|\t5.830952|\t0.000000|\t29.206164\t|25.612497|\t34.655447|\n",
        "|4|\t23.853721|\t29.206164|\t0.000000|\t7.280110|\t6.324555|\n",
        "|5|\t19.849433|\t25.612497|\t7.280110|\t0.000000|\t9.848858|\n",
        "|6|\t29.068884\t|34.655447|\t6.324555|\t9.848858|\t0.000000|\n",
        "\n",
        "**Step 3:** Again, take the two closest clusters and merge them together to form one cluster.\n",
        "\n",
        "From the above proximity matrix, we can observe that distance between data point $\\{1, 2\\}$ (`[22, 40]`) and data point $3$ (`[17, 37]`) is the least. Hence, the data points $\\{1, 2\\}$ and $3$ join into a single cluster. Now, there will be 4 clusters.\n",
        "\n",
        "\n",
        "<img src=\"https://s3-whjr-v2-prod-bucket.whjr.online/3c175de3-24dd-4235-bfd5-a631a2b56352.png\"/>\n",
        "\n",
        "The updated clusters after merging data points $\\{1, 2\\}$ and $3$ are:\n",
        "\n",
        "|Cluster|$x$-cord|$y$-cord|\n",
        "|-|-|-|\n",
        "|1, 2, 3|17|37|\n",
        "|4|35|60|\n",
        "|5|37|53|\n",
        "|6|41|62|\n",
        "\n",
        "Again, we have taken the minimum of the data point  $\\{1, 2\\}$ and data point $3$ i.e. `min([22, 40], [17, 37])` to replace the distance for the merged cluster $\\{1, 2, 3\\}$.\n",
        "\n",
        "Now, the proximity matrix for these new clusters is again calculated:\n",
        "\n",
        "||1, 2,3|\t4|\t5|\t6|\n",
        "|-|-|-|-|-|\n",
        "|1, 2, 3|\t0.000000|\t29.206164\t|25.612497|\t34.655447|\n",
        "|4|\t29.206164\t|0.000000\t|7.280110\t|6.324555|\n",
        "|5|\t25.612497|\t7.280110|\t0.000000|\t9.848858|\n",
        "|6|\t\t34.655447\t|6.324555|\t9.848858|\t0.000000|\n",
        "\n",
        "\n",
        "\n",
        "**Step 4:** Repeat Step 3 until only one cluster left. So, we will get the following clusters.\n",
        "\n",
        "<img src = \"https://s3-whjr-v2-prod-bucket.whjr.online/0548444c-c789-45f5-a07b-4d03640dc8a2.png\"/>\n",
        "<br/>\n",
        "<img src=\"https://s3-whjr-v2-prod-bucket.whjr.online/55f4107d-08de-4e2d-8d51-b1e6616af5e2.png\"/>\n",
        "<br/>\n",
        "<img src = \"https://s3-whjr-v2-prod-bucket.whjr.online/07ed6f82-b34d-4b6b-8a4d-26b676e240f1.png\"/>\n",
        "\n",
        "\n",
        "The sequences of these merges are recorded in a tree like structure called **dendrogram**. Dendrograms provides a great way to illustrate the arrangement of the clusters produced by hierarchical clustering. Thus, the dendrogram for the above dataset clustering will look like this:\n",
        "<img src=\"https://s3-whjr-v2-prod-bucket.whjr.online/37400f1e-b7c1-48e8-bc98-c6ebf51586d8.png\"/>\n",
        "\n",
        "In the above diagram, the left part shows the the corresponding dendrogram for the agglomerative clustering done with `animals_arr` dataset. In a dendrogram plot, the $y$-axis shows the Euclidean distances between the data points, and the $x$-axis shows all the data points of the given dataset.\n",
        "\n",
        "- As we have discussed above, firstly, the data points $1$ and $2$ combine together and form a cluster, correspondingly a dendrogram is created, which connects $1$ and $2$  with a rectangular shape. The height is decided according to the Euclidean distance between the data points.\n",
        "- Similarly, all the merging of clusters can be depicted in a dendrogram. More the distance of the vertical lines in the dendrogram, more the distance between those clusters.\n",
        "\n",
        "Let us learn how to create this dendrogram using python."
      ]
    },
    {
      "cell_type": "markdown",
      "metadata": {
        "id": "_HyV66A138pE"
      },
      "source": [
        "---"
      ]
    },
    {
      "cell_type": "markdown",
      "metadata": {
        "id": "h_Qk-jEo39YU"
      },
      "source": [
        "#### Activity 2: Implementing Dendrogram using Python\n",
        "\n",
        "Before implementing dendrogram,we will first understand different linkage methods, as this is an important parameter for dendrogram plotting.\n",
        "\n",
        "**Linkage:**\n",
        "\n",
        "In general, Linkage is distance between two clusters.\n",
        "\n",
        "In the previous activity, we merged two clusters by considering the minimum distance between two clusters as the new distance of the merged cluster. This method is known as *Single Linkage*.\n",
        "\n",
        "However, this is not the only option when it comes to clustering data points together. Other choices for determining distances between clusters are as follows:\n",
        "\n",
        "**1. Single Linkage**\n",
        "  - In single linkage, the distance between two clusters is the shortest distance between two points in the two clusters.\n",
        "\n",
        "    For example, consider the following two clusters:\n",
        "\n",
        "   <img src=\"https://s3-whjr-v2-prod-bucket.whjr.online/c764aba8-814a-4b2b-ba62-ba9d622c264f.png\"/>\n",
        "\n",
        "  - In the above example, the distance between green and red clusters would be the distance between data points $2$ and $5$ as per single linkage criteria.\n",
        "\n",
        "\n",
        "**2. Complete Linkage**\n",
        "\n",
        "  - It is the opposite of single linkage.\n",
        "  - In complete linkage, the distance between two clusters is the farthest distance between two points in two clusters.\n",
        "\n",
        "    For example,\n",
        "\n",
        "   <img src=\"https://s3-whjr-v2-prod-bucket.whjr.online/19f57629-a87d-46c2-b283-58f89edcddca.png\"/>\n",
        "\n",
        "  - In the above example, the distance between green and red clusters would be the distance between data points $3$ and $6$ as per complete linkage criteria.\n",
        "\n",
        "\n",
        "**3. Average Linkage**\n",
        "  -  It is between single and complete linkage.   \n",
        "  - In average linkage, the distance between two clusters is the average distance between every point of one cluster to every other point of the other cluster.\n",
        "\n",
        "**4. Centroid Linkage**\n",
        "  - In centroid linkage, the distance between two clusters is the distance between centroids of those clusters.\n",
        "\n",
        "  <img src=\"https://s3-whjr-v2-prod-bucket.whjr.online/949bfe9d-3eb7-41c5-8163-3dc4b6496121.png\"/>\n",
        "\n",
        "**5. Ward Linkage**\n",
        " - This approach  is same as Average Linkage except that Ward's method calculates the sum of the square of the distances between every point of one cluster to every other point of the other cluster.\n",
        "\n",
        "From the above given linkage methods, we can apply any of them according to the type of problem or business requirement.\n",
        "\n",
        "Let us now plot dendrogram for `animals_arr` dataset.\n",
        "\n",
        "**Plotting Dendrogram:**\n",
        "\n",
        "The `scipy.cluster` module equips us with tools that are needed for hierarchical clustering and dendrogram plotting.\n",
        "\n",
        "The dendrogram can be plotted easily using the linkage matrix. A linkage matrix is created via `linkage()` function. This matrix contains the distance between clusters based on the specified linkage method. Following is the syntax of `linkage()` function:\n",
        "\n",
        "`hierarchy.linkage(data, method= 'single')`\n",
        "\n",
        "Here,\n",
        " - `data:` The dataset (input 1D/2D array).\n",
        " - `method`: Linkage methods. Default value is `'single'`. Other values are `'complete'`, `'average'`, `'centroid'`, `'ward'`.\n",
        "\n",
        "Follow the steps given below to plot the dendrogram:\n",
        "\n",
        "1. Import `linkage` and `dendrogram` functions from `scipy.cluster.hierarchy` module.\n",
        "2. Call `linkage()` function and pass `animals_arr` dataset and `method = single` as inputs. Store the returned linkage matrix in a variable `s_distances`.\n",
        "3.  Plot the dendrogram by calling the `dendrogram()` function and pass the linkage matrix `s_distances` as input to this function. Also , pass `labels = animal_lbl` as input to `dendrogram()` function to label the data points on $x$-axis.\n",
        "\n",
        "4. Also, set the `xlabel` and `ylabel` of this dendrogram using `matplotlib.pyplot` module."
      ]
    },
    {
      "cell_type": "code",
      "metadata": {
        "colab": {
          "base_uri": "https://localhost:8080/",
          "height": 645
        },
        "id": "sMBrVuLH5RUm",
        "outputId": "0f1ad530-6b69-47e2-ded2-b68d79ec741d"
      },
      "source": [
        "# S2.1: Plot dendrogram for single linkage.\n",
        "from scipy.cluster.hierarchy import linkage, dendrogram\n",
        "s_distances = linkage(animals_arr, method=\"single\")\n",
        "\n",
        "plt.figure(figsize=(8, 7))\n",
        "plt.xlabel(\"Data Points\")\n",
        "plt.ylabel(\"Euclidean Distances\")\n",
        "plt.title(\"Dendrogram for Single Linkage\")\n",
        "dendrogram(s_distances, labels = animal_lbl)\n",
        "plt.show()"
      ],
      "execution_count": null,
      "outputs": [
        {
          "output_type": "display_data",
          "data": {
            "text/plain": [
              "<Figure size 800x700 with 1 Axes>"
            ],
            "image/png": "[encoded data removed]"
          },
          "metadata": {}
        }
      ]
    },
    {
      "cell_type": "markdown",
      "metadata": {
        "id": "vS9qpqDSqKD0"
      },
      "source": [
        "The dendrogram obtained in the above plot is for single linkage. Let us plot the dendrogram for complete linkage by passing `method = complete` as input to the `linkage()` function."
      ]
    },
    {
      "cell_type": "code",
      "metadata": {
        "colab": {
          "base_uri": "https://localhost:8080/",
          "height": 645
        },
        "id": "YLpgki2lrGu6",
        "outputId": "caa93a58-4a8e-4c0f-9d94-1751fa5d9960"
      },
      "source": [
        "# S2.2: Plot dendrogram for complete linkage.\n",
        "c_distances = linkage(animals_arr, method=\"complete\")\n",
        "\n",
        "plt.figure(figsize=(8, 7))\n",
        "plt.xlabel(\"Data Points\")\n",
        "plt.ylabel(\"Euclidean Distances\")\n",
        "plt.title(\"Dendrogram for Complete Linkage\")\n",
        "dendrogram(c_distances, labels = animal_lbl)\n",
        "plt.show()"
      ],
      "execution_count": null,
      "outputs": [
        {
          "output_type": "display_data",
          "data": {
            "text/plain": [
              "<Figure size 800x700 with 1 Axes>"
            ],
            "image/png": "[encoded data removed]"
          },
          "metadata": {}
        }
      ]
    },
    {
      "cell_type": "markdown",
      "metadata": {
        "id": "knEjofMssLG7"
      },
      "source": [
        "From the above plot, we can say that same clusters are obtained for both single and complete linkage, except that $y$-axis shows different euclidean distances.\n",
        "\n",
        "However, this may not be the case with other problem statements. Different linkage method results in different hierarchical clustering and a different dendrogram.\n",
        "\n",
        "Using this Dendrogram, we will now determine the optimal number of clusters for our model."
      ]
    },
    {
      "cell_type": "markdown",
      "metadata": {
        "id": "cBqmPSFL49UH"
      },
      "source": [
        "---"
      ]
    },
    {
      "cell_type": "markdown",
      "metadata": {
        "id": "Eaj1QhdguNuE"
      },
      "source": [
        "#### Determining Number of Clusters\n",
        "\n",
        "A major advantage of hierarchical clustering over K-Means is that when we generate the cluster hierarchy, we have generated a full tree all the way from every data point in its own cluster up to a single cluster.\n",
        "\n",
        "To determine the optimal number of clusters for our model,\n",
        "- Select the longest vertical distance without any horizontal line passing through it and draw a  new horizontal line through it.\n",
        "- The number of vertical lines this newly created horizontal line passes is equal to the number of clusters.\n",
        "\n",
        "Consider the dendrogram that we had obtained for single linkage.\n",
        "\n",
        "<center><img src=\"https://s3-whjr-v2-prod-bucket.whjr.online/e2cd8fba-1d31-49b8-b65f-2dd9470a3200.png\"/></center>\n",
        "\n",
        "We can see that the largest vertical distance without any horizontal line passing through it is represented by <b><font color=blue>blue</font></b> line. So we draw a new horizontal black line that passes through this blue vertical line. Since it crosses the blue line at three points, therefore the optimal number of clusters for this model will be **3**.\n",
        "\n",
        "Basically the horizontal black line is a **threshold**, which defines the minimum distance required to be a separate cluster. If we draw the line a little up, the threshold required to be a new cluster will be increased and less clusters will be formed as seen in the image below:\n",
        "\n",
        "<center>\n",
        "<img src=\"https://s3-whjr-v2-prod-bucket.whjr.online/02b74133-13ad-4165-bcb0-65f24b723401.png\"/></center>\n",
        "\n",
        "In the above image, the horizontal line passes through two vertical lines resulting in two clusters:\n",
        " - First cluster of points 3, 1 and 2.\n",
        " - Second cluster of points 5, 4 and 6.\n",
        "\n",
        "\n",
        "Thus, dendrogram brings a really nice feature: we can read off as many clusters as we want.  We need not decide how many clusters we want at the beginning.\n",
        "\n",
        "Let's now apply agglomerative hierarchical clustering for 2 clusters. You can also apply clustering for 3 clusters."
      ]
    },
    {
      "cell_type": "markdown",
      "metadata": {
        "id": "LsVgfvHS6C4D"
      },
      "source": [
        "---"
      ]
    },
    {
      "cell_type": "markdown",
      "metadata": {
        "id": "ECFoRjRY4-bk"
      },
      "source": [
        "#### Activity 3: Hierarchical Clustering using Scikit-Learn\n",
        "\n",
        "As we know the required optimal number of clusters, we can now train our model. For this, import `AgglomerativeClustering` class of `sklearn.cluster` module and pass the following inputs to the constructor of `AgglomerativeClustering` class:\n",
        "\n",
        "- `n_clusters = 2`: It defines the number of clusters. As our dataset is small, we have taken `2` clusters. You may also consider `3` clusters.\n",
        "\n",
        "- `linkage = 'single'`: It defines the linkage criteria, here we have used the `'single'` linkage.\n",
        "\n",
        "Also, call the `fit_predict()` function using the object of `AgglomerativeClustering` class to train the model and predict the cluster labels as done for K-Means.\n",
        "\n",
        "**Note:** The `AgglomerativeClustering` class does not have a `predict()` function."
      ]
    },
    {
      "cell_type": "code",
      "metadata": {
        "colab": {
          "base_uri": "https://localhost:8080/"
        },
        "id": "mnOKiFr48zv7",
        "outputId": "43946e80-bf22-4fa9-c87e-6a52b59f229b"
      },
      "source": [
        "# S3.1: Determine the clusters using agglomerative clustering.\n",
        "from sklearn.cluster import AgglomerativeClustering\n",
        "hc = AgglomerativeClustering(n_clusters = 2, linkage = 'single')\n",
        "cluster_labels = hc.fit_predict(animals_arr)\n",
        "print(cluster_labels)"
      ],
      "execution_count": null,
      "outputs": [
        {
          "output_type": "stream",
          "name": "stdout",
          "text": [
            "[1 1 1 0 0 0]\n"
          ]
        }
      ]
    },
    {
      "cell_type": "markdown",
      "metadata": {
        "id": "6SFvg1Mm_kDb"
      },
      "source": [
        "In the above output, `0` represents the points that belong to the first cluster and `1` represents points in the second cluster.\n",
        "\n",
        "As the cluster of each data point is now obtained, let's display those clusters using `plt.scatter()` function using the values of `cluster_labels` to colour-code the clusters."
      ]
    },
    {
      "cell_type": "code",
      "metadata": {
        "colab": {
          "base_uri": "https://localhost:8080/",
          "height": 487
        },
        "id": "DufpsAs9A7vF",
        "outputId": "e5378447-0067-4d19-b5a9-b1c3400493ed"
      },
      "source": [
        "# S3.2: Plot the datapoints corresponding to clusters\n",
        "plt.figure(figsize = (14, 5))\n",
        "plt.scatter(animals_arr[:,0], animals_arr[:,1], c = cluster_labels, s = 100)\n",
        "plt.title('height vs weight')\n",
        "plt.xlabel('height')\n",
        "plt.ylabel('weight')\n",
        "plt.show()"
      ],
      "execution_count": null,
      "outputs": [
        {
          "output_type": "display_data",
          "data": {
            "text/plain": [
              "<Figure size 1400x500 with 1 Axes>"
            ],
            "image/png": "[encoded data removed]"
          },
          "metadata": {}
        }
      ]
    },
    {
      "cell_type": "markdown",
      "metadata": {
        "id": "LqOxTulJBYqw"
      },
      "source": [
        "We can clearly visualise the two clusters here. This is how we can implement agglomerative hierarchical clustering in Python.\n",
        "\n",
        "There is one more approach of hierarchical clustering known as **Divisive hierarchical clustering**.\n",
        "\n",
        "**Divisive clustering:**\n",
        "\n",
        "- This algorithm works in the opposite way of agglomerative clustering.\n",
        "- In this, we start with all the data points as a single cluster.\n",
        "- At each iteration, we separate the farthest points or clusters which are not similar until each data point is considered as an individual cluster.\n",
        "- Here we are dividing the single clusters into n clusters, therefore the name divisive clustering.\n",
        "\n",
        "<img src=\"https://s3-whjr-v2-prod-bucket.whjr.online/0dbb3c8c-960a-46dd-a5db-88e384e43523.png\"/>\n",
        "\n",
        "Thus, agglomerative is **bottom-up** approach whereas divisive is **top-down** approach.\n",
        "\n",
        "Divisive hierarchical clustering is not used much in solving real-world problems. Hence, we won't explore it in much detail.\n",
        "\n",
        "We will stop here. In the next class, we will implement hierarchical clustering on NGO dataset."
      ]
    },
    {
      "cell_type": "markdown",
      "metadata": {
        "id": "AD_5dUcYNuS0"
      },
      "source": [
        "---"
      ]
    }
  ]
}