{
  "nbformat": 4,
  "nbformat_minor": 0,
  "metadata": {
    "colab": {
      "provenance": [],
      "include_colab_link": true
    },
    "kernelspec": {
      "name": "python3",
      "display_name": "Python 3"
    }
  },
  "cells": [
    {
      "cell_type": "markdown",
      "metadata": {
        "id": "view-in-github",
        "colab_type": "text"
      },
      "source": [
        "<a href=\"https://colab.research.google.com/github/rohansiddam/Python-Journey/blob/main/065%20-%20Lesson%2065%20(Multicollinearity).ipynb\" target=\"_parent\"><img src=\"https://colab.research.google.com/assets/colab-badge.svg\" alt=\"Open In Colab\"/></a>"
      ]
    },
    {
      "cell_type": "markdown",
      "metadata": {
        "id": "2FbiXuSJANTj"
      },
      "source": [
        "# Lesson 65: Multicollinearity"
      ]
    },
    {
      "cell_type": "markdown",
      "metadata": {
        "id": "QN1yM4dV2Siv"
      },
      "source": [
        "### Teacher-Student Activities\n",
        "\n",
        "In this class, you will learn how to estimate the values of betas using matrix operations and the concept of multicollinearity.\n",
        "\n",
        "Let's quickly run the codes covered in the previous classes and begin this session from **Activity 1: Estimating Betas Through Matrix Operations** section."
      ]
    },
    {
      "cell_type": "markdown",
      "metadata": {
        "id": "qK4-kPX3iraG"
      },
      "source": [
        "---"
      ]
    },
    {
      "cell_type": "code",
      "metadata": {
        "id": "ctPdsMcc5QzN",
        "colab": {
          "base_uri": "https://localhost:8080/"
        },
        "outputId": "ea3ffd64-a0d3-433f-f7c4-db1d801cf330"
      },
      "source": [
        "# Run the code cell.\n",
        "import numpy as np\n",
        "import pandas as pd\n",
        "import matplotlib.pyplot as plt\n",
        "import seaborn as sns\n",
        "\n",
        "import warnings\n",
        "warnings.filterwarnings('ignore')\n",
        "\n",
        "# Loading the dataset.\n",
        "csv_file = 'https://student-datasets-bucket.s3.ap-south-1.amazonaws.com/whitehat-ds-datasets/air-quality/AirQualityUCI.csv'\n",
        "df = pd.read_csv(csv_file, sep=';')\n",
        "\n",
        "# Dropping the 'Unnamed: 15' & 'Unnamed: 16' columns.\n",
        "df = df.drop(columns=['Unnamed: 15', 'Unnamed: 16'], axis=1)\n",
        "\n",
        "# Dropping the null values.\n",
        "df = df.dropna()\n",
        "\n",
        "# Creating a Pandas series containing 'datetime' objects.\n",
        "dt_series = pd.Series(data = [item.split(\"/\")[2] + \"-\" + item.split(\"/\")[1] + \"-\" + item.split(\"/\")[0] for item in df['Date']], index=df.index) + ' ' + pd.Series(data=[str(item).replace(\".\", \":\") for item in df['Time']], index=df.index)\n",
        "dt_series = pd.to_datetime(dt_series)\n",
        "\n",
        "# Remove the Date & Time columns from the DataFrame and insert the 'dt_series' in it.\n",
        "df = df.drop(columns=['Date', 'Time'], axis=1)\n",
        "df.insert(loc=0, column='DateTime', value=dt_series)\n",
        "\n",
        "# Get the Pandas series containing the year values as integers.\n",
        "year_series = dt_series.dt.year\n",
        "\n",
        "# Get the Pandas series containing the month values as integers.\n",
        "month_series = dt_series.dt.month\n",
        "\n",
        "# Get the Pandas series containing the day values as integers.\n",
        "day_series = dt_series.dt.day\n",
        "\n",
        "# Get the Pandas series containing the days of a week, i.e., Monday, Tuesday, Wednesday etc.\n",
        "day_name_series = dt_series.dt.day_name()\n",
        "\n",
        "# Add the 'Year', 'Month', 'Day' and 'Day Name' columns to the DataFrame.\n",
        "df['Year'] = year_series\n",
        "df['Month'] = month_series\n",
        "df['Day'] = day_series\n",
        "df['Day Name'] = day_name_series\n",
        "\n",
        "# Sort the DataFrame by the 'DateTime' values in the ascending order. Also, display the first 10 rows of the DataFrame.\n",
        "df = df.sort_values(by='DateTime')\n",
        "\n",
        "# Create a function to replace the commas with periods in a Pandas series.\n",
        "def comma_to_period(series):\n",
        "    new_series = pd.Series(data=[float(str(item).replace(',', '.')) for item in series], index=df.index)\n",
        "    return new_series\n",
        "\n",
        "# Apply the 'comma_to_period()' function on the ''CO(GT)', 'C6H6(GT)', 'T', 'RH' and 'AH' columns.\n",
        "cols_to_correct = ['CO(GT)', 'C6H6(GT)', 'T', 'RH', 'AH'] # Create a list of column names.\n",
        "for col in cols_to_correct: # Iterate through each column\n",
        "    df[col] = comma_to_period(df[col]) # Replace the original column with the new series.\n",
        "\n",
        "# Remove all the columns from the 'df' DataFrame containing more than 10% garbage value.\n",
        "df = df.drop(columns=['NMHC(GT)', 'CO(GT)', 'NOx(GT)', 'NO2(GT)'], axis=1)\n",
        "\n",
        "# Create a new DataFrame containing records for the years 2004 and 2005.\n",
        "aq_2004_df = df[df['Year'] == 2004]\n",
        "aq_2005_df = df[df['Year'] == 2005]\n",
        "\n",
        "# Replace the -200 value with the median values for each column having indices between 1 and -4 (excluding -4) for the 2004 year DataFrame.\n",
        "for col in aq_2004_df.columns[1:-4]:\n",
        "  median = aq_2004_df.loc[aq_2004_df[col] != -200, col].median()\n",
        "  aq_2004_df[col] = aq_2004_df[col].replace(to_replace=-200, value=median)\n",
        "\n",
        "# Repeat the same exercise for the 2005 year DataFrame.\n",
        "for col in aq_2005_df.columns[1:-4]:\n",
        "  median = aq_2005_df.loc[aq_2005_df[col] != -200, col].median()\n",
        "  aq_2005_df[col] = aq_2005_df[col].replace(to_replace=-200, value=median)\n",
        "\n",
        "# Group the DataFrames about the 'Month' column.\n",
        "group_2004_month = aq_2004_df.groupby(by='Month')\n",
        "group_2005_month = aq_2005_df.groupby(by='Month')\n",
        "\n",
        "# Concatenate the two DataFrames for 2004 and 2005 to obtain one DataFrame.\n",
        "df = pd.concat([aq_2004_df, aq_2005_df])\n",
        "\n",
        "# Information of the DataFrame.\n",
        "df.info()"
      ],
      "execution_count": null,
      "outputs": [
        {
          "output_type": "stream",
          "name": "stdout",
          "text": [
            "<class 'pandas.core.frame.DataFrame'>\n",
            "Int64Index: 9357 entries, 0 to 9356\n",
            "Data columns (total 14 columns):\n",
            " #   Column         Non-Null Count  Dtype         \n",
            "---  ------         --------------  -----         \n",
            " 0   DateTime       9357 non-null   datetime64[ns]\n",
            " 1   PT08.S1(CO)    9357 non-null   float64       \n",
            " 2   C6H6(GT)       9357 non-null   float64       \n",
            " 3   PT08.S2(NMHC)  9357 non-null   float64       \n",
            " 4   PT08.S3(NOx)   9357 non-null   float64       \n",
            " 5   PT08.S4(NO2)   9357 non-null   float64       \n",
            " 6   PT08.S5(O3)    9357 non-null   float64       \n",
            " 7   T              9357 non-null   float64       \n",
            " 8   RH             9357 non-null   float64       \n",
            " 9   AH             9357 non-null   float64       \n",
            " 10  Year           9357 non-null   int64         \n",
            " 11  Month          9357 non-null   int64         \n",
            " 12  Day            9357 non-null   int64         \n",
            " 13  Day Name       9357 non-null   object        \n",
            "dtypes: datetime64[ns](1), float64(9), int64(3), object(1)\n",
            "memory usage: 1.1+ MB\n"
          ]
        }
      ]
    },
    {
      "cell_type": "markdown",
      "metadata": {
        "id": "XpefFKryHnV_"
      },
      "source": [
        "The description for all the columns containing data for air pollutants, temperature, relative humidity and absolute humidity is provided below.\n",
        "\n",
        "\n",
        "|Columns|Description|\n",
        "|-|-|\n",
        "|PT08.S1(CO)|PT08.S1 (tin oxide) hourly averaged sensor response (nominally $\\text{CO}$ targeted)|\n",
        "|C6H6(GT)|True hourly averaged Benzene concentration in $\\frac{\\mu g}{m^3}$|\n",
        "|PT08.S2(NMHC)|PT08.S2 (titania) hourly averaged sensor response (nominally $\\text{NMHC}$ targeted)|\n",
        "|PT08.S3(NOx)|PT08.S3 (tungsten oxide) hourly averaged sensor response (nominally $\\text{NO}_x$ targeted)|\n",
        "|PT08.S4(NO2)|PT08.S4 (tungsten oxide) hourly averaged sensor response (nominally $\\text{NO}_2$ targeted)|\n",
        "|PT08.S5(O3) |PT08.S5 (indium oxide) hourly averaged sensor response (nominally $\\text{O}_3$ targeted)|\n",
        "|T|Temperature in Â°C|\n",
        "|RH|Relative Humidity (%)|\n",
        "|AH|AH Absolute Humidity|"
      ]
    },
    {
      "cell_type": "markdown",
      "metadata": {
        "id": "AsKszxp14Cj8"
      },
      "source": [
        "---"
      ]
    },
    {
      "cell_type": "markdown",
      "metadata": {
        "id": "6myfsJox3Tz2"
      },
      "source": [
        "#### Multiple Linear Regression Model Using `sklearn` Module\n"
      ]
    },
    {
      "cell_type": "code",
      "metadata": {
        "id": "m8d5faFMdTvz",
        "colab": {
          "base_uri": "https://localhost:8080/"
        },
        "outputId": "2bbf3f64-c87f-4c91-c45b-38ffa178ed08"
      },
      "source": [
        "# Build a linear regression model using the sklearn module by including all the features listed above.\n",
        "from sklearn.model_selection import train_test_split\n",
        "from sklearn.linear_model import LinearRegression\n",
        "\n",
        "features = list(df.columns.values[1:-1])\n",
        "features.remove('RH')\n",
        "\n",
        "X = df[features]\n",
        "y = df['RH']\n",
        "\n",
        "# Splitting the DataFrame into the train and test sets.\n",
        "X_train, X_test, y_train, y_test = train_test_split(X, y, test_size = 0.33, random_state = 42) # Test set will have 33% of the values.\n",
        "\n",
        "y_train_reshaped = y_train.values.reshape(-1, 1)\n",
        "y_test_reshaped = y_test.values.reshape(-1, 1)\n",
        "\n",
        "# Build a linear regression model using the 'sklearn.linear_model' module.\n",
        "sklearn_lin_reg = LinearRegression()\n",
        "sklearn_lin_reg.fit(X_train, y_train_reshaped)\n",
        "\n",
        "# Print the value of the intercept i.e. beta-sub-0.\n",
        "print(\"\\nConstant\".ljust(15, \" \"), f\"{sklearn_lin_reg.intercept_[0]:.6f}\") # Soon you will get to know why rounding-off to 6 decimal places.\n",
        "\n",
        "# Print the names of the features along with the values of their corresponding coefficients.\n",
        "for item in list(zip(X.columns.values, sklearn_lin_reg.coef_[0])):\n",
        "  print(f\"{item[0]}\".ljust(15, \" \"), f\"{item[1]:.6f}\") # Soon you will get to know why rounding-off to 6 decimal places."
      ],
      "execution_count": null,
      "outputs": [
        {
          "output_type": "stream",
          "name": "stdout",
          "text": [
            "\n",
            "Constant       -15028.451823\n",
            "PT08.S1(CO)     0.014833\n",
            "C6H6(GT)        -0.903464\n",
            "PT08.S2(NMHC)   -0.005881\n",
            "PT08.S3(NOx)    0.001503\n",
            "PT08.S4(NO2)    0.026497\n",
            "PT08.S5(O3)     -0.001066\n",
            "T               -2.354919\n",
            "AH              29.551742\n",
            "Year            7.505153\n",
            "Month           1.167861\n",
            "Day             0.035232\n"
          ]
        }
      ]
    },
    {
      "cell_type": "code",
      "metadata": {
        "id": "-BxonYJweOlM",
        "colab": {
          "base_uri": "https://localhost:8080/"
        },
        "outputId": "868c5637-94d9-43b6-d4e3-cc5579cd2a03"
      },
      "source": [
        "# Evaluate the linear regression model using the 'r2_score', 'mean_squared_error' & 'mean_absolute_error' functions of the 'sklearn' module.\n",
        "from sklearn.metrics import r2_score, mean_squared_error, mean_absolute_error\n",
        "\n",
        "y_train_pred = sklearn_lin_reg.predict(X_train)\n",
        "y_test_pred = sklearn_lin_reg.predict(X_test)\n",
        "\n",
        "print(f\"Train Set\\n{'-' * 50}\")\n",
        "print(f\"R-squared: {r2_score(y_train_reshaped, y_train_pred):.3f}\")\n",
        "print(f\"Mean Squared Error: {mean_squared_error(y_train_reshaped, y_train_pred):.3f}\")\n",
        "print(f\"Root Mean Squared Error: {np.sqrt(mean_squared_error(y_train_reshaped, y_train_pred)):.3f}\")\n",
        "print(f\"Mean Absolute Error: {mean_absolute_error(y_train_reshaped, y_train_pred):.3f}\")\n",
        "\n",
        "print(f\"\\n\\nTest Set\\n{'-' * 50}\")\n",
        "print(f\"R-squared: {r2_score(y_test_reshaped, y_test_pred):.3f}\")\n",
        "print(f\"Mean Squared Error: {mean_squared_error(y_test_reshaped, y_test_pred):.3f}\")\n",
        "print(f\"Root Mean Squared Error: {np.sqrt(mean_squared_error(y_test_reshaped, y_test_pred)):.3f}\")\n",
        "print(f\"Mean Absolute Error: {mean_absolute_error(y_test_reshaped, y_test_pred):.3f}\")"
      ],
      "execution_count": null,
      "outputs": [
        {
          "output_type": "stream",
          "name": "stdout",
          "text": [
            "Train Set\n",
            "--------------------------------------------------\n",
            "R-squared: 0.879\n",
            "Mean Squared Error: 35.116\n",
            "Root Mean Squared Error: 5.926\n",
            "Mean Absolute Error: 4.572\n",
            "\n",
            "\n",
            "Test Set\n",
            "--------------------------------------------------\n",
            "R-squared: 0.879\n",
            "Mean Squared Error: 34.702\n",
            "Root Mean Squared Error: 5.891\n",
            "Mean Absolute Error: 4.564\n"
          ]
        }
      ]
    },
    {
      "cell_type": "markdown",
      "metadata": {
        "id": "fr6JYLj5R2ZL"
      },
      "source": [
        "---"
      ]
    },
    {
      "cell_type": "markdown",
      "metadata": {
        "id": "V1Hdc-pvye7r"
      },
      "source": [
        "#### The `statsmodels.api` Module"
      ]
    },
    {
      "cell_type": "code",
      "metadata": {
        "id": "MyeNqK74emeV",
        "colab": {
          "base_uri": "https://localhost:8080/"
        },
        "outputId": "6c3ba0d5-56bb-4b11-953b-edb8ae7bda1a"
      },
      "source": [
        "# Build a linear regression model using the 'statsmodels.api' module.\n",
        "import statsmodels.api as sm\n",
        "\n",
        "# Create data frames for the features and target again and also split them into the train and test sets.\n",
        "X = df[features]\n",
        "y = df['RH']\n",
        "\n",
        "X_train, X_test, y_train, y_test = train_test_split(X, y, test_size = 0.33, random_state = 42) # Test set will have 33% of the values.\n",
        "\n",
        "# Add a constant to get an intercept\n",
        "X_train_sm = sm.add_constant(X_train)\n",
        "\n",
        "# Fit the regression line using 'OLS'\n",
        "lr = sm.OLS(y_train, X_train_sm).fit()\n",
        "\n",
        "# Print the parameters, i.e. the intercept and the slope of the regression line fitted\n",
        "lr.params"
      ],
      "execution_count": null,
      "outputs": [
        {
          "output_type": "execute_result",
          "data": {
            "text/plain": [
              "const           -15028.451823\n",
              "PT08.S1(CO)          0.014833\n",
              "C6H6(GT)            -0.903464\n",
              "PT08.S2(NMHC)       -0.005881\n",
              "PT08.S3(NOx)         0.001503\n",
              "PT08.S4(NO2)         0.026497\n",
              "PT08.S5(O3)         -0.001066\n",
              "T                   -2.354919\n",
              "AH                  29.551742\n",
              "Year                 7.505153\n",
              "Month                1.167861\n",
              "Day                  0.035232\n",
              "dtype: float64"
            ]
          },
          "metadata": {},
          "execution_count": 4
        }
      ]
    },
    {
      "cell_type": "markdown",
      "metadata": {
        "id": "NxdMWw-EObIa"
      },
      "source": [
        "The above values for the constant and the coefficients of all the features are almost the same as the ones obtained through the `sklearn` linear regression model."
      ]
    },
    {
      "cell_type": "code",
      "metadata": {
        "id": "8xsgOhbGeyEI",
        "colab": {
          "base_uri": "https://localhost:8080/"
        },
        "outputId": "a4b25785-3a75-489f-ee72-e117e3a03f45"
      },
      "source": [
        "# Performing a summary operation lists out all the different parameters of the regression line fitted\n",
        "print(lr.summary())"
      ],
      "execution_count": null,
      "outputs": [
        {
          "output_type": "stream",
          "name": "stdout",
          "text": [
            "                            OLS Regression Results                            \n",
            "==============================================================================\n",
            "Dep. Variable:                     RH   R-squared:                       0.879\n",
            "Model:                            OLS   Adj. R-squared:                  0.878\n",
            "Method:                 Least Squares   F-statistic:                     4115.\n",
            "Date:                Sun, 18 Dec 2022   Prob (F-statistic):               0.00\n",
            "Time:                        18:11:52   Log-Likelihood:                -20050.\n",
            "No. Observations:                6269   AIC:                         4.012e+04\n",
            "Df Residuals:                    6257   BIC:                         4.020e+04\n",
            "Df Model:                          11                                         \n",
            "Covariance Type:            nonrobust                                         \n",
            "=================================================================================\n",
            "                    coef    std err          t      P>|t|      [0.025      0.975]\n",
            "---------------------------------------------------------------------------------\n",
            "const         -1.503e+04   1240.167    -12.118      0.000   -1.75e+04   -1.26e+04\n",
            "PT08.S1(CO)       0.0148      0.001     14.305      0.000       0.013       0.017\n",
            "C6H6(GT)         -0.9035      0.075    -12.092      0.000      -1.050      -0.757\n",
            "PT08.S2(NMHC)    -0.0059      0.002     -2.393      0.017      -0.011      -0.001\n",
            "PT08.S3(NOx)      0.0015      0.001      1.853      0.064   -8.67e-05       0.003\n",
            "PT08.S4(NO2)      0.0265      0.001     21.601      0.000       0.024       0.029\n",
            "PT08.S5(O3)      -0.0011      0.001     -1.945      0.052      -0.002    8.27e-06\n",
            "T                -2.3549      0.015   -160.240      0.000      -2.384      -2.326\n",
            "AH               29.5517      0.554     53.337      0.000      28.466      30.638\n",
            "Year              7.5052      0.618     12.148      0.000       6.294       8.716\n",
            "Month             1.1679      0.062     18.914      0.000       1.047       1.289\n",
            "Day               0.0352      0.009      4.040      0.000       0.018       0.052\n",
            "==============================================================================\n",
            "Omnibus:                      322.611   Durbin-Watson:                   1.966\n",
            "Prob(Omnibus):                  0.000   Jarque-Bera (JB):              416.392\n",
            "Skew:                           0.509   Prob(JB):                     3.82e-91\n",
            "Kurtosis:                       3.748   Cond. No.                     5.25e+07\n",
            "==============================================================================\n",
            "\n",
            "Notes:\n",
            "[1] Standard Errors assume that the covariance matrix of the errors is correctly specified.\n",
            "[2] The condition number is large, 5.25e+07. This might indicate that there are\n",
            "strong multicollinearity or other numerical problems.\n"
          ]
        }
      ]
    },
    {
      "cell_type": "markdown",
      "metadata": {
        "id": "11BIhFCWiR1p"
      },
      "source": [
        "---"
      ]
    },
    {
      "cell_type": "markdown",
      "metadata": {
        "id": "y6YGoK4biSR9"
      },
      "source": [
        "#### Ordinary Least Squares (OLS)\n",
        "\n",
        "Consider the regression equation\n",
        "\n",
        "$$Y = \\beta_0 + \\beta_1 x_1 + \\beta_2 x_2 + \\beta_3 x_3 + \\dots + \\beta_k x_k + \\epsilon$$\n",
        "\n",
        "where\n",
        "\n",
        "- $x_1, x_2, x_3, \\dots , x_k$ are independent variables or features\n",
        "\n",
        "- $Y$ is the response to the independent variable (or predicted value or dependent variable)\n",
        "\n",
        "- $\\beta_0, \\beta_1, \\beta_2, \\dots, \\beta_k$ are the corresponding regression coefficients of the independent variables\n",
        "\n",
        "- **$\\epsilon$** is the random error obtained along with the predicted value which follows a normal distribution with mean $0$ and some standard deviation of $\\sigma$\n",
        "\n",
        "\n",
        "The parameters $\\beta_0, \\beta_1, \\beta_2, \\dots, \\beta_n$ and $\\sigma$ are assumed to be unknown and must be estimated from the data, which we shall suppose will consist of the values of $Y_1, Y_2, Y_3, \\dots , Y_n$ where $Y_i$ is the response level corresponding to the $k$ features $x_{i1}, \\dots , x_{i2}, \\dots , x_{ik}$ . That is, the $Y_i$ are related to these features through\n",
        "\n",
        "$$E[Y_i] = \\beta_0 + \\beta_1 x_{i1} + \\beta_2 x_{i2} + \\beta_3 x_{i3} + \\dots + \\beta_k x_{ik}$$\n",
        "\n",
        "where\n",
        "\n",
        "- $E[Y_i]$ means **expected value** for an instance $i$. In simple terms, instance or $i$ denotes a row in a data frame\n",
        "\n",
        "- $x_{i1}$ denotes item at the $i^{\\text{th}}$ row in the $1^{\\text{st}}$ column in a data frame having only features\n",
        "\n",
        "- $x_{i2}$ denotes item at the $i^{\\text{th}}$ row in the $2^{\\text{nd}}$ column in a data frame having only features\n",
        "\n",
        "- $x_{i3}$ denotes item at the $i^{\\text{th}}$ row in the $3^{\\text{rd}}$ column in a data frame having only features\n",
        "\n",
        "  $\\dots$\n",
        "\n",
        "- $x_{ik}$ denotes item at the $i^{\\text{th}}$ row in the $k^{\\text{th}}$ column in a data frame having only features\n",
        "\n",
        "For e.g., in the `X` DataFrame there are $9357$ rows. So let $x_1, x_2, x_3, \\dots , x_{11}$ denote $\\text{CO}, \\text{C}_6 \\text{H}_6, \\text{NMHC}, \\dots, \\text{day}$ respectively.\n",
        "\n",
        "\n",
        "As we said earlier, the difference between the actual and the predicted values should be 0 or close to 0 for an accurate prediction model i.e.\n",
        "\n",
        "$$Y_1 - E[Y_1] \\approx 0$$\n",
        "\n",
        "$$Y_2 - E[Y_2] \\approx 0$$\n",
        "\n",
        "$$Y_3 - E[Y_3] \\approx 0$$\n",
        "\n",
        "$$\\vdots$$\n",
        "\n",
        "$$Y_N - E[Y_N] \\approx 0$$\n",
        "\n",
        "where $N$ is the total number of instances (or rows in a data frame).\n",
        "\n",
        "**The OLS says that the sum of squares of all these errors i.e.**\n",
        "\n",
        "$$J = (Y_1 - E[Y_1])^2 + (Y_2 - E[Y_2])^2 + (Y_3 - E[Y_3])^2 + \\dots + (Y_N - E[Y_N])^2$$\n",
        "\n",
        "**should be the least or minimum.**\n",
        "\n",
        "The above expression can be compressed as\n",
        "$$J = \\sum_{i = 1}^{N}(Y_i - E[Y_i])^2$$\n",
        "\n",
        "So in general, it can be written as\n",
        "\n",
        "$$J(\\beta, x) = \\sum_{i = 1}^{N}(Y_i - \\beta_0 - \\beta_1 x_{i1} - \\beta_2 x_{i2} - \\beta_3 x_{i3} - \\dots - \\beta_k x_{ik})^2 $$\n",
        "\n",
        "where $J(\\beta, x)$ denotes the sum of the squared errors is dependent on the coefficients ($\\beta_0, \\beta_1, \\beta_2, \\dots, \\beta_k$) and features ($x_1, x_2, x_3, \\dots , x_k$)\n",
        "\n",
        "\n",
        "Partially differentiating $J(\\beta, x)$ w.r.t. $\\beta_0$. So every other term apart from $\\beta_0$ will be treated as a constant. And the differentiation (or derivative) of a constant is 0.\n",
        "\n",
        "$$\\frac{\\partial J}{\\partial \\beta_0} = 2 \\sum_{i = 1}^{N}(Y_i - \\beta_0 - \\beta_1 x_{i1} - \\beta_2 x_{i2} - \\beta_3 x_{i3} - \\dots - \\beta_k x_{ik})(-1) = 0$$\n",
        "\n",
        "$$\\Rightarrow \\sum_{i = 1}^{N}(Y_i - \\beta_0 - \\beta_1 x_{i1} - \\beta_2 x_{i2} - \\beta_3 x_{i3} - \\dots - \\beta_k x_{ik}) = 0$$\n",
        "\n",
        "Similarly,\n",
        "\n",
        "$$\\sum_{i = 1}^{N}(Y_i - \\beta_0 - \\beta_1 x_{i1} - \\beta_2 x_{i2} - \\beta_3 x_{i3} - \\dots - \\beta_k x_{ik})x_{i1} = 0$$\n",
        "\n",
        "$$\\sum_{i = 1}^{N}(Y_i - \\beta_0 - \\beta_1 x_{i1} - \\beta_2 x_{i2} - \\beta_3 x_{i3} - \\dots - \\beta_k x_{ik})x_{i2} = 0$$\n",
        "\n",
        "$$\\vdots$$\n",
        "\n",
        "$$\\sum_{i = 1}^{N}(Y_i - \\beta_0 - \\beta_1 x_{i1} - \\beta_2 x_{i2} - \\beta_3 x_{i3} - \\dots - \\beta_k x_{ik})x_{ik} = 0$$\n",
        "\n",
        "\n",
        "On further reducing the above $k + 1$ equations, we get\n",
        "\n",
        "$$\\sum_{i = 1}^{N}Y_i = N \\beta_0 + \\beta_1 \\sum_{i = 1}^{N}x_{i1} + \\beta_2 \\sum_{i = 1}^{N}x_{i2} + \\beta_3 \\sum_{i = 1}^{N} x_{i3} + \\dots + \\beta_k \\sum_{i = 1}^{N} x_{ik}$$\n",
        "\n",
        "$$\\sum_{i = 1}^{N}Y_i x_{i1} = \\beta_0 \\sum_{i = 1}^{N}x_{i1} + \\beta_1 \\sum_{i = 1}^{N}x_{i1}^2 + \\beta_2 \\sum_{i = 1}^{N} x_{i1} x_{i2} + \\dots + \\beta_k \\sum_{i = 1}^{N} x_{i1} x_{ik}$$\n",
        "\n",
        "$$\\vdots$$\n",
        "\n",
        "$$\\sum_{i = 1}^{N}Y_i x_{ik} = \\beta_0 \\sum_{i = 1}^{N}x_{ik} + \\beta_1 \\sum_{i = 1}^{N} x_{ik} x_{i1} + \\beta_2 \\sum_{i = 1}^{N} x_{ik} x_{i2} + \\dots + \\beta_k \\sum_{i = 1}^{N} x_{ik}^2$$\n",
        "\n",
        "\n",
        "Now we have $k + 1$ linear equations having $k + 1$ unknowns i.e. $\\beta_0, \\beta_1, \\beta_2, \\dots, \\beta_k$ . By solving these $k + 1$ equations, we can get the beta values."
      ]
    },
    {
      "cell_type": "markdown",
      "metadata": {
        "id": "rhlJuFINQW5K"
      },
      "source": [
        "---"
      ]
    },
    {
      "cell_type": "markdown",
      "metadata": {
        "id": "DoLDbDJ-YUj0"
      },
      "source": [
        "#### Multiplicative Inverse of a Matrix\n",
        "\n",
        "To convert a square matrix into an identity matrix, you have to multiply the matrix with its multiplicative inverse (or inverse).\n",
        "\n",
        "Let $A$ be a square matrix of the dimension $n \\times n$ or $n$. Then its inverse matrix (if it exists) is denoted by $A^{-1}$. Hence\n",
        "\n",
        "$$A^{-1}_n A_n = I_n$$\n",
        "\n",
        "where $I_n$ is an identity matrix of the dimension $n$.\n",
        "\n",
        "Here, $A^{-1}$ is the inverse matrix of $A$. Conversely, $A$ is also an inverse of the matrix $A^{-1}$.\n",
        "\n",
        "Eg. let $A$ be a matrix of dimension $3$\n",
        "\n",
        "$$A = \\begin{bmatrix} 1 & 3 & 3 \\\\ 1 & 4 & 3 \\\\ 1 & 3 & 4 \\\\\\end{bmatrix}$$\n",
        "\n",
        "Then its inverse is\n",
        "\n",
        "$$A^{-1} = \\begin{bmatrix} 7 & - 3 & -3 \\\\ -1 & 1 & 0 \\\\ -1 & 0 & 1 \\\\\\end{bmatrix}$$\n",
        "\n",
        "Both $A$ and $A^{-1}$ have the same dimension.\n",
        "\n",
        "If you multiply the matrix $A$ with its inverse, you should get the identity matrix of dimension $3$.\n",
        "\n",
        "$$A^{-1} A = \\begin{bmatrix} 7 & - 3 & -3 \\\\ -1 & 1 & 0 \\\\ -1 & 0 & 1 \\\\\\end{bmatrix} \\begin{bmatrix} 1 & 3 & 3 \\\\ 1 & 4 & 3 \\\\ 1 & 3 & 4 \\\\\\end{bmatrix}$$\n",
        "\n",
        "$$\\Rightarrow A^{-1}A = \\begin{bmatrix} 7 \\times 1 - 3 \\times 1 -3 \\times 1 &7 \\times 3 - 3 \\times 4 -3 \\times 3 & 7 \\times 3 - 3 \\times 3 - 3 \\times 4 \\\\ -1 \\times 1 + 1 \\times 1 + 0 \\times 1 & -1 \\times 3 + 1 \\times 4 + 0 \\times 3 & -1 \\times 3 + 1 \\times 3 + 0 \\times 4 \\\\ -1 \\times 1 + 0 \\times 1 + 1 \\times 1 & -1 \\times 3 + 0 \\times 4 + 1 \\times 3 & -1 \\times 3 + 0 \\times 3 + 1 \\times 4 \\\\\\end{bmatrix}$$\n",
        "\n",
        "$$\\Rightarrow A^{-1}A = \\begin{bmatrix} 1 & 0 & 0 \\\\ 0 & 1 & 0 \\\\ 0 & 0 & 1 \\\\\\end{bmatrix}$$\n",
        "\n",
        "**Note:**\n",
        "\n",
        "1. Unlike some number, say $10^{-1} = \\frac{1}{10}$, in the case of a matrix, $A^{-1} \\neq \\frac{1}{A}$ because a matrix is not a numeric quantity. Rather it is a collection or a two-dimensional array of numeric quantities. Hence, it cannot be treated like a number.\n",
        "\n",
        "2. The multiplication of a square matrix with its inverse is commutative i.e.\n",
        "$$A^{-1}_n A_n = A_n A^{-1}_n = I_n$$\n",
        "\n",
        "3. The inverse of inverse matrix results in the original matrix i.e.\n",
        "$$(A^{-1}_n)^{-1} = A_n$$\n",
        "\n",
        "To calculate the inverse of a square matrix, you need to follow the steps described below:\n",
        "\n",
        "1. Create a square matrix containing the cofactors of each element in the original square matrix\n",
        "\n",
        "2. Take the transpose of the matrix obtained in the first step. The new matrix that is obtained is called the **adjoint** of a matrix.\n",
        "\n",
        "3. Divide the matrix obtained in the previous step with the determinant value of the original matrix.\n",
        "\n",
        "Mathematically, the inverse of a square matrix of the dimension $n$ is given by\n",
        "\n",
        "$$A^{-1}_n = \\frac{\\text{adj}(A_n)}{\\text{det}(A_n)}$$\n",
        "\n",
        "where\n",
        "\n",
        "- $\\text{adj}(A_n)$ denotes the adjoint of the matrix $A_n$ and\n",
        "\n",
        "- $\\text{det}(A_n)$ denotes the determinant value of the matrix $A_n$\n",
        "\n",
        "We will now learn how to find the inverse of a matrix. But before that let's learn how to calculate the determinant of a matrix."
      ]
    },
    {
      "cell_type": "markdown",
      "metadata": {
        "id": "h16mmx6kwvK1"
      },
      "source": [
        "---"
      ]
    },
    {
      "cell_type": "markdown",
      "metadata": {
        "id": "6dGeH1NbkZZl"
      },
      "source": [
        "#### Determinant of a Matrix\n",
        "\n",
        "A determinant is a numeric value associated with a square matrix. Let's understand this concept with the help of an example. Consider the square matrix of dimension $2$ given below.\n",
        "\n",
        "$$X = \\begin{bmatrix} 8 & 7 \\\\ 3\t& -5 \\\\\\end{bmatrix}$$\n",
        "\n",
        "Its determinant value i.e. $\\text{det}(X)$ is given as\n",
        "\n",
        "$$\\text{det}(X)= \\begin{vmatrix} 8 & 7 \\\\ 3\t& -5 \\\\\\end{vmatrix}$$\n",
        "\n",
        "Simply replace the square brackets with the two vertical bars.\n",
        "\n",
        "To calculate the determinant of a two-dimensional matrix, multiply the elements of the diagonals and then subtract them\n",
        "\n",
        "$$\\text{det}(X) = 8 \\times (-5) - 7 \\times 3$$\n",
        "\n",
        "$$\\Rightarrow \\text{det}(X) = -40 - 21 = -61$$\n",
        "\n",
        "$$\\Rightarrow \\text{det}(X) = -61$$\n",
        "\n",
        "In general, for a two-dimensional matrix\n",
        "\n",
        "$$A_2 = \\begin{bmatrix} a_{11} & a_{12} \\\\ a_{21} & a_{22} \\\\\\end{bmatrix}$$\n",
        "\n",
        "its determinant value is given as\n",
        "\n",
        "$$\\text{det}(A) = a_{11} \\times a_{22} - a_{12} \\times a_{21}$$\n",
        "\n",
        "The above determinant calculation process is shown in the image below\n",
        "\n",
        "<center><img src = \"https://student-datasets-bucket.s3.ap-south-1.amazonaws.com/images/2-dim-mat-mul.png\" width = 150></center>\n",
        "\n",
        "i.e.\n",
        "\n",
        "1. Multiply $a_{11}$ with $a_{22}$\n",
        "\n",
        "2. Multiply $a_{12}$ with $a_{21}$\n",
        "\n",
        "3. Subtract the product obtained in $(2)$ with the product obtained in $(1)$"
      ]
    },
    {
      "cell_type": "markdown",
      "metadata": {
        "id": "QpqbYcHYzWvl"
      },
      "source": [
        "Similarly, you can also calculate the determinant of a three-dimensional matrix. Consider the square matrix of dimension $3$ given below.\n",
        "\n",
        "$$A = \\begin{bmatrix} 1 & 3 & 3 \\\\ 1 & 4 & 3 \\\\ 1 & 3 & 4 \\\\\\end{bmatrix}$$\n",
        "\n",
        "Its determinant value i.e. $\\text{det}(A)$ is given as\n",
        "\n",
        "$$\\text{det}(A) = \\begin{vmatrix} 1 & 3 & 3 \\\\ 1 & 4 & 3 \\\\ 1 & 3 & 4 \\\\\\end{vmatrix}$$\n",
        "\n",
        "Now to calculate the determinant value of a matrix, you need to expand it either along a row or a column. Hence, there are **six** ways to calculate the determinant of a three-dimensional as there are 3 rows and 3 columns.\n",
        "\n",
        "Let's expand the above determinant about the **first row**.\n",
        "\n",
        "$$\\text{det}(A) = 1 \\times \\begin{vmatrix} 4 & 3 \\\\ 3 & 4 \\\\\\end{vmatrix} - 3 \\times \\begin{vmatrix} 1 & 3 \\\\ 1 & 4 \\\\\\end{vmatrix} + 3 \\times \\begin{vmatrix} 1 & 4 \\\\ 1 & 3 \\\\\\end{vmatrix}$$\n",
        "\n",
        "On further solving, we get\n",
        "\n",
        "\n",
        "$$\\Rightarrow \\text{det}(A) = 1$$\n",
        "\n",
        "The term\n",
        "\n",
        "- $\\begin{vmatrix} 4 & 3 \\\\ 3 & 4 \\\\\\end{vmatrix}$ is the cofactor of 1\n",
        "\n",
        "- $(-1) \\times \\begin{vmatrix} 1 & 3 \\\\ 1 & 4 \\\\\\end{vmatrix}$ is the cofactor of 3\n",
        "\n",
        "- $\\begin{vmatrix} 1 & 4 \\\\ 1 & 3 \\\\\\end{vmatrix}$ is the cofactor of 3\n",
        "\n",
        "To generalise the process of calculation of the determinant of a square matrix, consider a general square matrix, say $A$, of dimension 3\n",
        "\n",
        "$$A_3 = \\begin{bmatrix}a_{11} & a_{12} & a_{13} \\\\ a_{21} & a_{22} & a_{23} \\\\ a_{31} & a_{32} & a_{33}  \\\\\\end{bmatrix}$$\n",
        "\n",
        "So, in general, the determinant of a square matrix $A_3$ is given by\n",
        "\n",
        "$$\\text{det}(A_3) = a_{11} C_{11} + a_{12} C_{12} + a_{13} C_{13}$$\n",
        "\n",
        "where\n",
        "\n",
        "- $C_{11}$ is the cofactor of $a_{11}$ and\n",
        "  $$C_{11} = (-1)^{1 + 1} \\begin{vmatrix} a_{22} & a_{23} \\\\ a_{32} & a_{33} \\\\\\end{vmatrix}$$\n",
        "\n",
        "- $C_{12}$ is the cofactor of $a_{12}$ and\n",
        "  $$C_{12} = (-1)^{1 + 2} \\begin{vmatrix} a_{21} & a_{23} \\\\ a_{31} & a_{33} \\\\\\end{vmatrix}$$\n",
        "\n",
        "- $C_{13}$ is the cofactor of $a_{13}$ and\n",
        "  $$C_{13} = (-1)^{1 + 3} \\begin{vmatrix} a_{21} & a_{22} \\\\ a_{31} & a_{32} \\\\\\end{vmatrix}$$\n",
        "\n",
        "In general, the cofactor of an element $a_{ij}$ where $i$ is the row number and $j$ is the column number, given by\n",
        "\n",
        "$$C_{ij} = (-1)^{i + j} \\times M_{ij}$$\n",
        "\n",
        "where $M_{ij}$ is the **determinant of a matrix obtained by removing all the items from the $i^{\\text{th}}$ row and the $j^{\\text{th}}$ column of the original matrix.**\n",
        "\n",
        "Similarly, the determinant of a square matrix $A$ can be given by either of the following:\n",
        "\n",
        "- $\\text{det}(A_3) = a_{21} C_{21} + a_{22} C_{22} + a_{23} C_{23}$\n",
        "\n",
        "- $\\text{det}(A_3) = a_{31} C_{31} + a_{32} C_{32} + a_{33} C_{33}$\n",
        "\n",
        "- $\\text{det}(A_3) = a_{11} C_{11} + a_{21} C_{21} + a_{31} C_{31}$\n",
        "\n",
        "- $\\text{det}(A_3) = a_{12} C_{12} + a_{22} C_{22} + a_{32} C_{32}$\n",
        "\n",
        "- $\\text{det}(A_3) = a_{13} C_{13} + a_{23} C_{23} + a_{33} C_{33}$\n"
      ]
    },
    {
      "cell_type": "markdown",
      "metadata": {
        "id": "hvLFbvlMkYYU"
      },
      "source": [
        "---"
      ]
    },
    {
      "cell_type": "markdown",
      "metadata": {
        "id": "W7omNQJscSZM"
      },
      "source": [
        "#### Adjoint Matrix\n",
        "\n",
        "Consider a square matrix $A$ of dimension $3$ i.e.\n",
        "\n",
        "$$A_3 = \\begin{bmatrix}a_{11} & a_{12} & a_{13} \\\\ a_{21} & a_{22} & a_{23} \\\\ a_{31} & a_{32} & a_{33}  \\\\\\end{bmatrix}$$\n",
        "\n",
        "The adjoint of matrix $A$ is given be\n",
        "\n",
        "$$\\text{adj}(A) = \\begin{bmatrix}C_{11} & C_{12} & C_{13} \\\\ C_{21} & C_{22} & C_{23} \\\\ C_{31} & C_{32} & C_{33} \\\\\\end{bmatrix}^T$$\n",
        "\n",
        "where\n",
        "\n",
        "- $C_{ij}$ is the cofactor of the element $a_{ij}$\n",
        "\n",
        "- $T$ denotes the transpose of a matrix\n",
        "\n",
        "**Transpose means interchanging the rows and columns.**\n",
        "\n",
        "For the matrix\n",
        "\n",
        "$$A = \\begin{bmatrix} 1 & 3 & 3 \\\\ 1 & 4 & 3 \\\\ 1 & 3 & 4 \\\\\\end{bmatrix}$$\n",
        "\n",
        "Its adjoint is given by\n",
        "\n",
        "$$\\text{adj}(A) = \\begin{bmatrix} 7 & - 1 & -1 \\\\ -3 & 1 & 0 \\\\ -3 & 0 & 1 \\\\\\end{bmatrix}^T$$\n",
        "\n",
        "Now on taking the transpose of the above matrix i.e. interchanging rows and columns, we get\n",
        "\n",
        "$$\\text{adj}(A) = \\begin{bmatrix} 7 & - 3 & -3 \\\\ -1 & 1 & 0 \\\\ -1 & 0 & 1 \\\\\\end{bmatrix}$$\n",
        "\n",
        "Now the inverse of matrix $A$ is\n",
        "\n",
        "$$A^{-1} = \\frac{\\text{adj}(A)}{\\text{det}(A)}$$\n",
        "\n",
        "From our previous calculation, we already know that\n",
        "\n",
        "$$\\text{det}(A) = 1$$\n",
        "\n",
        "$$\\therefore A^{-1} = \\frac{\\text{adj}(A)}{1}$$\n",
        "\n",
        "$$\\Rightarrow  A^{-1} = \\begin{bmatrix} 7 & - 3 & -3 \\\\ -1 & 1 & 0 \\\\ -1 & 0 & 1 \\\\\\end{bmatrix}$$\n",
        "\n",
        "**Note:**\n",
        "\n",
        "1. If you multiply a matrix by some constant or number, then that number gets multiplied with every element in the matrix.\n",
        "\n",
        "2. Not all matrices are invertible. For a matrix to be invertible, it must be a square matrix and its determinant should not be zero.\n",
        "\n",
        "The following system of linear equations in two variables\n",
        "\n",
        "$$\\begin{bmatrix} 8 & 7 \\\\ 3\t& -5\t\\\\\\end{bmatrix} \\begin{bmatrix} \\beta_0 \\\\ \\beta_1 \\\\\\end{bmatrix} = \\begin{bmatrix} 38 \\\\ -1 \\\\\\end{bmatrix}$$\n",
        "\n",
        "or\n",
        "\n",
        "$$X B = E$$\n",
        "\n",
        "If we multiply both the sides by inverse of the matrix $X$, then we get\n",
        "\n",
        "$$X^{-1} X B = X^{-1} E$$\n",
        "\n",
        "$$\\Rightarrow  I B = X^{-1} E$$\n",
        "\n",
        "$$\\Rightarrow \\begin{bmatrix} 1 & 0 \\\\ 0\t& 1\t\\\\\\end{bmatrix} \\begin{bmatrix} \\beta_0 \\\\ \\beta_1 \\\\\\end{bmatrix} = X^{-1} \\begin{bmatrix} 38 \\\\ -1 \\\\\\end{bmatrix}$$\n",
        "\n",
        "$$\\Rightarrow \\begin{bmatrix} \\beta_0 \\\\ \\beta_1 \\\\\\end{bmatrix} = X^{-1} \\begin{bmatrix} 38 \\\\ -1 \\\\\\end{bmatrix}$$\n",
        "\n",
        "Now\n",
        "\n",
        "$$\\therefore \\text{adj}(X) = \\begin{bmatrix} -5 & -3 \\\\ -7\t& 8\t\\\\\\end{bmatrix}^T$$\n",
        "\n",
        "$$\\Rightarrow \\text{adj}(X) = \\begin{bmatrix} -5 & -7 \\\\ -3\t& 8\t\\\\\\end{bmatrix}$$\n",
        "\n",
        "We already know that\n",
        "\n",
        "$$\\text{det}(X) = -61$$\n",
        "\n",
        "$$\\therefore X^{-1} = \\frac{\\text{adj}(X)}{-61}$$\n",
        "\n",
        "$$\\Rightarrow X^{-1} = \\begin{bmatrix} \\frac{5}{61} & \\frac{7}{61} \\\\ \\frac{3}{61} & -\\frac{8}{61}\t\\\\\\end{bmatrix}$$\n",
        "\n",
        "\n",
        "**Note:** If you multiply a matrix by some constant or number, then that number gets multiplied with every element in the matrix.\n",
        "\n",
        "Now, to calculate the values of betas, we have\n",
        "\n",
        "$$\\begin{bmatrix} \\beta_0 \\\\ \\beta_1 \\\\\\end{bmatrix} = X^{-1} \\begin{bmatrix} 38 \\\\ -1 \\\\\\end{bmatrix}$$\n",
        "\n",
        "$$\\therefore \\begin{bmatrix} \\beta_0 \\\\ \\beta_1 \\\\\\end{bmatrix} = \\begin{bmatrix} \\frac{5}{61} & \\frac{7}{61} \\\\ \\frac{3}{61} & -\\frac{8}{61}\t\\\\\\end{bmatrix} \\begin{bmatrix} 38 \\\\ -1 \\\\\\end{bmatrix}$$\n",
        "\n",
        "$$\\Rightarrow \\begin{bmatrix} \\beta_0 \\\\ \\beta_1 \\\\\\end{bmatrix} = \\begin{bmatrix} \\frac{5}{61} \\times 38 - \\frac{7}{61} \\\\ \\frac{3}{61} \\times 38 + \\frac{8}{61}\\\\\\end{bmatrix}$$\n",
        "\n",
        "$$\\Rightarrow \\begin{bmatrix} \\beta_0 \\\\ \\beta_1 \\\\\\end{bmatrix} = \\begin{bmatrix} 3 \\\\ 2 \\\\\\end{bmatrix}$$\n",
        "\n",
        "$$\\Rightarrow \\beta_0 = 3 \\space{} \\text{and} \\space{} \\beta_1 = 2$$\n",
        "\n"
      ]
    },
    {
      "cell_type": "markdown",
      "metadata": {
        "id": "9wlbPjHUAnlz"
      },
      "source": [
        "---"
      ]
    },
    {
      "cell_type": "markdown",
      "metadata": {
        "id": "UsQ9RVeGnr6U"
      },
      "source": [
        "#### Activity 1: Estimating Betas Through Matrix Operations^^^\n",
        "\n",
        "Now that we have learnt to solve the system of linear equations using matrix operations, let's estimate the values of betas using matrix operations.\n",
        "\n",
        "In one of the previous lesson, you got the following $k + 1$ linear equation having $k + 1$ unknowns, i.e. $k + 1$ betas\n",
        "\n",
        "$$\\sum_{i = 1}^{N}Y_i = N \\beta_0 + \\beta_1 \\sum_{i = 1}^{N}x_{i1} + \\beta_2 \\sum_{i = 1}^{N}x_{i2} + \\dots + \\beta_k \\sum_{i = 1}^{N} x_{ik}$$\n",
        "\n",
        "\n",
        "$$\\sum_{i = 1}^{N}Y_i x_{i1} = \\beta_0 \\sum_{i = 1}^{N}x_{i1} + \\beta_1 \\sum_{i = 1}^{N}x_{i1}^2 + \\beta_2 \\sum_{i = 1}^{N} x_{i1} x_{i2} + \\dots + \\beta_k \\sum_{i = 1}^{N} x_{i1} x_{ik}$$\n",
        "\n",
        "$$\\sum_{i = 1}^{N}Y_i x_{i2} = \\beta_0 \\sum_{i = 1}^{N}x_{i2} + \\beta_1 \\sum_{i = 1}^{N} x_{i1} x_{i2} + \\beta_2 \\sum_{i = 1}^{N} x_{i2}^2 + \\dots + \\beta_k \\sum_{i = 1}^{N} x_{i2} x_{ik}$$\n",
        "\n",
        "$$\\vdots$$\n",
        "\n",
        "$$\\sum_{i = 1}^{N}Y_i x_{ik} = \\beta_0 \\sum_{i = 1}^{N}x_{ik} + \\beta_1 \\sum_{i = 1}^{N} x_{ik} x_{i1} + \\beta_2 \\sum_{i = 1}^{N} x_{ik} x_{i2} + \\dots + \\beta_k \\sum_{i = 1}^{N} x_{ik}^2$$\n",
        "\n",
        "The above $k + 1$ linear equations can also be written as\n",
        "\n",
        "\n",
        "$$\\begin{bmatrix}\\sum_{i = 1}^{N}Y_i \\\\ \\sum_{i = 1}^{N}Y_i x_{i1} \\\\ \\sum_{i = 1}^{N}Y_i x_{i2} \\\\ \\vdots \\\\ \\sum_{i = 1}^{N}Y_i x_{ik} \\\\\\end{bmatrix} = \\begin{bmatrix} \\sum_{i = 1}^{N}1 & \\sum_{i = 1}^{N}x_{i1} & \\sum_{i = 1}^{N}x_{i2} & \\dots & \\sum_{i = 1}^{N}x_{ik} \\\\ \\sum_{i = 1}^{N}x_{i1} & \\sum_{i = 1}^{N}x_{i1}^2 & \\sum_{i = 1}^{N}x_{i1}x_{i2} & \\dots & \\sum_{i = 1}^{N}x_{i1}x_{1k} \\\\ \\sum_{i = 1}^{N}x_{i2} & \\sum_{i = 1}^{N}x_{i1} x_{i2} & \\sum_{i = 1}^{N}x_{i2}^2 & \\dots & \\sum_{i = 1}^{N}x_{i2} x_{ik} \\\\ \\vdots & \\vdots & \\vdots & \\ddots & \\vdots \\\\\\sum_{i = 1}^{N}x_{ik} & \\sum_{i = 1}^{N}x_{ik} x_{i1} & \\sum_{i = 1}^{N}x_{ik} x_{i2} & \\dots & \\sum_{i = 1}^{N}x_{ik}^2 \\\\\\end{bmatrix}\\begin{bmatrix} \\beta_0 \\\\ \\beta_1 \\\\ \\beta_2 \\\\  \\vdots \\\\ \\beta_k \\\\\\end{bmatrix}$$\n",
        "\n",
        "in the matrix form. The above matrix equation can also be written as\n",
        "\n",
        "$$X^T Y = X^T X B$$\n",
        "\n",
        "or\n",
        "\n",
        "$$X^T X B = X^T Y$$\n",
        "\n",
        "\n",
        "where\n",
        "\n",
        "$$X = \\begin{bmatrix}1 & x_{11} & x_{12} & x_{13} & \\dots & x_{1k} \\\\ 1 & x_{21} & x_{22} & x_{23} & \\dots & x_{2k} \\\\ 1 & x_{31} & x_{32} & x_{33} & \\dots & x_{3k} \\\\ \\vdots & \\vdots & \\vdots & \\vdots & \\ddots & \\vdots \\\\1 & x_{N1} & x_{N2} & x_{N3} & \\dots & x_{Nk} \\\\\\end{bmatrix}$$\n",
        "\n",
        "$$X^T = \\begin{bmatrix}1 & 1 & 1 & \\dots & 1 \\\\ x_{11} & x_{21} & x_{31} & \\dots & x_{N1} \\\\ x_{12} & x_{22} & x_{32} & \\dots & x_{N2} \\\\ x_{13}  & x_{23} & x_{33} & \\dots & x_{N3} \\\\ \\vdots & \\vdots & \\vdots & \\ddots & \\vdots \\\\x_{1k} & x_{2k} & x_{3k} & \\dots & x_{Nk} \\\\\\end{bmatrix}$$\n",
        "\n",
        "$$Y = \\begin{bmatrix}Y_1 \\\\ Y_2 \\\\ Y_3 \\\\ \\vdots \\\\ Y_N \\\\\\end{bmatrix} \\space{} \\text{and} \\space{} B = \\begin{bmatrix} \\beta_0 \\\\ \\beta_1 \\\\ \\beta_2 \\\\  \\vdots \\\\ \\beta_k \\\\\\end{bmatrix}$$\n",
        "\n",
        "In the matrix equation,\n",
        "\n",
        "$$X^T X B = X^T Y$$\n",
        "\n",
        "to obtain only the matrix $B$ on the left-hand side, you need to multiply both the sides by $(X^T X)^{-1}$, i.e.\n",
        "\n",
        "\n",
        "$$(X^T X)^{-1} X^T X B = (X^T X)^{-1} X^T Y$$\n",
        "\n",
        "To simply the above equation, let\n",
        "\n",
        "$$Z = X^T X$$\n",
        "\n",
        "$$\\therefore Z^{-1} = (X^T X)^{-1}$$\n",
        "\n",
        "Hence, the above equation becomes\n",
        "\n",
        "$$Z^{-1} Z B = Z^{-1} X^T Y$$\n",
        "\n",
        "$$\\Rightarrow IB = Z^{-1} X^T Y \\space{} \\space{} [\\because Z^{-1}Z = I]$$\n",
        "\n",
        "$$\\Rightarrow B = Z^{-1} X^T Y \\space{} \\space{} [\\because IB = B]$$\n",
        "\n",
        "Let $U = X^T Y$\n",
        "\n",
        "$$\\therefore B = Z^{-1} U$$\n",
        "\n",
        "Now, you need to obtain the $Z^{-1}$ and multiply it with the matrix $U$ to estimate the values of betas using the matrix operations only. But before that, you need to add a new column to the matrix $X$, i.e., `X_train`. All the items of this new column should be $1$.\n",
        "\n"
      ]
    },
    {
      "cell_type": "code",
      "metadata": {
        "id": "5sPp3ZjTswjU",
        "colab": {
          "base_uri": "https://localhost:8080/",
          "height": 206
        },
        "outputId": "d90885fc-5f9d-4ec9-b318-75c8c86f6452"
      },
      "source": [
        " # S1.1 Add a new column to the 'X_train' DataFrame such that each item of the column is 1.\n",
        "X_train.insert(loc = 0, column = 'ones', value = 1)\n",
        "X_train.head()"
      ],
      "execution_count": null,
      "outputs": [
        {
          "output_type": "execute_result",
          "data": {
            "text/plain": [
              "      ones  PT08.S1(CO)  C6H6(GT)  PT08.S2(NMHC)  PT08.S3(NOx)  PT08.S4(NO2)  \\\n",
              "2653     1       1384.0      23.5         1391.0         552.0        2316.0   \n",
              "5471     1       1277.0      11.8         1043.0         614.0        1631.0   \n",
              "5681     1       1570.0      32.9         1617.0         426.0        2170.0   \n",
              "1541     1       1300.0      17.4         1221.0         648.0        1946.0   \n",
              "5651     1       1212.0      15.0         1149.0         562.0        1710.0   \n",
              "\n",
              "      PT08.S5(O3)     T      AH  Year  Month  Day  \n",
              "2653       1548.0  24.7  1.5201  2004      6   29  \n",
              "5471       1155.0  25.0  1.5630  2004     10   24  \n",
              "5681       1944.0  22.1  1.4851  2004     11    2  \n",
              "1541       1401.0  17.5  1.1175  2004      5   13  \n",
              "5651       1599.0  18.4  1.6370  2004     11    1  "
            ],
            "text/html": [
              "\n",
              "  <div id=\"df-74b9fdf1-d8cb-43b0-9845-4f945e472ce6\">\n",
              "    <div class=\"colab-df-container\">\n",
              "      <div>\n",
              "<style scoped>\n",
              "    .dataframe tbody tr th:only-of-type {\n",
              "        vertical-align: middle;\n",
              "    }\n",
              "\n",
              "    .dataframe tbody tr th {\n",
              "        vertical-align: top;\n",
              "    }\n",
              "\n",
              "    .dataframe thead th {\n",
              "        text-align: right;\n",
              "    }\n",
              "</style>\n",
              "<table border=\"1\" class=\"dataframe\">\n",
              "  <thead>\n",
              "    <tr style=\"text-align: right;\">\n",
              "      <th></th>\n",
              "      <th>ones</th>\n",
              "      <th>PT08.S1(CO)</th>\n",
              "      <th>C6H6(GT)</th>\n",
              "      <th>PT08.S2(NMHC)</th>\n",
              "      <th>PT08.S3(NOx)</th>\n",
              "      <th>PT08.S4(NO2)</th>\n",
              "      <th>PT08.S5(O3)</th>\n",
              "      <th>T</th>\n",
              "      <th>AH</th>\n",
              "      <th>Year</th>\n",
              "      <th>Month</th>\n",
              "      <th>Day</th>\n",
              "    </tr>\n",
              "  </thead>\n",
              "  <tbody>\n",
              "    <tr>\n",
              "      <th>2653</th>\n",
              "      <td>1</td>\n",
              "      <td>1384.0</td>\n",
              "      <td>23.5</td>\n",
              "      <td>1391.0</td>\n",
              "      <td>552.0</td>\n",
              "      <td>2316.0</td>\n",
              "      <td>1548.0</td>\n",
              "      <td>24.7</td>\n",
              "      <td>1.5201</td>\n",
              "      <td>2004</td>\n",
              "      <td>6</td>\n",
              "      <td>29</td>\n",
              "    </tr>\n",
              "    <tr>\n",
              "      <th>5471</th>\n",
              "      <td>1</td>\n",
              "      <td>1277.0</td>\n",
              "      <td>11.8</td>\n",
              "      <td>1043.0</td>\n",
              "      <td>614.0</td>\n",
              "      <td>1631.0</td>\n",
              "      <td>1155.0</td>\n",
              "      <td>25.0</td>\n",
              "      <td>1.5630</td>\n",
              "      <td>2004</td>\n",
              "      <td>10</td>\n",
              "      <td>24</td>\n",
              "    </tr>\n",
              "    <tr>\n",
              "      <th>5681</th>\n",
              "      <td>1</td>\n",
              "      <td>1570.0</td>\n",
              "      <td>32.9</td>\n",
              "      <td>1617.0</td>\n",
              "      <td>426.0</td>\n",
              "      <td>2170.0</td>\n",
              "      <td>1944.0</td>\n",
              "      <td>22.1</td>\n",
              "      <td>1.4851</td>\n",
              "      <td>2004</td>\n",
              "      <td>11</td>\n",
              "      <td>2</td>\n",
              "    </tr>\n",
              "    <tr>\n",
              "      <th>1541</th>\n",
              "      <td>1</td>\n",
              "      <td>1300.0</td>\n",
              "      <td>17.4</td>\n",
              "      <td>1221.0</td>\n",
              "      <td>648.0</td>\n",
              "      <td>1946.0</td>\n",
              "      <td>1401.0</td>\n",
              "      <td>17.5</td>\n",
              "      <td>1.1175</td>\n",
              "      <td>2004</td>\n",
              "      <td>5</td>\n",
              "      <td>13</td>\n",
              "    </tr>\n",
              "    <tr>\n",
              "      <th>5651</th>\n",
              "      <td>1</td>\n",
              "      <td>1212.0</td>\n",
              "      <td>15.0</td>\n",
              "      <td>1149.0</td>\n",
              "      <td>562.0</td>\n",
              "      <td>1710.0</td>\n",
              "      <td>1599.0</td>\n",
              "      <td>18.4</td>\n",
              "      <td>1.6370</td>\n",
              "      <td>2004</td>\n",
              "      <td>11</td>\n",
              "      <td>1</td>\n",
              "    </tr>\n",
              "  </tbody>\n",
              "</table>\n",
              "</div>\n",
              "      <button class=\"colab-df-convert\" onclick=\"convertToInteractive('df-74b9fdf1-d8cb-43b0-9845-4f945e472ce6')\"\n",
              "              title=\"Convert this dataframe to an interactive table.\"\n",
              "              style=\"display:none;\">\n",
              "        \n",
              "  <svg xmlns=\"http://www.w3.org/2000/svg\" height=\"24px\"viewBox=\"0 0 24 24\"\n",
              "       width=\"24px\">\n",
              "    <path d=\"M0 0h24v24H0V0z\" fill=\"none\"/>\n",
              "    <path d=\"M18.56 5.44l.94 2.06.94-2.06 2.06-.94-2.06-.94-.94-2.06-.94 2.06-2.06.94zm-11 1L8.5 8.5l.94-2.06 2.06-.94-2.06-.94L8.5 2.5l-.94 2.06-2.06.94zm10 10l.94 2.06.94-2.06 2.06-.94-2.06-.94-.94-2.06-.94 2.06-2.06.94z\"/><path d=\"M17.41 7.96l-1.37-1.37c-.4-.4-.92-.59-1.43-.59-.52 0-1.04.2-1.43.59L10.3 9.45l-7.72 7.72c-.78.78-.78 2.05 0 2.83L4 21.41c.39.39.9.59 1.41.59.51 0 1.02-.2 1.41-.59l7.78-7.78 2.81-2.81c.8-.78.8-2.07 0-2.86zM5.41 20L4 18.59l7.72-7.72 1.47 1.35L5.41 20z\"/>\n",
              "  </svg>\n",
              "      </button>\n",
              "      \n",
              "  <style>\n",
              "    .colab-df-container {\n",
              "      display:flex;\n",
              "      flex-wrap:wrap;\n",
              "      gap: 12px;\n",
              "    }\n",
              "\n",
              "    .colab-df-convert {\n",
              "      background-color: #E8F0FE;\n",
              "      border: none;\n",
              "      border-radius: 50%;\n",
              "      cursor: pointer;\n",
              "      display: none;\n",
              "      fill: #1967D2;\n",
              "      height: 32px;\n",
              "      padding: 0 0 0 0;\n",
              "      width: 32px;\n",
              "    }\n",
              "\n",
              "    .colab-df-convert:hover {\n",
              "      background-color: #E2EBFA;\n",
              "      box-shadow: 0px 1px 2px rgba(60, 64, 67, 0.3), 0px 1px 3px 1px rgba(60, 64, 67, 0.15);\n",
              "      fill: #174EA6;\n",
              "    }\n",
              "\n",
              "    [theme=dark] .colab-df-convert {\n",
              "      background-color: #3B4455;\n",
              "      fill: #D2E3FC;\n",
              "    }\n",
              "\n",
              "    [theme=dark] .colab-df-convert:hover {\n",
              "      background-color: #434B5C;\n",
              "      box-shadow: 0px 1px 3px 1px rgba(0, 0, 0, 0.15);\n",
              "      filter: drop-shadow(0px 1px 2px rgba(0, 0, 0, 0.3));\n",
              "      fill: #FFFFFF;\n",
              "    }\n",
              "  </style>\n",
              "\n",
              "      <script>\n",
              "        const buttonEl =\n",
              "          document.querySelector('#df-74b9fdf1-d8cb-43b0-9845-4f945e472ce6 button.colab-df-convert');\n",
              "        buttonEl.style.display =\n",
              "          google.colab.kernel.accessAllowed ? 'block' : 'none';\n",
              "\n",
              "        async function convertToInteractive(key) {\n",
              "          const element = document.querySelector('#df-74b9fdf1-d8cb-43b0-9845-4f945e472ce6');\n",
              "          const dataTable =\n",
              "            await google.colab.kernel.invokeFunction('convertToInteractive',\n",
              "                                                     [key], {});\n",
              "          if (!dataTable) return;\n",
              "\n",
              "          const docLinkHtml = 'Like what you see? Visit the ' +\n",
              "            '<a target=\"_blank\" href=https://colab.research.google.com/notebooks/data_table.ipynb>data table notebook</a>'\n",
              "            + ' to learn more about interactive tables.';\n",
              "          element.innerHTML = '';\n",
              "          dataTable['output_type'] = 'display_data';\n",
              "          await google.colab.output.renderOutput(dataTable, element);\n",
              "          const docLink = document.createElement('div');\n",
              "          docLink.innerHTML = docLinkHtml;\n",
              "          element.appendChild(docLink);\n",
              "        }\n",
              "      </script>\n",
              "    </div>\n",
              "  </div>\n",
              "  "
            ]
          },
          "metadata": {},
          "execution_count": 16
        }
      ]
    },
    {
      "cell_type": "markdown",
      "metadata": {
        "id": "3nFI_GEJIYFd"
      },
      "source": [
        "Now, estimate the values of betas using the matrix operations only."
      ]
    },
    {
      "cell_type": "code",
      "metadata": {
        "id": "R65-2xxNn2UB",
        "colab": {
          "base_uri": "https://localhost:8080/"
        },
        "outputId": "a12fe177-cd88-4ede-d483-8fa98870de00"
      },
      "source": [
        "# S1.2: Estimate the values of betas using matrix operations only.\n",
        "\n",
        "# Get the Z matrix.\n",
        "Z_train = np.matmul(np.matrix(X_train.T),np.matrix(X_train))\n",
        "# Calculate the inverse of Z matrix.\n",
        "Z_inv = np.linalg.inv(Z_train)\n",
        "# Calculate the U matrix.\n",
        "U_train = np.matmul(np.matrix(X_train.T), np.matrix(y_train).reshape(-1,1))\n",
        "# Calculate the values of betas.\n",
        "B_train = np.matmul(Z_train, U_train)\n",
        "B_train"
      ],
      "execution_count": null,
      "outputs": [
        {
          "output_type": "execute_result",
          "data": {
            "text/plain": [
              "matrix([[1.93274744e+16],\n",
              "        [2.15943253e+19],\n",
              "        [2.05268204e+17],\n",
              "        [1.85617761e+19],\n",
              "        [1.57708183e+19],\n",
              "        [2.86519940e+19],\n",
              "        [2.03943303e+19],\n",
              "        [3.56402220e+17],\n",
              "        [2.00535300e+16],\n",
              "        [3.87367207e+19],\n",
              "        [1.22797518e+17],\n",
              "        [3.05403572e+17]])"
            ]
          },
          "metadata": {},
          "execution_count": 18
        }
      ]
    },
    {
      "cell_type": "markdown",
      "metadata": {
        "id": "tFUhbUS0Je-i"
      },
      "source": [
        "Now let's print the values of betas obtained using the `statsmodels.api` module."
      ]
    },
    {
      "cell_type": "code",
      "metadata": {
        "id": "W5W2sGmmsX3D",
        "colab": {
          "base_uri": "https://localhost:8080/"
        },
        "outputId": "bb56dcce-e50a-47fb-ac42-9344aef0b36b"
      },
      "source": [
        "# S1.3: Print the values of betas obtained using the 'statsmodels.api' module.\n",
        "lr.params"
      ],
      "execution_count": null,
      "outputs": [
        {
          "output_type": "execute_result",
          "data": {
            "text/plain": [
              "const           -15028.451823\n",
              "PT08.S1(CO)          0.014833\n",
              "C6H6(GT)            -0.903464\n",
              "PT08.S2(NMHC)       -0.005881\n",
              "PT08.S3(NOx)         0.001503\n",
              "PT08.S4(NO2)         0.026497\n",
              "PT08.S5(O3)         -0.001066\n",
              "T                   -2.354919\n",
              "AH                  29.551742\n",
              "Year                 7.505153\n",
              "Month                1.167861\n",
              "Day                  0.035232\n",
              "dtype: float64"
            ]
          },
          "metadata": {},
          "execution_count": 19
        }
      ]
    },
    {
      "cell_type": "markdown",
      "metadata": {
        "id": "54JQQrz_wEdk"
      },
      "source": [
        "The corresponding beta values obtained through the `statsmodels.api` and `sklearn` modules and through matrix operations are almost the same. You can subtract the corresponding beta values to verify whether they are the same or not. Their differences should bezero or very very close to zero."
      ]
    },
    {
      "cell_type": "code",
      "metadata": {
        "id": "Dz3FsFe8vVMj",
        "colab": {
          "base_uri": "https://localhost:8080/"
        },
        "outputId": "9af86e8a-cfa6-4663-df48-a820da31621b"
      },
      "source": [
        "# S1.4: Subtract the corresponding beta values obtained through matrix operations and 'statsmodels.api' module.\n",
        "b_array = np.array(B_train)\n",
        "for i in range(len(B_train)):\n",
        "  print(b_array[i][0] - lr.params.values[i])"
      ],
      "execution_count": null,
      "outputs": [
        {
          "output_type": "stream",
          "name": "stdout",
          "text": [
            "1.9327474364346132e+16\n",
            "2.1594325331276784e+19\n",
            "2.0526820434749642e+17\n",
            "1.856177607191947e+19\n",
            "1.5770818327382544e+19\n",
            "2.8651993984448807e+19\n",
            "2.0394330250795344e+19\n",
            "3.564022199315762e+17\n",
            "2.005352996965179e+16\n",
            "3.873672074272613e+19\n",
            "1.2279751796821131e+17\n",
            "3.054035720882804e+17\n"
          ]
        }
      ]
    },
    {
      "cell_type": "markdown",
      "metadata": {
        "id": "nEb2fFI7KbKE"
      },
      "source": [
        "As you can see, the differences are very very close to zero because they are of the order $10^{-4}$ to $10^{-13}$.\n",
        "\n",
        "So now you have learnt how the linear regression algorithm (one of the machine learning algorithms) works behind the scenes. But in order to build a linear regression model quickly, you should use the ready-made modules such as `statsmodels.api` , `sklearn` etc."
      ]
    },
    {
      "cell_type": "markdown",
      "metadata": {
        "id": "nlFQ_b-vLEwX"
      },
      "source": [
        "---"
      ]
    },
    {
      "cell_type": "markdown",
      "metadata": {
        "id": "ku5Z-Tz2NB9d"
      },
      "source": [
        "#### Activity 2: Multicollinearity^^\n",
        "\n",
        "Now let's learn a new important concept called multicollinearity which is critical to multiple linear regression. But before that, let's print the statistical summary of the multiple linear regression model that we built earlier."
      ]
    },
    {
      "cell_type": "code",
      "metadata": {
        "id": "PcBSxFC2Lepf",
        "colab": {
          "base_uri": "https://localhost:8080/"
        },
        "outputId": "2f78f5fc-8908-434a-d191-664833fccacb"
      },
      "source": [
        "# S2.1: Print the summary of the multiple linear regression model built earlier.\n",
        "print(lr.summary())"
      ],
      "execution_count": null,
      "outputs": [
        {
          "output_type": "stream",
          "name": "stdout",
          "text": [
            "                            OLS Regression Results                            \n",
            "==============================================================================\n",
            "Dep. Variable:                     RH   R-squared:                       0.879\n",
            "Model:                            OLS   Adj. R-squared:                  0.878\n",
            "Method:                 Least Squares   F-statistic:                     4115.\n",
            "Date:                Sun, 18 Dec 2022   Prob (F-statistic):               0.00\n",
            "Time:                        18:22:53   Log-Likelihood:                -20050.\n",
            "No. Observations:                6269   AIC:                         4.012e+04\n",
            "Df Residuals:                    6257   BIC:                         4.020e+04\n",
            "Df Model:                          11                                         \n",
            "Covariance Type:            nonrobust                                         \n",
            "=================================================================================\n",
            "                    coef    std err          t      P>|t|      [0.025      0.975]\n",
            "---------------------------------------------------------------------------------\n",
            "const         -1.503e+04   1240.167    -12.118      0.000   -1.75e+04   -1.26e+04\n",
            "PT08.S1(CO)       0.0148      0.001     14.305      0.000       0.013       0.017\n",
            "C6H6(GT)         -0.9035      0.075    -12.092      0.000      -1.050      -0.757\n",
            "PT08.S2(NMHC)    -0.0059      0.002     -2.393      0.017      -0.011      -0.001\n",
            "PT08.S3(NOx)      0.0015      0.001      1.853      0.064   -8.67e-05       0.003\n",
            "PT08.S4(NO2)      0.0265      0.001     21.601      0.000       0.024       0.029\n",
            "PT08.S5(O3)      -0.0011      0.001     -1.945      0.052      -0.002    8.27e-06\n",
            "T                -2.3549      0.015   -160.240      0.000      -2.384      -2.326\n",
            "AH               29.5517      0.554     53.337      0.000      28.466      30.638\n",
            "Year              7.5052      0.618     12.148      0.000       6.294       8.716\n",
            "Month             1.1679      0.062     18.914      0.000       1.047       1.289\n",
            "Day               0.0352      0.009      4.040      0.000       0.018       0.052\n",
            "==============================================================================\n",
            "Omnibus:                      322.611   Durbin-Watson:                   1.966\n",
            "Prob(Omnibus):                  0.000   Jarque-Bera (JB):              416.392\n",
            "Skew:                           0.509   Prob(JB):                     3.82e-91\n",
            "Kurtosis:                       3.748   Cond. No.                     5.25e+07\n",
            "==============================================================================\n",
            "\n",
            "Notes:\n",
            "[1] Standard Errors assume that the covariance matrix of the errors is correctly specified.\n",
            "[2] The condition number is large, 5.25e+07. This might indicate that there are\n",
            "strong multicollinearity or other numerical problems.\n"
          ]
        }
      ]
    },
    {
      "cell_type": "markdown",
      "metadata": {
        "id": "jp5IzGDIYPml"
      },
      "source": [
        "You can see two warning messages in the output at the end of the summary table. The second warning says `The condition number is large, 5.25e+07. This might indicate that there are strong multicollinearity or other numerical problems.`\n",
        "\n",
        "Now, let's find out what multicollinearity is and why is it important?\n",
        "\n",
        "Multicollinearity is a situation where the independent variables or features are correlated to each other. Ideally, only the dependent variable (or target) should be correlated with the independent variables and the independent variables should not be correlated with each other at all.\n",
        "\n",
        "Let's create a heatmap of a correlation DataFrame of the Air quality analysis dataset to understand this concept better.\n"
      ]
    },
    {
      "cell_type": "code",
      "metadata": {
        "id": "WmC7VsyYbh6s",
        "colab": {
          "base_uri": "https://localhost:8080/",
          "height": 664
        },
        "outputId": "4dcc1329-15f8-4cdd-d550-77049dec3827"
      },
      "source": [
        "# S2.2: create a heatmap of a correlation DataFrame of the air quality analysis dataset to understand this concept better.\n",
        "plt.figure(figsize = (12,10))\n",
        "sns.heatmap(df.corr(), annot = True)\n",
        "plt.show()"
      ],
      "execution_count": null,
      "outputs": [
        {
          "output_type": "display_data",
          "data": {
            "text/plain": [
              "<Figure size 864x720 with 2 Axes>"
            ],
            "image/png": "[encoded data removed]"
          },
          "metadata": {
            "needs_background": "light"
          }
        }
      ]
    },
    {
      "cell_type": "markdown",
      "metadata": {
        "id": "AgmAgVJjUfJ5"
      },
      "source": [
        "From the heatmap, you can see that, the dependent variable `RH` is moderately correlated with `T` and weakly correlated with carbon monoxide (`'PT08.S1(CO)'`), ozone (`'PT08.S5(O3)'`) , absolute humidity (`AH`) and year (`Year`).\n",
        "\n",
        "Ideally, to build a multiple linear regression model to predict relative humidity, we should have considered carbon monoxide, ozone, absolute humidity and year independent variables only instead of considering all the independent variables. But among these 4 features:\n",
        "\n",
        "- carbon monoxide and ozone are strongly correlated to each other.\n",
        "\n",
        "- temperature and absolute humidity are moderately correlated to each other.\n",
        "\n",
        "- temperature and year are moderately correlated to each other.\n",
        "\n",
        "- absolute humidity and year are moderately correlated to each other.\n",
        "\n",
        "The above four cases are examples of multicollinearity wherein the independent variables are correlated to each other.\n",
        "\n",
        "Let's create a correlation heatmap again between the above four features and the dependent variable."
      ]
    },
    {
      "cell_type": "code",
      "metadata": {
        "id": "9nFo4VBqZSoY",
        "colab": {
          "base_uri": "https://localhost:8080/",
          "height": 487
        },
        "outputId": "da381f3e-ce4e-4777-daa7-60bf01ca2476"
      },
      "source": [
        "# S2.3: Create a correlation heatmap between 'RH', 'T', 'PT08.S1(CO)', 'PT08.S5(O3)', 'AH', 'Year' variables.\n",
        "plt.figure(figsize = (12,8))\n",
        "sns.heatmap(df[['RH', 'T', 'PT08.S1(CO)', 'PT08.S5(O3)', 'AH', 'Year']].corr(), annot = True)\n",
        "plt.show()"
      ],
      "execution_count": null,
      "outputs": [
        {
          "output_type": "display_data",
          "data": {
            "text/plain": [
              "<Figure size 864x576 with 2 Axes>"
            ],
            "image/png": "[encoded data removed]"
          },
          "metadata": {
            "needs_background": "light"
          }
        }
      ]
    },
    {
      "cell_type": "markdown",
      "metadata": {
        "id": "5ToDUMHaaAin"
      },
      "source": [
        "This multicollienarity causes redundancy because of which we cannot say for sure which of the independent variables are actually contributing to the prediction of the dependent variable.\n",
        "\n",
        "In this case, to remove multicollinearity,\n",
        "\n",
        "- Choose either `T` or `AH` as one of the independent variables. Since the correlation between `RH` and `T` is stronger compared to the correlation between `RH` and `AH`, let's choose `T`.\n",
        "\n",
        "- Choose either `'PT08.S1(CO)'` or `'PT08.S5(O3)'` as one of the independent variables. Since the correlation between `RH` and `PT08.S5(O3)` is stronger compared to the correlation between `RH` and `'PT08.S1(CO)'`, let's choose `PT08.S5(O3)`.\n",
        "\n",
        "- Drop `Year` as it is moderately correlated with `'T'`.\n",
        "\n",
        "Let's create a correlation heatmap again to verify whether the multicollinearity is eliminated or not."
      ]
    },
    {
      "cell_type": "code",
      "metadata": {
        "id": "rsQPQ5hjklEo",
        "colab": {
          "base_uri": "https://localhost:8080/",
          "height": 487
        },
        "outputId": "5443f8be-96af-4dc6-c0fc-1bb54ff8f3af"
      },
      "source": [
        "# S2.4: Create a correlation heatmap between 'RH', 'T', 'PT08.S5(O3)' variables.\n",
        "plt.figure(figsize = (12,8))\n",
        "sns.heatmap(df[['RH', 'T', 'PT08.S1(CO)', 'PT08.S5(O3)']].corr(), annot = True)\n",
        "plt.show()"
      ],
      "execution_count": null,
      "outputs": [
        {
          "output_type": "display_data",
          "data": {
            "text/plain": [
              "<Figure size 864x576 with 2 Axes>"
            ],
            "image/png": "[encoded data removed]"
          },
          "metadata": {
            "needs_background": "light"
          }
        }
      ]
    },
    {
      "cell_type": "markdown",
      "metadata": {
        "id": "cbC9a-WuxSVJ"
      },
      "source": [
        "Now that we have removed multicollinearity and selected the features that are likely to contribute best to the prediction of relative humidity values, let's build a linear regression model again using the `statsmodels.api` module."
      ]
    },
    {
      "cell_type": "code",
      "metadata": {
        "id": "ZRwLZRNvpshr",
        "colab": {
          "base_uri": "https://localhost:8080/"
        },
        "outputId": "c285ec83-6440-4fe4-c6a6-9188085ace4a"
      },
      "source": [
        "# S2.5: Build a linear regression model again with 'T' and 'PT08.S5(O3)' as independent variables to predict 'RH'.\n",
        "X_train = X_train[['T', 'PT08.S5(O3)']]\n",
        "X_test = X_test[['T', 'PT08.S5(O3)']]\n",
        "\n",
        "X_train_sm = sm.add_constant(X_train)\n",
        "\n",
        "# Fit the regression line using 'OLS'\n",
        "lr = sm.OLS(y_train, X_train_sm).fit()\n",
        "\n",
        "# Print the parameters, i.e. the intercept and the slope of the regression line fitted\n",
        "lr.params"
      ],
      "execution_count": null,
      "outputs": [
        {
          "output_type": "execute_result",
          "data": {
            "text/plain": [
              "const          64.956429\n",
              "T              -1.104251\n",
              "PT08.S5(O3)     0.004509\n",
              "dtype: float64"
            ]
          },
          "metadata": {},
          "execution_count": 31
        }
      ]
    },
    {
      "cell_type": "markdown",
      "metadata": {
        "id": "qjrz3ajhySFj"
      },
      "source": [
        "Let's now print the summary table as well."
      ]
    },
    {
      "cell_type": "code",
      "metadata": {
        "id": "AcHrgo8ZrjuR",
        "colab": {
          "base_uri": "https://localhost:8080/"
        },
        "outputId": "2ee7a33e-0423-4ebb-c504-98b0981def53"
      },
      "source": [
        "# S2.6: Print the summary table to get all the parameters for the features used to build a linear regression model.\n",
        "print(lr.summary())"
      ],
      "execution_count": null,
      "outputs": [
        {
          "output_type": "stream",
          "name": "stdout",
          "text": [
            "                            OLS Regression Results                            \n",
            "==============================================================================\n",
            "Dep. Variable:                     RH   R-squared:                       0.335\n",
            "Model:                            OLS   Adj. R-squared:                  0.335\n",
            "Method:                 Least Squares   F-statistic:                     1580.\n",
            "Date:                Sun, 18 Dec 2022   Prob (F-statistic):               0.00\n",
            "Time:                        18:35:19   Log-Likelihood:                -25378.\n",
            "No. Observations:                6269   AIC:                         5.076e+04\n",
            "Df Residuals:                    6266   BIC:                         5.078e+04\n",
            "Df Model:                           2                                         \n",
            "Covariance Type:            nonrobust                                         \n",
            "===============================================================================\n",
            "                  coef    std err          t      P>|t|      [0.025      0.975]\n",
            "-------------------------------------------------------------------------------\n",
            "const          64.9564      0.623    104.206      0.000      63.734      66.178\n",
            "T              -1.1043      0.020    -54.894      0.000      -1.144      -1.065\n",
            "PT08.S5(O3)     0.0045      0.000      9.994      0.000       0.004       0.005\n",
            "==============================================================================\n",
            "Omnibus:                       53.920   Durbin-Watson:                   1.988\n",
            "Prob(Omnibus):                  0.000   Jarque-Bera (JB):               42.161\n",
            "Skew:                          -0.117   Prob(JB):                     7.00e-10\n",
            "Kurtosis:                       2.674   Cond. No.                     3.88e+03\n",
            "==============================================================================\n",
            "\n",
            "Notes:\n",
            "[1] Standard Errors assume that the covariance matrix of the errors is correctly specified.\n",
            "[2] The condition number is large, 3.88e+03. This might indicate that there are\n",
            "strong multicollinearity or other numerical problems.\n"
          ]
        }
      ]
    },
    {
      "cell_type": "markdown",
      "metadata": {
        "id": "kyhQzRnOvUPv"
      },
      "source": [
        "So even after removing multicollinearity, we are getting the same warning again.\n",
        "\n",
        "Let's stop here. In the next class, we learn how to measure multicollinearity and how much of it is tolerable."
      ]
    },
    {
      "cell_type": "markdown",
      "metadata": {
        "id": "zmCdGwirtOkt"
      },
      "source": [
        "---"
      ]
    }
  ]
}