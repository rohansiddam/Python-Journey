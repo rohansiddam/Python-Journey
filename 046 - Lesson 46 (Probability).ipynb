{
  "nbformat": 4,
  "nbformat_minor": 0,
  "metadata": {
    "colab": {
      "provenance": [],
      "include_colab_link": true
    },
    "kernelspec": {
      "name": "python3",
      "display_name": "Python 3"
    }
  },
  "cells": [
    {
      "cell_type": "markdown",
      "metadata": {
        "id": "view-in-github",
        "colab_type": "text"
      },
      "source": [
        "<a href=\"https://colab.research.google.com/github/rohansiddam/Python-Journey/blob/main/046%20-%20Lesson%2046%20(Probability).ipynb\" target=\"_parent\"><img src=\"https://colab.research.google.com/assets/colab-badge.svg\" alt=\"Open In Colab\"/></a>"
      ]
    },
    {
      "cell_type": "markdown",
      "metadata": {
        "id": "Ixpeyh07YH4V"
      },
      "source": [
        "# Lesson 46: Probability"
      ]
    },
    {
      "cell_type": "markdown",
      "metadata": {
        "id": "mupNBfxCY5Hb"
      },
      "source": [
        "### Teacher-Student Activities\n",
        "\n",
        "In this class, we will learn the concept of probability and binomial distribution.\n",
        "\n",
        "Here we have a dataset of 583 patients who were diagnosed for the liver disease. Out of them, 416 patients were tested positive and 167 were tested negative for the liver disease. The data is collected from the North East of Andhra Pradesh, India. We need to find out what is the probability of a patient having the disease. We also need to find out what is the probability of a patient having the disease given that the patient is\n",
        "\n",
        "- a juvenile i.e. a person whose age is less than 18 years.\n",
        "\n",
        "- an adult i.e. a person whose age is greater than or equal to 18 years but less than 50 years.\n",
        "\n",
        "- an elderly i.e. a person whose age is at least 50 years.\n",
        "\n",
        "We also need to create a binomial distribution model to check what is the probability distribution of a patient having a disease.\n",
        "\n",
        "The `Dataset` column is a class label used to divide groups into liver patients (liver disease) or not (no disease). This data set contains 441 male patient records and 142 female patient records.\n",
        "\n",
        "\n",
        "Use these patient records to determine which patients have liver disease and which ones do not."
      ]
    },
    {
      "cell_type": "markdown",
      "metadata": {
        "id": "F-Ow_9kn_6kH"
      },
      "source": [
        "---"
      ]
    },
    {
      "cell_type": "markdown",
      "metadata": {
        "id": "CRz_H9i9W8AZ"
      },
      "source": [
        "#### Data Description\n",
        "\n",
        "The dataset contains the following columns (or features):\n",
        "\n",
        "1. `Age`: Age of the patient. Any patient whose age exceeded 89 is listed as being of age \"90\".\n",
        "\n",
        "2. `Gender`: Gender of the patient\n",
        "\n",
        "3. `Total_Bilirubin`: Total Bilirubin\n",
        "\n",
        "4. `Direct_Bilirubin`: Direct Bilirubin\n",
        "\n",
        "5. `Alkaline_Phosphotase`: Alkaline Phosphatase\n",
        "\n",
        "6. `Alamine_Aminotransferase`: Alamine Aminotransferase\n",
        "\n",
        "7. `Aspartate_Aminotransferase`: Aspartate Aminotransferase\n",
        "\n",
        "8. `Total_Protiens`: Total Proteins\n",
        "\n",
        "9. `Albumin`: Albumin\n",
        "\n",
        "10. `Albumin_and_Globulin_Ratio`: Ratio Albumin and Globulin Ratio\n",
        "\n",
        "11. `Dataset`: Whether a patient has the liver disease or not.\n",
        " `1` means a patient has the liver disease and `2` means a patient does not have the liver disease.\n",
        "\n",
        "Link: https://student-datasets-bucket.s3.ap-south-1.amazonaws.com/whitehat-ds-datasets/indian-liver-patients/indian_liver_patient.csv\n",
        "\n",
        "#### Acknowledgements\n",
        "\n",
        "This dataset was downloaded from the UCI ML Repository:\n",
        "\n",
        "Lichman, M. (2013). [UCI Machine Learning Repository](https:/archive.ics.uci.edu/ml/datasets/ILPD+(Indian+Liver+Patient+Dataset)). Irvine, CA: University of California, School of Information and Computer Science."
      ]
    },
    {
      "cell_type": "markdown",
      "metadata": {
        "id": "fPMppaI5Kim7"
      },
      "source": [
        "---"
      ]
    },
    {
      "cell_type": "markdown",
      "metadata": {
        "id": "gXtjSNhlKjq4"
      },
      "source": [
        "#### Activity 1: Probability\n",
        "\n",
        "*Probability of an outcome or an event is defined as the ratio of the number of favourable outcomes to the total number of possible outcomes.*\n",
        "\n",
        "Consider throwing a die.\n",
        "\n",
        "<img src='https://student-datasets-bucket.s3.ap-south-1.amazonaws.com/images/fair-die.jpg' width=200>\n",
        "\n",
        "It has six sides labelled as 1, 2, 3, 4, 5 and 6. So whenever you throw a die you will get either 1, 2, 3, 4, 5 or 6.\n",
        "\n",
        "Suppose you are playing a game in which you need to get $6$ when you roll a die to win the game. So $6$ is your favourable outcome to win the game. Hence, the probability of getting 6 is **one over six**, i.e. $\\frac{1}{6}$ because there is only **one** favourable outcome (i.e. getting $6$ on dice) out of six possible outcomes.\n",
        "\n",
        "Mathematically, the probability of an outcome or an event $E$ is given by $$P(E) = \\frac{n(E)}{n(S)}$$\n",
        "\n",
        "or\n",
        "\n",
        "$$P(E) = \\frac{\\text{Number of favourable outcomes}}{\\text{Total number of possible outcomes}}$$\n",
        "\n",
        "where\n",
        "\n",
        "- $E$ is a set containing favourable outcomes\n",
        "\n",
        "- $n(E)$ is the number of items contained in the set $E$\n",
        "\n",
        "- $S$ is a set of all possible outcomes which is also known as **sample space**\n",
        "\n",
        "- $n(S)$ the number of items contained in the set $S$\n",
        "\n",
        "In the game of getting $6$ to win the game, the set of favourable outcome(s) is $E = \\{6\\}$ and the set of possible outcomes is $S = \\{1, 2, 3, 4, 5, 6\\}$\n",
        "\n",
        "Hence, the probability of the outcome of getting $6$ is $\\frac{1}{6}$\n",
        "\n",
        "Let's change the rules of the game by saying that a player can take out their pawn only if they get a prime number. In this case, the set of favourable outcomes becomes $E = \\{2, 3, 5\\}$\n",
        "\n",
        "So the probability of taking out the pawn or in other words, the probability of the outcome of getting either 2 or 3 or 5 is $\\frac{3}{6} = \\frac{1}{2}$ because there are three items in the set $E$.\n",
        "\n",
        "**Note:**\n",
        "\n",
        "- Probability is just a measure of finding out which events are more likely to occur. It does not mean that the highly likely events will definitely occur. The probability of an event which definitely will occur is 1. Similarly, the probability of an event which will definitely NOT occur is 0.\n",
        "\n",
        "- The sum of the probability of occurrence of an event and the probability of that event not occurring is always 1.\n",
        "\n",
        "With this idea in mind, let's find out the probability of a patient having the liver disease."
      ]
    },
    {
      "cell_type": "markdown",
      "metadata": {
        "id": "JPxVxpN1bXBj"
      },
      "source": [
        "---"
      ]
    },
    {
      "cell_type": "markdown",
      "metadata": {
        "id": "17CsGemdbXqx"
      },
      "source": [
        "#### Activity 2: Data Preparation\n",
        "\n",
        "Let's prepare the dataset for analysis by:\n",
        "\n",
        "- Treating the null values (if there are any)\n",
        "\n",
        "- Renaming the `Dataset` column with the name `Disease`, the `Alkaline_Phosphotase` column with the name `Alkaline_Phosphatase` and `Alamine_Aminotransferase` column with the name `Alanine_Aminotransferase`\n",
        "\n",
        "- Labelling each patient as a juvenile, an adult or an elderly based on their age\n",
        "\n",
        "- Encoding (or converting) the `Male` and `Female` values for the `Gender` column to the numeric values, i.e., `0` and `1`"
      ]
    },
    {
      "cell_type": "code",
      "metadata": {
        "id": "ZhuYap-dXNI5"
      },
      "source": [
        "# S2.1: Import the libraries.\n",
        "import seaborn as sns\n",
        "import matplotlib.pyplot as plt\n",
        "import pandas as pd\n",
        "import numpy as np"
      ],
      "execution_count": null,
      "outputs": []
    },
    {
      "cell_type": "code",
      "metadata": {
        "id": "L5ix0KhIW6K5"
      },
      "source": [
        "# S2.2: Load the dataset\n",
        "df = pd.read_csv('https://student-datasets-bucket.s3.ap-south-1.amazonaws.com/whitehat-ds-datasets/indian-liver-patients/indian_liver_patient.csv')"
      ],
      "execution_count": null,
      "outputs": []
    },
    {
      "cell_type": "code",
      "metadata": {
        "id": "UzsbSOemXCXq",
        "colab": {
          "base_uri": "https://localhost:8080/"
        },
        "outputId": "c3c3640e-b651-4cd0-f2a4-a77fba91dfc0"
      },
      "source": [
        "# S2.3: Get the dataset information.\n",
        "df.info()"
      ],
      "execution_count": null,
      "outputs": [
        {
          "output_type": "stream",
          "name": "stdout",
          "text": [
            "<class 'pandas.core.frame.DataFrame'>\n",
            "RangeIndex: 583 entries, 0 to 582\n",
            "Data columns (total 11 columns):\n",
            " #   Column                      Non-Null Count  Dtype  \n",
            "---  ------                      --------------  -----  \n",
            " 0   Age                         583 non-null    int64  \n",
            " 1   Gender                      583 non-null    object \n",
            " 2   Total_Bilirubin             583 non-null    float64\n",
            " 3   Direct_Bilirubin            583 non-null    float64\n",
            " 4   Alkaline_Phosphotase        583 non-null    int64  \n",
            " 5   Alamine_Aminotransferase    583 non-null    int64  \n",
            " 6   Aspartate_Aminotransferase  583 non-null    int64  \n",
            " 7   Total_Protiens              583 non-null    float64\n",
            " 8   Albumin                     583 non-null    float64\n",
            " 9   Albumin_and_Globulin_Ratio  579 non-null    float64\n",
            " 10  Dataset                     583 non-null    int64  \n",
            "dtypes: float64(5), int64(5), object(1)\n",
            "memory usage: 50.2+ KB\n"
          ]
        }
      ]
    },
    {
      "cell_type": "code",
      "metadata": {
        "id": "Ewbd0steXDJd",
        "colab": {
          "base_uri": "https://localhost:8080/"
        },
        "outputId": "62c309e8-04be-45f9-bacf-fee3e0d1d2a0"
      },
      "source": [
        "# S2.4: Check for the null values.\n",
        "df.isnull().sum()"
      ],
      "execution_count": null,
      "outputs": [
        {
          "output_type": "execute_result",
          "data": {
            "text/plain": [
              "Age                           0\n",
              "Gender                        0\n",
              "Total_Bilirubin               0\n",
              "Direct_Bilirubin              0\n",
              "Alkaline_Phosphotase          0\n",
              "Alamine_Aminotransferase      0\n",
              "Aspartate_Aminotransferase    0\n",
              "Total_Protiens                0\n",
              "Albumin                       0\n",
              "Albumin_and_Globulin_Ratio    0\n",
              "Dataset                       0\n",
              "dtype: int64"
            ]
          },
          "metadata": {},
          "execution_count": 6
        }
      ]
    },
    {
      "cell_type": "code",
      "metadata": {
        "id": "81SnBkfIaihm"
      },
      "source": [
        "# S2.5: Treat the missing values and check for the null values again.\n",
        "df.loc[df['Albumin_and_Globulin_Ratio'].isnull() == True, 'Albumin_and_Globulin_Ratio'] = df['Albumin_and_Globulin_Ratio'].median()"
      ],
      "execution_count": null,
      "outputs": []
    },
    {
      "cell_type": "markdown",
      "metadata": {
        "id": "d2qRK7aNcgY0"
      },
      "source": [
        "**Renaming a Column**\n",
        "\n",
        "To rename a column in a Pandas DataFrame, use the `rename()` function. It requires a dictionary as an input to the `columns` parameter. The dictionary must contain the old column names and new column names as a key-value pair respectively.\n",
        "\n",
        "**Syntax:** `dataframe.rename(columns=dictionary_of_new_and_old_names)`\n",
        "\n",
        "where `dictionary_of_new_and_old_names` is a dictionary containing old column names and new column names as a key-value pair respectively."
      ]
    },
    {
      "cell_type": "code",
      "metadata": {
        "id": "zSJRKUaDXEgv"
      },
      "source": [
        "# S2.6: Rename the 'Dataset' column with the name 'Disease'. Also, rename the 'Alkaline_Phosphotase' column with 'Alkaline_Phosphatase'\n",
        "# Also, rename the 'Alamine_Aminotransferase' column with 'Alanine_Aminotransferase'\n",
        "df.rename(columns = {'Dataset': 'Disease', 'Alamine_Aminotransferase': 'Alanine_Aminotransferase' , 'Alkaline_Phosphotase' : 'Alkaline_Phosphatase'  },inplace = True )"
      ],
      "execution_count": null,
      "outputs": []
    },
    {
      "cell_type": "markdown",
      "source": [],
      "metadata": {
        "id": "dI9yBRsRTY1O"
      }
    },
    {
      "cell_type": "markdown",
      "metadata": {
        "id": "NISiQZ6CdwKF"
      },
      "source": [
        "**Note:** By setting the `True` value to the `inplace` parameter, we are telling Python to override the current column name permanently. Otherwise, the column will get changed only for that code execution. For further code execution, the original column name will get reset automatically."
      ]
    },
    {
      "cell_type": "code",
      "metadata": {
        "id": "THqhfkxku_H1",
        "colab": {
          "base_uri": "https://localhost:8080/",
          "height": 488
        },
        "outputId": "ee3233e7-94b3-44b2-e93d-9c8337e54c4f"
      },
      "source": [
        "# S2.7: Check whether we have the desired column names.\n",
        "df"
      ],
      "execution_count": null,
      "outputs": [
        {
          "output_type": "execute_result",
          "data": {
            "text/plain": [
              "     Age  Gender  Total_Bilirubin  Direct_Bilirubin  Alkaline_Phosphatase  \\\n",
              "0     65  Female              0.7               0.1                   187   \n",
              "1     62    Male             10.9               5.5                   699   \n",
              "2     62    Male              7.3               4.1                   490   \n",
              "3     58    Male              1.0               0.4                   182   \n",
              "4     72    Male              3.9               2.0                   195   \n",
              "..   ...     ...              ...               ...                   ...   \n",
              "578   60    Male              0.5               0.1                   500   \n",
              "579   40    Male              0.6               0.1                    98   \n",
              "580   52    Male              0.8               0.2                   245   \n",
              "581   31    Male              1.3               0.5                   184   \n",
              "582   38    Male              1.0               0.3                   216   \n",
              "\n",
              "     Alanine_Aminotransferase  Aspartate_Aminotransferase  Total_Protiens  \\\n",
              "0                          16                          18             6.8   \n",
              "1                          64                         100             7.5   \n",
              "2                          60                          68             7.0   \n",
              "3                          14                          20             6.8   \n",
              "4                          27                          59             7.3   \n",
              "..                        ...                         ...             ...   \n",
              "578                        20                          34             5.9   \n",
              "579                        35                          31             6.0   \n",
              "580                        48                          49             6.4   \n",
              "581                        29                          32             6.8   \n",
              "582                        21                          24             7.3   \n",
              "\n",
              "     Albumin  Albumin_and_Globulin_Ratio  Disease  \n",
              "0        3.3                        0.90        1  \n",
              "1        3.2                        0.74        1  \n",
              "2        3.3                        0.89        1  \n",
              "3        3.4                        1.00        1  \n",
              "4        2.4                        0.40        1  \n",
              "..       ...                         ...      ...  \n",
              "578      1.6                        0.37        2  \n",
              "579      3.2                        1.10        1  \n",
              "580      3.2                        1.00        1  \n",
              "581      3.4                        1.00        1  \n",
              "582      4.4                        1.50        2  \n",
              "\n",
              "[583 rows x 11 columns]"
            ],
            "text/html": [
              "\n",
              "  <div id=\"df-23e35104-d43c-43dd-930f-2643f047fd90\">\n",
              "    <div class=\"colab-df-container\">\n",
              "      <div>\n",
              "<style scoped>\n",
              "    .dataframe tbody tr th:only-of-type {\n",
              "        vertical-align: middle;\n",
              "    }\n",
              "\n",
              "    .dataframe tbody tr th {\n",
              "        vertical-align: top;\n",
              "    }\n",
              "\n",
              "    .dataframe thead th {\n",
              "        text-align: right;\n",
              "    }\n",
              "</style>\n",
              "<table border=\"1\" class=\"dataframe\">\n",
              "  <thead>\n",
              "    <tr style=\"text-align: right;\">\n",
              "      <th></th>\n",
              "      <th>Age</th>\n",
              "      <th>Gender</th>\n",
              "      <th>Total_Bilirubin</th>\n",
              "      <th>Direct_Bilirubin</th>\n",
              "      <th>Alkaline_Phosphatase</th>\n",
              "      <th>Alanine_Aminotransferase</th>\n",
              "      <th>Aspartate_Aminotransferase</th>\n",
              "      <th>Total_Protiens</th>\n",
              "      <th>Albumin</th>\n",
              "      <th>Albumin_and_Globulin_Ratio</th>\n",
              "      <th>Disease</th>\n",
              "    </tr>\n",
              "  </thead>\n",
              "  <tbody>\n",
              "    <tr>\n",
              "      <th>0</th>\n",
              "      <td>65</td>\n",
              "      <td>Female</td>\n",
              "      <td>0.7</td>\n",
              "      <td>0.1</td>\n",
              "      <td>187</td>\n",
              "      <td>16</td>\n",
              "      <td>18</td>\n",
              "      <td>6.8</td>\n",
              "      <td>3.3</td>\n",
              "      <td>0.90</td>\n",
              "      <td>1</td>\n",
              "    </tr>\n",
              "    <tr>\n",
              "      <th>1</th>\n",
              "      <td>62</td>\n",
              "      <td>Male</td>\n",
              "      <td>10.9</td>\n",
              "      <td>5.5</td>\n",
              "      <td>699</td>\n",
              "      <td>64</td>\n",
              "      <td>100</td>\n",
              "      <td>7.5</td>\n",
              "      <td>3.2</td>\n",
              "      <td>0.74</td>\n",
              "      <td>1</td>\n",
              "    </tr>\n",
              "    <tr>\n",
              "      <th>2</th>\n",
              "      <td>62</td>\n",
              "      <td>Male</td>\n",
              "      <td>7.3</td>\n",
              "      <td>4.1</td>\n",
              "      <td>490</td>\n",
              "      <td>60</td>\n",
              "      <td>68</td>\n",
              "      <td>7.0</td>\n",
              "      <td>3.3</td>\n",
              "      <td>0.89</td>\n",
              "      <td>1</td>\n",
              "    </tr>\n",
              "    <tr>\n",
              "      <th>3</th>\n",
              "      <td>58</td>\n",
              "      <td>Male</td>\n",
              "      <td>1.0</td>\n",
              "      <td>0.4</td>\n",
              "      <td>182</td>\n",
              "      <td>14</td>\n",
              "      <td>20</td>\n",
              "      <td>6.8</td>\n",
              "      <td>3.4</td>\n",
              "      <td>1.00</td>\n",
              "      <td>1</td>\n",
              "    </tr>\n",
              "    <tr>\n",
              "      <th>4</th>\n",
              "      <td>72</td>\n",
              "      <td>Male</td>\n",
              "      <td>3.9</td>\n",
              "      <td>2.0</td>\n",
              "      <td>195</td>\n",
              "      <td>27</td>\n",
              "      <td>59</td>\n",
              "      <td>7.3</td>\n",
              "      <td>2.4</td>\n",
              "      <td>0.40</td>\n",
              "      <td>1</td>\n",
              "    </tr>\n",
              "    <tr>\n",
              "      <th>...</th>\n",
              "      <td>...</td>\n",
              "      <td>...</td>\n",
              "      <td>...</td>\n",
              "      <td>...</td>\n",
              "      <td>...</td>\n",
              "      <td>...</td>\n",
              "      <td>...</td>\n",
              "      <td>...</td>\n",
              "      <td>...</td>\n",
              "      <td>...</td>\n",
              "      <td>...</td>\n",
              "    </tr>\n",
              "    <tr>\n",
              "      <th>578</th>\n",
              "      <td>60</td>\n",
              "      <td>Male</td>\n",
              "      <td>0.5</td>\n",
              "      <td>0.1</td>\n",
              "      <td>500</td>\n",
              "      <td>20</td>\n",
              "      <td>34</td>\n",
              "      <td>5.9</td>\n",
              "      <td>1.6</td>\n",
              "      <td>0.37</td>\n",
              "      <td>2</td>\n",
              "    </tr>\n",
              "    <tr>\n",
              "      <th>579</th>\n",
              "      <td>40</td>\n",
              "      <td>Male</td>\n",
              "      <td>0.6</td>\n",
              "      <td>0.1</td>\n",
              "      <td>98</td>\n",
              "      <td>35</td>\n",
              "      <td>31</td>\n",
              "      <td>6.0</td>\n",
              "      <td>3.2</td>\n",
              "      <td>1.10</td>\n",
              "      <td>1</td>\n",
              "    </tr>\n",
              "    <tr>\n",
              "      <th>580</th>\n",
              "      <td>52</td>\n",
              "      <td>Male</td>\n",
              "      <td>0.8</td>\n",
              "      <td>0.2</td>\n",
              "      <td>245</td>\n",
              "      <td>48</td>\n",
              "      <td>49</td>\n",
              "      <td>6.4</td>\n",
              "      <td>3.2</td>\n",
              "      <td>1.00</td>\n",
              "      <td>1</td>\n",
              "    </tr>\n",
              "    <tr>\n",
              "      <th>581</th>\n",
              "      <td>31</td>\n",
              "      <td>Male</td>\n",
              "      <td>1.3</td>\n",
              "      <td>0.5</td>\n",
              "      <td>184</td>\n",
              "      <td>29</td>\n",
              "      <td>32</td>\n",
              "      <td>6.8</td>\n",
              "      <td>3.4</td>\n",
              "      <td>1.00</td>\n",
              "      <td>1</td>\n",
              "    </tr>\n",
              "    <tr>\n",
              "      <th>582</th>\n",
              "      <td>38</td>\n",
              "      <td>Male</td>\n",
              "      <td>1.0</td>\n",
              "      <td>0.3</td>\n",
              "      <td>216</td>\n",
              "      <td>21</td>\n",
              "      <td>24</td>\n",
              "      <td>7.3</td>\n",
              "      <td>4.4</td>\n",
              "      <td>1.50</td>\n",
              "      <td>2</td>\n",
              "    </tr>\n",
              "  </tbody>\n",
              "</table>\n",
              "<p>583 rows × 11 columns</p>\n",
              "</div>\n",
              "      <button class=\"colab-df-convert\" onclick=\"convertToInteractive('df-23e35104-d43c-43dd-930f-2643f047fd90')\"\n",
              "              title=\"Convert this dataframe to an interactive table.\"\n",
              "              style=\"display:none;\">\n",
              "        \n",
              "  <svg xmlns=\"http://www.w3.org/2000/svg\" height=\"24px\"viewBox=\"0 0 24 24\"\n",
              "       width=\"24px\">\n",
              "    <path d=\"M0 0h24v24H0V0z\" fill=\"none\"/>\n",
              "    <path d=\"M18.56 5.44l.94 2.06.94-2.06 2.06-.94-2.06-.94-.94-2.06-.94 2.06-2.06.94zm-11 1L8.5 8.5l.94-2.06 2.06-.94-2.06-.94L8.5 2.5l-.94 2.06-2.06.94zm10 10l.94 2.06.94-2.06 2.06-.94-2.06-.94-.94-2.06-.94 2.06-2.06.94z\"/><path d=\"M17.41 7.96l-1.37-1.37c-.4-.4-.92-.59-1.43-.59-.52 0-1.04.2-1.43.59L10.3 9.45l-7.72 7.72c-.78.78-.78 2.05 0 2.83L4 21.41c.39.39.9.59 1.41.59.51 0 1.02-.2 1.41-.59l7.78-7.78 2.81-2.81c.8-.78.8-2.07 0-2.86zM5.41 20L4 18.59l7.72-7.72 1.47 1.35L5.41 20z\"/>\n",
              "  </svg>\n",
              "      </button>\n",
              "      \n",
              "  <style>\n",
              "    .colab-df-container {\n",
              "      display:flex;\n",
              "      flex-wrap:wrap;\n",
              "      gap: 12px;\n",
              "    }\n",
              "\n",
              "    .colab-df-convert {\n",
              "      background-color: #E8F0FE;\n",
              "      border: none;\n",
              "      border-radius: 50%;\n",
              "      cursor: pointer;\n",
              "      display: none;\n",
              "      fill: #1967D2;\n",
              "      height: 32px;\n",
              "      padding: 0 0 0 0;\n",
              "      width: 32px;\n",
              "    }\n",
              "\n",
              "    .colab-df-convert:hover {\n",
              "      background-color: #E2EBFA;\n",
              "      box-shadow: 0px 1px 2px rgba(60, 64, 67, 0.3), 0px 1px 3px 1px rgba(60, 64, 67, 0.15);\n",
              "      fill: #174EA6;\n",
              "    }\n",
              "\n",
              "    [theme=dark] .colab-df-convert {\n",
              "      background-color: #3B4455;\n",
              "      fill: #D2E3FC;\n",
              "    }\n",
              "\n",
              "    [theme=dark] .colab-df-convert:hover {\n",
              "      background-color: #434B5C;\n",
              "      box-shadow: 0px 1px 3px 1px rgba(0, 0, 0, 0.15);\n",
              "      filter: drop-shadow(0px 1px 2px rgba(0, 0, 0, 0.3));\n",
              "      fill: #FFFFFF;\n",
              "    }\n",
              "  </style>\n",
              "\n",
              "      <script>\n",
              "        const buttonEl =\n",
              "          document.querySelector('#df-23e35104-d43c-43dd-930f-2643f047fd90 button.colab-df-convert');\n",
              "        buttonEl.style.display =\n",
              "          google.colab.kernel.accessAllowed ? 'block' : 'none';\n",
              "\n",
              "        async function convertToInteractive(key) {\n",
              "          const element = document.querySelector('#df-23e35104-d43c-43dd-930f-2643f047fd90');\n",
              "          const dataTable =\n",
              "            await google.colab.kernel.invokeFunction('convertToInteractive',\n",
              "                                                     [key], {});\n",
              "          if (!dataTable) return;\n",
              "\n",
              "          const docLinkHtml = 'Like what you see? Visit the ' +\n",
              "            '<a target=\"_blank\" href=https://colab.research.google.com/notebooks/data_table.ipynb>data table notebook</a>'\n",
              "            + ' to learn more about interactive tables.';\n",
              "          element.innerHTML = '';\n",
              "          dataTable['output_type'] = 'display_data';\n",
              "          await google.colab.output.renderOutput(dataTable, element);\n",
              "          const docLink = document.createElement('div');\n",
              "          docLink.innerHTML = docLinkHtml;\n",
              "          element.appendChild(docLink);\n",
              "        }\n",
              "      </script>\n",
              "    </div>\n",
              "  </div>\n",
              "  "
            ]
          },
          "metadata": {},
          "execution_count": 10
        }
      ]
    },
    {
      "cell_type": "markdown",
      "metadata": {
        "id": "cDkmLtNtgskf"
      },
      "source": [
        "**Labelling Age Group**\n",
        "\n",
        "We need to label each patient as\n",
        "\n",
        "- a juvenile i.e. a person whose age is less than 18 years.\n",
        "\n",
        "- an adult i.e. a person whose age is greater than or equal to 18 years but less than 50 years.\n",
        "\n",
        "- an elderly i.e. a person whose age is at least 50 years.\n",
        "\n",
        "so that later we can find out the probability of a patient having the liver disease given that he/she is\n",
        "\n",
        "- a juvenile\n",
        "\n",
        "- an adult\n",
        "\n",
        "- an elderly"
      ]
    },
    {
      "cell_type": "code",
      "metadata": {
        "id": "3UvrAlwXOcKJ"
      },
      "source": [
        "# S2.8: Create a function which takes a Pandas series as an input and returns another Pandas series as an output containing items 1, 2 and 3.\n",
        "def age_group(series1):\n",
        "  series2 = []\n",
        "  for i in series1:\n",
        "    if i < 18:\n",
        "      series2.append(1)\n",
        "    elif (i >= 18 and i < 50):\n",
        "      series2.append(2)\n",
        "    else:\n",
        "      series2.append(3)\n",
        "  return pd.Series(series2, index = series1.index)\n"
      ],
      "execution_count": null,
      "outputs": []
    },
    {
      "cell_type": "code",
      "source": [
        "age_group_data = age_group(df['Age'])\n",
        "age_group_data.value_counts()"
      ],
      "metadata": {
        "colab": {
          "base_uri": "https://localhost:8080/"
        },
        "id": "PHNlyE4KVEi4",
        "outputId": "b2b454cc-ed83-4738-bacb-8bfeb9a6cde6"
      },
      "execution_count": null,
      "outputs": [
        {
          "output_type": "execute_result",
          "data": {
            "text/plain": [
              "2    328\n",
              "3    230\n",
              "1     25\n",
              "dtype: int64"
            ]
          },
          "metadata": {},
          "execution_count": 16
        }
      ]
    },
    {
      "cell_type": "code",
      "metadata": {
        "id": "xOzufwp3Fd1r",
        "colab": {
          "base_uri": "https://localhost:8080/",
          "height": 270
        },
        "outputId": "f8109ba5-6482-4fb0-8137-52f34995be31"
      },
      "source": [
        "# S2.9: Add a new column to the 'df' DataFrame.\n",
        "df['age_group'] = age_group_data\n",
        "df.head()"
      ],
      "execution_count": null,
      "outputs": [
        {
          "output_type": "execute_result",
          "data": {
            "text/plain": [
              "   Age  Gender  Total_Bilirubin  Direct_Bilirubin  Alkaline_Phosphatase  \\\n",
              "0   65  Female              0.7               0.1                   187   \n",
              "1   62    Male             10.9               5.5                   699   \n",
              "2   62    Male              7.3               4.1                   490   \n",
              "3   58    Male              1.0               0.4                   182   \n",
              "4   72    Male              3.9               2.0                   195   \n",
              "\n",
              "   Alanine_Aminotransferase  Aspartate_Aminotransferase  Total_Protiens  \\\n",
              "0                        16                          18             6.8   \n",
              "1                        64                         100             7.5   \n",
              "2                        60                          68             7.0   \n",
              "3                        14                          20             6.8   \n",
              "4                        27                          59             7.3   \n",
              "\n",
              "   Albumin  Albumin_and_Globulin_Ratio  Disease  age_group  \n",
              "0      3.3                        0.90        1          3  \n",
              "1      3.2                        0.74        1          3  \n",
              "2      3.3                        0.89        1          3  \n",
              "3      3.4                        1.00        1          3  \n",
              "4      2.4                        0.40        1          3  "
            ],
            "text/html": [
              "\n",
              "  <div id=\"df-4e847455-914f-4434-b348-d9b83edff9c1\">\n",
              "    <div class=\"colab-df-container\">\n",
              "      <div>\n",
              "<style scoped>\n",
              "    .dataframe tbody tr th:only-of-type {\n",
              "        vertical-align: middle;\n",
              "    }\n",
              "\n",
              "    .dataframe tbody tr th {\n",
              "        vertical-align: top;\n",
              "    }\n",
              "\n",
              "    .dataframe thead th {\n",
              "        text-align: right;\n",
              "    }\n",
              "</style>\n",
              "<table border=\"1\" class=\"dataframe\">\n",
              "  <thead>\n",
              "    <tr style=\"text-align: right;\">\n",
              "      <th></th>\n",
              "      <th>Age</th>\n",
              "      <th>Gender</th>\n",
              "      <th>Total_Bilirubin</th>\n",
              "      <th>Direct_Bilirubin</th>\n",
              "      <th>Alkaline_Phosphatase</th>\n",
              "      <th>Alanine_Aminotransferase</th>\n",
              "      <th>Aspartate_Aminotransferase</th>\n",
              "      <th>Total_Protiens</th>\n",
              "      <th>Albumin</th>\n",
              "      <th>Albumin_and_Globulin_Ratio</th>\n",
              "      <th>Disease</th>\n",
              "      <th>age_group</th>\n",
              "    </tr>\n",
              "  </thead>\n",
              "  <tbody>\n",
              "    <tr>\n",
              "      <th>0</th>\n",
              "      <td>65</td>\n",
              "      <td>Female</td>\n",
              "      <td>0.7</td>\n",
              "      <td>0.1</td>\n",
              "      <td>187</td>\n",
              "      <td>16</td>\n",
              "      <td>18</td>\n",
              "      <td>6.8</td>\n",
              "      <td>3.3</td>\n",
              "      <td>0.90</td>\n",
              "      <td>1</td>\n",
              "      <td>3</td>\n",
              "    </tr>\n",
              "    <tr>\n",
              "      <th>1</th>\n",
              "      <td>62</td>\n",
              "      <td>Male</td>\n",
              "      <td>10.9</td>\n",
              "      <td>5.5</td>\n",
              "      <td>699</td>\n",
              "      <td>64</td>\n",
              "      <td>100</td>\n",
              "      <td>7.5</td>\n",
              "      <td>3.2</td>\n",
              "      <td>0.74</td>\n",
              "      <td>1</td>\n",
              "      <td>3</td>\n",
              "    </tr>\n",
              "    <tr>\n",
              "      <th>2</th>\n",
              "      <td>62</td>\n",
              "      <td>Male</td>\n",
              "      <td>7.3</td>\n",
              "      <td>4.1</td>\n",
              "      <td>490</td>\n",
              "      <td>60</td>\n",
              "      <td>68</td>\n",
              "      <td>7.0</td>\n",
              "      <td>3.3</td>\n",
              "      <td>0.89</td>\n",
              "      <td>1</td>\n",
              "      <td>3</td>\n",
              "    </tr>\n",
              "    <tr>\n",
              "      <th>3</th>\n",
              "      <td>58</td>\n",
              "      <td>Male</td>\n",
              "      <td>1.0</td>\n",
              "      <td>0.4</td>\n",
              "      <td>182</td>\n",
              "      <td>14</td>\n",
              "      <td>20</td>\n",
              "      <td>6.8</td>\n",
              "      <td>3.4</td>\n",
              "      <td>1.00</td>\n",
              "      <td>1</td>\n",
              "      <td>3</td>\n",
              "    </tr>\n",
              "    <tr>\n",
              "      <th>4</th>\n",
              "      <td>72</td>\n",
              "      <td>Male</td>\n",
              "      <td>3.9</td>\n",
              "      <td>2.0</td>\n",
              "      <td>195</td>\n",
              "      <td>27</td>\n",
              "      <td>59</td>\n",
              "      <td>7.3</td>\n",
              "      <td>2.4</td>\n",
              "      <td>0.40</td>\n",
              "      <td>1</td>\n",
              "      <td>3</td>\n",
              "    </tr>\n",
              "  </tbody>\n",
              "</table>\n",
              "</div>\n",
              "      <button class=\"colab-df-convert\" onclick=\"convertToInteractive('df-4e847455-914f-4434-b348-d9b83edff9c1')\"\n",
              "              title=\"Convert this dataframe to an interactive table.\"\n",
              "              style=\"display:none;\">\n",
              "        \n",
              "  <svg xmlns=\"http://www.w3.org/2000/svg\" height=\"24px\"viewBox=\"0 0 24 24\"\n",
              "       width=\"24px\">\n",
              "    <path d=\"M0 0h24v24H0V0z\" fill=\"none\"/>\n",
              "    <path d=\"M18.56 5.44l.94 2.06.94-2.06 2.06-.94-2.06-.94-.94-2.06-.94 2.06-2.06.94zm-11 1L8.5 8.5l.94-2.06 2.06-.94-2.06-.94L8.5 2.5l-.94 2.06-2.06.94zm10 10l.94 2.06.94-2.06 2.06-.94-2.06-.94-.94-2.06-.94 2.06-2.06.94z\"/><path d=\"M17.41 7.96l-1.37-1.37c-.4-.4-.92-.59-1.43-.59-.52 0-1.04.2-1.43.59L10.3 9.45l-7.72 7.72c-.78.78-.78 2.05 0 2.83L4 21.41c.39.39.9.59 1.41.59.51 0 1.02-.2 1.41-.59l7.78-7.78 2.81-2.81c.8-.78.8-2.07 0-2.86zM5.41 20L4 18.59l7.72-7.72 1.47 1.35L5.41 20z\"/>\n",
              "  </svg>\n",
              "      </button>\n",
              "      \n",
              "  <style>\n",
              "    .colab-df-container {\n",
              "      display:flex;\n",
              "      flex-wrap:wrap;\n",
              "      gap: 12px;\n",
              "    }\n",
              "\n",
              "    .colab-df-convert {\n",
              "      background-color: #E8F0FE;\n",
              "      border: none;\n",
              "      border-radius: 50%;\n",
              "      cursor: pointer;\n",
              "      display: none;\n",
              "      fill: #1967D2;\n",
              "      height: 32px;\n",
              "      padding: 0 0 0 0;\n",
              "      width: 32px;\n",
              "    }\n",
              "\n",
              "    .colab-df-convert:hover {\n",
              "      background-color: #E2EBFA;\n",
              "      box-shadow: 0px 1px 2px rgba(60, 64, 67, 0.3), 0px 1px 3px 1px rgba(60, 64, 67, 0.15);\n",
              "      fill: #174EA6;\n",
              "    }\n",
              "\n",
              "    [theme=dark] .colab-df-convert {\n",
              "      background-color: #3B4455;\n",
              "      fill: #D2E3FC;\n",
              "    }\n",
              "\n",
              "    [theme=dark] .colab-df-convert:hover {\n",
              "      background-color: #434B5C;\n",
              "      box-shadow: 0px 1px 3px 1px rgba(0, 0, 0, 0.15);\n",
              "      filter: drop-shadow(0px 1px 2px rgba(0, 0, 0, 0.3));\n",
              "      fill: #FFFFFF;\n",
              "    }\n",
              "  </style>\n",
              "\n",
              "      <script>\n",
              "        const buttonEl =\n",
              "          document.querySelector('#df-4e847455-914f-4434-b348-d9b83edff9c1 button.colab-df-convert');\n",
              "        buttonEl.style.display =\n",
              "          google.colab.kernel.accessAllowed ? 'block' : 'none';\n",
              "\n",
              "        async function convertToInteractive(key) {\n",
              "          const element = document.querySelector('#df-4e847455-914f-4434-b348-d9b83edff9c1');\n",
              "          const dataTable =\n",
              "            await google.colab.kernel.invokeFunction('convertToInteractive',\n",
              "                                                     [key], {});\n",
              "          if (!dataTable) return;\n",
              "\n",
              "          const docLinkHtml = 'Like what you see? Visit the ' +\n",
              "            '<a target=\"_blank\" href=https://colab.research.google.com/notebooks/data_table.ipynb>data table notebook</a>'\n",
              "            + ' to learn more about interactive tables.';\n",
              "          element.innerHTML = '';\n",
              "          dataTable['output_type'] = 'display_data';\n",
              "          await google.colab.output.renderOutput(dataTable, element);\n",
              "          const docLink = document.createElement('div');\n",
              "          docLink.innerHTML = docLinkHtml;\n",
              "          element.appendChild(docLink);\n",
              "        }\n",
              "      </script>\n",
              "    </div>\n",
              "  </div>\n",
              "  "
            ]
          },
          "metadata": {},
          "execution_count": 18
        }
      ]
    },
    {
      "cell_type": "markdown",
      "metadata": {
        "id": "XzsuC8SNvCIS"
      },
      "source": [
        "**Encoding Gender**\n",
        "\n",
        "Encode (or convert) the `Male` and `Female` values for the `Gender` column to the numeric values, i.e., `0` and `1`. For this, we can use the `replace()` function."
      ]
    },
    {
      "cell_type": "code",
      "metadata": {
        "id": "GUIaT4MhyDfe",
        "colab": {
          "base_uri": "https://localhost:8080/"
        },
        "outputId": "ce982727-449f-42a5-8698-18e0f23e4a73"
      },
      "source": [
        "# S2.10: Find the number of male and female patients before encoding.\n",
        "df['Gender'].value_counts()"
      ],
      "execution_count": null,
      "outputs": [
        {
          "output_type": "execute_result",
          "data": {
            "text/plain": [
              "Male      441\n",
              "Female    142\n",
              "Name: Gender, dtype: int64"
            ]
          },
          "metadata": {},
          "execution_count": 19
        }
      ]
    },
    {
      "cell_type": "code",
      "metadata": {
        "id": "uA2ANlQzvOZf"
      },
      "source": [
        "# S2.11: Encode the 'Male' & 'Female' values for the 'Gender' column to the numeric values, i.e. 0 and 1.\n",
        "df['Gender'].replace({'Male': 0, 'Female': 1}, inplace = True)"
      ],
      "execution_count": null,
      "outputs": []
    },
    {
      "cell_type": "markdown",
      "metadata": {
        "id": "D8HndcEO1L-3"
      },
      "source": [
        "**Note:** By setting the `True` value to the `inplace` parameter, we are telling Python to override the current values in the `Gender` column permanently. Otherwise, the gender values will get changed only for that code execution. For further code execution, the original gender values will get reset automatically."
      ]
    },
    {
      "cell_type": "code",
      "metadata": {
        "id": "gXnNlnPswstL",
        "colab": {
          "base_uri": "https://localhost:8080/"
        },
        "outputId": "74ecda51-9ba4-4b96-d4a2-77c9822bc847"
      },
      "source": [
        "# S2.12: Find the number of male and female patients after encoding.\n",
        "df['Gender'].value_counts()"
      ],
      "execution_count": null,
      "outputs": [
        {
          "output_type": "execute_result",
          "data": {
            "text/plain": [
              "0    441\n",
              "1    142\n",
              "Name: Gender, dtype: int64"
            ]
          },
          "metadata": {},
          "execution_count": 21
        }
      ]
    },
    {
      "cell_type": "markdown",
      "metadata": {
        "id": "t8yZTF00uvkz"
      },
      "source": [
        "---"
      ]
    },
    {
      "cell_type": "markdown",
      "metadata": {
        "id": "izRk-s8guwiK"
      },
      "source": [
        "#### Activity 3: Computing Probabilities\n",
        "\n",
        "Let's answer the following questions:\n",
        "\n",
        "1. What is the probability that a patient is a juvenile?\n",
        "\n",
        "2. What is the probability that a patient is an adult?\n",
        "\n",
        "3. What is the probability that a patient is an elderly?\n",
        "\n",
        "4. What is the probability that a patient has the liver disease given that the patient is a juvenile?\n",
        "\n",
        "5. What is the probability that a patient has the liver disease given that the patient is an adult?\n",
        "\n",
        "6. What is the probability that a patient has the liver disease given that the patient is an elderly?"
      ]
    },
    {
      "cell_type": "code",
      "metadata": {
        "id": "JpHZrDitRXro",
        "colab": {
          "base_uri": "https://localhost:8080/"
        },
        "outputId": "983fb247-ad0b-4b46-d91c-96a99be5555d"
      },
      "source": [
        "# S3.1 Find the number of patients who are juveniles, adults and elderlies.\n",
        "df['age_group'].value_counts()"
      ],
      "execution_count": null,
      "outputs": [
        {
          "output_type": "execute_result",
          "data": {
            "text/plain": [
              "2    328\n",
              "3    230\n",
              "1     25\n",
              "Name: age_group, dtype: int64"
            ]
          },
          "metadata": {},
          "execution_count": 23
        }
      ]
    },
    {
      "cell_type": "markdown",
      "metadata": {
        "id": "eQ7F4UxwRdOJ"
      },
      "source": [
        "Juveniles are very few in number."
      ]
    },
    {
      "cell_type": "code",
      "metadata": {
        "id": "rrGA0fp_Rhtl"
      },
      "source": [
        "# S3.2: What is the probability that a patient is a juvenile? What is the probability that a patient is an adult?\n",
        "# What is the probability that a patient is an elderly?\n",
        "prob_juve = sum(df['age_group'] == 1) / df.shape[0]\n",
        "prob_adult = sum(df['age_group'] == 2) / df.shape[0]\n",
        "prob_elderly = sum(df['age_group'] == 3) / df.shape[0]"
      ],
      "execution_count": null,
      "outputs": []
    },
    {
      "cell_type": "markdown",
      "metadata": {
        "id": "Xs7eu9icSaDu"
      },
      "source": [
        "As expected, the probability that a patient having the liver disease is an adult is the greatest amongst the three age groups.\n",
        "\n",
        "The sum of the above three probabilities should be one."
      ]
    },
    {
      "cell_type": "code",
      "metadata": {
        "id": "jDyYiLnzBAtE",
        "colab": {
          "base_uri": "https://localhost:8080/"
        },
        "outputId": "a2a882ea-d9ed-41c4-f0d8-337e008144da"
      },
      "source": [
        "# S3.3: Calculate the sum of the above three probabilities.\n",
        "print(prob_juve)\n",
        "print(prob_adult)\n",
        "print(prob_elderly)\n",
        "\n",
        "sum_prob = prob_juve + prob_adult + prob_elderly\n",
        "sum_prob"
      ],
      "execution_count": null,
      "outputs": [
        {
          "output_type": "stream",
          "name": "stdout",
          "text": [
            "0.04288164665523156\n",
            "0.5626072041166381\n",
            "0.39451114922813035\n"
          ]
        },
        {
          "output_type": "execute_result",
          "data": {
            "text/plain": [
              "1.0"
            ]
          },
          "metadata": {},
          "execution_count": 28
        }
      ]
    },
    {
      "cell_type": "markdown",
      "metadata": {
        "id": "AxdXbQgay5QT"
      },
      "source": [
        "The remaining three probabilities\n",
        "\n",
        "- What is the probability that a patient has the liver disease given that the patient is a juvenile?\n",
        "\n",
        "- What is the probability that a patient has the liver disease given that the patient is an adult?\n",
        "\n",
        "- What is the probability that a patient has the liver disease given that the patient is an elderly?\n",
        "\n",
        "are **conditional probabilities** because they have a condition involved in them.\n",
        "\n",
        "- In the first case, the condition is that a patient is a juvenile.\n",
        "\n",
        "- In the second case, the condition is that a patient is an adult.\n",
        "\n",
        "- In the third case, the condition is that a patient is an elderly.\n",
        "\n",
        "So to solve the first case, we need to find the number of patients amongst the juveniles having the disease, then calculate the probability of juveniles having the liver disease and then multiply it with the probability that a patient is a juvenile.\n",
        "\n",
        "<img src='https://student-datasets-bucket.s3.ap-south-1.amazonaws.com/images/prob_juve_img1.png' width=700>\n",
        "\n",
        "We will repeat the same process for the adults and the elderlies as well.\n",
        "\n",
        "<img src='https://student-datasets-bucket.s3.ap-south-1.amazonaws.com/images/prob_juve_img2.png' width=700>\n",
        "\n",
        "\n"
      ]
    },
    {
      "cell_type": "code",
      "metadata": {
        "id": "YcHhZqiQv06N",
        "colab": {
          "base_uri": "https://localhost:8080/"
        },
        "outputId": "77b85331-6294-4a25-a383-2223bedce942"
      },
      "source": [
        "# S3.4: Find the probability that a patient has the liver disease given that they are a juvenile.\n",
        "# Also, find the probability that a patient doesn't have the liver disease given that they are a juvenile.\n",
        "df_juve = df[df['age_group'] == 1]\n",
        "df_adult = df[df['age_group'] == 2]\n",
        "df_elderly = df[df['age_group'] == 3]\n",
        "\n",
        "prob_disease_juve = sum(df_juve['Disease'] == 1) / df_juve.shape[0]\n",
        "prob_not_disease_juve = sum(df_juve['Disease'] == 2) / df_juve.shape[0]\n",
        "\n",
        "print(prob_disease_juve * prob_juve)\n",
        "print(prob_not_disease_juve * prob_juve)"
      ],
      "execution_count": null,
      "outputs": [
        {
          "output_type": "stream",
          "name": "stdout",
          "text": [
            "0.020583190394511147\n",
            "0.022298456260720412\n"
          ]
        }
      ]
    },
    {
      "cell_type": "markdown",
      "metadata": {
        "id": "AByoR9bO2nZU"
      },
      "source": [
        "The probability tree now looks like this\n",
        "\n",
        "<img src='https://student-datasets-bucket.s3.ap-south-1.amazonaws.com/images/prob_juve_img3.png' width=700>\n"
      ]
    },
    {
      "cell_type": "code",
      "metadata": {
        "id": "DBQ_4gSXxWuJ",
        "colab": {
          "base_uri": "https://localhost:8080/"
        },
        "outputId": "3fba98e4-7ed9-4641-c5b7-325dd942f070"
      },
      "source": [
        "# S3.5: Find the probability that a patient has the liver disease given that they are an adult.\n",
        "# Also, find the probability that a patient doesn't have the liver disease given that they are an adult.\n",
        "prob_disease_adult = sum(df_adult['Disease'] == 2) / df_juve.shape[0]\n",
        "prob_not_disease_adult = sum(df_adult['Disease'] == 1) / df_juve.shape[0]\n",
        "\n",
        "print(prob_disease_adult * prob_adult)\n",
        "print(prob_not_disease_adult * prob_adult)"
      ],
      "execution_count": null,
      "outputs": [
        {
          "output_type": "stream",
          "name": "stdout",
          "text": [
            "2.227924528301887\n",
            "5.153481989708405\n"
          ]
        }
      ]
    },
    {
      "cell_type": "markdown",
      "metadata": {
        "id": "eT6tFMTM5jRb"
      },
      "source": [
        "The probability tree now looks like this\n",
        "\n",
        "<img src='https://student-datasets-bucket.s3.ap-south-1.amazonaws.com/images/prob_juve_img4.png' width=700>\n"
      ]
    },
    {
      "cell_type": "code",
      "metadata": {
        "id": "DyiECdM6yNOJ",
        "colab": {
          "base_uri": "https://localhost:8080/"
        },
        "outputId": "3af3fce0-b80e-4907-8bb9-857e9b771050"
      },
      "source": [
        "# S3.6: Find the probability that a patient has the liver disease given that they are an elderly.\n",
        "# Also, find the probability that a patient doesn't have the liver disease given that they are an elderly.\n",
        "prob_disease_elderly = sum(df_elderly['Disease'] == 2) / df_elderly.shape[0]\n",
        "prob_not_disease_elderly = sum(df_elderly['Disease'] == 1) / df_elderly.shape[0]\n",
        "\n",
        "juve = df.loc[(df['age_group'] == 1) & (df['Disease'] == 1), 'age_group'].shape[0] / df.shape[0]\n",
        "print(juve)\n",
        "\n",
        "print(prob_disease_elderly * prob_elderly)\n",
        "print(prob_not_disease_elderly * prob_elderly)"
      ],
      "execution_count": null,
      "outputs": [
        {
          "output_type": "stream",
          "name": "stdout",
          "text": [
            "0.02058319039451115\n",
            "0.09433962264150944\n",
            "0.30017152658662094\n"
          ]
        }
      ]
    },
    {
      "cell_type": "markdown",
      "metadata": {
        "id": "jOwspnKj7dxW"
      },
      "source": [
        "The probability tree now looks like this\n",
        "\n",
        "<img src='https://student-datasets-bucket.s3.ap-south-1.amazonaws.com/images/prob_juve_img5.png' width=700>\n"
      ]
    },
    {
      "cell_type": "markdown",
      "metadata": {
        "id": "q-0bv0rQxf8a"
      },
      "source": [
        "You can collect the favourable cases, i.e, the juvenile patients having the disease using the `&` operator and the calculate the probabilities."
      ]
    },
    {
      "cell_type": "code",
      "metadata": {
        "id": "9argy0GgTD8T"
      },
      "source": [
        "# T3.1: Find the probability that a patient has the liver disease given that they are a juvenile.\n",
        "# Also, find the probability that a patient doesn't have the liver disease given that they are a juvenile.\n"
      ],
      "execution_count": null,
      "outputs": []
    },
    {
      "cell_type": "markdown",
      "metadata": {
        "id": "X64RV6oM-KRD"
      },
      "source": [
        "**Note:** We can apply the `&` operator only when the occurrence of two events are independent of each other. Age is not the cause of the liver disease. Hence, age and liver disease are independent of each other. Statistically, there is a relatively high probability that an adult is more likely to have the  disease. Still, it doesn't mean that age is the cause of liver diseases.\n",
        "\n",
        "It is the same as saying that it is not necessary that all tall players are good basketball players. The tall players have more advantage than short players."
      ]
    },
    {
      "cell_type": "code",
      "metadata": {
        "id": "jUTSkhHT9VuA",
        "colab": {
          "base_uri": "https://localhost:8080/"
        },
        "outputId": "b16dd54e-2f53-419f-c2ee-9c64b65acf73"
      },
      "source": [
        "# S3.7: Find the remaining two conditional probabilities.\n",
        "adult = df.loc[(df['age_group'] == 2) & (df['Disease'] == 1), 'age_group'].shape[0] / df.shape[0]\n",
        "print(adult)\n",
        "\n",
        "adult_no_disease = df.loc[(df['age_group'] == 2) & (df['Disease'] == 2), 'age_group'].shape[0] / df.shape[0]\n",
        "print(adult_no_disease)\n",
        "\n",
        "elderly = df.loc[(df['age_group'] == 3) & (df['Disease'] == 1), 'age_group'].shape[0] / df.shape[0]\n",
        "print(elderly)\n",
        "\n",
        "elderly_no_disease = df.loc[(df['age_group'] == 3) & (df['Disease'] == 2), 'age_group'].shape[0] / df.shape[0]\n",
        "print(elderly_no_disease)"
      ],
      "execution_count": null,
      "outputs": [
        {
          "output_type": "stream",
          "name": "stdout",
          "text": [
            "0.3927958833619211\n",
            "0.16981132075471697\n",
            "0.30017152658662094\n",
            "0.09433962264150944\n"
          ]
        }
      ]
    },
    {
      "cell_type": "markdown",
      "metadata": {
        "id": "HupItHMm_uC8"
      },
      "source": [
        "So the conditional probabilities match with the ones calculated earlier."
      ]
    },
    {
      "cell_type": "markdown",
      "metadata": {
        "id": "v_ausdG9qe9s"
      },
      "source": [
        "---"
      ]
    }
  ]
}