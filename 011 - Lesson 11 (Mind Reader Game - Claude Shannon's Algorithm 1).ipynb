{
  "nbformat": 4,
  "nbformat_minor": 0,
  "metadata": {
    "colab": {
      "provenance": [],
      "include_colab_link": true
    },
    "kernelspec": {
      "name": "python3",
      "display_name": "Python 3"
    }
  },
  "cells": [
    {
      "cell_type": "markdown",
      "metadata": {
        "id": "view-in-github",
        "colab_type": "text"
      },
      "source": [
        "<a href=\"https://colab.research.google.com/github/rohansiddam/Python-Journey/blob/main/011%20-%20Lesson%2011%20(Mind%20Reader%20Game%20-%20Claude%20Shannon's%20Algorithm%201).ipynb\" target=\"_parent\"><img src=\"https://colab.research.google.com/assets/colab-badge.svg\" alt=\"Open In Colab\"/></a>"
      ]
    },
    {
      "cell_type": "markdown",
      "metadata": {
        "id": "gGOahF4k7-t2"
      },
      "source": [
        "# Lesson 11: Mind Reader Game - Claude Shannon's Algorithm I"
      ]
    },
    {
      "cell_type": "markdown",
      "metadata": {
        "id": "FeyN19o4gC_P"
      },
      "source": [
        "### Teacher-Student Activities\n",
        "\n",
        "The Mind Reader game algorithm is built around the machine invented by Claude Shannon in 1953. He named it \"A Mind Reading Machine\". It predicts a player's next move based on his/her previous inputs.\n",
        "\n",
        "You can read about the machine by clicking on the following link provided in the **Activities** section under the title **A Mind Reader Machine - Claude E. Shannon**\n",
        "\n",
        "**Note:** *The algorithm is quite complicated to understand and to create. For all practical purposes, you just need to know how to apply the algorithm. It is completely all right if you do not understand how to create this algorithm.*\n",
        "\n",
        "In this algorithm, the computer looks for certain patterns in the player inputs (`Heads` or `Tails`) and tries to remember them. Furthermore, it assumes that the player will follow these patterns the next time if the same situation arises.\n",
        "\n",
        "The computer also contains an element of randomness. If an assumed pattern is not repeated at least twice by the player, the machine predicts `Heads` or `Tails` randomly.\n",
        "\n",
        "The types of patterns remembered, involve the outcome of two successive plays, i.e., whether or not the player won on those plays and whether the player changed their choice between the plays and after the plays.\n",
        "\n",
        "There are 8 possible situations and, for each situation, a player can do two things. These 8 situations are:\n",
        "\n",
        "1. The player **wins**, plays the **same** and **wins** again. The player then plays the same or plays differently.\n",
        "\n",
        "    - For example, a player plays `Heads`, wins, then plays `Heads` again and wins again. In the next attempt, he/she may play either `Heads` or `Tails`.\n",
        "\n",
        "2. The player **wins**, plays the **same** and **loses**. The player then plays the same or plays differently.\n",
        "\n",
        "    - For example, a player plays `Heads`, wins, then plays `Heads` again and loses. In the next attempt, he/she may play either `Heads` or `Tails`.\n",
        "\n",
        "3. The player **wins**, plays **differently** and **wins** again. The player then plays the same or plays differently.\n",
        "\n",
        "    - For example, a player plays `Heads`, wins, then plays `Tails` and wins again. In the next attempt, he/she may play either `Heads` or `Tails`.\n",
        "\n",
        "4. The player **wins**, plays **differently** and **loses**. The player then plays the same or plays differently.\n",
        "\n",
        "    - For example, a player plays `Heads`, wins, then plays `Tails` and loses. In the next attempt, he/she may play either `Heads` or `Tails`.\n",
        "\n",
        "5. The player **loses**, plays the **same** and **wins**. The player then plays the same or plays differently.\n",
        "\n",
        "    - For example, a player plays `Heads`, loses, then plays `Heads` again and wins. In the next attempt, he/she may play either `Heads` or `Tails`.\n",
        "\n",
        "6. The player **loses**, plays the **same** and **loses** again. The player then plays the same or plays differently.\n",
        "\n",
        "    - For example, a player plays `Heads`, loses, then plays `Heads` again and loses again. In the next attempt, he/she may play either `Heads` or `Tails`.\n",
        "\n",
        "7. The player **loses**, plays **differently** and **wins**. The player then plays the same or plays differently.\n",
        "\n",
        "    - For example, a player plays `Heads`, loses, then plays `Tails` and wins. In the next attempt, he/she may play either `Heads` or `Tails`.\n",
        "\n",
        "8. The player **loses**, plays **differently** and **loses** again. The player then plays the same or plays differently.\n",
        "\n",
        "    - For example, a player plays `Heads`, loses, then plays `Tails` and loses again. In the next attempt, he/she may play either `Heads` or `Tails`.\n",
        "\n",
        "Each situation corresponds to a different cell in the memory of a machine. Within a cell, two events are registered:\n",
        "\n",
        "1. Whether the last time this situation arose, the player played the same or different.\n",
        "\n",
        "2. Whether or not the behaviour indicated in the first point, was a repeat of the same behaviour in the preceding situation.\n",
        "\n",
        "Consider the situation **win**, **same** and **lose**, i.e., the second situation out of the 8 possible situations.\n",
        "\n",
        "Suppose that the last time the second situation occurred, the player played **differently**. So **differently** is recorded in the first part of the memory cell. If at the preceding juncture, the second situation arose and the player again played **differently**, the second part of the memory cell registers this as a repeat.\n",
        "\n",
        "If this situation arises again, the machine will assume that this is a definite pattern in the player's behaviour and will play accordingly. If the player does not repeat, the machine makes prediction randomly. The memory cells are always kept up to date.\n"
      ]
    },
    {
      "cell_type": "markdown",
      "metadata": {
        "id": "vL7dQK1WMYOj"
      },
      "source": [
        "Taking inspiration from Claude Shannon's \"A Mind Reading Machine\", in our algorithm, we will create three-dimensional array having 2 blocks, 2 rows and 2 columns to keep track of the last two player inputs and the current player input.\n",
        "\n",
        "```\n",
        "[[[0, 0],\n",
        "  [0, 0]],\n",
        "\n",
        " [[0, 0],\n",
        "  [0, 0]]]\n",
        "```\n",
        "\n",
        "So, for a combination of the last two player inputs and the current player input, if a situation is repeated then we will store `1` in the second column of the array otherwise, we will store `0`.\n",
        "\n",
        "\n",
        "Here's the implementation of the Cluade Shannon's \"A Mind Reading Machine\" based algorithm in Python. We will cover half of it in this class and the remaining half in the next class as it is a very complicated and a very lengthy algorithm.\n",
        "\n",
        "```\n",
        "import random\n",
        "import numpy as np\n",
        "\n",
        "inputs = np.zeros(shape=(2, 2, 2), dtype=int)\n",
        "\n",
        "last_1 = 0\n",
        "last_2 = 0\n",
        "\n",
        "scores = [0, 0] # [computer_score, player_score]\n",
        "\n",
        "def update_inputs(current):\n",
        "  global last_1, last_2\n",
        "  if inputs[last_2][last_1][0] == current:\n",
        "    inputs[last_2][last_1][1] = 1\n",
        "    inputs[last_2][last_1][0] = current\n",
        "  else:\n",
        "    inputs[last_2][last_1][1] = 0\n",
        "    inputs[last_2][last_1][0] = current\n",
        "  \n",
        "  last_1 = current # current becomes last_1\n",
        "  last_2 = last_1 # last_1 becomes last_2\n",
        "    \n",
        "def prediction():\n",
        "  if inputs[last_2][last_1][1] == 1:\n",
        "    predict = inputs[last_2][last_1][0]    \n",
        "  else:\n",
        "    predict = random.randint(0, 1)  \n",
        "  return predict\n",
        "\n",
        "def update_scores(predicted, player_input):  \n",
        "  if predicted == player_input:\n",
        "    scores[0] = scores[0] + 1\n",
        "    print(\"\\nComputer Score:\", scores[0], \"\\nYour Score: \", scores[1])\n",
        "        \n",
        "  else:\n",
        "    scores[1] = scores[0] + 1\n",
        "    print(\"\\nComputer Score:\", scores[0], \"\\nYour Score:\", scores[1])\n",
        "\n",
        "def reset():\n",
        "  for i in range(2):\n",
        "    for j in range(2):\n",
        "      for k in range(2):\n",
        "        inputs[i][j][k] = 0\n",
        "  \n",
        "  for i in range(2):\n",
        "    scores[i] = 0\n",
        "\n",
        "def gameplay():\n",
        "  reset()\n",
        "  valid_entries = ['0', '1']\n",
        "  while True:\n",
        "    player_input = input(\"\\nEnter either 1 or 0: \")\n",
        "    \n",
        "    while player_input not in valid_entries:\n",
        "      print(\"\\nInvalid Input!\")\n",
        "      player_input = input(\"Please enter either 1 or 0: \")\n",
        "    \n",
        "    player_input = int(player_input)  \n",
        "    predicted = prediction()\n",
        "    update(player_input)\n",
        "    update_scores(predicted, player_input)\n",
        "        \n",
        "    if scores[0] == 50:\n",
        "      print(\"\\nBad Luck, Computer Wins!\\n\")\n",
        "      break\n",
        "        \n",
        "    elif scores[1] == 50:\n",
        "      print(\"\\nCongrats, You Won!\\n\")\n",
        "      break\n",
        "```\n",
        "\n",
        "Let's get started."
      ]
    },
    {
      "cell_type": "markdown",
      "metadata": {
        "id": "l_ahJm30UqfP"
      },
      "source": [
        "---"
      ]
    },
    {
      "cell_type": "markdown",
      "metadata": {
        "id": "6D8fIaMVC6dM"
      },
      "source": [
        "#### Activity 1: Last Two Players Inputs\n",
        "\n",
        "Let's create two variables: `last_1` and `last_2` to keep a track of the last two inputs of a player. Also, let's set their initial values equal to `0`."
      ]
    },
    {
      "cell_type": "code",
      "metadata": {
        "id": "HoQ6NypDBUaO"
      },
      "source": [
        "# Student Action: Create two variables; 'last_1' and 'last_2' with 0 as their initial values.\n",
        "last_1 = 0\n",
        "last_2 = 0"
      ],
      "execution_count": null,
      "outputs": []
    },
    {
      "cell_type": "markdown",
      "metadata": {
        "id": "M6zlCpmnxc8L"
      },
      "source": [
        "\n",
        "- `last_1` stores the last player input.\n",
        "\n",
        "- `last_2` stores the second-last player input.\n"
      ]
    },
    {
      "cell_type": "markdown",
      "metadata": {
        "id": "nYg8ypDcMCnt"
      },
      "source": [
        "\n",
        "\n",
        "---"
      ]
    },
    {
      "cell_type": "markdown",
      "metadata": {
        "id": "N3o05TxC_u4b"
      },
      "source": [
        "#### Activity 2: NumPy Array\n",
        "\n",
        "Now, let's create a three-dimensional NumPy array which has 2 blocks, 2 rows and 2 columns such that all the initial items are `0`. Let's store it in the `inputs` variable.\n",
        "\n",
        "```\n",
        "inputs = [[[0 0],\n",
        "           [0 0]],\n",
        "\n",
        "          [[0 0],\n",
        "           [0 0]]]\n",
        "```"
      ]
    },
    {
      "cell_type": "code",
      "metadata": {
        "id": "rRxf3tCIAMUZ",
        "colab": {
          "base_uri": "https://localhost:8080/"
        },
        "outputId": "274ee6da-bf11-4807-af28-5c4e514b8973"
      },
      "source": [
        "# Student Action: Create a 3D NumPy array of size (2, 2, 2) whose all the elements are 0.\n",
        "import numpy as np\n",
        "inputs = np.zeros((2,2,2),dtype = int)\n",
        "print(inputs)"
      ],
      "execution_count": null,
      "outputs": [
        {
          "output_type": "stream",
          "name": "stdout",
          "text": [
            "[[[0 0]\n",
            "  [0 0]]\n",
            "\n",
            " [[0 0]\n",
            "  [0 0]]]\n"
          ]
        }
      ]
    },
    {
      "cell_type": "markdown",
      "metadata": {
        "id": "UdJPOfrTaLvx"
      },
      "source": [
        "The `inputs` array acts as a memory for the Mind Reader game.\n",
        "\n",
        "- The first column (`column_index = 0`) of the `inputs` array will store the current player input.\n",
        "\n",
        "- The second column (`column_index = 1`) will store whether a situation (out of the 8 possible situations) is repeated or not. The 8 possible situations are:\n",
        "\n",
        "|Situation|Second-Last Play|Last Play|Current Player Input|\n",
        "|-|-|-|-|\n",
        "|1.|`0`|`0`|`0`|\n",
        "|2.|`0`|`0`|`1`|\n",
        "|3.|`0`|`1`|`0`|\n",
        "|4.|`0`|`1`|`1`|\n",
        "|5.|`1`|`0`|`0`|\n",
        "|6.|`1`|`0`|`1`|\n",
        "|7.|`1`|`1`|`0`|\n",
        "|8.|`1`|`1`|`1`|\n",
        "\n",
        "where `0` denotes `Heads` and `1` denotes `Tails`.\n",
        "\n",
        "The blocks in the `inputs` array denote the second-last play.\n",
        "\n",
        "- If `last_2 = 0`, then the `last_1` value will go to the first/second row of the **first** block.\n",
        "\n",
        "- If `last_2 = 1`, then the `last_1` value will go to the first/second row of the **second** block.\n",
        "\n",
        "<img src = 'https://student-datasets-bucket.s3.ap-south-1.amazonaws.com/images/inputs_array.png' width=600>\n",
        "\n",
        "At a time, the **current player input** will either go to the first block or second block because the second-last play would either be `0` or `1`.\n",
        "\n",
        "Here are the possible ways in which the current player inputs will be recorded in the first block.\n",
        "\n",
        "1. All the items in the first column are `0`.\n",
        "\n",
        "  ```\n",
        "  [[0, is_a_repeat],\n",
        "    [0, is_a_repeat]]\n",
        "  ```\n",
        "\n",
        "2. The item in the first row and first column is `0` but the item in the second row and the first column is `1`.\n",
        "\n",
        "  ```\n",
        "  [[0, is_a_repeat],\n",
        "    [1, is_a_repeat]]\n",
        "  ```\n",
        "\n",
        "3. The item in the first row and first column is `1` but the item in the second row and the first column is `0`.\n",
        "\n",
        "  ```\n",
        "  [[1, is_a_repeat],\n",
        "    [0, is_a_repeat]]\n",
        "  ```\n",
        "\n",
        "4. All the items in the first column are `1`.\n",
        "\n",
        "  ```\n",
        "  [[1, is_a_repeat],\n",
        "    [1, is_a_repeat]]\n",
        "  ```\n",
        "\n",
        "The value of `is_a_repeat` is either `0` or `1`.\n",
        "\n",
        "  - The value `0` or `1` in the first column represents whether the player played `Heads` or `Tails`, respectively, in the last attempt.\n",
        "  \n",
        "  - The value `0` or `1` in the second column represents whether a situation (a combination of `last_2, last_1` and current player input) is repeated or not. The value `0` means the situation is NOT repeated and `1` means the situation is repeated.\n",
        "\n",
        "The second block will also have the exact same possibilities."
      ]
    },
    {
      "cell_type": "markdown",
      "metadata": {
        "id": "uwQW2KgKcu6B"
      },
      "source": [
        "---"
      ]
    },
    {
      "cell_type": "markdown",
      "metadata": {
        "id": "Vfeuw23lVCxW"
      },
      "source": [
        "#### Activity 3: The `update_inputs()` Function\n",
        "Now, we are going to update the entries of the `inputs` array by creating a function. Let's name this function as `update_inputs()`. It should take `current` player input as an input and should not return anything. It should just update the player inputs in the `inputs` array.\n",
        "\n",
        "For a row in a block, if an item in the $1^{st}$ column is the same as the `current` player input, then set the value in the $2^{nd}$ column equal to `1`, and set the value in the $1^{st}$ column equal to the `current` player input.\n",
        "\n",
        "```\n",
        "if inputs[last_2][last_1][0] == current:\n",
        "    inputs[last_2][last_1][1] = 1\n",
        "    inputs[last_2][last_1][0] = current\n",
        "```\n",
        "\n",
        "Otherwise, set the value in the $2^{nd}$ column equal to `0` and set the value in the $1^{st}$ column equal to the `current` value.\n",
        "\n",
        "```\n",
        "inputs[last_2][last_1][1] = 0\n",
        "    inputs[last_2][last_1][0] = current\n",
        "```\n",
        "\n",
        "Then, the `current` value should become the `last_1` value and the `last_1` value should become the `last_2` value.\n",
        "\n",
        "```\n",
        "  last_2 = last_1\n",
        "  last_1 = current\n",
        "```"
      ]
    },
    {
      "cell_type": "code",
      "metadata": {
        "id": "Dms5n1NhMZAi"
      },
      "source": [
        "# Teacher Action: Create the 'update_inputs()' function.\n",
        "def update_inputs(current_input):\n",
        "  global last_1,last_2\n",
        "  if inputs[last_2][last_1][0] == current_input:\n",
        "    inputs[last_2][last_1][1] = 1\n",
        "    inputs[last_2][last_1][0] = current_input\n",
        "\n",
        "  else:\n",
        "    inputs[last_2][last_1][1] = 0\n",
        "    inputs[last_2][last_1][0] = current_input\n",
        "\n",
        "  last_2 = last_1\n",
        "  last_1 = current_input\n"
      ],
      "execution_count": null,
      "outputs": []
    },
    {
      "cell_type": "code",
      "source": [],
      "metadata": {
        "id": "hCX-4HZ5I9AI"
      },
      "execution_count": null,
      "outputs": []
    },
    {
      "cell_type": "markdown",
      "metadata": {
        "id": "KwG1KuUsc2iP"
      },
      "source": [
        "---"
      ]
    },
    {
      "cell_type": "markdown",
      "metadata": {
        "id": "cTIIPwaQYse1"
      },
      "source": [
        "#### Activity 4: The `prediction()` Function^\n",
        "\n",
        "Now, let's create a function and name it `prediction()`. This function will allow a computer to make predictions based on the player inputs in the last two plays.\n",
        "\n",
        "For a row in a block, if the value in the $2^{nd}$ column is `1`, then the `prediction()` function should return the item stored in the $1^{st}$ column as the predicted value.\n",
        "\n",
        "```\n",
        "if inputs[last_2][last_1][1] == 1:\n",
        "    predict = inputs[last_2][last_1][0]\n",
        "```\n",
        "\n",
        "Else, either return `0` or `1` randomly as the predicted value.\n",
        "\n",
        "```\n",
        "else:\n",
        "    predict = random.randint(0, 1)\n",
        "```\n",
        "\n",
        "Essentially, if the item in the second column is `1`, then return the item stored in the first column as the predicted value. Else, predict `0` or `1` randomly."
      ]
    },
    {
      "cell_type": "code",
      "metadata": {
        "id": "vDJJRnrjKaEC"
      },
      "source": [
        "# Teacher Action: Create the 'prediction()' function which returns the predicted value.\n",
        "import random as rd\n",
        "def prediction():\n",
        "  if inputs[last_2][last_1][1] == 1:\n",
        "    predict = inputs[last_2][last_1][0]\n",
        "    print(\"I am inside the if function\")\n",
        "  else:\n",
        "    predict = rd.randint(0,1)\n",
        "    print(\"I am inside the else function\")\n",
        "  return predict"
      ],
      "execution_count": null,
      "outputs": []
    },
    {
      "cell_type": "code",
      "source": [
        "print(last_1)\n",
        "print(last_2)\n",
        "print(inputs)"
      ],
      "metadata": {
        "colab": {
          "base_uri": "https://localhost:8080/"
        },
        "id": "Zl7ZHXSwKZ_8",
        "outputId": "9ce1b5cf-b1cb-448c-cdbb-2ee11ee3198b"
      },
      "execution_count": null,
      "outputs": [
        {
          "output_type": "stream",
          "name": "stdout",
          "text": [
            "0\n",
            "0\n",
            "[[[0 0]\n",
            "  [0 0]]\n",
            "\n",
            " [[0 0]\n",
            "  [0 0]]]\n"
          ]
        }
      ]
    },
    {
      "cell_type": "code",
      "source": [
        "user_input = int(input(\"Enter either 0 or 1: \"))\n",
        "update_inputs(user_input)\n",
        "print(last_1)\n",
        "print(last_2)\n",
        "print(inputs)"
      ],
      "metadata": {
        "colab": {
          "base_uri": "https://localhost:8080/"
        },
        "id": "eLVBTjgELfmD",
        "outputId": "f78a144a-5876-4bfc-ce6c-60d70c3ae7f5"
      },
      "execution_count": null,
      "outputs": [
        {
          "output_type": "stream",
          "name": "stdout",
          "text": [
            "Enter either 0 or 11\n",
            "1\n",
            "0\n",
            "[[[1 0]\n",
            "  [0 0]]\n",
            "\n",
            " [[0 0]\n",
            "  [0 0]]]\n"
          ]
        }
      ]
    },
    {
      "cell_type": "code",
      "source": [
        "user_input = int(input(\"Enter either 0 or 1: \"))\n",
        "update_inputs(user_input)\n",
        "print(last_1)\n",
        "print(last_2)\n",
        "print(inputs)"
      ],
      "metadata": {
        "colab": {
          "base_uri": "https://localhost:8080/"
        },
        "id": "g4fI5w0fL6Hy",
        "outputId": "f29795aa-6cc5-4388-8396-31da89cb041f"
      },
      "execution_count": null,
      "outputs": [
        {
          "output_type": "stream",
          "name": "stdout",
          "text": [
            "Enter either 0 or 1: 1\n",
            "1\n",
            "1\n",
            "[[[1 0]\n",
            "  [1 0]]\n",
            "\n",
            " [[0 0]\n",
            "  [0 0]]]\n"
          ]
        }
      ]
    },
    {
      "cell_type": "code",
      "source": [
        "user_input = int(input(\"Enter either 0 or 1: \"))\n",
        "update_inputs(user_input)\n",
        "print(last_1)\n",
        "print(last_2)\n",
        "print(inputs)"
      ],
      "metadata": {
        "colab": {
          "base_uri": "https://localhost:8080/"
        },
        "id": "QrPGolwcMDYz",
        "outputId": "b5b36860-4a67-453c-bb2a-16ddf9e01792"
      },
      "execution_count": null,
      "outputs": [
        {
          "output_type": "stream",
          "name": "stdout",
          "text": [
            "Enter either 0 or 1: 1\n",
            "1\n",
            "1\n",
            "[[[1 0]\n",
            "  [1 0]]\n",
            "\n",
            " [[0 0]\n",
            "  [1 0]]]\n"
          ]
        }
      ]
    },
    {
      "cell_type": "code",
      "source": [
        "user_input = int(input(\"Enter either 0 or 1: \"))\n",
        "update_inputs(user_input)\n",
        "print(last_1)\n",
        "print(last_2)\n",
        "print(inputs)"
      ],
      "metadata": {
        "colab": {
          "base_uri": "https://localhost:8080/"
        },
        "id": "WUkvMbk4MR-1",
        "outputId": "6011c8b6-74d4-451d-8f3e-230a48211f67"
      },
      "execution_count": null,
      "outputs": [
        {
          "output_type": "stream",
          "name": "stdout",
          "text": [
            "Enter either 0 or 1: 1\n",
            "1\n",
            "1\n",
            "[[[1 0]\n",
            "  [1 0]]\n",
            "\n",
            " [[0 0]\n",
            "  [1 1]]]\n"
          ]
        }
      ]
    },
    {
      "cell_type": "code",
      "source": [
        "prediction()"
      ],
      "metadata": {
        "colab": {
          "base_uri": "https://localhost:8080/"
        },
        "id": "L6a9wJBpMbCf",
        "outputId": "a221f06e-247f-4bd1-8105-6d64a6c86b8d"
      },
      "execution_count": null,
      "outputs": [
        {
          "output_type": "stream",
          "name": "stdout",
          "text": [
            "I am inside the if function\n"
          ]
        },
        {
          "output_type": "execute_result",
          "data": {
            "text/plain": [
              "1"
            ]
          },
          "metadata": {},
          "execution_count": 28
        }
      ]
    },
    {
      "cell_type": "code",
      "source": [
        "user_input = int(input(\"Enter either 0 or 1: \"))\n",
        "update_inputs(user_input)\n",
        "print(last_1)\n",
        "print(last_2)\n",
        "print(inputs)"
      ],
      "metadata": {
        "colab": {
          "base_uri": "https://localhost:8080/"
        },
        "id": "MEvTIC0NMulK",
        "outputId": "657588ef-e602-4ae9-ed41-6d591b621ed9"
      },
      "execution_count": null,
      "outputs": [
        {
          "output_type": "stream",
          "name": "stdout",
          "text": [
            "Enter either 0 or 1: 1\n",
            "1\n",
            "1\n",
            "[[[1 0]\n",
            "  [1 0]]\n",
            "\n",
            " [[0 0]\n",
            "  [1 1]]]\n"
          ]
        }
      ]
    },
    {
      "cell_type": "code",
      "source": [
        "prediction()"
      ],
      "metadata": {
        "colab": {
          "base_uri": "https://localhost:8080/"
        },
        "id": "3jcu6Dw1MzDh",
        "outputId": "357a2f33-c252-492a-fe2c-9cbbdfc23949"
      },
      "execution_count": null,
      "outputs": [
        {
          "output_type": "stream",
          "name": "stdout",
          "text": [
            "I am inside the if function\n"
          ]
        },
        {
          "output_type": "execute_result",
          "data": {
            "text/plain": [
              "1"
            ]
          },
          "metadata": {},
          "execution_count": 30
        }
      ]
    },
    {
      "cell_type": "code",
      "source": [
        "user_input = int(input(\"Enter either 0 or 1: \"))\n",
        "update_inputs(user_input)\n",
        "print(last_1)\n",
        "print(last_2)\n",
        "print(inputs)"
      ],
      "metadata": {
        "colab": {
          "base_uri": "https://localhost:8080/"
        },
        "id": "qPnXWzItM2r0",
        "outputId": "3c4f1d46-d27c-4cef-d122-f954b9e2382d"
      },
      "execution_count": null,
      "outputs": [
        {
          "output_type": "stream",
          "name": "stdout",
          "text": [
            "Enter either 0 or 1: 0\n",
            "0\n",
            "1\n",
            "[[[1 0]\n",
            "  [1 0]]\n",
            "\n",
            " [[0 0]\n",
            "  [0 0]]]\n"
          ]
        }
      ]
    },
    {
      "cell_type": "code",
      "source": [
        "prediction()"
      ],
      "metadata": {
        "id": "5S7eevJ3M-R9",
        "outputId": "ca61070e-fb08-4d8e-c539-7e3bb43e5101",
        "colab": {
          "base_uri": "https://localhost:8080/"
        }
      },
      "execution_count": null,
      "outputs": [
        {
          "output_type": "stream",
          "name": "stdout",
          "text": [
            "I am inside the else function\n"
          ]
        },
        {
          "output_type": "execute_result",
          "data": {
            "text/plain": [
              "1"
            ]
          },
          "metadata": {},
          "execution_count": 32
        }
      ]
    },
    {
      "cell_type": "markdown",
      "metadata": {
        "id": "d6nnXoywsF4C"
      },
      "source": [
        "All right! We will stop here now. In the next class, we will create the following functions to complete the algorithm:\n",
        "\n",
        "1. The `update_scores()` function\n",
        "\n",
        "2. The `reset()` function\n",
        "\n",
        "3. The `gameplay()` function"
      ]
    },
    {
      "cell_type": "markdown",
      "source": [
        "Create a function that asks a user for a positive integer and then prints out a list containing all of its the divisors.\n",
        "\n",
        "**What is a divisor?**\n",
        "\n",
        "It is a number that divides into another without leaving a remainder. E.g., 3 is a divisor of 27 because 27 divided by 3 leaves no remainder."
      ],
      "metadata": {
        "id": "oUW6PWW0Ab7G"
      }
    },
    {
      "cell_type": "code",
      "source": [
        "user_input = int(input(\"Enter a positive integer: \"))\n",
        "def divisor(user_input):\n",
        "  divisor_list = []\n",
        "  i = 1\n",
        "  while i <= user_input:\n",
        "    if (user_input % i) == 0:\n",
        "      divisor_list.append(i)\n",
        "    i+= 1\n",
        "\n",
        "  return divisor_list\n",
        "\n",
        "print(divisor(user_input))"
      ],
      "metadata": {
        "id": "aSNx80a7AaoZ",
        "colab": {
          "base_uri": "https://localhost:8080/"
        },
        "outputId": "72ff6b2b-3678-4939-fe10-75a0ff73313b"
      },
      "execution_count": null,
      "outputs": [
        {
          "output_type": "stream",
          "name": "stdout",
          "text": [
            "Enter a positive integer: 27\n",
            "[1, 3, 9, 27]\n"
          ]
        }
      ]
    },
    {
      "cell_type": "code",
      "source": [],
      "metadata": {
        "id": "SgJ-hbZtPTX_"
      },
      "execution_count": null,
      "outputs": []
    },
    {
      "cell_type": "markdown",
      "metadata": {
        "id": "YJlceyEOMZr9"
      },
      "source": [
        "---\n"
      ]
    },
    {
      "cell_type": "markdown",
      "metadata": {
        "id": "lHhyI-tuMb-r"
      },
      "source": [
        "### **Project**\n",
        "\n",
        "You can now attempt the **Project 11 - Claude Shannon Algorithm I** on your own.\n",
        "\n",
        "\n",
        "**Project 11 - Claude Shannon Algorithm I**: https://colab.research.google.com/drive/1u2YmTposWFn14Dr_KIvpKtYM2xz08OWy"
      ]
    },
    {
      "cell_type": "markdown",
      "metadata": {
        "id": "NiproHtv7MGq"
      },
      "source": [
        "---"
      ]
    }
  ]
}