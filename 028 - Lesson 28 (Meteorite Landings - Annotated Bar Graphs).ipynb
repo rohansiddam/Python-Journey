{
  "nbformat": 4,
  "nbformat_minor": 0,
  "metadata": {
    "colab": {
      "provenance": [],
      "include_colab_link": true
    },
    "kernelspec": {
      "name": "python3",
      "display_name": "Python 3"
    }
  },
  "cells": [
    {
      "cell_type": "markdown",
      "metadata": {
        "id": "view-in-github",
        "colab_type": "text"
      },
      "source": [
        "<a href=\"https://colab.research.google.com/github/rohansiddam/Python-Journey/blob/main/028%20-%20Lesson%2028%20(Meteorite%20Landings%20-%20Annotated%20Bar%20Graphs).ipynb\" target=\"_parent\"><img src=\"https://colab.research.google.com/assets/colab-badge.svg\" alt=\"Open In Colab\"/></a>"
      ]
    },
    {
      "cell_type": "markdown",
      "metadata": {
        "id": "aMbswDYFUt_1"
      },
      "source": [
        "# Lesson 28: Meteorite Landings - Annotated Bar Graphs"
      ]
    },
    {
      "cell_type": "markdown",
      "metadata": {
        "id": "dmruqgPqb9BH"
      },
      "source": [
        "### Teacher-Student Activities\n",
        "\n",
        "In the previous classes, we learnt how to create bar graphs, i.e., both the count plots and histograms. In this class, we will learn how to annotate (or label) bar graphs (both count plots and histograms) to display the essential parameters such as count and percentages in the graph itself.\n",
        "\n",
        "Let's quickly rush through the activities we covered in the previous class and begin this class from **Activity 1: Count Plot Without Annotations** section.\n",
        "\n"
      ]
    },
    {
      "cell_type": "markdown",
      "metadata": {
        "id": "0btx_ehOLDK5"
      },
      "source": [
        "---"
      ]
    },
    {
      "cell_type": "markdown",
      "metadata": {
        "id": "DoShzic97iBl"
      },
      "source": [
        "#### Recap\n",
        "\n",
        "Dataset Link (don't click on it):\n",
        "\n",
        "https://student-datasets-bucket.s3.ap-south-1.amazonaws.com/whitehat-ds-datasets/meteorite-landings/meteorite-landings.csv\n"
      ]
    },
    {
      "cell_type": "code",
      "metadata": {
        "id": "ThLLbqIzUd9f",
        "colab": {
          "base_uri": "https://localhost:8080/"
        },
        "outputId": "cc025469-f863-41ae-ae21-13c11db2699c"
      },
      "source": [
        "# Below are the activities that have been covered in the previous class.\n",
        "# 1. Import the necessary libraries for this class and create a DataFrame.\n",
        "import numpy as np\n",
        "import pandas as pd\n",
        "import matplotlib.pyplot as plt\n",
        "\n",
        "met_df = pd.read_csv('https://student-datasets-bucket.s3.ap-south-1.amazonaws.com/whitehat-ds-datasets/meteorite-landings/meteorite-landings.csv')\n",
        "\n",
        "# 2. Find the number of rows and columns in the DataFrame.\n",
        "print(met_df.shape)\n",
        "\n",
        "# 3. Rows containing the year values less than 860 and greater than 2016.\n",
        "correct_years_df = met_df[(met_df['year'] >= 860) & (met_df['year'] <= 2016)]\n",
        "\n",
        "# 4. Rows having the 'reclong' values greater than or equal to -180 degrees and less than or equal to 180 degrees.\n",
        "correct_long_df = correct_years_df[(correct_years_df['reclong'] >= -180) & (correct_years_df['reclong'] <= 180)]\n",
        "\n",
        "# 5. Rows containing the '0 reclat' and '0 reclong' values from the 'correct_long_df'.\n",
        "correct_lat_long_df = correct_long_df[~((correct_long_df['reclat'] == 0 ) & (correct_long_df['reclong'] == 0))]\n",
        "\n",
        "# 6. Indices of the rows having missing mass values.\n",
        "row_indices = correct_lat_long_df[correct_lat_long_df['mass'].isnull() == True].index\n",
        "\n",
        "# 7. Missing values in the 'mass' column in the 'correct_lat_long_df' DataFrame with median of mass.\n",
        "median_mass = correct_lat_long_df['mass'].median()\n",
        "correct_lat_long_df.loc[row_indices, 'mass'] = median_mass\n",
        "\n",
        "# 8. Convert the 'year' values into an integer type values.\n",
        "correct_lat_long_df.loc[:, 'year'] = correct_lat_long_df.loc[:, 'year'].astype('int')"
      ],
      "execution_count": null,
      "outputs": [
        {
          "output_type": "stream",
          "name": "stdout",
          "text": [
            "(45716, 10)\n"
          ]
        },
        {
          "output_type": "stream",
          "name": "stderr",
          "text": [
            "/usr/local/lib/python3.7/dist-packages/pandas/core/indexing.py:1817: SettingWithCopyWarning: \n",
            "A value is trying to be set on a copy of a slice from a DataFrame.\n",
            "Try using .loc[row_indexer,col_indexer] = value instead\n",
            "\n",
            "See the caveats in the documentation: https://pandas.pydata.org/pandas-docs/stable/user_guide/indexing.html#returning-a-view-versus-a-copy\n",
            "  self._setitem_single_column(loc, value, pi)\n",
            "/usr/local/lib/python3.7/dist-packages/pandas/core/indexing.py:1773: SettingWithCopyWarning: \n",
            "A value is trying to be set on a copy of a slice from a DataFrame.\n",
            "Try using .loc[row_indexer,col_indexer] = value instead\n",
            "\n",
            "See the caveats in the documentation: https://pandas.pydata.org/pandas-docs/stable/user_guide/indexing.html#returning-a-view-versus-a-copy\n",
            "  self._setitem_single_column(ilocs[0], value, pi)\n"
          ]
        }
      ]
    },
    {
      "cell_type": "markdown",
      "metadata": {
        "id": "mAHPBr8hmtGf"
      },
      "source": [
        "---"
      ]
    },
    {
      "cell_type": "markdown",
      "metadata": {
        "id": "P-XzsmGGL25Z"
      },
      "source": [
        "#### Activity 1: Count Plot Without Annotations\n",
        "\n",
        "Recall that in the previous two classes, we learnt to draw the count plots and histograms for all the meteorites fallen on Earth in a year. However, the bars in the count plots and histograms didn't display the exact counts on the graph as you can see in the graphs below."
      ]
    },
    {
      "cell_type": "code",
      "metadata": {
        "id": "jpbcSYNJkunJ",
        "colab": {
          "base_uri": "https://localhost:8080/",
          "height": 388
        },
        "outputId": "b9620774-5afc-42dc-b06d-55bb25135c1a"
      },
      "source": [
        "# Teacher Action: Run the code shown below.\n",
        "# Non-annotated count plot for the count of the meteorites between the years 1970 & 2000.\n",
        "import seaborn as sns\n",
        "plt.figure(figsize=(20, 6))\n",
        "sns.countplot(x='year', data=correct_lat_long_df[(correct_lat_long_df['year'] >= 1970) & (correct_lat_long_df['year'] < 2001)])\n",
        "plt.show()"
      ],
      "execution_count": null,
      "outputs": [
        {
          "output_type": "display_data",
          "data": {
            "text/plain": [
              "<Figure size 1440x432 with 1 Axes>"
            ],
            "image/png": "[encoded data removed]"
          },
          "metadata": {
            "needs_background": "light"
          }
        }
      ]
    },
    {
      "cell_type": "code",
      "metadata": {
        "id": "JTraeNt9lDwK",
        "colab": {
          "base_uri": "https://localhost:8080/",
          "height": 444
        },
        "outputId": "57c641fd-fb7c-436b-c019-00e89aa38e03"
      },
      "source": [
        "# Teacher Action: Run the code shown below.\n",
        "# Non-annotated histogram for the Pandas series containing the year values between 1970 and 2000 including both of them.\n",
        "plt.figure(figsize=(10, 6))\n",
        "sns.distplot(correct_lat_long_df.loc[(correct_lat_long_df['year'] >= 1970) & (correct_lat_long_df['year'] < 2001), 'year'], bins=6, kde=False)\n",
        "plt.grid()\n",
        "plt.show()"
      ],
      "execution_count": null,
      "outputs": [
        {
          "output_type": "stream",
          "name": "stderr",
          "text": [
            "/usr/local/lib/python3.7/dist-packages/seaborn/distributions.py:2619: FutureWarning: `distplot` is a deprecated function and will be removed in a future version. Please adapt your code to use either `displot` (a figure-level function with similar flexibility) or `histplot` (an axes-level function for histograms).\n",
            "  warnings.warn(msg, FutureWarning)\n"
          ]
        },
        {
          "output_type": "display_data",
          "data": {
            "text/plain": [
              "<Figure size 720x432 with 1 Axes>"
            ],
            "image/png": "[encoded data removed]"
          },
          "metadata": {
            "needs_background": "light"
          }
        }
      ]
    },
    {
      "cell_type": "markdown",
      "metadata": {
        "id": "vxPvqE8qkvGC"
      },
      "source": [
        "Let's learn how to display the exact figures on the bars in a count plot and a histgram by annotating (or labelling) them.\n",
        "\n",
        "\n",
        "Let's first annotate the count plot for the year 1970 to 2000 (both inclusive) with the count of the meteorites fallen in the year. The resulting annotated count plot should look like the following:\n",
        "\n",
        "<img src='https://student-datasets-bucket.s3.ap-south-1.amazonaws.com/images/countplot_annotated.png'>\n",
        "\n",
        "As you can see in the count plot above, there are bars for all the years in the range 1970 to 2000 indicating the count of the meteorites fallen in a year. The numbers on top of the bars show the actual counts. E.g., in the year 1979, a total of 3046 meteorites have fallen on Earth.\n",
        "\n",
        "\n"
      ]
    },
    {
      "cell_type": "markdown",
      "metadata": {
        "id": "_Pqx0BQMsPTN"
      },
      "source": [
        "---"
      ]
    },
    {
      "cell_type": "markdown",
      "metadata": {
        "id": "j19QBMlQsQUs"
      },
      "source": [
        "#### Activity 2: The `patches`\n",
        "\n",
        "With reference to the `matplotlib.pyplot` module, the bars in the count plots and histograms are considered as rectangles. Each rectangle (or bar) in a count plot and a histogram has a width, height, $x$ and $y$ coordinates as shown in the image below.\n",
        "\n",
        "<img src='https://student-datasets-bucket.s3.ap-south-1.amazonaws.com/images/matplotlib_rectangle.png' width=700>\n",
        "\n",
        "To create an annotated bar (both histogram and count plot) graph, we first need to get the rectangle attributes using the `patches` keyword along with the following functions:\n",
        "\n",
        "1. The `get_width()` function returns the width of the rectangle as shown in the image above.\n",
        "\n",
        "2. The `get_height()` function returns the height of the rectangle as shown in the image above.\n",
        "\n",
        "3. The `get_x()` function returns the `x` (or left) coordinate of the rectangle as shown in the image above.\n",
        "\n",
        "4. The `get_y()` function returns the `y` (or bottom) coordinate of the rectangle as shown in the image above.\n",
        "\n",
        "**Note:**\n",
        "\n",
        "1. The `angle` and `fill` are two more attributes of a rectanglee which we don't need to know at the moment. We will learn about them whenever we require them.\n",
        "\n",
        "2. The `patches` keyword works only if the `matplotlib` module is imported.\n",
        "\n",
        "Let's get the Python list containing the rectangle attributes for the count plot displaying the number of meteorites fallen between 1970 and 2000. Also, let's print the length of the list. The steps to be followed are:\n",
        "\n",
        "1. Use the `countplot()` function to create a count plot for the meteorites fallen between 1970 and 2000 (both inclusive) and then store the count plot in a variable.\n",
        "\n",
        "2. Use the `patches` keyword to get the rectangle attributes list. Print the length of the list.\n",
        "\n",
        "3. Use the `for` loop to print rectangle attributes for reach rectangle.\n"
      ]
    },
    {
      "cell_type": "code",
      "metadata": {
        "id": "O3Cgkee1sa8w",
        "colab": {
          "base_uri": "https://localhost:8080/",
          "height": 844
        },
        "outputId": "4f953fd0-88df-4487-80a6-782c79ef7d33"
      },
      "source": [
        "# Teacher Action: Get the list containing the bar attributes for the count plot displaying the number of meteorites fallen from 1970 to 2000.\n",
        "plot1 = sns.countplot(x='year', data=correct_lat_long_df[(correct_lat_long_df['year'] >= 1970) & (correct_lat_long_df['year'] < 2001)])\n",
        "plot1.patches"
      ],
      "execution_count": null,
      "outputs": [
        {
          "output_type": "execute_result",
          "data": {
            "text/plain": [
              "[<matplotlib.patches.Rectangle at 0x7f10ddb11d90>,\n",
              " <matplotlib.patches.Rectangle at 0x7f10ddb5a9d0>,\n",
              " <matplotlib.patches.Rectangle at 0x7f10ddb077d0>,\n",
              " <matplotlib.patches.Rectangle at 0x7f10ddb1e8d0>,\n",
              " <matplotlib.patches.Rectangle at 0x7f10ddb1ee10>,\n",
              " <matplotlib.patches.Rectangle at 0x7f10ddb29290>,\n",
              " <matplotlib.patches.Rectangle at 0x7f10ddb1edd0>,\n",
              " <matplotlib.patches.Rectangle at 0x7f10ddb29910>,\n",
              " <matplotlib.patches.Rectangle at 0x7f10ddb1e650>,\n",
              " <matplotlib.patches.Rectangle at 0x7f10ddb1ea10>,\n",
              " <matplotlib.patches.Rectangle at 0x7f10ddb29dd0>,\n",
              " <matplotlib.patches.Rectangle at 0x7f10ddab6750>,\n",
              " <matplotlib.patches.Rectangle at 0x7f10ddab6b10>,\n",
              " <matplotlib.patches.Rectangle at 0x7f10ddab6ed0>,\n",
              " <matplotlib.patches.Rectangle at 0x7f10ddab6c10>,\n",
              " <matplotlib.patches.Rectangle at 0x7f10ddab6fd0>,\n",
              " <matplotlib.patches.Rectangle at 0x7f10ddac2a50>,\n",
              " <matplotlib.patches.Rectangle at 0x7f10ddac2e10>,\n",
              " <matplotlib.patches.Rectangle at 0x7f10ddac2f10>,\n",
              " <matplotlib.patches.Rectangle at 0x7f10ddac2f50>,\n",
              " <matplotlib.patches.Rectangle at 0x7f10ddacf990>,\n",
              " <matplotlib.patches.Rectangle at 0x7f10ddacfd50>,\n",
              " <matplotlib.patches.Rectangle at 0x7f10ddacfe50>,\n",
              " <matplotlib.patches.Rectangle at 0x7f10ddacfe90>,\n",
              " <matplotlib.patches.Rectangle at 0x7f10ddadc8d0>,\n",
              " <matplotlib.patches.Rectangle at 0x7f10ddadcc90>,\n",
              " <matplotlib.patches.Rectangle at 0x7f10ddadcd90>,\n",
              " <matplotlib.patches.Rectangle at 0x7f10ddadcdd0>,\n",
              " <matplotlib.patches.Rectangle at 0x7f10ddae9810>,\n",
              " <matplotlib.patches.Rectangle at 0x7f10ddae9bd0>,\n",
              " <matplotlib.patches.Rectangle at 0x7f10ddae9f90>]"
            ]
          },
          "metadata": {},
          "execution_count": 15
        },
        {
          "output_type": "display_data",
          "data": {
            "text/plain": [
              "<Figure size 432x288 with 1 Axes>"
            ],
            "image/png": "[encoded data removed]"
          },
          "metadata": {
            "needs_background": "light"
          }
        }
      ]
    },
    {
      "cell_type": "code",
      "source": [
        "for i in plot1.patches:\n",
        "  print(i)"
      ],
      "metadata": {
        "colab": {
          "base_uri": "https://localhost:8080/"
        },
        "id": "brX7KrUu6aZI",
        "outputId": "4a13d1ae-f323-46ac-cfbd-39239a44df21"
      },
      "execution_count": null,
      "outputs": [
        {
          "output_type": "stream",
          "name": "stdout",
          "text": [
            "Rectangle(xy=(-0.4, 0), width=0.8, height=46, angle=0)\n",
            "Rectangle(xy=(0.6, 0), width=0.8, height=48, angle=0)\n",
            "Rectangle(xy=(1.6, 0), width=0.8, height=31, angle=0)\n",
            "Rectangle(xy=(2.6, 0), width=0.8, height=30, angle=0)\n",
            "Rectangle(xy=(3.6, 0), width=0.8, height=691, angle=0)\n",
            "Rectangle(xy=(4.6, 0), width=0.8, height=336, angle=0)\n",
            "Rectangle(xy=(5.6, 0), width=0.8, height=51, angle=0)\n",
            "Rectangle(xy=(6.6, 0), width=0.8, height=421, angle=0)\n",
            "Rectangle(xy=(7.6, 0), width=0.8, height=262, angle=0)\n",
            "Rectangle(xy=(8.6, 0), width=0.8, height=3046, angle=0)\n",
            "Rectangle(xy=(9.6, 0), width=0.8, height=144, angle=0)\n",
            "Rectangle(xy=(10.6, 0), width=0.8, height=458, angle=0)\n",
            "Rectangle(xy=(11.6, 0), width=0.8, height=344, angle=0)\n",
            "Rectangle(xy=(12.6, 0), width=0.8, height=360, angle=0)\n",
            "Rectangle(xy=(13.6, 0), width=0.8, height=402, angle=0)\n",
            "Rectangle(xy=(14.6, 0), width=0.8, height=377, angle=0)\n",
            "Rectangle(xy=(15.6, 0), width=0.8, height=1375, angle=0)\n",
            "Rectangle(xy=(16.6, 0), width=0.8, height=915, angle=0)\n",
            "Rectangle(xy=(17.6, 0), width=0.8, height=2295, angle=0)\n",
            "Rectangle(xy=(18.6, 0), width=0.8, height=136, angle=0)\n",
            "Rectangle(xy=(19.6, 0), width=0.8, height=1507, angle=0)\n",
            "Rectangle(xy=(20.6, 0), width=0.8, height=871, angle=0)\n",
            "Rectangle(xy=(21.6, 0), width=0.8, height=372, angle=0)\n",
            "Rectangle(xy=(22.6, 0), width=0.8, height=979, angle=0)\n",
            "Rectangle(xy=(23.6, 0), width=0.8, height=719, angle=0)\n",
            "Rectangle(xy=(24.6, 0), width=0.8, height=486, angle=0)\n",
            "Rectangle(xy=(25.6, 0), width=0.8, height=583, angle=0)\n",
            "Rectangle(xy=(26.6, 0), width=0.8, height=1510, angle=0)\n",
            "Rectangle(xy=(27.6, 0), width=0.8, height=485, angle=0)\n",
            "Rectangle(xy=(28.6, 0), width=0.8, height=1582, angle=0)\n",
            "Rectangle(xy=(29.6, 0), width=0.8, height=1506, angle=0)\n"
          ]
        }
      ]
    },
    {
      "cell_type": "markdown",
      "metadata": {
        "id": "y1NQYFJ1JH7Y"
      },
      "source": [
        "As you can see, the `patches` keyword returns the Python list containing the attributes of each bar (or rectangle) in the count plot along with the countplot (to be ignored at the moment). There are 31 such rectangles, hence we have attributes for 31 rectangles in the `cp.patches` list.\n",
        "\n",
        "Let's get the `width, height, x` and `y` coordinates of each bar in the above count plot using the `get_width(), get_height(), get_x()` and `get_y()` functions respectively."
      ]
    },
    {
      "cell_type": "code",
      "metadata": {
        "id": "qrGR5AkLH-gk",
        "colab": {
          "base_uri": "https://localhost:8080/"
        },
        "outputId": "5e32abb6-8862-49b8-ed02-ae093a402a0f"
      },
      "source": [
        "# Teacher Action: Get the height, width, x and y coordinates of each bar in the count plot stored in the 'cp' variable.\n",
        "for i in plot1.patches:\n",
        "  print(i.get_width())\n",
        "  print(i.get_height())\n",
        "  print(i.get_x())\n",
        "  print(i.get_y())"
      ],
      "execution_count": null,
      "outputs": [
        {
          "output_type": "stream",
          "name": "stdout",
          "text": [
            "0.8\n",
            "46\n",
            "-0.4\n",
            "0\n",
            "0.8\n",
            "48\n",
            "0.6\n",
            "0\n",
            "0.8\n",
            "31\n",
            "1.6\n",
            "0\n",
            "0.8\n",
            "30\n",
            "2.6\n",
            "0\n",
            "0.8\n",
            "691\n",
            "3.6\n",
            "0\n",
            "0.8\n",
            "336\n",
            "4.6\n",
            "0\n",
            "0.8\n",
            "51\n",
            "5.6\n",
            "0\n",
            "0.8\n",
            "421\n",
            "6.6\n",
            "0\n",
            "0.8\n",
            "262\n",
            "7.6\n",
            "0\n",
            "0.8\n",
            "3046\n",
            "8.6\n",
            "0\n",
            "0.8\n",
            "144\n",
            "9.6\n",
            "0\n",
            "0.8\n",
            "458\n",
            "10.6\n",
            "0\n",
            "0.8\n",
            "344\n",
            "11.6\n",
            "0\n",
            "0.8\n",
            "360\n",
            "12.6\n",
            "0\n",
            "0.8\n",
            "402\n",
            "13.6\n",
            "0\n",
            "0.8\n",
            "377\n",
            "14.6\n",
            "0\n",
            "0.8\n",
            "1375\n",
            "15.6\n",
            "0\n",
            "0.8\n",
            "915\n",
            "16.6\n",
            "0\n",
            "0.8\n",
            "2295\n",
            "17.6\n",
            "0\n",
            "0.8\n",
            "136\n",
            "18.6\n",
            "0\n",
            "0.8\n",
            "1507\n",
            "19.6\n",
            "0\n",
            "0.8\n",
            "871\n",
            "20.6\n",
            "0\n",
            "0.8\n",
            "372\n",
            "21.6\n",
            "0\n",
            "0.8\n",
            "979\n",
            "22.6\n",
            "0\n",
            "0.8\n",
            "719\n",
            "23.6\n",
            "0\n",
            "0.8\n",
            "486\n",
            "24.6\n",
            "0\n",
            "0.8\n",
            "583\n",
            "25.6\n",
            "0\n",
            "0.8\n",
            "1510\n",
            "26.6\n",
            "0\n",
            "0.8\n",
            "485\n",
            "27.6\n",
            "0\n",
            "0.8\n",
            "1582\n",
            "28.6\n",
            "0\n",
            "0.8\n",
            "1506\n",
            "29.6\n",
            "0\n"
          ]
        }
      ]
    },
    {
      "cell_type": "markdown",
      "metadata": {
        "id": "ZSUC8QIcIqyv"
      },
      "source": [
        "So as you can see, we have retrieved the attributes of each rectangle in the count plot created for the `correct_lat_long_df[(correct_lat_long_df['year'] >= 1970) & (correct_lat_long_df['year'] < 2001)]` DataFrame.\n",
        "\n",
        "Now, let's annotate them."
      ]
    },
    {
      "cell_type": "markdown",
      "metadata": {
        "id": "LhnaylKeI9PA"
      },
      "source": [
        "---"
      ]
    },
    {
      "cell_type": "markdown",
      "metadata": {
        "id": "M8tGjBXfI-Ju"
      },
      "source": [
        "#### Activity 3: The `annotate()` Function^^\n",
        "\n",
        "To annotate a bar in either a histogram or a count plot, you need to use the `annotate()` function. It takes several parameters as inputs. But for the time being, we will pass only the following parameters:\n",
        "\n",
        "1. `text` - It is the label (or annotation) that you would like to put in the graph. Here, we will put the height of each bar graph as the labels. It is supposed to be a string value. The `text` parameter also supports integer values but as a best practice, always use only the string values.\n",
        "\n",
        "2. `xy` - It is the position (`x` and `y` coordinates) of the bar where a label (or annotation) is supposed to be applied. The coordinates need to be passed as a tuple.\n",
        "\n",
        "3. `ha` or `horizontalalignment` - As the name suggests, it controls the horizontal alignment of the label (or annotation). You can provide the following values for horizontal alignment:\n",
        "\n",
        "  - `left` - It puts a label on the right-hand side of the `x` coordinate. This is counter-intuitive.\n",
        "\n",
        "  - `right` - It puts a label on the left-hand side of the `x` coordinate. This is again counter-intuitive.\n",
        "\n",
        "  - `center` - It puts a label at equal distances w.r.t. the `x` coordinate.\n",
        "\n",
        "4. `va` or `verticalalignment` - As the name suggests, it controls the vertical alignment of the label (or annotation).\n",
        "\n",
        "  - `top` - It puts a label at bottom w.r.t. the `y` coordinate. This is counter-intuitive.\n",
        "\n",
        "  - `center` - It puts a label at equal distances w.r.t. the `y` coordinate.\n",
        "\n",
        "  - `bottom` - It puts a label at top w.r.t. the `y` coordinate. This is counter-intuitive.\n",
        "\n",
        "**Syntax:** `some_plot.annotate(text, xy, ha, va)` where `some_plot` is the variable storing the `matplotlib.pyplot` graph.\n",
        "\n",
        "Now, let's annotate the count plot for the meteorites fallen between the years 1970 and 2000 (including 2000).\n"
      ]
    },
    {
      "cell_type": "code",
      "metadata": {
        "id": "yx_w8V8zXQhP",
        "colab": {
          "base_uri": "https://localhost:8080/",
          "height": 388
        },
        "outputId": "49e701fc-20d7-4bd3-ea4a-3291248249a7"
      },
      "source": [
        "# Teacher Action: Annotate bars in the count plot for the meteorites fallen between the years 1970 and 2000 (including both).\n",
        "plt.figure(figsize=(20, 6))\n",
        "plot2 = sns.countplot(x='year', data=correct_lat_long_df[(correct_lat_long_df['year'] >= 1970) & (correct_lat_long_df['year'] < 2001)])\n",
        "for i in plot2.patches:\n",
        "  plot2.annotate(i.get_height(), xy = (i.get_x() + i.get_width() / 2,i.get_height()), ha = 'center', va = 'top')"
      ],
      "execution_count": null,
      "outputs": [
        {
          "output_type": "display_data",
          "data": {
            "text/plain": [
              "<Figure size 1440x432 with 1 Axes>"
            ],
            "image/png": "[encoded data removed]"
          },
          "metadata": {
            "needs_background": "light"
          }
        }
      ]
    },
    {
      "cell_type": "markdown",
      "metadata": {
        "id": "ZdYcWSAHrpyT"
      },
      "source": [
        "In the above code, we iterate through each patch to get the attributes for each bar in the count plot.\n",
        "\n",
        "For each bar:\n",
        "\n",
        "- We annotate (or label) the bar height to the bar. The bar height is essentially the count of meteorites fallen to Earth in a year. We convert it into a string value using the `str()` function to pass it as the value for the `text` parameter in the `annotate()` function.\n",
        "\n",
        "- Using the `get_x()` function, we get the x-coordinate of the bar to specify the horizontal position of the label to be placed.\n",
        "\n",
        "- Using the `get_height()` function again, we get the height of the bar which we use to specify the vertical position of the label to be placed.\n",
        "\n",
        "- Using the `get_width()` function, we get the width of the bar which we have added to the value returned by the `get_x()` function to adjust the horizontal position of the label to be placed. The horizontal and vertical positions are passed as the values of the `xy` parameter.\n",
        "\n",
        "- We have further adjusted the position of the label to be placed using the `ha` and `va` parameters.\n",
        "\n",
        "You should play with the `xy`, `ha` and `va` parameters by changing their values to truly understand the alignment behaviour of an annotation (or label).\n",
        "\n",
        "Now, let's annotate a histogram created using the `displot()` function of the `seaborn` module."
      ]
    },
    {
      "cell_type": "markdown",
      "metadata": {
        "id": "tXO47iQ3Fo-8"
      },
      "source": [
        "---"
      ]
    },
    {
      "cell_type": "markdown",
      "metadata": {
        "id": "x1sGC6kWFpqI"
      },
      "source": [
        "#### Activity 4: Annotate `seaborn` Histogram^\n",
        "\n",
        "For a histogram created using the `seaborn` module, the same process is followed. Recall that to create a histogram using the `seaborn` module, you need to use the `distplot()` function with the `kde` parameter set equal to `False`."
      ]
    },
    {
      "cell_type": "code",
      "metadata": {
        "id": "G11OqO90z0ei",
        "colab": {
          "base_uri": "https://localhost:8080/",
          "height": 444
        },
        "outputId": "48c90d57-1b99-42d6-c5fb-973411837d7d"
      },
      "source": [
        "# Student Action: Annotate a histogram created using the 'distplot()' function.\n",
        "plt.figure(figsize=(10, 6))\n",
        "plot3 = sns.distplot(correct_lat_long_df.loc[(correct_lat_long_df['year'] >= 1970) & (correct_lat_long_df['year'] < 2001), 'year'], bins=6, kde=False)\n",
        "for i in plot3.patches:\n",
        "  plot3.annotate(str(i.get_height()), xy = (i.get_x() + i.get_width() / 2,i.get_height()), ha = 'center', va  = 'bottom')\n",
        "plt.grid()\n",
        "plt.show()\n"
      ],
      "execution_count": null,
      "outputs": [
        {
          "output_type": "stream",
          "name": "stderr",
          "text": [
            "/usr/local/lib/python3.7/dist-packages/seaborn/distributions.py:2619: FutureWarning: `distplot` is a deprecated function and will be removed in a future version. Please adapt your code to use either `displot` (a figure-level function with similar flexibility) or `histplot` (an axes-level function for histograms).\n",
            "  warnings.warn(msg, FutureWarning)\n"
          ]
        },
        {
          "output_type": "display_data",
          "data": {
            "text/plain": [
              "<Figure size 720x432 with 1 Axes>"
            ],
            "image/png": "[encoded data removed]"
          },
          "metadata": {
            "needs_background": "light"
          }
        }
      ]
    },
    {
      "cell_type": "markdown",
      "metadata": {
        "id": "A4n2s76eqi-d"
      },
      "source": [
        "Therefore,\n",
        "\n",
        "- 846 meteorites fell on Earth from 1970 to 1975 (excluding 1975)\n",
        "\n",
        "- 4116 meteorites fell on Earth from 1975 to 1980 (excluding 1980)\n",
        "\n",
        "- 1708 meteorites fell on Earth from 1980 to 1985 (excluding 1985)\n",
        "\n",
        "- 5098 meteorites fell on Earth from 1985 to 1990 (excluding 1990)\n",
        "\n",
        "- 4448 meteorites fell on Earth from 1990 to 1995 (excluding 1995)\n",
        "\n",
        "- 6152 meteorites fell on Earth from 1995 to 2000 (**including** 2000)\n",
        "\n",
        "\n",
        "The values in the annotations are floating point values convetered to the string values. Let's first convert them into the integer values before converting them to the string values to avoid `0` after the decimal point."
      ]
    },
    {
      "cell_type": "code",
      "metadata": {
        "id": "OYvwnzyTZxjG",
        "colab": {
          "base_uri": "https://localhost:8080/",
          "height": 444
        },
        "outputId": "81e21b8b-0d92-4c90-990b-eae5cd6e4d0f"
      },
      "source": [
        "# Student Action: Convert the height values to integer values before converting them to the string values in the above histogram.\n",
        "plt.figure(figsize=(10, 6))\n",
        "plot4 = sns.distplot(correct_lat_long_df.loc[(correct_lat_long_df['year'] >= 1970) & (correct_lat_long_df['year'] < 2001), 'year'], bins=6, kde=False)\n",
        "for i in plot4.patches:\n",
        "  plot4.annotate(str(int(i.get_height())), xy = (i.get_x() + i.get_width() / 2,i.get_height()), ha = 'center', va  = 'bottom')\n",
        "plt.grid()\n",
        "plt.show()"
      ],
      "execution_count": null,
      "outputs": [
        {
          "output_type": "stream",
          "name": "stderr",
          "text": [
            "/usr/local/lib/python3.7/dist-packages/seaborn/distributions.py:2619: FutureWarning: `distplot` is a deprecated function and will be removed in a future version. Please adapt your code to use either `displot` (a figure-level function with similar flexibility) or `histplot` (an axes-level function for histograms).\n",
            "  warnings.warn(msg, FutureWarning)\n"
          ]
        },
        {
          "output_type": "display_data",
          "data": {
            "text/plain": [
              "<Figure size 720x432 with 1 Axes>"
            ],
            "image/png": "[encoded data removed]"
          },
          "metadata": {
            "needs_background": "light"
          }
        }
      ]
    },
    {
      "cell_type": "markdown",
      "metadata": {
        "id": "S_Zjx-qtF1fy"
      },
      "source": [
        "---"
      ]
    },
    {
      "cell_type": "markdown",
      "metadata": {
        "id": "WJD9Kl36wl83"
      },
      "source": [
        "#### Activity 5: Annotating `matplotlib.pyplot` Histogram^^^\n",
        "\n",
        "The annotation of a histogram created using the `hist()` function which exists in the `matplotlib.pyplot` module is slightly different. Let's jump in right away without going too much into the theory.\n",
        "\n",
        "Let's create a histogram for the meteorites fallen on Earth between 1970 and 2000 (both inclusive) using the `hist()` function and store it in a variable. Let's keep the bin size 6 because we want to compare this histogram with the one created using the `distplot()` function."
      ]
    },
    {
      "cell_type": "code",
      "metadata": {
        "id": "rMlhLP2KfiJb",
        "colab": {
          "base_uri": "https://localhost:8080/",
          "height": 320
        },
        "outputId": "fa6e528d-96cf-4adb-9da9-f112bc43794b"
      },
      "source": [
        "# Student Action: Using the 'hist()' function, create a histogram for the meteorites fallen on Earth between 1970 & 2000 (both inclusive)\n",
        "# Store the histogram in a variable.\n",
        "plt.figure(figsize = (20,5))\n",
        "hist1 = plt.hist(correct_lat_long_df.loc[(correct_lat_long_df['year'] >= 1970) & (correct_lat_long_df['year'] < 2001), 'year'], bins = 6)\n",
        "\n",
        "plt.show()\n",
        "# Keep the bin size 6 because we want to compare the histogram with the one created using the 'distplot()' function.\n"
      ],
      "execution_count": null,
      "outputs": [
        {
          "output_type": "display_data",
          "data": {
            "text/plain": [
              "<Figure size 1440x360 with 1 Axes>"
            ],
            "image/png": "[encoded data removed]"
          },
          "metadata": {
            "needs_background": "light"
          }
        }
      ]
    },
    {
      "cell_type": "markdown",
      "metadata": {
        "id": "TXh1plZ_Hbuo"
      },
      "source": [
        "The `plt.hist()` function returns a tuple containing 3 items. Therefore, the value stored in the `hgram` variable is a tuple containing 3 items. They are:\n",
        "\n",
        "1. The height of the bars in the histogram.\n",
        "\n",
        "2. The $x-$coordinates on the $x-$axis of the histogram.\n",
        "\n",
        "3. The attributes for each bar (or rectangle) in the histogram."
      ]
    },
    {
      "cell_type": "code",
      "metadata": {
        "id": "pUlvFvjEhASB",
        "colab": {
          "base_uri": "https://localhost:8080/"
        },
        "outputId": "11af24b8-2d37-4282-f988-2384a9198f35"
      },
      "source": [
        "# Student Action: Verify whether the 'hgram' variable stores a tuple or not. Also, print the items of the tuple stored in the 'hgram' variable.\n",
        "type(hist1)"
      ],
      "execution_count": null,
      "outputs": [
        {
          "output_type": "execute_result",
          "data": {
            "text/plain": [
              "tuple"
            ]
          },
          "metadata": {},
          "execution_count": 34
        }
      ]
    },
    {
      "cell_type": "code",
      "source": [
        "for i in hist1[2]:\n",
        "  print(i.get_x())\n",
        "  print(i.get_height())\n",
        "  print(i.get_width())\n",
        "  print(i.get_y())"
      ],
      "metadata": {
        "colab": {
          "base_uri": "https://localhost:8080/"
        },
        "id": "jereZE6K_MIj",
        "outputId": "4d66078a-d3dc-4345-f489-6e5fc32f4f32"
      },
      "execution_count": null,
      "outputs": [
        {
          "output_type": "stream",
          "name": "stdout",
          "text": [
            "1970.0\n",
            "846.0\n",
            "5.0\n",
            "0.0\n",
            "1975.0\n",
            "4116.0\n",
            "5.0\n",
            "0.0\n",
            "1980.0\n",
            "1708.0\n",
            "5.0\n",
            "0.0\n",
            "1985.0\n",
            "5098.0\n",
            "5.0\n",
            "0.0\n",
            "1990.0\n",
            "4448.0\n",
            "5.0\n",
            "0.0\n",
            "1995.0\n",
            "6152.0\n",
            "5.0\n",
            "0.0\n"
          ]
        }
      ]
    },
    {
      "cell_type": "markdown",
      "metadata": {
        "id": "dJXR4fQKundn"
      },
      "source": [
        "As you can see, the `hgram` variable indeed stores a tuple.\n",
        "\n",
        "The list containing the attributes of rectangles (or bars) such as width, height, $x$ and $y$ coordinates, in the histogram exists at index 2 of the tuple contained in the `hgram` variable. Let's print these rectangle attributes."
      ]
    },
    {
      "cell_type": "code",
      "metadata": {
        "id": "L8tTv48OtZXl",
        "colab": {
          "base_uri": "https://localhost:8080/",
          "height": 320
        },
        "outputId": "3cd1b5dc-51a8-402d-a4a6-f2ee30cc9189"
      },
      "source": [
        "# Student Action: Print the rectangle (or bar) attributes of the histogram stored in the 'hgram' variable.\n",
        "plt.figure(figsize = (20,5))\n",
        "hist2 = plt.hist(correct_lat_long_df.loc[(correct_lat_long_df['year'] >= 1970) & (correct_lat_long_df['year'] < 2001), 'year'], bins = 6)\n",
        "\n",
        "for i in hist2[2]:\n",
        "  plt.annotate(str(int(i.get_height())), xy = (i.get_x() + i.get_width() / 2,i.get_height()), ha = 'center', va  = 'bottom')\n",
        "plt.grid()\n",
        "plt.show()"
      ],
      "execution_count": null,
      "outputs": [
        {
          "output_type": "display_data",
          "data": {
            "text/plain": [
              "<Figure size 1440x360 with 1 Axes>"
            ],
            "image/png": "[encoded data removed]"
          },
          "metadata": {
            "needs_background": "light"
          }
        }
      ]
    },
    {
      "cell_type": "markdown",
      "metadata": {
        "id": "CnBiM33XqaVE"
      },
      "source": [
        "Now, let's annotate the `matplotlib.pyplot` histogram using the `annotate()` function."
      ]
    },
    {
      "cell_type": "code",
      "metadata": {
        "id": "kjYC5DshvY-L"
      },
      "source": [
        "# Student Action: Annotate the histogram stored in the 'hgram' variable.\n"
      ],
      "execution_count": null,
      "outputs": []
    },
    {
      "cell_type": "markdown",
      "metadata": {
        "id": "ep2E2q3aTUvQ"
      },
      "source": [
        "The count of the meteorites fallen, in the above histogram are float values. Let's convert them first into integer values and then convert them into string values."
      ]
    },
    {
      "cell_type": "code",
      "metadata": {
        "id": "eNz1dVX5TeOr",
        "colab": {
          "base_uri": "https://localhost:8080/",
          "height": 206
        },
        "outputId": "3b908265-b199-455d-f5d4-e7fd46cc1579"
      },
      "source": [
        "# Student Action: Convert the count values into the integer values.\n",
        "correct_lat_long_df.head()"
      ],
      "execution_count": null,
      "outputs": [
        {
          "output_type": "execute_result",
          "data": {
            "text/plain": [
              "       name   id nametype     recclass      mass  fall  year    reclat  \\\n",
              "0    Aachen    1    Valid           L5      21.0  Fell  1880  50.77500   \n",
              "1    Aarhus    2    Valid           H6     720.0  Fell  1951  56.18333   \n",
              "2      Abee    6    Valid          EH4  107000.0  Fell  1952  54.21667   \n",
              "3  Acapulco   10    Valid  Acapulcoite    1914.0  Fell  1976  16.88333   \n",
              "4   Achiras  370    Valid           L6     780.0  Fell  1902 -33.16667   \n",
              "\n",
              "     reclong               GeoLocation  \n",
              "0    6.08333     (50.775000, 6.083330)  \n",
              "1   10.23333    (56.183330, 10.233330)  \n",
              "2 -113.00000  (54.216670, -113.000000)  \n",
              "3  -99.90000   (16.883330, -99.900000)  \n",
              "4  -64.95000  (-33.166670, -64.950000)  "
            ],
            "text/html": [
              "\n",
              "  <div id=\"df-89cd19a3-2ad2-4f9f-9b42-b0b62d5475a0\">\n",
              "    <div class=\"colab-df-container\">\n",
              "      <div>\n",
              "<style scoped>\n",
              "    .dataframe tbody tr th:only-of-type {\n",
              "        vertical-align: middle;\n",
              "    }\n",
              "\n",
              "    .dataframe tbody tr th {\n",
              "        vertical-align: top;\n",
              "    }\n",
              "\n",
              "    .dataframe thead th {\n",
              "        text-align: right;\n",
              "    }\n",
              "</style>\n",
              "<table border=\"1\" class=\"dataframe\">\n",
              "  <thead>\n",
              "    <tr style=\"text-align: right;\">\n",
              "      <th></th>\n",
              "      <th>name</th>\n",
              "      <th>id</th>\n",
              "      <th>nametype</th>\n",
              "      <th>recclass</th>\n",
              "      <th>mass</th>\n",
              "      <th>fall</th>\n",
              "      <th>year</th>\n",
              "      <th>reclat</th>\n",
              "      <th>reclong</th>\n",
              "      <th>GeoLocation</th>\n",
              "    </tr>\n",
              "  </thead>\n",
              "  <tbody>\n",
              "    <tr>\n",
              "      <th>0</th>\n",
              "      <td>Aachen</td>\n",
              "      <td>1</td>\n",
              "      <td>Valid</td>\n",
              "      <td>L5</td>\n",
              "      <td>21.0</td>\n",
              "      <td>Fell</td>\n",
              "      <td>1880</td>\n",
              "      <td>50.77500</td>\n",
              "      <td>6.08333</td>\n",
              "      <td>(50.775000, 6.083330)</td>\n",
              "    </tr>\n",
              "    <tr>\n",
              "      <th>1</th>\n",
              "      <td>Aarhus</td>\n",
              "      <td>2</td>\n",
              "      <td>Valid</td>\n",
              "      <td>H6</td>\n",
              "      <td>720.0</td>\n",
              "      <td>Fell</td>\n",
              "      <td>1951</td>\n",
              "      <td>56.18333</td>\n",
              "      <td>10.23333</td>\n",
              "      <td>(56.183330, 10.233330)</td>\n",
              "    </tr>\n",
              "    <tr>\n",
              "      <th>2</th>\n",
              "      <td>Abee</td>\n",
              "      <td>6</td>\n",
              "      <td>Valid</td>\n",
              "      <td>EH4</td>\n",
              "      <td>107000.0</td>\n",
              "      <td>Fell</td>\n",
              "      <td>1952</td>\n",
              "      <td>54.21667</td>\n",
              "      <td>-113.00000</td>\n",
              "      <td>(54.216670, -113.000000)</td>\n",
              "    </tr>\n",
              "    <tr>\n",
              "      <th>3</th>\n",
              "      <td>Acapulco</td>\n",
              "      <td>10</td>\n",
              "      <td>Valid</td>\n",
              "      <td>Acapulcoite</td>\n",
              "      <td>1914.0</td>\n",
              "      <td>Fell</td>\n",
              "      <td>1976</td>\n",
              "      <td>16.88333</td>\n",
              "      <td>-99.90000</td>\n",
              "      <td>(16.883330, -99.900000)</td>\n",
              "    </tr>\n",
              "    <tr>\n",
              "      <th>4</th>\n",
              "      <td>Achiras</td>\n",
              "      <td>370</td>\n",
              "      <td>Valid</td>\n",
              "      <td>L6</td>\n",
              "      <td>780.0</td>\n",
              "      <td>Fell</td>\n",
              "      <td>1902</td>\n",
              "      <td>-33.16667</td>\n",
              "      <td>-64.95000</td>\n",
              "      <td>(-33.166670, -64.950000)</td>\n",
              "    </tr>\n",
              "  </tbody>\n",
              "</table>\n",
              "</div>\n",
              "      <button class=\"colab-df-convert\" onclick=\"convertToInteractive('df-89cd19a3-2ad2-4f9f-9b42-b0b62d5475a0')\"\n",
              "              title=\"Convert this dataframe to an interactive table.\"\n",
              "              style=\"display:none;\">\n",
              "        \n",
              "  <svg xmlns=\"http://www.w3.org/2000/svg\" height=\"24px\"viewBox=\"0 0 24 24\"\n",
              "       width=\"24px\">\n",
              "    <path d=\"M0 0h24v24H0V0z\" fill=\"none\"/>\n",
              "    <path d=\"M18.56 5.44l.94 2.06.94-2.06 2.06-.94-2.06-.94-.94-2.06-.94 2.06-2.06.94zm-11 1L8.5 8.5l.94-2.06 2.06-.94-2.06-.94L8.5 2.5l-.94 2.06-2.06.94zm10 10l.94 2.06.94-2.06 2.06-.94-2.06-.94-.94-2.06-.94 2.06-2.06.94z\"/><path d=\"M17.41 7.96l-1.37-1.37c-.4-.4-.92-.59-1.43-.59-.52 0-1.04.2-1.43.59L10.3 9.45l-7.72 7.72c-.78.78-.78 2.05 0 2.83L4 21.41c.39.39.9.59 1.41.59.51 0 1.02-.2 1.41-.59l7.78-7.78 2.81-2.81c.8-.78.8-2.07 0-2.86zM5.41 20L4 18.59l7.72-7.72 1.47 1.35L5.41 20z\"/>\n",
              "  </svg>\n",
              "      </button>\n",
              "      \n",
              "  <style>\n",
              "    .colab-df-container {\n",
              "      display:flex;\n",
              "      flex-wrap:wrap;\n",
              "      gap: 12px;\n",
              "    }\n",
              "\n",
              "    .colab-df-convert {\n",
              "      background-color: #E8F0FE;\n",
              "      border: none;\n",
              "      border-radius: 50%;\n",
              "      cursor: pointer;\n",
              "      display: none;\n",
              "      fill: #1967D2;\n",
              "      height: 32px;\n",
              "      padding: 0 0 0 0;\n",
              "      width: 32px;\n",
              "    }\n",
              "\n",
              "    .colab-df-convert:hover {\n",
              "      background-color: #E2EBFA;\n",
              "      box-shadow: 0px 1px 2px rgba(60, 64, 67, 0.3), 0px 1px 3px 1px rgba(60, 64, 67, 0.15);\n",
              "      fill: #174EA6;\n",
              "    }\n",
              "\n",
              "    [theme=dark] .colab-df-convert {\n",
              "      background-color: #3B4455;\n",
              "      fill: #D2E3FC;\n",
              "    }\n",
              "\n",
              "    [theme=dark] .colab-df-convert:hover {\n",
              "      background-color: #434B5C;\n",
              "      box-shadow: 0px 1px 3px 1px rgba(0, 0, 0, 0.15);\n",
              "      filter: drop-shadow(0px 1px 2px rgba(0, 0, 0, 0.3));\n",
              "      fill: #FFFFFF;\n",
              "    }\n",
              "  </style>\n",
              "\n",
              "      <script>\n",
              "        const buttonEl =\n",
              "          document.querySelector('#df-89cd19a3-2ad2-4f9f-9b42-b0b62d5475a0 button.colab-df-convert');\n",
              "        buttonEl.style.display =\n",
              "          google.colab.kernel.accessAllowed ? 'block' : 'none';\n",
              "\n",
              "        async function convertToInteractive(key) {\n",
              "          const element = document.querySelector('#df-89cd19a3-2ad2-4f9f-9b42-b0b62d5475a0');\n",
              "          const dataTable =\n",
              "            await google.colab.kernel.invokeFunction('convertToInteractive',\n",
              "                                                     [key], {});\n",
              "          if (!dataTable) return;\n",
              "\n",
              "          const docLinkHtml = 'Like what you see? Visit the ' +\n",
              "            '<a target=\"_blank\" href=https://colab.research.google.com/notebooks/data_table.ipynb>data table notebook</a>'\n",
              "            + ' to learn more about interactive tables.';\n",
              "          element.innerHTML = '';\n",
              "          dataTable['output_type'] = 'display_data';\n",
              "          await google.colab.output.renderOutput(dataTable, element);\n",
              "          const docLink = document.createElement('div');\n",
              "          docLink.innerHTML = docLinkHtml;\n",
              "          element.appendChild(docLink);\n",
              "        }\n",
              "      </script>\n",
              "    </div>\n",
              "  </div>\n",
              "  "
            ]
          },
          "metadata": {},
          "execution_count": 41
        }
      ]
    },
    {
      "cell_type": "markdown",
      "metadata": {
        "id": "rANxgCfyA_69"
      },
      "source": [
        "As you can see, now we have integer values annotated to the bars in the histogram.\n",
        "\n",
        "So this is all about bar graphs and histograms. In the next class, we will learn some cool facts about meteorites. The next class will be a little more theoretical. Make sure that you have revised the previous lessons thoroughly before the next class."
      ]
    },
    {
      "cell_type": "markdown",
      "metadata": {
        "id": "GVPZ6pWI3tvS"
      },
      "source": [
        "---"
      ]
    }
  ]
}