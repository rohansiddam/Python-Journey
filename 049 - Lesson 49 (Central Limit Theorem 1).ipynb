{
  "nbformat": 4,
  "nbformat_minor": 0,
  "metadata": {
    "colab": {
      "provenance": [],
      "include_colab_link": true
    },
    "kernelspec": {
      "name": "python3",
      "display_name": "Python 3"
    }
  },
  "cells": [
    {
      "cell_type": "markdown",
      "metadata": {
        "id": "view-in-github",
        "colab_type": "text"
      },
      "source": [
        "<a href=\"https://colab.research.google.com/github/rohansiddam/Python-Journey/blob/main/049%20-%20Lesson%2049%20(Central%20Limit%20Theorem%201).ipynb\" target=\"_parent\"><img src=\"https://colab.research.google.com/assets/colab-badge.svg\" alt=\"Open In Colab\"/></a>"
      ]
    },
    {
      "cell_type": "markdown",
      "metadata": {
        "id": "Q7hw3pDcIn2J"
      },
      "source": [
        "# Lesson 49: Central Limit Theorem I"
      ]
    },
    {
      "cell_type": "markdown",
      "metadata": {
        "id": "ze9uSJt-I-0E"
      },
      "source": [
        "### Teacher-Student Activities\n",
        "\n",
        "In this class, you will learn about sampling distribution and Central Limit Theorem which is one of the most important theorems used in statistical inference. We will implement the Central Limit Theorem on a **Heart Disease dataset**. For this, we need to learn a simple concept called sampling. Before we continue further, let's load the heart disease dataset.\n",
        "\n",
        "**Data Description**\n",
        "\n",
        "The heart Disease UCI dataset contains data collected on 14 different attributes by examining 303 patients. The dataset focuses only on differentiating patients having heart disease; labelled as value 1 and those not having heart disease; labelled as value 0. The 14 attributes (or columns) are as follows:\n",
        "\n",
        "|Columns|Description|\n",
        "|-|-|\n",
        "|age|age in years|\n",
        "|sex|sex (1 = male; 0 = female)|\n",
        "|cp|chest pain type (4 values)|\n",
        "|trestbps|resting blood pressure (in mm Hg on admission to the hospital)|\n",
        "|chol|serum cholesterol in $\\frac{mg}{dl}$|\n",
        "|fbs|fasting blood sugar > 120 $\\frac{mg}{dl}$|\n",
        "|restecg|resting electrocardiographic results (values 0, 1, 2)|\n",
        "|thalach|maximum heart rate achieved|\n",
        "|exang|exercise induced angina (1 = yes; 0 = no)|\n",
        "|oldpeak|ST depression induced by exercise relative to rest|\n",
        "|slope|the slope of the peak exercise ST segment|\n",
        "|ca|number of major vessels (0-3) colored by fluoroscopy|\n",
        "|thal|A blood disorder called thalassemia|\n",
        "|target|1 = presence of heart disease; 0 = absence of heart disease|\n",
        "\n",
        "**Source:** https://archive.ics.uci.edu/ml/datasets/Heart+Disease\n",
        "\n",
        "\n"
      ]
    },
    {
      "cell_type": "markdown",
      "metadata": {
        "id": "BpKI2pWEtREK"
      },
      "source": [
        "---"
      ]
    },
    {
      "cell_type": "markdown",
      "metadata": {
        "id": "f2UBkl1AZuRc"
      },
      "source": [
        "#### Activity 1: Loading Data\n",
        "\n",
        "Load the heart disease dataset. Here's the dataset link:\n",
        "\n",
        "https://student-datasets-bucket.s3.ap-south-1.amazonaws.com/whitehat-ds-datasets/uci-heart-disease/heart.csv\n"
      ]
    },
    {
      "cell_type": "code",
      "metadata": {
        "id": "tmRB05lddS--",
        "colab": {
          "base_uri": "https://localhost:8080/",
          "height": 206
        },
        "outputId": "49239f39-abac-41ee-e479-e1ebacb7a177"
      },
      "source": [
        "# S1.1: Import the required modules and load the heart disease dataset. Also, display the first five rows.\n",
        "import pandas as pd\n",
        "import numpy as np\n",
        "import matplotlib.pyplot as plt\n",
        "import seaborn as sns\n",
        "\n",
        "df = pd.read_csv('https://student-datasets-bucket.s3.ap-south-1.amazonaws.com/whitehat-ds-datasets/uci-heart-disease/heart.csv')\n",
        "df.head()"
      ],
      "execution_count": null,
      "outputs": [
        {
          "output_type": "execute_result",
          "data": {
            "text/plain": [
              "   age  sex  cp  trestbps  chol  fbs  restecg  thalach  exang  oldpeak  slope  \\\n",
              "0   63    1   3       145   233    1        0      150      0      2.3      0   \n",
              "1   37    1   2       130   250    0        1      187      0      3.5      0   \n",
              "2   41    0   1       130   204    0        0      172      0      1.4      2   \n",
              "3   56    1   1       120   236    0        1      178      0      0.8      2   \n",
              "4   57    0   0       120   354    0        1      163      1      0.6      2   \n",
              "\n",
              "   ca  thal  target  \n",
              "0   0     1       1  \n",
              "1   0     2       1  \n",
              "2   0     2       1  \n",
              "3   0     2       1  \n",
              "4   0     2       1  "
            ],
            "text/html": [
              "\n",
              "  <div id=\"df-89766782-be92-41b9-846f-4a151e12b03e\">\n",
              "    <div class=\"colab-df-container\">\n",
              "      <div>\n",
              "<style scoped>\n",
              "    .dataframe tbody tr th:only-of-type {\n",
              "        vertical-align: middle;\n",
              "    }\n",
              "\n",
              "    .dataframe tbody tr th {\n",
              "        vertical-align: top;\n",
              "    }\n",
              "\n",
              "    .dataframe thead th {\n",
              "        text-align: right;\n",
              "    }\n",
              "</style>\n",
              "<table border=\"1\" class=\"dataframe\">\n",
              "  <thead>\n",
              "    <tr style=\"text-align: right;\">\n",
              "      <th></th>\n",
              "      <th>age</th>\n",
              "      <th>sex</th>\n",
              "      <th>cp</th>\n",
              "      <th>trestbps</th>\n",
              "      <th>chol</th>\n",
              "      <th>fbs</th>\n",
              "      <th>restecg</th>\n",
              "      <th>thalach</th>\n",
              "      <th>exang</th>\n",
              "      <th>oldpeak</th>\n",
              "      <th>slope</th>\n",
              "      <th>ca</th>\n",
              "      <th>thal</th>\n",
              "      <th>target</th>\n",
              "    </tr>\n",
              "  </thead>\n",
              "  <tbody>\n",
              "    <tr>\n",
              "      <th>0</th>\n",
              "      <td>63</td>\n",
              "      <td>1</td>\n",
              "      <td>3</td>\n",
              "      <td>145</td>\n",
              "      <td>233</td>\n",
              "      <td>1</td>\n",
              "      <td>0</td>\n",
              "      <td>150</td>\n",
              "      <td>0</td>\n",
              "      <td>2.3</td>\n",
              "      <td>0</td>\n",
              "      <td>0</td>\n",
              "      <td>1</td>\n",
              "      <td>1</td>\n",
              "    </tr>\n",
              "    <tr>\n",
              "      <th>1</th>\n",
              "      <td>37</td>\n",
              "      <td>1</td>\n",
              "      <td>2</td>\n",
              "      <td>130</td>\n",
              "      <td>250</td>\n",
              "      <td>0</td>\n",
              "      <td>1</td>\n",
              "      <td>187</td>\n",
              "      <td>0</td>\n",
              "      <td>3.5</td>\n",
              "      <td>0</td>\n",
              "      <td>0</td>\n",
              "      <td>2</td>\n",
              "      <td>1</td>\n",
              "    </tr>\n",
              "    <tr>\n",
              "      <th>2</th>\n",
              "      <td>41</td>\n",
              "      <td>0</td>\n",
              "      <td>1</td>\n",
              "      <td>130</td>\n",
              "      <td>204</td>\n",
              "      <td>0</td>\n",
              "      <td>0</td>\n",
              "      <td>172</td>\n",
              "      <td>0</td>\n",
              "      <td>1.4</td>\n",
              "      <td>2</td>\n",
              "      <td>0</td>\n",
              "      <td>2</td>\n",
              "      <td>1</td>\n",
              "    </tr>\n",
              "    <tr>\n",
              "      <th>3</th>\n",
              "      <td>56</td>\n",
              "      <td>1</td>\n",
              "      <td>1</td>\n",
              "      <td>120</td>\n",
              "      <td>236</td>\n",
              "      <td>0</td>\n",
              "      <td>1</td>\n",
              "      <td>178</td>\n",
              "      <td>0</td>\n",
              "      <td>0.8</td>\n",
              "      <td>2</td>\n",
              "      <td>0</td>\n",
              "      <td>2</td>\n",
              "      <td>1</td>\n",
              "    </tr>\n",
              "    <tr>\n",
              "      <th>4</th>\n",
              "      <td>57</td>\n",
              "      <td>0</td>\n",
              "      <td>0</td>\n",
              "      <td>120</td>\n",
              "      <td>354</td>\n",
              "      <td>0</td>\n",
              "      <td>1</td>\n",
              "      <td>163</td>\n",
              "      <td>1</td>\n",
              "      <td>0.6</td>\n",
              "      <td>2</td>\n",
              "      <td>0</td>\n",
              "      <td>2</td>\n",
              "      <td>1</td>\n",
              "    </tr>\n",
              "  </tbody>\n",
              "</table>\n",
              "</div>\n",
              "      <button class=\"colab-df-convert\" onclick=\"convertToInteractive('df-89766782-be92-41b9-846f-4a151e12b03e')\"\n",
              "              title=\"Convert this dataframe to an interactive table.\"\n",
              "              style=\"display:none;\">\n",
              "        \n",
              "  <svg xmlns=\"http://www.w3.org/2000/svg\" height=\"24px\"viewBox=\"0 0 24 24\"\n",
              "       width=\"24px\">\n",
              "    <path d=\"M0 0h24v24H0V0z\" fill=\"none\"/>\n",
              "    <path d=\"M18.56 5.44l.94 2.06.94-2.06 2.06-.94-2.06-.94-.94-2.06-.94 2.06-2.06.94zm-11 1L8.5 8.5l.94-2.06 2.06-.94-2.06-.94L8.5 2.5l-.94 2.06-2.06.94zm10 10l.94 2.06.94-2.06 2.06-.94-2.06-.94-.94-2.06-.94 2.06-2.06.94z\"/><path d=\"M17.41 7.96l-1.37-1.37c-.4-.4-.92-.59-1.43-.59-.52 0-1.04.2-1.43.59L10.3 9.45l-7.72 7.72c-.78.78-.78 2.05 0 2.83L4 21.41c.39.39.9.59 1.41.59.51 0 1.02-.2 1.41-.59l7.78-7.78 2.81-2.81c.8-.78.8-2.07 0-2.86zM5.41 20L4 18.59l7.72-7.72 1.47 1.35L5.41 20z\"/>\n",
              "  </svg>\n",
              "      </button>\n",
              "      \n",
              "  <style>\n",
              "    .colab-df-container {\n",
              "      display:flex;\n",
              "      flex-wrap:wrap;\n",
              "      gap: 12px;\n",
              "    }\n",
              "\n",
              "    .colab-df-convert {\n",
              "      background-color: #E8F0FE;\n",
              "      border: none;\n",
              "      border-radius: 50%;\n",
              "      cursor: pointer;\n",
              "      display: none;\n",
              "      fill: #1967D2;\n",
              "      height: 32px;\n",
              "      padding: 0 0 0 0;\n",
              "      width: 32px;\n",
              "    }\n",
              "\n",
              "    .colab-df-convert:hover {\n",
              "      background-color: #E2EBFA;\n",
              "      box-shadow: 0px 1px 2px rgba(60, 64, 67, 0.3), 0px 1px 3px 1px rgba(60, 64, 67, 0.15);\n",
              "      fill: #174EA6;\n",
              "    }\n",
              "\n",
              "    [theme=dark] .colab-df-convert {\n",
              "      background-color: #3B4455;\n",
              "      fill: #D2E3FC;\n",
              "    }\n",
              "\n",
              "    [theme=dark] .colab-df-convert:hover {\n",
              "      background-color: #434B5C;\n",
              "      box-shadow: 0px 1px 3px 1px rgba(0, 0, 0, 0.15);\n",
              "      filter: drop-shadow(0px 1px 2px rgba(0, 0, 0, 0.3));\n",
              "      fill: #FFFFFF;\n",
              "    }\n",
              "  </style>\n",
              "\n",
              "      <script>\n",
              "        const buttonEl =\n",
              "          document.querySelector('#df-89766782-be92-41b9-846f-4a151e12b03e button.colab-df-convert');\n",
              "        buttonEl.style.display =\n",
              "          google.colab.kernel.accessAllowed ? 'block' : 'none';\n",
              "\n",
              "        async function convertToInteractive(key) {\n",
              "          const element = document.querySelector('#df-89766782-be92-41b9-846f-4a151e12b03e');\n",
              "          const dataTable =\n",
              "            await google.colab.kernel.invokeFunction('convertToInteractive',\n",
              "                                                     [key], {});\n",
              "          if (!dataTable) return;\n",
              "\n",
              "          const docLinkHtml = 'Like what you see? Visit the ' +\n",
              "            '<a target=\"_blank\" href=https://colab.research.google.com/notebooks/data_table.ipynb>data table notebook</a>'\n",
              "            + ' to learn more about interactive tables.';\n",
              "          element.innerHTML = '';\n",
              "          dataTable['output_type'] = 'display_data';\n",
              "          await google.colab.output.renderOutput(dataTable, element);\n",
              "          const docLink = document.createElement('div');\n",
              "          docLink.innerHTML = docLinkHtml;\n",
              "          element.appendChild(docLink);\n",
              "        }\n",
              "      </script>\n",
              "    </div>\n",
              "  </div>\n",
              "  "
            ]
          },
          "metadata": {},
          "execution_count": 13
        }
      ]
    },
    {
      "cell_type": "markdown",
      "metadata": {
        "id": "h1a-clG-jqPr"
      },
      "source": [
        "Let's first look at the complete information on the `df` DataFrame."
      ]
    },
    {
      "cell_type": "code",
      "metadata": {
        "id": "M2x3F5XtkAGd",
        "colab": {
          "base_uri": "https://localhost:8080/"
        },
        "outputId": "dd221135-6c2a-49bd-8044-d62145d06a4b"
      },
      "source": [
        "# S1.2: Apply the 'info()' function on the 'df' DataFrame.\n",
        "df.info()\n",
        "df.isnull().sum()"
      ],
      "execution_count": null,
      "outputs": [
        {
          "output_type": "stream",
          "name": "stdout",
          "text": [
            "<class 'pandas.core.frame.DataFrame'>\n",
            "RangeIndex: 303 entries, 0 to 302\n",
            "Data columns (total 14 columns):\n",
            " #   Column    Non-Null Count  Dtype  \n",
            "---  ------    --------------  -----  \n",
            " 0   age       303 non-null    int64  \n",
            " 1   sex       303 non-null    int64  \n",
            " 2   cp        303 non-null    int64  \n",
            " 3   trestbps  303 non-null    int64  \n",
            " 4   chol      303 non-null    int64  \n",
            " 5   fbs       303 non-null    int64  \n",
            " 6   restecg   303 non-null    int64  \n",
            " 7   thalach   303 non-null    int64  \n",
            " 8   exang     303 non-null    int64  \n",
            " 9   oldpeak   303 non-null    float64\n",
            " 10  slope     303 non-null    int64  \n",
            " 11  ca        303 non-null    int64  \n",
            " 12  thal      303 non-null    int64  \n",
            " 13  target    303 non-null    int64  \n",
            "dtypes: float64(1), int64(13)\n",
            "memory usage: 33.3 KB\n"
          ]
        },
        {
          "output_type": "execute_result",
          "data": {
            "text/plain": [
              "age         0\n",
              "sex         0\n",
              "cp          0\n",
              "trestbps    0\n",
              "chol        0\n",
              "fbs         0\n",
              "restecg     0\n",
              "thalach     0\n",
              "exang       0\n",
              "oldpeak     0\n",
              "slope       0\n",
              "ca          0\n",
              "thal        0\n",
              "target      0\n",
              "dtype: int64"
            ]
          },
          "metadata": {},
          "execution_count": 4
        }
      ]
    },
    {
      "cell_type": "markdown",
      "metadata": {
        "id": "RgnxI54ckEb6"
      },
      "source": [
        "As you can see there are 303 entries for each column and no missing values. For implementing the Central Limit theorem, we need to choose a column having continuous numeric values. So, let's consider `chol` (cholesterol) column and plot its distribution."
      ]
    },
    {
      "cell_type": "markdown",
      "metadata": {
        "id": "f6cHtaNIxePz"
      },
      "source": [
        "---"
      ]
    },
    {
      "cell_type": "markdown",
      "metadata": {
        "id": "_7HeL3fGxe4Q"
      },
      "source": [
        "#### Activity 2: Sampling\n",
        "\n",
        "**Q: What is sampling?**\n",
        "\n",
        "Sampling is a process of taking a few data points (or observations) from an entire column. Let's draw a sample of 10 cholesterol values from the `chol` column. For this, you need to use the `sample()` function from the `pandas` module. The source of the sample itself becomes the population. It takes an integer value as input which denotes the number of samples to be drawn.\n",
        "\n",
        "**Syntax: `sample(n = num_of_samples)`**\n",
        "\n"
      ]
    },
    {
      "cell_type": "code",
      "metadata": {
        "id": "sv2HkJAiZhH7",
        "colab": {
          "base_uri": "https://localhost:8080/"
        },
        "outputId": "7ecc9d77-ce6d-4699-8cf5-534d47b6a9c8"
      },
      "source": [
        "# S2.1: Draw a sample of 10 cholesterol values from the 'chol' column.\n",
        "df.shape\n",
        "\n",
        "df['target'].value_counts()\n",
        "\n",
        "chol_sample = df['chol'].sample(n = 10)\n",
        "chol_sample"
      ],
      "execution_count": null,
      "outputs": [
        {
          "output_type": "execute_result",
          "data": {
            "text/plain": [
              "258    244\n",
              "68     220\n",
              "138    201\n",
              "192    188\n",
              "19     239\n",
              "100    244\n",
              "295    187\n",
              "232    289\n",
              "61     309\n",
              "194    185\n",
              "Name: chol, dtype: int64"
            ]
          },
          "metadata": {},
          "execution_count": 12
        }
      ]
    },
    {
      "cell_type": "markdown",
      "metadata": {
        "id": "pvPhUc0wZU93"
      },
      "source": [
        "As you can see, we have taken a sample of 10 random cholesterol values from the `chol` column.\n",
        "\n",
        "**Q: Why do we need to do sampling?**\n",
        "\n",
        "Sometimes there is a need to draw some valid conclusions from a large group of individuals or the entire population. Suppose you need to find out the common symptoms found in the patient of heart disease. It may not be feasible or  impossible to examine the symptoms of the entire population. Instead we may examine only a small part or portion of the population known as **sample**. In this way, we can find out what are the common symptoms of heart disease found in patients for the entire population based on the results found in the sample.\n",
        "\n",
        "\n",
        "**Mean of Samples**\n",
        "\n",
        "We will draw several random samples and find their means. Then we will plot the means on a histogram. You will see that means of all the samples follow normal distribution. You have seen that it is easy to make probabilistic predictions using the normal distribution.\n",
        "\n",
        "Let's plot the distribution of the `chol` column."
      ]
    },
    {
      "cell_type": "code",
      "metadata": {
        "id": "l8AXn58-k_O9",
        "colab": {
          "base_uri": "https://localhost:8080/",
          "height": 265
        },
        "outputId": "3f14159c-45b6-4b94-8547-bf3ada690cc0"
      },
      "source": [
        "# S2.2: Create a histogram for all the observations in the 'chol' column.\n",
        "plt.figure(figsize = (8,4))\n",
        "plt.hist(df['chol'])\n",
        "plt.axvline(x = df['chol'].mean())\n",
        "plt.show()"
      ],
      "execution_count": null,
      "outputs": [
        {
          "output_type": "display_data",
          "data": {
            "text/plain": [
              "<Figure size 576x288 with 1 Axes>"
            ],
            "image/png": "[encoded data removed]"
          },
          "metadata": {
            "needs_background": "light"
          }
        }
      ]
    },
    {
      "cell_type": "code",
      "source": [
        "df['chol'].mean()"
      ],
      "metadata": {
        "colab": {
          "base_uri": "https://localhost:8080/"
        },
        "id": "J4qxlplwCDv2",
        "outputId": "29ca6b04-7c41-43ee-bb42-9a77a2a8b30f"
      },
      "execution_count": null,
      "outputs": [
        {
          "output_type": "execute_result",
          "data": {
            "text/plain": [
              "246.26402640264027"
            ]
          },
          "metadata": {},
          "execution_count": 17
        }
      ]
    },
    {
      "cell_type": "markdown",
      "metadata": {
        "id": "2-9pWOeSnsab"
      },
      "source": [
        "We can see that the vertical red line which indicates the mean of data is almost at the centre of  distribution. It is not exactly a normal distribution but close to it. The mean of population here is $246.264$ approx. The population mean is denoted as $\\mu$. Thus, $\\mu = 246.264$\n",
        "\n"
      ]
    },
    {
      "cell_type": "markdown",
      "metadata": {
        "id": "j8pd_qHxtgtu"
      },
      "source": [
        "---"
      ]
    },
    {
      "cell_type": "markdown",
      "metadata": {
        "id": "N6Rxqc5aoV2X"
      },
      "source": [
        "#### Activity 3: Distribution of Means of Samples\n",
        "\n",
        "Let's draw 300 samples from the `chol` columns each having 30 observations from the `chol` column and compute their means. Then let's create a histogram for the means of 300 samples."
      ]
    },
    {
      "cell_type": "code",
      "metadata": {
        "id": "_rav_4fcO3pN",
        "colab": {
          "base_uri": "https://localhost:8080/",
          "height": 320
        },
        "outputId": "a92dac11-3057-492d-d9db-fc1843ba0f59"
      },
      "source": [
        "# T3.1: Draw 300 samples from the 'chol' column each having 30 observations, compute their means and create a histogram for the means of samples.\n",
        "num_of_samples = 300\n",
        "samples = []\n",
        "for i in range(num_of_samples):\n",
        "  samples.append(df['chol'].sample(n = 30).mean())\n",
        "\n",
        "print(samples)\n",
        "\n",
        "plt.figure(figsize = (8,4))\n",
        "plt.hist(samples)\n",
        "plt.axvline(np.mean(samples))\n",
        "plt.show()\n",
        "\n",
        "print(np.mean(samples))"
      ],
      "execution_count": null,
      "outputs": [
        {
          "output_type": "stream",
          "name": "stdout",
          "text": [
            "[254.46666666666667, 246.73333333333332, 223.43333333333334, 262.03333333333336, 255.1, 239.9, 241.13333333333333, 250.03333333333333, 249.43333333333334, 261.56666666666666, 241.66666666666666, 248.73333333333332, 245.0, 247.1, 229.53333333333333, 251.76666666666668, 244.5, 244.83333333333334, 246.86666666666667, 232.8, 250.36666666666667, 263.8666666666667, 239.3, 259.6666666666667, 252.36666666666667, 242.5, 237.66666666666666, 241.56666666666666, 252.76666666666668, 262.1666666666667, 241.8, 238.96666666666667, 244.93333333333334, 249.3, 243.8, 238.1, 258.43333333333334, 252.26666666666668, 234.06666666666666, 240.43333333333334, 249.73333333333332, 250.53333333333333, 235.43333333333334, 237.3, 242.3, 262.8666666666667, 246.63333333333333, 239.9, 242.66666666666666, 243.53333333333333, 239.73333333333332, 252.33333333333334, 239.46666666666667, 238.23333333333332, 254.5, 237.8, 236.46666666666667, 240.76666666666668, 238.03333333333333, 250.9, 237.4, 226.83333333333334, 249.8, 245.7, 233.8, 243.13333333333333, 252.83333333333334, 230.03333333333333, 235.93333333333334, 244.13333333333333, 258.6666666666667, 260.6333333333333, 254.86666666666667, 252.13333333333333, 247.26666666666668, 253.33333333333334, 248.9, 240.3, 243.1, 253.76666666666668, 237.36666666666667, 243.0, 244.96666666666667, 251.86666666666667, 249.4, 246.1, 229.5, 251.16666666666666, 241.23333333333332, 235.1, 244.46666666666667, 259.23333333333335, 254.13333333333333, 255.83333333333334, 246.16666666666666, 255.23333333333332, 243.3, 262.6, 224.73333333333332, 255.76666666666668, 247.43333333333334, 242.46666666666667, 244.93333333333334, 248.2, 249.23333333333332, 258.3666666666667, 254.96666666666667, 244.9, 241.4, 258.6, 241.03333333333333, 261.7, 245.3, 253.2, 238.03333333333333, 262.3666666666667, 254.2, 241.6, 253.53333333333333, 240.03333333333333, 239.23333333333332, 232.06666666666666, 249.66666666666666, 234.9, 250.9, 251.1, 257.93333333333334, 235.83333333333334, 252.53333333333333, 249.36666666666667, 236.8, 238.56666666666666, 250.56666666666666, 250.73333333333332, 243.03333333333333, 232.23333333333332, 246.96666666666667, 249.9, 249.86666666666667, 243.96666666666667, 250.73333333333332, 237.43333333333334, 241.73333333333332, 233.66666666666666, 238.2, 246.73333333333332, 257.93333333333334, 257.93333333333334, 241.86666666666667, 232.6, 243.46666666666667, 242.1, 239.5, 244.1, 251.26666666666668, 244.63333333333333, 230.06666666666666, 239.13333333333333, 244.4, 240.83333333333334, 255.8, 241.83333333333334, 255.06666666666666, 243.5, 241.7, 231.06666666666666, 223.5, 234.23333333333332, 239.8, 252.73333333333332, 236.2, 255.43333333333334, 234.63333333333333, 251.4, 251.6, 251.86666666666667, 251.23333333333332, 251.1, 243.16666666666666, 235.13333333333333, 246.56666666666666, 249.03333333333333, 244.03333333333333, 256.7, 243.43333333333334, 231.4, 247.6, 253.36666666666667, 246.76666666666668, 247.96666666666667, 235.9, 245.83333333333334, 262.6333333333333, 241.63333333333333, 234.9, 245.53333333333333, 254.4, 251.33333333333334, 245.63333333333333, 258.3666666666667, 259.1, 252.26666666666668, 237.16666666666666, 236.0, 254.2, 226.43333333333334, 235.66666666666666, 248.66666666666666, 248.83333333333334, 235.6, 254.76666666666668, 267.6666666666667, 247.66666666666666, 242.36666666666667, 241.96666666666667, 255.93333333333334, 254.23333333333332, 243.13333333333333, 230.4, 247.06666666666666, 240.23333333333332, 263.1, 245.23333333333332, 256.06666666666666, 262.3, 244.56666666666666, 259.56666666666666, 244.26666666666668, 249.0, 251.76666666666668, 257.76666666666665, 233.5, 260.53333333333336, 238.26666666666668, 249.93333333333334, 246.13333333333333, 236.7, 263.0, 246.56666666666666, 266.93333333333334, 240.8, 230.63333333333333, 236.03333333333333, 231.8, 246.03333333333333, 232.33333333333334, 258.53333333333336, 243.1, 233.13333333333333, 241.7, 258.53333333333336, 250.43333333333334, 244.7, 235.56666666666666, 240.8, 249.46666666666667, 251.5, 257.2, 245.4, 246.06666666666666, 246.23333333333332, 241.43333333333334, 241.96666666666667, 249.56666666666666, 240.36666666666667, 264.7, 240.6, 250.0, 244.83333333333334, 240.26666666666668, 234.96666666666667, 234.76666666666668, 237.23333333333332, 256.03333333333336, 249.23333333333332, 247.93333333333334, 232.03333333333333, 239.76666666666668, 238.66666666666666, 244.4, 257.23333333333335, 257.1333333333333, 268.8, 257.1666666666667, 246.96666666666667, 266.8333333333333, 259.93333333333334, 222.56666666666666, 230.43333333333334, 247.06666666666666, 250.33333333333334, 235.83333333333334, 238.63333333333333, 249.63333333333333, 234.7, 252.2, 236.86666666666667, 238.7, 241.56666666666666, 235.7]\n"
          ]
        },
        {
          "output_type": "display_data",
          "data": {
            "text/plain": [
              "<Figure size 576x288 with 1 Axes>"
            ],
            "image/png": "[encoded data removed]"
          },
          "metadata": {
            "needs_background": "light"
          }
        },
        {
          "output_type": "stream",
          "name": "stdout",
          "text": [
            "245.85166666666666\n"
          ]
        }
      ]
    },
    {
      "cell_type": "markdown",
      "metadata": {
        "id": "KY8RUpcogKCP"
      },
      "source": [
        "In the above code:\n",
        "\n",
        "1. We created an empty list to store the means of 300 samples.\n",
        "\n",
        "2. Using the `sample()` function, we took 300 samples from the `chol` column each having 30 different cholesterol observations.\n",
        "\n",
        "3. Using the `mean()` function, we calculated the mean for each sample containing 30 cholesterol values.\n",
        "\n",
        "4. Using the `append()` function, we added each sample mean to the `mean_list`\n",
        "\n",
        "5. We created a histogram for all the 300 means of 300 different samples.\n",
        "\n",
        "6. The mean of all the sample means turn out to be approx 246 which is close to the mean of all the values in the `chol` column. This is very important observation\n",
        "\n",
        "*If we take several samples of a dataset (or population) such that each sample contains sufficient number of observations, then the means of all the sample means will be very close or nearly equal to the population mean*\n",
        "\n",
        "This is called **Central Limit Theorem (CLT)**. Also, the means of all the samples follow normal distribution (or bell curve). However, the following two factors must be satisfied:\n",
        "\n",
        "*   For an accurate normal distribution, the sample sizes should be large.\n",
        "\n",
        "*   The more closely the original population resembles a normal distribution, less sample size will be required. In our case the original shape of the distribution for the `chol` column was almost normal. Hence the sample size of 30 was good enough. However, if the original population is not normal (may be badly skewed, has multiple peaks, or has many outliers), sample size must be larger than 30.\n",
        "\n",
        "Let's again take 300 samples and observe the distributions for the means of different samples each having sample sizes $n = 500, 1000, 10000$\n",
        "\n",
        "**Note:** The `chol` column has exactly 303 values. So, to create a sample of 500 values, we have to provide another input `True` which is a value to the `replace` parameter inside the `sample()` function.\n",
        "\n",
        "**Syntax:** `sample(n = num_of_samples, replace = True)`\n",
        "\n",
        "`replace = True` denotes that repeat the values from the `chol` column (population in general).\n",
        "\n",
        "\n"
      ]
    },
    {
      "cell_type": "code",
      "metadata": {
        "id": "W_SVNCx_Hveo",
        "colab": {
          "base_uri": "https://localhost:8080/"
        },
        "outputId": "4e7cfaf1-ad7a-4659-95d7-70a4b6090e62"
      },
      "source": [
        "# S3.1: Create histogram for the means of the samples of the sizes 500, 1000, 10000.\n",
        "\n",
        "num_of_samples = 300\n",
        "samples = []\n",
        "samples2 = []\n",
        "samples3 = []\n",
        "for i in range(num_of_samples):\n",
        "  samples.append(df['chol'].sample(n = 500, replace = True).mean())\n",
        "  samples2.append(df['chol'].sample(n = 1000, replace = True).mean())\n",
        "  samples3.append(df['chol'].sample(n = 10000, replace = True).mean())\n",
        "\n",
        "print(samples)\n",
        "print(samples2)\n",
        "print(samples3)\n",
        "\n"
      ],
      "execution_count": null,
      "outputs": [
        {
          "output_type": "stream",
          "name": "stdout",
          "text": [
            "[249.07, 242.662, 244.782, 247.986, 247.728, 242.878, 249.6, 247.014, 245.97, 251.54, 247.3, 244.236, 247.59, 246.302, 244.832, 245.132, 245.412, 246.976, 251.22, 246.78, 248.148, 243.53, 248.052, 245.318, 247.78, 245.898, 245.994, 244.678, 246.196, 249.672, 244.04, 246.27, 241.868, 248.434, 243.544, 242.782, 240.392, 251.626, 246.674, 251.474, 244.266, 243.108, 245.958, 249.784, 248.282, 248.97, 247.05, 247.59, 247.838, 248.39, 243.938, 243.704, 247.674, 244.482, 248.676, 247.386, 246.082, 243.376, 245.594, 246.672, 246.974, 248.902, 246.24, 246.276, 250.208, 248.862, 248.054, 242.496, 243.15, 248.914, 245.298, 246.88, 247.356, 245.166, 247.712, 247.182, 245.036, 246.718, 245.59, 242.976, 245.174, 244.922, 247.648, 243.922, 246.692, 247.498, 246.164, 244.558, 244.232, 245.008, 247.43, 247.274, 245.338, 248.388, 244.658, 244.636, 245.214, 244.458, 245.056, 243.616, 247.546, 246.846, 246.012, 244.762, 243.888, 242.654, 244.51, 245.42, 248.684, 247.514, 248.006, 249.256, 249.15, 250.666, 245.4, 243.972, 243.998, 246.102, 248.328, 245.462, 246.114, 245.276, 242.26, 245.998, 241.332, 246.052, 243.97, 246.774, 241.152, 249.318, 245.33, 246.742, 244.77, 247.522, 246.79, 247.02, 244.728, 248.66, 246.026, 253.184, 243.792, 244.944, 241.882, 247.418, 245.274, 246.66, 245.898, 241.416, 244.774, 245.38, 250.578, 246.844, 245.712, 249.188, 244.824, 247.35, 246.084, 247.66, 244.256, 248.622, 246.91, 247.554, 243.04, 246.324, 244.52, 247.682, 243.002, 246.242, 247.93, 244.676, 244.938, 247.546, 245.682, 249.806, 247.062, 243.518, 243.352, 245.668, 248.124, 245.708, 242.59, 246.788, 250.484, 245.532, 248.33, 251.48, 245.158, 247.032, 245.328, 246.398, 245.05, 247.528, 247.932, 247.044, 246.49, 245.482, 244.22, 246.352, 245.018, 245.276, 242.792, 245.086, 243.886, 245.01, 243.416, 246.376, 245.762, 248.662, 248.908, 246.076, 247.902, 250.374, 247.166, 246.242, 243.672, 246.554, 246.434, 247.504, 246.542, 246.854, 245.274, 241.522, 246.184, 245.032, 245.694, 243.212, 246.57, 247.534, 244.688, 243.436, 247.344, 247.2, 247.372, 247.09, 248.644, 251.19, 249.886, 247.692, 246.696, 246.492, 246.026, 244.584, 245.348, 244.02, 244.944, 243.404, 244.894, 245.346, 250.462, 245.016, 246.18, 240.036, 244.79, 247.19, 246.952, 247.532, 243.764, 245.67, 239.666, 247.852, 249.234, 249.186, 249.5, 248.818, 245.96, 246.512, 246.428, 245.176, 243.316, 246.394, 248.716, 245.544, 242.298, 247.972, 241.152, 246.26, 246.542, 246.47, 244.676, 245.726, 250.254, 247.276, 247.444, 247.45, 245.14, 243.156, 242.626, 244.288, 245.106, 245.668, 247.026, 247.798, 246.084, 244.806, 245.576, 252.192, 248.328, 246.534, 247.468, 246.066]\n",
            "[245.761, 245.445, 245.167, 241.891, 246.565, 244.828, 245.424, 243.592, 247.222, 249.437, 245.089, 246.229, 248.43, 248.223, 246.966, 247.843, 243.809, 247.71, 244.671, 245.964, 245.172, 246.588, 247.46, 247.659, 247.903, 245.22, 244.648, 245.58, 247.35, 247.403, 248.352, 246.097, 245.38, 245.945, 245.711, 246.851, 245.659, 245.735, 247.923, 246.038, 248.525, 242.631, 245.594, 243.97, 247.494, 245.421, 248.021, 248.153, 247.303, 243.336, 249.96, 247.175, 245.662, 247.443, 244.49, 246.044, 246.132, 246.885, 244.178, 247.64, 245.667, 248.421, 246.139, 247.418, 246.27, 247.322, 244.511, 245.979, 246.106, 246.329, 249.607, 242.024, 247.853, 245.834, 248.361, 244.441, 248.904, 247.668, 246.063, 246.598, 244.233, 247.021, 246.067, 247.071, 245.54, 246.813, 245.62, 248.611, 247.458, 248.29, 247.085, 245.484, 244.96, 245.153, 248.763, 244.597, 249.376, 245.895, 243.946, 243.676, 245.59, 247.289, 246.447, 244.708, 245.593, 247.696, 248.749, 244.882, 245.069, 247.214, 244.498, 245.534, 247.034, 246.621, 243.971, 246.874, 245.91, 245.811, 248.249, 244.57, 246.084, 246.81, 246.258, 246.168, 246.56, 244.625, 245.993, 243.349, 243.073, 247.534, 243.65, 243.613, 245.354, 243.457, 246.95, 244.388, 247.829, 246.095, 246.006, 248.319, 244.382, 248.571, 245.273, 248.006, 246.322, 246.813, 247.052, 246.456, 247.453, 245.461, 245.785, 246.979, 247.362, 244.761, 245.922, 243.691, 247.061, 244.593, 244.823, 245.874, 244.439, 249.684, 250.296, 245.977, 245.187, 247.286, 246.794, 248.007, 246.271, 243.152, 244.661, 244.847, 246.788, 246.435, 246.593, 248.067, 245.473, 245.769, 247.195, 246.282, 246.689, 245.186, 247.232, 248.139, 247.052, 248.696, 245.807, 243.796, 245.472, 245.685, 246.042, 244.727, 245.219, 246.915, 247.974, 246.093, 247.362, 247.206, 250.618, 245.186, 247.037, 246.436, 247.146, 247.816, 245.513, 246.716, 244.035, 245.104, 243.604, 247.183, 247.321, 244.623, 245.964, 245.073, 245.36, 250.081, 246.727, 248.778, 247.762, 247.087, 244.73, 244.909, 245.739, 248.125, 243.884, 248.571, 247.192, 243.473, 246.99, 246.533, 246.259, 244.701, 248.717, 246.912, 246.281, 245.703, 246.414, 244.192, 242.948, 247.764, 245.549, 246.008, 244.97, 246.848, 247.43, 244.955, 249.649, 250.349, 247.582, 247.083, 250.051, 246.102, 245.921, 247.536, 247.484, 244.186, 246.181, 247.144, 247.343, 249.239, 247.691, 244.939, 246.557, 247.291, 246.228, 247.4, 246.028, 247.346, 243.377, 247.347, 245.52, 245.502, 246.565, 244.889, 245.464, 247.05, 248.032, 244.553, 247.915, 244.315, 244.953, 244.543, 246.197, 244.903, 246.362, 247.652, 244.91, 244.74, 247.258, 247.1, 245.091, 245.682, 244.746, 248.398, 243.414, 247.26, 248.232, 248.198, 246.939, 245.4]\n",
            "[246.5877, 247.1342, 246.1149, 246.1606, 246.0272, 246.1913, 247.0255, 245.5793, 246.0684, 246.4283, 245.8214, 244.9631, 246.1475, 245.6838, 246.5323, 245.8486, 246.217, 247.1151, 246.6303, 246.9018, 246.4208, 246.8015, 245.8767, 246.9104, 246.1718, 246.244, 245.5241, 245.5663, 246.3099, 245.4567, 246.745, 246.6361, 246.6215, 246.8624, 246.4134, 247.4914, 245.2205, 245.5893, 246.6521, 246.1803, 246.631, 246.5844, 246.2099, 246.3744, 245.6914, 246.0831, 246.1079, 245.7624, 246.728, 245.9264, 246.1804, 246.5469, 245.2134, 247.4313, 245.1778, 247.0585, 245.5983, 246.7622, 246.2446, 246.1183, 246.789, 246.9352, 246.393, 245.8833, 246.285, 246.0083, 245.6781, 245.652, 245.9816, 246.2289, 246.045, 246.0714, 246.6774, 246.3998, 246.4778, 245.8459, 247.1933, 246.3804, 246.214, 246.6049, 246.3734, 246.837, 245.934, 246.1413, 246.3649, 246.5585, 244.9817, 247.3588, 245.9479, 245.7275, 246.1701, 245.3846, 245.5011, 246.3826, 246.3648, 246.8569, 246.1631, 246.3863, 246.5621, 246.3901, 246.9514, 246.1543, 245.5631, 246.5159, 245.9913, 246.8146, 245.8335, 247.1622, 246.5581, 246.3427, 246.5221, 245.8846, 246.8397, 246.0344, 246.1396, 247.08, 246.9007, 245.942, 246.4333, 245.7855, 246.5276, 245.4368, 246.8787, 246.5647, 246.2603, 245.8182, 246.0879, 245.9842, 246.0953, 245.8079, 247.2055, 245.904, 246.8693, 246.6069, 245.307, 247.8736, 246.7029, 246.678, 247.7268, 246.4228, 246.7143, 245.4042, 245.7205, 246.2913, 246.2554, 246.4165, 245.6796, 246.065, 246.9936, 246.4568, 246.2538, 246.1802, 245.6342, 246.3241, 246.5668, 246.4239, 246.3677, 245.8814, 246.5847, 245.1213, 245.0368, 246.6951, 246.6326, 246.4953, 245.6772, 245.6374, 245.5159, 245.9676, 246.3618, 246.6758, 246.9129, 246.5057, 245.5492, 246.3257, 246.5197, 246.3161, 245.937, 245.4238, 246.3078, 246.2944, 245.5709, 245.483, 246.9484, 245.8374, 245.7046, 245.9313, 246.6756, 246.0379, 246.4814, 245.9043, 245.4906, 246.5551, 246.0565, 246.1458, 246.313, 245.2346, 246.3428, 245.8941, 245.9146, 245.8028, 246.5101, 245.3977, 245.916, 247.1477, 246.8694, 247.0322, 245.402, 246.468, 246.652, 246.5226, 247.0629, 246.7012, 245.5062, 247.3997, 246.9406, 246.5461, 246.8343, 245.5038, 246.0018, 246.1494, 246.3696, 246.8769, 246.4663, 246.8203, 247.4029, 245.5604, 246.1751, 246.1294, 246.5083, 246.295, 246.6598, 246.2482, 245.8393, 246.3624, 246.4816, 247.1827, 246.7761, 247.0739, 246.7326, 245.8086, 246.3563, 246.4552, 246.9962, 246.5327, 246.4196, 245.4771, 246.308, 246.4426, 246.8433, 245.8113, 245.464, 246.3554, 245.847, 245.9245, 246.708, 245.736, 245.7542, 246.7077, 246.285, 246.5344, 246.4936, 247.2437, 246.3554, 245.8865, 245.2351, 246.12, 246.8405, 246.4153, 246.0198, 245.3733, 247.1173, 247.0922, 245.6793, 246.4172, 246.3219, 246.5452, 245.8752, 246.2636, 246.5988, 245.9917, 245.957, 246.2094, 246.9019, 246.3449, 246.8621, 246.559, 245.7165, 246.0094, 246.2514, 246.0098, 246.0314, 246.6648, 245.9172, 246.7529, 246.2707, 246.4919, 245.3216, 246.8599, 245.9359, 246.4295]\n"
          ]
        }
      ]
    },
    {
      "cell_type": "code",
      "source": [
        "plt.figure(figsize =(8,4))\n",
        "sns.distplot(samples, hist = False, label = \"N = 500\")\n",
        "sns.distplot(samples2, hist = False, label = \"N = 1000\")\n",
        "sns.distplot(samples3, hist = False, label = \"N = 10000\")\n",
        "plt.legend()\n",
        "plt.show()"
      ],
      "metadata": {
        "colab": {
          "base_uri": "https://localhost:8080/",
          "height": 389
        },
        "id": "W0_5v3uwEW-Y",
        "outputId": "c28db9f4-b2c9-453d-aaa3-7a6bdfe945b7"
      },
      "execution_count": null,
      "outputs": [
        {
          "output_type": "stream",
          "name": "stderr",
          "text": [
            "/usr/local/lib/python3.7/dist-packages/seaborn/distributions.py:2619: FutureWarning: `distplot` is a deprecated function and will be removed in a future version. Please adapt your code to use either `displot` (a figure-level function with similar flexibility) or `kdeplot` (an axes-level function for kernel density plots).\n",
            "  warnings.warn(msg, FutureWarning)\n",
            "/usr/local/lib/python3.7/dist-packages/seaborn/distributions.py:2619: FutureWarning: `distplot` is a deprecated function and will be removed in a future version. Please adapt your code to use either `displot` (a figure-level function with similar flexibility) or `kdeplot` (an axes-level function for kernel density plots).\n",
            "  warnings.warn(msg, FutureWarning)\n",
            "/usr/local/lib/python3.7/dist-packages/seaborn/distributions.py:2619: FutureWarning: `distplot` is a deprecated function and will be removed in a future version. Please adapt your code to use either `displot` (a figure-level function with similar flexibility) or `kdeplot` (an axes-level function for kernel density plots).\n",
            "  warnings.warn(msg, FutureWarning)\n"
          ]
        },
        {
          "output_type": "display_data",
          "data": {
            "text/plain": [
              "<Figure size 576x288 with 1 Axes>"
            ],
            "image/png": "[encoded data removed]"
          },
          "metadata": {
            "needs_background": "light"
          }
        }
      ]
    },
    {
      "cell_type": "markdown",
      "metadata": {
        "id": "1qcy7zQZSO3x"
      },
      "source": [
        "You may notice that as the sample size increases, the distribution of means of all the samples tends to look more and more like a normal distribution and groups more closely around the population mean (shown by the red vertical line).\n",
        "\n",
        "Try to draw a sample having more than 303 values using the `sample()` function with passing `replace = False` as an input.\n",
        "\n",
        "**Note:** You should get `ValueError` with the following message:\n",
        "\n",
        "```\n",
        "ValueError: Cannot take a larger sample than population when 'replace=False'\n",
        "```\n",
        "\n",
        "\n"
      ]
    },
    {
      "cell_type": "code",
      "metadata": {
        "id": "q4qIBiV9pWdx",
        "colab": {
          "base_uri": "https://localhost:8080/",
          "height": 339
        },
        "outputId": "808afd2e-3199-4a4c-89f7-7bf13a7689c1"
      },
      "source": [
        "# S3.2: Draw a sample having more than 303 values using the 'sample()' function with passing replace = False as an input.\n",
        "df['chol'].sample(n = 500, replace = False)"
      ],
      "execution_count": null,
      "outputs": [
        {
          "output_type": "error",
          "ename": "ValueError",
          "evalue": "ignored",
          "traceback": [
            "\u001b[0;31m---------------------------------------------------------------------------\u001b[0m",
            "\u001b[0;31mValueError\u001b[0m                                Traceback (most recent call last)",
            "\u001b[0;32m<ipython-input-30-bd74af13273c>\u001b[0m in \u001b[0;36m<module>\u001b[0;34m\u001b[0m\n\u001b[1;32m      1\u001b[0m \u001b[0;31m# S3.2: Draw a sample having more than 303 values using the 'sample()' function with passing replace = False as an input.\u001b[0m\u001b[0;34m\u001b[0m\u001b[0;34m\u001b[0m\u001b[0;34m\u001b[0m\u001b[0m\n\u001b[0;32m----> 2\u001b[0;31m \u001b[0mdf\u001b[0m\u001b[0;34m[\u001b[0m\u001b[0;34m'chol'\u001b[0m\u001b[0;34m]\u001b[0m\u001b[0;34m.\u001b[0m\u001b[0msample\u001b[0m\u001b[0;34m(\u001b[0m\u001b[0mn\u001b[0m \u001b[0;34m=\u001b[0m \u001b[0;36m500\u001b[0m\u001b[0;34m,\u001b[0m \u001b[0mreplace\u001b[0m \u001b[0;34m=\u001b[0m \u001b[0;32mFalse\u001b[0m\u001b[0;34m)\u001b[0m\u001b[0;34m\u001b[0m\u001b[0;34m\u001b[0m\u001b[0m\n\u001b[0m",
            "\u001b[0;32m/usr/local/lib/python3.7/dist-packages/pandas/core/generic.py\u001b[0m in \u001b[0;36msample\u001b[0;34m(self, n, frac, replace, weights, random_state, axis, ignore_index)\u001b[0m\n\u001b[1;32m   5363\u001b[0m             )\n\u001b[1;32m   5364\u001b[0m \u001b[0;34m\u001b[0m\u001b[0m\n\u001b[0;32m-> 5365\u001b[0;31m         \u001b[0mlocs\u001b[0m \u001b[0;34m=\u001b[0m \u001b[0mrs\u001b[0m\u001b[0;34m.\u001b[0m\u001b[0mchoice\u001b[0m\u001b[0;34m(\u001b[0m\u001b[0maxis_length\u001b[0m\u001b[0;34m,\u001b[0m \u001b[0msize\u001b[0m\u001b[0;34m=\u001b[0m\u001b[0mn\u001b[0m\u001b[0;34m,\u001b[0m \u001b[0mreplace\u001b[0m\u001b[0;34m=\u001b[0m\u001b[0mreplace\u001b[0m\u001b[0;34m,\u001b[0m \u001b[0mp\u001b[0m\u001b[0;34m=\u001b[0m\u001b[0mweights\u001b[0m\u001b[0;34m)\u001b[0m\u001b[0;34m\u001b[0m\u001b[0;34m\u001b[0m\u001b[0m\n\u001b[0m\u001b[1;32m   5366\u001b[0m         \u001b[0mresult\u001b[0m \u001b[0;34m=\u001b[0m \u001b[0mself\u001b[0m\u001b[0;34m.\u001b[0m\u001b[0mtake\u001b[0m\u001b[0;34m(\u001b[0m\u001b[0mlocs\u001b[0m\u001b[0;34m,\u001b[0m \u001b[0maxis\u001b[0m\u001b[0;34m=\u001b[0m\u001b[0maxis\u001b[0m\u001b[0;34m)\u001b[0m\u001b[0;34m\u001b[0m\u001b[0;34m\u001b[0m\u001b[0m\n\u001b[1;32m   5367\u001b[0m         \u001b[0;32mif\u001b[0m \u001b[0mignore_index\u001b[0m\u001b[0;34m:\u001b[0m\u001b[0;34m\u001b[0m\u001b[0;34m\u001b[0m\u001b[0m\n",
            "\u001b[0;32mmtrand.pyx\u001b[0m in \u001b[0;36mnumpy.random.mtrand.RandomState.choice\u001b[0;34m()\u001b[0m\n",
            "\u001b[0;31mValueError\u001b[0m: Cannot take a larger sample than population when 'replace=False'"
          ]
        }
      ]
    },
    {
      "cell_type": "markdown",
      "metadata": {
        "id": "DMyYBfl6o_t3"
      },
      "source": [
        "Let's see what happens when the sample size of all the samples is very small.\n"
      ]
    },
    {
      "cell_type": "code",
      "metadata": {
        "id": "1qTxg3LrbMjL",
        "colab": {
          "base_uri": "https://localhost:8080/",
          "height": 282
        },
        "outputId": "4f4b3a3d-ceb8-4433-9077-fa32e38e8955"
      },
      "source": [
        "# S3.3: Take 300 samples each having 2 observations, calculate their means and create the histogram for means of all the samples.\n",
        "num_of_samples = 300\n",
        "samples = []\n",
        "for i in range(num_of_samples):\n",
        "  samples.append(df['chol'].sample(n = 2).mean())\n",
        "\n",
        "plt.figure(figsize = (8,4))\n",
        "plt.hist(samples)\n",
        "plt.axvline(np.mean(samples))\n",
        "plt.show()\n",
        "\n",
        "print(np.mean(samples))"
      ],
      "execution_count": null,
      "outputs": [
        {
          "output_type": "display_data",
          "data": {
            "text/plain": [
              "<Figure size 576x288 with 1 Axes>"
            ],
            "image/png": "[encoded data removed]"
          },
          "metadata": {
            "needs_background": "light"
          }
        },
        {
          "output_type": "stream",
          "name": "stdout",
          "text": [
            "249.48666666666668\n"
          ]
        }
      ]
    },
    {
      "cell_type": "markdown",
      "metadata": {
        "id": "FbNUflQEkcKz"
      },
      "source": [
        "Here you can notice that even when the sample size is very small, i.e., $n = 2$, the distribution of the mean of samples is normal. This is because the population (`chol` column ) follows normal distribution approximately."
      ]
    },
    {
      "cell_type": "markdown",
      "metadata": {
        "id": "xvj0rNd0D6fZ"
      },
      "source": [
        "---"
      ]
    }
  ]
}