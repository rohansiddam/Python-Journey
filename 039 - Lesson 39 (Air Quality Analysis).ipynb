{
  "nbformat": 4,
  "nbformat_minor": 0,
  "metadata": {
    "colab": {
      "provenance": [],
      "include_colab_link": true
    },
    "kernelspec": {
      "name": "python3",
      "display_name": "Python 3"
    }
  },
  "cells": [
    {
      "cell_type": "markdown",
      "metadata": {
        "id": "view-in-github",
        "colab_type": "text"
      },
      "source": [
        "<a href=\"https://colab.research.google.com/github/rohansiddam/Python-Journey/blob/main/039%20-%20Lesson%2039%20(Air%20Quality%20Analysis).ipynb\" target=\"_parent\"><img src=\"https://colab.research.google.com/assets/colab-badge.svg\" alt=\"Open In Colab\"/></a>"
      ]
    },
    {
      "cell_type": "markdown",
      "metadata": {
        "id": "j0DY8b_g-p3s"
      },
      "source": [
        "# Lesson 39: Air Quality Analysis - The `datetime` Module"
      ]
    },
    {
      "cell_type": "markdown",
      "metadata": {
        "id": "SOzBJ9tGdovN"
      },
      "source": [
        "### Teacher-Student Activities\n",
        "\n",
        "Let's quickly learn about the features and functions of `datetime` module which is a dedicated module for working with `datetime` objects in Python. Then we will continue with the air quality analysis project."
      ]
    },
    {
      "cell_type": "markdown",
      "metadata": {
        "id": "pmA7GRKwoY-f"
      },
      "source": [
        "---"
      ]
    },
    {
      "cell_type": "markdown",
      "metadata": {
        "id": "smrd6G1QeZCl"
      },
      "source": [
        "#### Activity 1: The `datetime.now()` function\n",
        "\n",
        "The `datetime` module allows us to create date and time objects and manipulate them as we desire. Let's start with importing the `datetime` module."
      ]
    },
    {
      "cell_type": "code",
      "metadata": {
        "id": "cy1hhsRGeK5e"
      },
      "source": [
        "# S1.1: Import the 'datetime' module.\n",
        "import datetime as dt"
      ],
      "execution_count": null,
      "outputs": []
    },
    {
      "cell_type": "markdown",
      "metadata": {
        "id": "6jwmnBlsefb8"
      },
      "source": [
        "Let's now print the current date and time using the `datetime.now()`. It returns the current time in Greenwich Mean Time (GMT) or Coordinated Universal Time (UTC) time zone.\n",
        "\n",
        "The syntax for using the `datetime.now()` function is `datetime.datetime.now()` where the first occurrence of `datetime` denotes the module name and its second occurrence denotes the object type.\n",
        "\n",
        "**Note:** The default format of the `datetime` object is `YYYY-MM-DD HH:MM:SS` where\n",
        "\n",
        "- `YYYY` denotes year,\n",
        "\n",
        "- `MM` denotes month,\n",
        "\n",
        "- `DD` denotes day,\n",
        "\n",
        "- `HH` denotes hours in 24-hours,\n",
        "\n",
        "- `MM` denotes minutes, and\n",
        "\n",
        "- `SS` denotes seconds"
      ]
    },
    {
      "cell_type": "code",
      "metadata": {
        "id": "sU2k0cZvef-E",
        "colab": {
          "base_uri": "https://localhost:8080/"
        },
        "outputId": "1842cf6c-a092-4ae8-fba3-541220c273a2"
      },
      "source": [
        "# S1.2: Get the current time, print it and its data-type.\n",
        "current_date_time = dt.datetime.now()\n",
        "print(current_date_time)"
      ],
      "execution_count": null,
      "outputs": [
        {
          "output_type": "stream",
          "name": "stdout",
          "text": [
            "2022-09-04 17:12:40.726864\n"
          ]
        }
      ]
    },
    {
      "cell_type": "markdown",
      "metadata": {
        "id": "4S6MRS1Kejv3"
      },
      "source": [
        "The fractional value in the above time is microseconds. That's the level of precision of a `datetime` object.\n",
        "\n",
        "You can apply the `day, month, year, hour, minute` and `second` attributes to get the corresponding day, month, year, hour, minute and second values."
      ]
    },
    {
      "cell_type": "code",
      "metadata": {
        "id": "G4UMyvi2ChHG",
        "colab": {
          "base_uri": "https://localhost:8080/"
        },
        "outputId": "2e30fa04-581b-4ec3-9d45-9b7b858cbbd6"
      },
      "source": [
        "# S1.3: Get the corresponding day, month, year, hour, minute and second values. Print the values.\n",
        "print(current_date_time.day)\n",
        "print(current_date_time.month)\n",
        "print(current_date_time.year)\n",
        "print(current_date_time.hour)\n",
        "print(current_date_time.minute)\n",
        "print(current_date_time.second)\n"
      ],
      "execution_count": null,
      "outputs": [
        {
          "output_type": "stream",
          "name": "stdout",
          "text": [
            "4\n",
            "9\n",
            "2022\n",
            "17\n",
            "12\n",
            "40\n"
          ]
        }
      ]
    },
    {
      "cell_type": "markdown",
      "metadata": {
        "id": "BPTB8NLyoa10"
      },
      "source": [
        "---"
      ]
    },
    {
      "cell_type": "markdown",
      "metadata": {
        "id": "NoU5ZgSbmd8Q"
      },
      "source": [
        "#### Activity 2: The `timedelta` Object\n",
        "\n",
        "To get time in Indian Standard Time (IST) time zone, we have to add 5 hours and 30 minutes to the UTC time because IST is equivalent to UTC+5:30. For this, we need to use the `timedelta` object. It represents a duration, the difference between two dates or times.\n",
        "\n",
        "Inside the `timedelta` object, you may pass any one of the following parameters (or arguments).\n",
        "\n",
        "- `days`,\n",
        "\n",
        "- `seconds=0`,\n",
        "\n",
        "- `microseconds`,\n",
        "\n",
        "- `milliseconds`,\n",
        "\n",
        "- `minutes`,\n",
        "\n",
        "- `hours`, and\n",
        "\n",
        "- `weeks`\n",
        "\n",
        "The default value of each of the above parameters is zero. Let's pass `hours=5` and `minutes=30` parameters to the `timedelta` object. Then add it to the current time.\n"
      ]
    },
    {
      "cell_type": "code",
      "metadata": {
        "id": "P4Lb_KE3ekQ6",
        "colab": {
          "base_uri": "https://localhost:8080/"
        },
        "outputId": "87fe51ad-6c8b-4e6f-b3c7-259b9f160b58"
      },
      "source": [
        "# S2.1: Get the current time in IST (or UTC+5:30) time zone. Print it and its data-type.\n",
        "current_date_time_usa = dt.datetime.now() - dt.timedelta(hours = 6)\n",
        "print(current_date_time_usa)"
      ],
      "execution_count": null,
      "outputs": [
        {
          "output_type": "stream",
          "name": "stdout",
          "text": [
            "2022-09-04 11:16:51.613086\n"
          ]
        }
      ]
    },
    {
      "cell_type": "markdown",
      "metadata": {
        "id": "QmgAEY4-spNK"
      },
      "source": [
        "You can also convert the datetime in any time zone by simply adding or subtracting the hours and minutes values from the current time. As a practice, let's convert the current time in the UTC-7:00 zone. It's the time zone for the pacific region of the USA. The silicon valley is located in the same regions."
      ]
    },
    {
      "cell_type": "code",
      "metadata": {
        "id": "f8MbNKBb0rlP",
        "colab": {
          "base_uri": "https://localhost:8080/"
        },
        "outputId": "506195cb-2a30-467e-fa3e-e248685e0761"
      },
      "source": [
        "# S2.2: Get the current time in the UTC-7 time zone.\n",
        "current_date_time_india = dt.datetime.now() + dt.timedelta(hours = 5, minutes = 30)\n",
        "print(current_date_time_india)"
      ],
      "execution_count": null,
      "outputs": [
        {
          "output_type": "stream",
          "name": "stdout",
          "text": [
            "2022-09-04 22:47:53.489487\n"
          ]
        }
      ]
    },
    {
      "cell_type": "code",
      "source": [
        "current_date_time_india = dt.datetime.now() + dt.timedelta()\n",
        "print(current_date_time_india)"
      ],
      "metadata": {
        "colab": {
          "base_uri": "https://localhost:8080/"
        },
        "id": "8hmsuWvIt7Fe",
        "outputId": "ccdc45b0-0468-4928-e30c-c2fa29e425da"
      },
      "execution_count": null,
      "outputs": [
        {
          "output_type": "stream",
          "name": "stdout",
          "text": [
            "2023-09-04 17:18:53.567339\n"
          ]
        }
      ]
    },
    {
      "cell_type": "markdown",
      "metadata": {
        "id": "aWXeBNLgoTfs"
      },
      "source": [
        "---"
      ]
    },
    {
      "cell_type": "markdown",
      "metadata": {
        "id": "bZXxHzxqmAc2"
      },
      "source": [
        "#### Activity 3: The `datetime.strftime()` Function\n",
        "\n",
        "The current date and time values are `datetime` objects. Let's convert them into a string value using the `strftime()` function in the `Month Day, Year HH:MM:SS AM/PM` format where `HH` hours in 12-hour format.\n",
        "\n",
        "Click on the link provided below to get the format codes.\n",
        "\n",
        "[The `strftime()` & `strptime()` Format Codes](https://docs.python.org/3/library/datetime.html#strftime-and-strptime-behavior)\n",
        "\n",
        "**Note:** You may choose any other format of your liking to format a date and time value."
      ]
    },
    {
      "cell_type": "code",
      "metadata": {
        "id": "8Xld_wlHepeZ",
        "colab": {
          "base_uri": "https://localhost:8080/"
        },
        "outputId": "bd8ca517-3a1e-45a3-c675-44b52decbdb7"
      },
      "source": [
        "# S3.1 Convert the current date and time into a string. Also print the data-type of the final value.\n",
        "current_date_time_usa = dt.datetime.now() - dt.timedelta(hours = 6)\n",
        "print(current_date_time_usa)\n",
        "\n",
        "usa_string_time = current_date_time_usa.strftime('%B %d, %Y %I:%M:%S %P')\n",
        "print(usa_string_time)"
      ],
      "execution_count": null,
      "outputs": [
        {
          "output_type": "stream",
          "name": "stdout",
          "text": [
            "2022-09-04 11:25:07.918555\n",
            "September 04, 2022 11:25:07 am\n"
          ]
        }
      ]
    },
    {
      "cell_type": "markdown",
      "metadata": {
        "id": "a8MFaxscq5Br"
      },
      "source": [
        "As you can see, we have converted the date and time values into a string in the desired format."
      ]
    },
    {
      "cell_type": "markdown",
      "metadata": {
        "id": "mWwagNUOsOWQ"
      },
      "source": [
        "---"
      ]
    },
    {
      "cell_type": "markdown",
      "metadata": {
        "id": "TzBnQcuLrFaq"
      },
      "source": [
        "#### Activity 4: The `date()` & `time()` Functions\n",
        "\n",
        "Let's first separate the date and time values from the current `datetime` object using the `date()` and `time()` functions respectively.\n",
        "\n",
        "Also, let's convert the date and time values into string and format them in the `Month Day, Year` and `HH:MM:SS AM/PM` date and time formats respectively."
      ]
    },
    {
      "cell_type": "code",
      "metadata": {
        "id": "-vpWl0_UetJR",
        "colab": {
          "base_uri": "https://localhost:8080/"
        },
        "outputId": "0095f3b4-f605-449d-de17-b4d36dce8d9c"
      },
      "source": [
        "# S4.1: Separate the date and time values from the 'datetime' object. Convert them into string. Print the final values and their data-types.\n",
        "usa_date = current_date_time_usa.date().strftime('%B %d, %Y')\n",
        "print(usa_date)\n",
        "\n",
        "usa_time = current_date_time_usa.time().strftime('%I:%M:%S %P')\n",
        "print(usa_time)"
      ],
      "execution_count": null,
      "outputs": [
        {
          "output_type": "stream",
          "name": "stdout",
          "text": [
            "September 04, 2022\n",
            "11:25:07 am\n"
          ]
        }
      ]
    },
    {
      "cell_type": "markdown",
      "metadata": {
        "id": "6Vhb0qIWuEom"
      },
      "source": [
        "---"
      ]
    },
    {
      "cell_type": "markdown",
      "metadata": {
        "id": "D6MRwgKIev0e"
      },
      "source": [
        "#### Activity 5: The `datetime.strptime()` Function^^^\n",
        "\n",
        "We can create a `datetime` object by passing the string values to the `strptime()` function.\n",
        "\n",
        "As an example, let's create a `datetime` object for the date December 26, 2019. It was the day when the Earth observed the latest annular solar eclipse at around 0334 hours (GMT) in Saudi Arabia. Click on the link provided below to read about it more.\n",
        "\n",
        "[Annular Solar Eclipse on December 26, 2019](https://www.space.com/ring-of-fire-solar-eclipse-2019-photos-videos.html)\n",
        "\n",
        "The `strptime()` function requires two parameters:  \n",
        "\n",
        "- The `datetime` object as a string\n",
        "\n",
        "- The combination of format codes for the passed `datetime` object. E.g., if the datetime object is `May 04, 2020 06:14:48 PM`, then the required combination format codes is `'%B %d, %Y %I:%M:%S %p'`"
      ]
    },
    {
      "cell_type": "code",
      "metadata": {
        "id": "R8WBV8g9eyhe",
        "colab": {
          "base_uri": "https://localhost:8080/"
        },
        "outputId": "5a11bcae-1c9b-4fe3-a702-f90f8f3846c7"
      },
      "source": [
        "# S5.1: Create a datetime object by passing the string values to the 'strptime()' function. Also, print the data-type of the object.\n",
        "datetime = dt.datetime.strptime('May 04, 2020 06:14:48 PM', '%B %d, %Y %I:%M:%S %p')\n",
        "print(datetime)\n",
        "print(type(datetime))"
      ],
      "execution_count": null,
      "outputs": [
        {
          "output_type": "stream",
          "name": "stdout",
          "text": [
            "2020-05-04 18:14:48\n",
            "<class 'datetime.datetime'>\n"
          ]
        }
      ]
    },
    {
      "cell_type": "markdown",
      "metadata": {
        "id": "kwRJ4y83Iyeq"
      },
      "source": [
        "**Fun Fact:** An eclipse repeats itself in approximately 6,585.3 days.\n",
        "\n",
        "So, we can determine the date and time for the next occurrence of the annular solar eclipse that was observed on 26 December 2019."
      ]
    },
    {
      "cell_type": "code",
      "metadata": {
        "id": "mpqm8sa7HFwh",
        "colab": {
          "base_uri": "https://localhost:8080/"
        },
        "outputId": "ec4ac16e-15c9-4a91-d2bb-4bad14197021"
      },
      "source": [
        "# S5.2: Determine the date and time for the next occurrence of the annular solar eclipse that was observed on 26 December 2019.\n",
        "eclipse = dt.datetime.strptime('Dec 26, 2019 03:34:00 AM', '%b %d, %Y %I:%M:%S %p') + dt.timedelta(days = 6585.3)\n",
        "print(eclipse)\n"
      ],
      "execution_count": null,
      "outputs": [
        {
          "output_type": "stream",
          "name": "stdout",
          "text": [
            "2038-01-05 10:46:00\n"
          ]
        }
      ]
    },
    {
      "cell_type": "markdown",
      "metadata": {
        "id": "8OsxsPr5yWPk"
      },
      "source": [
        "So, the last annular solar eclipse will repeat again on 5 January 2038 at about 10:47 AM. You can verify it by opening the document provided below and jumping to page number A-480.\n",
        "\n",
        "[List of Solar Eclipses](https://eclipse.gsfc.nasa.gov/5MCSE/5MCSE-Maps-10.pdf)\n",
        "\n",
        "Here is a snapshot from the document.\n",
        "\n",
        "<img src='https://student-datasets-bucket.s3.ap-south-1.amazonaws.com/images/next_annular_solar_eclipse2038.png' width=800>"
      ]
    },
    {
      "cell_type": "markdown",
      "metadata": {
        "id": "q2BJBdeR0tWV"
      },
      "source": [
        "---"
      ]
    },
    {
      "cell_type": "markdown",
      "metadata": {
        "id": "-ld_gHsVwn-F"
      },
      "source": [
        "#### Activity 6: Only `dates` & `times`^^"
      ]
    },
    {
      "cell_type": "markdown",
      "metadata": {
        "id": "xsKQ8ZA13ICF"
      },
      "source": [
        "We can create separate `datetime.date` and `datetime.time` objects by passing values to the `date()` and `time()` functions."
      ]
    },
    {
      "cell_type": "code",
      "metadata": {
        "id": "Cv4qW53bJ9Vy",
        "colab": {
          "base_uri": "https://localhost:8080/"
        },
        "outputId": "669c41f2-5159-456f-97e8-62f846951ec3"
      },
      "source": [
        "# S6.1 Create only a 'datetime.date' object for your birthday. Print it and its data-type.\n",
        "birthday = dt.date(2020,1,28)\n",
        "print(type(birthday))"
      ],
      "execution_count": null,
      "outputs": [
        {
          "output_type": "stream",
          "name": "stdout",
          "text": [
            "<class 'datetime.date'>\n"
          ]
        }
      ]
    },
    {
      "cell_type": "code",
      "metadata": {
        "id": "dOck1OebKK_J",
        "colab": {
          "base_uri": "https://localhost:8080/"
        },
        "outputId": "9f41abcd-a694-44bf-c552-4f1a605bacea"
      },
      "source": [
        "# S6.2 Create only a 'datetime.time' object for any random time. Print it and its data-type.\n",
        "time = dt.time(12,4,20)\n",
        "print(type(time))"
      ],
      "execution_count": null,
      "outputs": [
        {
          "output_type": "stream",
          "name": "stdout",
          "text": [
            "<class 'datetime.time'>\n"
          ]
        }
      ]
    },
    {
      "cell_type": "markdown",
      "metadata": {
        "id": "uFNSA3NGfKYL"
      },
      "source": [
        "---"
      ]
    },
    {
      "cell_type": "markdown",
      "metadata": {
        "id": "RbKE24jFAYgj"
      },
      "source": [
        "#### Activity 7: Continuing Air Quality Analysis\n",
        "\n",
        "Let's continue with the air quality analysis. We need to load the dataset, remove the `Unnamed: 15` & `Unnamed: 16` columns and drop the null values.\n",
        "\n",
        "Also, in the previous class, we created a new Pandas series containing the concatenated date and time values."
      ]
    },
    {
      "cell_type": "code",
      "metadata": {
        "id": "xczoNMbpBb8l",
        "colab": {
          "base_uri": "https://localhost:8080/"
        },
        "outputId": "66846ea6-45b4-438c-cc15-d6294127c0e8"
      },
      "source": [
        "# S7.1: Run the code cell.\n",
        "import numpy as np\n",
        "import pandas as pd\n",
        "import matplotlib.pyplot as plt\n",
        "import seaborn as sns\n",
        "\n",
        "# Loading the dataset\n",
        "csv_file = 'https://student-datasets-bucket.s3.ap-south-1.amazonaws.com/whitehat-ds-datasets/air-quality/AirQualityUCI.csv'\n",
        "df = pd.read_csv(csv_file, sep=';')\n",
        "\n",
        "# Dropping the 'Unnamed: 15' & 'Unnamed: 16' columns\n",
        "df = df.drop(columns=['Unnamed: 15', 'Unnamed: 16'], axis=1)\n",
        "\n",
        "# Dropping the null values\n",
        "df = df.dropna()\n",
        "\n",
        "# Creating a Pandas series containing 'datetime' objects.\n",
        "dt_series = pd.Series(data = [item.split(\"/\")[2] + \"-\" + item.split(\"/\")[1] + \"-\" + item.split(\"/\")[0] for item in df['Date']], index=df.index) + ' ' + pd.Series(data=[str(item).replace(\".\", \":\") for item in df['Time']], index=df.index)\n",
        "dt_series = pd.to_datetime(dt_series)\n",
        "dt_series"
      ],
      "execution_count": null,
      "outputs": [
        {
          "output_type": "execute_result",
          "data": {
            "text/plain": [
              "0      2004-03-10 18:00:00\n",
              "1      2004-03-10 19:00:00\n",
              "2      2004-03-10 20:00:00\n",
              "3      2004-03-10 21:00:00\n",
              "4      2004-03-10 22:00:00\n",
              "               ...        \n",
              "9352   2005-04-04 10:00:00\n",
              "9353   2005-04-04 11:00:00\n",
              "9354   2005-04-04 12:00:00\n",
              "9355   2005-04-04 13:00:00\n",
              "9356   2005-04-04 14:00:00\n",
              "Length: 9357, dtype: datetime64[ns]"
            ]
          },
          "metadata": {},
          "execution_count": 29
        }
      ]
    },
    {
      "cell_type": "markdown",
      "metadata": {
        "id": "6sCS3wC6FfTh"
      },
      "source": [
        "Let's remove the `Date` & `Time` columns from the DataFrame because we don't need them and insert the `dt_series` in it because it contains the `datetime` objects."
      ]
    },
    {
      "cell_type": "code",
      "metadata": {
        "id": "0GALRL4-F6PX",
        "colab": {
          "base_uri": "https://localhost:8080/",
          "height": 206
        },
        "outputId": "85a1158d-a5d2-4f43-8d2b-79bc81c6ad24"
      },
      "source": [
        "# S7.2 Display the first five rows of the DataFrame before removing the 'Date' and 'Time' columns.\n",
        "df.head()"
      ],
      "execution_count": null,
      "outputs": [
        {
          "output_type": "execute_result",
          "data": {
            "text/plain": [
              "         Date      Time CO(GT)  PT08.S1(CO)  NMHC(GT) C6H6(GT)  PT08.S2(NMHC)  \\\n",
              "0  10/03/2004  18.00.00    2,6       1360.0     150.0     11,9         1046.0   \n",
              "1  10/03/2004  19.00.00      2       1292.0     112.0      9,4          955.0   \n",
              "2  10/03/2004  20.00.00    2,2       1402.0      88.0      9,0          939.0   \n",
              "3  10/03/2004  21.00.00    2,2       1376.0      80.0      9,2          948.0   \n",
              "4  10/03/2004  22.00.00    1,6       1272.0      51.0      6,5          836.0   \n",
              "\n",
              "   NOx(GT)  PT08.S3(NOx)  NO2(GT)  PT08.S4(NO2)  PT08.S5(O3)     T    RH  \\\n",
              "0    166.0        1056.0    113.0        1692.0       1268.0  13,6  48,9   \n",
              "1    103.0        1174.0     92.0        1559.0        972.0  13,3  47,7   \n",
              "2    131.0        1140.0    114.0        1555.0       1074.0  11,9  54,0   \n",
              "3    172.0        1092.0    122.0        1584.0       1203.0  11,0  60,0   \n",
              "4    131.0        1205.0    116.0        1490.0       1110.0  11,2  59,6   \n",
              "\n",
              "       AH  \n",
              "0  0,7578  \n",
              "1  0,7255  \n",
              "2  0,7502  \n",
              "3  0,7867  \n",
              "4  0,7888  "
            ],
            "text/html": [
              "\n",
              "  <div id=\"df-6043ee31-db3a-48b3-b593-c0a50eb35f98\">\n",
              "    <div class=\"colab-df-container\">\n",
              "      <div>\n",
              "<style scoped>\n",
              "    .dataframe tbody tr th:only-of-type {\n",
              "        vertical-align: middle;\n",
              "    }\n",
              "\n",
              "    .dataframe tbody tr th {\n",
              "        vertical-align: top;\n",
              "    }\n",
              "\n",
              "    .dataframe thead th {\n",
              "        text-align: right;\n",
              "    }\n",
              "</style>\n",
              "<table border=\"1\" class=\"dataframe\">\n",
              "  <thead>\n",
              "    <tr style=\"text-align: right;\">\n",
              "      <th></th>\n",
              "      <th>Date</th>\n",
              "      <th>Time</th>\n",
              "      <th>CO(GT)</th>\n",
              "      <th>PT08.S1(CO)</th>\n",
              "      <th>NMHC(GT)</th>\n",
              "      <th>C6H6(GT)</th>\n",
              "      <th>PT08.S2(NMHC)</th>\n",
              "      <th>NOx(GT)</th>\n",
              "      <th>PT08.S3(NOx)</th>\n",
              "      <th>NO2(GT)</th>\n",
              "      <th>PT08.S4(NO2)</th>\n",
              "      <th>PT08.S5(O3)</th>\n",
              "      <th>T</th>\n",
              "      <th>RH</th>\n",
              "      <th>AH</th>\n",
              "    </tr>\n",
              "  </thead>\n",
              "  <tbody>\n",
              "    <tr>\n",
              "      <th>0</th>\n",
              "      <td>10/03/2004</td>\n",
              "      <td>18.00.00</td>\n",
              "      <td>2,6</td>\n",
              "      <td>1360.0</td>\n",
              "      <td>150.0</td>\n",
              "      <td>11,9</td>\n",
              "      <td>1046.0</td>\n",
              "      <td>166.0</td>\n",
              "      <td>1056.0</td>\n",
              "      <td>113.0</td>\n",
              "      <td>1692.0</td>\n",
              "      <td>1268.0</td>\n",
              "      <td>13,6</td>\n",
              "      <td>48,9</td>\n",
              "      <td>0,7578</td>\n",
              "    </tr>\n",
              "    <tr>\n",
              "      <th>1</th>\n",
              "      <td>10/03/2004</td>\n",
              "      <td>19.00.00</td>\n",
              "      <td>2</td>\n",
              "      <td>1292.0</td>\n",
              "      <td>112.0</td>\n",
              "      <td>9,4</td>\n",
              "      <td>955.0</td>\n",
              "      <td>103.0</td>\n",
              "      <td>1174.0</td>\n",
              "      <td>92.0</td>\n",
              "      <td>1559.0</td>\n",
              "      <td>972.0</td>\n",
              "      <td>13,3</td>\n",
              "      <td>47,7</td>\n",
              "      <td>0,7255</td>\n",
              "    </tr>\n",
              "    <tr>\n",
              "      <th>2</th>\n",
              "      <td>10/03/2004</td>\n",
              "      <td>20.00.00</td>\n",
              "      <td>2,2</td>\n",
              "      <td>1402.0</td>\n",
              "      <td>88.0</td>\n",
              "      <td>9,0</td>\n",
              "      <td>939.0</td>\n",
              "      <td>131.0</td>\n",
              "      <td>1140.0</td>\n",
              "      <td>114.0</td>\n",
              "      <td>1555.0</td>\n",
              "      <td>1074.0</td>\n",
              "      <td>11,9</td>\n",
              "      <td>54,0</td>\n",
              "      <td>0,7502</td>\n",
              "    </tr>\n",
              "    <tr>\n",
              "      <th>3</th>\n",
              "      <td>10/03/2004</td>\n",
              "      <td>21.00.00</td>\n",
              "      <td>2,2</td>\n",
              "      <td>1376.0</td>\n",
              "      <td>80.0</td>\n",
              "      <td>9,2</td>\n",
              "      <td>948.0</td>\n",
              "      <td>172.0</td>\n",
              "      <td>1092.0</td>\n",
              "      <td>122.0</td>\n",
              "      <td>1584.0</td>\n",
              "      <td>1203.0</td>\n",
              "      <td>11,0</td>\n",
              "      <td>60,0</td>\n",
              "      <td>0,7867</td>\n",
              "    </tr>\n",
              "    <tr>\n",
              "      <th>4</th>\n",
              "      <td>10/03/2004</td>\n",
              "      <td>22.00.00</td>\n",
              "      <td>1,6</td>\n",
              "      <td>1272.0</td>\n",
              "      <td>51.0</td>\n",
              "      <td>6,5</td>\n",
              "      <td>836.0</td>\n",
              "      <td>131.0</td>\n",
              "      <td>1205.0</td>\n",
              "      <td>116.0</td>\n",
              "      <td>1490.0</td>\n",
              "      <td>1110.0</td>\n",
              "      <td>11,2</td>\n",
              "      <td>59,6</td>\n",
              "      <td>0,7888</td>\n",
              "    </tr>\n",
              "  </tbody>\n",
              "</table>\n",
              "</div>\n",
              "      <button class=\"colab-df-convert\" onclick=\"convertToInteractive('df-6043ee31-db3a-48b3-b593-c0a50eb35f98')\"\n",
              "              title=\"Convert this dataframe to an interactive table.\"\n",
              "              style=\"display:none;\">\n",
              "        \n",
              "  <svg xmlns=\"http://www.w3.org/2000/svg\" height=\"24px\"viewBox=\"0 0 24 24\"\n",
              "       width=\"24px\">\n",
              "    <path d=\"M0 0h24v24H0V0z\" fill=\"none\"/>\n",
              "    <path d=\"M18.56 5.44l.94 2.06.94-2.06 2.06-.94-2.06-.94-.94-2.06-.94 2.06-2.06.94zm-11 1L8.5 8.5l.94-2.06 2.06-.94-2.06-.94L8.5 2.5l-.94 2.06-2.06.94zm10 10l.94 2.06.94-2.06 2.06-.94-2.06-.94-.94-2.06-.94 2.06-2.06.94z\"/><path d=\"M17.41 7.96l-1.37-1.37c-.4-.4-.92-.59-1.43-.59-.52 0-1.04.2-1.43.59L10.3 9.45l-7.72 7.72c-.78.78-.78 2.05 0 2.83L4 21.41c.39.39.9.59 1.41.59.51 0 1.02-.2 1.41-.59l7.78-7.78 2.81-2.81c.8-.78.8-2.07 0-2.86zM5.41 20L4 18.59l7.72-7.72 1.47 1.35L5.41 20z\"/>\n",
              "  </svg>\n",
              "      </button>\n",
              "      \n",
              "  <style>\n",
              "    .colab-df-container {\n",
              "      display:flex;\n",
              "      flex-wrap:wrap;\n",
              "      gap: 12px;\n",
              "    }\n",
              "\n",
              "    .colab-df-convert {\n",
              "      background-color: #E8F0FE;\n",
              "      border: none;\n",
              "      border-radius: 50%;\n",
              "      cursor: pointer;\n",
              "      display: none;\n",
              "      fill: #1967D2;\n",
              "      height: 32px;\n",
              "      padding: 0 0 0 0;\n",
              "      width: 32px;\n",
              "    }\n",
              "\n",
              "    .colab-df-convert:hover {\n",
              "      background-color: #E2EBFA;\n",
              "      box-shadow: 0px 1px 2px rgba(60, 64, 67, 0.3), 0px 1px 3px 1px rgba(60, 64, 67, 0.15);\n",
              "      fill: #174EA6;\n",
              "    }\n",
              "\n",
              "    [theme=dark] .colab-df-convert {\n",
              "      background-color: #3B4455;\n",
              "      fill: #D2E3FC;\n",
              "    }\n",
              "\n",
              "    [theme=dark] .colab-df-convert:hover {\n",
              "      background-color: #434B5C;\n",
              "      box-shadow: 0px 1px 3px 1px rgba(0, 0, 0, 0.15);\n",
              "      filter: drop-shadow(0px 1px 2px rgba(0, 0, 0, 0.3));\n",
              "      fill: #FFFFFF;\n",
              "    }\n",
              "  </style>\n",
              "\n",
              "      <script>\n",
              "        const buttonEl =\n",
              "          document.querySelector('#df-6043ee31-db3a-48b3-b593-c0a50eb35f98 button.colab-df-convert');\n",
              "        buttonEl.style.display =\n",
              "          google.colab.kernel.accessAllowed ? 'block' : 'none';\n",
              "\n",
              "        async function convertToInteractive(key) {\n",
              "          const element = document.querySelector('#df-6043ee31-db3a-48b3-b593-c0a50eb35f98');\n",
              "          const dataTable =\n",
              "            await google.colab.kernel.invokeFunction('convertToInteractive',\n",
              "                                                     [key], {});\n",
              "          if (!dataTable) return;\n",
              "\n",
              "          const docLinkHtml = 'Like what you see? Visit the ' +\n",
              "            '<a target=\"_blank\" href=https://colab.research.google.com/notebooks/data_table.ipynb>data table notebook</a>'\n",
              "            + ' to learn more about interactive tables.';\n",
              "          element.innerHTML = '';\n",
              "          dataTable['output_type'] = 'display_data';\n",
              "          await google.colab.output.renderOutput(dataTable, element);\n",
              "          const docLink = document.createElement('div');\n",
              "          docLink.innerHTML = docLinkHtml;\n",
              "          element.appendChild(docLink);\n",
              "        }\n",
              "      </script>\n",
              "    </div>\n",
              "  </div>\n",
              "  "
            ]
          },
          "metadata": {},
          "execution_count": 30
        }
      ]
    },
    {
      "cell_type": "markdown",
      "metadata": {
        "id": "y0UlL7MdGWW4"
      },
      "source": [
        "Let's add the `dt_series` Pandas series to the DataFrame at `index = 0`. Also, let's label it as a `DateTime` column."
      ]
    },
    {
      "cell_type": "code",
      "metadata": {
        "id": "fet1jQCAA1_P"
      },
      "source": [
        "# S7.3: Remove the Date & Time columns from the DataFrame and insert the 'dt_series' in it.\n",
        "df.drop(columns = ['Date', 'Time'], axis = 1, inplace = True)"
      ],
      "execution_count": null,
      "outputs": []
    },
    {
      "cell_type": "code",
      "metadata": {
        "id": "XQiiv3yEA4fH",
        "colab": {
          "base_uri": "https://localhost:8080/",
          "height": 206
        },
        "outputId": "060d1086-9dad-4a9a-8241-4571c18454b8"
      },
      "source": [
        "# S7.4: Display the first five rows of the DataFrame after removing the 'Date' 7 'Time' columns and adding the 'DateTime' column.\n",
        "df.head()"
      ],
      "execution_count": null,
      "outputs": [
        {
          "output_type": "execute_result",
          "data": {
            "text/plain": [
              "  CO(GT)  PT08.S1(CO)  NMHC(GT) C6H6(GT)  PT08.S2(NMHC)  NOx(GT)  \\\n",
              "0    2,6       1360.0     150.0     11,9         1046.0    166.0   \n",
              "1      2       1292.0     112.0      9,4          955.0    103.0   \n",
              "2    2,2       1402.0      88.0      9,0          939.0    131.0   \n",
              "3    2,2       1376.0      80.0      9,2          948.0    172.0   \n",
              "4    1,6       1272.0      51.0      6,5          836.0    131.0   \n",
              "\n",
              "   PT08.S3(NOx)  NO2(GT)  PT08.S4(NO2)  PT08.S5(O3)     T    RH      AH  \n",
              "0        1056.0    113.0        1692.0       1268.0  13,6  48,9  0,7578  \n",
              "1        1174.0     92.0        1559.0        972.0  13,3  47,7  0,7255  \n",
              "2        1140.0    114.0        1555.0       1074.0  11,9  54,0  0,7502  \n",
              "3        1092.0    122.0        1584.0       1203.0  11,0  60,0  0,7867  \n",
              "4        1205.0    116.0        1490.0       1110.0  11,2  59,6  0,7888  "
            ],
            "text/html": [
              "\n",
              "  <div id=\"df-17234f2b-1e7e-4773-b3d1-f9a243667445\">\n",
              "    <div class=\"colab-df-container\">\n",
              "      <div>\n",
              "<style scoped>\n",
              "    .dataframe tbody tr th:only-of-type {\n",
              "        vertical-align: middle;\n",
              "    }\n",
              "\n",
              "    .dataframe tbody tr th {\n",
              "        vertical-align: top;\n",
              "    }\n",
              "\n",
              "    .dataframe thead th {\n",
              "        text-align: right;\n",
              "    }\n",
              "</style>\n",
              "<table border=\"1\" class=\"dataframe\">\n",
              "  <thead>\n",
              "    <tr style=\"text-align: right;\">\n",
              "      <th></th>\n",
              "      <th>CO(GT)</th>\n",
              "      <th>PT08.S1(CO)</th>\n",
              "      <th>NMHC(GT)</th>\n",
              "      <th>C6H6(GT)</th>\n",
              "      <th>PT08.S2(NMHC)</th>\n",
              "      <th>NOx(GT)</th>\n",
              "      <th>PT08.S3(NOx)</th>\n",
              "      <th>NO2(GT)</th>\n",
              "      <th>PT08.S4(NO2)</th>\n",
              "      <th>PT08.S5(O3)</th>\n",
              "      <th>T</th>\n",
              "      <th>RH</th>\n",
              "      <th>AH</th>\n",
              "    </tr>\n",
              "  </thead>\n",
              "  <tbody>\n",
              "    <tr>\n",
              "      <th>0</th>\n",
              "      <td>2,6</td>\n",
              "      <td>1360.0</td>\n",
              "      <td>150.0</td>\n",
              "      <td>11,9</td>\n",
              "      <td>1046.0</td>\n",
              "      <td>166.0</td>\n",
              "      <td>1056.0</td>\n",
              "      <td>113.0</td>\n",
              "      <td>1692.0</td>\n",
              "      <td>1268.0</td>\n",
              "      <td>13,6</td>\n",
              "      <td>48,9</td>\n",
              "      <td>0,7578</td>\n",
              "    </tr>\n",
              "    <tr>\n",
              "      <th>1</th>\n",
              "      <td>2</td>\n",
              "      <td>1292.0</td>\n",
              "      <td>112.0</td>\n",
              "      <td>9,4</td>\n",
              "      <td>955.0</td>\n",
              "      <td>103.0</td>\n",
              "      <td>1174.0</td>\n",
              "      <td>92.0</td>\n",
              "      <td>1559.0</td>\n",
              "      <td>972.0</td>\n",
              "      <td>13,3</td>\n",
              "      <td>47,7</td>\n",
              "      <td>0,7255</td>\n",
              "    </tr>\n",
              "    <tr>\n",
              "      <th>2</th>\n",
              "      <td>2,2</td>\n",
              "      <td>1402.0</td>\n",
              "      <td>88.0</td>\n",
              "      <td>9,0</td>\n",
              "      <td>939.0</td>\n",
              "      <td>131.0</td>\n",
              "      <td>1140.0</td>\n",
              "      <td>114.0</td>\n",
              "      <td>1555.0</td>\n",
              "      <td>1074.0</td>\n",
              "      <td>11,9</td>\n",
              "      <td>54,0</td>\n",
              "      <td>0,7502</td>\n",
              "    </tr>\n",
              "    <tr>\n",
              "      <th>3</th>\n",
              "      <td>2,2</td>\n",
              "      <td>1376.0</td>\n",
              "      <td>80.0</td>\n",
              "      <td>9,2</td>\n",
              "      <td>948.0</td>\n",
              "      <td>172.0</td>\n",
              "      <td>1092.0</td>\n",
              "      <td>122.0</td>\n",
              "      <td>1584.0</td>\n",
              "      <td>1203.0</td>\n",
              "      <td>11,0</td>\n",
              "      <td>60,0</td>\n",
              "      <td>0,7867</td>\n",
              "    </tr>\n",
              "    <tr>\n",
              "      <th>4</th>\n",
              "      <td>1,6</td>\n",
              "      <td>1272.0</td>\n",
              "      <td>51.0</td>\n",
              "      <td>6,5</td>\n",
              "      <td>836.0</td>\n",
              "      <td>131.0</td>\n",
              "      <td>1205.0</td>\n",
              "      <td>116.0</td>\n",
              "      <td>1490.0</td>\n",
              "      <td>1110.0</td>\n",
              "      <td>11,2</td>\n",
              "      <td>59,6</td>\n",
              "      <td>0,7888</td>\n",
              "    </tr>\n",
              "  </tbody>\n",
              "</table>\n",
              "</div>\n",
              "      <button class=\"colab-df-convert\" onclick=\"convertToInteractive('df-17234f2b-1e7e-4773-b3d1-f9a243667445')\"\n",
              "              title=\"Convert this dataframe to an interactive table.\"\n",
              "              style=\"display:none;\">\n",
              "        \n",
              "  <svg xmlns=\"http://www.w3.org/2000/svg\" height=\"24px\"viewBox=\"0 0 24 24\"\n",
              "       width=\"24px\">\n",
              "    <path d=\"M0 0h24v24H0V0z\" fill=\"none\"/>\n",
              "    <path d=\"M18.56 5.44l.94 2.06.94-2.06 2.06-.94-2.06-.94-.94-2.06-.94 2.06-2.06.94zm-11 1L8.5 8.5l.94-2.06 2.06-.94-2.06-.94L8.5 2.5l-.94 2.06-2.06.94zm10 10l.94 2.06.94-2.06 2.06-.94-2.06-.94-.94-2.06-.94 2.06-2.06.94z\"/><path d=\"M17.41 7.96l-1.37-1.37c-.4-.4-.92-.59-1.43-.59-.52 0-1.04.2-1.43.59L10.3 9.45l-7.72 7.72c-.78.78-.78 2.05 0 2.83L4 21.41c.39.39.9.59 1.41.59.51 0 1.02-.2 1.41-.59l7.78-7.78 2.81-2.81c.8-.78.8-2.07 0-2.86zM5.41 20L4 18.59l7.72-7.72 1.47 1.35L5.41 20z\"/>\n",
              "  </svg>\n",
              "      </button>\n",
              "      \n",
              "  <style>\n",
              "    .colab-df-container {\n",
              "      display:flex;\n",
              "      flex-wrap:wrap;\n",
              "      gap: 12px;\n",
              "    }\n",
              "\n",
              "    .colab-df-convert {\n",
              "      background-color: #E8F0FE;\n",
              "      border: none;\n",
              "      border-radius: 50%;\n",
              "      cursor: pointer;\n",
              "      display: none;\n",
              "      fill: #1967D2;\n",
              "      height: 32px;\n",
              "      padding: 0 0 0 0;\n",
              "      width: 32px;\n",
              "    }\n",
              "\n",
              "    .colab-df-convert:hover {\n",
              "      background-color: #E2EBFA;\n",
              "      box-shadow: 0px 1px 2px rgba(60, 64, 67, 0.3), 0px 1px 3px 1px rgba(60, 64, 67, 0.15);\n",
              "      fill: #174EA6;\n",
              "    }\n",
              "\n",
              "    [theme=dark] .colab-df-convert {\n",
              "      background-color: #3B4455;\n",
              "      fill: #D2E3FC;\n",
              "    }\n",
              "\n",
              "    [theme=dark] .colab-df-convert:hover {\n",
              "      background-color: #434B5C;\n",
              "      box-shadow: 0px 1px 3px 1px rgba(0, 0, 0, 0.15);\n",
              "      filter: drop-shadow(0px 1px 2px rgba(0, 0, 0, 0.3));\n",
              "      fill: #FFFFFF;\n",
              "    }\n",
              "  </style>\n",
              "\n",
              "      <script>\n",
              "        const buttonEl =\n",
              "          document.querySelector('#df-17234f2b-1e7e-4773-b3d1-f9a243667445 button.colab-df-convert');\n",
              "        buttonEl.style.display =\n",
              "          google.colab.kernel.accessAllowed ? 'block' : 'none';\n",
              "\n",
              "        async function convertToInteractive(key) {\n",
              "          const element = document.querySelector('#df-17234f2b-1e7e-4773-b3d1-f9a243667445');\n",
              "          const dataTable =\n",
              "            await google.colab.kernel.invokeFunction('convertToInteractive',\n",
              "                                                     [key], {});\n",
              "          if (!dataTable) return;\n",
              "\n",
              "          const docLinkHtml = 'Like what you see? Visit the ' +\n",
              "            '<a target=\"_blank\" href=https://colab.research.google.com/notebooks/data_table.ipynb>data table notebook</a>'\n",
              "            + ' to learn more about interactive tables.';\n",
              "          element.innerHTML = '';\n",
              "          dataTable['output_type'] = 'display_data';\n",
              "          await google.colab.output.renderOutput(dataTable, element);\n",
              "          const docLink = document.createElement('div');\n",
              "          docLink.innerHTML = docLinkHtml;\n",
              "          element.appendChild(docLink);\n",
              "        }\n",
              "      </script>\n",
              "    </div>\n",
              "  </div>\n",
              "  "
            ]
          },
          "metadata": {},
          "execution_count": 32
        }
      ]
    },
    {
      "cell_type": "code",
      "source": [
        "df.insert(loc=0,column = 'DateTime', value = dt_series)\n"
      ],
      "metadata": {
        "id": "pbEcnlItzj6f"
      },
      "execution_count": null,
      "outputs": []
    },
    {
      "cell_type": "code",
      "source": [
        "df.head()"
      ],
      "metadata": {
        "colab": {
          "base_uri": "https://localhost:8080/",
          "height": 206
        },
        "id": "7dpMhyDZzy0J",
        "outputId": "2760af55-3b7e-4277-8168-10e653c34fd0"
      },
      "execution_count": null,
      "outputs": [
        {
          "output_type": "execute_result",
          "data": {
            "text/plain": [
              "             DateTime CO(GT)  PT08.S1(CO)  NMHC(GT) C6H6(GT)  PT08.S2(NMHC)  \\\n",
              "0 2004-03-10 18:00:00    2,6       1360.0     150.0     11,9         1046.0   \n",
              "1 2004-03-10 19:00:00      2       1292.0     112.0      9,4          955.0   \n",
              "2 2004-03-10 20:00:00    2,2       1402.0      88.0      9,0          939.0   \n",
              "3 2004-03-10 21:00:00    2,2       1376.0      80.0      9,2          948.0   \n",
              "4 2004-03-10 22:00:00    1,6       1272.0      51.0      6,5          836.0   \n",
              "\n",
              "   NOx(GT)  PT08.S3(NOx)  NO2(GT)  PT08.S4(NO2)  PT08.S5(O3)     T    RH  \\\n",
              "0    166.0        1056.0    113.0        1692.0       1268.0  13,6  48,9   \n",
              "1    103.0        1174.0     92.0        1559.0        972.0  13,3  47,7   \n",
              "2    131.0        1140.0    114.0        1555.0       1074.0  11,9  54,0   \n",
              "3    172.0        1092.0    122.0        1584.0       1203.0  11,0  60,0   \n",
              "4    131.0        1205.0    116.0        1490.0       1110.0  11,2  59,6   \n",
              "\n",
              "       AH  \n",
              "0  0,7578  \n",
              "1  0,7255  \n",
              "2  0,7502  \n",
              "3  0,7867  \n",
              "4  0,7888  "
            ],
            "text/html": [
              "\n",
              "  <div id=\"df-489104cb-a062-4241-89b2-91b7cacad8c0\">\n",
              "    <div class=\"colab-df-container\">\n",
              "      <div>\n",
              "<style scoped>\n",
              "    .dataframe tbody tr th:only-of-type {\n",
              "        vertical-align: middle;\n",
              "    }\n",
              "\n",
              "    .dataframe tbody tr th {\n",
              "        vertical-align: top;\n",
              "    }\n",
              "\n",
              "    .dataframe thead th {\n",
              "        text-align: right;\n",
              "    }\n",
              "</style>\n",
              "<table border=\"1\" class=\"dataframe\">\n",
              "  <thead>\n",
              "    <tr style=\"text-align: right;\">\n",
              "      <th></th>\n",
              "      <th>DateTime</th>\n",
              "      <th>CO(GT)</th>\n",
              "      <th>PT08.S1(CO)</th>\n",
              "      <th>NMHC(GT)</th>\n",
              "      <th>C6H6(GT)</th>\n",
              "      <th>PT08.S2(NMHC)</th>\n",
              "      <th>NOx(GT)</th>\n",
              "      <th>PT08.S3(NOx)</th>\n",
              "      <th>NO2(GT)</th>\n",
              "      <th>PT08.S4(NO2)</th>\n",
              "      <th>PT08.S5(O3)</th>\n",
              "      <th>T</th>\n",
              "      <th>RH</th>\n",
              "      <th>AH</th>\n",
              "    </tr>\n",
              "  </thead>\n",
              "  <tbody>\n",
              "    <tr>\n",
              "      <th>0</th>\n",
              "      <td>2004-03-10 18:00:00</td>\n",
              "      <td>2,6</td>\n",
              "      <td>1360.0</td>\n",
              "      <td>150.0</td>\n",
              "      <td>11,9</td>\n",
              "      <td>1046.0</td>\n",
              "      <td>166.0</td>\n",
              "      <td>1056.0</td>\n",
              "      <td>113.0</td>\n",
              "      <td>1692.0</td>\n",
              "      <td>1268.0</td>\n",
              "      <td>13,6</td>\n",
              "      <td>48,9</td>\n",
              "      <td>0,7578</td>\n",
              "    </tr>\n",
              "    <tr>\n",
              "      <th>1</th>\n",
              "      <td>2004-03-10 19:00:00</td>\n",
              "      <td>2</td>\n",
              "      <td>1292.0</td>\n",
              "      <td>112.0</td>\n",
              "      <td>9,4</td>\n",
              "      <td>955.0</td>\n",
              "      <td>103.0</td>\n",
              "      <td>1174.0</td>\n",
              "      <td>92.0</td>\n",
              "      <td>1559.0</td>\n",
              "      <td>972.0</td>\n",
              "      <td>13,3</td>\n",
              "      <td>47,7</td>\n",
              "      <td>0,7255</td>\n",
              "    </tr>\n",
              "    <tr>\n",
              "      <th>2</th>\n",
              "      <td>2004-03-10 20:00:00</td>\n",
              "      <td>2,2</td>\n",
              "      <td>1402.0</td>\n",
              "      <td>88.0</td>\n",
              "      <td>9,0</td>\n",
              "      <td>939.0</td>\n",
              "      <td>131.0</td>\n",
              "      <td>1140.0</td>\n",
              "      <td>114.0</td>\n",
              "      <td>1555.0</td>\n",
              "      <td>1074.0</td>\n",
              "      <td>11,9</td>\n",
              "      <td>54,0</td>\n",
              "      <td>0,7502</td>\n",
              "    </tr>\n",
              "    <tr>\n",
              "      <th>3</th>\n",
              "      <td>2004-03-10 21:00:00</td>\n",
              "      <td>2,2</td>\n",
              "      <td>1376.0</td>\n",
              "      <td>80.0</td>\n",
              "      <td>9,2</td>\n",
              "      <td>948.0</td>\n",
              "      <td>172.0</td>\n",
              "      <td>1092.0</td>\n",
              "      <td>122.0</td>\n",
              "      <td>1584.0</td>\n",
              "      <td>1203.0</td>\n",
              "      <td>11,0</td>\n",
              "      <td>60,0</td>\n",
              "      <td>0,7867</td>\n",
              "    </tr>\n",
              "    <tr>\n",
              "      <th>4</th>\n",
              "      <td>2004-03-10 22:00:00</td>\n",
              "      <td>1,6</td>\n",
              "      <td>1272.0</td>\n",
              "      <td>51.0</td>\n",
              "      <td>6,5</td>\n",
              "      <td>836.0</td>\n",
              "      <td>131.0</td>\n",
              "      <td>1205.0</td>\n",
              "      <td>116.0</td>\n",
              "      <td>1490.0</td>\n",
              "      <td>1110.0</td>\n",
              "      <td>11,2</td>\n",
              "      <td>59,6</td>\n",
              "      <td>0,7888</td>\n",
              "    </tr>\n",
              "  </tbody>\n",
              "</table>\n",
              "</div>\n",
              "      <button class=\"colab-df-convert\" onclick=\"convertToInteractive('df-489104cb-a062-4241-89b2-91b7cacad8c0')\"\n",
              "              title=\"Convert this dataframe to an interactive table.\"\n",
              "              style=\"display:none;\">\n",
              "        \n",
              "  <svg xmlns=\"http://www.w3.org/2000/svg\" height=\"24px\"viewBox=\"0 0 24 24\"\n",
              "       width=\"24px\">\n",
              "    <path d=\"M0 0h24v24H0V0z\" fill=\"none\"/>\n",
              "    <path d=\"M18.56 5.44l.94 2.06.94-2.06 2.06-.94-2.06-.94-.94-2.06-.94 2.06-2.06.94zm-11 1L8.5 8.5l.94-2.06 2.06-.94-2.06-.94L8.5 2.5l-.94 2.06-2.06.94zm10 10l.94 2.06.94-2.06 2.06-.94-2.06-.94-.94-2.06-.94 2.06-2.06.94z\"/><path d=\"M17.41 7.96l-1.37-1.37c-.4-.4-.92-.59-1.43-.59-.52 0-1.04.2-1.43.59L10.3 9.45l-7.72 7.72c-.78.78-.78 2.05 0 2.83L4 21.41c.39.39.9.59 1.41.59.51 0 1.02-.2 1.41-.59l7.78-7.78 2.81-2.81c.8-.78.8-2.07 0-2.86zM5.41 20L4 18.59l7.72-7.72 1.47 1.35L5.41 20z\"/>\n",
              "  </svg>\n",
              "      </button>\n",
              "      \n",
              "  <style>\n",
              "    .colab-df-container {\n",
              "      display:flex;\n",
              "      flex-wrap:wrap;\n",
              "      gap: 12px;\n",
              "    }\n",
              "\n",
              "    .colab-df-convert {\n",
              "      background-color: #E8F0FE;\n",
              "      border: none;\n",
              "      border-radius: 50%;\n",
              "      cursor: pointer;\n",
              "      display: none;\n",
              "      fill: #1967D2;\n",
              "      height: 32px;\n",
              "      padding: 0 0 0 0;\n",
              "      width: 32px;\n",
              "    }\n",
              "\n",
              "    .colab-df-convert:hover {\n",
              "      background-color: #E2EBFA;\n",
              "      box-shadow: 0px 1px 2px rgba(60, 64, 67, 0.3), 0px 1px 3px 1px rgba(60, 64, 67, 0.15);\n",
              "      fill: #174EA6;\n",
              "    }\n",
              "\n",
              "    [theme=dark] .colab-df-convert {\n",
              "      background-color: #3B4455;\n",
              "      fill: #D2E3FC;\n",
              "    }\n",
              "\n",
              "    [theme=dark] .colab-df-convert:hover {\n",
              "      background-color: #434B5C;\n",
              "      box-shadow: 0px 1px 3px 1px rgba(0, 0, 0, 0.15);\n",
              "      filter: drop-shadow(0px 1px 2px rgba(0, 0, 0, 0.3));\n",
              "      fill: #FFFFFF;\n",
              "    }\n",
              "  </style>\n",
              "\n",
              "      <script>\n",
              "        const buttonEl =\n",
              "          document.querySelector('#df-489104cb-a062-4241-89b2-91b7cacad8c0 button.colab-df-convert');\n",
              "        buttonEl.style.display =\n",
              "          google.colab.kernel.accessAllowed ? 'block' : 'none';\n",
              "\n",
              "        async function convertToInteractive(key) {\n",
              "          const element = document.querySelector('#df-489104cb-a062-4241-89b2-91b7cacad8c0');\n",
              "          const dataTable =\n",
              "            await google.colab.kernel.invokeFunction('convertToInteractive',\n",
              "                                                     [key], {});\n",
              "          if (!dataTable) return;\n",
              "\n",
              "          const docLinkHtml = 'Like what you see? Visit the ' +\n",
              "            '<a target=\"_blank\" href=https://colab.research.google.com/notebooks/data_table.ipynb>data table notebook</a>'\n",
              "            + ' to learn more about interactive tables.';\n",
              "          element.innerHTML = '';\n",
              "          dataTable['output_type'] = 'display_data';\n",
              "          await google.colab.output.renderOutput(dataTable, element);\n",
              "          const docLink = document.createElement('div');\n",
              "          docLink.innerHTML = docLinkHtml;\n",
              "          element.appendChild(docLink);\n",
              "        }\n",
              "      </script>\n",
              "    </div>\n",
              "  </div>\n",
              "  "
            ]
          },
          "metadata": {},
          "execution_count": 35
        }
      ]
    },
    {
      "cell_type": "markdown",
      "metadata": {
        "id": "rzvvqIcLBa8K"
      },
      "source": [
        "---"
      ]
    },
    {
      "cell_type": "markdown",
      "metadata": {
        "id": "8g7P6OtxA-yS"
      },
      "source": [
        "#### Activity 8: Extract Year, Month, Day & Weekday Values^\n",
        "\n",
        "Let's add four more columns to the DataFrame. The should contain the year, month, day and day-name values for each observation on the air pollutants, temperature, relative humidity and absolute humidity.\n",
        "\n",
        "For this you can apply the following attributes/functions:\n",
        "\n",
        "- `series_name.dt.year` to get a Pandas series containing the year values as integers.\n",
        "\n",
        "- `series_name.dt.month` to get a Pandas series containing the month values as integers.\n",
        "\n",
        "- `series_name.dt.day` to get a Pandas series containing the day values as integers.\n",
        "\n",
        "- `series_name.dt.day_name()` to get a Pandas series containing the days of a week, i.e., Monday, Tuesday, Wednesday etc.\n"
      ]
    },
    {
      "cell_type": "code",
      "metadata": {
        "id": "Ipl6fbUGBBS0",
        "colab": {
          "base_uri": "https://localhost:8080/"
        },
        "outputId": "8c81f518-c45d-40ce-d120-79e48f7be371"
      },
      "source": [
        "# S8.1: Get the Pandas series containing the year values as integers.\n",
        "year1 = dt_series.dt.year\n",
        "year1"
      ],
      "execution_count": null,
      "outputs": [
        {
          "output_type": "execute_result",
          "data": {
            "text/plain": [
              "0       2004\n",
              "1       2004\n",
              "2       2004\n",
              "3       2004\n",
              "4       2004\n",
              "        ... \n",
              "9352    2005\n",
              "9353    2005\n",
              "9354    2005\n",
              "9355    2005\n",
              "9356    2005\n",
              "Length: 9357, dtype: int64"
            ]
          },
          "metadata": {},
          "execution_count": 36
        }
      ]
    },
    {
      "cell_type": "code",
      "metadata": {
        "id": "FVRFFeeHBFPu"
      },
      "source": [
        "# S8.2: Get the Pandas series containing the month values as integers.\n",
        "month1 = dt_series.dt.month"
      ],
      "execution_count": null,
      "outputs": []
    },
    {
      "cell_type": "code",
      "metadata": {
        "id": "hMCr-CchBI0o"
      },
      "source": [
        "# S8.3: Get the Pandas series containing the day values as integers.\n",
        "day1 = dt_series.dt.day"
      ],
      "execution_count": null,
      "outputs": []
    },
    {
      "cell_type": "code",
      "metadata": {
        "id": "PKHnJC1BBNlW",
        "colab": {
          "base_uri": "https://localhost:8080/"
        },
        "outputId": "9a08578b-f4cc-468f-acc0-25834abb3528"
      },
      "source": [
        "# S8.4: Get the Pandas series containing the days of a week, i.e., Monday, Tuesday, Wednesday etc.\n",
        "day_name = dt_series.dt.day_name()\n",
        "day_name"
      ],
      "execution_count": null,
      "outputs": [
        {
          "output_type": "execute_result",
          "data": {
            "text/plain": [
              "0       Wednesday\n",
              "1       Wednesday\n",
              "2       Wednesday\n",
              "3       Wednesday\n",
              "4       Wednesday\n",
              "          ...    \n",
              "9352       Monday\n",
              "9353       Monday\n",
              "9354       Monday\n",
              "9355       Monday\n",
              "9356       Monday\n",
              "Length: 9357, dtype: object"
            ]
          },
          "metadata": {},
          "execution_count": 42
        }
      ]
    },
    {
      "cell_type": "markdown",
      "metadata": {
        "id": "vG9HS9RUKO8p"
      },
      "source": [
        "We can add a column to a DataFrame by following the syntax given below.\n",
        "\n",
        "**Syntax:** `df_name['column_name'] = pandas_series`\n",
        "\n",
        "where `df_name` is the Pandas DataFrame in which the `pandas_series` to added as a column with the `column_name` as the desired name for the column.\n",
        "\n",
        "**Note:** The indices of the items contained in the `pandas_series` must be the same as the indices of the `df_name` DataFrame."
      ]
    },
    {
      "cell_type": "code",
      "metadata": {
        "id": "9d4hzaSqBPTM"
      },
      "source": [
        "# S8.5: Add the 'Year', 'Month', 'Day' and 'Day Name' columns to the DataFrame.\n",
        "df['Year'] = year1\n",
        "df['Month'] = month1\n",
        "df['Day'] = day1\n",
        "df['Day Name'] = day_name"
      ],
      "execution_count": null,
      "outputs": []
    },
    {
      "cell_type": "markdown",
      "metadata": {
        "id": "FSHNH--OLGKK"
      },
      "source": [
        "Let's display the first five rows of the DataFrame after adding the new columns."
      ]
    },
    {
      "cell_type": "code",
      "metadata": {
        "id": "ryRbNUaGBREg",
        "colab": {
          "base_uri": "https://localhost:8080/",
          "height": 206
        },
        "outputId": "a10bd267-588d-49c6-fde9-69fc652669dc"
      },
      "source": [
        "# S8.6: Display the first five rows of the DataFrame after adding the new columns.\n",
        "df.head()"
      ],
      "execution_count": null,
      "outputs": [
        {
          "output_type": "execute_result",
          "data": {
            "text/plain": [
              "             DateTime CO(GT)  PT08.S1(CO)  NMHC(GT) C6H6(GT)  PT08.S2(NMHC)  \\\n",
              "0 2004-03-10 18:00:00    2,6       1360.0     150.0     11,9         1046.0   \n",
              "1 2004-03-10 19:00:00      2       1292.0     112.0      9,4          955.0   \n",
              "2 2004-03-10 20:00:00    2,2       1402.0      88.0      9,0          939.0   \n",
              "3 2004-03-10 21:00:00    2,2       1376.0      80.0      9,2          948.0   \n",
              "4 2004-03-10 22:00:00    1,6       1272.0      51.0      6,5          836.0   \n",
              "\n",
              "   NOx(GT)  PT08.S3(NOx)  NO2(GT)  PT08.S4(NO2)  PT08.S5(O3)     T    RH  \\\n",
              "0    166.0        1056.0    113.0        1692.0       1268.0  13,6  48,9   \n",
              "1    103.0        1174.0     92.0        1559.0        972.0  13,3  47,7   \n",
              "2    131.0        1140.0    114.0        1555.0       1074.0  11,9  54,0   \n",
              "3    172.0        1092.0    122.0        1584.0       1203.0  11,0  60,0   \n",
              "4    131.0        1205.0    116.0        1490.0       1110.0  11,2  59,6   \n",
              "\n",
              "       AH  Year  Month  Day   Day Name  \n",
              "0  0,7578  2004      3   10  Wednesday  \n",
              "1  0,7255  2004      3   10  Wednesday  \n",
              "2  0,7502  2004      3   10  Wednesday  \n",
              "3  0,7867  2004      3   10  Wednesday  \n",
              "4  0,7888  2004      3   10  Wednesday  "
            ],
            "text/html": [
              "\n",
              "  <div id=\"df-4a253157-0dbe-43fc-810b-b0bad05afd58\">\n",
              "    <div class=\"colab-df-container\">\n",
              "      <div>\n",
              "<style scoped>\n",
              "    .dataframe tbody tr th:only-of-type {\n",
              "        vertical-align: middle;\n",
              "    }\n",
              "\n",
              "    .dataframe tbody tr th {\n",
              "        vertical-align: top;\n",
              "    }\n",
              "\n",
              "    .dataframe thead th {\n",
              "        text-align: right;\n",
              "    }\n",
              "</style>\n",
              "<table border=\"1\" class=\"dataframe\">\n",
              "  <thead>\n",
              "    <tr style=\"text-align: right;\">\n",
              "      <th></th>\n",
              "      <th>DateTime</th>\n",
              "      <th>CO(GT)</th>\n",
              "      <th>PT08.S1(CO)</th>\n",
              "      <th>NMHC(GT)</th>\n",
              "      <th>C6H6(GT)</th>\n",
              "      <th>PT08.S2(NMHC)</th>\n",
              "      <th>NOx(GT)</th>\n",
              "      <th>PT08.S3(NOx)</th>\n",
              "      <th>NO2(GT)</th>\n",
              "      <th>PT08.S4(NO2)</th>\n",
              "      <th>PT08.S5(O3)</th>\n",
              "      <th>T</th>\n",
              "      <th>RH</th>\n",
              "      <th>AH</th>\n",
              "      <th>Year</th>\n",
              "      <th>Month</th>\n",
              "      <th>Day</th>\n",
              "      <th>Day Name</th>\n",
              "    </tr>\n",
              "  </thead>\n",
              "  <tbody>\n",
              "    <tr>\n",
              "      <th>0</th>\n",
              "      <td>2004-03-10 18:00:00</td>\n",
              "      <td>2,6</td>\n",
              "      <td>1360.0</td>\n",
              "      <td>150.0</td>\n",
              "      <td>11,9</td>\n",
              "      <td>1046.0</td>\n",
              "      <td>166.0</td>\n",
              "      <td>1056.0</td>\n",
              "      <td>113.0</td>\n",
              "      <td>1692.0</td>\n",
              "      <td>1268.0</td>\n",
              "      <td>13,6</td>\n",
              "      <td>48,9</td>\n",
              "      <td>0,7578</td>\n",
              "      <td>2004</td>\n",
              "      <td>3</td>\n",
              "      <td>10</td>\n",
              "      <td>Wednesday</td>\n",
              "    </tr>\n",
              "    <tr>\n",
              "      <th>1</th>\n",
              "      <td>2004-03-10 19:00:00</td>\n",
              "      <td>2</td>\n",
              "      <td>1292.0</td>\n",
              "      <td>112.0</td>\n",
              "      <td>9,4</td>\n",
              "      <td>955.0</td>\n",
              "      <td>103.0</td>\n",
              "      <td>1174.0</td>\n",
              "      <td>92.0</td>\n",
              "      <td>1559.0</td>\n",
              "      <td>972.0</td>\n",
              "      <td>13,3</td>\n",
              "      <td>47,7</td>\n",
              "      <td>0,7255</td>\n",
              "      <td>2004</td>\n",
              "      <td>3</td>\n",
              "      <td>10</td>\n",
              "      <td>Wednesday</td>\n",
              "    </tr>\n",
              "    <tr>\n",
              "      <th>2</th>\n",
              "      <td>2004-03-10 20:00:00</td>\n",
              "      <td>2,2</td>\n",
              "      <td>1402.0</td>\n",
              "      <td>88.0</td>\n",
              "      <td>9,0</td>\n",
              "      <td>939.0</td>\n",
              "      <td>131.0</td>\n",
              "      <td>1140.0</td>\n",
              "      <td>114.0</td>\n",
              "      <td>1555.0</td>\n",
              "      <td>1074.0</td>\n",
              "      <td>11,9</td>\n",
              "      <td>54,0</td>\n",
              "      <td>0,7502</td>\n",
              "      <td>2004</td>\n",
              "      <td>3</td>\n",
              "      <td>10</td>\n",
              "      <td>Wednesday</td>\n",
              "    </tr>\n",
              "    <tr>\n",
              "      <th>3</th>\n",
              "      <td>2004-03-10 21:00:00</td>\n",
              "      <td>2,2</td>\n",
              "      <td>1376.0</td>\n",
              "      <td>80.0</td>\n",
              "      <td>9,2</td>\n",
              "      <td>948.0</td>\n",
              "      <td>172.0</td>\n",
              "      <td>1092.0</td>\n",
              "      <td>122.0</td>\n",
              "      <td>1584.0</td>\n",
              "      <td>1203.0</td>\n",
              "      <td>11,0</td>\n",
              "      <td>60,0</td>\n",
              "      <td>0,7867</td>\n",
              "      <td>2004</td>\n",
              "      <td>3</td>\n",
              "      <td>10</td>\n",
              "      <td>Wednesday</td>\n",
              "    </tr>\n",
              "    <tr>\n",
              "      <th>4</th>\n",
              "      <td>2004-03-10 22:00:00</td>\n",
              "      <td>1,6</td>\n",
              "      <td>1272.0</td>\n",
              "      <td>51.0</td>\n",
              "      <td>6,5</td>\n",
              "      <td>836.0</td>\n",
              "      <td>131.0</td>\n",
              "      <td>1205.0</td>\n",
              "      <td>116.0</td>\n",
              "      <td>1490.0</td>\n",
              "      <td>1110.0</td>\n",
              "      <td>11,2</td>\n",
              "      <td>59,6</td>\n",
              "      <td>0,7888</td>\n",
              "      <td>2004</td>\n",
              "      <td>3</td>\n",
              "      <td>10</td>\n",
              "      <td>Wednesday</td>\n",
              "    </tr>\n",
              "  </tbody>\n",
              "</table>\n",
              "</div>\n",
              "      <button class=\"colab-df-convert\" onclick=\"convertToInteractive('df-4a253157-0dbe-43fc-810b-b0bad05afd58')\"\n",
              "              title=\"Convert this dataframe to an interactive table.\"\n",
              "              style=\"display:none;\">\n",
              "        \n",
              "  <svg xmlns=\"http://www.w3.org/2000/svg\" height=\"24px\"viewBox=\"0 0 24 24\"\n",
              "       width=\"24px\">\n",
              "    <path d=\"M0 0h24v24H0V0z\" fill=\"none\"/>\n",
              "    <path d=\"M18.56 5.44l.94 2.06.94-2.06 2.06-.94-2.06-.94-.94-2.06-.94 2.06-2.06.94zm-11 1L8.5 8.5l.94-2.06 2.06-.94-2.06-.94L8.5 2.5l-.94 2.06-2.06.94zm10 10l.94 2.06.94-2.06 2.06-.94-2.06-.94-.94-2.06-.94 2.06-2.06.94z\"/><path d=\"M17.41 7.96l-1.37-1.37c-.4-.4-.92-.59-1.43-.59-.52 0-1.04.2-1.43.59L10.3 9.45l-7.72 7.72c-.78.78-.78 2.05 0 2.83L4 21.41c.39.39.9.59 1.41.59.51 0 1.02-.2 1.41-.59l7.78-7.78 2.81-2.81c.8-.78.8-2.07 0-2.86zM5.41 20L4 18.59l7.72-7.72 1.47 1.35L5.41 20z\"/>\n",
              "  </svg>\n",
              "      </button>\n",
              "      \n",
              "  <style>\n",
              "    .colab-df-container {\n",
              "      display:flex;\n",
              "      flex-wrap:wrap;\n",
              "      gap: 12px;\n",
              "    }\n",
              "\n",
              "    .colab-df-convert {\n",
              "      background-color: #E8F0FE;\n",
              "      border: none;\n",
              "      border-radius: 50%;\n",
              "      cursor: pointer;\n",
              "      display: none;\n",
              "      fill: #1967D2;\n",
              "      height: 32px;\n",
              "      padding: 0 0 0 0;\n",
              "      width: 32px;\n",
              "    }\n",
              "\n",
              "    .colab-df-convert:hover {\n",
              "      background-color: #E2EBFA;\n",
              "      box-shadow: 0px 1px 2px rgba(60, 64, 67, 0.3), 0px 1px 3px 1px rgba(60, 64, 67, 0.15);\n",
              "      fill: #174EA6;\n",
              "    }\n",
              "\n",
              "    [theme=dark] .colab-df-convert {\n",
              "      background-color: #3B4455;\n",
              "      fill: #D2E3FC;\n",
              "    }\n",
              "\n",
              "    [theme=dark] .colab-df-convert:hover {\n",
              "      background-color: #434B5C;\n",
              "      box-shadow: 0px 1px 3px 1px rgba(0, 0, 0, 0.15);\n",
              "      filter: drop-shadow(0px 1px 2px rgba(0, 0, 0, 0.3));\n",
              "      fill: #FFFFFF;\n",
              "    }\n",
              "  </style>\n",
              "\n",
              "      <script>\n",
              "        const buttonEl =\n",
              "          document.querySelector('#df-4a253157-0dbe-43fc-810b-b0bad05afd58 button.colab-df-convert');\n",
              "        buttonEl.style.display =\n",
              "          google.colab.kernel.accessAllowed ? 'block' : 'none';\n",
              "\n",
              "        async function convertToInteractive(key) {\n",
              "          const element = document.querySelector('#df-4a253157-0dbe-43fc-810b-b0bad05afd58');\n",
              "          const dataTable =\n",
              "            await google.colab.kernel.invokeFunction('convertToInteractive',\n",
              "                                                     [key], {});\n",
              "          if (!dataTable) return;\n",
              "\n",
              "          const docLinkHtml = 'Like what you see? Visit the ' +\n",
              "            '<a target=\"_blank\" href=https://colab.research.google.com/notebooks/data_table.ipynb>data table notebook</a>'\n",
              "            + ' to learn more about interactive tables.';\n",
              "          element.innerHTML = '';\n",
              "          dataTable['output_type'] = 'display_data';\n",
              "          await google.colab.output.renderOutput(dataTable, element);\n",
              "          const docLink = document.createElement('div');\n",
              "          docLink.innerHTML = docLinkHtml;\n",
              "          element.appendChild(docLink);\n",
              "        }\n",
              "      </script>\n",
              "    </div>\n",
              "  </div>\n",
              "  "
            ]
          },
          "metadata": {},
          "execution_count": 44
        }
      ]
    },
    {
      "cell_type": "markdown",
      "metadata": {
        "id": "AE8D-dJYLWrx"
      },
      "source": [
        "Let's sort the DataFrame by the `DateTime` values in the ascending order by using the `sort_values()` function. Inside the function, you need to pass the `by = 'DateTime'` parameter to sort the DataFrame by the `DateTime` values.\n",
        "\n",
        "**Note:** By default, the `sort_values` function sorts a DataFrame in the ascending order. To sort it in the descending order, pass `ascending=False` as the second parameter inside the `sort_values` function."
      ]
    },
    {
      "cell_type": "code",
      "metadata": {
        "id": "kQ9MNHYQBWAg",
        "colab": {
          "base_uri": "https://localhost:8080/",
          "height": 424
        },
        "outputId": "af00000e-cd8b-4ef7-c1c5-14d9824bb8bc"
      },
      "source": [
        "# S8.7: Sort the DataFrame by the 'DateTime' values in the ascending order. Also, display the first 10 rows of the DataFrame.\n",
        "df.sort_values(by = 'DateTime')"
      ],
      "execution_count": null,
      "outputs": [
        {
          "output_type": "execute_result",
          "data": {
            "text/plain": [
              "                DateTime CO(GT)  PT08.S1(CO)  NMHC(GT) C6H6(GT)  \\\n",
              "0    2004-03-10 18:00:00    2,6       1360.0     150.0     11,9   \n",
              "1    2004-03-10 19:00:00      2       1292.0     112.0      9,4   \n",
              "2    2004-03-10 20:00:00    2,2       1402.0      88.0      9,0   \n",
              "3    2004-03-10 21:00:00    2,2       1376.0      80.0      9,2   \n",
              "4    2004-03-10 22:00:00    1,6       1272.0      51.0      6,5   \n",
              "...                  ...    ...          ...       ...      ...   \n",
              "9352 2005-04-04 10:00:00    3,1       1314.0    -200.0     13,5   \n",
              "9353 2005-04-04 11:00:00    2,4       1163.0    -200.0     11,4   \n",
              "9354 2005-04-04 12:00:00    2,4       1142.0    -200.0     12,4   \n",
              "9355 2005-04-04 13:00:00    2,1       1003.0    -200.0      9,5   \n",
              "9356 2005-04-04 14:00:00    2,2       1071.0    -200.0     11,9   \n",
              "\n",
              "      PT08.S2(NMHC)  NOx(GT)  PT08.S3(NOx)  NO2(GT)  PT08.S4(NO2)  \\\n",
              "0            1046.0    166.0        1056.0    113.0        1692.0   \n",
              "1             955.0    103.0        1174.0     92.0        1559.0   \n",
              "2             939.0    131.0        1140.0    114.0        1555.0   \n",
              "3             948.0    172.0        1092.0    122.0        1584.0   \n",
              "4             836.0    131.0        1205.0    116.0        1490.0   \n",
              "...             ...      ...           ...      ...           ...   \n",
              "9352         1101.0    472.0         539.0    190.0        1374.0   \n",
              "9353         1027.0    353.0         604.0    179.0        1264.0   \n",
              "9354         1063.0    293.0         603.0    175.0        1241.0   \n",
              "9355          961.0    235.0         702.0    156.0        1041.0   \n",
              "9356         1047.0    265.0         654.0    168.0        1129.0   \n",
              "\n",
              "      PT08.S5(O3)     T    RH      AH  Year  Month  Day   Day Name  \n",
              "0          1268.0  13,6  48,9  0,7578  2004      3   10  Wednesday  \n",
              "1           972.0  13,3  47,7  0,7255  2004      3   10  Wednesday  \n",
              "2          1074.0  11,9  54,0  0,7502  2004      3   10  Wednesday  \n",
              "3          1203.0  11,0  60,0  0,7867  2004      3   10  Wednesday  \n",
              "4          1110.0  11,2  59,6  0,7888  2004      3   10  Wednesday  \n",
              "...           ...   ...   ...     ...   ...    ...  ...        ...  \n",
              "9352       1729.0  21,9  29,3  0,7568  2005      4    4     Monday  \n",
              "9353       1269.0  24,3  23,7  0,7119  2005      4    4     Monday  \n",
              "9354       1092.0  26,9  18,3  0,6406  2005      4    4     Monday  \n",
              "9355        770.0  28,3  13,5  0,5139  2005      4    4     Monday  \n",
              "9356        816.0  28,5  13,1  0,5028  2005      4    4     Monday  \n",
              "\n",
              "[9357 rows x 18 columns]"
            ],
            "text/html": [
              "\n",
              "  <div id=\"df-388b385c-6d29-424a-b491-5b79b529fbd8\">\n",
              "    <div class=\"colab-df-container\">\n",
              "      <div>\n",
              "<style scoped>\n",
              "    .dataframe tbody tr th:only-of-type {\n",
              "        vertical-align: middle;\n",
              "    }\n",
              "\n",
              "    .dataframe tbody tr th {\n",
              "        vertical-align: top;\n",
              "    }\n",
              "\n",
              "    .dataframe thead th {\n",
              "        text-align: right;\n",
              "    }\n",
              "</style>\n",
              "<table border=\"1\" class=\"dataframe\">\n",
              "  <thead>\n",
              "    <tr style=\"text-align: right;\">\n",
              "      <th></th>\n",
              "      <th>DateTime</th>\n",
              "      <th>CO(GT)</th>\n",
              "      <th>PT08.S1(CO)</th>\n",
              "      <th>NMHC(GT)</th>\n",
              "      <th>C6H6(GT)</th>\n",
              "      <th>PT08.S2(NMHC)</th>\n",
              "      <th>NOx(GT)</th>\n",
              "      <th>PT08.S3(NOx)</th>\n",
              "      <th>NO2(GT)</th>\n",
              "      <th>PT08.S4(NO2)</th>\n",
              "      <th>PT08.S5(O3)</th>\n",
              "      <th>T</th>\n",
              "      <th>RH</th>\n",
              "      <th>AH</th>\n",
              "      <th>Year</th>\n",
              "      <th>Month</th>\n",
              "      <th>Day</th>\n",
              "      <th>Day Name</th>\n",
              "    </tr>\n",
              "  </thead>\n",
              "  <tbody>\n",
              "    <tr>\n",
              "      <th>0</th>\n",
              "      <td>2004-03-10 18:00:00</td>\n",
              "      <td>2,6</td>\n",
              "      <td>1360.0</td>\n",
              "      <td>150.0</td>\n",
              "      <td>11,9</td>\n",
              "      <td>1046.0</td>\n",
              "      <td>166.0</td>\n",
              "      <td>1056.0</td>\n",
              "      <td>113.0</td>\n",
              "      <td>1692.0</td>\n",
              "      <td>1268.0</td>\n",
              "      <td>13,6</td>\n",
              "      <td>48,9</td>\n",
              "      <td>0,7578</td>\n",
              "      <td>2004</td>\n",
              "      <td>3</td>\n",
              "      <td>10</td>\n",
              "      <td>Wednesday</td>\n",
              "    </tr>\n",
              "    <tr>\n",
              "      <th>1</th>\n",
              "      <td>2004-03-10 19:00:00</td>\n",
              "      <td>2</td>\n",
              "      <td>1292.0</td>\n",
              "      <td>112.0</td>\n",
              "      <td>9,4</td>\n",
              "      <td>955.0</td>\n",
              "      <td>103.0</td>\n",
              "      <td>1174.0</td>\n",
              "      <td>92.0</td>\n",
              "      <td>1559.0</td>\n",
              "      <td>972.0</td>\n",
              "      <td>13,3</td>\n",
              "      <td>47,7</td>\n",
              "      <td>0,7255</td>\n",
              "      <td>2004</td>\n",
              "      <td>3</td>\n",
              "      <td>10</td>\n",
              "      <td>Wednesday</td>\n",
              "    </tr>\n",
              "    <tr>\n",
              "      <th>2</th>\n",
              "      <td>2004-03-10 20:00:00</td>\n",
              "      <td>2,2</td>\n",
              "      <td>1402.0</td>\n",
              "      <td>88.0</td>\n",
              "      <td>9,0</td>\n",
              "      <td>939.0</td>\n",
              "      <td>131.0</td>\n",
              "      <td>1140.0</td>\n",
              "      <td>114.0</td>\n",
              "      <td>1555.0</td>\n",
              "      <td>1074.0</td>\n",
              "      <td>11,9</td>\n",
              "      <td>54,0</td>\n",
              "      <td>0,7502</td>\n",
              "      <td>2004</td>\n",
              "      <td>3</td>\n",
              "      <td>10</td>\n",
              "      <td>Wednesday</td>\n",
              "    </tr>\n",
              "    <tr>\n",
              "      <th>3</th>\n",
              "      <td>2004-03-10 21:00:00</td>\n",
              "      <td>2,2</td>\n",
              "      <td>1376.0</td>\n",
              "      <td>80.0</td>\n",
              "      <td>9,2</td>\n",
              "      <td>948.0</td>\n",
              "      <td>172.0</td>\n",
              "      <td>1092.0</td>\n",
              "      <td>122.0</td>\n",
              "      <td>1584.0</td>\n",
              "      <td>1203.0</td>\n",
              "      <td>11,0</td>\n",
              "      <td>60,0</td>\n",
              "      <td>0,7867</td>\n",
              "      <td>2004</td>\n",
              "      <td>3</td>\n",
              "      <td>10</td>\n",
              "      <td>Wednesday</td>\n",
              "    </tr>\n",
              "    <tr>\n",
              "      <th>4</th>\n",
              "      <td>2004-03-10 22:00:00</td>\n",
              "      <td>1,6</td>\n",
              "      <td>1272.0</td>\n",
              "      <td>51.0</td>\n",
              "      <td>6,5</td>\n",
              "      <td>836.0</td>\n",
              "      <td>131.0</td>\n",
              "      <td>1205.0</td>\n",
              "      <td>116.0</td>\n",
              "      <td>1490.0</td>\n",
              "      <td>1110.0</td>\n",
              "      <td>11,2</td>\n",
              "      <td>59,6</td>\n",
              "      <td>0,7888</td>\n",
              "      <td>2004</td>\n",
              "      <td>3</td>\n",
              "      <td>10</td>\n",
              "      <td>Wednesday</td>\n",
              "    </tr>\n",
              "    <tr>\n",
              "      <th>...</th>\n",
              "      <td>...</td>\n",
              "      <td>...</td>\n",
              "      <td>...</td>\n",
              "      <td>...</td>\n",
              "      <td>...</td>\n",
              "      <td>...</td>\n",
              "      <td>...</td>\n",
              "      <td>...</td>\n",
              "      <td>...</td>\n",
              "      <td>...</td>\n",
              "      <td>...</td>\n",
              "      <td>...</td>\n",
              "      <td>...</td>\n",
              "      <td>...</td>\n",
              "      <td>...</td>\n",
              "      <td>...</td>\n",
              "      <td>...</td>\n",
              "      <td>...</td>\n",
              "    </tr>\n",
              "    <tr>\n",
              "      <th>9352</th>\n",
              "      <td>2005-04-04 10:00:00</td>\n",
              "      <td>3,1</td>\n",
              "      <td>1314.0</td>\n",
              "      <td>-200.0</td>\n",
              "      <td>13,5</td>\n",
              "      <td>1101.0</td>\n",
              "      <td>472.0</td>\n",
              "      <td>539.0</td>\n",
              "      <td>190.0</td>\n",
              "      <td>1374.0</td>\n",
              "      <td>1729.0</td>\n",
              "      <td>21,9</td>\n",
              "      <td>29,3</td>\n",
              "      <td>0,7568</td>\n",
              "      <td>2005</td>\n",
              "      <td>4</td>\n",
              "      <td>4</td>\n",
              "      <td>Monday</td>\n",
              "    </tr>\n",
              "    <tr>\n",
              "      <th>9353</th>\n",
              "      <td>2005-04-04 11:00:00</td>\n",
              "      <td>2,4</td>\n",
              "      <td>1163.0</td>\n",
              "      <td>-200.0</td>\n",
              "      <td>11,4</td>\n",
              "      <td>1027.0</td>\n",
              "      <td>353.0</td>\n",
              "      <td>604.0</td>\n",
              "      <td>179.0</td>\n",
              "      <td>1264.0</td>\n",
              "      <td>1269.0</td>\n",
              "      <td>24,3</td>\n",
              "      <td>23,7</td>\n",
              "      <td>0,7119</td>\n",
              "      <td>2005</td>\n",
              "      <td>4</td>\n",
              "      <td>4</td>\n",
              "      <td>Monday</td>\n",
              "    </tr>\n",
              "    <tr>\n",
              "      <th>9354</th>\n",
              "      <td>2005-04-04 12:00:00</td>\n",
              "      <td>2,4</td>\n",
              "      <td>1142.0</td>\n",
              "      <td>-200.0</td>\n",
              "      <td>12,4</td>\n",
              "      <td>1063.0</td>\n",
              "      <td>293.0</td>\n",
              "      <td>603.0</td>\n",
              "      <td>175.0</td>\n",
              "      <td>1241.0</td>\n",
              "      <td>1092.0</td>\n",
              "      <td>26,9</td>\n",
              "      <td>18,3</td>\n",
              "      <td>0,6406</td>\n",
              "      <td>2005</td>\n",
              "      <td>4</td>\n",
              "      <td>4</td>\n",
              "      <td>Monday</td>\n",
              "    </tr>\n",
              "    <tr>\n",
              "      <th>9355</th>\n",
              "      <td>2005-04-04 13:00:00</td>\n",
              "      <td>2,1</td>\n",
              "      <td>1003.0</td>\n",
              "      <td>-200.0</td>\n",
              "      <td>9,5</td>\n",
              "      <td>961.0</td>\n",
              "      <td>235.0</td>\n",
              "      <td>702.0</td>\n",
              "      <td>156.0</td>\n",
              "      <td>1041.0</td>\n",
              "      <td>770.0</td>\n",
              "      <td>28,3</td>\n",
              "      <td>13,5</td>\n",
              "      <td>0,5139</td>\n",
              "      <td>2005</td>\n",
              "      <td>4</td>\n",
              "      <td>4</td>\n",
              "      <td>Monday</td>\n",
              "    </tr>\n",
              "    <tr>\n",
              "      <th>9356</th>\n",
              "      <td>2005-04-04 14:00:00</td>\n",
              "      <td>2,2</td>\n",
              "      <td>1071.0</td>\n",
              "      <td>-200.0</td>\n",
              "      <td>11,9</td>\n",
              "      <td>1047.0</td>\n",
              "      <td>265.0</td>\n",
              "      <td>654.0</td>\n",
              "      <td>168.0</td>\n",
              "      <td>1129.0</td>\n",
              "      <td>816.0</td>\n",
              "      <td>28,5</td>\n",
              "      <td>13,1</td>\n",
              "      <td>0,5028</td>\n",
              "      <td>2005</td>\n",
              "      <td>4</td>\n",
              "      <td>4</td>\n",
              "      <td>Monday</td>\n",
              "    </tr>\n",
              "  </tbody>\n",
              "</table>\n",
              "<p>9357 rows × 18 columns</p>\n",
              "</div>\n",
              "      <button class=\"colab-df-convert\" onclick=\"convertToInteractive('df-388b385c-6d29-424a-b491-5b79b529fbd8')\"\n",
              "              title=\"Convert this dataframe to an interactive table.\"\n",
              "              style=\"display:none;\">\n",
              "        \n",
              "  <svg xmlns=\"http://www.w3.org/2000/svg\" height=\"24px\"viewBox=\"0 0 24 24\"\n",
              "       width=\"24px\">\n",
              "    <path d=\"M0 0h24v24H0V0z\" fill=\"none\"/>\n",
              "    <path d=\"M18.56 5.44l.94 2.06.94-2.06 2.06-.94-2.06-.94-.94-2.06-.94 2.06-2.06.94zm-11 1L8.5 8.5l.94-2.06 2.06-.94-2.06-.94L8.5 2.5l-.94 2.06-2.06.94zm10 10l.94 2.06.94-2.06 2.06-.94-2.06-.94-.94-2.06-.94 2.06-2.06.94z\"/><path d=\"M17.41 7.96l-1.37-1.37c-.4-.4-.92-.59-1.43-.59-.52 0-1.04.2-1.43.59L10.3 9.45l-7.72 7.72c-.78.78-.78 2.05 0 2.83L4 21.41c.39.39.9.59 1.41.59.51 0 1.02-.2 1.41-.59l7.78-7.78 2.81-2.81c.8-.78.8-2.07 0-2.86zM5.41 20L4 18.59l7.72-7.72 1.47 1.35L5.41 20z\"/>\n",
              "  </svg>\n",
              "      </button>\n",
              "      \n",
              "  <style>\n",
              "    .colab-df-container {\n",
              "      display:flex;\n",
              "      flex-wrap:wrap;\n",
              "      gap: 12px;\n",
              "    }\n",
              "\n",
              "    .colab-df-convert {\n",
              "      background-color: #E8F0FE;\n",
              "      border: none;\n",
              "      border-radius: 50%;\n",
              "      cursor: pointer;\n",
              "      display: none;\n",
              "      fill: #1967D2;\n",
              "      height: 32px;\n",
              "      padding: 0 0 0 0;\n",
              "      width: 32px;\n",
              "    }\n",
              "\n",
              "    .colab-df-convert:hover {\n",
              "      background-color: #E2EBFA;\n",
              "      box-shadow: 0px 1px 2px rgba(60, 64, 67, 0.3), 0px 1px 3px 1px rgba(60, 64, 67, 0.15);\n",
              "      fill: #174EA6;\n",
              "    }\n",
              "\n",
              "    [theme=dark] .colab-df-convert {\n",
              "      background-color: #3B4455;\n",
              "      fill: #D2E3FC;\n",
              "    }\n",
              "\n",
              "    [theme=dark] .colab-df-convert:hover {\n",
              "      background-color: #434B5C;\n",
              "      box-shadow: 0px 1px 3px 1px rgba(0, 0, 0, 0.15);\n",
              "      filter: drop-shadow(0px 1px 2px rgba(0, 0, 0, 0.3));\n",
              "      fill: #FFFFFF;\n",
              "    }\n",
              "  </style>\n",
              "\n",
              "      <script>\n",
              "        const buttonEl =\n",
              "          document.querySelector('#df-388b385c-6d29-424a-b491-5b79b529fbd8 button.colab-df-convert');\n",
              "        buttonEl.style.display =\n",
              "          google.colab.kernel.accessAllowed ? 'block' : 'none';\n",
              "\n",
              "        async function convertToInteractive(key) {\n",
              "          const element = document.querySelector('#df-388b385c-6d29-424a-b491-5b79b529fbd8');\n",
              "          const dataTable =\n",
              "            await google.colab.kernel.invokeFunction('convertToInteractive',\n",
              "                                                     [key], {});\n",
              "          if (!dataTable) return;\n",
              "\n",
              "          const docLinkHtml = 'Like what you see? Visit the ' +\n",
              "            '<a target=\"_blank\" href=https://colab.research.google.com/notebooks/data_table.ipynb>data table notebook</a>'\n",
              "            + ' to learn more about interactive tables.';\n",
              "          element.innerHTML = '';\n",
              "          dataTable['output_type'] = 'display_data';\n",
              "          await google.colab.output.renderOutput(dataTable, element);\n",
              "          const docLink = document.createElement('div');\n",
              "          docLink.innerHTML = docLinkHtml;\n",
              "          element.appendChild(docLink);\n",
              "        }\n",
              "      </script>\n",
              "    </div>\n",
              "  </div>\n",
              "  "
            ]
          },
          "metadata": {},
          "execution_count": 46
        }
      ]
    },
    {
      "cell_type": "markdown",
      "metadata": {
        "id": "smxV95UFMbQ7"
      },
      "source": [
        "Let's pause here. In the next class, we will continue the same project with more data cleaning exercises because a few of the columns contain decimal values separated by a comma and all the columns also contain `-200`; a garbage value."
      ]
    },
    {
      "cell_type": "markdown",
      "metadata": {
        "id": "RmyrvdwgILU9"
      },
      "source": [
        "---"
      ]
    }
  ]
}