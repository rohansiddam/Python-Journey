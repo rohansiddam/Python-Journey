{
  "nbformat": 4,
  "nbformat_minor": 0,
  "metadata": {
    "colab": {
      "provenance": [],
      "include_colab_link": true
    },
    "kernelspec": {
      "name": "python3",
      "display_name": "Python 3"
    }
  },
  "cells": [
    {
      "cell_type": "markdown",
      "metadata": {
        "id": "view-in-github",
        "colab_type": "text"
      },
      "source": [
        "<a href=\"https://colab.research.google.com/github/rohansiddam/Python-Journey/blob/main/016%20-%20Lesson%2016%20(Hunting%20Exoplanets%20In%20Space%20-%20Deploying%20A%20Prediction%20Model).ipynb\" target=\"_parent\"><img src=\"https://colab.research.google.com/assets/colab-badge.svg\" alt=\"Open In Colab\"/></a>"
      ]
    },
    {
      "cell_type": "markdown",
      "metadata": {
        "id": "SKsEYRKMIXz6"
      },
      "source": [
        "# Lesson 16: Hunting Exoplanets In Space - Deploying A Prediction Model"
      ]
    },
    {
      "cell_type": "markdown",
      "metadata": {
        "id": "qW3yMnPdv0k7"
      },
      "source": [
        "\n",
        "<h3><b>\n",
        "Assume that you own an e commerce enterprise and need to find out which products have highest sales during winter so that you can stock your shelves beforehand.\n",
        "\n",
        "<img src=\"https://curriculum.whitehatjr.com/APT+Asset/APT+C16/whj-winter-shopping-apt-c16-01.png\" height=400/>\n",
        "\n",
        "<h3><font color=red><b>\n",
        "How would you do that <img src=\"https://curriculum.whitehatjr.com/APT+Asset/Final+C2+images/question.jpg\" height=25/>\n",
        "\n",
        "<a href=\"https://curriculum.whitehatjr.com/APT+Asset/APT+C16/link_data.png\"><img src=\"https://curriculum.whitehatjr.com/APT+Asset/Final+C2+images/download.jpg\"/> </a>\n",
        "\n",
        "<center>\n",
        "<img src=\"https://curriculum.whitehatjr.com/APT+Asset/APT+C16/whj-meet-discussion-apt-c16-01.png\"  height=350/>"
      ]
    },
    {
      "cell_type": "markdown",
      "metadata": {
        "id": "YdmZPtYSn7kA"
      },
      "source": [
        "### Teacher-Student Activities\n",
        "\n",
        "In the last class, we learnt how to create line plots and scatter plots to visualise data.\n",
        "\n",
        "In this class, we will deploy a **prediction model** to predict which stars in the test dataset have a planet and which do not.\n",
        "\n",
        "**How prediction model works?**\n",
        "\n",
        "1. **Learning:**\n",
        "- The prediction model, through the training dataset, will learn the properties of a star that has a planet and also the properties of a star which does not have a planet.\n",
        "\n",
        "<img src=\"https://curriculum.whitehatjr.com/APT+Asset/APT+C16/whj-galaxy-more+planet-apt-c16-01.png\" height=400/>\n",
        "\n",
        "\n",
        "2. **Testing and Prediction:**  \n",
        "\n",
        "- Once the model has learnt the required properties, it will look for these properties in the test dataset and according to the properties it sees, it will predict whether a star has a planet or not.\n",
        "\n",
        "<img src=\"https://curriculum.whitehatjr.com/APT+Asset/APT+C16/whj-galaxy-less+planet-apt-c16-01.png\" height=400/>\n",
        "\n",
        "---\n",
        "\n",
        "In this class, we will learn how to deploy the **Random Forest Classifier** model (a machine learning algorithm).\n",
        "\n",
        "**What is Machine Learning?**\n",
        "\n",
        "- Machine learning is a branch of artificial intelligence in which a machine learns through data the different features on its own without being programmed by a computer programmer.\n",
        "\n",
        "\n",
        "\n",
        "<img src=\"https://curriculum.whitehatjr.com/APT+Asset/APT+C16/whj-comp-boy-apt-c16.gif\" height=400 >\n",
        "\n",
        "\n",
        "\n",
        "With machine learning, the machine learning will figure out what to do itself, using the inputs we feed it.\n",
        "    \n",
        "- First, the algorithmic models are **trained** to perform some specific tasks learning patterns from the data it sees, rather than through computer programming by a human expert.\n",
        "\n",
        "- After training, our model is ready for making predictions for any new unknown input.\n",
        "\n",
        "\n",
        "<img src=\"https://curriculum.whitehatjr.com/APT+Asset/APT+C16/whj-machine-tarining-apt-c16-01.png\" />\n",
        "\n",
        "\n",
        "<img src=\"https://curriculum.whitehatjr.com/APT+Asset/APT+C16/whj-comp-tea+cup-apt-c16-01.png\"  height=400/>\n",
        "\n",
        "\n",
        "\n",
        "- For our model, the machine will learn to recognise the flux values of stars having a planet on its own.\n",
        "-  When a new dataset containing only the flux values of a star is shown to the machine, it will tell whether that star has a planet or not.\n",
        "\n",
        "There are many machine learning models or algorithms to do this kind of prediction. One of them is **Random Forest Classifier**.\n",
        "\n",
        "---\n",
        "**Random Forest Classifier:**\n",
        "\n",
        "- It is used to classify outcomes into classes (or labels) based on some features.\n",
        "- For e.g., an animal that makes a 'Meow! Meow!' sound is classified (or labelled) as a cat, an animal that makes a 'Woof! Woof!' sound is classified as a dog, an animal which makes a hissing sound is classified as a snake etc.\n",
        "- It uses the training data to learn how the given features relate to a particular class.\n",
        "- **For example:** A classifier can classify a given set of population into following two classes:\n",
        "  - Those suffering from Diabetes.\n",
        "  - Those not suffering from Diabetes.\n",
        "\n",
        "  on the basis of different features of the population such as age, gender, blood pressure etc.\n",
        "\n",
        "<img src=\"https://curriculum.whitehatjr.com/APT+Asset/APT+C16/whj-pateint-database-apt-c16-01.png\" height=400/>\n",
        "\n",
        "In this lesson, we will use the Random Forest Classifier model to classify whether a star has a planet or not.\n",
        "- The stars which have at least one planet are labelled as `2`\n",
        "- The stars not having a planet are labelled as `1`.\n",
        "\n",
        "\n",
        "Let's run all the codes in the code cells that we have already covered in the previous classes and begin this class from **Activity 1: The `value_counts()` Function** section.  You too run the code cells until the first activity.\n",
        "\n"
      ]
    },
    {
      "cell_type": "markdown",
      "metadata": {
        "id": "eq9mAtEg9cpZ"
      },
      "source": [
        "---"
      ]
    },
    {
      "cell_type": "markdown",
      "metadata": {
        "id": "OwzryU6Zie33"
      },
      "source": [
        "#### Loading The Datasets\n",
        "\n",
        "Create a Pandas DataFrame every time you start a Jupyter notebook.\n",
        "\n",
        "Dataset links (Don't click on them):\n",
        "\n",
        "1. Train dataset\n",
        "\n",
        "   https://s3-student-datasets-bucket.whjr.online/whitehat-ds-datasets/kepler-exoplanets-dataset/exoTrain.csv\n",
        "\n",
        "2. Test dataset\n",
        "   \n",
        "   https://s3-student-datasets-bucket.whjr.online/whitehat-ds-datasets/kepler-exoplanets-dataset/exoTest.csv"
      ]
    },
    {
      "cell_type": "code",
      "metadata": {
        "id": "zjScdqmQstFg"
      },
      "source": [
        "# Loading both the training and test datasets.\n",
        "import pandas as pd\n",
        "\n",
        "exo_train_df = pd.read_csv('https://s3-student-datasets-bucket.whjr.online/whitehat-ds-datasets/kepler-exoplanets-dataset/exoTrain.csv')\n",
        "exo_test_df = pd.read_csv('https://s3-student-datasets-bucket.whjr.online/whitehat-ds-datasets/kepler-exoplanets-dataset/exoTest.csv')"
      ],
      "execution_count": null,
      "outputs": []
    },
    {
      "cell_type": "code",
      "metadata": {
        "id": "9aGcwb3Ax10u",
        "colab": {
          "base_uri": "https://localhost:8080/"
        },
        "outputId": "4210f380-49a9-442a-c797-7f6aabec0a27"
      },
      "source": [
        "# Number of rows and columns in the DataFrames.\n",
        "print(exo_train_df.shape)\n",
        "exo_test_df.shape"
      ],
      "execution_count": null,
      "outputs": [
        {
          "output_type": "stream",
          "name": "stdout",
          "text": [
            "(5087, 3198)\n"
          ]
        },
        {
          "output_type": "execute_result",
          "data": {
            "text/plain": [
              "(570, 3198)"
            ]
          },
          "metadata": {},
          "execution_count": 2
        }
      ]
    },
    {
      "cell_type": "markdown",
      "metadata": {
        "id": "5VG6uuL7eq3f"
      },
      "source": [
        "In the previous classes, we have already checked that the training dataset does not have any missing value. So, we can skip the missing values check part."
      ]
    },
    {
      "cell_type": "markdown",
      "metadata": {
        "id": "ob_UHtcNaE-s"
      },
      "source": [
        "---"
      ]
    },
    {
      "cell_type": "markdown",
      "metadata": {
        "id": "VcKiuR0gIvqi"
      },
      "source": [
        "#### Activity 1: The `value_counts()` Function\n",
        "Our prediction model should classify the stars either as `1` or `2`. Let's find out how many stars in the test dataset are classified as `1` and `2`.\n",
        "\n",
        "To compute how many times a value occurs in a series, we use the `value_counts()` function."
      ]
    },
    {
      "cell_type": "code",
      "metadata": {
        "id": "GG6oVSvRK6Jh",
        "colab": {
          "base_uri": "https://localhost:8080/"
        },
        "outputId": "ff902afe-a96f-4ab8-a7c8-d19e52201293"
      },
      "source": [
        "# Student Action: Count the number of times a value occurs in a Pandas series.\n",
        "exo_test_df['LABEL'].value_counts()"
      ],
      "execution_count": null,
      "outputs": [
        {
          "output_type": "execute_result",
          "data": {
            "text/plain": [
              "1    565\n",
              "2      5\n",
              "Name: LABEL, dtype: int64"
            ]
          },
          "metadata": {},
          "execution_count": 14
        }
      ]
    },
    {
      "cell_type": "markdown",
      "metadata": {
        "id": "8l7BTsS7LNLE"
      },
      "source": [
        "There are `565` stars which are classified as `1` and `5` stars classified as `2` which means only `5` stars have a planet. Interestingly, if our prediction model mindlessly classifies every star as `1`, then it is a very accurate model. Why?\n",
        "\n",
        "Because the accuracy of a model is calculated as **a percentage of the correct predictions out of the total number of predictions**. In this case, the percentage of the correct predictions is\n",
        "\n",
        " $\\frac{565\\times100}{570} = 99.122$ %\n",
        "\n",
        "Thus, without actually deploying a proper prediction model, we can predict the stars having a planet with 99% accuracy.\n",
        "\n",
        "This is **WRONG**! This is where we need to be careful. Because we have very imbalanced data. The ultimate goal of the Kepler space telescope is to detect exoplanets in outer space. Hence, a machine learning model, based on some data should also **correctly** detect stars having planets. This means a prediction model will be considered useful if it correctly detects almost all the stars having a planet.\n",
        "\n",
        "So, the prediction model which always labels every star as `1` is useless. Because it must detect almost all the stars having a planet.\n",
        "\n",
        "Now, we are going to deploy the Random Forest Classifier model so that it can detect all the five (or at least three) stars having a planet."
      ]
    },
    {
      "cell_type": "markdown",
      "metadata": {
        "id": "nmlkMPBed0wi"
      },
      "source": [
        "---"
      ]
    },
    {
      "cell_type": "markdown",
      "metadata": {
        "id": "nbbP1ucnjism"
      },
      "source": [
        "### Random Forest Classifier^\n",
        "\n",
        "A Random Forest is a collection (a.k.a. ensemble) of many decision trees. A decision tree is a flow chart which separates data based on some condition. If a condition is true, you move on a path otherwise, you move on to another path.\n",
        "\n",
        "\n",
        "For e.g., in case of finding a star having a planet, you can construct the following decision tree:\n",
        "\n",
        "<img src='https://student-datasets-bucket.s3.ap-south-1.amazonaws.com/images/lesson-14/decision-tree.png' width=600>\n",
        "\n",
        "You could ask a question whether there is decrease in the flux values of a star. If the answer is no, then it clearly means the star does not have a planet. However, if the answer is yes, then you could ask another question to check whether the decrease is periodic or not. Again, if the answer is no, then the star does not have a planet. Otherwise, it has a planet.\n",
        "\n",
        "This is one of the examples of a decision tree. Based on a problem, the decision tree could get more and more complex.\n",
        "\n",
        "A collection of `N` number of trees is a random forest wherein each tree gives some predicted value (in this case either class `1` or class `2`).\n",
        "\n",
        "\n",
        "<img src='https://student-datasets-bucket.s3.ap-south-1.amazonaws.com/images/lesson-14/rfc-image.jpg' width=800>\n",
        "\n",
        "<h3><b>For example:</h3></b>\n",
        "\n",
        "\n",
        "\n",
        "<img src=\"https://curriculum.whitehatjr.com/APT+Asset/APT+C16/Untitled-13-01.png\" height=400>\n",
        "\n",
        "\n",
        "\n",
        "\n",
        "The final predicted value is the majority class, i.e, the class that is predicted by the most number of decision trees in a random forest.\n",
        "\n",
        "For the time being, just consider the Random Forest Classifier as some kind of a black-box which classifies data into different classes (in this case, either class `1` or class `2`) by learning the properties of every class through a training dataset."
      ]
    },
    {
      "cell_type": "markdown",
      "metadata": {
        "id": "5zr_egypdy1R"
      },
      "source": [
        "---"
      ]
    },
    {
      "cell_type": "markdown",
      "metadata": {
        "id": "F3PeA6-AaO5J"
      },
      "source": [
        "#### Activity 2: Importing `RandomForestClassifier`\n",
        "\n",
        "We need to import a module called `RandomForestClassifier` from a package called `sklearn.ensemble`. The `sklearn` (or **scikit-learn**) is a collection of many machine learning modules. Almost every machine learning algorithm can be directly applied without a knowledge of math using the **scikit-learn** library. It is kind of a plug-and-play device.\n",
        "\n",
        "You can read about it in the link provided in the **Activities** section under the title **`scikit-learn` - Random Forest Classifier**\n"
      ]
    },
    {
      "cell_type": "code",
      "metadata": {
        "id": "bjyPky3Hh0fu"
      },
      "source": [
        "# Teacher Action: Import the required modules from the 'sklearn' library.\n",
        "# Import the 'RandomForestClassifier' module from the 'sklearn.ensemble' library.\n",
        "from sklearn.ensemble import RandomForestClassifier"
      ],
      "execution_count": null,
      "outputs": []
    },
    {
      "cell_type": "markdown",
      "metadata": {
        "id": "f8FljiKddvz9"
      },
      "source": [
        "---"
      ]
    },
    {
      "cell_type": "markdown",
      "metadata": {
        "id": "lP_x1sHBbWce"
      },
      "source": [
        "#### Activity 3: Target & Feature Variables Separation\n",
        "\n",
        "The `RandomForestClassifier` module has a function called `fit()` which takes two inputs:\n",
        "1. The first input is the collection of feature variables.\n",
        "2. The second input is the target variable.  \n",
        "\n",
        "Let us try to understand what are Feature variables and Target Variables.\n",
        "\n",
        "**Features and Target:**\n",
        "\n",
        "<h3><font color=red><b>\n",
        "Have you ever came across any facial recognition system? <img src=\"https://curriculum.whitehatjr.com/APT+Asset/Final+C2+images/question.jpg\" height=25/></b></h3>\n",
        "\n",
        "<img src=\"https://curriculum.whitehatjr.com/APT+Asset/APT+C16/whj-face-recognition-apt-c16-01.png\"/>\n",
        "\n",
        "\n",
        "Face recognition is a biometric identification process which is used to authenticate a person using its **facial features**. The system examines various facial **features** such as eyes, nose and lips to authenticate a target user.  \n",
        "\n",
        "<img src=\"https://curriculum.whitehatjr.com/APT+Asset/APT+C16/eyenoselip.png\" height=400/>\n",
        "\n",
        "Similarly, the machine learning algorithm uses various features to predict the outcome.\n",
        "\n",
        "For our dataset, we will use flux values of a star i.e.`FLUX.1` to `FLUX.3197` columns to find out whether that star has a planet or not.\n",
        "\n",
        "\n",
        "**Feature Variables:** The features are those variables which describe the features or properties of an entity.\n",
        "\n",
        "**Target variable:** The variable which needs to be predicted is called a target variable.\n",
        "\n",
        "\n",
        "\n",
        "For our dataset,\n",
        "- `FLUX.1` to `FLUX.3197` are feature variables. Hence, the values stored in these columns are the features of a star in exoplanets dataset.\n",
        "- `LABEL` is the target variable because the prediction model needs to predict which star belongs to which class in the test dataset. Hence, the values stored in the `LABEL` column are the target values.\n",
        "\n",
        "<img src=\"https://curriculum.whitehatjr.com/APT+Asset/APT+C16/WHJ-feature+variable-target-apt-c16-01.png\"/>\n",
        "\n",
        "So, we need to extract the target variable and the feature variables separately from the training dataset.\n",
        "\n",
        "Let's store the feature variables in the `x_train` variable and the target variable in the `y_train` variable. We will separate the features using the `iloc[]` function.\n",
        "\n",
        "Recall the syntax for `iloc[]` function.\n",
        "\n",
        "**Syntax:**\n",
        "\n",
        "`dataframe_name.iloc[row_position_start : row_position_end, column_position_start : column_position_end]`\n",
        "\n",
        "\n",
        "We need all the rows from the training set. So, inside the `iloc[]` function, we will enter the colon (`:`) sign to get all the rows. We do not need the first column, i.e., the `LABEL` column. Therefore, inside the `iloc[]` function, as part of column indexing, enter `1` as the starting index followed by the colon (`:`) sign to include the rest of the columns from the training dataset.\n"
      ]
    },
    {
      "cell_type": "code",
      "metadata": {
        "id": "-4xbNQzYj_CM",
        "colab": {
          "base_uri": "https://localhost:8080/",
          "height": 299
        },
        "outputId": "05e34c4b-301d-46ca-ea9a-9e8eeb0cb1d4"
      },
      "source": [
        "# Student Action: Extract the feature variables from the training dataset using the 'iloc[]' function.\n",
        "x_train = exo_train_df.iloc[:,1:]\n",
        "x_train.head()"
      ],
      "execution_count": null,
      "outputs": [
        {
          "output_type": "execute_result",
          "data": {
            "text/plain": [
              "    FLUX.1   FLUX.2   FLUX.3   FLUX.4   FLUX.5   FLUX.6  FLUX.7   FLUX.8  \\\n",
              "0    93.85    83.81    20.10   -26.98   -39.56  -124.71 -135.18   -96.27   \n",
              "1   -38.88   -33.83   -58.54   -40.09   -79.31   -72.81  -86.55   -85.33   \n",
              "2   532.64   535.92   513.73   496.92   456.45   466.00  464.50   486.39   \n",
              "3   326.52   347.39   302.35   298.13   317.74   312.70  322.33   311.31   \n",
              "4 -1107.21 -1112.59 -1118.95 -1095.10 -1057.55 -1034.48 -998.34 -1022.71   \n",
              "\n",
              "   FLUX.9  FLUX.10  ...  FLUX.3188  FLUX.3189  FLUX.3190  FLUX.3191  \\\n",
              "0  -79.89  -160.17  ...     -78.07    -102.15    -102.15      25.13   \n",
              "1  -83.97   -73.38  ...      -3.28     -32.21     -32.21     -24.89   \n",
              "2  436.56   484.39  ...     -71.69      13.31      13.31     -29.89   \n",
              "3  312.42   323.33  ...       5.71      -3.73      -3.73      30.05   \n",
              "4 -989.57  -970.88  ...    -594.37    -401.66    -401.66    -357.24   \n",
              "\n",
              "   FLUX.3192  FLUX.3193  FLUX.3194  FLUX.3195  FLUX.3196  FLUX.3197  \n",
              "0      48.57      92.54      39.32      61.42       5.08     -39.54  \n",
              "1      -4.86       0.76     -11.70       6.46      16.00      19.93  \n",
              "2     -20.88       5.06     -11.80     -28.91     -70.02     -96.67  \n",
              "3      20.03     -12.67      -8.77     -17.31     -17.35      13.98  \n",
              "4    -443.76    -438.54    -399.71    -384.65    -411.79    -510.54  \n",
              "\n",
              "[5 rows x 3197 columns]"
            ],
            "text/html": [
              "\n",
              "  <div id=\"df-1958653f-419d-4252-9c09-b38f7e32d909\">\n",
              "    <div class=\"colab-df-container\">\n",
              "      <div>\n",
              "<style scoped>\n",
              "    .dataframe tbody tr th:only-of-type {\n",
              "        vertical-align: middle;\n",
              "    }\n",
              "\n",
              "    .dataframe tbody tr th {\n",
              "        vertical-align: top;\n",
              "    }\n",
              "\n",
              "    .dataframe thead th {\n",
              "        text-align: right;\n",
              "    }\n",
              "</style>\n",
              "<table border=\"1\" class=\"dataframe\">\n",
              "  <thead>\n",
              "    <tr style=\"text-align: right;\">\n",
              "      <th></th>\n",
              "      <th>FLUX.1</th>\n",
              "      <th>FLUX.2</th>\n",
              "      <th>FLUX.3</th>\n",
              "      <th>FLUX.4</th>\n",
              "      <th>FLUX.5</th>\n",
              "      <th>FLUX.6</th>\n",
              "      <th>FLUX.7</th>\n",
              "      <th>FLUX.8</th>\n",
              "      <th>FLUX.9</th>\n",
              "      <th>FLUX.10</th>\n",
              "      <th>...</th>\n",
              "      <th>FLUX.3188</th>\n",
              "      <th>FLUX.3189</th>\n",
              "      <th>FLUX.3190</th>\n",
              "      <th>FLUX.3191</th>\n",
              "      <th>FLUX.3192</th>\n",
              "      <th>FLUX.3193</th>\n",
              "      <th>FLUX.3194</th>\n",
              "      <th>FLUX.3195</th>\n",
              "      <th>FLUX.3196</th>\n",
              "      <th>FLUX.3197</th>\n",
              "    </tr>\n",
              "  </thead>\n",
              "  <tbody>\n",
              "    <tr>\n",
              "      <th>0</th>\n",
              "      <td>93.85</td>\n",
              "      <td>83.81</td>\n",
              "      <td>20.10</td>\n",
              "      <td>-26.98</td>\n",
              "      <td>-39.56</td>\n",
              "      <td>-124.71</td>\n",
              "      <td>-135.18</td>\n",
              "      <td>-96.27</td>\n",
              "      <td>-79.89</td>\n",
              "      <td>-160.17</td>\n",
              "      <td>...</td>\n",
              "      <td>-78.07</td>\n",
              "      <td>-102.15</td>\n",
              "      <td>-102.15</td>\n",
              "      <td>25.13</td>\n",
              "      <td>48.57</td>\n",
              "      <td>92.54</td>\n",
              "      <td>39.32</td>\n",
              "      <td>61.42</td>\n",
              "      <td>5.08</td>\n",
              "      <td>-39.54</td>\n",
              "    </tr>\n",
              "    <tr>\n",
              "      <th>1</th>\n",
              "      <td>-38.88</td>\n",
              "      <td>-33.83</td>\n",
              "      <td>-58.54</td>\n",
              "      <td>-40.09</td>\n",
              "      <td>-79.31</td>\n",
              "      <td>-72.81</td>\n",
              "      <td>-86.55</td>\n",
              "      <td>-85.33</td>\n",
              "      <td>-83.97</td>\n",
              "      <td>-73.38</td>\n",
              "      <td>...</td>\n",
              "      <td>-3.28</td>\n",
              "      <td>-32.21</td>\n",
              "      <td>-32.21</td>\n",
              "      <td>-24.89</td>\n",
              "      <td>-4.86</td>\n",
              "      <td>0.76</td>\n",
              "      <td>-11.70</td>\n",
              "      <td>6.46</td>\n",
              "      <td>16.00</td>\n",
              "      <td>19.93</td>\n",
              "    </tr>\n",
              "    <tr>\n",
              "      <th>2</th>\n",
              "      <td>532.64</td>\n",
              "      <td>535.92</td>\n",
              "      <td>513.73</td>\n",
              "      <td>496.92</td>\n",
              "      <td>456.45</td>\n",
              "      <td>466.00</td>\n",
              "      <td>464.50</td>\n",
              "      <td>486.39</td>\n",
              "      <td>436.56</td>\n",
              "      <td>484.39</td>\n",
              "      <td>...</td>\n",
              "      <td>-71.69</td>\n",
              "      <td>13.31</td>\n",
              "      <td>13.31</td>\n",
              "      <td>-29.89</td>\n",
              "      <td>-20.88</td>\n",
              "      <td>5.06</td>\n",
              "      <td>-11.80</td>\n",
              "      <td>-28.91</td>\n",
              "      <td>-70.02</td>\n",
              "      <td>-96.67</td>\n",
              "    </tr>\n",
              "    <tr>\n",
              "      <th>3</th>\n",
              "      <td>326.52</td>\n",
              "      <td>347.39</td>\n",
              "      <td>302.35</td>\n",
              "      <td>298.13</td>\n",
              "      <td>317.74</td>\n",
              "      <td>312.70</td>\n",
              "      <td>322.33</td>\n",
              "      <td>311.31</td>\n",
              "      <td>312.42</td>\n",
              "      <td>323.33</td>\n",
              "      <td>...</td>\n",
              "      <td>5.71</td>\n",
              "      <td>-3.73</td>\n",
              "      <td>-3.73</td>\n",
              "      <td>30.05</td>\n",
              "      <td>20.03</td>\n",
              "      <td>-12.67</td>\n",
              "      <td>-8.77</td>\n",
              "      <td>-17.31</td>\n",
              "      <td>-17.35</td>\n",
              "      <td>13.98</td>\n",
              "    </tr>\n",
              "    <tr>\n",
              "      <th>4</th>\n",
              "      <td>-1107.21</td>\n",
              "      <td>-1112.59</td>\n",
              "      <td>-1118.95</td>\n",
              "      <td>-1095.10</td>\n",
              "      <td>-1057.55</td>\n",
              "      <td>-1034.48</td>\n",
              "      <td>-998.34</td>\n",
              "      <td>-1022.71</td>\n",
              "      <td>-989.57</td>\n",
              "      <td>-970.88</td>\n",
              "      <td>...</td>\n",
              "      <td>-594.37</td>\n",
              "      <td>-401.66</td>\n",
              "      <td>-401.66</td>\n",
              "      <td>-357.24</td>\n",
              "      <td>-443.76</td>\n",
              "      <td>-438.54</td>\n",
              "      <td>-399.71</td>\n",
              "      <td>-384.65</td>\n",
              "      <td>-411.79</td>\n",
              "      <td>-510.54</td>\n",
              "    </tr>\n",
              "  </tbody>\n",
              "</table>\n",
              "<p>5 rows × 3197 columns</p>\n",
              "</div>\n",
              "      <button class=\"colab-df-convert\" onclick=\"convertToInteractive('df-1958653f-419d-4252-9c09-b38f7e32d909')\"\n",
              "              title=\"Convert this dataframe to an interactive table.\"\n",
              "              style=\"display:none;\">\n",
              "        \n",
              "  <svg xmlns=\"http://www.w3.org/2000/svg\" height=\"24px\"viewBox=\"0 0 24 24\"\n",
              "       width=\"24px\">\n",
              "    <path d=\"M0 0h24v24H0V0z\" fill=\"none\"/>\n",
              "    <path d=\"M18.56 5.44l.94 2.06.94-2.06 2.06-.94-2.06-.94-.94-2.06-.94 2.06-2.06.94zm-11 1L8.5 8.5l.94-2.06 2.06-.94-2.06-.94L8.5 2.5l-.94 2.06-2.06.94zm10 10l.94 2.06.94-2.06 2.06-.94-2.06-.94-.94-2.06-.94 2.06-2.06.94z\"/><path d=\"M17.41 7.96l-1.37-1.37c-.4-.4-.92-.59-1.43-.59-.52 0-1.04.2-1.43.59L10.3 9.45l-7.72 7.72c-.78.78-.78 2.05 0 2.83L4 21.41c.39.39.9.59 1.41.59.51 0 1.02-.2 1.41-.59l7.78-7.78 2.81-2.81c.8-.78.8-2.07 0-2.86zM5.41 20L4 18.59l7.72-7.72 1.47 1.35L5.41 20z\"/>\n",
              "  </svg>\n",
              "      </button>\n",
              "      \n",
              "  <style>\n",
              "    .colab-df-container {\n",
              "      display:flex;\n",
              "      flex-wrap:wrap;\n",
              "      gap: 12px;\n",
              "    }\n",
              "\n",
              "    .colab-df-convert {\n",
              "      background-color: #E8F0FE;\n",
              "      border: none;\n",
              "      border-radius: 50%;\n",
              "      cursor: pointer;\n",
              "      display: none;\n",
              "      fill: #1967D2;\n",
              "      height: 32px;\n",
              "      padding: 0 0 0 0;\n",
              "      width: 32px;\n",
              "    }\n",
              "\n",
              "    .colab-df-convert:hover {\n",
              "      background-color: #E2EBFA;\n",
              "      box-shadow: 0px 1px 2px rgba(60, 64, 67, 0.3), 0px 1px 3px 1px rgba(60, 64, 67, 0.15);\n",
              "      fill: #174EA6;\n",
              "    }\n",
              "\n",
              "    [theme=dark] .colab-df-convert {\n",
              "      background-color: #3B4455;\n",
              "      fill: #D2E3FC;\n",
              "    }\n",
              "\n",
              "    [theme=dark] .colab-df-convert:hover {\n",
              "      background-color: #434B5C;\n",
              "      box-shadow: 0px 1px 3px 1px rgba(0, 0, 0, 0.15);\n",
              "      filter: drop-shadow(0px 1px 2px rgba(0, 0, 0, 0.3));\n",
              "      fill: #FFFFFF;\n",
              "    }\n",
              "  </style>\n",
              "\n",
              "      <script>\n",
              "        const buttonEl =\n",
              "          document.querySelector('#df-1958653f-419d-4252-9c09-b38f7e32d909 button.colab-df-convert');\n",
              "        buttonEl.style.display =\n",
              "          google.colab.kernel.accessAllowed ? 'block' : 'none';\n",
              "\n",
              "        async function convertToInteractive(key) {\n",
              "          const element = document.querySelector('#df-1958653f-419d-4252-9c09-b38f7e32d909');\n",
              "          const dataTable =\n",
              "            await google.colab.kernel.invokeFunction('convertToInteractive',\n",
              "                                                     [key], {});\n",
              "          if (!dataTable) return;\n",
              "\n",
              "          const docLinkHtml = 'Like what you see? Visit the ' +\n",
              "            '<a target=\"_blank\" href=https://colab.research.google.com/notebooks/data_table.ipynb>data table notebook</a>'\n",
              "            + ' to learn more about interactive tables.';\n",
              "          element.innerHTML = '';\n",
              "          dataTable['output_type'] = 'display_data';\n",
              "          await google.colab.output.renderOutput(dataTable, element);\n",
              "          const docLink = document.createElement('div');\n",
              "          docLink.innerHTML = docLinkHtml;\n",
              "          element.appendChild(docLink);\n",
              "        }\n",
              "      </script>\n",
              "    </div>\n",
              "  </div>\n",
              "  "
            ]
          },
          "metadata": {},
          "execution_count": 16
        }
      ]
    },
    {
      "cell_type": "markdown",
      "metadata": {
        "id": "VYlFRpMUoX0o"
      },
      "source": [
        "Now, let's get only the target variables from the training dataset."
      ]
    },
    {
      "cell_type": "code",
      "metadata": {
        "id": "Ow3bOVajkEos",
        "colab": {
          "base_uri": "https://localhost:8080/"
        },
        "outputId": "f8c8ccec-3098-478b-91bb-a1bfd0eaf1ef"
      },
      "source": [
        "# Student Action: Using the 'iloc[]' function, retrieve only the first column, i.e., the 'LABEL' column from the training dataset.\n",
        "y_train = exo_train_df['LABEL']\n",
        "y_train.head()"
      ],
      "execution_count": null,
      "outputs": [
        {
          "output_type": "execute_result",
          "data": {
            "text/plain": [
              "0    2\n",
              "1    2\n",
              "2    2\n",
              "3    2\n",
              "4    2\n",
              "Name: LABEL, dtype: int64"
            ]
          },
          "metadata": {},
          "execution_count": 17
        }
      ]
    },
    {
      "cell_type": "markdown",
      "metadata": {
        "id": "t4c2YLzWdtiC"
      },
      "source": [
        "---"
      ]
    },
    {
      "cell_type": "markdown",
      "metadata": {
        "id": "CSKFSFb5gZge"
      },
      "source": [
        "#### Activity 4: Fitting The Model\n",
        "\n",
        "Now that we have separated the feature and target variables for deploying the `RandomForestClassifier` model, let's train the model with the feature variables using the `fit()` function. The steps to be followed are described below.\n",
        "\n",
        "1. First, call the `RandomForestClassifier` module with inputs as `n_jobs=-1` and `n_estimators=50`. Store the function in a variable with the name `rf_clf`.\n",
        "\n",
        "  For the time being, ignore the reason behind providing the `n_jobs=-1` parameter as an input.\n",
        "\n",
        "  ```\n",
        "  rf_clf = RandomForestClassifier(n_jobs=-1, n_estimators=50)\n",
        "  ```\n",
        "\n",
        "  The `n_estimators` parameter defines the number of decision trees in a Random Forest. Therefore, `n_estimators=50` means that the forest contains `50` decision trees. If `n_estimators` parameter is not defined by a user, then by default, the forest contains `100` decision trees.\n",
        "\n",
        "2. Call the `fit()` function with `x_train` and `y_train` as inputs.\n",
        "\n",
        "  ```\n",
        "  rf_clf.fit(x_train, y_train)\n",
        "  ```\n",
        "3. Call the `score()` function with `x_train` and `y_train` as inputs to check the accuracy score of the model. This step is actually not required. If you wish, you can skip this step.\n",
        "  \n",
        "  ```\n",
        "  rf_clf.score(x_train, y_train)\n",
        "  ```\n"
      ]
    },
    {
      "cell_type": "code",
      "metadata": {
        "id": "rAU1jEBVkHG1",
        "colab": {
          "base_uri": "https://localhost:8080/"
        },
        "outputId": "81c9f0e0-cfaa-4c63-c648-b45df080df22"
      },
      "source": [
        "# Teacher Action: Train the 'RandomForestClassifier' model using the 'fit()' function.\n",
        "rf_clf = RandomForestClassifier(n_jobs = -1, n_estimators = 50)\n",
        "# 1. First, call the 'RandomForestClassifier' module with inputs as 'n_jobs = - 1' & 'n_estimators=50'. Store it in a variable with the name 'rf_clf'.\n",
        "# For the time being, ignore the reason behind providing the 'n_jobs=-1' parameter as an input.\n",
        "\n",
        "# 2. Call the 'fit()' function with 'x_train' and 'y_train' as inputs.\n",
        "rf_clf.fit(x_train,y_train)\n",
        "# 3. Call the 'score()' function with 'x_train' and 'y_train' as inputs to check the accuracy score of the model.\n",
        "rf_clf.score(x_train,y_train)"
      ],
      "execution_count": null,
      "outputs": [
        {
          "output_type": "execute_result",
          "data": {
            "text/plain": [
              "1.0"
            ]
          },
          "metadata": {},
          "execution_count": 20
        }
      ]
    },
    {
      "cell_type": "markdown",
      "metadata": {
        "id": "cKq3HlbxhU0k"
      },
      "source": [
        "As you can see, we have deployed the `RandomForestClassifier` model with an accuracy of 100% (the number `1.0` signifies 100% accuracy).\n"
      ]
    },
    {
      "cell_type": "markdown",
      "metadata": {
        "id": "NV57P4UFh1rt"
      },
      "source": [
        "---"
      ]
    },
    {
      "cell_type": "markdown",
      "metadata": {
        "id": "DIi2Gikph5HQ"
      },
      "source": [
        "#### Activity 5: Target & Feature Variables From Test Dataset^^\n",
        "\n",
        "Now we need to make predictions on the test dataset. So, we just need to extract feature variables from the test dataset using the `iloc[]` function."
      ]
    },
    {
      "cell_type": "code",
      "metadata": {
        "id": "TN1nsa2qpr80",
        "colab": {
          "base_uri": "https://localhost:8080/",
          "height": 299
        },
        "outputId": "e8c18fbc-2df0-41fc-8717-2e73ccde9bca"
      },
      "source": [
        "# Student Action: Using the 'iloc[]' function, extract the feature variables from the test dataset.\n",
        "x_test = exo_test_df.iloc[:,1:]\n",
        "x_test.head()"
      ],
      "execution_count": null,
      "outputs": [
        {
          "output_type": "execute_result",
          "data": {
            "text/plain": [
              "    FLUX.1   FLUX.2   FLUX.3   FLUX.4   FLUX.5   FLUX.6   FLUX.7   FLUX.8  \\\n",
              "0   119.88   100.21    86.46    48.68    46.12    39.39    18.57     6.98   \n",
              "1  5736.59  5699.98  5717.16  5692.73  5663.83  5631.16  5626.39  5569.47   \n",
              "2   844.48   817.49   770.07   675.01   605.52   499.45   440.77   362.95   \n",
              "3  -826.00  -827.31  -846.12  -836.03  -745.50  -784.69  -791.22  -746.50   \n",
              "4   -39.57   -15.88    -9.16    -6.37   -16.13   -24.05    -0.90   -45.20   \n",
              "\n",
              "    FLUX.9  FLUX.10  ...  FLUX.3188  FLUX.3189  FLUX.3190  FLUX.3191  \\\n",
              "0     6.63   -21.97  ...      14.52      19.29      14.44      -1.62   \n",
              "1  5550.44  5458.80  ...    -581.91    -984.09   -1230.89   -1600.45   \n",
              "2   207.27   150.46  ...      17.82     -51.66     -48.29     -59.99   \n",
              "3  -709.53  -679.56  ...     122.34      93.03      93.03      68.81   \n",
              "4    -5.04    14.62  ...     -37.87     -61.85     -27.15     -21.18   \n",
              "\n",
              "   FLUX.3192  FLUX.3193  FLUX.3194  FLUX.3195  FLUX.3196  FLUX.3197  \n",
              "0      13.33      45.50      31.93      35.78     269.43      57.72  \n",
              "1   -1824.53   -2061.17   -2265.98   -2366.19   -2294.86   -2034.72  \n",
              "2     -82.10    -174.54     -95.23    -162.68     -36.79      30.63  \n",
              "3       9.81      20.75      20.25    -120.81    -257.56    -215.41  \n",
              "4     -33.76     -85.34     -81.46     -61.98     -69.34     -17.84  \n",
              "\n",
              "[5 rows x 3197 columns]"
            ],
            "text/html": [
              "\n",
              "  <div id=\"df-59079de9-f0a8-42bf-af8f-95651ea0dc63\">\n",
              "    <div class=\"colab-df-container\">\n",
              "      <div>\n",
              "<style scoped>\n",
              "    .dataframe tbody tr th:only-of-type {\n",
              "        vertical-align: middle;\n",
              "    }\n",
              "\n",
              "    .dataframe tbody tr th {\n",
              "        vertical-align: top;\n",
              "    }\n",
              "\n",
              "    .dataframe thead th {\n",
              "        text-align: right;\n",
              "    }\n",
              "</style>\n",
              "<table border=\"1\" class=\"dataframe\">\n",
              "  <thead>\n",
              "    <tr style=\"text-align: right;\">\n",
              "      <th></th>\n",
              "      <th>FLUX.1</th>\n",
              "      <th>FLUX.2</th>\n",
              "      <th>FLUX.3</th>\n",
              "      <th>FLUX.4</th>\n",
              "      <th>FLUX.5</th>\n",
              "      <th>FLUX.6</th>\n",
              "      <th>FLUX.7</th>\n",
              "      <th>FLUX.8</th>\n",
              "      <th>FLUX.9</th>\n",
              "      <th>FLUX.10</th>\n",
              "      <th>...</th>\n",
              "      <th>FLUX.3188</th>\n",
              "      <th>FLUX.3189</th>\n",
              "      <th>FLUX.3190</th>\n",
              "      <th>FLUX.3191</th>\n",
              "      <th>FLUX.3192</th>\n",
              "      <th>FLUX.3193</th>\n",
              "      <th>FLUX.3194</th>\n",
              "      <th>FLUX.3195</th>\n",
              "      <th>FLUX.3196</th>\n",
              "      <th>FLUX.3197</th>\n",
              "    </tr>\n",
              "  </thead>\n",
              "  <tbody>\n",
              "    <tr>\n",
              "      <th>0</th>\n",
              "      <td>119.88</td>\n",
              "      <td>100.21</td>\n",
              "      <td>86.46</td>\n",
              "      <td>48.68</td>\n",
              "      <td>46.12</td>\n",
              "      <td>39.39</td>\n",
              "      <td>18.57</td>\n",
              "      <td>6.98</td>\n",
              "      <td>6.63</td>\n",
              "      <td>-21.97</td>\n",
              "      <td>...</td>\n",
              "      <td>14.52</td>\n",
              "      <td>19.29</td>\n",
              "      <td>14.44</td>\n",
              "      <td>-1.62</td>\n",
              "      <td>13.33</td>\n",
              "      <td>45.50</td>\n",
              "      <td>31.93</td>\n",
              "      <td>35.78</td>\n",
              "      <td>269.43</td>\n",
              "      <td>57.72</td>\n",
              "    </tr>\n",
              "    <tr>\n",
              "      <th>1</th>\n",
              "      <td>5736.59</td>\n",
              "      <td>5699.98</td>\n",
              "      <td>5717.16</td>\n",
              "      <td>5692.73</td>\n",
              "      <td>5663.83</td>\n",
              "      <td>5631.16</td>\n",
              "      <td>5626.39</td>\n",
              "      <td>5569.47</td>\n",
              "      <td>5550.44</td>\n",
              "      <td>5458.80</td>\n",
              "      <td>...</td>\n",
              "      <td>-581.91</td>\n",
              "      <td>-984.09</td>\n",
              "      <td>-1230.89</td>\n",
              "      <td>-1600.45</td>\n",
              "      <td>-1824.53</td>\n",
              "      <td>-2061.17</td>\n",
              "      <td>-2265.98</td>\n",
              "      <td>-2366.19</td>\n",
              "      <td>-2294.86</td>\n",
              "      <td>-2034.72</td>\n",
              "    </tr>\n",
              "    <tr>\n",
              "      <th>2</th>\n",
              "      <td>844.48</td>\n",
              "      <td>817.49</td>\n",
              "      <td>770.07</td>\n",
              "      <td>675.01</td>\n",
              "      <td>605.52</td>\n",
              "      <td>499.45</td>\n",
              "      <td>440.77</td>\n",
              "      <td>362.95</td>\n",
              "      <td>207.27</td>\n",
              "      <td>150.46</td>\n",
              "      <td>...</td>\n",
              "      <td>17.82</td>\n",
              "      <td>-51.66</td>\n",
              "      <td>-48.29</td>\n",
              "      <td>-59.99</td>\n",
              "      <td>-82.10</td>\n",
              "      <td>-174.54</td>\n",
              "      <td>-95.23</td>\n",
              "      <td>-162.68</td>\n",
              "      <td>-36.79</td>\n",
              "      <td>30.63</td>\n",
              "    </tr>\n",
              "    <tr>\n",
              "      <th>3</th>\n",
              "      <td>-826.00</td>\n",
              "      <td>-827.31</td>\n",
              "      <td>-846.12</td>\n",
              "      <td>-836.03</td>\n",
              "      <td>-745.50</td>\n",
              "      <td>-784.69</td>\n",
              "      <td>-791.22</td>\n",
              "      <td>-746.50</td>\n",
              "      <td>-709.53</td>\n",
              "      <td>-679.56</td>\n",
              "      <td>...</td>\n",
              "      <td>122.34</td>\n",
              "      <td>93.03</td>\n",
              "      <td>93.03</td>\n",
              "      <td>68.81</td>\n",
              "      <td>9.81</td>\n",
              "      <td>20.75</td>\n",
              "      <td>20.25</td>\n",
              "      <td>-120.81</td>\n",
              "      <td>-257.56</td>\n",
              "      <td>-215.41</td>\n",
              "    </tr>\n",
              "    <tr>\n",
              "      <th>4</th>\n",
              "      <td>-39.57</td>\n",
              "      <td>-15.88</td>\n",
              "      <td>-9.16</td>\n",
              "      <td>-6.37</td>\n",
              "      <td>-16.13</td>\n",
              "      <td>-24.05</td>\n",
              "      <td>-0.90</td>\n",
              "      <td>-45.20</td>\n",
              "      <td>-5.04</td>\n",
              "      <td>14.62</td>\n",
              "      <td>...</td>\n",
              "      <td>-37.87</td>\n",
              "      <td>-61.85</td>\n",
              "      <td>-27.15</td>\n",
              "      <td>-21.18</td>\n",
              "      <td>-33.76</td>\n",
              "      <td>-85.34</td>\n",
              "      <td>-81.46</td>\n",
              "      <td>-61.98</td>\n",
              "      <td>-69.34</td>\n",
              "      <td>-17.84</td>\n",
              "    </tr>\n",
              "  </tbody>\n",
              "</table>\n",
              "<p>5 rows × 3197 columns</p>\n",
              "</div>\n",
              "      <button class=\"colab-df-convert\" onclick=\"convertToInteractive('df-59079de9-f0a8-42bf-af8f-95651ea0dc63')\"\n",
              "              title=\"Convert this dataframe to an interactive table.\"\n",
              "              style=\"display:none;\">\n",
              "        \n",
              "  <svg xmlns=\"http://www.w3.org/2000/svg\" height=\"24px\"viewBox=\"0 0 24 24\"\n",
              "       width=\"24px\">\n",
              "    <path d=\"M0 0h24v24H0V0z\" fill=\"none\"/>\n",
              "    <path d=\"M18.56 5.44l.94 2.06.94-2.06 2.06-.94-2.06-.94-.94-2.06-.94 2.06-2.06.94zm-11 1L8.5 8.5l.94-2.06 2.06-.94-2.06-.94L8.5 2.5l-.94 2.06-2.06.94zm10 10l.94 2.06.94-2.06 2.06-.94-2.06-.94-.94-2.06-.94 2.06-2.06.94z\"/><path d=\"M17.41 7.96l-1.37-1.37c-.4-.4-.92-.59-1.43-.59-.52 0-1.04.2-1.43.59L10.3 9.45l-7.72 7.72c-.78.78-.78 2.05 0 2.83L4 21.41c.39.39.9.59 1.41.59.51 0 1.02-.2 1.41-.59l7.78-7.78 2.81-2.81c.8-.78.8-2.07 0-2.86zM5.41 20L4 18.59l7.72-7.72 1.47 1.35L5.41 20z\"/>\n",
              "  </svg>\n",
              "      </button>\n",
              "      \n",
              "  <style>\n",
              "    .colab-df-container {\n",
              "      display:flex;\n",
              "      flex-wrap:wrap;\n",
              "      gap: 12px;\n",
              "    }\n",
              "\n",
              "    .colab-df-convert {\n",
              "      background-color: #E8F0FE;\n",
              "      border: none;\n",
              "      border-radius: 50%;\n",
              "      cursor: pointer;\n",
              "      display: none;\n",
              "      fill: #1967D2;\n",
              "      height: 32px;\n",
              "      padding: 0 0 0 0;\n",
              "      width: 32px;\n",
              "    }\n",
              "\n",
              "    .colab-df-convert:hover {\n",
              "      background-color: #E2EBFA;\n",
              "      box-shadow: 0px 1px 2px rgba(60, 64, 67, 0.3), 0px 1px 3px 1px rgba(60, 64, 67, 0.15);\n",
              "      fill: #174EA6;\n",
              "    }\n",
              "\n",
              "    [theme=dark] .colab-df-convert {\n",
              "      background-color: #3B4455;\n",
              "      fill: #D2E3FC;\n",
              "    }\n",
              "\n",
              "    [theme=dark] .colab-df-convert:hover {\n",
              "      background-color: #434B5C;\n",
              "      box-shadow: 0px 1px 3px 1px rgba(0, 0, 0, 0.15);\n",
              "      filter: drop-shadow(0px 1px 2px rgba(0, 0, 0, 0.3));\n",
              "      fill: #FFFFFF;\n",
              "    }\n",
              "  </style>\n",
              "\n",
              "      <script>\n",
              "        const buttonEl =\n",
              "          document.querySelector('#df-59079de9-f0a8-42bf-af8f-95651ea0dc63 button.colab-df-convert');\n",
              "        buttonEl.style.display =\n",
              "          google.colab.kernel.accessAllowed ? 'block' : 'none';\n",
              "\n",
              "        async function convertToInteractive(key) {\n",
              "          const element = document.querySelector('#df-59079de9-f0a8-42bf-af8f-95651ea0dc63');\n",
              "          const dataTable =\n",
              "            await google.colab.kernel.invokeFunction('convertToInteractive',\n",
              "                                                     [key], {});\n",
              "          if (!dataTable) return;\n",
              "\n",
              "          const docLinkHtml = 'Like what you see? Visit the ' +\n",
              "            '<a target=\"_blank\" href=https://colab.research.google.com/notebooks/data_table.ipynb>data table notebook</a>'\n",
              "            + ' to learn more about interactive tables.';\n",
              "          element.innerHTML = '';\n",
              "          dataTable['output_type'] = 'display_data';\n",
              "          await google.colab.output.renderOutput(dataTable, element);\n",
              "          const docLink = document.createElement('div');\n",
              "          docLink.innerHTML = docLinkHtml;\n",
              "          element.appendChild(docLink);\n",
              "        }\n",
              "      </script>\n",
              "    </div>\n",
              "  </div>\n",
              "  "
            ]
          },
          "metadata": {},
          "execution_count": 21
        }
      ]
    },
    {
      "cell_type": "markdown",
      "metadata": {
        "id": "ZsZe8fyeiXBG"
      },
      "source": [
        "Let's also extract the target variable from the test dataset so that we can compare the actual target values with the predicted values later."
      ]
    },
    {
      "cell_type": "code",
      "metadata": {
        "id": "wVMq86Y5p5ol",
        "colab": {
          "base_uri": "https://localhost:8080/"
        },
        "outputId": "24913936-7ffd-48b0-99f2-4fbf2cf32a86"
      },
      "source": [
        "# Student Action: Using the 'iloc[]' function, extract the target variable from the test dataset.\n",
        "y_test = exo_test_df['LABEL']\n",
        "y_test.head()"
      ],
      "execution_count": null,
      "outputs": [
        {
          "output_type": "execute_result",
          "data": {
            "text/plain": [
              "0    2\n",
              "1    2\n",
              "2    2\n",
              "3    2\n",
              "4    2\n",
              "Name: LABEL, dtype: int64"
            ]
          },
          "metadata": {},
          "execution_count": 22
        }
      ]
    },
    {
      "cell_type": "markdown",
      "metadata": {
        "id": "5f3OVTo4ioQk"
      },
      "source": [
        "---"
      ]
    },
    {
      "cell_type": "markdown",
      "metadata": {
        "id": "Xz8BPprpipOq"
      },
      "source": [
        "#### Activity 6: The `predict()` Function^^^\n",
        "\n",
        "Now, let's make predictions on the test dataset by calling the `predict()` function with the features variables of the test dataset as an input."
      ]
    },
    {
      "cell_type": "code",
      "metadata": {
        "id": "VF_lb5Fcp8zd"
      },
      "source": [
        "# Student Action: Make predictions on the test dataset by using the 'predict()' function.\n",
        "y_predicted = rf_clf.predict(x_test)"
      ],
      "execution_count": null,
      "outputs": []
    },
    {
      "cell_type": "code",
      "source": [
        "y_predicted"
      ],
      "metadata": {
        "colab": {
          "base_uri": "https://localhost:8080/"
        },
        "id": "_nHGu20FzDzZ",
        "outputId": "c45fbc88-8082-4f3e-bca4-8a92245a1636"
      },
      "execution_count": null,
      "outputs": [
        {
          "output_type": "execute_result",
          "data": {
            "text/plain": [
              "array([1, 1, 1, 1, 1, 1, 1, 1, 1, 1, 1, 1, 1, 1, 1, 1, 1, 1, 1, 1, 1, 1,\n",
              "       1, 1, 1, 1, 1, 1, 1, 1, 1, 1, 1, 1, 1, 1, 1, 1, 1, 1, 1, 1, 1, 1,\n",
              "       1, 1, 1, 1, 1, 1, 1, 1, 1, 1, 1, 1, 1, 1, 1, 1, 1, 1, 1, 1, 1, 1,\n",
              "       1, 1, 1, 1, 1, 1, 1, 1, 1, 1, 1, 1, 1, 1, 1, 1, 1, 1, 1, 1, 1, 1,\n",
              "       1, 1, 1, 1, 1, 1, 1, 1, 1, 1, 1, 1, 1, 1, 1, 1, 1, 1, 1, 1, 1, 1,\n",
              "       1, 1, 1, 1, 1, 1, 1, 1, 1, 1, 1, 1, 1, 1, 1, 1, 1, 1, 1, 1, 1, 1,\n",
              "       1, 1, 1, 1, 1, 1, 1, 1, 1, 1, 1, 1, 1, 1, 1, 1, 1, 1, 1, 1, 1, 1,\n",
              "       1, 1, 1, 1, 1, 1, 1, 1, 1, 1, 1, 1, 1, 1, 1, 1, 1, 1, 1, 1, 1, 1,\n",
              "       1, 1, 1, 1, 1, 1, 1, 1, 1, 1, 1, 1, 1, 1, 1, 1, 1, 1, 1, 1, 1, 1,\n",
              "       1, 1, 1, 1, 1, 1, 1, 1, 1, 1, 1, 1, 1, 1, 1, 1, 1, 1, 1, 1, 1, 1,\n",
              "       1, 1, 1, 1, 1, 1, 1, 1, 1, 1, 1, 1, 1, 1, 1, 1, 1, 1, 1, 1, 1, 1,\n",
              "       1, 1, 1, 1, 1, 1, 1, 1, 1, 1, 1, 1, 1, 1, 1, 1, 1, 1, 1, 1, 1, 1,\n",
              "       1, 1, 1, 1, 1, 1, 1, 1, 1, 1, 1, 1, 1, 1, 1, 1, 1, 1, 1, 1, 1, 1,\n",
              "       1, 1, 1, 1, 1, 1, 1, 1, 1, 1, 1, 1, 1, 1, 1, 1, 1, 1, 1, 1, 1, 1,\n",
              "       1, 1, 1, 1, 1, 1, 1, 1, 1, 1, 1, 1, 1, 1, 1, 1, 1, 1, 1, 1, 1, 1,\n",
              "       1, 1, 1, 1, 1, 1, 1, 1, 1, 1, 1, 1, 1, 1, 1, 1, 1, 1, 1, 1, 1, 1,\n",
              "       1, 1, 1, 1, 1, 1, 1, 1, 1, 1, 1, 1, 1, 1, 1, 1, 1, 1, 1, 1, 1, 1,\n",
              "       1, 1, 1, 1, 1, 1, 1, 1, 1, 1, 1, 1, 1, 1, 1, 1, 1, 1, 1, 1, 1, 1,\n",
              "       1, 1, 1, 1, 1, 1, 1, 1, 1, 1, 1, 1, 1, 1, 1, 1, 1, 1, 1, 1, 1, 1,\n",
              "       1, 1, 1, 1, 1, 1, 1, 1, 1, 1, 1, 1, 1, 1, 1, 1, 1, 1, 1, 1, 1, 1,\n",
              "       1, 1, 1, 1, 1, 1, 1, 1, 1, 1, 1, 1, 1, 1, 1, 1, 1, 1, 1, 1, 1, 1,\n",
              "       1, 1, 1, 1, 1, 1, 1, 1, 1, 1, 1, 1, 1, 1, 1, 1, 1, 1, 1, 1, 1, 1,\n",
              "       1, 1, 1, 1, 1, 1, 1, 1, 1, 1, 1, 1, 1, 1, 1, 1, 1, 1, 1, 1, 1, 1,\n",
              "       1, 1, 1, 1, 1, 1, 1, 1, 1, 1, 1, 1, 1, 1, 1, 1, 1, 1, 1, 1, 1, 1,\n",
              "       1, 1, 1, 1, 1, 1, 1, 1, 1, 1, 1, 1, 1, 1, 1, 1, 1, 1, 1, 1, 1, 1,\n",
              "       1, 1, 1, 1, 1, 1, 1, 1, 1, 1, 1, 1, 1, 1, 1, 1, 1, 1, 1, 1])"
            ]
          },
          "metadata": {},
          "execution_count": 24
        }
      ]
    },
    {
      "cell_type": "markdown",
      "metadata": {
        "id": "-pKzHPiEjCSI"
      },
      "source": [
        "The predict function returns a NumPy array of the predicted values. You can verify it using the `type()` function."
      ]
    },
    {
      "cell_type": "code",
      "metadata": {
        "id": "zOz8o4fJp-_W",
        "colab": {
          "base_uri": "https://localhost:8080/"
        },
        "outputId": "c6cf2d66-06ef-4bdb-f450-ae2a13b314ce"
      },
      "source": [
        "# Student Action: Using the 'type()' function, verify that the predicted values are obtained in the form of a NumPy array.\n",
        "type(y_predicted)"
      ],
      "execution_count": null,
      "outputs": [
        {
          "output_type": "execute_result",
          "data": {
            "text/plain": [
              "numpy.ndarray"
            ]
          },
          "metadata": {},
          "execution_count": 25
        }
      ]
    },
    {
      "cell_type": "markdown",
      "metadata": {
        "id": "DhdBmNx8jWQv"
      },
      "source": [
        "The actual target values are stored in a Pandas series. So, for the sake of consistency, let's convert the NumPy array of the predicted values into a Pandas series."
      ]
    },
    {
      "cell_type": "code",
      "metadata": {
        "id": "xF3skQa0qBeO",
        "colab": {
          "base_uri": "https://localhost:8080/"
        },
        "outputId": "1fc512e2-90f5-412d-9b7a-b5ac3740a1d8"
      },
      "source": [
        "# Student Action: Convert the NumPy array of predicted values into a Pandas series.\n",
        "y_array = pd.Series(y_predicted)\n",
        "y_array"
      ],
      "execution_count": null,
      "outputs": [
        {
          "output_type": "execute_result",
          "data": {
            "text/plain": [
              "0      1\n",
              "1      1\n",
              "2      1\n",
              "3      1\n",
              "4      1\n",
              "      ..\n",
              "565    1\n",
              "566    1\n",
              "567    1\n",
              "568    1\n",
              "569    1\n",
              "Length: 570, dtype: int64"
            ]
          },
          "metadata": {},
          "execution_count": 26
        }
      ]
    },
    {
      "cell_type": "markdown",
      "metadata": {
        "id": "nQwrexkrjrdE"
      },
      "source": [
        "Now, let's count the number of stars classified as `1` and `2`."
      ]
    },
    {
      "cell_type": "code",
      "metadata": {
        "id": "Qk7UnroAqTUT",
        "colab": {
          "base_uri": "https://localhost:8080/"
        },
        "outputId": "e1861d94-b3f7-4339-8305-dfb8f365f029"
      },
      "source": [
        "# Student Action: Using the 'value_counts()' function, count the number of times 1 and 2 occur in the predicted values.\n",
        "y_array.value_counts()"
      ],
      "execution_count": null,
      "outputs": [
        {
          "output_type": "execute_result",
          "data": {
            "text/plain": [
              "1    570\n",
              "dtype: int64"
            ]
          },
          "metadata": {},
          "execution_count": 27
        }
      ]
    },
    {
      "cell_type": "code",
      "source": [
        "exo_test_df['LABEL'].value_counts()"
      ],
      "metadata": {
        "colab": {
          "base_uri": "https://localhost:8080/"
        },
        "id": "O_nwI9LyzsNy",
        "outputId": "c9378199-8a18-4de3-ba02-bd0bd049b0ca"
      },
      "execution_count": null,
      "outputs": [
        {
          "output_type": "execute_result",
          "data": {
            "text/plain": [
              "1    565\n",
              "2      5\n",
              "Name: LABEL, dtype: int64"
            ]
          },
          "metadata": {},
          "execution_count": 29
        }
      ]
    },
    {
      "cell_type": "markdown",
      "metadata": {
        "id": "dfKiAcaMj5xF"
      },
      "source": [
        "As you can see, we did not get the expected results. The model should have classified all the stars having a planet as `2`. Ideally, the Random Forest Classifier model should have classified `565` values as `1` and the remaining `5` values as `2`.\n",
        "\n",
        "In this case, even though the accuracy of a prediction model is high but according to the problem statement, it is not giving the desired result. Hence, **accuracy alone is not the metric to test the efficacy of a prediction model.**\n",
        "\n",
        "In the next class, we will try to investigate why Random Forest Classifier failed to classify even a single star as `2`. Based on the investigation, we will try to improve the model and then deploy it again."
      ]
    },
    {
      "cell_type": "markdown",
      "metadata": {
        "id": "H3WclLnZkFfz"
      },
      "source": [
        "---"
      ]
    },
    {
      "cell_type": "markdown",
      "metadata": {
        "id": "a5d88RkxezLb"
      },
      "source": [
        "### **Project**\n",
        "\n",
        "You can now attempt the **Applied Tech. Project 16 - Deploying a Prediction Model** on your own.\n",
        "\n",
        "\n",
        "**Applied Tech. Project 16 - Deploying a Prediction Model**: https://colab.research.google.com/drive/1PLr9T-t3DTOSI4XsF83IzLxjoJoykKNe"
      ]
    },
    {
      "cell_type": "markdown",
      "source": [
        "#### Activity 1: Multiples\n",
        "\n",
        "Given $n$ and $m$, write a function to print first $m$ multiples of a number $n$ without using any loop. E.g.,\n",
        "\n",
        "```\n",
        "Input: n = 2, m = 3\n",
        "Output: 2 4 6\n",
        "\n",
        "Input: n = 3, m = 4\n",
        "Output: 3 6 9 12\n",
        "```"
      ],
      "metadata": {
        "id": "JEhBLKYCnrz7"
      }
    },
    {
      "cell_type": "code",
      "source": [
        "import numpy as np\n",
        "n = int(input(\"Enter a number: \"))\n",
        "m = int(input(\"Enter a number: \"))\n",
        "\n",
        "input_array = np.arange(n,(n*m)+1, n)\n",
        "print(input_array)"
      ],
      "metadata": {
        "id": "3Kp9wrNuntkx",
        "colab": {
          "base_uri": "https://localhost:8080/"
        },
        "outputId": "fa3c6a24-e91e-40b1-f957-301dc3a11b6d"
      },
      "execution_count": null,
      "outputs": [
        {
          "output_type": "stream",
          "name": "stdout",
          "text": [
            "Enter a number: 3\n",
            "Enter a number: 4\n",
            "[ 3  6  9 12]\n"
          ]
        }
      ]
    },
    {
      "cell_type": "code",
      "source": [
        "1\n",
        "121\n",
        "12321\n",
        "1234321\n",
        "123454321\n",
        "12345654321\n",
        "1234567654321\n",
        "123456787654321"
      ],
      "metadata": {
        "id": "PA_fDkg1p8tM"
      },
      "execution_count": null,
      "outputs": []
    },
    {
      "cell_type": "code",
      "source": [
        "num = 4\n",
        "num1= 1\n",
        "for x in range(1, num):\n",
        "  for y in range(1, num):\n",
        "    print(num1 * num1)\n",
        "    print(\" \")\n",
        "    num1 = ((num1 * 10)+ 1)\n"
      ],
      "metadata": {
        "id": "KluBq5_O3DwA",
        "colab": {
          "base_uri": "https://localhost:8080/"
        },
        "outputId": "4b2788d0-cfd8-43d9-b581-643e57567fff"
      },
      "execution_count": null,
      "outputs": [
        {
          "output_type": "stream",
          "name": "stdout",
          "text": [
            "1\n",
            " \n",
            "121\n",
            " \n",
            "12321\n",
            " \n",
            "1234321\n",
            " \n",
            "123454321\n",
            " \n",
            "12345654321\n",
            " \n",
            "1234567654321\n",
            " \n",
            "123456787654321\n",
            " \n",
            "12345678987654321\n",
            " \n"
          ]
        }
      ]
    },
    {
      "cell_type": "code",
      "source": [
        "11 * 11"
      ],
      "metadata": {
        "colab": {
          "base_uri": "https://localhost:8080/"
        },
        "id": "wV3ECklT4OzS",
        "outputId": "67a73c27-e877-4cd7-d7d6-0c35299e97e7"
      },
      "execution_count": null,
      "outputs": [
        {
          "output_type": "execute_result",
          "data": {
            "text/plain": [
              "121"
            ]
          },
          "metadata": {},
          "execution_count": 39
        }
      ]
    },
    {
      "cell_type": "code",
      "source": [
        "111 * 111"
      ],
      "metadata": {
        "colab": {
          "base_uri": "https://localhost:8080/"
        },
        "id": "Um20Pske4SE3",
        "outputId": "b2e07747-b72c-4430-c952-f9f945156f1c"
      },
      "execution_count": null,
      "outputs": [
        {
          "output_type": "execute_result",
          "data": {
            "text/plain": [
              "12321"
            ]
          },
          "metadata": {},
          "execution_count": 40
        }
      ]
    },
    {
      "cell_type": "code",
      "source": [
        "110 * 110"
      ],
      "metadata": {
        "colab": {
          "base_uri": "https://localhost:8080/"
        },
        "id": "IZjY-n8CJT-t",
        "outputId": "54df96b2-9a90-4ee9-913d-6e9931b5aa77"
      },
      "execution_count": null,
      "outputs": [
        {
          "output_type": "execute_result",
          "data": {
            "text/plain": [
              "12100"
            ]
          },
          "metadata": {},
          "execution_count": 49
        }
      ]
    },
    {
      "cell_type": "markdown",
      "metadata": {
        "id": "fVePwoIdeyoq"
      },
      "source": [
        "---"
      ]
    }
  ]
}