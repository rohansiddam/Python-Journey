{
  "nbformat": 4,
  "nbformat_minor": 0,
  "metadata": {
    "colab": {
      "provenance": [],
      "include_colab_link": true
    },
    "kernelspec": {
      "name": "python3",
      "display_name": "Python 3"
    }
  },
  "cells": [
    {
      "cell_type": "markdown",
      "metadata": {
        "id": "view-in-github",
        "colab_type": "text"
      },
      "source": [
        "<a href=\"https://colab.research.google.com/github/rohansiddam/Python-Journey/blob/main/078%20-%20Lesson%2078%20(Logistic%20Regression%20-%20Gradient%20Descent).ipynb\" target=\"_parent\"><img src=\"https://colab.research.google.com/assets/colab-badge.svg\" alt=\"Open In Colab\"/></a>"
      ]
    },
    {
      "cell_type": "markdown",
      "metadata": {
        "id": "nreGKcypHo1M"
      },
      "source": [
        "# Lesson 78: Logistic Regression - Gradient Descent\n"
      ]
    },
    {
      "cell_type": "markdown",
      "metadata": {
        "id": "ze9uSJt-I-0E"
      },
      "source": [
        "### Teacher-Student Activities\n",
        "\n",
        "In the previous classes, you learnt to compute the partial derivatives of the regularised cost function wrt all the betas i.e. $\\frac{\\partial J}{\\partial \\beta_0}, \\frac{\\partial J}{\\partial \\beta_1}, \\frac{\\partial J}{\\partial \\beta_2}, \\dots, \\frac{\\partial J}{\\partial \\beta_n}$ and to create a surface plot for a function dependent on two independent variables; in this case, a regularised cost function dependent on $\\beta_1$ and $\\beta_2$.\n",
        "\n",
        "In this class, you will learn to use these partial derivatives in Python to find the optimum beta values by building a gradient descent algorithm in Python.\n",
        "\n",
        "Let's quickly go through the activities covered in the previous class and begin this class from **Activity 1: The Gradient Descent Algorithm** section.\n"
      ]
    },
    {
      "cell_type": "markdown",
      "metadata": {
        "id": "bSyqQS5T8Y1D"
      },
      "source": [
        "---"
      ]
    },
    {
      "cell_type": "markdown",
      "metadata": {
        "id": "0vmj2glW8aKa"
      },
      "source": [
        "#### Dummy Dataset\n",
        "\n"
      ]
    },
    {
      "cell_type": "code",
      "metadata": {
        "id": "NIBpSYJB8hsx",
        "colab": {
          "base_uri": "https://localhost:8080/"
        },
        "outputId": "c16fa6d6-23c3-4a73-cf34-4cd3e7d915b0"
      },
      "source": [
        "# Dummy dataset creation using the 'make_blob()' function.\n",
        "import pandas as pd\n",
        "from sklearn.datasets import make_blobs\n",
        "import matplotlib.pyplot as plt\n",
        "\n",
        "features_array, target_array = make_blobs(n_samples = 1000, centers = 2, n_features = 2, random_state = 42, cluster_std = 1.25)\n",
        "\n",
        "# Object-type of the arrays created by the 'make_blob()' function and the number of rows and columns in them.\n",
        "print(f\"The features array is an {type(features_array)} object.\\nThe target array is an {type(target_array)} object.\\n\")\n",
        "print(f\"The features array has {features_array.shape[0]} rows and {features_array.shape[1]} columns.\")\n",
        "print(f\"The target array has {target_array.shape[0]} rows and {len(target_array.shape)} column.\")\n",
        "\n",
        "# Pandas DataFrame creation.\n",
        "dummy_dict = {'col 1': [features_array[i][0] for i in range(features_array.shape[0])],\n",
        "             'col 2': [features_array[i][1] for i in range(features_array.shape[0])],\n",
        "             'target': target_array}\n",
        "\n",
        "dummy_df = pd.DataFrame.from_dict(dummy_dict)\n",
        "\n",
        "# The number of occurrences of each label in the 'target' column.\n",
        "print(f\"Target counts:\\n{dummy_df['target'].value_counts()}\")"
      ],
      "execution_count": null,
      "outputs": [
        {
          "output_type": "stream",
          "name": "stdout",
          "text": [
            "The features array is an <class 'numpy.ndarray'> object.\n",
            "The target array is an <class 'numpy.ndarray'> object.\n",
            "\n",
            "The features array has 1000 rows and 2 columns.\n",
            "The target array has 1000 rows and 1 column.\n",
            "Target counts:\n",
            "0    500\n",
            "1    500\n",
            "Name: target, dtype: int64\n"
          ]
        }
      ]
    },
    {
      "cell_type": "markdown",
      "metadata": {
        "id": "16VQyfuGX-X4"
      },
      "source": [
        "---"
      ]
    },
    {
      "cell_type": "markdown",
      "metadata": {
        "id": "TI1rKMQjc6-6"
      },
      "source": [
        "#### Calculating Coefficients Using `sklearn` Module"
      ]
    },
    {
      "cell_type": "code",
      "metadata": {
        "id": "etrA_2UW4DCj",
        "colab": {
          "base_uri": "https://localhost:8080/",
          "height": 564
        },
        "outputId": "27ae0197-c2c0-4412-f32e-677bae86f218"
      },
      "source": [
        "# Coefficients Estimation by building a logistic regression model using the 'sklearn' module.\n",
        "from sklearn.linear_model import LogisticRegression\n",
        "\n",
        "X = dummy_df[dummy_df.columns[:-1]] # Features\n",
        "y = dummy_df['target'] # Target\n",
        "\n",
        "def decision_boundary_coeffs(X, y):\n",
        "  logistic_reg = LogisticRegression(random_state=0).fit(X, y)\n",
        "  coef_list = list(logistic_reg.intercept_) + list(logistic_reg.coef_[0])\n",
        "  return coef_list\n",
        "\n",
        "coef_list = decision_boundary_coeffs(X, y)\n",
        "for i in range(len(coef_list)):\n",
        "  print(f\"Beta {i} = {coef_list[i]:.4f}\")\n",
        "\n",
        "# Plotting the decision boundary\n",
        "pred_col2_values = - (coef_list[0] + coef_list[1] * dummy_df['col 1']) / coef_list[2]\n",
        "\n",
        "plt.figure(figsize = (12, 5), dpi = 96)\n",
        "plt.title(\"\\n\\nClusters with Linear Decision Boundary\", fontsize = 14)\n",
        "plt.scatter(dummy_df.loc[dummy_df['target'] == 0, 'col 1'], dummy_df.loc[dummy_df['target'] == 0, 'col 2'], label = 'Label 0', color = 'g')\n",
        "plt.scatter(dummy_df.loc[dummy_df['target'] == 1, 'col 1'], dummy_df.loc[dummy_df['target'] == 1, 'col 2'], label = 'Label 1', color = 'r')\n",
        "plt.plot(dummy_df['col 1'], pred_col2_values, color = 'b', linewidth = 2, label = r\"$\\beta_0 + \\beta_1 x_1 + \\beta_2 x_2 = 0$\")\n",
        "plt.xlabel(r\"$x_1$\", fontsize = 14)\n",
        "plt.ylabel(r\"$x_2$\", fontsize = 14)\n",
        "plt.legend()\n",
        "plt.show()"
      ],
      "execution_count": null,
      "outputs": [
        {
          "output_type": "stream",
          "name": "stdout",
          "text": [
            "Beta 0 = 6.3267\n",
            "Beta 1 = 1.4679\n",
            "Beta 2 = -1.3607\n"
          ]
        },
        {
          "output_type": "display_data",
          "data": {
            "text/plain": [
              "<Figure size 1152x480 with 1 Axes>"
            ],
            "image/png": "[encoded data removed]"
          },
          "metadata": {
            "needs_background": "light"
          }
        }
      ]
    },
    {
      "cell_type": "code",
      "metadata": {
        "id": "Si8xclMIliCz",
        "colab": {
          "base_uri": "https://localhost:8080/"
        },
        "outputId": "db011445-71c7-42f1-b936-f083054031dd"
      },
      "source": [
        "# First three values of 'target_array'.\n",
        "print(target_array[:3])\n",
        "\n",
        "# Last three values of 'target_array'.\n",
        "print(target_array[-3:])"
      ],
      "execution_count": null,
      "outputs": [
        {
          "output_type": "stream",
          "name": "stdout",
          "text": [
            "[0 1 1]\n",
            "[1 1 0]\n"
          ]
        }
      ]
    },
    {
      "cell_type": "markdown",
      "metadata": {
        "id": "ONiiHW8Mc6KM"
      },
      "source": [
        "---"
      ]
    },
    {
      "cell_type": "markdown",
      "metadata": {
        "id": "WeZHX7ZNk02L"
      },
      "source": [
        "#### Derivative of Regularised Cost Function\n",
        "\n",
        "The regularised cost function.\n",
        "\n",
        "\\begin{equation}\n",
        "J = - \\frac{1}{m} \\sum_{i = 1} ^{m} (y_i \\log p_i  + (1 - y_i) \\log(1 - p_i)) + \\frac{\\lambda}{2m}(\\beta_1^2 + \\beta_2^2 + \\dots + \\beta_n^2)\\\\\n",
        "\\end{equation}\n",
        "\n",
        "The partial derivatives\n",
        "\n",
        "\\begin{align}\n",
        "\\frac{\\partial J}{\\partial \\beta_0} &=  \\frac{1}{m} \\sum_{i = 1} ^{m} (p_i  - y_i) \\\\\n",
        "\\frac{\\partial J}{\\partial \\beta_1} &=  \\frac{1}{m} \\sum_{i = 1} ^{m} (p_i  - y_i)x_1 + \\frac{\\lambda}{m} \\beta_1 \\\\\n",
        "\\end{align}\n",
        "\n",
        "In general, for $\\beta_j = \\beta_1$ to $\\beta_n$\n",
        "\\begin{equation}\n",
        "\\frac{\\partial J}{\\partial \\beta_j} =  \\frac{1}{m} \\sum_{i = 1} ^{m} (p_i  - y_i)x_j + \\frac{\\lambda}{m} \\beta_j \\\\\n",
        "\\end{equation}"
      ]
    },
    {
      "cell_type": "markdown",
      "metadata": {
        "id": "3rn0W0XWU2pu"
      },
      "source": [
        "---"
      ]
    },
    {
      "cell_type": "markdown",
      "metadata": {
        "id": "21llG--8oDeo"
      },
      "source": [
        "#### Activity 1: The Gradient Descent Algorithm\n",
        "\n",
        "**What is a gradient?**\n",
        "\n",
        "A gradient is just another word for the slope of a straight line. In short,\n",
        "\n",
        "$$\\text{gradient} = \\frac{dy}{dx} = \\text{slope of a straight line}$$\n",
        "\n",
        "It is just another name for derivatives.\n",
        "\n",
        "\n",
        "**What is gradient descent?**\n",
        "\n",
        "The gradient descent algorithm is a technique used to find the point of the minimum value of a cost function to further compute the optimum values of betas. The term \"gradient descent\" literally means that you are going in the direction where the slope of a tangent of a cost function is descending or decreasing.\n",
        "\n",
        "**How the gradient descent algorithm locates the point of minimum value of a function?**\n",
        "\n",
        "The gradient descent algorithm,\n",
        "\n",
        "- Calculates a gradient or slope of a tangent to the cost function curve at some initial arbitrary points on the curve.\n",
        "\n",
        "  Let's assume that the graph between the cost function and $\\beta_0$ only follows the curve shown below.\n",
        "\n",
        "  <center><img src = 'https://student-datasets-bucket.s3.ap-south-1.amazonaws.com/images/grad-descent-01.jpg' width = 600></center>\n",
        "\n",
        "  The tangent and its slope at some arbitrary point $\\beta_0$ is also shown in the curve\n",
        "\n",
        "- Refactors the gradients obtained by multiplying them with some arbitrary value called learning rate denoted by $\\alpha$ and subtracts the refactored value from the initial points on the curve\n",
        "  \n",
        "  To get the new value of $\\beta_0$, the previous slope i.e. $\\frac{\\partial J}{\\partial \\beta_0}$ is multiplied with $\\alpha$ and the initial $\\beta_0$ is replaced by $\\beta_0 - \\alpha \\frac{\\partial J}{\\partial \\beta_0}$\n",
        "\n",
        "  <center><img src = 'https://student-datasets-bucket.s3.ap-south-1.amazonaws.com/images/grad-descent-02.jpg' width = 600></center>\n",
        "\n",
        "  The tangent and its slope at the new $\\beta_0$ point is also shown in the curve. As you might have noticed, $\\alpha$ is used to get a new value of $\\beta_0$. Suppose the initial value of $\\beta_0$ is $10$, $\\frac{\\partial J}{\\partial \\beta_0} = 4$ and $\\alpha = 0.1$. So new value of $\\beta_0$ becomes $\\beta_0 = 10 - 0.1 \\times 4 = 9.6$. Then let $\\frac{\\partial J}{\\partial \\beta_0} = 2.5$, so $\\beta_0 = 9.6 - 0.1 \\times 2.5 = 9.35$ and so on until $\\frac{\\partial J}{\\partial \\beta_0} = 0$\n",
        "\n",
        "- Repeats the above steps until the lowest point on the curve is obtained\n",
        "  \n",
        "  <center><img src = 'https://student-datasets-bucket.s3.ap-south-1.amazonaws.com/images/grad-descent-03.jpg' width = 600></center>\n",
        "\n",
        "  <center><img src = 'https://student-datasets-bucket.s3.ap-south-1.amazonaws.com/images/grad-descent-04.jpg' width = 600></center>\n",
        "\n",
        "  <center><img src = 'https://student-datasets-bucket.s3.ap-south-1.amazonaws.com/images/grad-descent-05.jpg' width = 600></center>\n",
        "\n",
        "  As you can see, the tangent gradually shifted to the point of minimum value of the regularised cost function wrt $\\beta_0$ only. Similarly, you can visualise the above graph for $J$ as a function of $\\beta_1$ and $\\beta_2$ individually. In all the cases, the tangent will converge to the point of minimum value of the regularised cost function.\n",
        "\n",
        "To implement the gradient descent algorithm, you need to go through the following steps:\n",
        "\n",
        "1. Select some random values of betas, say $\\beta_0 = 0, \\beta_1 = 0$ and $\\beta_2 = 0$\n",
        "\n",
        "2. Compute the gradient or slope of a tangent on those points i.e. $\\frac{\\partial J}{\\partial \\beta_0}, \\frac{\\partial J}{\\partial \\beta_1}$ and $\\frac{\\partial J}{\\partial \\beta_2}$ at the points $\\beta_0 = 0, \\beta_1 = 0$ and $\\beta_2 = 0$\n",
        "\n",
        "3. Multiply the values obtained in the second step with $\\alpha$ i.e. $\\alpha \\frac{\\partial J}{\\partial \\beta_0}, \\alpha \\frac{\\partial J}{\\partial \\beta_1}$ and $\\alpha \\frac{\\partial J}{\\partial \\beta_2}$\n",
        "\n",
        "4. Subtract the values obtained in the third step with the initial values of betas i.e. $\\beta_0 - \\alpha \\frac{\\partial J}{\\partial \\beta_0}, \\beta_1 - \\alpha \\frac{\\partial J}{\\partial \\beta_1}$ and $\\beta_2 - \\alpha \\frac{\\partial J}{\\partial \\beta_2}$\n",
        "\n",
        "5. Replace the initial values of betas with the ones obtained in the fourth step i.e. $\\beta_0 = \\beta_0 - \\alpha \\frac{\\partial J}{\\partial \\beta_0}, \\beta_1 = \\beta_1 - \\alpha \\frac{\\partial J}{\\partial \\beta_1}$ and $\\beta_2 = \\beta_2 - \\alpha \\frac{\\partial J}{\\partial \\beta_2}$\n",
        "\n",
        "6. Repeat the above steps until the $\\beta_0, \\beta_1$ and $\\beta_2$ values are obtained such that $J(\\beta_0, \\beta_1, \\beta_2)$ is minimum.\n",
        "\n",
        "Without further ado, let's learn the gradient descent algorithm in action.\n"
      ]
    },
    {
      "cell_type": "markdown",
      "metadata": {
        "id": "yc4hRRUPkz4G"
      },
      "source": [
        "---"
      ]
    },
    {
      "cell_type": "markdown",
      "metadata": {
        "id": "3d1uE_k_xSqm"
      },
      "source": [
        "#### Activity 2: Pre-requisites^\n",
        "\n",
        "We need to create a regularised cost function in Python for the dummy dataset that has two columns. Hence, in this case, the regularised cost function becomes\n",
        "\n",
        "\\begin{equation}\n",
        "J = - \\frac{1}{m} \\sum_{i = 1} ^{m} (y_i \\log p_i  + (1 - y_i) \\log(1 - p_i)) + \\frac{\\lambda}{2m}(\\beta_1^2 + \\beta_2^2)\n",
        "\\end{equation}\n",
        "\n",
        "And their partial derivatives wrt $\\beta_0, \\beta_1$ and $\\beta_2$ are given by\n",
        "\n",
        "\\begin{align}\n",
        "\\frac{\\partial J}{\\partial \\beta_0} &=  \\frac{1}{m} \\sum_{i = 1} ^{m} (p_i  - y_i) \\\\\n",
        "\\frac{\\partial J}{\\partial \\beta_1} &=  \\frac{1}{m} \\sum_{i = 1} ^{m} (p_i  - y_i)x_1 + \\frac{\\lambda}{m} \\beta_1 \\\\\n",
        "\\frac{\\partial J}{\\partial \\beta_2} &=  \\frac{1}{m} \\sum_{i = 1} ^{m} (p_i  - y_i)x_2 + \\frac{\\lambda}{m} \\beta_2 \\\\\n",
        "\\end{align}\n",
        "\n",
        "But before that, you need the following:\n",
        "\n",
        "1. An array containing features (independent variables) which you already have. It is stored in the `features_array` variable. You need to add another column to this array having all the values as 1. For this, you can use the `append()` function of the `numpy` module. Its **syntax** is\n",
        "\n",
        "   `np.append(array1, array2, axis)`\n",
        "\n",
        "   where\n",
        "\n",
        "   - `array1` is the array in which you want to add the values of `array2`\n",
        "   \n",
        "   - `axis = 0` denotes that you want to add values row-wise or horizontally\n",
        "   \n",
        "   - `axis = 1` denotes that you want to add values column-wise or vertically.\n",
        "\n",
        "\n",
        "2. An array containing the target (dependent variable) which also we already have. It is stored in the `target_array` variable.\n",
        "\n",
        "3. An array containing some random initial values of betas.\n",
        "\n",
        "4. A sigmoid function in Python.\n",
        "\n",
        "\n"
      ]
    },
    {
      "cell_type": "code",
      "metadata": {
        "id": "99kQZUr3zmNI",
        "colab": {
          "base_uri": "https://localhost:8080/"
        },
        "outputId": "5d5eb318-340d-4a95-d661-33ad519e6a06"
      },
      "source": [
        "# S2.1: Go through all the above preparation steps.\n",
        "import numpy as np\n",
        "X = np.append(np.ones((features_array.shape[0], 1)), features_array, axis = 1)\n",
        "print(X)\n",
        "\n",
        "Y = target_array\n",
        "m = X.shape[0]\n",
        "c = X.shape[1]\n",
        "\n",
        "init_beta = np.zeros(shape = (1, c))\n",
        "print(init_beta)\n",
        "\n",
        "def sigmoid(x):\n",
        "  return 1 / (1 + np.exp(-x))"
      ],
      "execution_count": null,
      "outputs": [
        {
          "output_type": "stream",
          "name": "stdout",
          "text": [
            "[[ 1.         -1.46458248  7.60215256]\n",
            " [ 1.          6.73700485  1.28118438]\n",
            " [ 1.          3.26953498  0.17310608]\n",
            " ...\n",
            " [ 1.          2.92500241 -0.04378206]\n",
            " [ 1.          6.04744165  1.90892753]\n",
            " [ 1.          0.22805604  8.00391327]]\n",
            "[[0. 0. 0.]]\n"
          ]
        }
      ]
    },
    {
      "cell_type": "markdown",
      "metadata": {
        "id": "eq8zCn_SUlLH"
      },
      "source": [
        "---"
      ]
    },
    {
      "cell_type": "markdown",
      "metadata": {
        "id": "F6PwPk0-C1c1"
      },
      "source": [
        "#### Activity 3: Regularised Cost Function in Python^^\n",
        "\n",
        "Let's create the function in Python that will return the gradient (or slope of a tangent to the regularised cost function curve) for a set of values of $\\beta_0, \\beta_1$ and $\\beta_2$ and the value of the regularised cost function for these values of betas.\n",
        "\n",
        "1. Let's name it `reg_cost_function()` and it takes the following four inputs:\n",
        "  * Coefficients $\\beta$\n",
        "  * Features array\n",
        "  * Target array\n",
        "  * Regularisation rate $\\lambda$\n",
        "  \n",
        "2. Inside the function, first, determine the total number of records in the feature array and store it in a variable called `m`.\n",
        "\n",
        "3. Calculate the probabilities for hypothesis which is a linear equation $\\beta_0 + \\beta_1 x_{i1} + \\beta_2 x_{i2}$ and store it in a variable called `probs`.\n",
        "\n",
        "4. Calculate the error using the log likelihood function for one record and store it in a variable. Let's name the variable as `error`.\n",
        "   \n",
        "   $$\\text{error} = y \\log p + (1 - y) \\space{} \\log(1 - p)$$\n",
        "\n",
        "5. Calculate the value of the regularised cost for a set of $\\beta_0, \\beta_1, \\beta_2$ values and store it in a variable. Let's name the variable as `cost`.\n",
        "\n",
        "   $$J(\\beta_0, \\beta_1, \\beta_2) = -\\frac{1}{m} \\sum_{i = 1}^m \\{ y_i \\log p_i + (1 - y_i) \\log(1 - p_i) \\} + \\frac{\\lambda}{2m}(\\beta_1 ^2 + \\beta_2 ^2)$$\n",
        "\n",
        "   where\n",
        "\n",
        "   $$p_i = \\frac{1}{1 + e^{-(\\beta_0 + \\beta_1 x_{i1} + \\beta_2 x_{i2})}}$$\n",
        "\n",
        "6. Create an array to store the partial derivatives or gradients. Set their initial values to 0. Let's store this array in the `grad` variable.\n",
        "\n",
        "7. Create a `for` loop to calculate the partial derivatives or gradients of the regularised cost function wrt $\\beta_0, \\beta_1$ and $\\beta_2$ one-by-one and store them in the `grad` variable.\n"
      ]
    },
    {
      "cell_type": "code",
      "metadata": {
        "id": "7ZUsXVrD3N_-"
      },
      "source": [
        "# S3.1: Create the regularised cost function.\n",
        "def reg_cost_func(beta, features, target, reg):\n",
        "  m = features.shape[0]\n",
        "  prob = sigmoid(np.matmul(beta, np.transpose(features)))\n",
        "  error = target.reshape(1, m) * np.log(prob) + (1 - target.reshape(1, m)) * np.log(1 - prob)\n",
        "  const = -1 / m  * np.sum(error) + (reg / (2 * m) * np.sum(beta[:, 1:] ** 2))\n",
        "\n",
        "  z = np.zeros(shape = (1 , features.shape[1]))\n",
        "\n",
        "  for i in range(beta.shape[1]):\n",
        "    z[0][i] = 1 / m * np.matmul(prob - target.reshape(1, m), features[:, i])\n",
        "\n",
        "  return const, z"
      ],
      "execution_count": null,
      "outputs": []
    },
    {
      "cell_type": "code",
      "source": [
        "print(type(y))"
      ],
      "metadata": {
        "colab": {
          "base_uri": "https://localhost:8080/"
        },
        "id": "PxvWPK64Ce7X",
        "outputId": "b5816fca-74bd-4dc9-f488-e5aa9b490f44"
      },
      "execution_count": null,
      "outputs": [
        {
          "output_type": "stream",
          "name": "stdout",
          "text": [
            "<class 'pandas.core.series.Series'>\n"
          ]
        }
      ]
    },
    {
      "cell_type": "markdown",
      "metadata": {
        "id": "O1js0AFJMJfI"
      },
      "source": [
        "In the above code:\n",
        "\n",
        "- The `np.matmul(beta, np.transpose(X))` multiplies the $B = \\begin{bmatrix} \\beta_0 & \\beta_1 & \\beta_2\\end{bmatrix}$ matrix with the $X = \\begin{bmatrix}1 & x_{11} & x_{12} \\\\ 1 & x_{21} & x_{22} \\\\ 1 & x_{31} & x_{32} \\\\ \\vdots & \\vdots & \\vdots\\\\ 1 & x_{10001} & x_{10002} \\end{bmatrix}$ matrix i.e. $BX^T$\n",
        "\n",
        "- The `sigmoid(np.matmul(beta, np.transpose(X)))` part calculates the probabilities i.e. $p = \\frac{1}{1 + e^{-BX^T}}$\n",
        "\n",
        "- The `error` variable stores the $y_i \\log p_i + (1 - y_i) \\log (1 - p_i)$ the log likelihood function.\n",
        "\n",
        "- The `cost` variable stores the regularised cost function $-\\frac{1}{m} \\sum_{i = 1}^m \\{ y_i \\log p_i + (1 - y_i) \\log(1 - p_i) \\} + \\frac{\\lambda}{2m}(\\beta_1 ^2 + \\beta_2 ^2)$ value\n",
        "\n",
        "- The `for` loop\n",
        "  ```\n",
        "  for i in range(beta.shape[1]):\n",
        "    grad[0][i] = (1 / m) * np.matmul(probs - y.reshape(1, m), X[:, i])\n",
        "  ```\n",
        "  calculates $\\frac{\\partial J}{\\partial \\beta_0} = \\frac{1}{m} \\sum_{i = 1} ^{m} (p_i  - y_i), \\frac{\\partial J}{\\partial \\beta_1} = \\frac{1}{m} \\sum_{i = 1} ^{m} (p_i  - y_i)x_1 + \\frac{\\lambda}{m} \\beta_1$ and $\\frac{\\partial J}{\\partial \\beta_2} = \\frac{1}{m} \\sum_{i = 1} ^{m} (p_i  - y_i)x_2 + \\frac{\\lambda}{m} \\beta_2$ values\n",
        "\n",
        "  where\n",
        "\n",
        "  `grad[0][0] = (1 / m) * np.matmul(probs - y.reshape(1, m), X[:, 0])` denotes $\\frac{\\partial J}{\\partial \\beta_0}$\n",
        "\n",
        "  `grad[0][1] = (1 / m) * np.matmul(probs - y.reshape(1, m), X[:, 1])` denotes $\\frac{\\partial J}{\\partial \\beta_1}$\n",
        "\n",
        "  `grad[0][2] = (1 / m) * np.matmul(probs - y.reshape(1, m), X[:, 2])` denotes $\\frac{\\partial J}{\\partial \\beta_2}$\n",
        "\n",
        "\n",
        "Now, let's calculate the gradients and the value of the regularised cost function for the initial values of betas and $\\lambda = 10$."
      ]
    },
    {
      "cell_type": "code",
      "metadata": {
        "id": "ZU3Qh-hN8qLe",
        "colab": {
          "base_uri": "https://localhost:8080/"
        },
        "outputId": "5b8bf3d3-9422-44c4-8a6e-6cb8ff195209"
      },
      "source": [
        "# S3.2: Calculate the gradients and the value of the regularised cost function for the initial values of betas and 𝜆 = 10.\n",
        "cost, grad = reg_cost_func(init_beta, X, Y, 10)\n",
        "print(cost)\n",
        "print(grad)"
      ],
      "execution_count": null,
      "outputs": [
        {
          "output_type": "stream",
          "name": "stdout",
          "text": [
            "0.6931471805599454\n",
            "[[ 0.         -1.80373398  1.74634403]]\n"
          ]
        }
      ]
    },
    {
      "cell_type": "markdown",
      "metadata": {
        "id": "Xr0eU3H3WTGw"
      },
      "source": [
        "----"
      ]
    },
    {
      "cell_type": "markdown",
      "metadata": {
        "id": "VBsCDn0BMxNV"
      },
      "source": [
        "#### Activity 4: Gradient Descent Function in Python^^^\n",
        "\n",
        "Now let's create a Python function to implement the gradient descent algorithm in Python that will calculate the partial derivatives of the regularised cost function in Python for a fixed number of iterations and ultimately will find the points i.e. the values $\\beta_0, \\beta_1$ and $\\beta_2$ for which the slope of the tangent to the regularised cost function is 0.\n",
        "\n",
        "1. Let's name this function as `gradient_descent()` function that will take the following 6 inputs:\n",
        "   - Features array\n",
        "   - Target array\n",
        "   - Coefficients array\n",
        "   - Learning rate $\\alpha$\n",
        "   - Number of iterations\n",
        "   - Regularisation rate\n",
        "\n",
        "   And returns the optimum values of betas and a list of values of the regularised cost function for different values of betas (including the optimum values of betas).\n",
        "\n",
        "2. Create an empty Python list to store different values of the regularised cost function for different values of betas.\n",
        "\n",
        "4. Create a `for` loop that runs for the maximum number of iterations specified and at each iteration calculates the\n",
        "\n",
        "   - value of the regularised cost function for $\\beta_0, \\beta_1$ and $\\beta_2$\n",
        "\n",
        "   - gradients i.e. $\\frac{\\partial J}{\\partial \\beta_0}, \\frac{\\partial J}{\\partial \\beta_1}$ and $\\frac{\\partial J}{\\partial \\beta_2}$\n",
        "\n",
        "   - new values of $\\beta_0, \\beta_1$ and $\\beta_2$"
      ]
    },
    {
      "cell_type": "code",
      "metadata": {
        "id": "OlZlLU7X80U8"
      },
      "source": [
        "# S4.1: Create the gradient descent function.\n",
        "def gradient_descent()"
      ],
      "execution_count": null,
      "outputs": []
    },
    {
      "cell_type": "markdown",
      "metadata": {
        "id": "N0B26OlhTUhM"
      },
      "source": [
        "In the above code:\n",
        "\n",
        "- The `beta[0][0] = beta[0][0] - learn_rate * grad[0][0]` part calculates\n",
        "\n",
        "  $$\\beta_0 = \\beta_0 - \\alpha  \\frac{1}{m} \\sum_{i = 1} ^{m} (p_i  - y_i)$$\n",
        "\n",
        "- The `beta[0][1] = beta[0][1] - learn_rate * (grad[0][1] + reg_rate * beta[0][1] / m)` part calculates\n",
        "\n",
        "  $$\\beta_1 = \\beta_1 - \\alpha  \\left( \\frac{1}{m} \\sum_{i = 1} ^{m} (p_i  - y_i)x_1 + \\frac{\\lambda}{m} \\beta_1 \\right)$$\n",
        "\n",
        "- The `beta[0][2] = beta[0][2] - learn_rate * (grad[0][2] + reg_rate * beta[0][2] / m)` part calculates\n",
        "\n",
        "  $$\\beta_2 = \\beta_2 - \\alpha  \\left( \\frac{1}{m} \\sum_{i = 1} ^{m} (p_i  - y_i)x_2 + \\frac{\\lambda}{m} \\beta_2 \\right)$$\n",
        "\n",
        "Let's run the `gradient_descent()` function for 50,000 iterations. Let the learning rate, $\\alpha$ be 2 and the regularisation rate, $\\lambda$ be 1.  "
      ]
    },
    {
      "cell_type": "code",
      "metadata": {
        "id": "7sCTgQCL88UE"
      },
      "source": [
        "# S4.2 Run the gradient descent function for 50,000 iterations, learning rate = 2 and regularisation rate = 1.\n"
      ],
      "execution_count": null,
      "outputs": []
    },
    {
      "cell_type": "markdown",
      "metadata": {
        "id": "5Wt99TQSV-MP"
      },
      "source": [
        "As you can observe, we have obtained the optimum values of betas for which the value of the regularised cost function is minimum. These values of betas are almost the same as obtained using the `LogisticRegression` class of the `sklearn` module.\n",
        "\n",
        "So you have seen how logistic regression (a classification-based machine learning algorithm) tries to calculate a decision boundary to separate the labels from each other behind the scenes. We considered an ideal example of only two features to visualise a linear decision boundary. In real-world cases, we have more than two features. Hence,  the decision boundary is much more complicated and is difficult to visualise in the same way. In fact, even in the case of two features, a decision boundary can be a circle, a parabola, hyperbola or any other non-linear curve.\n",
        "\n",
        "Let's stop here. In the next class, we will finally build a logistic regression model that can accurately classify whether a patient has heart disease or not."
      ]
    },
    {
      "cell_type": "markdown",
      "metadata": {
        "id": "Gu1PLgsMdgYR"
      },
      "source": [
        "---"
      ]
    }
  ]
}