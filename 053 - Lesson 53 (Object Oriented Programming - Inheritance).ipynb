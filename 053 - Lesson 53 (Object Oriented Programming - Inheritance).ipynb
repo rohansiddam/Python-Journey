{
  "nbformat": 4,
  "nbformat_minor": 0,
  "metadata": {
    "colab": {
      "provenance": [],
      "include_colab_link": true
    },
    "kernelspec": {
      "name": "python3",
      "display_name": "Python 3"
    }
  },
  "cells": [
    {
      "cell_type": "markdown",
      "metadata": {
        "id": "view-in-github",
        "colab_type": "text"
      },
      "source": [
        "<a href=\"https://colab.research.google.com/github/rohansiddam/Python-Journey/blob/main/053%20-%20Lesson%2053%20(Object%20Oriented%20Programming%20-%20Inheritance).ipynb\" target=\"_parent\"><img src=\"https://colab.research.google.com/assets/colab-badge.svg\" alt=\"Open In Colab\"/></a>"
      ]
    },
    {
      "cell_type": "markdown",
      "metadata": {
        "id": "wXOH90ddtwL2"
      },
      "source": [
        "# Lesson 53: OOP - Inheritance\n"
      ]
    },
    {
      "cell_type": "markdown",
      "metadata": {
        "id": "GbhgAn5kfd-K"
      },
      "source": [
        "### Teacher-Student Activities\n",
        "\n",
        "In this class, we will first learn about `__repr__()` function and then we will move to a new concept called inheritance which is one of the pillars of object oriented programming.\n",
        "\n",
        "We are going to learn how a Python class shares its properties with other classes. Inheritance is like the concept of a family where children inherit from their parents.  \n",
        "\n"
      ]
    },
    {
      "cell_type": "markdown",
      "metadata": {
        "id": "PMCGHA8pfcqL"
      },
      "source": [
        "---"
      ]
    },
    {
      "cell_type": "markdown",
      "metadata": {
        "id": "p1d093i0_gsc"
      },
      "source": [
        "#### Recap\n",
        "\n",
        "In the previous lesson, we learned how to initialise instance variables of a class `Family` using its constructor. We had also created four objects of this class i.e. `father`, `mother`, `sister` and `brother` and added them to the empty list `parr_family`."
      ]
    },
    {
      "cell_type": "code",
      "metadata": {
        "id": "yfnIfK9W92k2",
        "colab": {
          "base_uri": "https://localhost:8080/"
        },
        "outputId": "25d61656-9b37-4c29-93d5-952c695e5427"
      },
      "source": [
        "# Create a class 'Family' and initialise its instance variables through a constructor.\n",
        "class Family:\n",
        "\n",
        "  def __init__(self, first_name, last_name, age, relation):\n",
        "    self.first_name = first_name\n",
        "    self.last_name = last_name\n",
        "    self.age = age\n",
        "    self.relation = relation\n",
        "\n",
        "  # Create a function to generate the full name of a family member.\n",
        "  def full_name(self):\n",
        "    return self.first_name.title() + \" \" + self.last_name.title()\n",
        "\n",
        "# Create an empty list called 'parr_family' and add the objects for father, mother, sister and brother in the list.\n",
        "\n",
        "parr_family = []\n",
        "\n",
        "# Create four objects with their corresponding values:\n",
        "\n",
        "father = Family('bob', 'parr', 40, 'father')\n",
        "mother = Family('helen', 'parr', 38, 'mother')\n",
        "sibling_1 = Family('violet', 'parr', 14, 'sister')\n",
        "sibling_2 = Family('dash', 'parr', 10, 'brother')\n",
        "\n",
        "# Append each object to the list\n",
        "parr_family.append(father)\n",
        "parr_family.append(mother)\n",
        "parr_family.append(sibling_1)\n",
        "parr_family.append(sibling_2)\n",
        "\n",
        "# Print the attributes of each member using a 'for' loop.\n",
        "for member in parr_family:\n",
        "  print(\"Full Name:\", member.full_name(),\n",
        "        \"\\nAge:\", member.age,\n",
        "        \"\\nRelation:\", member.relation, \"\\n\")"
      ],
      "execution_count": null,
      "outputs": [
        {
          "output_type": "stream",
          "name": "stdout",
          "text": [
            "Full Name: Bob Parr \n",
            "Age: 40 \n",
            "Relation: father \n",
            "\n",
            "Full Name: Helen Parr \n",
            "Age: 38 \n",
            "Relation: mother \n",
            "\n",
            "Full Name: Violet Parr \n",
            "Age: 14 \n",
            "Relation: sister \n",
            "\n",
            "Full Name: Dash Parr \n",
            "Age: 10 \n",
            "Relation: brother \n",
            "\n"
          ]
        }
      ]
    },
    {
      "cell_type": "markdown",
      "metadata": {
        "id": "hEKhKNwIDJqd"
      },
      "source": [
        "---"
      ]
    },
    {
      "cell_type": "markdown",
      "metadata": {
        "id": "02i6WSkZ6WcG"
      },
      "source": [
        "#### Activity 1: The `__repr__()` Function\n",
        "\n",
        "What would happen if we try to print the value of an object of a class?\n",
        "\n",
        "The variables `father, mother, sibling_1, sibling_2` stores the different objects of the `Family` class. What will happen if we try to print the values of these variables?"
      ]
    },
    {
      "cell_type": "code",
      "metadata": {
        "id": "Ja8S4qEh6ZDs",
        "colab": {
          "base_uri": "https://localhost:8080/"
        },
        "outputId": "5efd38ae-0d48-4308-c903-c1f5cfb845dd"
      },
      "source": [
        "# S1.1: Print each object of the 'Family' class.\n",
        "for i in parr_family:\n",
        "  print()"
      ],
      "execution_count": null,
      "outputs": [
        {
          "output_type": "stream",
          "name": "stdout",
          "text": [
            "\n",
            "\n",
            "\n",
            "\n"
          ]
        }
      ]
    },
    {
      "cell_type": "markdown",
      "metadata": {
        "id": "0T2JPENE6dAO"
      },
      "source": [
        "If we try to print the values of an object of a class, we get some weird output. These outputs represent the location of the object in the memory. Instead of printing the memory location of an object of a class, let's try to print the name of the object for which we need to name an object created. So, how to name an object? Let me show it to you.\n",
        "\n",
        "To name an object, create a function called `__repr__()` function which gives a string representation to an object of a class.\n",
        "\n",
        "Suppose for every `Family` object, we want to give the first name of a member as the object name, then we can use the `__repr__()` function."
      ]
    },
    {
      "cell_type": "code",
      "metadata": {
        "id": "YZOU4HAy6f7z"
      },
      "source": [
        "# S1.2: Demonstrate how to name an object of a class using the __repr__() function.\n",
        "class Family:\n",
        "\n",
        "  def __init__(self, first_name, last_name, age, relation):\n",
        "    self.first_name = first_name\n",
        "    self.last_name = last_name\n",
        "    self.age = age\n",
        "    self.relation = relation\n",
        "\n",
        "  # Create a function to generate the full name of a family member.\n",
        "  def full_name(self):\n",
        "    return self.first_name.title() + \" \" + self.last_name.title()\n",
        "  def __repr__(self):\n",
        "    return self.first_name"
      ],
      "execution_count": null,
      "outputs": []
    },
    {
      "cell_type": "markdown",
      "metadata": {
        "id": "RV-RUPTd6j3D"
      },
      "source": [
        "Now, let's recreate all the 5 objects again."
      ]
    },
    {
      "cell_type": "code",
      "metadata": {
        "id": "3MTxk2Uu6lzD",
        "colab": {
          "base_uri": "https://localhost:8080/"
        },
        "outputId": "3df269e8-684a-4155-9729-c602fd10efa3"
      },
      "source": [
        "# S1.3: Recreate all the 5 objects of the 'Family' class again and print the objects.\n",
        "sibling_3 = Family(\"rohan\", \"siddam\", 17, \"son\")\n",
        "\n",
        "print(sibling_3)"
      ],
      "execution_count": null,
      "outputs": [
        {
          "output_type": "stream",
          "name": "stdout",
          "text": [
            "rohan\n"
          ]
        }
      ]
    },
    {
      "cell_type": "markdown",
      "metadata": {
        "id": "5SpDcV5r6o5E"
      },
      "source": [
        "As you can see, we have labelled each object with the first name of a family member, using the `__repr__()` function.\n",
        "\n",
        "Now, you do the following tasks:\n",
        "\n",
        "1. Add the `__init__()` method in the dog class which takes an input and stores in an instance variable called `dog_breed`.\n",
        "\n",
        "2. Add the `__repr__()` function in the dog class which returns the value of the `dog_breed` variable.\n",
        "\n",
        "3. Recreate the `beagle, husky` and `golden_retriever` variables such that they store the objects of the `Dog` class. Make sure that you enter the value for the `dog_breed` variable inside the constructor.\n",
        "\n",
        "4. Print the values of the `beagle, husky` and `golden_retriever` variables."
      ]
    },
    {
      "cell_type": "code",
      "metadata": {
        "id": "lzMJtdJh6sgf",
        "colab": {
          "base_uri": "https://localhost:8080/"
        },
        "outputId": "bcdd2179-3c86-4832-f273-204061753906"
      },
      "source": [
        "# S1.4: Label every object of the 'Dog' class with its breed name.\n",
        "class Dog:\n",
        "  def __init__(self, dog_breed):\n",
        "    self.dog_breed = dog_breed\n",
        "  def __repr__(self):\n",
        "    return self.dog_breed\n",
        "\n",
        "beagle = Dog(\"beagle\")\n",
        "husky = Dog(\"husky\")\n",
        "golden_retriever = Dog(\"golden_retriever\")\n",
        "\n",
        "print(beagle, husky, golden_retriever)"
      ],
      "execution_count": null,
      "outputs": [
        {
          "output_type": "stream",
          "name": "stdout",
          "text": [
            "beagle husky golden_retriever\n"
          ]
        }
      ]
    },
    {
      "cell_type": "markdown",
      "metadata": {
        "id": "P66CMMX06vId"
      },
      "source": [
        "As you can see, after printing the values of the objects of the `Dog` class, we don't get any weird output because we have provided a string representation to any object of the `Dog` class by using the `__repr__()` function.\n",
        "\n",
        "Let's start with a new concept of OOP called as **Inheritance** wherein we will see how one class can use the properties of other classes."
      ]
    },
    {
      "cell_type": "markdown",
      "metadata": {
        "id": "7ZI9W_s3E55H"
      },
      "source": [
        "---"
      ]
    },
    {
      "cell_type": "markdown",
      "metadata": {
        "id": "nXGkqAvVgY8V"
      },
      "source": [
        "#### Activity 2: The `Person` Class\n",
        "\n",
        "Let's try to create a very simple application using the OOP approach to manage the teacher and student database consisting of all the teachers and students of your school.\n",
        "\n",
        "Let's first create a class called `Person` containing name, age and gender attributes. These attributes will be common to both the teachers and the students."
      ]
    },
    {
      "cell_type": "code",
      "metadata": {
        "id": "E_IaPN3qWNPR"
      },
      "source": [
        "# S2.1 Create the 'Person' class having the 'name', 'age' and 'gender' attributes.\n",
        "class Person:\n",
        "  def __init__(self, name, age, gender):\n",
        "    self.name = name\n",
        "    self.age = age\n",
        "    self.gender = gender"
      ],
      "execution_count": null,
      "outputs": []
    },
    {
      "cell_type": "markdown",
      "metadata": {
        "id": "26PkeGUJnlwz"
      },
      "source": [
        "After the successful creation of the `Person` class, let's create its object with the name `person1` and instantiate its attributes using its constructor. Inside the constructor, we need to provide the following:\n",
        "\n",
        "* Name of a person\n",
        "* Age of that person\n",
        "* Gender of that person"
      ]
    },
    {
      "cell_type": "code",
      "metadata": {
        "id": "r2GFd17riOHg"
      },
      "source": [
        "# S2.2: Create an object of the 'Person' class and retrieve all the attributes.\n",
        "kid = Person(\"Tom\", 15, \"Male\")"
      ],
      "execution_count": null,
      "outputs": []
    },
    {
      "cell_type": "markdown",
      "metadata": {
        "id": "GqINQvK5rMHe"
      },
      "source": [
        "As we have learned in the earlier class, the instance variables of an instance (or object) of a class (in this case `name`, `age`, and `gender`) can be accessed through the dot operator.\n",
        "\n",
        "Now, we will create two classes called `Teacher` and `Student`. They both will have the following three attributes in common:\n",
        "\n",
        "* Name of a person\n",
        "* Age of that person\n",
        "* Gender of that person\n",
        "\n",
        "Hence, in order to avoid creating these three attributes twice; one time for the `Teacher` class and another time for the `Student` class, we have created the `Person` class. Later if we want to create another class which also shares the above three attributes, then it can inherit them through the `Person` class. This is called **inheritance**.\n",
        "\n",
        "Let's study the concept in detail.\n"
      ]
    },
    {
      "cell_type": "markdown",
      "metadata": {
        "id": "Wb8ElmJRO9Gl"
      },
      "source": [
        "---"
      ]
    },
    {
      "cell_type": "markdown",
      "metadata": {
        "id": "j4VCjENzSBhU"
      },
      "source": [
        "#### What is Inheritance?\n",
        "\n",
        "In the technical terms, the concept of inheritance means sharing the common properties and methods between two or more classes.\n",
        "\n",
        "The class from which properties are inherited is called the **Parent Class** or **Base Class** and the class which is inheriting the properties is called the **Child Class** or **Derived Class**.\n",
        "\n",
        "In plain English, you can say that \"*The child class inherits the properties of the parent class or the derived class is formed using the base class properties*\".\n",
        "\n",
        "#### Types of Inheritance\n",
        "\n",
        "The type of inheritance is based on the number of children classes of a base class. There are five types of inheritance but we are going to study only the following two types as they are used most commonly in the majority of the applications:\n",
        "\n",
        "*   Single-level inheritance\n",
        "*   Multi-level inheritance\n",
        "\n",
        "<img src = 'https://drive.google.com/uc?export=view&id=11ea8qGgcWYXyFpzITgfV5331LLTtgBc2' width = 500>\n"
      ]
    },
    {
      "cell_type": "markdown",
      "metadata": {
        "id": "iy-DfLB2jjs8"
      },
      "source": [
        "---"
      ]
    },
    {
      "cell_type": "markdown",
      "metadata": {
        "id": "sh4ypW91eOoN"
      },
      "source": [
        "#### Activity 3: Single-level Inheritance^\n",
        "\n",
        "In single-level level inheritance, a child class inherits only from one parent class. The child class can have its own variables and functions in addition to the existing properties and methods of the parent class.\n",
        "\n",
        "Let's create another class called `Teacher` which inherits all the attributes from the `Person` class. The `Teacher` class should have the following attributes, additional attributes and methods.\n",
        "\n",
        "**Attributes**\n",
        "\n",
        "- Name of a teacher\n",
        "\n",
        "- Age of the teacher\n",
        "\n",
        "- Gender of the teacher\n",
        "\n",
        "\n",
        "**Additional Attributes:**\n",
        "\n",
        "- List of subjects taught by a teacher\n",
        "\n",
        "- List of grades in the school for which the teacher takes lectures for the above subjects\n",
        "\n",
        "**Methods:**\n",
        "\n",
        "- A function to add a new subject\n",
        "\n",
        "- A function to remove an existing subject\n",
        "\n",
        "- A function to add a new grade\n",
        "\n",
        "- A function to remove an existing grade\n",
        "\n",
        "To create a child class, follow the steps given below:\n",
        "\n",
        "1. Write the parent class name enclosed within the round brackets, i.e., `()` after the name of the child class as shown in the syntax below.\n",
        "\n",
        "   **Syntax:**  `class ChildClass(ParentClass)`\n",
        "\n",
        "2. Inherit the properties of the parent class by creating a constructor for the child class followed by calling the constructor of the parent class inside the `__init__()` function.\n",
        "\n",
        "   There are two ways to call the parent class constructor to inherit the properties/methods of the parent class:\n",
        "\n",
        "   1. > `ParentClass.__init__(self)`: In this approach, the `self` keyword is necessarily required.\n",
        "\n",
        "   2. > `super().__init__()`: In this approach, the `self` keyword is not required.\n",
        "\n",
        "3. Create methods for the child class\n",
        "\n",
        "**What is `super()`?**\n",
        "\n",
        "`super()` creates a temporary object reference for the parent class so that the variables of the parent class are initialised without using its name explicitly.\n",
        "\n",
        "Let's create the constructor for `Teacher` using the class name `super()` keyword.\n",
        "\n",
        " **Note** In the child class constructor, we have to initialise only its own variables but when the object is created we will ask for the parent class properties as well. Hence the constructor arguments will have variables of the parent class as well as child class.\n",
        "\n"
      ]
    },
    {
      "cell_type": "code",
      "metadata": {
        "id": "KgVoJYElgZcv"
      },
      "source": [
        "# S3.1: Create the 'Teacher' class as specified above.\n",
        "class Teacher(Person):\n",
        "  def __init__(self, name, age, gender, grades = None, subjects = None):\n",
        "    super().__init__(name, age, gender)\n",
        "    self.grades = []\n",
        "    self.subjects = []\n",
        "  def add_subjects(self, subject):\n",
        "    if subject not in self.subjects:\n",
        "      self.subjects.append(subject)\n",
        "    else:\n",
        "      print(\"This subject is already in the list.\")\n",
        "  def remove_subjects(self, subject):\n",
        "    if subject in self.subjects:\n",
        "      self.subjects.remove(subject)\n",
        "    else:\n",
        "      print(\"This subject is not in the list.\")\n",
        "  def add_grades(self, grade):\n",
        "    if grade not in self.grades:\n",
        "      self.grades.append(grade)\n",
        "    else:\n",
        "      print(\"This grade is already in the list.\")\n",
        "  def remove_grades(self, grade):\n",
        "    if grade in self.grades:\n",
        "      self.grades.remove(grade)\n",
        "    else:\n",
        "      print(\"This grade is not in the list.\")\n",
        "\n",
        "\n",
        ""
      ],
      "execution_count": null,
      "outputs": []
    },
    {
      "cell_type": "code",
      "source": [
        "teacher_1 = Teacher(\"Brown\", 30, \"Female\")\n",
        "teacher_1.name"
      ],
      "metadata": {
        "colab": {
          "base_uri": "https://localhost:8080/",
          "height": 36
        },
        "id": "NZ51Dh_nJZRs",
        "outputId": "ed538d3f-c9d0-497d-8c83-dbabdf6e9eec"
      },
      "execution_count": null,
      "outputs": [
        {
          "output_type": "execute_result",
          "data": {
            "text/plain": [
              "'Brown'"
            ],
            "application/vnd.google.colaboratory.intrinsic+json": {
              "type": "string"
            }
          },
          "metadata": {},
          "execution_count": 58
        }
      ]
    },
    {
      "cell_type": "markdown",
      "metadata": {
        "id": "ysfYzscHtTvg"
      },
      "source": [
        "After creating the `Teacher` class (a child class for the `Person` class), let's create its object to see how inheritance works."
      ]
    },
    {
      "cell_type": "code",
      "metadata": {
        "id": "0nyfFpb_Z_WX"
      },
      "source": [
        "# S3.2: Create an object of the 'Teacher' class and retrieve all the 'Person' class attributes with just name, age, gender.\n"
      ],
      "execution_count": null,
      "outputs": []
    },
    {
      "cell_type": "markdown",
      "metadata": {
        "id": "N25I5QJ9yWnU"
      },
      "source": [
        "As you can see, an object of the `Teacher` class is created having the same attributes as the `Person` class, i.e., `name`, `age` and `gender` which are defined in the `Person` class. You can access them from the `Teacher` class because inside the constructor of the `Teacher` class, you are calling the constructor of the `Person` class\n",
        "\n",
        "```\n",
        "def  __init__ (self, name, age, gender, subjects = None, grades = None):\n",
        "```\n",
        "\n",
        "as well as calling the constructor of the `Person` class\n",
        "\n",
        "```\n",
        "def  __init__ (self, name, age, gender, subjects = None, grades = None):\n",
        "  super().__init__(name, age, gender)\n",
        "```\n",
        "\n",
        "This makes the first three parameters compulsory, while `subjects` and `grades` are initialised by default with `None` (an empty value).\n",
        "\n",
        "And we can access and initialise the variables of the parent class and call them using the child class object because we have inherited the parent class attributes in the child class.\n",
        "\n",
        "Now let's try to access the child class attributes, i.e., `subjects` and `grades` and update them as well.\n"
      ]
    },
    {
      "cell_type": "code",
      "metadata": {
        "id": "eAKxdlaEaHIo",
        "colab": {
          "base_uri": "https://localhost:8080/"
        },
        "outputId": "3dcc4bbc-c4b4-480f-8640-a9d8ad0d4122"
      },
      "source": [
        "# S3.3: Get all the subjects taught by the teacher object created above.\n",
        "teacher_1.subjects"
      ],
      "execution_count": null,
      "outputs": [
        {
          "output_type": "execute_result",
          "data": {
            "text/plain": [
              "[]"
            ]
          },
          "metadata": {},
          "execution_count": 60
        }
      ]
    },
    {
      "cell_type": "markdown",
      "metadata": {
        "id": "eaQhkqVV01eL"
      },
      "source": [
        "It is an empty list. Let's add a new subject, say maths, by calling the `add_subject()` function with `'maths'` as its input."
      ]
    },
    {
      "cell_type": "code",
      "metadata": {
        "id": "1pw-5SNmaK7u"
      },
      "source": [
        "# S3.4: Add the 'maths' subject to the list of subjects taught by the teacher object created above.\n",
        "teacher_1.add_subjects('math')"
      ],
      "execution_count": null,
      "outputs": []
    },
    {
      "cell_type": "markdown",
      "metadata": {
        "id": "jmIHJw601Iq8"
      },
      "source": [
        "From this point, the number of items in the `subjects` list will be the same as the number of times the `add_function()` is called.\n",
        "\n",
        "Let's get the grades taught by the teacher."
      ]
    },
    {
      "cell_type": "code",
      "metadata": {
        "id": "b3R-d-aDaQ6I",
        "colab": {
          "base_uri": "https://localhost:8080/"
        },
        "outputId": "19281b4a-f680-4119-dd41-05134db8f22b"
      },
      "source": [
        "# S3.5: Get all the grades taught by the teacher object created above.\n",
        "teacher_1.grades"
      ],
      "execution_count": null,
      "outputs": [
        {
          "output_type": "execute_result",
          "data": {
            "text/plain": [
              "[]"
            ]
          },
          "metadata": {},
          "execution_count": 68
        }
      ]
    },
    {
      "cell_type": "markdown",
      "metadata": {
        "id": "LWm2yt9o2alg"
      },
      "source": [
        "It is an empty list. Let's add a new grade, say tenth grade, by calling the `add_grade()` function with `'10'` as its input.\n",
        "\n",
        "**Note:** Add a grade in the string format so that it is not a measurable entity."
      ]
    },
    {
      "cell_type": "code",
      "metadata": {
        "id": "OxWnfirVbPU8"
      },
      "source": [
        "# S3.6: Add grade '10' to the list of grades taught by the teacher object created above.\n",
        "teacher_1.add_grades(10)"
      ],
      "execution_count": null,
      "outputs": []
    },
    {
      "cell_type": "markdown",
      "metadata": {
        "id": "lLkMdJ1W2rsZ"
      },
      "source": [
        "Similar to the `subjects` list, the`grades` list is also updated.\n",
        "\n",
        "You can try to add the same items to `subject` and `grade` lists respectively to check whether the lists can contain repeated items."
      ]
    },
    {
      "cell_type": "code",
      "metadata": {
        "id": "zJEeTC2QaBX9",
        "colab": {
          "base_uri": "https://localhost:8080/"
        },
        "outputId": "fda96771-db96-4fb2-bec9-d3081ca8ee50"
      },
      "source": [
        "# S3.7: Add grade '10' again to the 'grades' list of the above teacher object.\n",
        "teacher_1.add_grades(10)"
      ],
      "execution_count": null,
      "outputs": [
        {
          "output_type": "stream",
          "name": "stdout",
          "text": [
            "This grade is already in the list.\n"
          ]
        }
      ]
    },
    {
      "cell_type": "code",
      "source": [
        "teacher_1.grades"
      ],
      "metadata": {
        "colab": {
          "base_uri": "https://localhost:8080/"
        },
        "id": "RMgwkzNmLyCk",
        "outputId": "7bac0fbb-a56f-4b26-ba87-4915c44f8701"
      },
      "execution_count": null,
      "outputs": [
        {
          "output_type": "execute_result",
          "data": {
            "text/plain": [
              "[10]"
            ]
          },
          "metadata": {},
          "execution_count": 72
        }
      ]
    },
    {
      "cell_type": "markdown",
      "metadata": {
        "id": "aLhSisM0aLJp"
      },
      "source": [
        "This time you got a message saying that the grade already exists and after calling the `grades` attribute again, we got only one item in the `grades` list."
      ]
    },
    {
      "cell_type": "markdown",
      "metadata": {
        "id": "RpMV1BPteTPw"
      },
      "source": [
        "---"
      ]
    },
    {
      "cell_type": "markdown",
      "metadata": {
        "id": "UeCyw99VeT-d"
      },
      "source": [
        "#### Activity 4: The `Student` Class^^\n",
        "\n",
        "Let's create another class called `Student` which also inherits from the `Person` class. `Student` class should have the following additional attributes and methods.\n",
        "\n",
        "\n",
        "**Additional Attributes:**\n",
        "\n",
        "1. Grade of the student at present\n",
        "\n",
        "2. Name of the teacher currently teaching the student\n",
        "\n",
        "3. School fees paid currently by the student\n",
        "\n",
        "\n",
        "**Methods:**\n",
        "\n",
        "1. A function to increase the school fees by $5\\%$ or any other value of your choice.\n",
        "\n",
        "**Note:** For the sake of practice, this time inherit the properties of the `Person` class without using the `super()` method.\n"
      ]
    },
    {
      "cell_type": "code",
      "metadata": {
        "id": "nwrZ9talbWZp"
      },
      "source": [
        "# S4.1: Create the 'Student' class.\n",
        "class Student(Person):\n",
        "  def __init__(self, name, age, gender, grade, class_teacher, school_fee):\n",
        "    Person.__init__(self, name, age, gender)\n",
        "    self.grade = grade\n",
        "    self.class_teacher = class_teacher\n",
        "    self.school_fee = school_fee\n",
        "  def increase_school_fee(self):\n",
        "    self.school_fee = self.school_fee * 1.05\n",
        "    return self.school_fee"
      ],
      "execution_count": null,
      "outputs": []
    },
    {
      "cell_type": "markdown",
      "metadata": {
        "id": "movUaPTJ45ZT"
      },
      "source": [
        "Now let's create an object of the `Student` class with not just parent class attributes but the `Student` class attributes as well."
      ]
    },
    {
      "cell_type": "code",
      "metadata": {
        "id": "ywuqMcuwkqZ7"
      },
      "source": [
        "# S4.2: Create an object of the 'Student' class and retrieve all the 'Student' class attributes.\n",
        "student_1 = Student(\"Timmy\", 10, \"Male\", 11, \"Smith\", 250)"
      ],
      "execution_count": null,
      "outputs": []
    },
    {
      "cell_type": "markdown",
      "metadata": {
        "id": "DKbK_pk85uat"
      },
      "source": [
        "Try and update the current school fee using the function `increase_school_fee()`."
      ]
    },
    {
      "cell_type": "code",
      "metadata": {
        "id": "5N3nsPhLc-3L",
        "colab": {
          "base_uri": "https://localhost:8080/"
        },
        "outputId": "63eede99-cbc4-4fab-82ae-d338e0279c1f"
      },
      "source": [
        "# S4.3: Increase the school fee and then get the increased school fee paid by the student object created above.\n",
        "student_1.increase_school_fee()"
      ],
      "execution_count": null,
      "outputs": [
        {
          "output_type": "execute_result",
          "data": {
            "text/plain": [
              "303.87656250000003"
            ]
          },
          "metadata": {},
          "execution_count": 80
        }
      ]
    },
    {
      "cell_type": "markdown",
      "metadata": {
        "id": "4Z3YCQKC56J3"
      },
      "source": [
        "As you can see, the school fees paid by the current student have increased as expected.\n",
        "\n",
        "We will stop here. In the next lesson, we will learn how to create a new class that inherits from the child class using the concept of **Multi-level Inheritance**."
      ]
    },
    {
      "cell_type": "markdown",
      "metadata": {
        "id": "SII_cS_sfbZX"
      },
      "source": [
        "---"
      ]
    }
  ]
}