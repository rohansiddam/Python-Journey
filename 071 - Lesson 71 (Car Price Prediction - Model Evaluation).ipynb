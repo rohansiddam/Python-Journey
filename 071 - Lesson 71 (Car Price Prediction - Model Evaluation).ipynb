{
  "nbformat": 4,
  "nbformat_minor": 0,
  "metadata": {
    "colab": {
      "provenance": [],
      "include_colab_link": true
    },
    "kernelspec": {
      "name": "python3",
      "display_name": "Python 3"
    }
  },
  "cells": [
    {
      "cell_type": "markdown",
      "metadata": {
        "id": "view-in-github",
        "colab_type": "text"
      },
      "source": [
        "<a href=\"https://colab.research.google.com/github/rohansiddam/Python-Journey/blob/main/071%20-%20Lesson%2071%20(Car%20Price%20Prediction%20-%20Model%20Evaluation).ipynb\" target=\"_parent\"><img src=\"https://colab.research.google.com/assets/colab-badge.svg\" alt=\"Open In Colab\"/></a>"
      ]
    },
    {
      "cell_type": "markdown",
      "metadata": {
        "id": "cN_oEsXfM_LV"
      },
      "source": [
        "# Lesson 71: Car Price Prediction - Model Evaluation"
      ]
    },
    {
      "cell_type": "markdown",
      "metadata": {
        "id": "gFjOAv8nAhzQ"
      },
      "source": [
        "### Teacher-Student Activities\n",
        "\n",
        "After rebuilding the linear regression model, in this class, we will find out the final features affecting the prices of cars and evaluate the model on all the important metrics such as coefficient of determination, MAE, MSE, RMSE and homoscedasticity. You will also get to learn basics of logarithm and another evaluation metric called MSLE.\n",
        "\n",
        "Let's go through the activities covered in the previous class and begin this class from **Activity 1: Final Features** section."
      ]
    },
    {
      "cell_type": "markdown",
      "metadata": {
        "id": "7rqO31eQB5O-"
      },
      "source": [
        "---"
      ]
    },
    {
      "cell_type": "markdown",
      "metadata": {
        "id": "f-uhY3ryaj4N"
      },
      "source": [
        "### Problem Statement\n",
        "\n",
        "Build a linear regression model to predict prices of cars based on its technical specifications such as car manufacturer, its engine capacity, fuel efficiency, body-type etc.\n",
        "\n",
        "**Dataset Description:**\n",
        "\n",
        "The dataset contains 205 rows and 26 columns. Each column represents an attribute of a car as described in the table below.\n",
        "\n",
        "|Sr No.|Attribute|Attribute Information|\n",
        "|-|-|-|\n",
        "|1|Car_ID|Unique id of each car (Integer)|\n",
        "|2|Symboling|Assigned insurance risk rating; a value of +3 indicates that the car is risky; -3 suggests that it is probably a safe car (Categorical)|\n",
        "|3|carCompany|Name of car company (Categorical)|\n",
        "|4|fueltype| fuel-type i.e. petrol or diesel (Categorical)|\n",
        "|5|aspiration|Aspiration used in a car (Categorical)|\n",
        "|6|doornumber|Number of doors in a car (Categorical)|\n",
        "|7|carbody|Body-type of a car (Categorical)|\n",
        "|8|drivewheel|Type of drive wheel (Categorical)|\n",
        "|9|enginelocation|Location of car engine (Categorical)|\n",
        "|10|wheelbase|Wheelbase of car (Numeric)|\n",
        "|11|carlength|Length of car (Numeric)|\n",
        "|12|carwidth|Width of car (Numeric)|\n",
        "|13|carheight|Height of car (Numeric)|\n",
        "|14|curbweight|The weight of a car without occupants or baggage (Numeric)|\n",
        "|15|enginetype|Type of engine (Categorical)|\n",
        "|16|cylindernumber|Number of cylinders placed in the car engine (Categorical)||17|enginesize|Capacity of an engine (Numeric)|\n",
        "|18|fuelsystem|Fuel system of a car (Categorical)|\n",
        "|19|boreratio|Bore ratio of car (Numeric)|\n",
        "|20|stroke|Stroke or volume inside the engine (Numeric)|\n",
        "|21|compressionratio|Compression ratio of an engine (Numeric)|\n",
        "|22|horsepower|Power output of an engine (Numeric)|\n",
        "|23|peakrpm|Peak revolutions per minute (Numeric)|\n",
        "|24|citympg|Mileage in city (Numeric)|\n",
        "|25|highwaympg|Mileage on highway (Numeric)|\n",
        "|26|price(Dependent variable)|Price of a car (Numeric)|\n",
        "\n",
        "This data set consists of three types of entities:\n",
        "\n",
        "- the specification of an auto in terms of various characteristics,\n",
        "\n",
        "- its assigned insurance risk rating,\n",
        "\n",
        "- its normalised losses in use as compared to other cars.\n",
        "\n",
        "The second rating corresponds to the degree to which the auto is more risky than its price indicates. Cars are initially assigned a risk factor symbol associated with its price. Then, if it is more risky (or less), this symbol is adjusted by moving it up (or down) the scale. Actuarians call this process **symboling**. A value of $+3$ indicates that the auto is risky, $-3$ that it is probably pretty safe.\n",
        "\n",
        "The third factor is the relative average loss payment per insured vehicle year. This value is normalized for all autos within a particular size classification (two-door small, station wagons, sports/speciality etc.), and represents the average loss per car per year.\n",
        "\n",
        "**Note:** Several of the attributes in the database could be used as a \"class\" attribute.\n",
        "\n",
        "**Dataset source:** https://archive.ics.uci.edu/ml/datasets/Automobile\n",
        "\n",
        "\n",
        "The above dataset consists of data taken from 1985 Ward's Automotive Yearbook. Here's the list of original sources of the data:\n",
        "\n",
        "1. 1985 Model Import Car and Truck Specifications, 1985 Ward's Automotive Yearbook.\n",
        "\n",
        "2. Personal Auto Manuals, Insurance Services Office, 160 Water Street, New York, NY 10038\n",
        "\n",
        "3. Insurance Collision Report, Insurance Institute for Highway Safety, Watergate 600, Washington, DC 20037\n",
        "\n",
        "\n",
        "\n",
        "\n"
      ]
    },
    {
      "cell_type": "markdown",
      "metadata": {
        "id": "SZEA9P6hDG28"
      },
      "source": [
        "---"
      ]
    },
    {
      "cell_type": "markdown",
      "metadata": {
        "id": "keVeYBHNDHh8"
      },
      "source": [
        "#### Importing Modules & Reading Data\n",
        "\n",
        "https://student-datasets-bucket.s3.ap-south-1.amazonaws.com/whitehat-ds-datasets/car-prices.csv"
      ]
    },
    {
      "cell_type": "code",
      "metadata": {
        "id": "5f2emlnJM56A",
        "colab": {
          "base_uri": "https://localhost:8080/"
        },
        "outputId": "e2ff58a8-2d16-416e-a569-c8c1f409ad74"
      },
      "source": [
        "# Import the modules, read the dataset and create a Pandas DataFrame.\n",
        "import numpy as np\n",
        "import pandas as pd\n",
        "import matplotlib.pyplot as plt\n",
        "import seaborn as sns\n",
        "\n",
        "# Read the dataset\n",
        "cars_df = pd.read_csv(\"https://s3-student-datasets-bucket.whjr.online/whitehat-ds-datasets/car-prices.csv\")\n",
        "\n",
        "\n",
        "# Extract the name of the manufactures from the car names and display the first 25 cars to verify whether names are extracted successfully.\n",
        "car_companies = pd.Series([car.split(\" \")[0] for car in cars_df['CarName']], index = cars_df.index)\n",
        "\n",
        "# Create a new column named 'car_company'. It should store the company names of a the cars.\n",
        "cars_df['car_company'] = car_companies\n",
        "\n",
        "# Replace the misspelled 'car_company' names with their correct names.\n",
        "# volkswagen\n",
        "cars_df.loc[(cars_df['car_company'] == \"vw\") | (cars_df['car_company'] == \"vokswagen\"), 'car_company'] = 'volkswagen'\n",
        "\n",
        "# porsche\n",
        "cars_df.loc[cars_df['car_company'] == \"porcshce\", 'car_company'] = 'porsche'\n",
        "\n",
        "# toyota\n",
        "cars_df.loc[cars_df['car_company'] == \"toyouta\", 'car_company'] = 'toyota'\n",
        "\n",
        "# nissan\n",
        "cars_df.loc[cars_df['car_company'] == \"Nissan\", 'car_company'] = 'nissan'\n",
        "\n",
        "# mazda\n",
        "cars_df.loc[cars_df['car_company'] == \"maxda\", 'car_company'] = 'mazda'\n",
        "\n",
        "# Drop 'CarName' column from the 'cars_df' DataFrame.\n",
        "cars_df.drop(columns= ['CarName'], axis = 1, inplace = True)\n",
        "\n",
        "# Extract all the numeric (float and int type) columns from the dataset.\n",
        "cars_numeric_df = cars_df.select_dtypes(include = ['int64', 'float64'])\n",
        "\n",
        "# Drop the 'car_ID' column from the 'cars_numeric_df' DataFrame.\n",
        "cars_numeric_df.drop(columns = ['car_ID'], axis = 1, inplace = True)\n",
        "\n",
        "# Map the values of the 'doornumber' and 'cylindernumber' columns to their corresponding numeric values.\n",
        "words_dict = {\"two\": 2, \"three\": 3, \"four\": 4, \"five\": 5, \"six\": 6, \"eight\": 8, \"twelve\": 12}\n",
        "def num_map(series):\n",
        "    return series.map(words_dict)\n",
        "\n",
        "# Applying the function to the two columns\n",
        "cars_df[['cylindernumber', 'doornumber']] = cars_df[['cylindernumber', 'doornumber']].apply(num_map, axis = 1)\n",
        "\n",
        "# Create dummy variables for the 'carbody' columns.\n",
        "car_body_dummies = pd.get_dummies(cars_df['carbody'], dtype = int)\n",
        "\n",
        "# Create dummy variables for the 'carbody' columns with 1 column less.\n",
        "car_body_new_dummies = pd.get_dummies(cars_df['carbody'], drop_first = True, dtype = int)\n",
        "\n",
        "# Create a DataFrame containing all the non-numeric type features.\n",
        "cars_categorical_df = cars_df.select_dtypes(include = ['object'])\n",
        "\n",
        "#Get dummy variables for all the categorical type columns using the dummy coding process.\n",
        "cars_dummies_df = pd.get_dummies(cars_categorical_df, drop_first = True, dtype = int)\n",
        "\n",
        "#  Drop the categorical type columns from the 'cars_df' DataFrame.\n",
        "cars_df.drop(list(cars_categorical_df.columns), axis = 1, inplace = True)\n",
        "\n",
        "# Concatenate the 'cars_df' and 'cars_dummies_df' DataFrames.\n",
        "cars_df = pd.concat([cars_df, cars_dummies_df], axis = 1)\n",
        "\n",
        "#  Drop the 'car_ID' column\n",
        "cars_df.drop('car_ID', axis = 1, inplace = True)\n",
        "\n",
        "# Split the 'cars_df' Dataframe into the train and test sets.\n",
        "from sklearn.model_selection import train_test_split\n",
        "train_df, test_df = train_test_split(cars_df, test_size = 0.3, random_state = 42)\n",
        "\n",
        "# Create separate data-frames for the feature and target variables for both the train and test sets.\n",
        "features = list(cars_df.columns)\n",
        "features.remove('price')\n",
        "\n",
        "X_train = train_df[features]\n",
        "y_train = train_df['price']\n",
        "X_test = test_df[features]\n",
        "y_test = test_df['price']\n",
        "\n",
        "# Normalise only the numeric columns.\n",
        "def standard_norm(series):\n",
        "  series_mean = series.mean()\n",
        "  series_std = series.std()\n",
        "  new_series = (series - series_mean) / series_std\n",
        "  return new_series\n",
        "\n",
        "X_train[X_train.columns[:16]] = X_train[X_train.columns[:16]].apply(standard_norm, axis = 0)\n",
        "X_test[X_test.columns[:16]] = X_test[X_test.columns[:16]].apply(standard_norm, axis = 0)\n",
        "\n",
        "# Highly correlated features\n",
        "major_features = {}\n",
        "for f in features:\n",
        "  corr_coef = np.corrcoef(cars_df['price'], cars_df[f])[0, 1]\n",
        "  if (corr_coef >= 0.5) or (corr_coef <= -0.5):\n",
        "    major_features[f] = corr_coef\n",
        "\n",
        "print(\"Number of features moderately to highly correlated with price =\", len(major_features), \"\\n\")\n",
        "major_features"
      ],
      "execution_count": null,
      "outputs": [
        {
          "output_type": "stream",
          "name": "stdout",
          "text": [
            "Number of features moderately to highly correlated with price = 15 \n",
            "\n"
          ]
        },
        {
          "output_type": "stream",
          "name": "stderr",
          "text": [
            "/usr/local/lib/python3.8/dist-packages/pandas/core/frame.py:4906: SettingWithCopyWarning: \n",
            "A value is trying to be set on a copy of a slice from a DataFrame\n",
            "\n",
            "See the caveats in the documentation: https://pandas.pydata.org/pandas-docs/stable/user_guide/indexing.html#returning-a-view-versus-a-copy\n",
            "  return super().drop(\n",
            "/usr/local/lib/python3.8/dist-packages/pandas/core/frame.py:3641: SettingWithCopyWarning: \n",
            "A value is trying to be set on a copy of a slice from a DataFrame.\n",
            "Try using .loc[row_indexer,col_indexer] = value instead\n",
            "\n",
            "See the caveats in the documentation: https://pandas.pydata.org/pandas-docs/stable/user_guide/indexing.html#returning-a-view-versus-a-copy\n",
            "  self[k1] = value[k2]\n"
          ]
        },
        {
          "output_type": "execute_result",
          "data": {
            "text/plain": [
              "{'wheelbase': 0.5778155982921496,\n",
              " 'carlength': 0.6829200156779628,\n",
              " 'carwidth': 0.7593252997415119,\n",
              " 'curbweight': 0.8353048793372965,\n",
              " 'cylindernumber': 0.7183049020002816,\n",
              " 'enginesize': 0.8741448025245112,\n",
              " 'boreratio': 0.5531732367984434,\n",
              " 'horsepower': 0.8081388225362212,\n",
              " 'citympg': -0.68575133602704,\n",
              " 'highwaympg': -0.6975990916465566,\n",
              " 'drivewheel_fwd': -0.6019502965330914,\n",
              " 'drivewheel_rwd': 0.6389565386618764,\n",
              " 'fuelsystem_2bbl': -0.5013743424965753,\n",
              " 'fuelsystem_mpfi': 0.5170749892680737,\n",
              " 'car_company_buick': 0.515094050057132}"
            ]
          },
          "metadata": {},
          "execution_count": 17
        }
      ]
    },
    {
      "cell_type": "markdown",
      "metadata": {
        "id": "OI8qitijEfI3"
      },
      "source": [
        "---"
      ]
    },
    {
      "cell_type": "markdown",
      "metadata": {
        "id": "W3n9WzqImdBs"
      },
      "source": [
        "#### Recursive Feature Elimination (RFE)\n",
        "\n",
        "Select the best 10 features out of the highly correlated features that you just stored in the dictionary above.\n",
        "\n",
        "To use RFE, you need to\n",
        "\n",
        "1. Import the `RFE` class from the `sklearn.feature_selection` module.\n",
        "\n",
        "2. Create an object of a `LinearRegression` class. Let's name it `skl_lin_reg`.\n",
        "\n",
        "3. Create an object of the `RFE` class. Let's name it `rfe1`. The constructor of the `RFE` object takes the object of `LinearRegression` class (i.e. `skl_lin_reg`) and the number of features to be selected using RFE as inputs.\n",
        "\n",
        "4. Call the `fit()` function on the `RFE` object with the train set (separate sets for independent variables and dependent variable) as input to the function.\n",
        "\n",
        "Use the `support_` attribute of the `RFE` class to get an array containing boolean values wherein `True` denotes the feature selected by RFE. You can also use the `ranking_` attribute of the `RFE` class to to get the rankings of the features. The features selected by `RFE` are ranked $1$."
      ]
    },
    {
      "cell_type": "code",
      "metadata": {
        "id": "IyKg96LKAvxr",
        "colab": {
          "base_uri": "https://localhost:8080/"
        },
        "outputId": "10db357b-14a3-42d8-85dc-4e4f9f08a2f5"
      },
      "source": [
        "# Use RFE to eliminate few features from the dataset.\n",
        "# Import RFE.\n",
        "from sklearn.feature_selection import RFE\n",
        "from sklearn.linear_model import LinearRegression\n",
        "\n",
        "# RFE with 10 features.\n",
        "skl_lin_reg = LinearRegression()\n",
        "rfe1 = RFE(skl_lin_reg, n_features_to_select = 10)\n",
        "\n",
        "# Fit with 10 features.\n",
        "rfe1.fit(X_train[major_features.keys()], y_train)\n",
        "\n",
        "# Print the attributes.\n",
        "print(major_features.keys(), \"\\n\") # List of features out of which 10 best featuers are to be selected by RFE.\n",
        "print(rfe1.support_, \"\\n\") # Array containing the boolean values\n",
        "print(rfe1.ranking_, \"\\n\") # Ranking of the features selected by RFE"
      ],
      "execution_count": null,
      "outputs": [
        {
          "output_type": "stream",
          "name": "stdout",
          "text": [
            "dict_keys(['wheelbase', 'carlength', 'carwidth', 'curbweight', 'cylindernumber', 'enginesize', 'boreratio', 'horsepower', 'citympg', 'highwaympg', 'drivewheel_fwd', 'drivewheel_rwd', 'fuelsystem_2bbl', 'fuelsystem_mpfi', 'car_company_buick']) \n",
            "\n",
            "[False False  True False  True  True  True  True  True  True  True False\n",
            " False  True  True] \n",
            "\n",
            "[5 3 1 4 1 1 1 1 1 1 1 6 2 1 1] \n",
            "\n"
          ]
        }
      ]
    },
    {
      "cell_type": "code",
      "metadata": {
        "id": "AvYP0SwKBAQE",
        "colab": {
          "base_uri": "https://localhost:8080/"
        },
        "outputId": "28f85345-dbf4-44b5-f561-481a81a01110"
      },
      "source": [
        "# Build a linear regression model using the 'statsmodels.api' module having the above 10 features selected using RFE.\n",
        "# Import the 'statsmodels.api' module.\n",
        "import statsmodels.api as sm\n",
        "\n",
        "# Subset the train set such that it contains only the above 10 selected features.\n",
        "rfe_features = X_train[major_features.keys()].columns[rfe1.support_]\n",
        "X_train_rfe1 = X_train[rfe_features]\n",
        "\n",
        "# Add the 'const' column to the features set.\n",
        "X_train_rfe1 = sm.add_constant(X_train_rfe1)\n",
        "\n",
        "# Fit the model with 10 features selected by RFE.\n",
        "sm_lin_reg1 = sm.OLS(y_train, X_train_rfe1).fit()\n",
        "print(sm_lin_reg1.summary())"
      ],
      "execution_count": null,
      "outputs": [
        {
          "output_type": "stream",
          "name": "stdout",
          "text": [
            "                            OLS Regression Results                            \n",
            "==============================================================================\n",
            "Dep. Variable:                  price   R-squared:                       0.873\n",
            "Model:                            OLS   Adj. R-squared:                  0.864\n",
            "Method:                 Least Squares   F-statistic:                     91.03\n",
            "Date:                Sat, 21 Jan 2023   Prob (F-statistic):           3.16e-54\n",
            "Time:                        18:26:14   Log-Likelihood:                -1336.8\n",
            "No. Observations:                 143   AIC:                             2696.\n",
            "Df Residuals:                     132   BIC:                             2728.\n",
            "Df Model:                          10                                         \n",
            "Covariance Type:            nonrobust                                         \n",
            "=====================================================================================\n",
            "                        coef    std err          t      P>|t|      [0.025      0.975]\n",
            "-------------------------------------------------------------------------------------\n",
            "const              1.412e+04    618.029     22.840      0.000    1.29e+04    1.53e+04\n",
            "carwidth           1736.5766    383.874      4.524      0.000     977.236    2495.918\n",
            "cylindernumber     -700.2571    632.381     -1.107      0.270   -1951.170     550.656\n",
            "enginesize         3489.8897    772.373      4.518      0.000    1962.060    5017.719\n",
            "boreratio          -703.0429    412.789     -1.703      0.091   -1519.581     113.495\n",
            "horsepower         2213.1768    597.516      3.704      0.000    1031.230    3395.123\n",
            "citympg            -685.9876   1082.467     -0.634      0.527   -2827.215    1455.240\n",
            "highwaympg          808.1811   1020.663      0.792      0.430   -1210.792    2827.154\n",
            "drivewheel_fwd    -2362.0657    716.205     -3.298      0.001   -3778.789    -945.342\n",
            "fuelsystem_mpfi     870.1314    695.994      1.250      0.213    -506.613    2246.876\n",
            "car_company_buick  8279.4418   1825.139      4.536      0.000    4669.136    1.19e+04\n",
            "==============================================================================\n",
            "Omnibus:                       17.987   Durbin-Watson:                   2.101\n",
            "Prob(Omnibus):                  0.000   Jarque-Bera (JB):               29.251\n",
            "Skew:                           0.625   Prob(JB):                     4.45e-07\n",
            "Kurtosis:                       4.829   Cond. No.                         17.2\n",
            "==============================================================================\n",
            "\n",
            "Notes:\n",
            "[1] Standard Errors assume that the covariance matrix of the errors is correctly specified.\n"
          ]
        },
        {
          "output_type": "stream",
          "name": "stderr",
          "text": [
            "/usr/local/lib/python3.8/dist-packages/statsmodels/tsa/tsatools.py:142: FutureWarning: In a future version of pandas all arguments of concat except for the argument 'objs' will be keyword-only\n",
            "  x = pd.concat(x[::order], 1)\n"
          ]
        }
      ]
    },
    {
      "cell_type": "markdown",
      "metadata": {
        "id": "IVpyMD_tLskx"
      },
      "source": [
        "The $R^2$ and adjusted $R^2$ values are close to $1$ which is a good sign. However, the p-values for a few features are greater than 0.05 which is not a good sign. So let's also calculate the VIF values before you further eliminate more features."
      ]
    },
    {
      "cell_type": "code",
      "metadata": {
        "id": "CWYhQwLNBoyP",
        "colab": {
          "base_uri": "https://localhost:8080/",
          "height": 394
        },
        "outputId": "da757e7e-328e-43dc-fbd6-6b3186572bb6"
      },
      "source": [
        "# Check for the VIF values of the 10 features selected by RFE above.\n",
        "from statsmodels.stats.outliers_influence import variance_inflation_factor\n",
        "\n",
        "# Create a dataframe that will contain the names of all the feature variables and their respective VIFs\n",
        "vif = pd.DataFrame()\n",
        "vif['Features'] = X_train_rfe1.columns\n",
        "vif['VIF'] = [variance_inflation_factor(X_train_rfe1.values, i) for i in range(X_train_rfe1.shape[1])]\n",
        "vif['VIF'] = round(vif['VIF'], 2)\n",
        "vif = vif.sort_values(by = \"VIF\", ascending = False)\n",
        "vif"
      ],
      "execution_count": null,
      "outputs": [
        {
          "output_type": "execute_result",
          "data": {
            "text/plain": [
              "             Features    VIF\n",
              "6             citympg  19.90\n",
              "7          highwaympg  17.69\n",
              "3          enginesize  10.13\n",
              "2      cylindernumber   6.79\n",
              "0               const   6.53\n",
              "5          horsepower   6.06\n",
              "4           boreratio   2.89\n",
              "1            carwidth   2.50\n",
              "8      drivewheel_fwd   2.14\n",
              "9     fuelsystem_mpfi   2.07\n",
              "10  car_company_buick   1.55"
            ],
            "text/html": [
              "\n",
              "  <div id=\"df-0b593980-387f-43cc-b6a2-58ccae731b94\">\n",
              "    <div class=\"colab-df-container\">\n",
              "      <div>\n",
              "<style scoped>\n",
              "    .dataframe tbody tr th:only-of-type {\n",
              "        vertical-align: middle;\n",
              "    }\n",
              "\n",
              "    .dataframe tbody tr th {\n",
              "        vertical-align: top;\n",
              "    }\n",
              "\n",
              "    .dataframe thead th {\n",
              "        text-align: right;\n",
              "    }\n",
              "</style>\n",
              "<table border=\"1\" class=\"dataframe\">\n",
              "  <thead>\n",
              "    <tr style=\"text-align: right;\">\n",
              "      <th></th>\n",
              "      <th>Features</th>\n",
              "      <th>VIF</th>\n",
              "    </tr>\n",
              "  </thead>\n",
              "  <tbody>\n",
              "    <tr>\n",
              "      <th>6</th>\n",
              "      <td>citympg</td>\n",
              "      <td>19.90</td>\n",
              "    </tr>\n",
              "    <tr>\n",
              "      <th>7</th>\n",
              "      <td>highwaympg</td>\n",
              "      <td>17.69</td>\n",
              "    </tr>\n",
              "    <tr>\n",
              "      <th>3</th>\n",
              "      <td>enginesize</td>\n",
              "      <td>10.13</td>\n",
              "    </tr>\n",
              "    <tr>\n",
              "      <th>2</th>\n",
              "      <td>cylindernumber</td>\n",
              "      <td>6.79</td>\n",
              "    </tr>\n",
              "    <tr>\n",
              "      <th>0</th>\n",
              "      <td>const</td>\n",
              "      <td>6.53</td>\n",
              "    </tr>\n",
              "    <tr>\n",
              "      <th>5</th>\n",
              "      <td>horsepower</td>\n",
              "      <td>6.06</td>\n",
              "    </tr>\n",
              "    <tr>\n",
              "      <th>4</th>\n",
              "      <td>boreratio</td>\n",
              "      <td>2.89</td>\n",
              "    </tr>\n",
              "    <tr>\n",
              "      <th>1</th>\n",
              "      <td>carwidth</td>\n",
              "      <td>2.50</td>\n",
              "    </tr>\n",
              "    <tr>\n",
              "      <th>8</th>\n",
              "      <td>drivewheel_fwd</td>\n",
              "      <td>2.14</td>\n",
              "    </tr>\n",
              "    <tr>\n",
              "      <th>9</th>\n",
              "      <td>fuelsystem_mpfi</td>\n",
              "      <td>2.07</td>\n",
              "    </tr>\n",
              "    <tr>\n",
              "      <th>10</th>\n",
              "      <td>car_company_buick</td>\n",
              "      <td>1.55</td>\n",
              "    </tr>\n",
              "  </tbody>\n",
              "</table>\n",
              "</div>\n",
              "      <button class=\"colab-df-convert\" onclick=\"convertToInteractive('df-0b593980-387f-43cc-b6a2-58ccae731b94')\"\n",
              "              title=\"Convert this dataframe to an interactive table.\"\n",
              "              style=\"display:none;\">\n",
              "        \n",
              "  <svg xmlns=\"http://www.w3.org/2000/svg\" height=\"24px\"viewBox=\"0 0 24 24\"\n",
              "       width=\"24px\">\n",
              "    <path d=\"M0 0h24v24H0V0z\" fill=\"none\"/>\n",
              "    <path d=\"M18.56 5.44l.94 2.06.94-2.06 2.06-.94-2.06-.94-.94-2.06-.94 2.06-2.06.94zm-11 1L8.5 8.5l.94-2.06 2.06-.94-2.06-.94L8.5 2.5l-.94 2.06-2.06.94zm10 10l.94 2.06.94-2.06 2.06-.94-2.06-.94-.94-2.06-.94 2.06-2.06.94z\"/><path d=\"M17.41 7.96l-1.37-1.37c-.4-.4-.92-.59-1.43-.59-.52 0-1.04.2-1.43.59L10.3 9.45l-7.72 7.72c-.78.78-.78 2.05 0 2.83L4 21.41c.39.39.9.59 1.41.59.51 0 1.02-.2 1.41-.59l7.78-7.78 2.81-2.81c.8-.78.8-2.07 0-2.86zM5.41 20L4 18.59l7.72-7.72 1.47 1.35L5.41 20z\"/>\n",
              "  </svg>\n",
              "      </button>\n",
              "      \n",
              "  <style>\n",
              "    .colab-df-container {\n",
              "      display:flex;\n",
              "      flex-wrap:wrap;\n",
              "      gap: 12px;\n",
              "    }\n",
              "\n",
              "    .colab-df-convert {\n",
              "      background-color: #E8F0FE;\n",
              "      border: none;\n",
              "      border-radius: 50%;\n",
              "      cursor: pointer;\n",
              "      display: none;\n",
              "      fill: #1967D2;\n",
              "      height: 32px;\n",
              "      padding: 0 0 0 0;\n",
              "      width: 32px;\n",
              "    }\n",
              "\n",
              "    .colab-df-convert:hover {\n",
              "      background-color: #E2EBFA;\n",
              "      box-shadow: 0px 1px 2px rgba(60, 64, 67, 0.3), 0px 1px 3px 1px rgba(60, 64, 67, 0.15);\n",
              "      fill: #174EA6;\n",
              "    }\n",
              "\n",
              "    [theme=dark] .colab-df-convert {\n",
              "      background-color: #3B4455;\n",
              "      fill: #D2E3FC;\n",
              "    }\n",
              "\n",
              "    [theme=dark] .colab-df-convert:hover {\n",
              "      background-color: #434B5C;\n",
              "      box-shadow: 0px 1px 3px 1px rgba(0, 0, 0, 0.15);\n",
              "      filter: drop-shadow(0px 1px 2px rgba(0, 0, 0, 0.3));\n",
              "      fill: #FFFFFF;\n",
              "    }\n",
              "  </style>\n",
              "\n",
              "      <script>\n",
              "        const buttonEl =\n",
              "          document.querySelector('#df-0b593980-387f-43cc-b6a2-58ccae731b94 button.colab-df-convert');\n",
              "        buttonEl.style.display =\n",
              "          google.colab.kernel.accessAllowed ? 'block' : 'none';\n",
              "\n",
              "        async function convertToInteractive(key) {\n",
              "          const element = document.querySelector('#df-0b593980-387f-43cc-b6a2-58ccae731b94');\n",
              "          const dataTable =\n",
              "            await google.colab.kernel.invokeFunction('convertToInteractive',\n",
              "                                                     [key], {});\n",
              "          if (!dataTable) return;\n",
              "\n",
              "          const docLinkHtml = 'Like what you see? Visit the ' +\n",
              "            '<a target=\"_blank\" href=https://colab.research.google.com/notebooks/data_table.ipynb>data table notebook</a>'\n",
              "            + ' to learn more about interactive tables.';\n",
              "          element.innerHTML = '';\n",
              "          dataTable['output_type'] = 'display_data';\n",
              "          await google.colab.output.renderOutput(dataTable, element);\n",
              "          const docLink = document.createElement('div');\n",
              "          docLink.innerHTML = docLinkHtml;\n",
              "          element.appendChild(docLink);\n",
              "        }\n",
              "      </script>\n",
              "    </div>\n",
              "  </div>\n",
              "  "
            ]
          },
          "metadata": {},
          "execution_count": 20
        }
      ]
    },
    {
      "cell_type": "markdown",
      "metadata": {
        "id": "AauTo3Qp9Tqs"
      },
      "source": [
        "Here, you can see that a couple features have high VIF values which means there's a high probability of multicollinearity even though the `statsmodels.api` didn't throw a multicollinearity warning message. You need to remove this multicollinearity either by one-by-one eliminating features or by selecting the fewer features. Let's go with the latter approach.\n",
        "\n",
        "\n",
        "**Note:** As a guideline, to further eliminate the features:\n",
        "\n",
        "1. Calculate the number of features having high p-values. Let's say this is 5.\n",
        "\n",
        "2. Calculate the number of features having high VIF values. Let's say this is 3.\n",
        "\n",
        "3. The number of features to be further eliminated would be the maximum of the numbers obtained in steps 1 and 2. In this case, $\\text{max}\\{5, 3\\} = 5$."
      ]
    },
    {
      "cell_type": "code",
      "metadata": {
        "id": "DyCa-EZ9919L",
        "colab": {
          "base_uri": "https://localhost:8080/"
        },
        "outputId": "1b01c5f8-ed60-4c8a-9a8b-ca020df902e0"
      },
      "source": [
        "# Use RFE to eliminate few features from the dataset.\n",
        "# RFE with 5 features.\n",
        "skl_lin_reg2 = LinearRegression()\n",
        "rfe2 = RFE(skl_lin_reg2, n_features_to_select =  5)\n",
        "\n",
        "# Fit with 5 features.\n",
        "rfe2.fit(X_train[major_features.keys()], y_train)\n",
        "\n",
        "# Print the attributes.\n",
        "print(major_features.keys(), \"\\n\")\n",
        "print(rfe2.support_, \"\\n\")\n",
        "print(rfe2.ranking_, \"\\n\")"
      ],
      "execution_count": null,
      "outputs": [
        {
          "output_type": "stream",
          "name": "stdout",
          "text": [
            "dict_keys(['wheelbase', 'carlength', 'carwidth', 'curbweight', 'cylindernumber', 'enginesize', 'boreratio', 'horsepower', 'citympg', 'highwaympg', 'drivewheel_fwd', 'drivewheel_rwd', 'fuelsystem_2bbl', 'fuelsystem_mpfi', 'car_company_buick']) \n",
            "\n",
            "[False False  True False False  True False  True False False  True False\n",
            " False False  True] \n",
            "\n",
            "[10  8  1  9  3  1  4  1  6  5  1 11  7  2  1] \n",
            "\n"
          ]
        }
      ]
    },
    {
      "cell_type": "code",
      "metadata": {
        "id": "_usSx1f6-GHm",
        "colab": {
          "base_uri": "https://localhost:8080/"
        },
        "outputId": "7bcf0636-86ef-41c8-9c2f-e3efd19b1027"
      },
      "source": [
        "# Build the linear regression model again using the most recently selected features by RFE\n",
        "import statsmodels.api as sm\n",
        "\n",
        "# Subset the train set such that it contains only the above 5 selected features.\n",
        "rfe_features = X_train[major_features.keys()].columns[rfe2.support_]\n",
        "X_train_rfe2 = X_train[rfe_features]\n",
        "\n",
        "# Add the 'const' column to the features set.\n",
        "X_train_rfe2 = sm.add_constant(X_train_rfe2)\n",
        "\n",
        "# Fit the model with 5 features.\n",
        "sm_lin_reg2 = sm.OLS(y_train, X_train_rfe2).fit()\n",
        "print(sm_lin_reg2.summary())"
      ],
      "execution_count": null,
      "outputs": [
        {
          "output_type": "stream",
          "name": "stdout",
          "text": [
            "                            OLS Regression Results                            \n",
            "==============================================================================\n",
            "Dep. Variable:                  price   R-squared:                       0.868\n",
            "Model:                            OLS   Adj. R-squared:                  0.863\n",
            "Method:                 Least Squares   F-statistic:                     180.2\n",
            "Date:                Sat, 21 Jan 2023   Prob (F-statistic):           2.00e-58\n",
            "Time:                        18:26:14   Log-Likelihood:                -1339.8\n",
            "No. Observations:                 143   AIC:                             2692.\n",
            "Df Residuals:                     137   BIC:                             2709.\n",
            "Df Model:                           5                                         \n",
            "Covariance Type:            nonrobust                                         \n",
            "=====================================================================================\n",
            "                        coef    std err          t      P>|t|      [0.025      0.975]\n",
            "-------------------------------------------------------------------------------------\n",
            "const              1.436e+04    427.391     33.589      0.000    1.35e+04    1.52e+04\n",
            "carwidth           1696.2271    357.627      4.743      0.000     989.044    2403.411\n",
            "enginesize         2636.6328    497.107      5.304      0.000    1653.638    3619.628\n",
            "horsepower         2363.8354    445.347      5.308      0.000    1483.193    3244.478\n",
            "drivewheel_fwd    -2016.6827    599.884     -3.362      0.001   -3202.912    -830.454\n",
            "car_company_buick  7984.8761   1778.109      4.491      0.000    4468.789    1.15e+04\n",
            "==============================================================================\n",
            "Omnibus:                       16.079   Durbin-Watson:                   2.142\n",
            "Prob(Omnibus):                  0.000   Jarque-Bera (JB):               21.325\n",
            "Skew:                           0.652   Prob(JB):                     2.34e-05\n",
            "Kurtosis:                       4.371   Cond. No.                         11.8\n",
            "==============================================================================\n",
            "\n",
            "Notes:\n",
            "[1] Standard Errors assume that the covariance matrix of the errors is correctly specified.\n"
          ]
        },
        {
          "output_type": "stream",
          "name": "stderr",
          "text": [
            "/usr/local/lib/python3.8/dist-packages/statsmodels/tsa/tsatools.py:142: FutureWarning: In a future version of pandas all arguments of concat except for the argument 'objs' will be keyword-only\n",
            "  x = pd.concat(x[::order], 1)\n"
          ]
        }
      ]
    },
    {
      "cell_type": "markdown",
      "metadata": {
        "id": "i7Hw7uzfPasE"
      },
      "source": [
        "As you can see, the $R^2$ and adjusted $R^2$ values are pretty high. The p-values for all the 5 features selected are less than 0.05. These are great signs. Now let's calculate the VIF values for these 5 features to see if there is negligible multicollinearity."
      ]
    },
    {
      "cell_type": "code",
      "metadata": {
        "id": "M8jJLtoq-UBY",
        "colab": {
          "base_uri": "https://localhost:8080/",
          "height": 237
        },
        "outputId": "da36b9bf-12a6-42eb-c6be-98790d7884c1"
      },
      "source": [
        "# Check for the VIF values of the feature variables.\n",
        "from statsmodels.stats.outliers_influence import variance_inflation_factor\n",
        "\n",
        "# Create a dataframe that will contain the names of all the feature variables and their respective VIFs\n",
        "vif = pd.DataFrame()\n",
        "vif['Features'] = X_train_rfe2.columns\n",
        "vif['VIF'] = [variance_inflation_factor(X_train_rfe2.values, i) for i in range(X_train_rfe2.shape[1])]\n",
        "vif['VIF'] = round(vif['VIF'], 2)\n",
        "vif = vif.sort_values(by = \"VIF\", ascending = False)\n",
        "vif"
      ],
      "execution_count": null,
      "outputs": [
        {
          "output_type": "execute_result",
          "data": {
            "text/plain": [
              "            Features   VIF\n",
              "2         enginesize  4.18\n",
              "3         horsepower  3.35\n",
              "0              const  3.11\n",
              "1           carwidth  2.16\n",
              "4     drivewheel_fwd  1.49\n",
              "5  car_company_buick  1.46"
            ],
            "text/html": [
              "\n",
              "  <div id=\"df-510de841-41a0-47f0-b3cc-410d4827e12a\">\n",
              "    <div class=\"colab-df-container\">\n",
              "      <div>\n",
              "<style scoped>\n",
              "    .dataframe tbody tr th:only-of-type {\n",
              "        vertical-align: middle;\n",
              "    }\n",
              "\n",
              "    .dataframe tbody tr th {\n",
              "        vertical-align: top;\n",
              "    }\n",
              "\n",
              "    .dataframe thead th {\n",
              "        text-align: right;\n",
              "    }\n",
              "</style>\n",
              "<table border=\"1\" class=\"dataframe\">\n",
              "  <thead>\n",
              "    <tr style=\"text-align: right;\">\n",
              "      <th></th>\n",
              "      <th>Features</th>\n",
              "      <th>VIF</th>\n",
              "    </tr>\n",
              "  </thead>\n",
              "  <tbody>\n",
              "    <tr>\n",
              "      <th>2</th>\n",
              "      <td>enginesize</td>\n",
              "      <td>4.18</td>\n",
              "    </tr>\n",
              "    <tr>\n",
              "      <th>3</th>\n",
              "      <td>horsepower</td>\n",
              "      <td>3.35</td>\n",
              "    </tr>\n",
              "    <tr>\n",
              "      <th>0</th>\n",
              "      <td>const</td>\n",
              "      <td>3.11</td>\n",
              "    </tr>\n",
              "    <tr>\n",
              "      <th>1</th>\n",
              "      <td>carwidth</td>\n",
              "      <td>2.16</td>\n",
              "    </tr>\n",
              "    <tr>\n",
              "      <th>4</th>\n",
              "      <td>drivewheel_fwd</td>\n",
              "      <td>1.49</td>\n",
              "    </tr>\n",
              "    <tr>\n",
              "      <th>5</th>\n",
              "      <td>car_company_buick</td>\n",
              "      <td>1.46</td>\n",
              "    </tr>\n",
              "  </tbody>\n",
              "</table>\n",
              "</div>\n",
              "      <button class=\"colab-df-convert\" onclick=\"convertToInteractive('df-510de841-41a0-47f0-b3cc-410d4827e12a')\"\n",
              "              title=\"Convert this dataframe to an interactive table.\"\n",
              "              style=\"display:none;\">\n",
              "        \n",
              "  <svg xmlns=\"http://www.w3.org/2000/svg\" height=\"24px\"viewBox=\"0 0 24 24\"\n",
              "       width=\"24px\">\n",
              "    <path d=\"M0 0h24v24H0V0z\" fill=\"none\"/>\n",
              "    <path d=\"M18.56 5.44l.94 2.06.94-2.06 2.06-.94-2.06-.94-.94-2.06-.94 2.06-2.06.94zm-11 1L8.5 8.5l.94-2.06 2.06-.94-2.06-.94L8.5 2.5l-.94 2.06-2.06.94zm10 10l.94 2.06.94-2.06 2.06-.94-2.06-.94-.94-2.06-.94 2.06-2.06.94z\"/><path d=\"M17.41 7.96l-1.37-1.37c-.4-.4-.92-.59-1.43-.59-.52 0-1.04.2-1.43.59L10.3 9.45l-7.72 7.72c-.78.78-.78 2.05 0 2.83L4 21.41c.39.39.9.59 1.41.59.51 0 1.02-.2 1.41-.59l7.78-7.78 2.81-2.81c.8-.78.8-2.07 0-2.86zM5.41 20L4 18.59l7.72-7.72 1.47 1.35L5.41 20z\"/>\n",
              "  </svg>\n",
              "      </button>\n",
              "      \n",
              "  <style>\n",
              "    .colab-df-container {\n",
              "      display:flex;\n",
              "      flex-wrap:wrap;\n",
              "      gap: 12px;\n",
              "    }\n",
              "\n",
              "    .colab-df-convert {\n",
              "      background-color: #E8F0FE;\n",
              "      border: none;\n",
              "      border-radius: 50%;\n",
              "      cursor: pointer;\n",
              "      display: none;\n",
              "      fill: #1967D2;\n",
              "      height: 32px;\n",
              "      padding: 0 0 0 0;\n",
              "      width: 32px;\n",
              "    }\n",
              "\n",
              "    .colab-df-convert:hover {\n",
              "      background-color: #E2EBFA;\n",
              "      box-shadow: 0px 1px 2px rgba(60, 64, 67, 0.3), 0px 1px 3px 1px rgba(60, 64, 67, 0.15);\n",
              "      fill: #174EA6;\n",
              "    }\n",
              "\n",
              "    [theme=dark] .colab-df-convert {\n",
              "      background-color: #3B4455;\n",
              "      fill: #D2E3FC;\n",
              "    }\n",
              "\n",
              "    [theme=dark] .colab-df-convert:hover {\n",
              "      background-color: #434B5C;\n",
              "      box-shadow: 0px 1px 3px 1px rgba(0, 0, 0, 0.15);\n",
              "      filter: drop-shadow(0px 1px 2px rgba(0, 0, 0, 0.3));\n",
              "      fill: #FFFFFF;\n",
              "    }\n",
              "  </style>\n",
              "\n",
              "      <script>\n",
              "        const buttonEl =\n",
              "          document.querySelector('#df-510de841-41a0-47f0-b3cc-410d4827e12a button.colab-df-convert');\n",
              "        buttonEl.style.display =\n",
              "          google.colab.kernel.accessAllowed ? 'block' : 'none';\n",
              "\n",
              "        async function convertToInteractive(key) {\n",
              "          const element = document.querySelector('#df-510de841-41a0-47f0-b3cc-410d4827e12a');\n",
              "          const dataTable =\n",
              "            await google.colab.kernel.invokeFunction('convertToInteractive',\n",
              "                                                     [key], {});\n",
              "          if (!dataTable) return;\n",
              "\n",
              "          const docLinkHtml = 'Like what you see? Visit the ' +\n",
              "            '<a target=\"_blank\" href=https://colab.research.google.com/notebooks/data_table.ipynb>data table notebook</a>'\n",
              "            + ' to learn more about interactive tables.';\n",
              "          element.innerHTML = '';\n",
              "          dataTable['output_type'] = 'display_data';\n",
              "          await google.colab.output.renderOutput(dataTable, element);\n",
              "          const docLink = document.createElement('div');\n",
              "          docLink.innerHTML = docLinkHtml;\n",
              "          element.appendChild(docLink);\n",
              "        }\n",
              "      </script>\n",
              "    </div>\n",
              "  </div>\n",
              "  "
            ]
          },
          "metadata": {},
          "execution_count": 23
        }
      ]
    },
    {
      "cell_type": "markdown",
      "metadata": {
        "id": "CKCxYZgg-xKz"
      },
      "source": [
        "As you can see, the VIF values for all the features is less than 10. Hence, we can safely assume that the multicollinearity between these features is negligible.\n",
        "\n",
        "Let's stop here. In the next class, we will evaluate this linear regression model further using the MAE, MSE, RMSE parameters and also analyse the residuals."
      ]
    },
    {
      "cell_type": "markdown",
      "metadata": {
        "id": "i6a2op5DP9jv"
      },
      "source": [
        "---"
      ]
    },
    {
      "cell_type": "markdown",
      "metadata": {
        "id": "0ewSATK8tegw"
      },
      "source": [
        "#### Activity 1: Final Features\n",
        "\n",
        "Now that we have obtained the features that has satisfactory  VIF values and p-values, let's build linear regression model using the `sklearn` module to make predictions on the test set as well and evaluate the efficacy of the model using the MAE, MSE, RMSE parameters and also analyse the residuals."
      ]
    },
    {
      "cell_type": "code",
      "metadata": {
        "id": "-228aiHeB0ba",
        "colab": {
          "base_uri": "https://localhost:8080/",
          "height": 424
        },
        "outputId": "eae7a451-81ff-4256-8330-a33fc5753602"
      },
      "source": [
        "# S1.1: Create a list of final features and build a linear regression model using the 'sklearn' module.\n",
        "x_train_final = X_train_rfe2.drop(columns = 'const')\n",
        "x_train_final"
      ],
      "execution_count": null,
      "outputs": [
        {
          "output_type": "execute_result",
          "data": {
            "text/plain": [
              "     carwidth  enginesize  horsepower  drivewheel_fwd  car_company_buick\n",
              "177  0.234282   -0.121004   -0.339563               1                  0\n",
              "75   0.921744    0.313395    1.717747               0                  0\n",
              "174  0.234282   -0.410604   -0.810513               1                  0\n",
              "31  -0.957319   -0.845003   -0.736153               1                  0\n",
              "12  -0.544842    0.892594    0.379256               0                  0\n",
              "..        ...         ...         ...             ...                ...\n",
              "106  0.875913    1.302861    1.345944               0                  0\n",
              "14   0.417605    0.892594    0.379256               0                  0\n",
              "92  -1.003149   -0.724336   -0.909661               1                  0\n",
              "179  0.784251    1.061528    1.370731               0                  0\n",
              "102  0.234282    1.302861    1.147649               1                  0\n",
              "\n",
              "[143 rows x 5 columns]"
            ],
            "text/html": [
              "\n",
              "  <div id=\"df-b12e0395-6910-4a1f-a841-cceda864aae0\">\n",
              "    <div class=\"colab-df-container\">\n",
              "      <div>\n",
              "<style scoped>\n",
              "    .dataframe tbody tr th:only-of-type {\n",
              "        vertical-align: middle;\n",
              "    }\n",
              "\n",
              "    .dataframe tbody tr th {\n",
              "        vertical-align: top;\n",
              "    }\n",
              "\n",
              "    .dataframe thead th {\n",
              "        text-align: right;\n",
              "    }\n",
              "</style>\n",
              "<table border=\"1\" class=\"dataframe\">\n",
              "  <thead>\n",
              "    <tr style=\"text-align: right;\">\n",
              "      <th></th>\n",
              "      <th>carwidth</th>\n",
              "      <th>enginesize</th>\n",
              "      <th>horsepower</th>\n",
              "      <th>drivewheel_fwd</th>\n",
              "      <th>car_company_buick</th>\n",
              "    </tr>\n",
              "  </thead>\n",
              "  <tbody>\n",
              "    <tr>\n",
              "      <th>177</th>\n",
              "      <td>0.234282</td>\n",
              "      <td>-0.121004</td>\n",
              "      <td>-0.339563</td>\n",
              "      <td>1</td>\n",
              "      <td>0</td>\n",
              "    </tr>\n",
              "    <tr>\n",
              "      <th>75</th>\n",
              "      <td>0.921744</td>\n",
              "      <td>0.313395</td>\n",
              "      <td>1.717747</td>\n",
              "      <td>0</td>\n",
              "      <td>0</td>\n",
              "    </tr>\n",
              "    <tr>\n",
              "      <th>174</th>\n",
              "      <td>0.234282</td>\n",
              "      <td>-0.410604</td>\n",
              "      <td>-0.810513</td>\n",
              "      <td>1</td>\n",
              "      <td>0</td>\n",
              "    </tr>\n",
              "    <tr>\n",
              "      <th>31</th>\n",
              "      <td>-0.957319</td>\n",
              "      <td>-0.845003</td>\n",
              "      <td>-0.736153</td>\n",
              "      <td>1</td>\n",
              "      <td>0</td>\n",
              "    </tr>\n",
              "    <tr>\n",
              "      <th>12</th>\n",
              "      <td>-0.544842</td>\n",
              "      <td>0.892594</td>\n",
              "      <td>0.379256</td>\n",
              "      <td>0</td>\n",
              "      <td>0</td>\n",
              "    </tr>\n",
              "    <tr>\n",
              "      <th>...</th>\n",
              "      <td>...</td>\n",
              "      <td>...</td>\n",
              "      <td>...</td>\n",
              "      <td>...</td>\n",
              "      <td>...</td>\n",
              "    </tr>\n",
              "    <tr>\n",
              "      <th>106</th>\n",
              "      <td>0.875913</td>\n",
              "      <td>1.302861</td>\n",
              "      <td>1.345944</td>\n",
              "      <td>0</td>\n",
              "      <td>0</td>\n",
              "    </tr>\n",
              "    <tr>\n",
              "      <th>14</th>\n",
              "      <td>0.417605</td>\n",
              "      <td>0.892594</td>\n",
              "      <td>0.379256</td>\n",
              "      <td>0</td>\n",
              "      <td>0</td>\n",
              "    </tr>\n",
              "    <tr>\n",
              "      <th>92</th>\n",
              "      <td>-1.003149</td>\n",
              "      <td>-0.724336</td>\n",
              "      <td>-0.909661</td>\n",
              "      <td>1</td>\n",
              "      <td>0</td>\n",
              "    </tr>\n",
              "    <tr>\n",
              "      <th>179</th>\n",
              "      <td>0.784251</td>\n",
              "      <td>1.061528</td>\n",
              "      <td>1.370731</td>\n",
              "      <td>0</td>\n",
              "      <td>0</td>\n",
              "    </tr>\n",
              "    <tr>\n",
              "      <th>102</th>\n",
              "      <td>0.234282</td>\n",
              "      <td>1.302861</td>\n",
              "      <td>1.147649</td>\n",
              "      <td>1</td>\n",
              "      <td>0</td>\n",
              "    </tr>\n",
              "  </tbody>\n",
              "</table>\n",
              "<p>143 rows × 5 columns</p>\n",
              "</div>\n",
              "      <button class=\"colab-df-convert\" onclick=\"convertToInteractive('df-b12e0395-6910-4a1f-a841-cceda864aae0')\"\n",
              "              title=\"Convert this dataframe to an interactive table.\"\n",
              "              style=\"display:none;\">\n",
              "        \n",
              "  <svg xmlns=\"http://www.w3.org/2000/svg\" height=\"24px\"viewBox=\"0 0 24 24\"\n",
              "       width=\"24px\">\n",
              "    <path d=\"M0 0h24v24H0V0z\" fill=\"none\"/>\n",
              "    <path d=\"M18.56 5.44l.94 2.06.94-2.06 2.06-.94-2.06-.94-.94-2.06-.94 2.06-2.06.94zm-11 1L8.5 8.5l.94-2.06 2.06-.94-2.06-.94L8.5 2.5l-.94 2.06-2.06.94zm10 10l.94 2.06.94-2.06 2.06-.94-2.06-.94-.94-2.06-.94 2.06-2.06.94z\"/><path d=\"M17.41 7.96l-1.37-1.37c-.4-.4-.92-.59-1.43-.59-.52 0-1.04.2-1.43.59L10.3 9.45l-7.72 7.72c-.78.78-.78 2.05 0 2.83L4 21.41c.39.39.9.59 1.41.59.51 0 1.02-.2 1.41-.59l7.78-7.78 2.81-2.81c.8-.78.8-2.07 0-2.86zM5.41 20L4 18.59l7.72-7.72 1.47 1.35L5.41 20z\"/>\n",
              "  </svg>\n",
              "      </button>\n",
              "      \n",
              "  <style>\n",
              "    .colab-df-container {\n",
              "      display:flex;\n",
              "      flex-wrap:wrap;\n",
              "      gap: 12px;\n",
              "    }\n",
              "\n",
              "    .colab-df-convert {\n",
              "      background-color: #E8F0FE;\n",
              "      border: none;\n",
              "      border-radius: 50%;\n",
              "      cursor: pointer;\n",
              "      display: none;\n",
              "      fill: #1967D2;\n",
              "      height: 32px;\n",
              "      padding: 0 0 0 0;\n",
              "      width: 32px;\n",
              "    }\n",
              "\n",
              "    .colab-df-convert:hover {\n",
              "      background-color: #E2EBFA;\n",
              "      box-shadow: 0px 1px 2px rgba(60, 64, 67, 0.3), 0px 1px 3px 1px rgba(60, 64, 67, 0.15);\n",
              "      fill: #174EA6;\n",
              "    }\n",
              "\n",
              "    [theme=dark] .colab-df-convert {\n",
              "      background-color: #3B4455;\n",
              "      fill: #D2E3FC;\n",
              "    }\n",
              "\n",
              "    [theme=dark] .colab-df-convert:hover {\n",
              "      background-color: #434B5C;\n",
              "      box-shadow: 0px 1px 3px 1px rgba(0, 0, 0, 0.15);\n",
              "      filter: drop-shadow(0px 1px 2px rgba(0, 0, 0, 0.3));\n",
              "      fill: #FFFFFF;\n",
              "    }\n",
              "  </style>\n",
              "\n",
              "      <script>\n",
              "        const buttonEl =\n",
              "          document.querySelector('#df-b12e0395-6910-4a1f-a841-cceda864aae0 button.colab-df-convert');\n",
              "        buttonEl.style.display =\n",
              "          google.colab.kernel.accessAllowed ? 'block' : 'none';\n",
              "\n",
              "        async function convertToInteractive(key) {\n",
              "          const element = document.querySelector('#df-b12e0395-6910-4a1f-a841-cceda864aae0');\n",
              "          const dataTable =\n",
              "            await google.colab.kernel.invokeFunction('convertToInteractive',\n",
              "                                                     [key], {});\n",
              "          if (!dataTable) return;\n",
              "\n",
              "          const docLinkHtml = 'Like what you see? Visit the ' +\n",
              "            '<a target=\"_blank\" href=https://colab.research.google.com/notebooks/data_table.ipynb>data table notebook</a>'\n",
              "            + ' to learn more about interactive tables.';\n",
              "          element.innerHTML = '';\n",
              "          dataTable['output_type'] = 'display_data';\n",
              "          await google.colab.output.renderOutput(dataTable, element);\n",
              "          const docLink = document.createElement('div');\n",
              "          docLink.innerHTML = docLinkHtml;\n",
              "          element.appendChild(docLink);\n",
              "        }\n",
              "      </script>\n",
              "    </div>\n",
              "  </div>\n",
              "  "
            ]
          },
          "metadata": {},
          "execution_count": 24
        }
      ]
    },
    {
      "cell_type": "markdown",
      "metadata": {
        "id": "HvEkQAHUuQWr"
      },
      "source": [
        "Now let's evaluate the efficacy of the model using the $R^2$, adjusted-$R^2$ MAE, MSE and RMSE parameters."
      ]
    },
    {
      "cell_type": "code",
      "metadata": {
        "id": "7FHxIh0-DzmF",
        "colab": {
          "base_uri": "https://localhost:8080/"
        },
        "outputId": "90aa01ac-89ea-4d4a-c93a-dfec88146470"
      },
      "source": [
        "# S1.2: Evaluate the linear regression model using the 'r2_score', 'mean_squared_error' & 'mean_absolute_error' functions of the 'sklearn' module.\n",
        "skl_linreg_2 = LinearRegression()\n",
        "skl_linreg_2.fit(x_train_final, y_train)\n",
        "y_train_pred = skl_linreg_2.predict(x_train_final)\n",
        "\n",
        "from sklearn.metrics import r2_score, mean_squared_error, mean_absolute_error, mean_squared_log_error\n",
        "\n",
        "print(r2_score(y_train, y_train_pred))\n",
        "print(mean_squared_error(y_train, y_train_pred))\n",
        "print(mean_absolute_error(y_train, y_train_pred))\n",
        "print(np.sqrt(mean_absolute_error(y_train, y_train_pred)))"
      ],
      "execution_count": null,
      "outputs": [
        {
          "output_type": "stream",
          "name": "stdout",
          "text": [
            "0.868039301033769\n",
            "8042954.08342041\n",
            "2080.493944076901\n",
            "45.61243190268308\n"
          ]
        }
      ]
    },
    {
      "cell_type": "markdown",
      "metadata": {
        "id": "7rU5CxSluuKz"
      },
      "source": [
        "---"
      ]
    },
    {
      "cell_type": "markdown",
      "metadata": {
        "id": "jujWiXrSuZV4"
      },
      "source": [
        "#### Activity 2: Mean-Squared Log Error (MSLE)\n",
        "\n",
        "When you are predicting large numbers (such as prices, length in millimeter scale etc), often the errors (difference between the actual and the predicted values) are also quite large. In such cases, the MSE, MSE and RMSE values are also large that might give us a false sense that the prediction model is poor. Hence, in such cases, it is best to use another parameter to analyse the errors. This parameter is called **Mean-Squared Log Error (MSLE)**.\n",
        "\n",
        "Mathematically, it is written as\n",
        "\n",
        "$$\\text{MSLE} = \\frac{1}{n}\\left( \\log{(y_\\text{actual} + 1)} - \\log{(y_\\text{predicted} + 1)} \\right)^2$$\n",
        "\n",
        "Before we further with MSLE, let's take quick at log or logarithm used in the formula.\n",
        "\n",
        "**What is natural logarithm or log?**\n",
        "\n",
        "Consider a number $32$. It can also be written as $2^5$ i.e.\n",
        "\n",
        "$$2^{5} = 32$$\n",
        "\n",
        "Here, the number $2$ is called **base**, the number $5$ is called **exponent (or index or power)**.\n",
        "\n",
        "The above mathematical statement can be written as **When $2$ raised to the power $5$, the number obtained is 32.**\n",
        "\n",
        "Now if you flip the above statement as **to what power the number 2 should be raised to so that the number obtained is 32**.\n",
        "\n",
        "This is flipped statement (or rather a question) is roughly the definition of a logarithm.\n",
        "\n",
        "Mathematically, it is written as\n",
        "\n",
        "$$\\log_2 32 = 5$$\n",
        "\n",
        "The implication\n",
        "\n",
        "$$2^{5} = 32 \\Leftrightarrow \\log_2 32 = 5$$\n",
        "\n",
        "is also true.\n",
        "\n",
        "In general, you can say **to what power a base (say $b$) should be raised to so that the number obtained is $c$.**\n",
        "\n",
        "The diagramatic of explanation of the above general definition is shown below.\n",
        "\n",
        "<img src = 'https://student-datasets-bucket.s3.ap-south-1.amazonaws.com/images/log_explanation.png' width = 500>\n",
        "\n",
        "Let's look into the process stepwise:\n",
        "\n",
        "**Step 1:** For exponentiation multiply $b$ with itself $n$ times to get the result $c$\n",
        "\n",
        "$$b^n = b \\times b \\times b \\times b \\times \\dots \\times b \\space{} (n \\: \\text{times})$$\n",
        "\n",
        "For eg.,\n",
        "\n",
        "$$2^5 =  2 \\times 2 \\times 2 \\times 2 \\times 2$$\n",
        "\n",
        "**Step 2:** This can be written as when $b$ raise to the power of $n$ gives result $c$\n",
        "\n",
        "$$b^n = c$$\n",
        "\n",
        "For eg.,\n",
        "\n",
        "\n",
        "$$2^5 = 32$$\n",
        "\n",
        "\n",
        "**Note** Here $b$ and $n$ are known values and $c$ is unknown value. $b$ is the base value and $n$ is the exponent and $c$ is the product of exponentiation.\n",
        "\n",
        "**Step 3:** Now lets reverse the formula a bit, a known $c$ can be achieved by multiplying a known $b$ by itself unknown number of times. That means exponent, i.e. $n$ is unknown It can be written as\n",
        "\n",
        "$$\\color{blue}b^\\color{red}{n} = c$$\n",
        "\n",
        "**Step 4:** By solving the above formula, we get\n",
        "\n",
        "$$\\color{red}{n} = {\\log_\\color{blue}b}(c)$$\n",
        "\n",
        "For eg.,\n",
        "\n",
        "$$5 = \\log_2 32$$\n",
        "\n",
        "The above can be written as logarithm of $c$ to the base $b$ will tell us value of the exponent $n$ means **how many times should $b$ be multiplied with $n$ to achieve $c$**.\n",
        "\n",
        "In layman terms,\n",
        "\n",
        "1. **Exponentiation** is starting with a base number and multiplying it with itself a certain exponent times which will give us some target.\n",
        "\n",
        "  For example, if a task needs to be completed by putting in same amount of effort again and again, using exponentiation, we can find out if we apply the effort certain number of times what proportion of the task will be completed.\n",
        "\n",
        "2. **Logarithm** is starting with the base and target value and find out how many times the base must be multiplied by itself i.e. find the exponent value.\n",
        "\n",
        "Now you find out the value of $\\log_5 625$\n",
        "\n",
        " Let's get a look about the mathematical functions for exponentiation and logarithm in python.\n",
        "\n",
        " In python, `math` module has functions `pow()` and `log()` functions for exponentiation and logarithm. The syntax is as followed:\n",
        "\n",
        " >**Syntax:** `math.pow(x, y)`: `pow()` returns `x**y` (x to the power of y).\n",
        "\n",
        " >**Syntax:** `math.log(x[, base])`\n",
        "\n",
        "`log()` returns the natural logarithm to the base-e of the number x (if the base is not defined). If the base is defined, it returns the given base's logarithm of the number x.\n",
        "\n",
        "You will get to learn about logarithms in more detail in the subsequent classes.\n"
      ]
    },
    {
      "cell_type": "code",
      "metadata": {
        "id": "MUw4Am-8lmT-",
        "colab": {
          "base_uri": "https://localhost:8080/"
        },
        "outputId": "1ed613ad-f24b-4890-875d-1cf9aba6444a"
      },
      "source": [
        "# S2.1 Import math and use 'pow()' to calculate 32nd power of 2 and log of 4294967296 to the base 2\n",
        "import math\n",
        "\n",
        "print(math.pow(2, 32))\n",
        "print(math.log(4294967296 , 2))"
      ],
      "execution_count": null,
      "outputs": [
        {
          "output_type": "stream",
          "name": "stdout",
          "text": [
            "4294967296.0\n",
            "32.0\n"
          ]
        }
      ]
    },
    {
      "cell_type": "markdown",
      "metadata": {
        "id": "RFH8kM8VWxef"
      },
      "source": [
        "As it can be observed log and exponentiation are inverse of each other.\n",
        "\n",
        "Back to MSLE, it is the difference log of the  actual values and predictions.\n",
        "\n",
        "**Note:** The `1` added to both actual values and predictions in the MSLE formula is to avoid the taking the logarithm of `0` because **log of zero is not defined.**\n",
        "\n",
        "Let's calculate the MSLE of the regression model created above using the `mean_squared_log_errror()` from the `sklearn.metrics` module using the syntax below:\n",
        "\n",
        "> **Syntax:** `mean_squared_log_error(y_true, y_pred)`"
      ]
    },
    {
      "cell_type": "code",
      "metadata": {
        "id": "Vh4xAk3juecZ",
        "colab": {
          "base_uri": "https://localhost:8080/"
        },
        "outputId": "5323c1ed-86e4-4673-ffd0-0d8ba4a56f4b"
      },
      "source": [
        "# S2.2: Evaluate the linear regression model based on MSLE.\n",
        "print(mean_squared_log_error(y_train, y_train_pred))"
      ],
      "execution_count": null,
      "outputs": [
        {
          "output_type": "stream",
          "name": "stdout",
          "text": [
            "0.034309394595164494\n"
          ]
        }
      ]
    },
    {
      "cell_type": "markdown",
      "metadata": {
        "id": "pyHYM3Woafne"
      },
      "source": [
        "MSLE returns the relative difference between the true and the predicted value, or in other words, it only cares about the percentual difference between them.\n",
        "\n",
        "It means that MSLE will treat small true and predicted values difference which will also be small approximately the same as big differences between large true and predicted values.\n",
        "\n",
        "The MSLE is low which is good for our model."
      ]
    },
    {
      "cell_type": "markdown",
      "metadata": {
        "id": "6gKXrWaKwoVT"
      },
      "source": [
        "---"
      ]
    },
    {
      "cell_type": "markdown",
      "metadata": {
        "id": "bVG0iroNsGLf"
      },
      "source": [
        "#### Activity 3: Residual Analysis\n",
        "\n",
        "Let's now analyse the residuals (or errors) to further evaluate the efficay of the model.\n",
        "\n",
        "**Homoscedasticity**\n",
        "\n",
        "Let's check if the error terms are normally distributed. **For a line to be the best fit line, the mean of random errors (differene between the actual and predicted values) or mean of errors (or $\\epsilon$) should be 0.**\n",
        "\n",
        "Let us plot the histogram of the error terms and see what it looks like."
      ]
    },
    {
      "cell_type": "code",
      "metadata": {
        "id": "EOezUKVtCiaa",
        "colab": {
          "base_uri": "https://localhost:8080/",
          "height": 459
        },
        "outputId": "4d344588-7eb5-4e6a-8614-038e5da686dc"
      },
      "source": [
        "# S3.1: Create a histogram for the errors obtained in the predicted values for the train set.\n",
        "y_train_resid = y_train - y_train_pred\n",
        "\n",
        "plt.figure(figsize = (12,7))\n",
        "sns.histplot(y_train_resid)\n",
        "plt.axvline()\n",
        "plt.legend()\n",
        "plt.show()"
      ],
      "execution_count": null,
      "outputs": [
        {
          "output_type": "stream",
          "name": "stderr",
          "text": [
            "WARNING:matplotlib.legend:No handles with labels found to put in legend.\n"
          ]
        },
        {
          "output_type": "display_data",
          "data": {
            "text/plain": [
              "<Figure size 864x504 with 1 Axes>"
            ],
            "image/png": "[encoded data removed]"
          },
          "metadata": {
            "needs_background": "light"
          }
        }
      ]
    },
    {
      "cell_type": "markdown",
      "metadata": {
        "id": "pnF9aiMPyduh"
      },
      "source": [
        "The mean of residuals is zero for the train set which is exactly what we want for a reliable linear regression model.\n",
        "\n",
        "**Homoscedasticity**\n",
        "\n",
        "In addition to checking for the mean of errors, you also need to check for the Homoscedasticity.\n",
        "\n",
        "Again as you know for homoscedasticity, we need to check the trend in the scatter plot between the errors and predictions. **There should not be a trend** because if there is a trend then it means the variance changes or varies as increase or decrease the actual values.\n",
        "\n",
        "Let's create a scatter plot between the errors and predictions for the train set to see whether there is some kind of relationship between the two."
      ]
    },
    {
      "cell_type": "code",
      "metadata": {
        "id": "KOMJDBk1DfyO",
        "colab": {
          "base_uri": "https://localhost:8080/",
          "height": 445
        },
        "outputId": "1b9e737f-1d52-48ae-effa-ced7fe0e84aa"
      },
      "source": [
        "# S3.2: Create a scatter plot between 'train_residuals' and 'y_train'.\n",
        "plt.figure(figsize = (12,7))\n",
        "plt.scatter(y_train_resid, y_train)\n",
        "plt.axhline(y = y_train_resid.mean())\n",
        "plt.legend()\n",
        "plt.show()"
      ],
      "execution_count": null,
      "outputs": [
        {
          "output_type": "stream",
          "name": "stderr",
          "text": [
            "WARNING:matplotlib.legend:No handles with labels found to put in legend.\n"
          ]
        },
        {
          "output_type": "display_data",
          "data": {
            "text/plain": [
              "<Figure size 864x504 with 1 Axes>"
            ],
            "image/png": "[encoded data removed]"
          },
          "metadata": {
            "needs_background": "light"
          }
        }
      ]
    },
    {
      "cell_type": "markdown",
      "metadata": {
        "id": "utks0CPXymVo"
      },
      "source": [
        "The scatter plot between the residuals and the actual prices for the train set doesn't follow any kind of pattern. The dots are randomly scattered which is again exactly what we want.\n",
        "\n",
        "**Scatter Plot Between Actual & Predicted Values**\n",
        "\n",
        "Let's create a scatter plot between the actual values and predictions for the train set to see whether there is some kind of relationship between the two."
      ]
    },
    {
      "cell_type": "code",
      "metadata": {
        "id": "51zDAR5sIBgr",
        "colab": {
          "base_uri": "https://localhost:8080/",
          "height": 445
        },
        "outputId": "94c1f5fb-fdc9-4306-d598-631cb40ba662"
      },
      "source": [
        "# S3.3: Create a scatter plot for actual values and predictions of the training data set\n",
        "plt.figure(figsize = (12,7))\n",
        "plt.scatter(y_train, y_train_pred)\n",
        "plt.axhline(y = y_train.mean())\n",
        "plt.legend()\n",
        "plt.show()"
      ],
      "execution_count": null,
      "outputs": [
        {
          "output_type": "stream",
          "name": "stderr",
          "text": [
            "WARNING:matplotlib.legend:No handles with labels found to put in legend.\n"
          ]
        },
        {
          "output_type": "display_data",
          "data": {
            "text/plain": [
              "<Figure size 864x504 with 1 Axes>"
            ],
            "image/png": "[encoded data removed]"
          },
          "metadata": {
            "needs_background": "light"
          }
        }
      ]
    },
    {
      "cell_type": "markdown",
      "metadata": {
        "id": "kb99Rh93y2OE"
      },
      "source": [
        "This scatter plot between the actual and predicted prices follow almost a straight line which suggests the predicted prices are close to the actual prices of a car.  "
      ]
    },
    {
      "cell_type": "markdown",
      "metadata": {
        "id": "mrFgj8XXw7Sb"
      },
      "source": [
        "---"
      ]
    },
    {
      "cell_type": "markdown",
      "metadata": {
        "id": "dNrWpUO0w49P"
      },
      "source": [
        "#### Activity 4: Prediction on Test Set\n",
        "\n",
        "Let's repeat the model evaluation using the test set.\n",
        "\n",
        "Let's first create the `X_test` dataset using the same features finalized for the training data `X_train_final` using RFE."
      ]
    },
    {
      "cell_type": "code",
      "metadata": {
        "id": "hO95Q2IxFzkn",
        "colab": {
          "base_uri": "https://localhost:8080/",
          "height": 424
        },
        "outputId": "81981da1-f67b-4af7-9eb9-630e89668801"
      },
      "source": [
        "# S4.1: Predict the car prices on the test set.\n",
        "x_test_final = X_test[x_train_final.columns]\n",
        "x_test_final"
      ],
      "execution_count": null,
      "outputs": [
        {
          "output_type": "execute_result",
          "data": {
            "text/plain": [
              "     carwidth  enginesize  horsepower  drivewheel_fwd  car_company_buick\n",
              "15   0.571482    1.939489    2.162700               0                  0\n",
              "9    1.056186    0.102198    1.579135               0                  0\n",
              "100 -0.252515   -0.156907   -0.091984               1                  0\n",
              "132  0.377600   -0.133352    0.252850               1                  0\n",
              "68   2.219476    1.327059    0.597684               0                  1\n",
              "..        ...         ...         ...             ...                ...\n",
              "56  -0.010163   -1.334657    0.014119               0                  0\n",
              "128 -0.349456    1.586164    2.825842               0                  0\n",
              "76  -0.640279   -0.816447   -0.861229               1                  0\n",
              "144 -0.155574   -0.439567   -0.489870               0                  0\n",
              "104  1.056186    1.279949    1.579135               0                  0\n",
              "\n",
              "[62 rows x 5 columns]"
            ],
            "text/html": [
              "\n",
              "  <div id=\"df-7beb447f-53fa-4d0d-bafd-3fe96377dd0c\">\n",
              "    <div class=\"colab-df-container\">\n",
              "      <div>\n",
              "<style scoped>\n",
              "    .dataframe tbody tr th:only-of-type {\n",
              "        vertical-align: middle;\n",
              "    }\n",
              "\n",
              "    .dataframe tbody tr th {\n",
              "        vertical-align: top;\n",
              "    }\n",
              "\n",
              "    .dataframe thead th {\n",
              "        text-align: right;\n",
              "    }\n",
              "</style>\n",
              "<table border=\"1\" class=\"dataframe\">\n",
              "  <thead>\n",
              "    <tr style=\"text-align: right;\">\n",
              "      <th></th>\n",
              "      <th>carwidth</th>\n",
              "      <th>enginesize</th>\n",
              "      <th>horsepower</th>\n",
              "      <th>drivewheel_fwd</th>\n",
              "      <th>car_company_buick</th>\n",
              "    </tr>\n",
              "  </thead>\n",
              "  <tbody>\n",
              "    <tr>\n",
              "      <th>15</th>\n",
              "      <td>0.571482</td>\n",
              "      <td>1.939489</td>\n",
              "      <td>2.162700</td>\n",
              "      <td>0</td>\n",
              "      <td>0</td>\n",
              "    </tr>\n",
              "    <tr>\n",
              "      <th>9</th>\n",
              "      <td>1.056186</td>\n",
              "      <td>0.102198</td>\n",
              "      <td>1.579135</td>\n",
              "      <td>0</td>\n",
              "      <td>0</td>\n",
              "    </tr>\n",
              "    <tr>\n",
              "      <th>100</th>\n",
              "      <td>-0.252515</td>\n",
              "      <td>-0.156907</td>\n",
              "      <td>-0.091984</td>\n",
              "      <td>1</td>\n",
              "      <td>0</td>\n",
              "    </tr>\n",
              "    <tr>\n",
              "      <th>132</th>\n",
              "      <td>0.377600</td>\n",
              "      <td>-0.133352</td>\n",
              "      <td>0.252850</td>\n",
              "      <td>1</td>\n",
              "      <td>0</td>\n",
              "    </tr>\n",
              "    <tr>\n",
              "      <th>68</th>\n",
              "      <td>2.219476</td>\n",
              "      <td>1.327059</td>\n",
              "      <td>0.597684</td>\n",
              "      <td>0</td>\n",
              "      <td>1</td>\n",
              "    </tr>\n",
              "    <tr>\n",
              "      <th>...</th>\n",
              "      <td>...</td>\n",
              "      <td>...</td>\n",
              "      <td>...</td>\n",
              "      <td>...</td>\n",
              "      <td>...</td>\n",
              "    </tr>\n",
              "    <tr>\n",
              "      <th>56</th>\n",
              "      <td>-0.010163</td>\n",
              "      <td>-1.334657</td>\n",
              "      <td>0.014119</td>\n",
              "      <td>0</td>\n",
              "      <td>0</td>\n",
              "    </tr>\n",
              "    <tr>\n",
              "      <th>128</th>\n",
              "      <td>-0.349456</td>\n",
              "      <td>1.586164</td>\n",
              "      <td>2.825842</td>\n",
              "      <td>0</td>\n",
              "      <td>0</td>\n",
              "    </tr>\n",
              "    <tr>\n",
              "      <th>76</th>\n",
              "      <td>-0.640279</td>\n",
              "      <td>-0.816447</td>\n",
              "      <td>-0.861229</td>\n",
              "      <td>1</td>\n",
              "      <td>0</td>\n",
              "    </tr>\n",
              "    <tr>\n",
              "      <th>144</th>\n",
              "      <td>-0.155574</td>\n",
              "      <td>-0.439567</td>\n",
              "      <td>-0.489870</td>\n",
              "      <td>0</td>\n",
              "      <td>0</td>\n",
              "    </tr>\n",
              "    <tr>\n",
              "      <th>104</th>\n",
              "      <td>1.056186</td>\n",
              "      <td>1.279949</td>\n",
              "      <td>1.579135</td>\n",
              "      <td>0</td>\n",
              "      <td>0</td>\n",
              "    </tr>\n",
              "  </tbody>\n",
              "</table>\n",
              "<p>62 rows × 5 columns</p>\n",
              "</div>\n",
              "      <button class=\"colab-df-convert\" onclick=\"convertToInteractive('df-7beb447f-53fa-4d0d-bafd-3fe96377dd0c')\"\n",
              "              title=\"Convert this dataframe to an interactive table.\"\n",
              "              style=\"display:none;\">\n",
              "        \n",
              "  <svg xmlns=\"http://www.w3.org/2000/svg\" height=\"24px\"viewBox=\"0 0 24 24\"\n",
              "       width=\"24px\">\n",
              "    <path d=\"M0 0h24v24H0V0z\" fill=\"none\"/>\n",
              "    <path d=\"M18.56 5.44l.94 2.06.94-2.06 2.06-.94-2.06-.94-.94-2.06-.94 2.06-2.06.94zm-11 1L8.5 8.5l.94-2.06 2.06-.94-2.06-.94L8.5 2.5l-.94 2.06-2.06.94zm10 10l.94 2.06.94-2.06 2.06-.94-2.06-.94-.94-2.06-.94 2.06-2.06.94z\"/><path d=\"M17.41 7.96l-1.37-1.37c-.4-.4-.92-.59-1.43-.59-.52 0-1.04.2-1.43.59L10.3 9.45l-7.72 7.72c-.78.78-.78 2.05 0 2.83L4 21.41c.39.39.9.59 1.41.59.51 0 1.02-.2 1.41-.59l7.78-7.78 2.81-2.81c.8-.78.8-2.07 0-2.86zM5.41 20L4 18.59l7.72-7.72 1.47 1.35L5.41 20z\"/>\n",
              "  </svg>\n",
              "      </button>\n",
              "      \n",
              "  <style>\n",
              "    .colab-df-container {\n",
              "      display:flex;\n",
              "      flex-wrap:wrap;\n",
              "      gap: 12px;\n",
              "    }\n",
              "\n",
              "    .colab-df-convert {\n",
              "      background-color: #E8F0FE;\n",
              "      border: none;\n",
              "      border-radius: 50%;\n",
              "      cursor: pointer;\n",
              "      display: none;\n",
              "      fill: #1967D2;\n",
              "      height: 32px;\n",
              "      padding: 0 0 0 0;\n",
              "      width: 32px;\n",
              "    }\n",
              "\n",
              "    .colab-df-convert:hover {\n",
              "      background-color: #E2EBFA;\n",
              "      box-shadow: 0px 1px 2px rgba(60, 64, 67, 0.3), 0px 1px 3px 1px rgba(60, 64, 67, 0.15);\n",
              "      fill: #174EA6;\n",
              "    }\n",
              "\n",
              "    [theme=dark] .colab-df-convert {\n",
              "      background-color: #3B4455;\n",
              "      fill: #D2E3FC;\n",
              "    }\n",
              "\n",
              "    [theme=dark] .colab-df-convert:hover {\n",
              "      background-color: #434B5C;\n",
              "      box-shadow: 0px 1px 3px 1px rgba(0, 0, 0, 0.15);\n",
              "      filter: drop-shadow(0px 1px 2px rgba(0, 0, 0, 0.3));\n",
              "      fill: #FFFFFF;\n",
              "    }\n",
              "  </style>\n",
              "\n",
              "      <script>\n",
              "        const buttonEl =\n",
              "          document.querySelector('#df-7beb447f-53fa-4d0d-bafd-3fe96377dd0c button.colab-df-convert');\n",
              "        buttonEl.style.display =\n",
              "          google.colab.kernel.accessAllowed ? 'block' : 'none';\n",
              "\n",
              "        async function convertToInteractive(key) {\n",
              "          const element = document.querySelector('#df-7beb447f-53fa-4d0d-bafd-3fe96377dd0c');\n",
              "          const dataTable =\n",
              "            await google.colab.kernel.invokeFunction('convertToInteractive',\n",
              "                                                     [key], {});\n",
              "          if (!dataTable) return;\n",
              "\n",
              "          const docLinkHtml = 'Like what you see? Visit the ' +\n",
              "            '<a target=\"_blank\" href=https://colab.research.google.com/notebooks/data_table.ipynb>data table notebook</a>'\n",
              "            + ' to learn more about interactive tables.';\n",
              "          element.innerHTML = '';\n",
              "          dataTable['output_type'] = 'display_data';\n",
              "          await google.colab.output.renderOutput(dataTable, element);\n",
              "          const docLink = document.createElement('div');\n",
              "          docLink.innerHTML = docLinkHtml;\n",
              "          element.appendChild(docLink);\n",
              "        }\n",
              "      </script>\n",
              "    </div>\n",
              "  </div>\n",
              "  "
            ]
          },
          "metadata": {},
          "execution_count": 40
        }
      ]
    },
    {
      "cell_type": "code",
      "source": [
        "X_test.head()"
      ],
      "metadata": {
        "colab": {
          "base_uri": "https://localhost:8080/",
          "height": 299
        },
        "id": "5bpK71vp07Ly",
        "outputId": "40e99046-ffb5-4045-b48f-7f1b6920b84c"
      },
      "execution_count": null,
      "outputs": [
        {
          "output_type": "execute_result",
          "data": {
            "text/plain": [
              "     symboling  doornumber  wheelbase  carlength  carwidth  carheight  \\\n",
              "15   -0.630877    0.871198   0.867439   1.344622  0.571482   0.898461   \n",
              "9    -0.630877   -1.129331   0.192855   0.456344  1.056186  -0.662955   \n",
              "100  -0.630877    0.871198  -0.195031   0.061553 -0.252515   0.476457   \n",
              "132   1.715986   -1.129331   0.125397   1.147227  0.377600   1.067263   \n",
              "68   -1.413165    0.871198   1.963639   1.500893  2.219476   2.164474   \n",
              "\n",
              "     curbweight  cylindernumber  enginesize  boreratio  ...  \\\n",
              "15     1.378863        1.813840    1.939489   1.002539  ...   \n",
              "9      1.037614        0.742811    0.102198  -0.823429  ...   \n",
              "100   -0.410282       -0.328219   -0.156907  -0.078136  ...   \n",
              "132    0.276071       -0.328219   -0.133352   0.704422  ...   \n",
              "68     2.381400        0.742811    1.327059   0.853481  ...   \n",
              "\n",
              "     car_company_nissan  car_company_peugeot  car_company_plymouth  \\\n",
              "15                    0                    0                     0   \n",
              "9                     0                    0                     0   \n",
              "100                   1                    0                     0   \n",
              "132                   0                    0                     0   \n",
              "68                    0                    0                     0   \n",
              "\n",
              "     car_company_porsche  car_company_renault  car_company_saab  \\\n",
              "15                     0                    0                 0   \n",
              "9                      0                    0                 0   \n",
              "100                    0                    0                 0   \n",
              "132                    0                    0                 1   \n",
              "68                     0                    0                 0   \n",
              "\n",
              "     car_company_subaru  car_company_toyota  car_company_volkswagen  \\\n",
              "15                    0                   0                       0   \n",
              "9                     0                   0                       0   \n",
              "100                   0                   0                       0   \n",
              "132                   0                   0                       0   \n",
              "68                    0                   0                       0   \n",
              "\n",
              "     car_company_volvo  \n",
              "15                   0  \n",
              "9                    0  \n",
              "100                  0  \n",
              "132                  0  \n",
              "68                   0  \n",
              "\n",
              "[5 rows x 59 columns]"
            ],
            "text/html": [
              "\n",
              "  <div id=\"df-db4b0457-265e-45f5-8bc0-503b609a1908\">\n",
              "    <div class=\"colab-df-container\">\n",
              "      <div>\n",
              "<style scoped>\n",
              "    .dataframe tbody tr th:only-of-type {\n",
              "        vertical-align: middle;\n",
              "    }\n",
              "\n",
              "    .dataframe tbody tr th {\n",
              "        vertical-align: top;\n",
              "    }\n",
              "\n",
              "    .dataframe thead th {\n",
              "        text-align: right;\n",
              "    }\n",
              "</style>\n",
              "<table border=\"1\" class=\"dataframe\">\n",
              "  <thead>\n",
              "    <tr style=\"text-align: right;\">\n",
              "      <th></th>\n",
              "      <th>symboling</th>\n",
              "      <th>doornumber</th>\n",
              "      <th>wheelbase</th>\n",
              "      <th>carlength</th>\n",
              "      <th>carwidth</th>\n",
              "      <th>carheight</th>\n",
              "      <th>curbweight</th>\n",
              "      <th>cylindernumber</th>\n",
              "      <th>enginesize</th>\n",
              "      <th>boreratio</th>\n",
              "      <th>...</th>\n",
              "      <th>car_company_nissan</th>\n",
              "      <th>car_company_peugeot</th>\n",
              "      <th>car_company_plymouth</th>\n",
              "      <th>car_company_porsche</th>\n",
              "      <th>car_company_renault</th>\n",
              "      <th>car_company_saab</th>\n",
              "      <th>car_company_subaru</th>\n",
              "      <th>car_company_toyota</th>\n",
              "      <th>car_company_volkswagen</th>\n",
              "      <th>car_company_volvo</th>\n",
              "    </tr>\n",
              "  </thead>\n",
              "  <tbody>\n",
              "    <tr>\n",
              "      <th>15</th>\n",
              "      <td>-0.630877</td>\n",
              "      <td>0.871198</td>\n",
              "      <td>0.867439</td>\n",
              "      <td>1.344622</td>\n",
              "      <td>0.571482</td>\n",
              "      <td>0.898461</td>\n",
              "      <td>1.378863</td>\n",
              "      <td>1.813840</td>\n",
              "      <td>1.939489</td>\n",
              "      <td>1.002539</td>\n",
              "      <td>...</td>\n",
              "      <td>0</td>\n",
              "      <td>0</td>\n",
              "      <td>0</td>\n",
              "      <td>0</td>\n",
              "      <td>0</td>\n",
              "      <td>0</td>\n",
              "      <td>0</td>\n",
              "      <td>0</td>\n",
              "      <td>0</td>\n",
              "      <td>0</td>\n",
              "    </tr>\n",
              "    <tr>\n",
              "      <th>9</th>\n",
              "      <td>-0.630877</td>\n",
              "      <td>-1.129331</td>\n",
              "      <td>0.192855</td>\n",
              "      <td>0.456344</td>\n",
              "      <td>1.056186</td>\n",
              "      <td>-0.662955</td>\n",
              "      <td>1.037614</td>\n",
              "      <td>0.742811</td>\n",
              "      <td>0.102198</td>\n",
              "      <td>-0.823429</td>\n",
              "      <td>...</td>\n",
              "      <td>0</td>\n",
              "      <td>0</td>\n",
              "      <td>0</td>\n",
              "      <td>0</td>\n",
              "      <td>0</td>\n",
              "      <td>0</td>\n",
              "      <td>0</td>\n",
              "      <td>0</td>\n",
              "      <td>0</td>\n",
              "      <td>0</td>\n",
              "    </tr>\n",
              "    <tr>\n",
              "      <th>100</th>\n",
              "      <td>-0.630877</td>\n",
              "      <td>0.871198</td>\n",
              "      <td>-0.195031</td>\n",
              "      <td>0.061553</td>\n",
              "      <td>-0.252515</td>\n",
              "      <td>0.476457</td>\n",
              "      <td>-0.410282</td>\n",
              "      <td>-0.328219</td>\n",
              "      <td>-0.156907</td>\n",
              "      <td>-0.078136</td>\n",
              "      <td>...</td>\n",
              "      <td>1</td>\n",
              "      <td>0</td>\n",
              "      <td>0</td>\n",
              "      <td>0</td>\n",
              "      <td>0</td>\n",
              "      <td>0</td>\n",
              "      <td>0</td>\n",
              "      <td>0</td>\n",
              "      <td>0</td>\n",
              "      <td>0</td>\n",
              "    </tr>\n",
              "    <tr>\n",
              "      <th>132</th>\n",
              "      <td>1.715986</td>\n",
              "      <td>-1.129331</td>\n",
              "      <td>0.125397</td>\n",
              "      <td>1.147227</td>\n",
              "      <td>0.377600</td>\n",
              "      <td>1.067263</td>\n",
              "      <td>0.276071</td>\n",
              "      <td>-0.328219</td>\n",
              "      <td>-0.133352</td>\n",
              "      <td>0.704422</td>\n",
              "      <td>...</td>\n",
              "      <td>0</td>\n",
              "      <td>0</td>\n",
              "      <td>0</td>\n",
              "      <td>0</td>\n",
              "      <td>0</td>\n",
              "      <td>1</td>\n",
              "      <td>0</td>\n",
              "      <td>0</td>\n",
              "      <td>0</td>\n",
              "      <td>0</td>\n",
              "    </tr>\n",
              "    <tr>\n",
              "      <th>68</th>\n",
              "      <td>-1.413165</td>\n",
              "      <td>0.871198</td>\n",
              "      <td>1.963639</td>\n",
              "      <td>1.500893</td>\n",
              "      <td>2.219476</td>\n",
              "      <td>2.164474</td>\n",
              "      <td>2.381400</td>\n",
              "      <td>0.742811</td>\n",
              "      <td>1.327059</td>\n",
              "      <td>0.853481</td>\n",
              "      <td>...</td>\n",
              "      <td>0</td>\n",
              "      <td>0</td>\n",
              "      <td>0</td>\n",
              "      <td>0</td>\n",
              "      <td>0</td>\n",
              "      <td>0</td>\n",
              "      <td>0</td>\n",
              "      <td>0</td>\n",
              "      <td>0</td>\n",
              "      <td>0</td>\n",
              "    </tr>\n",
              "  </tbody>\n",
              "</table>\n",
              "<p>5 rows × 59 columns</p>\n",
              "</div>\n",
              "      <button class=\"colab-df-convert\" onclick=\"convertToInteractive('df-db4b0457-265e-45f5-8bc0-503b609a1908')\"\n",
              "              title=\"Convert this dataframe to an interactive table.\"\n",
              "              style=\"display:none;\">\n",
              "        \n",
              "  <svg xmlns=\"http://www.w3.org/2000/svg\" height=\"24px\"viewBox=\"0 0 24 24\"\n",
              "       width=\"24px\">\n",
              "    <path d=\"M0 0h24v24H0V0z\" fill=\"none\"/>\n",
              "    <path d=\"M18.56 5.44l.94 2.06.94-2.06 2.06-.94-2.06-.94-.94-2.06-.94 2.06-2.06.94zm-11 1L8.5 8.5l.94-2.06 2.06-.94-2.06-.94L8.5 2.5l-.94 2.06-2.06.94zm10 10l.94 2.06.94-2.06 2.06-.94-2.06-.94-.94-2.06-.94 2.06-2.06.94z\"/><path d=\"M17.41 7.96l-1.37-1.37c-.4-.4-.92-.59-1.43-.59-.52 0-1.04.2-1.43.59L10.3 9.45l-7.72 7.72c-.78.78-.78 2.05 0 2.83L4 21.41c.39.39.9.59 1.41.59.51 0 1.02-.2 1.41-.59l7.78-7.78 2.81-2.81c.8-.78.8-2.07 0-2.86zM5.41 20L4 18.59l7.72-7.72 1.47 1.35L5.41 20z\"/>\n",
              "  </svg>\n",
              "      </button>\n",
              "      \n",
              "  <style>\n",
              "    .colab-df-container {\n",
              "      display:flex;\n",
              "      flex-wrap:wrap;\n",
              "      gap: 12px;\n",
              "    }\n",
              "\n",
              "    .colab-df-convert {\n",
              "      background-color: #E8F0FE;\n",
              "      border: none;\n",
              "      border-radius: 50%;\n",
              "      cursor: pointer;\n",
              "      display: none;\n",
              "      fill: #1967D2;\n",
              "      height: 32px;\n",
              "      padding: 0 0 0 0;\n",
              "      width: 32px;\n",
              "    }\n",
              "\n",
              "    .colab-df-convert:hover {\n",
              "      background-color: #E2EBFA;\n",
              "      box-shadow: 0px 1px 2px rgba(60, 64, 67, 0.3), 0px 1px 3px 1px rgba(60, 64, 67, 0.15);\n",
              "      fill: #174EA6;\n",
              "    }\n",
              "\n",
              "    [theme=dark] .colab-df-convert {\n",
              "      background-color: #3B4455;\n",
              "      fill: #D2E3FC;\n",
              "    }\n",
              "\n",
              "    [theme=dark] .colab-df-convert:hover {\n",
              "      background-color: #434B5C;\n",
              "      box-shadow: 0px 1px 3px 1px rgba(0, 0, 0, 0.15);\n",
              "      filter: drop-shadow(0px 1px 2px rgba(0, 0, 0, 0.3));\n",
              "      fill: #FFFFFF;\n",
              "    }\n",
              "  </style>\n",
              "\n",
              "      <script>\n",
              "        const buttonEl =\n",
              "          document.querySelector('#df-db4b0457-265e-45f5-8bc0-503b609a1908 button.colab-df-convert');\n",
              "        buttonEl.style.display =\n",
              "          google.colab.kernel.accessAllowed ? 'block' : 'none';\n",
              "\n",
              "        async function convertToInteractive(key) {\n",
              "          const element = document.querySelector('#df-db4b0457-265e-45f5-8bc0-503b609a1908');\n",
              "          const dataTable =\n",
              "            await google.colab.kernel.invokeFunction('convertToInteractive',\n",
              "                                                     [key], {});\n",
              "          if (!dataTable) return;\n",
              "\n",
              "          const docLinkHtml = 'Like what you see? Visit the ' +\n",
              "            '<a target=\"_blank\" href=https://colab.research.google.com/notebooks/data_table.ipynb>data table notebook</a>'\n",
              "            + ' to learn more about interactive tables.';\n",
              "          element.innerHTML = '';\n",
              "          dataTable['output_type'] = 'display_data';\n",
              "          await google.colab.output.renderOutput(dataTable, element);\n",
              "          const docLink = document.createElement('div');\n",
              "          docLink.innerHTML = docLinkHtml;\n",
              "          element.appendChild(docLink);\n",
              "        }\n",
              "      </script>\n",
              "    </div>\n",
              "  </div>\n",
              "  "
            ]
          },
          "metadata": {},
          "execution_count": 39
        }
      ]
    },
    {
      "cell_type": "markdown",
      "metadata": {
        "id": "J-spmztLECA0"
      },
      "source": [
        "Let us get the predictions for the testing data using the recent model and `predict()` function"
      ]
    },
    {
      "cell_type": "code",
      "metadata": {
        "id": "1rZdybWlFQPC"
      },
      "source": [
        "# S4.2: Create a variable and store the predictions of the testing dataset returned by `predict()` in it.\n",
        "x_test_pred = skl_linreg_2.predict(x_test_final)"
      ],
      "execution_count": null,
      "outputs": []
    },
    {
      "cell_type": "markdown",
      "metadata": {
        "id": "8JK_Seb0FSDc"
      },
      "source": [
        "Now let's evaluate the efficacy of the model using the $R^2$, adjusted-$R^2$ MAE, MSE, RMSE and MSLE parameters."
      ]
    },
    {
      "cell_type": "code",
      "metadata": {
        "id": "xzE_REsuMGQZ",
        "colab": {
          "base_uri": "https://localhost:8080/"
        },
        "outputId": "dc539e45-4ebd-4563-9ef1-ed6c60bd4bb5"
      },
      "source": [
        "# S4.3: Evaluate the linear regression model using the 'r2_score', 'mean_squared_error' & 'mean_absolute_error', 'mean_squared_log_error' functions of the 'sklearn' module.\n",
        "print(r2_score(x_test_pred, y_test))\n",
        "print(mean_squared_error(x_test_pred, y_test))\n",
        "print(mean_absolute_error(x_test_pred, y_test))\n",
        "print(np.sqrt(mean_absolute_error(x_test_pred, y_test)))"
      ],
      "execution_count": null,
      "outputs": [
        {
          "output_type": "stream",
          "name": "stdout",
          "text": [
            "0.7698275477287361\n",
            "14513862.919457028\n",
            "2566.6627337313357\n",
            "50.66224169666533\n"
          ]
        }
      ]
    },
    {
      "cell_type": "markdown",
      "metadata": {
        "id": "0zqGMXyAFmkt"
      },
      "source": [
        "Let us plot the histogram of the error terms and predictions of the testing data and see what it looks like to evaluate the model on the residual analysis."
      ]
    },
    {
      "cell_type": "code",
      "metadata": {
        "id": "TkzY6ZcvMhR0",
        "colab": {
          "base_uri": "https://localhost:8080/",
          "height": 477
        },
        "outputId": "a3442b8f-ae48-45e9-db6e-9d054df029eb"
      },
      "source": [
        "# S4.3: Create a histogram for the errors obtained in the predicted values for the testing set.\n",
        "x_test_resid = y_test - x_test_pred\n",
        "\n",
        "plt.figure(figsize = (12,7))\n",
        "sns.histplot(x_test_resid)\n",
        "plt.axvline()\n",
        "plt.legend()\n",
        "plt.show()\n",
        "\n",
        "print(x_test_resid.mean())"
      ],
      "execution_count": null,
      "outputs": [
        {
          "output_type": "stream",
          "name": "stderr",
          "text": [
            "WARNING:matplotlib.legend:No handles with labels found to put in legend.\n"
          ]
        },
        {
          "output_type": "display_data",
          "data": {
            "text/plain": [
              "<Figure size 864x504 with 1 Axes>"
            ],
            "image/png": "[encoded data removed]"
          },
          "metadata": {
            "needs_background": "light"
          }
        },
        {
          "output_type": "stream",
          "name": "stdout",
          "text": [
            "-694.5849876483253\n"
          ]
        }
      ]
    },
    {
      "cell_type": "markdown",
      "metadata": {
        "id": "Nyh79zzYzMcH"
      },
      "source": [
        "The mean of residuals should have been zero. But the MSLE is low. So, we can still trust the reliability of the linear regression model that we built.\n",
        "\n",
        "\n",
        "Let us observe the trend between the actual prices and the residuals for the test set using the scatter plot."
      ]
    },
    {
      "cell_type": "code",
      "metadata": {
        "id": "HbZLSbPYM52g",
        "colab": {
          "base_uri": "https://localhost:8080/",
          "height": 445
        },
        "outputId": "36874447-9c75-4ff8-98b1-431a947ef75c"
      },
      "source": [
        "# S4.4: Create a scatter plot for the errors obtained in the actual values for the test set for checking homoscedasticity .\n",
        "plt.figure(figsize = (12,7))\n",
        "plt.scatter(x_test_resid, y_test)\n",
        "plt.axhline(y = x_test_resid.mean())\n",
        "plt.legend()\n",
        "plt.show()"
      ],
      "execution_count": null,
      "outputs": [
        {
          "output_type": "stream",
          "name": "stderr",
          "text": [
            "WARNING:matplotlib.legend:No handles with labels found to put in legend.\n"
          ]
        },
        {
          "output_type": "display_data",
          "data": {
            "text/plain": [
              "<Figure size 864x504 with 1 Axes>"
            ],
            "image/png": "[encoded data removed]"
          },
          "metadata": {
            "needs_background": "light"
          }
        }
      ]
    },
    {
      "cell_type": "markdown",
      "metadata": {
        "id": "E8dsBhCNzc7R"
      },
      "source": [
        "The scatter plot between the residuals and the actual prices for the test set as well doesn't follow any kind of pattern. The dots are randomly scattered which is again exactly what we want.\n",
        "\n",
        "\n",
        "Let us observe the trend between the actual values and the predictions of the testing dataset."
      ]
    },
    {
      "cell_type": "code",
      "metadata": {
        "id": "7WiBsw-gM5pk",
        "colab": {
          "base_uri": "https://localhost:8080/",
          "height": 445
        },
        "outputId": "8cf4f4fb-f058-4fec-84cd-43e1c9cbb5ed"
      },
      "source": [
        "# S4.5: Create a scatter plot for the actual values and the predictions of the testing dataset.\n",
        "plt.figure(figsize = (12,7))\n",
        "plt.scatter(y_test, x_test_pred)\n",
        "plt.axhline(y = y_test.mean())\n",
        "plt.legend()\n",
        "plt.show()"
      ],
      "execution_count": null,
      "outputs": [
        {
          "output_type": "stream",
          "name": "stderr",
          "text": [
            "WARNING:matplotlib.legend:No handles with labels found to put in legend.\n"
          ]
        },
        {
          "output_type": "display_data",
          "data": {
            "text/plain": [
              "<Figure size 864x504 with 1 Axes>"
            ],
            "image/png": "[encoded data removed]"
          },
          "metadata": {
            "needs_background": "light"
          }
        }
      ]
    },
    {
      "cell_type": "markdown",
      "metadata": {
        "id": "nhV9p3rRzjSB"
      },
      "source": [
        "This scatter plot between the actual and predicted prices follow somewhat straight line which suggests that most of the predicted prices are close to the actual prices of a car.  \n",
        "\n",
        "So finally the most important features and their corresponding regression coeffients are\n",
        "\n",
        "|Feature|Coefficient|\n",
        "|-|-|\n",
        "|`carwidth`|1696.2271|\n",
        "|`enginesize`|2636.6328|\n",
        "|`horsepower`|2363.8354|\n",
        "|`drivewheel_fwd`|-2016.6827|\n",
        "|`car_company_buick`|7984.8761|\n",
        "\n",
        "Hence, the regression equation is\n",
        "\n",
        "$$Y = 14360 + 1696.2271x_1 + 2636.6328x_2 + 2363.8354x_3 - 2016.6827x_4 + 7984.8761x_5$$\n",
        "\n",
        "where\n",
        "\n",
        "- $Y$ is the price of a car\n",
        "\n",
        "- $x_1$ is `carwidth`\n",
        "\n",
        "- $x_2$ is `enginesize`\n",
        "\n",
        "- $x_3$ is `horsepower`\n",
        "\n",
        "- $x_4$ is `drivewheel_fwd`\n",
        "\n",
        "- $x_5$ is `car_company_buick`\n",
        "\n",
        "This concludes linear regression. Let's stop here. from the next class onwards, you will learn another classification-based machine learning algorithm called logistic regression."
      ]
    },
    {
      "cell_type": "markdown",
      "metadata": {
        "id": "KmAe4h8a6d5u"
      },
      "source": [
        "---"
      ]
    }
  ]
}