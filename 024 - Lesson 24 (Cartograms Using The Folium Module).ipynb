{
  "nbformat": 4,
  "nbformat_minor": 0,
  "metadata": {
    "colab": {
      "provenance": [],
      "include_colab_link": true
    },
    "kernelspec": {
      "name": "python3",
      "display_name": "Python 3"
    }
  },
  "cells": [
    {
      "cell_type": "markdown",
      "metadata": {
        "id": "view-in-github",
        "colab_type": "text"
      },
      "source": [
        "<a href=\"https://colab.research.google.com/github/rohansiddam/Python-Journey/blob/main/024%20-%20Lesson%2024%20(Cartograms%20Using%20The%20Folium%20Module).ipynb\" target=\"_parent\"><img src=\"https://colab.research.google.com/assets/colab-badge.svg\" alt=\"Open In Colab\"/></a>"
      ]
    },
    {
      "cell_type": "markdown",
      "metadata": {
        "id": "aMbswDYFUt_1"
      },
      "source": [
        "# Lesson 24: Cartograms Using The Folium Module"
      ]
    },
    {
      "cell_type": "markdown",
      "metadata": {
        "id": "dmruqgPqb9BH"
      },
      "source": [
        "### Teacher-Student Activities\n",
        "\n",
        "In the previous classes, we learnt how to remove the unwanted data points from a data set and how to treat the missing values. In this class, we will create a cartogram using the Folium package. There are other Python packages to create cartograms but Folium is the easiest one to get started. If we require other modules to create maps in some problem statement then we will explore them as well.\n",
        "\n",
        "A cartogram is simply a world map marked with the country-wise or state-wise trend in data. We will create a cartogram for the landing sites of meteorites. It will have markers for the places from where a meteorite was found to pin-point the meteorite landing site. We will create such cartograms in the next class. In today's class, we will create a simple map of Mumbai city to understand the basics of creating a map in Python using the `folium` module.\n"
      ]
    },
    {
      "cell_type": "markdown",
      "metadata": {
        "id": "0btx_ehOLDK5"
      },
      "source": [
        "---"
      ]
    },
    {
      "cell_type": "markdown",
      "metadata": {
        "id": "nAuPfPx5Gwxb"
      },
      "source": [
        "#### Activity 1: Cartogram Using The `folium` Module\n",
        "\n",
        "Now, let's a simple map of Mumbai to get started with cartograms. The location coordinates of the Mumbai city is `19.0760` and `72.8777`. To get the coordinates of a city, just google `city_name coordinates`.\n",
        "\n",
        "To create a cartogram (or a map) you first need to import the `folium` module.\n",
        "\n",
        "```\n",
        "import folium\n",
        "```\n",
        "\n",
        "Then you need to call the `Map()` function which exists in the `folium` module. It mandatorily requires the coordinates (latitude and longitude) of a place.\n",
        "\n",
        "```\n",
        "folium.Map(location=[latitude, longitude])\n",
        "```"
      ]
    },
    {
      "cell_type": "code",
      "metadata": {
        "id": "2Ijct6UbHrGp",
        "colab": {
          "base_uri": "https://localhost:8080/",
          "height": 968
        },
        "outputId": "13f3b37d-e783-40f5-966d-4817157389fe"
      },
      "source": [
        "# Teacher Action: Create a map for the location having the coordinates: 19.0760 and 72.8777.\n",
        "import folium\n",
        "disneyland = folium.Map(location = [33.8121, -117.9190])\n",
        "disneyland"
      ],
      "execution_count": null,
      "outputs": [
        {
          "output_type": "execute_result",
          "data": {
            "text/plain": [
              "<folium.folium.Map at 0x7f1e16754410>"
            ],
            "text/html": [
              "<div style=\"width:100%;\"><div style=\"position:relative;width:100%;height:0;padding-bottom:60%;\"><span style=\"color:#565656\">Make this Notebook Trusted to load map: File -> Trust Notebook</span><iframe srcdoc=\"&lt;!DOCTYPE html&gt;\n",
              "&lt;head&gt;    \n",
              "    &lt;meta http-equiv=&quot;content-type&quot; content=&quot;text/html; charset=UTF-8&quot; /&gt;\n",
              "    &lt;script&gt;L_PREFER_CANVAS=false; L_NO_TOUCH=false; L_DISABLE_3D=false;&lt;/script&gt;\n",
              "    &lt;script src=&quot;https://cdn.jsdelivr.net/npm/leaflet@1.4.0/dist/leaflet.js&quot;&gt;&lt;/script&gt;\n",
              "    &lt;script src=&quot;https://code.jquery.com/jquery-1.12.4.min.js&quot;&gt;&lt;/script&gt;\n",
              "    &lt;script src=&quot;https://maxcdn.bootstrapcdn.com/bootstrap/3.2.0/js/bootstrap.min.js&quot;&gt;&lt;/script&gt;\n",
              "    &lt;script src=&quot;https://cdnjs.cloudflare.com/ajax/libs/Leaflet.awesome-markers/2.0.2/leaflet.awesome-markers.js&quot;&gt;&lt;/script&gt;\n",
              "    &lt;link rel=&quot;stylesheet&quot; href=&quot;https://cdn.jsdelivr.net/npm/leaflet@1.4.0/dist/leaflet.css&quot;/&gt;\n",
              "    &lt;link rel=&quot;stylesheet&quot; href=&quot;https://maxcdn.bootstrapcdn.com/bootstrap/3.2.0/css/bootstrap.min.css&quot;/&gt;\n",
              "    &lt;link rel=&quot;stylesheet&quot; href=&quot;https://maxcdn.bootstrapcdn.com/bootstrap/3.2.0/css/bootstrap-theme.min.css&quot;/&gt;\n",
              "    &lt;link rel=&quot;stylesheet&quot; href=&quot;https://maxcdn.bootstrapcdn.com/font-awesome/4.6.3/css/font-awesome.min.css&quot;/&gt;\n",
              "    &lt;link rel=&quot;stylesheet&quot; href=&quot;https://cdnjs.cloudflare.com/ajax/libs/Leaflet.awesome-markers/2.0.2/leaflet.awesome-markers.css&quot;/&gt;\n",
              "    &lt;link rel=&quot;stylesheet&quot; href=&quot;https://rawcdn.githack.com/python-visualization/folium/master/folium/templates/leaflet.awesome.rotate.css&quot;/&gt;\n",
              "    &lt;style&gt;html, body {width: 100%;height: 100%;margin: 0;padding: 0;}&lt;/style&gt;\n",
              "    &lt;style&gt;#map {position:absolute;top:0;bottom:0;right:0;left:0;}&lt;/style&gt;\n",
              "    \n",
              "    &lt;meta name=&quot;viewport&quot; content=&quot;width=device-width,\n",
              "        initial-scale=1.0, maximum-scale=1.0, user-scalable=no&quot; /&gt;\n",
              "    &lt;style&gt;#map_16f1e4beb1181a9511a345778ac9ce93 {\n",
              "        position: relative;\n",
              "        width: 100.0%;\n",
              "        height: 100.0%;\n",
              "        left: 0.0%;\n",
              "        top: 0.0%;\n",
              "        }\n",
              "    &lt;/style&gt;\n",
              "&lt;/head&gt;\n",
              "&lt;body&gt;    \n",
              "    \n",
              "    &lt;div class=&quot;folium-map&quot; id=&quot;map_16f1e4beb1181a9511a345778ac9ce93&quot; &gt;&lt;/div&gt;\n",
              "&lt;/body&gt;\n",
              "&lt;script&gt;    \n",
              "    \n",
              "    \n",
              "        var bounds = null;\n",
              "    \n",
              "\n",
              "    var map_16f1e4beb1181a9511a345778ac9ce93 = L.map(\n",
              "        &#x27;map_16f1e4beb1181a9511a345778ac9ce93&#x27;, {\n",
              "        center: [33.8121, -117.919],\n",
              "        zoom: 10,\n",
              "        maxBounds: bounds,\n",
              "        layers: [],\n",
              "        worldCopyJump: false,\n",
              "        crs: L.CRS.EPSG3857,\n",
              "        zoomControl: true,\n",
              "        });\n",
              "\n",
              "\n",
              "    \n",
              "    var tile_layer_533b5bb36bd36bc187fec5aa81fb627b = L.tileLayer(\n",
              "        &#x27;https://{s}.tile.openstreetmap.org/{z}/{x}/{y}.png&#x27;,\n",
              "        {\n",
              "        &quot;attribution&quot;: null,\n",
              "        &quot;detectRetina&quot;: false,\n",
              "        &quot;maxNativeZoom&quot;: 18,\n",
              "        &quot;maxZoom&quot;: 18,\n",
              "        &quot;minZoom&quot;: 0,\n",
              "        &quot;noWrap&quot;: false,\n",
              "        &quot;opacity&quot;: 1,\n",
              "        &quot;subdomains&quot;: &quot;abc&quot;,\n",
              "        &quot;tms&quot;: false\n",
              "}).addTo(map_16f1e4beb1181a9511a345778ac9ce93);\n",
              "&lt;/script&gt;\" style=\"position:absolute;width:100%;height:100%;left:0;top:0;border:none !important;\" allowfullscreen webkitallowfullscreen mozallowfullscreen></iframe></div></div>"
            ]
          },
          "metadata": {},
          "execution_count": 2
        }
      ]
    },
    {
      "cell_type": "markdown",
      "metadata": {
        "id": "OZeoMvqAIV3h"
      },
      "source": [
        "As you can see, the map of Mumbai is created. You can zoom into it and zoom out of it by scrolling up and down respectively, in the map.\n"
      ]
    },
    {
      "cell_type": "markdown",
      "metadata": {
        "id": "byLxYPx8LhBg"
      },
      "source": [
        "---"
      ]
    },
    {
      "cell_type": "markdown",
      "metadata": {
        "id": "0gIEvsOoLXhi"
      },
      "source": [
        "#### Activity 2: The `width` & `height` Parameters\n",
        "\n",
        "You can also set the size of the map by providing two more inputs to the `folium.Map()` function. They are the `width` and `height` values which vary between `'0%'` and `'100%'` for each parameter."
      ]
    },
    {
      "cell_type": "code",
      "metadata": {
        "id": "7q06eoQGKMHU",
        "colab": {
          "base_uri": "https://localhost:8080/",
          "height": 968
        },
        "outputId": "e0f18c4e-1dc0-48f3-eed0-af71f0d064d1"
      },
      "source": [
        "# Student Action: Resize the Mumbai map by setting the width='90%' and height='70%' inside the 'folium.Map()' function.\n",
        "disneyland = folium.Map(location = [33.8121, -117.9190], width = '90%', height = '60%')\n",
        "disneyland"
      ],
      "execution_count": null,
      "outputs": [
        {
          "output_type": "execute_result",
          "data": {
            "text/plain": [
              "<folium.folium.Map at 0x7f1e166b4050>"
            ],
            "text/html": [
              "<div style=\"width:100%;\"><div style=\"position:relative;width:100%;height:0;padding-bottom:60%;\"><span style=\"color:#565656\">Make this Notebook Trusted to load map: File -> Trust Notebook</span><iframe srcdoc=\"&lt;!DOCTYPE html&gt;\n",
              "&lt;head&gt;    \n",
              "    &lt;meta http-equiv=&quot;content-type&quot; content=&quot;text/html; charset=UTF-8&quot; /&gt;\n",
              "    &lt;script&gt;L_PREFER_CANVAS=false; L_NO_TOUCH=false; L_DISABLE_3D=false;&lt;/script&gt;\n",
              "    &lt;script src=&quot;https://cdn.jsdelivr.net/npm/leaflet@1.4.0/dist/leaflet.js&quot;&gt;&lt;/script&gt;\n",
              "    &lt;script src=&quot;https://code.jquery.com/jquery-1.12.4.min.js&quot;&gt;&lt;/script&gt;\n",
              "    &lt;script src=&quot;https://maxcdn.bootstrapcdn.com/bootstrap/3.2.0/js/bootstrap.min.js&quot;&gt;&lt;/script&gt;\n",
              "    &lt;script src=&quot;https://cdnjs.cloudflare.com/ajax/libs/Leaflet.awesome-markers/2.0.2/leaflet.awesome-markers.js&quot;&gt;&lt;/script&gt;\n",
              "    &lt;link rel=&quot;stylesheet&quot; href=&quot;https://cdn.jsdelivr.net/npm/leaflet@1.4.0/dist/leaflet.css&quot;/&gt;\n",
              "    &lt;link rel=&quot;stylesheet&quot; href=&quot;https://maxcdn.bootstrapcdn.com/bootstrap/3.2.0/css/bootstrap.min.css&quot;/&gt;\n",
              "    &lt;link rel=&quot;stylesheet&quot; href=&quot;https://maxcdn.bootstrapcdn.com/bootstrap/3.2.0/css/bootstrap-theme.min.css&quot;/&gt;\n",
              "    &lt;link rel=&quot;stylesheet&quot; href=&quot;https://maxcdn.bootstrapcdn.com/font-awesome/4.6.3/css/font-awesome.min.css&quot;/&gt;\n",
              "    &lt;link rel=&quot;stylesheet&quot; href=&quot;https://cdnjs.cloudflare.com/ajax/libs/Leaflet.awesome-markers/2.0.2/leaflet.awesome-markers.css&quot;/&gt;\n",
              "    &lt;link rel=&quot;stylesheet&quot; href=&quot;https://rawcdn.githack.com/python-visualization/folium/master/folium/templates/leaflet.awesome.rotate.css&quot;/&gt;\n",
              "    &lt;style&gt;html, body {width: 100%;height: 100%;margin: 0;padding: 0;}&lt;/style&gt;\n",
              "    &lt;style&gt;#map {position:absolute;top:0;bottom:0;right:0;left:0;}&lt;/style&gt;\n",
              "    \n",
              "    &lt;meta name=&quot;viewport&quot; content=&quot;width=device-width,\n",
              "        initial-scale=1.0, maximum-scale=1.0, user-scalable=no&quot; /&gt;\n",
              "    &lt;style&gt;#map_02010f345d7529fe4d63207feaa2b92a {\n",
              "        position: relative;\n",
              "        width: 90.0%;\n",
              "        height: 60.0%;\n",
              "        left: 0.0%;\n",
              "        top: 0.0%;\n",
              "        }\n",
              "    &lt;/style&gt;\n",
              "&lt;/head&gt;\n",
              "&lt;body&gt;    \n",
              "    \n",
              "    &lt;div class=&quot;folium-map&quot; id=&quot;map_02010f345d7529fe4d63207feaa2b92a&quot; &gt;&lt;/div&gt;\n",
              "&lt;/body&gt;\n",
              "&lt;script&gt;    \n",
              "    \n",
              "    \n",
              "        var bounds = null;\n",
              "    \n",
              "\n",
              "    var map_02010f345d7529fe4d63207feaa2b92a = L.map(\n",
              "        &#x27;map_02010f345d7529fe4d63207feaa2b92a&#x27;, {\n",
              "        center: [33.8121, -117.919],\n",
              "        zoom: 10,\n",
              "        maxBounds: bounds,\n",
              "        layers: [],\n",
              "        worldCopyJump: false,\n",
              "        crs: L.CRS.EPSG3857,\n",
              "        zoomControl: true,\n",
              "        });\n",
              "\n",
              "\n",
              "    \n",
              "    var tile_layer_fdcae037d805081fa504ae9b663bc00a = L.tileLayer(\n",
              "        &#x27;https://{s}.tile.openstreetmap.org/{z}/{x}/{y}.png&#x27;,\n",
              "        {\n",
              "        &quot;attribution&quot;: null,\n",
              "        &quot;detectRetina&quot;: false,\n",
              "        &quot;maxNativeZoom&quot;: 18,\n",
              "        &quot;maxZoom&quot;: 18,\n",
              "        &quot;minZoom&quot;: 0,\n",
              "        &quot;noWrap&quot;: false,\n",
              "        &quot;opacity&quot;: 1,\n",
              "        &quot;subdomains&quot;: &quot;abc&quot;,\n",
              "        &quot;tms&quot;: false\n",
              "}).addTo(map_02010f345d7529fe4d63207feaa2b92a);\n",
              "&lt;/script&gt;\" style=\"position:absolute;width:100%;height:100%;left:0;top:0;border:none !important;\" allowfullscreen webkitallowfullscreen mozallowfullscreen></iframe></div></div>"
            ]
          },
          "metadata": {},
          "execution_count": 3
        }
      ]
    },
    {
      "cell_type": "markdown",
      "metadata": {
        "id": "RKG7AbgbKqVa"
      },
      "source": [
        "As you can see, we have shortened the map size through the `width` and `height` parameters by defining their values inside the `folium.Map()` function."
      ]
    },
    {
      "cell_type": "markdown",
      "metadata": {
        "id": "-oUPX1mpLoPU"
      },
      "source": [
        "---"
      ]
    },
    {
      "cell_type": "markdown",
      "metadata": {
        "id": "Q3di0mEbLnXn"
      },
      "source": [
        "#### Activity 3: The `zoom_start` Parameter^^\n",
        "\n",
        "You can also set the initial zoom value using the `zoom_start` parameter inside the `folium.Map()` function, if you want to start the map with either a closer view or a farther view of the location in the map."
      ]
    },
    {
      "cell_type": "code",
      "metadata": {
        "id": "2ZnX9U8yNGlB",
        "colab": {
          "base_uri": "https://localhost:8080/",
          "height": 968
        },
        "outputId": "7a33f1a5-1335-440c-ea14-b5a985ab134b"
      },
      "source": [
        "# Student Action: Set the 'zoom_start' value equal to 15 inside the 'folium.Map()' function to get a closer view of Mumbai right from the start.\n",
        "# The number '15' is chosen randomly. You can set any 'zoom_start' value you wish to.\n",
        "disneyland = folium.Map(location = [33.8121, -117.9190], width = '90%', height = '60%', zoom_start = 15)\n",
        "disneyland"
      ],
      "execution_count": null,
      "outputs": [
        {
          "output_type": "execute_result",
          "data": {
            "text/plain": [
              "<folium.folium.Map at 0x7f1e16745490>"
            ],
            "text/html": [
              "<div style=\"width:100%;\"><div style=\"position:relative;width:100%;height:0;padding-bottom:60%;\"><span style=\"color:#565656\">Make this Notebook Trusted to load map: File -> Trust Notebook</span><iframe srcdoc=\"&lt;!DOCTYPE html&gt;\n",
              "&lt;head&gt;    \n",
              "    &lt;meta http-equiv=&quot;content-type&quot; content=&quot;text/html; charset=UTF-8&quot; /&gt;\n",
              "    &lt;script&gt;L_PREFER_CANVAS=false; L_NO_TOUCH=false; L_DISABLE_3D=false;&lt;/script&gt;\n",
              "    &lt;script src=&quot;https://cdn.jsdelivr.net/npm/leaflet@1.4.0/dist/leaflet.js&quot;&gt;&lt;/script&gt;\n",
              "    &lt;script src=&quot;https://code.jquery.com/jquery-1.12.4.min.js&quot;&gt;&lt;/script&gt;\n",
              "    &lt;script src=&quot;https://maxcdn.bootstrapcdn.com/bootstrap/3.2.0/js/bootstrap.min.js&quot;&gt;&lt;/script&gt;\n",
              "    &lt;script src=&quot;https://cdnjs.cloudflare.com/ajax/libs/Leaflet.awesome-markers/2.0.2/leaflet.awesome-markers.js&quot;&gt;&lt;/script&gt;\n",
              "    &lt;link rel=&quot;stylesheet&quot; href=&quot;https://cdn.jsdelivr.net/npm/leaflet@1.4.0/dist/leaflet.css&quot;/&gt;\n",
              "    &lt;link rel=&quot;stylesheet&quot; href=&quot;https://maxcdn.bootstrapcdn.com/bootstrap/3.2.0/css/bootstrap.min.css&quot;/&gt;\n",
              "    &lt;link rel=&quot;stylesheet&quot; href=&quot;https://maxcdn.bootstrapcdn.com/bootstrap/3.2.0/css/bootstrap-theme.min.css&quot;/&gt;\n",
              "    &lt;link rel=&quot;stylesheet&quot; href=&quot;https://maxcdn.bootstrapcdn.com/font-awesome/4.6.3/css/font-awesome.min.css&quot;/&gt;\n",
              "    &lt;link rel=&quot;stylesheet&quot; href=&quot;https://cdnjs.cloudflare.com/ajax/libs/Leaflet.awesome-markers/2.0.2/leaflet.awesome-markers.css&quot;/&gt;\n",
              "    &lt;link rel=&quot;stylesheet&quot; href=&quot;https://rawcdn.githack.com/python-visualization/folium/master/folium/templates/leaflet.awesome.rotate.css&quot;/&gt;\n",
              "    &lt;style&gt;html, body {width: 100%;height: 100%;margin: 0;padding: 0;}&lt;/style&gt;\n",
              "    &lt;style&gt;#map {position:absolute;top:0;bottom:0;right:0;left:0;}&lt;/style&gt;\n",
              "    \n",
              "    &lt;meta name=&quot;viewport&quot; content=&quot;width=device-width,\n",
              "        initial-scale=1.0, maximum-scale=1.0, user-scalable=no&quot; /&gt;\n",
              "    &lt;style&gt;#map_010135c82d41eb6d0741cff0f3a71105 {\n",
              "        position: relative;\n",
              "        width: 90.0%;\n",
              "        height: 60.0%;\n",
              "        left: 0.0%;\n",
              "        top: 0.0%;\n",
              "        }\n",
              "    &lt;/style&gt;\n",
              "&lt;/head&gt;\n",
              "&lt;body&gt;    \n",
              "    \n",
              "    &lt;div class=&quot;folium-map&quot; id=&quot;map_010135c82d41eb6d0741cff0f3a71105&quot; &gt;&lt;/div&gt;\n",
              "&lt;/body&gt;\n",
              "&lt;script&gt;    \n",
              "    \n",
              "    \n",
              "        var bounds = null;\n",
              "    \n",
              "\n",
              "    var map_010135c82d41eb6d0741cff0f3a71105 = L.map(\n",
              "        &#x27;map_010135c82d41eb6d0741cff0f3a71105&#x27;, {\n",
              "        center: [33.8121, -117.919],\n",
              "        zoom: 15,\n",
              "        maxBounds: bounds,\n",
              "        layers: [],\n",
              "        worldCopyJump: false,\n",
              "        crs: L.CRS.EPSG3857,\n",
              "        zoomControl: true,\n",
              "        });\n",
              "\n",
              "\n",
              "    \n",
              "    var tile_layer_c6ec0f0ba442a34eb76d10f336d2773d = L.tileLayer(\n",
              "        &#x27;https://{s}.tile.openstreetmap.org/{z}/{x}/{y}.png&#x27;,\n",
              "        {\n",
              "        &quot;attribution&quot;: null,\n",
              "        &quot;detectRetina&quot;: false,\n",
              "        &quot;maxNativeZoom&quot;: 18,\n",
              "        &quot;maxZoom&quot;: 18,\n",
              "        &quot;minZoom&quot;: 0,\n",
              "        &quot;noWrap&quot;: false,\n",
              "        &quot;opacity&quot;: 1,\n",
              "        &quot;subdomains&quot;: &quot;abc&quot;,\n",
              "        &quot;tms&quot;: false\n",
              "}).addTo(map_010135c82d41eb6d0741cff0f3a71105);\n",
              "&lt;/script&gt;\" style=\"position:absolute;width:100%;height:100%;left:0;top:0;border:none !important;\" allowfullscreen webkitallowfullscreen mozallowfullscreen></iframe></div></div>"
            ]
          },
          "metadata": {},
          "execution_count": 4
        }
      ]
    },
    {
      "cell_type": "markdown",
      "metadata": {
        "id": "daer2geSQsa0"
      },
      "source": [
        "As you can see, the map starts now with a closer view because of the high zoom value. You can adjust the `zoom_start` value based on your requirement."
      ]
    },
    {
      "cell_type": "markdown",
      "metadata": {
        "id": "iM0P1mG1QmkD"
      },
      "source": [
        "---"
      ]
    },
    {
      "cell_type": "markdown",
      "metadata": {
        "id": "o_UcjOfvhuvc"
      },
      "source": [
        "#### Activity 4: The `tiles` Parameter\n",
        "\n",
        "You can change the background of a map using the `tiles` parameter. Let's change the background of the map to a greyscale (or black & white) colour scheme by setting the `tiles` value equal to `Stamen Toner`."
      ]
    },
    {
      "cell_type": "code",
      "metadata": {
        "id": "YOrpNruxj8Q0",
        "colab": {
          "base_uri": "https://localhost:8080/",
          "height": 968
        },
        "outputId": "8a3f446c-1773-4739-b846-5667fee683fc"
      },
      "source": [
        "# Student Action: Change the background of the Mumbai map to greyscale (black & white) colour scheme.\n",
        "disneyland = folium.Map(location = [33.8121, -117.9190], width = '90%', height = '60%', zoom_start = 15, tiles = 'Stamen Toner')\n",
        "disneyland"
      ],
      "execution_count": null,
      "outputs": [
        {
          "output_type": "execute_result",
          "data": {
            "text/plain": [
              "<folium.folium.Map at 0x7f1e16621710>"
            ],
            "text/html": [
              "<div style=\"width:100%;\"><div style=\"position:relative;width:100%;height:0;padding-bottom:60%;\"><span style=\"color:#565656\">Make this Notebook Trusted to load map: File -> Trust Notebook</span><iframe srcdoc=\"&lt;!DOCTYPE html&gt;\n",
              "&lt;head&gt;    \n",
              "    &lt;meta http-equiv=&quot;content-type&quot; content=&quot;text/html; charset=UTF-8&quot; /&gt;\n",
              "    &lt;script&gt;L_PREFER_CANVAS=false; L_NO_TOUCH=false; L_DISABLE_3D=false;&lt;/script&gt;\n",
              "    &lt;script src=&quot;https://cdn.jsdelivr.net/npm/leaflet@1.4.0/dist/leaflet.js&quot;&gt;&lt;/script&gt;\n",
              "    &lt;script src=&quot;https://code.jquery.com/jquery-1.12.4.min.js&quot;&gt;&lt;/script&gt;\n",
              "    &lt;script src=&quot;https://maxcdn.bootstrapcdn.com/bootstrap/3.2.0/js/bootstrap.min.js&quot;&gt;&lt;/script&gt;\n",
              "    &lt;script src=&quot;https://cdnjs.cloudflare.com/ajax/libs/Leaflet.awesome-markers/2.0.2/leaflet.awesome-markers.js&quot;&gt;&lt;/script&gt;\n",
              "    &lt;link rel=&quot;stylesheet&quot; href=&quot;https://cdn.jsdelivr.net/npm/leaflet@1.4.0/dist/leaflet.css&quot;/&gt;\n",
              "    &lt;link rel=&quot;stylesheet&quot; href=&quot;https://maxcdn.bootstrapcdn.com/bootstrap/3.2.0/css/bootstrap.min.css&quot;/&gt;\n",
              "    &lt;link rel=&quot;stylesheet&quot; href=&quot;https://maxcdn.bootstrapcdn.com/bootstrap/3.2.0/css/bootstrap-theme.min.css&quot;/&gt;\n",
              "    &lt;link rel=&quot;stylesheet&quot; href=&quot;https://maxcdn.bootstrapcdn.com/font-awesome/4.6.3/css/font-awesome.min.css&quot;/&gt;\n",
              "    &lt;link rel=&quot;stylesheet&quot; href=&quot;https://cdnjs.cloudflare.com/ajax/libs/Leaflet.awesome-markers/2.0.2/leaflet.awesome-markers.css&quot;/&gt;\n",
              "    &lt;link rel=&quot;stylesheet&quot; href=&quot;https://rawcdn.githack.com/python-visualization/folium/master/folium/templates/leaflet.awesome.rotate.css&quot;/&gt;\n",
              "    &lt;style&gt;html, body {width: 100%;height: 100%;margin: 0;padding: 0;}&lt;/style&gt;\n",
              "    &lt;style&gt;#map {position:absolute;top:0;bottom:0;right:0;left:0;}&lt;/style&gt;\n",
              "    \n",
              "    &lt;meta name=&quot;viewport&quot; content=&quot;width=device-width,\n",
              "        initial-scale=1.0, maximum-scale=1.0, user-scalable=no&quot; /&gt;\n",
              "    &lt;style&gt;#map_08aa49f635925be717678b749eaa9c42 {\n",
              "        position: relative;\n",
              "        width: 90.0%;\n",
              "        height: 60.0%;\n",
              "        left: 0.0%;\n",
              "        top: 0.0%;\n",
              "        }\n",
              "    &lt;/style&gt;\n",
              "&lt;/head&gt;\n",
              "&lt;body&gt;    \n",
              "    \n",
              "    &lt;div class=&quot;folium-map&quot; id=&quot;map_08aa49f635925be717678b749eaa9c42&quot; &gt;&lt;/div&gt;\n",
              "&lt;/body&gt;\n",
              "&lt;script&gt;    \n",
              "    \n",
              "    \n",
              "        var bounds = null;\n",
              "    \n",
              "\n",
              "    var map_08aa49f635925be717678b749eaa9c42 = L.map(\n",
              "        &#x27;map_08aa49f635925be717678b749eaa9c42&#x27;, {\n",
              "        center: [33.8121, -117.919],\n",
              "        zoom: 15,\n",
              "        maxBounds: bounds,\n",
              "        layers: [],\n",
              "        worldCopyJump: false,\n",
              "        crs: L.CRS.EPSG3857,\n",
              "        zoomControl: true,\n",
              "        });\n",
              "\n",
              "\n",
              "    \n",
              "    var tile_layer_2b76bf0a23fe02828c240bc8dde36ac4 = L.tileLayer(\n",
              "        &#x27;https://stamen-tiles-{s}.a.ssl.fastly.net/toner/{z}/{x}/{y}.png&#x27;,\n",
              "        {\n",
              "        &quot;attribution&quot;: null,\n",
              "        &quot;detectRetina&quot;: false,\n",
              "        &quot;maxNativeZoom&quot;: 18,\n",
              "        &quot;maxZoom&quot;: 18,\n",
              "        &quot;minZoom&quot;: 0,\n",
              "        &quot;noWrap&quot;: false,\n",
              "        &quot;opacity&quot;: 1,\n",
              "        &quot;subdomains&quot;: &quot;abc&quot;,\n",
              "        &quot;tms&quot;: false\n",
              "}).addTo(map_08aa49f635925be717678b749eaa9c42);\n",
              "&lt;/script&gt;\" style=\"position:absolute;width:100%;height:100%;left:0;top:0;border:none !important;\" allowfullscreen webkitallowfullscreen mozallowfullscreen></iframe></div></div>"
            ]
          },
          "metadata": {},
          "execution_count": 8
        }
      ]
    },
    {
      "cell_type": "code",
      "source": [],
      "metadata": {
        "id": "wCqW2mmEdUBU"
      },
      "execution_count": null,
      "outputs": []
    },
    {
      "cell_type": "code",
      "source": [
        "disneyland = folium.Map(location = [33.8121, -117.9190], width = '90%', height = '60%', zoom_start = 15, tiles = 'OpenStreetMap')\n",
        "disneyland"
      ],
      "metadata": {
        "colab": {
          "base_uri": "https://localhost:8080/",
          "height": 968
        },
        "id": "kbn0fGq7c_6e",
        "outputId": "f7e26fd4-b06d-481d-891d-1b7e9409e127"
      },
      "execution_count": null,
      "outputs": [
        {
          "output_type": "execute_result",
          "data": {
            "text/plain": [
              "<folium.folium.Map at 0x7f1e166b4590>"
            ],
            "text/html": [
              "<div style=\"width:100%;\"><div style=\"position:relative;width:100%;height:0;padding-bottom:60%;\"><span style=\"color:#565656\">Make this Notebook Trusted to load map: File -> Trust Notebook</span><iframe srcdoc=\"&lt;!DOCTYPE html&gt;\n",
              "&lt;head&gt;    \n",
              "    &lt;meta http-equiv=&quot;content-type&quot; content=&quot;text/html; charset=UTF-8&quot; /&gt;\n",
              "    &lt;script&gt;L_PREFER_CANVAS=false; L_NO_TOUCH=false; L_DISABLE_3D=false;&lt;/script&gt;\n",
              "    &lt;script src=&quot;https://cdn.jsdelivr.net/npm/leaflet@1.4.0/dist/leaflet.js&quot;&gt;&lt;/script&gt;\n",
              "    &lt;script src=&quot;https://code.jquery.com/jquery-1.12.4.min.js&quot;&gt;&lt;/script&gt;\n",
              "    &lt;script src=&quot;https://maxcdn.bootstrapcdn.com/bootstrap/3.2.0/js/bootstrap.min.js&quot;&gt;&lt;/script&gt;\n",
              "    &lt;script src=&quot;https://cdnjs.cloudflare.com/ajax/libs/Leaflet.awesome-markers/2.0.2/leaflet.awesome-markers.js&quot;&gt;&lt;/script&gt;\n",
              "    &lt;link rel=&quot;stylesheet&quot; href=&quot;https://cdn.jsdelivr.net/npm/leaflet@1.4.0/dist/leaflet.css&quot;/&gt;\n",
              "    &lt;link rel=&quot;stylesheet&quot; href=&quot;https://maxcdn.bootstrapcdn.com/bootstrap/3.2.0/css/bootstrap.min.css&quot;/&gt;\n",
              "    &lt;link rel=&quot;stylesheet&quot; href=&quot;https://maxcdn.bootstrapcdn.com/bootstrap/3.2.0/css/bootstrap-theme.min.css&quot;/&gt;\n",
              "    &lt;link rel=&quot;stylesheet&quot; href=&quot;https://maxcdn.bootstrapcdn.com/font-awesome/4.6.3/css/font-awesome.min.css&quot;/&gt;\n",
              "    &lt;link rel=&quot;stylesheet&quot; href=&quot;https://cdnjs.cloudflare.com/ajax/libs/Leaflet.awesome-markers/2.0.2/leaflet.awesome-markers.css&quot;/&gt;\n",
              "    &lt;link rel=&quot;stylesheet&quot; href=&quot;https://rawcdn.githack.com/python-visualization/folium/master/folium/templates/leaflet.awesome.rotate.css&quot;/&gt;\n",
              "    &lt;style&gt;html, body {width: 100%;height: 100%;margin: 0;padding: 0;}&lt;/style&gt;\n",
              "    &lt;style&gt;#map {position:absolute;top:0;bottom:0;right:0;left:0;}&lt;/style&gt;\n",
              "    \n",
              "    &lt;meta name=&quot;viewport&quot; content=&quot;width=device-width,\n",
              "        initial-scale=1.0, maximum-scale=1.0, user-scalable=no&quot; /&gt;\n",
              "    &lt;style&gt;#map_8e7b7fbcac503585d2cc52cb025071b2 {\n",
              "        position: relative;\n",
              "        width: 90.0%;\n",
              "        height: 60.0%;\n",
              "        left: 0.0%;\n",
              "        top: 0.0%;\n",
              "        }\n",
              "    &lt;/style&gt;\n",
              "&lt;/head&gt;\n",
              "&lt;body&gt;    \n",
              "    \n",
              "    &lt;div class=&quot;folium-map&quot; id=&quot;map_8e7b7fbcac503585d2cc52cb025071b2&quot; &gt;&lt;/div&gt;\n",
              "&lt;/body&gt;\n",
              "&lt;script&gt;    \n",
              "    \n",
              "    \n",
              "        var bounds = null;\n",
              "    \n",
              "\n",
              "    var map_8e7b7fbcac503585d2cc52cb025071b2 = L.map(\n",
              "        &#x27;map_8e7b7fbcac503585d2cc52cb025071b2&#x27;, {\n",
              "        center: [33.8121, -117.919],\n",
              "        zoom: 15,\n",
              "        maxBounds: bounds,\n",
              "        layers: [],\n",
              "        worldCopyJump: false,\n",
              "        crs: L.CRS.EPSG3857,\n",
              "        zoomControl: true,\n",
              "        });\n",
              "\n",
              "\n",
              "    \n",
              "    var tile_layer_2a8ecb9d4abd6d2d1c3c5b5c0931d860 = L.tileLayer(\n",
              "        &#x27;https://{s}.tile.openstreetmap.org/{z}/{x}/{y}.png&#x27;,\n",
              "        {\n",
              "        &quot;attribution&quot;: null,\n",
              "        &quot;detectRetina&quot;: false,\n",
              "        &quot;maxNativeZoom&quot;: 18,\n",
              "        &quot;maxZoom&quot;: 18,\n",
              "        &quot;minZoom&quot;: 0,\n",
              "        &quot;noWrap&quot;: false,\n",
              "        &quot;opacity&quot;: 1,\n",
              "        &quot;subdomains&quot;: &quot;abc&quot;,\n",
              "        &quot;tms&quot;: false\n",
              "}).addTo(map_8e7b7fbcac503585d2cc52cb025071b2);\n",
              "&lt;/script&gt;\" style=\"position:absolute;width:100%;height:100%;left:0;top:0;border:none !important;\" allowfullscreen webkitallowfullscreen mozallowfullscreen></iframe></div></div>"
            ]
          },
          "metadata": {},
          "execution_count": 9
        }
      ]
    },
    {
      "cell_type": "markdown",
      "metadata": {
        "id": "I-UY8o_IkUUc"
      },
      "source": [
        "As you can see, the background of the map is changed. Here's a list of different possible background options for a folium map. You can choose any one of these:\n",
        "\n",
        "1. `'OpenStreetMap'`\n",
        "\n",
        "2. `'Stamen Terrain'`\n",
        "\n",
        "3. `'Stamen Toner'`\n",
        "\n",
        "4. `'Mapbox Bright'` (Not recommended as it throws an error)\n",
        "\n",
        "5. `'Mapbox Control Room'` (Not recommended as it throws an error)\n",
        "\n",
        "If the `tiles` parameter is not specified, then by default it is set to `OpenStreetMap`."
      ]
    },
    {
      "cell_type": "markdown",
      "metadata": {
        "id": "rU_V8wTFjapM"
      },
      "source": [
        "---"
      ]
    },
    {
      "cell_type": "markdown",
      "metadata": {
        "id": "JhH7Ey7_Qnkg"
      },
      "source": [
        "#### Activity 5: Adding A Marker^\n",
        "\n",
        "Now, let's add a marker to the Mumbai map. If you search for the **Gateway of India** on Google maps, you will get a red coloured marker as shown in the image below.\n",
        "\n",
        "<img src='https://student-datasets-bucket.s3.ap-south-1.amazonaws.com/images/lesson-22/gateway_of_india.png' width=700>\n",
        "\n",
        "We can also add a marker like these in a cartogram. Let's mark the Gateway of India (coordinates `18.9220, 72.8347`) on the Mumbai map using a marker.\n",
        "\n",
        "To add a marker, you need to use the `folium.Marker()` function. It requires location coordinates of the place to be marked as an input.\n",
        "\n",
        "```\n",
        "folium.Marker(location=[latitude, longitude])\n",
        "```\n",
        "\n",
        "You can also add another parameter called `popup` inside the `folium.Marker()` function to popup some information on the marker when a user clicks on it. Note that it is not mandatory to provide the value to the `popup` parameter.\n",
        "\n",
        "```\n",
        "folium.Marker(location=[latitude, longitude], popup='Some information')\n",
        "```\n",
        "\n",
        "At the end of the `folium.Marker()` function, you need to apply the `add_to()` function whose input is the map in which you want to add the marker.\n",
        "\n",
        "```\n",
        "folium.Marker(location=[latitude, longitude], popup='Some information').add_to(map_name)\n",
        "```\n",
        "\n",
        "Let's display `'Gateway of India` on the marker when a user clicks on it.\n"
      ]
    },
    {
      "cell_type": "code",
      "metadata": {
        "id": "dUM18E8CWwnP",
        "colab": {
          "base_uri": "https://localhost:8080/",
          "height": 968
        },
        "outputId": "251b36f6-fd90-4af6-ff98-f8cbd5a152e5"
      },
      "source": [
        "# Teacher Action: Mark the Gateway of India (coordinates 18.9220, 72.8347) on the Mumbai map.\n",
        "disneyland = folium.Map(location = [33.8121, -117.9190], width = '90%', height = '60%', zoom_start = 15, tiles = 'OpenStreetMap')\n",
        "folium.Marker(location=[33.8121, -117.9190]).add_to(disneyland)\n",
        "disneyland"
      ],
      "execution_count": null,
      "outputs": [
        {
          "output_type": "execute_result",
          "data": {
            "text/plain": [
              "<folium.folium.Map at 0x7f1e165a98d0>"
            ],
            "text/html": [
              "<div style=\"width:100%;\"><div style=\"position:relative;width:100%;height:0;padding-bottom:60%;\"><span style=\"color:#565656\">Make this Notebook Trusted to load map: File -> Trust Notebook</span><iframe srcdoc=\"&lt;!DOCTYPE html&gt;\n",
              "&lt;head&gt;    \n",
              "    &lt;meta http-equiv=&quot;content-type&quot; content=&quot;text/html; charset=UTF-8&quot; /&gt;\n",
              "    &lt;script&gt;L_PREFER_CANVAS=false; L_NO_TOUCH=false; L_DISABLE_3D=false;&lt;/script&gt;\n",
              "    &lt;script src=&quot;https://cdn.jsdelivr.net/npm/leaflet@1.4.0/dist/leaflet.js&quot;&gt;&lt;/script&gt;\n",
              "    &lt;script src=&quot;https://code.jquery.com/jquery-1.12.4.min.js&quot;&gt;&lt;/script&gt;\n",
              "    &lt;script src=&quot;https://maxcdn.bootstrapcdn.com/bootstrap/3.2.0/js/bootstrap.min.js&quot;&gt;&lt;/script&gt;\n",
              "    &lt;script src=&quot;https://cdnjs.cloudflare.com/ajax/libs/Leaflet.awesome-markers/2.0.2/leaflet.awesome-markers.js&quot;&gt;&lt;/script&gt;\n",
              "    &lt;link rel=&quot;stylesheet&quot; href=&quot;https://cdn.jsdelivr.net/npm/leaflet@1.4.0/dist/leaflet.css&quot;/&gt;\n",
              "    &lt;link rel=&quot;stylesheet&quot; href=&quot;https://maxcdn.bootstrapcdn.com/bootstrap/3.2.0/css/bootstrap.min.css&quot;/&gt;\n",
              "    &lt;link rel=&quot;stylesheet&quot; href=&quot;https://maxcdn.bootstrapcdn.com/bootstrap/3.2.0/css/bootstrap-theme.min.css&quot;/&gt;\n",
              "    &lt;link rel=&quot;stylesheet&quot; href=&quot;https://maxcdn.bootstrapcdn.com/font-awesome/4.6.3/css/font-awesome.min.css&quot;/&gt;\n",
              "    &lt;link rel=&quot;stylesheet&quot; href=&quot;https://cdnjs.cloudflare.com/ajax/libs/Leaflet.awesome-markers/2.0.2/leaflet.awesome-markers.css&quot;/&gt;\n",
              "    &lt;link rel=&quot;stylesheet&quot; href=&quot;https://rawcdn.githack.com/python-visualization/folium/master/folium/templates/leaflet.awesome.rotate.css&quot;/&gt;\n",
              "    &lt;style&gt;html, body {width: 100%;height: 100%;margin: 0;padding: 0;}&lt;/style&gt;\n",
              "    &lt;style&gt;#map {position:absolute;top:0;bottom:0;right:0;left:0;}&lt;/style&gt;\n",
              "    \n",
              "    &lt;meta name=&quot;viewport&quot; content=&quot;width=device-width,\n",
              "        initial-scale=1.0, maximum-scale=1.0, user-scalable=no&quot; /&gt;\n",
              "    &lt;style&gt;#map_9768681dc5cb78c7da495ee61dd58bd3 {\n",
              "        position: relative;\n",
              "        width: 90.0%;\n",
              "        height: 60.0%;\n",
              "        left: 0.0%;\n",
              "        top: 0.0%;\n",
              "        }\n",
              "    &lt;/style&gt;\n",
              "&lt;/head&gt;\n",
              "&lt;body&gt;    \n",
              "    \n",
              "    &lt;div class=&quot;folium-map&quot; id=&quot;map_9768681dc5cb78c7da495ee61dd58bd3&quot; &gt;&lt;/div&gt;\n",
              "&lt;/body&gt;\n",
              "&lt;script&gt;    \n",
              "    \n",
              "    \n",
              "        var bounds = null;\n",
              "    \n",
              "\n",
              "    var map_9768681dc5cb78c7da495ee61dd58bd3 = L.map(\n",
              "        &#x27;map_9768681dc5cb78c7da495ee61dd58bd3&#x27;, {\n",
              "        center: [33.8121, -117.919],\n",
              "        zoom: 15,\n",
              "        maxBounds: bounds,\n",
              "        layers: [],\n",
              "        worldCopyJump: false,\n",
              "        crs: L.CRS.EPSG3857,\n",
              "        zoomControl: true,\n",
              "        });\n",
              "\n",
              "\n",
              "    \n",
              "    var tile_layer_56e69eb50b0626f0495ab72555654e95 = L.tileLayer(\n",
              "        &#x27;https://{s}.tile.openstreetmap.org/{z}/{x}/{y}.png&#x27;,\n",
              "        {\n",
              "        &quot;attribution&quot;: null,\n",
              "        &quot;detectRetina&quot;: false,\n",
              "        &quot;maxNativeZoom&quot;: 18,\n",
              "        &quot;maxZoom&quot;: 18,\n",
              "        &quot;minZoom&quot;: 0,\n",
              "        &quot;noWrap&quot;: false,\n",
              "        &quot;opacity&quot;: 1,\n",
              "        &quot;subdomains&quot;: &quot;abc&quot;,\n",
              "        &quot;tms&quot;: false\n",
              "}).addTo(map_9768681dc5cb78c7da495ee61dd58bd3);\n",
              "    \n",
              "        var marker_4909929220f00d9d0866514ebc535ef5 = L.marker(\n",
              "            [33.8121, -117.919],\n",
              "            {\n",
              "                icon: new L.Icon.Default(),\n",
              "                }\n",
              "            ).addTo(map_9768681dc5cb78c7da495ee61dd58bd3);\n",
              "        \n",
              "&lt;/script&gt;\" style=\"position:absolute;width:100%;height:100%;left:0;top:0;border:none !important;\" allowfullscreen webkitallowfullscreen mozallowfullscreen></iframe></div></div>"
            ]
          },
          "metadata": {},
          "execution_count": 11
        }
      ]
    },
    {
      "cell_type": "markdown",
      "metadata": {
        "id": "oiTUM2oohTeE"
      },
      "source": [
        "As you can see, we have added the marker to the Mumbai using the `folium.Marker()` function.\n",
        "\n",
        "You can also create the same map with the same marker by replacing the Mumbai city coordinates with the Gateway of India coordinates."
      ]
    },
    {
      "cell_type": "code",
      "metadata": {
        "id": "VWm-_kFKpgzx",
        "colab": {
          "base_uri": "https://localhost:8080/",
          "height": 968
        },
        "outputId": "ef4c1a6e-8201-4193-e388-ba1dbb3d33ec"
      },
      "source": [
        "# Student Action: Create a Gateway of India (coordinates 18.9220, 72.8347) map and add a marker for the same on the map.\n",
        "disneyland = folium.Map(location = [33.8121, -117.9190], width = '90%', height = '60%', zoom_start = 15, tiles = 'OpenStreetMap')\n",
        "folium.Marker(location=[33.8121, -117.9190], popup = 'Disneyland').add_to(disneyland)\n",
        "disneyland"
      ],
      "execution_count": null,
      "outputs": [
        {
          "output_type": "execute_result",
          "data": {
            "text/plain": [
              "<folium.folium.Map at 0x7f1e165af1d0>"
            ],
            "text/html": [
              "<div style=\"width:100%;\"><div style=\"position:relative;width:100%;height:0;padding-bottom:60%;\"><span style=\"color:#565656\">Make this Notebook Trusted to load map: File -> Trust Notebook</span><iframe srcdoc=\"&lt;!DOCTYPE html&gt;\n",
              "&lt;head&gt;    \n",
              "    &lt;meta http-equiv=&quot;content-type&quot; content=&quot;text/html; charset=UTF-8&quot; /&gt;\n",
              "    &lt;script&gt;L_PREFER_CANVAS=false; L_NO_TOUCH=false; L_DISABLE_3D=false;&lt;/script&gt;\n",
              "    &lt;script src=&quot;https://cdn.jsdelivr.net/npm/leaflet@1.4.0/dist/leaflet.js&quot;&gt;&lt;/script&gt;\n",
              "    &lt;script src=&quot;https://code.jquery.com/jquery-1.12.4.min.js&quot;&gt;&lt;/script&gt;\n",
              "    &lt;script src=&quot;https://maxcdn.bootstrapcdn.com/bootstrap/3.2.0/js/bootstrap.min.js&quot;&gt;&lt;/script&gt;\n",
              "    &lt;script src=&quot;https://cdnjs.cloudflare.com/ajax/libs/Leaflet.awesome-markers/2.0.2/leaflet.awesome-markers.js&quot;&gt;&lt;/script&gt;\n",
              "    &lt;link rel=&quot;stylesheet&quot; href=&quot;https://cdn.jsdelivr.net/npm/leaflet@1.4.0/dist/leaflet.css&quot;/&gt;\n",
              "    &lt;link rel=&quot;stylesheet&quot; href=&quot;https://maxcdn.bootstrapcdn.com/bootstrap/3.2.0/css/bootstrap.min.css&quot;/&gt;\n",
              "    &lt;link rel=&quot;stylesheet&quot; href=&quot;https://maxcdn.bootstrapcdn.com/bootstrap/3.2.0/css/bootstrap-theme.min.css&quot;/&gt;\n",
              "    &lt;link rel=&quot;stylesheet&quot; href=&quot;https://maxcdn.bootstrapcdn.com/font-awesome/4.6.3/css/font-awesome.min.css&quot;/&gt;\n",
              "    &lt;link rel=&quot;stylesheet&quot; href=&quot;https://cdnjs.cloudflare.com/ajax/libs/Leaflet.awesome-markers/2.0.2/leaflet.awesome-markers.css&quot;/&gt;\n",
              "    &lt;link rel=&quot;stylesheet&quot; href=&quot;https://rawcdn.githack.com/python-visualization/folium/master/folium/templates/leaflet.awesome.rotate.css&quot;/&gt;\n",
              "    &lt;style&gt;html, body {width: 100%;height: 100%;margin: 0;padding: 0;}&lt;/style&gt;\n",
              "    &lt;style&gt;#map {position:absolute;top:0;bottom:0;right:0;left:0;}&lt;/style&gt;\n",
              "    \n",
              "    &lt;meta name=&quot;viewport&quot; content=&quot;width=device-width,\n",
              "        initial-scale=1.0, maximum-scale=1.0, user-scalable=no&quot; /&gt;\n",
              "    &lt;style&gt;#map_4384fe68cda5ba039915ba1b1dfd1c03 {\n",
              "        position: relative;\n",
              "        width: 90.0%;\n",
              "        height: 60.0%;\n",
              "        left: 0.0%;\n",
              "        top: 0.0%;\n",
              "        }\n",
              "    &lt;/style&gt;\n",
              "&lt;/head&gt;\n",
              "&lt;body&gt;    \n",
              "    \n",
              "    &lt;div class=&quot;folium-map&quot; id=&quot;map_4384fe68cda5ba039915ba1b1dfd1c03&quot; &gt;&lt;/div&gt;\n",
              "&lt;/body&gt;\n",
              "&lt;script&gt;    \n",
              "    \n",
              "    \n",
              "        var bounds = null;\n",
              "    \n",
              "\n",
              "    var map_4384fe68cda5ba039915ba1b1dfd1c03 = L.map(\n",
              "        &#x27;map_4384fe68cda5ba039915ba1b1dfd1c03&#x27;, {\n",
              "        center: [33.8121, -117.919],\n",
              "        zoom: 15,\n",
              "        maxBounds: bounds,\n",
              "        layers: [],\n",
              "        worldCopyJump: false,\n",
              "        crs: L.CRS.EPSG3857,\n",
              "        zoomControl: true,\n",
              "        });\n",
              "\n",
              "\n",
              "    \n",
              "    var tile_layer_51d7744b5a507440445314533c175e23 = L.tileLayer(\n",
              "        &#x27;https://{s}.tile.openstreetmap.org/{z}/{x}/{y}.png&#x27;,\n",
              "        {\n",
              "        &quot;attribution&quot;: null,\n",
              "        &quot;detectRetina&quot;: false,\n",
              "        &quot;maxNativeZoom&quot;: 18,\n",
              "        &quot;maxZoom&quot;: 18,\n",
              "        &quot;minZoom&quot;: 0,\n",
              "        &quot;noWrap&quot;: false,\n",
              "        &quot;opacity&quot;: 1,\n",
              "        &quot;subdomains&quot;: &quot;abc&quot;,\n",
              "        &quot;tms&quot;: false\n",
              "}).addTo(map_4384fe68cda5ba039915ba1b1dfd1c03);\n",
              "    \n",
              "        var marker_3312dd982698611859bef7e25155aeca = L.marker(\n",
              "            [33.8121, -117.919],\n",
              "            {\n",
              "                icon: new L.Icon.Default(),\n",
              "                }\n",
              "            ).addTo(map_4384fe68cda5ba039915ba1b1dfd1c03);\n",
              "        \n",
              "    \n",
              "            var popup_f3bda6cb43e11405bbf3e3ffbb514d81 = L.popup({maxWidth: &#x27;100%&#x27;\n",
              "            \n",
              "            });\n",
              "\n",
              "            \n",
              "                var html_7d158f57b47d513cdd52836668888167 = $(`&lt;div id=&quot;html_7d158f57b47d513cdd52836668888167&quot; style=&quot;width: 100.0%; height: 100.0%;&quot;&gt;Disneyland&lt;/div&gt;`)[0];\n",
              "                popup_f3bda6cb43e11405bbf3e3ffbb514d81.setContent(html_7d158f57b47d513cdd52836668888167);\n",
              "            \n",
              "\n",
              "            marker_3312dd982698611859bef7e25155aeca.bindPopup(popup_f3bda6cb43e11405bbf3e3ffbb514d81)\n",
              "            ;\n",
              "\n",
              "            \n",
              "        \n",
              "&lt;/script&gt;\" style=\"position:absolute;width:100%;height:100%;left:0;top:0;border:none !important;\" allowfullscreen webkitallowfullscreen mozallowfullscreen></iframe></div></div>"
            ]
          },
          "metadata": {},
          "execution_count": 12
        }
      ]
    },
    {
      "cell_type": "markdown",
      "metadata": {
        "id": "hQys45dJCOCM"
      },
      "source": [
        "This time, we set the `zoom_start` value equal to `20` to get a much closer view of the Gateway of India."
      ]
    },
    {
      "cell_type": "markdown",
      "metadata": {
        "id": "pl9Td7DpCMlz"
      },
      "source": [
        "---"
      ]
    },
    {
      "cell_type": "markdown",
      "metadata": {
        "id": "o0Ni3LekxF92"
      },
      "source": [
        "#### Activity 6: Circular Markers^^^\n",
        "\n",
        "Apart from the regular marker, you can also add the circular makers to a folium map. There are two functions to add circular markers. They are as follows:\n",
        "\n",
        "1. `folium.Circle()` - Radius of the circular marker is reflected in meters. It tells the land area occupied on the map.\n",
        "\n",
        "2. `folium.CircleMarker()` - Radius of the circular marker is reflected in pixels. It tells the number of pixels occupied on the image of the map.\n",
        "\n",
        "You will notice the difference in both the markers when you zoon-in and zoom-out of the map. Both the above functions take the following parameters as inputs:\n",
        "\n",
        "1. `location` - It defines the position on the map where a circular marker needs to be placed.\n",
        "\n",
        "2. `radius` - It defines the radius of the circular marker\n",
        "\n",
        "3. `popup` - It defines the information to be displayed which clicked on a marker.\n",
        "\n",
        "4. `color` - It defines the colour of the circular marker.\n",
        "\n",
        "5. `fill` - It defines whether the circular marker should hollow or filled.\n",
        "\n",
        "6. `fill_color` - It defines the colour of the filled circular marker.\n",
        "\n",
        "Let's create the circular markers for the Mumbai international airport and the Dharavi slum in Mumbai. Their coordinates are `19.0896, 72.8656` and `19.0380, 72.8538` respectively. Let's colour them with blue and red colours respectively.\n",
        "\n",
        "**Note:**\n",
        "\n",
        "1. `#0000ff` is the hexadecimal colour code for the blue colour.\n",
        "\n",
        "2. `#ff0000` is the hexadecimal colour code for the red colour.\n",
        "\n",
        "You can get the hexadecimal colour codes for different colours by clicking on the link provided in the **Activities** section under the title **Hex Colour Code Generator**.\n",
        "\n"
      ]
    },
    {
      "cell_type": "code",
      "source": [
        "usa = folium.Map(location = [37.0902, -95.7129], width = '90%', height = '60%', zoom_start = 2, tiles = 'OpenStreetMap')\n",
        "folium.Marker(location=[33.8121, -117.9190], popup = 'Disneyland').add_to(usa)\n",
        "folium.Marker(location=[37.2982, -113.0263], popup = 'Zion').add_to(usa)\n",
        "folium.Marker(location=[36.1716, -115.1391], popup = 'Las Vegas').add_to(usa)\n",
        "folium.Marker(location=[44.4280, -110.5885],popup = 'Yellowstone').add_to(usa)\n",
        "usa"
      ],
      "metadata": {
        "colab": {
          "base_uri": "https://localhost:8080/",
          "height": 968
        },
        "id": "qHjRBZCFe63m",
        "outputId": "29a623c1-9a60-4550-d549-285d9a30eea4"
      },
      "execution_count": null,
      "outputs": [
        {
          "output_type": "execute_result",
          "data": {
            "text/plain": [
              "<folium.folium.Map at 0x7f1e14a142d0>"
            ],
            "text/html": [
              "<div style=\"width:100%;\"><div style=\"position:relative;width:100%;height:0;padding-bottom:60%;\"><span style=\"color:#565656\">Make this Notebook Trusted to load map: File -> Trust Notebook</span><iframe srcdoc=\"&lt;!DOCTYPE html&gt;\n",
              "&lt;head&gt;    \n",
              "    &lt;meta http-equiv=&quot;content-type&quot; content=&quot;text/html; charset=UTF-8&quot; /&gt;\n",
              "    &lt;script&gt;L_PREFER_CANVAS=false; L_NO_TOUCH=false; L_DISABLE_3D=false;&lt;/script&gt;\n",
              "    &lt;script src=&quot;https://cdn.jsdelivr.net/npm/leaflet@1.4.0/dist/leaflet.js&quot;&gt;&lt;/script&gt;\n",
              "    &lt;script src=&quot;https://code.jquery.com/jquery-1.12.4.min.js&quot;&gt;&lt;/script&gt;\n",
              "    &lt;script src=&quot;https://maxcdn.bootstrapcdn.com/bootstrap/3.2.0/js/bootstrap.min.js&quot;&gt;&lt;/script&gt;\n",
              "    &lt;script src=&quot;https://cdnjs.cloudflare.com/ajax/libs/Leaflet.awesome-markers/2.0.2/leaflet.awesome-markers.js&quot;&gt;&lt;/script&gt;\n",
              "    &lt;link rel=&quot;stylesheet&quot; href=&quot;https://cdn.jsdelivr.net/npm/leaflet@1.4.0/dist/leaflet.css&quot;/&gt;\n",
              "    &lt;link rel=&quot;stylesheet&quot; href=&quot;https://maxcdn.bootstrapcdn.com/bootstrap/3.2.0/css/bootstrap.min.css&quot;/&gt;\n",
              "    &lt;link rel=&quot;stylesheet&quot; href=&quot;https://maxcdn.bootstrapcdn.com/bootstrap/3.2.0/css/bootstrap-theme.min.css&quot;/&gt;\n",
              "    &lt;link rel=&quot;stylesheet&quot; href=&quot;https://maxcdn.bootstrapcdn.com/font-awesome/4.6.3/css/font-awesome.min.css&quot;/&gt;\n",
              "    &lt;link rel=&quot;stylesheet&quot; href=&quot;https://cdnjs.cloudflare.com/ajax/libs/Leaflet.awesome-markers/2.0.2/leaflet.awesome-markers.css&quot;/&gt;\n",
              "    &lt;link rel=&quot;stylesheet&quot; href=&quot;https://rawcdn.githack.com/python-visualization/folium/master/folium/templates/leaflet.awesome.rotate.css&quot;/&gt;\n",
              "    &lt;style&gt;html, body {width: 100%;height: 100%;margin: 0;padding: 0;}&lt;/style&gt;\n",
              "    &lt;style&gt;#map {position:absolute;top:0;bottom:0;right:0;left:0;}&lt;/style&gt;\n",
              "    \n",
              "    &lt;meta name=&quot;viewport&quot; content=&quot;width=device-width,\n",
              "        initial-scale=1.0, maximum-scale=1.0, user-scalable=no&quot; /&gt;\n",
              "    &lt;style&gt;#map_6589934e2b2e2d0c7f1c02aa4d5a1385 {\n",
              "        position: relative;\n",
              "        width: 90.0%;\n",
              "        height: 60.0%;\n",
              "        left: 0.0%;\n",
              "        top: 0.0%;\n",
              "        }\n",
              "    &lt;/style&gt;\n",
              "&lt;/head&gt;\n",
              "&lt;body&gt;    \n",
              "    \n",
              "    &lt;div class=&quot;folium-map&quot; id=&quot;map_6589934e2b2e2d0c7f1c02aa4d5a1385&quot; &gt;&lt;/div&gt;\n",
              "&lt;/body&gt;\n",
              "&lt;script&gt;    \n",
              "    \n",
              "    \n",
              "        var bounds = null;\n",
              "    \n",
              "\n",
              "    var map_6589934e2b2e2d0c7f1c02aa4d5a1385 = L.map(\n",
              "        &#x27;map_6589934e2b2e2d0c7f1c02aa4d5a1385&#x27;, {\n",
              "        center: [37.0902, -95.7129],\n",
              "        zoom: 2,\n",
              "        maxBounds: bounds,\n",
              "        layers: [],\n",
              "        worldCopyJump: false,\n",
              "        crs: L.CRS.EPSG3857,\n",
              "        zoomControl: true,\n",
              "        });\n",
              "\n",
              "\n",
              "    \n",
              "    var tile_layer_c471b8e136cd67a326da16175c4f673e = L.tileLayer(\n",
              "        &#x27;https://{s}.tile.openstreetmap.org/{z}/{x}/{y}.png&#x27;,\n",
              "        {\n",
              "        &quot;attribution&quot;: null,\n",
              "        &quot;detectRetina&quot;: false,\n",
              "        &quot;maxNativeZoom&quot;: 18,\n",
              "        &quot;maxZoom&quot;: 18,\n",
              "        &quot;minZoom&quot;: 0,\n",
              "        &quot;noWrap&quot;: false,\n",
              "        &quot;opacity&quot;: 1,\n",
              "        &quot;subdomains&quot;: &quot;abc&quot;,\n",
              "        &quot;tms&quot;: false\n",
              "}).addTo(map_6589934e2b2e2d0c7f1c02aa4d5a1385);\n",
              "    \n",
              "        var marker_b9a8aeb339259ac32a2f2f214be08dd8 = L.marker(\n",
              "            [33.8121, -117.919],\n",
              "            {\n",
              "                icon: new L.Icon.Default(),\n",
              "                }\n",
              "            ).addTo(map_6589934e2b2e2d0c7f1c02aa4d5a1385);\n",
              "        \n",
              "    \n",
              "            var popup_31b00f3297aaefa308389ab748dd74d3 = L.popup({maxWidth: &#x27;100%&#x27;\n",
              "            \n",
              "            });\n",
              "\n",
              "            \n",
              "                var html_58997ff40859c67b8b9d9f5a4b21cc4c = $(`&lt;div id=&quot;html_58997ff40859c67b8b9d9f5a4b21cc4c&quot; style=&quot;width: 100.0%; height: 100.0%;&quot;&gt;Disneyland&lt;/div&gt;`)[0];\n",
              "                popup_31b00f3297aaefa308389ab748dd74d3.setContent(html_58997ff40859c67b8b9d9f5a4b21cc4c);\n",
              "            \n",
              "\n",
              "            marker_b9a8aeb339259ac32a2f2f214be08dd8.bindPopup(popup_31b00f3297aaefa308389ab748dd74d3)\n",
              "            ;\n",
              "\n",
              "            \n",
              "        \n",
              "    \n",
              "        var marker_afa5dd53ecb1003f71ff41cec708153d = L.marker(\n",
              "            [37.2982, -113.0263],\n",
              "            {\n",
              "                icon: new L.Icon.Default(),\n",
              "                }\n",
              "            ).addTo(map_6589934e2b2e2d0c7f1c02aa4d5a1385);\n",
              "        \n",
              "    \n",
              "            var popup_49c23c673146986ef6cb5bb384f1df26 = L.popup({maxWidth: &#x27;100%&#x27;\n",
              "            \n",
              "            });\n",
              "\n",
              "            \n",
              "                var html_f3adc2ac713d3c50e56935c43d7bf08d = $(`&lt;div id=&quot;html_f3adc2ac713d3c50e56935c43d7bf08d&quot; style=&quot;width: 100.0%; height: 100.0%;&quot;&gt;Zion&lt;/div&gt;`)[0];\n",
              "                popup_49c23c673146986ef6cb5bb384f1df26.setContent(html_f3adc2ac713d3c50e56935c43d7bf08d);\n",
              "            \n",
              "\n",
              "            marker_afa5dd53ecb1003f71ff41cec708153d.bindPopup(popup_49c23c673146986ef6cb5bb384f1df26)\n",
              "            ;\n",
              "\n",
              "            \n",
              "        \n",
              "    \n",
              "        var marker_152ad71c6c4bf7faab8c325027897600 = L.marker(\n",
              "            [36.1716, -115.1391],\n",
              "            {\n",
              "                icon: new L.Icon.Default(),\n",
              "                }\n",
              "            ).addTo(map_6589934e2b2e2d0c7f1c02aa4d5a1385);\n",
              "        \n",
              "    \n",
              "            var popup_cbce8b7b855aa07b1cd7c8f65ebdc1a8 = L.popup({maxWidth: &#x27;100%&#x27;\n",
              "            \n",
              "            });\n",
              "\n",
              "            \n",
              "                var html_c31c37b6fc045c3cf921f346d6f92fb8 = $(`&lt;div id=&quot;html_c31c37b6fc045c3cf921f346d6f92fb8&quot; style=&quot;width: 100.0%; height: 100.0%;&quot;&gt;Las Vegas&lt;/div&gt;`)[0];\n",
              "                popup_cbce8b7b855aa07b1cd7c8f65ebdc1a8.setContent(html_c31c37b6fc045c3cf921f346d6f92fb8);\n",
              "            \n",
              "\n",
              "            marker_152ad71c6c4bf7faab8c325027897600.bindPopup(popup_cbce8b7b855aa07b1cd7c8f65ebdc1a8)\n",
              "            ;\n",
              "\n",
              "            \n",
              "        \n",
              "    \n",
              "        var marker_e51a4d5d8642b7097a95b03786723b1f = L.marker(\n",
              "            [44.428, -110.5885],\n",
              "            {\n",
              "                icon: new L.Icon.Default(),\n",
              "                }\n",
              "            ).addTo(map_6589934e2b2e2d0c7f1c02aa4d5a1385);\n",
              "        \n",
              "    \n",
              "            var popup_6b915b7ac16a19fde8ce95b34475d8b5 = L.popup({maxWidth: &#x27;100%&#x27;\n",
              "            \n",
              "            });\n",
              "\n",
              "            \n",
              "                var html_483e191dadca5bf46b383c5aed14cf79 = $(`&lt;div id=&quot;html_483e191dadca5bf46b383c5aed14cf79&quot; style=&quot;width: 100.0%; height: 100.0%;&quot;&gt;Yellowstone&lt;/div&gt;`)[0];\n",
              "                popup_6b915b7ac16a19fde8ce95b34475d8b5.setContent(html_483e191dadca5bf46b383c5aed14cf79);\n",
              "            \n",
              "\n",
              "            marker_e51a4d5d8642b7097a95b03786723b1f.bindPopup(popup_6b915b7ac16a19fde8ce95b34475d8b5)\n",
              "            ;\n",
              "\n",
              "            \n",
              "        \n",
              "&lt;/script&gt;\" style=\"position:absolute;width:100%;height:100%;left:0;top:0;border:none !important;\" allowfullscreen webkitallowfullscreen mozallowfullscreen></iframe></div></div>"
            ]
          },
          "metadata": {},
          "execution_count": 14
        }
      ]
    },
    {
      "cell_type": "code",
      "metadata": {
        "id": "gGGXIQdh0o51",
        "colab": {
          "base_uri": "https://localhost:8080/",
          "height": 968
        },
        "outputId": "4d635747-c0d4-4a2b-8516-854c12a7f2f7"
      },
      "source": [
        "# Teacher Action: Add the circular markers for the Mumbai international airport (19.0896, 72.8656) & the Mumbai Dharavi slum (19.0380, 72.8538)\n",
        "usa = folium.Map(location = [37.0902, -95.7129], width = '90%', height = '60%', zoom_start = 2, tiles = 'OpenStreetMap')\n",
        "folium.Marker(location=[33.8121, -117.9190], popup = 'Disneyland').add_to(usa)\n",
        "folium.Marker(location=[37.2982, -113.0263], popup = 'Zion').add_to(usa)\n",
        "folium.Marker(location=[36.1716, -115.1391], popup = 'Las Vegas').add_to(usa)\n",
        "folium.Marker(location=[44.4280, -110.5885],popup = 'Yellowstone').add_to(usa)\n",
        "folium.Circle(location = [24.5554, -81.7842], radius = 1000, popup = 'Key West', fill = False, color = '#D70040').add_to(usa)\n",
        "folium.CircleMarker(location = [40.7831, -73.9712], radius = 60, popup = 'Manhattan', fill = True, fill_color = '\t#CC5500', color = '#00ffff').add_to(usa)\n",
        "usa\n",
        "# Marker for the Gateway of India\n",
        "\n",
        "# Marker for the Mumbai international airport.\n",
        "\n",
        "# Marker for the Dharavi slum in Mumbai.\n"
      ],
      "execution_count": null,
      "outputs": [
        {
          "output_type": "execute_result",
          "data": {
            "text/plain": [
              "<folium.folium.Map at 0x7f1e1496c110>"
            ],
            "text/html": [
              "<div style=\"width:100%;\"><div style=\"position:relative;width:100%;height:0;padding-bottom:60%;\"><span style=\"color:#565656\">Make this Notebook Trusted to load map: File -> Trust Notebook</span><iframe srcdoc=\"&lt;!DOCTYPE html&gt;\n",
              "&lt;head&gt;    \n",
              "    &lt;meta http-equiv=&quot;content-type&quot; content=&quot;text/html; charset=UTF-8&quot; /&gt;\n",
              "    &lt;script&gt;L_PREFER_CANVAS=false; L_NO_TOUCH=false; L_DISABLE_3D=false;&lt;/script&gt;\n",
              "    &lt;script src=&quot;https://cdn.jsdelivr.net/npm/leaflet@1.4.0/dist/leaflet.js&quot;&gt;&lt;/script&gt;\n",
              "    &lt;script src=&quot;https://code.jquery.com/jquery-1.12.4.min.js&quot;&gt;&lt;/script&gt;\n",
              "    &lt;script src=&quot;https://maxcdn.bootstrapcdn.com/bootstrap/3.2.0/js/bootstrap.min.js&quot;&gt;&lt;/script&gt;\n",
              "    &lt;script src=&quot;https://cdnjs.cloudflare.com/ajax/libs/Leaflet.awesome-markers/2.0.2/leaflet.awesome-markers.js&quot;&gt;&lt;/script&gt;\n",
              "    &lt;link rel=&quot;stylesheet&quot; href=&quot;https://cdn.jsdelivr.net/npm/leaflet@1.4.0/dist/leaflet.css&quot;/&gt;\n",
              "    &lt;link rel=&quot;stylesheet&quot; href=&quot;https://maxcdn.bootstrapcdn.com/bootstrap/3.2.0/css/bootstrap.min.css&quot;/&gt;\n",
              "    &lt;link rel=&quot;stylesheet&quot; href=&quot;https://maxcdn.bootstrapcdn.com/bootstrap/3.2.0/css/bootstrap-theme.min.css&quot;/&gt;\n",
              "    &lt;link rel=&quot;stylesheet&quot; href=&quot;https://maxcdn.bootstrapcdn.com/font-awesome/4.6.3/css/font-awesome.min.css&quot;/&gt;\n",
              "    &lt;link rel=&quot;stylesheet&quot; href=&quot;https://cdnjs.cloudflare.com/ajax/libs/Leaflet.awesome-markers/2.0.2/leaflet.awesome-markers.css&quot;/&gt;\n",
              "    &lt;link rel=&quot;stylesheet&quot; href=&quot;https://rawcdn.githack.com/python-visualization/folium/master/folium/templates/leaflet.awesome.rotate.css&quot;/&gt;\n",
              "    &lt;style&gt;html, body {width: 100%;height: 100%;margin: 0;padding: 0;}&lt;/style&gt;\n",
              "    &lt;style&gt;#map {position:absolute;top:0;bottom:0;right:0;left:0;}&lt;/style&gt;\n",
              "    \n",
              "    &lt;meta name=&quot;viewport&quot; content=&quot;width=device-width,\n",
              "        initial-scale=1.0, maximum-scale=1.0, user-scalable=no&quot; /&gt;\n",
              "    &lt;style&gt;#map_6506e0b7fed2a800c94c6d8bea01a5f0 {\n",
              "        position: relative;\n",
              "        width: 90.0%;\n",
              "        height: 60.0%;\n",
              "        left: 0.0%;\n",
              "        top: 0.0%;\n",
              "        }\n",
              "    &lt;/style&gt;\n",
              "&lt;/head&gt;\n",
              "&lt;body&gt;    \n",
              "    \n",
              "    &lt;div class=&quot;folium-map&quot; id=&quot;map_6506e0b7fed2a800c94c6d8bea01a5f0&quot; &gt;&lt;/div&gt;\n",
              "&lt;/body&gt;\n",
              "&lt;script&gt;    \n",
              "    \n",
              "    \n",
              "        var bounds = null;\n",
              "    \n",
              "\n",
              "    var map_6506e0b7fed2a800c94c6d8bea01a5f0 = L.map(\n",
              "        &#x27;map_6506e0b7fed2a800c94c6d8bea01a5f0&#x27;, {\n",
              "        center: [37.0902, -95.7129],\n",
              "        zoom: 2,\n",
              "        maxBounds: bounds,\n",
              "        layers: [],\n",
              "        worldCopyJump: false,\n",
              "        crs: L.CRS.EPSG3857,\n",
              "        zoomControl: true,\n",
              "        });\n",
              "\n",
              "\n",
              "    \n",
              "    var tile_layer_219c019af977783a3300ce0a715ab0d3 = L.tileLayer(\n",
              "        &#x27;https://{s}.tile.openstreetmap.org/{z}/{x}/{y}.png&#x27;,\n",
              "        {\n",
              "        &quot;attribution&quot;: null,\n",
              "        &quot;detectRetina&quot;: false,\n",
              "        &quot;maxNativeZoom&quot;: 18,\n",
              "        &quot;maxZoom&quot;: 18,\n",
              "        &quot;minZoom&quot;: 0,\n",
              "        &quot;noWrap&quot;: false,\n",
              "        &quot;opacity&quot;: 1,\n",
              "        &quot;subdomains&quot;: &quot;abc&quot;,\n",
              "        &quot;tms&quot;: false\n",
              "}).addTo(map_6506e0b7fed2a800c94c6d8bea01a5f0);\n",
              "    \n",
              "        var marker_eb4c3c2a1a05a044fafa555f6a605ffb = L.marker(\n",
              "            [33.8121, -117.919],\n",
              "            {\n",
              "                icon: new L.Icon.Default(),\n",
              "                }\n",
              "            ).addTo(map_6506e0b7fed2a800c94c6d8bea01a5f0);\n",
              "        \n",
              "    \n",
              "            var popup_0a9d3a009973544514f23c3f32a96755 = L.popup({maxWidth: &#x27;100%&#x27;\n",
              "            \n",
              "            });\n",
              "\n",
              "            \n",
              "                var html_f0aff905444e92f439034705f40d280e = $(`&lt;div id=&quot;html_f0aff905444e92f439034705f40d280e&quot; style=&quot;width: 100.0%; height: 100.0%;&quot;&gt;Disneyland&lt;/div&gt;`)[0];\n",
              "                popup_0a9d3a009973544514f23c3f32a96755.setContent(html_f0aff905444e92f439034705f40d280e);\n",
              "            \n",
              "\n",
              "            marker_eb4c3c2a1a05a044fafa555f6a605ffb.bindPopup(popup_0a9d3a009973544514f23c3f32a96755)\n",
              "            ;\n",
              "\n",
              "            \n",
              "        \n",
              "    \n",
              "        var marker_7d2192a5f189cf01bf409f4443fbd9dd = L.marker(\n",
              "            [37.2982, -113.0263],\n",
              "            {\n",
              "                icon: new L.Icon.Default(),\n",
              "                }\n",
              "            ).addTo(map_6506e0b7fed2a800c94c6d8bea01a5f0);\n",
              "        \n",
              "    \n",
              "            var popup_0ebc37613d53f373cc675e89e9e1f799 = L.popup({maxWidth: &#x27;100%&#x27;\n",
              "            \n",
              "            });\n",
              "\n",
              "            \n",
              "                var html_4a29fe61737b63b4b3f5a06954b5ae72 = $(`&lt;div id=&quot;html_4a29fe61737b63b4b3f5a06954b5ae72&quot; style=&quot;width: 100.0%; height: 100.0%;&quot;&gt;Zion&lt;/div&gt;`)[0];\n",
              "                popup_0ebc37613d53f373cc675e89e9e1f799.setContent(html_4a29fe61737b63b4b3f5a06954b5ae72);\n",
              "            \n",
              "\n",
              "            marker_7d2192a5f189cf01bf409f4443fbd9dd.bindPopup(popup_0ebc37613d53f373cc675e89e9e1f799)\n",
              "            ;\n",
              "\n",
              "            \n",
              "        \n",
              "    \n",
              "        var marker_4913fbf8525e2123fee485bb02d3f118 = L.marker(\n",
              "            [36.1716, -115.1391],\n",
              "            {\n",
              "                icon: new L.Icon.Default(),\n",
              "                }\n",
              "            ).addTo(map_6506e0b7fed2a800c94c6d8bea01a5f0);\n",
              "        \n",
              "    \n",
              "            var popup_da9a61507d47db25d70287ad429a591b = L.popup({maxWidth: &#x27;100%&#x27;\n",
              "            \n",
              "            });\n",
              "\n",
              "            \n",
              "                var html_c2b6cd09d1ce2279f6342e5424e3cace = $(`&lt;div id=&quot;html_c2b6cd09d1ce2279f6342e5424e3cace&quot; style=&quot;width: 100.0%; height: 100.0%;&quot;&gt;Las Vegas&lt;/div&gt;`)[0];\n",
              "                popup_da9a61507d47db25d70287ad429a591b.setContent(html_c2b6cd09d1ce2279f6342e5424e3cace);\n",
              "            \n",
              "\n",
              "            marker_4913fbf8525e2123fee485bb02d3f118.bindPopup(popup_da9a61507d47db25d70287ad429a591b)\n",
              "            ;\n",
              "\n",
              "            \n",
              "        \n",
              "    \n",
              "        var marker_335bb7cd0a180c032a2d180e1b09eee8 = L.marker(\n",
              "            [44.428, -110.5885],\n",
              "            {\n",
              "                icon: new L.Icon.Default(),\n",
              "                }\n",
              "            ).addTo(map_6506e0b7fed2a800c94c6d8bea01a5f0);\n",
              "        \n",
              "    \n",
              "            var popup_97d5241187b75cb84aa9aa1ff046dc0f = L.popup({maxWidth: &#x27;100%&#x27;\n",
              "            \n",
              "            });\n",
              "\n",
              "            \n",
              "                var html_d1f3032c1e91b84dd1acddcec2e8dd1c = $(`&lt;div id=&quot;html_d1f3032c1e91b84dd1acddcec2e8dd1c&quot; style=&quot;width: 100.0%; height: 100.0%;&quot;&gt;Yellowstone&lt;/div&gt;`)[0];\n",
              "                popup_97d5241187b75cb84aa9aa1ff046dc0f.setContent(html_d1f3032c1e91b84dd1acddcec2e8dd1c);\n",
              "            \n",
              "\n",
              "            marker_335bb7cd0a180c032a2d180e1b09eee8.bindPopup(popup_97d5241187b75cb84aa9aa1ff046dc0f)\n",
              "            ;\n",
              "\n",
              "            \n",
              "        \n",
              "    \n",
              "\n",
              "            var circle_a9143148d46d4158062c4faa2a038e03 = L.circle(\n",
              "                [24.5554, -81.7842],\n",
              "                {\n",
              "  &quot;bubblingMouseEvents&quot;: true,\n",
              "  &quot;color&quot;: &quot;#D70040&quot;,\n",
              "  &quot;dashArray&quot;: null,\n",
              "  &quot;dashOffset&quot;: null,\n",
              "  &quot;fill&quot;: false,\n",
              "  &quot;fillColor&quot;: &quot;#D70040&quot;,\n",
              "  &quot;fillOpacity&quot;: 0.2,\n",
              "  &quot;fillRule&quot;: &quot;evenodd&quot;,\n",
              "  &quot;lineCap&quot;: &quot;round&quot;,\n",
              "  &quot;lineJoin&quot;: &quot;round&quot;,\n",
              "  &quot;opacity&quot;: 1.0,\n",
              "  &quot;radius&quot;: 1000,\n",
              "  &quot;stroke&quot;: true,\n",
              "  &quot;weight&quot;: 3\n",
              "}\n",
              "                )\n",
              "                .addTo(map_6506e0b7fed2a800c94c6d8bea01a5f0);\n",
              "            \n",
              "    \n",
              "            var popup_c5c90e142ab91606f4fd21b70aa17751 = L.popup({maxWidth: &#x27;100%&#x27;\n",
              "            \n",
              "            });\n",
              "\n",
              "            \n",
              "                var html_c7167be21ab51a9151f055a9281fb23d = $(`&lt;div id=&quot;html_c7167be21ab51a9151f055a9281fb23d&quot; style=&quot;width: 100.0%; height: 100.0%;&quot;&gt;Key West&lt;/div&gt;`)[0];\n",
              "                popup_c5c90e142ab91606f4fd21b70aa17751.setContent(html_c7167be21ab51a9151f055a9281fb23d);\n",
              "            \n",
              "\n",
              "            circle_a9143148d46d4158062c4faa2a038e03.bindPopup(popup_c5c90e142ab91606f4fd21b70aa17751)\n",
              "            ;\n",
              "\n",
              "            \n",
              "        \n",
              "    \n",
              "            var circle_marker_062abba33e44d1307444d133213c1eee = L.circleMarker(\n",
              "                [40.7831, -73.9712],\n",
              "                {\n",
              "  &quot;bubblingMouseEvents&quot;: true,\n",
              "  &quot;color&quot;: &quot;#00ffff&quot;,\n",
              "  &quot;dashArray&quot;: null,\n",
              "  &quot;dashOffset&quot;: null,\n",
              "  &quot;fill&quot;: true,\n",
              "  &quot;fillColor&quot;: &quot;\\t#CC5500&quot;,\n",
              "  &quot;fillOpacity&quot;: 0.2,\n",
              "  &quot;fillRule&quot;: &quot;evenodd&quot;,\n",
              "  &quot;lineCap&quot;: &quot;round&quot;,\n",
              "  &quot;lineJoin&quot;: &quot;round&quot;,\n",
              "  &quot;opacity&quot;: 1.0,\n",
              "  &quot;radius&quot;: 60,\n",
              "  &quot;stroke&quot;: true,\n",
              "  &quot;weight&quot;: 3\n",
              "}\n",
              "                )\n",
              "                .addTo(map_6506e0b7fed2a800c94c6d8bea01a5f0);\n",
              "            \n",
              "    \n",
              "            var popup_c5d96d8e9d420bde49a760361ac99ff0 = L.popup({maxWidth: &#x27;100%&#x27;\n",
              "            \n",
              "            });\n",
              "\n",
              "            \n",
              "                var html_f62744e7735339328af0a622444e20e4 = $(`&lt;div id=&quot;html_f62744e7735339328af0a622444e20e4&quot; style=&quot;width: 100.0%; height: 100.0%;&quot;&gt;Manhattan&lt;/div&gt;`)[0];\n",
              "                popup_c5d96d8e9d420bde49a760361ac99ff0.setContent(html_f62744e7735339328af0a622444e20e4);\n",
              "            \n",
              "\n",
              "            circle_marker_062abba33e44d1307444d133213c1eee.bindPopup(popup_c5d96d8e9d420bde49a760361ac99ff0)\n",
              "            ;\n",
              "\n",
              "            \n",
              "        \n",
              "&lt;/script&gt;\" style=\"position:absolute;width:100%;height:100%;left:0;top:0;border:none !important;\" allowfullscreen webkitallowfullscreen mozallowfullscreen></iframe></div></div>"
            ]
          },
          "metadata": {},
          "execution_count": 16
        }
      ]
    },
    {
      "cell_type": "code",
      "source": [
        "kyoto = folium.Map(location = [35.0116, 135.7681], width = '90%', height = '60%', zoom_start = 20, tiles = 'OpenStreetMap')\n",
        "folium.Marker(location = [35.0116, 135.7681], popup = 'Kyoto', icon = folium.Icon(color  = '#FFC300', icon = \"info-sign\")).add_to(kyoto)\n",
        "\n",
        "kyoto"
      ],
      "metadata": {
        "colab": {
          "base_uri": "https://localhost:8080/",
          "height": 968
        },
        "id": "Muvn0i58iWMN",
        "outputId": "d4b4554b-3ea7-4961-b61a-d3066a85c4ee"
      },
      "execution_count": null,
      "outputs": [
        {
          "output_type": "execute_result",
          "data": {
            "text/plain": [
              "<folium.folium.Map at 0x7f1e14893e90>"
            ],
            "text/html": [
              "<div style=\"width:100%;\"><div style=\"position:relative;width:100%;height:0;padding-bottom:60%;\"><span style=\"color:#565656\">Make this Notebook Trusted to load map: File -> Trust Notebook</span><iframe srcdoc=\"&lt;!DOCTYPE html&gt;\n",
              "&lt;head&gt;    \n",
              "    &lt;meta http-equiv=&quot;content-type&quot; content=&quot;text/html; charset=UTF-8&quot; /&gt;\n",
              "    &lt;script&gt;L_PREFER_CANVAS=false; L_NO_TOUCH=false; L_DISABLE_3D=false;&lt;/script&gt;\n",
              "    &lt;script src=&quot;https://cdn.jsdelivr.net/npm/leaflet@1.4.0/dist/leaflet.js&quot;&gt;&lt;/script&gt;\n",
              "    &lt;script src=&quot;https://code.jquery.com/jquery-1.12.4.min.js&quot;&gt;&lt;/script&gt;\n",
              "    &lt;script src=&quot;https://maxcdn.bootstrapcdn.com/bootstrap/3.2.0/js/bootstrap.min.js&quot;&gt;&lt;/script&gt;\n",
              "    &lt;script src=&quot;https://cdnjs.cloudflare.com/ajax/libs/Leaflet.awesome-markers/2.0.2/leaflet.awesome-markers.js&quot;&gt;&lt;/script&gt;\n",
              "    &lt;link rel=&quot;stylesheet&quot; href=&quot;https://cdn.jsdelivr.net/npm/leaflet@1.4.0/dist/leaflet.css&quot;/&gt;\n",
              "    &lt;link rel=&quot;stylesheet&quot; href=&quot;https://maxcdn.bootstrapcdn.com/bootstrap/3.2.0/css/bootstrap.min.css&quot;/&gt;\n",
              "    &lt;link rel=&quot;stylesheet&quot; href=&quot;https://maxcdn.bootstrapcdn.com/bootstrap/3.2.0/css/bootstrap-theme.min.css&quot;/&gt;\n",
              "    &lt;link rel=&quot;stylesheet&quot; href=&quot;https://maxcdn.bootstrapcdn.com/font-awesome/4.6.3/css/font-awesome.min.css&quot;/&gt;\n",
              "    &lt;link rel=&quot;stylesheet&quot; href=&quot;https://cdnjs.cloudflare.com/ajax/libs/Leaflet.awesome-markers/2.0.2/leaflet.awesome-markers.css&quot;/&gt;\n",
              "    &lt;link rel=&quot;stylesheet&quot; href=&quot;https://rawcdn.githack.com/python-visualization/folium/master/folium/templates/leaflet.awesome.rotate.css&quot;/&gt;\n",
              "    &lt;style&gt;html, body {width: 100%;height: 100%;margin: 0;padding: 0;}&lt;/style&gt;\n",
              "    &lt;style&gt;#map {position:absolute;top:0;bottom:0;right:0;left:0;}&lt;/style&gt;\n",
              "    \n",
              "    &lt;meta name=&quot;viewport&quot; content=&quot;width=device-width,\n",
              "        initial-scale=1.0, maximum-scale=1.0, user-scalable=no&quot; /&gt;\n",
              "    &lt;style&gt;#map_edd040d5711f4521a2844a99fedc7037 {\n",
              "        position: relative;\n",
              "        width: 90.0%;\n",
              "        height: 60.0%;\n",
              "        left: 0.0%;\n",
              "        top: 0.0%;\n",
              "        }\n",
              "    &lt;/style&gt;\n",
              "&lt;/head&gt;\n",
              "&lt;body&gt;    \n",
              "    \n",
              "    &lt;div class=&quot;folium-map&quot; id=&quot;map_edd040d5711f4521a2844a99fedc7037&quot; &gt;&lt;/div&gt;\n",
              "&lt;/body&gt;\n",
              "&lt;script&gt;    \n",
              "    \n",
              "    \n",
              "        var bounds = null;\n",
              "    \n",
              "\n",
              "    var map_edd040d5711f4521a2844a99fedc7037 = L.map(\n",
              "        &#x27;map_edd040d5711f4521a2844a99fedc7037&#x27;, {\n",
              "        center: [35.0116, 135.7681],\n",
              "        zoom: 20,\n",
              "        maxBounds: bounds,\n",
              "        layers: [],\n",
              "        worldCopyJump: false,\n",
              "        crs: L.CRS.EPSG3857,\n",
              "        zoomControl: true,\n",
              "        });\n",
              "\n",
              "\n",
              "    \n",
              "    var tile_layer_37af4dabd2a60a84aa0999ad3bf20995 = L.tileLayer(\n",
              "        &#x27;https://{s}.tile.openstreetmap.org/{z}/{x}/{y}.png&#x27;,\n",
              "        {\n",
              "        &quot;attribution&quot;: null,\n",
              "        &quot;detectRetina&quot;: false,\n",
              "        &quot;maxNativeZoom&quot;: 18,\n",
              "        &quot;maxZoom&quot;: 18,\n",
              "        &quot;minZoom&quot;: 0,\n",
              "        &quot;noWrap&quot;: false,\n",
              "        &quot;opacity&quot;: 1,\n",
              "        &quot;subdomains&quot;: &quot;abc&quot;,\n",
              "        &quot;tms&quot;: false\n",
              "}).addTo(map_edd040d5711f4521a2844a99fedc7037);\n",
              "    \n",
              "        var marker_725522f3aef1e49c0892f157578e0021 = L.marker(\n",
              "            [35.0116, 135.7681],\n",
              "            {\n",
              "                icon: new L.Icon.Default(),\n",
              "                }\n",
              "            ).addTo(map_edd040d5711f4521a2844a99fedc7037);\n",
              "        \n",
              "    \n",
              "\n",
              "                var icon_b96fed7c2d76c7f0c352ead31cee86dc = L.AwesomeMarkers.icon({\n",
              "                    icon: &#x27;info-sign&#x27;,\n",
              "                    iconColor: &#x27;white&#x27;,\n",
              "                    markerColor: &#x27;#FFC300&#x27;,\n",
              "                    prefix: &#x27;glyphicon&#x27;,\n",
              "                    extraClasses: &#x27;fa-rotate-0&#x27;\n",
              "                    });\n",
              "                marker_725522f3aef1e49c0892f157578e0021.setIcon(icon_b96fed7c2d76c7f0c352ead31cee86dc);\n",
              "            \n",
              "    \n",
              "            var popup_988d58702a34f8c23dbfefde13f5c337 = L.popup({maxWidth: &#x27;100%&#x27;\n",
              "            \n",
              "            });\n",
              "\n",
              "            \n",
              "                var html_b6b5116cac569ab621199fb3c5a5ebee = $(`&lt;div id=&quot;html_b6b5116cac569ab621199fb3c5a5ebee&quot; style=&quot;width: 100.0%; height: 100.0%;&quot;&gt;Kyoto&lt;/div&gt;`)[0];\n",
              "                popup_988d58702a34f8c23dbfefde13f5c337.setContent(html_b6b5116cac569ab621199fb3c5a5ebee);\n",
              "            \n",
              "\n",
              "            marker_725522f3aef1e49c0892f157578e0021.bindPopup(popup_988d58702a34f8c23dbfefde13f5c337)\n",
              "            ;\n",
              "\n",
              "            \n",
              "        \n",
              "&lt;/script&gt;\" style=\"position:absolute;width:100%;height:100%;left:0;top:0;border:none !important;\" allowfullscreen webkitallowfullscreen mozallowfullscreen></iframe></div></div>"
            ]
          },
          "metadata": {},
          "execution_count": 24
        }
      ]
    },
    {
      "cell_type": "markdown",
      "metadata": {
        "id": "P_zLvSwqpW53"
      },
      "source": [
        "As you zoom-in and out of the map, the radius of the circular marker created using the `folium.Circle()` function increases and decreases whereas the radius of the circular marker created using the `folium.CircleMarker()` remains the same because the latter circular marker occupies the fixed number of pixels on the map.\n",
        "\n",
        "\n",
        "So, that's it for this class. In the next class, we will create cartograms and add the markers for the meteorite landing sites. Here's one of the examples:\n",
        "\n",
        "<img src='https://student-datasets-bucket.s3.ap-south-1.amazonaws.com/images/lesson-22/sample_met_lands_cartogram.png' width=900>\n",
        "\n",
        "You repeat the same activities covered in this class by creating a cartogram for New Delhi or any other city you like. You can get the coordinates of your desired place through Google.\n",
        "\n",
        "If you are interested, you can read more about the `folium` module by clicking on the link provided in the **Activities** section under the title **Folium Documentation**.\n",
        "\n"
      ]
    },
    {
      "cell_type": "markdown",
      "metadata": {
        "id": "ZOmZofZbGlkv"
      },
      "source": [
        "---"
      ]
    }
  ]
}