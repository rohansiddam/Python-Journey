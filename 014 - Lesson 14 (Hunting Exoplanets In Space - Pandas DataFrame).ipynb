{
  "nbformat": 4,
  "nbformat_minor": 0,
  "metadata": {
    "colab": {
      "provenance": [],
      "include_colab_link": true
    },
    "kernelspec": {
      "name": "python3",
      "display_name": "Python 3"
    }
  },
  "cells": [
    {
      "cell_type": "markdown",
      "metadata": {
        "id": "view-in-github",
        "colab_type": "text"
      },
      "source": [
        "<a href=\"https://colab.research.google.com/github/rohansiddam/Python-Journey/blob/main/014%20-%20Lesson%2014%20(Hunting%20Exoplanets%20In%20Space%20-%20Pandas%20DataFrame).ipynb\" target=\"_parent\"><img src=\"https://colab.research.google.com/assets/colab-badge.svg\" alt=\"Open In Colab\"/></a>"
      ]
    },
    {
      "cell_type": "markdown",
      "metadata": {
        "id": "X-yRjeBfrIzI"
      },
      "source": [
        "# Lesson 14: Hunting Exoplanets In Space - Pandas DataFrame"
      ]
    },
    {
      "cell_type": "markdown",
      "metadata": {
        "id": "Fb6GsywkBTPn"
      },
      "source": [
        "### Teacher-Student Activities\n",
        "\n",
        "In the last class, we learnt about the Pandas series. Now in this lesson, we will learn about Pandas DataFrame which is a collection of Pandas series. In other words, a Pandas DataFrame is a two-dimensional array.\n",
        "\n",
        "In the process of learning Pandas DataFrames, we will learn how NASA finds the exoplanets in the universe. There are deep Physical and mathematical theories on exploring exoplanets in the space. But we will not go through all of that. Right now, we just need to understand the basic principle behind these theories to be able to learn how the exoplanets are found."
      ]
    },
    {
      "cell_type": "markdown",
      "metadata": {
        "id": "K-zCMmreBUaH"
      },
      "source": [
        "---"
      ]
    },
    {
      "cell_type": "markdown",
      "metadata": {
        "id": "YdmZPtYSn7kA"
      },
      "source": [
        "\n",
        "\n",
        "### Finding Exoplanets Principle\n",
        "\n",
        "Imagine that you are in your room during the day time with the window curtains open. The room probably would be well-lit. Now, imagine that you close the curtains of the window and block the sunlight from entering the room. In this situation, the room would be darker and the visibility would be low.\n",
        "\n",
        "So, whenever the curtains are open, the brightness of the light would be higher whereas when the curtains are closed, the brightness would be lower. We can measure the brightness of the light using a spectroscope.\n",
        "\n",
        "The same principle is applied in searching for an exoplanet. There are billions of galaxies in the universe. These galaxies have millions of stars. One such galaxy is the Milky-way galaxy in which our solar system exists. The solar system has a star called Sun which has its own light. In astronomy, a star is a heavenly body which has its own light. There are 8 planets in our solar system orbiting around the Sun. Similar to this, in some other galaxy there would be a star and probably a planet would be revolving around that star.\n",
        "\n",
        "Long back, NASA placed a telescope called Kepler telescope in the space. This telescope is used to measure the brightness of the stars in the far-distant galaxies.\n",
        "\n",
        "\n",
        "<img src='https://student-datasets-bucket.s3.ap-south-1.amazonaws.com/whitehat-ds-datasets/kepler-exoplanets-dataset/kepler-space-telescope.jpg' width=\"800\">\n",
        "\n",
        "*Image credits: http://kepler.nasa.gov/Mission/discoveries/discoverygraphics/*\n",
        "\n",
        "Whenever a planet, while orbiting its star, comes in between the telescope and the star, the brightness of the star recorded by the telescope is lower whereas when the planet goes behind the star, the brightness of the light recorded by the telescope is higher.\n",
        "\n",
        "This method of detecting exoplanets in far-distant galaxies through the brightness of the light emitted by a star is called the **Transit Method**. You can read about it by clicking on the link provided in the **Activities** section under the title **How Do Astronomers Find Exoplanets?**\n",
        "\n",
        "Essentially, if you plot the brightness on the vertical axis and the time on the horizontal axis, then you will see that the brightness of the star recorded by the telescope increases and decreases periodically. Thus, in the graph, you will notice a wave-like pattern. This indicates that the star definitely has at least one planet.\n",
        "\n",
        "<img src = 'https://student-datasets-bucket.s3.ap-south-1.amazonaws.com/whitehat-ds-datasets/kepler-exoplanets-dataset/transit-method-gif.gif' width='800'>\n",
        "\n",
        "*Image credits: https://imgur.com/r/SpaceGifs/43f17Ke*\n",
        "\n",
        "The image below shows some of the exoplanets (Kepler 4b to Kepler 8b) discovered by the Kepler space telescope. You can see the brightness level radiated by the star for each planet. The Flux values on the vertical axis represent the brightness level of the star.\n",
        "\n",
        "<img src = 'https://student-datasets-bucket.s3.ap-south-1.amazonaws.com/whitehat-ds-datasets/kepler-exoplanets-dataset/transit-method.jpg' width='800'>\n",
        "\n",
        "*Image credits: http://kepler.nasa.gov/Mission/discoveries/discoverygraphics/*\n",
        "\n",
        "As you can see in the image above, the bigger the planet (Kepler 6b), deeper the dip in the brightness level. And, the longer the orbital period of a planet, broader is the width of the dip (Kepler 7b). Kepler 7b has the greatest orbital period of 4.9 days among these 5 planets.\n",
        "\n",
        "So, this is how NASA finds a planet beyond our solar system. Now, let's use Kepler space telescope dataset to create a Pandas DataFrame in order to find out which stars beyond our solar system have a planet."
      ]
    },
    {
      "cell_type": "markdown",
      "metadata": {
        "id": "eq9mAtEg9cpZ"
      },
      "source": [
        "---"
      ]
    },
    {
      "cell_type": "markdown",
      "metadata": {
        "id": "OwzryU6Zie33"
      },
      "source": [
        "#### Activity 1: Loading A CSV File^^\n",
        "\n",
        "Generally, we store data in different files such as text (`txt` format) file, comma-separated value (`csv` format) file, tab-separated value (`tsv` format) file etc. We can read the contents of these files through Python.\n",
        "\n",
        "A comma-separated value (`csv`) file is used most commonly to store data.\n",
        "\n",
        "To load or read the contents of a `csv` file, we can use the `read_csv()` function in Pandas. The data is read in the form of a two-dimensional array called a **Pandas DataFrame**.\n",
        "\n",
        "As an input to the `read_csv()` function, we need to provide the full-location of the `csv` file that we wish to read in the string format. The file that we wish to read is stored in cloud storage.\n",
        "\n",
        "Here's the link to the file.\n",
        "\n",
        "https://student-datasets-bucket.s3.ap-south-1.amazonaws.com/whitehat-ds-datasets/kepler-exoplanets-dataset/exoTrain.csv\n",
        "\n",
        "In the above link, `exoTrain.csv` is the name of the `csv` file. We will create Pandas DataFrame using this file."
      ]
    },
    {
      "cell_type": "code",
      "metadata": {
        "id": "zjScdqmQstFg",
        "colab": {
          "base_uri": "https://localhost:8080/",
          "height": 299
        },
        "outputId": "2a1cf9ca-d2e6-4480-a9ad-0a4910264606"
      },
      "source": [
        "# Teacher Action: Read a 'csv' file using the 'read_csv()' function. Also, display the first 5 rows of the DataFrame using the 'head()' function.\n",
        "# First of all we have to import the Pandas module with pd as an alias (or nickname).\n",
        "import pandas as pd\n",
        "csv_file = \"https://student-datasets-bucket.s3.ap-south-1.amazonaws.com/whitehat-ds-datasets/kepler-exoplanets-dataset/exoTrain.csv\"\n",
        "exoTrain = pd.read_csv(csv_file)\n",
        "exoTrain.head()"
      ],
      "execution_count": null,
      "outputs": [
        {
          "output_type": "execute_result",
          "data": {
            "text/plain": [
              "   LABEL   FLUX.1   FLUX.2   FLUX.3   FLUX.4   FLUX.5   FLUX.6  FLUX.7  \\\n",
              "0      2    93.85    83.81    20.10   -26.98   -39.56  -124.71 -135.18   \n",
              "1      2   -38.88   -33.83   -58.54   -40.09   -79.31   -72.81  -86.55   \n",
              "2      2   532.64   535.92   513.73   496.92   456.45   466.00  464.50   \n",
              "3      2   326.52   347.39   302.35   298.13   317.74   312.70  322.33   \n",
              "4      2 -1107.21 -1112.59 -1118.95 -1095.10 -1057.55 -1034.48 -998.34   \n",
              "\n",
              "    FLUX.8  FLUX.9  ...  FLUX.3188  FLUX.3189  FLUX.3190  FLUX.3191  \\\n",
              "0   -96.27  -79.89  ...     -78.07    -102.15    -102.15      25.13   \n",
              "1   -85.33  -83.97  ...      -3.28     -32.21     -32.21     -24.89   \n",
              "2   486.39  436.56  ...     -71.69      13.31      13.31     -29.89   \n",
              "3   311.31  312.42  ...       5.71      -3.73      -3.73      30.05   \n",
              "4 -1022.71 -989.57  ...    -594.37    -401.66    -401.66    -357.24   \n",
              "\n",
              "   FLUX.3192  FLUX.3193  FLUX.3194  FLUX.3195  FLUX.3196  FLUX.3197  \n",
              "0      48.57      92.54      39.32      61.42       5.08     -39.54  \n",
              "1      -4.86       0.76     -11.70       6.46      16.00      19.93  \n",
              "2     -20.88       5.06     -11.80     -28.91     -70.02     -96.67  \n",
              "3      20.03     -12.67      -8.77     -17.31     -17.35      13.98  \n",
              "4    -443.76    -438.54    -399.71    -384.65    -411.79    -510.54  \n",
              "\n",
              "[5 rows x 3198 columns]"
            ],
            "text/html": [
              "\n",
              "  <div id=\"df-648adadd-f9e6-4bde-9b36-44a3c2a84e0a\">\n",
              "    <div class=\"colab-df-container\">\n",
              "      <div>\n",
              "<style scoped>\n",
              "    .dataframe tbody tr th:only-of-type {\n",
              "        vertical-align: middle;\n",
              "    }\n",
              "\n",
              "    .dataframe tbody tr th {\n",
              "        vertical-align: top;\n",
              "    }\n",
              "\n",
              "    .dataframe thead th {\n",
              "        text-align: right;\n",
              "    }\n",
              "</style>\n",
              "<table border=\"1\" class=\"dataframe\">\n",
              "  <thead>\n",
              "    <tr style=\"text-align: right;\">\n",
              "      <th></th>\n",
              "      <th>LABEL</th>\n",
              "      <th>FLUX.1</th>\n",
              "      <th>FLUX.2</th>\n",
              "      <th>FLUX.3</th>\n",
              "      <th>FLUX.4</th>\n",
              "      <th>FLUX.5</th>\n",
              "      <th>FLUX.6</th>\n",
              "      <th>FLUX.7</th>\n",
              "      <th>FLUX.8</th>\n",
              "      <th>FLUX.9</th>\n",
              "      <th>...</th>\n",
              "      <th>FLUX.3188</th>\n",
              "      <th>FLUX.3189</th>\n",
              "      <th>FLUX.3190</th>\n",
              "      <th>FLUX.3191</th>\n",
              "      <th>FLUX.3192</th>\n",
              "      <th>FLUX.3193</th>\n",
              "      <th>FLUX.3194</th>\n",
              "      <th>FLUX.3195</th>\n",
              "      <th>FLUX.3196</th>\n",
              "      <th>FLUX.3197</th>\n",
              "    </tr>\n",
              "  </thead>\n",
              "  <tbody>\n",
              "    <tr>\n",
              "      <th>0</th>\n",
              "      <td>2</td>\n",
              "      <td>93.85</td>\n",
              "      <td>83.81</td>\n",
              "      <td>20.10</td>\n",
              "      <td>-26.98</td>\n",
              "      <td>-39.56</td>\n",
              "      <td>-124.71</td>\n",
              "      <td>-135.18</td>\n",
              "      <td>-96.27</td>\n",
              "      <td>-79.89</td>\n",
              "      <td>...</td>\n",
              "      <td>-78.07</td>\n",
              "      <td>-102.15</td>\n",
              "      <td>-102.15</td>\n",
              "      <td>25.13</td>\n",
              "      <td>48.57</td>\n",
              "      <td>92.54</td>\n",
              "      <td>39.32</td>\n",
              "      <td>61.42</td>\n",
              "      <td>5.08</td>\n",
              "      <td>-39.54</td>\n",
              "    </tr>\n",
              "    <tr>\n",
              "      <th>1</th>\n",
              "      <td>2</td>\n",
              "      <td>-38.88</td>\n",
              "      <td>-33.83</td>\n",
              "      <td>-58.54</td>\n",
              "      <td>-40.09</td>\n",
              "      <td>-79.31</td>\n",
              "      <td>-72.81</td>\n",
              "      <td>-86.55</td>\n",
              "      <td>-85.33</td>\n",
              "      <td>-83.97</td>\n",
              "      <td>...</td>\n",
              "      <td>-3.28</td>\n",
              "      <td>-32.21</td>\n",
              "      <td>-32.21</td>\n",
              "      <td>-24.89</td>\n",
              "      <td>-4.86</td>\n",
              "      <td>0.76</td>\n",
              "      <td>-11.70</td>\n",
              "      <td>6.46</td>\n",
              "      <td>16.00</td>\n",
              "      <td>19.93</td>\n",
              "    </tr>\n",
              "    <tr>\n",
              "      <th>2</th>\n",
              "      <td>2</td>\n",
              "      <td>532.64</td>\n",
              "      <td>535.92</td>\n",
              "      <td>513.73</td>\n",
              "      <td>496.92</td>\n",
              "      <td>456.45</td>\n",
              "      <td>466.00</td>\n",
              "      <td>464.50</td>\n",
              "      <td>486.39</td>\n",
              "      <td>436.56</td>\n",
              "      <td>...</td>\n",
              "      <td>-71.69</td>\n",
              "      <td>13.31</td>\n",
              "      <td>13.31</td>\n",
              "      <td>-29.89</td>\n",
              "      <td>-20.88</td>\n",
              "      <td>5.06</td>\n",
              "      <td>-11.80</td>\n",
              "      <td>-28.91</td>\n",
              "      <td>-70.02</td>\n",
              "      <td>-96.67</td>\n",
              "    </tr>\n",
              "    <tr>\n",
              "      <th>3</th>\n",
              "      <td>2</td>\n",
              "      <td>326.52</td>\n",
              "      <td>347.39</td>\n",
              "      <td>302.35</td>\n",
              "      <td>298.13</td>\n",
              "      <td>317.74</td>\n",
              "      <td>312.70</td>\n",
              "      <td>322.33</td>\n",
              "      <td>311.31</td>\n",
              "      <td>312.42</td>\n",
              "      <td>...</td>\n",
              "      <td>5.71</td>\n",
              "      <td>-3.73</td>\n",
              "      <td>-3.73</td>\n",
              "      <td>30.05</td>\n",
              "      <td>20.03</td>\n",
              "      <td>-12.67</td>\n",
              "      <td>-8.77</td>\n",
              "      <td>-17.31</td>\n",
              "      <td>-17.35</td>\n",
              "      <td>13.98</td>\n",
              "    </tr>\n",
              "    <tr>\n",
              "      <th>4</th>\n",
              "      <td>2</td>\n",
              "      <td>-1107.21</td>\n",
              "      <td>-1112.59</td>\n",
              "      <td>-1118.95</td>\n",
              "      <td>-1095.10</td>\n",
              "      <td>-1057.55</td>\n",
              "      <td>-1034.48</td>\n",
              "      <td>-998.34</td>\n",
              "      <td>-1022.71</td>\n",
              "      <td>-989.57</td>\n",
              "      <td>...</td>\n",
              "      <td>-594.37</td>\n",
              "      <td>-401.66</td>\n",
              "      <td>-401.66</td>\n",
              "      <td>-357.24</td>\n",
              "      <td>-443.76</td>\n",
              "      <td>-438.54</td>\n",
              "      <td>-399.71</td>\n",
              "      <td>-384.65</td>\n",
              "      <td>-411.79</td>\n",
              "      <td>-510.54</td>\n",
              "    </tr>\n",
              "  </tbody>\n",
              "</table>\n",
              "<p>5 rows × 3198 columns</p>\n",
              "</div>\n",
              "      <button class=\"colab-df-convert\" onclick=\"convertToInteractive('df-648adadd-f9e6-4bde-9b36-44a3c2a84e0a')\"\n",
              "              title=\"Convert this dataframe to an interactive table.\"\n",
              "              style=\"display:none;\">\n",
              "        \n",
              "  <svg xmlns=\"http://www.w3.org/2000/svg\" height=\"24px\"viewBox=\"0 0 24 24\"\n",
              "       width=\"24px\">\n",
              "    <path d=\"M0 0h24v24H0V0z\" fill=\"none\"/>\n",
              "    <path d=\"M18.56 5.44l.94 2.06.94-2.06 2.06-.94-2.06-.94-.94-2.06-.94 2.06-2.06.94zm-11 1L8.5 8.5l.94-2.06 2.06-.94-2.06-.94L8.5 2.5l-.94 2.06-2.06.94zm10 10l.94 2.06.94-2.06 2.06-.94-2.06-.94-.94-2.06-.94 2.06-2.06.94z\"/><path d=\"M17.41 7.96l-1.37-1.37c-.4-.4-.92-.59-1.43-.59-.52 0-1.04.2-1.43.59L10.3 9.45l-7.72 7.72c-.78.78-.78 2.05 0 2.83L4 21.41c.39.39.9.59 1.41.59.51 0 1.02-.2 1.41-.59l7.78-7.78 2.81-2.81c.8-.78.8-2.07 0-2.86zM5.41 20L4 18.59l7.72-7.72 1.47 1.35L5.41 20z\"/>\n",
              "  </svg>\n",
              "      </button>\n",
              "      \n",
              "  <style>\n",
              "    .colab-df-container {\n",
              "      display:flex;\n",
              "      flex-wrap:wrap;\n",
              "      gap: 12px;\n",
              "    }\n",
              "\n",
              "    .colab-df-convert {\n",
              "      background-color: #E8F0FE;\n",
              "      border: none;\n",
              "      border-radius: 50%;\n",
              "      cursor: pointer;\n",
              "      display: none;\n",
              "      fill: #1967D2;\n",
              "      height: 32px;\n",
              "      padding: 0 0 0 0;\n",
              "      width: 32px;\n",
              "    }\n",
              "\n",
              "    .colab-df-convert:hover {\n",
              "      background-color: #E2EBFA;\n",
              "      box-shadow: 0px 1px 2px rgba(60, 64, 67, 0.3), 0px 1px 3px 1px rgba(60, 64, 67, 0.15);\n",
              "      fill: #174EA6;\n",
              "    }\n",
              "\n",
              "    [theme=dark] .colab-df-convert {\n",
              "      background-color: #3B4455;\n",
              "      fill: #D2E3FC;\n",
              "    }\n",
              "\n",
              "    [theme=dark] .colab-df-convert:hover {\n",
              "      background-color: #434B5C;\n",
              "      box-shadow: 0px 1px 3px 1px rgba(0, 0, 0, 0.15);\n",
              "      filter: drop-shadow(0px 1px 2px rgba(0, 0, 0, 0.3));\n",
              "      fill: #FFFFFF;\n",
              "    }\n",
              "  </style>\n",
              "\n",
              "      <script>\n",
              "        const buttonEl =\n",
              "          document.querySelector('#df-648adadd-f9e6-4bde-9b36-44a3c2a84e0a button.colab-df-convert');\n",
              "        buttonEl.style.display =\n",
              "          google.colab.kernel.accessAllowed ? 'block' : 'none';\n",
              "\n",
              "        async function convertToInteractive(key) {\n",
              "          const element = document.querySelector('#df-648adadd-f9e6-4bde-9b36-44a3c2a84e0a');\n",
              "          const dataTable =\n",
              "            await google.colab.kernel.invokeFunction('convertToInteractive',\n",
              "                                                     [key], {});\n",
              "          if (!dataTable) return;\n",
              "\n",
              "          const docLinkHtml = 'Like what you see? Visit the ' +\n",
              "            '<a target=\"_blank\" href=https://colab.research.google.com/notebooks/data_table.ipynb>data table notebook</a>'\n",
              "            + ' to learn more about interactive tables.';\n",
              "          element.innerHTML = '';\n",
              "          dataTable['output_type'] = 'display_data';\n",
              "          await google.colab.output.renderOutput(dataTable, element);\n",
              "          const docLink = document.createElement('div');\n",
              "          docLink.innerHTML = docLinkHtml;\n",
              "          element.appendChild(docLink);\n",
              "        }\n",
              "      </script>\n",
              "    </div>\n",
              "  </div>\n",
              "  "
            ]
          },
          "metadata": {},
          "execution_count": 1
        }
      ]
    },
    {
      "cell_type": "markdown",
      "metadata": {
        "id": "D4RGB9jb9hym"
      },
      "source": [
        "As you can see, we have created a Pandas DataFrame for the `exoTrain.csv` file and stored it in the `exo_train_df` variable.\n",
        "\n",
        "Now, you create a DataFrame for the `exoTest.csv` file and store it in a variable called `exo_test_df`. Here is the link to the file.\n",
        "\n",
        "https://student-datasets-bucket.s3.ap-south-1.amazonaws.com/whitehat-ds-datasets/kepler-exoplanets-dataset/exoTest.csv"
      ]
    },
    {
      "cell_type": "code",
      "metadata": {
        "id": "sys1jcw2jpF3",
        "colab": {
          "base_uri": "https://localhost:8080/",
          "height": 299
        },
        "outputId": "3ee921d7-5dda-40a7-90df-a2d83b9577e7"
      },
      "source": [
        "# Student Action: Read the 'exoTest.csv' file and display its first 5 rows using the 'head()' function.\n",
        "csv_file2 = \"https://student-datasets-bucket.s3.ap-south-1.amazonaws.com/whitehat-ds-datasets/kepler-exoplanets-dataset/exoTest.csv\"\n",
        "exoTest = pd.read_csv(csv_file2)\n",
        "exoTest.head()"
      ],
      "execution_count": null,
      "outputs": [
        {
          "output_type": "execute_result",
          "data": {
            "text/plain": [
              "   LABEL   FLUX.1   FLUX.2   FLUX.3   FLUX.4   FLUX.5   FLUX.6   FLUX.7  \\\n",
              "0      2   119.88   100.21    86.46    48.68    46.12    39.39    18.57   \n",
              "1      2  5736.59  5699.98  5717.16  5692.73  5663.83  5631.16  5626.39   \n",
              "2      2   844.48   817.49   770.07   675.01   605.52   499.45   440.77   \n",
              "3      2  -826.00  -827.31  -846.12  -836.03  -745.50  -784.69  -791.22   \n",
              "4      2   -39.57   -15.88    -9.16    -6.37   -16.13   -24.05    -0.90   \n",
              "\n",
              "    FLUX.8   FLUX.9  ...  FLUX.3188  FLUX.3189  FLUX.3190  FLUX.3191  \\\n",
              "0     6.98     6.63  ...      14.52      19.29      14.44      -1.62   \n",
              "1  5569.47  5550.44  ...    -581.91    -984.09   -1230.89   -1600.45   \n",
              "2   362.95   207.27  ...      17.82     -51.66     -48.29     -59.99   \n",
              "3  -746.50  -709.53  ...     122.34      93.03      93.03      68.81   \n",
              "4   -45.20    -5.04  ...     -37.87     -61.85     -27.15     -21.18   \n",
              "\n",
              "   FLUX.3192  FLUX.3193  FLUX.3194  FLUX.3195  FLUX.3196  FLUX.3197  \n",
              "0      13.33      45.50      31.93      35.78     269.43      57.72  \n",
              "1   -1824.53   -2061.17   -2265.98   -2366.19   -2294.86   -2034.72  \n",
              "2     -82.10    -174.54     -95.23    -162.68     -36.79      30.63  \n",
              "3       9.81      20.75      20.25    -120.81    -257.56    -215.41  \n",
              "4     -33.76     -85.34     -81.46     -61.98     -69.34     -17.84  \n",
              "\n",
              "[5 rows x 3198 columns]"
            ],
            "text/html": [
              "\n",
              "  <div id=\"df-a1b31cf8-607d-4760-be9f-7ac3d026e05f\">\n",
              "    <div class=\"colab-df-container\">\n",
              "      <div>\n",
              "<style scoped>\n",
              "    .dataframe tbody tr th:only-of-type {\n",
              "        vertical-align: middle;\n",
              "    }\n",
              "\n",
              "    .dataframe tbody tr th {\n",
              "        vertical-align: top;\n",
              "    }\n",
              "\n",
              "    .dataframe thead th {\n",
              "        text-align: right;\n",
              "    }\n",
              "</style>\n",
              "<table border=\"1\" class=\"dataframe\">\n",
              "  <thead>\n",
              "    <tr style=\"text-align: right;\">\n",
              "      <th></th>\n",
              "      <th>LABEL</th>\n",
              "      <th>FLUX.1</th>\n",
              "      <th>FLUX.2</th>\n",
              "      <th>FLUX.3</th>\n",
              "      <th>FLUX.4</th>\n",
              "      <th>FLUX.5</th>\n",
              "      <th>FLUX.6</th>\n",
              "      <th>FLUX.7</th>\n",
              "      <th>FLUX.8</th>\n",
              "      <th>FLUX.9</th>\n",
              "      <th>...</th>\n",
              "      <th>FLUX.3188</th>\n",
              "      <th>FLUX.3189</th>\n",
              "      <th>FLUX.3190</th>\n",
              "      <th>FLUX.3191</th>\n",
              "      <th>FLUX.3192</th>\n",
              "      <th>FLUX.3193</th>\n",
              "      <th>FLUX.3194</th>\n",
              "      <th>FLUX.3195</th>\n",
              "      <th>FLUX.3196</th>\n",
              "      <th>FLUX.3197</th>\n",
              "    </tr>\n",
              "  </thead>\n",
              "  <tbody>\n",
              "    <tr>\n",
              "      <th>0</th>\n",
              "      <td>2</td>\n",
              "      <td>119.88</td>\n",
              "      <td>100.21</td>\n",
              "      <td>86.46</td>\n",
              "      <td>48.68</td>\n",
              "      <td>46.12</td>\n",
              "      <td>39.39</td>\n",
              "      <td>18.57</td>\n",
              "      <td>6.98</td>\n",
              "      <td>6.63</td>\n",
              "      <td>...</td>\n",
              "      <td>14.52</td>\n",
              "      <td>19.29</td>\n",
              "      <td>14.44</td>\n",
              "      <td>-1.62</td>\n",
              "      <td>13.33</td>\n",
              "      <td>45.50</td>\n",
              "      <td>31.93</td>\n",
              "      <td>35.78</td>\n",
              "      <td>269.43</td>\n",
              "      <td>57.72</td>\n",
              "    </tr>\n",
              "    <tr>\n",
              "      <th>1</th>\n",
              "      <td>2</td>\n",
              "      <td>5736.59</td>\n",
              "      <td>5699.98</td>\n",
              "      <td>5717.16</td>\n",
              "      <td>5692.73</td>\n",
              "      <td>5663.83</td>\n",
              "      <td>5631.16</td>\n",
              "      <td>5626.39</td>\n",
              "      <td>5569.47</td>\n",
              "      <td>5550.44</td>\n",
              "      <td>...</td>\n",
              "      <td>-581.91</td>\n",
              "      <td>-984.09</td>\n",
              "      <td>-1230.89</td>\n",
              "      <td>-1600.45</td>\n",
              "      <td>-1824.53</td>\n",
              "      <td>-2061.17</td>\n",
              "      <td>-2265.98</td>\n",
              "      <td>-2366.19</td>\n",
              "      <td>-2294.86</td>\n",
              "      <td>-2034.72</td>\n",
              "    </tr>\n",
              "    <tr>\n",
              "      <th>2</th>\n",
              "      <td>2</td>\n",
              "      <td>844.48</td>\n",
              "      <td>817.49</td>\n",
              "      <td>770.07</td>\n",
              "      <td>675.01</td>\n",
              "      <td>605.52</td>\n",
              "      <td>499.45</td>\n",
              "      <td>440.77</td>\n",
              "      <td>362.95</td>\n",
              "      <td>207.27</td>\n",
              "      <td>...</td>\n",
              "      <td>17.82</td>\n",
              "      <td>-51.66</td>\n",
              "      <td>-48.29</td>\n",
              "      <td>-59.99</td>\n",
              "      <td>-82.10</td>\n",
              "      <td>-174.54</td>\n",
              "      <td>-95.23</td>\n",
              "      <td>-162.68</td>\n",
              "      <td>-36.79</td>\n",
              "      <td>30.63</td>\n",
              "    </tr>\n",
              "    <tr>\n",
              "      <th>3</th>\n",
              "      <td>2</td>\n",
              "      <td>-826.00</td>\n",
              "      <td>-827.31</td>\n",
              "      <td>-846.12</td>\n",
              "      <td>-836.03</td>\n",
              "      <td>-745.50</td>\n",
              "      <td>-784.69</td>\n",
              "      <td>-791.22</td>\n",
              "      <td>-746.50</td>\n",
              "      <td>-709.53</td>\n",
              "      <td>...</td>\n",
              "      <td>122.34</td>\n",
              "      <td>93.03</td>\n",
              "      <td>93.03</td>\n",
              "      <td>68.81</td>\n",
              "      <td>9.81</td>\n",
              "      <td>20.75</td>\n",
              "      <td>20.25</td>\n",
              "      <td>-120.81</td>\n",
              "      <td>-257.56</td>\n",
              "      <td>-215.41</td>\n",
              "    </tr>\n",
              "    <tr>\n",
              "      <th>4</th>\n",
              "      <td>2</td>\n",
              "      <td>-39.57</td>\n",
              "      <td>-15.88</td>\n",
              "      <td>-9.16</td>\n",
              "      <td>-6.37</td>\n",
              "      <td>-16.13</td>\n",
              "      <td>-24.05</td>\n",
              "      <td>-0.90</td>\n",
              "      <td>-45.20</td>\n",
              "      <td>-5.04</td>\n",
              "      <td>...</td>\n",
              "      <td>-37.87</td>\n",
              "      <td>-61.85</td>\n",
              "      <td>-27.15</td>\n",
              "      <td>-21.18</td>\n",
              "      <td>-33.76</td>\n",
              "      <td>-85.34</td>\n",
              "      <td>-81.46</td>\n",
              "      <td>-61.98</td>\n",
              "      <td>-69.34</td>\n",
              "      <td>-17.84</td>\n",
              "    </tr>\n",
              "  </tbody>\n",
              "</table>\n",
              "<p>5 rows × 3198 columns</p>\n",
              "</div>\n",
              "      <button class=\"colab-df-convert\" onclick=\"convertToInteractive('df-a1b31cf8-607d-4760-be9f-7ac3d026e05f')\"\n",
              "              title=\"Convert this dataframe to an interactive table.\"\n",
              "              style=\"display:none;\">\n",
              "        \n",
              "  <svg xmlns=\"http://www.w3.org/2000/svg\" height=\"24px\"viewBox=\"0 0 24 24\"\n",
              "       width=\"24px\">\n",
              "    <path d=\"M0 0h24v24H0V0z\" fill=\"none\"/>\n",
              "    <path d=\"M18.56 5.44l.94 2.06.94-2.06 2.06-.94-2.06-.94-.94-2.06-.94 2.06-2.06.94zm-11 1L8.5 8.5l.94-2.06 2.06-.94-2.06-.94L8.5 2.5l-.94 2.06-2.06.94zm10 10l.94 2.06.94-2.06 2.06-.94-2.06-.94-.94-2.06-.94 2.06-2.06.94z\"/><path d=\"M17.41 7.96l-1.37-1.37c-.4-.4-.92-.59-1.43-.59-.52 0-1.04.2-1.43.59L10.3 9.45l-7.72 7.72c-.78.78-.78 2.05 0 2.83L4 21.41c.39.39.9.59 1.41.59.51 0 1.02-.2 1.41-.59l7.78-7.78 2.81-2.81c.8-.78.8-2.07 0-2.86zM5.41 20L4 18.59l7.72-7.72 1.47 1.35L5.41 20z\"/>\n",
              "  </svg>\n",
              "      </button>\n",
              "      \n",
              "  <style>\n",
              "    .colab-df-container {\n",
              "      display:flex;\n",
              "      flex-wrap:wrap;\n",
              "      gap: 12px;\n",
              "    }\n",
              "\n",
              "    .colab-df-convert {\n",
              "      background-color: #E8F0FE;\n",
              "      border: none;\n",
              "      border-radius: 50%;\n",
              "      cursor: pointer;\n",
              "      display: none;\n",
              "      fill: #1967D2;\n",
              "      height: 32px;\n",
              "      padding: 0 0 0 0;\n",
              "      width: 32px;\n",
              "    }\n",
              "\n",
              "    .colab-df-convert:hover {\n",
              "      background-color: #E2EBFA;\n",
              "      box-shadow: 0px 1px 2px rgba(60, 64, 67, 0.3), 0px 1px 3px 1px rgba(60, 64, 67, 0.15);\n",
              "      fill: #174EA6;\n",
              "    }\n",
              "\n",
              "    [theme=dark] .colab-df-convert {\n",
              "      background-color: #3B4455;\n",
              "      fill: #D2E3FC;\n",
              "    }\n",
              "\n",
              "    [theme=dark] .colab-df-convert:hover {\n",
              "      background-color: #434B5C;\n",
              "      box-shadow: 0px 1px 3px 1px rgba(0, 0, 0, 0.15);\n",
              "      filter: drop-shadow(0px 1px 2px rgba(0, 0, 0, 0.3));\n",
              "      fill: #FFFFFF;\n",
              "    }\n",
              "  </style>\n",
              "\n",
              "      <script>\n",
              "        const buttonEl =\n",
              "          document.querySelector('#df-a1b31cf8-607d-4760-be9f-7ac3d026e05f button.colab-df-convert');\n",
              "        buttonEl.style.display =\n",
              "          google.colab.kernel.accessAllowed ? 'block' : 'none';\n",
              "\n",
              "        async function convertToInteractive(key) {\n",
              "          const element = document.querySelector('#df-a1b31cf8-607d-4760-be9f-7ac3d026e05f');\n",
              "          const dataTable =\n",
              "            await google.colab.kernel.invokeFunction('convertToInteractive',\n",
              "                                                     [key], {});\n",
              "          if (!dataTable) return;\n",
              "\n",
              "          const docLinkHtml = 'Like what you see? Visit the ' +\n",
              "            '<a target=\"_blank\" href=https://colab.research.google.com/notebooks/data_table.ipynb>data table notebook</a>'\n",
              "            + ' to learn more about interactive tables.';\n",
              "          element.innerHTML = '';\n",
              "          dataTable['output_type'] = 'display_data';\n",
              "          await google.colab.output.renderOutput(dataTable, element);\n",
              "          const docLink = document.createElement('div');\n",
              "          docLink.innerHTML = docLinkHtml;\n",
              "          element.appendChild(docLink);\n",
              "        }\n",
              "      </script>\n",
              "    </div>\n",
              "  </div>\n",
              "  "
            ]
          },
          "metadata": {},
          "execution_count": 2
        }
      ]
    },
    {
      "cell_type": "markdown",
      "metadata": {
        "id": "fNIuF-oKkExp"
      },
      "source": [
        "The two DataFrames have exactly the same type of data.\n",
        "\n",
        "**Q: Why do we have a training dataset and a test dataset?**\n",
        "\n",
        "Ans: We create machine learning models using the training dataset to train a computer so that it can learn from that data. It, thus, can make predictions based on what it has learnt. While learning, the computer tries to find a pattern in the data, how one information affects another, which information is the most critical one, etc.\n",
        "\n",
        "The test dataset is used to test the accuracy of the model that you have built. The higher the accuracy, the higher is the prediction capability of the machine.\n",
        "\n",
        "After creating the DataFrames, it is a good practice to find out the number of rows and columns that exist in a DataFrame. You can do this exercise by using the `shape` keyword."
      ]
    },
    {
      "cell_type": "code",
      "metadata": {
        "id": "9aGcwb3Ax10u",
        "colab": {
          "base_uri": "https://localhost:8080/"
        },
        "outputId": "afa4a827-f4c0-4e30-df13-28fc2a6a278f"
      },
      "source": [
        "# Student Action: Find the number of rows and columns in the 'exo_train_df' DataFrame.\n",
        "exoTrain.shape"
      ],
      "execution_count": null,
      "outputs": [
        {
          "output_type": "execute_result",
          "data": {
            "text/plain": [
              "(5087, 3198)"
            ]
          },
          "metadata": {},
          "execution_count": 4
        }
      ]
    },
    {
      "cell_type": "code",
      "source": [],
      "metadata": {
        "id": "rH79-9LLI5VD"
      },
      "execution_count": null,
      "outputs": []
    },
    {
      "cell_type": "markdown",
      "metadata": {
        "id": "BQXojZA6m1Oo"
      },
      "source": [
        "So, there are 5087 rows and 3198 columns in the `exo_train_df` DataFrame."
      ]
    },
    {
      "cell_type": "code",
      "metadata": {
        "id": "77zf3wvMnjNB",
        "colab": {
          "base_uri": "https://localhost:8080/"
        },
        "outputId": "500de08b-8198-49ff-9ab6-fb39fd0cfd9a"
      },
      "source": [
        "# Student Action: How many rows and columns are there in the 'exo_test_df'?\n",
        "exoTest.shape"
      ],
      "execution_count": null,
      "outputs": [
        {
          "output_type": "execute_result",
          "data": {
            "text/plain": [
              "(570, 3198)"
            ]
          },
          "metadata": {},
          "execution_count": 5
        }
      ]
    },
    {
      "cell_type": "markdown",
      "metadata": {
        "id": "afcKyO4An1tN"
      },
      "source": [
        "There are 570 rows and 3198 columns in the `exo_test_df` DataFrame."
      ]
    },
    {
      "cell_type": "markdown",
      "metadata": {
        "id": "OW6N0e0dn9jq"
      },
      "source": [
        "---"
      ]
    },
    {
      "cell_type": "markdown",
      "metadata": {
        "id": "6kr-OIofEvrC"
      },
      "source": [
        "#### Activity 2: Check For The Missing Values^\n",
        "\n",
        "In most of the cases, we do not get complete datasets. They either have some values missing from the rows and columns or they do not have standardized values.\n",
        "\n",
        "For example: If there is a date column in a dataset, then there is a huge chance that some of the dates are entered in the `DD-MM-YYYY` format, some in the `MM-DD-YYYY` format and so on.\n",
        "\n",
        "So, before going ahead with the analysis, it is a good idea to check whether the dataset has any missing values."
      ]
    },
    {
      "cell_type": "code",
      "metadata": {
        "id": "p28lXAqoFQMe",
        "colab": {
          "base_uri": "https://localhost:8080/",
          "height": 488
        },
        "outputId": "4cc910b1-2e5b-41f2-e952-18a8111274d3"
      },
      "source": [
        "# Teacher Action: Check for the missing values using the 'isnull()' function.\n",
        "exoTrain.isnull()"
      ],
      "execution_count": null,
      "outputs": [
        {
          "output_type": "execute_result",
          "data": {
            "text/plain": [
              "      LABEL  FLUX.1  FLUX.2  FLUX.3  FLUX.4  FLUX.5  FLUX.6  FLUX.7  FLUX.8  \\\n",
              "0     False   False   False   False   False   False   False   False   False   \n",
              "1     False   False   False   False   False   False   False   False   False   \n",
              "2     False   False   False   False   False   False   False   False   False   \n",
              "3     False   False   False   False   False   False   False   False   False   \n",
              "4     False   False   False   False   False   False   False   False   False   \n",
              "...     ...     ...     ...     ...     ...     ...     ...     ...     ...   \n",
              "5082  False   False   False   False   False   False   False   False   False   \n",
              "5083  False   False   False   False   False   False   False   False   False   \n",
              "5084  False   False   False   False   False   False   False   False   False   \n",
              "5085  False   False   False   False   False   False   False   False   False   \n",
              "5086  False   False   False   False   False   False   False   False   False   \n",
              "\n",
              "      FLUX.9  ...  FLUX.3188  FLUX.3189  FLUX.3190  FLUX.3191  FLUX.3192  \\\n",
              "0      False  ...      False      False      False      False      False   \n",
              "1      False  ...      False      False      False      False      False   \n",
              "2      False  ...      False      False      False      False      False   \n",
              "3      False  ...      False      False      False      False      False   \n",
              "4      False  ...      False      False      False      False      False   \n",
              "...      ...  ...        ...        ...        ...        ...        ...   \n",
              "5082   False  ...      False      False      False      False      False   \n",
              "5083   False  ...      False      False      False      False      False   \n",
              "5084   False  ...      False      False      False      False      False   \n",
              "5085   False  ...      False      False      False      False      False   \n",
              "5086   False  ...      False      False      False      False      False   \n",
              "\n",
              "      FLUX.3193  FLUX.3194  FLUX.3195  FLUX.3196  FLUX.3197  \n",
              "0         False      False      False      False      False  \n",
              "1         False      False      False      False      False  \n",
              "2         False      False      False      False      False  \n",
              "3         False      False      False      False      False  \n",
              "4         False      False      False      False      False  \n",
              "...         ...        ...        ...        ...        ...  \n",
              "5082      False      False      False      False      False  \n",
              "5083      False      False      False      False      False  \n",
              "5084      False      False      False      False      False  \n",
              "5085      False      False      False      False      False  \n",
              "5086      False      False      False      False      False  \n",
              "\n",
              "[5087 rows x 3198 columns]"
            ],
            "text/html": [
              "\n",
              "  <div id=\"df-b84f5f14-437a-45c1-b2a6-a576500b7643\">\n",
              "    <div class=\"colab-df-container\">\n",
              "      <div>\n",
              "<style scoped>\n",
              "    .dataframe tbody tr th:only-of-type {\n",
              "        vertical-align: middle;\n",
              "    }\n",
              "\n",
              "    .dataframe tbody tr th {\n",
              "        vertical-align: top;\n",
              "    }\n",
              "\n",
              "    .dataframe thead th {\n",
              "        text-align: right;\n",
              "    }\n",
              "</style>\n",
              "<table border=\"1\" class=\"dataframe\">\n",
              "  <thead>\n",
              "    <tr style=\"text-align: right;\">\n",
              "      <th></th>\n",
              "      <th>LABEL</th>\n",
              "      <th>FLUX.1</th>\n",
              "      <th>FLUX.2</th>\n",
              "      <th>FLUX.3</th>\n",
              "      <th>FLUX.4</th>\n",
              "      <th>FLUX.5</th>\n",
              "      <th>FLUX.6</th>\n",
              "      <th>FLUX.7</th>\n",
              "      <th>FLUX.8</th>\n",
              "      <th>FLUX.9</th>\n",
              "      <th>...</th>\n",
              "      <th>FLUX.3188</th>\n",
              "      <th>FLUX.3189</th>\n",
              "      <th>FLUX.3190</th>\n",
              "      <th>FLUX.3191</th>\n",
              "      <th>FLUX.3192</th>\n",
              "      <th>FLUX.3193</th>\n",
              "      <th>FLUX.3194</th>\n",
              "      <th>FLUX.3195</th>\n",
              "      <th>FLUX.3196</th>\n",
              "      <th>FLUX.3197</th>\n",
              "    </tr>\n",
              "  </thead>\n",
              "  <tbody>\n",
              "    <tr>\n",
              "      <th>0</th>\n",
              "      <td>False</td>\n",
              "      <td>False</td>\n",
              "      <td>False</td>\n",
              "      <td>False</td>\n",
              "      <td>False</td>\n",
              "      <td>False</td>\n",
              "      <td>False</td>\n",
              "      <td>False</td>\n",
              "      <td>False</td>\n",
              "      <td>False</td>\n",
              "      <td>...</td>\n",
              "      <td>False</td>\n",
              "      <td>False</td>\n",
              "      <td>False</td>\n",
              "      <td>False</td>\n",
              "      <td>False</td>\n",
              "      <td>False</td>\n",
              "      <td>False</td>\n",
              "      <td>False</td>\n",
              "      <td>False</td>\n",
              "      <td>False</td>\n",
              "    </tr>\n",
              "    <tr>\n",
              "      <th>1</th>\n",
              "      <td>False</td>\n",
              "      <td>False</td>\n",
              "      <td>False</td>\n",
              "      <td>False</td>\n",
              "      <td>False</td>\n",
              "      <td>False</td>\n",
              "      <td>False</td>\n",
              "      <td>False</td>\n",
              "      <td>False</td>\n",
              "      <td>False</td>\n",
              "      <td>...</td>\n",
              "      <td>False</td>\n",
              "      <td>False</td>\n",
              "      <td>False</td>\n",
              "      <td>False</td>\n",
              "      <td>False</td>\n",
              "      <td>False</td>\n",
              "      <td>False</td>\n",
              "      <td>False</td>\n",
              "      <td>False</td>\n",
              "      <td>False</td>\n",
              "    </tr>\n",
              "    <tr>\n",
              "      <th>2</th>\n",
              "      <td>False</td>\n",
              "      <td>False</td>\n",
              "      <td>False</td>\n",
              "      <td>False</td>\n",
              "      <td>False</td>\n",
              "      <td>False</td>\n",
              "      <td>False</td>\n",
              "      <td>False</td>\n",
              "      <td>False</td>\n",
              "      <td>False</td>\n",
              "      <td>...</td>\n",
              "      <td>False</td>\n",
              "      <td>False</td>\n",
              "      <td>False</td>\n",
              "      <td>False</td>\n",
              "      <td>False</td>\n",
              "      <td>False</td>\n",
              "      <td>False</td>\n",
              "      <td>False</td>\n",
              "      <td>False</td>\n",
              "      <td>False</td>\n",
              "    </tr>\n",
              "    <tr>\n",
              "      <th>3</th>\n",
              "      <td>False</td>\n",
              "      <td>False</td>\n",
              "      <td>False</td>\n",
              "      <td>False</td>\n",
              "      <td>False</td>\n",
              "      <td>False</td>\n",
              "      <td>False</td>\n",
              "      <td>False</td>\n",
              "      <td>False</td>\n",
              "      <td>False</td>\n",
              "      <td>...</td>\n",
              "      <td>False</td>\n",
              "      <td>False</td>\n",
              "      <td>False</td>\n",
              "      <td>False</td>\n",
              "      <td>False</td>\n",
              "      <td>False</td>\n",
              "      <td>False</td>\n",
              "      <td>False</td>\n",
              "      <td>False</td>\n",
              "      <td>False</td>\n",
              "    </tr>\n",
              "    <tr>\n",
              "      <th>4</th>\n",
              "      <td>False</td>\n",
              "      <td>False</td>\n",
              "      <td>False</td>\n",
              "      <td>False</td>\n",
              "      <td>False</td>\n",
              "      <td>False</td>\n",
              "      <td>False</td>\n",
              "      <td>False</td>\n",
              "      <td>False</td>\n",
              "      <td>False</td>\n",
              "      <td>...</td>\n",
              "      <td>False</td>\n",
              "      <td>False</td>\n",
              "      <td>False</td>\n",
              "      <td>False</td>\n",
              "      <td>False</td>\n",
              "      <td>False</td>\n",
              "      <td>False</td>\n",
              "      <td>False</td>\n",
              "      <td>False</td>\n",
              "      <td>False</td>\n",
              "    </tr>\n",
              "    <tr>\n",
              "      <th>...</th>\n",
              "      <td>...</td>\n",
              "      <td>...</td>\n",
              "      <td>...</td>\n",
              "      <td>...</td>\n",
              "      <td>...</td>\n",
              "      <td>...</td>\n",
              "      <td>...</td>\n",
              "      <td>...</td>\n",
              "      <td>...</td>\n",
              "      <td>...</td>\n",
              "      <td>...</td>\n",
              "      <td>...</td>\n",
              "      <td>...</td>\n",
              "      <td>...</td>\n",
              "      <td>...</td>\n",
              "      <td>...</td>\n",
              "      <td>...</td>\n",
              "      <td>...</td>\n",
              "      <td>...</td>\n",
              "      <td>...</td>\n",
              "      <td>...</td>\n",
              "    </tr>\n",
              "    <tr>\n",
              "      <th>5082</th>\n",
              "      <td>False</td>\n",
              "      <td>False</td>\n",
              "      <td>False</td>\n",
              "      <td>False</td>\n",
              "      <td>False</td>\n",
              "      <td>False</td>\n",
              "      <td>False</td>\n",
              "      <td>False</td>\n",
              "      <td>False</td>\n",
              "      <td>False</td>\n",
              "      <td>...</td>\n",
              "      <td>False</td>\n",
              "      <td>False</td>\n",
              "      <td>False</td>\n",
              "      <td>False</td>\n",
              "      <td>False</td>\n",
              "      <td>False</td>\n",
              "      <td>False</td>\n",
              "      <td>False</td>\n",
              "      <td>False</td>\n",
              "      <td>False</td>\n",
              "    </tr>\n",
              "    <tr>\n",
              "      <th>5083</th>\n",
              "      <td>False</td>\n",
              "      <td>False</td>\n",
              "      <td>False</td>\n",
              "      <td>False</td>\n",
              "      <td>False</td>\n",
              "      <td>False</td>\n",
              "      <td>False</td>\n",
              "      <td>False</td>\n",
              "      <td>False</td>\n",
              "      <td>False</td>\n",
              "      <td>...</td>\n",
              "      <td>False</td>\n",
              "      <td>False</td>\n",
              "      <td>False</td>\n",
              "      <td>False</td>\n",
              "      <td>False</td>\n",
              "      <td>False</td>\n",
              "      <td>False</td>\n",
              "      <td>False</td>\n",
              "      <td>False</td>\n",
              "      <td>False</td>\n",
              "    </tr>\n",
              "    <tr>\n",
              "      <th>5084</th>\n",
              "      <td>False</td>\n",
              "      <td>False</td>\n",
              "      <td>False</td>\n",
              "      <td>False</td>\n",
              "      <td>False</td>\n",
              "      <td>False</td>\n",
              "      <td>False</td>\n",
              "      <td>False</td>\n",
              "      <td>False</td>\n",
              "      <td>False</td>\n",
              "      <td>...</td>\n",
              "      <td>False</td>\n",
              "      <td>False</td>\n",
              "      <td>False</td>\n",
              "      <td>False</td>\n",
              "      <td>False</td>\n",
              "      <td>False</td>\n",
              "      <td>False</td>\n",
              "      <td>False</td>\n",
              "      <td>False</td>\n",
              "      <td>False</td>\n",
              "    </tr>\n",
              "    <tr>\n",
              "      <th>5085</th>\n",
              "      <td>False</td>\n",
              "      <td>False</td>\n",
              "      <td>False</td>\n",
              "      <td>False</td>\n",
              "      <td>False</td>\n",
              "      <td>False</td>\n",
              "      <td>False</td>\n",
              "      <td>False</td>\n",
              "      <td>False</td>\n",
              "      <td>False</td>\n",
              "      <td>...</td>\n",
              "      <td>False</td>\n",
              "      <td>False</td>\n",
              "      <td>False</td>\n",
              "      <td>False</td>\n",
              "      <td>False</td>\n",
              "      <td>False</td>\n",
              "      <td>False</td>\n",
              "      <td>False</td>\n",
              "      <td>False</td>\n",
              "      <td>False</td>\n",
              "    </tr>\n",
              "    <tr>\n",
              "      <th>5086</th>\n",
              "      <td>False</td>\n",
              "      <td>False</td>\n",
              "      <td>False</td>\n",
              "      <td>False</td>\n",
              "      <td>False</td>\n",
              "      <td>False</td>\n",
              "      <td>False</td>\n",
              "      <td>False</td>\n",
              "      <td>False</td>\n",
              "      <td>False</td>\n",
              "      <td>...</td>\n",
              "      <td>False</td>\n",
              "      <td>False</td>\n",
              "      <td>False</td>\n",
              "      <td>False</td>\n",
              "      <td>False</td>\n",
              "      <td>False</td>\n",
              "      <td>False</td>\n",
              "      <td>False</td>\n",
              "      <td>False</td>\n",
              "      <td>False</td>\n",
              "    </tr>\n",
              "  </tbody>\n",
              "</table>\n",
              "<p>5087 rows × 3198 columns</p>\n",
              "</div>\n",
              "      <button class=\"colab-df-convert\" onclick=\"convertToInteractive('df-b84f5f14-437a-45c1-b2a6-a576500b7643')\"\n",
              "              title=\"Convert this dataframe to an interactive table.\"\n",
              "              style=\"display:none;\">\n",
              "        \n",
              "  <svg xmlns=\"http://www.w3.org/2000/svg\" height=\"24px\"viewBox=\"0 0 24 24\"\n",
              "       width=\"24px\">\n",
              "    <path d=\"M0 0h24v24H0V0z\" fill=\"none\"/>\n",
              "    <path d=\"M18.56 5.44l.94 2.06.94-2.06 2.06-.94-2.06-.94-.94-2.06-.94 2.06-2.06.94zm-11 1L8.5 8.5l.94-2.06 2.06-.94-2.06-.94L8.5 2.5l-.94 2.06-2.06.94zm10 10l.94 2.06.94-2.06 2.06-.94-2.06-.94-.94-2.06-.94 2.06-2.06.94z\"/><path d=\"M17.41 7.96l-1.37-1.37c-.4-.4-.92-.59-1.43-.59-.52 0-1.04.2-1.43.59L10.3 9.45l-7.72 7.72c-.78.78-.78 2.05 0 2.83L4 21.41c.39.39.9.59 1.41.59.51 0 1.02-.2 1.41-.59l7.78-7.78 2.81-2.81c.8-.78.8-2.07 0-2.86zM5.41 20L4 18.59l7.72-7.72 1.47 1.35L5.41 20z\"/>\n",
              "  </svg>\n",
              "      </button>\n",
              "      \n",
              "  <style>\n",
              "    .colab-df-container {\n",
              "      display:flex;\n",
              "      flex-wrap:wrap;\n",
              "      gap: 12px;\n",
              "    }\n",
              "\n",
              "    .colab-df-convert {\n",
              "      background-color: #E8F0FE;\n",
              "      border: none;\n",
              "      border-radius: 50%;\n",
              "      cursor: pointer;\n",
              "      display: none;\n",
              "      fill: #1967D2;\n",
              "      height: 32px;\n",
              "      padding: 0 0 0 0;\n",
              "      width: 32px;\n",
              "    }\n",
              "\n",
              "    .colab-df-convert:hover {\n",
              "      background-color: #E2EBFA;\n",
              "      box-shadow: 0px 1px 2px rgba(60, 64, 67, 0.3), 0px 1px 3px 1px rgba(60, 64, 67, 0.15);\n",
              "      fill: #174EA6;\n",
              "    }\n",
              "\n",
              "    [theme=dark] .colab-df-convert {\n",
              "      background-color: #3B4455;\n",
              "      fill: #D2E3FC;\n",
              "    }\n",
              "\n",
              "    [theme=dark] .colab-df-convert:hover {\n",
              "      background-color: #434B5C;\n",
              "      box-shadow: 0px 1px 3px 1px rgba(0, 0, 0, 0.15);\n",
              "      filter: drop-shadow(0px 1px 2px rgba(0, 0, 0, 0.3));\n",
              "      fill: #FFFFFF;\n",
              "    }\n",
              "  </style>\n",
              "\n",
              "      <script>\n",
              "        const buttonEl =\n",
              "          document.querySelector('#df-b84f5f14-437a-45c1-b2a6-a576500b7643 button.colab-df-convert');\n",
              "        buttonEl.style.display =\n",
              "          google.colab.kernel.accessAllowed ? 'block' : 'none';\n",
              "\n",
              "        async function convertToInteractive(key) {\n",
              "          const element = document.querySelector('#df-b84f5f14-437a-45c1-b2a6-a576500b7643');\n",
              "          const dataTable =\n",
              "            await google.colab.kernel.invokeFunction('convertToInteractive',\n",
              "                                                     [key], {});\n",
              "          if (!dataTable) return;\n",
              "\n",
              "          const docLinkHtml = 'Like what you see? Visit the ' +\n",
              "            '<a target=\"_blank\" href=https://colab.research.google.com/notebooks/data_table.ipynb>data table notebook</a>'\n",
              "            + ' to learn more about interactive tables.';\n",
              "          element.innerHTML = '';\n",
              "          dataTable['output_type'] = 'display_data';\n",
              "          await google.colab.output.renderOutput(dataTable, element);\n",
              "          const docLink = document.createElement('div');\n",
              "          docLink.innerHTML = docLinkHtml;\n",
              "          element.appendChild(docLink);\n",
              "        }\n",
              "      </script>\n",
              "    </div>\n",
              "  </div>\n",
              "  "
            ]
          },
          "metadata": {},
          "execution_count": 6
        }
      ]
    },
    {
      "cell_type": "markdown",
      "metadata": {
        "id": "OSubPWuvFZ0d"
      },
      "source": [
        "To check for missing values in a DataFrame, use `isnull()` function. If a DataFrame has a missing value, then the `isnull()` function will return `True` else it will return `False`.\n",
        "\n",
        "As you can see, the `isnull()` function has returned the DataFrame with a lot of `False` values as an output. There are $5087\\times3198=16268226$ values in the DataFrame. It is not feasible to check so many values manually. So, we need a better approach to check for missing values.\n",
        "\n",
        "We can call the `sum()` function on the `exo_train_df.isnull()` statement. It will return the sum of `True` values for every column in a DataFrame. If a column does not have any missing values, then it will return `0` else a number greater than `0`."
      ]
    },
    {
      "cell_type": "code",
      "metadata": {
        "id": "qSthlUG5FYLG",
        "colab": {
          "base_uri": "https://localhost:8080/"
        },
        "outputId": "75e566b2-38df-418c-dab8-77747cba71e6"
      },
      "source": [
        "# Teacher Action: Use the 'sum()' function to find the total number of True values in each column.\n",
        "exoTrain.isnull().sum()"
      ],
      "execution_count": null,
      "outputs": [
        {
          "output_type": "execute_result",
          "data": {
            "text/plain": [
              "LABEL        0\n",
              "FLUX.1       0\n",
              "FLUX.2       0\n",
              "FLUX.3       0\n",
              "FLUX.4       0\n",
              "            ..\n",
              "FLUX.3193    0\n",
              "FLUX.3194    0\n",
              "FLUX.3195    0\n",
              "FLUX.3196    0\n",
              "FLUX.3197    0\n",
              "Length: 3198, dtype: int64"
            ]
          },
          "metadata": {},
          "execution_count": 7
        }
      ]
    },
    {
      "cell_type": "markdown",
      "metadata": {
        "id": "MNuRR1NjHh99"
      },
      "source": [
        "We can see that a lot of columns have `0` missing values. But still, we cannot manually see whether all the columns have missing values or not because the list of columns is too long to be seen in this notebook. There are `3198` columns to search. If there were very few columns, then we would not need to go any further to check for the missing values.\n",
        "\n",
        "The `columns` keyword returns an array of all the columns in a DataFrame. To get a column from a DataFrame just, write the name of the column inside the square brackets in the single or double inverted quote after writing the name of the DataFrame.\n",
        "For example: If you want to get the values of `FLUX.1` column from the `exo_train_df`, then write `exo_train_df['FLUX.1']`."
      ]
    },
    {
      "cell_type": "code",
      "metadata": {
        "id": "M-2gSCVkHiag",
        "colab": {
          "base_uri": "https://localhost:8080/"
        },
        "outputId": "c11fd5a0-3866-410d-b10e-e1b5e7acc383"
      },
      "source": [
        "# Teacher Action: View all the columns in the 'exo_train_df' DataFrame.\n",
        "exoTrain.columns"
      ],
      "execution_count": null,
      "outputs": [
        {
          "output_type": "execute_result",
          "data": {
            "text/plain": [
              "Index(['LABEL', 'FLUX.1', 'FLUX.2', 'FLUX.3', 'FLUX.4', 'FLUX.5', 'FLUX.6',\n",
              "       'FLUX.7', 'FLUX.8', 'FLUX.9',\n",
              "       ...\n",
              "       'FLUX.3188', 'FLUX.3189', 'FLUX.3190', 'FLUX.3191', 'FLUX.3192',\n",
              "       'FLUX.3193', 'FLUX.3194', 'FLUX.3195', 'FLUX.3196', 'FLUX.3197'],\n",
              "      dtype='object', length=3198)"
            ]
          },
          "metadata": {},
          "execution_count": 8
        }
      ]
    },
    {
      "cell_type": "markdown",
      "metadata": {
        "id": "q2EzheZ4H_lh"
      },
      "source": [
        "\n",
        "We, again, need a better approach. We will create a variable called `num_missing_values` to store the total number of values that are missing. Then, we will iterate through each column and within each column, we will iterate through each item to check for the missing values. If the `isnull()` function for a column returns `True`, then we will increase the value of the `num_missing_values` by `1` else we will not do anything."
      ]
    },
    {
      "cell_type": "markdown",
      "source": [],
      "metadata": {
        "id": "vIELdyGvKDdL"
      }
    },
    {
      "cell_type": "code",
      "metadata": {
        "id": "xzPkrVYjH_9U",
        "colab": {
          "base_uri": "https://localhost:8080/"
        },
        "outputId": "04ec3537-e9ff-47e2-fbed-ba6634ef411d"
      },
      "source": [
        "# Teacher Action: Get the values of the 'FLUX.1' column from a DataFrame.\n",
        "exoTrain['FLUX.1']"
      ],
      "execution_count": null,
      "outputs": [
        {
          "output_type": "execute_result",
          "data": {
            "text/plain": [
              "0         93.85\n",
              "1        -38.88\n",
              "2        532.64\n",
              "3        326.52\n",
              "4      -1107.21\n",
              "         ...   \n",
              "5082     -91.91\n",
              "5083     989.75\n",
              "5084     273.39\n",
              "5085       3.82\n",
              "5086     323.28\n",
              "Name: FLUX.1, Length: 5087, dtype: float64"
            ]
          },
          "metadata": {},
          "execution_count": 9
        }
      ]
    },
    {
      "cell_type": "code",
      "metadata": {
        "id": "EjQVWTPnIGas",
        "colab": {
          "base_uri": "https://localhost:8080/"
        },
        "outputId": "892f2d88-40a4-4549-a9d4-86fca3df3151"
      },
      "source": [
        "# Student Action: Get all the values of the 'FLUX.2' column.\n",
        "exoTrain['FLUX.2']"
      ],
      "execution_count": null,
      "outputs": [
        {
          "output_type": "execute_result",
          "data": {
            "text/plain": [
              "0         83.81\n",
              "1        -33.83\n",
              "2        535.92\n",
              "3        347.39\n",
              "4      -1112.59\n",
              "         ...   \n",
              "5082     -92.97\n",
              "5083     891.01\n",
              "5084     278.00\n",
              "5085       2.09\n",
              "5086     306.36\n",
              "Name: FLUX.2, Length: 5087, dtype: float64"
            ]
          },
          "metadata": {},
          "execution_count": 10
        }
      ]
    },
    {
      "cell_type": "markdown",
      "metadata": {
        "id": "dtF7bMmVIbCd"
      },
      "source": [
        "Now, using the `columns` keyword and the square brackets method of getting all items in a column, we will check for the missing values in the entire DataFrame."
      ]
    },
    {
      "cell_type": "code",
      "metadata": {
        "id": "dHjOAaq-IU_c",
        "colab": {
          "base_uri": "https://localhost:8080/"
        },
        "outputId": "f92faa4e-2d21-40be-8608-871ad6376806"
      },
      "source": [
        "# Teacher Action: Iterate through the 'exo_train_df' DataFrame to find the total number of missing values.\n",
        "nullCount = 0\n",
        "for column in exoTrain.columns:\n",
        "  for item in exoTrain[column].isnull():\n",
        "    if item == True:\n",
        "      nullCount += 1\n",
        "print(nullCount)\n",
        "# Here, we have created the num_missing_values which will store all the number of missing values in the DataFrame.\n",
        "\n",
        "# Now, we will iterate through every column in the DataFrame, then will iterate through every item in each column.\n"
      ],
      "execution_count": null,
      "outputs": [
        {
          "output_type": "stream",
          "name": "stdout",
          "text": [
            "0\n"
          ]
        }
      ]
    },
    {
      "cell_type": "markdown",
      "metadata": {
        "id": "Tts_SnCSJW2z"
      },
      "source": [
        "As you can see, there are no missing values in the DataFrame because the final value of the `num_missing_values` is `0`.\n",
        "\n",
        "Now let's find the number of non missing values by replacing `True` with `False` in the above code and store it in variable `non_missing_values`."
      ]
    },
    {
      "cell_type": "code",
      "metadata": {
        "id": "pH9-fPPYJWOQ",
        "colab": {
          "base_uri": "https://localhost:8080/"
        },
        "outputId": "e9001593-7fe3-4d10-ea98-3f1bca392141"
      },
      "source": [
        "# Student Action: In the above code replace 'True' with 'False' and get the number of non missing values.\n",
        "# The output should be 16268226.\n",
        "fillCount = 0\n",
        "for column in exoTrain.columns:\n",
        "  for item in exoTrain[column].isnull():\n",
        "    if item == False:\n",
        "      fillCount += 1\n",
        "print(fillCount)"
      ],
      "execution_count": null,
      "outputs": [
        {
          "output_type": "stream",
          "name": "stdout",
          "text": [
            "16268226\n"
          ]
        }
      ]
    },
    {
      "cell_type": "code",
      "source": [
        "exoTrain.shape[0] * exoTrain.shape[1]"
      ],
      "metadata": {
        "colab": {
          "base_uri": "https://localhost:8080/"
        },
        "id": "-Z2Zfn6zLDRj",
        "outputId": "833fdd6e-6179-4ba9-a1df-6e8617302eac"
      },
      "execution_count": null,
      "outputs": [
        {
          "output_type": "execute_result",
          "data": {
            "text/plain": [
              "16268226"
            ]
          },
          "metadata": {},
          "execution_count": 15
        }
      ]
    },
    {
      "cell_type": "markdown",
      "metadata": {
        "id": "ufUqq0kMJotW"
      },
      "source": [
        "As we can see, the output is 16,268,226. It is the sum of all the values which are False. That means there are no missing values because the total number of values in the `exo_train_df` is 16,268,226 which is exactly the same as the total number of non-missing values."
      ]
    },
    {
      "cell_type": "markdown",
      "metadata": {
        "id": "uZDCZAklQ2Fe"
      },
      "source": [
        "---"
      ]
    },
    {
      "cell_type": "markdown",
      "metadata": {
        "id": "llwHgQbDLLT8"
      },
      "source": [
        "#### Activity 3: Slicing A DataFrame Using The `iloc[]` Function^^^\n",
        "\n",
        " We want to plot the scatter plots and line plots for 6 stars. For each of these stars we will create a Pandas series which will have the brightness levels starting from `FLUX.1` to `FLUX.3197`.\n",
        "\n",
        " Effectively, we need to create 6 Pandas series.\n",
        "\n",
        "Let's create a Pandas series for the first star in the `exo_train_df`. Let's store the series in a variable called `star_0`. To do this, we need to use the `iloc` function."
      ]
    },
    {
      "cell_type": "code",
      "metadata": {
        "id": "-bERYJF3JpFR"
      },
      "source": [
        "# Teacher Action: Create a Pandas series from a Pandas DataFrame using the 'iloc[]' function.\n",
        "star_0 = exoTrain.iloc[0,:]"
      ],
      "execution_count": null,
      "outputs": []
    },
    {
      "cell_type": "markdown",
      "metadata": {
        "id": "l1bpbkBnLU_1"
      },
      "source": [
        "Inside, the `iloc[]` function, the digit `0` indicates the first row (located at index `0`) of the `exo_train_df` DataFrame and the colon (`:`) symbol denotes *collect all the values from the first column till the last column*, i.e., all the columns starting from `LABEL` to `FLUX.3197` columns.\n",
        "\n",
        "**Syntax:**\n",
        "\n",
        "`dataframe_name.iloc[row_position_start : row_position_end, column_position_start : column_position_end]`\n",
        "\n",
        "In this syntax:\n",
        "\n",
        "- `row_position_start` denotes the position of the row in the DataFrame **starting** from whose values you want to take in the new Pandas series or DataFrame.\n",
        "- `row_position_end` denotes the position of the row in the DataFrame till whose values you want to take in the new Pandas series or DataFrame.\n",
        "- `column_position_start` denotes the position of the column in the DataFrame **starting** from whose values you want to take in the new Pandas series or DataFrame.\n",
        "- `column_position_end` denotes the position of the column in the DataFrame till whose values you want to take in the new Pandas series or DataFrame.\n",
        "\n",
        "You can verify manually whether we have extracted the values from the first row or not by viewing the first 5 rows of the DataFrame using the `head()` function."
      ]
    },
    {
      "cell_type": "code",
      "metadata": {
        "id": "M9OYWQR8LUBO",
        "colab": {
          "base_uri": "https://localhost:8080/",
          "height": 299
        },
        "outputId": "bfc96c88-b59b-44eb-e08d-54b681fbdfd0"
      },
      "source": [
        "# Student Action: Compare the values of the 'star_0' Pandas series with the first row in the 'exo_train_df' DataFrame.\n",
        "exoTrain.head()"
      ],
      "execution_count": null,
      "outputs": [
        {
          "output_type": "execute_result",
          "data": {
            "text/plain": [
              "   LABEL   FLUX.1   FLUX.2   FLUX.3   FLUX.4   FLUX.5   FLUX.6  FLUX.7  \\\n",
              "0      2    93.85    83.81    20.10   -26.98   -39.56  -124.71 -135.18   \n",
              "1      2   -38.88   -33.83   -58.54   -40.09   -79.31   -72.81  -86.55   \n",
              "2      2   532.64   535.92   513.73   496.92   456.45   466.00  464.50   \n",
              "3      2   326.52   347.39   302.35   298.13   317.74   312.70  322.33   \n",
              "4      2 -1107.21 -1112.59 -1118.95 -1095.10 -1057.55 -1034.48 -998.34   \n",
              "\n",
              "    FLUX.8  FLUX.9  ...  FLUX.3188  FLUX.3189  FLUX.3190  FLUX.3191  \\\n",
              "0   -96.27  -79.89  ...     -78.07    -102.15    -102.15      25.13   \n",
              "1   -85.33  -83.97  ...      -3.28     -32.21     -32.21     -24.89   \n",
              "2   486.39  436.56  ...     -71.69      13.31      13.31     -29.89   \n",
              "3   311.31  312.42  ...       5.71      -3.73      -3.73      30.05   \n",
              "4 -1022.71 -989.57  ...    -594.37    -401.66    -401.66    -357.24   \n",
              "\n",
              "   FLUX.3192  FLUX.3193  FLUX.3194  FLUX.3195  FLUX.3196  FLUX.3197  \n",
              "0      48.57      92.54      39.32      61.42       5.08     -39.54  \n",
              "1      -4.86       0.76     -11.70       6.46      16.00      19.93  \n",
              "2     -20.88       5.06     -11.80     -28.91     -70.02     -96.67  \n",
              "3      20.03     -12.67      -8.77     -17.31     -17.35      13.98  \n",
              "4    -443.76    -438.54    -399.71    -384.65    -411.79    -510.54  \n",
              "\n",
              "[5 rows x 3198 columns]"
            ],
            "text/html": [
              "\n",
              "  <div id=\"df-3ee459f4-01db-43b0-a8ec-730c7ed70de4\">\n",
              "    <div class=\"colab-df-container\">\n",
              "      <div>\n",
              "<style scoped>\n",
              "    .dataframe tbody tr th:only-of-type {\n",
              "        vertical-align: middle;\n",
              "    }\n",
              "\n",
              "    .dataframe tbody tr th {\n",
              "        vertical-align: top;\n",
              "    }\n",
              "\n",
              "    .dataframe thead th {\n",
              "        text-align: right;\n",
              "    }\n",
              "</style>\n",
              "<table border=\"1\" class=\"dataframe\">\n",
              "  <thead>\n",
              "    <tr style=\"text-align: right;\">\n",
              "      <th></th>\n",
              "      <th>LABEL</th>\n",
              "      <th>FLUX.1</th>\n",
              "      <th>FLUX.2</th>\n",
              "      <th>FLUX.3</th>\n",
              "      <th>FLUX.4</th>\n",
              "      <th>FLUX.5</th>\n",
              "      <th>FLUX.6</th>\n",
              "      <th>FLUX.7</th>\n",
              "      <th>FLUX.8</th>\n",
              "      <th>FLUX.9</th>\n",
              "      <th>...</th>\n",
              "      <th>FLUX.3188</th>\n",
              "      <th>FLUX.3189</th>\n",
              "      <th>FLUX.3190</th>\n",
              "      <th>FLUX.3191</th>\n",
              "      <th>FLUX.3192</th>\n",
              "      <th>FLUX.3193</th>\n",
              "      <th>FLUX.3194</th>\n",
              "      <th>FLUX.3195</th>\n",
              "      <th>FLUX.3196</th>\n",
              "      <th>FLUX.3197</th>\n",
              "    </tr>\n",
              "  </thead>\n",
              "  <tbody>\n",
              "    <tr>\n",
              "      <th>0</th>\n",
              "      <td>2</td>\n",
              "      <td>93.85</td>\n",
              "      <td>83.81</td>\n",
              "      <td>20.10</td>\n",
              "      <td>-26.98</td>\n",
              "      <td>-39.56</td>\n",
              "      <td>-124.71</td>\n",
              "      <td>-135.18</td>\n",
              "      <td>-96.27</td>\n",
              "      <td>-79.89</td>\n",
              "      <td>...</td>\n",
              "      <td>-78.07</td>\n",
              "      <td>-102.15</td>\n",
              "      <td>-102.15</td>\n",
              "      <td>25.13</td>\n",
              "      <td>48.57</td>\n",
              "      <td>92.54</td>\n",
              "      <td>39.32</td>\n",
              "      <td>61.42</td>\n",
              "      <td>5.08</td>\n",
              "      <td>-39.54</td>\n",
              "    </tr>\n",
              "    <tr>\n",
              "      <th>1</th>\n",
              "      <td>2</td>\n",
              "      <td>-38.88</td>\n",
              "      <td>-33.83</td>\n",
              "      <td>-58.54</td>\n",
              "      <td>-40.09</td>\n",
              "      <td>-79.31</td>\n",
              "      <td>-72.81</td>\n",
              "      <td>-86.55</td>\n",
              "      <td>-85.33</td>\n",
              "      <td>-83.97</td>\n",
              "      <td>...</td>\n",
              "      <td>-3.28</td>\n",
              "      <td>-32.21</td>\n",
              "      <td>-32.21</td>\n",
              "      <td>-24.89</td>\n",
              "      <td>-4.86</td>\n",
              "      <td>0.76</td>\n",
              "      <td>-11.70</td>\n",
              "      <td>6.46</td>\n",
              "      <td>16.00</td>\n",
              "      <td>19.93</td>\n",
              "    </tr>\n",
              "    <tr>\n",
              "      <th>2</th>\n",
              "      <td>2</td>\n",
              "      <td>532.64</td>\n",
              "      <td>535.92</td>\n",
              "      <td>513.73</td>\n",
              "      <td>496.92</td>\n",
              "      <td>456.45</td>\n",
              "      <td>466.00</td>\n",
              "      <td>464.50</td>\n",
              "      <td>486.39</td>\n",
              "      <td>436.56</td>\n",
              "      <td>...</td>\n",
              "      <td>-71.69</td>\n",
              "      <td>13.31</td>\n",
              "      <td>13.31</td>\n",
              "      <td>-29.89</td>\n",
              "      <td>-20.88</td>\n",
              "      <td>5.06</td>\n",
              "      <td>-11.80</td>\n",
              "      <td>-28.91</td>\n",
              "      <td>-70.02</td>\n",
              "      <td>-96.67</td>\n",
              "    </tr>\n",
              "    <tr>\n",
              "      <th>3</th>\n",
              "      <td>2</td>\n",
              "      <td>326.52</td>\n",
              "      <td>347.39</td>\n",
              "      <td>302.35</td>\n",
              "      <td>298.13</td>\n",
              "      <td>317.74</td>\n",
              "      <td>312.70</td>\n",
              "      <td>322.33</td>\n",
              "      <td>311.31</td>\n",
              "      <td>312.42</td>\n",
              "      <td>...</td>\n",
              "      <td>5.71</td>\n",
              "      <td>-3.73</td>\n",
              "      <td>-3.73</td>\n",
              "      <td>30.05</td>\n",
              "      <td>20.03</td>\n",
              "      <td>-12.67</td>\n",
              "      <td>-8.77</td>\n",
              "      <td>-17.31</td>\n",
              "      <td>-17.35</td>\n",
              "      <td>13.98</td>\n",
              "    </tr>\n",
              "    <tr>\n",
              "      <th>4</th>\n",
              "      <td>2</td>\n",
              "      <td>-1107.21</td>\n",
              "      <td>-1112.59</td>\n",
              "      <td>-1118.95</td>\n",
              "      <td>-1095.10</td>\n",
              "      <td>-1057.55</td>\n",
              "      <td>-1034.48</td>\n",
              "      <td>-998.34</td>\n",
              "      <td>-1022.71</td>\n",
              "      <td>-989.57</td>\n",
              "      <td>...</td>\n",
              "      <td>-594.37</td>\n",
              "      <td>-401.66</td>\n",
              "      <td>-401.66</td>\n",
              "      <td>-357.24</td>\n",
              "      <td>-443.76</td>\n",
              "      <td>-438.54</td>\n",
              "      <td>-399.71</td>\n",
              "      <td>-384.65</td>\n",
              "      <td>-411.79</td>\n",
              "      <td>-510.54</td>\n",
              "    </tr>\n",
              "  </tbody>\n",
              "</table>\n",
              "<p>5 rows × 3198 columns</p>\n",
              "</div>\n",
              "      <button class=\"colab-df-convert\" onclick=\"convertToInteractive('df-3ee459f4-01db-43b0-a8ec-730c7ed70de4')\"\n",
              "              title=\"Convert this dataframe to an interactive table.\"\n",
              "              style=\"display:none;\">\n",
              "        \n",
              "  <svg xmlns=\"http://www.w3.org/2000/svg\" height=\"24px\"viewBox=\"0 0 24 24\"\n",
              "       width=\"24px\">\n",
              "    <path d=\"M0 0h24v24H0V0z\" fill=\"none\"/>\n",
              "    <path d=\"M18.56 5.44l.94 2.06.94-2.06 2.06-.94-2.06-.94-.94-2.06-.94 2.06-2.06.94zm-11 1L8.5 8.5l.94-2.06 2.06-.94-2.06-.94L8.5 2.5l-.94 2.06-2.06.94zm10 10l.94 2.06.94-2.06 2.06-.94-2.06-.94-.94-2.06-.94 2.06-2.06.94z\"/><path d=\"M17.41 7.96l-1.37-1.37c-.4-.4-.92-.59-1.43-.59-.52 0-1.04.2-1.43.59L10.3 9.45l-7.72 7.72c-.78.78-.78 2.05 0 2.83L4 21.41c.39.39.9.59 1.41.59.51 0 1.02-.2 1.41-.59l7.78-7.78 2.81-2.81c.8-.78.8-2.07 0-2.86zM5.41 20L4 18.59l7.72-7.72 1.47 1.35L5.41 20z\"/>\n",
              "  </svg>\n",
              "      </button>\n",
              "      \n",
              "  <style>\n",
              "    .colab-df-container {\n",
              "      display:flex;\n",
              "      flex-wrap:wrap;\n",
              "      gap: 12px;\n",
              "    }\n",
              "\n",
              "    .colab-df-convert {\n",
              "      background-color: #E8F0FE;\n",
              "      border: none;\n",
              "      border-radius: 50%;\n",
              "      cursor: pointer;\n",
              "      display: none;\n",
              "      fill: #1967D2;\n",
              "      height: 32px;\n",
              "      padding: 0 0 0 0;\n",
              "      width: 32px;\n",
              "    }\n",
              "\n",
              "    .colab-df-convert:hover {\n",
              "      background-color: #E2EBFA;\n",
              "      box-shadow: 0px 1px 2px rgba(60, 64, 67, 0.3), 0px 1px 3px 1px rgba(60, 64, 67, 0.15);\n",
              "      fill: #174EA6;\n",
              "    }\n",
              "\n",
              "    [theme=dark] .colab-df-convert {\n",
              "      background-color: #3B4455;\n",
              "      fill: #D2E3FC;\n",
              "    }\n",
              "\n",
              "    [theme=dark] .colab-df-convert:hover {\n",
              "      background-color: #434B5C;\n",
              "      box-shadow: 0px 1px 3px 1px rgba(0, 0, 0, 0.15);\n",
              "      filter: drop-shadow(0px 1px 2px rgba(0, 0, 0, 0.3));\n",
              "      fill: #FFFFFF;\n",
              "    }\n",
              "  </style>\n",
              "\n",
              "      <script>\n",
              "        const buttonEl =\n",
              "          document.querySelector('#df-3ee459f4-01db-43b0-a8ec-730c7ed70de4 button.colab-df-convert');\n",
              "        buttonEl.style.display =\n",
              "          google.colab.kernel.accessAllowed ? 'block' : 'none';\n",
              "\n",
              "        async function convertToInteractive(key) {\n",
              "          const element = document.querySelector('#df-3ee459f4-01db-43b0-a8ec-730c7ed70de4');\n",
              "          const dataTable =\n",
              "            await google.colab.kernel.invokeFunction('convertToInteractive',\n",
              "                                                     [key], {});\n",
              "          if (!dataTable) return;\n",
              "\n",
              "          const docLinkHtml = 'Like what you see? Visit the ' +\n",
              "            '<a target=\"_blank\" href=https://colab.research.google.com/notebooks/data_table.ipynb>data table notebook</a>'\n",
              "            + ' to learn more about interactive tables.';\n",
              "          element.innerHTML = '';\n",
              "          dataTable['output_type'] = 'display_data';\n",
              "          await google.colab.output.renderOutput(dataTable, element);\n",
              "          const docLink = document.createElement('div');\n",
              "          docLink.innerHTML = docLinkHtml;\n",
              "          element.appendChild(docLink);\n",
              "        }\n",
              "      </script>\n",
              "    </div>\n",
              "  </div>\n",
              "  "
            ]
          },
          "metadata": {},
          "execution_count": 17
        }
      ]
    },
    {
      "cell_type": "markdown",
      "metadata": {
        "id": "WfD8IxKNMRkf"
      },
      "source": [
        "We have confirmed that we indeed created a Pandas series using the `iloc[]` function."
      ]
    },
    {
      "cell_type": "code",
      "metadata": {
        "id": "pMF6jXr_MG9q",
        "colab": {
          "base_uri": "https://localhost:8080/"
        },
        "outputId": "d0c3a2df-ebe8-4c70-eed1-9f8e85bb7214"
      },
      "source": [
        "# Student Action: Verify whether the series created is actually a Pandas series using the 'type()' function.\n",
        "type(star_0)"
      ],
      "execution_count": null,
      "outputs": [
        {
          "output_type": "execute_result",
          "data": {
            "text/plain": [
              "pandas.core.series.Series"
            ]
          },
          "metadata": {},
          "execution_count": 19
        }
      ]
    },
    {
      "cell_type": "code",
      "source": [
        "type(exoTrain)"
      ],
      "metadata": {
        "colab": {
          "base_uri": "https://localhost:8080/"
        },
        "id": "dBv8y8NWMOcg",
        "outputId": "f0e2c71f-df6f-4915-d6ad-82ed941c157e"
      },
      "execution_count": null,
      "outputs": [
        {
          "output_type": "execute_result",
          "data": {
            "text/plain": [
              "pandas.core.frame.DataFrame"
            ]
          },
          "metadata": {},
          "execution_count": 20
        }
      ]
    },
    {
      "cell_type": "markdown",
      "metadata": {
        "id": "jqdJu4SWQP2G"
      },
      "source": [
        "As you can see, `star_0` is a Pandas series."
      ]
    },
    {
      "cell_type": "code",
      "metadata": {
        "id": "5gKra1lEMLji",
        "colab": {
          "base_uri": "https://localhost:8080/"
        },
        "outputId": "b8c31575-7220-4b5c-876b-813dbe0442a9"
      },
      "source": [
        "# Student Action: Using the 'iloc[]' function, create a Pandas series for the second star and store it in a variable called 'star_1'.\n",
        "# Use the 'head()' function to display only the first 5 values of the series.\n",
        "star_1 = exoTrain.iloc[1,:]\n",
        "star_1.head()"
      ],
      "execution_count": null,
      "outputs": [
        {
          "output_type": "execute_result",
          "data": {
            "text/plain": [
              "LABEL      2.00\n",
              "FLUX.1   -38.88\n",
              "FLUX.2   -33.83\n",
              "FLUX.3   -58.54\n",
              "FLUX.4   -40.09\n",
              "Name: 1, dtype: float64"
            ]
          },
          "metadata": {},
          "execution_count": 27
        }
      ]
    },
    {
      "cell_type": "code",
      "metadata": {
        "id": "jn8St5flM0k3",
        "colab": {
          "base_uri": "https://localhost:8080/"
        },
        "outputId": "f5ca9f13-9a7f-4cd9-8d4c-56b047e2796e"
      },
      "source": [
        "# Student Action: Using the 'iloc[]' function, create a Pandas series for the third star and store it in a variable called 'star_2'.\n",
        "star_2 = exoTrain.iloc[2,:]\n",
        "star_2.head()"
      ],
      "execution_count": null,
      "outputs": [
        {
          "output_type": "execute_result",
          "data": {
            "text/plain": [
              "LABEL       2.00\n",
              "FLUX.1    532.64\n",
              "FLUX.2    535.92\n",
              "FLUX.3    513.73\n",
              "FLUX.4    496.92\n",
              "Name: 2, dtype: float64"
            ]
          },
          "metadata": {},
          "execution_count": 28
        }
      ]
    },
    {
      "cell_type": "markdown",
      "metadata": {
        "id": "sgUmqwwGQfAq"
      },
      "source": [
        "We have created a Pandas series for each of the first three stars. Now, let's create the same for each of the last three stars in the DataFrame."
      ]
    },
    {
      "cell_type": "code",
      "metadata": {
        "id": "8tIu89YeM5Ih",
        "colab": {
          "base_uri": "https://localhost:8080/",
          "height": 299
        },
        "outputId": "d7aa53f1-102c-4b40-a6eb-200e8fd966d6"
      },
      "source": [
        "# Student Action: Display the last 5 rows of the 'exo_train_df' DataFrame using the 'tail()' function.\n",
        "exoTrain.tail()"
      ],
      "execution_count": null,
      "outputs": [
        {
          "output_type": "execute_result",
          "data": {
            "text/plain": [
              "      LABEL  FLUX.1  FLUX.2  FLUX.3  FLUX.4  FLUX.5  FLUX.6  FLUX.7  FLUX.8  \\\n",
              "5082      1  -91.91  -92.97  -78.76  -97.33  -68.00  -68.24  -75.48  -49.25   \n",
              "5083      1  989.75  891.01  908.53  851.83  755.11  615.78  595.77  458.87   \n",
              "5084      1  273.39  278.00  261.73  236.99  280.73  264.90  252.92  254.88   \n",
              "5085      1    3.82    2.09   -3.29   -2.88    1.66   -0.75    3.85   -0.03   \n",
              "5086      1  323.28  306.36  293.16  287.67  249.89  218.30  188.86  178.93   \n",
              "\n",
              "      FLUX.9  ...  FLUX.3188  FLUX.3189  FLUX.3190  FLUX.3191  FLUX.3192  \\\n",
              "5082  -30.92  ...     139.95     147.26     156.95     155.64     156.36   \n",
              "5083  492.84  ...     -26.50      -4.84     -76.30     -37.84    -153.83   \n",
              "5084  237.60  ...     -26.82     -53.89     -48.71      30.99      15.96   \n",
              "5085    3.28  ...      10.86      -3.23      -5.10      -4.61      -9.82   \n",
              "5086  118.93  ...      71.19       0.97      55.20      -1.63      -5.50   \n",
              "\n",
              "      FLUX.3193  FLUX.3194  FLUX.3195  FLUX.3196  FLUX.3197  \n",
              "5082     151.75     -24.45     -17.00       3.23      19.28  \n",
              "5083    -136.16      38.03     100.28     -45.64      35.58  \n",
              "5084      -3.47      65.73      88.42      79.07      79.43  \n",
              "5085      -1.50      -4.65     -14.55      -6.41      -2.55  \n",
              "5086     -25.33     -41.31     -16.72     -14.09      27.82  \n",
              "\n",
              "[5 rows x 3198 columns]"
            ],
            "text/html": [
              "\n",
              "  <div id=\"df-52b72378-af48-4a5f-aa7f-0fa41afbb3d7\">\n",
              "    <div class=\"colab-df-container\">\n",
              "      <div>\n",
              "<style scoped>\n",
              "    .dataframe tbody tr th:only-of-type {\n",
              "        vertical-align: middle;\n",
              "    }\n",
              "\n",
              "    .dataframe tbody tr th {\n",
              "        vertical-align: top;\n",
              "    }\n",
              "\n",
              "    .dataframe thead th {\n",
              "        text-align: right;\n",
              "    }\n",
              "</style>\n",
              "<table border=\"1\" class=\"dataframe\">\n",
              "  <thead>\n",
              "    <tr style=\"text-align: right;\">\n",
              "      <th></th>\n",
              "      <th>LABEL</th>\n",
              "      <th>FLUX.1</th>\n",
              "      <th>FLUX.2</th>\n",
              "      <th>FLUX.3</th>\n",
              "      <th>FLUX.4</th>\n",
              "      <th>FLUX.5</th>\n",
              "      <th>FLUX.6</th>\n",
              "      <th>FLUX.7</th>\n",
              "      <th>FLUX.8</th>\n",
              "      <th>FLUX.9</th>\n",
              "      <th>...</th>\n",
              "      <th>FLUX.3188</th>\n",
              "      <th>FLUX.3189</th>\n",
              "      <th>FLUX.3190</th>\n",
              "      <th>FLUX.3191</th>\n",
              "      <th>FLUX.3192</th>\n",
              "      <th>FLUX.3193</th>\n",
              "      <th>FLUX.3194</th>\n",
              "      <th>FLUX.3195</th>\n",
              "      <th>FLUX.3196</th>\n",
              "      <th>FLUX.3197</th>\n",
              "    </tr>\n",
              "  </thead>\n",
              "  <tbody>\n",
              "    <tr>\n",
              "      <th>5082</th>\n",
              "      <td>1</td>\n",
              "      <td>-91.91</td>\n",
              "      <td>-92.97</td>\n",
              "      <td>-78.76</td>\n",
              "      <td>-97.33</td>\n",
              "      <td>-68.00</td>\n",
              "      <td>-68.24</td>\n",
              "      <td>-75.48</td>\n",
              "      <td>-49.25</td>\n",
              "      <td>-30.92</td>\n",
              "      <td>...</td>\n",
              "      <td>139.95</td>\n",
              "      <td>147.26</td>\n",
              "      <td>156.95</td>\n",
              "      <td>155.64</td>\n",
              "      <td>156.36</td>\n",
              "      <td>151.75</td>\n",
              "      <td>-24.45</td>\n",
              "      <td>-17.00</td>\n",
              "      <td>3.23</td>\n",
              "      <td>19.28</td>\n",
              "    </tr>\n",
              "    <tr>\n",
              "      <th>5083</th>\n",
              "      <td>1</td>\n",
              "      <td>989.75</td>\n",
              "      <td>891.01</td>\n",
              "      <td>908.53</td>\n",
              "      <td>851.83</td>\n",
              "      <td>755.11</td>\n",
              "      <td>615.78</td>\n",
              "      <td>595.77</td>\n",
              "      <td>458.87</td>\n",
              "      <td>492.84</td>\n",
              "      <td>...</td>\n",
              "      <td>-26.50</td>\n",
              "      <td>-4.84</td>\n",
              "      <td>-76.30</td>\n",
              "      <td>-37.84</td>\n",
              "      <td>-153.83</td>\n",
              "      <td>-136.16</td>\n",
              "      <td>38.03</td>\n",
              "      <td>100.28</td>\n",
              "      <td>-45.64</td>\n",
              "      <td>35.58</td>\n",
              "    </tr>\n",
              "    <tr>\n",
              "      <th>5084</th>\n",
              "      <td>1</td>\n",
              "      <td>273.39</td>\n",
              "      <td>278.00</td>\n",
              "      <td>261.73</td>\n",
              "      <td>236.99</td>\n",
              "      <td>280.73</td>\n",
              "      <td>264.90</td>\n",
              "      <td>252.92</td>\n",
              "      <td>254.88</td>\n",
              "      <td>237.60</td>\n",
              "      <td>...</td>\n",
              "      <td>-26.82</td>\n",
              "      <td>-53.89</td>\n",
              "      <td>-48.71</td>\n",
              "      <td>30.99</td>\n",
              "      <td>15.96</td>\n",
              "      <td>-3.47</td>\n",
              "      <td>65.73</td>\n",
              "      <td>88.42</td>\n",
              "      <td>79.07</td>\n",
              "      <td>79.43</td>\n",
              "    </tr>\n",
              "    <tr>\n",
              "      <th>5085</th>\n",
              "      <td>1</td>\n",
              "      <td>3.82</td>\n",
              "      <td>2.09</td>\n",
              "      <td>-3.29</td>\n",
              "      <td>-2.88</td>\n",
              "      <td>1.66</td>\n",
              "      <td>-0.75</td>\n",
              "      <td>3.85</td>\n",
              "      <td>-0.03</td>\n",
              "      <td>3.28</td>\n",
              "      <td>...</td>\n",
              "      <td>10.86</td>\n",
              "      <td>-3.23</td>\n",
              "      <td>-5.10</td>\n",
              "      <td>-4.61</td>\n",
              "      <td>-9.82</td>\n",
              "      <td>-1.50</td>\n",
              "      <td>-4.65</td>\n",
              "      <td>-14.55</td>\n",
              "      <td>-6.41</td>\n",
              "      <td>-2.55</td>\n",
              "    </tr>\n",
              "    <tr>\n",
              "      <th>5086</th>\n",
              "      <td>1</td>\n",
              "      <td>323.28</td>\n",
              "      <td>306.36</td>\n",
              "      <td>293.16</td>\n",
              "      <td>287.67</td>\n",
              "      <td>249.89</td>\n",
              "      <td>218.30</td>\n",
              "      <td>188.86</td>\n",
              "      <td>178.93</td>\n",
              "      <td>118.93</td>\n",
              "      <td>...</td>\n",
              "      <td>71.19</td>\n",
              "      <td>0.97</td>\n",
              "      <td>55.20</td>\n",
              "      <td>-1.63</td>\n",
              "      <td>-5.50</td>\n",
              "      <td>-25.33</td>\n",
              "      <td>-41.31</td>\n",
              "      <td>-16.72</td>\n",
              "      <td>-14.09</td>\n",
              "      <td>27.82</td>\n",
              "    </tr>\n",
              "  </tbody>\n",
              "</table>\n",
              "<p>5 rows × 3198 columns</p>\n",
              "</div>\n",
              "      <button class=\"colab-df-convert\" onclick=\"convertToInteractive('df-52b72378-af48-4a5f-aa7f-0fa41afbb3d7')\"\n",
              "              title=\"Convert this dataframe to an interactive table.\"\n",
              "              style=\"display:none;\">\n",
              "        \n",
              "  <svg xmlns=\"http://www.w3.org/2000/svg\" height=\"24px\"viewBox=\"0 0 24 24\"\n",
              "       width=\"24px\">\n",
              "    <path d=\"M0 0h24v24H0V0z\" fill=\"none\"/>\n",
              "    <path d=\"M18.56 5.44l.94 2.06.94-2.06 2.06-.94-2.06-.94-.94-2.06-.94 2.06-2.06.94zm-11 1L8.5 8.5l.94-2.06 2.06-.94-2.06-.94L8.5 2.5l-.94 2.06-2.06.94zm10 10l.94 2.06.94-2.06 2.06-.94-2.06-.94-.94-2.06-.94 2.06-2.06.94z\"/><path d=\"M17.41 7.96l-1.37-1.37c-.4-.4-.92-.59-1.43-.59-.52 0-1.04.2-1.43.59L10.3 9.45l-7.72 7.72c-.78.78-.78 2.05 0 2.83L4 21.41c.39.39.9.59 1.41.59.51 0 1.02-.2 1.41-.59l7.78-7.78 2.81-2.81c.8-.78.8-2.07 0-2.86zM5.41 20L4 18.59l7.72-7.72 1.47 1.35L5.41 20z\"/>\n",
              "  </svg>\n",
              "      </button>\n",
              "      \n",
              "  <style>\n",
              "    .colab-df-container {\n",
              "      display:flex;\n",
              "      flex-wrap:wrap;\n",
              "      gap: 12px;\n",
              "    }\n",
              "\n",
              "    .colab-df-convert {\n",
              "      background-color: #E8F0FE;\n",
              "      border: none;\n",
              "      border-radius: 50%;\n",
              "      cursor: pointer;\n",
              "      display: none;\n",
              "      fill: #1967D2;\n",
              "      height: 32px;\n",
              "      padding: 0 0 0 0;\n",
              "      width: 32px;\n",
              "    }\n",
              "\n",
              "    .colab-df-convert:hover {\n",
              "      background-color: #E2EBFA;\n",
              "      box-shadow: 0px 1px 2px rgba(60, 64, 67, 0.3), 0px 1px 3px 1px rgba(60, 64, 67, 0.15);\n",
              "      fill: #174EA6;\n",
              "    }\n",
              "\n",
              "    [theme=dark] .colab-df-convert {\n",
              "      background-color: #3B4455;\n",
              "      fill: #D2E3FC;\n",
              "    }\n",
              "\n",
              "    [theme=dark] .colab-df-convert:hover {\n",
              "      background-color: #434B5C;\n",
              "      box-shadow: 0px 1px 3px 1px rgba(0, 0, 0, 0.15);\n",
              "      filter: drop-shadow(0px 1px 2px rgba(0, 0, 0, 0.3));\n",
              "      fill: #FFFFFF;\n",
              "    }\n",
              "  </style>\n",
              "\n",
              "      <script>\n",
              "        const buttonEl =\n",
              "          document.querySelector('#df-52b72378-af48-4a5f-aa7f-0fa41afbb3d7 button.colab-df-convert');\n",
              "        buttonEl.style.display =\n",
              "          google.colab.kernel.accessAllowed ? 'block' : 'none';\n",
              "\n",
              "        async function convertToInteractive(key) {\n",
              "          const element = document.querySelector('#df-52b72378-af48-4a5f-aa7f-0fa41afbb3d7');\n",
              "          const dataTable =\n",
              "            await google.colab.kernel.invokeFunction('convertToInteractive',\n",
              "                                                     [key], {});\n",
              "          if (!dataTable) return;\n",
              "\n",
              "          const docLinkHtml = 'Like what you see? Visit the ' +\n",
              "            '<a target=\"_blank\" href=https://colab.research.google.com/notebooks/data_table.ipynb>data table notebook</a>'\n",
              "            + ' to learn more about interactive tables.';\n",
              "          element.innerHTML = '';\n",
              "          dataTable['output_type'] = 'display_data';\n",
              "          await google.colab.output.renderOutput(dataTable, element);\n",
              "          const docLink = document.createElement('div');\n",
              "          docLink.innerHTML = docLinkHtml;\n",
              "          element.appendChild(docLink);\n",
              "        }\n",
              "      </script>\n",
              "    </div>\n",
              "  </div>\n",
              "  "
            ]
          },
          "metadata": {},
          "execution_count": 29
        }
      ]
    },
    {
      "cell_type": "code",
      "metadata": {
        "id": "_dOssdOlM-Lz",
        "colab": {
          "base_uri": "https://localhost:8080/"
        },
        "outputId": "fffc8c4e-0e71-4bff-edb3-9a3cfa0acf11"
      },
      "source": [
        "# Student Action: Using the 'iloc[]' function, create a Pandas series for the last star and store it in a variable called 'star_5086'.\n",
        "star_5086 = exoTrain.iloc[5086,:]\n",
        "star_5086.head()"
      ],
      "execution_count": null,
      "outputs": [
        {
          "output_type": "execute_result",
          "data": {
            "text/plain": [
              "LABEL       1.00\n",
              "FLUX.1    323.28\n",
              "FLUX.2    306.36\n",
              "FLUX.3    293.16\n",
              "FLUX.4    287.67\n",
              "Name: 5086, dtype: float64"
            ]
          },
          "metadata": {},
          "execution_count": 31
        }
      ]
    },
    {
      "cell_type": "code",
      "metadata": {
        "id": "07pOAWj_NBYM"
      },
      "source": [
        "# Student Action: Using the 'iloc[]' function, create a Pandas series for the second-last star and store it in a variable called 'star_5085'.\n",
        "star_5085 = exoTrain.iloc[5085,:]"
      ],
      "execution_count": null,
      "outputs": []
    },
    {
      "cell_type": "code",
      "metadata": {
        "id": "scFAkI-KNE3M"
      },
      "source": [
        "# Student Action: Using the 'iloc[]' function, create a Pandas series for the third-last star and store it in a variable called 'star_5084'.\n",
        "star_5084 = exoTrain.iloc[5084,:]"
      ],
      "execution_count": null,
      "outputs": []
    },
    {
      "cell_type": "markdown",
      "metadata": {
        "id": "v5EtvUk2Q8NE"
      },
      "source": [
        "So, in this class we learnt:\n",
        "\n",
        "1. The transit method of detecting exoplanets\n",
        "\n",
        "2. How to import data from a CSV file and create a Pandas DataFrame from the file.\n",
        "\n",
        "3. How to check for the missing values.\n",
        "\n",
        "4. How to slice a DataFrame using the `iloc[]` function.\n",
        "\n",
        "In the next class, we will learn how to create a scatter plot and a line plot to visualise data."
      ]
    },
    {
      "cell_type": "markdown",
      "metadata": {
        "id": "Q5KC7P66Q6aV"
      },
      "source": [
        "---"
      ]
    }
  ]
}