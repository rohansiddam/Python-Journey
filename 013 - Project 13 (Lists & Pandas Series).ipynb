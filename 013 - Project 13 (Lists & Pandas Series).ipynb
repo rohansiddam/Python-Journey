{
  "nbformat": 4,
  "nbformat_minor": 0,
  "metadata": {
    "colab": {
      "provenance": [],
      "include_colab_link": true
    },
    "kernelspec": {
      "name": "python3",
      "display_name": "Python 3"
    }
  },
  "cells": [
    {
      "cell_type": "markdown",
      "metadata": {
        "id": "view-in-github",
        "colab_type": "text"
      },
      "source": [
        "<a href=\"https://colab.research.google.com/github/rohansiddam/Python-Journey/blob/main/013%20-%20Project%2013%20(Lists%20%26%20Pandas%20Series).ipynb\" target=\"_parent\"><img src=\"https://colab.research.google.com/assets/colab-badge.svg\" alt=\"Open In Colab\"/></a>"
      ]
    },
    {
      "cell_type": "markdown",
      "metadata": {
        "id": "YZnBY81YDCCr"
      },
      "source": [
        "### Instructions"
      ]
    },
    {
      "cell_type": "markdown",
      "metadata": {
        "id": "bEyBzxYRhrLG"
      },
      "source": [
        "#### Goal of the Project\n",
        "\n",
        "This project is designed for you to practice and solve the activities that are based on the concepts covered in the following lessons:\n",
        "\n",
        "  1.  Python List II\n",
        "  3.  Pandas Series"
      ]
    },
    {
      "cell_type": "markdown",
      "metadata": {
        "id": "DPOFIO3EHncO"
      },
      "source": [
        "---"
      ]
    },
    {
      "cell_type": "markdown",
      "metadata": {
        "id": "bu9uYNNMDzC9"
      },
      "source": [
        "#### Getting Started:\n",
        "\n",
        "1. Click on this link to open the Colab file for this project.\n",
        "\n",
        "     https://colab.research.google.com/drive/1RkKhzVNCjkDoO9JEXGHMr0ucDK4kQN5R\n",
        "     \n",
        "2. Create a duplicate copy of the Colab file as described below.\n",
        "\n",
        "  - Click on the **File menu**. A new drop-down list will appear.\n",
        "\n",
        "   <img src='https://student-datasets-bucket.s3.ap-south-1.amazonaws.com/images/lesson-0/0_file_menu.png' width=500>\n",
        "\n",
        "  - Click on the **Save a copy in Drive** option. A duplicate copy will get created. It will open up in the new tab on your web browser.\n",
        "\n",
        "  <img src='https://student-datasets-bucket.s3.ap-south-1.amazonaws.com/images/lesson-0/1_create_colab_duplicate_copy.png' width=500>\n",
        "\n",
        "3. After creating the duplicate copy of the notebook, please rename it in the **YYYY-MM-DD_StudentName_Project13** format.\n",
        "\n",
        "4. Now, write your code in the prescribed code cells.\n"
      ]
    },
    {
      "cell_type": "markdown",
      "metadata": {
        "id": "8f6-uc0r9Q4h"
      },
      "source": [
        "### Activities"
      ]
    },
    {
      "cell_type": "markdown",
      "metadata": {
        "id": "q4fH06mIjuK3"
      },
      "source": [
        "#### Activity 1.1: Pandas Series containing Random Integers\n",
        "\n",
        "Create a Pandas series containing 40 random integers between 130 and 145. Print this series."
      ]
    },
    {
      "cell_type": "code",
      "metadata": {
        "id": "4EAoTskqg041",
        "outputId": "d5964c88-be58-4c15-e7ff-8de96618147e",
        "colab": {
          "base_uri": "https://localhost:8080/"
        }
      },
      "source": [
        "# Create Pandas series\n",
        "import pandas as pd\n",
        "import random as rd\n",
        "series1 = pd.Series(rd.randint(130,145) for i in range(40))\n",
        "print(series1)"
      ],
      "execution_count": null,
      "outputs": [
        {
          "output_type": "stream",
          "name": "stdout",
          "text": [
            "0     145\n",
            "1     145\n",
            "2     145\n",
            "3     131\n",
            "4     140\n",
            "5     134\n",
            "6     141\n",
            "7     132\n",
            "8     135\n",
            "9     141\n",
            "10    139\n",
            "11    142\n",
            "12    131\n",
            "13    131\n",
            "14    137\n",
            "15    137\n",
            "16    133\n",
            "17    139\n",
            "18    141\n",
            "19    134\n",
            "20    134\n",
            "21    137\n",
            "22    137\n",
            "23    134\n",
            "24    137\n",
            "25    139\n",
            "26    141\n",
            "27    133\n",
            "28    137\n",
            "29    144\n",
            "30    140\n",
            "31    136\n",
            "32    138\n",
            "33    138\n",
            "34    145\n",
            "35    143\n",
            "36    145\n",
            "37    134\n",
            "38    141\n",
            "39    137\n",
            "dtype: int64\n"
          ]
        }
      ]
    },
    {
      "cell_type": "markdown",
      "metadata": {
        "id": "H4JT7cLU21lW"
      },
      "source": [
        "---"
      ]
    },
    {
      "cell_type": "markdown",
      "metadata": {
        "id": "GaClyPgg0QAN"
      },
      "source": [
        "#### Activity 1.2: Calculate Mean and Median\n",
        "\n",
        "Calculate the mean value and median value of the above Pandas series."
      ]
    },
    {
      "cell_type": "code",
      "metadata": {
        "id": "2g8Itdkx0ZX5",
        "outputId": "f64824ca-6336-4464-a07b-4cc9aab15b4c",
        "colab": {
          "base_uri": "https://localhost:8080/"
        }
      },
      "source": [
        "# Calculate the mean and median value\n",
        "print(series1.mean())\n",
        "print(series1.median())"
      ],
      "execution_count": null,
      "outputs": [
        {
          "output_type": "stream",
          "name": "stdout",
          "text": [
            "138.075\n",
            "137.5\n"
          ]
        }
      ]
    },
    {
      "cell_type": "markdown",
      "metadata": {
        "id": "2x82_lCI2yzK"
      },
      "source": [
        "---"
      ]
    },
    {
      "cell_type": "markdown",
      "metadata": {
        "id": "GzfCSkUq18qe"
      },
      "source": [
        "#### Activity 1.3: Find Minimum and Maximum\n",
        "\n",
        "Find the minimum and maximum value in the above Pandas series."
      ]
    },
    {
      "cell_type": "code",
      "metadata": {
        "id": "GOnSoo392Bmu",
        "outputId": "bac1e278-a8fe-469e-ab63-a141f12e9375",
        "colab": {
          "base_uri": "https://localhost:8080/"
        }
      },
      "source": [
        "# Find minimum and maximum value in the above Pandas series\n",
        "print(series1.min())\n",
        "print(series1.max())"
      ],
      "execution_count": null,
      "outputs": [
        {
          "output_type": "stream",
          "name": "stdout",
          "text": [
            "131\n",
            "145\n"
          ]
        }
      ]
    },
    {
      "cell_type": "markdown",
      "metadata": {
        "id": "--MY5L-z2wFu"
      },
      "source": [
        "---"
      ]
    },
    {
      "cell_type": "markdown",
      "metadata": {
        "id": "yqhCzutD2WQ-"
      },
      "source": [
        "#### Activity 1.4: Arrange in Descending Order\n",
        "\n",
        "Arrange the values in descending order and print the last five rows of the series."
      ]
    },
    {
      "cell_type": "code",
      "metadata": {
        "id": "4c70mF7Y2dID",
        "outputId": "b95b085d-36e4-4772-934f-76e88c1a8dd4",
        "colab": {
          "base_uri": "https://localhost:8080/"
        }
      },
      "source": [
        "# Arrange the values in descending order and print the last five rows\n",
        "series1.sort_values(ascending=False)\n",
        "print(series1.tail(5))"
      ],
      "execution_count": null,
      "outputs": [
        {
          "output_type": "stream",
          "name": "stdout",
          "text": [
            "35    143\n",
            "36    145\n",
            "37    134\n",
            "38    141\n",
            "39    137\n",
            "dtype: int64\n"
          ]
        }
      ]
    },
    {
      "cell_type": "markdown",
      "metadata": {
        "id": "xJlPs9X9oeRw"
      },
      "source": [
        "---"
      ]
    },
    {
      "cell_type": "markdown",
      "metadata": {
        "id": "b4aeCDi0pkJz"
      },
      "source": [
        "#### Activity 2: Find whether Two Lines are Parallel\n",
        "\n",
        "Given two lines, determine whether they are parallel or not.\n",
        "Lines are represented using a list [a, b, c] which corresponds to the straight line $ax+by=c$.\n",
        "\n",
        "\n",
        "\n",
        "**Hints:**\n",
        "- Two lines are parallel if their slopes are equal.\n",
        "\n",
        "- A line in the form of $ax+by=c$ has slope $\\frac {-a}{b}$.\n",
        "- Ignore the minus $(-)$ sign. Just calculate $\\frac {a}{b}$ for both lines and find out whether they are equal or not.\n",
        "\n",
        "\n",
        "**Example:**\n",
        "```\n",
        "line1 = [2,3,4]\n",
        "line2 = [4,6,8]\n",
        "\n",
        "Are lines parallel?\n",
        "True\n",
        "```\n",
        ""
      ]
    },
    {
      "cell_type": "code",
      "metadata": {
        "id": "d5ufKLNYzsIl",
        "outputId": "0b83e468-308e-43cf-ba5c-447a8d35d903",
        "colab": {
          "base_uri": "https://localhost:8080/"
        }
      },
      "source": [
        "# Two lines are parallel or not\n",
        "line1 = [2,3,4]\n",
        "line2 = [4,6,8]\n",
        "\n",
        "print(\"Are lines parallel?\")\n",
        "if (line1[0] / line1[1]) == (line2[0] / line2[1]):\n",
        "   print(\"True\")\n",
        "else:\n",
        "  print(\"False\")\n"
      ],
      "execution_count": null,
      "outputs": [
        {
          "output_type": "stream",
          "name": "stdout",
          "text": [
            "Are lines parallel?\n",
            "True\n"
          ]
        }
      ]
    },
    {
      "cell_type": "markdown",
      "metadata": {
        "id": "HSz7jRSlGxIO"
      },
      "source": [
        "---"
      ]
    },
    {
      "cell_type": "markdown",
      "metadata": {
        "id": "1rBGksduD8Fe"
      },
      "source": [
        "### How To Submit The Project\n",
        "\n",
        "Follow the steps described below to submit the project.\n",
        "1. After finishing the project, click on the **Share** button on the top right corner of the notebook. A new dialog box will appear.\n",
        "  <img src='https://student-datasets-bucket.s3.ap-south-1.amazonaws.com/images/project-share-images/2_share_button.png' width=500>\n",
        "2. In the dialog box, click on the **Copy link** button. Make sure that '**Anyone on the Internet with this link can view**' option is selected and then click on the **Copy link** button.\n",
        "\n",
        "   <img src='https://student-datasets-bucket.s3.ap-south-1.amazonaws.com/images/project-share-images/3_copy_link.png' width=500>\n",
        "3. The link of the duplicate copy (named as **YYYY-MM-DD_StudentName_Project13**) of the notebook will get copied\n",
        "   <img src='https://student-datasets-bucket.s3.ap-south-1.amazonaws.com/images/project-share-images/4_copy_link_confirmation.png' width=500>\n",
        "4. Go to your dashboard and click on the **My Projects** option.\n",
        "   <img src='https://student-datasets-bucket.s3.ap-south-1.amazonaws.com/images/project-share-images/5_student_dashboard.png' width=800>\n",
        "   <img src='https://student-datasets-bucket.s3.ap-south-1.amazonaws.com/images/project-share-images/6_my_projects.png' width=800>\n",
        "5. Click on the **View Project** button for the project you want to submit.\n",
        "   <img src='https://student-datasets-bucket.s3.ap-south-1.amazonaws.com/images/project-share-images/7_view_project.png' width=800>\n",
        "6. Click on the **Submit Project Here** button.\n",
        "   <img src='https://student-datasets-bucket.s3.ap-south-1.amazonaws.com/images/project-share-images/8_submit_project.png' width=800>\n",
        "7. Past the link to the project named as **YYYY-MM-DD_StudentName_Project13** in the URL box and then click on the **Submit** button.\n",
        "   <img src='https://student-datasets-bucket.s3.ap-south-1.amazonaws.com/images/project-share-images/9_enter_project_url.png' width=800>\n"
      ]
    },
    {
      "cell_type": "markdown",
      "metadata": {
        "id": "oc4S9JToIZhg"
      },
      "source": [
        "---"
      ]
    }
  ]
}