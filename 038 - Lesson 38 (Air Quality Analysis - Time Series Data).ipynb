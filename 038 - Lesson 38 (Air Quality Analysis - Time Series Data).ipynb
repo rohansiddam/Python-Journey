{
  "nbformat": 4,
  "nbformat_minor": 0,
  "metadata": {
    "colab": {
      "provenance": [],
      "include_colab_link": true
    },
    "kernelspec": {
      "name": "python3",
      "display_name": "Python 3"
    }
  },
  "cells": [
    {
      "cell_type": "markdown",
      "metadata": {
        "id": "view-in-github",
        "colab_type": "text"
      },
      "source": [
        "<a href=\"https://colab.research.google.com/github/rohansiddam/Python-Journey/blob/main/038%20-%20Lesson%2038%20(Air%20Quality%20Analysis%20-%20Time%20Series%20Data).ipynb\" target=\"_parent\"><img src=\"https://colab.research.google.com/assets/colab-badge.svg\" alt=\"Open In Colab\"/></a>"
      ]
    },
    {
      "cell_type": "markdown",
      "metadata": {
        "id": "LPKBZQ_iy_pe"
      },
      "source": [
        "# Lesson 38: Air Quality Analysis - Time Series Data"
      ]
    },
    {
      "cell_type": "markdown",
      "metadata": {
        "id": "yK1EGOURy7JH"
      },
      "source": [
        "---"
      ]
    },
    {
      "cell_type": "markdown",
      "metadata": {
        "id": "rbYoOXJdy58-"
      },
      "source": [
        "### Teacher-Student Activities\n",
        "\n",
        "From this class onwards, we will work on a new project in which we have to analyse data on air quality in one of the cities in Italy. We need to determine whether the concentration of air pollutants increase or decrease over time.\n",
        "\n",
        "In the process, we will also learn how to work with time-series data, i.e, how to work with date and time values. Towards the end of the project, we need to create time-series plots such as line plots, bar plots and multivariate boxplots to observe the trend of air pollution concentration over time.\n",
        "\n",
        "Now, skim through the data description to understand the kind of features and corresponding values we have in this data set on air quality."
      ]
    },
    {
      "cell_type": "markdown",
      "metadata": {
        "id": "9w9_GJyky4rX"
      },
      "source": [
        "---"
      ]
    },
    {
      "cell_type": "markdown",
      "metadata": {
        "id": "AsNcRA0syw-o"
      },
      "source": [
        "### Data Description\n",
        "\n",
        "The dataset contains 9358 instances of hourly averaged responses from an array of 5 metal oxide chemical sensors embedded in an Air Quality Chemical Multisensor Device.\n",
        "\n",
        "The device was located on the field in a significantly polluted area, at road level, within an Italian city. Data were recorded from March 2004 to February 2005 (one year) representing the longest freely available recordings of on field-deployed air quality chemical sensor devices responses. A co-located reference certified analyzer provided **Ground Truth (GT)** hourly averaged concentrations for Carbon Monoxide ($\\text{CO}$), Non-Methane Hydrocarbons ($\\text{NMHC}$), Benzene ($\\text{C}_6\\text{H}_6$), total Nitrogen Oxides ($\\text{NO}_x$) & Nitrogen Dioxide ($\\text{NO}_2$) and Ozone ($\\text{O}_3$). These chemical compounds are commonly occurring air pollutants.\n",
        "\n",
        "|Index|Columns|Description|\n",
        "|-|-|-|\n",
        "|0|Date|Date (DD/MM/YYYY)|\n",
        "|1|Time|Time (HH.MM.SS)|\n",
        "|2|CO(GT)|True hourly averaged concentration $\\text{CO}$ in $\\frac{mg}{m^3}$ (reference analyzer)|\n",
        "|3|PT08.S1(CO)|PT08.S1 (tin oxide) hourly averaged sensor response (nominally $\\text{CO}$ targeted)|\n",
        "|4|NMHC(GT)|True hourly averaged overall Non-Methane Hydrocarbons concentration in $\\frac{\\mu g}{m^3}$|\n",
        "|5|C6H6(GT)|True hourly averaged Benzene concentration in $\\frac{\\mu g}{m^3}$||\n",
        "|6|PT08.S2(NMHC)|PT08.S2 (titania) hourly averaged sensor response (nominally $\\text{NMHC}$ targeted)|\n",
        "|7|NOx(GT)|True hourly averaged $\\text{NO}_x$ concentration in Parts per billion (ppb)|\n",
        "|8|PT08.S3(NOx)|PT08.S3 (tungsten oxide) hourly averaged sensor response (nominally $\\text{NO}_x$ targeted)|\n",
        "|9|NO2(GT) |True hourly averaged $\\text{NO}_2$ concentration in $\\frac{\\mu g}{m^3}$|\n",
        "|10|PT08.S4(NO2)|PT08.S4 (tungsten oxide) hourly averaged sensor response (nominally $\\text{NO}_2$ targeted)|\n",
        "|11|PT08.S5(O3) |PT08.S5 (indium oxide) hourly averaged sensor response (nominally $\\text{O}_3$ targeted)|\n",
        "|12|T|Temperature in Â°C|\n",
        "|13|RH|Relative Humidity (%)|\n",
        "|14|AH|AH Absolute Humidity|\n",
        "\n",
        "The above dataset contains missing (or null) values and `-200` as garbage value.\n",
        "\n",
        "**Source:** https://archive.ics.uci.edu/ml/datasets/Air+quality"
      ]
    },
    {
      "cell_type": "markdown",
      "metadata": {
        "id": "gtCOFbLIyvca"
      },
      "source": [
        "---"
      ]
    },
    {
      "cell_type": "markdown",
      "metadata": {
        "id": "0IEdkEavyuMW"
      },
      "source": [
        "### About Air Pollutants\n",
        "\n",
        "**Carbon Monoxide** ($\\text{CO}$)\n",
        "\n",
        "It is a poisonous gas. It reacts with haemoglobin because of which it is unable to supply oxygen to the human body. At very high concentrations of carbon monoxide, up to 40% of the haemoglobin can bind with carbon monoxide which is enough to certainly kill humans. Carbon monoxide is also known as the silent killer because it has no colour, taste or smell.\n",
        "\n",
        "\n",
        "**Benzene ($\\text{C}_6\\text{H}_6$)**\n",
        "\n",
        "It is a colorless or light yellow liquid at room temperature. It has a sweet odour and is highly flammable. It evaporates into the air very quickly, but its vapour is heavier than air and may sink into low-lying areas. Outdoor air contains low levels of benzene from tobacco smoke, gas stations, motor vehicle exhaust, and industrial emissions. Indoor air generally contains levels of benzene higher than those in outdoor air. The benzene in indoor air comes from products that contain benzene such as glues, paints, furniture wax, and detergents. The air around hazardous waste sites or gas stations can contain higher levels of benzene than in other areas. Tobacco smoke is also a major source of benzene.\n",
        "\n",
        "People who breathe in high levels of benzene may develop drowsiness, dizziness, rapid or irregular heartbeat, headaches, tremors, confusion,  unconsciousness and death (at very high levels)\n",
        "\n",
        "**Nitrogen Oxides ($\\text{NO}_x$) & Nitrogen Dioxide ($\\text{NO}_2$)**\n",
        "\n",
        "Nitrogen dioxide and nitric oxide together are referred to as oxides of nitrogen ($\\text{NO}_x$).\n",
        "\n",
        "Nitrogen dioxide is an irritant gas. When nitrogen is released during fuel combustion, it combines with oxygen atoms to create nitric oxide ($\\text{NO}$). This further combines with oxygen to create nitrogen dioxide (N$\\text{NO}_2$). Nitric oxide is not considered to be hazardous to health at typical ambient concentrations, but nitrogen dioxide can be.\n",
        "\n",
        "$\\text{NO}_x$ gases react to form smog and acid rain as well as being central to the formation of fine particles (PM) and ground level ozone, both of which are associated with adverse health effects.\n",
        "\n",
        "**Ozone ($\\text{O}_3$)**\n",
        "\n",
        "Ozone is a colourless and odourless gas. Ground-level ozone forms when pollutants from cars and trucks, power plants, factories, and other sources come in contact with each other in heat and sunlight. Ground-level ozone is one of the biggest parts of smog, and it is usually worse in the summer months.\n",
        "\n",
        "Many scientific studies have linked ground-level ozone contact to such varied problems as\n",
        "\n",
        "- asthma, bronchitis, and emphysema\n",
        "\n",
        "- pneumonia or bronchitis\n",
        "\n",
        "- lung and throat irritation\n",
        "\n",
        "\n",
        "**Non-Methane Hydrocarbons ($\\text{NMHC}$)**\n",
        "\n",
        "All the hydrocarbons except for methane ($\\text{CH}_4$) are collectively called Non-Methane Hydrocarbons. The elevated ambient concentration of NMHCs in an urban environment has a significant impact on climate change and human health.\n",
        "\n",
        "Hydrocarbons (or organic compounds) are naturally occurring substances that can be found in all living things. The solvents being emitted from manufacturing processes are considered Volatile Organic Compounds (VOC). The hydrocarbons are considered volatile since they produce a vapour at room temperature and normal atmospheric pressure. VOCs are contributors to the formation of ozone and smog.  \n",
        "\n",
        "The mechanism for ozone production is:\n",
        "\n",
        "$$\\text{VOC}  +  \\text{NO}_x  +  \\text{sunlight (UV)} \\longrightarrow  \\text{O}_3$$\n",
        "\n",
        "Hydrocarbons are the main component of crude oil, natural gases, and most pesticides. All of these substances contribute to the greenhouse effect, and the depletion of the ozone layer. They also reduce the photosynthetic ability of plants, increase cancer rates in humans and animals, and increase the risk of respiratory illness.\n"
      ]
    },
    {
      "cell_type": "markdown",
      "metadata": {
        "id": "k-GZ9g3LyrAg"
      },
      "source": [
        "---"
      ]
    },
    {
      "cell_type": "markdown",
      "metadata": {
        "id": "sirOjpuRyn0j"
      },
      "source": [
        "#### Activity 1: Loading Data\n",
        "\n",
        "Let's begin the class with importing the required module and importing the time-series dataset on air quality. Here's the dataset link:\n",
        "\n",
        "https://student-datasets-bucket.s3.ap-south-1.amazonaws.com/whitehat-ds-datasets/air-quality/AirQualityUCI.csv\n",
        "\n",
        "The values in the dataset are separated by semi-columns (`;`) instead of commas. The image below shows the first 10 lines of the CSV file.\n",
        "\n",
        "<img src='https://student-datasets-bucket.s3.ap-south-1.amazonaws.com/images/semi_colon_sv.png'>\n",
        "\n",
        "To read the given CSV file, pass the `sep = ';'` parameter inside the `read_csv()` function along with the file location."
      ]
    },
    {
      "cell_type": "code",
      "metadata": {
        "id": "ep3fwC37ynVH",
        "colab": {
          "base_uri": "https://localhost:8080/",
          "height": 206
        },
        "outputId": "e430d698-b363-44ca-fe0b-f4b54430eb36"
      },
      "source": [
        "# S1.1: Import the required modules and load the time-series dataset on air quality. Also, display the first five rows.\n",
        "import pandas as pd\n",
        "\n",
        "air_df = pd.read_csv('https://student-datasets-bucket.s3.ap-south-1.amazonaws.com/whitehat-ds-datasets/air-quality/AirQualityUCI.csv', sep = ';')\n",
        "air_df.head()"
      ],
      "execution_count": null,
      "outputs": [
        {
          "output_type": "execute_result",
          "data": {
            "text/plain": [
              "         Date      Time CO(GT)  PT08.S1(CO)  NMHC(GT) C6H6(GT)  PT08.S2(NMHC)  \\\n",
              "0  10/03/2004  18.00.00    2,6       1360.0     150.0     11,9         1046.0   \n",
              "1  10/03/2004  19.00.00      2       1292.0     112.0      9,4          955.0   \n",
              "2  10/03/2004  20.00.00    2,2       1402.0      88.0      9,0          939.0   \n",
              "3  10/03/2004  21.00.00    2,2       1376.0      80.0      9,2          948.0   \n",
              "4  10/03/2004  22.00.00    1,6       1272.0      51.0      6,5          836.0   \n",
              "\n",
              "   NOx(GT)  PT08.S3(NOx)  NO2(GT)  PT08.S4(NO2)  PT08.S5(O3)     T    RH  \\\n",
              "0    166.0        1056.0    113.0        1692.0       1268.0  13,6  48,9   \n",
              "1    103.0        1174.0     92.0        1559.0        972.0  13,3  47,7   \n",
              "2    131.0        1140.0    114.0        1555.0       1074.0  11,9  54,0   \n",
              "3    172.0        1092.0    122.0        1584.0       1203.0  11,0  60,0   \n",
              "4    131.0        1205.0    116.0        1490.0       1110.0  11,2  59,6   \n",
              "\n",
              "       AH  Unnamed: 15  Unnamed: 16  \n",
              "0  0,7578          NaN          NaN  \n",
              "1  0,7255          NaN          NaN  \n",
              "2  0,7502          NaN          NaN  \n",
              "3  0,7867          NaN          NaN  \n",
              "4  0,7888          NaN          NaN  "
            ],
            "text/html": [
              "\n",
              "  <div id=\"df-b80294a8-31b5-428f-afe3-ed2ae84516d3\">\n",
              "    <div class=\"colab-df-container\">\n",
              "      <div>\n",
              "<style scoped>\n",
              "    .dataframe tbody tr th:only-of-type {\n",
              "        vertical-align: middle;\n",
              "    }\n",
              "\n",
              "    .dataframe tbody tr th {\n",
              "        vertical-align: top;\n",
              "    }\n",
              "\n",
              "    .dataframe thead th {\n",
              "        text-align: right;\n",
              "    }\n",
              "</style>\n",
              "<table border=\"1\" class=\"dataframe\">\n",
              "  <thead>\n",
              "    <tr style=\"text-align: right;\">\n",
              "      <th></th>\n",
              "      <th>Date</th>\n",
              "      <th>Time</th>\n",
              "      <th>CO(GT)</th>\n",
              "      <th>PT08.S1(CO)</th>\n",
              "      <th>NMHC(GT)</th>\n",
              "      <th>C6H6(GT)</th>\n",
              "      <th>PT08.S2(NMHC)</th>\n",
              "      <th>NOx(GT)</th>\n",
              "      <th>PT08.S3(NOx)</th>\n",
              "      <th>NO2(GT)</th>\n",
              "      <th>PT08.S4(NO2)</th>\n",
              "      <th>PT08.S5(O3)</th>\n",
              "      <th>T</th>\n",
              "      <th>RH</th>\n",
              "      <th>AH</th>\n",
              "      <th>Unnamed: 15</th>\n",
              "      <th>Unnamed: 16</th>\n",
              "    </tr>\n",
              "  </thead>\n",
              "  <tbody>\n",
              "    <tr>\n",
              "      <th>0</th>\n",
              "      <td>10/03/2004</td>\n",
              "      <td>18.00.00</td>\n",
              "      <td>2,6</td>\n",
              "      <td>1360.0</td>\n",
              "      <td>150.0</td>\n",
              "      <td>11,9</td>\n",
              "      <td>1046.0</td>\n",
              "      <td>166.0</td>\n",
              "      <td>1056.0</td>\n",
              "      <td>113.0</td>\n",
              "      <td>1692.0</td>\n",
              "      <td>1268.0</td>\n",
              "      <td>13,6</td>\n",
              "      <td>48,9</td>\n",
              "      <td>0,7578</td>\n",
              "      <td>NaN</td>\n",
              "      <td>NaN</td>\n",
              "    </tr>\n",
              "    <tr>\n",
              "      <th>1</th>\n",
              "      <td>10/03/2004</td>\n",
              "      <td>19.00.00</td>\n",
              "      <td>2</td>\n",
              "      <td>1292.0</td>\n",
              "      <td>112.0</td>\n",
              "      <td>9,4</td>\n",
              "      <td>955.0</td>\n",
              "      <td>103.0</td>\n",
              "      <td>1174.0</td>\n",
              "      <td>92.0</td>\n",
              "      <td>1559.0</td>\n",
              "      <td>972.0</td>\n",
              "      <td>13,3</td>\n",
              "      <td>47,7</td>\n",
              "      <td>0,7255</td>\n",
              "      <td>NaN</td>\n",
              "      <td>NaN</td>\n",
              "    </tr>\n",
              "    <tr>\n",
              "      <th>2</th>\n",
              "      <td>10/03/2004</td>\n",
              "      <td>20.00.00</td>\n",
              "      <td>2,2</td>\n",
              "      <td>1402.0</td>\n",
              "      <td>88.0</td>\n",
              "      <td>9,0</td>\n",
              "      <td>939.0</td>\n",
              "      <td>131.0</td>\n",
              "      <td>1140.0</td>\n",
              "      <td>114.0</td>\n",
              "      <td>1555.0</td>\n",
              "      <td>1074.0</td>\n",
              "      <td>11,9</td>\n",
              "      <td>54,0</td>\n",
              "      <td>0,7502</td>\n",
              "      <td>NaN</td>\n",
              "      <td>NaN</td>\n",
              "    </tr>\n",
              "    <tr>\n",
              "      <th>3</th>\n",
              "      <td>10/03/2004</td>\n",
              "      <td>21.00.00</td>\n",
              "      <td>2,2</td>\n",
              "      <td>1376.0</td>\n",
              "      <td>80.0</td>\n",
              "      <td>9,2</td>\n",
              "      <td>948.0</td>\n",
              "      <td>172.0</td>\n",
              "      <td>1092.0</td>\n",
              "      <td>122.0</td>\n",
              "      <td>1584.0</td>\n",
              "      <td>1203.0</td>\n",
              "      <td>11,0</td>\n",
              "      <td>60,0</td>\n",
              "      <td>0,7867</td>\n",
              "      <td>NaN</td>\n",
              "      <td>NaN</td>\n",
              "    </tr>\n",
              "    <tr>\n",
              "      <th>4</th>\n",
              "      <td>10/03/2004</td>\n",
              "      <td>22.00.00</td>\n",
              "      <td>1,6</td>\n",
              "      <td>1272.0</td>\n",
              "      <td>51.0</td>\n",
              "      <td>6,5</td>\n",
              "      <td>836.0</td>\n",
              "      <td>131.0</td>\n",
              "      <td>1205.0</td>\n",
              "      <td>116.0</td>\n",
              "      <td>1490.0</td>\n",
              "      <td>1110.0</td>\n",
              "      <td>11,2</td>\n",
              "      <td>59,6</td>\n",
              "      <td>0,7888</td>\n",
              "      <td>NaN</td>\n",
              "      <td>NaN</td>\n",
              "    </tr>\n",
              "  </tbody>\n",
              "</table>\n",
              "</div>\n",
              "      <button class=\"colab-df-convert\" onclick=\"convertToInteractive('df-b80294a8-31b5-428f-afe3-ed2ae84516d3')\"\n",
              "              title=\"Convert this dataframe to an interactive table.\"\n",
              "              style=\"display:none;\">\n",
              "        \n",
              "  <svg xmlns=\"http://www.w3.org/2000/svg\" height=\"24px\"viewBox=\"0 0 24 24\"\n",
              "       width=\"24px\">\n",
              "    <path d=\"M0 0h24v24H0V0z\" fill=\"none\"/>\n",
              "    <path d=\"M18.56 5.44l.94 2.06.94-2.06 2.06-.94-2.06-.94-.94-2.06-.94 2.06-2.06.94zm-11 1L8.5 8.5l.94-2.06 2.06-.94-2.06-.94L8.5 2.5l-.94 2.06-2.06.94zm10 10l.94 2.06.94-2.06 2.06-.94-2.06-.94-.94-2.06-.94 2.06-2.06.94z\"/><path d=\"M17.41 7.96l-1.37-1.37c-.4-.4-.92-.59-1.43-.59-.52 0-1.04.2-1.43.59L10.3 9.45l-7.72 7.72c-.78.78-.78 2.05 0 2.83L4 21.41c.39.39.9.59 1.41.59.51 0 1.02-.2 1.41-.59l7.78-7.78 2.81-2.81c.8-.78.8-2.07 0-2.86zM5.41 20L4 18.59l7.72-7.72 1.47 1.35L5.41 20z\"/>\n",
              "  </svg>\n",
              "      </button>\n",
              "      \n",
              "  <style>\n",
              "    .colab-df-container {\n",
              "      display:flex;\n",
              "      flex-wrap:wrap;\n",
              "      gap: 12px;\n",
              "    }\n",
              "\n",
              "    .colab-df-convert {\n",
              "      background-color: #E8F0FE;\n",
              "      border: none;\n",
              "      border-radius: 50%;\n",
              "      cursor: pointer;\n",
              "      display: none;\n",
              "      fill: #1967D2;\n",
              "      height: 32px;\n",
              "      padding: 0 0 0 0;\n",
              "      width: 32px;\n",
              "    }\n",
              "\n",
              "    .colab-df-convert:hover {\n",
              "      background-color: #E2EBFA;\n",
              "      box-shadow: 0px 1px 2px rgba(60, 64, 67, 0.3), 0px 1px 3px 1px rgba(60, 64, 67, 0.15);\n",
              "      fill: #174EA6;\n",
              "    }\n",
              "\n",
              "    [theme=dark] .colab-df-convert {\n",
              "      background-color: #3B4455;\n",
              "      fill: #D2E3FC;\n",
              "    }\n",
              "\n",
              "    [theme=dark] .colab-df-convert:hover {\n",
              "      background-color: #434B5C;\n",
              "      box-shadow: 0px 1px 3px 1px rgba(0, 0, 0, 0.15);\n",
              "      filter: drop-shadow(0px 1px 2px rgba(0, 0, 0, 0.3));\n",
              "      fill: #FFFFFF;\n",
              "    }\n",
              "  </style>\n",
              "\n",
              "      <script>\n",
              "        const buttonEl =\n",
              "          document.querySelector('#df-b80294a8-31b5-428f-afe3-ed2ae84516d3 button.colab-df-convert');\n",
              "        buttonEl.style.display =\n",
              "          google.colab.kernel.accessAllowed ? 'block' : 'none';\n",
              "\n",
              "        async function convertToInteractive(key) {\n",
              "          const element = document.querySelector('#df-b80294a8-31b5-428f-afe3-ed2ae84516d3');\n",
              "          const dataTable =\n",
              "            await google.colab.kernel.invokeFunction('convertToInteractive',\n",
              "                                                     [key], {});\n",
              "          if (!dataTable) return;\n",
              "\n",
              "          const docLinkHtml = 'Like what you see? Visit the ' +\n",
              "            '<a target=\"_blank\" href=https://colab.research.google.com/notebooks/data_table.ipynb>data table notebook</a>'\n",
              "            + ' to learn more about interactive tables.';\n",
              "          element.innerHTML = '';\n",
              "          dataTable['output_type'] = 'display_data';\n",
              "          await google.colab.output.renderOutput(dataTable, element);\n",
              "          const docLink = document.createElement('div');\n",
              "          docLink.innerHTML = docLinkHtml;\n",
              "          element.appendChild(docLink);\n",
              "        }\n",
              "      </script>\n",
              "    </div>\n",
              "  </div>\n",
              "  "
            ]
          },
          "metadata": {},
          "execution_count": 3
        }
      ]
    },
    {
      "cell_type": "markdown",
      "metadata": {
        "id": "4oez72wWykqM"
      },
      "source": [
        "The dataset contains two unnamed columns. They are `Unnamed: 15` and `Unnamed: 16`. Both the columns contain `NaN` or null values. We need to drop them. Also, few of the columns contain numeric values separated by comma. We need to replace the commas with periods (or dots).\n",
        "\n",
        "Let's first look at the complete information on the `df` DataFrame."
      ]
    },
    {
      "cell_type": "code",
      "metadata": {
        "id": "Dlgay0wIyhHj",
        "colab": {
          "base_uri": "https://localhost:8080/"
        },
        "outputId": "6421bd11-2401-4959-949b-78d43e0cfeff"
      },
      "source": [
        "# S1.2: Apply the 'info()' function on the 'df' DataFrame.\n",
        "air_df.info()"
      ],
      "execution_count": null,
      "outputs": [
        {
          "output_type": "stream",
          "name": "stdout",
          "text": [
            "<class 'pandas.core.frame.DataFrame'>\n",
            "RangeIndex: 9471 entries, 0 to 9470\n",
            "Data columns (total 17 columns):\n",
            " #   Column         Non-Null Count  Dtype  \n",
            "---  ------         --------------  -----  \n",
            " 0   Date           9357 non-null   object \n",
            " 1   Time           9357 non-null   object \n",
            " 2   CO(GT)         9357 non-null   object \n",
            " 3   PT08.S1(CO)    9357 non-null   float64\n",
            " 4   NMHC(GT)       9357 non-null   float64\n",
            " 5   C6H6(GT)       9357 non-null   object \n",
            " 6   PT08.S2(NMHC)  9357 non-null   float64\n",
            " 7   NOx(GT)        9357 non-null   float64\n",
            " 8   PT08.S3(NOx)   9357 non-null   float64\n",
            " 9   NO2(GT)        9357 non-null   float64\n",
            " 10  PT08.S4(NO2)   9357 non-null   float64\n",
            " 11  PT08.S5(O3)    9357 non-null   float64\n",
            " 12  T              9357 non-null   object \n",
            " 13  RH             9357 non-null   object \n",
            " 14  AH             9357 non-null   object \n",
            " 15  Unnamed: 15    0 non-null      float64\n",
            " 16  Unnamed: 16    0 non-null      float64\n",
            "dtypes: float64(10), object(7)\n",
            "memory usage: 1.2+ MB\n"
          ]
        }
      ]
    },
    {
      "cell_type": "markdown",
      "metadata": {
        "id": "YmSQAE-8ygGS"
      },
      "source": [
        "The values in the `Date` and `Time` columns need to be converted to the `datetime` values. Additionally, the values in the `CO(GT), C6H6(GT), T, RH` and `AH` columns need to be converted to float-point numbers."
      ]
    },
    {
      "cell_type": "markdown",
      "metadata": {
        "id": "sOuxM0nzye9n"
      },
      "source": [
        "---"
      ]
    },
    {
      "cell_type": "markdown",
      "metadata": {
        "id": "57FnI5Xbyak-"
      },
      "source": [
        "#### Activity 2: Missing Values^^\n",
        "\n",
        "We already know that the `Unnamed: 15 and Unnamed: 16` columns contain the missing (or null) values. Let's find out if more columns also contain the null values."
      ]
    },
    {
      "cell_type": "code",
      "metadata": {
        "id": "IJh8J1J0yaMy",
        "colab": {
          "base_uri": "https://localhost:8080/"
        },
        "outputId": "aa5f6f08-6950-4b59-f9a8-dc6967c62a9c"
      },
      "source": [
        "# S2.1: Check for the missing values in the 'df' DataFrame.\n",
        "air_df.isnull().sum()"
      ],
      "execution_count": null,
      "outputs": [
        {
          "output_type": "execute_result",
          "data": {
            "text/plain": [
              "Date              114\n",
              "Time              114\n",
              "CO(GT)            114\n",
              "PT08.S1(CO)       114\n",
              "NMHC(GT)          114\n",
              "C6H6(GT)          114\n",
              "PT08.S2(NMHC)     114\n",
              "NOx(GT)           114\n",
              "PT08.S3(NOx)      114\n",
              "NO2(GT)           114\n",
              "PT08.S4(NO2)      114\n",
              "PT08.S5(O3)       114\n",
              "T                 114\n",
              "RH                114\n",
              "AH                114\n",
              "Unnamed: 15      9471\n",
              "Unnamed: 16      9471\n",
              "dtype: int64"
            ]
          },
          "metadata": {},
          "execution_count": 6
        }
      ]
    },
    {
      "cell_type": "markdown",
      "metadata": {
        "id": "vDdUk1fUyVr4"
      },
      "source": [
        "All the values contained in the `Unnamed: 15 and Unnamed: 16` columns are the missing (or null) values. The other columns contain 114 null values. So, let's drop the last two columns using the `drop()` function.\n",
        "\n",
        "It removes rows or columns by specifying label names and corresponding axis, or by specifying directly index or column names. In this case, we will specify the column names."
      ]
    },
    {
      "cell_type": "code",
      "metadata": {
        "id": "jf0-NW9NyVRK"
      },
      "source": [
        "# S2.2: Drop the 'Unnamed: 15 and Unnamed: 16' columns from the 'df' DataFrame.\n",
        "air_df.drop(columns = ['Unnamed: 15','Unnamed: 16'], inplace = True)"
      ],
      "execution_count": null,
      "outputs": []
    },
    {
      "cell_type": "markdown",
      "metadata": {
        "id": "XoOa_6JfyQWn"
      },
      "source": [
        "The `axis=1` parameter tells Python to drop columns. In this case, if you don't pass the `axis=1` parameter, Python will drop the given columns because we have specified the column names to be dropped. Nonetheless, let's follow a good habit of specifying whether we want to remove a column or a row.\n",
        "\n",
        "Now, let's verify whether the `Unnamed: 15 and Unnamed: 16` columns are removed or not from the `df` DataFrame by printing all the column names."
      ]
    },
    {
      "cell_type": "code",
      "metadata": {
        "id": "pRXlHKYpyPuR",
        "colab": {
          "base_uri": "https://localhost:8080/"
        },
        "outputId": "fdbf8487-cd2a-481f-8366-c62daa32ca79"
      },
      "source": [
        "# S2.3: Get the list of columns present in the 'df' DataFrame after removing the 'Unnamed: 15 and Unnamed: 16' columns.\n",
        "air_df.columns"
      ],
      "execution_count": null,
      "outputs": [
        {
          "output_type": "execute_result",
          "data": {
            "text/plain": [
              "Index(['Date', 'Time', 'CO(GT)', 'PT08.S1(CO)', 'NMHC(GT)', 'C6H6(GT)',\n",
              "       'PT08.S2(NMHC)', 'NOx(GT)', 'PT08.S3(NOx)', 'NO2(GT)', 'PT08.S4(NO2)',\n",
              "       'PT08.S5(O3)', 'T', 'RH', 'AH'],\n",
              "      dtype='object')"
            ]
          },
          "metadata": {},
          "execution_count": 9
        }
      ]
    },
    {
      "cell_type": "markdown",
      "metadata": {
        "id": "FnITQDTsyLUi"
      },
      "source": [
        "We know that the other columns have 114 missing values. Let's see which rows in the `Date` column are missing."
      ]
    },
    {
      "cell_type": "code",
      "metadata": {
        "id": "MusBItt2yGvX",
        "colab": {
          "base_uri": "https://localhost:8080/",
          "height": 424
        },
        "outputId": "0a2a01bc-e3c4-4c33-df7d-e6d7a1cce583"
      },
      "source": [
        "# S2.4: Print the rows missing in the 'Date' column.\n",
        "air_df[air_df['Date'].isnull() == True]"
      ],
      "execution_count": null,
      "outputs": [
        {
          "output_type": "execute_result",
          "data": {
            "text/plain": [
              "     Date Time CO(GT)  PT08.S1(CO)  NMHC(GT) C6H6(GT)  PT08.S2(NMHC)  NOx(GT)  \\\n",
              "9357  NaN  NaN    NaN          NaN       NaN      NaN            NaN      NaN   \n",
              "9358  NaN  NaN    NaN          NaN       NaN      NaN            NaN      NaN   \n",
              "9359  NaN  NaN    NaN          NaN       NaN      NaN            NaN      NaN   \n",
              "9360  NaN  NaN    NaN          NaN       NaN      NaN            NaN      NaN   \n",
              "9361  NaN  NaN    NaN          NaN       NaN      NaN            NaN      NaN   \n",
              "...   ...  ...    ...          ...       ...      ...            ...      ...   \n",
              "9466  NaN  NaN    NaN          NaN       NaN      NaN            NaN      NaN   \n",
              "9467  NaN  NaN    NaN          NaN       NaN      NaN            NaN      NaN   \n",
              "9468  NaN  NaN    NaN          NaN       NaN      NaN            NaN      NaN   \n",
              "9469  NaN  NaN    NaN          NaN       NaN      NaN            NaN      NaN   \n",
              "9470  NaN  NaN    NaN          NaN       NaN      NaN            NaN      NaN   \n",
              "\n",
              "      PT08.S3(NOx)  NO2(GT)  PT08.S4(NO2)  PT08.S5(O3)    T   RH   AH  \n",
              "9357           NaN      NaN           NaN          NaN  NaN  NaN  NaN  \n",
              "9358           NaN      NaN           NaN          NaN  NaN  NaN  NaN  \n",
              "9359           NaN      NaN           NaN          NaN  NaN  NaN  NaN  \n",
              "9360           NaN      NaN           NaN          NaN  NaN  NaN  NaN  \n",
              "9361           NaN      NaN           NaN          NaN  NaN  NaN  NaN  \n",
              "...            ...      ...           ...          ...  ...  ...  ...  \n",
              "9466           NaN      NaN           NaN          NaN  NaN  NaN  NaN  \n",
              "9467           NaN      NaN           NaN          NaN  NaN  NaN  NaN  \n",
              "9468           NaN      NaN           NaN          NaN  NaN  NaN  NaN  \n",
              "9469           NaN      NaN           NaN          NaN  NaN  NaN  NaN  \n",
              "9470           NaN      NaN           NaN          NaN  NaN  NaN  NaN  \n",
              "\n",
              "[114 rows x 15 columns]"
            ],
            "text/html": [
              "\n",
              "  <div id=\"df-642092c7-9256-4d6e-9995-2b6d2c38a1d2\">\n",
              "    <div class=\"colab-df-container\">\n",
              "      <div>\n",
              "<style scoped>\n",
              "    .dataframe tbody tr th:only-of-type {\n",
              "        vertical-align: middle;\n",
              "    }\n",
              "\n",
              "    .dataframe tbody tr th {\n",
              "        vertical-align: top;\n",
              "    }\n",
              "\n",
              "    .dataframe thead th {\n",
              "        text-align: right;\n",
              "    }\n",
              "</style>\n",
              "<table border=\"1\" class=\"dataframe\">\n",
              "  <thead>\n",
              "    <tr style=\"text-align: right;\">\n",
              "      <th></th>\n",
              "      <th>Date</th>\n",
              "      <th>Time</th>\n",
              "      <th>CO(GT)</th>\n",
              "      <th>PT08.S1(CO)</th>\n",
              "      <th>NMHC(GT)</th>\n",
              "      <th>C6H6(GT)</th>\n",
              "      <th>PT08.S2(NMHC)</th>\n",
              "      <th>NOx(GT)</th>\n",
              "      <th>PT08.S3(NOx)</th>\n",
              "      <th>NO2(GT)</th>\n",
              "      <th>PT08.S4(NO2)</th>\n",
              "      <th>PT08.S5(O3)</th>\n",
              "      <th>T</th>\n",
              "      <th>RH</th>\n",
              "      <th>AH</th>\n",
              "    </tr>\n",
              "  </thead>\n",
              "  <tbody>\n",
              "    <tr>\n",
              "      <th>9357</th>\n",
              "      <td>NaN</td>\n",
              "      <td>NaN</td>\n",
              "      <td>NaN</td>\n",
              "      <td>NaN</td>\n",
              "      <td>NaN</td>\n",
              "      <td>NaN</td>\n",
              "      <td>NaN</td>\n",
              "      <td>NaN</td>\n",
              "      <td>NaN</td>\n",
              "      <td>NaN</td>\n",
              "      <td>NaN</td>\n",
              "      <td>NaN</td>\n",
              "      <td>NaN</td>\n",
              "      <td>NaN</td>\n",
              "      <td>NaN</td>\n",
              "    </tr>\n",
              "    <tr>\n",
              "      <th>9358</th>\n",
              "      <td>NaN</td>\n",
              "      <td>NaN</td>\n",
              "      <td>NaN</td>\n",
              "      <td>NaN</td>\n",
              "      <td>NaN</td>\n",
              "      <td>NaN</td>\n",
              "      <td>NaN</td>\n",
              "      <td>NaN</td>\n",
              "      <td>NaN</td>\n",
              "      <td>NaN</td>\n",
              "      <td>NaN</td>\n",
              "      <td>NaN</td>\n",
              "      <td>NaN</td>\n",
              "      <td>NaN</td>\n",
              "      <td>NaN</td>\n",
              "    </tr>\n",
              "    <tr>\n",
              "      <th>9359</th>\n",
              "      <td>NaN</td>\n",
              "      <td>NaN</td>\n",
              "      <td>NaN</td>\n",
              "      <td>NaN</td>\n",
              "      <td>NaN</td>\n",
              "      <td>NaN</td>\n",
              "      <td>NaN</td>\n",
              "      <td>NaN</td>\n",
              "      <td>NaN</td>\n",
              "      <td>NaN</td>\n",
              "      <td>NaN</td>\n",
              "      <td>NaN</td>\n",
              "      <td>NaN</td>\n",
              "      <td>NaN</td>\n",
              "      <td>NaN</td>\n",
              "    </tr>\n",
              "    <tr>\n",
              "      <th>9360</th>\n",
              "      <td>NaN</td>\n",
              "      <td>NaN</td>\n",
              "      <td>NaN</td>\n",
              "      <td>NaN</td>\n",
              "      <td>NaN</td>\n",
              "      <td>NaN</td>\n",
              "      <td>NaN</td>\n",
              "      <td>NaN</td>\n",
              "      <td>NaN</td>\n",
              "      <td>NaN</td>\n",
              "      <td>NaN</td>\n",
              "      <td>NaN</td>\n",
              "      <td>NaN</td>\n",
              "      <td>NaN</td>\n",
              "      <td>NaN</td>\n",
              "    </tr>\n",
              "    <tr>\n",
              "      <th>9361</th>\n",
              "      <td>NaN</td>\n",
              "      <td>NaN</td>\n",
              "      <td>NaN</td>\n",
              "      <td>NaN</td>\n",
              "      <td>NaN</td>\n",
              "      <td>NaN</td>\n",
              "      <td>NaN</td>\n",
              "      <td>NaN</td>\n",
              "      <td>NaN</td>\n",
              "      <td>NaN</td>\n",
              "      <td>NaN</td>\n",
              "      <td>NaN</td>\n",
              "      <td>NaN</td>\n",
              "      <td>NaN</td>\n",
              "      <td>NaN</td>\n",
              "    </tr>\n",
              "    <tr>\n",
              "      <th>...</th>\n",
              "      <td>...</td>\n",
              "      <td>...</td>\n",
              "      <td>...</td>\n",
              "      <td>...</td>\n",
              "      <td>...</td>\n",
              "      <td>...</td>\n",
              "      <td>...</td>\n",
              "      <td>...</td>\n",
              "      <td>...</td>\n",
              "      <td>...</td>\n",
              "      <td>...</td>\n",
              "      <td>...</td>\n",
              "      <td>...</td>\n",
              "      <td>...</td>\n",
              "      <td>...</td>\n",
              "    </tr>\n",
              "    <tr>\n",
              "      <th>9466</th>\n",
              "      <td>NaN</td>\n",
              "      <td>NaN</td>\n",
              "      <td>NaN</td>\n",
              "      <td>NaN</td>\n",
              "      <td>NaN</td>\n",
              "      <td>NaN</td>\n",
              "      <td>NaN</td>\n",
              "      <td>NaN</td>\n",
              "      <td>NaN</td>\n",
              "      <td>NaN</td>\n",
              "      <td>NaN</td>\n",
              "      <td>NaN</td>\n",
              "      <td>NaN</td>\n",
              "      <td>NaN</td>\n",
              "      <td>NaN</td>\n",
              "    </tr>\n",
              "    <tr>\n",
              "      <th>9467</th>\n",
              "      <td>NaN</td>\n",
              "      <td>NaN</td>\n",
              "      <td>NaN</td>\n",
              "      <td>NaN</td>\n",
              "      <td>NaN</td>\n",
              "      <td>NaN</td>\n",
              "      <td>NaN</td>\n",
              "      <td>NaN</td>\n",
              "      <td>NaN</td>\n",
              "      <td>NaN</td>\n",
              "      <td>NaN</td>\n",
              "      <td>NaN</td>\n",
              "      <td>NaN</td>\n",
              "      <td>NaN</td>\n",
              "      <td>NaN</td>\n",
              "    </tr>\n",
              "    <tr>\n",
              "      <th>9468</th>\n",
              "      <td>NaN</td>\n",
              "      <td>NaN</td>\n",
              "      <td>NaN</td>\n",
              "      <td>NaN</td>\n",
              "      <td>NaN</td>\n",
              "      <td>NaN</td>\n",
              "      <td>NaN</td>\n",
              "      <td>NaN</td>\n",
              "      <td>NaN</td>\n",
              "      <td>NaN</td>\n",
              "      <td>NaN</td>\n",
              "      <td>NaN</td>\n",
              "      <td>NaN</td>\n",
              "      <td>NaN</td>\n",
              "      <td>NaN</td>\n",
              "    </tr>\n",
              "    <tr>\n",
              "      <th>9469</th>\n",
              "      <td>NaN</td>\n",
              "      <td>NaN</td>\n",
              "      <td>NaN</td>\n",
              "      <td>NaN</td>\n",
              "      <td>NaN</td>\n",
              "      <td>NaN</td>\n",
              "      <td>NaN</td>\n",
              "      <td>NaN</td>\n",
              "      <td>NaN</td>\n",
              "      <td>NaN</td>\n",
              "      <td>NaN</td>\n",
              "      <td>NaN</td>\n",
              "      <td>NaN</td>\n",
              "      <td>NaN</td>\n",
              "      <td>NaN</td>\n",
              "    </tr>\n",
              "    <tr>\n",
              "      <th>9470</th>\n",
              "      <td>NaN</td>\n",
              "      <td>NaN</td>\n",
              "      <td>NaN</td>\n",
              "      <td>NaN</td>\n",
              "      <td>NaN</td>\n",
              "      <td>NaN</td>\n",
              "      <td>NaN</td>\n",
              "      <td>NaN</td>\n",
              "      <td>NaN</td>\n",
              "      <td>NaN</td>\n",
              "      <td>NaN</td>\n",
              "      <td>NaN</td>\n",
              "      <td>NaN</td>\n",
              "      <td>NaN</td>\n",
              "      <td>NaN</td>\n",
              "    </tr>\n",
              "  </tbody>\n",
              "</table>\n",
              "<p>114 rows × 15 columns</p>\n",
              "</div>\n",
              "      <button class=\"colab-df-convert\" onclick=\"convertToInteractive('df-642092c7-9256-4d6e-9995-2b6d2c38a1d2')\"\n",
              "              title=\"Convert this dataframe to an interactive table.\"\n",
              "              style=\"display:none;\">\n",
              "        \n",
              "  <svg xmlns=\"http://www.w3.org/2000/svg\" height=\"24px\"viewBox=\"0 0 24 24\"\n",
              "       width=\"24px\">\n",
              "    <path d=\"M0 0h24v24H0V0z\" fill=\"none\"/>\n",
              "    <path d=\"M18.56 5.44l.94 2.06.94-2.06 2.06-.94-2.06-.94-.94-2.06-.94 2.06-2.06.94zm-11 1L8.5 8.5l.94-2.06 2.06-.94-2.06-.94L8.5 2.5l-.94 2.06-2.06.94zm10 10l.94 2.06.94-2.06 2.06-.94-2.06-.94-.94-2.06-.94 2.06-2.06.94z\"/><path d=\"M17.41 7.96l-1.37-1.37c-.4-.4-.92-.59-1.43-.59-.52 0-1.04.2-1.43.59L10.3 9.45l-7.72 7.72c-.78.78-.78 2.05 0 2.83L4 21.41c.39.39.9.59 1.41.59.51 0 1.02-.2 1.41-.59l7.78-7.78 2.81-2.81c.8-.78.8-2.07 0-2.86zM5.41 20L4 18.59l7.72-7.72 1.47 1.35L5.41 20z\"/>\n",
              "  </svg>\n",
              "      </button>\n",
              "      \n",
              "  <style>\n",
              "    .colab-df-container {\n",
              "      display:flex;\n",
              "      flex-wrap:wrap;\n",
              "      gap: 12px;\n",
              "    }\n",
              "\n",
              "    .colab-df-convert {\n",
              "      background-color: #E8F0FE;\n",
              "      border: none;\n",
              "      border-radius: 50%;\n",
              "      cursor: pointer;\n",
              "      display: none;\n",
              "      fill: #1967D2;\n",
              "      height: 32px;\n",
              "      padding: 0 0 0 0;\n",
              "      width: 32px;\n",
              "    }\n",
              "\n",
              "    .colab-df-convert:hover {\n",
              "      background-color: #E2EBFA;\n",
              "      box-shadow: 0px 1px 2px rgba(60, 64, 67, 0.3), 0px 1px 3px 1px rgba(60, 64, 67, 0.15);\n",
              "      fill: #174EA6;\n",
              "    }\n",
              "\n",
              "    [theme=dark] .colab-df-convert {\n",
              "      background-color: #3B4455;\n",
              "      fill: #D2E3FC;\n",
              "    }\n",
              "\n",
              "    [theme=dark] .colab-df-convert:hover {\n",
              "      background-color: #434B5C;\n",
              "      box-shadow: 0px 1px 3px 1px rgba(0, 0, 0, 0.15);\n",
              "      filter: drop-shadow(0px 1px 2px rgba(0, 0, 0, 0.3));\n",
              "      fill: #FFFFFF;\n",
              "    }\n",
              "  </style>\n",
              "\n",
              "      <script>\n",
              "        const buttonEl =\n",
              "          document.querySelector('#df-642092c7-9256-4d6e-9995-2b6d2c38a1d2 button.colab-df-convert');\n",
              "        buttonEl.style.display =\n",
              "          google.colab.kernel.accessAllowed ? 'block' : 'none';\n",
              "\n",
              "        async function convertToInteractive(key) {\n",
              "          const element = document.querySelector('#df-642092c7-9256-4d6e-9995-2b6d2c38a1d2');\n",
              "          const dataTable =\n",
              "            await google.colab.kernel.invokeFunction('convertToInteractive',\n",
              "                                                     [key], {});\n",
              "          if (!dataTable) return;\n",
              "\n",
              "          const docLinkHtml = 'Like what you see? Visit the ' +\n",
              "            '<a target=\"_blank\" href=https://colab.research.google.com/notebooks/data_table.ipynb>data table notebook</a>'\n",
              "            + ' to learn more about interactive tables.';\n",
              "          element.innerHTML = '';\n",
              "          dataTable['output_type'] = 'display_data';\n",
              "          await google.colab.output.renderOutput(dataTable, element);\n",
              "          const docLink = document.createElement('div');\n",
              "          docLink.innerHTML = docLinkHtml;\n",
              "          element.appendChild(docLink);\n",
              "        }\n",
              "      </script>\n",
              "    </div>\n",
              "  </div>\n",
              "  "
            ]
          },
          "metadata": {},
          "execution_count": 10
        }
      ]
    },
    {
      "cell_type": "markdown",
      "metadata": {
        "id": "CBEw5dISyC8o"
      },
      "source": [
        "We can see that all the rows starting from index `9357` to `9470` contain missing values in all the columns.\n",
        "\n",
        "**The `dropna()` Function**\n",
        "\n",
        "Let's drop them all using the `dropna()` function. It removes the rows or columns containing the missing values. If no parameter is passed to the `dropna()` function, then it removes all the rows containing at least one null value."
      ]
    },
    {
      "cell_type": "code",
      "metadata": {
        "id": "YXmNAlUZx_Vt"
      },
      "source": [
        "# S2.5: Drop the rows containing at least one null value in the 'df' DataFrame using the 'dropna()' function.\n",
        "air_df = air_df.dropna()"
      ],
      "execution_count": null,
      "outputs": []
    },
    {
      "cell_type": "markdown",
      "metadata": {
        "id": "qjNMRL3Ux8QX"
      },
      "source": [
        "Now, let's check whether all the missing values are removed or not."
      ]
    },
    {
      "cell_type": "code",
      "metadata": {
        "id": "hNAm8A3Px5Kb",
        "colab": {
          "base_uri": "https://localhost:8080/"
        },
        "outputId": "e3ff5282-bd5c-4cf6-c6c7-9ce0e41d993b"
      },
      "source": [
        "# S2.6: Check whether all the missing values are removed or not.\n",
        "air_df.isnull().sum()"
      ],
      "execution_count": null,
      "outputs": [
        {
          "output_type": "execute_result",
          "data": {
            "text/plain": [
              "Date             0\n",
              "Time             0\n",
              "CO(GT)           0\n",
              "PT08.S1(CO)      0\n",
              "NMHC(GT)         0\n",
              "C6H6(GT)         0\n",
              "PT08.S2(NMHC)    0\n",
              "NOx(GT)          0\n",
              "PT08.S3(NOx)     0\n",
              "NO2(GT)          0\n",
              "PT08.S4(NO2)     0\n",
              "PT08.S5(O3)      0\n",
              "T                0\n",
              "RH               0\n",
              "AH               0\n",
              "dtype: int64"
            ]
          },
          "metadata": {},
          "execution_count": 14
        }
      ]
    },
    {
      "cell_type": "markdown",
      "metadata": {
        "id": "uWurZXK0x4Gt"
      },
      "source": [
        "Finally, let's find out how many rows and columns are in the DataFrame after removing the rows and columns containing the missing values."
      ]
    },
    {
      "cell_type": "code",
      "metadata": {
        "id": "J0OC810qx11D",
        "colab": {
          "base_uri": "https://localhost:8080/"
        },
        "outputId": "88e308d0-8b3e-4774-854b-2de6403355f5"
      },
      "source": [
        "# S2.7: How many rows and columns are in the DataFrame after removing the rows and columns containing the missing values?\n",
        "air_df.shape"
      ],
      "execution_count": null,
      "outputs": [
        {
          "output_type": "execute_result",
          "data": {
            "text/plain": [
              "(9357, 15)"
            ]
          },
          "metadata": {},
          "execution_count": 17
        }
      ]
    },
    {
      "cell_type": "markdown",
      "metadata": {
        "id": "j_G4FhaDxxai"
      },
      "source": [
        "Let's also see the last 5 rows of the `df` DataFrame. Their indices should be `9352` to `9356`."
      ]
    },
    {
      "cell_type": "code",
      "metadata": {
        "id": "VYFdJCfxxvsf",
        "colab": {
          "base_uri": "https://localhost:8080/",
          "height": 206
        },
        "outputId": "8017afb1-e7b0-4003-cdde-cb5ef6bb959c"
      },
      "source": [
        "# S2.8: Print the last 5 rows of the 'df' DataFrame.\n",
        "air_df.tail()"
      ],
      "execution_count": null,
      "outputs": [
        {
          "output_type": "execute_result",
          "data": {
            "text/plain": [
              "            Date      Time CO(GT)  PT08.S1(CO)  NMHC(GT) C6H6(GT)  \\\n",
              "9352  04/04/2005  10.00.00    3,1       1314.0    -200.0     13,5   \n",
              "9353  04/04/2005  11.00.00    2,4       1163.0    -200.0     11,4   \n",
              "9354  04/04/2005  12.00.00    2,4       1142.0    -200.0     12,4   \n",
              "9355  04/04/2005  13.00.00    2,1       1003.0    -200.0      9,5   \n",
              "9356  04/04/2005  14.00.00    2,2       1071.0    -200.0     11,9   \n",
              "\n",
              "      PT08.S2(NMHC)  NOx(GT)  PT08.S3(NOx)  NO2(GT)  PT08.S4(NO2)  \\\n",
              "9352         1101.0    472.0         539.0    190.0        1374.0   \n",
              "9353         1027.0    353.0         604.0    179.0        1264.0   \n",
              "9354         1063.0    293.0         603.0    175.0        1241.0   \n",
              "9355          961.0    235.0         702.0    156.0        1041.0   \n",
              "9356         1047.0    265.0         654.0    168.0        1129.0   \n",
              "\n",
              "      PT08.S5(O3)     T    RH      AH  \n",
              "9352       1729.0  21,9  29,3  0,7568  \n",
              "9353       1269.0  24,3  23,7  0,7119  \n",
              "9354       1092.0  26,9  18,3  0,6406  \n",
              "9355        770.0  28,3  13,5  0,5139  \n",
              "9356        816.0  28,5  13,1  0,5028  "
            ],
            "text/html": [
              "\n",
              "  <div id=\"df-9647f45b-19c9-488f-999d-fd2cd2030454\">\n",
              "    <div class=\"colab-df-container\">\n",
              "      <div>\n",
              "<style scoped>\n",
              "    .dataframe tbody tr th:only-of-type {\n",
              "        vertical-align: middle;\n",
              "    }\n",
              "\n",
              "    .dataframe tbody tr th {\n",
              "        vertical-align: top;\n",
              "    }\n",
              "\n",
              "    .dataframe thead th {\n",
              "        text-align: right;\n",
              "    }\n",
              "</style>\n",
              "<table border=\"1\" class=\"dataframe\">\n",
              "  <thead>\n",
              "    <tr style=\"text-align: right;\">\n",
              "      <th></th>\n",
              "      <th>Date</th>\n",
              "      <th>Time</th>\n",
              "      <th>CO(GT)</th>\n",
              "      <th>PT08.S1(CO)</th>\n",
              "      <th>NMHC(GT)</th>\n",
              "      <th>C6H6(GT)</th>\n",
              "      <th>PT08.S2(NMHC)</th>\n",
              "      <th>NOx(GT)</th>\n",
              "      <th>PT08.S3(NOx)</th>\n",
              "      <th>NO2(GT)</th>\n",
              "      <th>PT08.S4(NO2)</th>\n",
              "      <th>PT08.S5(O3)</th>\n",
              "      <th>T</th>\n",
              "      <th>RH</th>\n",
              "      <th>AH</th>\n",
              "    </tr>\n",
              "  </thead>\n",
              "  <tbody>\n",
              "    <tr>\n",
              "      <th>9352</th>\n",
              "      <td>04/04/2005</td>\n",
              "      <td>10.00.00</td>\n",
              "      <td>3,1</td>\n",
              "      <td>1314.0</td>\n",
              "      <td>-200.0</td>\n",
              "      <td>13,5</td>\n",
              "      <td>1101.0</td>\n",
              "      <td>472.0</td>\n",
              "      <td>539.0</td>\n",
              "      <td>190.0</td>\n",
              "      <td>1374.0</td>\n",
              "      <td>1729.0</td>\n",
              "      <td>21,9</td>\n",
              "      <td>29,3</td>\n",
              "      <td>0,7568</td>\n",
              "    </tr>\n",
              "    <tr>\n",
              "      <th>9353</th>\n",
              "      <td>04/04/2005</td>\n",
              "      <td>11.00.00</td>\n",
              "      <td>2,4</td>\n",
              "      <td>1163.0</td>\n",
              "      <td>-200.0</td>\n",
              "      <td>11,4</td>\n",
              "      <td>1027.0</td>\n",
              "      <td>353.0</td>\n",
              "      <td>604.0</td>\n",
              "      <td>179.0</td>\n",
              "      <td>1264.0</td>\n",
              "      <td>1269.0</td>\n",
              "      <td>24,3</td>\n",
              "      <td>23,7</td>\n",
              "      <td>0,7119</td>\n",
              "    </tr>\n",
              "    <tr>\n",
              "      <th>9354</th>\n",
              "      <td>04/04/2005</td>\n",
              "      <td>12.00.00</td>\n",
              "      <td>2,4</td>\n",
              "      <td>1142.0</td>\n",
              "      <td>-200.0</td>\n",
              "      <td>12,4</td>\n",
              "      <td>1063.0</td>\n",
              "      <td>293.0</td>\n",
              "      <td>603.0</td>\n",
              "      <td>175.0</td>\n",
              "      <td>1241.0</td>\n",
              "      <td>1092.0</td>\n",
              "      <td>26,9</td>\n",
              "      <td>18,3</td>\n",
              "      <td>0,6406</td>\n",
              "    </tr>\n",
              "    <tr>\n",
              "      <th>9355</th>\n",
              "      <td>04/04/2005</td>\n",
              "      <td>13.00.00</td>\n",
              "      <td>2,1</td>\n",
              "      <td>1003.0</td>\n",
              "      <td>-200.0</td>\n",
              "      <td>9,5</td>\n",
              "      <td>961.0</td>\n",
              "      <td>235.0</td>\n",
              "      <td>702.0</td>\n",
              "      <td>156.0</td>\n",
              "      <td>1041.0</td>\n",
              "      <td>770.0</td>\n",
              "      <td>28,3</td>\n",
              "      <td>13,5</td>\n",
              "      <td>0,5139</td>\n",
              "    </tr>\n",
              "    <tr>\n",
              "      <th>9356</th>\n",
              "      <td>04/04/2005</td>\n",
              "      <td>14.00.00</td>\n",
              "      <td>2,2</td>\n",
              "      <td>1071.0</td>\n",
              "      <td>-200.0</td>\n",
              "      <td>11,9</td>\n",
              "      <td>1047.0</td>\n",
              "      <td>265.0</td>\n",
              "      <td>654.0</td>\n",
              "      <td>168.0</td>\n",
              "      <td>1129.0</td>\n",
              "      <td>816.0</td>\n",
              "      <td>28,5</td>\n",
              "      <td>13,1</td>\n",
              "      <td>0,5028</td>\n",
              "    </tr>\n",
              "  </tbody>\n",
              "</table>\n",
              "</div>\n",
              "      <button class=\"colab-df-convert\" onclick=\"convertToInteractive('df-9647f45b-19c9-488f-999d-fd2cd2030454')\"\n",
              "              title=\"Convert this dataframe to an interactive table.\"\n",
              "              style=\"display:none;\">\n",
              "        \n",
              "  <svg xmlns=\"http://www.w3.org/2000/svg\" height=\"24px\"viewBox=\"0 0 24 24\"\n",
              "       width=\"24px\">\n",
              "    <path d=\"M0 0h24v24H0V0z\" fill=\"none\"/>\n",
              "    <path d=\"M18.56 5.44l.94 2.06.94-2.06 2.06-.94-2.06-.94-.94-2.06-.94 2.06-2.06.94zm-11 1L8.5 8.5l.94-2.06 2.06-.94-2.06-.94L8.5 2.5l-.94 2.06-2.06.94zm10 10l.94 2.06.94-2.06 2.06-.94-2.06-.94-.94-2.06-.94 2.06-2.06.94z\"/><path d=\"M17.41 7.96l-1.37-1.37c-.4-.4-.92-.59-1.43-.59-.52 0-1.04.2-1.43.59L10.3 9.45l-7.72 7.72c-.78.78-.78 2.05 0 2.83L4 21.41c.39.39.9.59 1.41.59.51 0 1.02-.2 1.41-.59l7.78-7.78 2.81-2.81c.8-.78.8-2.07 0-2.86zM5.41 20L4 18.59l7.72-7.72 1.47 1.35L5.41 20z\"/>\n",
              "  </svg>\n",
              "      </button>\n",
              "      \n",
              "  <style>\n",
              "    .colab-df-container {\n",
              "      display:flex;\n",
              "      flex-wrap:wrap;\n",
              "      gap: 12px;\n",
              "    }\n",
              "\n",
              "    .colab-df-convert {\n",
              "      background-color: #E8F0FE;\n",
              "      border: none;\n",
              "      border-radius: 50%;\n",
              "      cursor: pointer;\n",
              "      display: none;\n",
              "      fill: #1967D2;\n",
              "      height: 32px;\n",
              "      padding: 0 0 0 0;\n",
              "      width: 32px;\n",
              "    }\n",
              "\n",
              "    .colab-df-convert:hover {\n",
              "      background-color: #E2EBFA;\n",
              "      box-shadow: 0px 1px 2px rgba(60, 64, 67, 0.3), 0px 1px 3px 1px rgba(60, 64, 67, 0.15);\n",
              "      fill: #174EA6;\n",
              "    }\n",
              "\n",
              "    [theme=dark] .colab-df-convert {\n",
              "      background-color: #3B4455;\n",
              "      fill: #D2E3FC;\n",
              "    }\n",
              "\n",
              "    [theme=dark] .colab-df-convert:hover {\n",
              "      background-color: #434B5C;\n",
              "      box-shadow: 0px 1px 3px 1px rgba(0, 0, 0, 0.15);\n",
              "      filter: drop-shadow(0px 1px 2px rgba(0, 0, 0, 0.3));\n",
              "      fill: #FFFFFF;\n",
              "    }\n",
              "  </style>\n",
              "\n",
              "      <script>\n",
              "        const buttonEl =\n",
              "          document.querySelector('#df-9647f45b-19c9-488f-999d-fd2cd2030454 button.colab-df-convert');\n",
              "        buttonEl.style.display =\n",
              "          google.colab.kernel.accessAllowed ? 'block' : 'none';\n",
              "\n",
              "        async function convertToInteractive(key) {\n",
              "          const element = document.querySelector('#df-9647f45b-19c9-488f-999d-fd2cd2030454');\n",
              "          const dataTable =\n",
              "            await google.colab.kernel.invokeFunction('convertToInteractive',\n",
              "                                                     [key], {});\n",
              "          if (!dataTable) return;\n",
              "\n",
              "          const docLinkHtml = 'Like what you see? Visit the ' +\n",
              "            '<a target=\"_blank\" href=https://colab.research.google.com/notebooks/data_table.ipynb>data table notebook</a>'\n",
              "            + ' to learn more about interactive tables.';\n",
              "          element.innerHTML = '';\n",
              "          dataTable['output_type'] = 'display_data';\n",
              "          await google.colab.output.renderOutput(dataTable, element);\n",
              "          const docLink = document.createElement('div');\n",
              "          docLink.innerHTML = docLinkHtml;\n",
              "          element.appendChild(docLink);\n",
              "        }\n",
              "      </script>\n",
              "    </div>\n",
              "  </div>\n",
              "  "
            ]
          },
          "metadata": {},
          "execution_count": 18
        }
      ]
    },
    {
      "cell_type": "markdown",
      "metadata": {
        "id": "2VfyRPcRxwKh"
      },
      "source": [
        "---"
      ]
    },
    {
      "cell_type": "markdown",
      "metadata": {
        "id": "Na5_7zrrxptu"
      },
      "source": [
        "#### Activity 3: Parsing `datetime` Values - `pd.to_datetime()` Function^^^\n",
        "\n",
        "Now, we need to convert the values stored in the `Date` and `Time` columns to `datetime` values so that later we can sort the DataFrame in the chronological order. A `datetime` value is a combination of date and time.\n",
        "\n",
        "Let's create a new Pandas series that is a concatenation of the `Date` and `Time` series. In other words, let's concatenate the values stored in the `Date` and `Time` columns and store them into a new Pandas series.\n",
        "\n",
        "We will then convert these concatenated values to the `datetime` values using the `pd.to_datetime()` function from the Pandas module. The input to the `pd.to_datetime()` function is the Pandas series whose values are to be converted into `datetime` values.\n",
        "\n",
        "**Syntax:** `pd.to_datetime(series)`\n",
        "\n",
        "where the `series` is the Pandas series whose values are to be converted into `datetime` values.\n",
        "\n",
        "The default format of a `datetime` value is `YYYY-MM-DD` where `YYYY` denotes year, `MM` denotes month and `DD` denotes day.\n",
        "\n",
        "But first we will have to replace the periods (or dots) with colons (`:`) in the values of the `Time` column because the time values are separated colons, i.e., `HH:MM:SS` where\n",
        "\n",
        "- `HH` denotes hours\n",
        "\n",
        "- `MM` denotes minutes\n",
        "\n",
        "- `SS` denotes seconds"
      ]
    },
    {
      "cell_type": "code",
      "source": [
        "air_df.info()"
      ],
      "metadata": {
        "colab": {
          "base_uri": "https://localhost:8080/"
        },
        "id": "4mMCtOMmoLm_",
        "outputId": "b8d5478c-045c-48f1-c818-b70f4b175285"
      },
      "execution_count": null,
      "outputs": [
        {
          "output_type": "stream",
          "name": "stdout",
          "text": [
            "<class 'pandas.core.frame.DataFrame'>\n",
            "Int64Index: 9357 entries, 0 to 9356\n",
            "Data columns (total 15 columns):\n",
            " #   Column         Non-Null Count  Dtype  \n",
            "---  ------         --------------  -----  \n",
            " 0   Date           9357 non-null   object \n",
            " 1   Time           9357 non-null   object \n",
            " 2   CO(GT)         9357 non-null   object \n",
            " 3   PT08.S1(CO)    9357 non-null   float64\n",
            " 4   NMHC(GT)       9357 non-null   float64\n",
            " 5   C6H6(GT)       9357 non-null   object \n",
            " 6   PT08.S2(NMHC)  9357 non-null   float64\n",
            " 7   NOx(GT)        9357 non-null   float64\n",
            " 8   PT08.S3(NOx)   9357 non-null   float64\n",
            " 9   NO2(GT)        9357 non-null   float64\n",
            " 10  PT08.S4(NO2)   9357 non-null   float64\n",
            " 11  PT08.S5(O3)    9357 non-null   float64\n",
            " 12  T              9357 non-null   object \n",
            " 13  RH             9357 non-null   object \n",
            " 14  AH             9357 non-null   object \n",
            "dtypes: float64(8), object(7)\n",
            "memory usage: 1.1+ MB\n"
          ]
        }
      ]
    },
    {
      "cell_type": "code",
      "metadata": {
        "id": "3dQULfeKxnQI",
        "colab": {
          "base_uri": "https://localhost:8080/"
        },
        "outputId": "a6824a65-4957-4f15-80d5-33d715a42057"
      },
      "source": [
        "# S3.1: Concatenate the values stored in the 'Date' and 'Time' columns and store them into a new Pandas series.\n",
        "date_series = pd.Series([i.replace(\"/\",\"-\") for i in air_df['Date'] ])\n",
        "date_series"
      ],
      "execution_count": null,
      "outputs": [
        {
          "output_type": "execute_result",
          "data": {
            "text/plain": [
              "0       10-03-2004\n",
              "1       10-03-2004\n",
              "2       10-03-2004\n",
              "3       10-03-2004\n",
              "4       10-03-2004\n",
              "           ...    \n",
              "9352    04-04-2005\n",
              "9353    04-04-2005\n",
              "9354    04-04-2005\n",
              "9355    04-04-2005\n",
              "9356    04-04-2005\n",
              "Length: 9357, dtype: object"
            ]
          },
          "metadata": {},
          "execution_count": 23
        }
      ]
    },
    {
      "cell_type": "code",
      "source": [
        "time_series = pd.Series([i.replace(\".\",\":\") for i in air_df['Time']])\n",
        "time_series"
      ],
      "metadata": {
        "colab": {
          "base_uri": "https://localhost:8080/"
        },
        "id": "5mwdvx9vpXHs",
        "outputId": "2ed1a035-5e7a-4797-d45f-61ede2ce16ac"
      },
      "execution_count": null,
      "outputs": [
        {
          "output_type": "execute_result",
          "data": {
            "text/plain": [
              "0       18:00:00\n",
              "1       19:00:00\n",
              "2       20:00:00\n",
              "3       21:00:00\n",
              "4       22:00:00\n",
              "          ...   \n",
              "9352    10:00:00\n",
              "9353    11:00:00\n",
              "9354    12:00:00\n",
              "9355    13:00:00\n",
              "9356    14:00:00\n",
              "Length: 9357, dtype: object"
            ]
          },
          "metadata": {},
          "execution_count": 25
        }
      ]
    },
    {
      "cell_type": "markdown",
      "metadata": {
        "id": "Xo5AnWu_xlj_"
      },
      "source": [
        "In the above code:\n",
        "\n",
        "1. We iterate through each item of the `Time` column, convert it into a string, replace the period with the colon and then add the item to a Python list using the list comprehension method. We then convert the list into a Pandas series by applying the `pd.Series()` function. Inside the `pd.Series()` function, we also passed the `index` parameter whose value is `df.index`. This is to ensure that the indices of the new series are the same as the indices of the `df` DataFrame.\n",
        "\n",
        "2. We concatenated the `Date` series with the new `Time` series using the `+` operator.\n",
        "\n",
        "3. Finally, we converted the values of the newly concatenated series to the `datetime` values using the `pd.to_datetime()` function.\n",
        "\n",
        "**Note:** The `pd.to_datetime()` returns a series containing `datetime64[ns]` values. They essentially are `datetime` values which Python reads as a combination of date and time."
      ]
    },
    {
      "cell_type": "markdown",
      "metadata": {
        "id": "n43hE6zhxizE"
      },
      "source": [
        "---"
      ]
    },
    {
      "cell_type": "code",
      "source": [
        "date_time_series = pd.to_datetime(pd.Series(date_series + \" \" + time_series))\n",
        "date_time_series"
      ],
      "metadata": {
        "colab": {
          "base_uri": "https://localhost:8080/"
        },
        "id": "aRl0JlSfpuzr",
        "outputId": "509bee22-fbdb-4f73-8469-5950407d33d6"
      },
      "execution_count": null,
      "outputs": [
        {
          "output_type": "execute_result",
          "data": {
            "text/plain": [
              "0      2004-10-03 18:00:00\n",
              "1      2004-10-03 19:00:00\n",
              "2      2004-10-03 20:00:00\n",
              "3      2004-10-03 21:00:00\n",
              "4      2004-10-03 22:00:00\n",
              "               ...        \n",
              "9352   2005-04-04 10:00:00\n",
              "9353   2005-04-04 11:00:00\n",
              "9354   2005-04-04 12:00:00\n",
              "9355   2005-04-04 13:00:00\n",
              "9356   2005-04-04 14:00:00\n",
              "Length: 9357, dtype: datetime64[ns]"
            ]
          },
          "metadata": {},
          "execution_count": 29
        }
      ]
    },
    {
      "cell_type": "markdown",
      "metadata": {
        "id": "0jkt4Q3dxdoT"
      },
      "source": [
        "#### Activity 4: Parsing `datetime` Values - `date(), strftime()` & `time()` Functions^\n",
        "\n",
        "Let's learn how to extract date, day, month, year, time, hours, minutes and seconds from a `datetime` value.\n",
        "\n",
        "**The `date()` Function**\n",
        "\n",
        "In general, a `datetime` value is a `Timestamp` object. It holds both date and time."
      ]
    },
    {
      "cell_type": "code",
      "metadata": {
        "id": "ZV33SGfexbsj"
      },
      "source": [
        "# S4.1: Get the first 'datetime' value from the 'df_series' and store it in the 'timestamp_0' variable. Print its value.\n",
        "datetime1 = date_time_series[0]"
      ],
      "execution_count": null,
      "outputs": []
    },
    {
      "cell_type": "markdown",
      "metadata": {
        "id": "3UT2flOVxaqR"
      },
      "source": [
        "To get a date (i.e., `datetime.date` object) from a timestamp, apply the `date()` function."
      ]
    },
    {
      "cell_type": "code",
      "metadata": {
        "id": "miwSrYSnxYvV"
      },
      "source": [
        "# S4.2: Get date from the timestamp stored in the 'timestamp_0' variable. Store the output in the 'date_0' variable.\n",
        "# Print the value and its data-type.\n",
        "date1 = datetime1.date()"
      ],
      "execution_count": null,
      "outputs": []
    },
    {
      "cell_type": "markdown",
      "metadata": {
        "id": "Vx7cYyA_xUq4"
      },
      "source": [
        "**The `day, month` & `year` Attributes**\n",
        "\n",
        "To get day, month and year from a `datetime.date` value apply the `day, month` and `year` attributes.\n",
        "\n",
        "The output will be day, month and year as integer values."
      ]
    },
    {
      "cell_type": "code",
      "metadata": {
        "id": "6LWhDQ9GxRW_",
        "colab": {
          "base_uri": "https://localhost:8080/"
        },
        "outputId": "954ced23-6ab7-4ac1-9f01-9f9fa7c63b44"
      },
      "source": [
        "# S4.3: Get the day, month and year attributes from the date stored in the 'date_0' variable. Print the attributes and their data-types.\n",
        "print(datetime1.day)\n",
        "print(datetime1.month)\n",
        "print(datetime1.year)"
      ],
      "execution_count": null,
      "outputs": [
        {
          "output_type": "stream",
          "name": "stdout",
          "text": [
            "3\n",
            "10\n",
            "2004\n"
          ]
        }
      ]
    },
    {
      "cell_type": "markdown",
      "metadata": {
        "id": "kAB-nReLxHyR"
      },
      "source": [
        "**The `strftime()` Function**\n",
        "\n",
        "To convert a `datetime.date` value into a string value, use the `strftime()` function. You can also format the date in different formats using the `strftime()` function.\n",
        "\n",
        "Let's format the date stored in the `date_0` variable in the `03-Oct-2004` format. To do this, you will have to pass the following input to the `strftime()` function.\n",
        "\n",
        "`'%d-%b-%Y'`\n",
        "\n",
        "It is a combination of three format codes. They are:\n",
        "\n",
        "1. `%d` format code denotes day of the month as a zero-padded decimal number. E.g., 01, 02, 03 etc.\n",
        "\n",
        "2. `%b` format code denotes abbreviated month name of month in the `datetime.date` value. E.g., Jan Feb, March etc.\n",
        "\n",
        "3. `%Y` format code denotes year with century as a decimal number. E.g, 2019, 2020, 2021 etc.\n",
        "\n",
        "The hyphen `-` used here just to separate the day, month and year values. You can separate them with different characters.\n",
        "\n",
        "To get a list of all the `strftime()` format codes, click on the link provided below and then go to the **`strftime()` and `strptime() Format Codes`** section.\n",
        "\n",
        "https://docs.python.org/3/library/datetime.html#strftime-and-strptime-format-codes\n",
        "\n"
      ]
    },
    {
      "cell_type": "code",
      "metadata": {
        "id": "99VwnoMExOVx",
        "colab": {
          "base_uri": "https://localhost:8080/",
          "height": 36
        },
        "outputId": "77296240-356c-4b62-c31d-125fdf61ba14"
      },
      "source": [
        "# S4.4: Format the date stored in the 'date_0' variable in the '03-Oct-2004' format. Print newly formatted date and also its data-type.\n",
        "string_date = date1.strftime('%d-%b-%Y')\n",
        "string_date"
      ],
      "execution_count": null,
      "outputs": [
        {
          "output_type": "execute_result",
          "data": {
            "text/plain": [
              "'03-Oct-2004'"
            ],
            "application/vnd.google.colaboratory.intrinsic+json": {
              "type": "string"
            }
          },
          "metadata": {},
          "execution_count": 42
        }
      ]
    },
    {
      "cell_type": "code",
      "metadata": {
        "id": "mbvmMDuhxK4u",
        "colab": {
          "base_uri": "https://localhost:8080/",
          "height": 36
        },
        "outputId": "44c3d539-3463-4a4a-b8dc-f9e75d98c575"
      },
      "source": [
        "# S4.5: Format the date stored in the 'date_0' variable in the 'October 03, 2004' format. Print newly formatted date and also its data-type.\n",
        "string_date_2 = date1.strftime('%B %d, %Y')\n",
        "string_date_2"
      ],
      "execution_count": null,
      "outputs": [
        {
          "output_type": "execute_result",
          "data": {
            "text/plain": [
              "'October 03, 2004'"
            ],
            "application/vnd.google.colaboratory.intrinsic+json": {
              "type": "string"
            }
          },
          "metadata": {},
          "execution_count": 44
        }
      ]
    },
    {
      "cell_type": "markdown",
      "metadata": {
        "id": "nE-vFFf-xFgr"
      },
      "source": [
        "**The `time()` Function**\n",
        "\n",
        "To get time from a timestamp object, apply the `time()` function. It returns a `datetime.time` object."
      ]
    },
    {
      "cell_type": "code",
      "metadata": {
        "id": "rNDLHzVaxDs6",
        "colab": {
          "base_uri": "https://localhost:8080/"
        },
        "outputId": "2bf11640-4ca9-4fd1-f2c9-116c132c8063"
      },
      "source": [
        "# S4.6: Get the time from the timestamp stored in the 'timestamp_0' variable. Store the output in the 'time_0' variable.\n",
        "time_0 = datetime1.time()\n",
        "print(time_0)"
      ],
      "execution_count": null,
      "outputs": [
        {
          "output_type": "stream",
          "name": "stdout",
          "text": [
            "18:00:00\n"
          ]
        }
      ]
    },
    {
      "cell_type": "markdown",
      "metadata": {
        "id": "TKrgI4Z5xCU-"
      },
      "source": [
        "**The `hour, minute` & `second` Attributes**\n",
        "\n",
        "To get hour, minute and second values from a `datetime.time` object, apply the `hour, minute` and `second` attributes.\n",
        "\n",
        "The output will be hour, minute and second as integer values."
      ]
    },
    {
      "cell_type": "code",
      "metadata": {
        "id": "G7VXtHvHw_3z",
        "colab": {
          "base_uri": "https://localhost:8080/"
        },
        "outputId": "391c3dbf-4274-446c-b1f5-5ad4669ac364"
      },
      "source": [
        "# S4.7: Get the hour, minute and second attributes from the time stored in the 'time_0' variable. Print the attributes and their data-types.\n",
        "print(time_0.hour)\n",
        "print(time_0.minute)\n",
        "print(time_0.second)"
      ],
      "execution_count": null,
      "outputs": [
        {
          "output_type": "stream",
          "name": "stdout",
          "text": [
            "18\n",
            "0\n",
            "0\n"
          ]
        }
      ]
    },
    {
      "cell_type": "markdown",
      "metadata": {
        "id": "W2DkLE3Vw52X"
      },
      "source": [
        "Let's pause here. In the next class, we will learn more about `datetime` values."
      ]
    },
    {
      "cell_type": "markdown",
      "metadata": {
        "id": "Ts2czH53w2d0"
      },
      "source": [
        "---"
      ]
    }
  ]
}