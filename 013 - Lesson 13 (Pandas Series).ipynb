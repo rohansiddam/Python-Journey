{
  "nbformat": 4,
  "nbformat_minor": 0,
  "metadata": {
    "colab": {
      "provenance": [],
      "include_colab_link": true
    },
    "kernelspec": {
      "name": "python3",
      "display_name": "Python 3"
    }
  },
  "cells": [
    {
      "cell_type": "markdown",
      "metadata": {
        "id": "view-in-github",
        "colab_type": "text"
      },
      "source": [
        "<a href=\"https://colab.research.google.com/github/rohansiddam/Python-Journey/blob/main/013%20-%20Lesson%2013%20(Pandas%20Series).ipynb\" target=\"_parent\"><img src=\"https://colab.research.google.com/assets/colab-badge.svg\" alt=\"Open In Colab\"/></a>"
      ]
    },
    {
      "cell_type": "markdown",
      "metadata": {
        "id": "KZngaph1E1HU"
      },
      "source": [
        "# Lesson 13: Pandas Series"
      ]
    },
    {
      "cell_type": "markdown",
      "metadata": {
        "id": "9xQQ4vHgQBSN"
      },
      "source": [
        "### Teacher-Student Activities\n",
        "\n",
        "Before we go ahead with more concepts on Machine Learning and Artificial Intelligence, let's first learn a bit of Data Analysis, so that you can get a better understanding of data. Every dataset tells you a story if you look at it through the right lenses.\n",
        "\n",
        "To give you a perspective, imagine that you have data on the number of sales happening in every month of every single shop in your city. You would notice that during the festivals, the sales volume of sweets rises by a tremendous magnitude. Similarly, the sales volume of clothes, jewellery and electronic products also rose significantly in this period.\n",
        "\n",
        "If you have the tourism data, then you would see that a lot of people in India go on a vacation in the months of May and June, which makes sense because schools are closed in these two months due to summer vacation.\n",
        "\n",
        "Through data, you can observe a trend and based on that trend you can draw meaningful insights, helping you in making decisions in your daily life, in business organisations, in medical and engineering applications etc.\n",
        "\n",
        "When it comes to Data Analysis in Python, we use a module called Pandas which is specifically designed to manipulate, manage and analyse a huge amount of data by creating Pandas Series and Pandas DataFrames.\n",
        "\n",
        "In this lesson, we will learn about the Pandas Series."
      ]
    },
    {
      "cell_type": "markdown",
      "metadata": {
        "id": "crUqZtm_BRK6"
      },
      "source": [
        "---"
      ]
    },
    {
      "cell_type": "markdown",
      "metadata": {
        "id": "2jtEZd96SmI9"
      },
      "source": [
        "#### Pandas Series\n",
        "\n",
        "A Pandas series is a one-dimensional array which can hold various data types. It is similar to a Python list and a NumPy array.\n",
        "\n",
        "Without going too much into the theory, let's get started with the Pandas series right away. At the end of the class, we will learn when to use a Python list, a NumPy array and a Pandas series."
      ]
    },
    {
      "cell_type": "markdown",
      "metadata": {
        "id": "PiRvtjf1BXlV"
      },
      "source": [
        "---"
      ]
    },
    {
      "cell_type": "markdown",
      "metadata": {
        "id": "6VYKPpnVavVx"
      },
      "source": [
        "#### Activity 1: Python List To Pandas Series Conversion\n",
        "\n",
        "Let's understand the Pandas series through an example. Suppose there are `30` students in your class and their weights vary in the range of `45` to `60` kg (both inclusive).\n",
        "\n",
        "We can create a Pandas series containing the weights of the students by first creating a Python list and then converting it to a Pandas series. To create a Pandas series, you have to first import the `pandas` module using the `import` keyword.\n",
        "\n",
        "```\n",
        "import pandas as pd\n",
        "```\n",
        "\n",
        "Here, `pd` is an alias (or nickname) for `pandas`\n",
        "\n",
        "Then you can call the `Series()` function to convert a Python list or a NumPy array into a Pandas series.\n",
        "\n",
        "```\n",
        "weights = pd.Series([random.randint(45, 60) for i in range(30)])\n",
        "```\n",
        "\n",
        "**Note:** Unlike other functions, the `Series()` function begins with the uppercase letter `S`."
      ]
    },
    {
      "cell_type": "code",
      "metadata": {
        "id": "EMr9AICpP2wY",
        "colab": {
          "base_uri": "https://localhost:8080/"
        },
        "outputId": "e2f4a04a-58f7-4cb3-e8f4-d5a283a1cb90"
      },
      "source": [
        "# Teacher Action: Create a Pandas series containing 30 random integers between 45 and 60.\n",
        "import pandas as pd\n",
        "import random as rd\n",
        "integers = [rd.randint(45,60) for i in range(30)]\n",
        "print(integers)\n",
        "print(type(integers))"
      ],
      "execution_count": null,
      "outputs": [
        {
          "output_type": "stream",
          "name": "stdout",
          "text": [
            "[58, 55, 58, 51, 57, 53, 49, 49, 58, 50, 58, 55, 52, 58, 55, 59, 47, 57, 52, 48, 50, 48, 54, 56, 57, 50, 49, 60, 48, 46]\n",
            "<class 'list'>\n"
          ]
        }
      ]
    },
    {
      "cell_type": "code",
      "source": [
        "weights = pd.Series(integers)\n",
        "weights\n",
        "#multiple rows and columns = dataframe"
      ],
      "metadata": {
        "colab": {
          "base_uri": "https://localhost:8080/"
        },
        "id": "zmVIQ-42sJVV",
        "outputId": "3600d64e-0a13-4bd9-b47c-0e473e2c1bed"
      },
      "execution_count": null,
      "outputs": [
        {
          "output_type": "execute_result",
          "data": {
            "text/plain": [
              "0     58\n",
              "1     55\n",
              "2     58\n",
              "3     51\n",
              "4     57\n",
              "5     53\n",
              "6     49\n",
              "7     49\n",
              "8     58\n",
              "9     50\n",
              "10    58\n",
              "11    55\n",
              "12    52\n",
              "13    58\n",
              "14    55\n",
              "15    59\n",
              "16    47\n",
              "17    57\n",
              "18    52\n",
              "19    48\n",
              "20    50\n",
              "21    48\n",
              "22    54\n",
              "23    56\n",
              "24    57\n",
              "25    50\n",
              "26    49\n",
              "27    60\n",
              "28    48\n",
              "29    46\n",
              "dtype: int64"
            ]
          },
          "metadata": {},
          "execution_count": 7
        }
      ]
    },
    {
      "cell_type": "code",
      "source": [
        "list1 = []\n",
        "for i in range(11):\n",
        "  list1.append(i)\n",
        "print(list1)"
      ],
      "metadata": {
        "colab": {
          "base_uri": "https://localhost:8080/"
        },
        "id": "NOCrnKcUqXJP",
        "outputId": "24082948-c011-4b94-f4fe-42b7a2a39a7c"
      },
      "execution_count": null,
      "outputs": [
        {
          "output_type": "stream",
          "name": "stdout",
          "text": [
            "[0, 1, 2, 3, 4, 5, 6, 7, 8, 9, 10]\n"
          ]
        }
      ]
    },
    {
      "cell_type": "code",
      "source": [
        "list1 = []\n",
        "for i in range(11):\n",
        "  if i % 2 == 0:\n",
        "   list1.append(i)\n",
        "print(list1)"
      ],
      "metadata": {
        "colab": {
          "base_uri": "https://localhost:8080/"
        },
        "id": "q8FZfTQUq-Ql",
        "outputId": "c3d06a10-2566-4eba-b5da-e5745e2eb8ad"
      },
      "execution_count": null,
      "outputs": [
        {
          "output_type": "stream",
          "name": "stdout",
          "text": [
            "[0, 2, 4, 6, 8, 10]\n"
          ]
        }
      ]
    },
    {
      "cell_type": "code",
      "source": [
        "list2 = [i for i in range(11)]\n",
        "print(list2)"
      ],
      "metadata": {
        "colab": {
          "base_uri": "https://localhost:8080/"
        },
        "id": "n_Gwd7WGqrS-",
        "outputId": "2983905c-c5ed-4834-afaf-47e396f19dc6"
      },
      "execution_count": null,
      "outputs": [
        {
          "output_type": "stream",
          "name": "stdout",
          "text": [
            "[0, 1, 2, 3, 4, 5, 6, 7, 8, 9, 10]\n"
          ]
        }
      ]
    },
    {
      "cell_type": "code",
      "source": [
        "list2 = [i for i in range(11) if i % 2 == 0]\n",
        "print(list2)"
      ],
      "metadata": {
        "colab": {
          "base_uri": "https://localhost:8080/"
        },
        "id": "4LfwkitBrG9L",
        "outputId": "06977cb3-2546-4d50-eeba-2c2f90877843"
      },
      "execution_count": null,
      "outputs": [
        {
          "output_type": "stream",
          "name": "stdout",
          "text": [
            "[0, 2, 4, 6, 8, 10]\n"
          ]
        }
      ]
    },
    {
      "cell_type": "code",
      "source": [
        "list2 = [\"Rohan\" for i in range(11) if i % 2 == 0]\n",
        "print(list2)"
      ],
      "metadata": {
        "colab": {
          "base_uri": "https://localhost:8080/"
        },
        "id": "w9gd6DFtrYqt",
        "outputId": "4119e7c0-07c5-469e-822a-1ab6d478571c"
      },
      "execution_count": null,
      "outputs": [
        {
          "output_type": "stream",
          "name": "stdout",
          "text": [
            "['Rohan', 'Rohan', 'Rohan', 'Rohan', 'Rohan', 'Rohan']\n"
          ]
        }
      ]
    },
    {
      "cell_type": "markdown",
      "metadata": {
        "id": "UrDULktVb2Ji"
      },
      "source": [
        "The first column in the output represents the indices of all the items in the `weights` Pandas series. The second column contains the weights of the students. The data-type of each item is an `int`.\n",
        "\n",
        "**Note:** Ignore the `64` in the `int64` for the time being.\n",
        "\n",
        "Using the `Series()` function, you can convert any one-dimensional Python list into a Pandas series. Now, let's verify whether `weights` is a Pandas series or not."
      ]
    },
    {
      "cell_type": "code",
      "metadata": {
        "id": "TDnNWIjxz99A",
        "colab": {
          "base_uri": "https://localhost:8080/"
        },
        "outputId": "09e01516-86f8-4076-d3a3-6c219baed61d"
      },
      "source": [
        "# Student Action: Verify the type of value stored in the 'weights' variable using the 'type()' function.\n",
        "print(type(weights))"
      ],
      "execution_count": null,
      "outputs": [
        {
          "output_type": "stream",
          "name": "stdout",
          "text": [
            "<class 'pandas.core.series.Series'>\n"
          ]
        }
      ]
    },
    {
      "cell_type": "markdown",
      "metadata": {
        "id": "9sOodrKz0K4O"
      },
      "source": [
        "The `type()` function returns `pandas.core.series.Series` as an output which confirms that `weights` is indeed a Pandas series.\n",
        "\n",
        "A Pandas series can also contain the items of multiple data-types. Recall that in the trial class we created 4 different variables to store the attributes of a planet.  \n",
        "\n",
        "||Mercury|\n",
        "|-|-|\n",
        "|Diameter (km)|4879|\n",
        "|Gravity ($m/s^2$)|3.7|\n",
        "|Ring|No|\n",
        "\n",
        "\n",
        "Let's store the name of a planet, its diameter, gravity and whether it has a ring or not in a Python list and then convert it into a pandas series.\n"
      ]
    },
    {
      "cell_type": "code",
      "metadata": {
        "id": "rsq1SJvObuMK",
        "colab": {
          "base_uri": "https://localhost:8080/"
        },
        "outputId": "e388d838-ed4c-40a9-c5c5-f1508aea6227"
      },
      "source": [
        "# Student Action: Create a Python list which contains planet name, diameter, gravity and False if the planet has a ring.\n",
        "# Convert the list into a Pandas series. Also, verify whether the list successfully is converted to a Pandas series or not.\n",
        "list3 = [\"Mercury\", 4879, 3.7, False]\n",
        "panda_list = pd.Series(list3)\n",
        "panda_list\n",
        "print(type(panda_list))"
      ],
      "execution_count": null,
      "outputs": [
        {
          "output_type": "stream",
          "name": "stdout",
          "text": [
            "<class 'pandas.core.series.Series'>\n"
          ]
        }
      ]
    },
    {
      "cell_type": "markdown",
      "metadata": {
        "id": "qYnWSTd-oEBY"
      },
      "source": [
        "Here the data-type is `object`. Pandas cannot return the data-type of every individual item. Hence, it has returned `object` data-type to represent one common data-type for all the items.\n",
        "\n",
        "You can also use the `size` keyword to find the number of items in a Pandas series."
      ]
    },
    {
      "cell_type": "code",
      "metadata": {
        "id": "PUa5uRc2Cysy",
        "colab": {
          "base_uri": "https://localhost:8080/"
        },
        "outputId": "cd103384-3987-4b3d-abd0-d87cea237bba"
      },
      "source": [
        "# Student Action: Find the number of items in the 'weights' Pandas series using the 'size' keyword.\n",
        "weights.size"
      ],
      "execution_count": null,
      "outputs": [
        {
          "output_type": "execute_result",
          "data": {
            "text/plain": [
              "30"
            ]
          },
          "metadata": {},
          "execution_count": 11
        }
      ]
    },
    {
      "cell_type": "markdown",
      "metadata": {
        "id": "QtQA2xU0C94F"
      },
      "source": [
        "So, there are `30` items in the `weights` Pandas series.\n",
        "\n",
        "You can also use the `shape` keyword to find the number of rows and columns in a Pandas series."
      ]
    },
    {
      "cell_type": "code",
      "metadata": {
        "id": "-y9cRsdBDH-G",
        "colab": {
          "base_uri": "https://localhost:8080/"
        },
        "outputId": "e16f2fe2-0269-4e13-c435-5f11850e78c1"
      },
      "source": [
        "# Student Action: Find the number of rows and columns in the 'weights' Pandas series using the 'shape' keyword.\n",
        "weights.shape"
      ],
      "execution_count": null,
      "outputs": [
        {
          "output_type": "execute_result",
          "data": {
            "text/plain": [
              "(30,)"
            ]
          },
          "metadata": {},
          "execution_count": 12
        }
      ]
    },
    {
      "cell_type": "markdown",
      "metadata": {
        "id": "UiqBN8vsDOyh"
      },
      "source": [
        "So, there are `30` rows and `1` column in the `weights` Pandas series."
      ]
    },
    {
      "cell_type": "markdown",
      "metadata": {
        "id": "KGtlRcPDBfPd"
      },
      "source": [
        "---"
      ]
    },
    {
      "cell_type": "markdown",
      "metadata": {
        "id": "SLrh_iDB1M74"
      },
      "source": [
        "#### Activity 2: The `mean(), min(), max()` Functions\n",
        "\n",
        "The `mean()` function does not take any input and returns the average value of all the items as an output.\n",
        "\n",
        "To apply this function, you need to write the Pandas series; whose mean value you need to compute; followed by the dot (`.`) operator.\n"
      ]
    },
    {
      "cell_type": "code",
      "metadata": {
        "id": "Ce9nbvapc3HX",
        "colab": {
          "base_uri": "https://localhost:8080/"
        },
        "outputId": "a2d030fc-ebca-4bd5-8b27-c60cbb85a64a"
      },
      "source": [
        "# Student Action: Calculate the average value of all the numbers in a Pandas series.\n",
        "weights.mean()"
      ],
      "execution_count": null,
      "outputs": [
        {
          "output_type": "execute_result",
          "data": {
            "text/plain": [
              "53.233333333333334"
            ]
          },
          "metadata": {},
          "execution_count": 13
        }
      ]
    },
    {
      "cell_type": "markdown",
      "metadata": {
        "id": "Xb62jTLtup7l"
      },
      "source": [
        "Similarly, you can also find the minimum and maximum values in a Pandas series using the `min()` and `max()` functions."
      ]
    },
    {
      "cell_type": "code",
      "metadata": {
        "id": "MoGFFlFGzm5_",
        "colab": {
          "base_uri": "https://localhost:8080/"
        },
        "outputId": "c6e1ddc1-c492-479c-c5a8-ba7262c165d5"
      },
      "source": [
        "# Student Action: Using the 'min()' and 'max()' functions, print the minimum and maximum values in the 'weights' Pandas series.\n",
        "print(weights.min())\n",
        "print(weights.max())"
      ],
      "execution_count": null,
      "outputs": [
        {
          "output_type": "stream",
          "name": "stdout",
          "text": [
            "46\n",
            "60\n"
          ]
        }
      ]
    },
    {
      "cell_type": "markdown",
      "metadata": {
        "id": "1Aa8dT_nBg0U"
      },
      "source": [
        "---"
      ]
    },
    {
      "cell_type": "markdown",
      "metadata": {
        "id": "ppYm2Q9V3s2H"
      },
      "source": [
        "#### Activity 3: The `head()` And `tail()` Functions\n",
        "\n",
        "Sometimes instead of looking at the full dataset, we just want to look at the first few rows or the last few rows of the dataset. In such cases, we can use the `head()` and `tail()` function.\n",
        "\n",
        "The `head()` function shows the first five and the `tail()` function shows the last five items in a Pandas series."
      ]
    },
    {
      "cell_type": "code",
      "metadata": {
        "id": "C2mEBmQv1wmr",
        "colab": {
          "base_uri": "https://localhost:8080/"
        },
        "outputId": "f2fe5bec-7f1d-4d99-d2a9-99ebcfd9a4c9"
      },
      "source": [
        "# Student Action: Print only the first 5 items in a Pandas series using the 'head()' function.\n",
        "weights.head()"
      ],
      "execution_count": null,
      "outputs": [
        {
          "output_type": "execute_result",
          "data": {
            "text/plain": [
              "0    58\n",
              "1    55\n",
              "2    58\n",
              "3    51\n",
              "4    57\n",
              "dtype: int64"
            ]
          },
          "metadata": {},
          "execution_count": 17
        }
      ]
    },
    {
      "cell_type": "markdown",
      "metadata": {
        "id": "8vHjxvBe4mDU"
      },
      "source": [
        "The numbers in the first column in the output are the indices of each item in the Pandas series. Since we print the first five items, the indices range from `0` to `4`."
      ]
    },
    {
      "cell_type": "code",
      "metadata": {
        "id": "4BZ0vDmy4kWQ",
        "colab": {
          "base_uri": "https://localhost:8080/"
        },
        "outputId": "e358fad2-6994-42c2-d149-732dc65b77a5"
      },
      "source": [
        "# Student Action: Using the 'tail()' function, print the last 5 items in the Pandas series.\n",
        "weights.tail()"
      ],
      "execution_count": null,
      "outputs": [
        {
          "output_type": "execute_result",
          "data": {
            "text/plain": [
              "25    50\n",
              "26    49\n",
              "27    60\n",
              "28    48\n",
              "29    46\n",
              "dtype: int64"
            ]
          },
          "metadata": {},
          "execution_count": 18
        }
      ]
    },
    {
      "cell_type": "markdown",
      "metadata": {
        "id": "-Z8RAfIr3wiO"
      },
      "source": [
        "Since we printed the last five items of the series, the indices range from `25` to `29`.\n",
        "\n",
        "Within the `head()` and `tail()` functions, you can specify the `n` number of first items and the `n` number of last items you wish to see in a Pandas series."
      ]
    },
    {
      "cell_type": "code",
      "metadata": {
        "id": "QX5A5rd23v01",
        "colab": {
          "base_uri": "https://localhost:8080/"
        },
        "outputId": "7cfec4af-566e-47fb-9131-fcdbad151212"
      },
      "source": [
        "# Student Action: Using the 'head()' function, print the first 8 items of the weights series.\n",
        "weights.head(8)"
      ],
      "execution_count": null,
      "outputs": [
        {
          "output_type": "execute_result",
          "data": {
            "text/plain": [
              "0    58\n",
              "1    55\n",
              "2    58\n",
              "3    51\n",
              "4    57\n",
              "5    53\n",
              "6    49\n",
              "7    49\n",
              "dtype: int64"
            ]
          },
          "metadata": {},
          "execution_count": 19
        }
      ]
    },
    {
      "cell_type": "code",
      "metadata": {
        "id": "jG3-LcqW4Xps",
        "colab": {
          "base_uri": "https://localhost:8080/"
        },
        "outputId": "05dbaa12-0cff-4726-a141-d2f5df8af493"
      },
      "source": [
        "# Student Action: Using the 'tail()' function, print the last 12 items of the weights series.\n",
        "weights.tail(12)"
      ],
      "execution_count": null,
      "outputs": [
        {
          "output_type": "execute_result",
          "data": {
            "text/plain": [
              "18    52\n",
              "19    48\n",
              "20    50\n",
              "21    48\n",
              "22    54\n",
              "23    56\n",
              "24    57\n",
              "25    50\n",
              "26    49\n",
              "27    60\n",
              "28    48\n",
              "29    46\n",
              "dtype: int64"
            ]
          },
          "metadata": {},
          "execution_count": 20
        }
      ]
    },
    {
      "cell_type": "markdown",
      "metadata": {
        "id": "Rme5LFfDBjBl"
      },
      "source": [
        "---"
      ]
    },
    {
      "cell_type": "markdown",
      "metadata": {
        "id": "R-YHECv8272g"
      },
      "source": [
        "#### Activity 4: Indexing A Pandas Series^\n",
        "\n",
        "Indexing a Pandas series is the same as indexing a Python list or a NumPy array.\n",
        "\n",
        "Let's say we want to get the weights of the students whose indices range from `13` to `21`, then you can write the variable storing the Pandas series followed by the square brackets `[]`. Inside the square brackets, you can mention the range of items you wish to retrieve from a series.\n",
        "\n",
        "**Syntax:** `pandas_series[start_index:end_index]`"
      ]
    },
    {
      "cell_type": "code",
      "metadata": {
        "id": "phhN5YRc3k3b",
        "colab": {
          "base_uri": "https://localhost:8080/"
        },
        "outputId": "f4194605-8f59-4b56-a90f-74b2913ae47f"
      },
      "source": [
        "# Student Action: Retrieve items from a Pandas series using the indexing method.\n",
        "weights[13:22]"
      ],
      "execution_count": null,
      "outputs": [
        {
          "output_type": "execute_result",
          "data": {
            "text/plain": [
              "13    58\n",
              "14    55\n",
              "15    59\n",
              "16    47\n",
              "17    57\n",
              "18    52\n",
              "19    48\n",
              "20    50\n",
              "21    48\n",
              "dtype: int64"
            ]
          },
          "metadata": {},
          "execution_count": 23
        }
      ]
    },
    {
      "cell_type": "code",
      "metadata": {
        "id": "OkuDG88ICFF8",
        "colab": {
          "base_uri": "https://localhost:8080/"
        },
        "outputId": "c22de61b-ae88-49a6-cfc8-2cba35d0df6d"
      },
      "source": [
        "# Student Action: Print the items ranging from the indices 17 to 27.\n",
        "weights[17:28]"
      ],
      "execution_count": null,
      "outputs": [
        {
          "output_type": "execute_result",
          "data": {
            "text/plain": [
              "17    57\n",
              "18    52\n",
              "19    48\n",
              "20    50\n",
              "21    48\n",
              "22    54\n",
              "23    56\n",
              "24    57\n",
              "25    50\n",
              "26    49\n",
              "27    60\n",
              "dtype: int64"
            ]
          },
          "metadata": {},
          "execution_count": 24
        }
      ]
    },
    {
      "cell_type": "markdown",
      "metadata": {
        "id": "QdblhzmsBlTs"
      },
      "source": [
        "---"
      ]
    },
    {
      "cell_type": "markdown",
      "metadata": {
        "id": "kWIw-52mGY_O"
      },
      "source": [
        "#### Activity 5: The `mode()` Function\n",
        "\n",
        "Let's say you want to find out the weights of the most number of students in your class, then you can use the `mode()` function."
      ]
    },
    {
      "cell_type": "code",
      "metadata": {
        "id": "usuCFOT5DnI0",
        "colab": {
          "base_uri": "https://localhost:8080/"
        },
        "outputId": "96aa7c28-33ab-41b8-8625-a0efe49abe6a"
      },
      "source": [
        "# Student Action: Compute the modal value in the 'weight' series.\n",
        "weights.mode()"
      ],
      "execution_count": null,
      "outputs": [
        {
          "output_type": "execute_result",
          "data": {
            "text/plain": [
              "0    58\n",
              "dtype: int64"
            ]
          },
          "metadata": {},
          "execution_count": 25
        }
      ]
    },
    {
      "cell_type": "markdown",
      "metadata": {
        "id": "a4lTVCuwIkC2"
      },
      "source": [
        "**Note**: A dataset can have more than one modal value.\n"
      ]
    },
    {
      "cell_type": "markdown",
      "metadata": {
        "id": "8wRQOfR7Bmqr"
      },
      "source": [
        "---"
      ]
    },
    {
      "cell_type": "markdown",
      "metadata": {
        "id": "FHZ9M6342j2M"
      },
      "source": [
        "#### Activity 6: The `sort_values()` Function^^\n",
        "\n",
        "We can use the `sort_values()` function to arrange the numbers in a Pandas series either in an ascending order or in descending order.\n",
        "\n",
        "To arrange the numbers in a Pandas series in the increasing order, use the `sort_values()` function with the `ascending=True` as an input."
      ]
    },
    {
      "cell_type": "code",
      "metadata": {
        "id": "Ahm8KCSm243J",
        "colab": {
          "base_uri": "https://localhost:8080/"
        },
        "outputId": "723a6291-ded5-43ee-c41b-77affd54e9f2"
      },
      "source": [
        "# Student Action: Arrange the weights in the increasing order using the 'sort_values()' function.\n",
        "weights.sort_values(ascending=True)"
      ],
      "execution_count": null,
      "outputs": [
        {
          "output_type": "execute_result",
          "data": {
            "text/plain": [
              "29    46\n",
              "16    47\n",
              "21    48\n",
              "19    48\n",
              "28    48\n",
              "26    49\n",
              "6     49\n",
              "7     49\n",
              "25    50\n",
              "9     50\n",
              "20    50\n",
              "3     51\n",
              "12    52\n",
              "18    52\n",
              "5     53\n",
              "22    54\n",
              "14    55\n",
              "11    55\n",
              "1     55\n",
              "23    56\n",
              "17    57\n",
              "4     57\n",
              "24    57\n",
              "13    58\n",
              "10    58\n",
              "8     58\n",
              "2     58\n",
              "0     58\n",
              "15    59\n",
              "27    60\n",
              "dtype: int64"
            ]
          },
          "metadata": {},
          "execution_count": 26
        }
      ]
    },
    {
      "cell_type": "markdown",
      "metadata": {
        "id": "HvuYmLY01NRE"
      },
      "source": [
        "To arrange the numbers in a Pandas series in the decreasing order, use the `sort_values()` function with the `ascending=False` as an input."
      ]
    },
    {
      "cell_type": "code",
      "metadata": {
        "id": "58zrrGp03MPr",
        "colab": {
          "base_uri": "https://localhost:8080/"
        },
        "outputId": "2d407940-3c0f-4a33-d7da-cd88a7a776b7"
      },
      "source": [
        "# Student Action: Using the 'sort_values()' function, arrange the weights in the decreasing order.\n",
        "weights.sort_values(ascending=False)"
      ],
      "execution_count": null,
      "outputs": [
        {
          "output_type": "execute_result",
          "data": {
            "text/plain": [
              "27    60\n",
              "15    59\n",
              "8     58\n",
              "13    58\n",
              "10    58\n",
              "0     58\n",
              "2     58\n",
              "24    57\n",
              "17    57\n",
              "4     57\n",
              "23    56\n",
              "14    55\n",
              "11    55\n",
              "1     55\n",
              "22    54\n",
              "5     53\n",
              "12    52\n",
              "18    52\n",
              "3     51\n",
              "9     50\n",
              "25    50\n",
              "20    50\n",
              "26    49\n",
              "6     49\n",
              "7     49\n",
              "21    48\n",
              "19    48\n",
              "28    48\n",
              "16    47\n",
              "29    46\n",
              "dtype: int64"
            ]
          },
          "metadata": {},
          "execution_count": 28
        }
      ]
    },
    {
      "cell_type": "markdown",
      "metadata": {
        "id": "f_gvj2iuBojX"
      },
      "source": [
        "---"
      ]
    },
    {
      "cell_type": "markdown",
      "metadata": {
        "id": "JzMxsDyM1xjF"
      },
      "source": [
        "#### Activity 7: The `median()` Function\n",
        "\n",
        "To find the median value in a Pandas series, we can simply use the `median()` function.\n"
      ]
    },
    {
      "cell_type": "code",
      "metadata": {
        "id": "7ow8yIRJIVkH",
        "colab": {
          "base_uri": "https://localhost:8080/"
        },
        "outputId": "a2a051ec-6df2-48c5-84d8-41309b1c4d50"
      },
      "source": [
        "# Student Action: Using the 'median()' function, find the median weight in the weights series.\n",
        "weights.median()"
      ],
      "execution_count": null,
      "outputs": [
        {
          "output_type": "execute_result",
          "data": {
            "text/plain": [
              "53.5"
            ]
          },
          "metadata": {},
          "execution_count": 29
        }
      ]
    },
    {
      "cell_type": "markdown",
      "metadata": {
        "id": "miV_5-BUBqgo"
      },
      "source": [
        "---"
      ]
    },
    {
      "cell_type": "markdown",
      "metadata": {
        "id": "OzwfreqNImoh"
      },
      "source": [
        "#### Activity 8: The `value_counts()` Function^^^\n",
        "\n",
        "To count the number of occurrences of an item in a Pandas series, you can use the `value_counts()` function."
      ]
    },
    {
      "cell_type": "code",
      "metadata": {
        "id": "oXpzD6kCIrFc",
        "colab": {
          "base_uri": "https://localhost:8080/"
        },
        "outputId": "c4634a22-182c-4824-c00a-279849aecb4e"
      },
      "source": [
        "# Student Action: Count the number of times each item in the 'weights' Pandas series occurs.\n",
        "weights.value_counts()"
      ],
      "execution_count": null,
      "outputs": [
        {
          "output_type": "execute_result",
          "data": {
            "text/plain": [
              "58    5\n",
              "55    3\n",
              "57    3\n",
              "49    3\n",
              "50    3\n",
              "48    3\n",
              "52    2\n",
              "51    1\n",
              "53    1\n",
              "59    1\n",
              "47    1\n",
              "54    1\n",
              "56    1\n",
              "60    1\n",
              "46    1\n",
              "dtype: int64"
            ]
          },
          "metadata": {},
          "execution_count": 30
        }
      ]
    },
    {
      "cell_type": "markdown",
      "metadata": {
        "id": "sm6gnHKkJFTw"
      },
      "source": [
        "**Note:** The `value_counts()` function is not available for Python lists and NumPy arrays.\n",
        "\n",
        "There is more to the Pandas series. We will learn it in detail along with Pandas DataFrames from the next class onwards. This is just an introductory class to Pandas."
      ]
    },
    {
      "cell_type": "markdown",
      "source": [
        "Activity 1: Calculate Mean\n",
        "Write a function to calculate the mean of all the numbers contained in a list/array/series."
      ],
      "metadata": {
        "id": "GnvdMpCOictg"
      }
    },
    {
      "cell_type": "code",
      "source": [
        "def calculate_mean(input):\n",
        "  i = 0\n",
        "  for num in range(len(input)):\n",
        "    i += input[num]\n",
        "  print(i / len(input))"
      ],
      "metadata": {
        "id": "Rcfqd0ZGid8P"
      },
      "execution_count": null,
      "outputs": []
    },
    {
      "cell_type": "code",
      "source": [
        "calculate_mean(integers)"
      ],
      "metadata": {
        "colab": {
          "base_uri": "https://localhost:8080/"
        },
        "id": "0Mpt65g7xxvu",
        "outputId": "5949edd4-4319-4444-892c-41617f1f21b1"
      },
      "execution_count": null,
      "outputs": [
        {
          "output_type": "stream",
          "name": "stdout",
          "text": [
            "53.233333333333334\n"
          ]
        }
      ]
    },
    {
      "cell_type": "code",
      "source": [
        "for i in range(len(integers)):\n",
        "  print(integers[i])"
      ],
      "metadata": {
        "colab": {
          "base_uri": "https://localhost:8080/"
        },
        "id": "uoc8wEWhxK89",
        "outputId": "a02de9e7-de22-42ae-93b6-a6b508c18623"
      },
      "execution_count": null,
      "outputs": [
        {
          "output_type": "stream",
          "name": "stdout",
          "text": [
            "58\n",
            "55\n",
            "58\n",
            "51\n",
            "57\n",
            "53\n",
            "49\n",
            "49\n",
            "58\n",
            "50\n",
            "58\n",
            "55\n",
            "52\n",
            "58\n",
            "55\n",
            "59\n",
            "47\n",
            "57\n",
            "52\n",
            "48\n",
            "50\n",
            "48\n",
            "54\n",
            "56\n",
            "57\n",
            "50\n",
            "49\n",
            "60\n",
            "48\n",
            "46\n"
          ]
        }
      ]
    },
    {
      "cell_type": "code",
      "source": [
        "for i in integers:\n",
        "  print(i)"
      ],
      "metadata": {
        "colab": {
          "base_uri": "https://localhost:8080/"
        },
        "id": "F5xB3x8swxbO",
        "outputId": "2f096c4a-406d-4269-96da-66d9a83c7c7a"
      },
      "execution_count": null,
      "outputs": [
        {
          "output_type": "stream",
          "name": "stdout",
          "text": [
            "58\n",
            "55\n",
            "58\n",
            "51\n",
            "57\n",
            "53\n",
            "49\n",
            "49\n",
            "58\n",
            "50\n",
            "58\n",
            "55\n",
            "52\n",
            "58\n",
            "55\n",
            "59\n",
            "47\n",
            "57\n",
            "52\n",
            "48\n",
            "50\n",
            "48\n",
            "54\n",
            "56\n",
            "57\n",
            "50\n",
            "49\n",
            "60\n",
            "48\n",
            "46\n"
          ]
        }
      ]
    },
    {
      "cell_type": "markdown",
      "source": [
        "Activity 2: Calculate Median\n",
        "Write a function to calculate the median of all the numbers contained in a list/array/series."
      ],
      "metadata": {
        "id": "FIR-0-cWigqg"
      }
    },
    {
      "cell_type": "code",
      "source": [
        "def calculate_median(input):\n",
        "  i = 0\n",
        "  if type(input) == int:\n",
        "   input.sort()\n",
        "  else:\n",
        "    weights.sort_values(ascending=True)\n",
        "  if len(input) % 2 == 0:\n",
        "    i = ((input[(len(input)//2)-1]) + (input[(len(input)//2)]))/2\n",
        "  else:\n",
        "    i = (input[(len(input)//2)])\n",
        "  return i"
      ],
      "metadata": {
        "id": "8UO8NWf2x4KJ"
      },
      "execution_count": null,
      "outputs": []
    },
    {
      "cell_type": "code",
      "source": [
        "calculate_median(integers)"
      ],
      "metadata": {
        "colab": {
          "base_uri": "https://localhost:8080/"
        },
        "id": "swU94P2u0T0I",
        "outputId": "4d7f581a-cf52-4ad9-f8bb-56b52a6ba305"
      },
      "execution_count": null,
      "outputs": [
        {
          "output_type": "execute_result",
          "data": {
            "text/plain": [
              "53.5"
            ]
          },
          "metadata": {},
          "execution_count": 44
        }
      ]
    },
    {
      "cell_type": "code",
      "source": [
        "input = 1\n",
        "if type(input) == int:\n",
        "  print(\"Yes, it is an integer\")\n",
        "if type(input) == Series:\n",
        "  print(\"Yes, it is a series\")"
      ],
      "metadata": {
        "colab": {
          "base_uri": "https://localhost:8080/"
        },
        "id": "Qc1nMj4Yzq6N",
        "outputId": "9357a286-19eb-44ec-f432-19bc009e4b39"
      },
      "execution_count": null,
      "outputs": [
        {
          "output_type": "stream",
          "name": "stdout",
          "text": [
            "Yes, it is an integer\n"
          ]
        }
      ]
    },
    {
      "cell_type": "code",
      "source": [
        "calculate_median(integers)"
      ],
      "metadata": {
        "colab": {
          "base_uri": "https://localhost:8080/"
        },
        "id": "_Gn0ZaeCzUjb",
        "outputId": "6b0584ec-db0b-4f13-d85c-3873190b638b"
      },
      "execution_count": null,
      "outputs": [
        {
          "output_type": "execute_result",
          "data": {
            "text/plain": [
              "53.5"
            ]
          },
          "metadata": {},
          "execution_count": 40
        }
      ]
    },
    {
      "cell_type": "markdown",
      "metadata": {
        "id": "fxkchvyXiCdB"
      },
      "source": [
        "---"
      ]
    },
    {
      "cell_type": "markdown",
      "metadata": {
        "id": "5EwMI1JpiEDr"
      },
      "source": [
        "#### Python List vs NumPy Array vs Pandas Series\n",
        "\n",
        "You might now wonder when to use a Python list, a NumPy array and a Pandas series?\n",
        "\n",
        "There are no hard rules to decide when to use which one of these data-structures but as a guide you may consider the following:\n",
        "\n",
        "1. When you just want to store data, retrieve data and add more data, use a Python list.\n",
        "\n",
        "2. When you want to store a numerical data (one-dimensional or multidimensional) and want to perform a lot of mathematical operations, then use a NumPy array as it faster than a Python list and it is easy to create a multidimensional array using a NumPy array.\n",
        "\n",
        "3. When you want to import data from an external file such as `TXT, XLXS, CSV, XML` etc then use a Pandas series. In the next class, you will learn how to import data from an external file. Additionally, Pandas allow you to interpret data in different ways. It also allows you to do complicated data extraction, manipulation and data processing operations on a dataset. Throughout this course, we will use Pandas library to handle data."
      ]
    },
    {
      "cell_type": "markdown",
      "metadata": {
        "id": "g1bVOdOWJSav"
      },
      "source": [
        "---"
      ]
    }
  ]
}