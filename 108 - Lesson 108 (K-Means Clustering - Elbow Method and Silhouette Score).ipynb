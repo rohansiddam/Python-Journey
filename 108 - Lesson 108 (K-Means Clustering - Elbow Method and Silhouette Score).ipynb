{
  "nbformat": 4,
  "nbformat_minor": 0,
  "metadata": {
    "colab": {
      "provenance": [],
      "include_colab_link": true
    },
    "kernelspec": {
      "name": "python3",
      "display_name": "Python 3"
    },
    "language_info": {
      "name": "python"
    }
  },
  "cells": [
    {
      "cell_type": "markdown",
      "metadata": {
        "id": "view-in-github",
        "colab_type": "text"
      },
      "source": [
        "<a href=\"https://colab.research.google.com/github/rohansiddam/Python-Journey/blob/main/108%20-%20Lesson%20108%20(K-Means%20Clustering%20-%20Elbow%20Method%20and%20Silhouette%20Score).ipynb\" target=\"_parent\"><img src=\"https://colab.research.google.com/assets/colab-badge.svg\" alt=\"Open In Colab\"/></a>"
      ]
    },
    {
      "cell_type": "markdown",
      "metadata": {
        "id": "b_RIOW8yUrd0"
      },
      "source": [
        "#Lesson 108: K-Means Clustering - Elbow Method and Silhouette Score"
      ]
    },
    {
      "cell_type": "markdown",
      "metadata": {
        "id": "kk7HmTyEn348"
      },
      "source": [
        "---"
      ]
    },
    {
      "cell_type": "markdown",
      "metadata": {
        "id": "EL8AB1d5_zeX"
      },
      "source": [
        "### Teacher-Student Activities\n",
        "\n",
        "In the previous class, we explored K-means clustering - our first unsupervised learning algorithm. We learned how to cluster one-dimensional and two-dimensional dataset by implementing K-Means algorithm using `sklearn` library.\n",
        "\n",
        "In this class, we will implement K-Means algorithm on **Mall Customers** dataset. We will create clusters of customers based on their age, income and spending. Also, we will learn different techniques to determine optimal number of clusters for  clustering.\n",
        "\n",
        "Let us first understand the problem statement that we will solve today using K-Means clustering."
      ]
    },
    {
      "cell_type": "markdown",
      "metadata": {
        "id": "KPgOQQlKEUm7"
      },
      "source": [
        "---"
      ]
    },
    {
      "cell_type": "markdown",
      "metadata": {
        "id": "-p09fhvwzkaN"
      },
      "source": [
        "#### Problem Statement\n",
        "\n",
        "You own a marketing company and working on formulating marketing strategies for a mall based on the customers spending patterns.\n",
        "\n",
        "The mall has provided the consumer dataset comprising of details for 200 customers with following attributes:\n",
        "\n",
        "|Attribute| Description\n",
        "|-|-|\n",
        "|CustomerID|Unique ID assigned to the customer|\n",
        "|Genre|Gender of the customer|\n",
        "| Age | Customer's  Age in years |\n",
        "| Annual Income (k$)| Customer's annual income in multiples of thousands (USD) |\n",
        "| Spending Score (1-100)| Score assigned by the mall based on customer behavior and spending nature (1-100) |\n",
        "\n",
        "Your job is to segregate customers in different groups or clusters, so that different marketing strategies can be devised for different groups.\n",
        "\n",
        "\n",
        "**Dataset Source:** https://www.kaggle.com/shwetabh123/mall-customers"
      ]
    },
    {
      "cell_type": "markdown",
      "metadata": {
        "id": "xz8bPUzc4kZt"
      },
      "source": [
        "---"
      ]
    },
    {
      "cell_type": "markdown",
      "metadata": {
        "id": "ssNK8b5j4lTc"
      },
      "source": [
        "#### Activity 1: Importing Modules and Reading Data\n",
        "\n",
        "Let's import the necessary Python modules, read the data from a csv file to create a Pandas DataFrame and go through the necessary data-cleaning process (if required).\n",
        "\n",
        "Here is the link to the dataset:\n",
        "https://s3-student-datasets-bucket.whjr.online/whitehat-ds-datasets/Mall_Customers.csv\n"
      ]
    },
    {
      "cell_type": "code",
      "metadata": {
        "id": "fjwnqUSX5Yno",
        "colab": {
          "base_uri": "https://localhost:8080/",
          "height": 206
        },
        "outputId": "35d8a030-f5ee-4e4e-a81d-910e00f84c2b"
      },
      "source": [
        "# S1.1: Import the modules, read the dataset and create a Pandas DataFrame.\n",
        "import pandas as pd\n",
        "import numpy as np\n",
        "import matplotlib.pyplot as plt\n",
        "from sklearn.cluster import KMeans\n",
        "\n",
        "# Print the first five records\n",
        "df = pd.read_csv('https://s3-student-datasets-bucket.whjr.online/whitehat-ds-datasets/Mall_Customers.csv')\n",
        "df.head()"
      ],
      "execution_count": null,
      "outputs": [
        {
          "output_type": "execute_result",
          "data": {
            "text/plain": [
              "   CustomerID   Genre  Age  Annual Income (k$)  Spending Score (1-100)\n",
              "0           1    Male   19                  15                      39\n",
              "1           2    Male   21                  15                      81\n",
              "2           3  Female   20                  16                       6\n",
              "3           4  Female   23                  16                      77\n",
              "4           5  Female   31                  17                      40"
            ],
            "text/html": [
              "\n",
              "  <div id=\"df-2ec1d2da-a853-4161-9512-84b2901e65b8\">\n",
              "    <div class=\"colab-df-container\">\n",
              "      <div>\n",
              "<style scoped>\n",
              "    .dataframe tbody tr th:only-of-type {\n",
              "        vertical-align: middle;\n",
              "    }\n",
              "\n",
              "    .dataframe tbody tr th {\n",
              "        vertical-align: top;\n",
              "    }\n",
              "\n",
              "    .dataframe thead th {\n",
              "        text-align: right;\n",
              "    }\n",
              "</style>\n",
              "<table border=\"1\" class=\"dataframe\">\n",
              "  <thead>\n",
              "    <tr style=\"text-align: right;\">\n",
              "      <th></th>\n",
              "      <th>CustomerID</th>\n",
              "      <th>Genre</th>\n",
              "      <th>Age</th>\n",
              "      <th>Annual Income (k$)</th>\n",
              "      <th>Spending Score (1-100)</th>\n",
              "    </tr>\n",
              "  </thead>\n",
              "  <tbody>\n",
              "    <tr>\n",
              "      <th>0</th>\n",
              "      <td>1</td>\n",
              "      <td>Male</td>\n",
              "      <td>19</td>\n",
              "      <td>15</td>\n",
              "      <td>39</td>\n",
              "    </tr>\n",
              "    <tr>\n",
              "      <th>1</th>\n",
              "      <td>2</td>\n",
              "      <td>Male</td>\n",
              "      <td>21</td>\n",
              "      <td>15</td>\n",
              "      <td>81</td>\n",
              "    </tr>\n",
              "    <tr>\n",
              "      <th>2</th>\n",
              "      <td>3</td>\n",
              "      <td>Female</td>\n",
              "      <td>20</td>\n",
              "      <td>16</td>\n",
              "      <td>6</td>\n",
              "    </tr>\n",
              "    <tr>\n",
              "      <th>3</th>\n",
              "      <td>4</td>\n",
              "      <td>Female</td>\n",
              "      <td>23</td>\n",
              "      <td>16</td>\n",
              "      <td>77</td>\n",
              "    </tr>\n",
              "    <tr>\n",
              "      <th>4</th>\n",
              "      <td>5</td>\n",
              "      <td>Female</td>\n",
              "      <td>31</td>\n",
              "      <td>17</td>\n",
              "      <td>40</td>\n",
              "    </tr>\n",
              "  </tbody>\n",
              "</table>\n",
              "</div>\n",
              "      <button class=\"colab-df-convert\" onclick=\"convertToInteractive('df-2ec1d2da-a853-4161-9512-84b2901e65b8')\"\n",
              "              title=\"Convert this dataframe to an interactive table.\"\n",
              "              style=\"display:none;\">\n",
              "        \n",
              "  <svg xmlns=\"http://www.w3.org/2000/svg\" height=\"24px\"viewBox=\"0 0 24 24\"\n",
              "       width=\"24px\">\n",
              "    <path d=\"M0 0h24v24H0V0z\" fill=\"none\"/>\n",
              "    <path d=\"M18.56 5.44l.94 2.06.94-2.06 2.06-.94-2.06-.94-.94-2.06-.94 2.06-2.06.94zm-11 1L8.5 8.5l.94-2.06 2.06-.94-2.06-.94L8.5 2.5l-.94 2.06-2.06.94zm10 10l.94 2.06.94-2.06 2.06-.94-2.06-.94-.94-2.06-.94 2.06-2.06.94z\"/><path d=\"M17.41 7.96l-1.37-1.37c-.4-.4-.92-.59-1.43-.59-.52 0-1.04.2-1.43.59L10.3 9.45l-7.72 7.72c-.78.78-.78 2.05 0 2.83L4 21.41c.39.39.9.59 1.41.59.51 0 1.02-.2 1.41-.59l7.78-7.78 2.81-2.81c.8-.78.8-2.07 0-2.86zM5.41 20L4 18.59l7.72-7.72 1.47 1.35L5.41 20z\"/>\n",
              "  </svg>\n",
              "      </button>\n",
              "      \n",
              "  <style>\n",
              "    .colab-df-container {\n",
              "      display:flex;\n",
              "      flex-wrap:wrap;\n",
              "      gap: 12px;\n",
              "    }\n",
              "\n",
              "    .colab-df-convert {\n",
              "      background-color: #E8F0FE;\n",
              "      border: none;\n",
              "      border-radius: 50%;\n",
              "      cursor: pointer;\n",
              "      display: none;\n",
              "      fill: #1967D2;\n",
              "      height: 32px;\n",
              "      padding: 0 0 0 0;\n",
              "      width: 32px;\n",
              "    }\n",
              "\n",
              "    .colab-df-convert:hover {\n",
              "      background-color: #E2EBFA;\n",
              "      box-shadow: 0px 1px 2px rgba(60, 64, 67, 0.3), 0px 1px 3px 1px rgba(60, 64, 67, 0.15);\n",
              "      fill: #174EA6;\n",
              "    }\n",
              "\n",
              "    [theme=dark] .colab-df-convert {\n",
              "      background-color: #3B4455;\n",
              "      fill: #D2E3FC;\n",
              "    }\n",
              "\n",
              "    [theme=dark] .colab-df-convert:hover {\n",
              "      background-color: #434B5C;\n",
              "      box-shadow: 0px 1px 3px 1px rgba(0, 0, 0, 0.15);\n",
              "      filter: drop-shadow(0px 1px 2px rgba(0, 0, 0, 0.3));\n",
              "      fill: #FFFFFF;\n",
              "    }\n",
              "  </style>\n",
              "\n",
              "      <script>\n",
              "        const buttonEl =\n",
              "          document.querySelector('#df-2ec1d2da-a853-4161-9512-84b2901e65b8 button.colab-df-convert');\n",
              "        buttonEl.style.display =\n",
              "          google.colab.kernel.accessAllowed ? 'block' : 'none';\n",
              "\n",
              "        async function convertToInteractive(key) {\n",
              "          const element = document.querySelector('#df-2ec1d2da-a853-4161-9512-84b2901e65b8');\n",
              "          const dataTable =\n",
              "            await google.colab.kernel.invokeFunction('convertToInteractive',\n",
              "                                                     [key], {});\n",
              "          if (!dataTable) return;\n",
              "\n",
              "          const docLinkHtml = 'Like what you see? Visit the ' +\n",
              "            '<a target=\"_blank\" href=https://colab.research.google.com/notebooks/data_table.ipynb>data table notebook</a>'\n",
              "            + ' to learn more about interactive tables.';\n",
              "          element.innerHTML = '';\n",
              "          dataTable['output_type'] = 'display_data';\n",
              "          await google.colab.output.renderOutput(dataTable, element);\n",
              "          const docLink = document.createElement('div');\n",
              "          docLink.innerHTML = docLinkHtml;\n",
              "          element.appendChild(docLink);\n",
              "        }\n",
              "      </script>\n",
              "    </div>\n",
              "  </div>\n",
              "  "
            ]
          },
          "metadata": {},
          "execution_count": 11
        }
      ]
    },
    {
      "cell_type": "markdown",
      "metadata": {
        "id": "YFroMUd65vYo"
      },
      "source": [
        "Now, let's find out the total number of rows and columns, data-types of columns and missing values (if exist) in the dataset."
      ]
    },
    {
      "cell_type": "code",
      "metadata": {
        "id": "PXvVa0Kb5nhO",
        "colab": {
          "base_uri": "https://localhost:8080/"
        },
        "outputId": "6002b40d-abcd-4a58-ef71-1fabd8bf4697"
      },
      "source": [
        "# S1.2: Get the total number of rows and columns, data-types of columns and missing values (if exist) in the dataset.\n",
        "df.shape\n",
        "df.isnull().sum()"
      ],
      "execution_count": null,
      "outputs": [
        {
          "output_type": "execute_result",
          "data": {
            "text/plain": [
              "CustomerID                0\n",
              "Genre                     0\n",
              "Age                       0\n",
              "Annual Income (k$)        0\n",
              "Spending Score (1-100)    0\n",
              "dtype: int64"
            ]
          },
          "metadata": {},
          "execution_count": 3
        }
      ]
    },
    {
      "cell_type": "code",
      "source": [
        "df.shape"
      ],
      "metadata": {
        "colab": {
          "base_uri": "https://localhost:8080/"
        },
        "id": "UEYRwLkXmenx",
        "outputId": "24ab6654-251b-4831-ed7a-8a8ef0ff5d65"
      },
      "execution_count": null,
      "outputs": [
        {
          "output_type": "execute_result",
          "data": {
            "text/plain": [
              "(200, 5)"
            ]
          },
          "metadata": {},
          "execution_count": 9
        }
      ]
    },
    {
      "cell_type": "markdown",
      "metadata": {
        "id": "tTBK5Jnx5-t2"
      },
      "source": [
        "There are 200 rows and 5 columns and 0 missing (or null) values in the dataset.\n",
        "\n",
        "We will rename the following columns for convenience:\n",
        "- `Genre` to `Gender`.\n",
        "- `Annual Income (k$)` to `Annual Income`.\n",
        "- `Spending Score (1-100)` to `Spending Score`.\n",
        "\n"
      ]
    },
    {
      "cell_type": "code",
      "metadata": {
        "id": "RsV67XYF7ogl",
        "colab": {
          "base_uri": "https://localhost:8080/",
          "height": 206
        },
        "outputId": "cff26549-1a89-4871-c9c7-6507dbed281b"
      },
      "source": [
        "# S1.3: Rename 'Genre' to 'Gender', 'Annual Income (k$)' to 'Annual Income' and 'Spending Score (1-100)' to 'Spending Score'.\n",
        "df.rename(columns = {\"Genre\" : \"Gender\", \"Annual Income (k$)\" : \"Annual Income\", \"Spending Score (1-100)\" : \"Spending Score\"}, inplace = True)\n",
        "\n",
        "# Again print the first five records.\n",
        "df.head()"
      ],
      "execution_count": null,
      "outputs": [
        {
          "output_type": "execute_result",
          "data": {
            "text/plain": [
              "   CustomerID  Gender  Age  Annual Income  Spending Score\n",
              "0           1    Male   19             15              39\n",
              "1           2    Male   21             15              81\n",
              "2           3  Female   20             16               6\n",
              "3           4  Female   23             16              77\n",
              "4           5  Female   31             17              40"
            ],
            "text/html": [
              "\n",
              "  <div id=\"df-0f858e06-533c-4698-8f93-e7c7d0b57fb0\">\n",
              "    <div class=\"colab-df-container\">\n",
              "      <div>\n",
              "<style scoped>\n",
              "    .dataframe tbody tr th:only-of-type {\n",
              "        vertical-align: middle;\n",
              "    }\n",
              "\n",
              "    .dataframe tbody tr th {\n",
              "        vertical-align: top;\n",
              "    }\n",
              "\n",
              "    .dataframe thead th {\n",
              "        text-align: right;\n",
              "    }\n",
              "</style>\n",
              "<table border=\"1\" class=\"dataframe\">\n",
              "  <thead>\n",
              "    <tr style=\"text-align: right;\">\n",
              "      <th></th>\n",
              "      <th>CustomerID</th>\n",
              "      <th>Gender</th>\n",
              "      <th>Age</th>\n",
              "      <th>Annual Income</th>\n",
              "      <th>Spending Score</th>\n",
              "    </tr>\n",
              "  </thead>\n",
              "  <tbody>\n",
              "    <tr>\n",
              "      <th>0</th>\n",
              "      <td>1</td>\n",
              "      <td>Male</td>\n",
              "      <td>19</td>\n",
              "      <td>15</td>\n",
              "      <td>39</td>\n",
              "    </tr>\n",
              "    <tr>\n",
              "      <th>1</th>\n",
              "      <td>2</td>\n",
              "      <td>Male</td>\n",
              "      <td>21</td>\n",
              "      <td>15</td>\n",
              "      <td>81</td>\n",
              "    </tr>\n",
              "    <tr>\n",
              "      <th>2</th>\n",
              "      <td>3</td>\n",
              "      <td>Female</td>\n",
              "      <td>20</td>\n",
              "      <td>16</td>\n",
              "      <td>6</td>\n",
              "    </tr>\n",
              "    <tr>\n",
              "      <th>3</th>\n",
              "      <td>4</td>\n",
              "      <td>Female</td>\n",
              "      <td>23</td>\n",
              "      <td>16</td>\n",
              "      <td>77</td>\n",
              "    </tr>\n",
              "    <tr>\n",
              "      <th>4</th>\n",
              "      <td>5</td>\n",
              "      <td>Female</td>\n",
              "      <td>31</td>\n",
              "      <td>17</td>\n",
              "      <td>40</td>\n",
              "    </tr>\n",
              "  </tbody>\n",
              "</table>\n",
              "</div>\n",
              "      <button class=\"colab-df-convert\" onclick=\"convertToInteractive('df-0f858e06-533c-4698-8f93-e7c7d0b57fb0')\"\n",
              "              title=\"Convert this dataframe to an interactive table.\"\n",
              "              style=\"display:none;\">\n",
              "        \n",
              "  <svg xmlns=\"http://www.w3.org/2000/svg\" height=\"24px\"viewBox=\"0 0 24 24\"\n",
              "       width=\"24px\">\n",
              "    <path d=\"M0 0h24v24H0V0z\" fill=\"none\"/>\n",
              "    <path d=\"M18.56 5.44l.94 2.06.94-2.06 2.06-.94-2.06-.94-.94-2.06-.94 2.06-2.06.94zm-11 1L8.5 8.5l.94-2.06 2.06-.94-2.06-.94L8.5 2.5l-.94 2.06-2.06.94zm10 10l.94 2.06.94-2.06 2.06-.94-2.06-.94-.94-2.06-.94 2.06-2.06.94z\"/><path d=\"M17.41 7.96l-1.37-1.37c-.4-.4-.92-.59-1.43-.59-.52 0-1.04.2-1.43.59L10.3 9.45l-7.72 7.72c-.78.78-.78 2.05 0 2.83L4 21.41c.39.39.9.59 1.41.59.51 0 1.02-.2 1.41-.59l7.78-7.78 2.81-2.81c.8-.78.8-2.07 0-2.86zM5.41 20L4 18.59l7.72-7.72 1.47 1.35L5.41 20z\"/>\n",
              "  </svg>\n",
              "      </button>\n",
              "      \n",
              "  <style>\n",
              "    .colab-df-container {\n",
              "      display:flex;\n",
              "      flex-wrap:wrap;\n",
              "      gap: 12px;\n",
              "    }\n",
              "\n",
              "    .colab-df-convert {\n",
              "      background-color: #E8F0FE;\n",
              "      border: none;\n",
              "      border-radius: 50%;\n",
              "      cursor: pointer;\n",
              "      display: none;\n",
              "      fill: #1967D2;\n",
              "      height: 32px;\n",
              "      padding: 0 0 0 0;\n",
              "      width: 32px;\n",
              "    }\n",
              "\n",
              "    .colab-df-convert:hover {\n",
              "      background-color: #E2EBFA;\n",
              "      box-shadow: 0px 1px 2px rgba(60, 64, 67, 0.3), 0px 1px 3px 1px rgba(60, 64, 67, 0.15);\n",
              "      fill: #174EA6;\n",
              "    }\n",
              "\n",
              "    [theme=dark] .colab-df-convert {\n",
              "      background-color: #3B4455;\n",
              "      fill: #D2E3FC;\n",
              "    }\n",
              "\n",
              "    [theme=dark] .colab-df-convert:hover {\n",
              "      background-color: #434B5C;\n",
              "      box-shadow: 0px 1px 3px 1px rgba(0, 0, 0, 0.15);\n",
              "      filter: drop-shadow(0px 1px 2px rgba(0, 0, 0, 0.3));\n",
              "      fill: #FFFFFF;\n",
              "    }\n",
              "  </style>\n",
              "\n",
              "      <script>\n",
              "        const buttonEl =\n",
              "          document.querySelector('#df-0f858e06-533c-4698-8f93-e7c7d0b57fb0 button.colab-df-convert');\n",
              "        buttonEl.style.display =\n",
              "          google.colab.kernel.accessAllowed ? 'block' : 'none';\n",
              "\n",
              "        async function convertToInteractive(key) {\n",
              "          const element = document.querySelector('#df-0f858e06-533c-4698-8f93-e7c7d0b57fb0');\n",
              "          const dataTable =\n",
              "            await google.colab.kernel.invokeFunction('convertToInteractive',\n",
              "                                                     [key], {});\n",
              "          if (!dataTable) return;\n",
              "\n",
              "          const docLinkHtml = 'Like what you see? Visit the ' +\n",
              "            '<a target=\"_blank\" href=https://colab.research.google.com/notebooks/data_table.ipynb>data table notebook</a>'\n",
              "            + ' to learn more about interactive tables.';\n",
              "          element.innerHTML = '';\n",
              "          dataTable['output_type'] = 'display_data';\n",
              "          await google.colab.output.renderOutput(dataTable, element);\n",
              "          const docLink = document.createElement('div');\n",
              "          docLink.innerHTML = docLinkHtml;\n",
              "          element.appendChild(docLink);\n",
              "        }\n",
              "      </script>\n",
              "    </div>\n",
              "  </div>\n",
              "  "
            ]
          },
          "metadata": {},
          "execution_count": 4
        }
      ]
    },
    {
      "cell_type": "markdown",
      "metadata": {
        "id": "oCC36w1r-4Fc"
      },
      "source": [
        "We can see that the columns have been renamed.\n",
        "\n",
        "Let us now implement K-means clustering based on two features `Annual Income` and `Spending Score`.\n",
        "\n",
        "\n"
      ]
    },
    {
      "cell_type": "markdown",
      "metadata": {
        "id": "uslmt6DT_VZ_"
      },
      "source": [
        "---"
      ]
    },
    {
      "cell_type": "markdown",
      "metadata": {
        "id": "9drYQ8YAtcxY"
      },
      "source": [
        "####Activity 2: Clustering based on Two Features\n",
        "\n",
        "Let's first create a subset of our dataset consisting of only two columns i.e `Annual Income` and `Spending Score`.\n",
        "\n"
      ]
    },
    {
      "cell_type": "code",
      "metadata": {
        "id": "zKydj_zBENy0",
        "colab": {
          "base_uri": "https://localhost:8080/",
          "height": 206
        },
        "outputId": "4247dc47-c906-4b29-f515-d26cca273de1"
      },
      "source": [
        "# S2.1: Create a new dataframe consisting of two columns 'Annual Income' and 'Spending Score'\n",
        "df_two = df[['Annual Income', 'Spending Score']]\n",
        "\n",
        "# Print first 5 rows of this new dataframe.\n",
        "df_two.head()"
      ],
      "execution_count": null,
      "outputs": [
        {
          "output_type": "execute_result",
          "data": {
            "text/plain": [
              "   Annual Income  Spending Score\n",
              "0             15              39\n",
              "1             15              81\n",
              "2             16               6\n",
              "3             16              77\n",
              "4             17              40"
            ],
            "text/html": [
              "\n",
              "  <div id=\"df-db31f2ca-a422-41fb-90a7-54b802607555\">\n",
              "    <div class=\"colab-df-container\">\n",
              "      <div>\n",
              "<style scoped>\n",
              "    .dataframe tbody tr th:only-of-type {\n",
              "        vertical-align: middle;\n",
              "    }\n",
              "\n",
              "    .dataframe tbody tr th {\n",
              "        vertical-align: top;\n",
              "    }\n",
              "\n",
              "    .dataframe thead th {\n",
              "        text-align: right;\n",
              "    }\n",
              "</style>\n",
              "<table border=\"1\" class=\"dataframe\">\n",
              "  <thead>\n",
              "    <tr style=\"text-align: right;\">\n",
              "      <th></th>\n",
              "      <th>Annual Income</th>\n",
              "      <th>Spending Score</th>\n",
              "    </tr>\n",
              "  </thead>\n",
              "  <tbody>\n",
              "    <tr>\n",
              "      <th>0</th>\n",
              "      <td>15</td>\n",
              "      <td>39</td>\n",
              "    </tr>\n",
              "    <tr>\n",
              "      <th>1</th>\n",
              "      <td>15</td>\n",
              "      <td>81</td>\n",
              "    </tr>\n",
              "    <tr>\n",
              "      <th>2</th>\n",
              "      <td>16</td>\n",
              "      <td>6</td>\n",
              "    </tr>\n",
              "    <tr>\n",
              "      <th>3</th>\n",
              "      <td>16</td>\n",
              "      <td>77</td>\n",
              "    </tr>\n",
              "    <tr>\n",
              "      <th>4</th>\n",
              "      <td>17</td>\n",
              "      <td>40</td>\n",
              "    </tr>\n",
              "  </tbody>\n",
              "</table>\n",
              "</div>\n",
              "      <button class=\"colab-df-convert\" onclick=\"convertToInteractive('df-db31f2ca-a422-41fb-90a7-54b802607555')\"\n",
              "              title=\"Convert this dataframe to an interactive table.\"\n",
              "              style=\"display:none;\">\n",
              "        \n",
              "  <svg xmlns=\"http://www.w3.org/2000/svg\" height=\"24px\"viewBox=\"0 0 24 24\"\n",
              "       width=\"24px\">\n",
              "    <path d=\"M0 0h24v24H0V0z\" fill=\"none\"/>\n",
              "    <path d=\"M18.56 5.44l.94 2.06.94-2.06 2.06-.94-2.06-.94-.94-2.06-.94 2.06-2.06.94zm-11 1L8.5 8.5l.94-2.06 2.06-.94-2.06-.94L8.5 2.5l-.94 2.06-2.06.94zm10 10l.94 2.06.94-2.06 2.06-.94-2.06-.94-.94-2.06-.94 2.06-2.06.94z\"/><path d=\"M17.41 7.96l-1.37-1.37c-.4-.4-.92-.59-1.43-.59-.52 0-1.04.2-1.43.59L10.3 9.45l-7.72 7.72c-.78.78-.78 2.05 0 2.83L4 21.41c.39.39.9.59 1.41.59.51 0 1.02-.2 1.41-.59l7.78-7.78 2.81-2.81c.8-.78.8-2.07 0-2.86zM5.41 20L4 18.59l7.72-7.72 1.47 1.35L5.41 20z\"/>\n",
              "  </svg>\n",
              "      </button>\n",
              "      \n",
              "  <style>\n",
              "    .colab-df-container {\n",
              "      display:flex;\n",
              "      flex-wrap:wrap;\n",
              "      gap: 12px;\n",
              "    }\n",
              "\n",
              "    .colab-df-convert {\n",
              "      background-color: #E8F0FE;\n",
              "      border: none;\n",
              "      border-radius: 50%;\n",
              "      cursor: pointer;\n",
              "      display: none;\n",
              "      fill: #1967D2;\n",
              "      height: 32px;\n",
              "      padding: 0 0 0 0;\n",
              "      width: 32px;\n",
              "    }\n",
              "\n",
              "    .colab-df-convert:hover {\n",
              "      background-color: #E2EBFA;\n",
              "      box-shadow: 0px 1px 2px rgba(60, 64, 67, 0.3), 0px 1px 3px 1px rgba(60, 64, 67, 0.15);\n",
              "      fill: #174EA6;\n",
              "    }\n",
              "\n",
              "    [theme=dark] .colab-df-convert {\n",
              "      background-color: #3B4455;\n",
              "      fill: #D2E3FC;\n",
              "    }\n",
              "\n",
              "    [theme=dark] .colab-df-convert:hover {\n",
              "      background-color: #434B5C;\n",
              "      box-shadow: 0px 1px 3px 1px rgba(0, 0, 0, 0.15);\n",
              "      filter: drop-shadow(0px 1px 2px rgba(0, 0, 0, 0.3));\n",
              "      fill: #FFFFFF;\n",
              "    }\n",
              "  </style>\n",
              "\n",
              "      <script>\n",
              "        const buttonEl =\n",
              "          document.querySelector('#df-db31f2ca-a422-41fb-90a7-54b802607555 button.colab-df-convert');\n",
              "        buttonEl.style.display =\n",
              "          google.colab.kernel.accessAllowed ? 'block' : 'none';\n",
              "\n",
              "        async function convertToInteractive(key) {\n",
              "          const element = document.querySelector('#df-db31f2ca-a422-41fb-90a7-54b802607555');\n",
              "          const dataTable =\n",
              "            await google.colab.kernel.invokeFunction('convertToInteractive',\n",
              "                                                     [key], {});\n",
              "          if (!dataTable) return;\n",
              "\n",
              "          const docLinkHtml = 'Like what you see? Visit the ' +\n",
              "            '<a target=\"_blank\" href=https://colab.research.google.com/notebooks/data_table.ipynb>data table notebook</a>'\n",
              "            + ' to learn more about interactive tables.';\n",
              "          element.innerHTML = '';\n",
              "          dataTable['output_type'] = 'display_data';\n",
              "          await google.colab.output.renderOutput(dataTable, element);\n",
              "          const docLink = document.createElement('div');\n",
              "          docLink.innerHTML = docLinkHtml;\n",
              "          element.appendChild(docLink);\n",
              "        }\n",
              "      </script>\n",
              "    </div>\n",
              "  </div>\n",
              "  "
            ]
          },
          "metadata": {},
          "execution_count": 6
        }
      ]
    },
    {
      "cell_type": "markdown",
      "metadata": {
        "id": "YprphVZ4E40R"
      },
      "source": [
        "Next, create a scatter plot to visualise the distribution for `Annual Income` vs `Spending Score`."
      ]
    },
    {
      "cell_type": "code",
      "metadata": {
        "id": "ovMT6luMFJ8K",
        "colab": {
          "base_uri": "https://localhost:8080/",
          "height": 696
        },
        "outputId": "90c837f8-e692-41bb-b669-7c3b42dab620"
      },
      "source": [
        "# S2.2: Create a scatter plot with 'Annual Income' on X-axis and 'Spending Score' on Y-axis.\n",
        "plt.figure(figsize = (10,8))\n",
        "plt.scatter(df_two['Annual Income'], df_two['Spending Score'])\n",
        "plt.xlabel(\"Annual Income\")\n",
        "plt.ylabel(\"Spending Score\")\n",
        "plt.show()"
      ],
      "execution_count": null,
      "outputs": [
        {
          "output_type": "display_data",
          "data": {
            "text/plain": [
              "<Figure size 1000x800 with 1 Axes>"
            ],
            "image/png": "[encoded data removed]"
          },
          "metadata": {}
        }
      ]
    },
    {
      "cell_type": "markdown",
      "metadata": {
        "id": "3b9uN4u-GCrk"
      },
      "source": [
        "From the above scatter plot, we can anticipate a possibility of having 5 clusters. So for now, assume number of clusters i.e `K` to be `5`. In the upcoming section, we will discuss methods used to determine this `K` value.\n",
        "\n",
        "\n",
        "Let us now determine the clusters for our 2D dataset using the steps given below:\n",
        "\n",
        "1. Import `KMeans` class from `sklearn.clusters` module.\n",
        "\n",
        "2. Create an object (say `kmeans_2d`) of the `KMeans` constructor and provide following inputs:\n",
        "\n",
        " - `n_clusters = 5`:\n",
        " - `random_state = 10`\n",
        "\n",
        "- Call the `fit()` function using the object of  `KMeans` class and pass the subset dataframe `data_2d` as input.\n",
        "\n",
        "- Get the predicted clusters for the data points by calling the `predict()` function on `kmeans_2d` and pass the `data_2d` dataframe.\n",
        "\n",
        "- Print the labels obtained after using `predict()` function."
      ]
    },
    {
      "cell_type": "code",
      "metadata": {
        "id": "c_uJYVQCJG-c",
        "colab": {
          "base_uri": "https://localhost:8080/"
        },
        "outputId": "0dcfda2d-67d0-406d-abae-2a90c7dd56d0"
      },
      "source": [
        "# S2.3: Determine the clusters for 2D dataset.\n",
        "km2 = KMeans(n_clusters = 5, random_state = 10)\n",
        "km2.fit(df_two)\n",
        "km2_pred = km2.predict(df_two)"
      ],
      "execution_count": null,
      "outputs": [
        {
          "output_type": "stream",
          "name": "stderr",
          "text": [
            "/usr/local/lib/python3.10/dist-packages/sklearn/cluster/_kmeans.py:870: FutureWarning: The default value of `n_init` will change from 10 to 'auto' in 1.4. Set the value of `n_init` explicitly to suppress the warning\n",
            "  warnings.warn(\n"
          ]
        }
      ]
    },
    {
      "cell_type": "code",
      "source": [
        "km2_pred"
      ],
      "metadata": {
        "colab": {
          "base_uri": "https://localhost:8080/"
        },
        "id": "lV3D6qGvm2iB",
        "outputId": "1755e6c6-cb30-4a2b-c9bd-a8daaecb739c"
      },
      "execution_count": null,
      "outputs": [
        {
          "output_type": "execute_result",
          "data": {
            "text/plain": [
              "array([3, 0, 3, 0, 3, 0, 3, 0, 3, 0, 3, 0, 3, 0, 3, 0, 3, 0, 3, 0, 3, 0,\n",
              "       3, 0, 3, 0, 3, 0, 3, 0, 3, 0, 3, 0, 3, 0, 3, 0, 3, 0, 3, 0, 3, 1,\n",
              "       3, 0, 1, 1, 1, 1, 1, 1, 1, 1, 1, 1, 1, 1, 1, 1, 1, 1, 1, 1, 1, 1,\n",
              "       1, 1, 1, 1, 1, 1, 1, 1, 1, 1, 1, 1, 1, 1, 1, 1, 1, 1, 1, 1, 1, 1,\n",
              "       1, 1, 1, 1, 1, 1, 1, 1, 1, 1, 1, 1, 1, 1, 1, 1, 1, 1, 1, 1, 1, 1,\n",
              "       1, 1, 1, 1, 1, 1, 1, 1, 1, 1, 1, 1, 1, 2, 4, 2, 1, 2, 4, 2, 4, 2,\n",
              "       1, 2, 4, 2, 4, 2, 4, 2, 4, 2, 1, 2, 4, 2, 4, 2, 4, 2, 4, 2, 4, 2,\n",
              "       4, 2, 4, 2, 4, 2, 4, 2, 4, 2, 4, 2, 4, 2, 4, 2, 4, 2, 4, 2, 4, 2,\n",
              "       4, 2, 4, 2, 4, 2, 4, 2, 4, 2, 4, 2, 4, 2, 4, 2, 4, 2, 4, 2, 4, 2,\n",
              "       4, 2], dtype=int32)"
            ]
          },
          "metadata": {},
          "execution_count": 13
        }
      ]
    },
    {
      "cell_type": "markdown",
      "metadata": {
        "id": "FqlGKOHJJsdw"
      },
      "source": [
        "As you can see in the output, our 2D data is divided into 5 clusters labelled from `0` to `4`.\n",
        "\n",
        "Let us add these predicted labels as a new column to our subset dataframe `data_2d`."
      ]
    },
    {
      "cell_type": "code",
      "metadata": {
        "id": "Ya9bR-JHOtrD"
      },
      "source": [
        "# S2.4: Add the predicted labels to a column named 'Label'\n",
        "df_two['Label'] = km2_pred"
      ],
      "execution_count": null,
      "outputs": []
    },
    {
      "cell_type": "code",
      "source": [
        "df_two.head()"
      ],
      "metadata": {
        "colab": {
          "base_uri": "https://localhost:8080/",
          "height": 206
        },
        "id": "glQCzKzKnGdQ",
        "outputId": "3a875083-b8b5-4543-e441-c34acdd592ec"
      },
      "execution_count": null,
      "outputs": [
        {
          "output_type": "execute_result",
          "data": {
            "text/plain": [
              "   Annual Income  Spending Score  Label\n",
              "0             15              39      3\n",
              "1             15              81      0\n",
              "2             16               6      3\n",
              "3             16              77      0\n",
              "4             17              40      3"
            ],
            "text/html": [
              "\n",
              "  <div id=\"df-ff3c4cd6-babf-4ed3-8b95-1673d236acf8\">\n",
              "    <div class=\"colab-df-container\">\n",
              "      <div>\n",
              "<style scoped>\n",
              "    .dataframe tbody tr th:only-of-type {\n",
              "        vertical-align: middle;\n",
              "    }\n",
              "\n",
              "    .dataframe tbody tr th {\n",
              "        vertical-align: top;\n",
              "    }\n",
              "\n",
              "    .dataframe thead th {\n",
              "        text-align: right;\n",
              "    }\n",
              "</style>\n",
              "<table border=\"1\" class=\"dataframe\">\n",
              "  <thead>\n",
              "    <tr style=\"text-align: right;\">\n",
              "      <th></th>\n",
              "      <th>Annual Income</th>\n",
              "      <th>Spending Score</th>\n",
              "      <th>Label</th>\n",
              "    </tr>\n",
              "  </thead>\n",
              "  <tbody>\n",
              "    <tr>\n",
              "      <th>0</th>\n",
              "      <td>15</td>\n",
              "      <td>39</td>\n",
              "      <td>3</td>\n",
              "    </tr>\n",
              "    <tr>\n",
              "      <th>1</th>\n",
              "      <td>15</td>\n",
              "      <td>81</td>\n",
              "      <td>0</td>\n",
              "    </tr>\n",
              "    <tr>\n",
              "      <th>2</th>\n",
              "      <td>16</td>\n",
              "      <td>6</td>\n",
              "      <td>3</td>\n",
              "    </tr>\n",
              "    <tr>\n",
              "      <th>3</th>\n",
              "      <td>16</td>\n",
              "      <td>77</td>\n",
              "      <td>0</td>\n",
              "    </tr>\n",
              "    <tr>\n",
              "      <th>4</th>\n",
              "      <td>17</td>\n",
              "      <td>40</td>\n",
              "      <td>3</td>\n",
              "    </tr>\n",
              "  </tbody>\n",
              "</table>\n",
              "</div>\n",
              "      <button class=\"colab-df-convert\" onclick=\"convertToInteractive('df-ff3c4cd6-babf-4ed3-8b95-1673d236acf8')\"\n",
              "              title=\"Convert this dataframe to an interactive table.\"\n",
              "              style=\"display:none;\">\n",
              "        \n",
              "  <svg xmlns=\"http://www.w3.org/2000/svg\" height=\"24px\"viewBox=\"0 0 24 24\"\n",
              "       width=\"24px\">\n",
              "    <path d=\"M0 0h24v24H0V0z\" fill=\"none\"/>\n",
              "    <path d=\"M18.56 5.44l.94 2.06.94-2.06 2.06-.94-2.06-.94-.94-2.06-.94 2.06-2.06.94zm-11 1L8.5 8.5l.94-2.06 2.06-.94-2.06-.94L8.5 2.5l-.94 2.06-2.06.94zm10 10l.94 2.06.94-2.06 2.06-.94-2.06-.94-.94-2.06-.94 2.06-2.06.94z\"/><path d=\"M17.41 7.96l-1.37-1.37c-.4-.4-.92-.59-1.43-.59-.52 0-1.04.2-1.43.59L10.3 9.45l-7.72 7.72c-.78.78-.78 2.05 0 2.83L4 21.41c.39.39.9.59 1.41.59.51 0 1.02-.2 1.41-.59l7.78-7.78 2.81-2.81c.8-.78.8-2.07 0-2.86zM5.41 20L4 18.59l7.72-7.72 1.47 1.35L5.41 20z\"/>\n",
              "  </svg>\n",
              "      </button>\n",
              "      \n",
              "  <style>\n",
              "    .colab-df-container {\n",
              "      display:flex;\n",
              "      flex-wrap:wrap;\n",
              "      gap: 12px;\n",
              "    }\n",
              "\n",
              "    .colab-df-convert {\n",
              "      background-color: #E8F0FE;\n",
              "      border: none;\n",
              "      border-radius: 50%;\n",
              "      cursor: pointer;\n",
              "      display: none;\n",
              "      fill: #1967D2;\n",
              "      height: 32px;\n",
              "      padding: 0 0 0 0;\n",
              "      width: 32px;\n",
              "    }\n",
              "\n",
              "    .colab-df-convert:hover {\n",
              "      background-color: #E2EBFA;\n",
              "      box-shadow: 0px 1px 2px rgba(60, 64, 67, 0.3), 0px 1px 3px 1px rgba(60, 64, 67, 0.15);\n",
              "      fill: #174EA6;\n",
              "    }\n",
              "\n",
              "    [theme=dark] .colab-df-convert {\n",
              "      background-color: #3B4455;\n",
              "      fill: #D2E3FC;\n",
              "    }\n",
              "\n",
              "    [theme=dark] .colab-df-convert:hover {\n",
              "      background-color: #434B5C;\n",
              "      box-shadow: 0px 1px 3px 1px rgba(0, 0, 0, 0.15);\n",
              "      filter: drop-shadow(0px 1px 2px rgba(0, 0, 0, 0.3));\n",
              "      fill: #FFFFFF;\n",
              "    }\n",
              "  </style>\n",
              "\n",
              "      <script>\n",
              "        const buttonEl =\n",
              "          document.querySelector('#df-ff3c4cd6-babf-4ed3-8b95-1673d236acf8 button.colab-df-convert');\n",
              "        buttonEl.style.display =\n",
              "          google.colab.kernel.accessAllowed ? 'block' : 'none';\n",
              "\n",
              "        async function convertToInteractive(key) {\n",
              "          const element = document.querySelector('#df-ff3c4cd6-babf-4ed3-8b95-1673d236acf8');\n",
              "          const dataTable =\n",
              "            await google.colab.kernel.invokeFunction('convertToInteractive',\n",
              "                                                     [key], {});\n",
              "          if (!dataTable) return;\n",
              "\n",
              "          const docLinkHtml = 'Like what you see? Visit the ' +\n",
              "            '<a target=\"_blank\" href=https://colab.research.google.com/notebooks/data_table.ipynb>data table notebook</a>'\n",
              "            + ' to learn more about interactive tables.';\n",
              "          element.innerHTML = '';\n",
              "          dataTable['output_type'] = 'display_data';\n",
              "          await google.colab.output.renderOutput(dataTable, element);\n",
              "          const docLink = document.createElement('div');\n",
              "          docLink.innerHTML = docLinkHtml;\n",
              "          element.appendChild(docLink);\n",
              "        }\n",
              "      </script>\n",
              "    </div>\n",
              "  </div>\n",
              "  "
            ]
          },
          "metadata": {},
          "execution_count": 16
        }
      ]
    },
    {
      "cell_type": "code",
      "source": [
        "km2.cluster_centers_\n"
      ],
      "metadata": {
        "colab": {
          "base_uri": "https://localhost:8080/"
        },
        "id": "v58_1SO9nSa7",
        "outputId": "fd6efaf8-7dbf-4771-cdb3-b18e6ac85e85"
      },
      "execution_count": null,
      "outputs": [
        {
          "output_type": "execute_result",
          "data": {
            "text/plain": [
              "array([[25.72727273, 79.36363636],\n",
              "       [55.2962963 , 49.51851852],\n",
              "       [86.53846154, 82.12820513],\n",
              "       [26.30434783, 20.91304348],\n",
              "       [88.2       , 17.11428571]])"
            ]
          },
          "metadata": {},
          "execution_count": 21
        }
      ]
    },
    {
      "cell_type": "markdown",
      "metadata": {
        "id": "l9vy76boKaJU"
      },
      "source": [
        "As the cluster of each data point is now obtained, let's display those clusters using `plt.scatter()` function again, but this one using the values of `labels_2d` to colour-code the clusters.\n",
        "\n",
        "Also plot the cluster centers or centroids of these 5 clusters. Recall that the centroids can be obtained using `cluster_centers_` attribute.\n",
        "\n"
      ]
    },
    {
      "cell_type": "code",
      "metadata": {
        "id": "msfMAJooLy7n",
        "colab": {
          "base_uri": "https://localhost:8080/",
          "height": 696
        },
        "outputId": "acbbf70f-98d1-4be5-d431-61b1fd478e06"
      },
      "source": [
        "# S2.5: Plot the datapoints corresponding to clusters\n",
        "plt.figure(figsize = (10,8))\n",
        "plt.scatter(df_two['Annual Income'], df_two['Spending Score'])\n",
        "plt.scatter(km2.cluster_centers_[:,0], km2.cluster_centers_[:,1], marker = \"*\", color = 'red', s = 120)\n",
        "plt.xlabel(\"Annual Income\")\n",
        "plt.ylabel(\"Spending Score\")\n",
        "plt.show()"
      ],
      "execution_count": null,
      "outputs": [
        {
          "output_type": "display_data",
          "data": {
            "text/plain": [
              "<Figure size 1000x800 with 1 Axes>"
            ],
            "image/png": "[encoded data removed]"
          },
          "metadata": {}
        }
      ]
    },
    {
      "cell_type": "markdown",
      "metadata": {
        "id": "xnNs-b93NxI_"
      },
      "source": [
        "In the above plot, observe the 5 clusters having different colours with their centroids.\n",
        "\n",
        "You can also give your desired colour to the clusters in the following way:\n",
        "\n",
        "1. Create a dictionary `color_dict`, where keys of this dictionary will be the predicted labels (in our case, it is `0` to `4`) and the values will be the desired colour for each label.\n",
        "  ```python\n",
        "  color_dict = {0: 'red', 1: 'blue', 2: 'green', 3: 'yellow', 4: 'magenta'}\n",
        "  ```\n",
        "\n",
        "2. Create an empty list `color_list`.\n",
        "\n",
        "3. Initiate a `for` loop which iterates for every `label` in `labels_2d`. Pass the current `label` as key to `color_dict` dictionary. This will return the corresponding value of that key i.e the colour from the `color_dict` dictionary. Append this colour to the `color_list` list.\n",
        "\n",
        "4. Plot the scatter plot again as plotted in the above code cell, but this time the value of `c` attribute of `plt.scatter()` will be `color_list` obtained after the `for` loop."
      ]
    },
    {
      "cell_type": "code",
      "metadata": {
        "id": "KJTjKNVdSGuh",
        "colab": {
          "base_uri": "https://localhost:8080/",
          "height": 696
        },
        "outputId": "36cf8775-aea0-42f0-eded-02b43e38980d"
      },
      "source": [
        "# S2.6: Give desired colors to the clusters\n",
        "\n",
        "# Create a dictionary of colours.\n",
        "\n",
        "color_dict = {0: 'red', 1: 'blue', 2: 'green', 3: 'yellow', 4: 'magenta'}\n",
        "# Determine the colour for each predicted label using the dictionary.\n",
        "\n",
        "\n",
        "# Plot the 2D dataset with the desired colours for clusters.\n",
        "\n",
        "color_list = []\n",
        "for i in df_two['Label']:\n",
        "  color_list.append(color_dict[i])\n",
        "\n",
        "plt.figure(figsize = (10,8))\n",
        "plt.scatter(df_two['Annual Income'], df_two['Spending Score'], c = color_list)\n",
        "plt.scatter(km2.cluster_centers_[:,0], km2.cluster_centers_[:,1], marker = \"*\", color = 'red', s = 120)\n",
        "plt.xlabel(\"Annual Income\")\n",
        "plt.ylabel(\"Spending Score\")\n",
        "plt.show()\n"
      ],
      "execution_count": null,
      "outputs": [
        {
          "output_type": "display_data",
          "data": {
            "text/plain": [
              "<Figure size 1000x800 with 1 Axes>"
            ],
            "image/png": "[encoded data removed]"
          },
          "metadata": {}
        }
      ]
    },
    {
      "cell_type": "code",
      "source": [
        "color_list"
      ],
      "metadata": {
        "colab": {
          "base_uri": "https://localhost:8080/"
        },
        "id": "pNG0ZcG1oT-U",
        "outputId": "ea1230f2-94e5-4468-fdf3-f666f9876975"
      },
      "execution_count": null,
      "outputs": [
        {
          "output_type": "execute_result",
          "data": {
            "text/plain": [
              "['yellow',\n",
              " 'red',\n",
              " 'yellow',\n",
              " 'red',\n",
              " 'yellow',\n",
              " 'red',\n",
              " 'yellow',\n",
              " 'red',\n",
              " 'yellow',\n",
              " 'red',\n",
              " 'yellow',\n",
              " 'red',\n",
              " 'yellow',\n",
              " 'red',\n",
              " 'yellow',\n",
              " 'red',\n",
              " 'yellow',\n",
              " 'red',\n",
              " 'yellow',\n",
              " 'red',\n",
              " 'yellow',\n",
              " 'red',\n",
              " 'yellow',\n",
              " 'red',\n",
              " 'yellow',\n",
              " 'red',\n",
              " 'yellow',\n",
              " 'red',\n",
              " 'yellow',\n",
              " 'red',\n",
              " 'yellow',\n",
              " 'red',\n",
              " 'yellow',\n",
              " 'red',\n",
              " 'yellow',\n",
              " 'red',\n",
              " 'yellow',\n",
              " 'red',\n",
              " 'yellow',\n",
              " 'red',\n",
              " 'yellow',\n",
              " 'red',\n",
              " 'yellow',\n",
              " 'blue',\n",
              " 'yellow',\n",
              " 'red',\n",
              " 'blue',\n",
              " 'blue',\n",
              " 'blue',\n",
              " 'blue',\n",
              " 'blue',\n",
              " 'blue',\n",
              " 'blue',\n",
              " 'blue',\n",
              " 'blue',\n",
              " 'blue',\n",
              " 'blue',\n",
              " 'blue',\n",
              " 'blue',\n",
              " 'blue',\n",
              " 'blue',\n",
              " 'blue',\n",
              " 'blue',\n",
              " 'blue',\n",
              " 'blue',\n",
              " 'blue',\n",
              " 'blue',\n",
              " 'blue',\n",
              " 'blue',\n",
              " 'blue',\n",
              " 'blue',\n",
              " 'blue',\n",
              " 'blue',\n",
              " 'blue',\n",
              " 'blue',\n",
              " 'blue',\n",
              " 'blue',\n",
              " 'blue',\n",
              " 'blue',\n",
              " 'blue',\n",
              " 'blue',\n",
              " 'blue',\n",
              " 'blue',\n",
              " 'blue',\n",
              " 'blue',\n",
              " 'blue',\n",
              " 'blue',\n",
              " 'blue',\n",
              " 'blue',\n",
              " 'blue',\n",
              " 'blue',\n",
              " 'blue',\n",
              " 'blue',\n",
              " 'blue',\n",
              " 'blue',\n",
              " 'blue',\n",
              " 'blue',\n",
              " 'blue',\n",
              " 'blue',\n",
              " 'blue',\n",
              " 'blue',\n",
              " 'blue',\n",
              " 'blue',\n",
              " 'blue',\n",
              " 'blue',\n",
              " 'blue',\n",
              " 'blue',\n",
              " 'blue',\n",
              " 'blue',\n",
              " 'blue',\n",
              " 'blue',\n",
              " 'blue',\n",
              " 'blue',\n",
              " 'blue',\n",
              " 'blue',\n",
              " 'blue',\n",
              " 'blue',\n",
              " 'blue',\n",
              " 'blue',\n",
              " 'blue',\n",
              " 'blue',\n",
              " 'blue',\n",
              " 'blue',\n",
              " 'green',\n",
              " 'magenta',\n",
              " 'green',\n",
              " 'blue',\n",
              " 'green',\n",
              " 'magenta',\n",
              " 'green',\n",
              " 'magenta',\n",
              " 'green',\n",
              " 'blue',\n",
              " 'green',\n",
              " 'magenta',\n",
              " 'green',\n",
              " 'magenta',\n",
              " 'green',\n",
              " 'magenta',\n",
              " 'green',\n",
              " 'magenta',\n",
              " 'green',\n",
              " 'blue',\n",
              " 'green',\n",
              " 'magenta',\n",
              " 'green',\n",
              " 'magenta',\n",
              " 'green',\n",
              " 'magenta',\n",
              " 'green',\n",
              " 'magenta',\n",
              " 'green',\n",
              " 'magenta',\n",
              " 'green',\n",
              " 'magenta',\n",
              " 'green',\n",
              " 'magenta',\n",
              " 'green',\n",
              " 'magenta',\n",
              " 'green',\n",
              " 'magenta',\n",
              " 'green',\n",
              " 'magenta',\n",
              " 'green',\n",
              " 'magenta',\n",
              " 'green',\n",
              " 'magenta',\n",
              " 'green',\n",
              " 'magenta',\n",
              " 'green',\n",
              " 'magenta',\n",
              " 'green',\n",
              " 'magenta',\n",
              " 'green',\n",
              " 'magenta',\n",
              " 'green',\n",
              " 'magenta',\n",
              " 'green',\n",
              " 'magenta',\n",
              " 'green',\n",
              " 'magenta',\n",
              " 'green',\n",
              " 'magenta',\n",
              " 'green',\n",
              " 'magenta',\n",
              " 'green',\n",
              " 'magenta',\n",
              " 'green',\n",
              " 'magenta',\n",
              " 'green',\n",
              " 'magenta',\n",
              " 'green',\n",
              " 'magenta',\n",
              " 'green',\n",
              " 'magenta',\n",
              " 'green',\n",
              " 'magenta',\n",
              " 'green',\n",
              " 'magenta',\n",
              " 'green']"
            ]
          },
          "metadata": {},
          "execution_count": 26
        }
      ]
    },
    {
      "cell_type": "markdown",
      "metadata": {
        "id": "fYxsRaNxNxF8"
      },
      "source": [
        "From the above scatter plot and based on the values of `color_dict` dictionary, we can say that:\n",
        "- Label `0` cluster is in <font color=red>red</font> colour.\n",
        "- Label `1` cluster is in <font color=blue>blue</font> colour.\n",
        "- Label `2` cluster is in <font color=green>green</font> colour.\n",
        "- Label `3` cluster is in <mark>yellow</mark> colour.\n",
        "- Label `4` cluster is in <font color=magenta>magenta</font> colour.\n",
        "\n",
        "But, *what can we conclude from these clusters? How these clusters can help us in identifying the target audience for a marketing strategy?* Let us try to interpret these clusters.\n",
        "\n",
        "**Interpreting clusters:**\n",
        "\n",
        "We obtained the following cluster of customers based on `Annual Income` and `Spending Score`:\n",
        "\n",
        "1. **Red cluster (Label `0`):**  Customers in this cluster are average in terms of income and spending.\n",
        "\n",
        "2. **Blue cluster (Label `1`):**  These are the customers with the highest income and  highest spending score.\n",
        "\n",
        "3. **Green cluster (Label `2`):**  These are the customers with the least income and least spending score.\n",
        "4. **Yellow cluster (Label `3`):**  These are the customers with the least income but more spending score.\n",
        "5. **Magenta cluster (Label `4`):**  These are the customers with the good income but they spend less money.\n",
        "\n",
        "\n",
        "The customers belonging to **blue** cluster is a more interesting category as compared to other categories as they make much money and at the same time spend much as well. Thus, the marketing division of your company must send advertisements through emails or chats more often to this group compared to those in other clusters.\n",
        "\n",
        "Suppose you want to obtain the Customer ID of the customers belonging to <font color = blue>blue </font>cluster so that you can send them advertisements related to a new product launch. Follow the steps given below to achieve this:\n",
        "\n",
        "1. Obtain only those rows from the original dataframe `mall_df` which satisfies the following condition:\n",
        "\n",
        "  `data_2d['Label'] == 1`, as Label `1` customers belongs to blue cluster.\n",
        "\n",
        "2. Store this filtered dataframe in a new dataframe `cust_blue`.\n",
        "\n",
        "3. Print the number of customers in `cust_blue`.\n",
        "\n",
        "4. As we need only Customer ID of blue cluster customers, print the values of `CustomerID` column of `cust_blue` dataframe in the form of a list.\n",
        "\n"
      ]
    },
    {
      "cell_type": "code",
      "metadata": {
        "id": "4r6bQ3h7cYqY",
        "colab": {
          "base_uri": "https://localhost:8080/",
          "height": 1000
        },
        "outputId": "8ed411cc-03fe-4c48-f2f0-b72136bd21de"
      },
      "source": [
        "# S2.7: Obtain the customer IDs of the customers belonging to blue cluster.\n",
        "\n",
        "label2 = df[df_two['Label'] == 2]\n",
        "print(len(label2))\n",
        "label2"
      ],
      "execution_count": null,
      "outputs": [
        {
          "output_type": "stream",
          "name": "stdout",
          "text": [
            "39\n"
          ]
        },
        {
          "output_type": "execute_result",
          "data": {
            "text/plain": [
              "     CustomerID   Genre  Age  Annual Income (k$)  Spending Score (1-100)\n",
              "123         124    Male   39                  69                      91\n",
              "125         126  Female   31                  70                      77\n",
              "127         128    Male   40                  71                      95\n",
              "129         130    Male   38                  71                      75\n",
              "131         132    Male   39                  71                      75\n",
              "133         134  Female   31                  72                      71\n",
              "135         136  Female   29                  73                      88\n",
              "137         138    Male   32                  73                      73\n",
              "139         140  Female   35                  74                      72\n",
              "141         142    Male   32                  75                      93\n",
              "143         144  Female   32                  76                      87\n",
              "145         146    Male   28                  77                      97\n",
              "147         148  Female   32                  77                      74\n",
              "149         150    Male   34                  78                      90\n",
              "151         152    Male   39                  78                      88\n",
              "153         154  Female   38                  78                      76\n",
              "155         156  Female   27                  78                      89\n",
              "157         158  Female   30                  78                      78\n",
              "159         160  Female   30                  78                      73\n",
              "161         162  Female   29                  79                      83\n",
              "163         164  Female   31                  81                      93\n",
              "165         166  Female   36                  85                      75\n",
              "167         168  Female   33                  86                      95\n",
              "169         170    Male   32                  87                      63\n",
              "171         172    Male   28                  87                      75\n",
              "173         174    Male   36                  87                      92\n",
              "175         176  Female   30                  88                      86\n",
              "177         178    Male   27                  88                      69\n",
              "179         180    Male   35                  93                      90\n",
              "181         182  Female   32                  97                      86\n",
              "183         184  Female   29                  98                      88\n",
              "185         186    Male   30                  99                      97\n",
              "187         188    Male   28                 101                      68\n",
              "189         190  Female   36                 103                      85\n",
              "191         192  Female   32                 103                      69\n",
              "193         194  Female   38                 113                      91\n",
              "195         196  Female   35                 120                      79\n",
              "197         198    Male   32                 126                      74\n",
              "199         200    Male   30                 137                      83"
            ],
            "text/html": [
              "\n",
              "  <div id=\"df-dced9985-5208-46f4-9ac3-dea9532c19b8\">\n",
              "    <div class=\"colab-df-container\">\n",
              "      <div>\n",
              "<style scoped>\n",
              "    .dataframe tbody tr th:only-of-type {\n",
              "        vertical-align: middle;\n",
              "    }\n",
              "\n",
              "    .dataframe tbody tr th {\n",
              "        vertical-align: top;\n",
              "    }\n",
              "\n",
              "    .dataframe thead th {\n",
              "        text-align: right;\n",
              "    }\n",
              "</style>\n",
              "<table border=\"1\" class=\"dataframe\">\n",
              "  <thead>\n",
              "    <tr style=\"text-align: right;\">\n",
              "      <th></th>\n",
              "      <th>CustomerID</th>\n",
              "      <th>Genre</th>\n",
              "      <th>Age</th>\n",
              "      <th>Annual Income (k$)</th>\n",
              "      <th>Spending Score (1-100)</th>\n",
              "    </tr>\n",
              "  </thead>\n",
              "  <tbody>\n",
              "    <tr>\n",
              "      <th>123</th>\n",
              "      <td>124</td>\n",
              "      <td>Male</td>\n",
              "      <td>39</td>\n",
              "      <td>69</td>\n",
              "      <td>91</td>\n",
              "    </tr>\n",
              "    <tr>\n",
              "      <th>125</th>\n",
              "      <td>126</td>\n",
              "      <td>Female</td>\n",
              "      <td>31</td>\n",
              "      <td>70</td>\n",
              "      <td>77</td>\n",
              "    </tr>\n",
              "    <tr>\n",
              "      <th>127</th>\n",
              "      <td>128</td>\n",
              "      <td>Male</td>\n",
              "      <td>40</td>\n",
              "      <td>71</td>\n",
              "      <td>95</td>\n",
              "    </tr>\n",
              "    <tr>\n",
              "      <th>129</th>\n",
              "      <td>130</td>\n",
              "      <td>Male</td>\n",
              "      <td>38</td>\n",
              "      <td>71</td>\n",
              "      <td>75</td>\n",
              "    </tr>\n",
              "    <tr>\n",
              "      <th>131</th>\n",
              "      <td>132</td>\n",
              "      <td>Male</td>\n",
              "      <td>39</td>\n",
              "      <td>71</td>\n",
              "      <td>75</td>\n",
              "    </tr>\n",
              "    <tr>\n",
              "      <th>133</th>\n",
              "      <td>134</td>\n",
              "      <td>Female</td>\n",
              "      <td>31</td>\n",
              "      <td>72</td>\n",
              "      <td>71</td>\n",
              "    </tr>\n",
              "    <tr>\n",
              "      <th>135</th>\n",
              "      <td>136</td>\n",
              "      <td>Female</td>\n",
              "      <td>29</td>\n",
              "      <td>73</td>\n",
              "      <td>88</td>\n",
              "    </tr>\n",
              "    <tr>\n",
              "      <th>137</th>\n",
              "      <td>138</td>\n",
              "      <td>Male</td>\n",
              "      <td>32</td>\n",
              "      <td>73</td>\n",
              "      <td>73</td>\n",
              "    </tr>\n",
              "    <tr>\n",
              "      <th>139</th>\n",
              "      <td>140</td>\n",
              "      <td>Female</td>\n",
              "      <td>35</td>\n",
              "      <td>74</td>\n",
              "      <td>72</td>\n",
              "    </tr>\n",
              "    <tr>\n",
              "      <th>141</th>\n",
              "      <td>142</td>\n",
              "      <td>Male</td>\n",
              "      <td>32</td>\n",
              "      <td>75</td>\n",
              "      <td>93</td>\n",
              "    </tr>\n",
              "    <tr>\n",
              "      <th>143</th>\n",
              "      <td>144</td>\n",
              "      <td>Female</td>\n",
              "      <td>32</td>\n",
              "      <td>76</td>\n",
              "      <td>87</td>\n",
              "    </tr>\n",
              "    <tr>\n",
              "      <th>145</th>\n",
              "      <td>146</td>\n",
              "      <td>Male</td>\n",
              "      <td>28</td>\n",
              "      <td>77</td>\n",
              "      <td>97</td>\n",
              "    </tr>\n",
              "    <tr>\n",
              "      <th>147</th>\n",
              "      <td>148</td>\n",
              "      <td>Female</td>\n",
              "      <td>32</td>\n",
              "      <td>77</td>\n",
              "      <td>74</td>\n",
              "    </tr>\n",
              "    <tr>\n",
              "      <th>149</th>\n",
              "      <td>150</td>\n",
              "      <td>Male</td>\n",
              "      <td>34</td>\n",
              "      <td>78</td>\n",
              "      <td>90</td>\n",
              "    </tr>\n",
              "    <tr>\n",
              "      <th>151</th>\n",
              "      <td>152</td>\n",
              "      <td>Male</td>\n",
              "      <td>39</td>\n",
              "      <td>78</td>\n",
              "      <td>88</td>\n",
              "    </tr>\n",
              "    <tr>\n",
              "      <th>153</th>\n",
              "      <td>154</td>\n",
              "      <td>Female</td>\n",
              "      <td>38</td>\n",
              "      <td>78</td>\n",
              "      <td>76</td>\n",
              "    </tr>\n",
              "    <tr>\n",
              "      <th>155</th>\n",
              "      <td>156</td>\n",
              "      <td>Female</td>\n",
              "      <td>27</td>\n",
              "      <td>78</td>\n",
              "      <td>89</td>\n",
              "    </tr>\n",
              "    <tr>\n",
              "      <th>157</th>\n",
              "      <td>158</td>\n",
              "      <td>Female</td>\n",
              "      <td>30</td>\n",
              "      <td>78</td>\n",
              "      <td>78</td>\n",
              "    </tr>\n",
              "    <tr>\n",
              "      <th>159</th>\n",
              "      <td>160</td>\n",
              "      <td>Female</td>\n",
              "      <td>30</td>\n",
              "      <td>78</td>\n",
              "      <td>73</td>\n",
              "    </tr>\n",
              "    <tr>\n",
              "      <th>161</th>\n",
              "      <td>162</td>\n",
              "      <td>Female</td>\n",
              "      <td>29</td>\n",
              "      <td>79</td>\n",
              "      <td>83</td>\n",
              "    </tr>\n",
              "    <tr>\n",
              "      <th>163</th>\n",
              "      <td>164</td>\n",
              "      <td>Female</td>\n",
              "      <td>31</td>\n",
              "      <td>81</td>\n",
              "      <td>93</td>\n",
              "    </tr>\n",
              "    <tr>\n",
              "      <th>165</th>\n",
              "      <td>166</td>\n",
              "      <td>Female</td>\n",
              "      <td>36</td>\n",
              "      <td>85</td>\n",
              "      <td>75</td>\n",
              "    </tr>\n",
              "    <tr>\n",
              "      <th>167</th>\n",
              "      <td>168</td>\n",
              "      <td>Female</td>\n",
              "      <td>33</td>\n",
              "      <td>86</td>\n",
              "      <td>95</td>\n",
              "    </tr>\n",
              "    <tr>\n",
              "      <th>169</th>\n",
              "      <td>170</td>\n",
              "      <td>Male</td>\n",
              "      <td>32</td>\n",
              "      <td>87</td>\n",
              "      <td>63</td>\n",
              "    </tr>\n",
              "    <tr>\n",
              "      <th>171</th>\n",
              "      <td>172</td>\n",
              "      <td>Male</td>\n",
              "      <td>28</td>\n",
              "      <td>87</td>\n",
              "      <td>75</td>\n",
              "    </tr>\n",
              "    <tr>\n",
              "      <th>173</th>\n",
              "      <td>174</td>\n",
              "      <td>Male</td>\n",
              "      <td>36</td>\n",
              "      <td>87</td>\n",
              "      <td>92</td>\n",
              "    </tr>\n",
              "    <tr>\n",
              "      <th>175</th>\n",
              "      <td>176</td>\n",
              "      <td>Female</td>\n",
              "      <td>30</td>\n",
              "      <td>88</td>\n",
              "      <td>86</td>\n",
              "    </tr>\n",
              "    <tr>\n",
              "      <th>177</th>\n",
              "      <td>178</td>\n",
              "      <td>Male</td>\n",
              "      <td>27</td>\n",
              "      <td>88</td>\n",
              "      <td>69</td>\n",
              "    </tr>\n",
              "    <tr>\n",
              "      <th>179</th>\n",
              "      <td>180</td>\n",
              "      <td>Male</td>\n",
              "      <td>35</td>\n",
              "      <td>93</td>\n",
              "      <td>90</td>\n",
              "    </tr>\n",
              "    <tr>\n",
              "      <th>181</th>\n",
              "      <td>182</td>\n",
              "      <td>Female</td>\n",
              "      <td>32</td>\n",
              "      <td>97</td>\n",
              "      <td>86</td>\n",
              "    </tr>\n",
              "    <tr>\n",
              "      <th>183</th>\n",
              "      <td>184</td>\n",
              "      <td>Female</td>\n",
              "      <td>29</td>\n",
              "      <td>98</td>\n",
              "      <td>88</td>\n",
              "    </tr>\n",
              "    <tr>\n",
              "      <th>185</th>\n",
              "      <td>186</td>\n",
              "      <td>Male</td>\n",
              "      <td>30</td>\n",
              "      <td>99</td>\n",
              "      <td>97</td>\n",
              "    </tr>\n",
              "    <tr>\n",
              "      <th>187</th>\n",
              "      <td>188</td>\n",
              "      <td>Male</td>\n",
              "      <td>28</td>\n",
              "      <td>101</td>\n",
              "      <td>68</td>\n",
              "    </tr>\n",
              "    <tr>\n",
              "      <th>189</th>\n",
              "      <td>190</td>\n",
              "      <td>Female</td>\n",
              "      <td>36</td>\n",
              "      <td>103</td>\n",
              "      <td>85</td>\n",
              "    </tr>\n",
              "    <tr>\n",
              "      <th>191</th>\n",
              "      <td>192</td>\n",
              "      <td>Female</td>\n",
              "      <td>32</td>\n",
              "      <td>103</td>\n",
              "      <td>69</td>\n",
              "    </tr>\n",
              "    <tr>\n",
              "      <th>193</th>\n",
              "      <td>194</td>\n",
              "      <td>Female</td>\n",
              "      <td>38</td>\n",
              "      <td>113</td>\n",
              "      <td>91</td>\n",
              "    </tr>\n",
              "    <tr>\n",
              "      <th>195</th>\n",
              "      <td>196</td>\n",
              "      <td>Female</td>\n",
              "      <td>35</td>\n",
              "      <td>120</td>\n",
              "      <td>79</td>\n",
              "    </tr>\n",
              "    <tr>\n",
              "      <th>197</th>\n",
              "      <td>198</td>\n",
              "      <td>Male</td>\n",
              "      <td>32</td>\n",
              "      <td>126</td>\n",
              "      <td>74</td>\n",
              "    </tr>\n",
              "    <tr>\n",
              "      <th>199</th>\n",
              "      <td>200</td>\n",
              "      <td>Male</td>\n",
              "      <td>30</td>\n",
              "      <td>137</td>\n",
              "      <td>83</td>\n",
              "    </tr>\n",
              "  </tbody>\n",
              "</table>\n",
              "</div>\n",
              "      <button class=\"colab-df-convert\" onclick=\"convertToInteractive('df-dced9985-5208-46f4-9ac3-dea9532c19b8')\"\n",
              "              title=\"Convert this dataframe to an interactive table.\"\n",
              "              style=\"display:none;\">\n",
              "        \n",
              "  <svg xmlns=\"http://www.w3.org/2000/svg\" height=\"24px\"viewBox=\"0 0 24 24\"\n",
              "       width=\"24px\">\n",
              "    <path d=\"M0 0h24v24H0V0z\" fill=\"none\"/>\n",
              "    <path d=\"M18.56 5.44l.94 2.06.94-2.06 2.06-.94-2.06-.94-.94-2.06-.94 2.06-2.06.94zm-11 1L8.5 8.5l.94-2.06 2.06-.94-2.06-.94L8.5 2.5l-.94 2.06-2.06.94zm10 10l.94 2.06.94-2.06 2.06-.94-2.06-.94-.94-2.06-.94 2.06-2.06.94z\"/><path d=\"M17.41 7.96l-1.37-1.37c-.4-.4-.92-.59-1.43-.59-.52 0-1.04.2-1.43.59L10.3 9.45l-7.72 7.72c-.78.78-.78 2.05 0 2.83L4 21.41c.39.39.9.59 1.41.59.51 0 1.02-.2 1.41-.59l7.78-7.78 2.81-2.81c.8-.78.8-2.07 0-2.86zM5.41 20L4 18.59l7.72-7.72 1.47 1.35L5.41 20z\"/>\n",
              "  </svg>\n",
              "      </button>\n",
              "      \n",
              "  <style>\n",
              "    .colab-df-container {\n",
              "      display:flex;\n",
              "      flex-wrap:wrap;\n",
              "      gap: 12px;\n",
              "    }\n",
              "\n",
              "    .colab-df-convert {\n",
              "      background-color: #E8F0FE;\n",
              "      border: none;\n",
              "      border-radius: 50%;\n",
              "      cursor: pointer;\n",
              "      display: none;\n",
              "      fill: #1967D2;\n",
              "      height: 32px;\n",
              "      padding: 0 0 0 0;\n",
              "      width: 32px;\n",
              "    }\n",
              "\n",
              "    .colab-df-convert:hover {\n",
              "      background-color: #E2EBFA;\n",
              "      box-shadow: 0px 1px 2px rgba(60, 64, 67, 0.3), 0px 1px 3px 1px rgba(60, 64, 67, 0.15);\n",
              "      fill: #174EA6;\n",
              "    }\n",
              "\n",
              "    [theme=dark] .colab-df-convert {\n",
              "      background-color: #3B4455;\n",
              "      fill: #D2E3FC;\n",
              "    }\n",
              "\n",
              "    [theme=dark] .colab-df-convert:hover {\n",
              "      background-color: #434B5C;\n",
              "      box-shadow: 0px 1px 3px 1px rgba(0, 0, 0, 0.15);\n",
              "      filter: drop-shadow(0px 1px 2px rgba(0, 0, 0, 0.3));\n",
              "      fill: #FFFFFF;\n",
              "    }\n",
              "  </style>\n",
              "\n",
              "      <script>\n",
              "        const buttonEl =\n",
              "          document.querySelector('#df-dced9985-5208-46f4-9ac3-dea9532c19b8 button.colab-df-convert');\n",
              "        buttonEl.style.display =\n",
              "          google.colab.kernel.accessAllowed ? 'block' : 'none';\n",
              "\n",
              "        async function convertToInteractive(key) {\n",
              "          const element = document.querySelector('#df-dced9985-5208-46f4-9ac3-dea9532c19b8');\n",
              "          const dataTable =\n",
              "            await google.colab.kernel.invokeFunction('convertToInteractive',\n",
              "                                                     [key], {});\n",
              "          if (!dataTable) return;\n",
              "\n",
              "          const docLinkHtml = 'Like what you see? Visit the ' +\n",
              "            '<a target=\"_blank\" href=https://colab.research.google.com/notebooks/data_table.ipynb>data table notebook</a>'\n",
              "            + ' to learn more about interactive tables.';\n",
              "          element.innerHTML = '';\n",
              "          dataTable['output_type'] = 'display_data';\n",
              "          await google.colab.output.renderOutput(dataTable, element);\n",
              "          const docLink = document.createElement('div');\n",
              "          docLink.innerHTML = docLinkHtml;\n",
              "          element.appendChild(docLink);\n",
              "        }\n",
              "      </script>\n",
              "    </div>\n",
              "  </div>\n",
              "  "
            ]
          },
          "metadata": {},
          "execution_count": 30
        }
      ]
    },
    {
      "cell_type": "markdown",
      "metadata": {
        "id": "IHtNHEl9fJ_f"
      },
      "source": [
        "Thus, we obtained the Customer IDs of 39 customers who earn more and spend more. Similarly, you can obtain Customer IDs and other information of customers belonging to any other cluster also using the cluster labels.\n",
        "\n",
        "In this way, the k-means clustering performs customer segmentation to obtain a better understanding of customers which will eventually contribute in increasing the revenue of the company.\n",
        "\n",
        "Now, let's just make sure that 5 is a good number of clusters by constructing an elbow plot."
      ]
    },
    {
      "cell_type": "markdown",
      "metadata": {
        "id": "uVURqHRviXzC"
      },
      "source": [
        "---"
      ]
    },
    {
      "cell_type": "markdown",
      "metadata": {
        "id": "WrdMv8uGjMNy"
      },
      "source": [
        "#### Activity 3: Selecting `k` using Elbow Method\n",
        "\n",
        "What we did in the previous activity was choosing the value of `k` i.e number of clusters by directly looking at the scatter plot.\n",
        "\n",
        "What if we got more than 2 attributes or columns for clustering? For example, what if we also take the values of `Age` and `Gender` column into account? There will be 4 features in total and in such cases, visual inspection can not be used to determine the number of clusters.\n",
        "\n",
        "\n",
        "There exists two methods to systematically determine the value of `k`.\n",
        "\n",
        "1. Elbow Method.\n",
        "2. Silhouette Method.\n",
        "\n",
        "\n",
        "**Elbow Method:**\n",
        "\n",
        "The Elbow method is used to determine the optimal value of `k` by calculating Within-Cluster-Sum-of-Squares (WCSS).\n",
        "\n",
        "**WCSS** is the sum of squared distance between each data point and the centroid in a cluster. Thus, it is calculated by measuring the distance between each data point and its centroid, squaring this distance, and summing these squares across one cluster.\n",
        "\n",
        "WCSS is also known as **Inertia** and is given\n",
        "\n",
        "\\begin{align}\n",
        "  WCSS = \\sum_{i \\in n} (d_i - \\bar{c_i})^2\n",
        "\\end{align}\n",
        "\n",
        "where, $\\bar{c_i}$ is the centroid for data point $d_i$.\n",
        "\n",
        "For example, the following figure displays the distance between few points of a cluster from the cluster centroid.\n",
        "\n",
        "<center><img src=https://s3-whjr-v2-prod-bucket.whjr.online/whjr-v2-prod-bucket/53ba1484-b134-432d-9c27-a1f1a085e64c.png></center>\n",
        "\n",
        "The Elbow method works as follows:\n",
        "1. First, the K-Means algorithm is randomly initialised  for a range of `K` values.\n",
        "\n",
        "2. For each `K` value, WCSS or inertia is calculated.\n",
        "\n",
        "3. Then, WCSS for each `K`  is plotted against their respective `K` value.\n",
        "\n",
        "4. The location of a bend (knee) in the plot is generally considered as an indicator of the appropriate number of clusters.\n",
        "\n",
        "Let us first compute K-Means clustering for our 2D dataset `data_2d` by varying `K` from `1` to `10` clusters. Also, for each `K`, calculate WCSS using `inertia_` attribute of `Kmeans` object.\n",
        "\n",
        "\n",
        "\n",
        "\n",
        "\n",
        "\n",
        "\n",
        "\n",
        "\n",
        "\n",
        "\n"
      ]
    },
    {
      "cell_type": "code",
      "metadata": {
        "id": "T9TCXJIjuAgC",
        "colab": {
          "base_uri": "https://localhost:8080/"
        },
        "outputId": "b0e7c074-f71e-4c09-be37-3fa27daf9fff"
      },
      "source": [
        "# S3.1: Calculate inertia for different values of 'K'.\n",
        "# Create an empty list to store wcss value obtained for each 'K'\n",
        "\n",
        "wcss = []\n",
        "\n",
        "# Initiate a for loop that ranges from 1 to 10.\n",
        "\n",
        "for i in range(1,11):\n",
        "\n",
        "\n",
        "    # Inside for loop, perform K-means clustering for current value of K. Use 'fit()' to train the model.\n",
        "\n",
        "  km3 = KMeans(n_clusters = i, random_state = 10)\n",
        "  km3.fit(df_two)\n",
        "  wcss.append(km3.inertia_)\n",
        "\n",
        "print(wcss)\n",
        "\n",
        "    # Find wcss for current K value using 'inertia_' attribute and append it to the empty list.\n",
        "\n",
        "\n",
        "# Create a dataframe with two columns.\n",
        "# First column must contain K values from 1 to 10 and second column must contain wcss values obtained after the for loop.\n"
      ],
      "execution_count": null,
      "outputs": [
        {
          "output_type": "stream",
          "name": "stderr",
          "text": [
            "/usr/local/lib/python3.10/dist-packages/sklearn/cluster/_kmeans.py:870: FutureWarning: The default value of `n_init` will change from 10 to 'auto' in 1.4. Set the value of `n_init` explicitly to suppress the warning\n",
            "  warnings.warn(\n",
            "/usr/local/lib/python3.10/dist-packages/sklearn/cluster/_kmeans.py:870: FutureWarning: The default value of `n_init` will change from 10 to 'auto' in 1.4. Set the value of `n_init` explicitly to suppress the warning\n",
            "  warnings.warn(\n",
            "/usr/local/lib/python3.10/dist-packages/sklearn/cluster/_kmeans.py:870: FutureWarning: The default value of `n_init` will change from 10 to 'auto' in 1.4. Set the value of `n_init` explicitly to suppress the warning\n",
            "  warnings.warn(\n",
            "/usr/local/lib/python3.10/dist-packages/sklearn/cluster/_kmeans.py:870: FutureWarning: The default value of `n_init` will change from 10 to 'auto' in 1.4. Set the value of `n_init` explicitly to suppress the warning\n",
            "  warnings.warn(\n",
            "/usr/local/lib/python3.10/dist-packages/sklearn/cluster/_kmeans.py:870: FutureWarning: The default value of `n_init` will change from 10 to 'auto' in 1.4. Set the value of `n_init` explicitly to suppress the warning\n",
            "  warnings.warn(\n",
            "/usr/local/lib/python3.10/dist-packages/sklearn/cluster/_kmeans.py:870: FutureWarning: The default value of `n_init` will change from 10 to 'auto' in 1.4. Set the value of `n_init` explicitly to suppress the warning\n",
            "  warnings.warn(\n",
            "/usr/local/lib/python3.10/dist-packages/sklearn/cluster/_kmeans.py:870: FutureWarning: The default value of `n_init` will change from 10 to 'auto' in 1.4. Set the value of `n_init` explicitly to suppress the warning\n",
            "  warnings.warn(\n",
            "/usr/local/lib/python3.10/dist-packages/sklearn/cluster/_kmeans.py:870: FutureWarning: The default value of `n_init` will change from 10 to 'auto' in 1.4. Set the value of `n_init` explicitly to suppress the warning\n",
            "  warnings.warn(\n",
            "/usr/local/lib/python3.10/dist-packages/sklearn/cluster/_kmeans.py:870: FutureWarning: The default value of `n_init` will change from 10 to 'auto' in 1.4. Set the value of `n_init` explicitly to suppress the warning\n",
            "  warnings.warn(\n"
          ]
        },
        {
          "output_type": "stream",
          "name": "stdout",
          "text": [
            "[270308.1600000001, 181636.68686868687, 106482.55855633452, 73721.81746054099, 44448.4554479337, 37265.86520484346, 30290.060978736714, 25056.396738145573, 21901.020398952853, 19694.5980862133]\n"
          ]
        },
        {
          "output_type": "stream",
          "name": "stderr",
          "text": [
            "/usr/local/lib/python3.10/dist-packages/sklearn/cluster/_kmeans.py:870: FutureWarning: The default value of `n_init` will change from 10 to 'auto' in 1.4. Set the value of `n_init` explicitly to suppress the warning\n",
            "  warnings.warn(\n"
          ]
        }
      ]
    },
    {
      "cell_type": "code",
      "source": [
        "cluster = range(1,11)\n",
        "wcss_df = pd.DataFrame({'Clusters' : cluster, 'Within Cluster Sum of Squares' : wcss})"
      ],
      "metadata": {
        "id": "kzG-MYWSp7ZC"
      },
      "execution_count": null,
      "outputs": []
    },
    {
      "cell_type": "markdown",
      "metadata": {
        "id": "27zXn7HAyWcZ"
      },
      "source": [
        "You may observe that as the number of clusters (`K`) increases, WCSS decreases.\n",
        "\n",
        "WCSS is highest when `K = 1` as every point in the datset belongs to a single cluster. It will eventually become `0` when `K` is equal to the number of data points. This is because, as the number of cluster increases, the number of centroids also increases. Thus, distance between the centroids and the data points starts decreasing and it will eventually become `0` when each data point becomes a centroid.\n",
        "\n",
        "Let us now create a line plot with `K` ranging from `1` to `10`  on $x$-axis and the WCSS values stored in `wcss` list on $y$-axis."
      ]
    },
    {
      "cell_type": "code",
      "metadata": {
        "id": "6gtY80dj1Ttz",
        "colab": {
          "base_uri": "https://localhost:8080/",
          "height": 676
        },
        "outputId": "2eae0d04-e51b-4bb7-871a-1e3ad028d865"
      },
      "source": [
        "# S3.2: Plot WCSS vs number of clusters.\n",
        "plt.figure(figsize = (10,8))\n",
        "plt.plot(wcss_df['Clusters'], wcss_df['Within Cluster Sum of Squares'])\n",
        "plt.show()"
      ],
      "execution_count": null,
      "outputs": [
        {
          "output_type": "display_data",
          "data": {
            "text/plain": [
              "<Figure size 1000x800 with 1 Axes>"
            ],
            "image/png": "[encoded data removed]"
          },
          "metadata": {}
        }
      ]
    },
    {
      "cell_type": "markdown",
      "metadata": {
        "id": "CmrE3J1E2F3i"
      },
      "source": [
        "From the above graph, you may observe that the decrease in WCSS or inertia after `K = 5` is not drastic. Thus, `K = 5` is the \"elbow\" of this graph.\n",
        "\n",
        "Hence, we can conclude that the optimal number of clusters for our 2D dataset is `5`. This means our initial guess was correct.\n",
        "\n",
        "Another way to find out the optimal number of clusters is by using the **Silhouette Method**."
      ]
    },
    {
      "cell_type": "markdown",
      "metadata": {
        "id": "sqSmKoeo3jGK"
      },
      "source": [
        "---"
      ]
    },
    {
      "cell_type": "markdown",
      "metadata": {
        "id": "ufHhXMuk_EO7"
      },
      "source": [
        "#### Activity 4: Silhouette Score Analysis\n",
        "\n",
        "\n",
        "\n",
        "Just like the elbow method uses WCSS to find the optimal value of `K`, the silhouette method uses the **silhouette score** to determine `K`. Before computing silhouette score, we need to first understand **Silhouette Coefficient**.\n",
        "\n",
        "**What is Silhouette Coefficient?**\n",
        "\n",
        "- We know that the goal of clustering algorithms is to split the data set into clusters of objects, such that:\n",
        "  - The objects in the same cluster are similar or to each other as much as possible, and\n",
        "  - The objects belonging to different clusters are highly distinct from each other.\n",
        "\n",
        "- The silhouette coefficient of each data point measures how much that data point is similar or close to its own cluster and how much it is distinct from other clusters. Thus, the silhouette coefficient assesses the quality of clusters obtained from a clustering algorithm.\n",
        "\n",
        "Consider a data point $i$. Let us learn how to calculate the silhouette coefficient for $i$.\n",
        "\n",
        "\n",
        "**Step 1: Compute $a(i)$**\n",
        "\n",
        "It is defined as the average distance of data point $i$ with all other points in the same clusters. It is also known as *Mean Intra-cluster distance*.\n",
        "\n",
        "  **Note:** Here, distance refers to the Euclidean distance.\n",
        "\n",
        "<center>\n",
        "<img src=\"https://s3-whjr-v2-prod-bucket.whjr.online/dfa627bd-9097-43df-b54b-0e327c417163.gif\"/></center>\n",
        "\n",
        "\n",
        "**Step 2: Compute $b(i)$**\n",
        "\n",
        "It is defined as the average distance of the data point $i$ with all the points in the closest cluster to its cluster. It is also known as *Mean Inter-cluster distance*.\n",
        "\n",
        "  **Note:** If there are more than one neighbouring clusters, then consider only the nearest cluster to the data point $i$.\n",
        "\n",
        "<center><img src=\"https://s3-whjr-v2-prod-bucket.whjr.online/6a2b08d7-145c-4c9b-957f-9ab9be8dc685.gif\"/></center>\n",
        "\n",
        "\n",
        "\n",
        "**Step 3: Compute $s(i)$**\n",
        "\n",
        "The silhouette coefficient of data point $i$ is calculated as:\n",
        "\n",
        "\\begin{align}\n",
        "  s(i) = \\frac{b(i)-a(i)}{max(b(i),a(i))}\n",
        "\\end{align}\n",
        "\n",
        "After calculating the silhouette coefficient for each point, average it out to get the **Silhouette Score**.\n",
        "\n",
        "The silhouette scores  falls within the range `[-1, 1]`. Higher silhouette scores indicates dense and well-separated clusters.\n",
        "\n",
        "We can obtain the silhouette score using the `silhouette_score` class of `sklearn.metrics` module.\n",
        "\n",
        "> **Syntax:** `sklearn.metrics.silhouette_score(dataset, cluster_labels`)\n",
        "\n",
        "> where,\n",
        "  - `dataset`: The dataset which needs to be clustered.\n",
        "  - `cluster_labels`: The cluster labels predicted by clustering algorithm.\n",
        "\n",
        "\n",
        "**Finding optimal value of `K`:**\n",
        "\n",
        "Let us compute K-Means clustering for our 2D dataset `data_2d` by varying `K` from `2` to `10` clusters. Also, for each `K`, calculate silhouette score using `silhouette_score` function. This is same as that done for Elbow method except that, we are calculating silhouette score instead of WCSS.\n",
        "\n",
        "**Note:** The `for` loop must iterate from `2` to `10` and not from `1` to `10` as done for elbow method. If we try to calculate silhouette score for `K = 1`, it will throw error. This is because, the silhouette score calculates distance between neighbouring clusters, thus it's computation needs at least 2 clusters."
      ]
    },
    {
      "cell_type": "code",
      "metadata": {
        "id": "ePMqZ-MVXhEb",
        "colab": {
          "base_uri": "https://localhost:8080/"
        },
        "outputId": "025cfc61-7fbc-4d0c-dd27-edd5ccd0479c"
      },
      "source": [
        "# S4.1: Calculate inertia for different values of 'K'.\n",
        "\n",
        "# Create an empty list to store silhouette scores obtained for each 'K'\n",
        "\n",
        "from sklearn.metrics import silhouette_score\n",
        "\n",
        "s_scores = []\n",
        "\n",
        "# Initiate a for loop that ranges from 2 to 10.\n",
        "\n",
        "for i in range(2,11):\n",
        "\n",
        "\n",
        "    # Inside for loop, perform K-means clustering for current value of K.\n",
        "    # Use 'fit()'and 'predict()' to create clusters.\n",
        "\n",
        "  km4 = KMeans(n_clusters = i, random_state = 10)\n",
        "  km4.fit(df_two)\n",
        "  km4_pred = km4.predict(df_two)\n",
        "  s_scores.append(silhouette_score(df_two, km4_pred))\n",
        "\n",
        "    # Find silhouette score for current K value using 'silhouette_score()' function\n",
        "    # and append it to the empty list.\n",
        "print(s_scores)\n",
        "\n",
        "# Create a dataframe with two columns.\n",
        "# First column must contain K values from 1 to 10 and second column must contain silhouette values obtained after the for loop.\n",
        "\n",
        "cluster2 = range(2,11)\n",
        "sscores_df = pd.DataFrame({'Clusters' : cluster2, 'Silhouette Scores' : s_scores})"
      ],
      "execution_count": null,
      "outputs": [
        {
          "output_type": "stream",
          "name": "stderr",
          "text": [
            "/usr/local/lib/python3.10/dist-packages/sklearn/cluster/_kmeans.py:870: FutureWarning: The default value of `n_init` will change from 10 to 'auto' in 1.4. Set the value of `n_init` explicitly to suppress the warning\n",
            "  warnings.warn(\n",
            "/usr/local/lib/python3.10/dist-packages/sklearn/cluster/_kmeans.py:870: FutureWarning: The default value of `n_init` will change from 10 to 'auto' in 1.4. Set the value of `n_init` explicitly to suppress the warning\n",
            "  warnings.warn(\n",
            "/usr/local/lib/python3.10/dist-packages/sklearn/cluster/_kmeans.py:870: FutureWarning: The default value of `n_init` will change from 10 to 'auto' in 1.4. Set the value of `n_init` explicitly to suppress the warning\n",
            "  warnings.warn(\n",
            "/usr/local/lib/python3.10/dist-packages/sklearn/cluster/_kmeans.py:870: FutureWarning: The default value of `n_init` will change from 10 to 'auto' in 1.4. Set the value of `n_init` explicitly to suppress the warning\n",
            "  warnings.warn(\n",
            "/usr/local/lib/python3.10/dist-packages/sklearn/cluster/_kmeans.py:870: FutureWarning: The default value of `n_init` will change from 10 to 'auto' in 1.4. Set the value of `n_init` explicitly to suppress the warning\n",
            "  warnings.warn(\n",
            "/usr/local/lib/python3.10/dist-packages/sklearn/cluster/_kmeans.py:870: FutureWarning: The default value of `n_init` will change from 10 to 'auto' in 1.4. Set the value of `n_init` explicitly to suppress the warning\n",
            "  warnings.warn(\n",
            "/usr/local/lib/python3.10/dist-packages/sklearn/cluster/_kmeans.py:870: FutureWarning: The default value of `n_init` will change from 10 to 'auto' in 1.4. Set the value of `n_init` explicitly to suppress the warning\n",
            "  warnings.warn(\n",
            "/usr/local/lib/python3.10/dist-packages/sklearn/cluster/_kmeans.py:870: FutureWarning: The default value of `n_init` will change from 10 to 'auto' in 1.4. Set the value of `n_init` explicitly to suppress the warning\n",
            "  warnings.warn(\n"
          ]
        },
        {
          "output_type": "stream",
          "name": "stdout",
          "text": [
            "[0.29665468726009153, 0.4677642146823002, 0.4937128838722982, 0.5546548926958963, 0.5386581466150471, 0.527400026166646, 0.4570762975832095, 0.45888178455375617, 0.4467140918778185]\n"
          ]
        },
        {
          "output_type": "stream",
          "name": "stderr",
          "text": [
            "/usr/local/lib/python3.10/dist-packages/sklearn/cluster/_kmeans.py:870: FutureWarning: The default value of `n_init` will change from 10 to 'auto' in 1.4. Set the value of `n_init` explicitly to suppress the warning\n",
            "  warnings.warn(\n"
          ]
        }
      ]
    },
    {
      "cell_type": "markdown",
      "metadata": {
        "id": "htcMXERDlJrQ"
      },
      "source": [
        "From the output, you may observe that the maximum silhouette score is obtained at `K = 5`.\n",
        "\n",
        "Let us now create a line plot with `K` ranging from `2` to `10`  on $x$-axis and the silhouette scores stored in `sil_scores` list on $y$-axis."
      ]
    },
    {
      "cell_type": "code",
      "metadata": {
        "id": "fQFNagAolxtI",
        "colab": {
          "base_uri": "https://localhost:8080/",
          "height": 676
        },
        "outputId": "21ab88f6-7206-49b0-b312-051c523da684"
      },
      "source": [
        "# S4.2: Plot silhouette scores vs number of clusters.\n",
        "plt.figure(figsize = (10,8))\n",
        "plt.plot(sscores_df['Clusters'], sscores_df['Silhouette Scores'])\n",
        "plt.show()"
      ],
      "execution_count": null,
      "outputs": [
        {
          "output_type": "display_data",
          "data": {
            "text/plain": [
              "<Figure size 1000x800 with 1 Axes>"
            ],
            "image/png": "[encoded data removed]"
          },
          "metadata": {}
        }
      ]
    },
    {
      "cell_type": "markdown",
      "metadata": {
        "id": "k3-3GDNmmIX8"
      },
      "source": [
        "From the above graph, you may observe that the silhouette score is at its peak at `K = 5`, after which it starts declining.\n",
        "\n",
        "Thus, both elbow method and silhouette analysis confirms that the optimal number of clusters for our 2D dataset is indeed `5`.\n",
        "\n",
        "We will stop here. In the next class, we will perform K-Means clustering on a 3-dimensional dataset and will proceed with the customer segmentation problem statement."
      ]
    },
    {
      "cell_type": "markdown",
      "metadata": {
        "id": "pEBm9E1V_71a"
      },
      "source": [
        "----"
      ]
    },
    {
      "cell_type": "markdown",
      "metadata": {
        "id": "dWeptGFNp2VT"
      },
      "source": [
        "### **Project**\n",
        "You can now attempt the **Applied Tech. Project 108 - K-Means Clustering II** on your own.\n",
        "\n",
        "**Applied Tech. Project 108 - K-Means Clustering II**: https://colab.research.google.com/drive/1E2WxEXblFuivloKI-cS-J-MWnxFEVOV4"
      ]
    },
    {
      "cell_type": "markdown",
      "metadata": {
        "id": "rNS-0oCbp9lq"
      },
      "source": [
        "---"
      ]
    }
  ]
}