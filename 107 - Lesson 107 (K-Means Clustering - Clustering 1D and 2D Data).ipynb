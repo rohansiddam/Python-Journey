{
  "nbformat": 4,
  "nbformat_minor": 0,
  "metadata": {
    "colab": {
      "provenance": [],
      "include_colab_link": true
    },
    "kernelspec": {
      "name": "python3",
      "display_name": "Python 3"
    },
    "language_info": {
      "name": "python"
    }
  },
  "cells": [
    {
      "cell_type": "markdown",
      "metadata": {
        "id": "view-in-github",
        "colab_type": "text"
      },
      "source": [
        "<a href=\"https://colab.research.google.com/github/rohansiddam/Python-Journey/blob/main/107%20-%20Lesson%20107%20(K-Means%20Clustering%20-%20Clustering%201D%20and%202D%20Data).ipynb\" target=\"_parent\"><img src=\"https://colab.research.google.com/assets/colab-badge.svg\" alt=\"Open In Colab\"/></a>"
      ]
    },
    {
      "cell_type": "markdown",
      "metadata": {
        "id": "b_RIOW8yUrd0"
      },
      "source": [
        "#Lesson 107: K-Means Clustering - Clustering 1D and 2D Data"
      ]
    },
    {
      "cell_type": "markdown",
      "metadata": {
        "id": "kk7HmTyEn348"
      },
      "source": [
        "---"
      ]
    },
    {
      "cell_type": "markdown",
      "metadata": {
        "id": "u2izhJl7n9xJ"
      },
      "source": [
        "### Teacher-Student Activities\n",
        "\n",
        "So far the Machine Learning algorithms which we have worked on are known as supervised learning algorithms. In supervised learning we teach the machine using labelled data. This means the training data is already tagged with the correct answer. Once the system is trained it is used to predict the outcome for the unknown data. Classification and Regression are examples of supervised learning. However, a lot of machine learning applications comes with **unlabelled data**.\n",
        "\n",
        "Let's look a new problem statement to understand the unlabelled data. Here, we\n",
        "have a transactional data set which contains all the transactions occurring between 01/12/2010 and 09/12/2011 for a UK-based and registered non-store online retail. The company mainly sells unique all-occasion gifts. Many customers of the company are wholesalers.\n",
        "\n",
        "From the following information, we need to segregate customers and categorise them in some form.\n",
        "\n",
        "**Attribute Information:**\n",
        "\n",
        "- `InvoiceNo`: Invoice number. Nominal, a 6-digit integral number uniquely assigned to each transaction. If this code starts with letter 'c', it indicates a cancellation.\n",
        "\n",
        "- `StockCode`: Product (item) code. Nominal, a 5-digit integral number uniquely assigned to each distinct product.\n",
        "\n",
        "- `Description`: Product (item) name. Nominal.\n",
        "\n",
        "- `Quantity`: The quantities of each product (item) per transaction. Numeric.\n",
        "\n",
        "- `InvoiceDate`: Invoice Date and time. Numeric, the day and time when each transaction was generated. The date-time format used here is `yyyy-mm-dd hh:mm:ss`.\n",
        "\n",
        "- `UnitPrice`: Unit price. Numeric, product price per unit in sterling.\n",
        "\n",
        "- `CustomerID`: Customer number. Nominal, a 5-digit integral number uniquely assigned to each customer.\n",
        "\n",
        "- `Country`: Country name. Nominal, the name of the country where each customer resides.\n",
        "\n",
        "\n",
        "**Link to the dataset:** https://student-datasets-bucket.s3.ap-south-1.amazonaws.com/whitehat-ds-datasets/online-retail-customers.xlsx\n",
        "\n",
        "**Dataset Credits:** https://archive.ics.uci.edu/ml/datasets/online+retail\n",
        "\n",
        "**Citation:** Dr Daqing Chen, Director: Public Analytics group. chend '@' lsbu.ac.uk, School of Engineering, London South Bank University, London SE1 0AA, UK.\n",
        "\n",
        "**Note:** Since the dataset is a Microsoft Excel file, i.e., in the `xlsx` format, we need to use the `read_excel()` function of the Pandas module.\n"
      ]
    },
    {
      "cell_type": "code",
      "metadata": {
        "id": "TxigkbWruoU0",
        "colab": {
          "base_uri": "https://localhost:8080/",
          "height": 206
        },
        "outputId": "41e3e325-2853-4d33-ec68-c405b9467c1d"
      },
      "source": [
        "# Import the Python modules and read the data.\n",
        "import numpy as np\n",
        "import pandas as pd\n",
        "df = pd.read_excel('https://student-datasets-bucket.s3.ap-south-1.amazonaws.com/whitehat-ds-datasets/online-retail-customers.xlsx')\n",
        "df.head()"
      ],
      "execution_count": null,
      "outputs": [
        {
          "output_type": "execute_result",
          "data": {
            "text/plain": [
              "  InvoiceNo StockCode                          Description  Quantity  \\\n",
              "0    536365    85123A   WHITE HANGING HEART T-LIGHT HOLDER         6   \n",
              "1    536365     71053                  WHITE METAL LANTERN         6   \n",
              "2    536365    84406B       CREAM CUPID HEARTS COAT HANGER         8   \n",
              "3    536365    84029G  KNITTED UNION FLAG HOT WATER BOTTLE         6   \n",
              "4    536365    84029E       RED WOOLLY HOTTIE WHITE HEART.         6   \n",
              "\n",
              "          InvoiceDate  UnitPrice  CustomerID         Country  \n",
              "0 2010-12-01 08:26:00       2.55     17850.0  United Kingdom  \n",
              "1 2010-12-01 08:26:00       3.39     17850.0  United Kingdom  \n",
              "2 2010-12-01 08:26:00       2.75     17850.0  United Kingdom  \n",
              "3 2010-12-01 08:26:00       3.39     17850.0  United Kingdom  \n",
              "4 2010-12-01 08:26:00       3.39     17850.0  United Kingdom  "
            ],
            "text/html": [
              "\n",
              "  <div id=\"df-1bd64c60-58db-47bd-99bb-c37ee3f9fe0a\">\n",
              "    <div class=\"colab-df-container\">\n",
              "      <div>\n",
              "<style scoped>\n",
              "    .dataframe tbody tr th:only-of-type {\n",
              "        vertical-align: middle;\n",
              "    }\n",
              "\n",
              "    .dataframe tbody tr th {\n",
              "        vertical-align: top;\n",
              "    }\n",
              "\n",
              "    .dataframe thead th {\n",
              "        text-align: right;\n",
              "    }\n",
              "</style>\n",
              "<table border=\"1\" class=\"dataframe\">\n",
              "  <thead>\n",
              "    <tr style=\"text-align: right;\">\n",
              "      <th></th>\n",
              "      <th>InvoiceNo</th>\n",
              "      <th>StockCode</th>\n",
              "      <th>Description</th>\n",
              "      <th>Quantity</th>\n",
              "      <th>InvoiceDate</th>\n",
              "      <th>UnitPrice</th>\n",
              "      <th>CustomerID</th>\n",
              "      <th>Country</th>\n",
              "    </tr>\n",
              "  </thead>\n",
              "  <tbody>\n",
              "    <tr>\n",
              "      <th>0</th>\n",
              "      <td>536365</td>\n",
              "      <td>85123A</td>\n",
              "      <td>WHITE HANGING HEART T-LIGHT HOLDER</td>\n",
              "      <td>6</td>\n",
              "      <td>2010-12-01 08:26:00</td>\n",
              "      <td>2.55</td>\n",
              "      <td>17850.0</td>\n",
              "      <td>United Kingdom</td>\n",
              "    </tr>\n",
              "    <tr>\n",
              "      <th>1</th>\n",
              "      <td>536365</td>\n",
              "      <td>71053</td>\n",
              "      <td>WHITE METAL LANTERN</td>\n",
              "      <td>6</td>\n",
              "      <td>2010-12-01 08:26:00</td>\n",
              "      <td>3.39</td>\n",
              "      <td>17850.0</td>\n",
              "      <td>United Kingdom</td>\n",
              "    </tr>\n",
              "    <tr>\n",
              "      <th>2</th>\n",
              "      <td>536365</td>\n",
              "      <td>84406B</td>\n",
              "      <td>CREAM CUPID HEARTS COAT HANGER</td>\n",
              "      <td>8</td>\n",
              "      <td>2010-12-01 08:26:00</td>\n",
              "      <td>2.75</td>\n",
              "      <td>17850.0</td>\n",
              "      <td>United Kingdom</td>\n",
              "    </tr>\n",
              "    <tr>\n",
              "      <th>3</th>\n",
              "      <td>536365</td>\n",
              "      <td>84029G</td>\n",
              "      <td>KNITTED UNION FLAG HOT WATER BOTTLE</td>\n",
              "      <td>6</td>\n",
              "      <td>2010-12-01 08:26:00</td>\n",
              "      <td>3.39</td>\n",
              "      <td>17850.0</td>\n",
              "      <td>United Kingdom</td>\n",
              "    </tr>\n",
              "    <tr>\n",
              "      <th>4</th>\n",
              "      <td>536365</td>\n",
              "      <td>84029E</td>\n",
              "      <td>RED WOOLLY HOTTIE WHITE HEART.</td>\n",
              "      <td>6</td>\n",
              "      <td>2010-12-01 08:26:00</td>\n",
              "      <td>3.39</td>\n",
              "      <td>17850.0</td>\n",
              "      <td>United Kingdom</td>\n",
              "    </tr>\n",
              "  </tbody>\n",
              "</table>\n",
              "</div>\n",
              "      <button class=\"colab-df-convert\" onclick=\"convertToInteractive('df-1bd64c60-58db-47bd-99bb-c37ee3f9fe0a')\"\n",
              "              title=\"Convert this dataframe to an interactive table.\"\n",
              "              style=\"display:none;\">\n",
              "        \n",
              "  <svg xmlns=\"http://www.w3.org/2000/svg\" height=\"24px\"viewBox=\"0 0 24 24\"\n",
              "       width=\"24px\">\n",
              "    <path d=\"M0 0h24v24H0V0z\" fill=\"none\"/>\n",
              "    <path d=\"M18.56 5.44l.94 2.06.94-2.06 2.06-.94-2.06-.94-.94-2.06-.94 2.06-2.06.94zm-11 1L8.5 8.5l.94-2.06 2.06-.94-2.06-.94L8.5 2.5l-.94 2.06-2.06.94zm10 10l.94 2.06.94-2.06 2.06-.94-2.06-.94-.94-2.06-.94 2.06-2.06.94z\"/><path d=\"M17.41 7.96l-1.37-1.37c-.4-.4-.92-.59-1.43-.59-.52 0-1.04.2-1.43.59L10.3 9.45l-7.72 7.72c-.78.78-.78 2.05 0 2.83L4 21.41c.39.39.9.59 1.41.59.51 0 1.02-.2 1.41-.59l7.78-7.78 2.81-2.81c.8-.78.8-2.07 0-2.86zM5.41 20L4 18.59l7.72-7.72 1.47 1.35L5.41 20z\"/>\n",
              "  </svg>\n",
              "      </button>\n",
              "      \n",
              "  <style>\n",
              "    .colab-df-container {\n",
              "      display:flex;\n",
              "      flex-wrap:wrap;\n",
              "      gap: 12px;\n",
              "    }\n",
              "\n",
              "    .colab-df-convert {\n",
              "      background-color: #E8F0FE;\n",
              "      border: none;\n",
              "      border-radius: 50%;\n",
              "      cursor: pointer;\n",
              "      display: none;\n",
              "      fill: #1967D2;\n",
              "      height: 32px;\n",
              "      padding: 0 0 0 0;\n",
              "      width: 32px;\n",
              "    }\n",
              "\n",
              "    .colab-df-convert:hover {\n",
              "      background-color: #E2EBFA;\n",
              "      box-shadow: 0px 1px 2px rgba(60, 64, 67, 0.3), 0px 1px 3px 1px rgba(60, 64, 67, 0.15);\n",
              "      fill: #174EA6;\n",
              "    }\n",
              "\n",
              "    [theme=dark] .colab-df-convert {\n",
              "      background-color: #3B4455;\n",
              "      fill: #D2E3FC;\n",
              "    }\n",
              "\n",
              "    [theme=dark] .colab-df-convert:hover {\n",
              "      background-color: #434B5C;\n",
              "      box-shadow: 0px 1px 3px 1px rgba(0, 0, 0, 0.15);\n",
              "      filter: drop-shadow(0px 1px 2px rgba(0, 0, 0, 0.3));\n",
              "      fill: #FFFFFF;\n",
              "    }\n",
              "  </style>\n",
              "\n",
              "      <script>\n",
              "        const buttonEl =\n",
              "          document.querySelector('#df-1bd64c60-58db-47bd-99bb-c37ee3f9fe0a button.colab-df-convert');\n",
              "        buttonEl.style.display =\n",
              "          google.colab.kernel.accessAllowed ? 'block' : 'none';\n",
              "\n",
              "        async function convertToInteractive(key) {\n",
              "          const element = document.querySelector('#df-1bd64c60-58db-47bd-99bb-c37ee3f9fe0a');\n",
              "          const dataTable =\n",
              "            await google.colab.kernel.invokeFunction('convertToInteractive',\n",
              "                                                     [key], {});\n",
              "          if (!dataTable) return;\n",
              "\n",
              "          const docLinkHtml = 'Like what you see? Visit the ' +\n",
              "            '<a target=\"_blank\" href=https://colab.research.google.com/notebooks/data_table.ipynb>data table notebook</a>'\n",
              "            + ' to learn more about interactive tables.';\n",
              "          element.innerHTML = '';\n",
              "          dataTable['output_type'] = 'display_data';\n",
              "          await google.colab.output.renderOutput(dataTable, element);\n",
              "          const docLink = document.createElement('div');\n",
              "          docLink.innerHTML = docLinkHtml;\n",
              "          element.appendChild(docLink);\n",
              "        }\n",
              "      </script>\n",
              "    </div>\n",
              "  </div>\n",
              "  "
            ]
          },
          "metadata": {},
          "execution_count": 1
        }
      ]
    },
    {
      "cell_type": "code",
      "source": [
        "df.shape"
      ],
      "metadata": {
        "colab": {
          "base_uri": "https://localhost:8080/"
        },
        "id": "ygo52c_jgzX6",
        "outputId": "f8a8c4ab-d641-4256-f655-0ea02b0dd10a"
      },
      "execution_count": null,
      "outputs": [
        {
          "output_type": "execute_result",
          "data": {
            "text/plain": [
              "(541909, 8)"
            ]
          },
          "metadata": {},
          "execution_count": 2
        }
      ]
    },
    {
      "cell_type": "markdown",
      "metadata": {
        "id": "YBuy1YeLu2AG"
      },
      "source": [
        "We can see that, the customers are not categorised in any way. A retail company would like to categorise their customers as high-value, mid-value or low-value customers or something similar that we don't have in the above dataset. Hence, from the above set of features, we need to figure out a way to categorise the customers.\n",
        "\n",
        "For this purpose, we need to use a machine learning technique called **clustering**. Using clustering, we can categorise the customers in the above dataset as labels, say, $1, 2, 3, 4, \\dots$\n",
        "\n",
        "These labels will effectively serve as the target variable. Right now, we neither have feature variables nor the target variables to build a classification model to predict what customers are likely to buy more from retail a store.\n",
        "\n",
        "Let's understand clustering now. Thereafter, we will come back to solve the above problem statement.\n"
      ]
    },
    {
      "cell_type": "markdown",
      "metadata": {
        "id": "9CJJonTFu8QN"
      },
      "source": [
        "---"
      ]
    },
    {
      "cell_type": "markdown",
      "metadata": {
        "id": "Xxe8dcZgu9FE"
      },
      "source": [
        "### Clustering\n",
        "\n",
        "*Clustering* is the most common unsupervised learning technique.\n",
        "\n",
        "**What is unsupervised learning?**\n",
        "- In unsupervised learning, the machine uses unlabelled data and learns on itself without any supervision.\n",
        "- The machine tries to find a pattern in the unlabelled data and gives a response.\n",
        "\n",
        "Clustering is an unsupervised learning technique which is used to make groups of objects which are more related to each other than to other groups.\n",
        "\n",
        "In clustering, we first partition the set of data into groups based on the similarity and then assign the labels to those groups. Also, it helps us to find out various useful features that can help in distinguishing between different groups. For example, finding out which target customers are more suitable for a particular product.\n",
        "\n",
        "For the problem statement given above, we will perform the task of grouping the customer based on common interests and customise the marketing strategies for each group:\n",
        "\n",
        "<center>\n",
        "<img src=\"https://s3-whjr-v2-prod-bucket.whjr.online/928b7fab-fd5f-4057-b39f-2cfbb60e6f63.png\"/>\n",
        "</center>\n",
        "\n",
        "In the above image, you can see an illustration of customer segmentation. Suppose the marketing team of a company needs to identify target audience for a new product. A target audience is the specific group of customers who will most likely purchase your product or service.\n",
        "\n",
        "Using clustering techniques, companies can divide the available customer base into different groups. From these groups, it would be easy to identify the segment of customers who can be the potential buyers of the product. This will eventually contribute in increasing the revenue of the company.\n",
        "\n",
        "\n",
        "In this class, we will explore an unsupervised learning algorithm called **K-Means Clustering** with the help of a very simple example before solving the online retail customer segmentation problem\n",
        "\n"
      ]
    },
    {
      "cell_type": "markdown",
      "metadata": {
        "id": "FmrSneYip4sm"
      },
      "source": [
        "---"
      ]
    },
    {
      "cell_type": "markdown",
      "metadata": {
        "id": "184i-9tbp7my"
      },
      "source": [
        "#### Activity 1: Clustering 1-Dimensional Dataset\n",
        "\n",
        "Let us begin with a simple 1-dimensional dataset. Consider a dataset of 9 balls having following diameters:\n",
        "\n",
        "`Diameters = [1.3, 4, 3.2, 1.5, 3, 9, 3.6, 8, 8.3]`\n",
        "\n",
        "Our task is to categorise these balls into different groups or clusters based on their diameters.\n",
        "\n",
        "The solution to this problem is straightforward. We will group balls having approximately equal or similar diameters in the same group. We will achieve this using K-Means clustering algorithm.\n",
        "\n",
        "Let us first import the necessary Python modules and create a DataFrame consisting of only one column `Diameter`.\n"
      ]
    },
    {
      "cell_type": "code",
      "metadata": {
        "id": "RSoTtHREm7wW",
        "colab": {
          "base_uri": "https://localhost:8080/",
          "height": 206
        },
        "outputId": "05fd14d3-3318-4b5d-af0f-38fa29926b75"
      },
      "source": [
        "# S1.1: Import the modules and generate the DataFrame.\n",
        "balls_dict = {'Diameters' : [1.3, 4, 3.2, 1.5, 3, 9, 3.6, 8, 8.3]}\n",
        "# Generate a DataFrame consisting of one column 'Diameters' having diameters of 9 balls.\n",
        "balls_df = pd.DataFrame(balls_dict)\n",
        "balls_df.head()"
      ],
      "execution_count": null,
      "outputs": [
        {
          "output_type": "execute_result",
          "data": {
            "text/plain": [
              "   Diameters\n",
              "0        1.3\n",
              "1        4.0\n",
              "2        3.2\n",
              "3        1.5\n",
              "4        3.0"
            ],
            "text/html": [
              "\n",
              "  <div id=\"df-d9ef4844-3592-4f12-8b03-68af853842a5\">\n",
              "    <div class=\"colab-df-container\">\n",
              "      <div>\n",
              "<style scoped>\n",
              "    .dataframe tbody tr th:only-of-type {\n",
              "        vertical-align: middle;\n",
              "    }\n",
              "\n",
              "    .dataframe tbody tr th {\n",
              "        vertical-align: top;\n",
              "    }\n",
              "\n",
              "    .dataframe thead th {\n",
              "        text-align: right;\n",
              "    }\n",
              "</style>\n",
              "<table border=\"1\" class=\"dataframe\">\n",
              "  <thead>\n",
              "    <tr style=\"text-align: right;\">\n",
              "      <th></th>\n",
              "      <th>Diameters</th>\n",
              "    </tr>\n",
              "  </thead>\n",
              "  <tbody>\n",
              "    <tr>\n",
              "      <th>0</th>\n",
              "      <td>1.3</td>\n",
              "    </tr>\n",
              "    <tr>\n",
              "      <th>1</th>\n",
              "      <td>4.0</td>\n",
              "    </tr>\n",
              "    <tr>\n",
              "      <th>2</th>\n",
              "      <td>3.2</td>\n",
              "    </tr>\n",
              "    <tr>\n",
              "      <th>3</th>\n",
              "      <td>1.5</td>\n",
              "    </tr>\n",
              "    <tr>\n",
              "      <th>4</th>\n",
              "      <td>3.0</td>\n",
              "    </tr>\n",
              "  </tbody>\n",
              "</table>\n",
              "</div>\n",
              "      <button class=\"colab-df-convert\" onclick=\"convertToInteractive('df-d9ef4844-3592-4f12-8b03-68af853842a5')\"\n",
              "              title=\"Convert this dataframe to an interactive table.\"\n",
              "              style=\"display:none;\">\n",
              "        \n",
              "  <svg xmlns=\"http://www.w3.org/2000/svg\" height=\"24px\"viewBox=\"0 0 24 24\"\n",
              "       width=\"24px\">\n",
              "    <path d=\"M0 0h24v24H0V0z\" fill=\"none\"/>\n",
              "    <path d=\"M18.56 5.44l.94 2.06.94-2.06 2.06-.94-2.06-.94-.94-2.06-.94 2.06-2.06.94zm-11 1L8.5 8.5l.94-2.06 2.06-.94-2.06-.94L8.5 2.5l-.94 2.06-2.06.94zm10 10l.94 2.06.94-2.06 2.06-.94-2.06-.94-.94-2.06-.94 2.06-2.06.94z\"/><path d=\"M17.41 7.96l-1.37-1.37c-.4-.4-.92-.59-1.43-.59-.52 0-1.04.2-1.43.59L10.3 9.45l-7.72 7.72c-.78.78-.78 2.05 0 2.83L4 21.41c.39.39.9.59 1.41.59.51 0 1.02-.2 1.41-.59l7.78-7.78 2.81-2.81c.8-.78.8-2.07 0-2.86zM5.41 20L4 18.59l7.72-7.72 1.47 1.35L5.41 20z\"/>\n",
              "  </svg>\n",
              "      </button>\n",
              "      \n",
              "  <style>\n",
              "    .colab-df-container {\n",
              "      display:flex;\n",
              "      flex-wrap:wrap;\n",
              "      gap: 12px;\n",
              "    }\n",
              "\n",
              "    .colab-df-convert {\n",
              "      background-color: #E8F0FE;\n",
              "      border: none;\n",
              "      border-radius: 50%;\n",
              "      cursor: pointer;\n",
              "      display: none;\n",
              "      fill: #1967D2;\n",
              "      height: 32px;\n",
              "      padding: 0 0 0 0;\n",
              "      width: 32px;\n",
              "    }\n",
              "\n",
              "    .colab-df-convert:hover {\n",
              "      background-color: #E2EBFA;\n",
              "      box-shadow: 0px 1px 2px rgba(60, 64, 67, 0.3), 0px 1px 3px 1px rgba(60, 64, 67, 0.15);\n",
              "      fill: #174EA6;\n",
              "    }\n",
              "\n",
              "    [theme=dark] .colab-df-convert {\n",
              "      background-color: #3B4455;\n",
              "      fill: #D2E3FC;\n",
              "    }\n",
              "\n",
              "    [theme=dark] .colab-df-convert:hover {\n",
              "      background-color: #434B5C;\n",
              "      box-shadow: 0px 1px 3px 1px rgba(0, 0, 0, 0.15);\n",
              "      filter: drop-shadow(0px 1px 2px rgba(0, 0, 0, 0.3));\n",
              "      fill: #FFFFFF;\n",
              "    }\n",
              "  </style>\n",
              "\n",
              "      <script>\n",
              "        const buttonEl =\n",
              "          document.querySelector('#df-d9ef4844-3592-4f12-8b03-68af853842a5 button.colab-df-convert');\n",
              "        buttonEl.style.display =\n",
              "          google.colab.kernel.accessAllowed ? 'block' : 'none';\n",
              "\n",
              "        async function convertToInteractive(key) {\n",
              "          const element = document.querySelector('#df-d9ef4844-3592-4f12-8b03-68af853842a5');\n",
              "          const dataTable =\n",
              "            await google.colab.kernel.invokeFunction('convertToInteractive',\n",
              "                                                     [key], {});\n",
              "          if (!dataTable) return;\n",
              "\n",
              "          const docLinkHtml = 'Like what you see? Visit the ' +\n",
              "            '<a target=\"_blank\" href=https://colab.research.google.com/notebooks/data_table.ipynb>data table notebook</a>'\n",
              "            + ' to learn more about interactive tables.';\n",
              "          element.innerHTML = '';\n",
              "          dataTable['output_type'] = 'display_data';\n",
              "          await google.colab.output.renderOutput(dataTable, element);\n",
              "          const docLink = document.createElement('div');\n",
              "          docLink.innerHTML = docLinkHtml;\n",
              "          element.appendChild(docLink);\n",
              "        }\n",
              "      </script>\n",
              "    </div>\n",
              "  </div>\n",
              "  "
            ]
          },
          "metadata": {},
          "execution_count": 5
        }
      ]
    },
    {
      "cell_type": "markdown",
      "metadata": {
        "id": "aBfSOQDVV9Nf"
      },
      "source": [
        "Now generate a scatter plot to visualise these diameter values. Plot the diameters on $X$-axis and fix the $Y$-axis values at `1`.\n",
        "\n",
        "\n",
        "\n",
        "\n",
        "\n"
      ]
    },
    {
      "cell_type": "code",
      "metadata": {
        "id": "gn666rTUnhIh",
        "colab": {
          "base_uri": "https://localhost:8080/",
          "height": 676
        },
        "outputId": "25b2ebf4-2759-42b9-f027-4ff2655ec064"
      },
      "source": [
        "# S1.2: Check the distribution of ball_df DataFrame using scatter plot\n",
        "import matplotlib.pyplot as plt\n",
        "plt.figure(figsize = (10,8))\n",
        "plt.scatter(balls_df['Diameters'], np.ones(9))\n",
        "plt.show()"
      ],
      "execution_count": null,
      "outputs": [
        {
          "output_type": "display_data",
          "data": {
            "text/plain": [
              "<Figure size 1000x800 with 1 Axes>"
            ],
            "image/png": "[encoded data removed]"
          },
          "metadata": {}
        }
      ]
    },
    {
      "cell_type": "markdown",
      "metadata": {
        "id": "h2fef3YgWOsR"
      },
      "source": [
        "By simply looking at the scatter plot, we can say that there can be 3 groups/clusters of balls.\n",
        "\n",
        "Now, let us create clusters for this 1D dataset using K-means. The syntax for using K-means algorithm is as follows:\n",
        "\n",
        "**Syntax:** `sklearn.cluster.KMeans(n_clusters, random_state)`\n",
        "\n",
        "Where,\n",
        "- `n_cluster`: The number of clusters to form. The default value is `8`.\n",
        "- `random_state`: An integer value for consistent results.\n",
        "\n",
        "\n",
        "Follow the steps given below to perform K-means clustering:\n",
        "\n",
        "1. Import `KMeans` class from `sklearn.clusters` module.\n",
        "\n",
        "2. Create an object (say `kmeans_1d`) of the `KMeans` constructor and provide following inputs:\n",
        "\n",
        " - `n_clusters = 3`:  We are randomly selecting number of clusters as `3`. However, you need not always select 3 clusters.\n",
        "\n",
        " - `random_state = 2`\n",
        "\n",
        "3. Call the `fit()` function using the object of  `KMeans` class and pass the corresponding DataFrame `balls_df` as input.\n",
        "\n",
        "4. Get the predicted clusters for the data points by calling the `predict()` function on `kmeans_1d` and pass the `balls_df` DataFrame.\n",
        "\n",
        "5. Print the labels obtained after using `predict()` function."
      ]
    },
    {
      "cell_type": "code",
      "metadata": {
        "id": "uHX5A6KWY3pm",
        "colab": {
          "base_uri": "https://localhost:8080/"
        },
        "outputId": "450f768b-b59a-476f-84eb-db0b5f9e7013"
      },
      "source": [
        "# S1.3: Import scikit learn KMeans library and determine the clusters.\n",
        "from sklearn.cluster import KMeans\n",
        "km =KMeans(n_clusters = 3, random_state = 2)\n",
        "km.fit(balls_df)\n",
        "km_pred = km.predict(balls_df)\n",
        "print(km_pred)"
      ],
      "execution_count": null,
      "outputs": [
        {
          "output_type": "stream",
          "name": "stdout",
          "text": [
            "[2 1 1 2 1 0 1 0 0]\n"
          ]
        },
        {
          "output_type": "stream",
          "name": "stderr",
          "text": [
            "/usr/local/lib/python3.10/dist-packages/sklearn/cluster/_kmeans.py:870: FutureWarning: The default value of `n_init` will change from 10 to 'auto' in 1.4. Set the value of `n_init` explicitly to suppress the warning\n",
            "  warnings.warn(\n"
          ]
        }
      ]
    },
    {
      "cell_type": "markdown",
      "metadata": {
        "id": "7x35rfzkgQ3g"
      },
      "source": [
        "As you can see in the output, our 1D data is divided into 3 clusters where,\n",
        "- The first cluster is labelled as `0`.\n",
        "- The second cluster is labelled as `1`.\n",
        "- The third cluster is labelled as `2`.\n",
        "\n",
        "Each cluster has a center called as **centroid**. We will learn more about centroid in the next activity.\n",
        "\n",
        "As we have three clusters, we will have three centroids. Use `cluster_centers_` attribute with `kmeans_1d` object to obtain these centroids."
      ]
    },
    {
      "cell_type": "code",
      "metadata": {
        "id": "9Dqr9na1gQN6",
        "colab": {
          "base_uri": "https://localhost:8080/"
        },
        "outputId": "e60090f7-5947-4ab3-9d2c-078e80c2aebf"
      },
      "source": [
        "# S1.4: Print the centroids\n",
        "km.cluster_centers_"
      ],
      "execution_count": null,
      "outputs": [
        {
          "output_type": "execute_result",
          "data": {
            "text/plain": [
              "array([[8.43333333],\n",
              "       [3.45      ],\n",
              "       [1.4       ]])"
            ]
          },
          "metadata": {},
          "execution_count": 14
        }
      ]
    },
    {
      "cell_type": "markdown",
      "metadata": {
        "id": "U2MwZCbR9rU6"
      },
      "source": [
        "In the above output, the K-Means estimator determined the cluster centers for the three clusters.\n",
        "\n",
        "Let's visualise these clusters by plotting them  on a scatter plot using the steps given below:\n",
        "\n",
        "1. Plot the `balls_df` DataFrame coloured by the `labels` by passing `c = labels` parameter inside the `scatter()` function as follows:\n",
        "\n",
        "  `plt.scatter(balls_df, np.ones(9), c = labels)`\n",
        "\n",
        "2. Plot the cluster centers or centroids on the scatter plot by plotting `kmeans_1d.cluster_centers_` on $x$-axis and `np.ones(3)` on $y$-axis.\n",
        "\n",
        "  **Note:** We are using `np.ones(3)` as we have three cluster centers.\n",
        "\n",
        "  To differentiate the datapoints from the centroids, pass `marker = *` while plotting the centroids. You can set the marker size as well for the cluster centres using the `s` parameter.\n",
        "\n"
      ]
    },
    {
      "cell_type": "code",
      "metadata": {
        "id": "ByquaoCFa0kn",
        "colab": {
          "base_uri": "https://localhost:8080/",
          "height": 676
        },
        "outputId": "f853a29e-9a66-4bda-b127-06b71e33427b"
      },
      "source": [
        "# S1.5: Plot the clusters and their centroids on a scatter plot.\n",
        "plt.figure(figsize = (10,8))\n",
        "plt.scatter(balls_df, np.ones(9), c = km_pred)\n",
        "plt.scatter(km.cluster_centers_, np.ones(3), marker = '*')\n",
        "plt.show()"
      ],
      "execution_count": null,
      "outputs": [
        {
          "output_type": "display_data",
          "data": {
            "text/plain": [
              "<Figure size 1000x800 with 1 Axes>"
            ],
            "image/png": "[encoded data removed]"
          },
          "metadata": {}
        }
      ]
    },
    {
      "cell_type": "markdown",
      "metadata": {
        "id": "B4fAhvAMZIyu"
      },
      "source": [
        "In the above plot, you may observe that we obtained three clusters with their respective cluster centers marked with $*$ mark.\n",
        "\n",
        "- The purple coloured cluster with the centroid located at `1.4`.\n",
        "\n",
        "- The yellow coloured cluster with the centroid located at `3.45`.\n",
        "\n",
        "- The green coloured cluster with the centroid located at `8.43`.\n",
        "\n"
      ]
    },
    {
      "cell_type": "markdown",
      "metadata": {
        "id": "RzXbzOMFUuwU"
      },
      "source": [
        "---"
      ]
    },
    {
      "cell_type": "markdown",
      "metadata": {
        "id": "n1__XFctU_r0"
      },
      "source": [
        "#### Activity 2: Understanding K-Means Clustering\n",
        "\n",
        "K-Means clustering is among the most popular and simplest unsupervised machine learning algorithms. The objective of K-means is simple: group similar data points together and discover underlying patterns.\n",
        "\n",
        "To achieve this objective, K-Means looks for a fixed number  of clusters (`K`) in a dataset.\n",
        "\n",
        "\n",
        "Here's the algorithm for us:\n",
        "\n",
        "**Step 1: Choose $K$**\n",
        "\n",
        "Select the number of clusters i.e $K$ to be identified. So if we choose $K = 3$,  we're going to look for three clusters in our dataset.\n",
        "\n",
        "**Step 2: Select $K$ random points as centroids**\n",
        "\n",
        "Next, we randomly select the centroid for each cluster. The centroid is nothing but the cluster centers. It is the arithmetic mean of the data points belonging to a clusters.\n",
        "\n",
        "As the algorithm hasn't formed any clusters yet, so the initial centroids would be any random data points. Let’s say we want 3 clusters, so choose any 3 random data points as the cluster centroids.\n",
        "\n",
        "**Step 3: Assign each data point to the nearest  centroid**\n",
        "\n",
        "Once we have initialised the centroids, we assign each data point to the nearest cluster centroid.\n",
        "\n",
        "**Step 4: Recompute the centroids**\n",
        "\n",
        "Once all the data points to any of the cluster, compute the centroids of the newly formed clusters.\n",
        "\n",
        "**Step 5: Repeat steps 3 and 4**\n",
        "\n",
        "We then repeat steps 3 and 4 i.e. the step of computing the centroid and assigning all the data points to the nearest cluster based on their distance from the centroid.\n",
        "\n",
        "**When does the algorithm stops running?**\n",
        "\n",
        "K-means algorithm stops iterating when either the centroids of the newly formed clusters are not changing or the the data points remain in the same cluster even after multiple iterations.\n",
        "\n",
        "Refer the following flowchart to understand the working of K-Means algorithm:\n",
        "<center><img src=\"https://s3-whjr-v2-prod-bucket.whjr.online/cd367fbe-119a-4879-9249-4adf15fbee80.svg\"/></center>\n",
        "\n",
        "Let us now understand how K-Means performs clustering for the `Diameters` dataset.\n",
        "\n",
        "`Diameters = [1.3, 4, 3.2, 1.5, 3, 9, 3.6, 8, 8.3]`\n",
        "\n",
        " **Step 1:** Assume the number of clusters to be `3` i.e $K = 3$. You may choose any arbitrary value for $K$.\n",
        "\n",
        " **Step 2:** Assume first three data points as the three centroids:\n",
        "    - $\\bar{c_1} = 1.3$\n",
        "    - $\\bar{c_2} = 4$\n",
        "    - $\\bar{c_3} = 3.2$\n",
        "\n",
        "  **Note:** The initial centroid values are chosen arbitrarily. You can choose any other arbitrary centroid value.\n",
        "\n",
        " **Step 3:** Next, we will assign each data point to their closest cluster.\n",
        "  For example, consider the fourth data point `1.5`. The absolute distance of `1.5` from $\\bar{c_1}$, $\\bar{c_2}$ and $\\bar{c_3}$ are:\n",
        "    - $|1.5 - \\bar{c_1}| = |1.5 - 1.3| = 0.2$\n",
        "    - $|1.5 - \\bar{c_2}| = |1.5 - 4| = 2.5$\n",
        "    - $|1.5 - \\bar{c_3}| = |1.5 - 3.2| = 1.7$\n",
        "\n",
        "  As the absolute distance between `1.5` and $\\bar{c_1}$ is the least, we will assign `1.5` to cluster $C_1$.\n",
        "\n",
        "  Similarly, each data point will be assigned to their closest centroid. The following table shows the distance of each data point with each of the centroids.\n",
        "\n",
        "  **First Iteration:**\n",
        "  <img src=\"https://s3-whjr-v2-prod-bucket.whjr.online/47828d5b-0575-4bc0-a34f-72f4aa1b44c3.PNG\"/>\n",
        "\n",
        "  Thus, the clusters obtained from the above table are:\n",
        "  - $\\bar{c_1} = \\{1.3, 1.5\\}$\n",
        "  - $\\bar{c_2} = \\{4, 9, 3.6, 8, 8.3\\}$\n",
        "  - $\\bar{c_3} = \\{3.2, 3\\}$\n",
        "\n",
        " **Step 4:** After obtaining the newly formed clusters, update the value of cluster centers i.e the centroids. The *cluster center* is the arithmetic mean of all the points belonging to the cluster. (that is why, this algorithm is named as k-means)\n",
        " $$\\bar{c_1} = \\frac{1.3 + 1.5}{2} = 1.4$$\n",
        "\n",
        "  $$\\bar{c_2} = \\frac{4 + 9 + 3.6 + 8 + 8.3}{5} = 6.58$$\n",
        "\n",
        "  $$\\bar{c_3} = \\frac{3.2 + 3}{2} = 3.1$$\n",
        "\n",
        "  Thus, the new centroids are:\n",
        "  - $\\bar{c_1}= 1.4$\n",
        "  - $\\bar{c_2}=6.58$\n",
        "  -  $\\bar{c_3}=3.1$\n",
        "\n",
        "This completes the first iteration. Similarly, now again assign each data point to either of the cluster by calculating their absolute distance from the newly obtained centroids.\n",
        "\n",
        "Thus, the distance between each data point with the new centroids $\\bar{c_1}= 1.4$, $\\bar{c_2}=6.58$, $\\bar{c_3}=3.1$ are as given below:\n",
        "\n",
        "  **Second Iteration:**\n",
        "\n",
        "  <img src=\"https://s3-whjr-v2-prod-bucket.whjr.online/1a933ee9-754b-4543-9ff3-87f3e6d523d5.PNG\"/>\n",
        "\n",
        "Thus, the clusters obtained from the above table are:\n",
        "  - $C_1 = \\{1.3, 1.5\\}$\n",
        "  - $C_2 = \\{9, 8, 8.3\\}$\n",
        "  - $C_3 = \\{4, 3.2, 3, 3.6\\}$\n",
        "\n",
        "After computing the arithmetic mean of the above clusters, we obtained following new cluster centroids after second iteration:\n",
        "\n",
        "  - $\\bar{c_1}= 1.4$\n",
        "  - $\\bar{c_2}=8.43$\n",
        "  - $\\bar{c3}=3.45$\n",
        "\n",
        "Similarly, again assign each data point to either of the cluster by calculating their absolute distance from the newly obtained centroids.\n",
        "\n",
        "Thus, the distance between each data point with the new centroids  $\\bar{c_1}= 1.4$, $\\bar{c_2}=8.43$, $\\bar{c_3}=3.45$  are as given below:\n",
        "\n",
        " **Third Iteration:**\n",
        "\n",
        "  <img src=\"https://s3-whjr-v2-prod-bucket.whjr.online/7d9d774e-7643-49a4-968e-9a73ad0c7568.PNG\"/>\n",
        "\n",
        "Thus, the clusters obtained from the above table are:\n",
        "  - $C_1 = \\{1.3, 1.5\\}$\n",
        "  - $C_2 = \\{9, 8, 8.3\\}$\n",
        "  - $C_3 = \\{4, 3.2, 3, 3.6\\}$\n",
        "\n",
        "Refer the table below which shows the clusters obtained after each iteration:\n",
        "\n",
        "  <img src=\"https://s3-whjr-v2-prod-bucket.whjr.online/4fd0743b-f9ee-49ab-8a81-700af9025636.PNG\"/>\n",
        "\n",
        "You will observe that the data points remain in the same cluster after second iteration. This means that we have obtained our final clusters having following centroid values:\n",
        "  - $\\bar{c_1}= 1.4$\n",
        "  - $\\bar{c_2}=8.43$\n",
        "  - $\\bar{c_3}=3.45$\n",
        "\n",
        "Note that we had obtained same centroid values using `cluster_centers_` property on `kmeans_1d` object.\n"
      ]
    },
    {
      "cell_type": "code",
      "metadata": {
        "id": "F82ATwzfkIue",
        "colab": {
          "base_uri": "https://localhost:8080/"
        },
        "outputId": "09caea5e-c62b-45f4-ffb4-33b99bb149c9"
      },
      "source": [
        "# S2.1: Print the centroids again using 'kmeans_1d' object.\n",
        "km.cluster_centers_"
      ],
      "execution_count": null,
      "outputs": [
        {
          "output_type": "execute_result",
          "data": {
            "text/plain": [
              "array([[8.43333333],\n",
              "       [3.45      ],\n",
              "       [1.4       ]])"
            ]
          },
          "metadata": {},
          "execution_count": 18
        }
      ]
    },
    {
      "cell_type": "markdown",
      "metadata": {
        "id": "KWdFkSKW2K6_"
      },
      "source": [
        "---"
      ]
    },
    {
      "cell_type": "markdown",
      "metadata": {
        "id": "N-rAGy77dMJR"
      },
      "source": [
        "#### Activity 3: Clustering 2-Dimensional Dataset\n",
        "\n",
        "Let's create a random dataset in 2-dimensional space using the steps given below:\n",
        "\n",
        "1. Generate a 2D array of 100 rows and 2 columns. This array must consists of negative random numbers.\n",
        "2. Now replace last 50 rows of this array with 50 rows of positive random numbers.\n",
        "\n",
        "\n",
        "**Note:** Use `random.rand()` function of `numpy` module for generating random numbers. Also use `random.seed()` function of `numpy` module to obtain same random numbers on multiple execution of code."
      ]
    },
    {
      "cell_type": "code",
      "metadata": {
        "id": "ZflnEwaeY3iN",
        "colab": {
          "base_uri": "https://localhost:8080/"
        },
        "outputId": "81ad844f-3913-490c-e78f-e06b6a1573e4"
      },
      "source": [
        "# S3.1: Generate random data points for 2D clustering.\n",
        "np.random.seed(10)\n",
        "two_dim = -1 * np.random.rand(100,2)\n",
        "two_dim[50:100, :] = np.random.rand(50,2)\n",
        "two_dim"
      ],
      "execution_count": null,
      "outputs": [
        {
          "output_type": "execute_result",
          "data": {
            "text/plain": [
              "array([[-0.77132064, -0.02075195],\n",
              "       [-0.63364823, -0.74880388],\n",
              "       [-0.49850701, -0.22479665],\n",
              "       [-0.19806286, -0.76053071],\n",
              "       [-0.16911084, -0.08833981],\n",
              "       [-0.68535982, -0.95339335],\n",
              "       [-0.00394827, -0.51219226],\n",
              "       [-0.81262096, -0.61252607],\n",
              "       [-0.72175532, -0.29187607],\n",
              "       [-0.91777412, -0.71457578],\n",
              "       [-0.54254437, -0.14217005],\n",
              "       [-0.37334076, -0.67413362],\n",
              "       [-0.44183317, -0.43401399],\n",
              "       [-0.61776698, -0.51313824],\n",
              "       [-0.65039718, -0.60103895],\n",
              "       [-0.8052232 , -0.52164715],\n",
              "       [-0.90864888, -0.31923609],\n",
              "       [-0.09045935, -0.30070006],\n",
              "       [-0.11398436, -0.82868133],\n",
              "       [-0.04689632, -0.62628715],\n",
              "       [-0.54758616, -0.819287  ],\n",
              "       [-0.19894754, -0.8568503 ],\n",
              "       [-0.35165264, -0.75464769],\n",
              "       [-0.29596171, -0.88393648],\n",
              "       [-0.32551164, -0.1650159 ],\n",
              "       [-0.39252924, -0.09346037],\n",
              "       [-0.82110566, -0.15115202],\n",
              "       [-0.38411445, -0.94426071],\n",
              "       [-0.98762547, -0.45630455],\n",
              "       [-0.82612284, -0.25137413],\n",
              "       [-0.59737165, -0.90283176],\n",
              "       [-0.53455795, -0.59020136],\n",
              "       [-0.03928177, -0.35718176],\n",
              "       [-0.07961309, -0.30545992],\n",
              "       [-0.33071931, -0.7738303 ],\n",
              "       [-0.03995921, -0.42949218],\n",
              "       [-0.31492687, -0.63649114],\n",
              "       [-0.34634715, -0.04309736],\n",
              "       [-0.87991517, -0.76324059],\n",
              "       [-0.87809664, -0.41750914],\n",
              "       [-0.60557756, -0.51346663],\n",
              "       [-0.59783665, -0.26221566],\n",
              "       [-0.30087131, -0.02539978],\n",
              "       [-0.30306256, -0.24207588],\n",
              "       [-0.55757819, -0.56550702],\n",
              "       [-0.47513225, -0.29279798],\n",
              "       [-0.06425106, -0.97881915],\n",
              "       [-0.33970784, -0.49504863],\n",
              "       [-0.97708073, -0.44077382],\n",
              "       [-0.31827281, -0.51979699],\n",
              "       [ 0.81331608,  0.78486672],\n",
              "       [ 0.39341911,  0.86447919],\n",
              "       [ 0.38403077,  0.25730289],\n",
              "       [ 0.82940192,  0.7363827 ],\n",
              "       [ 0.50760091,  0.64432662],\n",
              "       [ 0.21318657,  0.89570895],\n",
              "       [ 0.96594625,  0.31700156],\n",
              "       [ 0.86555262,  0.31028371],\n",
              "       [ 0.02526395,  0.04919516],\n",
              "       [ 0.18462684,  0.06903334],\n",
              "       [ 0.25747542,  0.91358173],\n",
              "       [ 0.45784951,  0.13021179],\n",
              "       [ 0.80989167,  0.40346984],\n",
              "       [ 0.02443264,  0.85683104],\n",
              "       [ 0.27429482,  0.70910596],\n",
              "       [ 0.35577234,  0.79430906],\n",
              "       [ 0.84461886,  0.53814752],\n",
              "       [ 0.55908652,  0.12250998],\n",
              "       [ 0.37764192,  0.42874733],\n",
              "       [ 0.51120865,  0.89176257],\n",
              "       [ 0.30021061,  0.39644188],\n",
              "       [ 0.79327323,  0.41227608],\n",
              "       [ 0.18486755,  0.84024732],\n",
              "       [ 0.5692714 ,  0.06005021],\n",
              "       [ 0.98891697,  0.22878233],\n",
              "       [ 0.61470171,  0.36802668],\n",
              "       [ 0.80277594,  0.62756185],\n",
              "       [ 0.82121648,  0.28825314],\n",
              "       [ 0.27479513,  0.60105189],\n",
              "       [ 0.9385142 ,  0.70729631],\n",
              "       [ 0.26340316,  0.12233592],\n",
              "       [ 0.45872423,  0.9748125 ],\n",
              "       [ 0.68057437,  0.19325373],\n",
              "       [ 0.04673923,  0.95264394],\n",
              "       [ 0.85864902,  0.82790318],\n",
              "       [ 0.96390052,  0.59893645],\n",
              "       [ 0.93091584,  0.14676881],\n",
              "       [ 0.11396031,  0.3720289 ],\n",
              "       [ 0.76656013,  0.32114203],\n",
              "       [ 0.63803508,  0.0092211 ],\n",
              "       [ 0.54346504,  0.33775465],\n",
              "       [ 0.89802431,  0.94070704],\n",
              "       [ 0.38412185,  0.39611779],\n",
              "       [ 0.89727994,  0.05882237],\n",
              "       [ 0.40537929,  0.13017554],\n",
              "       [ 0.08696941,  0.78396429],\n",
              "       [ 0.30457336,  0.58405587],\n",
              "       [ 0.87846618,  0.88079206],\n",
              "       [ 0.60095421,  0.64522775],\n",
              "       [ 0.0566282 ,  0.2974841 ]])"
            ]
          },
          "metadata": {},
          "execution_count": 26
        }
      ]
    },
    {
      "cell_type": "markdown",
      "metadata": {
        "id": "poFzflLjXJDp"
      },
      "source": [
        "Next, create a scatter plot to visualise the above 2D array. For this,\n",
        "\n",
        "1. Pass the first column of the above array for $x$-axis.\n",
        "2. Pass the second column of the above array for $y$-axis.\n",
        "\n"
      ]
    },
    {
      "cell_type": "code",
      "metadata": {
        "id": "Rxveer0jF1pi",
        "colab": {
          "base_uri": "https://localhost:8080/",
          "height": 676
        },
        "outputId": "d058a488-50ec-44e4-9427-937446048972"
      },
      "source": [
        "# S3.2: Plot the 2D array.\n",
        "plt.figure(figsize = (10,8))\n",
        "plt.scatter(two_dim[:, 0], two_dim[:, 1])\n",
        "plt.show()"
      ],
      "execution_count": null,
      "outputs": [
        {
          "output_type": "display_data",
          "data": {
            "text/plain": [
              "<Figure size 1000x800 with 1 Axes>"
            ],
            "image/png": "[encoded data removed]"
          },
          "metadata": {}
        }
      ]
    },
    {
      "cell_type": "markdown",
      "metadata": {
        "id": "ZvMCbtl_YPhf"
      },
      "source": [
        "Let us apply K-Means clustering to the above generated 2D dataset. From the scatter plot, it is clearly visible that two clusters can be obtained for this dataset i.e `k = 2`.\n",
        "\n",
        "**Note:** For a real world dataset, it is not always possible to decide correct value of `k` (number of clusters) by simply looking at the graph. There are several methods to find the best value of `k`. We will discuss them in the upcoming section.\n",
        "\n",
        "\n",
        "Now, create an object (say `kmeans_2d`) of the `KMeans` constructor and pass following values as input to the constructor:\n",
        "\n",
        "  - `n_clusters = 2`.\n",
        "\n",
        "  - `random_state = 10`.\n",
        "\n",
        "Next, train the model and determine the cluster labels."
      ]
    },
    {
      "cell_type": "code",
      "metadata": {
        "id": "D20B0FSzx1TY",
        "colab": {
          "base_uri": "https://localhost:8080/"
        },
        "outputId": "41f5fffc-227f-4a8a-cfd8-fc685429d590"
      },
      "source": [
        "# S3.3: Determine the clusters for 2D dataset.\n",
        "km2 = KMeans(n_clusters = 2, random_state = 10)\n",
        "km2.fit(two_dim)\n",
        "km2_pred = km2.predict(two_dim)"
      ],
      "execution_count": null,
      "outputs": [
        {
          "output_type": "stream",
          "name": "stderr",
          "text": [
            "/usr/local/lib/python3.10/dist-packages/sklearn/cluster/_kmeans.py:870: FutureWarning: The default value of `n_init` will change from 10 to 'auto' in 1.4. Set the value of `n_init` explicitly to suppress the warning\n",
            "  warnings.warn(\n"
          ]
        }
      ]
    },
    {
      "cell_type": "markdown",
      "metadata": {
        "id": "S-soDfJyyPAs"
      },
      "source": [
        "As you can see in the output, our 2D data is divided into 2 clusters where,\n",
        "- The first cluster is labelled as `0`.\n",
        "- The second cluster is labelled as `1`.\n",
        "\n",
        "\n",
        "Now, print the cluster’s centers or centroids picked by k-means Python estimator using `cluster_centers_` attribute."
      ]
    },
    {
      "cell_type": "code",
      "metadata": {
        "id": "eRAsNvDrY3cv",
        "colab": {
          "base_uri": "https://localhost:8080/"
        },
        "outputId": "4ee89e3f-6ab2-4970-dd27-23918836ee88"
      },
      "source": [
        "# S3.4: Determine the centroids using KMeans\n",
        "km2.cluster_centers_"
      ],
      "execution_count": null,
      "outputs": [
        {
          "output_type": "execute_result",
          "data": {
            "text/plain": [
              "array([[-0.4742904 , -0.49640719],\n",
              "       [ 0.53440969,  0.49642787]])"
            ]
          },
          "metadata": {},
          "execution_count": 31
        }
      ]
    },
    {
      "cell_type": "markdown",
      "metadata": {
        "id": "rUPUdwDxeOC2"
      },
      "source": [
        "In the above output, the k-means estimator determined the cluster centers for the two clusters. The cluster centers  array has two columns as our dataset is 2D. The first column indicates $x$-axis values and the second column indicates $y$-axis values.\n",
        "\n",
        "Let us plot the obtained clusters and visualize the cluster’s centers using a scatter plot."
      ]
    },
    {
      "cell_type": "code",
      "metadata": {
        "id": "N731eVcRfQ8S",
        "colab": {
          "base_uri": "https://localhost:8080/",
          "height": 676
        },
        "outputId": "c5102341-b95e-486c-ce7d-adbcd67d841a"
      },
      "source": [
        "# S3.5: Plot the datapoints corresponding to clusters\n",
        "plt.figure(figsize = (10,8))\n",
        "plt.scatter(two_dim[:, 0], two_dim[:, 1])\n",
        "plt.scatter(km2.cluster_centers_[:, 0], km2.cluster_centers_[:, 1], marker = '*', s =  200)\n",
        "plt.show()"
      ],
      "execution_count": null,
      "outputs": [
        {
          "output_type": "display_data",
          "data": {
            "text/plain": [
              "<Figure size 1000x800 with 1 Axes>"
            ],
            "image/png": "[encoded data removed]"
          },
          "metadata": {}
        }
      ]
    },
    {
      "cell_type": "markdown",
      "metadata": {
        "id": "OGGH8GJH1K0s"
      },
      "source": [
        "In the above plot, you may observe that we obtained two clusters with their respective cluster centers marked with `x` mark.\n",
        "\n",
        "- The purple coloured cluster with the centroid located at `[-0.51390814, -0.40614835]`.\n",
        "\n",
        "- The yellow coloured cluster with the centroid located at `[0.53088384, 0.54057735]`.\n",
        "\n",
        "\n"
      ]
    },
    {
      "cell_type": "markdown",
      "metadata": {
        "id": "eZwvHAWO3dr1"
      },
      "source": [
        "---"
      ]
    },
    {
      "cell_type": "markdown",
      "metadata": {
        "id": "yzFrWAIepiIL"
      },
      "source": [
        "#### Activity 4: Cluster Visualisation using Interactive Plot\n",
        "\n",
        "We can also obtain an interactive scatter plot using `plotly.express`. It enables us to know the coordinates of a datapoint when we hover the mouse pointer over the respective datapoint on the plot.\n",
        "\n",
        "For interactive plot, import `plotly.express` module."
      ]
    },
    {
      "cell_type": "code",
      "metadata": {
        "id": "ZR2Lx7tqssiv",
        "colab": {
          "base_uri": "https://localhost:8080/",
          "height": 542
        },
        "outputId": "bdd7adb7-e985-40db-f7b1-a675ea499949"
      },
      "source": [
        "# S4.1: Import the required module for interactive plot.\n",
        "import plotly.express as px\n",
        "px_plot = px.scatter(two_dim, x = two_dim[:, 0 ], y = two_dim[:, 1], color = km2_pred, color_continuous_scale = 'geyser')\n",
        "px_plot.show()"
      ],
      "execution_count": null,
      "outputs": [
        {
          "output_type": "display_data",
          "data": {
            "text/html": [
              "<html>\n",
              "<head><meta charset=\"utf-8\" /></head>\n",
              "<body>\n",
              "    <div>            <script src=\"https://cdnjs.cloudflare.com/ajax/libs/mathjax/2.7.5/MathJax.js?config=TeX-AMS-MML_SVG\"></script><script type=\"text/javascript\">if (window.MathJax && window.MathJax.Hub && window.MathJax.Hub.Config) {window.MathJax.Hub.Config({SVG: {font: \"STIX-Web\"}});}</script>                <script type=\"text/javascript\">window.PlotlyConfig = {MathJaxConfig: 'local'};</script>\n",
              "        <script src=\"https://cdn.plot.ly/plotly-2.18.2.min.js\"></script>                <div id=\"d07275b7-8b75-4683-a28f-d851492956c2\" class=\"plotly-graph-div\" style=\"height:525px; width:100%;\"></div>            <script type=\"text/javascript\">                                    window.PLOTLYENV=window.PLOTLYENV || {};                                    if (document.getElementById(\"d07275b7-8b75-4683-a28f-d851492956c2\")) {                    Plotly.newPlot(                        \"d07275b7-8b75-4683-a28f-d851492956c2\",                        [{\"hovertemplate\":\"x=%{x}<br>y=%{y}<br>color=%{marker.color}<extra></extra>\",\"legendgroup\":\"\",\"marker\":{\"color\":[0,0,0,0,0,0,0,0,0,0,0,0,0,0,0,0,0,0,0,0,0,0,0,0,0,0,0,0,0,0,0,0,0,0,0,0,0,0,0,0,0,0,0,0,0,0,0,0,0,0,1,1,1,1,1,1,1,1,1,1,1,1,1,1,1,1,1,1,1,1,1,1,1,1,1,1,1,1,1,1,1,1,1,1,1,1,1,1,1,1,1,1,1,1,1,1,1,1,1,1],\"coloraxis\":\"coloraxis\",\"symbol\":\"circle\"},\"mode\":\"markers\",\"name\":\"\",\"orientation\":\"v\",\"showlegend\":false,\"x\":[-0.771320643266746,-0.6336482349262754,-0.4985070123025904,-0.19806286475962398,-0.16911083656253545,-0.6853598183677972,-0.003948266327914451,-0.8126209616521135,-0.7217553174317995,-0.9177741225129434,-0.5425443680112613,-0.3733407600514692,-0.4418331744229961,-0.6177669784693172,-0.6503971819314672,-0.8052231968327465,-0.9086488808086682,-0.09045934927090737,-0.11398436186354977,-0.04689631938924976,-0.5475861559192435,-0.1989475396788123,-0.3516526394320879,-0.2959617068796787,-0.3255116378322488,-0.3925292439465873,-0.8211056578369285,-0.3841144486921996,-0.9876254749018722,-0.8261228438427398,-0.5973716482308843,-0.5345579488018151,-0.03928176722538734,-0.07961309015596418,-0.330719311982132,-0.039959208689977266,-0.3149268718426883,-0.34634715008003303,-0.879915174517916,-0.8780966427248583,-0.6055775643937568,-0.5978366479629736,-0.30087130894070724,-0.30306256065103476,-0.5575781886626442,-0.47513224741505056,-0.06425106069482445,-0.33970784363786366,-0.9770807259226818,-0.3182728054789512,0.8133160836708041,0.3934191124365154,0.38403076811573245,0.8294019198272359,0.5076009080549594,0.2131865653786481,0.9659462515078151,0.8655526182272831,0.025263945431817092,0.1846268380142655,0.2574754234045431,0.4578495119744105,0.8098916654001787,0.02443264498316411,0.2742948190153962,0.3557723428236633,0.8446188611438505,0.5590865164032583,0.37764191857408025,0.5112086462854654,0.3002106115940131,0.7932732330276141,0.18486754999091237,0.5692713997012885,0.9889169741962012,0.6147017129801696,0.8027759363482464,0.8212164761982603,0.2747951315927687,0.9385141972093375,0.26340316495675753,0.45872422918986366,0.6805743744444447,0.046739227161395,0.8586490154684265,0.9639005228382829,0.9309158358477515,0.11396030875469221,0.7665601265709068,0.6380350813446267,0.543465038474916,0.8980243088495153,0.3841218491535694,0.897279944819348,0.40537928842956905,0.08696940892461757,0.3045733553466201,0.8784661784266631,0.6009542072456764,0.05662820283810621],\"xaxis\":\"x\",\"y\":[-0.0207519493594015,-0.7488038825386119,-0.22479664553084766,-0.7605307121989587,-0.08833981417401027,-0.9533933461949365,-0.5121922633857766,-0.6125260668293881,-0.29187606817063316,-0.7145757833976906,-0.14217004760152696,-0.6741336150663453,-0.4340139933332937,-0.5131382425543909,-0.6010389534045444,-0.5216471523936341,-0.3192360889885453,-0.30070005663620336,-0.8286813263076767,-0.6262871483113925,-0.8192869956700687,-0.8568503024577332,-0.7546476915298572,-0.8839364795611863,-0.16501589771914849,-0.0934603745586503,-0.15115201964256386,-0.9442607122388011,-0.4563045470947841,-0.25137413420705934,-0.9028317603316274,-0.5902013629854229,-0.3571817586345363,-0.30545991834281827,-0.7738302962105958,-0.42949217843163834,-0.6364911430675446,-0.04309735620499444,-0.763240587143681,-0.41750914383926696,-0.5134666274082884,-0.2622156611319503,-0.025399782050106068,-0.24207587540352737,-0.5655070198881675,-0.2927979762895091,-0.9788191457576426,-0.4950486308824543,-0.4407738249006665,-0.5197969858753801,0.7848667182769469,0.8644791938019533,0.2573028872050038,0.7363827038385634,0.644326615041417,0.8957089487035581,0.31700156230578813,0.310283706940119,0.049195157773728626,0.06903334161725405,0.9135817315706746,0.13021178947959489,0.40346984048066603,0.8568310426277526,0.7091059640719906,0.7943090618265342,0.5381475171399585,0.12250998143741987,0.4287473291290427,0.8917625699356942,0.3964418788784505,0.41227607735340066,0.8402473160883905,0.060050205550819635,0.22878233320196528,0.3680266808354594,0.6275618527056289,0.28825313879221637,0.60105189113251,0.7072963093414373,0.12233592111500502,0.9748124993966691,0.19325373228646103,0.9526439367706239,0.8279031757485712,0.5989364490726748,0.1467688142787268,0.37202890217383444,0.32114203146495945,0.009221101669878884,0.33775464688518353,0.9407070384832232,0.39611779234059696,0.058822368101847045,0.1301755406309124,0.7839642869589878,0.584055872555269,0.8807920606135405,0.6452277456840332,0.2974840969759218],\"yaxis\":\"y\",\"type\":\"scatter\"}],                        {\"template\":{\"data\":{\"histogram2dcontour\":[{\"type\":\"histogram2dcontour\",\"colorbar\":{\"outlinewidth\":0,\"ticks\":\"\"},\"colorscale\":[[0.0,\"#0d0887\"],[0.1111111111111111,\"#46039f\"],[0.2222222222222222,\"#7201a8\"],[0.3333333333333333,\"#9c179e\"],[0.4444444444444444,\"#bd3786\"],[0.5555555555555556,\"#d8576b\"],[0.6666666666666666,\"#ed7953\"],[0.7777777777777778,\"#fb9f3a\"],[0.8888888888888888,\"#fdca26\"],[1.0,\"#f0f921\"]]}],\"choropleth\":[{\"type\":\"choropleth\",\"colorbar\":{\"outlinewidth\":0,\"ticks\":\"\"}}],\"histogram2d\":[{\"type\":\"histogram2d\",\"colorbar\":{\"outlinewidth\":0,\"ticks\":\"\"},\"colorscale\":[[0.0,\"#0d0887\"],[0.1111111111111111,\"#46039f\"],[0.2222222222222222,\"#7201a8\"],[0.3333333333333333,\"#9c179e\"],[0.4444444444444444,\"#bd3786\"],[0.5555555555555556,\"#d8576b\"],[0.6666666666666666,\"#ed7953\"],[0.7777777777777778,\"#fb9f3a\"],[0.8888888888888888,\"#fdca26\"],[1.0,\"#f0f921\"]]}],\"heatmap\":[{\"type\":\"heatmap\",\"colorbar\":{\"outlinewidth\":0,\"ticks\":\"\"},\"colorscale\":[[0.0,\"#0d0887\"],[0.1111111111111111,\"#46039f\"],[0.2222222222222222,\"#7201a8\"],[0.3333333333333333,\"#9c179e\"],[0.4444444444444444,\"#bd3786\"],[0.5555555555555556,\"#d8576b\"],[0.6666666666666666,\"#ed7953\"],[0.7777777777777778,\"#fb9f3a\"],[0.8888888888888888,\"#fdca26\"],[1.0,\"#f0f921\"]]}],\"heatmapgl\":[{\"type\":\"heatmapgl\",\"colorbar\":{\"outlinewidth\":0,\"ticks\":\"\"},\"colorscale\":[[0.0,\"#0d0887\"],[0.1111111111111111,\"#46039f\"],[0.2222222222222222,\"#7201a8\"],[0.3333333333333333,\"#9c179e\"],[0.4444444444444444,\"#bd3786\"],[0.5555555555555556,\"#d8576b\"],[0.6666666666666666,\"#ed7953\"],[0.7777777777777778,\"#fb9f3a\"],[0.8888888888888888,\"#fdca26\"],[1.0,\"#f0f921\"]]}],\"contourcarpet\":[{\"type\":\"contourcarpet\",\"colorbar\":{\"outlinewidth\":0,\"ticks\":\"\"}}],\"contour\":[{\"type\":\"contour\",\"colorbar\":{\"outlinewidth\":0,\"ticks\":\"\"},\"colorscale\":[[0.0,\"#0d0887\"],[0.1111111111111111,\"#46039f\"],[0.2222222222222222,\"#7201a8\"],[0.3333333333333333,\"#9c179e\"],[0.4444444444444444,\"#bd3786\"],[0.5555555555555556,\"#d8576b\"],[0.6666666666666666,\"#ed7953\"],[0.7777777777777778,\"#fb9f3a\"],[0.8888888888888888,\"#fdca26\"],[1.0,\"#f0f921\"]]}],\"surface\":[{\"type\":\"surface\",\"colorbar\":{\"outlinewidth\":0,\"ticks\":\"\"},\"colorscale\":[[0.0,\"#0d0887\"],[0.1111111111111111,\"#46039f\"],[0.2222222222222222,\"#7201a8\"],[0.3333333333333333,\"#9c179e\"],[0.4444444444444444,\"#bd3786\"],[0.5555555555555556,\"#d8576b\"],[0.6666666666666666,\"#ed7953\"],[0.7777777777777778,\"#fb9f3a\"],[0.8888888888888888,\"#fdca26\"],[1.0,\"#f0f921\"]]}],\"mesh3d\":[{\"type\":\"mesh3d\",\"colorbar\":{\"outlinewidth\":0,\"ticks\":\"\"}}],\"scatter\":[{\"fillpattern\":{\"fillmode\":\"overlay\",\"size\":10,\"solidity\":0.2},\"type\":\"scatter\"}],\"parcoords\":[{\"type\":\"parcoords\",\"line\":{\"colorbar\":{\"outlinewidth\":0,\"ticks\":\"\"}}}],\"scatterpolargl\":[{\"type\":\"scatterpolargl\",\"marker\":{\"colorbar\":{\"outlinewidth\":0,\"ticks\":\"\"}}}],\"bar\":[{\"error_x\":{\"color\":\"#2a3f5f\"},\"error_y\":{\"color\":\"#2a3f5f\"},\"marker\":{\"line\":{\"color\":\"#E5ECF6\",\"width\":0.5},\"pattern\":{\"fillmode\":\"overlay\",\"size\":10,\"solidity\":0.2}},\"type\":\"bar\"}],\"scattergeo\":[{\"type\":\"scattergeo\",\"marker\":{\"colorbar\":{\"outlinewidth\":0,\"ticks\":\"\"}}}],\"scatterpolar\":[{\"type\":\"scatterpolar\",\"marker\":{\"colorbar\":{\"outlinewidth\":0,\"ticks\":\"\"}}}],\"histogram\":[{\"marker\":{\"pattern\":{\"fillmode\":\"overlay\",\"size\":10,\"solidity\":0.2}},\"type\":\"histogram\"}],\"scattergl\":[{\"type\":\"scattergl\",\"marker\":{\"colorbar\":{\"outlinewidth\":0,\"ticks\":\"\"}}}],\"scatter3d\":[{\"type\":\"scatter3d\",\"line\":{\"colorbar\":{\"outlinewidth\":0,\"ticks\":\"\"}},\"marker\":{\"colorbar\":{\"outlinewidth\":0,\"ticks\":\"\"}}}],\"scattermapbox\":[{\"type\":\"scattermapbox\",\"marker\":{\"colorbar\":{\"outlinewidth\":0,\"ticks\":\"\"}}}],\"scatterternary\":[{\"type\":\"scatterternary\",\"marker\":{\"colorbar\":{\"outlinewidth\":0,\"ticks\":\"\"}}}],\"scattercarpet\":[{\"type\":\"scattercarpet\",\"marker\":{\"colorbar\":{\"outlinewidth\":0,\"ticks\":\"\"}}}],\"carpet\":[{\"aaxis\":{\"endlinecolor\":\"#2a3f5f\",\"gridcolor\":\"white\",\"linecolor\":\"white\",\"minorgridcolor\":\"white\",\"startlinecolor\":\"#2a3f5f\"},\"baxis\":{\"endlinecolor\":\"#2a3f5f\",\"gridcolor\":\"white\",\"linecolor\":\"white\",\"minorgridcolor\":\"white\",\"startlinecolor\":\"#2a3f5f\"},\"type\":\"carpet\"}],\"table\":[{\"cells\":{\"fill\":{\"color\":\"#EBF0F8\"},\"line\":{\"color\":\"white\"}},\"header\":{\"fill\":{\"color\":\"#C8D4E3\"},\"line\":{\"color\":\"white\"}},\"type\":\"table\"}],\"barpolar\":[{\"marker\":{\"line\":{\"color\":\"#E5ECF6\",\"width\":0.5},\"pattern\":{\"fillmode\":\"overlay\",\"size\":10,\"solidity\":0.2}},\"type\":\"barpolar\"}],\"pie\":[{\"automargin\":true,\"type\":\"pie\"}]},\"layout\":{\"autotypenumbers\":\"strict\",\"colorway\":[\"#636efa\",\"#EF553B\",\"#00cc96\",\"#ab63fa\",\"#FFA15A\",\"#19d3f3\",\"#FF6692\",\"#B6E880\",\"#FF97FF\",\"#FECB52\"],\"font\":{\"color\":\"#2a3f5f\"},\"hovermode\":\"closest\",\"hoverlabel\":{\"align\":\"left\"},\"paper_bgcolor\":\"white\",\"plot_bgcolor\":\"#E5ECF6\",\"polar\":{\"bgcolor\":\"#E5ECF6\",\"angularaxis\":{\"gridcolor\":\"white\",\"linecolor\":\"white\",\"ticks\":\"\"},\"radialaxis\":{\"gridcolor\":\"white\",\"linecolor\":\"white\",\"ticks\":\"\"}},\"ternary\":{\"bgcolor\":\"#E5ECF6\",\"aaxis\":{\"gridcolor\":\"white\",\"linecolor\":\"white\",\"ticks\":\"\"},\"baxis\":{\"gridcolor\":\"white\",\"linecolor\":\"white\",\"ticks\":\"\"},\"caxis\":{\"gridcolor\":\"white\",\"linecolor\":\"white\",\"ticks\":\"\"}},\"coloraxis\":{\"colorbar\":{\"outlinewidth\":0,\"ticks\":\"\"}},\"colorscale\":{\"sequential\":[[0.0,\"#0d0887\"],[0.1111111111111111,\"#46039f\"],[0.2222222222222222,\"#7201a8\"],[0.3333333333333333,\"#9c179e\"],[0.4444444444444444,\"#bd3786\"],[0.5555555555555556,\"#d8576b\"],[0.6666666666666666,\"#ed7953\"],[0.7777777777777778,\"#fb9f3a\"],[0.8888888888888888,\"#fdca26\"],[1.0,\"#f0f921\"]],\"sequentialminus\":[[0.0,\"#0d0887\"],[0.1111111111111111,\"#46039f\"],[0.2222222222222222,\"#7201a8\"],[0.3333333333333333,\"#9c179e\"],[0.4444444444444444,\"#bd3786\"],[0.5555555555555556,\"#d8576b\"],[0.6666666666666666,\"#ed7953\"],[0.7777777777777778,\"#fb9f3a\"],[0.8888888888888888,\"#fdca26\"],[1.0,\"#f0f921\"]],\"diverging\":[[0,\"#8e0152\"],[0.1,\"#c51b7d\"],[0.2,\"#de77ae\"],[0.3,\"#f1b6da\"],[0.4,\"#fde0ef\"],[0.5,\"#f7f7f7\"],[0.6,\"#e6f5d0\"],[0.7,\"#b8e186\"],[0.8,\"#7fbc41\"],[0.9,\"#4d9221\"],[1,\"#276419\"]]},\"xaxis\":{\"gridcolor\":\"white\",\"linecolor\":\"white\",\"ticks\":\"\",\"title\":{\"standoff\":15},\"zerolinecolor\":\"white\",\"automargin\":true,\"zerolinewidth\":2},\"yaxis\":{\"gridcolor\":\"white\",\"linecolor\":\"white\",\"ticks\":\"\",\"title\":{\"standoff\":15},\"zerolinecolor\":\"white\",\"automargin\":true,\"zerolinewidth\":2},\"scene\":{\"xaxis\":{\"backgroundcolor\":\"#E5ECF6\",\"gridcolor\":\"white\",\"linecolor\":\"white\",\"showbackground\":true,\"ticks\":\"\",\"zerolinecolor\":\"white\",\"gridwidth\":2},\"yaxis\":{\"backgroundcolor\":\"#E5ECF6\",\"gridcolor\":\"white\",\"linecolor\":\"white\",\"showbackground\":true,\"ticks\":\"\",\"zerolinecolor\":\"white\",\"gridwidth\":2},\"zaxis\":{\"backgroundcolor\":\"#E5ECF6\",\"gridcolor\":\"white\",\"linecolor\":\"white\",\"showbackground\":true,\"ticks\":\"\",\"zerolinecolor\":\"white\",\"gridwidth\":2}},\"shapedefaults\":{\"line\":{\"color\":\"#2a3f5f\"}},\"annotationdefaults\":{\"arrowcolor\":\"#2a3f5f\",\"arrowhead\":0,\"arrowwidth\":1},\"geo\":{\"bgcolor\":\"white\",\"landcolor\":\"#E5ECF6\",\"subunitcolor\":\"white\",\"showland\":true,\"showlakes\":true,\"lakecolor\":\"white\"},\"title\":{\"x\":0.05},\"mapbox\":{\"style\":\"light\"}}},\"xaxis\":{\"anchor\":\"y\",\"domain\":[0.0,1.0],\"title\":{\"text\":\"x\"}},\"yaxis\":{\"anchor\":\"x\",\"domain\":[0.0,1.0],\"title\":{\"text\":\"y\"}},\"coloraxis\":{\"colorbar\":{\"title\":{\"text\":\"color\"}},\"colorscale\":[[0.0,\"rgb(0, 128, 128)\"],[0.16666666666666666,\"rgb(112, 164, 148)\"],[0.3333333333333333,\"rgb(180, 200, 168)\"],[0.5,\"rgb(246, 237, 189)\"],[0.6666666666666666,\"rgb(237, 187, 138)\"],[0.8333333333333334,\"rgb(222, 138, 90)\"],[1.0,\"rgb(202, 86, 44)\"]]},\"legend\":{\"tracegroupgap\":0},\"margin\":{\"t\":60}},                        {\"responsive\": true}                    ).then(function(){\n",
              "                            \n",
              "var gd = document.getElementById('d07275b7-8b75-4683-a28f-d851492956c2');\n",
              "var x = new MutationObserver(function (mutations, observer) {{\n",
              "        var display = window.getComputedStyle(gd).display;\n",
              "        if (!display || display === 'none') {{\n",
              "            console.log([gd, 'removed!']);\n",
              "            Plotly.purge(gd);\n",
              "            observer.disconnect();\n",
              "        }}\n",
              "}});\n",
              "\n",
              "// Listen for the removal of the full notebook cells\n",
              "var notebookContainer = gd.closest('#notebook-container');\n",
              "if (notebookContainer) {{\n",
              "    x.observe(notebookContainer, {childList: true});\n",
              "}}\n",
              "\n",
              "// Listen for the clearing of the current output cell\n",
              "var outputEl = gd.closest('.output');\n",
              "if (outputEl) {{\n",
              "    x.observe(outputEl, {childList: true});\n",
              "}}\n",
              "\n",
              "                        })                };                            </script>        </div>\n",
              "</body>\n",
              "</html>"
            ]
          },
          "metadata": {}
        }
      ]
    },
    {
      "cell_type": "markdown",
      "metadata": {
        "id": "s2420WDO5i9w"
      },
      "source": [
        "Next, use `scatter()` function  of `plotly.express` module to obtain an interactive scatter plot for the clusters determined by the K-Means estimator. Pass the following parameters to this `scatter()` function:\n",
        "\n",
        "- Entire dataset: `two_dim`\n",
        "\n",
        "- The x-axis data-points: `x = two_dim[:, 0]`\n",
        "\n",
        "- The y-axis data-points: `y = two_dim[:, 1]`\n",
        "\n",
        "- To colour code the datapoints with respect to the cluster, pass `color = labels_2d`\n",
        "\n",
        "- To select the colour palette in the `plotly`,  pass `color_continuous_scale = geyser`\n",
        "\n",
        "**Note:** You can visit this [Plotly](https://plotly.com/python/builtin-colorscales/) website to explore various colour palette options for `color_continuous_scale` parameter.\n",
        "\n",
        "You can get more details on `scatter()` function of `plotly.express` module using the `help()` function."
      ]
    },
    {
      "cell_type": "markdown",
      "metadata": {
        "id": "SdnbhKxt1uNP"
      },
      "source": [
        "---"
      ]
    },
    {
      "cell_type": "markdown",
      "metadata": {
        "id": "vWTZnihW1il7"
      },
      "source": [
        "#### Activity 5: Euclidean Distance for n-dimensional Dataset\n",
        "\n",
        "For one-dimensional dataset, the K-means algorithm used absolute distance to calculate the distance between two data points. However, n-dimensional dataset, K-means clustering uses the **Euclidean Distance** method to find out the distance between the points.\n",
        "\n",
        "**The Pythagoras theorem:**\n",
        "\n",
        "The Pythagoras theorem states that *in right triangles, the squared length of the hypotenuse equals the sum of squared lengths of other sides.*\n",
        "\n",
        "<center>\n",
        "<img src =\"https://s3-whjr-v2-prod-bucket.whjr.online/f835c872-fec5-41b7-98c4-53122d8ced81.jpg\"/></center>\n",
        "\n",
        "\n",
        "\n",
        "Consider the points A: $(x_1 , y_1)$, and B: $(x_2 , y_2)$. in a 2-dimensional cartesian space.\n",
        "\n",
        "<center>\n",
        "<img src = https://s3-whjr-v2-prod-bucket.whjr.online/bfcf44d3-a56a-4b21-9b9d-ecb32676d77a.png height=500></center>\n",
        "\n",
        "The **Euclidean Distance** between these points can be calculated from the Cartesian coordinates of the points using the Pythagorean theorem:\n",
        "\n",
        "\\begin{align}\n",
        "  AB^2 = AO^2 + OB^2\n",
        "\\end{align}\n",
        "\n",
        "\\begin{align}\n",
        "  AB = \\sqrt{AO^2 + OB^2}\n",
        "\\end{align}\n",
        "\n",
        "<br>\n",
        "\n",
        "\\begin{align}\n",
        "  AB = \\sqrt{(x_2 - x_1)^2 + (y_2 - y_1)^2 }\n",
        "\\end{align}\n",
        "\n",
        "<br>\n",
        "\n",
        "\n",
        "**Generalising the Euclidean Distance for n-dimensions**:\n",
        "\n",
        "Consider two points $p$ and $q$ in $n$-dimensional space represented by coordinates:\n",
        "\n",
        "\\begin{align}\n",
        "  p = (p_0, p_1,\\dots, p_n)\n",
        "\\end{align}\n",
        "\n",
        "\n",
        "\\begin{align}\n",
        "  q = (q_0, q_1, \\dots, q_n)\n",
        "\\end{align}\n",
        "\n",
        "The Euclidean distance between these two points can be calculated using as an extension of Pythagoras theorem.\n",
        "\n",
        "\n",
        "\\begin{align}\n",
        "  d(p,q) = \\sqrt{\\sum_{i = 1}^{n} (p_i - q_i)^2}\n",
        "\\end{align}\n",
        "\n",
        "Where,\n",
        "\n",
        "> $p,q$ are two points in n-dimensional space\n",
        "\n",
        "> $p_i$, $q_i$ are Euclidean vectors\n",
        "\n",
        "> $n$ is the n-dimensional space\n",
        "\n",
        "\n",
        "For points $(x_1,y_1,z_1)$ and $(x_2,y_2,z_2)$ in 3-dimensional space,\n",
        "\n",
        "the Euclidean distance between them is $\\sqrt{(x_2−x_1)^2 + (y_2−y_1)^2 + (z_2−z_1)^2}$.\n",
        "\n",
        "For example,\n",
        "\n",
        "- The Euclidean distance between $(1,3)$ and $(2,0)$ is:\n",
        "\n",
        "  $\\sqrt{(2-1)^2 + (0-3)^2}=\\sqrt{1 + 9} =\\sqrt{10}$\n",
        "\n",
        "- The Euclidean distance between $(−1,2,3)$ and $(4,0,−3)$ is:\n",
        "\n",
        "   $\\sqrt{(4-(-1))^2 + (0-2)^2 + (-3-3)^2}=\\sqrt{25+4+36}=\\sqrt{65}$\n",
        "\n",
        "In this way, the K-Means algorithm uses Euclidean distance to calculate the distance between centroid and data points to form a cluster.\n",
        "\n",
        "We will stop here. In the next class, we will discuss different methods by which we can select an optimal number of clusters (`K`) for K-Means clustering.\n"
      ]
    },
    {
      "cell_type": "markdown",
      "metadata": {
        "id": "xZCpql7h1xFD"
      },
      "source": [
        "---"
      ]
    },
    {
      "cell_type": "markdown",
      "metadata": {
        "id": "MwBqoGzIpfm5"
      },
      "source": [
        "### **Project**\n",
        "You can now attempt the **Applied Tech. Project 107 - KMeans Clustering I** on your own.\n",
        "\n",
        "**Applied Tech. Project 107 - KMeans Clustering I**: https://colab.research.google.com/drive/1cRB1z5MR4Hb3QFuJWe8VHKhxjD1WgY6K"
      ]
    },
    {
      "cell_type": "markdown",
      "metadata": {
        "id": "SySEepRCpnzv"
      },
      "source": [
        "---"
      ]
    }
  ]
}