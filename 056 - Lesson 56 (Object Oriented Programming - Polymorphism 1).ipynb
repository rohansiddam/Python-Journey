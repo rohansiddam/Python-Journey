{
  "nbformat": 4,
  "nbformat_minor": 0,
  "metadata": {
    "colab": {
      "provenance": [],
      "include_colab_link": true
    },
    "kernelspec": {
      "name": "python3",
      "display_name": "Python 3"
    }
  },
  "cells": [
    {
      "cell_type": "markdown",
      "metadata": {
        "id": "view-in-github",
        "colab_type": "text"
      },
      "source": [
        "<a href=\"https://colab.research.google.com/github/rohansiddam/Python-Journey/blob/main/056%20-%20Lesson%2056%20(Object%20Oriented%20Programming%20-%20Polymorphism%201).ipynb\" target=\"_parent\"><img src=\"https://colab.research.google.com/assets/colab-badge.svg\" alt=\"Open In Colab\"/></a>"
      ]
    },
    {
      "cell_type": "markdown",
      "metadata": {
        "id": "wXOH90ddtwL2"
      },
      "source": [
        "# Lesson 56: OOP - Polymorphism I\n"
      ]
    },
    {
      "cell_type": "markdown",
      "metadata": {
        "id": "GbhgAn5kfd-K"
      },
      "source": [
        "### Teacher-Student Activities\n",
        "\n",
        "In this class, we will learn another concept of object-oriented programming called **Polymorphism**.\n",
        "\n",
        "Polymorphism is taken from the Greek words poly (many) and morphism (forms). Polymorphism means different forms of the same thing. In programming, the things that can take different forms for different objects are functions and operators.\n",
        "\n",
        "In Python, there are four types of Polymorphism:\n",
        "\n",
        "1. Operator Overloading\n",
        "\n",
        "2. Method Overloading\n",
        "\n",
        "3. Method Overriding\n",
        "\n",
        "4. Duck Typing\n",
        "\n",
        "But we are going to learn only the first three because they are used most of the time.\n",
        "\n",
        "\n",
        "Let's understand the three different types of Polymorphism with the help of a few examples.\n"
      ]
    },
    {
      "cell_type": "markdown",
      "metadata": {
        "id": "DP-8XrZ_i2yZ"
      },
      "source": [
        "---"
      ]
    },
    {
      "cell_type": "markdown",
      "metadata": {
        "id": "o0FdjEBJ59DS"
      },
      "source": [
        "#### Activity 1: Operator Overloading^\n",
        "\n",
        "Operator overloading means extending the meaning of the arithmetic operators (like `+`, `-`, `/` etc.) besides their original function.\n",
        "\n",
        "**Why do we need operator overloading?**\n",
        "\n",
        "Recap Python lists class. We learned that arithmetic operators don't work on Python lists in the same way they work on a NumPy array. So if we have to perform such arithmetic operations on list items we have to either convert the list into an array or use the `for` loop. But we can create a whole new numeric data-structure out of the Python list on which we can perform arithmetic operations. We can do this with the help of operator overloading.\n",
        "\n",
        "**Note:** The code below will throw `TypeError`.\n"
      ]
    },
    {
      "cell_type": "code",
      "metadata": {
        "id": "FwCojKfEzgPt",
        "colab": {
          "base_uri": "https://localhost:8080/"
        },
        "outputId": "c2f6988a-6ab0-483b-a251-d23b74f640f7"
      },
      "source": [
        "# S1.1: Create two numeric list of three items each and perform mathematical operations on them\n",
        "\n",
        "# Create two lists\n",
        "\n",
        "list1 = [1,2,3]\n",
        "list2 = [4,5,6]\n",
        "\n",
        "# Add the two lists using '+' operator and save it in a variable and print the result\n",
        "list3 = list1 + list2\n",
        "print(list3)\n",
        "# Multiply the two lists using '*' operator and save it in a variable and print the result\n"
      ],
      "execution_count": null,
      "outputs": [
        {
          "output_type": "stream",
          "name": "stdout",
          "text": [
            "[1, 2, 3, 4, 5, 6]\n"
          ]
        }
      ]
    },
    {
      "cell_type": "code",
      "source": [
        "list4 = list1 * list2\n",
        "print(list4)"
      ],
      "metadata": {
        "colab": {
          "base_uri": "https://localhost:8080/",
          "height": 182
        },
        "id": "XanU5cydRkPI",
        "outputId": "55ff6b3c-ca15-43b1-95f6-a5d6b8e136cc"
      },
      "execution_count": null,
      "outputs": [
        {
          "output_type": "error",
          "ename": "TypeError",
          "evalue": "ignored",
          "traceback": [
            "\u001b[0;31m---------------------------------------------------------------------------\u001b[0m",
            "\u001b[0;31mTypeError\u001b[0m                                 Traceback (most recent call last)",
            "\u001b[0;32m<ipython-input-2-ae016a2ace01>\u001b[0m in \u001b[0;36m<module>\u001b[0;34m\u001b[0m\n\u001b[0;32m----> 1\u001b[0;31m \u001b[0mlist4\u001b[0m \u001b[0;34m=\u001b[0m \u001b[0mlist1\u001b[0m \u001b[0;34m*\u001b[0m \u001b[0mlist2\u001b[0m\u001b[0;34m\u001b[0m\u001b[0;34m\u001b[0m\u001b[0m\n\u001b[0m\u001b[1;32m      2\u001b[0m \u001b[0mprint\u001b[0m\u001b[0;34m(\u001b[0m\u001b[0mlist4\u001b[0m\u001b[0;34m)\u001b[0m\u001b[0;34m\u001b[0m\u001b[0;34m\u001b[0m\u001b[0m\n",
            "\u001b[0;31mTypeError\u001b[0m: can't multiply sequence by non-int of type 'list'"
          ]
        }
      ]
    },
    {
      "cell_type": "markdown",
      "metadata": {
        "id": "wLwl2hvz04xh"
      },
      "source": [
        "As it can be observed in the output, when we try to\n",
        "\n",
        "- Add corresponding items of two lists, we get a concatenated list.\n",
        "\n",
        "- Multiply the corresponding items of two lists, we get `TypeError` because the `*` operator is **not defined** for Python lists.\n",
        "\n",
        "\n",
        "This is because every Python class has some predefined **magic functions** which give meaning to arithmetic operators.\n",
        "\n",
        "**For Example**\n",
        "- `+` operator has `__add__()` magic function\n",
        "- `*` operator has `__mul__()` magic function\n",
        "\n",
        "**Note:** In Python, the functions having two underscores at prefix and suffix are called magic functions.\n",
        "\n"
      ]
    },
    {
      "cell_type": "code",
      "metadata": {
        "id": "QZgv0HKLFrwu",
        "colab": {
          "base_uri": "https://localhost:8080/"
        },
        "outputId": "12041515-93ab-4e63-deb6-b8a4d68f1cfc"
      },
      "source": [
        "# T1.1: Apply the '__add__()' function on two integers, strings and list objects one-by-one.\n",
        "print(int.__add__(5, 10))\n",
        "print(str.__add__(\"Rohan\", \" Siddam\"))\n",
        "print(list.__add__(list1, list2))"
      ],
      "execution_count": null,
      "outputs": [
        {
          "output_type": "stream",
          "name": "stdout",
          "text": [
            "15\n",
            "Rohan Siddam\n",
            "[1, 2, 3, 4, 5, 6]\n"
          ]
        }
      ]
    },
    {
      "cell_type": "markdown",
      "metadata": {
        "id": "XWPZeQSyaQAq"
      },
      "source": [
        "As you can see, the `__add__()` function in the case of\n",
        "\n",
        "- Integer objects, add their values\n",
        "\n",
        "- String objects, concatenates them\n",
        "\n",
        "- Python list objects, concatenates them\n",
        "\n",
        "You can use the `__dict__` attribute to get a dictionary of all the attributes and magic methods associated with a class."
      ]
    },
    {
      "cell_type": "code",
      "metadata": {
        "id": "p6VrHY-4IWz9",
        "colab": {
          "base_uri": "https://localhost:8080/"
        },
        "outputId": "bd49840c-aa9d-4ab1-86a4-af6131df7509"
      },
      "source": [
        "# S1.2: Get the dictionary of all the attributes and magic methods associated with either int, str, float, list etc.\n",
        "str.__dict__"
      ],
      "execution_count": null,
      "outputs": [
        {
          "output_type": "execute_result",
          "data": {
            "text/plain": [
              "mappingproxy({'__repr__': <slot wrapper '__repr__' of 'str' objects>,\n",
              "              '__hash__': <slot wrapper '__hash__' of 'str' objects>,\n",
              "              '__str__': <slot wrapper '__str__' of 'str' objects>,\n",
              "              '__getattribute__': <slot wrapper '__getattribute__' of 'str' objects>,\n",
              "              '__lt__': <slot wrapper '__lt__' of 'str' objects>,\n",
              "              '__le__': <slot wrapper '__le__' of 'str' objects>,\n",
              "              '__eq__': <slot wrapper '__eq__' of 'str' objects>,\n",
              "              '__ne__': <slot wrapper '__ne__' of 'str' objects>,\n",
              "              '__gt__': <slot wrapper '__gt__' of 'str' objects>,\n",
              "              '__ge__': <slot wrapper '__ge__' of 'str' objects>,\n",
              "              '__iter__': <slot wrapper '__iter__' of 'str' objects>,\n",
              "              '__mod__': <slot wrapper '__mod__' of 'str' objects>,\n",
              "              '__rmod__': <slot wrapper '__rmod__' of 'str' objects>,\n",
              "              '__len__': <slot wrapper '__len__' of 'str' objects>,\n",
              "              '__getitem__': <slot wrapper '__getitem__' of 'str' objects>,\n",
              "              '__add__': <slot wrapper '__add__' of 'str' objects>,\n",
              "              '__mul__': <slot wrapper '__mul__' of 'str' objects>,\n",
              "              '__rmul__': <slot wrapper '__rmul__' of 'str' objects>,\n",
              "              '__contains__': <slot wrapper '__contains__' of 'str' objects>,\n",
              "              '__new__': <function str.__new__(*args, **kwargs)>,\n",
              "              'encode': <method 'encode' of 'str' objects>,\n",
              "              'replace': <method 'replace' of 'str' objects>,\n",
              "              'split': <method 'split' of 'str' objects>,\n",
              "              'rsplit': <method 'rsplit' of 'str' objects>,\n",
              "              'join': <method 'join' of 'str' objects>,\n",
              "              'capitalize': <method 'capitalize' of 'str' objects>,\n",
              "              'casefold': <method 'casefold' of 'str' objects>,\n",
              "              'title': <method 'title' of 'str' objects>,\n",
              "              'center': <method 'center' of 'str' objects>,\n",
              "              'count': <method 'count' of 'str' objects>,\n",
              "              'expandtabs': <method 'expandtabs' of 'str' objects>,\n",
              "              'find': <method 'find' of 'str' objects>,\n",
              "              'partition': <method 'partition' of 'str' objects>,\n",
              "              'index': <method 'index' of 'str' objects>,\n",
              "              'ljust': <method 'ljust' of 'str' objects>,\n",
              "              'lower': <method 'lower' of 'str' objects>,\n",
              "              'lstrip': <method 'lstrip' of 'str' objects>,\n",
              "              'rfind': <method 'rfind' of 'str' objects>,\n",
              "              'rindex': <method 'rindex' of 'str' objects>,\n",
              "              'rjust': <method 'rjust' of 'str' objects>,\n",
              "              'rstrip': <method 'rstrip' of 'str' objects>,\n",
              "              'rpartition': <method 'rpartition' of 'str' objects>,\n",
              "              'splitlines': <method 'splitlines' of 'str' objects>,\n",
              "              'strip': <method 'strip' of 'str' objects>,\n",
              "              'swapcase': <method 'swapcase' of 'str' objects>,\n",
              "              'translate': <method 'translate' of 'str' objects>,\n",
              "              'upper': <method 'upper' of 'str' objects>,\n",
              "              'startswith': <method 'startswith' of 'str' objects>,\n",
              "              'endswith': <method 'endswith' of 'str' objects>,\n",
              "              'isascii': <method 'isascii' of 'str' objects>,\n",
              "              'islower': <method 'islower' of 'str' objects>,\n",
              "              'isupper': <method 'isupper' of 'str' objects>,\n",
              "              'istitle': <method 'istitle' of 'str' objects>,\n",
              "              'isspace': <method 'isspace' of 'str' objects>,\n",
              "              'isdecimal': <method 'isdecimal' of 'str' objects>,\n",
              "              'isdigit': <method 'isdigit' of 'str' objects>,\n",
              "              'isnumeric': <method 'isnumeric' of 'str' objects>,\n",
              "              'isalpha': <method 'isalpha' of 'str' objects>,\n",
              "              'isalnum': <method 'isalnum' of 'str' objects>,\n",
              "              'isidentifier': <method 'isidentifier' of 'str' objects>,\n",
              "              'isprintable': <method 'isprintable' of 'str' objects>,\n",
              "              'zfill': <method 'zfill' of 'str' objects>,\n",
              "              'format': <method 'format' of 'str' objects>,\n",
              "              'format_map': <method 'format_map' of 'str' objects>,\n",
              "              '__format__': <method '__format__' of 'str' objects>,\n",
              "              'maketrans': <staticmethod at 0x7f895861fa50>,\n",
              "              '__sizeof__': <method '__sizeof__' of 'str' objects>,\n",
              "              '__getnewargs__': <method '__getnewargs__' of 'str' objects>,\n",
              "              '__doc__': \"str(object='') -> str\\nstr(bytes_or_buffer[, encoding[, errors]]) -> str\\n\\nCreate a new string object from the given object. If encoding or\\nerrors is specified, then the object must expose a data buffer\\nthat will be decoded using the given encoding and error handler.\\nOtherwise, returns the result of object.__str__() (if defined)\\nor repr(object).\\nencoding defaults to sys.getdefaultencoding().\\nerrors defaults to 'strict'.\"})"
            ]
          },
          "metadata": {},
          "execution_count": 11
        }
      ]
    },
    {
      "cell_type": "markdown",
      "metadata": {
        "id": "OC5kUy0KITsx"
      },
      "source": [
        "Now let's get back to our requirement of a new data-structure which behaves like a NumPy array on applying the arithmetic operations such as addition, subtraction, etc.\n",
        "\n",
        "To get started, let's create a class called `MyList` in which the constructor initialises the `my_list` variable which will contain a list of numeric items.\n",
        "\n",
        "The class needs to have the following functions:\n",
        "\n",
        "- > `__add__()`: to **add** the corresponding items two of `MyList` objects one-by-one. It should accept two `MyList` objects for the addition operation.\n",
        "\n",
        "- > `__sub__()`: to **subtract** the corresponding items two of `MyList` objects one-by-one.\n",
        "\n",
        "- > `__mul__()`: to **multiply** the corresponding items two of `MyList` objects one-by-one.\n",
        "\n",
        "\n",
        "- > `__truediv__()`: to **divide** the corresponding items two of `MyList` objects one-by-one.\n",
        "\n",
        "  > All the above four functions should first check whether both the `MyList` objects have the same length or not.\n",
        "\n",
        "- > `get_my_list()`: to return the value stored in the `my_list` variable if it has items otherwise throw an error with the `\"List does not exist.\"` message.\n",
        "\n",
        "**Note:** These methods will work on the current object of the class `MyList` as one operand and will take another object of `MyList` as the second operand, both lists being of the same size. They will return a result list which will also be the object of the `MyList` class."
      ]
    },
    {
      "cell_type": "code",
      "metadata": {
        "id": "3skOE_hqq5g7"
      },
      "source": [
        "# T1.2: Create the 'MyList' class having only the 'my_list' variable, '__add__()' and 'get_my_list()' functions.\n",
        "class MyList:\n",
        "  def __init__(self, my_list):\n",
        "    self.my_list = my_list\n",
        "\n",
        "  def __repr__(self):\n",
        "    return \"Object of MyList.\"\n",
        "\n",
        "  def __add__(self, list1):\n",
        "    if len(self.my_list) != len(list1.my_list):\n",
        "      return \"Can't add the lists together.\"\n",
        "    else:\n",
        "      new_list = [self.my_list[i] + list1.my_list[i] for i in range(len(self.my_list))]\n",
        "      return new_list\n",
        "\n",
        "  def get_my_list(self):\n",
        "    if self.my_list is None:\n",
        "      return \"List does not exist.\"\n",
        "    else:\n",
        "      return self.my_list\n",
        "\n",
        "\n",
        "\n"
      ],
      "execution_count": null,
      "outputs": []
    },
    {
      "cell_type": "code",
      "source": [
        "first_list = MyList([1,2,3,4])\n",
        "second_list = MyList([4,5,6,7])\n",
        "\n",
        "new_my_list = first_list + second_list\n",
        "print(new_my_list)"
      ],
      "metadata": {
        "colab": {
          "base_uri": "https://localhost:8080/"
        },
        "id": "McZZtlJ_ULVF",
        "outputId": "5a083754-0ca4-4ab9-9b87-47749da9102d"
      },
      "execution_count": null,
      "outputs": [
        {
          "output_type": "stream",
          "name": "stdout",
          "text": [
            "[5, 7, 9, 11]\n"
          ]
        }
      ]
    },
    {
      "cell_type": "markdown",
      "metadata": {
        "id": "PmPtxWPpt64T"
      },
      "source": [
        "Similarly, you define the other three magic methods for the `MyList` class. However in the case of `__truediv__()` method, in addition to checking the length of lists, also check whether the divisor list contains `0` or not. If it does contain `0` as an item, then return `\"Division by 0 is not possible.\"` message. Otherwise, the function should perform the division operation."
      ]
    },
    {
      "cell_type": "code",
      "metadata": {
        "id": "CYHysB1D548o"
      },
      "source": [
        "# S1.3: Add the remaining magic methods to the 'MyList' class.\n",
        "class MyList:\n",
        "  def __init__(self, my_list):\n",
        "    self.my_list = my_list\n",
        "\n",
        "  def __repr__(self):\n",
        "    return \"Object of MyList.\"\n",
        "\n",
        "  def __add__(self, list1):\n",
        "    if len(self.my_list) != len(list1.my_list):\n",
        "      return \"Can't add the lists together.\"\n",
        "    else:\n",
        "      new_list = [self.my_list[i] + list1.my_list[i] for i in range(len(self.my_list))]\n",
        "      return new_list\n",
        "\n",
        "  def get_my_list(self):\n",
        "    if self.my_list is None:\n",
        "      return \"List does not exist.\"\n",
        "    else:\n",
        "      return self.my_list\n",
        "\n",
        "  def __sub__(self, list1):\n",
        "    if len(self.my_list) != len(list1.my_list):\n",
        "      return \"Can't subtract the lists.\"\n",
        "    else:\n",
        "      new_list = [self.my_list[i] - list1.my_list[i] for i in range(len(self.my_list))]\n",
        "      return new_list\n",
        "\n",
        "  def __mul__(self, list1):\n",
        "    if len(self.my_list) != len(list1.my_list):\n",
        "      return \"Can't multiply the lists together.\"\n",
        "    else:\n",
        "      new_list = [self.my_list[i] * list1.my_list[i] for i in range(len(self.my_list))]\n",
        "      return new_list\n",
        "\n",
        "  def __truediv__(self, list1):\n",
        "    if len(self.my_list) != len(list1.my_list):\n",
        "      return \"Can't divide the lists together.\"\n",
        "    else:\n",
        "      if (0) in list1.my_list:\n",
        "        return \"Can't divide by 0\"\n",
        "      else:\n",
        "         new_list = [self.my_list[i] / list1.my_list[i] for i in range(len(self.my_list))]\n",
        "         return new_list"
      ],
      "execution_count": null,
      "outputs": []
    },
    {
      "cell_type": "markdown",
      "metadata": {
        "id": "5EG-4f5Xlgts"
      },
      "source": [
        "Now let's test all the methods of the updated `MyList` class, except the `__add__()` method as we have already tested it before."
      ]
    },
    {
      "cell_type": "code",
      "metadata": {
        "id": "sH-Jqx2O8MIS",
        "colab": {
          "base_uri": "https://localhost:8080/"
        },
        "outputId": "7cfe5071-433f-4768-c017-e92231b3f466"
      },
      "source": [
        "# S1.4: Test all the methods of the updated MyList class, except the '__add__()' method.\n",
        "\n",
        "# 1. Create two objects and call them 'my_lst1' and 'my_lst2'.\n",
        "first_list = MyList([1,2,3,4])\n",
        "second_list = MyList([4,5,6,7])\n",
        "# 2. Print the lists stored in both the MyList objects using the 'get_my_list()' function.\n",
        "print(first_list.get_my_list())\n",
        "print(second_list.get_my_list())\n",
        "# 3. Subtract the items of the MyList objects (created above) using the '-' operator and save the result in a variable.\n",
        "sub_list = first_list - second_list\n",
        "print(sub_list)\n",
        "# 4. Multiply the items of the MyList objects (created above) using the '*' operator and save the result in a variable.\n",
        "mul_list = first_list * second_list\n",
        "print(mul_list)\n",
        "# 5. Divide the items of the MyList objects (created above) using the '/' operator and save the result in a variable.\n",
        "div_list = first_list / second_list\n",
        "print(div_list)\n",
        "# 6. Print the object variables created in the above steps\n",
        "print(sub_list, mul_list, div_list)"
      ],
      "execution_count": null,
      "outputs": [
        {
          "output_type": "stream",
          "name": "stdout",
          "text": [
            "[1, 2, 3, 4]\n",
            "[4, 5, 6, 7]\n",
            "[-3, -3, -3, -3]\n",
            "[4, 10, 18, 28]\n",
            "[0.25, 0.4, 0.5, 0.5714285714285714]\n",
            "[-3, -3, -3, -3] [4, 10, 18, 28] [0.25, 0.4, 0.5, 0.5714285714285714]\n"
          ]
        }
      ]
    },
    {
      "cell_type": "markdown",
      "metadata": {
        "id": "_2bhGzWN-AmP"
      },
      "source": [
        "In this way, we have successfully created a new data structure based on a Python list that behaves like a NumPy array on applying the arithmetic operators using the concept of **operator overloading**.\n",
        "\n",
        "Let's look at the next form of Polymorphism wherein we can alter the functionality of the same method."
      ]
    },
    {
      "cell_type": "markdown",
      "metadata": {
        "id": "Xe-4scR5WNHk"
      },
      "source": [
        "---"
      ]
    },
    {
      "cell_type": "markdown",
      "metadata": {
        "id": "VHv9mklY_CYu"
      },
      "source": [
        "#### Activity 2: Method Overloading^^\n",
        "\n",
        "Method Overloading means using the same function name with a different set of arguments which changes the behaviour of the method.\n",
        "\n",
        "Let's understand it with a very nominal example:\n",
        "\n",
        "Create a class called `Television` having two functions:\n",
        "\n",
        "- > `change_channel()`: It should take `channel_name` (a string value) as an input.\n",
        "\n",
        "- > `change_channel()`: It should take `channel_num` (an integer value) as an input.\n",
        ""
      ]
    },
    {
      "cell_type": "code",
      "metadata": {
        "id": "gx5pTdoa57ob"
      },
      "source": [
        "# S2.1: Create the 'Television' class having 'change_channel()' methods with different inputs (or arguments).\n",
        "class Television:\n",
        "  def change_channel(self, channel_name):\n",
        "    return channel_name\n",
        "  def change_channel(self, channel_num):\n",
        "    return channel_num"
      ],
      "execution_count": null,
      "outputs": []
    },
    {
      "cell_type": "markdown",
      "metadata": {
        "id": "NZDivcBzGcNq"
      },
      "source": [
        "Let's create an object of the `Television` class and call the `change_channel()` method by providing different inputs."
      ]
    },
    {
      "cell_type": "code",
      "metadata": {
        "id": "cU4zozW8Gbwa",
        "colab": {
          "base_uri": "https://localhost:8080/"
        },
        "outputId": "85c65f42-00f4-4e87-de01-27c246916ddf"
      },
      "source": [
        "# S2.2: Create an object of the 'Television' class and call the 'change_channel()' method by providing different inputs.\n",
        "tv_1 = Television()\n",
        "tv_1.change_channel(\"CNN\")\n",
        "tv_1.change_channel(35)"
      ],
      "execution_count": null,
      "outputs": [
        {
          "output_type": "execute_result",
          "data": {
            "text/plain": [
              "35"
            ]
          },
          "metadata": {},
          "execution_count": 35
        }
      ]
    },
    {
      "cell_type": "markdown",
      "metadata": {
        "id": "b-sOWYsG_WmX"
      },
      "source": [
        "We can see that by calling the same function with different inputs, we got different outputs for the same object of the `Television` class.\n",
        "\n",
        "The second time, the `change_channel()` function got overloaded. In other words, the second (or the latest) appearance of the `change_channel()` function overloaded its first appearance in the `Television` class. This is what **method overloading** means in Python.\n",
        "\n",
        "Create the `Television` class again having another variant of the `change_channel()` method which doesn't take any input.\n",
        "\n",
        "**Note:** The code below will throw `TypeError`."
      ]
    },
    {
      "cell_type": "code",
      "metadata": {
        "id": "jlITg2vf_T5m"
      },
      "source": [
        "# T2.1: Create the 'Television' class again having the third variant of 'change_channel()' method.\n",
        "class Television:\n",
        "  def change_channel(self, channel_name):\n",
        "    return channel_name\n",
        "  def change_channel(self, channel_num):\n",
        "    return channel_num\n",
        "  def change_channel(self):\n",
        "    return \"Channel Changed\""
      ],
      "execution_count": null,
      "outputs": []
    },
    {
      "cell_type": "markdown",
      "metadata": {
        "id": "ruCtuvJl25wV"
      },
      "source": [
        "As you can see, the latest appearance of the `change_channel()` function doesn't require any input from the user. Hence, the latest appearance has overloaded the previous appearances. Hence, calling any of its other two variants would throw `TypeError`.\n",
        "\n",
        "Create the `Television` class again having all the variants of the `change_channel()` method but swap the positions of the second and the third variant.\n",
        "\n",
        "**Note:** The code below will throw `TypeError`."
      ]
    },
    {
      "cell_type": "code",
      "metadata": {
        "id": "FsJ3QNVX6M6w",
        "colab": {
          "base_uri": "https://localhost:8080/",
          "height": 200
        },
        "outputId": "71df1077-3334-41b2-b538-0d95118942fe"
      },
      "source": [
        "# T2.2: Create the 'Television' class but swap the positions of the second and the third variant of the 'change_channel()' function.\n",
        "tv_2 = Television()\n",
        "tv_2.change_channel(35)"
      ],
      "execution_count": null,
      "outputs": [
        {
          "output_type": "error",
          "ename": "TypeError",
          "evalue": "ignored",
          "traceback": [
            "\u001b[0;31m---------------------------------------------------------------------------\u001b[0m",
            "\u001b[0;31mTypeError\u001b[0m                                 Traceback (most recent call last)",
            "\u001b[0;32m<ipython-input-38-4f5fdb8374ea>\u001b[0m in \u001b[0;36m<module>\u001b[0;34m\u001b[0m\n\u001b[1;32m      1\u001b[0m \u001b[0;31m# T2.2: Create the 'Television' class but swap the positions of the second and the third variant of the 'change_channel()' function.\u001b[0m\u001b[0;34m\u001b[0m\u001b[0;34m\u001b[0m\u001b[0;34m\u001b[0m\u001b[0m\n\u001b[1;32m      2\u001b[0m \u001b[0mtv_2\u001b[0m \u001b[0;34m=\u001b[0m \u001b[0mTelevision\u001b[0m\u001b[0;34m(\u001b[0m\u001b[0;34m)\u001b[0m\u001b[0;34m\u001b[0m\u001b[0;34m\u001b[0m\u001b[0m\n\u001b[0;32m----> 3\u001b[0;31m \u001b[0mtv_2\u001b[0m\u001b[0;34m.\u001b[0m\u001b[0mchange_channel\u001b[0m\u001b[0;34m(\u001b[0m\u001b[0;36m35\u001b[0m\u001b[0;34m)\u001b[0m\u001b[0;34m\u001b[0m\u001b[0;34m\u001b[0m\u001b[0m\n\u001b[0m",
            "\u001b[0;31mTypeError\u001b[0m: change_channel() takes 1 positional argument but 2 were given"
          ]
        }
      ]
    },
    {
      "cell_type": "markdown",
      "metadata": {
        "id": "ZyUPTD3B8Fge"
      },
      "source": [
        "This time, the latest appearance of the `change_channel()` function requires an input. Hence, the first variant got executed because it takes one input. But the execution of the second variant gave the `TyepError` because it doesn't accept any input. Hence, the third variant overloaded the first two variants.\n",
        "\n",
        "Let's repeat the above exercise but call the\n",
        "\n",
        "```\n",
        "def change_channel(self):\n",
        "  print(\"Channel changed.\")\n",
        "```\n",
        "\n",
        "function at the last.\n",
        "\n",
        "**Note:** The code below will throw `TypeError`."
      ]
    },
    {
      "cell_type": "code",
      "metadata": {
        "id": "z8F3BXeP8Xvk"
      },
      "source": [
        "# T2.3: Repeat the above exercise again but this time call 'change_channel()' function (which doesn't take any input) at the last.\n",
        "class Television:\n",
        "  def change_channel(self, channel_name):\n",
        "    return channel_name\n",
        "  def change_channel(self):\n",
        "    return \"Channel Changed\"\n",
        "  def change_channel(self, channel_num):\n",
        "    return channel_num"
      ],
      "execution_count": null,
      "outputs": []
    },
    {
      "cell_type": "code",
      "source": [
        "tv_2 = Television()\n",
        "tv_2.change_channel()"
      ],
      "metadata": {
        "colab": {
          "base_uri": "https://localhost:8080/",
          "height": 182
        },
        "id": "PmddJWQuXKJ9",
        "outputId": "18db1120-0ee0-4d8a-927a-f4b01d9184c5"
      },
      "execution_count": null,
      "outputs": [
        {
          "output_type": "error",
          "ename": "TypeError",
          "evalue": "ignored",
          "traceback": [
            "\u001b[0;31m---------------------------------------------------------------------------\u001b[0m",
            "\u001b[0;31mTypeError\u001b[0m                                 Traceback (most recent call last)",
            "\u001b[0;32m<ipython-input-42-d0f592ac7cf0>\u001b[0m in \u001b[0;36m<module>\u001b[0;34m\u001b[0m\n\u001b[1;32m      1\u001b[0m \u001b[0mtv_2\u001b[0m \u001b[0;34m=\u001b[0m \u001b[0mTelevision\u001b[0m\u001b[0;34m(\u001b[0m\u001b[0;34m)\u001b[0m\u001b[0;34m\u001b[0m\u001b[0;34m\u001b[0m\u001b[0m\n\u001b[0;32m----> 2\u001b[0;31m \u001b[0mtv_2\u001b[0m\u001b[0;34m.\u001b[0m\u001b[0mchange_channel\u001b[0m\u001b[0;34m(\u001b[0m\u001b[0;34m)\u001b[0m\u001b[0;34m\u001b[0m\u001b[0;34m\u001b[0m\u001b[0m\n\u001b[0m",
            "\u001b[0;31mTypeError\u001b[0m: change_channel() missing 1 required positional argument: 'channel_num'"
          ]
        }
      ]
    },
    {
      "cell_type": "markdown",
      "metadata": {
        "id": "DDSKSzZzJWm3"
      },
      "source": [
        "Yet again the two variants of the `change_channel()` function got executed because they both take one input each but the second variant doesn't because it doesn't take any input. Hence, the third variant overloaded the first two variants.\n",
        "\n",
        "Let's stop here. In the next class, we will learn another type of polymorphism called **method overriding**."
      ]
    },
    {
      "cell_type": "markdown",
      "metadata": {
        "id": "f4kZXEHo54i6"
      },
      "source": [
        "---"
      ]
    }
  ]
}