{
  "nbformat": 4,
  "nbformat_minor": 0,
  "metadata": {
    "colab": {
      "provenance": [],
      "include_colab_link": true
    },
    "kernelspec": {
      "name": "python3",
      "display_name": "Python 3"
    }
  },
  "cells": [
    {
      "cell_type": "markdown",
      "metadata": {
        "id": "view-in-github",
        "colab_type": "text"
      },
      "source": [
        "<a href=\"https://colab.research.google.com/github/rohansiddam/Python-Journey/blob/main/035%20-%20Lesson%2035%20(String%20Operations%201).ipynb\" target=\"_parent\"><img src=\"https://colab.research.google.com/assets/colab-badge.svg\" alt=\"Open In Colab\"/></a>"
      ]
    },
    {
      "cell_type": "markdown",
      "metadata": {
        "id": "ZmBmKJ7A93-o"
      },
      "source": [
        "# Lesson 35: String Operations I"
      ]
    },
    {
      "cell_type": "markdown",
      "metadata": {
        "id": "I0cTgOwYT8s0"
      },
      "source": [
        "### Teacher-Student Activities\n",
        "\n",
        "So far, we have been calling string a data-type. But technically, in Python, a string is another data structure just like a list, a tuple and a dictionary. Therefore, it means a string also stores data. Essentially, a string is an array containing some items. Any character (whether a letter, a number or a special symbol like space, brackets etc.) enclosed within double quotes (`\"\"`) or single quotes (`''`) is considered as a string.\n",
        "\n",
        "Since a string is a data structure, the following operations/functions applicable for lists and tuples are also applicable for strings:\n",
        "\n",
        "1. String Length\n",
        "\n",
        "2. String Indexing\n",
        "\n",
        "3. String Slicing\n",
        "\n",
        "4. Index Of An Item\n",
        "\n",
        "5. String Concatenation\n",
        "\n",
        "6. The `enumerate()` Function\n",
        "\n",
        "7. The `count()` Function\n",
        "\n",
        "Let's first quickly apply the above operations/functions on strings and then learn some new concepts about them."
      ]
    },
    {
      "cell_type": "markdown",
      "metadata": {
        "id": "AxTo4CQPDPZb"
      },
      "source": [
        "---"
      ]
    },
    {
      "cell_type": "markdown",
      "metadata": {
        "id": "g5D1KJm0C5PH"
      },
      "source": [
        "#### Activity 1: Common Data Structure Operations on Strings\n",
        "\n",
        "Here are the common operations or functions that can be applied to a data structure in Python.\n",
        "\n",
        "**1. String Length:** The number of items (or characters) contained in a string."
      ]
    },
    {
      "cell_type": "code",
      "metadata": {
        "id": "uU_TcNO7TxQy",
        "colab": {
          "base_uri": "https://localhost:8080/"
        },
        "outputId": "866b942a-a5fc-45c7-f136-14d2b9eb426e"
      },
      "source": [
        "# Student Action: Create an alphanumeric string, preferably a short sentence. Also, find its length.\n",
        "some_string = \"On 28-04-2020, US$ 1 is equivalent to INR 75.84\"\n",
        "print(len(some_string))"
      ],
      "execution_count": null,
      "outputs": [
        {
          "output_type": "stream",
          "name": "stdout",
          "text": [
            "47\n"
          ]
        }
      ]
    },
    {
      "cell_type": "markdown",
      "metadata": {
        "id": "u8WU1MYlFMZ9"
      },
      "source": [
        "**2. Indexing**: The positions occupied by the items or characters in a string.\n"
      ]
    },
    {
      "cell_type": "code",
      "metadata": {
        "id": "uYRMrXEaXe51",
        "colab": {
          "base_uri": "https://localhost:8080/"
        },
        "outputId": "899be464-9e4b-4423-f10a-0f205069c0dc"
      },
      "source": [
        "# Student Action: Print every item (or character) of the above string using a loop and the indexing method. Also, print the indices.\n",
        "for i in range(len(some_string)):\n",
        "  print(i, \"-\", some_string[i])"
      ],
      "execution_count": null,
      "outputs": [
        {
          "output_type": "stream",
          "name": "stdout",
          "text": [
            "0 - O\n",
            "1 - n\n",
            "2 -  \n",
            "3 - 2\n",
            "4 - 8\n",
            "5 - -\n",
            "6 - 0\n",
            "7 - 4\n",
            "8 - -\n",
            "9 - 2\n",
            "10 - 0\n",
            "11 - 2\n",
            "12 - 0\n",
            "13 - ,\n",
            "14 -  \n",
            "15 - U\n",
            "16 - S\n",
            "17 - $\n",
            "18 -  \n",
            "19 - 1\n",
            "20 -  \n",
            "21 - i\n",
            "22 - s\n",
            "23 -  \n",
            "24 - e\n",
            "25 - q\n",
            "26 - u\n",
            "27 - i\n",
            "28 - v\n",
            "29 - a\n",
            "30 - l\n",
            "31 - e\n",
            "32 - n\n",
            "33 - t\n",
            "34 -  \n",
            "35 - t\n",
            "36 - o\n",
            "37 -  \n",
            "38 - I\n",
            "39 - N\n",
            "40 - R\n",
            "41 -  \n",
            "42 - 7\n",
            "43 - 5\n",
            "44 - .\n",
            "45 - 8\n",
            "46 - 4\n"
          ]
        }
      ]
    },
    {
      "cell_type": "markdown",
      "metadata": {
        "id": "DQVtMw0aGFiD"
      },
      "source": [
        "**Note:** Even the spaces occupy an index because they are also a part of the string."
      ]
    },
    {
      "cell_type": "code",
      "metadata": {
        "id": "nxAGqzUTGRGu",
        "colab": {
          "base_uri": "https://localhost:8080/"
        },
        "outputId": "fa7153c5-f61e-4aef-adfe-ebeca7c76cda"
      },
      "source": [
        "# Student Action: Print the items of the above string in the reverse order without using negative indexing. Also, print the indices.\n",
        "for i in range(len(some_string)):\n",
        "  print((len(some_string)-1-i), some_string[len(some_string)-1-i])"
      ],
      "execution_count": null,
      "outputs": [
        {
          "output_type": "stream",
          "name": "stdout",
          "text": [
            "46 4\n",
            "45 8\n",
            "44 .\n",
            "43 5\n",
            "42 7\n",
            "41  \n",
            "40 R\n",
            "39 N\n",
            "38 I\n",
            "37  \n",
            "36 o\n",
            "35 t\n",
            "34  \n",
            "33 t\n",
            "32 n\n",
            "31 e\n",
            "30 l\n",
            "29 a\n",
            "28 v\n",
            "27 i\n",
            "26 u\n",
            "25 q\n",
            "24 e\n",
            "23  \n",
            "22 s\n",
            "21 i\n",
            "20  \n",
            "19 1\n",
            "18  \n",
            "17 $\n",
            "16 S\n",
            "15 U\n",
            "14  \n",
            "13 ,\n",
            "12 0\n",
            "11 2\n",
            "10 0\n",
            "9 2\n",
            "8 -\n",
            "7 4\n",
            "6 0\n",
            "5 -\n",
            "4 8\n",
            "3 2\n",
            "2  \n",
            "1 n\n",
            "0 O\n"
          ]
        }
      ]
    },
    {
      "cell_type": "code",
      "source": [
        "for i in range(-5,0):\n",
        "  print(i)"
      ],
      "metadata": {
        "colab": {
          "base_uri": "https://localhost:8080/"
        },
        "id": "ILx4DQ3Mqwd8",
        "outputId": "3d3be438-95b9-412d-9131-46efc57dcc2d"
      },
      "execution_count": null,
      "outputs": [
        {
          "output_type": "stream",
          "name": "stdout",
          "text": [
            "-5\n",
            "-4\n",
            "-3\n",
            "-2\n",
            "-1\n"
          ]
        }
      ]
    },
    {
      "cell_type": "code",
      "metadata": {
        "id": "yNQHfLnZHmX_",
        "colab": {
          "base_uri": "https://localhost:8080/"
        },
        "outputId": "b36669cd-e968-419f-dfaf-0d2a07d1a0f7"
      },
      "source": [
        "# Student Action: Print the items of the above string using negative indexing. Also, print the indices.\n",
        "for i in range(-len(some_string), 0):\n",
        "  print(i,\"-\", some_string[i])"
      ],
      "execution_count": null,
      "outputs": [
        {
          "output_type": "stream",
          "name": "stdout",
          "text": [
            "-47 - O\n",
            "-46 - n\n",
            "-45 -  \n",
            "-44 - 2\n",
            "-43 - 8\n",
            "-42 - -\n",
            "-41 - 0\n",
            "-40 - 4\n",
            "-39 - -\n",
            "-38 - 2\n",
            "-37 - 0\n",
            "-36 - 2\n",
            "-35 - 0\n",
            "-34 - ,\n",
            "-33 -  \n",
            "-32 - U\n",
            "-31 - S\n",
            "-30 - $\n",
            "-29 -  \n",
            "-28 - 1\n",
            "-27 -  \n",
            "-26 - i\n",
            "-25 - s\n",
            "-24 -  \n",
            "-23 - e\n",
            "-22 - q\n",
            "-21 - u\n",
            "-20 - i\n",
            "-19 - v\n",
            "-18 - a\n",
            "-17 - l\n",
            "-16 - e\n",
            "-15 - n\n",
            "-14 - t\n",
            "-13 -  \n",
            "-12 - t\n",
            "-11 - o\n",
            "-10 -  \n",
            "-9 - I\n",
            "-8 - N\n",
            "-7 - R\n",
            "-6 -  \n",
            "-5 - 7\n",
            "-4 - 5\n",
            "-3 - .\n",
            "-2 - 8\n",
            "-1 - 4\n"
          ]
        }
      ]
    },
    {
      "cell_type": "markdown",
      "metadata": {
        "id": "FJnZY6yTIh2e"
      },
      "source": [
        "**3. String Slicing:** A small part of string sliced out from the original string."
      ]
    },
    {
      "cell_type": "code",
      "metadata": {
        "id": "_u4_5mr_IeLf",
        "colab": {
          "base_uri": "https://localhost:8080/",
          "height": 36
        },
        "outputId": "1bad8275-702a-4f2b-a3e0-cce6ae28931d"
      },
      "source": [
        "# Student Action: Get the first 5 characters (or items) of the above string.\n",
        "some_string[0:5]"
      ],
      "execution_count": null,
      "outputs": [
        {
          "output_type": "execute_result",
          "data": {
            "text/plain": [
              "'On 28'"
            ],
            "application/vnd.google.colaboratory.intrinsic+json": {
              "type": "string"
            }
          },
          "metadata": {},
          "execution_count": 13
        }
      ]
    },
    {
      "cell_type": "code",
      "metadata": {
        "id": "CXiH4PSFIzzE",
        "colab": {
          "base_uri": "https://localhost:8080/",
          "height": 36
        },
        "outputId": "8e29222f-2cfe-4a85-afda-64a86ab4db21"
      },
      "source": [
        "# Student Action: Get the first 5 characters (or items) of the above string in the reverse order.\n",
        "some_string[4::-1]"
      ],
      "execution_count": null,
      "outputs": [
        {
          "output_type": "execute_result",
          "data": {
            "text/plain": [
              "'82 nO'"
            ],
            "application/vnd.google.colaboratory.intrinsic+json": {
              "type": "string"
            }
          },
          "metadata": {},
          "execution_count": 15
        }
      ]
    },
    {
      "cell_type": "code",
      "source": [
        "new_string = some_string[0:5]"
      ],
      "metadata": {
        "id": "hZwwkNTUrvQe"
      },
      "execution_count": null,
      "outputs": []
    },
    {
      "cell_type": "code",
      "source": [
        "new_string[::-1]"
      ],
      "metadata": {
        "colab": {
          "base_uri": "https://localhost:8080/",
          "height": 36
        },
        "id": "g73Mb3mCr0ML",
        "outputId": "adeb930f-5afe-4bb7-fd7e-a4760eefadaf"
      },
      "execution_count": null,
      "outputs": [
        {
          "output_type": "execute_result",
          "data": {
            "text/plain": [
              "'82 nO'"
            ],
            "application/vnd.google.colaboratory.intrinsic+json": {
              "type": "string"
            }
          },
          "metadata": {},
          "execution_count": 18
        }
      ]
    },
    {
      "cell_type": "code",
      "metadata": {
        "id": "NUIt-yWBJhjT",
        "colab": {
          "base_uri": "https://localhost:8080/",
          "height": 36
        },
        "outputId": "8d90ce85-7a09-4c76-fc28-5b06fcd5507a"
      },
      "source": [
        "# Student Action: Get all the characters (or items) of the above string in the reverse order.\n",
        "some_string[::-1]"
      ],
      "execution_count": null,
      "outputs": [
        {
          "output_type": "execute_result",
          "data": {
            "text/plain": [
              "'48.57 RNI ot tnelaviuqe si 1 $SU ,0202-40-82 nO'"
            ],
            "application/vnd.google.colaboratory.intrinsic+json": {
              "type": "string"
            }
          },
          "metadata": {},
          "execution_count": 19
        }
      ]
    },
    {
      "cell_type": "markdown",
      "metadata": {
        "id": "awt5qmUzKBNP"
      },
      "source": [
        "You cannot change/replace the items of a string using the index method. For that, we have to use the `replace()` function which we will learn shortly."
      ]
    },
    {
      "cell_type": "code",
      "metadata": {
        "id": "3-nJOCEmK5W9",
        "colab": {
          "base_uri": "https://localhost:8080/",
          "height": 189
        },
        "outputId": "8c4817fa-dd5e-4523-a115-c17ba4aaa032"
      },
      "source": [
        "# Student Action: Try to replace the item at index = 3 with 'W'. You should get 'TypeError' because 'str' object does not support item assignment.\n",
        "some_string[3] = 'W'"
      ],
      "execution_count": null,
      "outputs": [
        {
          "output_type": "error",
          "ename": "TypeError",
          "evalue": "ignored",
          "traceback": [
            "\u001b[0;31m---------------------------------------------------------------------------\u001b[0m",
            "\u001b[0;31mTypeError\u001b[0m                                 Traceback (most recent call last)",
            "\u001b[0;32m<ipython-input-20-4524f5c6dc7b>\u001b[0m in \u001b[0;36m<module>\u001b[0;34m\u001b[0m\n\u001b[1;32m      1\u001b[0m \u001b[0;31m# Student Action: Try to replace the item at index = 3 with 'W'. You should get 'TypeError' because 'str' object does not support item assignment.\u001b[0m\u001b[0;34m\u001b[0m\u001b[0;34m\u001b[0m\u001b[0;34m\u001b[0m\u001b[0m\n\u001b[0;32m----> 2\u001b[0;31m \u001b[0msome_string\u001b[0m\u001b[0;34m[\u001b[0m\u001b[0;36m3\u001b[0m\u001b[0;34m]\u001b[0m \u001b[0;34m=\u001b[0m \u001b[0;34m'W'\u001b[0m\u001b[0;34m\u001b[0m\u001b[0;34m\u001b[0m\u001b[0m\n\u001b[0m",
            "\u001b[0;31mTypeError\u001b[0m: 'str' object does not support item assignment"
          ]
        }
      ]
    },
    {
      "cell_type": "markdown",
      "metadata": {
        "id": "zvzKPHe9LgqO"
      },
      "source": [
        "**4. String Index:** The `index()` function returns the index at which the item is located. In case of the repeated item, it returns the index at which it appears the first time in the string. The same is true in case of a list and a tuple."
      ]
    },
    {
      "cell_type": "code",
      "metadata": {
        "id": "uD5Ld2S3LxHm",
        "colab": {
          "base_uri": "https://localhost:8080/"
        },
        "outputId": "cdca1485-efee-424a-b084-9393545ed7af"
      },
      "source": [
        "# Student Action: Get the index of any item in the string that you created.\n",
        "some_string.index('O')"
      ],
      "execution_count": null,
      "outputs": [
        {
          "output_type": "execute_result",
          "data": {
            "text/plain": [
              "0"
            ]
          },
          "metadata": {},
          "execution_count": 24
        }
      ]
    },
    {
      "cell_type": "markdown",
      "metadata": {
        "id": "oNa1cgFTNMXi"
      },
      "source": [
        "**5. String Concatenation:** The process of joining two or more strings to get one string using the `+` operator is called string concatenation.\n",
        "\n",
        "**Note:** Before the string concatenation operation, you need to ensure that the objects to be concatenated are all strings. If a data-type that needs to be concatenated is not a string then, you first need to convert it into a string using the `str()` function."
      ]
    },
    {
      "cell_type": "code",
      "metadata": {
        "id": "MFk2vzm0OuvK",
        "colab": {
          "base_uri": "https://localhost:8080/",
          "height": 36
        },
        "outputId": "24c4a875-3737-4911-ffc3-f1a24733fc20"
      },
      "source": [
        "# Student Action: Concatenate the following objects to get the \"Jupiter has 79 known moons.\"\n",
        "name = 'Jupiter'\n",
        "planets = 79\n",
        "new_string = name + \" has \" +  str(planets) + \" known moons.\"\n",
        "new_string"
      ],
      "execution_count": null,
      "outputs": [
        {
          "output_type": "execute_result",
          "data": {
            "text/plain": [
              "'Jupiter has 79 known moons.'"
            ],
            "application/vnd.google.colaboratory.intrinsic+json": {
              "type": "string"
            }
          },
          "metadata": {},
          "execution_count": 28
        }
      ]
    },
    {
      "cell_type": "markdown",
      "metadata": {
        "id": "eQ2Hn1sefX6t"
      },
      "source": [
        "**6. The `enumerate()` Function**: It pairs the item in a string with its roll call and returns a collection of tuples."
      ]
    },
    {
      "cell_type": "code",
      "metadata": {
        "id": "cbB4VwB2gEjh"
      },
      "source": [
        "# Student Action: Apply the 'enumerate()' function on above string thrice: On top of it apply the 'list()', 'dict()' &  'tuple()' functions.\n",
        "# Store all of three of them in different variables.\n",
        "list1 = list(enumerate(some_string))\n",
        "dict1 = dict(enumerate(some_string))\n",
        "tuple1 = tuple(enumerate(some_string))"
      ],
      "execution_count": null,
      "outputs": []
    },
    {
      "cell_type": "code",
      "source": [
        "print(list1)\n",
        "print(dict1)\n",
        "print(tuple1)"
      ],
      "metadata": {
        "colab": {
          "base_uri": "https://localhost:8080/"
        },
        "id": "B5RwAWiqtHJy",
        "outputId": "75c7de95-1cdf-4b7a-fe2c-99c3ecc395b1"
      },
      "execution_count": null,
      "outputs": [
        {
          "output_type": "stream",
          "name": "stdout",
          "text": [
            "[(0, 'O'), (1, 'n'), (2, ' '), (3, '2'), (4, '8'), (5, '-'), (6, '0'), (7, '4'), (8, '-'), (9, '2'), (10, '0'), (11, '2'), (12, '0'), (13, ','), (14, ' '), (15, 'U'), (16, 'S'), (17, '$'), (18, ' '), (19, '1'), (20, ' '), (21, 'i'), (22, 's'), (23, ' '), (24, 'e'), (25, 'q'), (26, 'u'), (27, 'i'), (28, 'v'), (29, 'a'), (30, 'l'), (31, 'e'), (32, 'n'), (33, 't'), (34, ' '), (35, 't'), (36, 'o'), (37, ' '), (38, 'I'), (39, 'N'), (40, 'R'), (41, ' '), (42, '7'), (43, '5'), (44, '.'), (45, '8'), (46, '4')]\n",
            "{0: 'O', 1: 'n', 2: ' ', 3: '2', 4: '8', 5: '-', 6: '0', 7: '4', 8: '-', 9: '2', 10: '0', 11: '2', 12: '0', 13: ',', 14: ' ', 15: 'U', 16: 'S', 17: '$', 18: ' ', 19: '1', 20: ' ', 21: 'i', 22: 's', 23: ' ', 24: 'e', 25: 'q', 26: 'u', 27: 'i', 28: 'v', 29: 'a', 30: 'l', 31: 'e', 32: 'n', 33: 't', 34: ' ', 35: 't', 36: 'o', 37: ' ', 38: 'I', 39: 'N', 40: 'R', 41: ' ', 42: '7', 43: '5', 44: '.', 45: '8', 46: '4'}\n",
            "((0, 'O'), (1, 'n'), (2, ' '), (3, '2'), (4, '8'), (5, '-'), (6, '0'), (7, '4'), (8, '-'), (9, '2'), (10, '0'), (11, '2'), (12, '0'), (13, ','), (14, ' '), (15, 'U'), (16, 'S'), (17, '$'), (18, ' '), (19, '1'), (20, ' '), (21, 'i'), (22, 's'), (23, ' '), (24, 'e'), (25, 'q'), (26, 'u'), (27, 'i'), (28, 'v'), (29, 'a'), (30, 'l'), (31, 'e'), (32, 'n'), (33, 't'), (34, ' '), (35, 't'), (36, 'o'), (37, ' '), (38, 'I'), (39, 'N'), (40, 'R'), (41, ' '), (42, '7'), (43, '5'), (44, '.'), (45, '8'), (46, '4'))\n"
          ]
        }
      ]
    },
    {
      "cell_type": "markdown",
      "metadata": {
        "id": "47fwac30rP7R"
      },
      "source": [
        "**7. The `count()` Function:** It returns the number of times an item (or a character) appears in a string.  "
      ]
    },
    {
      "cell_type": "code",
      "metadata": {
        "id": "u6jwT9VEq0cW",
        "colab": {
          "base_uri": "https://localhost:8080/"
        },
        "outputId": "76948f91-4d3f-41f3-cec1-fc499b44b4d3"
      },
      "source": [
        "# Student Action: Count the number of spaces in the above string.\n",
        "some_string.count(\" \")"
      ],
      "execution_count": null,
      "outputs": [
        {
          "output_type": "execute_result",
          "data": {
            "text/plain": [
              "8"
            ]
          },
          "metadata": {},
          "execution_count": 31
        }
      ]
    },
    {
      "cell_type": "markdown",
      "metadata": {
        "id": "Q42qBPhNVMjz"
      },
      "source": [
        "---"
      ]
    },
    {
      "cell_type": "markdown",
      "metadata": {
        "id": "ThWR9mIBVOX1"
      },
      "source": [
        "#### Activity 2: Empty String & Multiline String^\n",
        "\n",
        "A string which has no item (or character) is called an empty string. It can be created by either using single quotes or double quotes without enclosing anything between them. Not even space."
      ]
    },
    {
      "cell_type": "code",
      "metadata": {
        "id": "o-_NmJhSVkNN",
        "colab": {
          "base_uri": "https://localhost:8080/"
        },
        "outputId": "4514b4aa-e4eb-45ad-f52f-033a53eca931"
      },
      "source": [
        "# Student Action: Create an empty string. Print the string and also print its length.\n",
        "empty_string = \"\"\n",
        "print(empty_string)\n",
        "print(len(empty_string))\n",
        "print(type(empty_string))"
      ],
      "execution_count": null,
      "outputs": [
        {
          "output_type": "stream",
          "name": "stdout",
          "text": [
            "\n",
            "0\n",
            "<class 'str'>\n"
          ]
        }
      ]
    },
    {
      "cell_type": "markdown",
      "metadata": {
        "id": "jnZrU2FXkB9D"
      },
      "source": [
        "You may require to write a very long string in multiple lines in a code cell. Such a string is called a multiline string. To create a multiline string, use three single quotes (`''' '''`) or three double quotes (`\"\"\" \"\"\"`).\n",
        "\n",
        "Here's one of the wonderful poems by Nobel Prize Winner Dr Rabindranath Tagore from this collection called Gitanjali.\n",
        "\n",
        "```\n",
        "Where the mind is without fear\n",
        "and the head is held high,\n",
        "where knowledge is free.\n",
        "Where the world has not been broken up into fragments,\n",
        "by narrow domestic walls.\n",
        "Where words come out from the depth of truth,\n",
        "where tireless striving stretches its arms toward perfection.\n",
        "Where the clear stream of reason has not lost its way\n",
        "into the dreary desert sand of dead habit.\n",
        "Where the mind is led forward by thee\n",
        "into ever widening thought and action.\n",
        "In to that heaven of freedom, my father,\n",
        "LET MY COUNTRY AWAKE!\n",
        "```\n",
        "\n",
        "The above poem has 13 lines. If we want to print it as a string in the following code cell, then we will have to create it as a multiline string."
      ]
    },
    {
      "cell_type": "code",
      "metadata": {
        "id": "hJlxpFfmmN7-",
        "colab": {
          "base_uri": "https://localhost:8080/"
        },
        "outputId": "1353f576-5e07-4cf7-a546-6ee78aa58c33"
      },
      "source": [
        "# Student Action: Create the multiline string for the above poem and print it using the 'print()' function.\n",
        "long_string = \"\"\"Where the mind is without fear\n",
        "and the head is held high,\n",
        "where knowledge is free.\n",
        "Where the world has not been broken up into fragments,\n",
        "by narrow domestic walls.\n",
        "Where words come out from the depth of truth,\n",
        "where tireless striving stretches its arms toward perfection.\n",
        "Where the clear stream of reason has not lost its way\n",
        "into the dreary desert sand of dead habit.\n",
        "Where the mind is led forward by thee\n",
        "into ever widening thought and action.\n",
        "In to that heaven of freedom, my father,\n",
        "LET MY COUNTRY AWAKE!\"\"\"\n",
        "\n",
        "print(long_string)"
      ],
      "execution_count": null,
      "outputs": [
        {
          "output_type": "stream",
          "name": "stdout",
          "text": [
            "Where the mind is without fear\n",
            "and the head is held high,\n",
            "where knowledge is free.\n",
            "Where the world has not been broken up into fragments, \n",
            "by narrow domestic walls.\n",
            "Where words come out from the depth of truth,\n",
            "where tireless striving stretches its arms toward perfection.\n",
            "Where the clear stream of reason has not lost its way\n",
            "into the dreary desert sand of dead habit.\n",
            "Where the mind is led forward by thee\n",
            "into ever widening thought and action.\n",
            "In to that heaven of freedom, my father,\n",
            "LET MY COUNTRY AWAKE!\n"
          ]
        }
      ]
    },
    {
      "cell_type": "markdown",
      "metadata": {
        "id": "6igTWqxBmo7s"
      },
      "source": [
        "The way you indent a multiline string is a way it gets printed in the output.\n",
        "\n",
        "Try to create the above string with either single quotes and double quotes. You should get an error."
      ]
    },
    {
      "cell_type": "code",
      "metadata": {
        "id": "MTCL0R8Kmwm9",
        "colab": {
          "base_uri": "https://localhost:8080/",
          "height": 134
        },
        "outputId": "30034060-661d-4c2b-bf31-aaa62a3ca4c7"
      },
      "source": [
        "# Student Action: Create the multiline string for the above poem and print it using the 'print()' function.\n",
        "long_string_2 = \"Where the mind is without fear\n",
        "and the head is held high,\n",
        "where knowledge is free.\n",
        "Where the world has not been broken up into fragments,\n",
        "by narrow domestic walls.\n",
        "Where words come out from the depth of truth,\n",
        "where tireless striving stretches its arms toward perfection.\n",
        "Where the clear stream of reason has not lost its way\n",
        "into the dreary desert sand of dead habit.\n",
        "Where the mind is led forward by thee\n",
        "into ever widening thought and action.\n",
        "In to that heaven of freedom, my father,\n",
        "LET MY COUNTRY AWAKE!\"\n",
        "\n",
        "print(long_string_2)"
      ],
      "execution_count": null,
      "outputs": [
        {
          "output_type": "error",
          "ename": "SyntaxError",
          "evalue": "ignored",
          "traceback": [
            "\u001b[0;36m  File \u001b[0;32m\"<ipython-input-34-a13acd201ce5>\"\u001b[0;36m, line \u001b[0;32m2\u001b[0m\n\u001b[0;31m    long_string_2 = \"Where the mind is without fear\u001b[0m\n\u001b[0m                                                   ^\u001b[0m\n\u001b[0;31mSyntaxError\u001b[0m\u001b[0;31m:\u001b[0m EOL while scanning string literal\n"
          ]
        }
      ]
    },
    {
      "cell_type": "markdown",
      "metadata": {
        "id": "XV9GyuzxaRxk"
      },
      "source": [
        "---"
      ]
    },
    {
      "cell_type": "markdown",
      "metadata": {
        "id": "mZ4NjAtWsSMG"
      },
      "source": [
        "#### Activity 3: Repetition^^\n",
        "\n",
        "You can repeat a string several times by using the `*` operator. Using this concept you can create many incredible patterns such as a triangle, a rectangle, square etc.\n",
        "\n",
        "Let's learn this concept by creating the following triangle.\n",
        "\n",
        "```\n",
        "#\n",
        "##\n",
        "###\n",
        "####\n",
        "#####\n",
        "```\n",
        "\n",
        "Here, the `#` string appears only once in the first line, twice in the second line, thrice in the third line, four times in the fourth line and five times in the fifth line."
      ]
    },
    {
      "cell_type": "code",
      "source": [
        "\"*\" * 3"
      ],
      "metadata": {
        "colab": {
          "base_uri": "https://localhost:8080/",
          "height": 36
        },
        "id": "aYwjCsVWt0xx",
        "outputId": "bb7237e0-4097-469c-bee2-eb1100257fae"
      },
      "execution_count": null,
      "outputs": [
        {
          "output_type": "execute_result",
          "data": {
            "text/plain": [
              "'***'"
            ],
            "application/vnd.google.colaboratory.intrinsic+json": {
              "type": "string"
            }
          },
          "metadata": {},
          "execution_count": 35
        }
      ]
    },
    {
      "cell_type": "code",
      "metadata": {
        "id": "JfepSinHstil",
        "colab": {
          "base_uri": "https://localhost:8080/"
        },
        "outputId": "a799c063-5417-4378-b87f-9e87a0e6a829"
      },
      "source": [
        "# Teacher Action: Create the above triangle.\n",
        "for i in range(0,6):\n",
        "    print(\"#\" * i)"
      ],
      "execution_count": null,
      "outputs": [
        {
          "output_type": "stream",
          "name": "stdout",
          "text": [
            "\n",
            "#\n",
            "##\n",
            "###\n",
            "####\n",
            "#####\n"
          ]
        }
      ]
    },
    {
      "cell_type": "markdown",
      "metadata": {
        "id": "5OiQmtuLtaT2"
      },
      "source": [
        "In the above code:\n",
        "\n",
        "- the value of `i` goes from 1 to 5.\n",
        "\n",
        "- `i = 1`, repeats the `'#'` string only once because of `'#' * 1`.\n",
        "\n",
        "- `i = 2`, repeats the `'#'` string twice because of `'#' * 2`\n",
        "\n",
        "- `i = 3`, repeats the `'#'` string thrice because of `'#' * 3`\n",
        "\n",
        "- `i = 4`, repeats the `'#'` string four times because of `'#' * 4`\n",
        "\n",
        "- `i = 5`, repeats the `'#'` string five times because of `'#' * 5`\n",
        "\n",
        "Now, you create the following triangle. It is a mirror image of the above triangle.\n",
        "\n",
        "```\n",
        "    #\n",
        "   ##\n",
        "  ###\n",
        " ####\n",
        "#####\n",
        "```\n"
      ]
    },
    {
      "cell_type": "code",
      "metadata": {
        "id": "wrCs3k3ZvhLT",
        "colab": {
          "base_uri": "https://localhost:8080/"
        },
        "outputId": "f8c72b1d-5712-4311-a9e4-23d891c8c2e2"
      },
      "source": [
        "# Student Action: Create the above triangle.\n",
        "for i in range(0,6):\n",
        "  print(\" \" * (5-i) + (\"#\") * i)"
      ],
      "execution_count": null,
      "outputs": [
        {
          "output_type": "stream",
          "name": "stdout",
          "text": [
            "     \n",
            "    #\n",
            "   ##\n",
            "  ###\n",
            " ####\n",
            "#####\n"
          ]
        }
      ]
    },
    {
      "cell_type": "markdown",
      "metadata": {
        "id": "FMhzOap-x8IM"
      },
      "source": [
        "In the above code:\n",
        "\n",
        "- the value of `i` goes from 1 to 5.\n",
        "\n",
        "- `i = 1`, repeats the space `' '` four times because of `' ' * (5 - 1)` and the `'#'` string only once because of `'#' * 1`.\n",
        "\n",
        "- `i = 2`, repeats the space `' '` thrice because of `' ' * (5 - 2)` and the `'#'` string twice because of `'#' * 2`\n",
        "\n",
        "- `i = 3`, repeats the space `' '` twice because of `' ' * (5 - 3)` and the `'#'` string thrice because of `'#' * 3`\n",
        "\n",
        "- `i = 4`, repeats the space `' '` only once because of `' ' * (5 - 4)` and the `'#'` string four times because of `'#' * 4`\n",
        "\n",
        "- `i = 5`, repeats the space `' '` zero times because of `' ' * (5 - 5)` and the `'#'` string five times because of `'#' * 5`\n",
        "\n",
        "\n",
        "Similarly, you can create many more such patterns.\n",
        "\n",
        "**Note:** Similarly, you can also repeat the times contained in a list and in a tuple multiple times using the `*` operator."
      ]
    },
    {
      "cell_type": "code",
      "metadata": {
        "id": "DNX97jn-St3h",
        "colab": {
          "base_uri": "https://localhost:8080/"
        },
        "outputId": "c39dd813-23e2-469e-c5ef-853645833c24"
      },
      "source": [
        "# Student Action: Create a list containing three items and repeat them twice.\n",
        "list2 = [1,2,3]\n",
        "list2 * 4"
      ],
      "execution_count": null,
      "outputs": [
        {
          "output_type": "execute_result",
          "data": {
            "text/plain": [
              "[1, 2, 3, 1, 2, 3, 1, 2, 3, 1, 2, 3]"
            ]
          },
          "metadata": {},
          "execution_count": 43
        }
      ]
    },
    {
      "cell_type": "code",
      "metadata": {
        "id": "bK7ovlG1SJ-w",
        "colab": {
          "base_uri": "https://localhost:8080/"
        },
        "outputId": "06b62be7-452c-4c1b-e6fb-3ac4a2650e81"
      },
      "source": [
        "# Student Action: Create a tuple containing three items and repeat them four times.\n",
        "tuple2 = (1,2,\"Hi\")\n",
        "tuple2 * 3"
      ],
      "execution_count": null,
      "outputs": [
        {
          "output_type": "execute_result",
          "data": {
            "text/plain": [
              "(1, 2, 'Hi', 1, 2, 'Hi', 1, 2, 'Hi')"
            ]
          },
          "metadata": {},
          "execution_count": 44
        }
      ]
    },
    {
      "cell_type": "markdown",
      "metadata": {
        "id": "0OMi1V9osRiW"
      },
      "source": [
        "---"
      ]
    },
    {
      "cell_type": "markdown",
      "metadata": {
        "id": "uSbF9A2m8Hm4"
      },
      "source": [
        "#### Activity 4: The `format()` Function^^^\n",
        "\n",
        "This function is our best friend when it comes to formatting a string. Why?\n",
        "\n",
        "Recall that in the case of the string concatenation, we have to use the `+` operator several times to get one string. Additionally, you have to beware of spaces and also have to convert a non-string data-type object to a string before concatenation. This is such a big hassle if too many strings are to be concatenated.\n",
        "\n",
        "Similarly, while printing the values of multiple entities using the `print()` function, you have to separate them with commas. Again quite a handful tasks especially in case of long strings.\n",
        "\n",
        "The `format()` function doesn't require that much effort to generate a clean string. It allows you to create one long string with proper punctuation and plug-in the required values at the respective places in the long string.\n",
        "\n",
        "Let's learn this function with the help of an example. We have a CSV containing the data of the 20 professional marathon runners (men's category) who participated in Tata Mumbai Marathon (TMM) 2020.\n",
        "\n",
        "Our task is to create a certificate for each runner using the `format()` function. The certificate should read the following:\n",
        "\n",
        "```\n",
        "Tata Mumbai Marathon 2020\n",
        "\n",
        "      CONGRATULATIONS\n",
        "\n",
        "This is to certify that DERARA HURISA                    \n",
        "BIB No. 19\n",
        "officially completed the marathon\n",
        "(distance 42.2 km)\n",
        "in the men's category\n",
        "with a finish time of 2:08:09\n",
        "and rank 1.                   \n",
        "--------------------------------------------------\n",
        "```\n",
        "\n",
        "Here's the link to the CSV file containing data for each runner:\n",
        "\n",
        "https://student-datasets-bucket.s3.ap-south-1.amazonaws.com/whitehat-ds-datasets/tmm-2020-race-results/TMM2020_RaceResults.csv\n",
        "\n",
        "\n",
        "**How to approach this task?**\n",
        "\n",
        "1. Create a Pandas DataFrame for the TMM 2020 professional runners (men's category).\n",
        "\n",
        "2. Create the following string with curly brackets as placeholders:\n",
        "\n",
        "  ```\n",
        "  Tata Mumbai Marathon 2020\n",
        "\n",
        "        CONGRATULATIONS\n",
        "\n",
        "  This is to certify that {}                    \n",
        "  BIB No. {}\n",
        "  officially completed the marathon\n",
        "  (distance 42.2 km)\n",
        "  in the men's category\n",
        "  with a finish time of {}\n",
        "  and rank {}.                   \n",
        "  {}\n",
        "  ```\n",
        "\n",
        "3. Iterate through each row of the DataFrame created in the first step to get the name, BIB number, race finish time and rank of a runner.\n",
        "\n",
        "4. Fill the values in the placeholders (or curly brackets) using the `format()` function such that\n",
        "\n",
        "      - the name of a runner goes to the first placeholder.\n",
        "\n",
        "      - the BIB number of a runner goes to the second placeholder.\n",
        "\n",
        "      - the race finish time of a runner goes to the third placeholder.\n",
        "\n",
        "      - the rank of a runner goes to the fifth placeholder.\n",
        "\n",
        "      - the 50 repetitions of the hyphen symbol goe to the last placeholder.\n",
        "\n",
        "5. Print the prescribed certificate for each runner.\n",
        "\n",
        "The steps 3, 4 and 5 are part of the same iteration."
      ]
    },
    {
      "cell_type": "code",
      "metadata": {
        "id": "VNq8Xc7E3X39"
      },
      "source": [
        "# Teacher Action: Create a Pandas DataFrame for the TMM 2020 runners.\n",
        "import pandas as pd\n",
        "cert_df = pd.read_csv(\"https://student-datasets-bucket.s3.ap-south-1.amazonaws.com/whitehat-ds-datasets/tmm-2020-race-results/TMM2020_RaceResults.csv\")"
      ],
      "execution_count": null,
      "outputs": []
    },
    {
      "cell_type": "markdown",
      "metadata": {
        "id": "LH7PYgKn7FAQ"
      },
      "source": [
        "The first step is done. Now, let's follow the remaining steps."
      ]
    },
    {
      "cell_type": "code",
      "metadata": {
        "id": "TdemmHi_8-vb",
        "colab": {
          "base_uri": "https://localhost:8080/",
          "height": 206
        },
        "outputId": "90823a82-e3fc-40d3-f462-37de5fc72057"
      },
      "source": [
        "# Teacher Action: Print the certificates for each TMM 2020 runner in the prescribed format.\n",
        "cert_df.head()"
      ],
      "execution_count": null,
      "outputs": [
        {
          "output_type": "execute_result",
          "data": {
            "text/plain": [
              "   Finish Position  BIB             NAME NATIONALITY Net Finish Time\n",
              "0                1   19    DERARA HURISA         ETH         2:08:09\n",
              "1                2    2    AYELE ABSHERO         ETH         2:08:20\n",
              "2                3    8  BIRHANU TESHOME         ETH         2:08:26\n",
              "3                4   14   JACKSON KIPROP         UGA         2:08:41\n",
              "4                5   15         ABDI ALI         BHR         2:08:56"
            ],
            "text/html": [
              "\n",
              "  <div id=\"df-e6e40c57-84bb-485e-8fd3-c09584ba9158\">\n",
              "    <div class=\"colab-df-container\">\n",
              "      <div>\n",
              "<style scoped>\n",
              "    .dataframe tbody tr th:only-of-type {\n",
              "        vertical-align: middle;\n",
              "    }\n",
              "\n",
              "    .dataframe tbody tr th {\n",
              "        vertical-align: top;\n",
              "    }\n",
              "\n",
              "    .dataframe thead th {\n",
              "        text-align: right;\n",
              "    }\n",
              "</style>\n",
              "<table border=\"1\" class=\"dataframe\">\n",
              "  <thead>\n",
              "    <tr style=\"text-align: right;\">\n",
              "      <th></th>\n",
              "      <th>Finish Position</th>\n",
              "      <th>BIB</th>\n",
              "      <th>NAME</th>\n",
              "      <th>NATIONALITY</th>\n",
              "      <th>Net Finish Time</th>\n",
              "    </tr>\n",
              "  </thead>\n",
              "  <tbody>\n",
              "    <tr>\n",
              "      <th>0</th>\n",
              "      <td>1</td>\n",
              "      <td>19</td>\n",
              "      <td>DERARA HURISA</td>\n",
              "      <td>ETH</td>\n",
              "      <td>2:08:09</td>\n",
              "    </tr>\n",
              "    <tr>\n",
              "      <th>1</th>\n",
              "      <td>2</td>\n",
              "      <td>2</td>\n",
              "      <td>AYELE ABSHERO</td>\n",
              "      <td>ETH</td>\n",
              "      <td>2:08:20</td>\n",
              "    </tr>\n",
              "    <tr>\n",
              "      <th>2</th>\n",
              "      <td>3</td>\n",
              "      <td>8</td>\n",
              "      <td>BIRHANU TESHOME</td>\n",
              "      <td>ETH</td>\n",
              "      <td>2:08:26</td>\n",
              "    </tr>\n",
              "    <tr>\n",
              "      <th>3</th>\n",
              "      <td>4</td>\n",
              "      <td>14</td>\n",
              "      <td>JACKSON KIPROP</td>\n",
              "      <td>UGA</td>\n",
              "      <td>2:08:41</td>\n",
              "    </tr>\n",
              "    <tr>\n",
              "      <th>4</th>\n",
              "      <td>5</td>\n",
              "      <td>15</td>\n",
              "      <td>ABDI ALI</td>\n",
              "      <td>BHR</td>\n",
              "      <td>2:08:56</td>\n",
              "    </tr>\n",
              "  </tbody>\n",
              "</table>\n",
              "</div>\n",
              "      <button class=\"colab-df-convert\" onclick=\"convertToInteractive('df-e6e40c57-84bb-485e-8fd3-c09584ba9158')\"\n",
              "              title=\"Convert this dataframe to an interactive table.\"\n",
              "              style=\"display:none;\">\n",
              "        \n",
              "  <svg xmlns=\"http://www.w3.org/2000/svg\" height=\"24px\"viewBox=\"0 0 24 24\"\n",
              "       width=\"24px\">\n",
              "    <path d=\"M0 0h24v24H0V0z\" fill=\"none\"/>\n",
              "    <path d=\"M18.56 5.44l.94 2.06.94-2.06 2.06-.94-2.06-.94-.94-2.06-.94 2.06-2.06.94zm-11 1L8.5 8.5l.94-2.06 2.06-.94-2.06-.94L8.5 2.5l-.94 2.06-2.06.94zm10 10l.94 2.06.94-2.06 2.06-.94-2.06-.94-.94-2.06-.94 2.06-2.06.94z\"/><path d=\"M17.41 7.96l-1.37-1.37c-.4-.4-.92-.59-1.43-.59-.52 0-1.04.2-1.43.59L10.3 9.45l-7.72 7.72c-.78.78-.78 2.05 0 2.83L4 21.41c.39.39.9.59 1.41.59.51 0 1.02-.2 1.41-.59l7.78-7.78 2.81-2.81c.8-.78.8-2.07 0-2.86zM5.41 20L4 18.59l7.72-7.72 1.47 1.35L5.41 20z\"/>\n",
              "  </svg>\n",
              "      </button>\n",
              "      \n",
              "  <style>\n",
              "    .colab-df-container {\n",
              "      display:flex;\n",
              "      flex-wrap:wrap;\n",
              "      gap: 12px;\n",
              "    }\n",
              "\n",
              "    .colab-df-convert {\n",
              "      background-color: #E8F0FE;\n",
              "      border: none;\n",
              "      border-radius: 50%;\n",
              "      cursor: pointer;\n",
              "      display: none;\n",
              "      fill: #1967D2;\n",
              "      height: 32px;\n",
              "      padding: 0 0 0 0;\n",
              "      width: 32px;\n",
              "    }\n",
              "\n",
              "    .colab-df-convert:hover {\n",
              "      background-color: #E2EBFA;\n",
              "      box-shadow: 0px 1px 2px rgba(60, 64, 67, 0.3), 0px 1px 3px 1px rgba(60, 64, 67, 0.15);\n",
              "      fill: #174EA6;\n",
              "    }\n",
              "\n",
              "    [theme=dark] .colab-df-convert {\n",
              "      background-color: #3B4455;\n",
              "      fill: #D2E3FC;\n",
              "    }\n",
              "\n",
              "    [theme=dark] .colab-df-convert:hover {\n",
              "      background-color: #434B5C;\n",
              "      box-shadow: 0px 1px 3px 1px rgba(0, 0, 0, 0.15);\n",
              "      filter: drop-shadow(0px 1px 2px rgba(0, 0, 0, 0.3));\n",
              "      fill: #FFFFFF;\n",
              "    }\n",
              "  </style>\n",
              "\n",
              "      <script>\n",
              "        const buttonEl =\n",
              "          document.querySelector('#df-e6e40c57-84bb-485e-8fd3-c09584ba9158 button.colab-df-convert');\n",
              "        buttonEl.style.display =\n",
              "          google.colab.kernel.accessAllowed ? 'block' : 'none';\n",
              "\n",
              "        async function convertToInteractive(key) {\n",
              "          const element = document.querySelector('#df-e6e40c57-84bb-485e-8fd3-c09584ba9158');\n",
              "          const dataTable =\n",
              "            await google.colab.kernel.invokeFunction('convertToInteractive',\n",
              "                                                     [key], {});\n",
              "          if (!dataTable) return;\n",
              "\n",
              "          const docLinkHtml = 'Like what you see? Visit the ' +\n",
              "            '<a target=\"_blank\" href=https://colab.research.google.com/notebooks/data_table.ipynb>data table notebook</a>'\n",
              "            + ' to learn more about interactive tables.';\n",
              "          element.innerHTML = '';\n",
              "          dataTable['output_type'] = 'display_data';\n",
              "          await google.colab.output.renderOutput(dataTable, element);\n",
              "          const docLink = document.createElement('div');\n",
              "          docLink.innerHTML = docLinkHtml;\n",
              "          element.appendChild(docLink);\n",
              "        }\n",
              "      </script>\n",
              "    </div>\n",
              "  </div>\n",
              "  "
            ]
          },
          "metadata": {},
          "execution_count": 46
        }
      ]
    },
    {
      "cell_type": "code",
      "source": [
        "cert2 = \"\"\"Tata Mumbai Marathon 2020\n",
        "\n",
        "     CONGRATULATIONS\n",
        "\n",
        "This is to certify that {}\n",
        "BIB No. {}\n",
        "officially completed the marathon\n",
        "(distance 42.2 km)\n",
        "in the men's category\n",
        "with a finish time of {}\n",
        "and rank {}.\n",
        "{}\"\"\""
      ],
      "metadata": {
        "id": "unENVugRvgtk"
      },
      "execution_count": null,
      "outputs": []
    },
    {
      "cell_type": "code",
      "source": [
        "for i in cert_df.index:\n",
        "  print(cert2.format(cert_df.loc[i,\"NAME\"] , cert_df.loc[i,\"BIB\"] , cert_df.loc[i,\"Net Finish Time\"] , cert_df.loc[i,\"Finish Position\"] , \"-\" * 50))"
      ],
      "metadata": {
        "colab": {
          "base_uri": "https://localhost:8080/"
        },
        "id": "baLqfsXIvqXK",
        "outputId": "9d3bdc3f-cb9d-4d69-f000-45ba56978d08"
      },
      "execution_count": null,
      "outputs": [
        {
          "output_type": "stream",
          "name": "stdout",
          "text": [
            "Tata Mumbai Marathon 2020\n",
            "\n",
            "     CONGRATULATIONS\n",
            "\n",
            "This is to certify that DERARA HURISA                    \n",
            "BIB No. 19\n",
            "officially completed the marathon \n",
            "(distance 42.2 km) \n",
            "in the men's category \n",
            "with a finish time of 2:08:09 \n",
            "and rank 1.                   \n",
            "--------------------------------------------------\n",
            "Tata Mumbai Marathon 2020\n",
            "\n",
            "     CONGRATULATIONS\n",
            "\n",
            "This is to certify that AYELE ABSHERO                    \n",
            "BIB No. 2\n",
            "officially completed the marathon \n",
            "(distance 42.2 km) \n",
            "in the men's category \n",
            "with a finish time of 2:08:20 \n",
            "and rank 2.                   \n",
            "--------------------------------------------------\n",
            "Tata Mumbai Marathon 2020\n",
            "\n",
            "     CONGRATULATIONS\n",
            "\n",
            "This is to certify that BIRHANU TESHOME                    \n",
            "BIB No. 8\n",
            "officially completed the marathon \n",
            "(distance 42.2 km) \n",
            "in the men's category \n",
            "with a finish time of 2:08:26 \n",
            "and rank 3.                   \n",
            "--------------------------------------------------\n",
            "Tata Mumbai Marathon 2020\n",
            "\n",
            "     CONGRATULATIONS\n",
            "\n",
            "This is to certify that JACKSON KIPROP                    \n",
            "BIB No. 14\n",
            "officially completed the marathon \n",
            "(distance 42.2 km) \n",
            "in the men's category \n",
            "with a finish time of 2:08:41 \n",
            "and rank 4.                   \n",
            "--------------------------------------------------\n",
            "Tata Mumbai Marathon 2020\n",
            "\n",
            "     CONGRATULATIONS\n",
            "\n",
            "This is to certify that ABDI ALI                    \n",
            "BIB No. 15\n",
            "officially completed the marathon \n",
            "(distance 42.2 km) \n",
            "in the men's category \n",
            "with a finish time of 2:08:56 \n",
            "and rank 5.                   \n",
            "--------------------------------------------------\n",
            "Tata Mumbai Marathon 2020\n",
            "\n",
            "     CONGRATULATIONS\n",
            "\n",
            "This is to certify that PAUL MAINA                    \n",
            "BIB No. 9\n",
            "officially completed the marathon \n",
            "(distance 42.2 km) \n",
            "in the men's category \n",
            "with a finish time of 2:09:01 \n",
            "and rank 6.                   \n",
            "--------------------------------------------------\n",
            "Tata Mumbai Marathon 2020\n",
            "\n",
            "     CONGRATULATIONS\n",
            "\n",
            "This is to certify that ABERA KUMA                    \n",
            "BIB No. 3\n",
            "officially completed the marathon \n",
            "(distance 42.2 km) \n",
            "in the men's category \n",
            "with a finish time of 2:09:15 \n",
            "and rank 7.                   \n",
            "--------------------------------------------------\n",
            "Tata Mumbai Marathon 2020\n",
            "\n",
            "     CONGRATULATIONS\n",
            "\n",
            "This is to certify that KEBEDE WAMI                    \n",
            "BIB No. 18\n",
            "officially completed the marathon \n",
            "(distance 42.2 km) \n",
            "in the men's category \n",
            "with a finish time of 2:10:04 \n",
            "and rank 8.                   \n",
            "--------------------------------------------------\n",
            "Tata Mumbai Marathon 2020\n",
            "\n",
            "     CONGRATULATIONS\n",
            "\n",
            "This is to certify that MERHAWI KESETE                    \n",
            "BIB No. 12\n",
            "officially completed the marathon \n",
            "(distance 42.2 km) \n",
            "in the men's category \n",
            "with a finish time of 2:10:36 \n",
            "and rank 9.                   \n",
            "--------------------------------------------------\n",
            "Tata Mumbai Marathon 2020\n",
            "\n",
            "     CONGRATULATIONS\n",
            "\n",
            "This is to certify that BIRA SEBOKA                    \n",
            "BIB No. 11\n",
            "officially completed the marathon \n",
            "(distance 42.2 km) \n",
            "in the men's category \n",
            "with a finish time of 2:10:37 \n",
            "and rank 10.                   \n",
            "--------------------------------------------------\n",
            "Tata Mumbai Marathon 2020\n",
            "\n",
            "     CONGRATULATIONS\n",
            "\n",
            "This is to certify that VINCENT RONO                    \n",
            "BIB No. 7\n",
            "officially completed the marathon \n",
            "(distance 42.2 km) \n",
            "in the men's category \n",
            "with a finish time of 2:11:15 \n",
            "and rank 11.                   \n",
            "--------------------------------------------------\n",
            "Tata Mumbai Marathon 2020\n",
            "\n",
            "     CONGRATULATIONS\n",
            "\n",
            "This is to certify that SHUMET AKALNEW                    \n",
            "BIB No. 10\n",
            "officially completed the marathon \n",
            "(distance 42.2 km) \n",
            "in the men's category \n",
            "with a finish time of 2:13:39 \n",
            "and rank 12.                   \n",
            "--------------------------------------------------\n",
            "Tata Mumbai Marathon 2020\n",
            "\n",
            "     CONGRATULATIONS\n",
            "\n",
            "This is to certify that SRINU BUGATHA                    \n",
            "BIB No. 51\n",
            "officially completed the marathon \n",
            "(distance 42.2 km) \n",
            "in the men's category \n",
            "with a finish time of 2:18:44 \n",
            "and rank 13.                   \n",
            "--------------------------------------------------\n",
            "Tata Mumbai Marathon 2020\n",
            "\n",
            "     CONGRATULATIONS\n",
            "\n",
            "This is to certify that SHER SINGH                    \n",
            "BIB No. 56\n",
            "officially completed the marathon \n",
            "(distance 42.2 km) \n",
            "in the men's category \n",
            "with a finish time of 2:24:00 \n",
            "and rank 14.                   \n",
            "--------------------------------------------------\n",
            "Tata Mumbai Marathon 2020\n",
            "\n",
            "     CONGRATULATIONS\n",
            "\n",
            "This is to certify that DURGA BAHADUR BUDHA                    \n",
            "BIB No. 53\n",
            "officially completed the marathon \n",
            "(distance 42.2 km) \n",
            "in the men's category \n",
            "with a finish time of 2:24:03 \n",
            "and rank 15.                   \n",
            "--------------------------------------------------\n",
            "Tata Mumbai Marathon 2020\n",
            "\n",
            "     CONGRATULATIONS\n",
            "\n",
            "This is to certify that RAVIPRAKASH                    \n",
            "BIB No. 70\n",
            "officially completed the marathon \n",
            "(distance 42.2 km) \n",
            "in the men's category \n",
            "with a finish time of 2:24:32 \n",
            "and rank 16.                   \n",
            "--------------------------------------------------\n",
            "Tata Mumbai Marathon 2020\n",
            "\n",
            "     CONGRATULATIONS\n",
            "\n",
            "This is to certify that SYLVESTER KIPTOO                    \n",
            "BIB No. 27\n",
            "officially completed the marathon \n",
            "(distance 42.2 km) \n",
            "in the men's category \n",
            "with a finish time of 2:24:53 \n",
            "and rank 17.                   \n",
            "--------------------------------------------------\n",
            "Tata Mumbai Marathon 2020\n",
            "\n",
            "     CONGRATULATIONS\n",
            "\n",
            "This is to certify that RAHUL PAL                    \n",
            "BIB No. 55\n",
            "officially completed the marathon \n",
            "(distance 42.2 km) \n",
            "in the men's category \n",
            "with a finish time of 2:26:56 \n",
            "and rank 18.                   \n",
            "--------------------------------------------------\n",
            "Tata Mumbai Marathon 2020\n",
            "\n",
            "     CONGRATULATIONS\n",
            "\n",
            "This is to certify that PRADEEP SINGH CHAUDHARY                    \n",
            "BIB No. 54\n",
            "officially completed the marathon \n",
            "(distance 42.2 km) \n",
            "in the men's category \n",
            "with a finish time of 2:29:27 \n",
            "and rank 19.                   \n",
            "--------------------------------------------------\n",
            "Tata Mumbai Marathon 2020\n",
            "\n",
            "     CONGRATULATIONS\n",
            "\n",
            "This is to certify that MOHIT RATHORE                    \n",
            "BIB No. 57\n",
            "officially completed the marathon \n",
            "(distance 42.2 km) \n",
            "in the men's category \n",
            "with a finish time of 2:31:16 \n",
            "and rank 20.                   \n",
            "--------------------------------------------------\n"
          ]
        }
      ]
    },
    {
      "cell_type": "markdown",
      "metadata": {
        "id": "_Zbr1xTY9Olb"
      },
      "source": [
        "As you can see, we first created a multiline string and stored it in a variable. The string contains five place holders in the form of curly brackets.\n",
        "\n",
        "- The first place holder is created to store the name of each runner.\n",
        "\n",
        "- The second place holder is created to store the BIB number of each runner.\n",
        "\n",
        "- The third place holder is created to store the finish time of each runner.\n",
        "\n",
        "- The fourth place holder is created to store the rank secured by each runner in the marathon.\n",
        "\n",
        "- The fifth place holder is created to store the hyphen symbol (`-`).\n",
        "\n",
        "In the same order of the place holders, we passed the values to the `format()` so that they occupy their respective places in the final string. The last value,  `'-' * 50`, that is passed to the `format()` function means that the hyphen symbol is repeated 50 times.\n",
        "\n",
        "**Labelling Placeholders**\n",
        "\n",
        "When there are too many placeholders to fill, you might lose a track of what value to put to what placeholder. In such cases, the better approach is to label the placeholders in such a way that they describe the values to put to the placeholders."
      ]
    },
    {
      "cell_type": "code",
      "metadata": {
        "id": "aSqns1fTbYio"
      },
      "source": [
        "# Teacher Action: Label the placeholders in the above code.\n",
        "cert3 = \"\"\"Tata Mumbai Marathon 2020\n",
        "\n",
        "     CONGRATULATIONS\n",
        "\n",
        "This is to certify that {name}\n",
        "BIB No. {bib}\n",
        "officially completed the marathon\n",
        "(distance 42.2 km)\n",
        "in the men's category\n",
        "with a finish time of {net_finish_time}\n",
        "and rank {finish_position}.\n",
        "{hyphen}\"\"\""
      ],
      "execution_count": null,
      "outputs": []
    },
    {
      "cell_type": "code",
      "source": [
        "for i in cert_df.index:\n",
        "  print(cert3.format(name = cert_df.loc[i,\"NAME\"] , bib = cert_df.loc[i,\"BIB\"] , net_finish_time = cert_df.loc[i,\"Net Finish Time\"] , finish_position = cert_df.loc[i,\"Finish Position\"] , hyphen = \"-\" * 50))"
      ],
      "metadata": {
        "colab": {
          "base_uri": "https://localhost:8080/"
        },
        "id": "G6DHZV__w4GO",
        "outputId": "d572148b-c024-4a9b-f529-633c358048f4"
      },
      "execution_count": null,
      "outputs": [
        {
          "output_type": "stream",
          "name": "stdout",
          "text": [
            "Tata Mumbai Marathon 2020\n",
            "\n",
            "     CONGRATULATIONS\n",
            "\n",
            "This is to certify that DERARA HURISA                    \n",
            "BIB No. 19\n",
            "officially completed the marathon \n",
            "(distance 42.2 km) \n",
            "in the men's category \n",
            "with a finish time of 2:08:09 \n",
            "and rank 1.                   \n",
            "--------------------------------------------------\n",
            "Tata Mumbai Marathon 2020\n",
            "\n",
            "     CONGRATULATIONS\n",
            "\n",
            "This is to certify that AYELE ABSHERO                    \n",
            "BIB No. 2\n",
            "officially completed the marathon \n",
            "(distance 42.2 km) \n",
            "in the men's category \n",
            "with a finish time of 2:08:20 \n",
            "and rank 2.                   \n",
            "--------------------------------------------------\n",
            "Tata Mumbai Marathon 2020\n",
            "\n",
            "     CONGRATULATIONS\n",
            "\n",
            "This is to certify that BIRHANU TESHOME                    \n",
            "BIB No. 8\n",
            "officially completed the marathon \n",
            "(distance 42.2 km) \n",
            "in the men's category \n",
            "with a finish time of 2:08:26 \n",
            "and rank 3.                   \n",
            "--------------------------------------------------\n",
            "Tata Mumbai Marathon 2020\n",
            "\n",
            "     CONGRATULATIONS\n",
            "\n",
            "This is to certify that JACKSON KIPROP                    \n",
            "BIB No. 14\n",
            "officially completed the marathon \n",
            "(distance 42.2 km) \n",
            "in the men's category \n",
            "with a finish time of 2:08:41 \n",
            "and rank 4.                   \n",
            "--------------------------------------------------\n",
            "Tata Mumbai Marathon 2020\n",
            "\n",
            "     CONGRATULATIONS\n",
            "\n",
            "This is to certify that ABDI ALI                    \n",
            "BIB No. 15\n",
            "officially completed the marathon \n",
            "(distance 42.2 km) \n",
            "in the men's category \n",
            "with a finish time of 2:08:56 \n",
            "and rank 5.                   \n",
            "--------------------------------------------------\n",
            "Tata Mumbai Marathon 2020\n",
            "\n",
            "     CONGRATULATIONS\n",
            "\n",
            "This is to certify that PAUL MAINA                    \n",
            "BIB No. 9\n",
            "officially completed the marathon \n",
            "(distance 42.2 km) \n",
            "in the men's category \n",
            "with a finish time of 2:09:01 \n",
            "and rank 6.                   \n",
            "--------------------------------------------------\n",
            "Tata Mumbai Marathon 2020\n",
            "\n",
            "     CONGRATULATIONS\n",
            "\n",
            "This is to certify that ABERA KUMA                    \n",
            "BIB No. 3\n",
            "officially completed the marathon \n",
            "(distance 42.2 km) \n",
            "in the men's category \n",
            "with a finish time of 2:09:15 \n",
            "and rank 7.                   \n",
            "--------------------------------------------------\n",
            "Tata Mumbai Marathon 2020\n",
            "\n",
            "     CONGRATULATIONS\n",
            "\n",
            "This is to certify that KEBEDE WAMI                    \n",
            "BIB No. 18\n",
            "officially completed the marathon \n",
            "(distance 42.2 km) \n",
            "in the men's category \n",
            "with a finish time of 2:10:04 \n",
            "and rank 8.                   \n",
            "--------------------------------------------------\n",
            "Tata Mumbai Marathon 2020\n",
            "\n",
            "     CONGRATULATIONS\n",
            "\n",
            "This is to certify that MERHAWI KESETE                    \n",
            "BIB No. 12\n",
            "officially completed the marathon \n",
            "(distance 42.2 km) \n",
            "in the men's category \n",
            "with a finish time of 2:10:36 \n",
            "and rank 9.                   \n",
            "--------------------------------------------------\n",
            "Tata Mumbai Marathon 2020\n",
            "\n",
            "     CONGRATULATIONS\n",
            "\n",
            "This is to certify that BIRA SEBOKA                    \n",
            "BIB No. 11\n",
            "officially completed the marathon \n",
            "(distance 42.2 km) \n",
            "in the men's category \n",
            "with a finish time of 2:10:37 \n",
            "and rank 10.                   \n",
            "--------------------------------------------------\n",
            "Tata Mumbai Marathon 2020\n",
            "\n",
            "     CONGRATULATIONS\n",
            "\n",
            "This is to certify that VINCENT RONO                    \n",
            "BIB No. 7\n",
            "officially completed the marathon \n",
            "(distance 42.2 km) \n",
            "in the men's category \n",
            "with a finish time of 2:11:15 \n",
            "and rank 11.                   \n",
            "--------------------------------------------------\n",
            "Tata Mumbai Marathon 2020\n",
            "\n",
            "     CONGRATULATIONS\n",
            "\n",
            "This is to certify that SHUMET AKALNEW                    \n",
            "BIB No. 10\n",
            "officially completed the marathon \n",
            "(distance 42.2 km) \n",
            "in the men's category \n",
            "with a finish time of 2:13:39 \n",
            "and rank 12.                   \n",
            "--------------------------------------------------\n",
            "Tata Mumbai Marathon 2020\n",
            "\n",
            "     CONGRATULATIONS\n",
            "\n",
            "This is to certify that SRINU BUGATHA                    \n",
            "BIB No. 51\n",
            "officially completed the marathon \n",
            "(distance 42.2 km) \n",
            "in the men's category \n",
            "with a finish time of 2:18:44 \n",
            "and rank 13.                   \n",
            "--------------------------------------------------\n",
            "Tata Mumbai Marathon 2020\n",
            "\n",
            "     CONGRATULATIONS\n",
            "\n",
            "This is to certify that SHER SINGH                    \n",
            "BIB No. 56\n",
            "officially completed the marathon \n",
            "(distance 42.2 km) \n",
            "in the men's category \n",
            "with a finish time of 2:24:00 \n",
            "and rank 14.                   \n",
            "--------------------------------------------------\n",
            "Tata Mumbai Marathon 2020\n",
            "\n",
            "     CONGRATULATIONS\n",
            "\n",
            "This is to certify that DURGA BAHADUR BUDHA                    \n",
            "BIB No. 53\n",
            "officially completed the marathon \n",
            "(distance 42.2 km) \n",
            "in the men's category \n",
            "with a finish time of 2:24:03 \n",
            "and rank 15.                   \n",
            "--------------------------------------------------\n",
            "Tata Mumbai Marathon 2020\n",
            "\n",
            "     CONGRATULATIONS\n",
            "\n",
            "This is to certify that RAVIPRAKASH                    \n",
            "BIB No. 70\n",
            "officially completed the marathon \n",
            "(distance 42.2 km) \n",
            "in the men's category \n",
            "with a finish time of 2:24:32 \n",
            "and rank 16.                   \n",
            "--------------------------------------------------\n",
            "Tata Mumbai Marathon 2020\n",
            "\n",
            "     CONGRATULATIONS\n",
            "\n",
            "This is to certify that SYLVESTER KIPTOO                    \n",
            "BIB No. 27\n",
            "officially completed the marathon \n",
            "(distance 42.2 km) \n",
            "in the men's category \n",
            "with a finish time of 2:24:53 \n",
            "and rank 17.                   \n",
            "--------------------------------------------------\n",
            "Tata Mumbai Marathon 2020\n",
            "\n",
            "     CONGRATULATIONS\n",
            "\n",
            "This is to certify that RAHUL PAL                    \n",
            "BIB No. 55\n",
            "officially completed the marathon \n",
            "(distance 42.2 km) \n",
            "in the men's category \n",
            "with a finish time of 2:26:56 \n",
            "and rank 18.                   \n",
            "--------------------------------------------------\n",
            "Tata Mumbai Marathon 2020\n",
            "\n",
            "     CONGRATULATIONS\n",
            "\n",
            "This is to certify that PRADEEP SINGH CHAUDHARY                    \n",
            "BIB No. 54\n",
            "officially completed the marathon \n",
            "(distance 42.2 km) \n",
            "in the men's category \n",
            "with a finish time of 2:29:27 \n",
            "and rank 19.                   \n",
            "--------------------------------------------------\n",
            "Tata Mumbai Marathon 2020\n",
            "\n",
            "     CONGRATULATIONS\n",
            "\n",
            "This is to certify that MOHIT RATHORE                    \n",
            "BIB No. 57\n",
            "officially completed the marathon \n",
            "(distance 42.2 km) \n",
            "in the men's category \n",
            "with a finish time of 2:31:16 \n",
            "and rank 20.                   \n",
            "--------------------------------------------------\n"
          ]
        }
      ]
    },
    {
      "cell_type": "markdown",
      "metadata": {
        "id": "OjZsTtePdO0c"
      },
      "source": [
        "As you can see, we have labelled the placeholders with the to determine which value to assign to which placeholder. Then, using the `format()` function, we have assigned the values to their respective placeholders.\n",
        "\n",
        "**Syntax:** `string.format(placeholder1 = value1, placeholder2 = value2, ..., placeholderN = valueN)` where `N` is the number of values to assign or the number of placeholders to fill.\n",
        "\n",
        "We will pause here now and will continue learning the remaining string operations in the next class."
      ]
    },
    {
      "cell_type": "markdown",
      "metadata": {
        "id": "DrJU6Q5E8G0c"
      },
      "source": [
        "---"
      ]
    }
  ]
}