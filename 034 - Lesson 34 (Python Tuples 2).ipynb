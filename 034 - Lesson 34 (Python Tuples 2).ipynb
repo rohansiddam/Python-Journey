{
  "nbformat": 4,
  "nbformat_minor": 0,
  "metadata": {
    "colab": {
      "provenance": [],
      "include_colab_link": true
    },
    "kernelspec": {
      "name": "python3",
      "display_name": "Python 3"
    }
  },
  "cells": [
    {
      "cell_type": "markdown",
      "metadata": {
        "id": "view-in-github",
        "colab_type": "text"
      },
      "source": [
        "<a href=\"https://colab.research.google.com/github/rohansiddam/Python-Journey/blob/main/034%20-%20Lesson%2034%20(Python%20Tuples%202).ipynb\" target=\"_parent\"><img src=\"https://colab.research.google.com/assets/colab-badge.svg\" alt=\"Open In Colab\"/></a>"
      ]
    },
    {
      "cell_type": "markdown",
      "metadata": {
        "id": "Jx5lDDsxcUJT"
      },
      "source": [
        "# Lesson 34: Python Tuples II"
      ]
    },
    {
      "cell_type": "markdown",
      "metadata": {
        "id": "ffooxHP4tLK5"
      },
      "source": [
        "### Teacher-Student Activities\n",
        "\n",
        "Let's continue our discussion on Python tuples. In this class we will learn the following concepts/operations regarding tuples:\n",
        "\n",
        "- Concatenation of tuples\n",
        "\n",
        "- Conversion of an iterable object to a tuple.\n",
        "\n",
        "- Unpacking tuple values\n",
        "\n",
        "- Changing items in a tuple\n",
        "\n",
        "- Enumerating the items in a tuple\n",
        "\n",
        "- Joining multiple tuples into one tuple\n",
        "\n",
        "- Comparing the performance of a tuple with a list\n",
        "\n",
        "Almost all the above concepts/operations are common to lists as well. Let's continue this class from the concatenation of tuples."
      ]
    },
    {
      "cell_type": "markdown",
      "metadata": {
        "id": "YwNkwrSdXjkP"
      },
      "source": [
        "---"
      ]
    },
    {
      "cell_type": "markdown",
      "metadata": {
        "id": "Gg7lopbA4jNM"
      },
      "source": [
        "#### Activity 1: Concatenation^^\n",
        "\n",
        "In the last class, we learnt that we cannot add a new item to a tuple because tuples are immutable. However, we can join two tuples through concatenation.\n",
        "\n",
        "Recall that the process of joining two entities is called **concatenation**. This is exactly the same concept that you learnt for strings in one of the previous classes.\n",
        "\n",
        "Let's revisit this concept with the help of an example. Here are three different tuples containing the annual GDP of India (in %) starting from 1991 till 2018. These GDP figures are taken from the official world bank data website.\n",
        "\n",
        "1. `india_gdp_1991_2000 = (1.057, 5.482, 4.751, 6.659, 7.574, 7.550, 4.050, 6.184, 8.846, 3.841)`\n",
        "\n",
        "2. `india_gdp_2001_2010 = (4.824, 3.804, 7.860, 7.923, 7.923, 8.061, 7.661, 3.087, 7.862, 8.498)`\n",
        "\n",
        "3. `india_gdp_2011_2018 = (5.241, 5.456, 6.386, 7.410, 7.996, 8.170, 7.168, 6.811)`\n",
        "\n",
        "Let's join these tuples to form one tuple. To concatenate two or more tuples, use the `+` operator."
      ]
    },
    {
      "cell_type": "code",
      "metadata": {
        "id": "gVXe2jSD6kXM",
        "colab": {
          "base_uri": "https://localhost:8080/"
        },
        "outputId": "297adfa3-fc3d-47f9-a37c-82b52c6ea48b"
      },
      "source": [
        "# Student Action: Join the above three tuples to form a new tuple and store it in the 'india_gdp_1991_2018' variable. Also, print its length.\n",
        "india_gdp_1991_2000 = (1.057, 5.482, 4.751, 6.659, 7.574, 7.550, 4.050, 6.184, 8.846, 3.841)\n",
        "\n",
        "india_gdp_2001_2010 = (4.824, 3.804, 7.860, 7.923, 7.923, 8.061, 7.661, 3.087, 7.862, 8.498)\n",
        "\n",
        "india_gdp_2011_2018 = (5.241, 5.456, 6.386, 7.410, 7.996, 8.170, 7.168, 6.811)\n",
        "\n",
        "print(india_gdp_1991_2000)"
      ],
      "execution_count": null,
      "outputs": [
        {
          "output_type": "stream",
          "name": "stdout",
          "text": [
            "(1.057, 5.482, 4.751, 6.659, 7.574, 7.55, 4.05, 6.184, 8.846, 3.841)\n"
          ]
        }
      ]
    },
    {
      "cell_type": "code",
      "source": [
        "india_gdp_1991_2018 = india_gdp_1991_2000 + india_gdp_2001_2010 + india_gdp_2011_2018\n",
        "india_gdp_1991_2018"
      ],
      "metadata": {
        "colab": {
          "base_uri": "https://localhost:8080/"
        },
        "id": "bLtWy0k4c6-y",
        "outputId": "2dd4883a-5737-4f6a-ffd5-2de365ea2772"
      },
      "execution_count": null,
      "outputs": [
        {
          "output_type": "execute_result",
          "data": {
            "text/plain": [
              "(1.057,\n",
              " 5.482,\n",
              " 4.751,\n",
              " 6.659,\n",
              " 7.574,\n",
              " 7.55,\n",
              " 4.05,\n",
              " 6.184,\n",
              " 8.846,\n",
              " 3.841,\n",
              " 4.824,\n",
              " 3.804,\n",
              " 7.86,\n",
              " 7.923,\n",
              " 7.923,\n",
              " 8.061,\n",
              " 7.661,\n",
              " 3.087,\n",
              " 7.862,\n",
              " 8.498,\n",
              " 5.241,\n",
              " 5.456,\n",
              " 6.386,\n",
              " 7.41,\n",
              " 7.996,\n",
              " 8.17,\n",
              " 7.168,\n",
              " 6.811)"
            ]
          },
          "metadata": {},
          "execution_count": 48
        }
      ]
    },
    {
      "cell_type": "markdown",
      "metadata": {
        "id": "JYT-60Fk5vzq"
      },
      "source": [
        "Let's verify whether the resulting tuple is indeed a tuple or not."
      ]
    },
    {
      "cell_type": "code",
      "metadata": {
        "id": "QI_OtkElBQ2-",
        "colab": {
          "base_uri": "https://localhost:8080/"
        },
        "outputId": "ff845c4f-f3e7-47c7-ca57-957e14d9bd4c"
      },
      "source": [
        "# Student Action: Verify whether the resulting tuple is indeed a tuple or not.\n",
        "type(india_gdp_1991_2018)"
      ],
      "execution_count": null,
      "outputs": [
        {
          "output_type": "execute_result",
          "data": {
            "text/plain": [
              "tuple"
            ]
          },
          "metadata": {},
          "execution_count": 49
        }
      ]
    },
    {
      "cell_type": "markdown",
      "metadata": {
        "id": "uKRZTDv4EE0H"
      },
      "source": [
        "You can also concatenate multiple lists using the `+` operator."
      ]
    },
    {
      "cell_type": "code",
      "metadata": {
        "id": "qtqzM61OEYtq"
      },
      "source": [
        "# Student Action: Create two or three lists containing some random items and concatenate them.\n",
        "list1 = [i for i in range(1,11)]\n",
        "list2 = [i for i in range(11,16)]\n",
        "list3 = [i for i in range(16,21)]"
      ],
      "execution_count": null,
      "outputs": []
    },
    {
      "cell_type": "code",
      "source": [
        "list4 = list1 + list2 + list3"
      ],
      "metadata": {
        "id": "PGVbN-_qdiH9"
      },
      "execution_count": null,
      "outputs": []
    },
    {
      "cell_type": "code",
      "source": [
        "type(list4)"
      ],
      "metadata": {
        "colab": {
          "base_uri": "https://localhost:8080/"
        },
        "id": "07M5jDYDdmZ8",
        "outputId": "0909aec3-e54f-4ad8-a701-c648eb1797e7"
      },
      "execution_count": null,
      "outputs": [
        {
          "output_type": "execute_result",
          "data": {
            "text/plain": [
              "list"
            ]
          },
          "metadata": {},
          "execution_count": 52
        }
      ]
    },
    {
      "cell_type": "code",
      "source": [
        "list4_tuple = tuple(list4)"
      ],
      "metadata": {
        "id": "HfO8p02rdwiA"
      },
      "execution_count": null,
      "outputs": []
    },
    {
      "cell_type": "code",
      "source": [
        "type(list4_tuple)"
      ],
      "metadata": {
        "colab": {
          "base_uri": "https://localhost:8080/"
        },
        "id": "VCeeT36zd4f6",
        "outputId": "387c6d97-ede2-43fb-948e-b89bd857835e"
      },
      "execution_count": null,
      "outputs": [
        {
          "output_type": "execute_result",
          "data": {
            "text/plain": [
              "tuple"
            ]
          },
          "metadata": {},
          "execution_count": 54
        }
      ]
    },
    {
      "cell_type": "markdown",
      "metadata": {
        "id": "B1qOlCGyGTgy"
      },
      "source": [
        "**Note:** You cannot concatenate multiple Python dictionaries, NumPy arrays and Pandas series among themselves using the `+` operator."
      ]
    },
    {
      "cell_type": "markdown",
      "metadata": {
        "id": "yNp0kFgFCwO1"
      },
      "source": [
        "---"
      ]
    },
    {
      "cell_type": "markdown",
      "metadata": {
        "id": "BtHTc0-qJgqz"
      },
      "source": [
        "#### Activity 2: The `tuple()` Function\n",
        "\n",
        "You can convert a Python list / NumPy array / Pandas Series into a tuple using the `tuple()` function.\n",
        "\n",
        "Let's create a NumPy array of first 10 natural numbers and convert it into a tuple using the `tuple()` function."
      ]
    },
    {
      "cell_type": "code",
      "metadata": {
        "id": "z4KWEte9LJAC",
        "colab": {
          "base_uri": "https://localhost:8080/"
        },
        "outputId": "41f03bfc-f33a-4593-9255-2c65feaa93de"
      },
      "source": [
        "# Student Action: Create a NumPy array containing the first 10 natural numbers and convert it into a tuple.\n",
        "# Also, verify whether the array is converted to a tuple or not.\n",
        "import numpy as np\n",
        "array1 = np.arange(1,11)\n",
        "# Create a NumPy array.\n",
        "\n",
        "# Print the NumPy array.\n",
        "print(array1)\n",
        "# Convert the NumPy array into a tuple.\n",
        "tuple1 = tuple(array1)\n",
        "# Print the tuple.\n",
        "print(tuple1)\n",
        "# Verify.\n",
        "type(tuple1)"
      ],
      "execution_count": null,
      "outputs": [
        {
          "output_type": "stream",
          "name": "stdout",
          "text": [
            "[ 1  2  3  4  5  6  7  8  9 10]\n",
            "(1, 2, 3, 4, 5, 6, 7, 8, 9, 10)\n"
          ]
        },
        {
          "output_type": "execute_result",
          "data": {
            "text/plain": [
              "tuple"
            ]
          },
          "metadata": {},
          "execution_count": 55
        }
      ]
    },
    {
      "cell_type": "markdown",
      "metadata": {
        "id": "f0lMAKb0OJ7H"
      },
      "source": [
        "If you apply the `tuple()` function on a dictionary, the resulting tuple will contain only the keys of a dictionary.\n",
        "\n",
        "Let's apply the `tuple()` function on the following dictionary and check the output.\n",
        "\n",
        "```\n",
        "my_dict = {'Front Camera' : '16 MP',\n",
        "           'Battery' : '3300 mAh',\n",
        "           'Processor' : 'Qualcomm Snapdragon 845',\n",
        "           'Display' : '6.28 inches',  \n",
        "           'RAM' : '6 GB',\n",
        "           'Rear Camera' : '16 MP + 20 MP',\n",
        "           'Price' : 28990,\n",
        "           'Fast Charge' : True}\n",
        "```"
      ]
    },
    {
      "cell_type": "code",
      "metadata": {
        "id": "DuEl4mUNNr3h"
      },
      "source": [
        "# Student Action: Apply the 'tuple()' function on the 'my_dict' dictionary.\n",
        "my_dict = {'Front Camera' : '16 MP',\n",
        "           'Battery' : '3300 mAh',\n",
        "           'Processor' : 'Qualcomm Snapdragon 845',\n",
        "           'Display' : '6.28 inches',\n",
        "           'RAM' : '6 GB',\n",
        "           'Rear Camera' : '16 MP + 20 MP',\n",
        "           'Price' : 28990,\n",
        "           'Fast Charge' : True}\n",
        "dict_tuple = tuple(my_dict.items())"
      ],
      "execution_count": null,
      "outputs": []
    },
    {
      "cell_type": "code",
      "source": [
        "type(dict_tuple)"
      ],
      "metadata": {
        "colab": {
          "base_uri": "https://localhost:8080/"
        },
        "id": "6UIxKli1ebxy",
        "outputId": "a1287959-8990-40d2-c3b7-c48aaba0b44e"
      },
      "execution_count": null,
      "outputs": [
        {
          "output_type": "execute_result",
          "data": {
            "text/plain": [
              "tuple"
            ]
          },
          "metadata": {},
          "execution_count": 57
        }
      ]
    },
    {
      "cell_type": "code",
      "source": [
        "dict_tuple"
      ],
      "metadata": {
        "colab": {
          "base_uri": "https://localhost:8080/"
        },
        "id": "4GTqTy5wefb1",
        "outputId": "2047458c-5187-4af4-97aa-c33e5bed69d4"
      },
      "execution_count": null,
      "outputs": [
        {
          "output_type": "execute_result",
          "data": {
            "text/plain": [
              "(('Front Camera', '16 MP'),\n",
              " ('Battery', '3300 mAh'),\n",
              " ('Processor', 'Qualcomm Snapdragon 845'),\n",
              " ('Display', '6.28 inches'),\n",
              " ('RAM', '6 GB'),\n",
              " ('Rear Camera', '16 MP + 20 MP'),\n",
              " ('Price', 28990),\n",
              " ('Fast Charge', True))"
            ]
          },
          "metadata": {},
          "execution_count": 58
        }
      ]
    },
    {
      "cell_type": "markdown",
      "metadata": {
        "id": "Bt8okA7QPCTW"
      },
      "source": [
        "As you can see, the `tuple()` function, when applied to a dictionary, returns a tuple containing only the keys of the dictionary.\n",
        "\n",
        "Similarly, you can also apply the `list()` function to convert a data-structure into a list. The `list()` function, when applied on a dictionary, also returns a list containing only the keys of the dictionary."
      ]
    },
    {
      "cell_type": "code",
      "metadata": {
        "id": "BfOdiqvuP0Vm",
        "colab": {
          "base_uri": "https://localhost:8080/"
        },
        "outputId": "2672e36a-fc1f-4517-d544-7ee92c8f9390"
      },
      "source": [
        "# Student Action: Apply the 'list()' function on the 'my_dict' dictionary.\n",
        "list(my_dict.items())"
      ],
      "execution_count": null,
      "outputs": [
        {
          "output_type": "execute_result",
          "data": {
            "text/plain": [
              "[('Front Camera', '16 MP'),\n",
              " ('Battery', '3300 mAh'),\n",
              " ('Processor', 'Qualcomm Snapdragon 845'),\n",
              " ('Display', '6.28 inches'),\n",
              " ('RAM', '6 GB'),\n",
              " ('Rear Camera', '16 MP + 20 MP'),\n",
              " ('Price', 28990),\n",
              " ('Fast Charge', True)]"
            ]
          },
          "metadata": {},
          "execution_count": 59
        }
      ]
    },
    {
      "cell_type": "markdown",
      "metadata": {
        "id": "6DFFERac6_nm"
      },
      "source": [
        "---"
      ]
    },
    {
      "cell_type": "markdown",
      "metadata": {
        "id": "0jVLzFYrCxxH"
      },
      "source": [
        "#### Activity 3: Unpacking\n",
        "\n",
        "We can unpack or assign all the values to the same number of variables by writing them in one line.\n",
        "\n",
        "**Syntax:** `vb1, vb2, vb3, ..., vbN = (item1, item2, item3, ..., itemN)`\n",
        "\n",
        "where `vb1, vb2, vb3, ..., vbN` are `N` different variables and `item1, item2, item3, ..., itemN` are `N` different items stored in the tuple."
      ]
    },
    {
      "cell_type": "code",
      "metadata": {
        "id": "oLzm2gBpuhim"
      },
      "source": [
        "# Student Action: Create a tuple containing 5 items and assign their values to 5 differing variables.\n",
        "name, age, height, weight, city = ['Sam', '20', '6','120','San Diego']"
      ],
      "execution_count": null,
      "outputs": []
    },
    {
      "cell_type": "code",
      "source": [
        "age"
      ],
      "metadata": {
        "colab": {
          "base_uri": "https://localhost:8080/",
          "height": 36
        },
        "id": "84guL2lLf4td",
        "outputId": "5ef8ad7b-5023-4f34-e920-f0b5e4113da6"
      },
      "execution_count": null,
      "outputs": [
        {
          "output_type": "execute_result",
          "data": {
            "text/plain": [
              "'20'"
            ],
            "application/vnd.google.colaboratory.intrinsic+json": {
              "type": "string"
            }
          },
          "metadata": {},
          "execution_count": 61
        }
      ]
    },
    {
      "cell_type": "markdown",
      "metadata": {
        "id": "kk4uK_shDt3a"
      },
      "source": [
        "The same method is also applicable for a list.\n",
        "\n",
        "**Note:** This method of unpacking values fails when the number of variables are less than or greater than the number of items in a tuple or a list."
      ]
    },
    {
      "cell_type": "markdown",
      "metadata": {
        "id": "NefMJbBW61Gt"
      },
      "source": [
        "---"
      ]
    },
    {
      "cell_type": "markdown",
      "metadata": {
        "id": "K3eBUNokDpkk"
      },
      "source": [
        "#### Activity 4: Changing Tuple Items\n",
        "\n",
        "We have already discussed that we cannot change the contents of a tuple. However, we can first convert the tuple into a list, then change the contents of the list and finally change the list back into a tuple.\n",
        "\n",
        "Let's create a tuple of English vowels which contains one consonant. To remove that consonant, we will first convert the tuple into a list using the `list()` function, then will remove the consonant by applying the `remove()` function and then convert the list back to a tuple using the `tuple()` function."
      ]
    },
    {
      "cell_type": "code",
      "metadata": {
        "id": "-8mTXvszEKKQ",
        "colab": {
          "base_uri": "https://localhost:8080/"
        },
        "outputId": "32b968f6-a3d3-40b4-923d-8d6adfadd9ac"
      },
      "source": [
        "# Student Action: Create a tuple containing English vowels and then reverse the order of its items.\n",
        "# Create a tuple of vowels.\n",
        "vowels = ('a','e','i','o','u','p')\n",
        "# Print the contents of the tuple before converting it into a list.\n",
        "print(vowels)\n",
        "# Convert the tuple into a list.\n",
        "vowels_list = list(vowels)\n",
        "# Remove the consonant from the list.\n",
        "vowels_list.remove('p')\n",
        "# Convert the list into a tuple.\n",
        "vowels_tuple = tuple(vowels_list)\n",
        "# Print the items of the tuple after reversing their order.\n",
        "print(vowels_tuple[::-1])"
      ],
      "execution_count": null,
      "outputs": [
        {
          "output_type": "stream",
          "name": "stdout",
          "text": [
            "('a', 'e', 'i', 'o', 'u', 'p')\n",
            "('u', 'o', 'i', 'e', 'a')\n"
          ]
        }
      ]
    },
    {
      "cell_type": "markdown",
      "metadata": {
        "id": "-yZvM61OFnl_"
      },
      "source": [
        "Similarly, you can apply other list functions by first converting a tuple into a list and then changing the list back to the tuple by applying the `tuple()` function. This little hack is useful when the data entered in a tuple is wrong or undesirable. However, this hack becomes a computationally heavy task in case of a huge dataset. Imagine having 1 million (or 10 lakh) data points in a dataset that is not supposed to be changed. But then there is one mistake that needs to be corrected. You will have to first convert the entire tuple into a list, then correct the mistake in the item and then convert it back into a tuple. This exercise could lead to system failure in case of large datasets."
      ]
    },
    {
      "cell_type": "markdown",
      "metadata": {
        "id": "bISUwCYz6VMy"
      },
      "source": [
        "---"
      ]
    },
    {
      "cell_type": "markdown",
      "metadata": {
        "id": "gkb0Fabk61og"
      },
      "source": [
        "#### Activity 5: The `enumerate()` Function\n",
        "\n",
        "Before we learn this function, think of a way to print the indices of the items contained in the `india_gdp_2011_2018` tuple along with the items one-by-one.\n"
      ]
    },
    {
      "cell_type": "code",
      "metadata": {
        "id": "dR8TE264AQfd",
        "colab": {
          "base_uri": "https://localhost:8080/"
        },
        "outputId": "fb5cacfc-0891-46c3-b56f-1372ed844a22"
      },
      "source": [
        "# Student Action: Print the indices of the items contained in the 'india_gdp_2011_2018' tuple along with the items one-by-one.\n",
        "for i in india_gdp_2011_2018:\n",
        "  print(india_gdp_2011_2018.index(i),\",\", i)"
      ],
      "execution_count": null,
      "outputs": [
        {
          "output_type": "stream",
          "name": "stdout",
          "text": [
            "0 , 5.241\n",
            "1 , 5.456\n",
            "2 , 6.386\n",
            "3 , 7.41\n",
            "4 , 7.996\n",
            "5 , 8.17\n",
            "6 , 7.168\n",
            "7 , 6.811\n"
          ]
        }
      ]
    },
    {
      "cell_type": "markdown",
      "metadata": {
        "id": "ZAjfIvjA_xif"
      },
      "source": [
        "The `enumerate()` function does the similar thing. It labels the items contained in a data-structure with numbers starting from zero. It is similar to doing the roll call to get the count of the number of people present in a gathering. However, it returns a non-readable Python object.\n",
        "\n",
        "Let's apply the `enumerate()` function on the `india_gdp_2011_2018` tuple."
      ]
    },
    {
      "cell_type": "code",
      "metadata": {
        "id": "YzTWmTY49-8J",
        "colab": {
          "base_uri": "https://localhost:8080/"
        },
        "outputId": "113a9031-7e16-45b7-850e-c134c073c229"
      },
      "source": [
        "# Student Action: Apply the 'enumerate()' function on the 'india_gdp_2011_2018' tuple.\n",
        "india2 = tuple(enumerate(india_gdp_2011_2018))\n",
        "print(india2)"
      ],
      "execution_count": null,
      "outputs": [
        {
          "output_type": "stream",
          "name": "stdout",
          "text": [
            "((0, 5.241), (1, 5.456), (2, 6.386), (3, 7.41), (4, 7.996), (5, 8.17), (6, 7.168), (7, 6.811))\n"
          ]
        }
      ]
    },
    {
      "cell_type": "markdown",
      "metadata": {
        "id": "hfmfmNo6B-n4"
      },
      "source": [
        "As you can see, the output is some gibberish or non-readable object. In fact, it returns the physical memory location of the object created by the `enumerate()` function.\n",
        "\n",
        "Now, apply the `tuple()` function on top of the `enumerate()` function.\n"
      ]
    },
    {
      "cell_type": "code",
      "metadata": {
        "id": "AuxwfSsn-IRZ"
      },
      "source": [
        "# Student Action: Apply the 'tuple()' function on top of the 'enumerate()' function.\n",
        "india3 = tuple(india2)"
      ],
      "execution_count": null,
      "outputs": []
    },
    {
      "cell_type": "code",
      "source": [
        "india3\n",
        "print(type(india3))"
      ],
      "metadata": {
        "colab": {
          "base_uri": "https://localhost:8080/"
        },
        "id": "RFxQP9Daha4u",
        "outputId": "fb3c3f75-ec04-4968-c808-1ba55f9cd9a9"
      },
      "execution_count": null,
      "outputs": [
        {
          "output_type": "stream",
          "name": "stdout",
          "text": [
            "<class 'tuple'>\n"
          ]
        }
      ]
    },
    {
      "cell_type": "markdown",
      "metadata": {
        "id": "GeD8Z8nvCrks"
      },
      "source": [
        "As you can see, the output is a tuple containing the key-value pairs of the item and its roll call such that each key-value pair is another tuple.\n",
        "\n",
        "You can also iterate through each tuple print both roll call and the item."
      ]
    },
    {
      "cell_type": "code",
      "metadata": {
        "id": "IgzUfX7ggup2",
        "colab": {
          "base_uri": "https://localhost:8080/"
        },
        "outputId": "6f41b066-b67b-4cc6-97e8-c75e3150d857"
      },
      "source": [
        "# Student Action: Iterate through each tuple print both roll call and the item contained in the above tuple.\n",
        "for i,j in india3:\n",
        "  print(i,j)"
      ],
      "execution_count": null,
      "outputs": [
        {
          "output_type": "stream",
          "name": "stdout",
          "text": [
            "0 5.241\n",
            "1 5.456\n",
            "2 6.386\n",
            "3 7.41\n",
            "4 7.996\n",
            "5 8.17\n",
            "6 7.168\n",
            "7 6.811\n"
          ]
        }
      ]
    },
    {
      "cell_type": "code",
      "source": [
        "india3"
      ],
      "metadata": {
        "colab": {
          "base_uri": "https://localhost:8080/"
        },
        "id": "Eub3XIc8hz3v",
        "outputId": "ad684f8f-8ced-4e75-af00-a5736652a011"
      },
      "execution_count": null,
      "outputs": [
        {
          "output_type": "execute_result",
          "data": {
            "text/plain": [
              "((0, 5.241),\n",
              " (1, 5.456),\n",
              " (2, 6.386),\n",
              " (3, 7.41),\n",
              " (4, 7.996),\n",
              " (5, 8.17),\n",
              " (6, 7.168),\n",
              " (7, 6.811))"
            ]
          },
          "metadata": {},
          "execution_count": 87
        }
      ]
    },
    {
      "cell_type": "markdown",
      "metadata": {
        "id": "O6pXut8agh6O"
      },
      "source": [
        "The `enumerate()` function can also be applied on lists, dictionaries and strings."
      ]
    },
    {
      "cell_type": "code",
      "metadata": {
        "id": "bCYWEIO97OMi"
      },
      "source": [
        "# Student Action: Apply the 'enumerate()' function on 'my_dict' dictionary and 'vowels_list'. On top of them apply the 'tuple()' function.\n",
        "dict_tuple_2 = tuple(enumerate(my_dict.items()))\n",
        "vowels_tuple_2 = tuple(enumerate(vowels_list))"
      ],
      "execution_count": null,
      "outputs": []
    },
    {
      "cell_type": "code",
      "source": [
        "print(dict_tuple_2)\n",
        "print(vowels_tuple_2)"
      ],
      "metadata": {
        "colab": {
          "base_uri": "https://localhost:8080/"
        },
        "id": "U6xl_d52ibz6",
        "outputId": "dd30ddeb-51ce-4f8f-8548-a91324aa743c"
      },
      "execution_count": null,
      "outputs": [
        {
          "output_type": "stream",
          "name": "stdout",
          "text": [
            "((0, ('Front Camera', '16 MP')), (1, ('Battery', '3300 mAh')), (2, ('Processor', 'Qualcomm Snapdragon 845')), (3, ('Display', '6.28 inches')), (4, ('RAM', '6 GB')), (5, ('Rear Camera', '16 MP + 20 MP')), (6, ('Price', 28990)), (7, ('Fast Charge', True)))\n",
            "((0, 'a'), (1, 'e'), (2, 'i'), (3, 'o'), (4, 'u'))\n"
          ]
        }
      ]
    },
    {
      "cell_type": "markdown",
      "metadata": {
        "id": "-GltL_w7hnVB"
      },
      "source": [
        "As you can see, the `tuple()` function when applied on top of the `enumerate()` function\n",
        "\n",
        "- in the case of the `my_dict` dictionary, returns a **tuple** that is a collection of tuples such that each tuple contains the roll call of every key and the key itself contained in the `my_dict` dictionary. The values of the `my_dict` dictionary are ignored.\n",
        "\n",
        "- in the case of the `vowels_list`, returns a **tuple** that is a collection of tuples such that each tuple contains the roll call of every item and the item itself contained in the `vowels_list`.\n"
      ]
    },
    {
      "cell_type": "code",
      "metadata": {
        "id": "AQr_TpmG7mQe"
      },
      "source": [
        "# Student Action: Apply the 'enumerate()' function on 'my_dict' dictionary and 'vowels_list'. On top of them apply the 'list()' function.\n",
        "dict_list = list(enumerate(my_dict.items()))\n",
        "vowels_list_2 = list(enumerate(vowels_list))"
      ],
      "execution_count": null,
      "outputs": []
    },
    {
      "cell_type": "code",
      "source": [
        "print(dict_list)\n",
        "print(vowels_list_2)"
      ],
      "metadata": {
        "colab": {
          "base_uri": "https://localhost:8080/"
        },
        "id": "M8YTD7ktit3y",
        "outputId": "cbed0408-7314-43de-874b-6323176048cf"
      },
      "execution_count": null,
      "outputs": [
        {
          "output_type": "stream",
          "name": "stdout",
          "text": [
            "[(0, ('Front Camera', '16 MP')), (1, ('Battery', '3300 mAh')), (2, ('Processor', 'Qualcomm Snapdragon 845')), (3, ('Display', '6.28 inches')), (4, ('RAM', '6 GB')), (5, ('Rear Camera', '16 MP + 20 MP')), (6, ('Price', 28990)), (7, ('Fast Charge', True))]\n",
            "[(0, 'a'), (1, 'e'), (2, 'i'), (3, 'o'), (4, 'u')]\n"
          ]
        }
      ]
    },
    {
      "cell_type": "markdown",
      "metadata": {
        "id": "HnNCkDxOFxGK"
      },
      "source": [
        "As you can see, the `list()` function when applied on top of the `enumerate()` function\n",
        "\n",
        "- in the case of the `my_dict` dictionary, returns a **list** that is a collection of tuples such that each tuple contains the roll call of every key and the key itself contained in the `my_dict` dictionary. The values of the `my_dict` dictionary are ignored.\n",
        "\n",
        "- in the case of the `vowels_list`, returns a **list** that is a collection of tuples such that each tuple contains the roll call of every item and the item itself contained in the `vowels_list`."
      ]
    },
    {
      "cell_type": "code",
      "metadata": {
        "id": "mB_-H0b46O81"
      },
      "source": [
        "# Student Action: Apply the 'enumerate()' function on 'my_dict' dictionary and 'vowels_list'. On top of them apply the 'dict()' function.\n",
        "dict_dict = dict(enumerate(my_dict.items()))\n",
        "vowels_dict = dict(enumerate(vowels_list))"
      ],
      "execution_count": null,
      "outputs": []
    },
    {
      "cell_type": "code",
      "source": [
        "print(dict_dict)"
      ],
      "metadata": {
        "colab": {
          "base_uri": "https://localhost:8080/"
        },
        "id": "US5wrptHi5v3",
        "outputId": "2d46f189-c0a8-47cc-e27d-39846aef8fba"
      },
      "execution_count": null,
      "outputs": [
        {
          "output_type": "stream",
          "name": "stdout",
          "text": [
            "{0: ('Front Camera', '16 MP'), 1: ('Battery', '3300 mAh'), 2: ('Processor', 'Qualcomm Snapdragon 845'), 3: ('Display', '6.28 inches'), 4: ('RAM', '6 GB'), 5: ('Rear Camera', '16 MP + 20 MP'), 6: ('Price', 28990), 7: ('Fast Charge', True)}\n"
          ]
        }
      ]
    },
    {
      "cell_type": "code",
      "source": [
        "print(vowels_dict)"
      ],
      "metadata": {
        "colab": {
          "base_uri": "https://localhost:8080/"
        },
        "id": "nu5kpYURi7e_",
        "outputId": "e7e6740c-39d7-4fa9-c7be-12cfe622fbaf"
      },
      "execution_count": null,
      "outputs": [
        {
          "output_type": "stream",
          "name": "stdout",
          "text": [
            "{0: 'a', 1: 'e', 2: 'i', 3: 'o', 4: 'u'}\n"
          ]
        }
      ]
    },
    {
      "cell_type": "markdown",
      "metadata": {
        "id": "nLZn8RrJ-Gnp"
      },
      "source": [
        "As you can see, the `dict()` function when applied on top of the `enumerate()` function\n",
        "\n",
        "- in the case of the `my_dict` dictionary, returns a **dictionary** that is a collection of key-value pairs such that each pair contains the roll call of every key and the key itself contained in the `my_dict` dictionary. The values of the `my_dict` dictionary are ignored.\n",
        "\n",
        "- in the case of the `vowels_list`, returns a **dictionary** that is a collection of key-value pairs such that each pair contains the roll call of every item and the item itself contained in the `vowels_list`."
      ]
    },
    {
      "cell_type": "markdown",
      "metadata": {
        "id": "FilhvY39D0wa"
      },
      "source": [
        "---"
      ]
    },
    {
      "cell_type": "markdown",
      "metadata": {
        "id": "DAjse46cTlar"
      },
      "source": [
        "#### Activity 6: The `sorted()` Function\n",
        "\n",
        "If you want to display the items of a tuple in the increasing or decreasing order, then you can apply the `sorted()` function. However, it will return a list instead of a tuple.\n",
        "\n",
        "The `sorted()` function, by-default, arranges the items in the ascending order. To arrange them in the descending order, pass a parameter called `reverse=True` inside the `sorted()` function.\n",
        "\n",
        "**Syntax:**\n",
        "\n",
        "- For ascending order, `sorted(tuple_name)`\n",
        "\n",
        "- For descending order, `sorted(tuple_name, reverse=True)`\n",
        "\n",
        "Let's learn this function with the help of an example.\n"
      ]
    },
    {
      "cell_type": "code",
      "metadata": {
        "id": "MI724bprTtJv"
      },
      "source": [
        "# Student Action: Create a tuple containing 10 random integers ranging between 1 and 50.\n",
        "import random as rd\n",
        "tuple2 = tuple([rd.randint(1,50) for i in range(1,11)])"
      ],
      "execution_count": null,
      "outputs": []
    },
    {
      "cell_type": "code",
      "metadata": {
        "id": "51dhJc4xUF4r"
      },
      "source": [
        "# Student Action: Now display the items of the tuple in the ascending order.\n",
        "sorted_tuple = sorted(tuple2)"
      ],
      "execution_count": null,
      "outputs": []
    },
    {
      "cell_type": "code",
      "source": [
        "print(sorted_tuple)"
      ],
      "metadata": {
        "colab": {
          "base_uri": "https://localhost:8080/"
        },
        "id": "xT9zpXQljqU9",
        "outputId": "cccd713e-0d32-42fe-e717-11a79c214495"
      },
      "execution_count": null,
      "outputs": [
        {
          "output_type": "stream",
          "name": "stdout",
          "text": [
            "[1, 4, 4, 7, 9, 12, 20, 30, 34, 36]\n"
          ]
        }
      ]
    },
    {
      "cell_type": "markdown",
      "metadata": {
        "id": "nUZ5f0ylW9o7"
      },
      "source": [
        "As you can see, the items of the `randint_tuple` are displayed in the ascending order but as a list.\n",
        "\n",
        "The same function can also be applied for a Python list with the same syntax."
      ]
    },
    {
      "cell_type": "code",
      "metadata": {
        "id": "AZ5vEigeUK9j"
      },
      "source": [
        "# Student Action: Create a list containing 10 random integers ranging between 100 and 150.\n",
        "list5 = [rd.randint(100,150) for i in range(1,11)]"
      ],
      "execution_count": null,
      "outputs": []
    },
    {
      "cell_type": "code",
      "metadata": {
        "id": "kmLtpw8SXlU1"
      },
      "source": [
        "# Student Action: Now display the items of the list in the descending order.\n",
        "list6 = sorted(list5, reverse = True)"
      ],
      "execution_count": null,
      "outputs": []
    },
    {
      "cell_type": "code",
      "source": [
        "list6"
      ],
      "metadata": {
        "colab": {
          "base_uri": "https://localhost:8080/"
        },
        "id": "UpPVX4XtkCUk",
        "outputId": "2089560d-be59-4085-cac5-d2fb507f88c9"
      },
      "execution_count": null,
      "outputs": [
        {
          "output_type": "execute_result",
          "data": {
            "text/plain": [
              "[146, 146, 144, 137, 136, 133, 128, 118, 107, 101]"
            ]
          },
          "metadata": {},
          "execution_count": 106
        }
      ]
    },
    {
      "cell_type": "markdown",
      "metadata": {
        "id": "ErQmyxiwTkM_"
      },
      "source": [
        "---"
      ]
    },
    {
      "cell_type": "markdown",
      "metadata": {
        "id": "pKSgOpO7IbeY"
      },
      "source": [
        "#### Activity 7: The `zip()` Function^\n",
        "\n",
        "You have already learnt that the `zip()` function can be used to join two or more lists to form a new dictionary and list. The objects need to be a list or a dictionary. Any two different iterable objects of the same length can be joined using the `zip` function.\n",
        "\n",
        "The iterable objects are those objects on which we can apply either a for loop or a while loop. So, if there are $n$ iterable objects and you want to join $r$ objects out of those $n$ objects such that $r \\leq n$ and $n \\ge1$, then you can do that in ${}^nP_r$ ways where $${}^nP_r = \\frac{n!}{(n-r)!}$$ and $$n! = n \\times (n - 1) \\times (n-2) \\dots 3 \\times 2 \\times 1$$\n",
        "\n",
        "Also, $1! = 1$ and $0!=1$\n",
        "\n",
        "E.g., if there are $n=3$ iterable objects (say list, dictionary, tuple) and you want to join $r=2$ of them, then you can join them in $${}^3P_2 = \\frac{3!}{(3-2)!} = \\frac{3 \\times2 \\times 1}{1} = 6 \\space \\text{ways}$$\n",
        "\n",
        "The 6 possible ways are:\n",
        "\n",
        "1. list, dictionary\n",
        "\n",
        "2. dictionary, list\n",
        "\n",
        "3. list, tuple\n",
        "\n",
        "4. tuple, list\n",
        "\n",
        "5. dictionary, tuple\n",
        "\n",
        "6. tuple, dictionary\n",
        "\n",
        "In the above expression, if $r=n$, i.e., if all of the iterable objects are to be joined using the `zip()` function at a time, then it can be done in $n!$ ways because $${}^nP_n = \\frac{n!}{(n-n)!} = \\frac{n!}{0!} = n!$$\n",
        "\n",
        "E.g., if you want to join a list, a dictionary and a tuple at once, then you can join them in $3! = 3\\times 2 \\times 1 = 6$ ways. In this case, the 6 possible ways are:\n",
        "\n",
        "1. list, dictionary, tuple\n",
        "\n",
        "2. list, tuple, dictionary\n",
        "\n",
        "3. dictionary, list, tuple\n",
        "\n",
        "4. dictionary, tuple, list\n",
        "\n",
        "5. tuple, list, dictionary\n",
        "\n",
        "6. tuple, dictionary, list\n",
        "\n",
        "\n",
        "**Note:** You don't need to know this theory to apply the `zip()` function. It is just an example to demonstrate that mathematics is definitely applied in real-life problems especially in the field of computer applications."
      ]
    },
    {
      "cell_type": "markdown",
      "metadata": {
        "id": "kUKWBCh4Pv99"
      },
      "source": [
        "Let's create a NumPy array containing the years from 1991 to 2018 and join it with the `india_gdp_1991_2018` tuple to form a new tuple using the `zip()` function."
      ]
    },
    {
      "cell_type": "code",
      "metadata": {
        "id": "tUW6-rH7I9zT"
      },
      "source": [
        "# Student Action: Create a NumPy array containing the year from 1991 to 2018 and join it with the 'india_gdp_1991_2018' tuple.\n",
        "tuple_india = np.arange(1991,2019)\n",
        "year_gdp = tuple(zip(india_gdp_1991_2018, tuple_india))"
      ],
      "execution_count": null,
      "outputs": []
    },
    {
      "cell_type": "code",
      "source": [
        "year_gdp"
      ],
      "metadata": {
        "colab": {
          "base_uri": "https://localhost:8080/"
        },
        "id": "Gp_gTOHzkqip",
        "outputId": "e748c99d-8277-4bcd-e380-f8265ffafa19"
      },
      "execution_count": null,
      "outputs": [
        {
          "output_type": "execute_result",
          "data": {
            "text/plain": [
              "((1.057, 1991),\n",
              " (5.482, 1992),\n",
              " (4.751, 1993),\n",
              " (6.659, 1994),\n",
              " (7.574, 1995),\n",
              " (7.55, 1996),\n",
              " (4.05, 1997),\n",
              " (6.184, 1998),\n",
              " (8.846, 1999),\n",
              " (3.841, 2000),\n",
              " (4.824, 2001),\n",
              " (3.804, 2002),\n",
              " (7.86, 2003),\n",
              " (7.923, 2004),\n",
              " (7.923, 2005),\n",
              " (8.061, 2006),\n",
              " (7.661, 2007),\n",
              " (3.087, 2008),\n",
              " (7.862, 2009),\n",
              " (8.498, 2010),\n",
              " (5.241, 2011),\n",
              " (5.456, 2012),\n",
              " (6.386, 2013),\n",
              " (7.41, 2014),\n",
              " (7.996, 2015),\n",
              " (8.17, 2016),\n",
              " (7.168, 2017),\n",
              " (6.811, 2018))"
            ]
          },
          "metadata": {},
          "execution_count": 110
        }
      ]
    },
    {
      "cell_type": "markdown",
      "metadata": {
        "id": "wGHCnbXxQGSg"
      },
      "source": [
        "Repeat the same exercise by interchanging the positions of the array and the tuple inside the `zip()` function."
      ]
    },
    {
      "cell_type": "code",
      "metadata": {
        "id": "wEl_s_SRQT09"
      },
      "source": [
        "# Repeat the same exercise by interchanging the positions of the array and the tuple inside the zip() function.\n",
        "year_gdp_2 = dict(zip(tuple_india,india_gdp_1991_2018))"
      ],
      "execution_count": null,
      "outputs": []
    },
    {
      "cell_type": "code",
      "source": [
        "print(year_gdp_2)"
      ],
      "metadata": {
        "colab": {
          "base_uri": "https://localhost:8080/"
        },
        "id": "x4-VQPMXk2Cx",
        "outputId": "3c8dd178-e062-4c94-ab76-64791e5e9000"
      },
      "execution_count": null,
      "outputs": [
        {
          "output_type": "stream",
          "name": "stdout",
          "text": [
            "{1991: 1.057, 1992: 5.482, 1993: 4.751, 1994: 6.659, 1995: 7.574, 1996: 7.55, 1997: 4.05, 1998: 6.184, 1999: 8.846, 2000: 3.841, 2001: 4.824, 2002: 3.804, 2003: 7.86, 2004: 7.923, 2005: 7.923, 2006: 8.061, 2007: 7.661, 2008: 3.087, 2009: 7.862, 2010: 8.498, 2011: 5.241, 2012: 5.456, 2013: 6.386, 2014: 7.41, 2015: 7.996, 2016: 8.17, 2017: 7.168, 2018: 6.811}\n"
          ]
        }
      ]
    },
    {
      "cell_type": "markdown",
      "metadata": {
        "id": "xao0jZVyQiFo"
      },
      "source": [
        "This time, the year values appear after the GDP values in the newly formed tuple."
      ]
    },
    {
      "cell_type": "markdown",
      "metadata": {
        "id": "AZJWEnkBIavJ"
      },
      "source": [
        "---"
      ]
    },
    {
      "cell_type": "markdown",
      "metadata": {
        "id": "ws9Z6_Z3oM86"
      },
      "source": [
        "#### Activity 8: Performance^^^\n",
        "\n",
        "Tuples are faster than lists. This is evident from the fact that tuples are immutable and have fewer functions as compared to the lists.\n",
        "\n",
        "Let's find out how fast tuples are compared to lists by recording the time taken to create 1 million tuples and 1 million lists having the identical items and identical lengths."
      ]
    },
    {
      "cell_type": "code",
      "metadata": {
        "id": "y043JEExodlj",
        "colab": {
          "base_uri": "https://localhost:8080/"
        },
        "outputId": "769b7fa2-617b-46c5-b705-fe3497383a86"
      },
      "source": [
        "# Student Action: Run the code below.\n",
        "import timeit\n",
        "\n",
        "tuple_time = timeit.timeit(stmt=\"(1, 2, 3, 4, 5, 6, 7, 8, 9, 10)\", number=1000000)\n",
        "list_time = timeit.timeit(stmt=\"[i for i in range(1, 11)]\", number=1000000)\n",
        "\n",
        "print(\"Time taken to create 1 million tuples is\", round(tuple_time, 4), \"seconds.\",\n",
        "      \"\\nTime taken to create 1 million lists is\", round(list_time, 4), \"seconds.\")"
      ],
      "execution_count": null,
      "outputs": [
        {
          "output_type": "stream",
          "name": "stdout",
          "text": [
            "Time taken to create 1 million tuples is 0.0204 seconds. \n",
            "Time taken to create 1 million lists is 0.8188 seconds.\n"
          ]
        }
      ]
    },
    {
      "cell_type": "markdown",
      "metadata": {
        "id": "LTyV8hbTs0Wl"
      },
      "source": [
        "That's it. We have covered everything we need regarding tuples. In the next class, we will learn string operations."
      ]
    },
    {
      "cell_type": "markdown",
      "metadata": {
        "id": "M3PJwH4hzQOD"
      },
      "source": [
        "---"
      ]
    }
  ]
}